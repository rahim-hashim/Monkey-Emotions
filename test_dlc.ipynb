{
 "cells": [
  {
   "cell_type": "markdown",
   "metadata": {},
   "source": [
    "# DeepLabCut"
   ]
  },
  {
   "cell_type": "code",
   "execution_count": 8,
   "metadata": {},
   "outputs": [
    {
     "name": "stdout",
     "output_type": "stream",
     "text": [
      "The autoreload extension is already loaded. To reload it, use:\n",
      "  %reload_ext autoreload\n",
      "Raw Data Path Exists: /Users/rahimhashim/Google Drive/My Drive/Columbia/Salzman/Monkey-Training/data/raw/data_Probabilistic_Reward_Airpuff_Choice\n",
      "  Number of Total Files  : 127\n",
      "  Monkey: Aragorn\n",
      "    Number of Aragorn Files : 63\n",
      "    Earliest Date    : 230523\n",
      "    Most Recent Date : 231003\n",
      "  Monkey: Bear\n",
      "    Number of Bear Files : 50\n",
      "    Earliest Date    : 230608\n",
      "    Most Recent Date : 231004\n",
      "Video Path Exists: /Users/rahimhashim/Google Drive/My Drive/Columbia/Salzman/Monkey-Training/tasks/rhAirpuff/8. Probabilistic_Reward_Airpuff_Choice/videos\n",
      "Pulling '.h5' files...\n",
      "  Complete: 119 '.h5' files pulled\n",
      "\n",
      "Files uploaded from processed folder\n",
      "\n",
      "Pickled Files:\n",
      "['230823_Bear_Probabilistic_Reward_Airpuff_5x2_behave.pkl']\n",
      "Creating Session Objects...\n",
      "Lick threshold: 3.77 mV\n",
      "  Min Values (X,Y): (-173.722,-34.825)\n",
      "  Max Values (X,Y): (93.104,130.922)\n",
      "  Reward Mag: 1.0\n",
      "    Reward Drops: 12.0\n",
      "    Reward Frequency: 1.0\n",
      "    Reward Length: 150.0\n",
      "  Reward Mag: 0.5\n",
      "    Reward Drops: 5.0\n",
      "    Reward Frequency: 1.0\n",
      "    Reward Length: 150.0\n",
      "  Reward Mag: 0.0\n",
      "    Reward Drops: 0.0\n",
      "    Reward Frequency: 0.0\n",
      "    Reward Length: 0.0\n",
      "  Airpuff Mag: 1.0\n",
      "    Airpuff Magnitude: 1.0\n",
      "    Airpuff Frequency: 1.0\n",
      "  Airpuff Mag: 0.5\n",
      "    Airpuff Magnitude: 0.5\n",
      "    Airpuff Frequency: 1.0\n",
      "  Airpuff Mag: 0.0\n",
      "    Airpuff Magnitude: 0.0\n",
      "    Airpuff Frequency: 0.0\n",
      "Looking for images from: /Users/rahimhashim/Google Drive/My Drive/Columbia/Salzman/Monkey-Training/data/_fractals/20230823\n",
      " Saving figures to: /Users/rahimhashim/Google Drive/My Drive/Columbia/Salzman/Monkey-Training/docs/Tracker/Emotion/figures/20230823_Bear\n",
      "  _fractals.png saved.\n",
      "Save folder for combined dates: /Users/rahimhashim/Google Drive/My Drive/Columbia/Salzman/Monkey-Training/docs/Tracker/Emotion/figures/20230823_Bear\n",
      "  Index(['date', 'session_num', 'subject', 'trial_num', 'block', 'condition',\n",
      "         'correct', 'error', 'error_type', 'behavioral_code_markers',\n",
      "         'behavioral_code_times', 'stimuli_name_1', 'x_1_pos', 'y_1_pos',\n",
      "         'stimuli_name_2', 'x_2_pos', 'y_2_pos', 'reward_1', 'reward_prob_1',\n",
      "         'reward_mag_1', 'reward_drops_1', 'reward_length_1', 'reward_2',\n",
      "         'reward_prob_2', 'reward_mag_2', 'airpuff_1', 'airpuff_prob_1',\n",
      "         'airpuff_mag_1', 'airpuff_2', 'airpuff_prob_2', 'airpuff_mag_2',\n",
      "         'eye_x', 'eye_y', 'eye_pupil', 'lick', 'cam_sync', 'cam_save',\n",
      "         'photodiode', 'trial_start', 'trial_end', 'trial_datetime_start',\n",
      "         'trial_datetime_end', 'reinforcement_trial', 'choice_trial',\n",
      "         'stim_chosen', 'stim_2_chosen', 'fractal_chosen', 'reward',\n",
      "         'reward_mag', 'airpuff', 'airpuff_mag', 'cam1_trial_name',\n",
      "         'cam2_trial_name', 'cam1_trial_time', 'cam2_trial_time', 'cam1_video',\n",
      "         'cam2_video', 'Start Trial', 'Fixation On', 'Fixation Success', 'CS On',\n",
      "         'Fixation Off', 'Trace Start', 'Trace End', 'Outcome Start',\n",
      "         'Reward Trigger', 'Airpuff Trigger', 'Outcome', 'Outcome End',\n",
      "         'Manual Reward', 'End Trial', 'valence', 'valence_1', 'valence_2',\n",
      "         'valence_not_chosen', 'lick_raster', 'DEM_raster', 'trial_bins',\n",
      "         'trial_in_block', 'fractal_count_in_block', 'lick_count_window',\n",
      "         'blink_count_window', 'pupil_data_window', 'pupil_raster',\n",
      "         'pupil_raster_window', 'pupil_raster_window_avg', 'pupil_binary_zero',\n",
      "         'blink_onset', 'blink_offset', 'blink_raster', 'blink_raster_window',\n",
      "         'blink_duration_window', 'pupil_pre_CS', 'lick_in_window',\n",
      "         'blink_in_window', 'lick_duration', 'blink_duration_sig',\n",
      "         'blink_duration_offscreen', 'eye_distance', 'cam_frames'],\n",
      "        dtype='object')\n",
      "Checking for video files...\n",
      "  Video directory: /Users/rahimhashim/Desktop/Monkey-Emotions/video/Bear_230823\n"
     ]
    },
    {
     "data": {
      "application/vnd.jupyter.widget-view+json": {
       "model_id": "cb971b22240b45ddaae62c1e47681357",
       "version_major": 2,
       "version_minor": 0
      },
      "text/plain": [
       "  0%|          | 0/1210 [00:00<?, ?it/s]"
      ]
     },
     "metadata": {},
     "output_type": "display_data"
    },
    {
     "name": "stdout",
     "output_type": "stream",
     "text": [
      "  Camera: e3v8360 | Number of videos: 407\n",
      "  Camera: e3v83ad | Number of videos: 401\n",
      "  Camera: e3v83d6 | Number of videos: 402\n",
      "Checking frame size...\n",
      "   Pixel width x height: 640x480\n",
      "No need to downsample videos\n",
      "Created \"/Users/rahimhashim/Desktop/Monkey-Emotions/230823_Bear_face_1-rahim-2023-10-05/videos\"\n",
      "Created \"/Users/rahimhashim/Desktop/Monkey-Emotions/230823_Bear_face_1-rahim-2023-10-05/labeled-data\"\n",
      "Created \"/Users/rahimhashim/Desktop/Monkey-Emotions/230823_Bear_face_1-rahim-2023-10-05/training-datasets\"\n",
      "Created \"/Users/rahimhashim/Desktop/Monkey-Emotions/230823_Bear_face_1-rahim-2023-10-05/dlc-models\"\n",
      "Attempting to create a symbolic link of the video ...\n",
      "Created the symlink of /Users/rahimhashim/Desktop/Monkey-Emotions/video/Bear_230823/Bear_230823_802_e3v8360.mp4 to /Users/rahimhashim/Desktop/Monkey-Emotions/230823_Bear_face_1-rahim-2023-10-05/videos/Bear_230823_802_e3v8360.mp4\n",
      "/Users/rahimhashim/Desktop/Monkey-Emotions/230823_Bear_face_1-rahim-2023-10-05/videos/Bear_230823_802_e3v8360.mp4\n",
      "Generated \"/Users/rahimhashim/Desktop/Monkey-Emotions/230823_Bear_face_1-rahim-2023-10-05/config.yaml\"\n",
      "\n",
      "A new project with name 230823_Bear_face_1-rahim-2023-10-05 is created at /Users/rahimhashim/Desktop/Monkey-Emotions and a configurable file (config.yaml) is stored there. Change the parameters in this file to adapt to your project's needs.\n",
      " Once you have changed the configuration file, use the function 'extract_frames' to select frames for labeling.\n",
      ". [OPTIONAL] Use the function 'add_new_videos' to add new videos to your project (at any stage).\n",
      "Downloading weights...\n",
      "Loading.... primate_face\n"
     ]
    },
    {
     "data": {
      "application/vnd.jupyter.widget-view+json": {
       "model_id": "9712ae5439584b4686329154ecfedac8",
       "version_major": 2,
       "version_minor": 0
      },
      "text/plain": [
       "Downloading (…)n-1_shuffle-1.tar.gz:   0%|          | 0.00/198M [00:00<?, ?B/s]"
      ]
     },
     "metadata": {},
     "output_type": "display_data"
    },
    {
     "name": "stdout",
     "output_type": "stream",
     "text": [
      "/Users/rahimhashim/Desktop/Monkey-Emotions/230823_Bear_face_1-rahim-2023-10-05/dlc-models/iteration-0/230823_Bear_face_1Oct5-trainset95shuffle1/train/pose_cfg.yaml\n",
      "Analyzing video...\n",
      "Using snapshot-1030000 for model /Users/rahimhashim/Desktop/Monkey-Emotions/230823_Bear_face_1-rahim-2023-10-05/dlc-models/iteration-0/230823_Bear_face_1Oct5-trainset95shuffle1\n",
      "Analyzing all the videos in the directory...\n",
      "Starting to analyze %  /Users/rahimhashim/Desktop/Monkey-Emotions/230823_Bear_face_1-rahim-2023-10-05/videos/Bear_230823_802_e3v8360.mp4\n",
      "Loading  /Users/rahimhashim/Desktop/Monkey-Emotions/230823_Bear_face_1-rahim-2023-10-05/videos/Bear_230823_802_e3v8360.mp4\n",
      "Duration of video [s]:  1.48 , recorded with  120.0 fps!\n",
      "Overall # of frames:  177  found with (before cropping) frame dimensions:  640 480\n",
      "Starting to extract posture\n"
     ]
    },
    {
     "name": "stderr",
     "output_type": "stream",
     "text": [
      "100%|██████████| 177/177 [00:15<00:00, 11.54it/s]\n"
     ]
    },
    {
     "name": "stdout",
     "output_type": "stream",
     "text": [
      "Saving results in /Users/rahimhashim/Desktop/Monkey-Emotions/230823_Bear_face_1-rahim-2023-10-05/videos...\n",
      "Saving csv poses!\n",
      "The videos are analyzed. Now your research can truly start! \n",
      " You can create labeled videos with 'create_labeled_video'\n",
      "If the tracking is not satisfactory for some videos, consider expanding the training set. You can use the function 'extract_outlier_frames' to extract a few representative outlier frames.\n",
      "Analyzing all the videos in the directory...\n",
      "Filtering with median model /Users/rahimhashim/Desktop/Monkey-Emotions/230823_Bear_face_1-rahim-2023-10-05/videos/Bear_230823_802_e3v8360.mp4\n",
      "Saving filtered csv poses!\n",
      "Plotting results...\n",
      "Analyzing all the videos in the directory...\n",
      "Starting to process video: /Users/rahimhashim/Desktop/Monkey-Emotions/230823_Bear_face_1-rahim-2023-10-05/videos/Bear_230823_802_e3v8360.mp4\n",
      "Loading /Users/rahimhashim/Desktop/Monkey-Emotions/230823_Bear_face_1-rahim-2023-10-05/videos/Bear_230823_802_e3v8360.mp4 and data.\n",
      "Duration of video [s]: 1.48, recorded with 120 fps!\n",
      "Overall # of frames: 177 with cropped frame dimensions: 640 480\n",
      "Generating frames and creating video.\n"
     ]
    },
    {
     "name": "stderr",
     "output_type": "stream",
     "text": [
      "100%|██████████| 177/177 [00:00<00:00, 374.79it/s]\n"
     ]
    },
    {
     "name": "stdout",
     "output_type": "stream",
     "text": [
      "Analyzing all the videos in the directory...\n",
      "Loading  /Users/rahimhashim/Desktop/Monkey-Emotions/230823_Bear_face_1-rahim-2023-10-05/videos/Bear_230823_802_e3v8360.mp4 and data.\n",
      "Plots created! Please check the directory \"plot-poses\" within the video directory\n",
      "  Editing config file.\n",
      "Checking frame size...\n",
      "   Pixel width x height: 640x480\n",
      "No need to downsample videos\n",
      "Created \"/Users/rahimhashim/Desktop/Monkey-Emotions/230823_Bear_body_1-rahim-2023-10-05/videos\"\n",
      "Created \"/Users/rahimhashim/Desktop/Monkey-Emotions/230823_Bear_body_1-rahim-2023-10-05/labeled-data\"\n",
      "Created \"/Users/rahimhashim/Desktop/Monkey-Emotions/230823_Bear_body_1-rahim-2023-10-05/training-datasets\"\n",
      "Created \"/Users/rahimhashim/Desktop/Monkey-Emotions/230823_Bear_body_1-rahim-2023-10-05/dlc-models\"\n",
      "Attempting to create a symbolic link of the video ...\n",
      "Created the symlink of /Users/rahimhashim/Desktop/Monkey-Emotions/video/Bear_230823/Bear_230823_168_e3v83ad.mp4 to /Users/rahimhashim/Desktop/Monkey-Emotions/230823_Bear_body_1-rahim-2023-10-05/videos/Bear_230823_168_e3v83ad.mp4\n",
      "/Users/rahimhashim/Desktop/Monkey-Emotions/230823_Bear_body_1-rahim-2023-10-05/videos/Bear_230823_168_e3v83ad.mp4\n",
      "Generated \"/Users/rahimhashim/Desktop/Monkey-Emotions/230823_Bear_body_1-rahim-2023-10-05/config.yaml\"\n",
      "\n",
      "A new project with name 230823_Bear_body_1-rahim-2023-10-05 is created at /Users/rahimhashim/Desktop/Monkey-Emotions and a configurable file (config.yaml) is stored there. Change the parameters in this file to adapt to your project's needs.\n",
      " Once you have changed the configuration file, use the function 'extract_frames' to select frames for labeling.\n",
      ". [OPTIONAL] Use the function 'add_new_videos' to add new videos to your project (at any stage).\n",
      "Downloading weights...\n",
      "Loading.... full_macaque\n"
     ]
    },
    {
     "data": {
      "application/vnd.jupyter.widget-view+json": {
       "model_id": "db818c96dd5244d2aa93789f43cadb10",
       "version_major": 2,
       "version_minor": 0
      },
      "text/plain": [
       "Downloading (…)full_resnet50.tar.gz:   0%|          | 0.00/182M [00:00<?, ?B/s]"
      ]
     },
     "metadata": {},
     "output_type": "display_data"
    },
    {
     "name": "stdout",
     "output_type": "stream",
     "text": [
      "/Users/rahimhashim/Desktop/Monkey-Emotions/230823_Bear_body_1-rahim-2023-10-05/dlc-models/iteration-0/230823_Bear_body_1Oct5-trainset95shuffle1/train/pose_cfg.yaml\n",
      "Analyzing video...\n",
      "Using snapshot-1030000 for model /Users/rahimhashim/Desktop/Monkey-Emotions/230823_Bear_body_1-rahim-2023-10-05/dlc-models/iteration-0/230823_Bear_body_1Oct5-trainset95shuffle1\n",
      "Analyzing all the videos in the directory...\n",
      "Starting to analyze %  /Users/rahimhashim/Desktop/Monkey-Emotions/230823_Bear_body_1-rahim-2023-10-05/videos/Bear_230823_168_e3v83ad.mp4\n",
      "Loading  /Users/rahimhashim/Desktop/Monkey-Emotions/230823_Bear_body_1-rahim-2023-10-05/videos/Bear_230823_168_e3v83ad.mp4\n",
      "Duration of video [s]:  1.48 , recorded with  120.0 fps!\n",
      "Overall # of frames:  178  found with (before cropping) frame dimensions:  640 480\n",
      "Starting to extract posture\n"
     ]
    },
    {
     "name": "stderr",
     "output_type": "stream",
     "text": [
      "100%|██████████| 178/178 [00:13<00:00, 12.81it/s]\n"
     ]
    },
    {
     "name": "stdout",
     "output_type": "stream",
     "text": [
      "Saving results in /Users/rahimhashim/Desktop/Monkey-Emotions/230823_Bear_body_1-rahim-2023-10-05/videos...\n",
      "Saving csv poses!\n",
      "The videos are analyzed. Now your research can truly start! \n",
      " You can create labeled videos with 'create_labeled_video'\n",
      "If the tracking is not satisfactory for some videos, consider expanding the training set. You can use the function 'extract_outlier_frames' to extract a few representative outlier frames.\n",
      "Analyzing all the videos in the directory...\n",
      "Filtering with median model /Users/rahimhashim/Desktop/Monkey-Emotions/230823_Bear_body_1-rahim-2023-10-05/videos/Bear_230823_168_e3v83ad.mp4\n",
      "Saving filtered csv poses!\n",
      "Plotting results...\n",
      "Analyzing all the videos in the directory...\n",
      "Starting to process video: /Users/rahimhashim/Desktop/Monkey-Emotions/230823_Bear_body_1-rahim-2023-10-05/videos/Bear_230823_168_e3v83ad.mp4\n",
      "Loading /Users/rahimhashim/Desktop/Monkey-Emotions/230823_Bear_body_1-rahim-2023-10-05/videos/Bear_230823_168_e3v83ad.mp4 and data.\n",
      "Duration of video [s]: 1.48, recorded with 120 fps!\n",
      "Overall # of frames: 178 with cropped frame dimensions: 640 480\n",
      "Generating frames and creating video.\n"
     ]
    },
    {
     "name": "stderr",
     "output_type": "stream",
     "text": [
      "100%|██████████| 178/178 [00:00<00:00, 492.60it/s]\n"
     ]
    },
    {
     "name": "stdout",
     "output_type": "stream",
     "text": [
      "Analyzing all the videos in the directory...\n",
      "Loading  /Users/rahimhashim/Desktop/Monkey-Emotions/230823_Bear_body_1-rahim-2023-10-05/videos/Bear_230823_168_e3v83ad.mp4 and data.\n",
      "Plots created! Please check the directory \"plot-poses\" within the video directory\n",
      "Checking frame size...\n",
      "   Pixel width x height: 640x480\n",
      "No need to downsample videos\n",
      "Created \"/Users/rahimhashim/Desktop/Monkey-Emotions/230823_Bear_face_2-rahim-2023-10-05/videos\"\n",
      "Created \"/Users/rahimhashim/Desktop/Monkey-Emotions/230823_Bear_face_2-rahim-2023-10-05/labeled-data\"\n",
      "Created \"/Users/rahimhashim/Desktop/Monkey-Emotions/230823_Bear_face_2-rahim-2023-10-05/training-datasets\"\n",
      "Created \"/Users/rahimhashim/Desktop/Monkey-Emotions/230823_Bear_face_2-rahim-2023-10-05/dlc-models\"\n",
      "Attempting to create a symbolic link of the video ...\n",
      "Created the symlink of /Users/rahimhashim/Desktop/Monkey-Emotions/video/Bear_230823/Bear_230823_165_e3v83d6.mp4 to /Users/rahimhashim/Desktop/Monkey-Emotions/230823_Bear_face_2-rahim-2023-10-05/videos/Bear_230823_165_e3v83d6.mp4\n",
      "/Users/rahimhashim/Desktop/Monkey-Emotions/230823_Bear_face_2-rahim-2023-10-05/videos/Bear_230823_165_e3v83d6.mp4\n",
      "Generated \"/Users/rahimhashim/Desktop/Monkey-Emotions/230823_Bear_face_2-rahim-2023-10-05/config.yaml\"\n",
      "\n",
      "A new project with name 230823_Bear_face_2-rahim-2023-10-05 is created at /Users/rahimhashim/Desktop/Monkey-Emotions and a configurable file (config.yaml) is stored there. Change the parameters in this file to adapt to your project's needs.\n",
      " Once you have changed the configuration file, use the function 'extract_frames' to select frames for labeling.\n",
      ". [OPTIONAL] Use the function 'add_new_videos' to add new videos to your project (at any stage).\n",
      "Downloading weights...\n",
      "Loading.... primate_face\n"
     ]
    },
    {
     "data": {
      "application/vnd.jupyter.widget-view+json": {
       "model_id": "fe6df208574347988859fdddfdbf7abf",
       "version_major": 2,
       "version_minor": 0
      },
      "text/plain": [
       "Downloading (…)n-1_shuffle-1.tar.gz:   0%|          | 0.00/198M [00:00<?, ?B/s]"
      ]
     },
     "metadata": {},
     "output_type": "display_data"
    },
    {
     "name": "stdout",
     "output_type": "stream",
     "text": [
      "/Users/rahimhashim/Desktop/Monkey-Emotions/230823_Bear_face_2-rahim-2023-10-05/dlc-models/iteration-0/230823_Bear_face_2Oct5-trainset95shuffle1/train/pose_cfg.yaml\n",
      "Analyzing video...\n",
      "Using snapshot-1030000 for model /Users/rahimhashim/Desktop/Monkey-Emotions/230823_Bear_face_2-rahim-2023-10-05/dlc-models/iteration-0/230823_Bear_face_2Oct5-trainset95shuffle1\n",
      "Analyzing all the videos in the directory...\n",
      "Starting to analyze %  /Users/rahimhashim/Desktop/Monkey-Emotions/230823_Bear_face_2-rahim-2023-10-05/videos/Bear_230823_165_e3v83d6.mp4\n",
      "Loading  /Users/rahimhashim/Desktop/Monkey-Emotions/230823_Bear_face_2-rahim-2023-10-05/videos/Bear_230823_165_e3v83d6.mp4\n",
      "Duration of video [s]:  1.48 , recorded with  120.0 fps!\n",
      "Overall # of frames:  178  found with (before cropping) frame dimensions:  640 480\n",
      "Starting to extract posture\n"
     ]
    },
    {
     "name": "stderr",
     "output_type": "stream",
     "text": [
      "100%|██████████| 178/178 [00:17<00:00, 10.33it/s]\n"
     ]
    },
    {
     "name": "stdout",
     "output_type": "stream",
     "text": [
      "Saving results in /Users/rahimhashim/Desktop/Monkey-Emotions/230823_Bear_face_2-rahim-2023-10-05/videos...\n",
      "Saving csv poses!\n",
      "The videos are analyzed. Now your research can truly start! \n",
      " You can create labeled videos with 'create_labeled_video'\n",
      "If the tracking is not satisfactory for some videos, consider expanding the training set. You can use the function 'extract_outlier_frames' to extract a few representative outlier frames.\n",
      "Analyzing all the videos in the directory...\n",
      "Filtering with median model /Users/rahimhashim/Desktop/Monkey-Emotions/230823_Bear_face_2-rahim-2023-10-05/videos/Bear_230823_165_e3v83d6.mp4\n",
      "Saving filtered csv poses!\n",
      "Plotting results...\n",
      "Analyzing all the videos in the directory...\n",
      "Starting to process video: /Users/rahimhashim/Desktop/Monkey-Emotions/230823_Bear_face_2-rahim-2023-10-05/videos/Bear_230823_165_e3v83d6.mp4\n",
      "Loading /Users/rahimhashim/Desktop/Monkey-Emotions/230823_Bear_face_2-rahim-2023-10-05/videos/Bear_230823_165_e3v83d6.mp4 and data.\n",
      "Duration of video [s]: 1.48, recorded with 120 fps!\n",
      "Overall # of frames: 178 with cropped frame dimensions: 640 480\n",
      "Generating frames and creating video.\n"
     ]
    },
    {
     "name": "stderr",
     "output_type": "stream",
     "text": [
      "100%|██████████| 178/178 [00:00<00:00, 397.26it/s]\n"
     ]
    },
    {
     "name": "stdout",
     "output_type": "stream",
     "text": [
      "Analyzing all the videos in the directory...\n",
      "Loading  /Users/rahimhashim/Desktop/Monkey-Emotions/230823_Bear_face_2-rahim-2023-10-05/videos/Bear_230823_165_e3v83d6.mp4 and data.\n",
      "Plots created! Please check the directory \"plot-poses\" within the video directory\n",
      "  Editing config file.\n"
     ]
    }
   ],
   "source": [
    "%load_ext autoreload\n",
    "%autoreload 2\n",
    "import os\n",
    "import pickle\n",
    "import pandas as pd\n",
    "import numpy as np\n",
    "from tqdm import tqdm\n",
    "import warnings\n",
    "warnings.filterwarnings(\"ignore\", category=DeprecationWarning) \n",
    "warnings.filterwarnings(\"ignore\", category=UserWarning) \n",
    "warnings.filterwarnings(\"ignore\", category=Warning)\n",
    "import deeplabcut\n",
    "# Custom classes\n",
    "from classes.Session_Path import SessionPath\n",
    "from classes.Session import Session\n",
    "# Custom modules\n",
    "from config import preprocess_helper\n",
    "from dlc_primate.dlc_utils import dlc_config, dlc_downsample\n",
    "# pandas options\n",
    "pd.options.mode.chained_assignment = None  # default='warn'\n",
    "pd.set_option('display.max_columns', None)\n",
    "\n",
    "# See tree branch above to set <ROOT>, <EXPERIMENT>\n",
    "ROOT = '/Users/rahimhashim/Google Drive/My Drive/Columbia/Salzman/Monkey-Training/'\n",
    "EXPERIMENT = 'rhAirpuff'\n",
    "TASK = 'Probabilistic_Reward_Airpuff_Choice' # Probabalistic_Airpuff_4x2 | Probabilistic_Reward_Airpuff_5x2 | Probabilistic_Reward_Airpuff_Choice\n",
    "\n",
    "# Initialize session path object\n",
    "path_obj = SessionPath(ROOT, EXPERIMENT, TASK)\n",
    "\n",
    "# Specifying date/monkey/task\n",
    "start_date = '2023-08-23' #@param {type:\"date\"}\n",
    "end_date = '2023-08-23' #@param {type:\"date\"}\n",
    "monkey_input = 'Bear' #@param ['Aragorn', 'Gandalf', 'Rob', 'Test']\n",
    "reprocess_data = False #@param {type:\"boolean\"}\n",
    "save_df =  True #@param {type:\"boolean\"}\n",
    "combine_dates =  True #@param {type:\"boolean\"}\n",
    "\n",
    "# Parse data\n",
    "session_df, session_obj, error_dict, behavioral_code_dict\\\n",
    "\t= preprocess_helper.preprocess_data(path_obj,\n",
    "\t\t\t\t\t\t\t\t\t\t\t\t\t\t\t\t\t\t\tstart_date,\n",
    "\t\t\t\t\t\t\t\t\t\t\t\t\t\t\t\t\t\t\tend_date,\n",
    "\t\t\t\t\t\t\t\t\t\t\t\t\t\t\t\t\t\t\tmonkey_input,\n",
    "\t\t\t\t\t\t\t\t\t\t\t\t\t\t\t\t\t\t\tTASK,\n",
    "\t\t\t\t\t\t\t\t\t\t\t\t\t\t\t\t\t\t\treprocess_data,\n",
    "\t\t\t\t\t\t\t\t\t\t\t\t\t\t\t\t\t\t\tsave_df,\n",
    "\t\t\t\t\t\t\t\t\t\t\t\t\t\t\t\t\t\t\tcombine_dates)"
   ]
  },
  {
   "cell_type": "code",
   "execution_count": null,
   "metadata": {},
   "outputs": [],
   "source": [
    "# Manual assignment of WhiteMatter camera names\n",
    "camera_dict = {\n",
    "  'e3v8360':'face_1', \n",
    "  'e3v83d6':'face_2',\n",
    "  'e3v83ad':'body_1',\n",
    "  'e3v831b':'body_2'\n",
    "}\n",
    "\n",
    "\n",
    "# Get list of videos\n",
    "video_dir = os.path.join(os.getcwd(), 'video', session_obj.monkey + '_' + session_obj.date)\n",
    "dlc_video_path_dict = dlc_config.get_trial_video_list(video_dir, camera_dict)\n"
   ]
  },
  {
   "cell_type": "code",
   "execution_count": null,
   "metadata": {},
   "outputs": [],
   "source": [
    "# Initialize project\n",
    "config_path_dict, train_config_path_dict = \\\n",
    "  dlc_config.dlc_initialize_project(dlc_video_path_dict, session_obj, camera_dict)"
   ]
  },
  {
   "cell_type": "code",
   "execution_count": 25,
   "metadata": {},
   "outputs": [
    {
     "name": "stdout",
     "output_type": "stream",
     "text": [
      "Attempting to create a symbolic link of the video ...\n",
      "Created the symlink of /Users/rahimhashim/Desktop/Monkey-Emotions/video/Bear_230823/Bear_230823_0_e3v8360DLC_resnet50_Bear_230823Oct4shuffle1_1030000_filtered_labeled.mp4 to /Users/rahimhashim/Desktop/Monkey-Emotions/230823_Bear_face_1-rahim-2023-10-05/videos/Bear_230823_0_e3v8360DLC_resnet50_Bear_230823Oct4shuffle1_1030000_filtered_labeled.mp4\n",
      "Created the symlink of /Users/rahimhashim/Desktop/Monkey-Emotions/video/Bear_230823/Bear_230823_0_e3v8360.mp4 to /Users/rahimhashim/Desktop/Monkey-Emotions/230823_Bear_face_1-rahim-2023-10-05/videos/Bear_230823_0_e3v8360.mp4\n",
      "Created the symlink of /Users/rahimhashim/Desktop/Monkey-Emotions/video/Bear_230823/Bear_230823_1_e3v8360DLC_resnet50_Bear_230823Oct4shuffle1_1030000_filtered_labeled.mp4 to /Users/rahimhashim/Desktop/Monkey-Emotions/230823_Bear_face_1-rahim-2023-10-05/videos/Bear_230823_1_e3v8360DLC_resnet50_Bear_230823Oct4shuffle1_1030000_filtered_labeled.mp4\n",
      "Created the symlink of /Users/rahimhashim/Desktop/Monkey-Emotions/video/Bear_230823/Bear_230823_1_e3v8360.mp4 to /Users/rahimhashim/Desktop/Monkey-Emotions/230823_Bear_face_1-rahim-2023-10-05/videos/Bear_230823_1_e3v8360.mp4\n",
      "Created the symlink of /Users/rahimhashim/Desktop/Monkey-Emotions/video/Bear_230823/Bear_230823_2_e3v8360.mp4 to /Users/rahimhashim/Desktop/Monkey-Emotions/230823_Bear_face_1-rahim-2023-10-05/videos/Bear_230823_2_e3v8360.mp4\n",
      "Created the symlink of /Users/rahimhashim/Desktop/Monkey-Emotions/video/Bear_230823/Bear_230823_2_e3v8360DLC_resnet50_Bear_230823Oct4shuffle1_1030000_filtered_labeled.mp4 to /Users/rahimhashim/Desktop/Monkey-Emotions/230823_Bear_face_1-rahim-2023-10-05/videos/Bear_230823_2_e3v8360DLC_resnet50_Bear_230823Oct4shuffle1_1030000_filtered_labeled.mp4\n",
      "Created the symlink of /Users/rahimhashim/Desktop/Monkey-Emotions/video/Bear_230823/Bear_230823_3_e3v8360.mp4 to /Users/rahimhashim/Desktop/Monkey-Emotions/230823_Bear_face_1-rahim-2023-10-05/videos/Bear_230823_3_e3v8360.mp4\n",
      "Created the symlink of /Users/rahimhashim/Desktop/Monkey-Emotions/video/Bear_230823/Bear_230823_4_e3v8360.mp4 to /Users/rahimhashim/Desktop/Monkey-Emotions/230823_Bear_face_1-rahim-2023-10-05/videos/Bear_230823_4_e3v8360.mp4\n",
      "Created the symlink of /Users/rahimhashim/Desktop/Monkey-Emotions/video/Bear_230823/Bear_230823_4_e3v8360DLC_resnet50_Bear_230823Oct4shuffle1_1030000_filtered_labeled.mp4 to /Users/rahimhashim/Desktop/Monkey-Emotions/230823_Bear_face_1-rahim-2023-10-05/videos/Bear_230823_4_e3v8360DLC_resnet50_Bear_230823Oct4shuffle1_1030000_filtered_labeled.mp4\n",
      "Created the symlink of /Users/rahimhashim/Desktop/Monkey-Emotions/video/Bear_230823/Bear_230823_7_e3v8360.mp4 to /Users/rahimhashim/Desktop/Monkey-Emotions/230823_Bear_face_1-rahim-2023-10-05/videos/Bear_230823_7_e3v8360.mp4\n",
      "New videos were added to the project! Use the function 'extract_frames' to select frames for labeling.\n",
      "Using snapshot-1030000 for model /Users/rahimhashim/Desktop/Monkey-Emotions/230823_Bear_face_1-rahim-2023-10-05/dlc-models/iteration-0/230823_Bear_face_1Oct5-trainset95shuffle1\n",
      "Starting to analyze %  /Users/rahimhashim/Desktop/Monkey-Emotions/video/Bear_230823/Bear_230823_0_e3v8360.mp4\n",
      "Loading  /Users/rahimhashim/Desktop/Monkey-Emotions/video/Bear_230823/Bear_230823_0_e3v8360.mp4\n",
      "Duration of video [s]:  1.49 , recorded with  120.0 fps!\n",
      "Overall # of frames:  179  found with (before cropping) frame dimensions:  640 480\n",
      "Starting to extract posture\n"
     ]
    },
    {
     "name": "stderr",
     "output_type": "stream",
     "text": [
      "100%|██████████| 179/179 [00:15<00:00, 11.40it/s]\n"
     ]
    },
    {
     "name": "stdout",
     "output_type": "stream",
     "text": [
      "Saving results in /Users/rahimhashim/Desktop/Monkey-Emotions/video/Bear_230823...\n",
      "Saving csv poses!\n",
      "Starting to analyze %  /Users/rahimhashim/Desktop/Monkey-Emotions/video/Bear_230823/Bear_230823_1_e3v8360.mp4\n",
      "Loading  /Users/rahimhashim/Desktop/Monkey-Emotions/video/Bear_230823/Bear_230823_1_e3v8360.mp4\n",
      "Duration of video [s]:  1.48 , recorded with  120.0 fps!\n",
      "Overall # of frames:  177  found with (before cropping) frame dimensions:  640 480\n",
      "Starting to extract posture\n"
     ]
    },
    {
     "name": "stderr",
     "output_type": "stream",
     "text": [
      "100%|██████████| 177/177 [00:15<00:00, 11.10it/s]\n"
     ]
    },
    {
     "name": "stdout",
     "output_type": "stream",
     "text": [
      "Saving results in /Users/rahimhashim/Desktop/Monkey-Emotions/video/Bear_230823...\n",
      "Saving csv poses!\n",
      "Starting to analyze %  /Users/rahimhashim/Desktop/Monkey-Emotions/video/Bear_230823/Bear_230823_2_e3v8360.mp4\n",
      "Loading  /Users/rahimhashim/Desktop/Monkey-Emotions/video/Bear_230823/Bear_230823_2_e3v8360.mp4\n",
      "Duration of video [s]:  1.49 , recorded with  120.0 fps!\n",
      "Overall # of frames:  179  found with (before cropping) frame dimensions:  640 480\n",
      "Starting to extract posture\n"
     ]
    },
    {
     "name": "stderr",
     "output_type": "stream",
     "text": [
      "100%|██████████| 179/179 [00:15<00:00, 11.24it/s]\n"
     ]
    },
    {
     "name": "stdout",
     "output_type": "stream",
     "text": [
      "Saving results in /Users/rahimhashim/Desktop/Monkey-Emotions/video/Bear_230823...\n",
      "Saving csv poses!\n",
      "Starting to analyze %  /Users/rahimhashim/Desktop/Monkey-Emotions/video/Bear_230823/Bear_230823_3_e3v8360.mp4\n",
      "Loading  /Users/rahimhashim/Desktop/Monkey-Emotions/video/Bear_230823/Bear_230823_3_e3v8360.mp4\n",
      "Duration of video [s]:  1.48 , recorded with  120.0 fps!\n",
      "Overall # of frames:  178  found with (before cropping) frame dimensions:  640 480\n",
      "Starting to extract posture\n"
     ]
    },
    {
     "name": "stderr",
     "output_type": "stream",
     "text": [
      "100%|██████████| 178/178 [00:16<00:00, 10.85it/s]\n"
     ]
    },
    {
     "name": "stdout",
     "output_type": "stream",
     "text": [
      "Saving results in /Users/rahimhashim/Desktop/Monkey-Emotions/video/Bear_230823...\n",
      "Saving csv poses!\n",
      "Starting to analyze %  /Users/rahimhashim/Desktop/Monkey-Emotions/video/Bear_230823/Bear_230823_4_e3v8360.mp4\n",
      "Loading  /Users/rahimhashim/Desktop/Monkey-Emotions/video/Bear_230823/Bear_230823_4_e3v8360.mp4\n",
      "Duration of video [s]:  4.32 , recorded with  120.0 fps!\n",
      "Overall # of frames:  518  found with (before cropping) frame dimensions:  640 480\n",
      "Starting to extract posture\n"
     ]
    },
    {
     "name": "stderr",
     "output_type": "stream",
     "text": [
      "100%|██████████| 518/518 [00:32<00:00, 15.81it/s]\n"
     ]
    },
    {
     "name": "stdout",
     "output_type": "stream",
     "text": [
      "Saving results in /Users/rahimhashim/Desktop/Monkey-Emotions/video/Bear_230823...\n",
      "Saving csv poses!\n",
      "Starting to analyze %  /Users/rahimhashim/Desktop/Monkey-Emotions/video/Bear_230823/Bear_230823_7_e3v8360.mp4\n",
      "Loading  /Users/rahimhashim/Desktop/Monkey-Emotions/video/Bear_230823/Bear_230823_7_e3v8360.mp4\n",
      "Duration of video [s]:  1.5 , recorded with  120.0 fps!\n",
      "Overall # of frames:  180  found with (before cropping) frame dimensions:  640 480\n",
      "Starting to extract posture\n"
     ]
    },
    {
     "name": "stderr",
     "output_type": "stream",
     "text": [
      "100%|██████████| 180/180 [00:16<00:00, 11.16it/s]\n"
     ]
    },
    {
     "name": "stdout",
     "output_type": "stream",
     "text": [
      "Saving results in /Users/rahimhashim/Desktop/Monkey-Emotions/video/Bear_230823...\n",
      "Saving csv poses!\n",
      "The videos are analyzed. Now your research can truly start! \n",
      " You can create labeled videos with 'create_labeled_video'\n",
      "If the tracking is not satisfactory for some videos, consider expanding the training set. You can use the function 'extract_outlier_frames' to extract a few representative outlier frames.\n",
      "Filtering with median model /Users/rahimhashim/Desktop/Monkey-Emotions/video/Bear_230823/Bear_230823_0_e3v8360.mp4\n",
      "Saving filtered csv poses!\n",
      "Filtering with median model /Users/rahimhashim/Desktop/Monkey-Emotions/video/Bear_230823/Bear_230823_1_e3v8360.mp4\n",
      "Saving filtered csv poses!\n",
      "Filtering with median model /Users/rahimhashim/Desktop/Monkey-Emotions/video/Bear_230823/Bear_230823_2_e3v8360.mp4\n",
      "Saving filtered csv poses!\n",
      "Filtering with median model /Users/rahimhashim/Desktop/Monkey-Emotions/video/Bear_230823/Bear_230823_3_e3v8360.mp4\n",
      "Saving filtered csv poses!\n",
      "Filtering with median model /Users/rahimhashim/Desktop/Monkey-Emotions/video/Bear_230823/Bear_230823_4_e3v8360.mp4\n",
      "Saving filtered csv poses!\n",
      "Filtering with median model /Users/rahimhashim/Desktop/Monkey-Emotions/video/Bear_230823/Bear_230823_7_e3v8360.mp4\n",
      "Saving filtered csv poses!\n",
      "Starting to process video: /Users/rahimhashim/Desktop/Monkey-Emotions/video/Bear_230823/Bear_230823_0_e3v8360.mp4\n",
      "Loading /Users/rahimhashim/Desktop/Monkey-Emotions/video/Bear_230823/Bear_230823_0_e3v8360.mp4 and data.\n",
      "Duration of video [s]: 1.49, recorded with 120 fps!\n",
      "Overall # of frames: 179 with cropped frame dimensions: 640 480\n",
      "Generating frames and creating video.\n"
     ]
    },
    {
     "name": "stderr",
     "output_type": "stream",
     "text": [
      "100%|██████████| 179/179 [00:01<00:00, 125.59it/s]\n"
     ]
    },
    {
     "name": "stdout",
     "output_type": "stream",
     "text": [
      "Starting to process video: /Users/rahimhashim/Desktop/Monkey-Emotions/video/Bear_230823/Bear_230823_1_e3v8360.mp4\n",
      "Loading /Users/rahimhashim/Desktop/Monkey-Emotions/video/Bear_230823/Bear_230823_1_e3v8360.mp4 and data.\n",
      "Duration of video [s]: 1.48, recorded with 120 fps!\n",
      "Overall # of frames: 177 with cropped frame dimensions: 640 480\n",
      "Generating frames and creating video.\n"
     ]
    },
    {
     "name": "stderr",
     "output_type": "stream",
     "text": [
      "100%|██████████| 177/177 [00:01<00:00, 123.36it/s]\n"
     ]
    },
    {
     "name": "stdout",
     "output_type": "stream",
     "text": [
      "Starting to process video: /Users/rahimhashim/Desktop/Monkey-Emotions/video/Bear_230823/Bear_230823_2_e3v8360.mp4\n",
      "Loading /Users/rahimhashim/Desktop/Monkey-Emotions/video/Bear_230823/Bear_230823_2_e3v8360.mp4 and data.\n",
      "Duration of video [s]: 1.49, recorded with 120 fps!\n",
      "Overall # of frames: 179 with cropped frame dimensions: 640 480\n",
      "Generating frames and creating video.\n"
     ]
    },
    {
     "name": "stderr",
     "output_type": "stream",
     "text": [
      "100%|██████████| 179/179 [00:01<00:00, 132.16it/s]\n"
     ]
    },
    {
     "name": "stdout",
     "output_type": "stream",
     "text": [
      "Starting to process video: /Users/rahimhashim/Desktop/Monkey-Emotions/video/Bear_230823/Bear_230823_3_e3v8360.mp4\n",
      "Loading /Users/rahimhashim/Desktop/Monkey-Emotions/video/Bear_230823/Bear_230823_3_e3v8360.mp4 and data.\n",
      "Duration of video [s]: 1.48, recorded with 120 fps!\n",
      "Overall # of frames: 178 with cropped frame dimensions: 640 480\n",
      "Generating frames and creating video.\n"
     ]
    },
    {
     "name": "stderr",
     "output_type": "stream",
     "text": [
      "100%|██████████| 178/178 [00:01<00:00, 129.82it/s]\n"
     ]
    },
    {
     "name": "stdout",
     "output_type": "stream",
     "text": [
      "Starting to process video: /Users/rahimhashim/Desktop/Monkey-Emotions/video/Bear_230823/Bear_230823_4_e3v8360.mp4\n",
      "Loading /Users/rahimhashim/Desktop/Monkey-Emotions/video/Bear_230823/Bear_230823_4_e3v8360.mp4 and data.\n",
      "Duration of video [s]: 4.32, recorded with 120 fps!\n",
      "Overall # of frames: 518 with cropped frame dimensions: 640 480\n",
      "Generating frames and creating video.\n"
     ]
    },
    {
     "name": "stderr",
     "output_type": "stream",
     "text": [
      "100%|██████████| 518/518 [00:03<00:00, 141.63it/s]\n"
     ]
    },
    {
     "name": "stdout",
     "output_type": "stream",
     "text": [
      "Starting to process video: /Users/rahimhashim/Desktop/Monkey-Emotions/video/Bear_230823/Bear_230823_7_e3v8360.mp4\n",
      "Loading /Users/rahimhashim/Desktop/Monkey-Emotions/video/Bear_230823/Bear_230823_7_e3v8360.mp4 and data.\n",
      "Duration of video [s]: 1.5, recorded with 120 fps!\n",
      "Overall # of frames: 180 with cropped frame dimensions: 640 480\n",
      "Generating frames and creating video.\n"
     ]
    },
    {
     "name": "stderr",
     "output_type": "stream",
     "text": [
      "100%|██████████| 180/180 [00:01<00:00, 125.93it/s]\n"
     ]
    },
    {
     "name": "stdout",
     "output_type": "stream",
     "text": [
      "Loading  /Users/rahimhashim/Desktop/Monkey-Emotions/video/Bear_230823/Bear_230823_0_e3v8360.mp4 and data.\n",
      "Loading  /Users/rahimhashim/Desktop/Monkey-Emotions/video/Bear_230823/Bear_230823_1_e3v8360.mp4 and data.\n",
      "Loading  /Users/rahimhashim/Desktop/Monkey-Emotions/video/Bear_230823/Bear_230823_2_e3v8360.mp4 and data.\n",
      "Loading  /Users/rahimhashim/Desktop/Monkey-Emotions/video/Bear_230823/Bear_230823_3_e3v8360.mp4 and data.\n",
      "Loading  /Users/rahimhashim/Desktop/Monkey-Emotions/video/Bear_230823/Bear_230823_4_e3v8360.mp4 and data.\n",
      "Loading  /Users/rahimhashim/Desktop/Monkey-Emotions/video/Bear_230823/Bear_230823_7_e3v8360.mp4 and data.\n",
      "Plots created! Please check the directory \"plot-poses\" within the video directory\n",
      "Attempting to create a symbolic link of the video ...\n",
      "Created the symlink of /Users/rahimhashim/Desktop/Monkey-Emotions/video/Bear_230823/Bear_230823_0_e3v83ad.mp4 to /Users/rahimhashim/Desktop/Monkey-Emotions/230823_Bear_body_1-rahim-2023-10-05/videos/Bear_230823_0_e3v83ad.mp4\n",
      "Created the symlink of /Users/rahimhashim/Desktop/Monkey-Emotions/video/Bear_230823/Bear_230823_1_e3v83ad.mp4 to /Users/rahimhashim/Desktop/Monkey-Emotions/230823_Bear_body_1-rahim-2023-10-05/videos/Bear_230823_1_e3v83ad.mp4\n",
      "Created the symlink of /Users/rahimhashim/Desktop/Monkey-Emotions/video/Bear_230823/Bear_230823_2_e3v83ad.mp4 to /Users/rahimhashim/Desktop/Monkey-Emotions/230823_Bear_body_1-rahim-2023-10-05/videos/Bear_230823_2_e3v83ad.mp4\n",
      "Created the symlink of /Users/rahimhashim/Desktop/Monkey-Emotions/video/Bear_230823/Bear_230823_3_e3v83ad.mp4 to /Users/rahimhashim/Desktop/Monkey-Emotions/230823_Bear_body_1-rahim-2023-10-05/videos/Bear_230823_3_e3v83ad.mp4\n",
      "Created the symlink of /Users/rahimhashim/Desktop/Monkey-Emotions/video/Bear_230823/Bear_230823_4_e3v83ad.mp4 to /Users/rahimhashim/Desktop/Monkey-Emotions/230823_Bear_body_1-rahim-2023-10-05/videos/Bear_230823_4_e3v83ad.mp4\n",
      "Created the symlink of /Users/rahimhashim/Desktop/Monkey-Emotions/video/Bear_230823/Bear_230823_7_e3v83ad.mp4 to /Users/rahimhashim/Desktop/Monkey-Emotions/230823_Bear_body_1-rahim-2023-10-05/videos/Bear_230823_7_e3v83ad.mp4\n",
      "Created the symlink of /Users/rahimhashim/Desktop/Monkey-Emotions/video/Bear_230823/Bear_230823_8_e3v83ad.mp4 to /Users/rahimhashim/Desktop/Monkey-Emotions/230823_Bear_body_1-rahim-2023-10-05/videos/Bear_230823_8_e3v83ad.mp4\n",
      "Created the symlink of /Users/rahimhashim/Desktop/Monkey-Emotions/video/Bear_230823/Bear_230823_9_e3v83ad.mp4 to /Users/rahimhashim/Desktop/Monkey-Emotions/230823_Bear_body_1-rahim-2023-10-05/videos/Bear_230823_9_e3v83ad.mp4\n",
      "Created the symlink of /Users/rahimhashim/Desktop/Monkey-Emotions/video/Bear_230823/Bear_230823_11_e3v83ad.mp4 to /Users/rahimhashim/Desktop/Monkey-Emotions/230823_Bear_body_1-rahim-2023-10-05/videos/Bear_230823_11_e3v83ad.mp4\n",
      "Created the symlink of /Users/rahimhashim/Desktop/Monkey-Emotions/video/Bear_230823/Bear_230823_12_e3v83ad.mp4 to /Users/rahimhashim/Desktop/Monkey-Emotions/230823_Bear_body_1-rahim-2023-10-05/videos/Bear_230823_12_e3v83ad.mp4\n",
      "New videos were added to the project! Use the function 'extract_frames' to select frames for labeling.\n",
      "Using snapshot-1030000 for model /Users/rahimhashim/Desktop/Monkey-Emotions/230823_Bear_body_1-rahim-2023-10-05/dlc-models/iteration-0/230823_Bear_body_1Oct5-trainset95shuffle1\n",
      "Starting to analyze %  /Users/rahimhashim/Desktop/Monkey-Emotions/video/Bear_230823/Bear_230823_0_e3v83ad.mp4\n",
      "Loading  /Users/rahimhashim/Desktop/Monkey-Emotions/video/Bear_230823/Bear_230823_0_e3v83ad.mp4\n",
      "Duration of video [s]:  1.49 , recorded with  120.0 fps!\n",
      "Overall # of frames:  179  found with (before cropping) frame dimensions:  640 480\n",
      "Starting to extract posture\n"
     ]
    },
    {
     "name": "stderr",
     "output_type": "stream",
     "text": [
      "100%|██████████| 179/179 [00:14<00:00, 12.72it/s]\n"
     ]
    },
    {
     "name": "stdout",
     "output_type": "stream",
     "text": [
      "Saving results in /Users/rahimhashim/Desktop/Monkey-Emotions/video/Bear_230823...\n",
      "Saving csv poses!\n",
      "Starting to analyze %  /Users/rahimhashim/Desktop/Monkey-Emotions/video/Bear_230823/Bear_230823_1_e3v83ad.mp4\n",
      "Loading  /Users/rahimhashim/Desktop/Monkey-Emotions/video/Bear_230823/Bear_230823_1_e3v83ad.mp4\n",
      "Duration of video [s]:  1.48 , recorded with  120.0 fps!\n",
      "Overall # of frames:  177  found with (before cropping) frame dimensions:  640 480\n",
      "Starting to extract posture\n"
     ]
    },
    {
     "name": "stderr",
     "output_type": "stream",
     "text": [
      "100%|██████████| 177/177 [00:14<00:00, 12.61it/s]\n"
     ]
    },
    {
     "name": "stdout",
     "output_type": "stream",
     "text": [
      "Saving results in /Users/rahimhashim/Desktop/Monkey-Emotions/video/Bear_230823...\n",
      "Saving csv poses!\n",
      "Starting to analyze %  /Users/rahimhashim/Desktop/Monkey-Emotions/video/Bear_230823/Bear_230823_2_e3v83ad.mp4\n",
      "Loading  /Users/rahimhashim/Desktop/Monkey-Emotions/video/Bear_230823/Bear_230823_2_e3v83ad.mp4\n",
      "Duration of video [s]:  1.49 , recorded with  120.0 fps!\n",
      "Overall # of frames:  179  found with (before cropping) frame dimensions:  640 480\n",
      "Starting to extract posture\n"
     ]
    },
    {
     "name": "stderr",
     "output_type": "stream",
     "text": [
      "100%|██████████| 179/179 [00:14<00:00, 12.50it/s]\n"
     ]
    },
    {
     "name": "stdout",
     "output_type": "stream",
     "text": [
      "Saving results in /Users/rahimhashim/Desktop/Monkey-Emotions/video/Bear_230823...\n",
      "Saving csv poses!\n",
      "Starting to analyze %  /Users/rahimhashim/Desktop/Monkey-Emotions/video/Bear_230823/Bear_230823_3_e3v83ad.mp4\n",
      "Loading  /Users/rahimhashim/Desktop/Monkey-Emotions/video/Bear_230823/Bear_230823_3_e3v83ad.mp4\n",
      "Duration of video [s]:  1.48 , recorded with  120.0 fps!\n",
      "Overall # of frames:  178  found with (before cropping) frame dimensions:  640 480\n",
      "Starting to extract posture\n"
     ]
    },
    {
     "name": "stderr",
     "output_type": "stream",
     "text": [
      "100%|██████████| 178/178 [00:14<00:00, 12.44it/s]\n"
     ]
    },
    {
     "name": "stdout",
     "output_type": "stream",
     "text": [
      "Saving results in /Users/rahimhashim/Desktop/Monkey-Emotions/video/Bear_230823...\n",
      "Saving csv poses!\n",
      "Starting to analyze %  /Users/rahimhashim/Desktop/Monkey-Emotions/video/Bear_230823/Bear_230823_4_e3v83ad.mp4\n",
      "Loading  /Users/rahimhashim/Desktop/Monkey-Emotions/video/Bear_230823/Bear_230823_4_e3v83ad.mp4\n",
      "Duration of video [s]:  4.32 , recorded with  120.0 fps!\n",
      "Overall # of frames:  518  found with (before cropping) frame dimensions:  640 480\n",
      "Starting to extract posture\n"
     ]
    },
    {
     "name": "stderr",
     "output_type": "stream",
     "text": [
      "100%|██████████| 518/518 [00:29<00:00, 17.32it/s]\n"
     ]
    },
    {
     "name": "stdout",
     "output_type": "stream",
     "text": [
      "Saving results in /Users/rahimhashim/Desktop/Monkey-Emotions/video/Bear_230823...\n",
      "Saving csv poses!\n",
      "Starting to analyze %  /Users/rahimhashim/Desktop/Monkey-Emotions/video/Bear_230823/Bear_230823_7_e3v83ad.mp4\n",
      "Loading  /Users/rahimhashim/Desktop/Monkey-Emotions/video/Bear_230823/Bear_230823_7_e3v83ad.mp4\n",
      "Duration of video [s]:  1.5 , recorded with  120.0 fps!\n",
      "Overall # of frames:  180  found with (before cropping) frame dimensions:  640 480\n",
      "Starting to extract posture\n"
     ]
    },
    {
     "name": "stderr",
     "output_type": "stream",
     "text": [
      "100%|██████████| 180/180 [00:14<00:00, 12.32it/s]\n"
     ]
    },
    {
     "name": "stdout",
     "output_type": "stream",
     "text": [
      "Saving results in /Users/rahimhashim/Desktop/Monkey-Emotions/video/Bear_230823...\n",
      "Saving csv poses!\n",
      "Starting to analyze %  /Users/rahimhashim/Desktop/Monkey-Emotions/video/Bear_230823/Bear_230823_8_e3v83ad.mp4\n",
      "Loading  /Users/rahimhashim/Desktop/Monkey-Emotions/video/Bear_230823/Bear_230823_8_e3v83ad.mp4\n",
      "Duration of video [s]:  1.49 , recorded with  120.0 fps!\n",
      "Overall # of frames:  179  found with (before cropping) frame dimensions:  640 480\n",
      "Starting to extract posture\n"
     ]
    },
    {
     "name": "stderr",
     "output_type": "stream",
     "text": [
      "100%|██████████| 179/179 [00:14<00:00, 12.01it/s]\n"
     ]
    },
    {
     "name": "stdout",
     "output_type": "stream",
     "text": [
      "Saving results in /Users/rahimhashim/Desktop/Monkey-Emotions/video/Bear_230823...\n",
      "Saving csv poses!\n",
      "Starting to analyze %  /Users/rahimhashim/Desktop/Monkey-Emotions/video/Bear_230823/Bear_230823_9_e3v83ad.mp4\n",
      "Loading  /Users/rahimhashim/Desktop/Monkey-Emotions/video/Bear_230823/Bear_230823_9_e3v83ad.mp4\n",
      "Duration of video [s]:  1.49 , recorded with  120.0 fps!\n",
      "Overall # of frames:  179  found with (before cropping) frame dimensions:  640 480\n",
      "Starting to extract posture\n"
     ]
    },
    {
     "name": "stderr",
     "output_type": "stream",
     "text": [
      "100%|██████████| 179/179 [00:15<00:00, 11.84it/s]\n"
     ]
    },
    {
     "name": "stdout",
     "output_type": "stream",
     "text": [
      "Saving results in /Users/rahimhashim/Desktop/Monkey-Emotions/video/Bear_230823...\n",
      "Saving csv poses!\n",
      "Starting to analyze %  /Users/rahimhashim/Desktop/Monkey-Emotions/video/Bear_230823/Bear_230823_11_e3v83ad.mp4\n",
      "Loading  /Users/rahimhashim/Desktop/Monkey-Emotions/video/Bear_230823/Bear_230823_11_e3v83ad.mp4\n",
      "Duration of video [s]:  1.48 , recorded with  120.0 fps!\n",
      "Overall # of frames:  178  found with (before cropping) frame dimensions:  640 480\n",
      "Starting to extract posture\n"
     ]
    },
    {
     "name": "stderr",
     "output_type": "stream",
     "text": [
      "100%|██████████| 178/178 [00:15<00:00, 11.74it/s]\n"
     ]
    },
    {
     "name": "stdout",
     "output_type": "stream",
     "text": [
      "Saving results in /Users/rahimhashim/Desktop/Monkey-Emotions/video/Bear_230823...\n",
      "Saving csv poses!\n",
      "Starting to analyze %  /Users/rahimhashim/Desktop/Monkey-Emotions/video/Bear_230823/Bear_230823_12_e3v83ad.mp4\n",
      "Loading  /Users/rahimhashim/Desktop/Monkey-Emotions/video/Bear_230823/Bear_230823_12_e3v83ad.mp4\n",
      "Duration of video [s]:  1.49 , recorded with  120.0 fps!\n",
      "Overall # of frames:  179  found with (before cropping) frame dimensions:  640 480\n",
      "Starting to extract posture\n"
     ]
    },
    {
     "name": "stderr",
     "output_type": "stream",
     "text": [
      "100%|██████████| 179/179 [00:14<00:00, 12.05it/s]\n"
     ]
    },
    {
     "name": "stdout",
     "output_type": "stream",
     "text": [
      "Saving results in /Users/rahimhashim/Desktop/Monkey-Emotions/video/Bear_230823...\n",
      "Saving csv poses!\n",
      "The videos are analyzed. Now your research can truly start! \n",
      " You can create labeled videos with 'create_labeled_video'\n",
      "If the tracking is not satisfactory for some videos, consider expanding the training set. You can use the function 'extract_outlier_frames' to extract a few representative outlier frames.\n",
      "Filtering with median model /Users/rahimhashim/Desktop/Monkey-Emotions/video/Bear_230823/Bear_230823_0_e3v83ad.mp4\n",
      "Saving filtered csv poses!\n",
      "Filtering with median model /Users/rahimhashim/Desktop/Monkey-Emotions/video/Bear_230823/Bear_230823_1_e3v83ad.mp4\n",
      "Saving filtered csv poses!\n",
      "Filtering with median model /Users/rahimhashim/Desktop/Monkey-Emotions/video/Bear_230823/Bear_230823_2_e3v83ad.mp4\n",
      "Saving filtered csv poses!\n",
      "Filtering with median model /Users/rahimhashim/Desktop/Monkey-Emotions/video/Bear_230823/Bear_230823_3_e3v83ad.mp4\n",
      "Saving filtered csv poses!\n",
      "Filtering with median model /Users/rahimhashim/Desktop/Monkey-Emotions/video/Bear_230823/Bear_230823_4_e3v83ad.mp4\n",
      "Saving filtered csv poses!\n",
      "Filtering with median model /Users/rahimhashim/Desktop/Monkey-Emotions/video/Bear_230823/Bear_230823_7_e3v83ad.mp4\n",
      "Saving filtered csv poses!\n",
      "Filtering with median model /Users/rahimhashim/Desktop/Monkey-Emotions/video/Bear_230823/Bear_230823_8_e3v83ad.mp4\n",
      "Saving filtered csv poses!\n",
      "Filtering with median model /Users/rahimhashim/Desktop/Monkey-Emotions/video/Bear_230823/Bear_230823_9_e3v83ad.mp4\n",
      "Saving filtered csv poses!\n",
      "Filtering with median model /Users/rahimhashim/Desktop/Monkey-Emotions/video/Bear_230823/Bear_230823_11_e3v83ad.mp4\n",
      "Saving filtered csv poses!\n",
      "Filtering with median model /Users/rahimhashim/Desktop/Monkey-Emotions/video/Bear_230823/Bear_230823_12_e3v83ad.mp4\n",
      "Saving filtered csv poses!\n",
      "Starting to process video: /Users/rahimhashim/Desktop/Monkey-Emotions/video/Bear_230823/Bear_230823_0_e3v83ad.mp4\n",
      "Loading /Users/rahimhashim/Desktop/Monkey-Emotions/video/Bear_230823/Bear_230823_0_e3v83ad.mp4 and data.\n",
      "Duration of video [s]: 1.49, recorded with 120 fps!\n",
      "Overall # of frames: 179 with cropped frame dimensions: 640 480\n",
      "Generating frames and creating video.\n"
     ]
    },
    {
     "name": "stderr",
     "output_type": "stream",
     "text": [
      "100%|██████████| 179/179 [00:00<00:00, 430.49it/s]\n"
     ]
    },
    {
     "name": "stdout",
     "output_type": "stream",
     "text": [
      "Starting to process video: /Users/rahimhashim/Desktop/Monkey-Emotions/video/Bear_230823/Bear_230823_1_e3v83ad.mp4\n",
      "Loading /Users/rahimhashim/Desktop/Monkey-Emotions/video/Bear_230823/Bear_230823_1_e3v83ad.mp4 and data.\n",
      "Duration of video [s]: 1.48, recorded with 120 fps!\n",
      "Overall # of frames: 177 with cropped frame dimensions: 640 480\n",
      "Generating frames and creating video.\n"
     ]
    },
    {
     "name": "stderr",
     "output_type": "stream",
     "text": [
      "100%|██████████| 177/177 [00:00<00:00, 466.03it/s]\n"
     ]
    },
    {
     "name": "stdout",
     "output_type": "stream",
     "text": [
      "Starting to process video: /Users/rahimhashim/Desktop/Monkey-Emotions/video/Bear_230823/Bear_230823_2_e3v83ad.mp4\n",
      "Loading /Users/rahimhashim/Desktop/Monkey-Emotions/video/Bear_230823/Bear_230823_2_e3v83ad.mp4 and data.\n",
      "Duration of video [s]: 1.49, recorded with 120 fps!\n",
      "Overall # of frames: 179 with cropped frame dimensions: 640 480\n",
      "Generating frames and creating video.\n"
     ]
    },
    {
     "name": "stderr",
     "output_type": "stream",
     "text": [
      "100%|██████████| 179/179 [00:00<00:00, 469.80it/s]\n"
     ]
    },
    {
     "name": "stdout",
     "output_type": "stream",
     "text": [
      "Starting to process video: /Users/rahimhashim/Desktop/Monkey-Emotions/video/Bear_230823/Bear_230823_3_e3v83ad.mp4\n",
      "Loading /Users/rahimhashim/Desktop/Monkey-Emotions/video/Bear_230823/Bear_230823_3_e3v83ad.mp4 and data.\n",
      "Duration of video [s]: 1.48, recorded with 120 fps!\n",
      "Overall # of frames: 178 with cropped frame dimensions: 640 480\n",
      "Generating frames and creating video.\n"
     ]
    },
    {
     "name": "stderr",
     "output_type": "stream",
     "text": [
      "100%|██████████| 178/178 [00:00<00:00, 471.16it/s]\n"
     ]
    },
    {
     "name": "stdout",
     "output_type": "stream",
     "text": [
      "Starting to process video: /Users/rahimhashim/Desktop/Monkey-Emotions/video/Bear_230823/Bear_230823_4_e3v83ad.mp4\n",
      "Loading /Users/rahimhashim/Desktop/Monkey-Emotions/video/Bear_230823/Bear_230823_4_e3v83ad.mp4 and data.\n",
      "Duration of video [s]: 4.32, recorded with 120 fps!\n",
      "Overall # of frames: 518 with cropped frame dimensions: 640 480\n",
      "Generating frames and creating video.\n"
     ]
    },
    {
     "name": "stderr",
     "output_type": "stream",
     "text": [
      "100%|██████████| 518/518 [00:01<00:00, 483.82it/s]\n"
     ]
    },
    {
     "name": "stdout",
     "output_type": "stream",
     "text": [
      "Starting to process video: /Users/rahimhashim/Desktop/Monkey-Emotions/video/Bear_230823/Bear_230823_7_e3v83ad.mp4\n",
      "Loading /Users/rahimhashim/Desktop/Monkey-Emotions/video/Bear_230823/Bear_230823_7_e3v83ad.mp4 and data.\n",
      "Duration of video [s]: 1.5, recorded with 120 fps!\n",
      "Overall # of frames: 180 with cropped frame dimensions: 640 480\n",
      "Generating frames and creating video.\n"
     ]
    },
    {
     "name": "stderr",
     "output_type": "stream",
     "text": [
      "100%|██████████| 180/180 [00:00<00:00, 466.55it/s]\n"
     ]
    },
    {
     "name": "stdout",
     "output_type": "stream",
     "text": [
      "Starting to process video: /Users/rahimhashim/Desktop/Monkey-Emotions/video/Bear_230823/Bear_230823_8_e3v83ad.mp4\n",
      "Loading /Users/rahimhashim/Desktop/Monkey-Emotions/video/Bear_230823/Bear_230823_8_e3v83ad.mp4 and data.\n",
      "Duration of video [s]: 1.49, recorded with 120 fps!\n",
      "Overall # of frames: 179 with cropped frame dimensions: 640 480\n",
      "Generating frames and creating video.\n"
     ]
    },
    {
     "name": "stderr",
     "output_type": "stream",
     "text": [
      "100%|██████████| 179/179 [00:00<00:00, 473.58it/s]\n"
     ]
    },
    {
     "name": "stdout",
     "output_type": "stream",
     "text": [
      "Starting to process video: /Users/rahimhashim/Desktop/Monkey-Emotions/video/Bear_230823/Bear_230823_9_e3v83ad.mp4\n",
      "Loading /Users/rahimhashim/Desktop/Monkey-Emotions/video/Bear_230823/Bear_230823_9_e3v83ad.mp4 and data.\n",
      "Duration of video [s]: 1.49, recorded with 120 fps!\n",
      "Overall # of frames: 179 with cropped frame dimensions: 640 480\n",
      "Generating frames and creating video.\n"
     ]
    },
    {
     "name": "stderr",
     "output_type": "stream",
     "text": [
      "100%|██████████| 179/179 [00:00<00:00, 393.23it/s]\n"
     ]
    },
    {
     "name": "stdout",
     "output_type": "stream",
     "text": [
      "Starting to process video: /Users/rahimhashim/Desktop/Monkey-Emotions/video/Bear_230823/Bear_230823_11_e3v83ad.mp4\n",
      "Loading /Users/rahimhashim/Desktop/Monkey-Emotions/video/Bear_230823/Bear_230823_11_e3v83ad.mp4 and data.\n",
      "Duration of video [s]: 1.48, recorded with 120 fps!\n",
      "Overall # of frames: 178 with cropped frame dimensions: 640 480\n",
      "Generating frames and creating video.\n"
     ]
    },
    {
     "name": "stderr",
     "output_type": "stream",
     "text": [
      "100%|██████████| 178/178 [00:00<00:00, 461.32it/s]\n"
     ]
    },
    {
     "name": "stdout",
     "output_type": "stream",
     "text": [
      "Starting to process video: /Users/rahimhashim/Desktop/Monkey-Emotions/video/Bear_230823/Bear_230823_12_e3v83ad.mp4\n",
      "Loading /Users/rahimhashim/Desktop/Monkey-Emotions/video/Bear_230823/Bear_230823_12_e3v83ad.mp4 and data.\n",
      "Duration of video [s]: 1.49, recorded with 120 fps!\n",
      "Overall # of frames: 179 with cropped frame dimensions: 640 480\n",
      "Generating frames and creating video.\n"
     ]
    },
    {
     "name": "stderr",
     "output_type": "stream",
     "text": [
      "100%|██████████| 179/179 [00:00<00:00, 469.00it/s]\n"
     ]
    },
    {
     "name": "stdout",
     "output_type": "stream",
     "text": [
      "Loading  /Users/rahimhashim/Desktop/Monkey-Emotions/video/Bear_230823/Bear_230823_0_e3v83ad.mp4 and data.\n",
      "Loading  /Users/rahimhashim/Desktop/Monkey-Emotions/video/Bear_230823/Bear_230823_1_e3v83ad.mp4 and data.\n",
      "Loading  /Users/rahimhashim/Desktop/Monkey-Emotions/video/Bear_230823/Bear_230823_2_e3v83ad.mp4 and data.\n",
      "Loading  /Users/rahimhashim/Desktop/Monkey-Emotions/video/Bear_230823/Bear_230823_3_e3v83ad.mp4 and data.\n",
      "Loading  /Users/rahimhashim/Desktop/Monkey-Emotions/video/Bear_230823/Bear_230823_4_e3v83ad.mp4 and data.\n",
      "Loading  /Users/rahimhashim/Desktop/Monkey-Emotions/video/Bear_230823/Bear_230823_7_e3v83ad.mp4 and data.\n",
      "Loading  /Users/rahimhashim/Desktop/Monkey-Emotions/video/Bear_230823/Bear_230823_8_e3v83ad.mp4 and data.\n",
      "Loading  /Users/rahimhashim/Desktop/Monkey-Emotions/video/Bear_230823/Bear_230823_9_e3v83ad.mp4 and data.\n",
      "Loading  /Users/rahimhashim/Desktop/Monkey-Emotions/video/Bear_230823/Bear_230823_11_e3v83ad.mp4 and data.\n",
      "Loading  /Users/rahimhashim/Desktop/Monkey-Emotions/video/Bear_230823/Bear_230823_12_e3v83ad.mp4 and data.\n",
      "Plots created! Please check the directory \"plot-poses\" within the video directory\n",
      "Attempting to create a symbolic link of the video ...\n",
      "Created the symlink of /Users/rahimhashim/Desktop/Monkey-Emotions/video/Bear_230823/Bear_230823_0_e3v83d6.mp4 to /Users/rahimhashim/Desktop/Monkey-Emotions/230823_Bear_face_2-rahim-2023-10-05/videos/Bear_230823_0_e3v83d6.mp4\n",
      "Created the symlink of /Users/rahimhashim/Desktop/Monkey-Emotions/video/Bear_230823/Bear_230823_1_e3v83d6.mp4 to /Users/rahimhashim/Desktop/Monkey-Emotions/230823_Bear_face_2-rahim-2023-10-05/videos/Bear_230823_1_e3v83d6.mp4\n",
      "Created the symlink of /Users/rahimhashim/Desktop/Monkey-Emotions/video/Bear_230823/Bear_230823_2_e3v83d6.mp4 to /Users/rahimhashim/Desktop/Monkey-Emotions/230823_Bear_face_2-rahim-2023-10-05/videos/Bear_230823_2_e3v83d6.mp4\n",
      "Created the symlink of /Users/rahimhashim/Desktop/Monkey-Emotions/video/Bear_230823/Bear_230823_3_e3v83d6.mp4 to /Users/rahimhashim/Desktop/Monkey-Emotions/230823_Bear_face_2-rahim-2023-10-05/videos/Bear_230823_3_e3v83d6.mp4\n",
      "Created the symlink of /Users/rahimhashim/Desktop/Monkey-Emotions/video/Bear_230823/Bear_230823_4_e3v83d6.mp4 to /Users/rahimhashim/Desktop/Monkey-Emotions/230823_Bear_face_2-rahim-2023-10-05/videos/Bear_230823_4_e3v83d6.mp4\n",
      "Created the symlink of /Users/rahimhashim/Desktop/Monkey-Emotions/video/Bear_230823/Bear_230823_7_e3v83d6.mp4 to /Users/rahimhashim/Desktop/Monkey-Emotions/230823_Bear_face_2-rahim-2023-10-05/videos/Bear_230823_7_e3v83d6.mp4\n",
      "Created the symlink of /Users/rahimhashim/Desktop/Monkey-Emotions/video/Bear_230823/Bear_230823_8_e3v83d6.mp4 to /Users/rahimhashim/Desktop/Monkey-Emotions/230823_Bear_face_2-rahim-2023-10-05/videos/Bear_230823_8_e3v83d6.mp4\n",
      "Created the symlink of /Users/rahimhashim/Desktop/Monkey-Emotions/video/Bear_230823/Bear_230823_9_e3v83d6.mp4 to /Users/rahimhashim/Desktop/Monkey-Emotions/230823_Bear_face_2-rahim-2023-10-05/videos/Bear_230823_9_e3v83d6.mp4\n",
      "Created the symlink of /Users/rahimhashim/Desktop/Monkey-Emotions/video/Bear_230823/Bear_230823_11_e3v83d6.mp4 to /Users/rahimhashim/Desktop/Monkey-Emotions/230823_Bear_face_2-rahim-2023-10-05/videos/Bear_230823_11_e3v83d6.mp4\n",
      "Created the symlink of /Users/rahimhashim/Desktop/Monkey-Emotions/video/Bear_230823/Bear_230823_12_e3v83d6.mp4 to /Users/rahimhashim/Desktop/Monkey-Emotions/230823_Bear_face_2-rahim-2023-10-05/videos/Bear_230823_12_e3v83d6.mp4\n",
      "New videos were added to the project! Use the function 'extract_frames' to select frames for labeling.\n",
      "Using snapshot-1030000 for model /Users/rahimhashim/Desktop/Monkey-Emotions/230823_Bear_face_2-rahim-2023-10-05/dlc-models/iteration-0/230823_Bear_face_2Oct5-trainset95shuffle1\n",
      "Starting to analyze %  /Users/rahimhashim/Desktop/Monkey-Emotions/video/Bear_230823/Bear_230823_0_e3v83d6.mp4\n",
      "Loading  /Users/rahimhashim/Desktop/Monkey-Emotions/video/Bear_230823/Bear_230823_0_e3v83d6.mp4\n",
      "Duration of video [s]:  1.49 , recorded with  120.0 fps!\n",
      "Overall # of frames:  179  found with (before cropping) frame dimensions:  640 480\n",
      "Starting to extract posture\n"
     ]
    },
    {
     "name": "stderr",
     "output_type": "stream",
     "text": [
      "100%|██████████| 179/179 [00:15<00:00, 11.46it/s]\n"
     ]
    },
    {
     "name": "stdout",
     "output_type": "stream",
     "text": [
      "Saving results in /Users/rahimhashim/Desktop/Monkey-Emotions/video/Bear_230823...\n",
      "Saving csv poses!\n",
      "Starting to analyze %  /Users/rahimhashim/Desktop/Monkey-Emotions/video/Bear_230823/Bear_230823_1_e3v83d6.mp4\n",
      "Loading  /Users/rahimhashim/Desktop/Monkey-Emotions/video/Bear_230823/Bear_230823_1_e3v83d6.mp4\n",
      "Duration of video [s]:  1.48 , recorded with  120.0 fps!\n",
      "Overall # of frames:  177  found with (before cropping) frame dimensions:  640 480\n",
      "Starting to extract posture\n"
     ]
    },
    {
     "name": "stderr",
     "output_type": "stream",
     "text": [
      "100%|██████████| 177/177 [00:15<00:00, 11.19it/s]\n"
     ]
    },
    {
     "name": "stdout",
     "output_type": "stream",
     "text": [
      "Saving results in /Users/rahimhashim/Desktop/Monkey-Emotions/video/Bear_230823...\n",
      "Saving csv poses!\n",
      "Starting to analyze %  /Users/rahimhashim/Desktop/Monkey-Emotions/video/Bear_230823/Bear_230823_2_e3v83d6.mp4\n",
      "Loading  /Users/rahimhashim/Desktop/Monkey-Emotions/video/Bear_230823/Bear_230823_2_e3v83d6.mp4\n",
      "Duration of video [s]:  1.49 , recorded with  120.0 fps!\n",
      "Overall # of frames:  179  found with (before cropping) frame dimensions:  640 480\n",
      "Starting to extract posture\n"
     ]
    },
    {
     "name": "stderr",
     "output_type": "stream",
     "text": [
      "100%|██████████| 179/179 [00:16<00:00, 11.03it/s]\n"
     ]
    },
    {
     "name": "stdout",
     "output_type": "stream",
     "text": [
      "Saving results in /Users/rahimhashim/Desktop/Monkey-Emotions/video/Bear_230823...\n",
      "Saving csv poses!\n",
      "Starting to analyze %  /Users/rahimhashim/Desktop/Monkey-Emotions/video/Bear_230823/Bear_230823_3_e3v83d6.mp4\n",
      "Loading  /Users/rahimhashim/Desktop/Monkey-Emotions/video/Bear_230823/Bear_230823_3_e3v83d6.mp4\n",
      "Duration of video [s]:  1.48 , recorded with  120.0 fps!\n",
      "Overall # of frames:  178  found with (before cropping) frame dimensions:  640 480\n",
      "Starting to extract posture\n"
     ]
    },
    {
     "name": "stderr",
     "output_type": "stream",
     "text": [
      "100%|██████████| 178/178 [00:15<00:00, 11.18it/s]\n"
     ]
    },
    {
     "name": "stdout",
     "output_type": "stream",
     "text": [
      "Saving results in /Users/rahimhashim/Desktop/Monkey-Emotions/video/Bear_230823...\n",
      "Saving csv poses!\n",
      "Starting to analyze %  /Users/rahimhashim/Desktop/Monkey-Emotions/video/Bear_230823/Bear_230823_4_e3v83d6.mp4\n",
      "Loading  /Users/rahimhashim/Desktop/Monkey-Emotions/video/Bear_230823/Bear_230823_4_e3v83d6.mp4\n",
      "Duration of video [s]:  4.32 , recorded with  120.0 fps!\n",
      "Overall # of frames:  518  found with (before cropping) frame dimensions:  640 480\n",
      "Starting to extract posture\n"
     ]
    },
    {
     "name": "stderr",
     "output_type": "stream",
     "text": [
      "100%|██████████| 518/518 [00:33<00:00, 15.60it/s]\n"
     ]
    },
    {
     "name": "stdout",
     "output_type": "stream",
     "text": [
      "Saving results in /Users/rahimhashim/Desktop/Monkey-Emotions/video/Bear_230823...\n",
      "Saving csv poses!\n",
      "Starting to analyze %  /Users/rahimhashim/Desktop/Monkey-Emotions/video/Bear_230823/Bear_230823_7_e3v83d6.mp4\n",
      "Loading  /Users/rahimhashim/Desktop/Monkey-Emotions/video/Bear_230823/Bear_230823_7_e3v83d6.mp4\n",
      "Duration of video [s]:  1.5 , recorded with  120.0 fps!\n",
      "Overall # of frames:  180  found with (before cropping) frame dimensions:  640 480\n",
      "Starting to extract posture\n"
     ]
    },
    {
     "name": "stderr",
     "output_type": "stream",
     "text": [
      "100%|██████████| 180/180 [00:16<00:00, 10.92it/s]\n"
     ]
    },
    {
     "name": "stdout",
     "output_type": "stream",
     "text": [
      "Saving results in /Users/rahimhashim/Desktop/Monkey-Emotions/video/Bear_230823...\n",
      "Saving csv poses!\n",
      "Starting to analyze %  /Users/rahimhashim/Desktop/Monkey-Emotions/video/Bear_230823/Bear_230823_8_e3v83d6.mp4\n",
      "Loading  /Users/rahimhashim/Desktop/Monkey-Emotions/video/Bear_230823/Bear_230823_8_e3v83d6.mp4\n",
      "Duration of video [s]:  1.49 , recorded with  120.0 fps!\n",
      "Overall # of frames:  179  found with (before cropping) frame dimensions:  640 480\n",
      "Starting to extract posture\n"
     ]
    },
    {
     "name": "stderr",
     "output_type": "stream",
     "text": [
      "100%|██████████| 179/179 [00:17<00:00, 10.33it/s]\n"
     ]
    },
    {
     "name": "stdout",
     "output_type": "stream",
     "text": [
      "Saving results in /Users/rahimhashim/Desktop/Monkey-Emotions/video/Bear_230823...\n",
      "Saving csv poses!\n",
      "Starting to analyze %  /Users/rahimhashim/Desktop/Monkey-Emotions/video/Bear_230823/Bear_230823_9_e3v83d6.mp4\n",
      "Loading  /Users/rahimhashim/Desktop/Monkey-Emotions/video/Bear_230823/Bear_230823_9_e3v83d6.mp4\n",
      "Duration of video [s]:  1.49 , recorded with  120.0 fps!\n",
      "Overall # of frames:  179  found with (before cropping) frame dimensions:  640 480\n",
      "Starting to extract posture\n"
     ]
    },
    {
     "name": "stderr",
     "output_type": "stream",
     "text": [
      "100%|██████████| 179/179 [00:16<00:00, 10.75it/s]\n"
     ]
    },
    {
     "name": "stdout",
     "output_type": "stream",
     "text": [
      "Saving results in /Users/rahimhashim/Desktop/Monkey-Emotions/video/Bear_230823...\n",
      "Saving csv poses!\n",
      "Starting to analyze %  /Users/rahimhashim/Desktop/Monkey-Emotions/video/Bear_230823/Bear_230823_11_e3v83d6.mp4\n",
      "Loading  /Users/rahimhashim/Desktop/Monkey-Emotions/video/Bear_230823/Bear_230823_11_e3v83d6.mp4\n",
      "Duration of video [s]:  1.48 , recorded with  120.0 fps!\n",
      "Overall # of frames:  178  found with (before cropping) frame dimensions:  640 480\n",
      "Starting to extract posture\n"
     ]
    },
    {
     "name": "stderr",
     "output_type": "stream",
     "text": [
      "100%|██████████| 178/178 [00:16<00:00, 10.69it/s]\n"
     ]
    },
    {
     "name": "stdout",
     "output_type": "stream",
     "text": [
      "Saving results in /Users/rahimhashim/Desktop/Monkey-Emotions/video/Bear_230823...\n",
      "Saving csv poses!\n",
      "Starting to analyze %  /Users/rahimhashim/Desktop/Monkey-Emotions/video/Bear_230823/Bear_230823_12_e3v83d6.mp4\n",
      "Loading  /Users/rahimhashim/Desktop/Monkey-Emotions/video/Bear_230823/Bear_230823_12_e3v83d6.mp4\n",
      "Duration of video [s]:  1.49 , recorded with  120.0 fps!\n",
      "Overall # of frames:  179  found with (before cropping) frame dimensions:  640 480\n",
      "Starting to extract posture\n"
     ]
    },
    {
     "name": "stderr",
     "output_type": "stream",
     "text": [
      "100%|██████████| 179/179 [00:18<00:00,  9.58it/s]\n"
     ]
    },
    {
     "name": "stdout",
     "output_type": "stream",
     "text": [
      "Saving results in /Users/rahimhashim/Desktop/Monkey-Emotions/video/Bear_230823...\n",
      "Saving csv poses!\n",
      "The videos are analyzed. Now your research can truly start! \n",
      " You can create labeled videos with 'create_labeled_video'\n",
      "If the tracking is not satisfactory for some videos, consider expanding the training set. You can use the function 'extract_outlier_frames' to extract a few representative outlier frames.\n",
      "Filtering with median model /Users/rahimhashim/Desktop/Monkey-Emotions/video/Bear_230823/Bear_230823_0_e3v83d6.mp4\n",
      "Saving filtered csv poses!\n",
      "Filtering with median model /Users/rahimhashim/Desktop/Monkey-Emotions/video/Bear_230823/Bear_230823_1_e3v83d6.mp4\n",
      "Saving filtered csv poses!\n",
      "Filtering with median model /Users/rahimhashim/Desktop/Monkey-Emotions/video/Bear_230823/Bear_230823_2_e3v83d6.mp4\n",
      "Saving filtered csv poses!\n",
      "Filtering with median model /Users/rahimhashim/Desktop/Monkey-Emotions/video/Bear_230823/Bear_230823_3_e3v83d6.mp4\n",
      "Saving filtered csv poses!\n",
      "Filtering with median model /Users/rahimhashim/Desktop/Monkey-Emotions/video/Bear_230823/Bear_230823_4_e3v83d6.mp4\n",
      "Saving filtered csv poses!\n",
      "Filtering with median model /Users/rahimhashim/Desktop/Monkey-Emotions/video/Bear_230823/Bear_230823_7_e3v83d6.mp4\n",
      "Saving filtered csv poses!\n",
      "Filtering with median model /Users/rahimhashim/Desktop/Monkey-Emotions/video/Bear_230823/Bear_230823_8_e3v83d6.mp4\n",
      "Saving filtered csv poses!\n",
      "Filtering with median model /Users/rahimhashim/Desktop/Monkey-Emotions/video/Bear_230823/Bear_230823_9_e3v83d6.mp4\n",
      "Saving filtered csv poses!\n",
      "Filtering with median model /Users/rahimhashim/Desktop/Monkey-Emotions/video/Bear_230823/Bear_230823_11_e3v83d6.mp4\n",
      "Saving filtered csv poses!\n",
      "Filtering with median model /Users/rahimhashim/Desktop/Monkey-Emotions/video/Bear_230823/Bear_230823_12_e3v83d6.mp4\n",
      "Saving filtered csv poses!\n",
      "Starting to process video: /Users/rahimhashim/Desktop/Monkey-Emotions/video/Bear_230823/Bear_230823_0_e3v83d6.mp4\n",
      "Loading /Users/rahimhashim/Desktop/Monkey-Emotions/video/Bear_230823/Bear_230823_0_e3v83d6.mp4 and data.\n",
      "Duration of video [s]: 1.49, recorded with 120 fps!\n",
      "Overall # of frames: 179 with cropped frame dimensions: 640 480\n",
      "Generating frames and creating video.\n"
     ]
    },
    {
     "name": "stderr",
     "output_type": "stream",
     "text": [
      "100%|██████████| 179/179 [00:00<00:00, 328.57it/s]\n"
     ]
    },
    {
     "name": "stdout",
     "output_type": "stream",
     "text": [
      "Starting to process video: /Users/rahimhashim/Desktop/Monkey-Emotions/video/Bear_230823/Bear_230823_1_e3v83d6.mp4\n",
      "Loading /Users/rahimhashim/Desktop/Monkey-Emotions/video/Bear_230823/Bear_230823_1_e3v83d6.mp4 and data.\n",
      "Duration of video [s]: 1.48, recorded with 120 fps!\n",
      "Overall # of frames: 177 with cropped frame dimensions: 640 480\n",
      "Generating frames and creating video.\n"
     ]
    },
    {
     "name": "stderr",
     "output_type": "stream",
     "text": [
      "100%|██████████| 177/177 [00:00<00:00, 337.68it/s]\n"
     ]
    },
    {
     "name": "stdout",
     "output_type": "stream",
     "text": [
      "Starting to process video: /Users/rahimhashim/Desktop/Monkey-Emotions/video/Bear_230823/Bear_230823_2_e3v83d6.mp4\n",
      "Loading /Users/rahimhashim/Desktop/Monkey-Emotions/video/Bear_230823/Bear_230823_2_e3v83d6.mp4 and data.\n",
      "Duration of video [s]: 1.49, recorded with 120 fps!\n",
      "Overall # of frames: 179 with cropped frame dimensions: 640 480\n",
      "Generating frames and creating video.\n"
     ]
    },
    {
     "name": "stderr",
     "output_type": "stream",
     "text": [
      "100%|██████████| 179/179 [00:00<00:00, 350.45it/s]\n"
     ]
    },
    {
     "name": "stdout",
     "output_type": "stream",
     "text": [
      "Starting to process video: /Users/rahimhashim/Desktop/Monkey-Emotions/video/Bear_230823/Bear_230823_3_e3v83d6.mp4\n",
      "Loading /Users/rahimhashim/Desktop/Monkey-Emotions/video/Bear_230823/Bear_230823_3_e3v83d6.mp4 and data.\n",
      "Duration of video [s]: 1.48, recorded with 120 fps!\n",
      "Overall # of frames: 178 with cropped frame dimensions: 640 480\n",
      "Generating frames and creating video.\n"
     ]
    },
    {
     "name": "stderr",
     "output_type": "stream",
     "text": [
      "100%|██████████| 178/178 [00:00<00:00, 230.21it/s]\n"
     ]
    },
    {
     "name": "stdout",
     "output_type": "stream",
     "text": [
      "Starting to process video: /Users/rahimhashim/Desktop/Monkey-Emotions/video/Bear_230823/Bear_230823_4_e3v83d6.mp4\n",
      "Loading /Users/rahimhashim/Desktop/Monkey-Emotions/video/Bear_230823/Bear_230823_4_e3v83d6.mp4 and data.\n",
      "Duration of video [s]: 4.32, recorded with 120 fps!\n",
      "Overall # of frames: 518 with cropped frame dimensions: 640 480\n",
      "Generating frames and creating video.\n"
     ]
    },
    {
     "name": "stderr",
     "output_type": "stream",
     "text": [
      "100%|██████████| 518/518 [00:01<00:00, 297.96it/s]\n"
     ]
    },
    {
     "name": "stdout",
     "output_type": "stream",
     "text": [
      "Starting to process video: /Users/rahimhashim/Desktop/Monkey-Emotions/video/Bear_230823/Bear_230823_7_e3v83d6.mp4\n",
      "Loading /Users/rahimhashim/Desktop/Monkey-Emotions/video/Bear_230823/Bear_230823_7_e3v83d6.mp4 and data.\n",
      "Duration of video [s]: 1.5, recorded with 120 fps!\n",
      "Overall # of frames: 180 with cropped frame dimensions: 640 480\n",
      "Generating frames and creating video.\n"
     ]
    },
    {
     "name": "stderr",
     "output_type": "stream",
     "text": [
      "100%|██████████| 180/180 [00:00<00:00, 336.75it/s]\n"
     ]
    },
    {
     "name": "stdout",
     "output_type": "stream",
     "text": [
      "Starting to process video: /Users/rahimhashim/Desktop/Monkey-Emotions/video/Bear_230823/Bear_230823_8_e3v83d6.mp4\n",
      "Loading /Users/rahimhashim/Desktop/Monkey-Emotions/video/Bear_230823/Bear_230823_8_e3v83d6.mp4 and data.\n",
      "Duration of video [s]: 1.49, recorded with 120 fps!\n",
      "Overall # of frames: 179 with cropped frame dimensions: 640 480\n",
      "Generating frames and creating video.\n"
     ]
    },
    {
     "name": "stderr",
     "output_type": "stream",
     "text": [
      "100%|██████████| 179/179 [00:00<00:00, 329.53it/s]\n"
     ]
    },
    {
     "name": "stdout",
     "output_type": "stream",
     "text": [
      "Starting to process video: /Users/rahimhashim/Desktop/Monkey-Emotions/video/Bear_230823/Bear_230823_9_e3v83d6.mp4\n",
      "Loading /Users/rahimhashim/Desktop/Monkey-Emotions/video/Bear_230823/Bear_230823_9_e3v83d6.mp4 and data.\n",
      "Duration of video [s]: 1.49, recorded with 120 fps!\n",
      "Overall # of frames: 179 with cropped frame dimensions: 640 480\n",
      "Generating frames and creating video.\n"
     ]
    },
    {
     "name": "stderr",
     "output_type": "stream",
     "text": [
      "100%|██████████| 179/179 [00:00<00:00, 387.22it/s]\n"
     ]
    },
    {
     "name": "stdout",
     "output_type": "stream",
     "text": [
      "Starting to process video: /Users/rahimhashim/Desktop/Monkey-Emotions/video/Bear_230823/Bear_230823_11_e3v83d6.mp4\n",
      "Loading /Users/rahimhashim/Desktop/Monkey-Emotions/video/Bear_230823/Bear_230823_11_e3v83d6.mp4 and data.\n",
      "Duration of video [s]: 1.48, recorded with 120 fps!\n",
      "Overall # of frames: 178 with cropped frame dimensions: 640 480\n",
      "Generating frames and creating video.\n"
     ]
    },
    {
     "name": "stderr",
     "output_type": "stream",
     "text": [
      "100%|██████████| 178/178 [00:00<00:00, 356.26it/s]\n"
     ]
    },
    {
     "name": "stdout",
     "output_type": "stream",
     "text": [
      "Starting to process video: /Users/rahimhashim/Desktop/Monkey-Emotions/video/Bear_230823/Bear_230823_12_e3v83d6.mp4\n",
      "Loading /Users/rahimhashim/Desktop/Monkey-Emotions/video/Bear_230823/Bear_230823_12_e3v83d6.mp4 and data.\n",
      "Duration of video [s]: 1.49, recorded with 120 fps!\n",
      "Overall # of frames: 179 with cropped frame dimensions: 640 480\n",
      "Generating frames and creating video.\n"
     ]
    },
    {
     "name": "stderr",
     "output_type": "stream",
     "text": [
      "100%|██████████| 179/179 [00:00<00:00, 374.24it/s]\n"
     ]
    },
    {
     "name": "stdout",
     "output_type": "stream",
     "text": [
      "Loading  /Users/rahimhashim/Desktop/Monkey-Emotions/video/Bear_230823/Bear_230823_0_e3v83d6.mp4 and data.\n",
      "Loading  /Users/rahimhashim/Desktop/Monkey-Emotions/video/Bear_230823/Bear_230823_1_e3v83d6.mp4 and data.\n",
      "Loading  /Users/rahimhashim/Desktop/Monkey-Emotions/video/Bear_230823/Bear_230823_2_e3v83d6.mp4 and data.\n",
      "Loading  /Users/rahimhashim/Desktop/Monkey-Emotions/video/Bear_230823/Bear_230823_3_e3v83d6.mp4 and data.\n",
      "Loading  /Users/rahimhashim/Desktop/Monkey-Emotions/video/Bear_230823/Bear_230823_4_e3v83d6.mp4 and data.\n",
      "Loading  /Users/rahimhashim/Desktop/Monkey-Emotions/video/Bear_230823/Bear_230823_7_e3v83d6.mp4 and data.\n",
      "Loading  /Users/rahimhashim/Desktop/Monkey-Emotions/video/Bear_230823/Bear_230823_8_e3v83d6.mp4 and data.\n",
      "Loading  /Users/rahimhashim/Desktop/Monkey-Emotions/video/Bear_230823/Bear_230823_9_e3v83d6.mp4 and data.\n",
      "Loading  /Users/rahimhashim/Desktop/Monkey-Emotions/video/Bear_230823/Bear_230823_11_e3v83d6.mp4 and data.\n",
      "Loading  /Users/rahimhashim/Desktop/Monkey-Emotions/video/Bear_230823/Bear_230823_12_e3v83d6.mp4 and data.\n",
      "Plots created! Please check the directory \"plot-poses\" within the video directory\n"
     ]
    },
    {
     "ename": "KeyError",
     "evalue": "'body_1'",
     "output_type": "error",
     "traceback": [
      "\u001b[0;31m---------------------------------------------------------------------------\u001b[0m",
      "\u001b[0;31mKeyError\u001b[0m                                  Traceback (most recent call last)",
      "\u001b[1;32m/Users/rahimhashim/Desktop/Monkey-Emotions/test_dlc.ipynb Cell 3\u001b[0m line \u001b[0;36m2\n\u001b[1;32m      <a href='vscode-notebook-cell:/Users/rahimhashim/Desktop/Monkey-Emotions/test_dlc.ipynb#W6sZmlsZQ%3D%3D?line=0'>1</a>\u001b[0m \u001b[39m# Run DLC\u001b[39;00m\n\u001b[0;32m----> <a href='vscode-notebook-cell:/Users/rahimhashim/Desktop/Monkey-Emotions/test_dlc.ipynb#W6sZmlsZQ%3D%3D?line=1'>2</a>\u001b[0m dlc_config\u001b[39m.\u001b[39;49mdlc_run(config_path_dict, dlc_video_path_dict, start_video\u001b[39m=\u001b[39;49m\u001b[39m0\u001b[39;49m, end_video\u001b[39m=\u001b[39;49m\u001b[39m10\u001b[39;49m, videotype\u001b[39m=\u001b[39;49m\u001b[39m'\u001b[39;49m\u001b[39mmp4\u001b[39;49m\u001b[39m'\u001b[39;49m)\n",
      "File \u001b[0;32m~/Desktop/Monkey-Emotions/dlc_primate/dlc_utils/dlc_config.py:156\u001b[0m, in \u001b[0;36mdlc_run\u001b[0;34m(config_path_dict, dlc_video_path_dict, start_video, end_video, videotype)\u001b[0m\n\u001b[1;32m    154\u001b[0m     video_path_list \u001b[39m=\u001b[39m \u001b[39msorted\u001b[39m(dlc_video_path_dict[cam], key\u001b[39m=\u001b[39m\u001b[39mlambda\u001b[39;00m x: \u001b[39mint\u001b[39m(re\u001b[39m.\u001b[39mfindall(\u001b[39mr\u001b[39m\u001b[39m'\u001b[39m\u001b[39m(\u001b[39m\u001b[39m\\\u001b[39m\u001b[39md+)_\u001b[39m\u001b[39m{0}\u001b[39;00m\u001b[39m'\u001b[39m\u001b[39m.\u001b[39mformat(cam), x)[\u001b[39m0\u001b[39m]))\n\u001b[1;32m    155\u001b[0m     video_list_subset \u001b[39m=\u001b[39m video_path_list[start_video:end_video]\n\u001b[0;32m--> 156\u001b[0m     config_path \u001b[39m=\u001b[39m config_path_dict[cam]\n\u001b[1;32m    158\u001b[0m \t\t\u001b[39m# Adding new videos to the config.yaml file\u001b[39;00m\n\u001b[1;32m    159\u001b[0m     deeplabcut\u001b[39m.\u001b[39madd_new_videos(\n\u001b[1;32m    160\u001b[0m \t\t\tconfig_path, \n\u001b[1;32m    161\u001b[0m \t\t\tvideo_list_subset,\n\u001b[0;32m   (...)\u001b[0m\n\u001b[1;32m    164\u001b[0m \t\t\textract_frames\u001b[39m=\u001b[39m\u001b[39mFalse\u001b[39;00m\n\u001b[1;32m    165\u001b[0m     )\n",
      "\u001b[0;31mKeyError\u001b[0m: 'body_1'"
     ]
    }
   ],
   "source": [
    "# Run DLC\n",
    "dlc_config.dlc_run(config_path_dict, dlc_video_path_dict, start_video=0, end_video=10, videotype='mp4')"
   ]
  },
  {
   "cell_type": "code",
   "execution_count": null,
   "metadata": {},
   "outputs": [],
   "source": []
  }
 ],
 "metadata": {
  "kernelspec": {
   "display_name": "Python 3",
   "language": "python",
   "name": "python3"
  },
  "language_info": {
   "codemirror_mode": {
    "name": "ipython",
    "version": 3
   },
   "file_extension": ".py",
   "mimetype": "text/x-python",
   "name": "python",
   "nbconvert_exporter": "python",
   "pygments_lexer": "ipython3",
   "version": "3.9.16"
  },
  "orig_nbformat": 4
 },
 "nbformat": 4,
 "nbformat_minor": 2
}
