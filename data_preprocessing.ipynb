{
 "cells": [
  {
   "cell_type": "markdown",
   "metadata": {},
   "source": [
    "# Data Preprocessing\n",
    "#### Run this script to proprocess all the data that will be coming in from one, many, or all of the following sources:\n",
    "1. **MonkeyLogic:** (.bhv2 | .h5) behavior data *[500 or 1000Hz]*\n",
    "  > * Photodiode data\n",
    "  > * White Matter Camera Sync analog data (if applicable)\n",
    "  > * White Matter Camera Save analog data (if applicable)\n",
    "2. **SpikeGLX:** (.meta & .bin) duplicates of analog data *[20000-30000Hz]*\n",
    "  > * Photodiode data (split from ML)\n",
    "  > * White Matter Camera Sync analog data (if applicable)\n",
    "  > * White Matter Camera Save analog data (if applicable)\n",
    "3. **WhiteMatter:** (.mp4 | .avi) video files *[60-120 fps]*\n",
    "***"
   ]
  },
  {
   "cell_type": "markdown",
   "metadata": {},
   "source": [
    "## Find Files\n",
    "`FileContainer` will hold the relevant files listed above. <br>\n",
    "* Specify `ROOT_DIR` to set the directory when prompted to select the files.\n",
    "* `WARNING` printed if dates and monkeys not aligned across files"
   ]
  },
  {
   "cell_type": "code",
   "execution_count": 6,
   "metadata": {},
   "outputs": [
    {
     "name": "stdout",
     "output_type": "stream",
     "text": [
      "The autoreload extension is already loaded. To reload it, use:\n",
      "  %reload_ext autoreload\n",
      "Session folder not found.\n",
      "Select behavior, video, and SpikeGLX files manually.\n",
      "  Select .h5 behavior file (i.e. None_None_choice.h5)\n",
      "  Select directory containing White Matter video files (i.e. None_None)\n",
      "  Select directory containing SpikeGLX files (i.e. None_None_g0)\n",
      "Behavior file selected: C:/Users/rober/Desktop/Rob/_data/20231223_gandalf/231223_Gandalf_UnityVR.h5\n",
      "  MonkeyLogic Date: 231223\n",
      "  MonkeyLogic Monkey: gandalf\n",
      "Video files directory selected: C:/Users/rober/Desktop/Rob/_data/20231223_gandalf/231223_Gandalf\n",
      "  White Matter Video Date: 231223\n",
      "  White Matter Video Monkey: gandalf\n",
      "SpikeGLX files directory selected: C:/Users/rober/Desktop/Rob/_data/20231223_gandalf/gandalf_20231223_g0\n",
      "  SpikeGLX Date: 231223\n",
      "  SpikeGLX Monkey: gandalf\n",
      "\n"
     ]
    }
   ],
   "source": [
    "%load_ext autoreload\n",
    "%autoreload 2\n",
    "import re\n",
    "import os\n",
    "import sys\n",
    "import cv2\n",
    "import math\n",
    "import numpy as np\n",
    "import pandas as pd\n",
    "from PIL import Image\n",
    "from pathlib import Path\n",
    "from pprint import pprint\n",
    "from tqdm.auto import tqdm\n",
    "import matplotlib.pyplot as plt\n",
    "from collections import defaultdict\n",
    "# Custom classes\n",
    "from classes.FileContainer import FileContainer\n",
    "from classes.SpikeGLX import SpikeGLX\n",
    "# Custom functions\n",
    "from spike_glx import read_SGLX\n",
    "\n",
    "# pandas options\n",
    "pd.options.mode.chained_assignment = None  # default='warn'\n",
    "pd.set_option('display.max_columns', None)\n",
    "\n",
    "ROOT_DIR = 'C:/Users/rober/Desktop/rhAirpuff/videos'\n",
    "VIDEO_DIR = 'C:/Users/rober/Desktop/rhAirpuff/videos/231223_Gandalf'\n",
    "file_container_obj = FileContainer(ROOT_DIR, VIDEO_DIR)"
   ]
  },
  {
   "cell_type": "markdown",
   "metadata": {},
   "source": [
    "***\n",
    "## Convert MonkeyLogic File to Pandas\n",
    "In order to run the behavior files through the preprocessing pipeline, we'll need to convert the MonkeyLogic file (either `.bhv2` or `.h5`) into a Session object which contains the following relevant attributes:\n",
    "> * `session_obj.df`: pandas DataFrame with columns:\n",
    ">   * `'photodiode'`: photodiode signal\n",
    ">   * `'Gen2'`: WM sync signal\n",
    ">   * `'Gen3'`: WM save signal\n",
    "> * `'session_obj.video_path'`: directory of WM videos\n",
    "> * `session_obj.monkey`: monkey name\n",
    "> * `session_obj.date`: date of session (<YYMMDD>)"
   ]
  },
  {
   "cell_type": "code",
   "execution_count": 7,
   "metadata": {},
   "outputs": [
    {
     "name": "stdout",
     "output_type": "stream",
     "text": [
      "Parsing .h5 file...\n",
      "Total number of trials: 368\n",
      "Parsing session data...\n"
     ]
    },
    {
     "data": {
      "application/vnd.jupyter.widget-view+json": {
       "model_id": "ad2576008bb84927ba01c117d2018ffe",
       "version_major": 2,
       "version_minor": 0
      },
      "text/plain": [
       "  0%|          | 0/368 [00:00<?, ?it/s]"
      ]
     },
     "metadata": {},
     "output_type": "display_data"
    },
    {
     "name": "stdout",
     "output_type": "stream",
     "text": [
      "  Complete.\n",
      "    Correct trials: 273\n",
      "    Errored trials: 95\n",
      "    Session Length:  01:39:33\n",
      "Creating Session Objects...\n",
      "Lick threshold: 2.53 mV\n",
      "Adding additional fields to session_df DataFrame...\n",
      "   No reward magnitude column found, skipping valence assignment...\n",
      "   No blink window column found, skipping blink window...\n",
      "   No pupil column found, skipping pupil pre-CS...\n",
      "   No lick window column found, skipping lick window...\n",
      "   No blink window column found, skipping blink window...\n",
      "   No lick duration column found, skipping lick duration...\n",
      "   No blink duration column found, skipping blink duration...\n",
      "   No blink duration column found, skipping blink duration...\n",
      "   No eye distance column found, skipping eye distance...\n",
      "  ['cam_frames'] field added.\n",
      "  20 new fields added.\n",
      "   No behavioral analysis performed...\n",
      "   No novel fractal column found, skipping novel fractal...\n",
      "   No fractal column found, skipping fractal count...\n"
     ]
    }
   ],
   "source": [
    "session_obj, error_dict, behavioral_code_dict = file_container_obj.ml_to_pd()"
   ]
  },
  {
   "cell_type": "code",
   "execution_count": 8,
   "metadata": {},
   "outputs": [
    {
     "name": "stdout",
     "output_type": "stream",
     "text": [
      "Adding additional fields to session_df DataFrame...\n",
      "   No reward magnitude column found, skipping valence assignment...\n",
      "   No blink window column found, skipping blink window...\n",
      "   No pupil column found, skipping pupil pre-CS...\n",
      "   No lick window column found, skipping lick window...\n",
      "   No blink window column found, skipping blink window...\n",
      "   No lick duration column found, skipping lick duration...\n",
      "   No blink duration column found, skipping blink duration...\n",
      "   No blink duration column found, skipping blink duration...\n",
      "   No eye distance column found, skipping eye distance...\n",
      "  ['cam_frames'] field added.\n",
      "  20 new fields added.\n",
      "   No behavioral analysis performed...\n",
      "   No novel fractal column found, skipping novel fractal...\n",
      "   No fractal column found, skipping fractal count...\n"
     ]
    }
   ],
   "source": [
    "from config.add_fields import add_fields\n",
    "# save is lick\n",
    "# lick is photodiode\n",
    "# photodiode is save\n",
    "if session_obj.monkey == 'gandalf':\n",
    "  session_obj.df['cam_save_2'] = session_obj.df['cam_save'].copy()\n",
    "  session_obj.df['cam_sync_2'] = session_obj.df['cam_sync'].copy()\n",
    "  session_obj.df['cam_sync'] = session_obj.df['lick'].copy() # correct\n",
    "  session_obj.df['cam_save'] = session_obj.df['cam_sync_2'].copy()\n",
    "  session_obj.df['lick'] = session_obj.df['cam_save_2'].copy()\n",
    "  del session_obj.df['cam_sync_2']\n",
    "  del session_obj.df['cam_save_2']\n",
    "\n",
    "  session_obj.df, session_obj = \\\n",
    "  add_fields(session_obj.df, session_obj, behavioral_code_dict)"
   ]
  },
  {
   "cell_type": "code",
   "execution_count": 9,
   "metadata": {},
   "outputs": [
    {
     "data": {
      "text/html": [
       "<div>\n",
       "<style scoped>\n",
       "    .dataframe tbody tr th:only-of-type {\n",
       "        vertical-align: middle;\n",
       "    }\n",
       "\n",
       "    .dataframe tbody tr th {\n",
       "        vertical-align: top;\n",
       "    }\n",
       "\n",
       "    .dataframe thead th {\n",
       "        text-align: right;\n",
       "    }\n",
       "</style>\n",
       "<table border=\"1\" class=\"dataframe\">\n",
       "  <thead>\n",
       "    <tr style=\"text-align: right;\">\n",
       "      <th></th>\n",
       "      <th>date</th>\n",
       "      <th>session_num</th>\n",
       "      <th>subject</th>\n",
       "      <th>trial_num</th>\n",
       "      <th>block</th>\n",
       "      <th>condition</th>\n",
       "      <th>correct</th>\n",
       "      <th>error</th>\n",
       "      <th>error_type</th>\n",
       "      <th>behavioral_code_markers</th>\n",
       "      <th>behavioral_code_times</th>\n",
       "      <th>eye_x</th>\n",
       "      <th>eye_y</th>\n",
       "      <th>eye_pupil</th>\n",
       "      <th>lick</th>\n",
       "      <th>cam_sync</th>\n",
       "      <th>cam_save</th>\n",
       "      <th>photodiode</th>\n",
       "      <th>trial_start</th>\n",
       "      <th>trial_end</th>\n",
       "      <th>trial_datetime_start</th>\n",
       "      <th>trial_datetime_end</th>\n",
       "      <th>Start trial</th>\n",
       "      <th>Frame skipped</th>\n",
       "      <th>Manual reward</th>\n",
       "      <th>End trial</th>\n",
       "      <th>Start</th>\n",
       "      <th>Reward</th>\n",
       "      <th>lick_raster</th>\n",
       "      <th>DEM_raster</th>\n",
       "      <th>trial_bins</th>\n",
       "      <th>trial_in_block</th>\n",
       "      <th>cam_frames</th>\n",
       "    </tr>\n",
       "  </thead>\n",
       "  <tbody>\n",
       "    <tr>\n",
       "      <th>0</th>\n",
       "      <td>231223</td>\n",
       "      <td>0</td>\n",
       "      <td>gandalf</td>\n",
       "      <td>1</td>\n",
       "      <td>1</td>\n",
       "      <td>1</td>\n",
       "      <td>0</td>\n",
       "      <td>1</td>\n",
       "      <td>8</td>\n",
       "      <td>[9, 10, 18]</td>\n",
       "      <td>[2.1411999769043177, 2869.1711999999825, 50927...</td>\n",
       "      <td>[11.666589723796807, 11.682231055690927, 11.68...</td>\n",
       "      <td>[-8.931953893082216, -8.974025222424308, -8.97...</td>\n",
       "      <td>[7686.0, 7689.0, 7689.0, 7686.0, 7686.0, 7691....</td>\n",
       "      <td>[0.0006632819249543231, -0.0062420898563418925...</td>\n",
       "      <td>[3.313269425058244, 0.0019785908320277823, 0.0...</td>\n",
       "      <td>[0.003622726964232992, 5.627470980623661e-06, ...</td>\n",
       "      <td>[0.7365784810797286, 0.7378937895911905, 0.701...</td>\n",
       "      <td>0.0000</td>\n",
       "      <td>50932.0000</td>\n",
       "      <td>2023-12-23 17:37:55.099</td>\n",
       "      <td>2023-12-23 17:38:46.031</td>\n",
       "      <td>2</td>\n",
       "      <td>&lt;NA&gt;</td>\n",
       "      <td>&lt;NA&gt;</td>\n",
       "      <td>50927</td>\n",
       "      <td>2869</td>\n",
       "      <td>&lt;NA&gt;</td>\n",
       "      <td>[0, 0, 0, 0, 0, 0, 0, 0, 0, 0, 0, 0, 0, 0, 0, ...</td>\n",
       "      <td>[1, 1, 1, 1, 1, 1, 1, 1, 1, 1, 1, 1, 1, 1, 1, ...</td>\n",
       "      <td>50929</td>\n",
       "      <td>0</td>\n",
       "      <td>[1014, 1022, 1030, 1039, 1047, 1055, 1064, 107...</td>\n",
       "    </tr>\n",
       "    <tr>\n",
       "      <th>1</th>\n",
       "      <td>231223</td>\n",
       "      <td>0</td>\n",
       "      <td>gandalf</td>\n",
       "      <td>2</td>\n",
       "      <td>1</td>\n",
       "      <td>1</td>\n",
       "      <td>1</td>\n",
       "      <td>0</td>\n",
       "      <td>0</td>\n",
       "      <td>[9, 10, 14, 50, 18]</td>\n",
       "      <td>[321.4086000225507, 393.3433000056539, 49357.0...</td>\n",
       "      <td>[2.399624281738673, 2.399624281738673, 2.41261...</td>\n",
       "      <td>[-2.804926380705822, -2.804926380705822, -2.79...</td>\n",
       "      <td>[6762.0, 6762.0, 6776.0, 6776.0, 6772.0, 6772....</td>\n",
       "      <td>[0.07333409733994187, 0.0818836048147118, 0.06...</td>\n",
       "      <td>[3.3191883253110372, 3.3159000473854228, 0.011...</td>\n",
       "      <td>[3.331026125996718, 3.324120742234178, 3.33102...</td>\n",
       "      <td>[1.3393186064801978, 1.3600347165001772, 1.366...</td>\n",
       "      <td>50930.5945</td>\n",
       "      <td>109108.5945</td>\n",
       "      <td>2023-12-23 17:38:46.030</td>\n",
       "      <td>2023-12-23 17:39:44.208</td>\n",
       "      <td>321</td>\n",
       "      <td>&lt;NA&gt;</td>\n",
       "      <td>49357</td>\n",
       "      <td>58092</td>\n",
       "      <td>393</td>\n",
       "      <td>57579</td>\n",
       "      <td>[0, 0, 0, 0, 0, 0, 0, 0, 0, 0, 0, 0, 0, 0, 0, ...</td>\n",
       "      <td>[0, 0, 0, 0, 0, 0, 0, 0, 0, 0, 0, 0, 0, 0, 0, ...</td>\n",
       "      <td>58176</td>\n",
       "      <td>1</td>\n",
       "      <td>[7, 15, 23, 32, 40, 48, 57, 65, 73, 82, 90, 98...</td>\n",
       "    </tr>\n",
       "    <tr>\n",
       "      <th>2</th>\n",
       "      <td>231223</td>\n",
       "      <td>0</td>\n",
       "      <td>gandalf</td>\n",
       "      <td>3</td>\n",
       "      <td>1</td>\n",
       "      <td>1</td>\n",
       "      <td>1</td>\n",
       "      <td>0</td>\n",
       "      <td>0</td>\n",
       "      <td>[9, 10, 50, 18]</td>\n",
       "      <td>[244.9037999904249, 312.6124999835156, 18548.3...</td>\n",
       "      <td>[8.661172718129903, 8.66114303672074, 8.661143...</td>\n",
       "      <td>[-3.58443580506663, -3.59766080638487, -3.5976...</td>\n",
       "      <td>[5333.0, 5346.0, 5346.0, 5313.0, 5313.0, 5327....</td>\n",
       "      <td>[0.12627527752843404, 0.12693293193021005, 0.1...</td>\n",
       "      <td>[0.000992109151831927, 0.006910999223200209, -...</td>\n",
       "      <td>[3.3214901198699804, 3.3188594975176424, 3.302...</td>\n",
       "      <td>[2.0232791680705384, 2.1071301227975665, 1.996...</td>\n",
       "      <td>109106.5228</td>\n",
       "      <td>128252.5228</td>\n",
       "      <td>2023-12-23 17:39:44.205</td>\n",
       "      <td>2023-12-23 17:40:03.351</td>\n",
       "      <td>244</td>\n",
       "      <td>&lt;NA&gt;</td>\n",
       "      <td>&lt;NA&gt;</td>\n",
       "      <td>19065</td>\n",
       "      <td>312</td>\n",
       "      <td>18548</td>\n",
       "      <td>[0, 0, 0, 0, 0, 0, 0, 0, 0, 0, 0, 0, 0, 0, 0, ...</td>\n",
       "      <td>[0, 0, 0, 0, 0, 0, 0, 0, 0, 0, 0, 0, 0, 0, 0, ...</td>\n",
       "      <td>19146</td>\n",
       "      <td>2</td>\n",
       "      <td>[4, 12, 20, 29, 37, 45, 54, 62, 70, 79, 87, 95...</td>\n",
       "    </tr>\n",
       "    <tr>\n",
       "      <th>3</th>\n",
       "      <td>231223</td>\n",
       "      <td>0</td>\n",
       "      <td>gandalf</td>\n",
       "      <td>4</td>\n",
       "      <td>1</td>\n",
       "      <td>1</td>\n",
       "      <td>1</td>\n",
       "      <td>0</td>\n",
       "      <td>0</td>\n",
       "      <td>[9, 10, 50, 18]</td>\n",
       "      <td>[193.0677999916952, 249.82959998305887, 12814....</td>\n",
       "      <td>[-0.05039526751367949, -0.05039526751367949, -...</td>\n",
       "      <td>[-9.843117814602548, -9.843117814602548, -9.76...</td>\n",
       "      <td>[5579.0, 5579.0, 5596.0, 5596.0, 5589.0, 5589....</td>\n",
       "      <td>[0.0818836048147118, 0.08747366737002274, 0.08...</td>\n",
       "      <td>[3.3234630866420156, 3.332341437198878, 3.3076...</td>\n",
       "      <td>[3.3182018419314097, 3.3172153585534487, 3.335...</td>\n",
       "      <td>[1.5629210717155717, 1.5862678008607307, 1.481...</td>\n",
       "      <td>128252.0063</td>\n",
       "      <td>141663.0063</td>\n",
       "      <td>2023-12-23 17:40:03.351</td>\n",
       "      <td>2023-12-23 17:40:16.762</td>\n",
       "      <td>193</td>\n",
       "      <td>&lt;NA&gt;</td>\n",
       "      <td>&lt;NA&gt;</td>\n",
       "      <td>13330</td>\n",
       "      <td>249</td>\n",
       "      <td>12814</td>\n",
       "      <td>[0, 0, 0, 0, 0, 0, 0, 0, 0, 0, 0, 0, 0, 0, 0, ...</td>\n",
       "      <td>[0, 0, 0, 0, 0, 0, 0, 0, 0, 0, 0, 0, 0, 0, 0, ...</td>\n",
       "      <td>13411</td>\n",
       "      <td>3</td>\n",
       "      <td>[8, 16, 24, 33, 41, 49, 58, 66, 74, 83, 91, 99...</td>\n",
       "    </tr>\n",
       "    <tr>\n",
       "      <th>4</th>\n",
       "      <td>231223</td>\n",
       "      <td>0</td>\n",
       "      <td>gandalf</td>\n",
       "      <td>5</td>\n",
       "      <td>1</td>\n",
       "      <td>1</td>\n",
       "      <td>1</td>\n",
       "      <td>0</td>\n",
       "      <td>0</td>\n",
       "      <td>[9, 10, 50, 18]</td>\n",
       "      <td>[190.61379999038763, 265.7947999832686, 9763.4...</td>\n",
       "      <td>[3.2430152908011887, 3.2430152908011887, 3.217...</td>\n",
       "      <td>[-9.5587140356113, -9.5587140356113, -9.539913...</td>\n",
       "      <td>[5661.0, 5661.0, 5661.0, 5657.0, 5657.0, 5661....</td>\n",
       "      <td>[0.08254125923397926, 0.08023946876537834, 0.0...</td>\n",
       "      <td>[3.3142559084295504, -0.00459795371501151, 0.0...</td>\n",
       "      <td>[3.3356297152173124, 3.316557702969066, 3.3306...</td>\n",
       "      <td>[0.5021247333699185, 0.5083724491291893, 0.497...</td>\n",
       "      <td>141663.0958</td>\n",
       "      <td>152024.0958</td>\n",
       "      <td>2023-12-23 17:40:16.763</td>\n",
       "      <td>2023-12-23 17:40:27.124</td>\n",
       "      <td>190</td>\n",
       "      <td>&lt;NA&gt;</td>\n",
       "      <td>&lt;NA&gt;</td>\n",
       "      <td>10277</td>\n",
       "      <td>265</td>\n",
       "      <td>9763</td>\n",
       "      <td>[0, 0, 0, 0, 0, 0, 0, 0, 0, 0, 0, 0, 0, 0, 0, ...</td>\n",
       "      <td>[0, 0, 0, 0, 0, 0, 0, 0, 0, 0, 0, 0, 0, 0, 0, ...</td>\n",
       "      <td>10360</td>\n",
       "      <td>4</td>\n",
       "      <td>[5, 13, 22, 30, 38, 47, 55, 63, 72, 80, 88, 97...</td>\n",
       "    </tr>\n",
       "  </tbody>\n",
       "</table>\n",
       "</div>"
      ],
      "text/plain": [
       "     date  session_num  subject  trial_num  block  condition  correct  error  \\\n",
       "0  231223            0  gandalf          1      1          1        0      1   \n",
       "1  231223            0  gandalf          2      1          1        1      0   \n",
       "2  231223            0  gandalf          3      1          1        1      0   \n",
       "3  231223            0  gandalf          4      1          1        1      0   \n",
       "4  231223            0  gandalf          5      1          1        1      0   \n",
       "\n",
       "   error_type behavioral_code_markers  \\\n",
       "0           8             [9, 10, 18]   \n",
       "1           0     [9, 10, 14, 50, 18]   \n",
       "2           0         [9, 10, 50, 18]   \n",
       "3           0         [9, 10, 50, 18]   \n",
       "4           0         [9, 10, 50, 18]   \n",
       "\n",
       "                               behavioral_code_times  \\\n",
       "0  [2.1411999769043177, 2869.1711999999825, 50927...   \n",
       "1  [321.4086000225507, 393.3433000056539, 49357.0...   \n",
       "2  [244.9037999904249, 312.6124999835156, 18548.3...   \n",
       "3  [193.0677999916952, 249.82959998305887, 12814....   \n",
       "4  [190.61379999038763, 265.7947999832686, 9763.4...   \n",
       "\n",
       "                                               eye_x  \\\n",
       "0  [11.666589723796807, 11.682231055690927, 11.68...   \n",
       "1  [2.399624281738673, 2.399624281738673, 2.41261...   \n",
       "2  [8.661172718129903, 8.66114303672074, 8.661143...   \n",
       "3  [-0.05039526751367949, -0.05039526751367949, -...   \n",
       "4  [3.2430152908011887, 3.2430152908011887, 3.217...   \n",
       "\n",
       "                                               eye_y  \\\n",
       "0  [-8.931953893082216, -8.974025222424308, -8.97...   \n",
       "1  [-2.804926380705822, -2.804926380705822, -2.79...   \n",
       "2  [-3.58443580506663, -3.59766080638487, -3.5976...   \n",
       "3  [-9.843117814602548, -9.843117814602548, -9.76...   \n",
       "4  [-9.5587140356113, -9.5587140356113, -9.539913...   \n",
       "\n",
       "                                           eye_pupil  \\\n",
       "0  [7686.0, 7689.0, 7689.0, 7686.0, 7686.0, 7691....   \n",
       "1  [6762.0, 6762.0, 6776.0, 6776.0, 6772.0, 6772....   \n",
       "2  [5333.0, 5346.0, 5346.0, 5313.0, 5313.0, 5327....   \n",
       "3  [5579.0, 5579.0, 5596.0, 5596.0, 5589.0, 5589....   \n",
       "4  [5661.0, 5661.0, 5661.0, 5657.0, 5657.0, 5661....   \n",
       "\n",
       "                                                lick  \\\n",
       "0  [0.0006632819249543231, -0.0062420898563418925...   \n",
       "1  [0.07333409733994187, 0.0818836048147118, 0.06...   \n",
       "2  [0.12627527752843404, 0.12693293193021005, 0.1...   \n",
       "3  [0.0818836048147118, 0.08747366737002274, 0.08...   \n",
       "4  [0.08254125923397926, 0.08023946876537834, 0.0...   \n",
       "\n",
       "                                            cam_sync  \\\n",
       "0  [3.313269425058244, 0.0019785908320277823, 0.0...   \n",
       "1  [3.3191883253110372, 3.3159000473854228, 0.011...   \n",
       "2  [0.000992109151831927, 0.006910999223200209, -...   \n",
       "3  [3.3234630866420156, 3.332341437198878, 3.3076...   \n",
       "4  [3.3142559084295504, -0.00459795371501151, 0.0...   \n",
       "\n",
       "                                            cam_save  \\\n",
       "0  [0.003622726964232992, 5.627470980623661e-06, ...   \n",
       "1  [3.331026125996718, 3.324120742234178, 3.33102...   \n",
       "2  [3.3214901198699804, 3.3188594975176424, 3.302...   \n",
       "3  [3.3182018419314097, 3.3172153585534487, 3.335...   \n",
       "4  [3.3356297152173124, 3.316557702969066, 3.3306...   \n",
       "\n",
       "                                          photodiode  trial_start  \\\n",
       "0  [0.7365784810797286, 0.7378937895911905, 0.701...       0.0000   \n",
       "1  [1.3393186064801978, 1.3600347165001772, 1.366...   50930.5945   \n",
       "2  [2.0232791680705384, 2.1071301227975665, 1.996...  109106.5228   \n",
       "3  [1.5629210717155717, 1.5862678008607307, 1.481...  128252.0063   \n",
       "4  [0.5021247333699185, 0.5083724491291893, 0.497...  141663.0958   \n",
       "\n",
       "     trial_end    trial_datetime_start      trial_datetime_end  Start trial  \\\n",
       "0   50932.0000 2023-12-23 17:37:55.099 2023-12-23 17:38:46.031            2   \n",
       "1  109108.5945 2023-12-23 17:38:46.030 2023-12-23 17:39:44.208          321   \n",
       "2  128252.5228 2023-12-23 17:39:44.205 2023-12-23 17:40:03.351          244   \n",
       "3  141663.0063 2023-12-23 17:40:03.351 2023-12-23 17:40:16.762          193   \n",
       "4  152024.0958 2023-12-23 17:40:16.763 2023-12-23 17:40:27.124          190   \n",
       "\n",
       "   Frame skipped  Manual reward  End trial  Start  Reward  \\\n",
       "0           <NA>           <NA>      50927   2869    <NA>   \n",
       "1           <NA>          49357      58092    393   57579   \n",
       "2           <NA>           <NA>      19065    312   18548   \n",
       "3           <NA>           <NA>      13330    249   12814   \n",
       "4           <NA>           <NA>      10277    265    9763   \n",
       "\n",
       "                                         lick_raster  \\\n",
       "0  [0, 0, 0, 0, 0, 0, 0, 0, 0, 0, 0, 0, 0, 0, 0, ...   \n",
       "1  [0, 0, 0, 0, 0, 0, 0, 0, 0, 0, 0, 0, 0, 0, 0, ...   \n",
       "2  [0, 0, 0, 0, 0, 0, 0, 0, 0, 0, 0, 0, 0, 0, 0, ...   \n",
       "3  [0, 0, 0, 0, 0, 0, 0, 0, 0, 0, 0, 0, 0, 0, 0, ...   \n",
       "4  [0, 0, 0, 0, 0, 0, 0, 0, 0, 0, 0, 0, 0, 0, 0, ...   \n",
       "\n",
       "                                          DEM_raster  trial_bins  \\\n",
       "0  [1, 1, 1, 1, 1, 1, 1, 1, 1, 1, 1, 1, 1, 1, 1, ...       50929   \n",
       "1  [0, 0, 0, 0, 0, 0, 0, 0, 0, 0, 0, 0, 0, 0, 0, ...       58176   \n",
       "2  [0, 0, 0, 0, 0, 0, 0, 0, 0, 0, 0, 0, 0, 0, 0, ...       19146   \n",
       "3  [0, 0, 0, 0, 0, 0, 0, 0, 0, 0, 0, 0, 0, 0, 0, ...       13411   \n",
       "4  [0, 0, 0, 0, 0, 0, 0, 0, 0, 0, 0, 0, 0, 0, 0, ...       10360   \n",
       "\n",
       "   trial_in_block                                         cam_frames  \n",
       "0               0  [1014, 1022, 1030, 1039, 1047, 1055, 1064, 107...  \n",
       "1               1  [7, 15, 23, 32, 40, 48, 57, 65, 73, 82, 90, 98...  \n",
       "2               2  [4, 12, 20, 29, 37, 45, 54, 62, 70, 79, 87, 95...  \n",
       "3               3  [8, 16, 24, 33, 41, 49, 58, 66, 74, 83, 91, 99...  \n",
       "4               4  [5, 13, 22, 30, 38, 47, 55, 63, 72, 80, 88, 97...  "
      ]
     },
     "execution_count": 9,
     "metadata": {},
     "output_type": "execute_result"
    }
   ],
   "source": [
    "session_obj.df.head()"
   ]
  },
  {
   "cell_type": "code",
   "execution_count": 10,
   "metadata": {},
   "outputs": [
    {
     "name": "stdout",
     "output_type": "stream",
     "text": [
      "Saving .pickle files to: C:/Users/rober/Desktop/Rob/_data/20231223_gandalf\n",
      "  Pickling 231223_gandalf_UnityVR_behave.pkl\n",
      "  Total time to pickle: 0.6554 sec\n"
     ]
    }
   ],
   "source": [
    "import pickle\n",
    "from config.h5_helper import pickler\n",
    "\n",
    "pickler(True, os.path.dirname(file_container_obj.ml_file_path), \n",
    "        session_obj.df, 'gandalf', 'UnityVR', error_dict, behavioral_code_dict)"
   ]
  },
  {
   "cell_type": "markdown",
   "metadata": {},
   "source": [
    "*** \n",
    "## Process SpikeGLX\n",
    "\n",
    "Assign `signal_dict` channels manually based on how you set up the PXI board. `epochs` are the MonkeyLogic eventcodes within `session_obj.df` distinguishing epochs in the task that you will reference later to break up videos based on."
   ]
  },
  {
   "cell_type": "code",
   "execution_count": 11,
   "metadata": {},
   "outputs": [
    {
     "name": "stdout",
     "output_type": "stream",
     "text": [
      "Epochs:\n",
      "  Start trial\n",
      "  End trial\n"
     ]
    }
   ],
   "source": [
    "# Manually assign the signal channel numbers\n",
    "# from how you set them up on the NI PXIe-6341 board\n",
    "signal_dict = {\n",
    "  0: 'cam_sync',\n",
    "  1: 'cam_save',\n",
    "  2: 'lick',\n",
    "  3: 'photodiode',\n",
    "}\n",
    "\n",
    "# Manually assign the time epochs you care about\n",
    "# which have to exist as rows in session_df\n",
    "if session_obj.monkey in ['aragorn', 'bear']:\n",
    "  epochs = ['Start Trial', 'Fixation On', 'CS On',\t\n",
    "          'Trace Start', 'Outcome Start', 'End Trial']\n",
    "else:\n",
    "  epochs = ['Start trial', 'End trial']\n",
    "print('Epochs:')\n",
    "# Print each epoch on its own line\n",
    "for epoch in epochs:\n",
    "  print(f'  {epoch}')"
   ]
  },
  {
   "cell_type": "markdown",
   "metadata": {},
   "source": [
    "### Peek at SpikeGLX Analog Data\n",
    "Always view the data you are working with before doing any type of analysis. Calling `read_SGLX` prompts a file selection tool (choose the .bin file that **must have the .meta file in the same directory as is the default for SpikeGLX output**), and `plot_channels_raw` allows for visualization of a window specified by [tStart - tEnd] **seconds**. "
   ]
  },
  {
   "cell_type": "code",
   "execution_count": 12,
   "metadata": {},
   "outputs": [
    {
     "name": "stdout",
     "output_type": "stream",
     "text": [
      "Reading SGLX meta and bin files...\n",
      "Select binary file\n",
      "Bin File Path: C:\\Users\\rober\\Desktop\\Rob\\_data\\20231223_gandalf\\gandalf_20231223_g0\\gandalf_20231223_g0_t0.nidq.bin\n",
      "File Name: D://gandalf_20231223_g0/gandalf_20231223_g0_t0.nidq.bin\n",
      "  Number of Channels: 9\n",
      "  File Created: 2023-12-23T17:36:59\n",
      "  File Length: 6040.45037399812\n",
      "nChan: 9, nFileSamp: 12080867\n",
      " Complete.\n",
      "Plotting channels...\n",
      "  SpikeGLX object missing attributes (meta, chan_dict, signal_dict)\n",
      "  Using input arguments instead.\n",
      "Sample Rate:  1999.994413\n",
      " Channel [0]: cam_sync\n",
      "  Max Val: 3345.032\n",
      "  Min Val: -5.798\n",
      " Channel [1]: cam_save\n",
      "  Max Val: 29.602\n",
      "  Min Val: -8.24\n",
      " Channel [2]: lick\n",
      "  Max Val: 8.85\n",
      "  Min Val: -34.485\n",
      " Channel [3]: photodiode\n",
      "  Max Val: 2215.576\n",
      "  Min Val: 423.584\n",
      " Channel [4]: empty\n",
      " Channel [5]: empty\n",
      " Channel [6]: empty\n",
      " Channel [7]: empty\n",
      " Channel [8]: empty\n"
     ]
    },
    {
     "data": {
      "image/png": "[encoded data removed]",
      "text/plain": [
       "<Figure size 1000x200 with 1 Axes>"
      ]
     },
     "metadata": {},
     "output_type": "display_data"
    }
   ],
   "source": [
    "from spike_glx.read_SGLX import read_SGLX, plot_channels_raw\n",
    "\n",
    "print('Reading SGLX meta and bin files...')\n",
    "meta, chan_dict = read_SGLX()\n",
    "print(' Complete.')\n",
    "print('Plotting channels...')\n",
    "plot_channels_raw(None, meta, chan_dict, signal_dict, tStart=0, tEnd=20)"
   ]
  },
  {
   "cell_type": "code",
   "execution_count": 13,
   "metadata": {},
   "outputs": [
    {
     "data": {
      "image/png": "[encoded data removed]",
      "text/plain": [
       "<Figure size 1500x300 with 1 Axes>"
      ]
     },
     "metadata": {},
     "output_type": "display_data"
    }
   ],
   "source": [
    "from spike_glx.read_SGLX import plot_analog_ML\n",
    "# epochs = ['Start Trial', 'Fixation On', 'CS On',\t\n",
    "#           'Trace Start', 'Outcome Start', 'End Trial']\n",
    "plot_analog_ML(session_obj.df, epochs, trial_num=1)"
   ]
  },
  {
   "cell_type": "code",
   "execution_count": 15,
   "metadata": {},
   "outputs": [
    {
     "name": "stdout",
     "output_type": "stream",
     "text": [
      "Pickled spikeglx_obj not found for: gandalf_231223\n",
      "Generating new spikeglx_obj...\n",
      "  Looking for SpikeGLX binary and meta file in:\n",
      "  C:/Users/rober/Desktop/Rob/_data/20231223_gandalf\n",
      "Looking for binary file in C:/Users/rober/Desktop/Rob/_data/20231223_gandalf\n",
      "Found folder: gandalf_20231223_g0\n",
      "  Found binary file: gandalf_20231223_g0_t0.nidq.bin\n",
      "  Found metadata file: gandalf_20231223_g0_t0.nidq.meta\n",
      "File Name: D://gandalf_20231223_g0/gandalf_20231223_g0_t0.nidq.bin\n",
      "  Number of Channels: 9\n",
      "  File Created: 2023-12-23T17:36:59\n",
      "  File Length: 6040.45037399812\n",
      "nChan: 9, nFileSamp: 12080867\n",
      "Number of Channels:  9\n",
      "Sample Rate:  1999.994413\n",
      "Number of frames in SpikeGLX Cam TTL: 716781\n"
     ]
    },
    {
     "data": {
      "image/png": "[encoded data removed]",
      "text/plain": [
       "<Figure size 2000x500 with 2 Axes>"
      ]
     },
     "metadata": {},
     "output_type": "display_data"
    },
    {
     "name": "stdout",
     "output_type": "stream",
     "text": [
      "Video Folders:\n",
      "['231223_Gandalf_173755', '231223_Gandalf_174137', '231223_Gandalf_180501']\n",
      "Number of cameras: 5\n",
      "  Camera: e3v831b | Number of videos: 5\n",
      "  Camera: e3v8360 | Number of videos: 5\n",
      "  Camera: e3v83ad | Number of videos: 5\n",
      "  Camera: e3v83c5 | Number of videos: 5\n",
      "  Camera: e3v83d6 | Number of videos: 5\n",
      "Camera: e3v831b\n",
      "  Video: e3v831b-20231223T173753-175754.avi | Frames: 144123 | FPS: 120.0 | Length (minutes): 20.02  \n",
      "  Video: e3v831b-20231223T175754-181754.avi | Frames: 144004 | FPS: 120.0 | Length (minutes): 20.0   \n",
      "  Video: e3v831b-20231223T181754-183755.avi | Frames: 144124 | FPS: 120.0 | Length (minutes): 20.02  \n",
      "  Video: e3v831b-20231223T183755-185756.avi | Frames: 144124 | FPS: 120.0 | Length (minutes): 20.02  \n",
      "  Video: e3v831b-20231223T185756-191726.avi | Frames: 140404 | FPS: 120.0 | Length (minutes): 19.5   \n",
      "  Total Frames: 716779\n",
      "Camera: e3v8360\n",
      "  Video: e3v8360-20231223T173753-175754.avi | Frames: 144123 | FPS: 120.0 | Length (minutes): 20.02  \n",
      "  Video: e3v8360-20231223T175754-181754.avi | Frames: 144004 | FPS: 120.0 | Length (minutes): 20.0   \n",
      "  Video: e3v8360-20231223T181754-183755.avi | Frames: 144124 | FPS: 120.0 | Length (minutes): 20.02  \n",
      "  Video: e3v8360-20231223T183755-185756.avi | Frames: 144124 | FPS: 120.0 | Length (minutes): 20.02  \n",
      "  Video: e3v8360-20231223T185756-191726.avi | Frames: 140405 | FPS: 120.0 | Length (minutes): 19.5   \n",
      "  Total Frames: 716780\n",
      "Camera: e3v83ad\n",
      "  Video: e3v83ad-20231223T173753-175754.avi | Frames: 144123 | FPS: 120.0 | Length (minutes): 20.02  \n",
      "  Video: e3v83ad-20231223T175754-181754.avi | Frames: 144004 | FPS: 120.0 | Length (minutes): 20.0   \n",
      "  Video: e3v83ad-20231223T181754-183755.avi | Frames: 144124 | FPS: 120.0 | Length (minutes): 20.02  \n",
      "  Video: e3v83ad-20231223T183755-185756.avi | Frames: 144124 | FPS: 120.0 | Length (minutes): 20.02  \n",
      "  Video: e3v83ad-20231223T185756-191726.avi | Frames: 140405 | FPS: 120.0 | Length (minutes): 19.5   \n",
      "  Total Frames: 716780\n",
      "Camera: e3v83c5\n",
      "  Video: e3v83c5-20231223T173753-175754.avi | Frames: 144123 | FPS: 120.0 | Length (minutes): 20.02  \n",
      "  Video: e3v83c5-20231223T175754-181755.avi | Frames: 144124 | FPS: 120.0 | Length (minutes): 20.02  \n",
      "  Video: e3v83c5-20231223T181755-183756.avi | Frames: 144124 | FPS: 120.0 | Length (minutes): 20.02  \n",
      "  Video: e3v83c5-20231223T183756-185756.avi | Frames: 144004 | FPS: 120.0 | Length (minutes): 20.0   \n",
      "  Video: e3v83c5-20231223T185756-191726.avi | Frames: 140404 | FPS: 120.0 | Length (minutes): 19.5   \n",
      "  Total Frames: 716779\n",
      "Camera: e3v83d6\n",
      "  Video: e3v83d6-20231223T173753-175754.avi | Frames: 144099 | FPS: 120.0 | Length (minutes): 20.01  \n",
      "  Video: e3v83d6-20231223T175754-181754.avi | Frames: 143977 | FPS: 120.0 | Length (minutes): 20.0   \n",
      "  Video: e3v83d6-20231223T181754-183755.avi | Frames: 144088 | FPS: 120.0 | Length (minutes): 20.01  \n",
      "  Video: e3v83d6-20231223T183755-185756.avi | Frames: 144053 | FPS: 120.0 | Length (minutes): 20.01  \n",
      "  Video: e3v83d6-20231223T185756-191726.avi | Frames: 140343 | FPS: 120.0 | Length (minutes): 19.49  \n",
      "  Total Frames: 716560\n",
      "SpikeGLX object created.\n",
      "Aligning photodiode signals from ML and SpikeGLX...\n",
      "0.0\n",
      "Epochs\n",
      "  Start trial\n",
      "  End trial\n"
     ]
    },
    {
     "data": {
      "application/vnd.jupyter.widget-view+json": {
       "model_id": "211868af350f4eea8067c222af3ce8ba",
       "version_major": 2,
       "version_minor": 0
      },
      "text/plain": [
       "Trial Number:   0%|          | 0/367 [00:00<?, ?it/s]"
      ]
     },
     "metadata": {},
     "output_type": "display_data"
    },
    {
     "name": "stdout",
     "output_type": "stream",
     "text": [
      "Trial 1 | Correlation: 0.991 | SGLX High Time: 114007 | ML High Time: 1006\n",
      "  Trial 1 | Epoch start 55997.65923972209 | Epoch end 106929.6592397221\n",
      "Trial 2 low on first approximation | Correlation: 0.037 | SGLX High Time: 664 | ML High Time: 252\n",
      "  Photodiode aligned. Correlation: 0.995 | Shift: 2\n",
      "  Trial 2 | Epoch start 106931.6592397221 | Epoch end 165109.6592397221\n",
      "Trial 3 low on first approximation | Correlation: -0.032 | SGLX High Time: 417 | ML High Time: 168\n",
      "  Photodiode aligned. Correlation: 0.995 | Shift: 0\n",
      "  Trial 3 | Epoch start 165109.6592397221 | Epoch end 184255.6592397221\n",
      "Trial 4 low on first approximation | Correlation: -0.095 | SGLX High Time: 276 | ML High Time: 719\n",
      "  Photodiode aligned. Correlation: 0.995 | Shift: 1\n",
      "  Trial 4 | Epoch start 184256.6592397221 | Epoch end 197667.6592397221\n",
      "Trial 5 low on first approximation | Correlation: -0.142 | SGLX High Time: 137 | ML High Time: 160\n",
      "  Photodiode aligned. Correlation: 0.995 | Shift: 0\n",
      "  Trial 5 | Epoch start 197667.6592397221 | Epoch end 208028.6592397221\n",
      "Trial 6 low on first approximation | Correlation: -0.053 | SGLX High Time: 503 | ML High Time: 235\n",
      "  Photodiode aligned. Correlation: 0.993 | Shift: 0\n",
      "  Trial 6 | Epoch start 208028.6592397221 | Epoch end 221937.6592397221\n",
      "Trial 7 | Correlation: 0.995 | SGLX High Time: 2741 | ML High Time: 371\n",
      "  Trial 7 | Epoch start 221937.12101773606 | Epoch end 234430.12101773606\n",
      "Trial 8 low on first approximation | Correlation: -0.123 | SGLX High Time: 776 | ML High Time: 489\n",
      "  Photodiode aligned. Correlation: 0.994 | Shift: 1\n",
      "  Trial 8 | Epoch start 234431.12101773606 | Epoch end 246908.12101773606\n",
      "Trial 9 low on first approximation | Correlation: -0.154 | SGLX High Time: 406 | ML High Time: 521\n",
      "  Photodiode aligned. Correlation: 0.994 | Shift: 1\n",
      "  Trial 9 | Epoch start 246909.12101773606 | Epoch end 261587.12101773606\n",
      "Trial 10 low on first approximation | Correlation: -0.07 | SGLX High Time: 543 | ML High Time: 322\n",
      "  Photodiode aligned. Correlation: 0.996 | Shift: -1\n",
      "  Trial 10 | Epoch start 261586.12101773606 | Epoch end 277584.12101773603\n",
      "Trial 11 | Correlation: 0.995 | SGLX High Time: 2274 | ML High Time: 137\n",
      "  Trial 11 | Epoch start 277583.77581298724 | Epoch end 287527.77581298724\n",
      "Trial 12 low on first approximation | Correlation: 0.018 | SGLX High Time: 168 | ML High Time: 119\n",
      "  Photodiode aligned. Correlation: 0.995 | Shift: 2\n",
      "  Trial 12 | Epoch start 287529.77581298724 | Epoch end 301488.77581298724\n",
      "Trial 13 low on first approximation | Correlation: -0.103 | SGLX High Time: 571 | ML High Time: 239\n",
      "  Photodiode aligned. Correlation: 0.995 | Shift: -1\n",
      "  Trial 13 | Epoch start 301487.77581298724 | Epoch end 311828.77581298724\n",
      "Trial 14 low on first approximation | Correlation: 0.019 | SGLX High Time: 1794 | ML High Time: 626\n",
      "  Photodiode aligned. Correlation: 0.996 | Shift: 1\n",
      "  Trial 14 | Epoch start 311829.77581298724 | Epoch end 321537.77581298724\n",
      "Trial 15 low on first approximation | Correlation: -0.099 | SGLX High Time: 45 | ML High Time: 288\n",
      "  Photodiode aligned. Correlation: 0.994 | Shift: 0\n",
      "  Trial 15 | Epoch start 321537.77581298724 | Epoch end 336583.77581298724\n",
      "Trial 16 | Correlation: 0.994 | SGLX High Time: 2840 | ML High Time: 421\n",
      "  Trial 16 | Epoch start 336582.4414191136 | Epoch end 350710.4414191136\n",
      "Trial 17 low on first approximation | Correlation: -0.051 | SGLX High Time: 408 | ML High Time: 106\n",
      "  Photodiode aligned. Correlation: 0.995 | Shift: 1\n",
      "  Trial 17 | Epoch start 350711.4414191136 | Epoch end 367725.4414191136\n",
      "Trial 18 low on first approximation | Correlation: 0.037 | SGLX High Time: 329 | ML High Time: 73\n",
      "  Photodiode aligned. Correlation: 0.996 | Shift: 1\n",
      "  Trial 18 | Epoch start 367726.4414191136 | Epoch end 380069.4414191136\n",
      "Trial 19 low on first approximation | Correlation: -0.115 | SGLX High Time: 873 | ML High Time: 105\n",
      "  Photodiode aligned. Correlation: 0.995 | Shift: -1\n",
      "  Trial 19 | Epoch start 380068.4414191136 | Epoch end 394765.4414191136\n",
      "Trial 20 low on first approximation | Correlation: -0.074 | SGLX High Time: 738 | ML High Time: 2\n",
      "  Photodiode aligned. Correlation: 0.995 | Shift: 1\n",
      "  Trial 20 | Epoch start 394766.4414191136 | Epoch end 405957.4414191136\n",
      "Trial 21 low on first approximation | Correlation: -0.04 | SGLX High Time: 106 | ML High Time: 25\n",
      "  Photodiode aligned. Correlation: 0.996 | Shift: 0\n",
      "  Trial 21 | Epoch start 405957.4414191136 | Epoch end 420819.4414191136\n",
      "Trial 22 low on first approximation | Correlation: 0.015 | SGLX High Time: 874 | ML High Time: 372\n",
      "  Photodiode aligned. Correlation: 0.993 | Shift: 0\n",
      "  Trial 22 | Epoch start 420819.4414191136 | Epoch end 431996.4414191136\n",
      "Trial 23 low on first approximation | Correlation: 0.017 | SGLX High Time: 145 | ML High Time: 4\n",
      "  Photodiode aligned. Correlation: 0.995 | Shift: 0\n",
      "  Trial 23 | Epoch start 431996.4414191136 | Epoch end 448009.4414191136\n",
      "Trial 24 low on first approximation | Correlation: 0.122 | SGLX High Time: 73 | ML High Time: 122\n",
      "  Photodiode aligned. Correlation: 0.995 | Shift: 1\n",
      "  Trial 24 | Epoch start 448010.4414191136 | Epoch end 464139.4414191136\n",
      "Trial 25 low on first approximation | Correlation: 0.1 | SGLX High Time: 1943 | ML High Time: 973\n",
      "  Photodiode aligned. Correlation: 0.994 | Shift: -1\n",
      "  Trial 25 | Epoch start 464138.4414191136 | Epoch end 478183.4414191136\n",
      "Trial 26 low on first approximation | Correlation: 0.011 | SGLX High Time: 1218 | ML High Time: 272\n",
      "  Photodiode aligned. Correlation: 0.995 | Shift: 1\n",
      "  Trial 26 | Epoch start 478184.4414191136 | Epoch end 492647.4414191136\n",
      "Trial 27 low on first approximation | Correlation: 0.163 | SGLX High Time: 245 | ML High Time: 220\n",
      "  Photodiode aligned. Correlation: 0.996 | Shift: -1\n",
      "  Trial 27 | Epoch start 492646.4414191136 | Epoch end 505673.4414191136\n",
      "Trial 28 low on first approximation | Correlation: 0.101 | SGLX High Time: 3 | ML High Time: 55\n",
      "  Photodiode aligned. Correlation: 0.996 | Shift: 1\n",
      "  Trial 28 | Epoch start 505674.4414191136 | Epoch end 521052.4414191136\n",
      "Trial 29 low on first approximation | Correlation: -0.052 | SGLX High Time: 221 | ML High Time: 172\n",
      "  Photodiode aligned. Correlation: 0.993 | Shift: 0\n",
      "  Trial 29 | Epoch start 521052.4414191136 | Epoch end 537417.4414191137\n",
      "Trial 30 low on first approximation | Correlation: 0.103 | SGLX High Time: 205 | ML High Time: 320\n",
      "  Photodiode aligned. Correlation: 0.995 | Shift: 1\n",
      "  Trial 30 | Epoch start 537418.4414191137 | Epoch end 550095.4414191137\n",
      "Trial 31 low on first approximation | Correlation: 0.304 | SGLX High Time: 1677 | ML High Time: 8\n",
      "  Photodiode aligned. Correlation: 0.995 | Shift: 0\n",
      "  Trial 31 | Epoch start 550095.4414191137 | Epoch end 561803.4414191137\n",
      "Trial 32 low on first approximation | Correlation: 0.052 | SGLX High Time: 216 | ML High Time: 658\n",
      "  Photodiode aligned. Correlation: 0.993 | Shift: -1\n",
      "  Trial 32 | Epoch start 561802.4414191137 | Epoch end 576866.4414191137\n",
      "Trial 33 low on first approximation | Correlation: -0.047 | SGLX High Time: 388 | ML High Time: 184\n",
      "  Photodiode aligned. Correlation: 0.995 | Shift: 1\n",
      "  Trial 33 | Epoch start 576867.4414191137 | Epoch end 588509.4414191137\n",
      "Trial 34 low on first approximation | Correlation: 0.038 | SGLX High Time: 1141 | ML High Time: 639\n",
      "  Photodiode aligned. Correlation: 0.994 | Shift: 0\n",
      "  Trial 34 | Epoch start 588509.4414191137 | Epoch end 603071.4414191137\n",
      "Trial 35 low on first approximation | Correlation: 0.07 | SGLX High Time: 607 | ML High Time: 272\n",
      "  Photodiode aligned. Correlation: 0.996 | Shift: 0\n",
      "  Trial 35 | Epoch start 603071.4414191137 | Epoch end 618617.4414191137\n",
      "Trial 36 low on first approximation | Correlation: -0.03 | SGLX High Time: 1208 | ML High Time: 772\n",
      "  Photodiode aligned. Correlation: 0.995 | Shift: 1\n",
      "  Trial 36 | Epoch start 618618.4414191137 | Epoch end 631930.4414191137\n",
      "Trial 37 low on first approximation | Correlation: -0.001 | SGLX High Time: 1639 | ML High Time: 373\n",
      "  Photodiode aligned. Correlation: 0.995 | Shift: -1\n",
      "  Trial 37 | Epoch start 631929.4414191137 | Epoch end 647142.4414191137\n",
      "Trial 38 low on first approximation | Correlation: -0.046 | SGLX High Time: 138 | ML High Time: 20\n",
      "  Photodiode aligned. Correlation: 0.993 | Shift: 1\n",
      "  Trial 38 | Epoch start 647143.4414191137 | Epoch end 663805.4414191137\n",
      "Trial 39 low on first approximation | Correlation: 0.022 | SGLX High Time: 442 | ML High Time: 522\n",
      "  Photodiode aligned. Correlation: 0.996 | Shift: 0\n",
      "  Trial 39 | Epoch start 663805.4414191137 | Epoch end 678884.4414191137\n",
      "Trial 40 low on first approximation | Correlation: 0.003 | SGLX High Time: 40 | ML High Time: 589\n",
      "  Photodiode aligned. Correlation: 0.995 | Shift: 1\n",
      "  Trial 40 | Epoch start 678885.4414191137 | Epoch end 693447.4414191137\n",
      "Trial 41 low on first approximation | Correlation: 0.093 | SGLX High Time: 893 | ML High Time: 408\n",
      "  Photodiode aligned. Correlation: 0.997 | Shift: -1\n",
      "  Trial 41 | Epoch start 693446.4414191137 | Epoch end 708976.4414191137\n",
      "Trial 42 low on first approximation | Correlation: -0.023 | SGLX High Time: 1475 | ML High Time: 138\n",
      "  Photodiode aligned. Correlation: 0.995 | Shift: 1\n",
      "  Trial 42 | Epoch start 708977.4414191137 | Epoch end 723940.4414191137\n",
      "Trial 43 low on first approximation | Correlation: 0.012 | SGLX High Time: 642 | ML High Time: 571\n",
      "  Photodiode aligned. Correlation: 0.994 | Shift: 0\n",
      "  Trial 43 | Epoch start 723940.4414191137 | Epoch end 736683.4414191137\n",
      "Trial 44 low on first approximation | Correlation: -0.064 | SGLX High Time: 106 | ML High Time: 44\n",
      "  Photodiode aligned. Correlation: 0.995 | Shift: 0\n",
      "  Trial 44 | Epoch start 736683.4414191137 | Epoch end 751912.4414191137\n",
      "Trial 45 low on first approximation | Correlation: -0.037 | SGLX High Time: 1114 | ML High Time: 171\n",
      "  Photodiode aligned. Correlation: 0.994 | Shift: 0\n",
      "  Trial 45 | Epoch start 751912.4414191137 | Epoch end 767091.4414191137\n",
      "Trial 46 low on first approximation | Correlation: 0.013 | SGLX High Time: 2 | ML High Time: 188\n",
      "  Photodiode aligned. Correlation: 0.996 | Shift: 0\n",
      "  Trial 46 | Epoch start 767091.4414191137 | Epoch end 778984.4414191137\n",
      "Trial 47 low on first approximation | Correlation: -0.18 | SGLX High Time: 610 | ML High Time: 355\n",
      "  Photodiode aligned. Correlation: 0.995 | Shift: 1\n",
      "  Trial 47 | Epoch start 778985.4414191137 | Epoch end 791213.4414191137\n",
      "Trial 48 low on first approximation | Correlation: 0.022 | SGLX High Time: 1337 | ML High Time: 787\n",
      "  Photodiode aligned. Correlation: 0.994 | Shift: -1\n",
      "  Trial 48 | Epoch start 791212.4414191137 | Epoch end 804321.4414191137\n",
      "Trial 49 low on first approximation | Correlation: -0.024 | SGLX High Time: 709 | ML High Time: 806\n",
      "  Photodiode aligned. Correlation: 0.995 | Shift: 1\n",
      "  Trial 49 | Epoch start 804322.4414191137 | Epoch end 818918.4414191137\n",
      "Trial 50 low on first approximation | Correlation: 0.14 | SGLX High Time: 1908 | ML High Time: 204\n",
      "  Photodiode aligned. Correlation: 0.995 | Shift: 0\n",
      "  Trial 50 | Epoch start 818918.4414191137 | Epoch end 834548.4414191137\n",
      "Trial 51 low on first approximation | Correlation: 0.049 | SGLX High Time: 506 | ML High Time: 21\n",
      "  Photodiode aligned. Correlation: 0.996 | Shift: 0\n",
      "  Trial 51 | Epoch start 834548.4414191137 | Epoch end 848809.4414191137\n",
      "Trial 52 | Correlation: 0.994 | SGLX High Time: 2551 | ML High Time: 276\n",
      "  Trial 52 | Epoch start 848808.8719185897 | Epoch end 860401.8719185897\n",
      "Trial 53 low on first approximation | Correlation: -0.155 | SGLX High Time: 1643 | ML High Time: 456\n",
      "  Photodiode aligned. Correlation: 0.995 | Shift: 1\n",
      "  Trial 53 | Epoch start 860402.8719185897 | Epoch end 876815.8719185897\n",
      "Trial 54 low on first approximation | Correlation: 0.036 | SGLX High Time: 74 | ML High Time: 18\n",
      "  Photodiode aligned. Correlation: 0.995 | Shift: 1\n",
      "  Trial 54 | Epoch start 876816.8719185897 | Epoch end 889828.8719185897\n",
      "Trial 55 low on first approximation | Correlation: -0.07 | SGLX High Time: 337 | ML High Time: 471\n",
      "  Photodiode aligned. Correlation: 0.994 | Shift: 0\n",
      "  Trial 55 | Epoch start 889828.8719185897 | Epoch end 904038.8719185897\n",
      "Trial 56 low on first approximation | Correlation: -0.092 | SGLX High Time: 140 | ML High Time: 890\n",
      "  Photodiode aligned. Correlation: 0.994 | Shift: 0\n",
      "  Trial 56 | Epoch start 904038.8719185897 | Epoch end 918433.8719185897\n",
      "Trial 57 low on first approximation | Correlation: -0.113 | SGLX High Time: 1143 | ML High Time: 89\n",
      "  Photodiode aligned. Correlation: 0.994 | Shift: 0\n",
      "  Trial 57 | Epoch start 918433.8719185897 | Epoch end 930277.8719185897\n",
      "Trial 58 low on first approximation | Correlation: 0.081 | SGLX High Time: 541 | ML High Time: 55\n",
      "  Photodiode aligned. Correlation: 0.995 | Shift: 1\n",
      "  Trial 58 | Epoch start 930278.8719185897 | Epoch end 941987.8719185897\n",
      "Trial 59 low on first approximation | Correlation: 0.174 | SGLX High Time: 1610 | ML High Time: 1108\n",
      "  Photodiode aligned. Correlation: 0.996 | Shift: -1\n",
      "  Trial 59 | Epoch start 941986.8719185897 | Epoch end 957984.8719185897\n",
      "Trial 60 low on first approximation | Correlation: -0.21 | SGLX High Time: 1139 | ML High Time: 170\n",
      "  Photodiode aligned. Correlation: 0.994 | Shift: 1\n",
      "  Trial 60 | Epoch start 957985.8719185897 | Epoch end 969494.8719185897\n",
      "Trial 61 low on first approximation | Correlation: 0.837 | SGLX High Time: 1952 | ML High Time: 7\n",
      "  Photodiode aligned. Correlation: 0.994 | Shift: 0\n",
      "  Trial 61 | Epoch start 969494.8719185897 | Epoch end 985024.8719185897\n",
      "Trial 62 low on first approximation | Correlation: 0.113 | SGLX High Time: 871 | ML High Time: 1088\n",
      "  Photodiode aligned. Correlation: 0.994 | Shift: 0\n",
      "  Trial 62 | Epoch start 985024.8719185897 | Epoch end 998734.8719185897\n",
      "Trial 63 low on first approximation | Correlation: 0.102 | SGLX High Time: 840 | ML High Time: 246\n",
      "  Photodiode aligned. Correlation: 0.996 | Shift: 0\n",
      "  Trial 63 | Epoch start 998734.8719185897 | Epoch end 1011346.8719185897\n",
      "Trial 64 low on first approximation | Correlation: -0.052 | SGLX High Time: 1206 | ML High Time: 120\n",
      "  Photodiode aligned. Correlation: 0.994 | Shift: 0\n",
      "  Trial 64 | Epoch start 1011346.8719185897 | Epoch end 1029176.8719185897\n",
      "Trial 65 low on first approximation | Correlation: -0.02 | SGLX High Time: 440 | ML High Time: 131\n",
      "  Photodiode aligned. Correlation: 0.994 | Shift: 1\n",
      "  Trial 65 | Epoch start 1029177.8719185897 | Epoch end 1043988.8719185897\n",
      "Trial 66 low on first approximation | Correlation: 0.019 | SGLX High Time: 908 | ML High Time: 256\n",
      "  Photodiode aligned. Correlation: 0.995 | Shift: 0\n",
      "  Trial 66 | Epoch start 1043988.8719185897 | Epoch end 1059284.8719185898\n",
      "Trial 67 low on first approximation | Correlation: -0.07 | SGLX High Time: 1448 | ML High Time: 23\n",
      "  Photodiode aligned. Correlation: 0.994 | Shift: 0\n",
      "  Trial 67 | Epoch start 1059284.8719185898 | Epoch end 1075131.8719185898\n",
      "Trial 68 low on first approximation | Correlation: 0.046 | SGLX High Time: 307 | ML High Time: 455\n",
      "  Photodiode aligned. Correlation: 0.996 | Shift: 0\n",
      "  Trial 68 | Epoch start 1075131.8719185898 | Epoch end 1089394.8719185898\n",
      "Trial 69 low on first approximation | Correlation: 0.041 | SGLX High Time: 1172 | ML High Time: 111\n",
      "  Photodiode aligned. Correlation: 0.994 | Shift: 1\n",
      "  Trial 69 | Epoch start 1089395.8719185898 | Epoch end 1106875.8719185898\n",
      "Trial 70 low on first approximation | Correlation: 0.059 | SGLX High Time: 974 | ML High Time: 1225\n",
      "  Photodiode aligned. Correlation: 0.995 | Shift: 0\n",
      "  Trial 70 | Epoch start 1106875.8719185898 | Epoch end 1121821.8719185898\n",
      "Trial 71 low on first approximation | Correlation: -0.085 | SGLX High Time: 271 | ML High Time: 538\n",
      "  Photodiode aligned. Correlation: 0.995 | Shift: -1\n",
      "  Trial 71 | Epoch start 1121820.8719185898 | Epoch end 1136149.8719185898\n",
      "Trial 72 low on first approximation | Correlation: 0.013 | SGLX High Time: 1306 | ML High Time: 37\n",
      "  Photodiode aligned. Correlation: 0.995 | Shift: 1\n",
      "  Trial 72 | Epoch start 1136150.8719185898 | Epoch end 1146141.8719185898\n",
      "Trial 73 | Correlation: 0.99 | SGLX High Time: 2276 | ML High Time: 139\n",
      "  Trial 73 | Epoch start 1146140.702132348 | Epoch end 1159600.702132348\n",
      "Trial 74 low on first approximation | Correlation: 0.046 | SGLX High Time: 485 | ML High Time: 189\n",
      "  Photodiode aligned. Correlation: 0.996 | Shift: 2\n",
      "  Trial 74 | Epoch start 1159602.702132348 | Epoch end 1173265.702132348\n",
      "Trial 75 low on first approximation | Correlation: 0.032 | SGLX High Time: 248 | ML High Time: 40\n",
      "  Photodiode aligned. Correlation: 0.993 | Shift: 0\n",
      "  Trial 75 | Epoch start 1173265.702132348 | Epoch end 1183623.702132348\n",
      "Trial 76 low on first approximation | Correlation: -0.079 | SGLX High Time: 404 | ML High Time: 554\n",
      "  Photodiode aligned. Correlation: 0.995 | Shift: 0\n",
      "  Trial 76 | Epoch start 1183623.702132348 | Epoch end 1200286.702132348\n",
      "Trial 77 low on first approximation | Correlation: -0.045 | SGLX High Time: 981 | ML High Time: 606\n",
      "  Photodiode aligned. Correlation: 0.994 | Shift: -1\n",
      "  Trial 77 | Epoch start 1200285.702132348 | Epoch end 1215231.702132348\n",
      "Trial 78 low on first approximation | Correlation: -0.026 | SGLX High Time: 1076 | ML High Time: 922\n",
      "  Photodiode aligned. Correlation: 0.996 | Shift: 1\n",
      "  Trial 78 | Epoch start 1215232.702132348 | Epoch end 1228093.702132348\n",
      "Trial 79 low on first approximation | Correlation: 0.16 | SGLX High Time: 1073 | ML High Time: 438\n",
      "  Photodiode aligned. Correlation: 0.995 | Shift: 0\n",
      "  Trial 79 | Epoch start 1228093.702132348 | Epoch end 1244006.702132348\n",
      "Trial 80 | Correlation: 0.992 | SGLX High Time: 2546 | ML High Time: 274\n",
      "  Trial 80 | Epoch start 1244005.4758947159 | Epoch end 1259500.4758947159\n",
      "Trial 81 low on first approximation | Correlation: -0.083 | SGLX High Time: 1078 | ML High Time: 238\n",
      "  Photodiode aligned. Correlation: 0.992 | Shift: 2\n",
      "  Trial 81 | Epoch start 1259502.4758947159 | Epoch end 1271712.4758947159\n",
      "Trial 82 low on first approximation | Correlation: 0.099 | SGLX High Time: 444 | ML High Time: 288\n",
      "  Photodiode aligned. Correlation: 0.991 | Shift: -1\n",
      "  Trial 82 | Epoch start 1271711.4758947159 | Epoch end 1286523.4758947159\n",
      "Trial 83 low on first approximation | Correlation: 0.11 | SGLX High Time: 415 | ML High Time: 472\n",
      "  Photodiode aligned. Correlation: 0.995 | Shift: 1\n",
      "  Trial 83 | Epoch start 1286524.4758947159 | Epoch end 1299835.4758947159\n",
      "Trial 84 low on first approximation | Correlation: 0.067 | SGLX High Time: 4 | ML High Time: 256\n",
      "  Photodiode aligned. Correlation: 0.994 | Shift: 1\n",
      "  Trial 84 | Epoch start 1299836.4758947159 | Epoch end 1314598.4758947159\n",
      "Trial 85 low on first approximation | Correlation: -0.09 | SGLX High Time: 627 | ML High Time: 289\n",
      "  Photodiode aligned. Correlation: 0.996 | Shift: -1\n",
      "  Trial 85 | Epoch start 1314597.4758947159 | Epoch end 1325140.4758947159\n",
      "Trial 86 low on first approximation | Correlation: -0.102 | SGLX High Time: 6 | ML High Time: 706\n",
      "  Photodiode aligned. Correlation: 0.995 | Shift: 0\n",
      "  Trial 86 | Epoch start 1325140.4758947159 | Epoch end 1336900.4758947159\n",
      "Trial 87 low on first approximation | Correlation: -0.135 | SGLX High Time: 1607 | ML High Time: 1289\n",
      "  Photodiode aligned. Correlation: 0.995 | Shift: 1\n",
      "  Trial 87 | Epoch start 1336901.4758947159 | Epoch end 1347776.4758947159\n",
      "Trial 88 low on first approximation | Correlation: -0.204 | SGLX High Time: 806 | ML High Time: 38\n",
      "  Photodiode aligned. Correlation: 0.994 | Shift: 0\n",
      "  Trial 88 | Epoch start 1347776.4758947159 | Epoch end 1362071.4758947159\n",
      "Trial 89 | Correlation: 0.995 | SGLX High Time: 2444 | ML High Time: 223\n",
      "  Trial 89 | Epoch start 1362070.305566349 | Epoch end 1375848.305566349\n",
      "Trial 90 low on first approximation | Correlation: 0.087 | SGLX High Time: 545 | ML High Time: 144\n",
      "  Photodiode aligned. Correlation: 0.992 | Shift: 2\n",
      "  Trial 90 | Epoch start 1375850.305566349 | Epoch end 1392515.305566349\n",
      "Trial 91 low on first approximation | Correlation: -0.03 | SGLX High Time: 1637 | ML High Time: 153\n",
      "  Photodiode aligned. Correlation: 0.995 | Shift: 0\n",
      "  Trial 91 | Epoch start 1392515.305566349 | Epoch end 1408310.305566349\n",
      "Trial 92 low on first approximation | Correlation: -0.021 | SGLX High Time: 171 | ML High Time: 221\n",
      "  Photodiode aligned. Correlation: 0.995 | Shift: 1\n",
      "  Trial 92 | Epoch start 1408311.305566349 | Epoch end 1424358.305566349\n",
      "Trial 93 low on first approximation | Correlation: -0.019 | SGLX High Time: 1339 | ML High Time: 372\n",
      "  Photodiode aligned. Correlation: 0.995 | Shift: -1\n",
      "  Trial 93 | Epoch start 1424357.305566349 | Epoch end 1438417.305566349\n",
      "Trial 94 low on first approximation | Correlation: -0.109 | SGLX High Time: 341 | ML High Time: 258\n",
      "  Photodiode aligned. Correlation: 0.995 | Shift: 1\n",
      "  Trial 94 | Epoch start 1438418.305566349 | Epoch end 1452730.305566349\n",
      "Trial 95 low on first approximation | Correlation: -0.098 | SGLX High Time: 2 | ML High Time: 88\n",
      "  Photodiode aligned. Correlation: 0.995 | Shift: -1\n",
      "  Trial 95 | Epoch start 1452729.305566349 | Epoch end 1466124.305566349\n",
      "Trial 96 low on first approximation | Correlation: 0.15 | SGLX High Time: 340 | ML High Time: 473\n",
      "  Photodiode aligned. Correlation: 0.993 | Shift: 1\n",
      "  Trial 96 | Epoch start 1466125.305566349 | Epoch end 1481204.305566349\n",
      "Trial 97 low on first approximation | Correlation: 0.001 | SGLX High Time: 44 | ML High Time: 540\n",
      "  Photodiode aligned. Correlation: 0.994 | Shift: -1\n",
      "  Trial 97 | Epoch start 1481203.305566349 | Epoch end 1494981.305566349\n",
      "Trial 98 low on first approximation | Correlation: 0.024 | SGLX High Time: 714 | ML High Time: 138\n",
      "  Photodiode aligned. Correlation: 0.995 | Shift: 1\n",
      "  Trial 98 | Epoch start 1494982.305566349 | Epoch end 1509928.305566349\n",
      "Trial 99 low on first approximation | Correlation: -0.071 | SGLX High Time: 826 | ML High Time: 2\n",
      "  Photodiode aligned. Correlation: 0.994 | Shift: 0\n",
      "  Trial 99 | Epoch start 1509928.305566349 | Epoch end 1529762.305566349\n",
      "Trial 100 low on first approximation | Correlation: -0.039 | SGLX High Time: 1704 | ML High Time: 320\n",
      "  Photodiode aligned. Correlation: 0.995 | Shift: 0\n",
      "  Trial 100 | Epoch start 1529762.305566349 | Epoch end 1540354.305566349\n",
      "Trial 101 low on first approximation | Correlation: -0.123 | SGLX High Time: 215 | ML High Time: 987\n",
      "  Photodiode aligned. Correlation: 0.995 | Shift: 1\n",
      "  Trial 101 | Epoch start 1540355.305566349 | Epoch end 1552980.305566349\n",
      "Trial 102 low on first approximation | Correlation: -0.163 | SGLX High Time: 1283 | ML High Time: 260\n",
      "  Photodiode aligned. Correlation: 0.995 | Shift: 0\n",
      "  Trial 102 | Epoch start 1552980.305566349 | Epoch end 1567142.305566349\n",
      "Trial 103 low on first approximation | Correlation: -0.163 | SGLX High Time: 1285 | ML High Time: 1143\n",
      "  Photodiode aligned. Correlation: 0.995 | Shift: 1\n",
      "  Trial 103 | Epoch start 1567143.305566349 | Epoch end 1583507.305566349\n",
      "Trial 104 | Correlation: 0.993 | SGLX High Time: 3731 | ML High Time: 865\n",
      "  Trial 104 | Epoch start 1583507.4259443718 | Epoch end 1594983.4259443718\n",
      "Trial 105 low on first approximation | Correlation: 0.017 | SGLX High Time: 1337 | ML High Time: 188\n",
      "  Photodiode aligned. Correlation: 0.995 | Shift: -1\n",
      "  Trial 105 | Epoch start 1594982.4259443718 | Epoch end 1607960.4259443718\n",
      "Trial 106 | Correlation: 0.994 | SGLX High Time: 2782 | ML High Time: 391\n",
      "  Trial 106 | Epoch start 1607959.992928499 | Epoch end 1624287.992928499\n",
      "Trial 107 low on first approximation | Correlation: 0.26 | SGLX High Time: 1714 | ML High Time: 89\n",
      "  Photodiode aligned. Correlation: 0.994 | Shift: 1\n",
      "  Trial 107 | Epoch start 1624288.992928499 | Epoch end 1640185.992928499\n",
      "Trial 108 | Correlation: 0.99 | SGLX High Time: 2047 | ML High Time: 25\n",
      "  Trial 108 | Epoch start 1640184.0819240704 | Epoch end 1654279.0819240704\n",
      "Trial 109 low on first approximation | Correlation: -0.141 | SGLX High Time: 1079 | ML High Time: 74\n",
      "  Photodiode aligned. Correlation: 0.995 | Shift: 2\n",
      "  Trial 109 | Epoch start 1654281.0819240704 | Epoch end 1666475.0819240704\n",
      "Trial 110 low on first approximation | Correlation: -0.165 | SGLX High Time: 213 | ML High Time: 455\n",
      "  Photodiode aligned. Correlation: 0.995 | Shift: 1\n",
      "  Trial 110 | Epoch start 1666476.0819240704 | Epoch end 1682339.0819240704\n",
      "Trial 111 low on first approximation | Correlation: 0.087 | SGLX High Time: 1706 | ML High Time: 257\n",
      "  Photodiode aligned. Correlation: 0.994 | Shift: -1\n",
      "  Trial 111 | Epoch start 1682338.0819240704 | Epoch end 1694234.0819240704\n",
      "Trial 112 | Correlation: 0.992 | SGLX High Time: 2302 | ML High Time: 151\n",
      "  Trial 112 | Epoch start 1694233.7332637524 | Epoch end 1709976.7332637524\n",
      "Trial 113 low on first approximation | Correlation: -0.209 | SGLX High Time: 241 | ML High Time: 539\n",
      "  Photodiode aligned. Correlation: 0.995 | Shift: 2\n",
      "  Trial 113 | Epoch start 1709978.7332637524 | Epoch end 1721972.7332637524\n",
      "Trial 114 low on first approximation | Correlation: 0.248 | SGLX High Time: 43 | ML High Time: 220\n",
      "  Photodiode aligned. Correlation: 0.995 | Shift: -1\n",
      "  Trial 114 | Epoch start 1721971.7332637524 | Epoch end 1735048.7332637524\n",
      "Trial 115 low on first approximation | Correlation: 0.073 | SGLX High Time: 1050 | ML High Time: 354\n",
      "  Photodiode aligned. Correlation: 0.996 | Shift: 1\n",
      "  Trial 115 | Epoch start 1735049.7332637524 | Epoch end 1748209.7332637524\n",
      "Trial 116 low on first approximation | Correlation: 0.175 | SGLX High Time: 272 | ML High Time: 372\n",
      "  Photodiode aligned. Correlation: 0.995 | Shift: 1\n",
      "  Trial 116 | Epoch start 1748210.7332637524 | Epoch end 1764807.7332637524\n",
      "Trial 117 low on first approximation | Correlation: 0.057 | SGLX High Time: 1152 | ML High Time: 666\n",
      "  Photodiode aligned. Correlation: 0.996 | Shift: -1\n",
      "  Trial 117 | Epoch start 1764806.7332637524 | Epoch end 1779469.7332637524\n",
      "Trial 118 low on first approximation | Correlation: 0.019 | SGLX High Time: 252 | ML High Time: 274\n",
      "  Photodiode aligned. Correlation: 0.995 | Shift: 0\n",
      "  Trial 118 | Epoch start 1779469.7332637524 | Epoch end 1794047.7332637524\n",
      "Trial 119 low on first approximation | Correlation: 0.164 | SGLX High Time: 606 | ML High Time: 172\n",
      "  Photodiode aligned. Correlation: 0.994 | Shift: 0\n",
      "  Trial 119 | Epoch start 1794047.7332637524 | Epoch end 1808108.7332637524\n",
      "Trial 120 low on first approximation | Correlation: -0.194 | SGLX High Time: 414 | ML High Time: 643\n",
      "  Photodiode aligned. Correlation: 0.996 | Shift: 1\n",
      "  Trial 120 | Epoch start 1808109.7332637524 | Epoch end 1823689.7332637524\n",
      "Trial 121 low on first approximation | Correlation: -0.105 | SGLX High Time: 1192 | ML High Time: 75\n",
      "  Photodiode aligned. Correlation: 0.994 | Shift: 0\n",
      "  Trial 121 | Epoch start 1823689.7332637524 | Epoch end 1834182.7332637524\n",
      "Trial 122 low on first approximation | Correlation: 0.155 | SGLX High Time: 1470 | ML High Time: 673\n",
      "  Photodiode aligned. Correlation: 0.994 | Shift: -1\n",
      "  Trial 122 | Epoch start 1834181.7332637524 | Epoch end 1844822.7332637524\n",
      "Trial 123 | Correlation: 0.992 | SGLX High Time: 2285 | ML High Time: 143\n",
      "  Trial 123 | Epoch start 1844822.1539101575 | Epoch end 1859050.1539101575\n",
      "Trial 124 low on first approximation | Correlation: -0.142 | SGLX High Time: 377 | ML High Time: 325\n",
      "  Photodiode aligned. Correlation: 0.995 | Shift: 2\n",
      "  Trial 124 | Epoch start 1859052.1539101575 | Epoch end 1871347.1539101575\n",
      "Trial 125 low on first approximation | Correlation: 0.135 | SGLX High Time: 177 | ML High Time: 204\n",
      "  Photodiode aligned. Correlation: 0.994 | Shift: 0\n",
      "  Trial 125 | Epoch start 1871347.1539101575 | Epoch end 1886192.1539101575\n",
      "Trial 126 low on first approximation | Correlation: -0.05 | SGLX High Time: 243 | ML High Time: 4\n",
      "  Photodiode aligned. Correlation: 0.993 | Shift: 0\n",
      "  Trial 126 | Epoch start 1886192.1539101575 | Epoch end 1900136.1539101575\n",
      "Trial 127 low on first approximation | Correlation: 0.032 | SGLX High Time: 944 | ML High Time: 21\n",
      "  Photodiode aligned. Correlation: 0.994 | Shift: 0\n",
      "  Trial 127 | Epoch start 1900136.1539101575 | Epoch end 1915165.1539101575\n",
      "Trial 128 low on first approximation | Correlation: -0.126 | SGLX High Time: 1184 | ML High Time: 6\n",
      "  Photodiode aligned. Correlation: 0.996 | Shift: 1\n",
      "  Trial 128 | Epoch start 1915166.1539101575 | Epoch end 1931329.1539101575\n",
      "Trial 129 low on first approximation | Correlation: -0.128 | SGLX High Time: 5 | ML High Time: 25\n",
      "  Photodiode aligned. Correlation: 0.995 | Shift: -1\n",
      "  Trial 129 | Epoch start 1931328.1539101575 | Epoch end 1943122.1539101575\n",
      "Trial 130 low on first approximation | Correlation: 0.093 | SGLX High Time: 373 | ML High Time: 154\n",
      "  Photodiode aligned. Correlation: 0.993 | Shift: 0\n",
      "  Trial 130 | Epoch start 1943122.1539101575 | Epoch end 1957467.1539101575\n",
      "Trial 131 low on first approximation | Correlation: 0.101 | SGLX High Time: 1644 | ML High Time: 322\n",
      "  Photodiode aligned. Correlation: 0.993 | Shift: 1\n",
      "  Trial 131 | Epoch start 1957468.1539101575 | Epoch end 1969344.1539101575\n",
      "Trial 132 low on first approximation | Correlation: 0.077 | SGLX High Time: 240 | ML High Time: 88\n",
      "  Photodiode aligned. Correlation: 0.994 | Shift: 0\n",
      "  Trial 132 | Epoch start 1969344.1539101575 | Epoch end 1981254.1539101575\n",
      "Trial 133 low on first approximation | Correlation: -0.216 | SGLX High Time: 379 | ML High Time: 338\n",
      "  Photodiode aligned. Correlation: 0.994 | Shift: 0\n",
      "  Trial 133 | Epoch start 1981254.1539101575 | Epoch end 1995281.1539101575\n",
      "Trial 134 low on first approximation | Correlation: -0.194 | SGLX High Time: 819 | ML High Time: 442\n",
      "  Photodiode aligned. Correlation: 0.994 | Shift: 0\n",
      "  Trial 134 | Epoch start 1995281.1539101575 | Epoch end 2009227.1539101575\n",
      "Trial 135 low on first approximation | Correlation: -0.16 | SGLX High Time: 406 | ML High Time: 387\n",
      "  Photodiode aligned. Correlation: 0.995 | Shift: 1\n",
      "  Trial 135 | Epoch start 2009228.1539101575 | Epoch end 2023021.1539101575\n",
      "Trial 136 low on first approximation | Correlation: -0.084 | SGLX High Time: 1108 | ML High Time: 506\n",
      "  Photodiode aligned. Correlation: 0.995 | Shift: -1\n",
      "  Trial 136 | Epoch start 2023020.1539101575 | Epoch end 2038717.1539101575\n",
      "Trial 137 low on first approximation | Correlation: -0.02 | SGLX High Time: 76 | ML High Time: 230\n",
      "  Photodiode aligned. Correlation: 0.993 | Shift: 2\n",
      "  Trial 137 | Epoch start 2038719.1539101575 | Epoch end 2051681.1539101575\n",
      "Trial 138 low on first approximation | Correlation: -0.094 | SGLX High Time: 1471 | ML High Time: 188\n",
      "  Photodiode aligned. Correlation: 0.995 | Shift: -1\n",
      "  Trial 138 | Epoch start 2051680.1539101575 | Epoch end 2065158.1539101575\n",
      "Trial 139 low on first approximation | Correlation: -0.164 | SGLX High Time: 1740 | ML High Time: 554\n",
      "  Photodiode aligned. Correlation: 0.995 | Shift: 1\n",
      "  Trial 139 | Epoch start 2065159.1539101575 | Epoch end 2078769.1539101575\n",
      "Trial 140 low on first approximation | Correlation: -0.173 | SGLX High Time: 705 | ML High Time: 75\n",
      "  Photodiode aligned. Correlation: 0.994 | Shift: 0\n",
      "  Trial 140 | Epoch start 2078769.1539101575 | Epoch end 2093097.1539101575\n",
      "Trial 141 low on first approximation | Correlation: 0.152 | SGLX High Time: 1443 | ML High Time: 188\n",
      "  Photodiode aligned. Correlation: 0.995 | Shift: -1\n",
      "  Trial 141 | Epoch start 2093096.1539101575 | Epoch end 2107274.1539101573\n",
      "Trial 142 low on first approximation | Correlation: -0.113 | SGLX High Time: 1 | ML High Time: 630\n",
      "  Photodiode aligned. Correlation: 0.994 | Shift: 1\n",
      "  Trial 142 | Epoch start 2107275.1539101573 | Epoch end 2123989.1539101573\n",
      "Trial 143 low on first approximation | Correlation: -0.185 | SGLX High Time: 408 | ML High Time: 141\n",
      "  Photodiode aligned. Correlation: 0.995 | Shift: 0\n",
      "  Trial 143 | Epoch start 2123989.1539101573 | Epoch end 2139953.1539101573\n",
      "Trial 144 low on first approximation | Correlation: -0.067 | SGLX High Time: 1040 | ML High Time: 1\n",
      "  Photodiode aligned. Correlation: 0.995 | Shift: 0\n",
      "  Trial 144 | Epoch start 2139953.1539101573 | Epoch end 2154364.1539101573\n",
      "Trial 145 low on first approximation | Correlation: 0.077 | SGLX High Time: 1041 | ML High Time: 122\n",
      "  Photodiode aligned. Correlation: 0.994 | Shift: 1\n",
      "  Trial 145 | Epoch start 2154365.1539101573 | Epoch end 2169629.1539101573\n",
      "Trial 146 low on first approximation | Correlation: -0.029 | SGLX High Time: 803 | ML High Time: 307\n",
      "  Photodiode aligned. Correlation: 0.994 | Shift: 0\n",
      "  Trial 146 | Epoch start 2169629.1539101573 | Epoch end 2182438.1539101573\n",
      "Trial 147 low on first approximation | Correlation: 0.082 | SGLX High Time: 1742 | ML High Time: 323\n",
      "  Photodiode aligned. Correlation: 0.994 | Shift: 0\n",
      "  Trial 147 | Epoch start 2182438.1539101573 | Epoch end 2197751.1539101573\n",
      "Trial 148 low on first approximation | Correlation: 0.074 | SGLX High Time: 572 | ML High Time: 218\n",
      "  Photodiode aligned. Correlation: 0.994 | Shift: -1\n",
      "  Trial 148 | Epoch start 2197750.1539101573 | Epoch end 2214497.1539101573\n",
      "Trial 149 low on first approximation | Correlation: -0.031 | SGLX High Time: 547 | ML High Time: 632\n",
      "  Photodiode aligned. Correlation: 0.995 | Shift: 2\n",
      "  Trial 149 | Epoch start 2214499.1539101573 | Epoch end 2229594.1539101573\n",
      "Trial 150 low on first approximation | Correlation: 0.156 | SGLX High Time: 1040 | ML High Time: 372\n",
      "  Photodiode aligned. Correlation: 0.994 | Shift: -1\n",
      "  Trial 150 | Epoch start 2229593.1539101573 | Epoch end 2245273.1539101573\n",
      "Trial 151 | Correlation: 0.995 | SGLX High Time: 2243 | ML High Time: 121\n",
      "  Trial 151 | Epoch start 2245273.2725089 | Epoch end 2262655.2725089\n",
      "Trial 152 low on first approximation | Correlation: 0.008 | SGLX High Time: 439 | ML High Time: 154\n",
      "  Photodiode aligned. Correlation: 0.995 | Shift: 1\n",
      "  Trial 152 | Epoch start 2262656.2725089 | Epoch end 2275832.2725089\n",
      "Trial 153 low on first approximation | Correlation: 0.107 | SGLX High Time: 241 | ML High Time: 50\n",
      "  Photodiode aligned. Correlation: 0.996 | Shift: 0\n",
      "  Trial 153 | Epoch start 2275832.2725089 | Epoch end 2289077.2725089\n",
      "Trial 154 low on first approximation | Correlation: -0.061 | SGLX High Time: 8 | ML High Time: 304\n",
      "  Photodiode aligned. Correlation: 0.994 | Shift: 1\n",
      "  Trial 154 | Epoch start 2289078.2725089 | Epoch end 2306058.2725089\n",
      "Trial 155 low on first approximation | Correlation: 0.112 | SGLX High Time: 1473 | ML High Time: 188\n",
      "  Photodiode aligned. Correlation: 0.994 | Shift: -1\n",
      "  Trial 155 | Epoch start 2306057.2725089 | Epoch end 2317485.2725089\n",
      "Trial 156 low on first approximation | Correlation: -0.227 | SGLX High Time: 1505 | ML High Time: 304\n",
      "  Photodiode aligned. Correlation: 0.996 | Shift: 1\n",
      "  Trial 156 | Epoch start 2317486.2725089 | Epoch end 2330613.2725089\n",
      "Trial 157 low on first approximation | Correlation: -0.068 | SGLX High Time: 4 | ML High Time: 37\n",
      "  Photodiode aligned. Correlation: 0.994 | Shift: -1\n",
      "  Trial 157 | Epoch start 2330612.2725089 | Epoch end 2344673.2725089\n",
      "Trial 158 low on first approximation | Correlation: 0.021 | SGLX High Time: 808 | ML High Time: 404\n",
      "  Photodiode aligned. Correlation: 0.996 | Shift: 1\n",
      "  Trial 158 | Epoch start 2344674.2725089 | Epoch end 2361171.2725089\n",
      "Trial 159 low on first approximation | Correlation: -0.026 | SGLX High Time: 172 | ML High Time: 122\n",
      "  Photodiode aligned. Correlation: 0.993 | Shift: 0\n",
      "  Trial 159 | Epoch start 2361171.2725089 | Epoch end 2375532.2725089\n",
      "Trial 160 low on first approximation | Correlation: 0.107 | SGLX High Time: 626 | ML High Time: 222\n",
      "  Photodiode aligned. Correlation: 0.996 | Shift: 0\n",
      "  Trial 160 | Epoch start 2375532.2725089 | Epoch end 2390862.2725089\n",
      "Trial 161 low on first approximation | Correlation: 0.032 | SGLX High Time: 605 | ML High Time: 225\n",
      "  Photodiode aligned. Correlation: 0.995 | Shift: 0\n",
      "  Trial 161 | Epoch start 2390862.2725089 | Epoch end 2407092.2725089\n",
      "Trial 162 low on first approximation | Correlation: 0.302 | SGLX High Time: 1611 | ML High Time: 4\n",
      "  Photodiode aligned. Correlation: 0.994 | Shift: 1\n",
      "  Trial 162 | Epoch start 2407093.2725089 | Epoch end 2423538.2725089\n",
      "Trial 163 low on first approximation | Correlation: -0.158 | SGLX High Time: 689 | ML High Time: 260\n",
      "  Photodiode aligned. Correlation: 0.994 | Shift: 0\n",
      "  Trial 163 | Epoch start 2423538.2725089 | Epoch end 2438835.2725089\n",
      "Trial 164 low on first approximation | Correlation: -0.056 | SGLX High Time: 174 | ML High Time: 842\n",
      "  Photodiode aligned. Correlation: 0.994 | Shift: 1\n",
      "  Trial 164 | Epoch start 2438836.2725089 | Epoch end 2453899.2725089\n",
      "Trial 165 low on first approximation | Correlation: 0.013 | SGLX High Time: 1337 | ML High Time: 305\n",
      "  Photodiode aligned. Correlation: 0.994 | Shift: -1\n",
      "  Trial 165 | Epoch start 2453898.2725089 | Epoch end 2468227.2725089\n",
      "Trial 166 low on first approximation | Correlation: -0.018 | SGLX High Time: 1439 | ML High Time: 192\n",
      "  Photodiode aligned. Correlation: 0.994 | Shift: 1\n",
      "  Trial 166 | Epoch start 2468228.2725089 | Epoch end 2485525.2725089\n",
      "Trial 167 low on first approximation | Correlation: -0.083 | SGLX High Time: 375 | ML High Time: 137\n",
      "  Photodiode aligned. Correlation: 0.994 | Shift: 0\n",
      "  Trial 167 | Epoch start 2485525.2725089 | Epoch end 2496883.2725089\n",
      "Trial 168 low on first approximation | Correlation: 0.101 | SGLX High Time: 307 | ML High Time: 72\n",
      "  Photodiode aligned. Correlation: 0.994 | Shift: 0\n",
      "  Trial 168 | Epoch start 2496883.2725089 | Epoch end 2510878.2725089\n",
      "Trial 169 low on first approximation | Correlation: 0.045 | SGLX High Time: 106 | ML High Time: 338\n",
      "  Photodiode aligned. Correlation: 0.994 | Shift: 0\n",
      "  Trial 169 | Epoch start 2510878.2725089 | Epoch end 2522705.2725089\n",
      "Trial 170 low on first approximation | Correlation: -0.023 | SGLX High Time: 13 | ML High Time: 204\n",
      "  Photodiode aligned. Correlation: 0.994 | Shift: 0\n",
      "  Trial 170 | Epoch start 2522705.2725089 | Epoch end 2535750.2725089\n",
      "Trial 171 low on first approximation | Correlation: 0.042 | SGLX High Time: 905 | ML High Time: 163\n",
      "  Photodiode aligned. Correlation: 0.993 | Shift: 0\n",
      "  Trial 171 | Epoch start 2535750.2725089 | Epoch end 2547759.2725089\n",
      "Trial 172 low on first approximation | Correlation: 0.192 | SGLX High Time: 373 | ML High Time: 271\n",
      "  Photodiode aligned. Correlation: 0.994 | Shift: 0\n",
      "  Trial 172 | Epoch start 2547759.2725089 | Epoch end 2559084.2725089\n",
      "Trial 173 low on first approximation | Correlation: -0.112 | SGLX High Time: 575 | ML High Time: 288\n",
      "  Photodiode aligned. Correlation: 0.995 | Shift: 1\n",
      "  Trial 173 | Epoch start 2559085.2725089 | Epoch end 2573714.2725089\n",
      "Trial 174 low on first approximation | Correlation: -0.025 | SGLX High Time: 641 | ML High Time: 305\n",
      "  Photodiode aligned. Correlation: 0.994 | Shift: 0\n",
      "  Trial 174 | Epoch start 2573714.2725089 | Epoch end 2591514.2725089\n",
      "Trial 175 low on first approximation | Correlation: -0.072 | SGLX High Time: 970 | ML High Time: 126\n",
      "  Photodiode aligned. Correlation: 0.995 | Shift: -1\n",
      "  Trial 175 | Epoch start 2591513.2725089 | Epoch end 2606823.2725089\n",
      "Trial 176 low on first approximation | Correlation: 0.132 | SGLX High Time: 377 | ML High Time: 58\n",
      "  Photodiode aligned. Correlation: 0.995 | Shift: 2\n",
      "  Trial 176 | Epoch start 2606825.2725089 | Epoch end 2617668.2725089\n",
      "Trial 177 low on first approximation | Correlation: 0.072 | SGLX High Time: 978 | ML High Time: 405\n",
      "  Photodiode aligned. Correlation: 0.993 | Shift: 0\n",
      "  Trial 177 | Epoch start 2617668.2725089 | Epoch end 2634232.2725089\n",
      "Trial 178 low on first approximation | Correlation: 0.976 | SGLX High Time: 2389 | ML High Time: 199\n",
      "  Photodiode aligned. Correlation: 0.994 | Shift: 0\n",
      "  Trial 178 | Epoch start 2634232.2725089 | Epoch end 2649579.2725089\n",
      "Trial 179 low on first approximation | Correlation: 0.105 | SGLX High Time: 569 | ML High Time: 121\n",
      "  Photodiode aligned. Correlation: 0.994 | Shift: 0\n",
      "  Trial 179 | Epoch start 2649579.2725089 | Epoch end 2664224.2725089\n",
      "Trial 180 low on first approximation | Correlation: 0.016 | SGLX High Time: 370 | ML High Time: 3\n",
      "  Photodiode aligned. Correlation: 0.995 | Shift: 0\n",
      "  Trial 180 | Epoch start 2664224.2725089 | Epoch end 2680853.2725089\n",
      "Trial 181 low on first approximation | Correlation: -0.037 | SGLX High Time: 240 | ML High Time: 405\n",
      "  Photodiode aligned. Correlation: 0.994 | Shift: 0\n",
      "  Trial 181 | Epoch start 2680853.2725089 | Epoch end 2696216.2725089\n",
      "Trial 182 low on first approximation | Correlation: 0.065 | SGLX High Time: 73 | ML High Time: 223\n",
      "  Photodiode aligned. Correlation: 0.996 | Shift: 0\n",
      "  Trial 182 | Epoch start 2696216.2725089 | Epoch end 2709226.2725089\n",
      "Trial 183 low on first approximation | Correlation: 0.02 | SGLX High Time: 208 | ML High Time: 939\n",
      "  Photodiode aligned. Correlation: 0.995 | Shift: 1\n",
      "  Trial 183 | Epoch start 2709227.2725089 | Epoch end 2720053.2725089\n",
      "Trial 184 low on first approximation | Correlation: -0.059 | SGLX High Time: 205 | ML High Time: 155\n",
      "  Photodiode aligned. Correlation: 0.994 | Shift: -1\n",
      "  Trial 184 | Epoch start 2720052.2725089 | Epoch end 2734764.2725089\n",
      "Trial 185 low on first approximation | Correlation: -0.075 | SGLX High Time: 341 | ML High Time: 590\n",
      "  Photodiode aligned. Correlation: 0.994 | Shift: 1\n",
      "  Trial 185 | Epoch start 2734765.2725089 | Epoch end 2750479.2725089\n",
      "Trial 186 low on first approximation | Correlation: 0.065 | SGLX High Time: 1180 | ML High Time: 286\n",
      "  Photodiode aligned. Correlation: 0.994 | Shift: 0\n",
      "  Trial 186 | Epoch start 2750479.2725089 | Epoch end 2767009.2725089\n",
      "Trial 187 low on first approximation | Correlation: 0.003 | SGLX High Time: 438 | ML High Time: 1155\n",
      "  Photodiode aligned. Correlation: 0.995 | Shift: 0\n",
      "  Trial 187 | Epoch start 2767009.2725089 | Epoch end 2781371.2725089\n",
      "Trial 188 low on first approximation | Correlation: 0.193 | SGLX High Time: 2689 | ML High Time: 177\n",
      "  Photodiode aligned. Correlation: 0.994 | Shift: 0\n",
      "  Trial 188 | Epoch start 2781371.2725089 | Epoch end 2795198.2725089\n",
      "Trial 189 low on first approximation | Correlation: 0.029 | SGLX High Time: 1008 | ML High Time: 672\n",
      "  Photodiode aligned. Correlation: 0.996 | Shift: 1\n",
      "  Trial 189 | Epoch start 2795199.2725089 | Epoch end 2813698.2725089\n",
      "Trial 190 low on first approximation | Correlation: 0.186 | SGLX High Time: 118 | ML High Time: 505\n",
      "  Photodiode aligned. Correlation: 0.992 | Shift: 0\n",
      "  Trial 190 | Epoch start 2813698.2725089 | Epoch end 2826393.2725089\n",
      "Trial 191 low on first approximation | Correlation: -0.082 | SGLX High Time: 904 | ML High Time: 136\n",
      "  Photodiode aligned. Correlation: 0.995 | Shift: 0\n",
      "  Trial 191 | Epoch start 2826393.2725089 | Epoch end 2839737.2725089\n",
      "Trial 192 low on first approximation | Correlation: -0.017 | SGLX High Time: 36 | ML High Time: 1263\n",
      "  Photodiode aligned. Correlation: 0.995 | Shift: 1\n",
      "  Trial 192 | Epoch start 2839738.2725089 | Epoch end 2853281.2725089\n",
      "Trial 193 low on first approximation | Correlation: -0.252 | SGLX High Time: 678 | ML High Time: 264\n",
      "  Photodiode aligned. Correlation: 0.995 | Shift: -1\n",
      "  Trial 193 | Epoch start 2853280.2725089 | Epoch end 2867341.2725089\n",
      "Trial 194 low on first approximation | Correlation: 0.069 | SGLX High Time: 365 | ML High Time: 1\n",
      "  Photodiode aligned. Correlation: 0.994 | Shift: 1\n",
      "  Trial 194 | Epoch start 2867342.2725089 | Epoch end 2879887.2725089\n",
      "Trial 195 low on first approximation | Correlation: -0.143 | SGLX High Time: 177 | ML High Time: 470\n",
      "  Photodiode aligned. Correlation: 0.996 | Shift: 0\n",
      "  Trial 195 | Epoch start 2879887.2725089 | Epoch end 2891163.2725089\n",
      "Trial 196 low on first approximation | Correlation: 0.007 | SGLX High Time: 587 | ML High Time: 270\n",
      "  Photodiode aligned. Correlation: 0.994 | Shift: 0\n",
      "  Trial 196 | Epoch start 2891163.2725089 | Epoch end 2907943.2725089\n",
      "Trial 197 low on first approximation | Correlation: -0.11 | SGLX High Time: 105 | ML High Time: 204\n",
      "  Photodiode aligned. Correlation: 0.993 | Shift: -1\n",
      "  Trial 197 | Epoch start 2907942.2725089 | Epoch end 2924188.2725089\n",
      "Trial 198 low on first approximation | Correlation: -0.066 | SGLX High Time: 1034 | ML High Time: 88\n",
      "  Photodiode aligned. Correlation: 0.994 | Shift: 1\n",
      "  Trial 198 | Epoch start 2924189.2725089 | Epoch end 2934982.2725089\n",
      "Trial 199 low on first approximation | Correlation: 0.121 | SGLX High Time: 1710 | ML High Time: 689\n",
      "  Photodiode aligned. Correlation: 0.996 | Shift: 0\n",
      "  Trial 199 | Epoch start 2934982.2725089 | Epoch end 2947459.2725089\n",
      "Trial 200 low on first approximation | Correlation: 0.189 | SGLX High Time: 1082 | ML High Time: 604\n",
      "  Photodiode aligned. Correlation: 0.994 | Shift: 1\n",
      "  Trial 200 | Epoch start 2947460.2725089 | Epoch end 2963072.2725089\n",
      "Trial 201 low on first approximation | Correlation: 0.044 | SGLX High Time: 15 | ML High Time: 155\n",
      "  Photodiode aligned. Correlation: 0.995 | Shift: 0\n",
      "  Trial 201 | Epoch start 2963072.2725089 | Epoch end 2982439.2725089\n",
      "Trial 202 low on first approximation | Correlation: -0.154 | SGLX High Time: 73 | ML High Time: 138\n",
      "  Photodiode aligned. Correlation: 0.994 | Shift: 0\n",
      "  Trial 202 | Epoch start 2982439.2725089 | Epoch end 2996367.2725089\n",
      "Trial 203 low on first approximation | Correlation: 0.115 | SGLX High Time: 107 | ML High Time: 337\n",
      "  Photodiode aligned. Correlation: 0.995 | Shift: 1\n",
      "  Trial 203 | Epoch start 2996368.2725089 | Epoch end 3010212.2725089\n",
      "Trial 204 low on first approximation | Correlation: -0.06 | SGLX High Time: 511 | ML High Time: 638\n",
      "  Photodiode aligned. Correlation: 0.993 | Shift: 0\n",
      "  Trial 204 | Epoch start 3010212.2725089 | Epoch end 3029094.2725089\n",
      "Trial 205 low on first approximation | Correlation: -0.107 | SGLX High Time: 83 | ML High Time: 256\n",
      "  Photodiode aligned. Correlation: 0.994 | Shift: 0\n",
      "  Trial 205 | Epoch start 3029094.2725089 | Epoch end 3045057.2725089\n",
      "Trial 206 low on first approximation | Correlation: -0.06 | SGLX High Time: 1045 | ML High Time: 173\n",
      "  Photodiode aligned. Correlation: 0.996 | Shift: 0\n",
      "  Trial 206 | Epoch start 3045057.2725089 | Epoch end 3060271.2725089\n",
      "Trial 207 low on first approximation | Correlation: 0.05 | SGLX High Time: 25 | ML High Time: 86\n",
      "  Photodiode aligned. Correlation: 0.994 | Shift: 1\n",
      "  Trial 207 | Epoch start 3060272.2725089 | Epoch end 3074333.2725089\n",
      "Trial 208 low on first approximation | Correlation: 0.071 | SGLX High Time: 303 | ML High Time: 254\n",
      "  Photodiode aligned. Correlation: 0.995 | Shift: -1\n",
      "  Trial 208 | Epoch start 3074332.2725089 | Epoch end 3086391.2725089\n",
      "Trial 209 low on first approximation | Correlation: 0.168 | SGLX High Time: 74 | ML High Time: 72\n",
      "  Photodiode aligned. Correlation: 0.995 | Shift: 1\n",
      "  Trial 209 | Epoch start 3086392.2725089 | Epoch end 3101838.2725089\n",
      "Trial 210 low on first approximation | Correlation: 0.177 | SGLX High Time: 164 | ML High Time: 107\n",
      "  Photodiode aligned. Correlation: 0.994 | Shift: -1\n",
      "  Trial 210 | Epoch start 3101837.2725089 | Epoch end 3119585.2725089\n",
      "Trial 211 low on first approximation | Correlation: 0.022 | SGLX High Time: 285 | ML High Time: 612\n",
      "  Photodiode aligned. Correlation: 0.995 | Shift: 1\n",
      "  Trial 211 | Epoch start 3119586.2725089 | Epoch end 3130696.2725089\n",
      "Trial 212 low on first approximation | Correlation: 0.006 | SGLX High Time: 338 | ML High Time: 714\n",
      "  Photodiode aligned. Correlation: 0.994 | Shift: -1\n",
      "  Trial 212 | Epoch start 3130695.2725089 | Epoch end 3145873.2725089\n",
      "Trial 213 low on first approximation | Correlation: 0.079 | SGLX High Time: 343 | ML High Time: 180\n",
      "  Photodiode aligned. Correlation: 0.995 | Shift: 1\n",
      "  Trial 213 | Epoch start 3145874.2725089 | Epoch end 3163438.2725089\n",
      "Trial 214 low on first approximation | Correlation: -0.02 | SGLX High Time: 408 | ML High Time: 190\n",
      "  Photodiode aligned. Correlation: 0.994 | Shift: 0\n",
      "  Trial 214 | Epoch start 3163438.2725089 | Epoch end 3176082.2725089\n",
      "Trial 215 low on first approximation | Correlation: -0.269 | SGLX High Time: 175 | ML High Time: 192\n",
      "  Photodiode aligned. Correlation: 0.994 | Shift: 1\n",
      "  Trial 215 | Epoch start 3176083.2725089 | Epoch end 3191547.2725089\n",
      "Trial 216 low on first approximation | Correlation: 0.05 | SGLX High Time: 70 | ML High Time: 170\n",
      "  Photodiode aligned. Correlation: 0.995 | Shift: -1\n",
      "  Trial 216 | Epoch start 3191546.2725089 | Epoch end 3204205.2725089\n",
      "Trial 217 low on first approximation | Correlation: 0.051 | SGLX High Time: 610 | ML High Time: 21\n",
      "  Photodiode aligned. Correlation: 0.994 | Shift: 1\n",
      "  Trial 217 | Epoch start 3204206.2725089 | Epoch end 3218285.2725089\n",
      "Trial 218 low on first approximation | Correlation: 0.069 | SGLX High Time: 239 | ML High Time: 624\n",
      "  Photodiode aligned. Correlation: 0.996 | Shift: 0\n",
      "  Trial 218 | Epoch start 3218285.2725089 | Epoch end 3229194.2725089\n",
      "Trial 219 low on first approximation | Correlation: 0.044 | SGLX High Time: 73 | ML High Time: 9\n",
      "  Photodiode aligned. Correlation: 0.993 | Shift: 1\n",
      "  Trial 219 | Epoch start 3229195.2725089 | Epoch end 3243672.2725089\n",
      "Trial 220 low on first approximation | Correlation: 0.097 | SGLX High Time: 542 | ML High Time: 1307\n",
      "  Photodiode aligned. Correlation: 0.995 | Shift: -1\n",
      "  Trial 220 | Epoch start 3243671.2725089 | Epoch end 3257902.2725089\n",
      "Trial 221 low on first approximation | Correlation: 0.733 | SGLX High Time: 1843 | ML High Time: 1\n",
      "  Photodiode aligned. Correlation: 0.996 | Shift: 1\n",
      "  Trial 221 | Epoch start 3257903.2725089 | Epoch end 3270312.2725089\n",
      "Trial 222 low on first approximation | Correlation: 0.005 | SGLX High Time: 1191 | ML High Time: 154\n",
      "  Photodiode aligned. Correlation: 0.995 | Shift: -1\n",
      "  Trial 222 | Epoch start 3270311.2725089 | Epoch end 3285124.2725089\n",
      "Trial 223 low on first approximation | Correlation: 0.123 | SGLX High Time: 371 | ML High Time: 637\n",
      "  Photodiode aligned. Correlation: 0.993 | Shift: 1\n",
      "  Trial 223 | Epoch start 3285125.2725089 | Epoch end 3303271.2725089\n",
      "Trial 224 low on first approximation | Correlation: -0.036 | SGLX High Time: 141 | ML High Time: 640\n",
      "  Photodiode aligned. Correlation: 0.996 | Shift: 0\n",
      "  Trial 224 | Epoch start 3303271.2725089 | Epoch end 3318417.2725089\n",
      "Trial 225 low on first approximation | Correlation: -0.028 | SGLX High Time: 142 | ML High Time: 340\n",
      "  Photodiode aligned. Correlation: 0.995 | Shift: 1\n",
      "  Trial 225 | Epoch start 3318418.2725089 | Epoch end 3334298.2725089\n",
      "Trial 226 low on first approximation | Correlation: 0.104 | SGLX High Time: 608 | ML High Time: 26\n",
      "  Photodiode aligned. Correlation: 0.994 | Shift: 0\n",
      "  Trial 226 | Epoch start 3334298.2725089 | Epoch end 3347476.2725089\n",
      "Trial 227 low on first approximation | Correlation: -0.138 | SGLX High Time: 97 | ML High Time: 606\n",
      "  Photodiode aligned. Correlation: 0.995 | Shift: 0\n",
      "  Trial 227 | Epoch start 3347476.2725089 | Epoch end 3364925.2725089\n",
      "Trial 228 | Correlation: 0.991 | SGLX High Time: 2004 | ML High Time: 3\n",
      "  Trial 228 | Epoch start 3364923.8999232952 | Epoch end 3380969.8999232952\n",
      "Trial 229 | Correlation: 0.991 | SGLX High Time: 4448 | ML High Time: 1224\n",
      "  Trial 229 | Epoch start 3380969.4481573976 | Epoch end 3396915.4481573976\n",
      "Trial 230 low on first approximation | Correlation: -0.139 | SGLX High Time: 643 | ML High Time: 407\n",
      "  Photodiode aligned. Correlation: 0.995 | Shift: 2\n",
      "  Trial 230 | Epoch start 3396917.4481573976 | Epoch end 3409477.4481573976\n",
      "Trial 231 low on first approximation | Correlation: -0.008 | SGLX High Time: 306 | ML High Time: 839\n",
      "  Photodiode aligned. Correlation: 0.994 | Shift: 1\n",
      "  Trial 231 | Epoch start 3409478.4481573976 | Epoch end 3422272.4481573976\n",
      "Trial 232 low on first approximation | Correlation: -0.106 | SGLX High Time: 207 | ML High Time: 491\n",
      "  Photodiode aligned. Correlation: 0.995 | Shift: -1\n",
      "  Trial 232 | Epoch start 3422271.4481573976 | Epoch end 3437383.4481573976\n",
      "Trial 233 low on first approximation | Correlation: 0.167 | SGLX High Time: 1675 | ML High Time: 559\n",
      "  Photodiode aligned. Correlation: 0.995 | Shift: 1\n",
      "  Trial 233 | Epoch start 3437384.4481573976 | Epoch end 3449779.4481573976\n",
      "Trial 234 low on first approximation | Correlation: -0.146 | SGLX High Time: 86 | ML High Time: 437\n",
      "  Photodiode aligned. Correlation: 0.994 | Shift: 0\n",
      "  Trial 234 | Epoch start 3449779.4481573976 | Epoch end 3464473.4481573976\n",
      "Trial 235 low on first approximation | Correlation: -0.082 | SGLX High Time: 274 | ML High Time: 21\n",
      "  Photodiode aligned. Correlation: 0.995 | Shift: 0\n",
      "  Trial 235 | Epoch start 3464473.4481573976 | Epoch end 3480036.4481573976\n",
      "Trial 236 low on first approximation | Correlation: 0.03 | SGLX High Time: 606 | ML High Time: 166\n",
      "  Photodiode aligned. Correlation: 0.994 | Shift: 1\n",
      "  Trial 236 | Epoch start 3480037.4481573976 | Epoch end 3497368.4481573976\n",
      "Trial 237 low on first approximation | Correlation: 0.064 | SGLX High Time: 143 | ML High Time: 325\n",
      "  Photodiode aligned. Correlation: 0.994 | Shift: -1\n",
      "  Trial 237 | Epoch start 3497367.4481573976 | Epoch end 3509343.4481573976\n",
      "Trial 238 low on first approximation | Correlation: -0.019 | SGLX High Time: 941 | ML High Time: 523\n",
      "  Photodiode aligned. Correlation: 0.994 | Shift: 0\n",
      "  Trial 238 | Epoch start 3509343.4481573976 | Epoch end 3525273.4481573976\n",
      "Trial 239 low on first approximation | Correlation: 0.058 | SGLX High Time: 1176 | ML High Time: 573\n",
      "  Photodiode aligned. Correlation: 0.995 | Shift: 1\n",
      "  Trial 239 | Epoch start 3525274.4481573976 | Epoch end 3542688.4481573976\n",
      "Trial 240 low on first approximation | Correlation: -0.067 | SGLX High Time: 306 | ML High Time: 60\n",
      "  Photodiode aligned. Correlation: 0.995 | Shift: -1\n",
      "  Trial 240 | Epoch start 3542687.4481573976 | Epoch end 3554280.4481573976\n",
      "Trial 241 low on first approximation | Correlation: 0.005 | SGLX High Time: 174 | ML High Time: 705\n",
      "  Photodiode aligned. Correlation: 0.996 | Shift: 1\n",
      "  Trial 241 | Epoch start 3554281.4481573976 | Epoch end 3568927.4481573976\n",
      "Trial 242 low on first approximation | Correlation: 0.005 | SGLX High Time: 8 | ML High Time: 304\n",
      "  Photodiode aligned. Correlation: 0.995 | Shift: 1\n",
      "  Trial 242 | Epoch start 3568928.4481573976 | Epoch end 3583939.4481573976\n",
      "Trial 243 low on first approximation | Correlation: 0.162 | SGLX High Time: 407 | ML High Time: 128\n",
      "  Photodiode aligned. Correlation: 0.994 | Shift: -1\n",
      "  Trial 243 | Epoch start 3583938.4481573976 | Epoch end 3596466.4481573976\n",
      "Trial 244 low on first approximation | Correlation: -0.046 | SGLX High Time: 641 | ML High Time: 105\n",
      "  Photodiode aligned. Correlation: 0.996 | Shift: 1\n",
      "  Trial 244 | Epoch start 3596467.4481573976 | Epoch end 3609861.4481573976\n",
      "Trial 245 low on first approximation | Correlation: 0.002 | SGLX High Time: 453 | ML High Time: 256\n",
      "  Photodiode aligned. Correlation: 0.993 | Shift: 0\n",
      "  Trial 245 | Epoch start 3609861.4481573976 | Epoch end 3626007.4481573976\n",
      "Trial 246 low on first approximation | Correlation: -0.125 | SGLX High Time: 1042 | ML High Time: 178\n",
      "  Photodiode aligned. Correlation: 0.994 | Shift: 0\n",
      "  Trial 246 | Epoch start 3626007.4481573976 | Epoch end 3639618.4481573976\n",
      "Trial 247 low on first approximation | Correlation: -0.039 | SGLX High Time: 1455 | ML High Time: 22\n",
      "  Photodiode aligned. Correlation: 0.995 | Shift: 1\n",
      "  Trial 247 | Epoch start 3639619.4481573976 | Epoch end 3656418.4481573976\n",
      "Trial 248 low on first approximation | Correlation: 0.011 | SGLX High Time: 2 | ML High Time: 243\n",
      "  Photodiode aligned. Correlation: 0.995 | Shift: 0\n",
      "  Trial 248 | Epoch start 3656418.4481573976 | Epoch end 3670513.4481573976\n",
      "Trial 249 low on first approximation | Correlation: -0.038 | SGLX High Time: 1126 | ML High Time: 155\n",
      "  Photodiode aligned. Correlation: 0.993 | Shift: 0\n",
      "  Trial 249 | Epoch start 3670513.4481573976 | Epoch end 3684255.4481573976\n",
      "Trial 250 low on first approximation | Correlation: -0.057 | SGLX High Time: 484 | ML High Time: 406\n",
      "  Photodiode aligned. Correlation: 0.995 | Shift: 0\n",
      "  Trial 250 | Epoch start 3684255.4481573976 | Epoch end 3698469.4481573976\n",
      "Trial 251 low on first approximation | Correlation: 0.111 | SGLX High Time: 103 | ML High Time: 226\n",
      "  Photodiode aligned. Correlation: 0.995 | Shift: 0\n",
      "  Trial 251 | Epoch start 3698469.4481573976 | Epoch end 3713180.4481573976\n",
      "Trial 252 | Correlation: 0.994 | SGLX High Time: 2008 | ML High Time: 4\n",
      "  Trial 252 | Epoch start 3713180.3727805456 | Epoch end 3729361.3727805456\n",
      "Trial 253 low on first approximation | Correlation: 0.049 | SGLX High Time: 239 | ML High Time: 544\n",
      "  Photodiode aligned. Correlation: 0.994 | Shift: 1\n",
      "  Trial 253 | Epoch start 3729362.3727805456 | Epoch end 3743656.3727805456\n",
      "Trial 254 low on first approximation | Correlation: 0.062 | SGLX High Time: 138 | ML High Time: 111\n",
      "  Photodiode aligned. Correlation: 0.995 | Shift: 0\n",
      "  Trial 254 | Epoch start 3743656.3727805456 | Epoch end 3759019.3727805456\n",
      "Trial 255 low on first approximation | Correlation: 0.115 | SGLX High Time: 575 | ML High Time: 6\n",
      "  Photodiode aligned. Correlation: 0.994 | Shift: 0\n",
      "  Trial 255 | Epoch start 3759019.3727805456 | Epoch end 3772713.3727805456\n",
      "Trial 256 low on first approximation | Correlation: 0.13 | SGLX High Time: 441 | ML High Time: 275\n",
      "  Photodiode aligned. Correlation: 0.994 | Shift: -1\n",
      "  Trial 256 | Epoch start 3772712.3727805456 | Epoch end 3785339.3727805456\n",
      "Trial 257 low on first approximation | Correlation: -0.208 | SGLX High Time: 1213 | ML High Time: 438\n",
      "  Photodiode aligned. Correlation: 0.995 | Shift: 1\n",
      "  Trial 257 | Epoch start 3785340.3727805456 | Epoch end 3800236.3727805456\n",
      "Trial 258 low on first approximation | Correlation: -0.032 | SGLX High Time: 541 | ML High Time: 104\n",
      "  Photodiode aligned. Correlation: 0.994 | Shift: 1\n",
      "  Trial 258 | Epoch start 3800237.3727805456 | Epoch end 3812447.3727805456\n",
      "Trial 259 low on first approximation | Correlation: -0.056 | SGLX High Time: 1072 | ML High Time: 506\n",
      "  Photodiode aligned. Correlation: 0.995 | Shift: -1\n",
      "  Trial 259 | Epoch start 3812446.3727805456 | Epoch end 3829860.3727805456\n",
      "Trial 260 low on first approximation | Correlation: 0.138 | SGLX High Time: 609 | ML High Time: 368\n",
      "  Photodiode aligned. Correlation: 0.995 | Shift: 1\n",
      "  Trial 260 | Epoch start 3829861.3727805456 | Epoch end 3845841.3727805456\n",
      "Trial 261 low on first approximation | Correlation: 0.098 | SGLX High Time: 1006 | ML High Time: 188\n",
      "  Photodiode aligned. Correlation: 0.996 | Shift: 0\n",
      "  Trial 261 | Epoch start 3845841.3727805456 | Epoch end 3862771.3727805456\n",
      "Trial 262 low on first approximation | Correlation: 0.107 | SGLX High Time: 1023 | ML High Time: 225\n",
      "  Photodiode aligned. Correlation: 0.994 | Shift: 0\n",
      "  Trial 262 | Epoch start 3862771.3727805456 | Epoch end 3878268.3727805456\n",
      "Trial 263 low on first approximation | Correlation: -0.032 | SGLX High Time: 242 | ML High Time: 5\n",
      "  Photodiode aligned. Correlation: 0.995 | Shift: 1\n",
      "  Trial 263 | Epoch start 3878269.3727805456 | Epoch end 3893014.3727805456\n",
      "Trial 264 low on first approximation | Correlation: 0.028 | SGLX High Time: 339 | ML High Time: 38\n",
      "  Photodiode aligned. Correlation: 0.995 | Shift: 0\n",
      "  Trial 264 | Epoch start 3893014.3727805456 | Epoch end 3909694.3727805456\n",
      "Trial 265 low on first approximation | Correlation: -0.155 | SGLX High Time: 1310 | ML High Time: 5\n",
      "  Photodiode aligned. Correlation: 0.994 | Shift: 0\n",
      "  Trial 265 | Epoch start 3909694.3727805456 | Epoch end 3923906.3727805456\n",
      "Trial 266 low on first approximation | Correlation: 0.042 | SGLX High Time: 985 | ML High Time: 105\n",
      "  Photodiode aligned. Correlation: 0.995 | Shift: 0\n",
      "  Trial 266 | Epoch start 3923906.3727805456 | Epoch end 3940953.3727805456\n",
      "Trial 267 low on first approximation | Correlation: 0.343 | SGLX High Time: 2742 | ML High Time: 239\n",
      "  Photodiode aligned. Correlation: 0.993 | Shift: 0\n",
      "  Trial 267 | Epoch start 3940953.3727805456 | Epoch end 3956933.3727805456\n",
      "Trial 268 low on first approximation | Correlation: -0.077 | SGLX High Time: 240 | ML High Time: 39\n",
      "  Photodiode aligned. Correlation: 0.994 | Shift: 1\n",
      "  Trial 268 | Epoch start 3956934.3727805456 | Epoch end 3970928.3727805456\n",
      "Trial 269 low on first approximation | Correlation: -0.141 | SGLX High Time: 940 | ML High Time: 105\n",
      "  Photodiode aligned. Correlation: 0.995 | Shift: 0\n",
      "  Trial 269 | Epoch start 3970928.3727805456 | Epoch end 3982222.3727805456\n",
      "Trial 270 low on first approximation | Correlation: -0.118 | SGLX High Time: 4 | ML High Time: 471\n",
      "  Photodiode aligned. Correlation: 0.995 | Shift: -1\n",
      "  Trial 270 | Epoch start 3982221.3727805456 | Epoch end 3997683.3727805456\n",
      "Trial 271 low on first approximation | Correlation: -0.045 | SGLX High Time: 2 | ML High Time: 7\n",
      "  Photodiode aligned. Correlation: 0.993 | Shift: 1\n",
      "  Trial 271 | Epoch start 3997684.3727805456 | Epoch end 4014514.3727805456\n",
      "Trial 272 low on first approximation | Correlation: 0.002 | SGLX High Time: 1875 | ML High Time: 1523\n",
      "  Photodiode aligned. Correlation: 0.995 | Shift: 0\n",
      "  Trial 272 | Epoch start 4014514.3727805456 | Epoch end 4031645.3727805456\n",
      "Trial 273 low on first approximation | Correlation: -0.158 | SGLX High Time: 1074 | ML High Time: 74\n",
      "  Photodiode aligned. Correlation: 0.995 | Shift: 0\n",
      "  Trial 273 | Epoch start 4031645.3727805456 | Epoch end 4047241.3727805456\n",
      "Trial 274 low on first approximation | Correlation: -0.149 | SGLX High Time: 142 | ML High Time: 355\n",
      "  Photodiode aligned. Correlation: 0.993 | Shift: 1\n",
      "  Trial 274 | Epoch start 4047242.3727805456 | Epoch end 4059570.3727805456\n",
      "Trial 275 low on first approximation | Correlation: 0.049 | SGLX High Time: 1271 | ML High Time: 237\n",
      "  Photodiode aligned. Correlation: 0.995 | Shift: -1\n",
      "  Trial 275 | Epoch start 4059569.3727805456 | Epoch end 4078066.3727805456\n",
      "Trial 276 | Correlation: 0.993 | SGLX High Time: 2578 | ML High Time: 289\n",
      "  Trial 276 | Epoch start 4078065.8928843937 | Epoch end 4092294.8928843937\n",
      "Trial 277 low on first approximation | Correlation: 0.084 | SGLX High Time: 1110 | ML High Time: 358\n",
      "  Photodiode aligned. Correlation: 0.995 | Shift: 1\n",
      "  Trial 277 | Epoch start 4092295.8928843937 | Epoch end 4107241.8928843937\n",
      "Trial 278 low on first approximation | Correlation: 0.017 | SGLX High Time: 1213 | ML High Time: 1\n",
      "  Photodiode aligned. Correlation: 0.995 | Shift: 1\n",
      "  Trial 278 | Epoch start 4107242.8928843937 | Epoch end 4123955.8928843937\n",
      "Trial 279 low on first approximation | Correlation: 0.048 | SGLX High Time: 909 | ML High Time: 355\n",
      "  Photodiode aligned. Correlation: 0.995 | Shift: 0\n",
      "  Trial 279 | Epoch start 4123955.8928843937 | Epoch end 4136817.8928843937\n",
      "Trial 280 low on first approximation | Correlation: -0.009 | SGLX High Time: 346 | ML High Time: 342\n",
      "  Photodiode aligned. Correlation: 0.994 | Shift: 1\n",
      "  Trial 280 | Epoch start 4136818.8928843937 | Epoch end 4154715.8928843937\n",
      "Trial 281 low on first approximation | Correlation: 0.097 | SGLX High Time: 1806 | ML High Time: 255\n",
      "  Photodiode aligned. Correlation: 0.995 | Shift: -1\n",
      "  Trial 281 | Epoch start 4154714.8928843937 | Epoch end 4166873.8928843937\n",
      "Trial 282 low on first approximation | Correlation: -0.124 | SGLX High Time: 1583 | ML High Time: 155\n",
      "  Photodiode aligned. Correlation: 0.995 | Shift: 1\n",
      "  Trial 282 | Epoch start 4166874.8928843937 | Epoch end 4182788.8928843937\n",
      "Trial 283 low on first approximation | Correlation: 0.043 | SGLX High Time: 960 | ML High Time: 76\n",
      "  Photodiode aligned. Correlation: 0.996 | Shift: -1\n",
      "  Trial 283 | Epoch start 4182787.8928843937 | Epoch end 4196865.892884394\n",
      "Trial 284 | Correlation: 0.994 | SGLX High Time: 2043 | ML High Time: 21\n",
      "  Trial 284 | Epoch start 4196866.2240044605 | Epoch end 4214164.2240044605\n",
      "Trial 285 low on first approximation | Correlation: 0.196 | SGLX High Time: 1480 | ML High Time: 9\n",
      "  Photodiode aligned. Correlation: 0.994 | Shift: 1\n",
      "  Trial 285 | Epoch start 4214165.2240044605 | Epoch end 4232079.2240044605\n",
      "Trial 286 low on first approximation | Correlation: -0.046 | SGLX High Time: 775 | ML High Time: 1\n",
      "  Photodiode aligned. Correlation: 0.996 | Shift: 0\n",
      "  Trial 286 | Epoch start 4232079.2240044605 | Epoch end 4248409.2240044605\n",
      "Trial 287 low on first approximation | Correlation: -0.114 | SGLX High Time: 842 | ML High Time: 172\n",
      "  Photodiode aligned. Correlation: 0.994 | Shift: 1\n",
      "  Trial 287 | Epoch start 4248410.2240044605 | Epoch end 4267343.2240044605\n",
      "Trial 288 low on first approximation | Correlation: 0.039 | SGLX High Time: 838 | ML High Time: 4\n",
      "  Photodiode aligned. Correlation: 0.993 | Shift: 0\n",
      "  Trial 288 | Epoch start 4267343.2240044605 | Epoch end 4287076.2240044605\n",
      "Trial 289 low on first approximation | Correlation: -0.106 | SGLX High Time: 505 | ML High Time: 955\n",
      "  Photodiode aligned. Correlation: 0.996 | Shift: 0\n",
      "  Trial 289 | Epoch start 4287076.2240044605 | Epoch end 4300286.2240044605\n",
      "Trial 290 low on first approximation | Correlation: 0.01 | SGLX High Time: 610 | ML High Time: 710\n",
      "  Photodiode aligned. Correlation: 0.994 | Shift: 0\n",
      "  Trial 290 | Epoch start 4300286.2240044605 | Epoch end 4317551.2240044605\n",
      "Trial 291 low on first approximation | Correlation: -0.11 | SGLX High Time: 906 | ML High Time: 281\n",
      "  Photodiode aligned. Correlation: 0.995 | Shift: 1\n",
      "  Trial 291 | Epoch start 4317552.2240044605 | Epoch end 4331480.2240044605\n",
      "Trial 292 low on first approximation | Correlation: -0.033 | SGLX High Time: 73 | ML High Time: 405\n",
      "  Photodiode aligned. Correlation: 0.994 | Shift: -1\n",
      "  Trial 292 | Epoch start 4331479.2240044605 | Epoch end 4349127.2240044605\n",
      "Trial 293 low on first approximation | Correlation: 0.042 | SGLX High Time: 940 | ML High Time: 4\n",
      "  Photodiode aligned. Correlation: 0.992 | Shift: 1\n",
      "  Trial 293 | Epoch start 4349128.2240044605 | Epoch end 4364156.2240044605\n",
      "Trial 294 low on first approximation | Correlation: 0.051 | SGLX High Time: 1173 | ML High Time: 706\n",
      "  Photodiode aligned. Correlation: 0.996 | Shift: -1\n",
      "  Trial 294 | Epoch start 4364155.2240044605 | Epoch end 4377333.2240044605\n",
      "Trial 295 low on first approximation | Correlation: 0.018 | SGLX High Time: 742 | ML High Time: 306\n",
      "  Photodiode aligned. Correlation: 0.995 | Shift: 2\n",
      "  Trial 295 | Epoch start 4377335.2240044605 | Epoch end 4392714.2240044605\n",
      "Trial 296 low on first approximation | Correlation: -0.111 | SGLX High Time: 572 | ML High Time: 112\n",
      "  Photodiode aligned. Correlation: 0.995 | Shift: -1\n",
      "  Trial 296 | Epoch start 4392713.2240044605 | Epoch end 4404823.2240044605\n",
      "Trial 297 low on first approximation | Correlation: -0.121 | SGLX High Time: 274 | ML High Time: 326\n",
      "  Photodiode aligned. Correlation: 0.995 | Shift: 1\n",
      "  Trial 297 | Epoch start 4404824.2240044605 | Epoch end 4420454.2240044605\n",
      "Trial 298 low on first approximation | Correlation: -0.068 | SGLX High Time: 871 | ML High Time: 1\n",
      "  Photodiode aligned. Correlation: 0.994 | Shift: 0\n",
      "  Trial 298 | Epoch start 4420454.2240044605 | Epoch end 4432515.2240044605\n",
      "Trial 299 low on first approximation | Correlation: -0.019 | SGLX High Time: 752 | ML High Time: 520\n",
      "  Photodiode aligned. Correlation: 0.995 | Shift: 0\n",
      "  Trial 299 | Epoch start 4432515.2240044605 | Epoch end 4447227.2240044605\n",
      "Trial 300 low on first approximation | Correlation: -0.124 | SGLX High Time: 410 | ML High Time: 121\n",
      "  Photodiode aligned. Correlation: 0.994 | Shift: 0\n",
      "  Trial 300 | Epoch start 4447227.2240044605 | Epoch end 4465091.2240044605\n",
      "Trial 301 low on first approximation | Correlation: 0.042 | SGLX High Time: 575 | ML High Time: 228\n",
      "  Photodiode aligned. Correlation: 0.997 | Shift: 0\n",
      "  Trial 301 | Epoch start 4465091.2240044605 | Epoch end 4477951.2240044605\n",
      "Trial 302 low on first approximation | Correlation: 0.102 | SGLX High Time: 1174 | ML High Time: 121\n",
      "  Photodiode aligned. Correlation: 0.995 | Shift: 0\n",
      "  Trial 302 | Epoch start 4477951.2240044605 | Epoch end 4494381.2240044605\n",
      "Trial 303 low on first approximation | Correlation: 0.097 | SGLX High Time: 273 | ML High Time: 505\n",
      "  Photodiode aligned. Correlation: 0.995 | Shift: 0\n",
      "  Trial 303 | Epoch start 4494381.2240044605 | Epoch end 4511779.2240044605\n",
      "Trial 304 low on first approximation | Correlation: -0.073 | SGLX High Time: 3 | ML High Time: 505\n",
      "  Photodiode aligned. Correlation: 0.994 | Shift: 0\n",
      "  Trial 304 | Epoch start 4511779.2240044605 | Epoch end 4523071.2240044605\n",
      "Trial 305 low on first approximation | Correlation: -0.082 | SGLX High Time: 343 | ML High Time: 1240\n",
      "  Photodiode aligned. Correlation: 0.995 | Shift: 0\n",
      "  Trial 305 | Epoch start 4523071.2240044605 | Epoch end 4538284.2240044605\n",
      "Trial 306 low on first approximation | Correlation: -0.048 | SGLX High Time: 56 | ML High Time: 71\n",
      "  Photodiode aligned. Correlation: 0.996 | Shift: 1\n",
      "  Trial 306 | Epoch start 4538285.2240044605 | Epoch end 4558284.2240044605\n",
      "Trial 307 low on first approximation | Correlation: 0.002 | SGLX High Time: 495 | ML High Time: 45\n",
      "  Photodiode aligned. Correlation: 0.993 | Shift: 1\n",
      "  Trial 307 | Epoch start 4558285.2240044605 | Epoch end 4570845.2240044605\n",
      "Trial 308 low on first approximation | Correlation: 0.054 | SGLX High Time: 879 | ML High Time: 611\n",
      "  Photodiode aligned. Correlation: 0.994 | Shift: 0\n",
      "  Trial 308 | Epoch start 4570845.2240044605 | Epoch end 4622439.2240044605\n",
      "Trial 309 low on first approximation | Correlation: 0.127 | SGLX High Time: 471 | ML High Time: 1055\n",
      "  Photodiode aligned. Correlation: 0.994 | Shift: 0\n",
      "  Trial 309 | Epoch start 4622439.2240044605 | Epoch end 4665807.2240044605\n",
      "Trial 310 low on first approximation | Correlation: -0.024 | SGLX High Time: 417 | ML High Time: 488\n",
      "  Photodiode aligned. Correlation: 0.996 | Shift: 1\n",
      "  Trial 310 | Epoch start 4665808.2240044605 | Epoch end 4682089.2240044605\n",
      "Trial 311 low on first approximation | Correlation: 0.15 | SGLX High Time: 413 | ML High Time: 507\n",
      "  Photodiode aligned. Correlation: 0.994 | Shift: 0\n",
      "  Trial 311 | Epoch start 4682089.2240044605 | Epoch end 4697967.2240044605\n",
      "Trial 312 low on first approximation | Correlation: -0.179 | SGLX High Time: 1475 | ML High Time: 597\n",
      "  Photodiode aligned. Correlation: 0.994 | Shift: 0\n",
      "  Trial 312 | Epoch start 4697967.2240044605 | Epoch end 4713098.2240044605\n",
      "Trial 313 low on first approximation | Correlation: 0.03 | SGLX High Time: 1338 | ML High Time: 6\n",
      "  Photodiode aligned. Correlation: 0.997 | Shift: 0\n",
      "  Trial 313 | Epoch start 4713098.2240044605 | Epoch end 4727426.2240044605\n",
      "Trial 314 low on first approximation | Correlation: 0.026 | SGLX High Time: 14 | ML High Time: 623\n",
      "  Photodiode aligned. Correlation: 0.994 | Shift: 1\n",
      "  Trial 314 | Epoch start 4727427.2240044605 | Epoch end 4742806.2240044605\n",
      "Trial 315 low on first approximation | Correlation: -0.239 | SGLX High Time: 407 | ML High Time: 655\n",
      "  Photodiode aligned. Correlation: 0.994 | Shift: 0\n",
      "  Trial 315 | Epoch start 4742806.2240044605 | Epoch end 4757334.2240044605\n",
      "Trial 316 | Correlation: 0.994 | SGLX High Time: 3108 | ML High Time: 555\n",
      "  Trial 316 | Epoch start 4757332.791159545 | Epoch end 4772062.791159545\n",
      "Trial 317 low on first approximation | Correlation: 0.021 | SGLX High Time: 1408 | ML High Time: 503\n",
      "  Photodiode aligned. Correlation: 0.995 | Shift: 1\n",
      "  Trial 317 | Epoch start 4772063.791159545 | Epoch end 4783789.791159545\n",
      "Trial 318 low on first approximation | Correlation: -0.066 | SGLX High Time: 73 | ML High Time: 287\n",
      "  Photodiode aligned. Correlation: 0.994 | Shift: 1\n",
      "  Trial 318 | Epoch start 4783790.791159545 | Epoch end 4835147.791159545\n",
      "Trial 319 low on first approximation | Correlation: -0.016 | SGLX High Time: 375 | ML High Time: 5\n",
      "  Photodiode aligned. Correlation: 0.994 | Shift: 0\n",
      "  Trial 319 | Epoch start 4835147.791159545 | Epoch end 4893764.791159545\n",
      "Trial 320 low on first approximation | Correlation: -0.037 | SGLX High Time: 277 | ML High Time: 90\n",
      "  Photodiode aligned. Correlation: 0.995 | Shift: 1\n",
      "  Trial 320 | Epoch start 4893765.791159545 | Epoch end 4949360.791159545\n",
      "Trial 321 low on first approximation | Correlation: 0.097 | SGLX High Time: 474 | ML High Time: 1\n",
      "  Photodiode aligned. Correlation: 0.995 | Shift: 1\n",
      "  Trial 321 | Epoch start 4949361.791159545 | Epoch end 4970010.791159545\n",
      "Trial 322 low on first approximation | Correlation: -0.092 | SGLX High Time: 543 | ML High Time: 136\n",
      "  Photodiode aligned. Correlation: 0.995 | Shift: -1\n",
      "  Trial 322 | Epoch start 4970009.791159545 | Epoch end 4984238.791159545\n",
      "Trial 323 low on first approximation | Correlation: -0.152 | SGLX High Time: 642 | ML High Time: 2\n",
      "  Photodiode aligned. Correlation: 0.995 | Shift: 1\n",
      "  Trial 323 | Epoch start 4984239.791159545 | Epoch end 4998166.791159545\n",
      "Trial 324 low on first approximation | Correlation: 0.014 | SGLX High Time: 409 | ML High Time: 1178\n",
      "  Photodiode aligned. Correlation: 0.994 | Shift: 1\n",
      "  Trial 324 | Epoch start 4998167.791159545 | Epoch end 5020854.791159545\n",
      "Trial 325 low on first approximation | Correlation: 0.109 | SGLX High Time: 193 | ML High Time: 221\n",
      "  Photodiode aligned. Correlation: 0.995 | Shift: -1\n",
      "  Trial 325 | Epoch start 5020853.791159545 | Epoch end 5034746.791159545\n",
      "Trial 326 low on first approximation | Correlation: 0.181 | SGLX High Time: 877 | ML High Time: 706\n",
      "  Photodiode aligned. Correlation: 0.995 | Shift: 1\n",
      "  Trial 326 | Epoch start 5034747.791159545 | Epoch end 5051812.791159545\n",
      "Trial 327 low on first approximation | Correlation: 0.029 | SGLX High Time: 873 | ML High Time: 204\n",
      "  Photodiode aligned. Correlation: 0.995 | Shift: 0\n",
      "  Trial 327 | Epoch start 5051812.791159545 | Epoch end 5069793.791159545\n",
      "Trial 328 low on first approximation | Correlation: 0.106 | SGLX High Time: 73 | ML High Time: 772\n",
      "  Photodiode aligned. Correlation: 0.996 | Shift: 0\n",
      "  Trial 328 | Epoch start 5069793.791159545 | Epoch end 5086024.791159545\n",
      "Trial 329 low on first approximation | Correlation: 0.118 | SGLX High Time: 5 | ML High Time: 421\n",
      "  Photodiode aligned. Correlation: 0.994 | Shift: 0\n",
      "  Trial 329 | Epoch start 5086024.791159545 | Epoch end 5103155.791159545\n",
      "Trial 330 low on first approximation | Correlation: -0.052 | SGLX High Time: 171 | ML High Time: 2060\n",
      "  Photodiode aligned. Correlation: 0.995 | Shift: 0\n",
      "  Trial 330 | Epoch start 5103155.791159545 | Epoch end 5117884.791159545\n",
      "Trial 331 low on first approximation | Correlation: 0.007 | SGLX High Time: 873 | ML High Time: 10\n",
      "  Photodiode aligned. Correlation: 0.994 | Shift: 1\n",
      "  Trial 331 | Epoch start 5117885.791159545 | Epoch end 5136466.791159545\n",
      "Trial 332 low on first approximation | Correlation: 0.265 | SGLX High Time: 507 | ML High Time: 789\n",
      "  Photodiode aligned. Correlation: 0.995 | Shift: 1\n",
      "  Trial 332 | Epoch start 5136467.791159545 | Epoch end 5148309.791159545\n",
      "Trial 333 low on first approximation | Correlation: -0.073 | SGLX High Time: 356 | ML High Time: 324\n",
      "  Photodiode aligned. Correlation: 0.994 | Shift: -1\n",
      "  Trial 333 | Epoch start 5148308.791159545 | Epoch end 5166774.791159545\n",
      "Trial 334 low on first approximation | Correlation: 0.007 | SGLX High Time: 241 | ML High Time: 740\n",
      "  Photodiode aligned. Correlation: 0.994 | Shift: 1\n",
      "  Trial 334 | Epoch start 5166775.791159545 | Epoch end 5179252.791159545\n",
      "Trial 335 low on first approximation | Correlation: -0.078 | SGLX High Time: 205 | ML High Time: 339\n",
      "  Photodiode aligned. Correlation: 0.993 | Shift: -1\n",
      "  Trial 335 | Epoch start 5179251.791159545 | Epoch end 5193096.791159545\n",
      "Trial 336 low on first approximation | Correlation: 0.02 | SGLX High Time: 778 | ML High Time: 771\n",
      "  Photodiode aligned. Correlation: 0.994 | Shift: 1\n",
      "  Trial 336 | Epoch start 5193097.791159545 | Epoch end 5208944.791159545\n",
      "Trial 337 low on first approximation | Correlation: 0.032 | SGLX High Time: 37 | ML High Time: 571\n",
      "  Photodiode aligned. Correlation: 0.994 | Shift: 1\n",
      "  Trial 337 | Epoch start 5208945.791159545 | Epoch end 5222840.791159545\n",
      "Trial 338 low on first approximation | Correlation: -0.082 | SGLX High Time: 1036 | ML High Time: 71\n",
      "  Photodiode aligned. Correlation: 0.994 | Shift: -1\n",
      "  Trial 338 | Epoch start 5222839.791159545 | Epoch end 5238818.791159545\n",
      "Trial 339 low on first approximation | Correlation: 0.144 | SGLX High Time: 178 | ML High Time: 538\n",
      "  Photodiode aligned. Correlation: 0.994 | Shift: 0\n",
      "  Trial 339 | Epoch start 5238818.791159545 | Epoch end 5253647.791159545\n",
      "Trial 340 low on first approximation | Correlation: 0.059 | SGLX High Time: 406 | ML High Time: 438\n",
      "  Photodiode aligned. Correlation: 0.994 | Shift: 1\n",
      "  Trial 340 | Epoch start 5253648.791159545 | Epoch end 5269111.791159545\n",
      "Trial 341 low on first approximation | Correlation: -0.081 | SGLX High Time: 136 | ML High Time: 538\n",
      "  Photodiode aligned. Correlation: 0.994 | Shift: 0\n",
      "  Trial 341 | Epoch start 5269111.791159545 | Epoch end 5320585.791159545\n",
      "Trial 342 low on first approximation | Correlation: 0.002 | SGLX High Time: 544 | ML High Time: 206\n",
      "  Photodiode aligned. Correlation: 0.994 | Shift: 1\n",
      "  Trial 342 | Epoch start 5320586.791159545 | Epoch end 5361154.791159545\n",
      "Trial 343 low on first approximation | Correlation: -0.087 | SGLX High Time: 304 | ML High Time: 4\n",
      "  Photodiode aligned. Correlation: 0.995 | Shift: 0\n",
      "  Trial 343 | Epoch start 5361154.791159545 | Epoch end 5379285.791159545\n",
      "Trial 344 low on first approximation | Correlation: -0.071 | SGLX High Time: 1240 | ML High Time: 9\n",
      "  Photodiode aligned. Correlation: 0.994 | Shift: 0\n",
      "  Trial 344 | Epoch start 5379285.791159545 | Epoch end 5395364.791159545\n",
      "Trial 345 low on first approximation | Correlation: -0.013 | SGLX High Time: 1308 | ML High Time: 272\n",
      "  Photodiode aligned. Correlation: 0.996 | Shift: 1\n",
      "  Trial 345 | Epoch start 5395365.791159545 | Epoch end 5410361.791159545\n",
      "Trial 346 low on first approximation | Correlation: 0.055 | SGLX High Time: 144 | ML High Time: 305\n",
      "  Photodiode aligned. Correlation: 0.994 | Shift: -1\n",
      "  Trial 346 | Epoch start 5410360.791159545 | Epoch end 5426207.791159545\n",
      "Trial 347 low on first approximation | Correlation: -0.239 | SGLX High Time: 642 | ML High Time: 3\n",
      "  Photodiode aligned. Correlation: 0.995 | Shift: 1\n",
      "  Trial 347 | Epoch start 5426208.791159545 | Epoch end 5438202.791159545\n",
      "Trial 348 low on first approximation | Correlation: -0.198 | SGLX High Time: 605 | ML High Time: 337\n",
      "  Photodiode aligned. Correlation: 0.994 | Shift: -1\n",
      "  Trial 348 | Epoch start 5438201.791159545 | Epoch end 5454596.791159545\n",
      "Trial 349 low on first approximation | Correlation: -0.028 | SGLX High Time: 42 | ML High Time: 123\n",
      "  Photodiode aligned. Correlation: 0.995 | Shift: 1\n",
      "  Trial 349 | Epoch start 5454597.791159545 | Epoch end 5465624.791159545\n",
      "Trial 350 low on first approximation | Correlation: 0.038 | SGLX High Time: 180 | ML High Time: 245\n",
      "  Photodiode aligned. Correlation: 0.994 | Shift: 0\n",
      "  Trial 350 | Epoch start 5465624.791159545 | Epoch end 5477366.791159545\n",
      "Trial 351 low on first approximation | Correlation: -0.18 | SGLX High Time: 9 | ML High Time: 439\n",
      "  Photodiode aligned. Correlation: 0.995 | Shift: 1\n",
      "  Trial 351 | Epoch start 5477367.791159545 | Epoch end 5489678.791159545\n",
      "Trial 352 low on first approximation | Correlation: -0.027 | SGLX High Time: 705 | ML High Time: 3\n",
      "  Photodiode aligned. Correlation: 0.993 | Shift: -1\n",
      "  Trial 352 | Epoch start 5489677.791159545 | Epoch end 5500352.791159545\n",
      "Trial 353 low on first approximation | Correlation: -0.177 | SGLX High Time: 142 | ML High Time: 87\n",
      "  Photodiode aligned. Correlation: 0.994 | Shift: 1\n",
      "  Trial 353 | Epoch start 5500353.791159545 | Epoch end 5518302.791159545\n",
      "Trial 354 low on first approximation | Correlation: -0.227 | SGLX High Time: 49 | ML High Time: 304\n",
      "  Photodiode aligned. Correlation: 0.994 | Shift: 1\n",
      "  Trial 354 | Epoch start 5518303.791159545 | Epoch end 5529896.791159545\n",
      "Trial 355 low on first approximation | Correlation: -0.114 | SGLX High Time: 369 | ML High Time: 53\n",
      "  Photodiode aligned. Correlation: 0.994 | Shift: -1\n",
      "  Trial 355 | Epoch start 5529895.791159545 | Epoch end 5544706.791159545\n",
      "Trial 356 low on first approximation | Correlation: -0.07 | SGLX High Time: 226 | ML High Time: 291\n",
      "  Photodiode aligned. Correlation: 0.994 | Shift: 0\n",
      "  Trial 356 | Epoch start 5544706.791159545 | Epoch end 5555448.791159545\n",
      "Trial 357 low on first approximation | Correlation: 0.912 | SGLX High Time: 1985 | ML High Time: 7\n",
      "  Photodiode aligned. Correlation: 0.995 | Shift: 1\n",
      "  Trial 357 | Epoch start 5555449.791159545 | Epoch end 5570028.791159545\n",
      "Trial 358 low on first approximation | Correlation: 0.006 | SGLX High Time: 689 | ML High Time: 1639\n",
      "  Photodiode aligned. Correlation: 0.993 | Shift: -1\n",
      "  Trial 358 | Epoch start 5570027.791159545 | Epoch end 5621169.791159545\n",
      "Trial 359 low on first approximation | Correlation: 0.058 | SGLX High Time: 1842 | ML High Time: 655\n",
      "  Photodiode aligned. Correlation: 0.995 | Shift: 1\n",
      "  Trial 359 | Epoch start 5621170.791159545 | Epoch end 5676915.791159545\n",
      "Trial 360 low on first approximation | Correlation: 0.06 | SGLX High Time: 911 | ML High Time: 88\n",
      "  Photodiode aligned. Correlation: 0.994 | Shift: 1\n",
      "  Trial 360 | Epoch start 5676916.791159545 | Epoch end 5732745.791159545\n",
      "Trial 361 low on first approximation | Correlation: 0.006 | SGLX High Time: 577 | ML High Time: 555\n",
      "  Photodiode aligned. Correlation: 0.995 | Shift: 1\n",
      "  Trial 361 | Epoch start 5732746.791159545 | Epoch end 5788508.791159545\n",
      "Trial 362 low on first approximation | Correlation: 0.027 | SGLX High Time: 610 | ML High Time: 155\n",
      "  Photodiode aligned. Correlation: 0.994 | Shift: 0\n",
      "  Trial 362 | Epoch start 5788508.791159545 | Epoch end 5813262.791159545\n",
      "Trial 363 low on first approximation | Correlation: 0.166 | SGLX High Time: 758 | ML High Time: 557\n",
      "  Photodiode aligned. Correlation: 0.996 | Shift: 1\n",
      "  Trial 363 | Epoch start 5813263.791159545 | Epoch end 5827392.791159545\n",
      "Trial 364 low on first approximation | Correlation: 0.052 | SGLX High Time: 173 | ML High Time: 11\n",
      "  Photodiode aligned. Correlation: 0.994 | Shift: 0\n",
      "  Trial 364 | Epoch start 5827392.791159545 | Epoch end 5846641.791159545\n",
      "Trial 365 low on first approximation | Correlation: 0.029 | SGLX High Time: 106 | ML High Time: 104\n",
      "  Photodiode aligned. Correlation: 0.995 | Shift: 1\n",
      "  Trial 365 | Epoch start 5846642.791159545 | Epoch end 5898217.791159545\n",
      "Trial 366 low on first approximation | Correlation: 0.06 | SGLX High Time: 289 | ML High Time: 306\n",
      "  Photodiode aligned. Correlation: 0.994 | Shift: 0\n",
      "  Trial 366 | Epoch start 5898217.791159545 | Epoch end 5957199.791159545\n",
      "Trial 367 low on first approximation | Correlation: -0.001 | SGLX High Time: 674 | ML High Time: 122\n",
      "  Photodiode aligned. Correlation: 0.994 | Shift: 0\n",
      "  Trial 367 | Epoch start 5957199.791159545 | Epoch end 6012961.791159545\n"
     ]
    },
    {
     "data": {
      "image/png": "[encoded data removed]",
      "text/plain": [
       "<Figure size 1500x800 with 2 Axes>"
      ]
     },
     "metadata": {},
     "output_type": "display_data"
    },
    {
     "name": "stdout",
     "output_type": "stream",
     "text": [
      "  Done.\n",
      "Comparing ML and SpikeGLX photodiode signals...\n",
      "Number of frames in ML Cam TTL: 716711\n",
      "Number of frames in SpikeGLX Cam TTL: 716781\n",
      "  Done.\n",
      "Plotting ML and SpikeGLX photodiode signals...\n"
     ]
    },
    {
     "data": {
      "image/png": "[encoded data removed]",
      "text/plain": [
       "<Figure size 1500x300 with 1 Axes>"
      ]
     },
     "metadata": {},
     "output_type": "display_data"
    },
    {
     "name": "stdout",
     "output_type": "stream",
     "text": [
      "  Done.\n",
      "Plotting first trial...\n"
     ]
    },
    {
     "data": {
      "image/png": "[encoded data removed]",
      "text/plain": [
       "<Figure size 2000x800 with 3 Axes>"
      ]
     },
     "metadata": {},
     "output_type": "display_data"
    },
    {
     "name": "stdout",
     "output_type": "stream",
     "text": [
      "  Done.\n",
      "Saving spikeglx_obj...\n",
      "  Pickle file size: 489.029124 MB\n",
      "  Pickle file path: _data\\gandalf_231223\\spikeglx_obj_gandalf_231223.pkl\n",
      "Done. Saved spikeglx_obj.\n"
     ]
    }
   ],
   "source": [
    "from spike_glx.load_SGLX import load_sglx\n",
    "\n",
    "# Load the spikeglx object\n",
    "spikeglx_obj = load_sglx(session_obj.df, \n",
    "                         session_obj, \n",
    "                         file_container_obj, \n",
    "                         signal_dict, \n",
    "                         epochs)"
   ]
  },
  {
   "cell_type": "markdown",
   "metadata": {},
   "source": [
    "### ML-SpikeGLX Session Correlation\n",
    "To see just the correlation matrix for each trial in a session, run `plot_spikeglx_ml_corr` with the newly-generated `spikeglx_obj`."
   ]
  },
  {
   "cell_type": "code",
   "execution_count": 16,
   "metadata": {},
   "outputs": [
    {
     "data": {
      "image/png": "[encoded data removed]",
      "text/plain": [
       "<Figure size 1500x800 with 2 Axes>"
      ]
     },
     "metadata": {},
     "output_type": "display_data"
    }
   ],
   "source": [
    "from spike_glx.read_SGLX import plot_spikeglx_ml_corr\n",
    "plot_spikeglx_ml_corr(spikeglx_obj.ml_sglx_corr_matrix, 100)"
   ]
  },
  {
   "cell_type": "markdown",
   "metadata": {},
   "source": [
    "***\n",
    "## Process White Matter Videos\n",
    "\n",
    "After generating a `SpikeGLX` object, you can segment all the White Matter videos by trial."
   ]
  },
  {
   "cell_type": "code",
   "execution_count": 17,
   "metadata": {},
   "outputs": [
    {
     "name": "stdout",
     "output_type": "stream",
     "text": [
      "Video Parsing Complete.\n",
      "  Missing Videos: defaultdict(<class 'list'>, {'e3v831b': [79, 164, 247, 318], 'e3v8360': [79, 164, 247, 318], 'e3v83ad': [79, 164, 247, 318], 'e3v83c5': [79, 164, 247, 318], 'e3v83d6': [79, 164, 247, 318]})\n"
     ]
    }
   ],
   "source": [
    "from video.wm_videos import parse_wm_videos\n",
    "\n",
    "if session_obj.monkey == 'gandalf':\n",
    "  epoch_start = 'start'\n",
    "  epoch_end = 'end'\n",
    "else:\n",
    "  epoch_start = 'Trace Start'\n",
    "  epoch_end = 'Outcome Start'\n",
    "\n",
    "kwargs = {'spikeglx_obj': spikeglx_obj,       # 'spikeglx_obj': spikeglx_obj\n",
    "          'session_obj': session_obj,         # 'session_obj': session_obj\n",
    "          'trial_start': 0,                   # 'trial_start': 0 \n",
    "          'trial_end': len(session_obj.df),   # 'trial_end': len(session_obj.df)\n",
    "          'epoch_start': epoch_start,         # 'epoch_start': 'start'\n",
    "          'epoch_end': epoch_end,             # 'epoch_end': 'end'   \n",
    "          'thread_flag': False,               # 'thread_flag': False\n",
    "          'exclude_camera': ['e3v83c5']}      # 'exclude_camera': ['e3v83c5']        \n",
    "\n",
    "parse_wm_videos(**kwargs)"
   ]
  },
  {
   "cell_type": "markdown",
   "metadata": {},
   "source": [
    "***\n",
    "## DeepLabCut Pretrained Pose-Assignment"
   ]
  },
  {
   "cell_type": "markdown",
   "metadata": {},
   "source": [
    "### Manually Assign Cameras\n",
    "\n",
    "Based on your WhiteMatter camera setup, assign the identifying code of the camera (e3vXXXX) with what it is pointing to in this dictionary. Depending on whether you set the key have `face` or `body` will drive which DLC pretrained model you end up using (`primate_face` vs. `full_macaque`)."
   ]
  },
  {
   "cell_type": "code",
   "execution_count": 18,
   "metadata": {},
   "outputs": [
    {
     "name": "stdout",
     "output_type": "stream",
     "text": [
      "Loading DLC 2.3.7...\n"
     ]
    }
   ],
   "source": [
    "import deeplabcut\n",
    "\n",
    "camera_dict = {\n",
    "  'e3v8360':'face_1', \n",
    "  'e3v83d6':'face_2',\n",
    "  'e3v83ad':'body_1',\n",
    "  'e3v831b':'body_2'\n",
    "}"
   ]
  },
  {
   "cell_type": "code",
   "execution_count": 24,
   "metadata": {},
   "outputs": [
    {
     "name": "stdout",
     "output_type": "stream",
     "text": [
      "Checking for video files...\n",
      "  Video directory: c:\\Users\\rober\\Desktop\\Monkey-Emotions\\video\\gandalf_231223\n",
      "  Number of videos found: 1452\n"
     ]
    },
    {
     "data": {
      "application/vnd.jupyter.widget-view+json": {
       "model_id": "0419b2f906cd43c39e950cdccdb4e54a",
       "version_major": 2,
       "version_minor": 0
      },
      "text/plain": [
       "  0%|          | 0/1452 [00:00<?, ?it/s]"
      ]
     },
     "metadata": {},
     "output_type": "display_data"
    },
    {
     "name": "stdout",
     "output_type": "stream",
     "text": [
      "  Camera: e3v831b | Number of videos: 363\n",
      "  Camera: e3v8360 | Number of videos: 363\n",
      "  Camera: e3v83ad | Number of videos: 363\n",
      "  Camera: e3v83d6 | Number of videos: 363\n"
     ]
    }
   ],
   "source": [
    "from dlc_primate.dlc_utils import dlc_config, dlc_downsample\n",
    "video_dir = os.path.join(os.getcwd(), 'video', session_obj.monkey + '_' + session_obj.date)\n",
    "dlc_video_path_dict = dlc_config.get_trial_video_list(video_dir, camera_dict)\n",
    "# dlc_video_path_dict = spikeglx_obj.video_file_paths"
   ]
  },
  {
   "cell_type": "code",
   "execution_count": 25,
   "metadata": {},
   "outputs": [
    {
     "name": "stdout",
     "output_type": "stream",
     "text": [
      "Checking frame size...\n",
      "   Pixel width x height: 640x480\n",
      "No need to downsample videos\n",
      "Initializing Project...\n",
      "  Project name: body_2\n",
      "  Model: full_macaque\n",
      "  Initilization Videos: ['c:\\\\Users\\\\rober\\\\Desktop\\\\Monkey-Emotions\\\\video\\\\gandalf_231223\\\\gandalf_231223_0_e3v831b.mp4']\n",
      "Created \"231223_gandalf\\body_2-rh-2023-12-28\\videos\"\n",
      "Created \"231223_gandalf\\body_2-rh-2023-12-28\\labeled-data\"\n",
      "Created \"231223_gandalf\\body_2-rh-2023-12-28\\training-datasets\"\n",
      "Created \"231223_gandalf\\body_2-rh-2023-12-28\\dlc-models\"\n",
      "Copying the videos\n",
      "231223_gandalf\\body_2-rh-2023-12-28\\videos\\gandalf_231223_0_e3v831b.mp4\n",
      "Generated \"231223_gandalf\\body_2-rh-2023-12-28\\config.yaml\"\n",
      "\n",
      "A new project with name body_2-rh-2023-12-28 is created at 231223_gandalf and a configurable file (config.yaml) is stored there. Change the parameters in this file to adapt to your project's needs.\n",
      " Once you have changed the configuration file, use the function 'extract_frames' to select frames for labeling.\n",
      ". [OPTIONAL] Use the function 'add_new_videos' to add new videos to your project (at any stage).\n",
      "Downloading weights...\n",
      "Loading.... full_macaque\n"
     ]
    },
    {
     "data": {
      "application/vnd.jupyter.widget-view+json": {
       "model_id": "47caa973a25147e88ffe0910dc128b6d",
       "version_major": 2,
       "version_minor": 0
      },
      "text/plain": [
       "DLC_macaque_full_resnet50.tar.gz:   0%|          | 0.00/182M [00:00<?, ?B/s]"
      ]
     },
     "metadata": {},
     "output_type": "display_data"
    },
    {
     "name": "stderr",
     "output_type": "stream",
     "text": [
      "c:\\Users\\rober\\anaconda3\\envs\\DEEPLABCUT\\lib\\site-packages\\huggingface_hub\\file_download.py:138: UserWarning: `huggingface_hub` cache-system uses symlinks by default to efficiently store duplicated files but your machine does not support them in C:\\Users\\rober\\Desktop\\Monkey-Emotions\\231223_gandalf\\body_2-rh-2023-12-28\\dlc-models\\iteration-0\\body_2Dec28-trainset95shuffle1\\train. Caching files will still work but in a degraded version that might require more space on your disk. This warning can be disabled by setting the `HF_HUB_DISABLE_SYMLINKS_WARNING` environment variable. For more details, see https://huggingface.co/docs/huggingface_hub/how-to-cache#limitations.\n",
      "To support symlinks on Windows, you either need to activate Developer Mode or to run Python as an administrator. In order to see activate developer mode, see this article: https://docs.microsoft.com/en-us/windows/apps/get-started/enable-your-device-for-development\n",
      "  warnings.warn(message)\n"
     ]
    },
    {
     "name": "stdout",
     "output_type": "stream",
     "text": [
      "231223_gandalf\\body_2-rh-2023-12-28\\dlc-models\\iteration-0\\body_2Dec28-trainset95shuffle1\\train\\pose_cfg.yaml\n",
      "Analyzing video...\n",
      "Using snapshot-1030000 for model 231223_gandalf\\body_2-rh-2023-12-28\\dlc-models\\iteration-0\\body_2Dec28-trainset95shuffle1\n"
     ]
    },
    {
     "name": "stderr",
     "output_type": "stream",
     "text": [
      "c:\\Users\\rober\\anaconda3\\envs\\DEEPLABCUT\\lib\\site-packages\\tensorflow\\python\\keras\\engine\\base_layer_v1.py:1694: UserWarning: `layer.apply` is deprecated and will be removed in a future version. Please use `layer.__call__` method instead.\n",
      "  warnings.warn('`layer.apply` is deprecated and '\n"
     ]
    },
    {
     "name": "stdout",
     "output_type": "stream",
     "text": [
      "Analyzing all the videos in the directory...\n",
      "Starting to analyze %  231223_gandalf\\body_2-rh-2023-12-28\\videos\\gandalf_231223_0_e3v831b.mp4\n",
      "Loading  231223_gandalf\\body_2-rh-2023-12-28\\videos\\gandalf_231223_0_e3v831b.mp4\n",
      "Duration of video [s]:  49.92 , recorded with  120.0 fps!\n",
      "Overall # of frames:  5990  found with (before cropping) frame dimensions:  640 480\n",
      "Starting to extract posture\n"
     ]
    },
    {
     "name": "stderr",
     "output_type": "stream",
     "text": [
      " 14%|█▍        | 832/5990 [03:17<20:01,  4.29it/s]"
     ]
    }
   ],
   "source": [
    "# Custom modules\n",
    "from dlc_primate.dlc_utils import dlc_config, dlc_downsample\n",
    "\n",
    "# Initialize Project\n",
    "config_path_dict, train_config_path_dict = \\\n",
    "  dlc_config.dlc_initialize_project(dlc_video_path_dict, session_obj, camera_dict)"
   ]
  },
  {
   "cell_type": "markdown",
   "metadata": {},
   "source": [
    "### Evaluate Network\n",
    "\n",
    "TRY THIS TODAY"
   ]
  },
  {
   "cell_type": "code",
   "execution_count": null,
   "metadata": {},
   "outputs": [],
   "source": [
    "deeplabcut.evaluate_network(config_path_dict['config_path'], \n",
    "                     dlc_video_path_dict['video_path_dict'], \n",
    "                     plotting=True)"
   ]
  },
  {
   "cell_type": "markdown",
   "metadata": {},
   "source": [
    "### Run Full Model"
   ]
  },
  {
   "cell_type": "code",
   "execution_count": 18,
   "metadata": {},
   "outputs": [
    {
     "name": "stdout",
     "output_type": "stream",
     "text": [
      "Attempting to create a symbolic link of the video ...\n",
      "Video 231205_gandalf\\body_2-rh-2023-12-06\\videos\\gandalf_231205_0_e3v831b.mp4 already exists. Skipping...\n",
      "Symlink creation impossible (exFat architecture?): copying the video instead.\n",
      "c:\\Users\\rober\\Desktop\\Monkey-Emotions\\video\\gandalf_231205\\gandalf_231205_1_e3v831b.mp4 copied to 231205_gandalf\\body_2-rh-2023-12-06\\videos\\gandalf_231205_1_e3v831b.mp4\n",
      "Symlink creation impossible (exFat architecture?): copying the video instead.\n",
      "c:\\Users\\rober\\Desktop\\Monkey-Emotions\\video\\gandalf_231205\\gandalf_231205_2_e3v831b.mp4 copied to 231205_gandalf\\body_2-rh-2023-12-06\\videos\\gandalf_231205_2_e3v831b.mp4\n",
      "Symlink creation impossible (exFat architecture?): copying the video instead.\n",
      "c:\\Users\\rober\\Desktop\\Monkey-Emotions\\video\\gandalf_231205\\gandalf_231205_3_e3v831b.mp4 copied to 231205_gandalf\\body_2-rh-2023-12-06\\videos\\gandalf_231205_3_e3v831b.mp4\n",
      "Symlink creation impossible (exFat architecture?): copying the video instead.\n",
      "c:\\Users\\rober\\Desktop\\Monkey-Emotions\\video\\gandalf_231205\\gandalf_231205_4_e3v831b.mp4 copied to 231205_gandalf\\body_2-rh-2023-12-06\\videos\\gandalf_231205_4_e3v831b.mp4\n",
      "Symlink creation impossible (exFat architecture?): copying the video instead.\n",
      "c:\\Users\\rober\\Desktop\\Monkey-Emotions\\video\\gandalf_231205\\gandalf_231205_5_e3v831b.mp4 copied to 231205_gandalf\\body_2-rh-2023-12-06\\videos\\gandalf_231205_5_e3v831b.mp4\n",
      "Symlink creation impossible (exFat architecture?): copying the video instead.\n",
      "c:\\Users\\rober\\Desktop\\Monkey-Emotions\\video\\gandalf_231205\\gandalf_231205_6_e3v831b.mp4 copied to 231205_gandalf\\body_2-rh-2023-12-06\\videos\\gandalf_231205_6_e3v831b.mp4\n",
      "Symlink creation impossible (exFat architecture?): copying the video instead.\n",
      "c:\\Users\\rober\\Desktop\\Monkey-Emotions\\video\\gandalf_231205\\gandalf_231205_7_e3v831b.mp4 copied to 231205_gandalf\\body_2-rh-2023-12-06\\videos\\gandalf_231205_7_e3v831b.mp4\n",
      "Symlink creation impossible (exFat architecture?): copying the video instead.\n",
      "c:\\Users\\rober\\Desktop\\Monkey-Emotions\\video\\gandalf_231205\\gandalf_231205_8_e3v831b.mp4 copied to 231205_gandalf\\body_2-rh-2023-12-06\\videos\\gandalf_231205_8_e3v831b.mp4\n",
      "Symlink creation impossible (exFat architecture?): copying the video instead.\n",
      "c:\\Users\\rober\\Desktop\\Monkey-Emotions\\video\\gandalf_231205\\gandalf_231205_9_e3v831b.mp4 copied to 231205_gandalf\\body_2-rh-2023-12-06\\videos\\gandalf_231205_9_e3v831b.mp4\n",
      "Symlink creation impossible (exFat architecture?): copying the video instead.\n",
      "c:\\Users\\rober\\Desktop\\Monkey-Emotions\\video\\gandalf_231205\\gandalf_231205_10_e3v831b.mp4 copied to 231205_gandalf\\body_2-rh-2023-12-06\\videos\\gandalf_231205_10_e3v831b.mp4\n",
      "Symlink creation impossible (exFat architecture?): copying the video instead.\n",
      "c:\\Users\\rober\\Desktop\\Monkey-Emotions\\video\\gandalf_231205\\gandalf_231205_11_e3v831b.mp4 copied to 231205_gandalf\\body_2-rh-2023-12-06\\videos\\gandalf_231205_11_e3v831b.mp4\n",
      "Symlink creation impossible (exFat architecture?): copying the video instead.\n",
      "c:\\Users\\rober\\Desktop\\Monkey-Emotions\\video\\gandalf_231205\\gandalf_231205_12_e3v831b.mp4 copied to 231205_gandalf\\body_2-rh-2023-12-06\\videos\\gandalf_231205_12_e3v831b.mp4\n",
      "Symlink creation impossible (exFat architecture?): copying the video instead.\n",
      "c:\\Users\\rober\\Desktop\\Monkey-Emotions\\video\\gandalf_231205\\gandalf_231205_13_e3v831b.mp4 copied to 231205_gandalf\\body_2-rh-2023-12-06\\videos\\gandalf_231205_13_e3v831b.mp4\n",
      "Symlink creation impossible (exFat architecture?): copying the video instead.\n",
      "c:\\Users\\rober\\Desktop\\Monkey-Emotions\\video\\gandalf_231205\\gandalf_231205_14_e3v831b.mp4 copied to 231205_gandalf\\body_2-rh-2023-12-06\\videos\\gandalf_231205_14_e3v831b.mp4\n",
      "Symlink creation impossible (exFat architecture?): copying the video instead.\n",
      "c:\\Users\\rober\\Desktop\\Monkey-Emotions\\video\\gandalf_231205\\gandalf_231205_15_e3v831b.mp4 copied to 231205_gandalf\\body_2-rh-2023-12-06\\videos\\gandalf_231205_15_e3v831b.mp4\n",
      "Symlink creation impossible (exFat architecture?): copying the video instead.\n",
      "c:\\Users\\rober\\Desktop\\Monkey-Emotions\\video\\gandalf_231205\\gandalf_231205_16_e3v831b.mp4 copied to 231205_gandalf\\body_2-rh-2023-12-06\\videos\\gandalf_231205_16_e3v831b.mp4\n",
      "Symlink creation impossible (exFat architecture?): copying the video instead.\n",
      "c:\\Users\\rober\\Desktop\\Monkey-Emotions\\video\\gandalf_231205\\gandalf_231205_17_e3v831b.mp4 copied to 231205_gandalf\\body_2-rh-2023-12-06\\videos\\gandalf_231205_17_e3v831b.mp4\n",
      "Symlink creation impossible (exFat architecture?): copying the video instead.\n",
      "c:\\Users\\rober\\Desktop\\Monkey-Emotions\\video\\gandalf_231205\\gandalf_231205_18_e3v831b.mp4 copied to 231205_gandalf\\body_2-rh-2023-12-06\\videos\\gandalf_231205_18_e3v831b.mp4\n",
      "Symlink creation impossible (exFat architecture?): copying the video instead.\n",
      "c:\\Users\\rober\\Desktop\\Monkey-Emotions\\video\\gandalf_231205\\gandalf_231205_19_e3v831b.mp4 copied to 231205_gandalf\\body_2-rh-2023-12-06\\videos\\gandalf_231205_19_e3v831b.mp4\n",
      "Symlink creation impossible (exFat architecture?): copying the video instead.\n",
      "c:\\Users\\rober\\Desktop\\Monkey-Emotions\\video\\gandalf_231205\\gandalf_231205_20_e3v831b.mp4 copied to 231205_gandalf\\body_2-rh-2023-12-06\\videos\\gandalf_231205_20_e3v831b.mp4\n",
      "Symlink creation impossible (exFat architecture?): copying the video instead.\n",
      "c:\\Users\\rober\\Desktop\\Monkey-Emotions\\video\\gandalf_231205\\gandalf_231205_21_e3v831b.mp4 copied to 231205_gandalf\\body_2-rh-2023-12-06\\videos\\gandalf_231205_21_e3v831b.mp4\n",
      "Symlink creation impossible (exFat architecture?): copying the video instead.\n",
      "c:\\Users\\rober\\Desktop\\Monkey-Emotions\\video\\gandalf_231205\\gandalf_231205_22_e3v831b.mp4 copied to 231205_gandalf\\body_2-rh-2023-12-06\\videos\\gandalf_231205_22_e3v831b.mp4\n",
      "Symlink creation impossible (exFat architecture?): copying the video instead.\n",
      "c:\\Users\\rober\\Desktop\\Monkey-Emotions\\video\\gandalf_231205\\gandalf_231205_23_e3v831b.mp4 copied to 231205_gandalf\\body_2-rh-2023-12-06\\videos\\gandalf_231205_23_e3v831b.mp4\n",
      "Symlink creation impossible (exFat architecture?): copying the video instead.\n",
      "c:\\Users\\rober\\Desktop\\Monkey-Emotions\\video\\gandalf_231205\\gandalf_231205_24_e3v831b.mp4 copied to 231205_gandalf\\body_2-rh-2023-12-06\\videos\\gandalf_231205_24_e3v831b.mp4\n",
      "Symlink creation impossible (exFat architecture?): copying the video instead.\n",
      "c:\\Users\\rober\\Desktop\\Monkey-Emotions\\video\\gandalf_231205\\gandalf_231205_25_e3v831b.mp4 copied to 231205_gandalf\\body_2-rh-2023-12-06\\videos\\gandalf_231205_25_e3v831b.mp4\n",
      "Symlink creation impossible (exFat architecture?): copying the video instead.\n",
      "c:\\Users\\rober\\Desktop\\Monkey-Emotions\\video\\gandalf_231205\\gandalf_231205_26_e3v831b.mp4 copied to 231205_gandalf\\body_2-rh-2023-12-06\\videos\\gandalf_231205_26_e3v831b.mp4\n",
      "Symlink creation impossible (exFat architecture?): copying the video instead.\n",
      "c:\\Users\\rober\\Desktop\\Monkey-Emotions\\video\\gandalf_231205\\gandalf_231205_27_e3v831b.mp4 copied to 231205_gandalf\\body_2-rh-2023-12-06\\videos\\gandalf_231205_27_e3v831b.mp4\n",
      "Symlink creation impossible (exFat architecture?): copying the video instead.\n",
      "c:\\Users\\rober\\Desktop\\Monkey-Emotions\\video\\gandalf_231205\\gandalf_231205_28_e3v831b.mp4 copied to 231205_gandalf\\body_2-rh-2023-12-06\\videos\\gandalf_231205_28_e3v831b.mp4\n",
      "Symlink creation impossible (exFat architecture?): copying the video instead.\n",
      "c:\\Users\\rober\\Desktop\\Monkey-Emotions\\video\\gandalf_231205\\gandalf_231205_29_e3v831b.mp4 copied to 231205_gandalf\\body_2-rh-2023-12-06\\videos\\gandalf_231205_29_e3v831b.mp4\n",
      "Symlink creation impossible (exFat architecture?): copying the video instead.\n",
      "c:\\Users\\rober\\Desktop\\Monkey-Emotions\\video\\gandalf_231205\\gandalf_231205_30_e3v831b.mp4 copied to 231205_gandalf\\body_2-rh-2023-12-06\\videos\\gandalf_231205_30_e3v831b.mp4\n",
      "Symlink creation impossible (exFat architecture?): copying the video instead.\n",
      "c:\\Users\\rober\\Desktop\\Monkey-Emotions\\video\\gandalf_231205\\gandalf_231205_31_e3v831b.mp4 copied to 231205_gandalf\\body_2-rh-2023-12-06\\videos\\gandalf_231205_31_e3v831b.mp4\n",
      "Symlink creation impossible (exFat architecture?): copying the video instead.\n",
      "c:\\Users\\rober\\Desktop\\Monkey-Emotions\\video\\gandalf_231205\\gandalf_231205_32_e3v831b.mp4 copied to 231205_gandalf\\body_2-rh-2023-12-06\\videos\\gandalf_231205_32_e3v831b.mp4\n",
      "Symlink creation impossible (exFat architecture?): copying the video instead.\n",
      "c:\\Users\\rober\\Desktop\\Monkey-Emotions\\video\\gandalf_231205\\gandalf_231205_33_e3v831b.mp4 copied to 231205_gandalf\\body_2-rh-2023-12-06\\videos\\gandalf_231205_33_e3v831b.mp4\n",
      "Symlink creation impossible (exFat architecture?): copying the video instead.\n",
      "c:\\Users\\rober\\Desktop\\Monkey-Emotions\\video\\gandalf_231205\\gandalf_231205_34_e3v831b.mp4 copied to 231205_gandalf\\body_2-rh-2023-12-06\\videos\\gandalf_231205_34_e3v831b.mp4\n",
      "Symlink creation impossible (exFat architecture?): copying the video instead.\n",
      "c:\\Users\\rober\\Desktop\\Monkey-Emotions\\video\\gandalf_231205\\gandalf_231205_35_e3v831b.mp4 copied to 231205_gandalf\\body_2-rh-2023-12-06\\videos\\gandalf_231205_35_e3v831b.mp4\n",
      "Symlink creation impossible (exFat architecture?): copying the video instead.\n",
      "c:\\Users\\rober\\Desktop\\Monkey-Emotions\\video\\gandalf_231205\\gandalf_231205_36_e3v831b.mp4 copied to 231205_gandalf\\body_2-rh-2023-12-06\\videos\\gandalf_231205_36_e3v831b.mp4\n",
      "Symlink creation impossible (exFat architecture?): copying the video instead.\n",
      "c:\\Users\\rober\\Desktop\\Monkey-Emotions\\video\\gandalf_231205\\gandalf_231205_37_e3v831b.mp4 copied to 231205_gandalf\\body_2-rh-2023-12-06\\videos\\gandalf_231205_37_e3v831b.mp4\n",
      "Symlink creation impossible (exFat architecture?): copying the video instead.\n",
      "c:\\Users\\rober\\Desktop\\Monkey-Emotions\\video\\gandalf_231205\\gandalf_231205_38_e3v831b.mp4 copied to 231205_gandalf\\body_2-rh-2023-12-06\\videos\\gandalf_231205_38_e3v831b.mp4\n",
      "Symlink creation impossible (exFat architecture?): copying the video instead.\n",
      "c:\\Users\\rober\\Desktop\\Monkey-Emotions\\video\\gandalf_231205\\gandalf_231205_39_e3v831b.mp4 copied to 231205_gandalf\\body_2-rh-2023-12-06\\videos\\gandalf_231205_39_e3v831b.mp4\n",
      "Symlink creation impossible (exFat architecture?): copying the video instead.\n",
      "c:\\Users\\rober\\Desktop\\Monkey-Emotions\\video\\gandalf_231205\\gandalf_231205_40_e3v831b.mp4 copied to 231205_gandalf\\body_2-rh-2023-12-06\\videos\\gandalf_231205_40_e3v831b.mp4\n",
      "Symlink creation impossible (exFat architecture?): copying the video instead.\n",
      "c:\\Users\\rober\\Desktop\\Monkey-Emotions\\video\\gandalf_231205\\gandalf_231205_41_e3v831b.mp4 copied to 231205_gandalf\\body_2-rh-2023-12-06\\videos\\gandalf_231205_41_e3v831b.mp4\n",
      "Symlink creation impossible (exFat architecture?): copying the video instead.\n",
      "c:\\Users\\rober\\Desktop\\Monkey-Emotions\\video\\gandalf_231205\\gandalf_231205_42_e3v831b.mp4 copied to 231205_gandalf\\body_2-rh-2023-12-06\\videos\\gandalf_231205_42_e3v831b.mp4\n",
      "Symlink creation impossible (exFat architecture?): copying the video instead.\n",
      "c:\\Users\\rober\\Desktop\\Monkey-Emotions\\video\\gandalf_231205\\gandalf_231205_43_e3v831b.mp4 copied to 231205_gandalf\\body_2-rh-2023-12-06\\videos\\gandalf_231205_43_e3v831b.mp4\n",
      "Symlink creation impossible (exFat architecture?): copying the video instead.\n",
      "c:\\Users\\rober\\Desktop\\Monkey-Emotions\\video\\gandalf_231205\\gandalf_231205_44_e3v831b.mp4 copied to 231205_gandalf\\body_2-rh-2023-12-06\\videos\\gandalf_231205_44_e3v831b.mp4\n",
      "Symlink creation impossible (exFat architecture?): copying the video instead.\n",
      "c:\\Users\\rober\\Desktop\\Monkey-Emotions\\video\\gandalf_231205\\gandalf_231205_45_e3v831b.mp4 copied to 231205_gandalf\\body_2-rh-2023-12-06\\videos\\gandalf_231205_45_e3v831b.mp4\n",
      "Symlink creation impossible (exFat architecture?): copying the video instead.\n",
      "c:\\Users\\rober\\Desktop\\Monkey-Emotions\\video\\gandalf_231205\\gandalf_231205_46_e3v831b.mp4 copied to 231205_gandalf\\body_2-rh-2023-12-06\\videos\\gandalf_231205_46_e3v831b.mp4\n",
      "Symlink creation impossible (exFat architecture?): copying the video instead.\n",
      "c:\\Users\\rober\\Desktop\\Monkey-Emotions\\video\\gandalf_231205\\gandalf_231205_47_e3v831b.mp4 copied to 231205_gandalf\\body_2-rh-2023-12-06\\videos\\gandalf_231205_47_e3v831b.mp4\n",
      "Symlink creation impossible (exFat architecture?): copying the video instead.\n",
      "c:\\Users\\rober\\Desktop\\Monkey-Emotions\\video\\gandalf_231205\\gandalf_231205_48_e3v831b.mp4 copied to 231205_gandalf\\body_2-rh-2023-12-06\\videos\\gandalf_231205_48_e3v831b.mp4\n",
      "Symlink creation impossible (exFat architecture?): copying the video instead.\n",
      "c:\\Users\\rober\\Desktop\\Monkey-Emotions\\video\\gandalf_231205\\gandalf_231205_49_e3v831b.mp4 copied to 231205_gandalf\\body_2-rh-2023-12-06\\videos\\gandalf_231205_49_e3v831b.mp4\n",
      "Symlink creation impossible (exFat architecture?): copying the video instead.\n",
      "c:\\Users\\rober\\Desktop\\Monkey-Emotions\\video\\gandalf_231205\\gandalf_231205_50_e3v831b.mp4 copied to 231205_gandalf\\body_2-rh-2023-12-06\\videos\\gandalf_231205_50_e3v831b.mp4\n",
      "Symlink creation impossible (exFat architecture?): copying the video instead.\n",
      "c:\\Users\\rober\\Desktop\\Monkey-Emotions\\video\\gandalf_231205\\gandalf_231205_51_e3v831b.mp4 copied to 231205_gandalf\\body_2-rh-2023-12-06\\videos\\gandalf_231205_51_e3v831b.mp4\n",
      "Symlink creation impossible (exFat architecture?): copying the video instead.\n",
      "c:\\Users\\rober\\Desktop\\Monkey-Emotions\\video\\gandalf_231205\\gandalf_231205_52_e3v831b.mp4 copied to 231205_gandalf\\body_2-rh-2023-12-06\\videos\\gandalf_231205_52_e3v831b.mp4\n",
      "Symlink creation impossible (exFat architecture?): copying the video instead.\n",
      "c:\\Users\\rober\\Desktop\\Monkey-Emotions\\video\\gandalf_231205\\gandalf_231205_53_e3v831b.mp4 copied to 231205_gandalf\\body_2-rh-2023-12-06\\videos\\gandalf_231205_53_e3v831b.mp4\n",
      "Symlink creation impossible (exFat architecture?): copying the video instead.\n",
      "c:\\Users\\rober\\Desktop\\Monkey-Emotions\\video\\gandalf_231205\\gandalf_231205_54_e3v831b.mp4 copied to 231205_gandalf\\body_2-rh-2023-12-06\\videos\\gandalf_231205_54_e3v831b.mp4\n",
      "Symlink creation impossible (exFat architecture?): copying the video instead.\n",
      "c:\\Users\\rober\\Desktop\\Monkey-Emotions\\video\\gandalf_231205\\gandalf_231205_55_e3v831b.mp4 copied to 231205_gandalf\\body_2-rh-2023-12-06\\videos\\gandalf_231205_55_e3v831b.mp4\n",
      "Symlink creation impossible (exFat architecture?): copying the video instead.\n",
      "c:\\Users\\rober\\Desktop\\Monkey-Emotions\\video\\gandalf_231205\\gandalf_231205_56_e3v831b.mp4 copied to 231205_gandalf\\body_2-rh-2023-12-06\\videos\\gandalf_231205_56_e3v831b.mp4\n",
      "Symlink creation impossible (exFat architecture?): copying the video instead.\n",
      "c:\\Users\\rober\\Desktop\\Monkey-Emotions\\video\\gandalf_231205\\gandalf_231205_57_e3v831b.mp4 copied to 231205_gandalf\\body_2-rh-2023-12-06\\videos\\gandalf_231205_57_e3v831b.mp4\n",
      "Symlink creation impossible (exFat architecture?): copying the video instead.\n",
      "c:\\Users\\rober\\Desktop\\Monkey-Emotions\\video\\gandalf_231205\\gandalf_231205_58_e3v831b.mp4 copied to 231205_gandalf\\body_2-rh-2023-12-06\\videos\\gandalf_231205_58_e3v831b.mp4\n",
      "Symlink creation impossible (exFat architecture?): copying the video instead.\n",
      "c:\\Users\\rober\\Desktop\\Monkey-Emotions\\video\\gandalf_231205\\gandalf_231205_59_e3v831b.mp4 copied to 231205_gandalf\\body_2-rh-2023-12-06\\videos\\gandalf_231205_59_e3v831b.mp4\n",
      "Symlink creation impossible (exFat architecture?): copying the video instead.\n",
      "c:\\Users\\rober\\Desktop\\Monkey-Emotions\\video\\gandalf_231205\\gandalf_231205_60_e3v831b.mp4 copied to 231205_gandalf\\body_2-rh-2023-12-06\\videos\\gandalf_231205_60_e3v831b.mp4\n",
      "Symlink creation impossible (exFat architecture?): copying the video instead.\n",
      "c:\\Users\\rober\\Desktop\\Monkey-Emotions\\video\\gandalf_231205\\gandalf_231205_61_e3v831b.mp4 copied to 231205_gandalf\\body_2-rh-2023-12-06\\videos\\gandalf_231205_61_e3v831b.mp4\n",
      "Symlink creation impossible (exFat architecture?): copying the video instead.\n",
      "c:\\Users\\rober\\Desktop\\Monkey-Emotions\\video\\gandalf_231205\\gandalf_231205_62_e3v831b.mp4 copied to 231205_gandalf\\body_2-rh-2023-12-06\\videos\\gandalf_231205_62_e3v831b.mp4\n",
      "Symlink creation impossible (exFat architecture?): copying the video instead.\n",
      "c:\\Users\\rober\\Desktop\\Monkey-Emotions\\video\\gandalf_231205\\gandalf_231205_63_e3v831b.mp4 copied to 231205_gandalf\\body_2-rh-2023-12-06\\videos\\gandalf_231205_63_e3v831b.mp4\n",
      "Symlink creation impossible (exFat architecture?): copying the video instead.\n",
      "c:\\Users\\rober\\Desktop\\Monkey-Emotions\\video\\gandalf_231205\\gandalf_231205_64_e3v831b.mp4 copied to 231205_gandalf\\body_2-rh-2023-12-06\\videos\\gandalf_231205_64_e3v831b.mp4\n",
      "Symlink creation impossible (exFat architecture?): copying the video instead.\n",
      "c:\\Users\\rober\\Desktop\\Monkey-Emotions\\video\\gandalf_231205\\gandalf_231205_65_e3v831b.mp4 copied to 231205_gandalf\\body_2-rh-2023-12-06\\videos\\gandalf_231205_65_e3v831b.mp4\n",
      "Symlink creation impossible (exFat architecture?): copying the video instead.\n",
      "c:\\Users\\rober\\Desktop\\Monkey-Emotions\\video\\gandalf_231205\\gandalf_231205_66_e3v831b.mp4 copied to 231205_gandalf\\body_2-rh-2023-12-06\\videos\\gandalf_231205_66_e3v831b.mp4\n",
      "Symlink creation impossible (exFat architecture?): copying the video instead.\n",
      "c:\\Users\\rober\\Desktop\\Monkey-Emotions\\video\\gandalf_231205\\gandalf_231205_67_e3v831b.mp4 copied to 231205_gandalf\\body_2-rh-2023-12-06\\videos\\gandalf_231205_67_e3v831b.mp4\n",
      "Symlink creation impossible (exFat architecture?): copying the video instead.\n",
      "c:\\Users\\rober\\Desktop\\Monkey-Emotions\\video\\gandalf_231205\\gandalf_231205_68_e3v831b.mp4 copied to 231205_gandalf\\body_2-rh-2023-12-06\\videos\\gandalf_231205_68_e3v831b.mp4\n",
      "Symlink creation impossible (exFat architecture?): copying the video instead.\n",
      "c:\\Users\\rober\\Desktop\\Monkey-Emotions\\video\\gandalf_231205\\gandalf_231205_69_e3v831b.mp4 copied to 231205_gandalf\\body_2-rh-2023-12-06\\videos\\gandalf_231205_69_e3v831b.mp4\n",
      "Symlink creation impossible (exFat architecture?): copying the video instead.\n",
      "c:\\Users\\rober\\Desktop\\Monkey-Emotions\\video\\gandalf_231205\\gandalf_231205_70_e3v831b.mp4 copied to 231205_gandalf\\body_2-rh-2023-12-06\\videos\\gandalf_231205_70_e3v831b.mp4\n",
      "Symlink creation impossible (exFat architecture?): copying the video instead.\n",
      "c:\\Users\\rober\\Desktop\\Monkey-Emotions\\video\\gandalf_231205\\gandalf_231205_71_e3v831b.mp4 copied to 231205_gandalf\\body_2-rh-2023-12-06\\videos\\gandalf_231205_71_e3v831b.mp4\n",
      "Symlink creation impossible (exFat architecture?): copying the video instead.\n",
      "c:\\Users\\rober\\Desktop\\Monkey-Emotions\\video\\gandalf_231205\\gandalf_231205_72_e3v831b.mp4 copied to 231205_gandalf\\body_2-rh-2023-12-06\\videos\\gandalf_231205_72_e3v831b.mp4\n",
      "Symlink creation impossible (exFat architecture?): copying the video instead.\n",
      "c:\\Users\\rober\\Desktop\\Monkey-Emotions\\video\\gandalf_231205\\gandalf_231205_73_e3v831b.mp4 copied to 231205_gandalf\\body_2-rh-2023-12-06\\videos\\gandalf_231205_73_e3v831b.mp4\n",
      "Symlink creation impossible (exFat architecture?): copying the video instead.\n",
      "c:\\Users\\rober\\Desktop\\Monkey-Emotions\\video\\gandalf_231205\\gandalf_231205_75_e3v831b.mp4 copied to 231205_gandalf\\body_2-rh-2023-12-06\\videos\\gandalf_231205_75_e3v831b.mp4\n",
      "Symlink creation impossible (exFat architecture?): copying the video instead.\n",
      "c:\\Users\\rober\\Desktop\\Monkey-Emotions\\video\\gandalf_231205\\gandalf_231205_76_e3v831b.mp4 copied to 231205_gandalf\\body_2-rh-2023-12-06\\videos\\gandalf_231205_76_e3v831b.mp4\n",
      "Symlink creation impossible (exFat architecture?): copying the video instead.\n",
      "c:\\Users\\rober\\Desktop\\Monkey-Emotions\\video\\gandalf_231205\\gandalf_231205_77_e3v831b.mp4 copied to 231205_gandalf\\body_2-rh-2023-12-06\\videos\\gandalf_231205_77_e3v831b.mp4\n",
      "Symlink creation impossible (exFat architecture?): copying the video instead.\n",
      "c:\\Users\\rober\\Desktop\\Monkey-Emotions\\video\\gandalf_231205\\gandalf_231205_78_e3v831b.mp4 copied to 231205_gandalf\\body_2-rh-2023-12-06\\videos\\gandalf_231205_78_e3v831b.mp4\n",
      "Symlink creation impossible (exFat architecture?): copying the video instead.\n",
      "c:\\Users\\rober\\Desktop\\Monkey-Emotions\\video\\gandalf_231205\\gandalf_231205_79_e3v831b.mp4 copied to 231205_gandalf\\body_2-rh-2023-12-06\\videos\\gandalf_231205_79_e3v831b.mp4\n",
      "Symlink creation impossible (exFat architecture?): copying the video instead.\n",
      "c:\\Users\\rober\\Desktop\\Monkey-Emotions\\video\\gandalf_231205\\gandalf_231205_80_e3v831b.mp4 copied to 231205_gandalf\\body_2-rh-2023-12-06\\videos\\gandalf_231205_80_e3v831b.mp4\n",
      "Symlink creation impossible (exFat architecture?): copying the video instead.\n",
      "c:\\Users\\rober\\Desktop\\Monkey-Emotions\\video\\gandalf_231205\\gandalf_231205_81_e3v831b.mp4 copied to 231205_gandalf\\body_2-rh-2023-12-06\\videos\\gandalf_231205_81_e3v831b.mp4\n",
      "Symlink creation impossible (exFat architecture?): copying the video instead.\n",
      "c:\\Users\\rober\\Desktop\\Monkey-Emotions\\video\\gandalf_231205\\gandalf_231205_82_e3v831b.mp4 copied to 231205_gandalf\\body_2-rh-2023-12-06\\videos\\gandalf_231205_82_e3v831b.mp4\n",
      "Symlink creation impossible (exFat architecture?): copying the video instead.\n",
      "c:\\Users\\rober\\Desktop\\Monkey-Emotions\\video\\gandalf_231205\\gandalf_231205_83_e3v831b.mp4 copied to 231205_gandalf\\body_2-rh-2023-12-06\\videos\\gandalf_231205_83_e3v831b.mp4\n",
      "Symlink creation impossible (exFat architecture?): copying the video instead.\n",
      "c:\\Users\\rober\\Desktop\\Monkey-Emotions\\video\\gandalf_231205\\gandalf_231205_84_e3v831b.mp4 copied to 231205_gandalf\\body_2-rh-2023-12-06\\videos\\gandalf_231205_84_e3v831b.mp4\n",
      "Symlink creation impossible (exFat architecture?): copying the video instead.\n",
      "c:\\Users\\rober\\Desktop\\Monkey-Emotions\\video\\gandalf_231205\\gandalf_231205_85_e3v831b.mp4 copied to 231205_gandalf\\body_2-rh-2023-12-06\\videos\\gandalf_231205_85_e3v831b.mp4\n",
      "Symlink creation impossible (exFat architecture?): copying the video instead.\n",
      "c:\\Users\\rober\\Desktop\\Monkey-Emotions\\video\\gandalf_231205\\gandalf_231205_86_e3v831b.mp4 copied to 231205_gandalf\\body_2-rh-2023-12-06\\videos\\gandalf_231205_86_e3v831b.mp4\n",
      "Symlink creation impossible (exFat architecture?): copying the video instead.\n",
      "c:\\Users\\rober\\Desktop\\Monkey-Emotions\\video\\gandalf_231205\\gandalf_231205_87_e3v831b.mp4 copied to 231205_gandalf\\body_2-rh-2023-12-06\\videos\\gandalf_231205_87_e3v831b.mp4\n",
      "Symlink creation impossible (exFat architecture?): copying the video instead.\n",
      "c:\\Users\\rober\\Desktop\\Monkey-Emotions\\video\\gandalf_231205\\gandalf_231205_88_e3v831b.mp4 copied to 231205_gandalf\\body_2-rh-2023-12-06\\videos\\gandalf_231205_88_e3v831b.mp4\n",
      "Symlink creation impossible (exFat architecture?): copying the video instead.\n",
      "c:\\Users\\rober\\Desktop\\Monkey-Emotions\\video\\gandalf_231205\\gandalf_231205_89_e3v831b.mp4 copied to 231205_gandalf\\body_2-rh-2023-12-06\\videos\\gandalf_231205_89_e3v831b.mp4\n",
      "Symlink creation impossible (exFat architecture?): copying the video instead.\n",
      "c:\\Users\\rober\\Desktop\\Monkey-Emotions\\video\\gandalf_231205\\gandalf_231205_90_e3v831b.mp4 copied to 231205_gandalf\\body_2-rh-2023-12-06\\videos\\gandalf_231205_90_e3v831b.mp4\n",
      "Symlink creation impossible (exFat architecture?): copying the video instead.\n",
      "c:\\Users\\rober\\Desktop\\Monkey-Emotions\\video\\gandalf_231205\\gandalf_231205_91_e3v831b.mp4 copied to 231205_gandalf\\body_2-rh-2023-12-06\\videos\\gandalf_231205_91_e3v831b.mp4\n",
      "Symlink creation impossible (exFat architecture?): copying the video instead.\n",
      "c:\\Users\\rober\\Desktop\\Monkey-Emotions\\video\\gandalf_231205\\gandalf_231205_92_e3v831b.mp4 copied to 231205_gandalf\\body_2-rh-2023-12-06\\videos\\gandalf_231205_92_e3v831b.mp4\n",
      "Symlink creation impossible (exFat architecture?): copying the video instead.\n",
      "c:\\Users\\rober\\Desktop\\Monkey-Emotions\\video\\gandalf_231205\\gandalf_231205_93_e3v831b.mp4 copied to 231205_gandalf\\body_2-rh-2023-12-06\\videos\\gandalf_231205_93_e3v831b.mp4\n",
      "Symlink creation impossible (exFat architecture?): copying the video instead.\n",
      "c:\\Users\\rober\\Desktop\\Monkey-Emotions\\video\\gandalf_231205\\gandalf_231205_94_e3v831b.mp4 copied to 231205_gandalf\\body_2-rh-2023-12-06\\videos\\gandalf_231205_94_e3v831b.mp4\n",
      "Symlink creation impossible (exFat architecture?): copying the video instead.\n",
      "c:\\Users\\rober\\Desktop\\Monkey-Emotions\\video\\gandalf_231205\\gandalf_231205_95_e3v831b.mp4 copied to 231205_gandalf\\body_2-rh-2023-12-06\\videos\\gandalf_231205_95_e3v831b.mp4\n",
      "Symlink creation impossible (exFat architecture?): copying the video instead.\n",
      "c:\\Users\\rober\\Desktop\\Monkey-Emotions\\video\\gandalf_231205\\gandalf_231205_96_e3v831b.mp4 copied to 231205_gandalf\\body_2-rh-2023-12-06\\videos\\gandalf_231205_96_e3v831b.mp4\n",
      "Symlink creation impossible (exFat architecture?): copying the video instead.\n",
      "c:\\Users\\rober\\Desktop\\Monkey-Emotions\\video\\gandalf_231205\\gandalf_231205_97_e3v831b.mp4 copied to 231205_gandalf\\body_2-rh-2023-12-06\\videos\\gandalf_231205_97_e3v831b.mp4\n",
      "Symlink creation impossible (exFat architecture?): copying the video instead.\n",
      "c:\\Users\\rober\\Desktop\\Monkey-Emotions\\video\\gandalf_231205\\gandalf_231205_98_e3v831b.mp4 copied to 231205_gandalf\\body_2-rh-2023-12-06\\videos\\gandalf_231205_98_e3v831b.mp4\n",
      "Symlink creation impossible (exFat architecture?): copying the video instead.\n",
      "c:\\Users\\rober\\Desktop\\Monkey-Emotions\\video\\gandalf_231205\\gandalf_231205_99_e3v831b.mp4 copied to 231205_gandalf\\body_2-rh-2023-12-06\\videos\\gandalf_231205_99_e3v831b.mp4\n",
      "Symlink creation impossible (exFat architecture?): copying the video instead.\n",
      "c:\\Users\\rober\\Desktop\\Monkey-Emotions\\video\\gandalf_231205\\gandalf_231205_100_e3v831b.mp4 copied to 231205_gandalf\\body_2-rh-2023-12-06\\videos\\gandalf_231205_100_e3v831b.mp4\n",
      "Symlink creation impossible (exFat architecture?): copying the video instead.\n",
      "c:\\Users\\rober\\Desktop\\Monkey-Emotions\\video\\gandalf_231205\\gandalf_231205_101_e3v831b.mp4 copied to 231205_gandalf\\body_2-rh-2023-12-06\\videos\\gandalf_231205_101_e3v831b.mp4\n",
      "Symlink creation impossible (exFat architecture?): copying the video instead.\n",
      "c:\\Users\\rober\\Desktop\\Monkey-Emotions\\video\\gandalf_231205\\gandalf_231205_102_e3v831b.mp4 copied to 231205_gandalf\\body_2-rh-2023-12-06\\videos\\gandalf_231205_102_e3v831b.mp4\n",
      "Symlink creation impossible (exFat architecture?): copying the video instead.\n",
      "c:\\Users\\rober\\Desktop\\Monkey-Emotions\\video\\gandalf_231205\\gandalf_231205_103_e3v831b.mp4 copied to 231205_gandalf\\body_2-rh-2023-12-06\\videos\\gandalf_231205_103_e3v831b.mp4\n",
      "Symlink creation impossible (exFat architecture?): copying the video instead.\n",
      "c:\\Users\\rober\\Desktop\\Monkey-Emotions\\video\\gandalf_231205\\gandalf_231205_104_e3v831b.mp4 copied to 231205_gandalf\\body_2-rh-2023-12-06\\videos\\gandalf_231205_104_e3v831b.mp4\n",
      "Symlink creation impossible (exFat architecture?): copying the video instead.\n",
      "c:\\Users\\rober\\Desktop\\Monkey-Emotions\\video\\gandalf_231205\\gandalf_231205_105_e3v831b.mp4 copied to 231205_gandalf\\body_2-rh-2023-12-06\\videos\\gandalf_231205_105_e3v831b.mp4\n",
      "Symlink creation impossible (exFat architecture?): copying the video instead.\n",
      "c:\\Users\\rober\\Desktop\\Monkey-Emotions\\video\\gandalf_231205\\gandalf_231205_106_e3v831b.mp4 copied to 231205_gandalf\\body_2-rh-2023-12-06\\videos\\gandalf_231205_106_e3v831b.mp4\n",
      "Symlink creation impossible (exFat architecture?): copying the video instead.\n",
      "c:\\Users\\rober\\Desktop\\Monkey-Emotions\\video\\gandalf_231205\\gandalf_231205_107_e3v831b.mp4 copied to 231205_gandalf\\body_2-rh-2023-12-06\\videos\\gandalf_231205_107_e3v831b.mp4\n",
      "Symlink creation impossible (exFat architecture?): copying the video instead.\n",
      "c:\\Users\\rober\\Desktop\\Monkey-Emotions\\video\\gandalf_231205\\gandalf_231205_108_e3v831b.mp4 copied to 231205_gandalf\\body_2-rh-2023-12-06\\videos\\gandalf_231205_108_e3v831b.mp4\n",
      "Symlink creation impossible (exFat architecture?): copying the video instead.\n",
      "c:\\Users\\rober\\Desktop\\Monkey-Emotions\\video\\gandalf_231205\\gandalf_231205_109_e3v831b.mp4 copied to 231205_gandalf\\body_2-rh-2023-12-06\\videos\\gandalf_231205_109_e3v831b.mp4\n",
      "Symlink creation impossible (exFat architecture?): copying the video instead.\n",
      "c:\\Users\\rober\\Desktop\\Monkey-Emotions\\video\\gandalf_231205\\gandalf_231205_110_e3v831b.mp4 copied to 231205_gandalf\\body_2-rh-2023-12-06\\videos\\gandalf_231205_110_e3v831b.mp4\n",
      "Symlink creation impossible (exFat architecture?): copying the video instead.\n",
      "c:\\Users\\rober\\Desktop\\Monkey-Emotions\\video\\gandalf_231205\\gandalf_231205_111_e3v831b.mp4 copied to 231205_gandalf\\body_2-rh-2023-12-06\\videos\\gandalf_231205_111_e3v831b.mp4\n",
      "Symlink creation impossible (exFat architecture?): copying the video instead.\n",
      "c:\\Users\\rober\\Desktop\\Monkey-Emotions\\video\\gandalf_231205\\gandalf_231205_112_e3v831b.mp4 copied to 231205_gandalf\\body_2-rh-2023-12-06\\videos\\gandalf_231205_112_e3v831b.mp4\n",
      "Symlink creation impossible (exFat architecture?): copying the video instead.\n",
      "c:\\Users\\rober\\Desktop\\Monkey-Emotions\\video\\gandalf_231205\\gandalf_231205_113_e3v831b.mp4 copied to 231205_gandalf\\body_2-rh-2023-12-06\\videos\\gandalf_231205_113_e3v831b.mp4\n",
      "Symlink creation impossible (exFat architecture?): copying the video instead.\n",
      "c:\\Users\\rober\\Desktop\\Monkey-Emotions\\video\\gandalf_231205\\gandalf_231205_114_e3v831b.mp4 copied to 231205_gandalf\\body_2-rh-2023-12-06\\videos\\gandalf_231205_114_e3v831b.mp4\n",
      "Symlink creation impossible (exFat architecture?): copying the video instead.\n",
      "c:\\Users\\rober\\Desktop\\Monkey-Emotions\\video\\gandalf_231205\\gandalf_231205_115_e3v831b.mp4 copied to 231205_gandalf\\body_2-rh-2023-12-06\\videos\\gandalf_231205_115_e3v831b.mp4\n",
      "Symlink creation impossible (exFat architecture?): copying the video instead.\n",
      "c:\\Users\\rober\\Desktop\\Monkey-Emotions\\video\\gandalf_231205\\gandalf_231205_116_e3v831b.mp4 copied to 231205_gandalf\\body_2-rh-2023-12-06\\videos\\gandalf_231205_116_e3v831b.mp4\n",
      "Symlink creation impossible (exFat architecture?): copying the video instead.\n",
      "c:\\Users\\rober\\Desktop\\Monkey-Emotions\\video\\gandalf_231205\\gandalf_231205_117_e3v831b.mp4 copied to 231205_gandalf\\body_2-rh-2023-12-06\\videos\\gandalf_231205_117_e3v831b.mp4\n",
      "Symlink creation impossible (exFat architecture?): copying the video instead.\n",
      "c:\\Users\\rober\\Desktop\\Monkey-Emotions\\video\\gandalf_231205\\gandalf_231205_118_e3v831b.mp4 copied to 231205_gandalf\\body_2-rh-2023-12-06\\videos\\gandalf_231205_118_e3v831b.mp4\n",
      "Symlink creation impossible (exFat architecture?): copying the video instead.\n",
      "c:\\Users\\rober\\Desktop\\Monkey-Emotions\\video\\gandalf_231205\\gandalf_231205_119_e3v831b.mp4 copied to 231205_gandalf\\body_2-rh-2023-12-06\\videos\\gandalf_231205_119_e3v831b.mp4\n",
      "Symlink creation impossible (exFat architecture?): copying the video instead.\n",
      "c:\\Users\\rober\\Desktop\\Monkey-Emotions\\video\\gandalf_231205\\gandalf_231205_120_e3v831b.mp4 copied to 231205_gandalf\\body_2-rh-2023-12-06\\videos\\gandalf_231205_120_e3v831b.mp4\n",
      "Symlink creation impossible (exFat architecture?): copying the video instead.\n",
      "c:\\Users\\rober\\Desktop\\Monkey-Emotions\\video\\gandalf_231205\\gandalf_231205_121_e3v831b.mp4 copied to 231205_gandalf\\body_2-rh-2023-12-06\\videos\\gandalf_231205_121_e3v831b.mp4\n",
      "Symlink creation impossible (exFat architecture?): copying the video instead.\n",
      "c:\\Users\\rober\\Desktop\\Monkey-Emotions\\video\\gandalf_231205\\gandalf_231205_122_e3v831b.mp4 copied to 231205_gandalf\\body_2-rh-2023-12-06\\videos\\gandalf_231205_122_e3v831b.mp4\n",
      "Symlink creation impossible (exFat architecture?): copying the video instead.\n",
      "c:\\Users\\rober\\Desktop\\Monkey-Emotions\\video\\gandalf_231205\\gandalf_231205_123_e3v831b.mp4 copied to 231205_gandalf\\body_2-rh-2023-12-06\\videos\\gandalf_231205_123_e3v831b.mp4\n",
      "Symlink creation impossible (exFat architecture?): copying the video instead.\n",
      "c:\\Users\\rober\\Desktop\\Monkey-Emotions\\video\\gandalf_231205\\gandalf_231205_124_e3v831b.mp4 copied to 231205_gandalf\\body_2-rh-2023-12-06\\videos\\gandalf_231205_124_e3v831b.mp4\n",
      "Symlink creation impossible (exFat architecture?): copying the video instead.\n",
      "c:\\Users\\rober\\Desktop\\Monkey-Emotions\\video\\gandalf_231205\\gandalf_231205_125_e3v831b.mp4 copied to 231205_gandalf\\body_2-rh-2023-12-06\\videos\\gandalf_231205_125_e3v831b.mp4\n",
      "Symlink creation impossible (exFat architecture?): copying the video instead.\n",
      "c:\\Users\\rober\\Desktop\\Monkey-Emotions\\video\\gandalf_231205\\gandalf_231205_126_e3v831b.mp4 copied to 231205_gandalf\\body_2-rh-2023-12-06\\videos\\gandalf_231205_126_e3v831b.mp4\n",
      "Symlink creation impossible (exFat architecture?): copying the video instead.\n",
      "c:\\Users\\rober\\Desktop\\Monkey-Emotions\\video\\gandalf_231205\\gandalf_231205_127_e3v831b.mp4 copied to 231205_gandalf\\body_2-rh-2023-12-06\\videos\\gandalf_231205_127_e3v831b.mp4\n",
      "Symlink creation impossible (exFat architecture?): copying the video instead.\n",
      "c:\\Users\\rober\\Desktop\\Monkey-Emotions\\video\\gandalf_231205\\gandalf_231205_128_e3v831b.mp4 copied to 231205_gandalf\\body_2-rh-2023-12-06\\videos\\gandalf_231205_128_e3v831b.mp4\n",
      "Symlink creation impossible (exFat architecture?): copying the video instead.\n",
      "c:\\Users\\rober\\Desktop\\Monkey-Emotions\\video\\gandalf_231205\\gandalf_231205_129_e3v831b.mp4 copied to 231205_gandalf\\body_2-rh-2023-12-06\\videos\\gandalf_231205_129_e3v831b.mp4\n",
      "Symlink creation impossible (exFat architecture?): copying the video instead.\n",
      "c:\\Users\\rober\\Desktop\\Monkey-Emotions\\video\\gandalf_231205\\gandalf_231205_130_e3v831b.mp4 copied to 231205_gandalf\\body_2-rh-2023-12-06\\videos\\gandalf_231205_130_e3v831b.mp4\n",
      "Symlink creation impossible (exFat architecture?): copying the video instead.\n",
      "c:\\Users\\rober\\Desktop\\Monkey-Emotions\\video\\gandalf_231205\\gandalf_231205_131_e3v831b.mp4 copied to 231205_gandalf\\body_2-rh-2023-12-06\\videos\\gandalf_231205_131_e3v831b.mp4\n",
      "Symlink creation impossible (exFat architecture?): copying the video instead.\n",
      "c:\\Users\\rober\\Desktop\\Monkey-Emotions\\video\\gandalf_231205\\gandalf_231205_132_e3v831b.mp4 copied to 231205_gandalf\\body_2-rh-2023-12-06\\videos\\gandalf_231205_132_e3v831b.mp4\n",
      "Symlink creation impossible (exFat architecture?): copying the video instead.\n",
      "c:\\Users\\rober\\Desktop\\Monkey-Emotions\\video\\gandalf_231205\\gandalf_231205_133_e3v831b.mp4 copied to 231205_gandalf\\body_2-rh-2023-12-06\\videos\\gandalf_231205_133_e3v831b.mp4\n",
      "Symlink creation impossible (exFat architecture?): copying the video instead.\n",
      "c:\\Users\\rober\\Desktop\\Monkey-Emotions\\video\\gandalf_231205\\gandalf_231205_134_e3v831b.mp4 copied to 231205_gandalf\\body_2-rh-2023-12-06\\videos\\gandalf_231205_134_e3v831b.mp4\n",
      "Symlink creation impossible (exFat architecture?): copying the video instead.\n",
      "c:\\Users\\rober\\Desktop\\Monkey-Emotions\\video\\gandalf_231205\\gandalf_231205_136_e3v831b.mp4 copied to 231205_gandalf\\body_2-rh-2023-12-06\\videos\\gandalf_231205_136_e3v831b.mp4\n",
      "Symlink creation impossible (exFat architecture?): copying the video instead.\n",
      "c:\\Users\\rober\\Desktop\\Monkey-Emotions\\video\\gandalf_231205\\gandalf_231205_137_e3v831b.mp4 copied to 231205_gandalf\\body_2-rh-2023-12-06\\videos\\gandalf_231205_137_e3v831b.mp4\n",
      "Symlink creation impossible (exFat architecture?): copying the video instead.\n",
      "c:\\Users\\rober\\Desktop\\Monkey-Emotions\\video\\gandalf_231205\\gandalf_231205_138_e3v831b.mp4 copied to 231205_gandalf\\body_2-rh-2023-12-06\\videos\\gandalf_231205_138_e3v831b.mp4\n",
      "Symlink creation impossible (exFat architecture?): copying the video instead.\n",
      "c:\\Users\\rober\\Desktop\\Monkey-Emotions\\video\\gandalf_231205\\gandalf_231205_139_e3v831b.mp4 copied to 231205_gandalf\\body_2-rh-2023-12-06\\videos\\gandalf_231205_139_e3v831b.mp4\n",
      "Symlink creation impossible (exFat architecture?): copying the video instead.\n",
      "c:\\Users\\rober\\Desktop\\Monkey-Emotions\\video\\gandalf_231205\\gandalf_231205_140_e3v831b.mp4 copied to 231205_gandalf\\body_2-rh-2023-12-06\\videos\\gandalf_231205_140_e3v831b.mp4\n",
      "Symlink creation impossible (exFat architecture?): copying the video instead.\n",
      "c:\\Users\\rober\\Desktop\\Monkey-Emotions\\video\\gandalf_231205\\gandalf_231205_141_e3v831b.mp4 copied to 231205_gandalf\\body_2-rh-2023-12-06\\videos\\gandalf_231205_141_e3v831b.mp4\n",
      "Symlink creation impossible (exFat architecture?): copying the video instead.\n",
      "c:\\Users\\rober\\Desktop\\Monkey-Emotions\\video\\gandalf_231205\\gandalf_231205_142_e3v831b.mp4 copied to 231205_gandalf\\body_2-rh-2023-12-06\\videos\\gandalf_231205_142_e3v831b.mp4\n",
      "Symlink creation impossible (exFat architecture?): copying the video instead.\n",
      "c:\\Users\\rober\\Desktop\\Monkey-Emotions\\video\\gandalf_231205\\gandalf_231205_143_e3v831b.mp4 copied to 231205_gandalf\\body_2-rh-2023-12-06\\videos\\gandalf_231205_143_e3v831b.mp4\n",
      "Symlink creation impossible (exFat architecture?): copying the video instead.\n",
      "c:\\Users\\rober\\Desktop\\Monkey-Emotions\\video\\gandalf_231205\\gandalf_231205_144_e3v831b.mp4 copied to 231205_gandalf\\body_2-rh-2023-12-06\\videos\\gandalf_231205_144_e3v831b.mp4\n",
      "Symlink creation impossible (exFat architecture?): copying the video instead.\n",
      "c:\\Users\\rober\\Desktop\\Monkey-Emotions\\video\\gandalf_231205\\gandalf_231205_145_e3v831b.mp4 copied to 231205_gandalf\\body_2-rh-2023-12-06\\videos\\gandalf_231205_145_e3v831b.mp4\n",
      "Symlink creation impossible (exFat architecture?): copying the video instead.\n",
      "c:\\Users\\rober\\Desktop\\Monkey-Emotions\\video\\gandalf_231205\\gandalf_231205_146_e3v831b.mp4 copied to 231205_gandalf\\body_2-rh-2023-12-06\\videos\\gandalf_231205_146_e3v831b.mp4\n",
      "Symlink creation impossible (exFat architecture?): copying the video instead.\n",
      "c:\\Users\\rober\\Desktop\\Monkey-Emotions\\video\\gandalf_231205\\gandalf_231205_147_e3v831b.mp4 copied to 231205_gandalf\\body_2-rh-2023-12-06\\videos\\gandalf_231205_147_e3v831b.mp4\n",
      "Symlink creation impossible (exFat architecture?): copying the video instead.\n",
      "c:\\Users\\rober\\Desktop\\Monkey-Emotions\\video\\gandalf_231205\\gandalf_231205_148_e3v831b.mp4 copied to 231205_gandalf\\body_2-rh-2023-12-06\\videos\\gandalf_231205_148_e3v831b.mp4\n",
      "Symlink creation impossible (exFat architecture?): copying the video instead.\n",
      "c:\\Users\\rober\\Desktop\\Monkey-Emotions\\video\\gandalf_231205\\gandalf_231205_149_e3v831b.mp4 copied to 231205_gandalf\\body_2-rh-2023-12-06\\videos\\gandalf_231205_149_e3v831b.mp4\n",
      "Symlink creation impossible (exFat architecture?): copying the video instead.\n",
      "c:\\Users\\rober\\Desktop\\Monkey-Emotions\\video\\gandalf_231205\\gandalf_231205_150_e3v831b.mp4 copied to 231205_gandalf\\body_2-rh-2023-12-06\\videos\\gandalf_231205_150_e3v831b.mp4\n",
      "Symlink creation impossible (exFat architecture?): copying the video instead.\n",
      "c:\\Users\\rober\\Desktop\\Monkey-Emotions\\video\\gandalf_231205\\gandalf_231205_151_e3v831b.mp4 copied to 231205_gandalf\\body_2-rh-2023-12-06\\videos\\gandalf_231205_151_e3v831b.mp4\n",
      "Symlink creation impossible (exFat architecture?): copying the video instead.\n",
      "c:\\Users\\rober\\Desktop\\Monkey-Emotions\\video\\gandalf_231205\\gandalf_231205_152_e3v831b.mp4 copied to 231205_gandalf\\body_2-rh-2023-12-06\\videos\\gandalf_231205_152_e3v831b.mp4\n",
      "Symlink creation impossible (exFat architecture?): copying the video instead.\n",
      "c:\\Users\\rober\\Desktop\\Monkey-Emotions\\video\\gandalf_231205\\gandalf_231205_153_e3v831b.mp4 copied to 231205_gandalf\\body_2-rh-2023-12-06\\videos\\gandalf_231205_153_e3v831b.mp4\n",
      "Symlink creation impossible (exFat architecture?): copying the video instead.\n",
      "c:\\Users\\rober\\Desktop\\Monkey-Emotions\\video\\gandalf_231205\\gandalf_231205_154_e3v831b.mp4 copied to 231205_gandalf\\body_2-rh-2023-12-06\\videos\\gandalf_231205_154_e3v831b.mp4\n",
      "Symlink creation impossible (exFat architecture?): copying the video instead.\n",
      "c:\\Users\\rober\\Desktop\\Monkey-Emotions\\video\\gandalf_231205\\gandalf_231205_155_e3v831b.mp4 copied to 231205_gandalf\\body_2-rh-2023-12-06\\videos\\gandalf_231205_155_e3v831b.mp4\n",
      "Symlink creation impossible (exFat architecture?): copying the video instead.\n",
      "c:\\Users\\rober\\Desktop\\Monkey-Emotions\\video\\gandalf_231205\\gandalf_231205_156_e3v831b.mp4 copied to 231205_gandalf\\body_2-rh-2023-12-06\\videos\\gandalf_231205_156_e3v831b.mp4\n",
      "Symlink creation impossible (exFat architecture?): copying the video instead.\n",
      "c:\\Users\\rober\\Desktop\\Monkey-Emotions\\video\\gandalf_231205\\gandalf_231205_157_e3v831b.mp4 copied to 231205_gandalf\\body_2-rh-2023-12-06\\videos\\gandalf_231205_157_e3v831b.mp4\n",
      "Symlink creation impossible (exFat architecture?): copying the video instead.\n",
      "c:\\Users\\rober\\Desktop\\Monkey-Emotions\\video\\gandalf_231205\\gandalf_231205_158_e3v831b.mp4 copied to 231205_gandalf\\body_2-rh-2023-12-06\\videos\\gandalf_231205_158_e3v831b.mp4\n",
      "Symlink creation impossible (exFat architecture?): copying the video instead.\n",
      "c:\\Users\\rober\\Desktop\\Monkey-Emotions\\video\\gandalf_231205\\gandalf_231205_159_e3v831b.mp4 copied to 231205_gandalf\\body_2-rh-2023-12-06\\videos\\gandalf_231205_159_e3v831b.mp4\n",
      "Symlink creation impossible (exFat architecture?): copying the video instead.\n",
      "c:\\Users\\rober\\Desktop\\Monkey-Emotions\\video\\gandalf_231205\\gandalf_231205_160_e3v831b.mp4 copied to 231205_gandalf\\body_2-rh-2023-12-06\\videos\\gandalf_231205_160_e3v831b.mp4\n",
      "Symlink creation impossible (exFat architecture?): copying the video instead.\n",
      "c:\\Users\\rober\\Desktop\\Monkey-Emotions\\video\\gandalf_231205\\gandalf_231205_161_e3v831b.mp4 copied to 231205_gandalf\\body_2-rh-2023-12-06\\videos\\gandalf_231205_161_e3v831b.mp4\n",
      "Symlink creation impossible (exFat architecture?): copying the video instead.\n",
      "c:\\Users\\rober\\Desktop\\Monkey-Emotions\\video\\gandalf_231205\\gandalf_231205_162_e3v831b.mp4 copied to 231205_gandalf\\body_2-rh-2023-12-06\\videos\\gandalf_231205_162_e3v831b.mp4\n",
      "Symlink creation impossible (exFat architecture?): copying the video instead.\n",
      "c:\\Users\\rober\\Desktop\\Monkey-Emotions\\video\\gandalf_231205\\gandalf_231205_163_e3v831b.mp4 copied to 231205_gandalf\\body_2-rh-2023-12-06\\videos\\gandalf_231205_163_e3v831b.mp4\n",
      "Symlink creation impossible (exFat architecture?): copying the video instead.\n",
      "c:\\Users\\rober\\Desktop\\Monkey-Emotions\\video\\gandalf_231205\\gandalf_231205_164_e3v831b.mp4 copied to 231205_gandalf\\body_2-rh-2023-12-06\\videos\\gandalf_231205_164_e3v831b.mp4\n",
      "Symlink creation impossible (exFat architecture?): copying the video instead.\n",
      "c:\\Users\\rober\\Desktop\\Monkey-Emotions\\video\\gandalf_231205\\gandalf_231205_165_e3v831b.mp4 copied to 231205_gandalf\\body_2-rh-2023-12-06\\videos\\gandalf_231205_165_e3v831b.mp4\n",
      "Symlink creation impossible (exFat architecture?): copying the video instead.\n",
      "c:\\Users\\rober\\Desktop\\Monkey-Emotions\\video\\gandalf_231205\\gandalf_231205_166_e3v831b.mp4 copied to 231205_gandalf\\body_2-rh-2023-12-06\\videos\\gandalf_231205_166_e3v831b.mp4\n",
      "Symlink creation impossible (exFat architecture?): copying the video instead.\n",
      "c:\\Users\\rober\\Desktop\\Monkey-Emotions\\video\\gandalf_231205\\gandalf_231205_167_e3v831b.mp4 copied to 231205_gandalf\\body_2-rh-2023-12-06\\videos\\gandalf_231205_167_e3v831b.mp4\n",
      "Symlink creation impossible (exFat architecture?): copying the video instead.\n",
      "c:\\Users\\rober\\Desktop\\Monkey-Emotions\\video\\gandalf_231205\\gandalf_231205_168_e3v831b.mp4 copied to 231205_gandalf\\body_2-rh-2023-12-06\\videos\\gandalf_231205_168_e3v831b.mp4\n",
      "Symlink creation impossible (exFat architecture?): copying the video instead.\n",
      "c:\\Users\\rober\\Desktop\\Monkey-Emotions\\video\\gandalf_231205\\gandalf_231205_169_e3v831b.mp4 copied to 231205_gandalf\\body_2-rh-2023-12-06\\videos\\gandalf_231205_169_e3v831b.mp4\n",
      "Symlink creation impossible (exFat architecture?): copying the video instead.\n",
      "c:\\Users\\rober\\Desktop\\Monkey-Emotions\\video\\gandalf_231205\\gandalf_231205_170_e3v831b.mp4 copied to 231205_gandalf\\body_2-rh-2023-12-06\\videos\\gandalf_231205_170_e3v831b.mp4\n",
      "Symlink creation impossible (exFat architecture?): copying the video instead.\n",
      "c:\\Users\\rober\\Desktop\\Monkey-Emotions\\video\\gandalf_231205\\gandalf_231205_171_e3v831b.mp4 copied to 231205_gandalf\\body_2-rh-2023-12-06\\videos\\gandalf_231205_171_e3v831b.mp4\n",
      "Symlink creation impossible (exFat architecture?): copying the video instead.\n",
      "c:\\Users\\rober\\Desktop\\Monkey-Emotions\\video\\gandalf_231205\\gandalf_231205_172_e3v831b.mp4 copied to 231205_gandalf\\body_2-rh-2023-12-06\\videos\\gandalf_231205_172_e3v831b.mp4\n",
      "Symlink creation impossible (exFat architecture?): copying the video instead.\n",
      "c:\\Users\\rober\\Desktop\\Monkey-Emotions\\video\\gandalf_231205\\gandalf_231205_173_e3v831b.mp4 copied to 231205_gandalf\\body_2-rh-2023-12-06\\videos\\gandalf_231205_173_e3v831b.mp4\n",
      "Symlink creation impossible (exFat architecture?): copying the video instead.\n",
      "c:\\Users\\rober\\Desktop\\Monkey-Emotions\\video\\gandalf_231205\\gandalf_231205_174_e3v831b.mp4 copied to 231205_gandalf\\body_2-rh-2023-12-06\\videos\\gandalf_231205_174_e3v831b.mp4\n",
      "Symlink creation impossible (exFat architecture?): copying the video instead.\n",
      "c:\\Users\\rober\\Desktop\\Monkey-Emotions\\video\\gandalf_231205\\gandalf_231205_175_e3v831b.mp4 copied to 231205_gandalf\\body_2-rh-2023-12-06\\videos\\gandalf_231205_175_e3v831b.mp4\n",
      "Symlink creation impossible (exFat architecture?): copying the video instead.\n",
      "c:\\Users\\rober\\Desktop\\Monkey-Emotions\\video\\gandalf_231205\\gandalf_231205_176_e3v831b.mp4 copied to 231205_gandalf\\body_2-rh-2023-12-06\\videos\\gandalf_231205_176_e3v831b.mp4\n",
      "Symlink creation impossible (exFat architecture?): copying the video instead.\n",
      "c:\\Users\\rober\\Desktop\\Monkey-Emotions\\video\\gandalf_231205\\gandalf_231205_177_e3v831b.mp4 copied to 231205_gandalf\\body_2-rh-2023-12-06\\videos\\gandalf_231205_177_e3v831b.mp4\n",
      "Symlink creation impossible (exFat architecture?): copying the video instead.\n",
      "c:\\Users\\rober\\Desktop\\Monkey-Emotions\\video\\gandalf_231205\\gandalf_231205_178_e3v831b.mp4 copied to 231205_gandalf\\body_2-rh-2023-12-06\\videos\\gandalf_231205_178_e3v831b.mp4\n",
      "Symlink creation impossible (exFat architecture?): copying the video instead.\n",
      "c:\\Users\\rober\\Desktop\\Monkey-Emotions\\video\\gandalf_231205\\gandalf_231205_179_e3v831b.mp4 copied to 231205_gandalf\\body_2-rh-2023-12-06\\videos\\gandalf_231205_179_e3v831b.mp4\n",
      "Symlink creation impossible (exFat architecture?): copying the video instead.\n",
      "c:\\Users\\rober\\Desktop\\Monkey-Emotions\\video\\gandalf_231205\\gandalf_231205_180_e3v831b.mp4 copied to 231205_gandalf\\body_2-rh-2023-12-06\\videos\\gandalf_231205_180_e3v831b.mp4\n",
      "Symlink creation impossible (exFat architecture?): copying the video instead.\n",
      "c:\\Users\\rober\\Desktop\\Monkey-Emotions\\video\\gandalf_231205\\gandalf_231205_181_e3v831b.mp4 copied to 231205_gandalf\\body_2-rh-2023-12-06\\videos\\gandalf_231205_181_e3v831b.mp4\n",
      "Symlink creation impossible (exFat architecture?): copying the video instead.\n",
      "c:\\Users\\rober\\Desktop\\Monkey-Emotions\\video\\gandalf_231205\\gandalf_231205_182_e3v831b.mp4 copied to 231205_gandalf\\body_2-rh-2023-12-06\\videos\\gandalf_231205_182_e3v831b.mp4\n",
      "Symlink creation impossible (exFat architecture?): copying the video instead.\n",
      "c:\\Users\\rober\\Desktop\\Monkey-Emotions\\video\\gandalf_231205\\gandalf_231205_183_e3v831b.mp4 copied to 231205_gandalf\\body_2-rh-2023-12-06\\videos\\gandalf_231205_183_e3v831b.mp4\n",
      "Symlink creation impossible (exFat architecture?): copying the video instead.\n",
      "c:\\Users\\rober\\Desktop\\Monkey-Emotions\\video\\gandalf_231205\\gandalf_231205_184_e3v831b.mp4 copied to 231205_gandalf\\body_2-rh-2023-12-06\\videos\\gandalf_231205_184_e3v831b.mp4\n",
      "Symlink creation impossible (exFat architecture?): copying the video instead.\n",
      "c:\\Users\\rober\\Desktop\\Monkey-Emotions\\video\\gandalf_231205\\gandalf_231205_185_e3v831b.mp4 copied to 231205_gandalf\\body_2-rh-2023-12-06\\videos\\gandalf_231205_185_e3v831b.mp4\n",
      "Symlink creation impossible (exFat architecture?): copying the video instead.\n",
      "c:\\Users\\rober\\Desktop\\Monkey-Emotions\\video\\gandalf_231205\\gandalf_231205_186_e3v831b.mp4 copied to 231205_gandalf\\body_2-rh-2023-12-06\\videos\\gandalf_231205_186_e3v831b.mp4\n",
      "Symlink creation impossible (exFat architecture?): copying the video instead.\n",
      "c:\\Users\\rober\\Desktop\\Monkey-Emotions\\video\\gandalf_231205\\gandalf_231205_187_e3v831b.mp4 copied to 231205_gandalf\\body_2-rh-2023-12-06\\videos\\gandalf_231205_187_e3v831b.mp4\n",
      "Symlink creation impossible (exFat architecture?): copying the video instead.\n",
      "c:\\Users\\rober\\Desktop\\Monkey-Emotions\\video\\gandalf_231205\\gandalf_231205_188_e3v831b.mp4 copied to 231205_gandalf\\body_2-rh-2023-12-06\\videos\\gandalf_231205_188_e3v831b.mp4\n",
      "Symlink creation impossible (exFat architecture?): copying the video instead.\n",
      "c:\\Users\\rober\\Desktop\\Monkey-Emotions\\video\\gandalf_231205\\gandalf_231205_189_e3v831b.mp4 copied to 231205_gandalf\\body_2-rh-2023-12-06\\videos\\gandalf_231205_189_e3v831b.mp4\n",
      "Symlink creation impossible (exFat architecture?): copying the video instead.\n",
      "c:\\Users\\rober\\Desktop\\Monkey-Emotions\\video\\gandalf_231205\\gandalf_231205_190_e3v831b.mp4 copied to 231205_gandalf\\body_2-rh-2023-12-06\\videos\\gandalf_231205_190_e3v831b.mp4\n",
      "Symlink creation impossible (exFat architecture?): copying the video instead.\n",
      "c:\\Users\\rober\\Desktop\\Monkey-Emotions\\video\\gandalf_231205\\gandalf_231205_191_e3v831b.mp4 copied to 231205_gandalf\\body_2-rh-2023-12-06\\videos\\gandalf_231205_191_e3v831b.mp4\n",
      "Symlink creation impossible (exFat architecture?): copying the video instead.\n",
      "c:\\Users\\rober\\Desktop\\Monkey-Emotions\\video\\gandalf_231205\\gandalf_231205_192_e3v831b.mp4 copied to 231205_gandalf\\body_2-rh-2023-12-06\\videos\\gandalf_231205_192_e3v831b.mp4\n",
      "Symlink creation impossible (exFat architecture?): copying the video instead.\n",
      "c:\\Users\\rober\\Desktop\\Monkey-Emotions\\video\\gandalf_231205\\gandalf_231205_193_e3v831b.mp4 copied to 231205_gandalf\\body_2-rh-2023-12-06\\videos\\gandalf_231205_193_e3v831b.mp4\n",
      "Symlink creation impossible (exFat architecture?): copying the video instead.\n",
      "c:\\Users\\rober\\Desktop\\Monkey-Emotions\\video\\gandalf_231205\\gandalf_231205_194_e3v831b.mp4 copied to 231205_gandalf\\body_2-rh-2023-12-06\\videos\\gandalf_231205_194_e3v831b.mp4\n",
      "Symlink creation impossible (exFat architecture?): copying the video instead.\n",
      "c:\\Users\\rober\\Desktop\\Monkey-Emotions\\video\\gandalf_231205\\gandalf_231205_195_e3v831b.mp4 copied to 231205_gandalf\\body_2-rh-2023-12-06\\videos\\gandalf_231205_195_e3v831b.mp4\n",
      "Symlink creation impossible (exFat architecture?): copying the video instead.\n",
      "c:\\Users\\rober\\Desktop\\Monkey-Emotions\\video\\gandalf_231205\\gandalf_231205_196_e3v831b.mp4 copied to 231205_gandalf\\body_2-rh-2023-12-06\\videos\\gandalf_231205_196_e3v831b.mp4\n",
      "Symlink creation impossible (exFat architecture?): copying the video instead.\n",
      "c:\\Users\\rober\\Desktop\\Monkey-Emotions\\video\\gandalf_231205\\gandalf_231205_197_e3v831b.mp4 copied to 231205_gandalf\\body_2-rh-2023-12-06\\videos\\gandalf_231205_197_e3v831b.mp4\n",
      "Symlink creation impossible (exFat architecture?): copying the video instead.\n",
      "c:\\Users\\rober\\Desktop\\Monkey-Emotions\\video\\gandalf_231205\\gandalf_231205_198_e3v831b.mp4 copied to 231205_gandalf\\body_2-rh-2023-12-06\\videos\\gandalf_231205_198_e3v831b.mp4\n",
      "Symlink creation impossible (exFat architecture?): copying the video instead.\n",
      "c:\\Users\\rober\\Desktop\\Monkey-Emotions\\video\\gandalf_231205\\gandalf_231205_199_e3v831b.mp4 copied to 231205_gandalf\\body_2-rh-2023-12-06\\videos\\gandalf_231205_199_e3v831b.mp4\n",
      "Symlink creation impossible (exFat architecture?): copying the video instead.\n",
      "c:\\Users\\rober\\Desktop\\Monkey-Emotions\\video\\gandalf_231205\\gandalf_231205_200_e3v831b.mp4 copied to 231205_gandalf\\body_2-rh-2023-12-06\\videos\\gandalf_231205_200_e3v831b.mp4\n",
      "Symlink creation impossible (exFat architecture?): copying the video instead.\n",
      "c:\\Users\\rober\\Desktop\\Monkey-Emotions\\video\\gandalf_231205\\gandalf_231205_201_e3v831b.mp4 copied to 231205_gandalf\\body_2-rh-2023-12-06\\videos\\gandalf_231205_201_e3v831b.mp4\n",
      "Symlink creation impossible (exFat architecture?): copying the video instead.\n",
      "c:\\Users\\rober\\Desktop\\Monkey-Emotions\\video\\gandalf_231205\\gandalf_231205_202_e3v831b.mp4 copied to 231205_gandalf\\body_2-rh-2023-12-06\\videos\\gandalf_231205_202_e3v831b.mp4\n",
      "Symlink creation impossible (exFat architecture?): copying the video instead.\n",
      "c:\\Users\\rober\\Desktop\\Monkey-Emotions\\video\\gandalf_231205\\gandalf_231205_203_e3v831b.mp4 copied to 231205_gandalf\\body_2-rh-2023-12-06\\videos\\gandalf_231205_203_e3v831b.mp4\n",
      "Symlink creation impossible (exFat architecture?): copying the video instead.\n",
      "c:\\Users\\rober\\Desktop\\Monkey-Emotions\\video\\gandalf_231205\\gandalf_231205_204_e3v831b.mp4 copied to 231205_gandalf\\body_2-rh-2023-12-06\\videos\\gandalf_231205_204_e3v831b.mp4\n",
      "Symlink creation impossible (exFat architecture?): copying the video instead.\n",
      "c:\\Users\\rober\\Desktop\\Monkey-Emotions\\video\\gandalf_231205\\gandalf_231205_205_e3v831b.mp4 copied to 231205_gandalf\\body_2-rh-2023-12-06\\videos\\gandalf_231205_205_e3v831b.mp4\n",
      "Symlink creation impossible (exFat architecture?): copying the video instead.\n",
      "c:\\Users\\rober\\Desktop\\Monkey-Emotions\\video\\gandalf_231205\\gandalf_231205_206_e3v831b.mp4 copied to 231205_gandalf\\body_2-rh-2023-12-06\\videos\\gandalf_231205_206_e3v831b.mp4\n",
      "Symlink creation impossible (exFat architecture?): copying the video instead.\n",
      "c:\\Users\\rober\\Desktop\\Monkey-Emotions\\video\\gandalf_231205\\gandalf_231205_207_e3v831b.mp4 copied to 231205_gandalf\\body_2-rh-2023-12-06\\videos\\gandalf_231205_207_e3v831b.mp4\n",
      "Symlink creation impossible (exFat architecture?): copying the video instead.\n",
      "c:\\Users\\rober\\Desktop\\Monkey-Emotions\\video\\gandalf_231205\\gandalf_231205_208_e3v831b.mp4 copied to 231205_gandalf\\body_2-rh-2023-12-06\\videos\\gandalf_231205_208_e3v831b.mp4\n",
      "Symlink creation impossible (exFat architecture?): copying the video instead.\n",
      "c:\\Users\\rober\\Desktop\\Monkey-Emotions\\video\\gandalf_231205\\gandalf_231205_209_e3v831b.mp4 copied to 231205_gandalf\\body_2-rh-2023-12-06\\videos\\gandalf_231205_209_e3v831b.mp4\n",
      "Symlink creation impossible (exFat architecture?): copying the video instead.\n",
      "c:\\Users\\rober\\Desktop\\Monkey-Emotions\\video\\gandalf_231205\\gandalf_231205_210_e3v831b.mp4 copied to 231205_gandalf\\body_2-rh-2023-12-06\\videos\\gandalf_231205_210_e3v831b.mp4\n",
      "Symlink creation impossible (exFat architecture?): copying the video instead.\n",
      "c:\\Users\\rober\\Desktop\\Monkey-Emotions\\video\\gandalf_231205\\gandalf_231205_211_e3v831b.mp4 copied to 231205_gandalf\\body_2-rh-2023-12-06\\videos\\gandalf_231205_211_e3v831b.mp4\n",
      "Symlink creation impossible (exFat architecture?): copying the video instead.\n",
      "c:\\Users\\rober\\Desktop\\Monkey-Emotions\\video\\gandalf_231205\\gandalf_231205_212_e3v831b.mp4 copied to 231205_gandalf\\body_2-rh-2023-12-06\\videos\\gandalf_231205_212_e3v831b.mp4\n",
      "Symlink creation impossible (exFat architecture?): copying the video instead.\n",
      "c:\\Users\\rober\\Desktop\\Monkey-Emotions\\video\\gandalf_231205\\gandalf_231205_213_e3v831b.mp4 copied to 231205_gandalf\\body_2-rh-2023-12-06\\videos\\gandalf_231205_213_e3v831b.mp4\n",
      "Symlink creation impossible (exFat architecture?): copying the video instead.\n",
      "c:\\Users\\rober\\Desktop\\Monkey-Emotions\\video\\gandalf_231205\\gandalf_231205_215_e3v831b.mp4 copied to 231205_gandalf\\body_2-rh-2023-12-06\\videos\\gandalf_231205_215_e3v831b.mp4\n",
      "Symlink creation impossible (exFat architecture?): copying the video instead.\n",
      "c:\\Users\\rober\\Desktop\\Monkey-Emotions\\video\\gandalf_231205\\gandalf_231205_216_e3v831b.mp4 copied to 231205_gandalf\\body_2-rh-2023-12-06\\videos\\gandalf_231205_216_e3v831b.mp4\n",
      "Symlink creation impossible (exFat architecture?): copying the video instead.\n",
      "c:\\Users\\rober\\Desktop\\Monkey-Emotions\\video\\gandalf_231205\\gandalf_231205_217_e3v831b.mp4 copied to 231205_gandalf\\body_2-rh-2023-12-06\\videos\\gandalf_231205_217_e3v831b.mp4\n",
      "Symlink creation impossible (exFat architecture?): copying the video instead.\n",
      "c:\\Users\\rober\\Desktop\\Monkey-Emotions\\video\\gandalf_231205\\gandalf_231205_218_e3v831b.mp4 copied to 231205_gandalf\\body_2-rh-2023-12-06\\videos\\gandalf_231205_218_e3v831b.mp4\n",
      "Symlink creation impossible (exFat architecture?): copying the video instead.\n",
      "c:\\Users\\rober\\Desktop\\Monkey-Emotions\\video\\gandalf_231205\\gandalf_231205_219_e3v831b.mp4 copied to 231205_gandalf\\body_2-rh-2023-12-06\\videos\\gandalf_231205_219_e3v831b.mp4\n",
      "Symlink creation impossible (exFat architecture?): copying the video instead.\n",
      "c:\\Users\\rober\\Desktop\\Monkey-Emotions\\video\\gandalf_231205\\gandalf_231205_220_e3v831b.mp4 copied to 231205_gandalf\\body_2-rh-2023-12-06\\videos\\gandalf_231205_220_e3v831b.mp4\n",
      "Symlink creation impossible (exFat architecture?): copying the video instead.\n",
      "c:\\Users\\rober\\Desktop\\Monkey-Emotions\\video\\gandalf_231205\\gandalf_231205_221_e3v831b.mp4 copied to 231205_gandalf\\body_2-rh-2023-12-06\\videos\\gandalf_231205_221_e3v831b.mp4\n",
      "Symlink creation impossible (exFat architecture?): copying the video instead.\n",
      "c:\\Users\\rober\\Desktop\\Monkey-Emotions\\video\\gandalf_231205\\gandalf_231205_222_e3v831b.mp4 copied to 231205_gandalf\\body_2-rh-2023-12-06\\videos\\gandalf_231205_222_e3v831b.mp4\n",
      "Symlink creation impossible (exFat architecture?): copying the video instead.\n",
      "c:\\Users\\rober\\Desktop\\Monkey-Emotions\\video\\gandalf_231205\\gandalf_231205_223_e3v831b.mp4 copied to 231205_gandalf\\body_2-rh-2023-12-06\\videos\\gandalf_231205_223_e3v831b.mp4\n",
      "Symlink creation impossible (exFat architecture?): copying the video instead.\n",
      "c:\\Users\\rober\\Desktop\\Monkey-Emotions\\video\\gandalf_231205\\gandalf_231205_224_e3v831b.mp4 copied to 231205_gandalf\\body_2-rh-2023-12-06\\videos\\gandalf_231205_224_e3v831b.mp4\n",
      "Symlink creation impossible (exFat architecture?): copying the video instead.\n",
      "c:\\Users\\rober\\Desktop\\Monkey-Emotions\\video\\gandalf_231205\\gandalf_231205_225_e3v831b.mp4 copied to 231205_gandalf\\body_2-rh-2023-12-06\\videos\\gandalf_231205_225_e3v831b.mp4\n",
      "Symlink creation impossible (exFat architecture?): copying the video instead.\n",
      "c:\\Users\\rober\\Desktop\\Monkey-Emotions\\video\\gandalf_231205\\gandalf_231205_226_e3v831b.mp4 copied to 231205_gandalf\\body_2-rh-2023-12-06\\videos\\gandalf_231205_226_e3v831b.mp4\n",
      "Symlink creation impossible (exFat architecture?): copying the video instead.\n",
      "c:\\Users\\rober\\Desktop\\Monkey-Emotions\\video\\gandalf_231205\\gandalf_231205_227_e3v831b.mp4 copied to 231205_gandalf\\body_2-rh-2023-12-06\\videos\\gandalf_231205_227_e3v831b.mp4\n",
      "Symlink creation impossible (exFat architecture?): copying the video instead.\n",
      "c:\\Users\\rober\\Desktop\\Monkey-Emotions\\video\\gandalf_231205\\gandalf_231205_228_e3v831b.mp4 copied to 231205_gandalf\\body_2-rh-2023-12-06\\videos\\gandalf_231205_228_e3v831b.mp4\n",
      "Symlink creation impossible (exFat architecture?): copying the video instead.\n",
      "c:\\Users\\rober\\Desktop\\Monkey-Emotions\\video\\gandalf_231205\\gandalf_231205_229_e3v831b.mp4 copied to 231205_gandalf\\body_2-rh-2023-12-06\\videos\\gandalf_231205_229_e3v831b.mp4\n",
      "Symlink creation impossible (exFat architecture?): copying the video instead.\n",
      "c:\\Users\\rober\\Desktop\\Monkey-Emotions\\video\\gandalf_231205\\gandalf_231205_230_e3v831b.mp4 copied to 231205_gandalf\\body_2-rh-2023-12-06\\videos\\gandalf_231205_230_e3v831b.mp4\n",
      "Symlink creation impossible (exFat architecture?): copying the video instead.\n",
      "c:\\Users\\rober\\Desktop\\Monkey-Emotions\\video\\gandalf_231205\\gandalf_231205_231_e3v831b.mp4 copied to 231205_gandalf\\body_2-rh-2023-12-06\\videos\\gandalf_231205_231_e3v831b.mp4\n",
      "Symlink creation impossible (exFat architecture?): copying the video instead.\n",
      "c:\\Users\\rober\\Desktop\\Monkey-Emotions\\video\\gandalf_231205\\gandalf_231205_232_e3v831b.mp4 copied to 231205_gandalf\\body_2-rh-2023-12-06\\videos\\gandalf_231205_232_e3v831b.mp4\n",
      "Symlink creation impossible (exFat architecture?): copying the video instead.\n",
      "c:\\Users\\rober\\Desktop\\Monkey-Emotions\\video\\gandalf_231205\\gandalf_231205_233_e3v831b.mp4 copied to 231205_gandalf\\body_2-rh-2023-12-06\\videos\\gandalf_231205_233_e3v831b.mp4\n",
      "Symlink creation impossible (exFat architecture?): copying the video instead.\n",
      "c:\\Users\\rober\\Desktop\\Monkey-Emotions\\video\\gandalf_231205\\gandalf_231205_234_e3v831b.mp4 copied to 231205_gandalf\\body_2-rh-2023-12-06\\videos\\gandalf_231205_234_e3v831b.mp4\n",
      "Symlink creation impossible (exFat architecture?): copying the video instead.\n",
      "c:\\Users\\rober\\Desktop\\Monkey-Emotions\\video\\gandalf_231205\\gandalf_231205_235_e3v831b.mp4 copied to 231205_gandalf\\body_2-rh-2023-12-06\\videos\\gandalf_231205_235_e3v831b.mp4\n",
      "Symlink creation impossible (exFat architecture?): copying the video instead.\n",
      "c:\\Users\\rober\\Desktop\\Monkey-Emotions\\video\\gandalf_231205\\gandalf_231205_236_e3v831b.mp4 copied to 231205_gandalf\\body_2-rh-2023-12-06\\videos\\gandalf_231205_236_e3v831b.mp4\n",
      "Symlink creation impossible (exFat architecture?): copying the video instead.\n",
      "c:\\Users\\rober\\Desktop\\Monkey-Emotions\\video\\gandalf_231205\\gandalf_231205_237_e3v831b.mp4 copied to 231205_gandalf\\body_2-rh-2023-12-06\\videos\\gandalf_231205_237_e3v831b.mp4\n",
      "Symlink creation impossible (exFat architecture?): copying the video instead.\n",
      "c:\\Users\\rober\\Desktop\\Monkey-Emotions\\video\\gandalf_231205\\gandalf_231205_238_e3v831b.mp4 copied to 231205_gandalf\\body_2-rh-2023-12-06\\videos\\gandalf_231205_238_e3v831b.mp4\n",
      "Symlink creation impossible (exFat architecture?): copying the video instead.\n",
      "c:\\Users\\rober\\Desktop\\Monkey-Emotions\\video\\gandalf_231205\\gandalf_231205_239_e3v831b.mp4 copied to 231205_gandalf\\body_2-rh-2023-12-06\\videos\\gandalf_231205_239_e3v831b.mp4\n",
      "Symlink creation impossible (exFat architecture?): copying the video instead.\n",
      "c:\\Users\\rober\\Desktop\\Monkey-Emotions\\video\\gandalf_231205\\gandalf_231205_240_e3v831b.mp4 copied to 231205_gandalf\\body_2-rh-2023-12-06\\videos\\gandalf_231205_240_e3v831b.mp4\n",
      "Symlink creation impossible (exFat architecture?): copying the video instead.\n",
      "c:\\Users\\rober\\Desktop\\Monkey-Emotions\\video\\gandalf_231205\\gandalf_231205_241_e3v831b.mp4 copied to 231205_gandalf\\body_2-rh-2023-12-06\\videos\\gandalf_231205_241_e3v831b.mp4\n",
      "Symlink creation impossible (exFat architecture?): copying the video instead.\n",
      "c:\\Users\\rober\\Desktop\\Monkey-Emotions\\video\\gandalf_231205\\gandalf_231205_242_e3v831b.mp4 copied to 231205_gandalf\\body_2-rh-2023-12-06\\videos\\gandalf_231205_242_e3v831b.mp4\n",
      "Symlink creation impossible (exFat architecture?): copying the video instead.\n",
      "c:\\Users\\rober\\Desktop\\Monkey-Emotions\\video\\gandalf_231205\\gandalf_231205_243_e3v831b.mp4 copied to 231205_gandalf\\body_2-rh-2023-12-06\\videos\\gandalf_231205_243_e3v831b.mp4\n",
      "Symlink creation impossible (exFat architecture?): copying the video instead.\n",
      "c:\\Users\\rober\\Desktop\\Monkey-Emotions\\video\\gandalf_231205\\gandalf_231205_244_e3v831b.mp4 copied to 231205_gandalf\\body_2-rh-2023-12-06\\videos\\gandalf_231205_244_e3v831b.mp4\n",
      "Symlink creation impossible (exFat architecture?): copying the video instead.\n",
      "c:\\Users\\rober\\Desktop\\Monkey-Emotions\\video\\gandalf_231205\\gandalf_231205_245_e3v831b.mp4 copied to 231205_gandalf\\body_2-rh-2023-12-06\\videos\\gandalf_231205_245_e3v831b.mp4\n",
      "Symlink creation impossible (exFat architecture?): copying the video instead.\n",
      "c:\\Users\\rober\\Desktop\\Monkey-Emotions\\video\\gandalf_231205\\gandalf_231205_246_e3v831b.mp4 copied to 231205_gandalf\\body_2-rh-2023-12-06\\videos\\gandalf_231205_246_e3v831b.mp4\n",
      "Symlink creation impossible (exFat architecture?): copying the video instead.\n",
      "c:\\Users\\rober\\Desktop\\Monkey-Emotions\\video\\gandalf_231205\\gandalf_231205_247_e3v831b.mp4 copied to 231205_gandalf\\body_2-rh-2023-12-06\\videos\\gandalf_231205_247_e3v831b.mp4\n",
      "Symlink creation impossible (exFat architecture?): copying the video instead.\n",
      "c:\\Users\\rober\\Desktop\\Monkey-Emotions\\video\\gandalf_231205\\gandalf_231205_248_e3v831b.mp4 copied to 231205_gandalf\\body_2-rh-2023-12-06\\videos\\gandalf_231205_248_e3v831b.mp4\n",
      "Symlink creation impossible (exFat architecture?): copying the video instead.\n",
      "c:\\Users\\rober\\Desktop\\Monkey-Emotions\\video\\gandalf_231205\\gandalf_231205_249_e3v831b.mp4 copied to 231205_gandalf\\body_2-rh-2023-12-06\\videos\\gandalf_231205_249_e3v831b.mp4\n",
      "Symlink creation impossible (exFat architecture?): copying the video instead.\n",
      "c:\\Users\\rober\\Desktop\\Monkey-Emotions\\video\\gandalf_231205\\gandalf_231205_250_e3v831b.mp4 copied to 231205_gandalf\\body_2-rh-2023-12-06\\videos\\gandalf_231205_250_e3v831b.mp4\n",
      "Symlink creation impossible (exFat architecture?): copying the video instead.\n",
      "c:\\Users\\rober\\Desktop\\Monkey-Emotions\\video\\gandalf_231205\\gandalf_231205_251_e3v831b.mp4 copied to 231205_gandalf\\body_2-rh-2023-12-06\\videos\\gandalf_231205_251_e3v831b.mp4\n",
      "Symlink creation impossible (exFat architecture?): copying the video instead.\n",
      "c:\\Users\\rober\\Desktop\\Monkey-Emotions\\video\\gandalf_231205\\gandalf_231205_252_e3v831b.mp4 copied to 231205_gandalf\\body_2-rh-2023-12-06\\videos\\gandalf_231205_252_e3v831b.mp4\n",
      "Symlink creation impossible (exFat architecture?): copying the video instead.\n",
      "c:\\Users\\rober\\Desktop\\Monkey-Emotions\\video\\gandalf_231205\\gandalf_231205_253_e3v831b.mp4 copied to 231205_gandalf\\body_2-rh-2023-12-06\\videos\\gandalf_231205_253_e3v831b.mp4\n",
      "Symlink creation impossible (exFat architecture?): copying the video instead.\n",
      "c:\\Users\\rober\\Desktop\\Monkey-Emotions\\video\\gandalf_231205\\gandalf_231205_254_e3v831b.mp4 copied to 231205_gandalf\\body_2-rh-2023-12-06\\videos\\gandalf_231205_254_e3v831b.mp4\n",
      "Symlink creation impossible (exFat architecture?): copying the video instead.\n",
      "c:\\Users\\rober\\Desktop\\Monkey-Emotions\\video\\gandalf_231205\\gandalf_231205_255_e3v831b.mp4 copied to 231205_gandalf\\body_2-rh-2023-12-06\\videos\\gandalf_231205_255_e3v831b.mp4\n",
      "Symlink creation impossible (exFat architecture?): copying the video instead.\n",
      "c:\\Users\\rober\\Desktop\\Monkey-Emotions\\video\\gandalf_231205\\gandalf_231205_256_e3v831b.mp4 copied to 231205_gandalf\\body_2-rh-2023-12-06\\videos\\gandalf_231205_256_e3v831b.mp4\n",
      "Symlink creation impossible (exFat architecture?): copying the video instead.\n",
      "c:\\Users\\rober\\Desktop\\Monkey-Emotions\\video\\gandalf_231205\\gandalf_231205_257_e3v831b.mp4 copied to 231205_gandalf\\body_2-rh-2023-12-06\\videos\\gandalf_231205_257_e3v831b.mp4\n",
      "Symlink creation impossible (exFat architecture?): copying the video instead.\n",
      "c:\\Users\\rober\\Desktop\\Monkey-Emotions\\video\\gandalf_231205\\gandalf_231205_258_e3v831b.mp4 copied to 231205_gandalf\\body_2-rh-2023-12-06\\videos\\gandalf_231205_258_e3v831b.mp4\n",
      "Symlink creation impossible (exFat architecture?): copying the video instead.\n",
      "c:\\Users\\rober\\Desktop\\Monkey-Emotions\\video\\gandalf_231205\\gandalf_231205_259_e3v831b.mp4 copied to 231205_gandalf\\body_2-rh-2023-12-06\\videos\\gandalf_231205_259_e3v831b.mp4\n",
      "Symlink creation impossible (exFat architecture?): copying the video instead.\n",
      "c:\\Users\\rober\\Desktop\\Monkey-Emotions\\video\\gandalf_231205\\gandalf_231205_260_e3v831b.mp4 copied to 231205_gandalf\\body_2-rh-2023-12-06\\videos\\gandalf_231205_260_e3v831b.mp4\n",
      "Symlink creation impossible (exFat architecture?): copying the video instead.\n",
      "c:\\Users\\rober\\Desktop\\Monkey-Emotions\\video\\gandalf_231205\\gandalf_231205_261_e3v831b.mp4 copied to 231205_gandalf\\body_2-rh-2023-12-06\\videos\\gandalf_231205_261_e3v831b.mp4\n",
      "Symlink creation impossible (exFat architecture?): copying the video instead.\n",
      "c:\\Users\\rober\\Desktop\\Monkey-Emotions\\video\\gandalf_231205\\gandalf_231205_262_e3v831b.mp4 copied to 231205_gandalf\\body_2-rh-2023-12-06\\videos\\gandalf_231205_262_e3v831b.mp4\n",
      "Symlink creation impossible (exFat architecture?): copying the video instead.\n",
      "c:\\Users\\rober\\Desktop\\Monkey-Emotions\\video\\gandalf_231205\\gandalf_231205_263_e3v831b.mp4 copied to 231205_gandalf\\body_2-rh-2023-12-06\\videos\\gandalf_231205_263_e3v831b.mp4\n",
      "Symlink creation impossible (exFat architecture?): copying the video instead.\n",
      "c:\\Users\\rober\\Desktop\\Monkey-Emotions\\video\\gandalf_231205\\gandalf_231205_264_e3v831b.mp4 copied to 231205_gandalf\\body_2-rh-2023-12-06\\videos\\gandalf_231205_264_e3v831b.mp4\n",
      "Symlink creation impossible (exFat architecture?): copying the video instead.\n",
      "c:\\Users\\rober\\Desktop\\Monkey-Emotions\\video\\gandalf_231205\\gandalf_231205_265_e3v831b.mp4 copied to 231205_gandalf\\body_2-rh-2023-12-06\\videos\\gandalf_231205_265_e3v831b.mp4\n",
      "Symlink creation impossible (exFat architecture?): copying the video instead.\n",
      "c:\\Users\\rober\\Desktop\\Monkey-Emotions\\video\\gandalf_231205\\gandalf_231205_266_e3v831b.mp4 copied to 231205_gandalf\\body_2-rh-2023-12-06\\videos\\gandalf_231205_266_e3v831b.mp4\n",
      "Symlink creation impossible (exFat architecture?): copying the video instead.\n",
      "c:\\Users\\rober\\Desktop\\Monkey-Emotions\\video\\gandalf_231205\\gandalf_231205_267_e3v831b.mp4 copied to 231205_gandalf\\body_2-rh-2023-12-06\\videos\\gandalf_231205_267_e3v831b.mp4\n",
      "Symlink creation impossible (exFat architecture?): copying the video instead.\n",
      "c:\\Users\\rober\\Desktop\\Monkey-Emotions\\video\\gandalf_231205\\gandalf_231205_268_e3v831b.mp4 copied to 231205_gandalf\\body_2-rh-2023-12-06\\videos\\gandalf_231205_268_e3v831b.mp4\n",
      "Symlink creation impossible (exFat architecture?): copying the video instead.\n",
      "c:\\Users\\rober\\Desktop\\Monkey-Emotions\\video\\gandalf_231205\\gandalf_231205_269_e3v831b.mp4 copied to 231205_gandalf\\body_2-rh-2023-12-06\\videos\\gandalf_231205_269_e3v831b.mp4\n",
      "Symlink creation impossible (exFat architecture?): copying the video instead.\n",
      "c:\\Users\\rober\\Desktop\\Monkey-Emotions\\video\\gandalf_231205\\gandalf_231205_270_e3v831b.mp4 copied to 231205_gandalf\\body_2-rh-2023-12-06\\videos\\gandalf_231205_270_e3v831b.mp4\n",
      "Symlink creation impossible (exFat architecture?): copying the video instead.\n",
      "c:\\Users\\rober\\Desktop\\Monkey-Emotions\\video\\gandalf_231205\\gandalf_231205_271_e3v831b.mp4 copied to 231205_gandalf\\body_2-rh-2023-12-06\\videos\\gandalf_231205_271_e3v831b.mp4\n",
      "Symlink creation impossible (exFat architecture?): copying the video instead.\n",
      "c:\\Users\\rober\\Desktop\\Monkey-Emotions\\video\\gandalf_231205\\gandalf_231205_272_e3v831b.mp4 copied to 231205_gandalf\\body_2-rh-2023-12-06\\videos\\gandalf_231205_272_e3v831b.mp4\n",
      "Symlink creation impossible (exFat architecture?): copying the video instead.\n",
      "c:\\Users\\rober\\Desktop\\Monkey-Emotions\\video\\gandalf_231205\\gandalf_231205_273_e3v831b.mp4 copied to 231205_gandalf\\body_2-rh-2023-12-06\\videos\\gandalf_231205_273_e3v831b.mp4\n",
      "Symlink creation impossible (exFat architecture?): copying the video instead.\n",
      "c:\\Users\\rober\\Desktop\\Monkey-Emotions\\video\\gandalf_231205\\gandalf_231205_274_e3v831b.mp4 copied to 231205_gandalf\\body_2-rh-2023-12-06\\videos\\gandalf_231205_274_e3v831b.mp4\n",
      "Symlink creation impossible (exFat architecture?): copying the video instead.\n",
      "c:\\Users\\rober\\Desktop\\Monkey-Emotions\\video\\gandalf_231205\\gandalf_231205_275_e3v831b.mp4 copied to 231205_gandalf\\body_2-rh-2023-12-06\\videos\\gandalf_231205_275_e3v831b.mp4\n",
      "Symlink creation impossible (exFat architecture?): copying the video instead.\n",
      "c:\\Users\\rober\\Desktop\\Monkey-Emotions\\video\\gandalf_231205\\gandalf_231205_276_e3v831b.mp4 copied to 231205_gandalf\\body_2-rh-2023-12-06\\videos\\gandalf_231205_276_e3v831b.mp4\n",
      "Symlink creation impossible (exFat architecture?): copying the video instead.\n",
      "c:\\Users\\rober\\Desktop\\Monkey-Emotions\\video\\gandalf_231205\\gandalf_231205_277_e3v831b.mp4 copied to 231205_gandalf\\body_2-rh-2023-12-06\\videos\\gandalf_231205_277_e3v831b.mp4\n",
      "Symlink creation impossible (exFat architecture?): copying the video instead.\n",
      "c:\\Users\\rober\\Desktop\\Monkey-Emotions\\video\\gandalf_231205\\gandalf_231205_278_e3v831b.mp4 copied to 231205_gandalf\\body_2-rh-2023-12-06\\videos\\gandalf_231205_278_e3v831b.mp4\n",
      "Symlink creation impossible (exFat architecture?): copying the video instead.\n",
      "c:\\Users\\rober\\Desktop\\Monkey-Emotions\\video\\gandalf_231205\\gandalf_231205_279_e3v831b.mp4 copied to 231205_gandalf\\body_2-rh-2023-12-06\\videos\\gandalf_231205_279_e3v831b.mp4\n",
      "Symlink creation impossible (exFat architecture?): copying the video instead.\n",
      "c:\\Users\\rober\\Desktop\\Monkey-Emotions\\video\\gandalf_231205\\gandalf_231205_280_e3v831b.mp4 copied to 231205_gandalf\\body_2-rh-2023-12-06\\videos\\gandalf_231205_280_e3v831b.mp4\n",
      "Symlink creation impossible (exFat architecture?): copying the video instead.\n",
      "c:\\Users\\rober\\Desktop\\Monkey-Emotions\\video\\gandalf_231205\\gandalf_231205_282_e3v831b.mp4 copied to 231205_gandalf\\body_2-rh-2023-12-06\\videos\\gandalf_231205_282_e3v831b.mp4\n",
      "Symlink creation impossible (exFat architecture?): copying the video instead.\n",
      "c:\\Users\\rober\\Desktop\\Monkey-Emotions\\video\\gandalf_231205\\gandalf_231205_283_e3v831b.mp4 copied to 231205_gandalf\\body_2-rh-2023-12-06\\videos\\gandalf_231205_283_e3v831b.mp4\n",
      "Symlink creation impossible (exFat architecture?): copying the video instead.\n",
      "c:\\Users\\rober\\Desktop\\Monkey-Emotions\\video\\gandalf_231205\\gandalf_231205_284_e3v831b.mp4 copied to 231205_gandalf\\body_2-rh-2023-12-06\\videos\\gandalf_231205_284_e3v831b.mp4\n",
      "New videos were added to the project! Use the function 'extract_frames' to select frames for labeling.\n",
      "Using snapshot-1030000 for model 231205_gandalf\\body_2-rh-2023-12-06\\dlc-models\\iteration-0\\body_2Dec6-trainset95shuffle1\n"
     ]
    },
    {
     "name": "stderr",
     "output_type": "stream",
     "text": [
      "c:\\Users\\rober\\anaconda3\\envs\\DEEPLABCUT\\lib\\site-packages\\tensorflow\\python\\keras\\engine\\base_layer_v1.py:1694: UserWarning: `layer.apply` is deprecated and will be removed in a future version. Please use `layer.__call__` method instead.\n",
      "  warnings.warn('`layer.apply` is deprecated and '\n"
     ]
    },
    {
     "name": "stdout",
     "output_type": "stream",
     "text": [
      "Starting to analyze %  c:\\Users\\rober\\Desktop\\Monkey-Emotions\\video\\gandalf_231205\\gandalf_231205_0_e3v831b.mp4\n",
      "Loading  c:\\Users\\rober\\Desktop\\Monkey-Emotions\\video\\gandalf_231205\\gandalf_231205_0_e3v831b.mp4\n",
      "Duration of video [s]:  12.9 , recorded with  120.0 fps!\n",
      "Overall # of frames:  1548  found with (before cropping) frame dimensions:  640 480\n",
      "Starting to extract posture\n"
     ]
    },
    {
     "name": "stderr",
     "output_type": "stream",
     "text": [
      "100%|██████████| 1548/1548 [05:32<00:00,  4.65it/s]\n"
     ]
    },
    {
     "name": "stdout",
     "output_type": "stream",
     "text": [
      "Saving results in c:\\Users\\rober\\Desktop\\Monkey-Emotions\\video\\gandalf_231205...\n",
      "Saving csv poses!\n",
      "Starting to analyze %  c:\\Users\\rober\\Desktop\\Monkey-Emotions\\video\\gandalf_231205\\gandalf_231205_1_e3v831b.mp4\n",
      "Loading  c:\\Users\\rober\\Desktop\\Monkey-Emotions\\video\\gandalf_231205\\gandalf_231205_1_e3v831b.mp4\n",
      "Duration of video [s]:  17.58 , recorded with  120.0 fps!\n",
      "Overall # of frames:  2110  found with (before cropping) frame dimensions:  640 480\n",
      "Starting to extract posture\n"
     ]
    },
    {
     "name": "stderr",
     "output_type": "stream",
     "text": [
      "100%|██████████| 2110/2110 [07:31<00:00,  4.68it/s]\n"
     ]
    },
    {
     "name": "stdout",
     "output_type": "stream",
     "text": [
      "Saving results in c:\\Users\\rober\\Desktop\\Monkey-Emotions\\video\\gandalf_231205...\n",
      "Saving csv poses!\n",
      "Starting to analyze %  c:\\Users\\rober\\Desktop\\Monkey-Emotions\\video\\gandalf_231205\\gandalf_231205_2_e3v831b.mp4\n",
      "Loading  c:\\Users\\rober\\Desktop\\Monkey-Emotions\\video\\gandalf_231205\\gandalf_231205_2_e3v831b.mp4\n",
      "Duration of video [s]:  10.42 , recorded with  120.0 fps!\n",
      "Overall # of frames:  1250  found with (before cropping) frame dimensions:  640 480\n",
      "Starting to extract posture\n"
     ]
    },
    {
     "name": "stderr",
     "output_type": "stream",
     "text": [
      "100%|██████████| 1250/1250 [04:38<00:00,  4.49it/s]\n"
     ]
    },
    {
     "name": "stdout",
     "output_type": "stream",
     "text": [
      "Saving results in c:\\Users\\rober\\Desktop\\Monkey-Emotions\\video\\gandalf_231205...\n",
      "Saving csv poses!\n",
      "Starting to analyze %  c:\\Users\\rober\\Desktop\\Monkey-Emotions\\video\\gandalf_231205\\gandalf_231205_3_e3v831b.mp4\n",
      "Loading  c:\\Users\\rober\\Desktop\\Monkey-Emotions\\video\\gandalf_231205\\gandalf_231205_3_e3v831b.mp4\n",
      "Duration of video [s]:  14.14 , recorded with  120.0 fps!\n",
      "Overall # of frames:  1697  found with (before cropping) frame dimensions:  640 480\n",
      "Starting to extract posture\n"
     ]
    },
    {
     "name": "stderr",
     "output_type": "stream",
     "text": [
      "100%|██████████| 1697/1697 [06:16<00:00,  4.51it/s]\n"
     ]
    },
    {
     "name": "stdout",
     "output_type": "stream",
     "text": [
      "Saving results in c:\\Users\\rober\\Desktop\\Monkey-Emotions\\video\\gandalf_231205...\n",
      "Saving csv poses!\n",
      "Starting to analyze %  c:\\Users\\rober\\Desktop\\Monkey-Emotions\\video\\gandalf_231205\\gandalf_231205_4_e3v831b.mp4\n",
      "Loading  c:\\Users\\rober\\Desktop\\Monkey-Emotions\\video\\gandalf_231205\\gandalf_231205_4_e3v831b.mp4\n",
      "Duration of video [s]:  18.91 , recorded with  120.0 fps!\n",
      "Overall # of frames:  2269  found with (before cropping) frame dimensions:  640 480\n",
      "Starting to extract posture\n"
     ]
    },
    {
     "name": "stderr",
     "output_type": "stream",
     "text": [
      "100%|██████████| 2269/2269 [08:21<00:00,  4.52it/s]\n"
     ]
    },
    {
     "name": "stdout",
     "output_type": "stream",
     "text": [
      "Saving results in c:\\Users\\rober\\Desktop\\Monkey-Emotions\\video\\gandalf_231205...\n",
      "Saving csv poses!\n",
      "Starting to analyze %  c:\\Users\\rober\\Desktop\\Monkey-Emotions\\video\\gandalf_231205\\gandalf_231205_5_e3v831b.mp4\n",
      "Loading  c:\\Users\\rober\\Desktop\\Monkey-Emotions\\video\\gandalf_231205\\gandalf_231205_5_e3v831b.mp4\n",
      "Duration of video [s]:  14.57 , recorded with  120.0 fps!\n",
      "Overall # of frames:  1748  found with (before cropping) frame dimensions:  640 480\n",
      "Starting to extract posture\n"
     ]
    },
    {
     "name": "stderr",
     "output_type": "stream",
     "text": [
      "100%|██████████| 1748/1748 [06:15<00:00,  4.65it/s]\n"
     ]
    },
    {
     "name": "stdout",
     "output_type": "stream",
     "text": [
      "Saving results in c:\\Users\\rober\\Desktop\\Monkey-Emotions\\video\\gandalf_231205...\n",
      "Saving csv poses!\n",
      "Starting to analyze %  c:\\Users\\rober\\Desktop\\Monkey-Emotions\\video\\gandalf_231205\\gandalf_231205_6_e3v831b.mp4\n",
      "Loading  c:\\Users\\rober\\Desktop\\Monkey-Emotions\\video\\gandalf_231205\\gandalf_231205_6_e3v831b.mp4\n",
      "Duration of video [s]:  13.63 , recorded with  120.0 fps!\n",
      "Overall # of frames:  1636  found with (before cropping) frame dimensions:  640 480\n",
      "Starting to extract posture\n"
     ]
    },
    {
     "name": "stderr",
     "output_type": "stream",
     "text": [
      "100%|██████████| 1636/1636 [05:55<00:00,  4.60it/s]\n"
     ]
    },
    {
     "name": "stdout",
     "output_type": "stream",
     "text": [
      "Saving results in c:\\Users\\rober\\Desktop\\Monkey-Emotions\\video\\gandalf_231205...\n",
      "Saving csv poses!\n",
      "Starting to analyze %  c:\\Users\\rober\\Desktop\\Monkey-Emotions\\video\\gandalf_231205\\gandalf_231205_7_e3v831b.mp4\n",
      "Loading  c:\\Users\\rober\\Desktop\\Monkey-Emotions\\video\\gandalf_231205\\gandalf_231205_7_e3v831b.mp4\n",
      "Duration of video [s]:  14.64 , recorded with  120.0 fps!\n",
      "Overall # of frames:  1757  found with (before cropping) frame dimensions:  640 480\n",
      "Starting to extract posture\n"
     ]
    },
    {
     "name": "stderr",
     "output_type": "stream",
     "text": [
      "100%|██████████| 1757/1757 [06:27<00:00,  4.53it/s]\n"
     ]
    },
    {
     "name": "stdout",
     "output_type": "stream",
     "text": [
      "Saving results in c:\\Users\\rober\\Desktop\\Monkey-Emotions\\video\\gandalf_231205...\n",
      "Saving csv poses!\n",
      "Starting to analyze %  c:\\Users\\rober\\Desktop\\Monkey-Emotions\\video\\gandalf_231205\\gandalf_231205_8_e3v831b.mp4\n",
      "Loading  c:\\Users\\rober\\Desktop\\Monkey-Emotions\\video\\gandalf_231205\\gandalf_231205_8_e3v831b.mp4\n",
      "Duration of video [s]:  12.17 , recorded with  120.0 fps!\n",
      "Overall # of frames:  1460  found with (before cropping) frame dimensions:  640 480\n",
      "Starting to extract posture\n"
     ]
    },
    {
     "name": "stderr",
     "output_type": "stream",
     "text": [
      "100%|██████████| 1460/1460 [05:12<00:00,  4.68it/s]\n"
     ]
    },
    {
     "name": "stdout",
     "output_type": "stream",
     "text": [
      "Saving results in c:\\Users\\rober\\Desktop\\Monkey-Emotions\\video\\gandalf_231205...\n",
      "Saving csv poses!\n",
      "Starting to analyze %  c:\\Users\\rober\\Desktop\\Monkey-Emotions\\video\\gandalf_231205\\gandalf_231205_9_e3v831b.mp4\n",
      "Loading  c:\\Users\\rober\\Desktop\\Monkey-Emotions\\video\\gandalf_231205\\gandalf_231205_9_e3v831b.mp4\n",
      "Duration of video [s]:  14.92 , recorded with  120.0 fps!\n",
      "Overall # of frames:  1790  found with (before cropping) frame dimensions:  640 480\n",
      "Starting to extract posture\n"
     ]
    },
    {
     "name": "stderr",
     "output_type": "stream",
     "text": [
      "100%|██████████| 1790/1790 [06:33<00:00,  4.54it/s]\n"
     ]
    },
    {
     "name": "stdout",
     "output_type": "stream",
     "text": [
      "Saving results in c:\\Users\\rober\\Desktop\\Monkey-Emotions\\video\\gandalf_231205...\n",
      "Saving csv poses!\n",
      "Starting to analyze %  c:\\Users\\rober\\Desktop\\Monkey-Emotions\\video\\gandalf_231205\\gandalf_231205_10_e3v831b.mp4\n",
      "Loading  c:\\Users\\rober\\Desktop\\Monkey-Emotions\\video\\gandalf_231205\\gandalf_231205_10_e3v831b.mp4\n",
      "Duration of video [s]:  13.74 , recorded with  120.0 fps!\n",
      "Overall # of frames:  1649  found with (before cropping) frame dimensions:  640 480\n",
      "Starting to extract posture\n"
     ]
    },
    {
     "name": "stderr",
     "output_type": "stream",
     "text": [
      "100%|██████████| 1649/1649 [06:02<00:00,  4.55it/s]\n"
     ]
    },
    {
     "name": "stdout",
     "output_type": "stream",
     "text": [
      "Saving results in c:\\Users\\rober\\Desktop\\Monkey-Emotions\\video\\gandalf_231205...\n",
      "Saving csv poses!\n",
      "Starting to analyze %  c:\\Users\\rober\\Desktop\\Monkey-Emotions\\video\\gandalf_231205\\gandalf_231205_11_e3v831b.mp4\n",
      "Loading  c:\\Users\\rober\\Desktop\\Monkey-Emotions\\video\\gandalf_231205\\gandalf_231205_11_e3v831b.mp4\n",
      "Duration of video [s]:  13.25 , recorded with  120.0 fps!\n",
      "Overall # of frames:  1590  found with (before cropping) frame dimensions:  640 480\n",
      "Starting to extract posture\n"
     ]
    },
    {
     "name": "stderr",
     "output_type": "stream",
     "text": [
      "100%|██████████| 1590/1590 [05:48<00:00,  4.57it/s]\n"
     ]
    },
    {
     "name": "stdout",
     "output_type": "stream",
     "text": [
      "Saving results in c:\\Users\\rober\\Desktop\\Monkey-Emotions\\video\\gandalf_231205...\n",
      "Saving csv poses!\n",
      "Starting to analyze %  c:\\Users\\rober\\Desktop\\Monkey-Emotions\\video\\gandalf_231205\\gandalf_231205_12_e3v831b.mp4\n",
      "Loading  c:\\Users\\rober\\Desktop\\Monkey-Emotions\\video\\gandalf_231205\\gandalf_231205_12_e3v831b.mp4\n",
      "Duration of video [s]:  15.69 , recorded with  120.0 fps!\n",
      "Overall # of frames:  1883  found with (before cropping) frame dimensions:  640 480\n",
      "Starting to extract posture\n"
     ]
    },
    {
     "name": "stderr",
     "output_type": "stream",
     "text": [
      "100%|██████████| 1883/1883 [06:52<00:00,  4.56it/s]\n"
     ]
    },
    {
     "name": "stdout",
     "output_type": "stream",
     "text": [
      "Saving results in c:\\Users\\rober\\Desktop\\Monkey-Emotions\\video\\gandalf_231205...\n",
      "Saving csv poses!\n",
      "Starting to analyze %  c:\\Users\\rober\\Desktop\\Monkey-Emotions\\video\\gandalf_231205\\gandalf_231205_13_e3v831b.mp4\n",
      "Loading  c:\\Users\\rober\\Desktop\\Monkey-Emotions\\video\\gandalf_231205\\gandalf_231205_13_e3v831b.mp4\n",
      "Duration of video [s]:  10.85 , recorded with  120.0 fps!\n",
      "Overall # of frames:  1302  found with (before cropping) frame dimensions:  640 480\n",
      "Starting to extract posture\n"
     ]
    },
    {
     "name": "stderr",
     "output_type": "stream",
     "text": [
      "100%|██████████| 1302/1302 [04:43<00:00,  4.60it/s]\n"
     ]
    },
    {
     "name": "stdout",
     "output_type": "stream",
     "text": [
      "Saving results in c:\\Users\\rober\\Desktop\\Monkey-Emotions\\video\\gandalf_231205...\n",
      "Saving csv poses!\n",
      "Starting to analyze %  c:\\Users\\rober\\Desktop\\Monkey-Emotions\\video\\gandalf_231205\\gandalf_231205_14_e3v831b.mp4\n",
      "Loading  c:\\Users\\rober\\Desktop\\Monkey-Emotions\\video\\gandalf_231205\\gandalf_231205_14_e3v831b.mp4\n",
      "Duration of video [s]:  25.43 , recorded with  120.0 fps!\n",
      "Overall # of frames:  3051  found with (before cropping) frame dimensions:  640 480\n",
      "Starting to extract posture\n"
     ]
    },
    {
     "name": "stderr",
     "output_type": "stream",
     "text": [
      "100%|██████████| 3051/3051 [11:05<00:00,  4.59it/s]\n"
     ]
    },
    {
     "name": "stdout",
     "output_type": "stream",
     "text": [
      "Saving results in c:\\Users\\rober\\Desktop\\Monkey-Emotions\\video\\gandalf_231205...\n",
      "Saving csv poses!\n",
      "Starting to analyze %  c:\\Users\\rober\\Desktop\\Monkey-Emotions\\video\\gandalf_231205\\gandalf_231205_15_e3v831b.mp4\n",
      "Loading  c:\\Users\\rober\\Desktop\\Monkey-Emotions\\video\\gandalf_231205\\gandalf_231205_15_e3v831b.mp4\n",
      "Duration of video [s]:  16.51 , recorded with  120.0 fps!\n",
      "Overall # of frames:  1981  found with (before cropping) frame dimensions:  640 480\n",
      "Starting to extract posture\n"
     ]
    },
    {
     "name": "stderr",
     "output_type": "stream",
     "text": [
      "100%|██████████| 1981/1981 [07:06<00:00,  4.65it/s]\n"
     ]
    },
    {
     "name": "stdout",
     "output_type": "stream",
     "text": [
      "Saving results in c:\\Users\\rober\\Desktop\\Monkey-Emotions\\video\\gandalf_231205...\n",
      "Saving csv poses!\n",
      "Starting to analyze %  c:\\Users\\rober\\Desktop\\Monkey-Emotions\\video\\gandalf_231205\\gandalf_231205_16_e3v831b.mp4\n",
      "Loading  c:\\Users\\rober\\Desktop\\Monkey-Emotions\\video\\gandalf_231205\\gandalf_231205_16_e3v831b.mp4\n",
      "Duration of video [s]:  11.82 , recorded with  120.0 fps!\n",
      "Overall # of frames:  1418  found with (before cropping) frame dimensions:  640 480\n",
      "Starting to extract posture\n"
     ]
    },
    {
     "name": "stderr",
     "output_type": "stream",
     "text": [
      "100%|██████████| 1418/1418 [05:06<00:00,  4.63it/s]\n"
     ]
    },
    {
     "name": "stdout",
     "output_type": "stream",
     "text": [
      "Saving results in c:\\Users\\rober\\Desktop\\Monkey-Emotions\\video\\gandalf_231205...\n",
      "Saving csv poses!\n",
      "Starting to analyze %  c:\\Users\\rober\\Desktop\\Monkey-Emotions\\video\\gandalf_231205\\gandalf_231205_17_e3v831b.mp4\n",
      "Loading  c:\\Users\\rober\\Desktop\\Monkey-Emotions\\video\\gandalf_231205\\gandalf_231205_17_e3v831b.mp4\n",
      "Duration of video [s]:  15.74 , recorded with  120.0 fps!\n",
      "Overall # of frames:  1889  found with (before cropping) frame dimensions:  640 480\n",
      "Starting to extract posture\n"
     ]
    },
    {
     "name": "stderr",
     "output_type": "stream",
     "text": [
      "100%|██████████| 1889/1889 [06:45<00:00,  4.66it/s]\n"
     ]
    },
    {
     "name": "stdout",
     "output_type": "stream",
     "text": [
      "Saving results in c:\\Users\\rober\\Desktop\\Monkey-Emotions\\video\\gandalf_231205...\n",
      "Saving csv poses!\n",
      "Starting to analyze %  c:\\Users\\rober\\Desktop\\Monkey-Emotions\\video\\gandalf_231205\\gandalf_231205_18_e3v831b.mp4\n",
      "Loading  c:\\Users\\rober\\Desktop\\Monkey-Emotions\\video\\gandalf_231205\\gandalf_231205_18_e3v831b.mp4\n",
      "Duration of video [s]:  18.37 , recorded with  120.0 fps!\n",
      "Overall # of frames:  2204  found with (before cropping) frame dimensions:  640 480\n",
      "Starting to extract posture\n"
     ]
    },
    {
     "name": "stderr",
     "output_type": "stream",
     "text": [
      "100%|██████████| 2204/2204 [07:55<00:00,  4.63it/s]\n"
     ]
    },
    {
     "name": "stdout",
     "output_type": "stream",
     "text": [
      "Saving results in c:\\Users\\rober\\Desktop\\Monkey-Emotions\\video\\gandalf_231205...\n",
      "Saving csv poses!\n",
      "Starting to analyze %  c:\\Users\\rober\\Desktop\\Monkey-Emotions\\video\\gandalf_231205\\gandalf_231205_19_e3v831b.mp4\n",
      "Loading  c:\\Users\\rober\\Desktop\\Monkey-Emotions\\video\\gandalf_231205\\gandalf_231205_19_e3v831b.mp4\n",
      "Duration of video [s]:  15.28 , recorded with  120.0 fps!\n",
      "Overall # of frames:  1833  found with (before cropping) frame dimensions:  640 480\n",
      "Starting to extract posture\n"
     ]
    },
    {
     "name": "stderr",
     "output_type": "stream",
     "text": [
      "100%|██████████| 1833/1833 [06:35<00:00,  4.63it/s]\n"
     ]
    },
    {
     "name": "stdout",
     "output_type": "stream",
     "text": [
      "Saving results in c:\\Users\\rober\\Desktop\\Monkey-Emotions\\video\\gandalf_231205...\n",
      "Saving csv poses!\n",
      "Starting to analyze %  c:\\Users\\rober\\Desktop\\Monkey-Emotions\\video\\gandalf_231205\\gandalf_231205_20_e3v831b.mp4\n",
      "Loading  c:\\Users\\rober\\Desktop\\Monkey-Emotions\\video\\gandalf_231205\\gandalf_231205_20_e3v831b.mp4\n",
      "Duration of video [s]:  12.32 , recorded with  120.0 fps!\n",
      "Overall # of frames:  1478  found with (before cropping) frame dimensions:  640 480\n",
      "Starting to extract posture\n"
     ]
    },
    {
     "name": "stderr",
     "output_type": "stream",
     "text": [
      "100%|██████████| 1478/1478 [05:18<00:00,  4.64it/s]\n"
     ]
    },
    {
     "name": "stdout",
     "output_type": "stream",
     "text": [
      "Saving results in c:\\Users\\rober\\Desktop\\Monkey-Emotions\\video\\gandalf_231205...\n",
      "Saving csv poses!\n",
      "Starting to analyze %  c:\\Users\\rober\\Desktop\\Monkey-Emotions\\video\\gandalf_231205\\gandalf_231205_21_e3v831b.mp4\n",
      "Loading  c:\\Users\\rober\\Desktop\\Monkey-Emotions\\video\\gandalf_231205\\gandalf_231205_21_e3v831b.mp4\n",
      "Duration of video [s]:  15.44 , recorded with  120.0 fps!\n",
      "Overall # of frames:  1853  found with (before cropping) frame dimensions:  640 480\n",
      "Starting to extract posture\n"
     ]
    },
    {
     "name": "stderr",
     "output_type": "stream",
     "text": [
      "100%|██████████| 1853/1853 [06:08<00:00,  5.03it/s]\n"
     ]
    },
    {
     "name": "stdout",
     "output_type": "stream",
     "text": [
      "Saving results in c:\\Users\\rober\\Desktop\\Monkey-Emotions\\video\\gandalf_231205...\n",
      "Saving csv poses!\n",
      "Starting to analyze %  c:\\Users\\rober\\Desktop\\Monkey-Emotions\\video\\gandalf_231205\\gandalf_231205_22_e3v831b.mp4\n",
      "Loading  c:\\Users\\rober\\Desktop\\Monkey-Emotions\\video\\gandalf_231205\\gandalf_231205_22_e3v831b.mp4\n",
      "Duration of video [s]:  12.72 , recorded with  120.0 fps!\n",
      "Overall # of frames:  1526  found with (before cropping) frame dimensions:  640 480\n",
      "Starting to extract posture\n"
     ]
    },
    {
     "name": "stderr",
     "output_type": "stream",
     "text": [
      "100%|██████████| 1526/1526 [04:56<00:00,  5.15it/s]\n"
     ]
    },
    {
     "name": "stdout",
     "output_type": "stream",
     "text": [
      "Saving results in c:\\Users\\rober\\Desktop\\Monkey-Emotions\\video\\gandalf_231205...\n",
      "Saving csv poses!\n",
      "Starting to analyze %  c:\\Users\\rober\\Desktop\\Monkey-Emotions\\video\\gandalf_231205\\gandalf_231205_23_e3v831b.mp4\n",
      "Loading  c:\\Users\\rober\\Desktop\\Monkey-Emotions\\video\\gandalf_231205\\gandalf_231205_23_e3v831b.mp4\n",
      "Duration of video [s]:  17.68 , recorded with  120.0 fps!\n",
      "Overall # of frames:  2121  found with (before cropping) frame dimensions:  640 480\n",
      "Starting to extract posture\n"
     ]
    },
    {
     "name": "stderr",
     "output_type": "stream",
     "text": [
      "100%|██████████| 2121/2121 [06:54<00:00,  5.12it/s]\n"
     ]
    },
    {
     "name": "stdout",
     "output_type": "stream",
     "text": [
      "Saving results in c:\\Users\\rober\\Desktop\\Monkey-Emotions\\video\\gandalf_231205...\n",
      "Saving csv poses!\n",
      "Starting to analyze %  c:\\Users\\rober\\Desktop\\Monkey-Emotions\\video\\gandalf_231205\\gandalf_231205_24_e3v831b.mp4\n",
      "Loading  c:\\Users\\rober\\Desktop\\Monkey-Emotions\\video\\gandalf_231205\\gandalf_231205_24_e3v831b.mp4\n",
      "Duration of video [s]:  18.22 , recorded with  120.0 fps!\n",
      "Overall # of frames:  2186  found with (before cropping) frame dimensions:  640 480\n",
      "Starting to extract posture\n"
     ]
    },
    {
     "name": "stderr",
     "output_type": "stream",
     "text": [
      "100%|██████████| 2186/2186 [07:05<00:00,  5.14it/s]\n"
     ]
    },
    {
     "name": "stdout",
     "output_type": "stream",
     "text": [
      "Saving results in c:\\Users\\rober\\Desktop\\Monkey-Emotions\\video\\gandalf_231205...\n",
      "Saving csv poses!\n",
      "Starting to analyze %  c:\\Users\\rober\\Desktop\\Monkey-Emotions\\video\\gandalf_231205\\gandalf_231205_25_e3v831b.mp4\n",
      "Loading  c:\\Users\\rober\\Desktop\\Monkey-Emotions\\video\\gandalf_231205\\gandalf_231205_25_e3v831b.mp4\n",
      "Duration of video [s]:  13.04 , recorded with  120.0 fps!\n",
      "Overall # of frames:  1565  found with (before cropping) frame dimensions:  640 480\n",
      "Starting to extract posture\n"
     ]
    },
    {
     "name": "stderr",
     "output_type": "stream",
     "text": [
      "100%|██████████| 1565/1565 [05:06<00:00,  5.10it/s]\n"
     ]
    },
    {
     "name": "stdout",
     "output_type": "stream",
     "text": [
      "Saving results in c:\\Users\\rober\\Desktop\\Monkey-Emotions\\video\\gandalf_231205...\n",
      "Saving csv poses!\n",
      "Starting to analyze %  c:\\Users\\rober\\Desktop\\Monkey-Emotions\\video\\gandalf_231205\\gandalf_231205_26_e3v831b.mp4\n",
      "Loading  c:\\Users\\rober\\Desktop\\Monkey-Emotions\\video\\gandalf_231205\\gandalf_231205_26_e3v831b.mp4\n",
      "Duration of video [s]:  12.77 , recorded with  120.0 fps!\n",
      "Overall # of frames:  1532  found with (before cropping) frame dimensions:  640 480\n",
      "Starting to extract posture\n"
     ]
    },
    {
     "name": "stderr",
     "output_type": "stream",
     "text": [
      "100%|██████████| 1532/1532 [04:58<00:00,  5.13it/s]\n"
     ]
    },
    {
     "name": "stdout",
     "output_type": "stream",
     "text": [
      "Saving results in c:\\Users\\rober\\Desktop\\Monkey-Emotions\\video\\gandalf_231205...\n",
      "Saving csv poses!\n",
      "Starting to analyze %  c:\\Users\\rober\\Desktop\\Monkey-Emotions\\video\\gandalf_231205\\gandalf_231205_27_e3v831b.mp4\n",
      "Loading  c:\\Users\\rober\\Desktop\\Monkey-Emotions\\video\\gandalf_231205\\gandalf_231205_27_e3v831b.mp4\n",
      "Duration of video [s]:  15.04 , recorded with  120.0 fps!\n",
      "Overall # of frames:  1805  found with (before cropping) frame dimensions:  640 480\n",
      "Starting to extract posture\n"
     ]
    },
    {
     "name": "stderr",
     "output_type": "stream",
     "text": [
      "100%|██████████| 1805/1805 [05:51<00:00,  5.13it/s]\n"
     ]
    },
    {
     "name": "stdout",
     "output_type": "stream",
     "text": [
      "Saving results in c:\\Users\\rober\\Desktop\\Monkey-Emotions\\video\\gandalf_231205...\n",
      "Saving csv poses!\n",
      "Starting to analyze %  c:\\Users\\rober\\Desktop\\Monkey-Emotions\\video\\gandalf_231205\\gandalf_231205_28_e3v831b.mp4\n",
      "Loading  c:\\Users\\rober\\Desktop\\Monkey-Emotions\\video\\gandalf_231205\\gandalf_231205_28_e3v831b.mp4\n",
      "Duration of video [s]:  12.39 , recorded with  120.0 fps!\n",
      "Overall # of frames:  1487  found with (before cropping) frame dimensions:  640 480\n",
      "Starting to extract posture\n"
     ]
    },
    {
     "name": "stderr",
     "output_type": "stream",
     "text": [
      "100%|██████████| 1487/1487 [04:49<00:00,  5.14it/s]\n"
     ]
    },
    {
     "name": "stdout",
     "output_type": "stream",
     "text": [
      "Saving results in c:\\Users\\rober\\Desktop\\Monkey-Emotions\\video\\gandalf_231205...\n",
      "Saving csv poses!\n",
      "Starting to analyze %  c:\\Users\\rober\\Desktop\\Monkey-Emotions\\video\\gandalf_231205\\gandalf_231205_29_e3v831b.mp4\n",
      "Loading  c:\\Users\\rober\\Desktop\\Monkey-Emotions\\video\\gandalf_231205\\gandalf_231205_29_e3v831b.mp4\n",
      "Duration of video [s]:  13.38 , recorded with  120.0 fps!\n",
      "Overall # of frames:  1606  found with (before cropping) frame dimensions:  640 480\n",
      "Starting to extract posture\n"
     ]
    },
    {
     "name": "stderr",
     "output_type": "stream",
     "text": [
      "100%|██████████| 1606/1606 [05:13<00:00,  5.13it/s]\n"
     ]
    },
    {
     "name": "stdout",
     "output_type": "stream",
     "text": [
      "Saving results in c:\\Users\\rober\\Desktop\\Monkey-Emotions\\video\\gandalf_231205...\n",
      "Saving csv poses!\n",
      "Starting to analyze %  c:\\Users\\rober\\Desktop\\Monkey-Emotions\\video\\gandalf_231205\\gandalf_231205_30_e3v831b.mp4\n",
      "Loading  c:\\Users\\rober\\Desktop\\Monkey-Emotions\\video\\gandalf_231205\\gandalf_231205_30_e3v831b.mp4\n",
      "Duration of video [s]:  16.61 , recorded with  120.0 fps!\n",
      "Overall # of frames:  1993  found with (before cropping) frame dimensions:  640 480\n",
      "Starting to extract posture\n"
     ]
    },
    {
     "name": "stderr",
     "output_type": "stream",
     "text": [
      "100%|██████████| 1993/1993 [06:28<00:00,  5.12it/s]\n"
     ]
    },
    {
     "name": "stdout",
     "output_type": "stream",
     "text": [
      "Saving results in c:\\Users\\rober\\Desktop\\Monkey-Emotions\\video\\gandalf_231205...\n",
      "Saving csv poses!\n",
      "Starting to analyze %  c:\\Users\\rober\\Desktop\\Monkey-Emotions\\video\\gandalf_231205\\gandalf_231205_31_e3v831b.mp4\n",
      "Loading  c:\\Users\\rober\\Desktop\\Monkey-Emotions\\video\\gandalf_231205\\gandalf_231205_31_e3v831b.mp4\n",
      "Duration of video [s]:  16.1 , recorded with  120.0 fps!\n",
      "Overall # of frames:  1932  found with (before cropping) frame dimensions:  640 480\n",
      "Starting to extract posture\n"
     ]
    },
    {
     "name": "stderr",
     "output_type": "stream",
     "text": [
      "100%|██████████| 1932/1932 [06:16<00:00,  5.13it/s]\n"
     ]
    },
    {
     "name": "stdout",
     "output_type": "stream",
     "text": [
      "Saving results in c:\\Users\\rober\\Desktop\\Monkey-Emotions\\video\\gandalf_231205...\n",
      "Saving csv poses!\n",
      "Starting to analyze %  c:\\Users\\rober\\Desktop\\Monkey-Emotions\\video\\gandalf_231205\\gandalf_231205_32_e3v831b.mp4\n",
      "Loading  c:\\Users\\rober\\Desktop\\Monkey-Emotions\\video\\gandalf_231205\\gandalf_231205_32_e3v831b.mp4\n",
      "Duration of video [s]:  12.22 , recorded with  120.0 fps!\n",
      "Overall # of frames:  1467  found with (before cropping) frame dimensions:  640 480\n",
      "Starting to extract posture\n"
     ]
    },
    {
     "name": "stderr",
     "output_type": "stream",
     "text": [
      "100%|██████████| 1467/1467 [04:46<00:00,  5.13it/s]\n"
     ]
    },
    {
     "name": "stdout",
     "output_type": "stream",
     "text": [
      "Saving results in c:\\Users\\rober\\Desktop\\Monkey-Emotions\\video\\gandalf_231205...\n",
      "Saving csv poses!\n",
      "Starting to analyze %  c:\\Users\\rober\\Desktop\\Monkey-Emotions\\video\\gandalf_231205\\gandalf_231205_33_e3v831b.mp4\n",
      "Loading  c:\\Users\\rober\\Desktop\\Monkey-Emotions\\video\\gandalf_231205\\gandalf_231205_33_e3v831b.mp4\n",
      "Duration of video [s]:  14.82 , recorded with  120.0 fps!\n",
      "Overall # of frames:  1778  found with (before cropping) frame dimensions:  640 480\n",
      "Starting to extract posture\n"
     ]
    },
    {
     "name": "stderr",
     "output_type": "stream",
     "text": [
      "100%|██████████| 1778/1778 [05:46<00:00,  5.13it/s]\n"
     ]
    },
    {
     "name": "stdout",
     "output_type": "stream",
     "text": [
      "Saving results in c:\\Users\\rober\\Desktop\\Monkey-Emotions\\video\\gandalf_231205...\n",
      "Saving csv poses!\n",
      "Starting to analyze %  c:\\Users\\rober\\Desktop\\Monkey-Emotions\\video\\gandalf_231205\\gandalf_231205_34_e3v831b.mp4\n",
      "Loading  c:\\Users\\rober\\Desktop\\Monkey-Emotions\\video\\gandalf_231205\\gandalf_231205_34_e3v831b.mp4\n",
      "Duration of video [s]:  18.98 , recorded with  120.0 fps!\n",
      "Overall # of frames:  2277  found with (before cropping) frame dimensions:  640 480\n",
      "Starting to extract posture\n"
     ]
    },
    {
     "name": "stderr",
     "output_type": "stream",
     "text": [
      "100%|██████████| 2277/2277 [07:22<00:00,  5.14it/s]\n"
     ]
    },
    {
     "name": "stdout",
     "output_type": "stream",
     "text": [
      "Saving results in c:\\Users\\rober\\Desktop\\Monkey-Emotions\\video\\gandalf_231205...\n",
      "Saving csv poses!\n",
      "Starting to analyze %  c:\\Users\\rober\\Desktop\\Monkey-Emotions\\video\\gandalf_231205\\gandalf_231205_35_e3v831b.mp4\n",
      "Loading  c:\\Users\\rober\\Desktop\\Monkey-Emotions\\video\\gandalf_231205\\gandalf_231205_35_e3v831b.mp4\n",
      "Duration of video [s]:  10.13 , recorded with  120.0 fps!\n",
      "Overall # of frames:  1216  found with (before cropping) frame dimensions:  640 480\n",
      "Starting to extract posture\n"
     ]
    },
    {
     "name": "stderr",
     "output_type": "stream",
     "text": [
      "100%|██████████| 1216/1216 [03:58<00:00,  5.11it/s]\n"
     ]
    },
    {
     "name": "stdout",
     "output_type": "stream",
     "text": [
      "Saving results in c:\\Users\\rober\\Desktop\\Monkey-Emotions\\video\\gandalf_231205...\n",
      "Saving csv poses!\n",
      "Starting to analyze %  c:\\Users\\rober\\Desktop\\Monkey-Emotions\\video\\gandalf_231205\\gandalf_231205_36_e3v831b.mp4\n",
      "Loading  c:\\Users\\rober\\Desktop\\Monkey-Emotions\\video\\gandalf_231205\\gandalf_231205_36_e3v831b.mp4\n",
      "Duration of video [s]:  12.55 , recorded with  120.0 fps!\n",
      "Overall # of frames:  1506  found with (before cropping) frame dimensions:  640 480\n",
      "Starting to extract posture\n"
     ]
    },
    {
     "name": "stderr",
     "output_type": "stream",
     "text": [
      "100%|██████████| 1506/1506 [04:54<00:00,  5.11it/s]\n"
     ]
    },
    {
     "name": "stdout",
     "output_type": "stream",
     "text": [
      "Saving results in c:\\Users\\rober\\Desktop\\Monkey-Emotions\\video\\gandalf_231205...\n",
      "Saving csv poses!\n",
      "Starting to analyze %  c:\\Users\\rober\\Desktop\\Monkey-Emotions\\video\\gandalf_231205\\gandalf_231205_37_e3v831b.mp4\n",
      "Loading  c:\\Users\\rober\\Desktop\\Monkey-Emotions\\video\\gandalf_231205\\gandalf_231205_37_e3v831b.mp4\n",
      "Duration of video [s]:  17.94 , recorded with  120.0 fps!\n",
      "Overall # of frames:  2153  found with (before cropping) frame dimensions:  640 480\n",
      "Starting to extract posture\n"
     ]
    },
    {
     "name": "stderr",
     "output_type": "stream",
     "text": [
      "100%|██████████| 2153/2153 [07:01<00:00,  5.11it/s]\n"
     ]
    },
    {
     "name": "stdout",
     "output_type": "stream",
     "text": [
      "Saving results in c:\\Users\\rober\\Desktop\\Monkey-Emotions\\video\\gandalf_231205...\n",
      "Saving csv poses!\n",
      "Starting to analyze %  c:\\Users\\rober\\Desktop\\Monkey-Emotions\\video\\gandalf_231205\\gandalf_231205_38_e3v831b.mp4\n",
      "Loading  c:\\Users\\rober\\Desktop\\Monkey-Emotions\\video\\gandalf_231205\\gandalf_231205_38_e3v831b.mp4\n",
      "Duration of video [s]:  17.37 , recorded with  120.0 fps!\n",
      "Overall # of frames:  2084  found with (before cropping) frame dimensions:  640 480\n",
      "Starting to extract posture\n"
     ]
    },
    {
     "name": "stderr",
     "output_type": "stream",
     "text": [
      "100%|██████████| 2084/2084 [06:45<00:00,  5.14it/s]\n"
     ]
    },
    {
     "name": "stdout",
     "output_type": "stream",
     "text": [
      "Saving results in c:\\Users\\rober\\Desktop\\Monkey-Emotions\\video\\gandalf_231205...\n",
      "Saving csv poses!\n",
      "Starting to analyze %  c:\\Users\\rober\\Desktop\\Monkey-Emotions\\video\\gandalf_231205\\gandalf_231205_39_e3v831b.mp4\n",
      "Loading  c:\\Users\\rober\\Desktop\\Monkey-Emotions\\video\\gandalf_231205\\gandalf_231205_39_e3v831b.mp4\n",
      "Duration of video [s]:  14.71 , recorded with  120.0 fps!\n",
      "Overall # of frames:  1765  found with (before cropping) frame dimensions:  640 480\n",
      "Starting to extract posture\n"
     ]
    },
    {
     "name": "stderr",
     "output_type": "stream",
     "text": [
      "100%|██████████| 1765/1765 [05:44<00:00,  5.13it/s]\n"
     ]
    },
    {
     "name": "stdout",
     "output_type": "stream",
     "text": [
      "Saving results in c:\\Users\\rober\\Desktop\\Monkey-Emotions\\video\\gandalf_231205...\n",
      "Saving csv poses!\n",
      "Starting to analyze %  c:\\Users\\rober\\Desktop\\Monkey-Emotions\\video\\gandalf_231205\\gandalf_231205_40_e3v831b.mp4\n",
      "Loading  c:\\Users\\rober\\Desktop\\Monkey-Emotions\\video\\gandalf_231205\\gandalf_231205_40_e3v831b.mp4\n",
      "Duration of video [s]:  11.6 , recorded with  120.0 fps!\n",
      "Overall # of frames:  1392  found with (before cropping) frame dimensions:  640 480\n",
      "Starting to extract posture\n"
     ]
    },
    {
     "name": "stderr",
     "output_type": "stream",
     "text": [
      "100%|██████████| 1392/1392 [04:30<00:00,  5.14it/s]\n"
     ]
    },
    {
     "name": "stdout",
     "output_type": "stream",
     "text": [
      "Saving results in c:\\Users\\rober\\Desktop\\Monkey-Emotions\\video\\gandalf_231205...\n",
      "Saving csv poses!\n",
      "Starting to analyze %  c:\\Users\\rober\\Desktop\\Monkey-Emotions\\video\\gandalf_231205\\gandalf_231205_41_e3v831b.mp4\n",
      "Loading  c:\\Users\\rober\\Desktop\\Monkey-Emotions\\video\\gandalf_231205\\gandalf_231205_41_e3v831b.mp4\n",
      "Duration of video [s]:  45.07 , recorded with  120.0 fps!\n",
      "Overall # of frames:  5408  found with (before cropping) frame dimensions:  640 480\n",
      "Starting to extract posture\n"
     ]
    },
    {
     "name": "stderr",
     "output_type": "stream",
     "text": [
      "100%|██████████| 5408/5408 [17:32<00:00,  5.14it/s]\n"
     ]
    },
    {
     "name": "stdout",
     "output_type": "stream",
     "text": [
      "Saving results in c:\\Users\\rober\\Desktop\\Monkey-Emotions\\video\\gandalf_231205...\n",
      "Saving csv poses!\n",
      "Starting to analyze %  c:\\Users\\rober\\Desktop\\Monkey-Emotions\\video\\gandalf_231205\\gandalf_231205_42_e3v831b.mp4\n",
      "Loading  c:\\Users\\rober\\Desktop\\Monkey-Emotions\\video\\gandalf_231205\\gandalf_231205_42_e3v831b.mp4\n",
      "Duration of video [s]:  17.65 , recorded with  120.0 fps!\n",
      "Overall # of frames:  2118  found with (before cropping) frame dimensions:  640 480\n",
      "Starting to extract posture\n"
     ]
    },
    {
     "name": "stderr",
     "output_type": "stream",
     "text": [
      "100%|██████████| 2118/2118 [06:59<00:00,  5.05it/s]\n"
     ]
    },
    {
     "name": "stdout",
     "output_type": "stream",
     "text": [
      "Saving results in c:\\Users\\rober\\Desktop\\Monkey-Emotions\\video\\gandalf_231205...\n",
      "Saving csv poses!\n",
      "Starting to analyze %  c:\\Users\\rober\\Desktop\\Monkey-Emotions\\video\\gandalf_231205\\gandalf_231205_43_e3v831b.mp4\n",
      "Loading  c:\\Users\\rober\\Desktop\\Monkey-Emotions\\video\\gandalf_231205\\gandalf_231205_43_e3v831b.mp4\n",
      "Duration of video [s]:  15.41 , recorded with  120.0 fps!\n",
      "Overall # of frames:  1849  found with (before cropping) frame dimensions:  640 480\n",
      "Starting to extract posture\n"
     ]
    },
    {
     "name": "stderr",
     "output_type": "stream",
     "text": [
      "100%|██████████| 1849/1849 [06:01<00:00,  5.12it/s]\n"
     ]
    },
    {
     "name": "stdout",
     "output_type": "stream",
     "text": [
      "Saving results in c:\\Users\\rober\\Desktop\\Monkey-Emotions\\video\\gandalf_231205...\n",
      "Saving csv poses!\n",
      "Starting to analyze %  c:\\Users\\rober\\Desktop\\Monkey-Emotions\\video\\gandalf_231205\\gandalf_231205_44_e3v831b.mp4\n",
      "Loading  c:\\Users\\rober\\Desktop\\Monkey-Emotions\\video\\gandalf_231205\\gandalf_231205_44_e3v831b.mp4\n",
      "Duration of video [s]:  15.68 , recorded with  120.0 fps!\n",
      "Overall # of frames:  1882  found with (before cropping) frame dimensions:  640 480\n",
      "Starting to extract posture\n"
     ]
    },
    {
     "name": "stderr",
     "output_type": "stream",
     "text": [
      "100%|██████████| 1882/1882 [06:08<00:00,  5.10it/s]\n"
     ]
    },
    {
     "name": "stdout",
     "output_type": "stream",
     "text": [
      "Saving results in c:\\Users\\rober\\Desktop\\Monkey-Emotions\\video\\gandalf_231205...\n",
      "Saving csv poses!\n",
      "Starting to analyze %  c:\\Users\\rober\\Desktop\\Monkey-Emotions\\video\\gandalf_231205\\gandalf_231205_45_e3v831b.mp4\n",
      "Loading  c:\\Users\\rober\\Desktop\\Monkey-Emotions\\video\\gandalf_231205\\gandalf_231205_45_e3v831b.mp4\n",
      "Duration of video [s]:  17.57 , recorded with  120.0 fps!\n",
      "Overall # of frames:  2109  found with (before cropping) frame dimensions:  640 480\n",
      "Starting to extract posture\n"
     ]
    },
    {
     "name": "stderr",
     "output_type": "stream",
     "text": [
      "100%|██████████| 2109/2109 [06:46<00:00,  5.19it/s]\n"
     ]
    },
    {
     "name": "stdout",
     "output_type": "stream",
     "text": [
      "Saving results in c:\\Users\\rober\\Desktop\\Monkey-Emotions\\video\\gandalf_231205...\n",
      "Saving csv poses!\n",
      "Starting to analyze %  c:\\Users\\rober\\Desktop\\Monkey-Emotions\\video\\gandalf_231205\\gandalf_231205_46_e3v831b.mp4\n",
      "Loading  c:\\Users\\rober\\Desktop\\Monkey-Emotions\\video\\gandalf_231205\\gandalf_231205_46_e3v831b.mp4\n",
      "Duration of video [s]:  16.04 , recorded with  120.0 fps!\n",
      "Overall # of frames:  1925  found with (before cropping) frame dimensions:  640 480\n",
      "Starting to extract posture\n"
     ]
    },
    {
     "name": "stderr",
     "output_type": "stream",
     "text": [
      "100%|██████████| 1925/1925 [06:13<00:00,  5.16it/s]\n"
     ]
    },
    {
     "name": "stdout",
     "output_type": "stream",
     "text": [
      "Saving results in c:\\Users\\rober\\Desktop\\Monkey-Emotions\\video\\gandalf_231205...\n",
      "Saving csv poses!\n",
      "Starting to analyze %  c:\\Users\\rober\\Desktop\\Monkey-Emotions\\video\\gandalf_231205\\gandalf_231205_47_e3v831b.mp4\n",
      "Loading  c:\\Users\\rober\\Desktop\\Monkey-Emotions\\video\\gandalf_231205\\gandalf_231205_47_e3v831b.mp4\n",
      "Duration of video [s]:  16.45 , recorded with  120.0 fps!\n",
      "Overall # of frames:  1974  found with (before cropping) frame dimensions:  640 480\n",
      "Starting to extract posture\n"
     ]
    },
    {
     "name": "stderr",
     "output_type": "stream",
     "text": [
      "100%|██████████| 1974/1974 [06:23<00:00,  5.14it/s]\n"
     ]
    },
    {
     "name": "stdout",
     "output_type": "stream",
     "text": [
      "Saving results in c:\\Users\\rober\\Desktop\\Monkey-Emotions\\video\\gandalf_231205...\n",
      "Saving csv poses!\n",
      "Starting to analyze %  c:\\Users\\rober\\Desktop\\Monkey-Emotions\\video\\gandalf_231205\\gandalf_231205_48_e3v831b.mp4\n",
      "Loading  c:\\Users\\rober\\Desktop\\Monkey-Emotions\\video\\gandalf_231205\\gandalf_231205_48_e3v831b.mp4\n",
      "Duration of video [s]:  15.71 , recorded with  120.0 fps!\n",
      "Overall # of frames:  1885  found with (before cropping) frame dimensions:  640 480\n",
      "Starting to extract posture\n"
     ]
    },
    {
     "name": "stderr",
     "output_type": "stream",
     "text": [
      "100%|██████████| 1885/1885 [06:06<00:00,  5.14it/s]\n"
     ]
    },
    {
     "name": "stdout",
     "output_type": "stream",
     "text": [
      "Saving results in c:\\Users\\rober\\Desktop\\Monkey-Emotions\\video\\gandalf_231205...\n",
      "Saving csv poses!\n",
      "Starting to analyze %  c:\\Users\\rober\\Desktop\\Monkey-Emotions\\video\\gandalf_231205\\gandalf_231205_49_e3v831b.mp4\n",
      "Loading  c:\\Users\\rober\\Desktop\\Monkey-Emotions\\video\\gandalf_231205\\gandalf_231205_49_e3v831b.mp4\n",
      "Duration of video [s]:  15.36 , recorded with  120.0 fps!\n",
      "Overall # of frames:  1843  found with (before cropping) frame dimensions:  640 480\n",
      "Starting to extract posture\n"
     ]
    },
    {
     "name": "stderr",
     "output_type": "stream",
     "text": [
      "100%|██████████| 1843/1843 [05:58<00:00,  5.14it/s]\n"
     ]
    },
    {
     "name": "stdout",
     "output_type": "stream",
     "text": [
      "Saving results in c:\\Users\\rober\\Desktop\\Monkey-Emotions\\video\\gandalf_231205...\n",
      "Saving csv poses!\n",
      "Starting to analyze %  c:\\Users\\rober\\Desktop\\Monkey-Emotions\\video\\gandalf_231205\\gandalf_231205_50_e3v831b.mp4\n",
      "Loading  c:\\Users\\rober\\Desktop\\Monkey-Emotions\\video\\gandalf_231205\\gandalf_231205_50_e3v831b.mp4\n",
      "Duration of video [s]:  16.27 , recorded with  120.0 fps!\n",
      "Overall # of frames:  1953  found with (before cropping) frame dimensions:  640 480\n",
      "Starting to extract posture\n"
     ]
    },
    {
     "name": "stderr",
     "output_type": "stream",
     "text": [
      "100%|██████████| 1953/1953 [06:19<00:00,  5.14it/s]\n"
     ]
    },
    {
     "name": "stdout",
     "output_type": "stream",
     "text": [
      "Saving results in c:\\Users\\rober\\Desktop\\Monkey-Emotions\\video\\gandalf_231205...\n",
      "Saving csv poses!\n",
      "Starting to analyze %  c:\\Users\\rober\\Desktop\\Monkey-Emotions\\video\\gandalf_231205\\gandalf_231205_51_e3v831b.mp4\n",
      "Loading  c:\\Users\\rober\\Desktop\\Monkey-Emotions\\video\\gandalf_231205\\gandalf_231205_51_e3v831b.mp4\n",
      "Duration of video [s]:  14.18 , recorded with  120.0 fps!\n",
      "Overall # of frames:  1702  found with (before cropping) frame dimensions:  640 480\n",
      "Starting to extract posture\n"
     ]
    },
    {
     "name": "stderr",
     "output_type": "stream",
     "text": [
      "100%|██████████| 1702/1702 [05:30<00:00,  5.15it/s]\n"
     ]
    },
    {
     "name": "stdout",
     "output_type": "stream",
     "text": [
      "Saving results in c:\\Users\\rober\\Desktop\\Monkey-Emotions\\video\\gandalf_231205...\n",
      "Saving csv poses!\n",
      "Starting to analyze %  c:\\Users\\rober\\Desktop\\Monkey-Emotions\\video\\gandalf_231205\\gandalf_231205_52_e3v831b.mp4\n",
      "Loading  c:\\Users\\rober\\Desktop\\Monkey-Emotions\\video\\gandalf_231205\\gandalf_231205_52_e3v831b.mp4\n",
      "Duration of video [s]:  12.0 , recorded with  120.0 fps!\n",
      "Overall # of frames:  1440  found with (before cropping) frame dimensions:  640 480\n",
      "Starting to extract posture\n"
     ]
    },
    {
     "name": "stderr",
     "output_type": "stream",
     "text": [
      "100%|██████████| 1440/1440 [04:39<00:00,  5.15it/s]\n"
     ]
    },
    {
     "name": "stdout",
     "output_type": "stream",
     "text": [
      "Saving results in c:\\Users\\rober\\Desktop\\Monkey-Emotions\\video\\gandalf_231205...\n",
      "Saving csv poses!\n",
      "Starting to analyze %  c:\\Users\\rober\\Desktop\\Monkey-Emotions\\video\\gandalf_231205\\gandalf_231205_53_e3v831b.mp4\n",
      "Loading  c:\\Users\\rober\\Desktop\\Monkey-Emotions\\video\\gandalf_231205\\gandalf_231205_53_e3v831b.mp4\n",
      "Duration of video [s]:  15.91 , recorded with  120.0 fps!\n",
      "Overall # of frames:  1909  found with (before cropping) frame dimensions:  640 480\n",
      "Starting to extract posture\n"
     ]
    },
    {
     "name": "stderr",
     "output_type": "stream",
     "text": [
      "100%|██████████| 1909/1909 [06:10<00:00,  5.15it/s]\n"
     ]
    },
    {
     "name": "stdout",
     "output_type": "stream",
     "text": [
      "Saving results in c:\\Users\\rober\\Desktop\\Monkey-Emotions\\video\\gandalf_231205...\n",
      "Saving csv poses!\n",
      "Starting to analyze %  c:\\Users\\rober\\Desktop\\Monkey-Emotions\\video\\gandalf_231205\\gandalf_231205_54_e3v831b.mp4\n",
      "Loading  c:\\Users\\rober\\Desktop\\Monkey-Emotions\\video\\gandalf_231205\\gandalf_231205_54_e3v831b.mp4\n",
      "Duration of video [s]:  14.89 , recorded with  120.0 fps!\n",
      "Overall # of frames:  1787  found with (before cropping) frame dimensions:  640 480\n",
      "Starting to extract posture\n"
     ]
    },
    {
     "name": "stderr",
     "output_type": "stream",
     "text": [
      "100%|██████████| 1787/1787 [05:49<00:00,  5.12it/s]\n"
     ]
    },
    {
     "name": "stdout",
     "output_type": "stream",
     "text": [
      "Saving results in c:\\Users\\rober\\Desktop\\Monkey-Emotions\\video\\gandalf_231205...\n",
      "Saving csv poses!\n",
      "Starting to analyze %  c:\\Users\\rober\\Desktop\\Monkey-Emotions\\video\\gandalf_231205\\gandalf_231205_55_e3v831b.mp4\n",
      "Loading  c:\\Users\\rober\\Desktop\\Monkey-Emotions\\video\\gandalf_231205\\gandalf_231205_55_e3v831b.mp4\n",
      "Duration of video [s]:  10.08 , recorded with  120.0 fps!\n",
      "Overall # of frames:  1210  found with (before cropping) frame dimensions:  640 480\n",
      "Starting to extract posture\n"
     ]
    },
    {
     "name": "stderr",
     "output_type": "stream",
     "text": [
      "100%|██████████| 1210/1210 [03:55<00:00,  5.13it/s]\n"
     ]
    },
    {
     "name": "stdout",
     "output_type": "stream",
     "text": [
      "Saving results in c:\\Users\\rober\\Desktop\\Monkey-Emotions\\video\\gandalf_231205...\n",
      "Saving csv poses!\n",
      "Starting to analyze %  c:\\Users\\rober\\Desktop\\Monkey-Emotions\\video\\gandalf_231205\\gandalf_231205_56_e3v831b.mp4\n",
      "Loading  c:\\Users\\rober\\Desktop\\Monkey-Emotions\\video\\gandalf_231205\\gandalf_231205_56_e3v831b.mp4\n",
      "Duration of video [s]:  16.57 , recorded with  120.0 fps!\n",
      "Overall # of frames:  1988  found with (before cropping) frame dimensions:  640 480\n",
      "Starting to extract posture\n"
     ]
    },
    {
     "name": "stderr",
     "output_type": "stream",
     "text": [
      "100%|██████████| 1988/1988 [06:25<00:00,  5.16it/s]\n"
     ]
    },
    {
     "name": "stdout",
     "output_type": "stream",
     "text": [
      "Saving results in c:\\Users\\rober\\Desktop\\Monkey-Emotions\\video\\gandalf_231205...\n",
      "Saving csv poses!\n",
      "Starting to analyze %  c:\\Users\\rober\\Desktop\\Monkey-Emotions\\video\\gandalf_231205\\gandalf_231205_57_e3v831b.mp4\n",
      "Loading  c:\\Users\\rober\\Desktop\\Monkey-Emotions\\video\\gandalf_231205\\gandalf_231205_57_e3v831b.mp4\n",
      "Duration of video [s]:  16.41 , recorded with  120.0 fps!\n",
      "Overall # of frames:  1969  found with (before cropping) frame dimensions:  640 480\n",
      "Starting to extract posture\n"
     ]
    },
    {
     "name": "stderr",
     "output_type": "stream",
     "text": [
      "100%|██████████| 1969/1969 [06:22<00:00,  5.15it/s]\n"
     ]
    },
    {
     "name": "stdout",
     "output_type": "stream",
     "text": [
      "Saving results in c:\\Users\\rober\\Desktop\\Monkey-Emotions\\video\\gandalf_231205...\n",
      "Saving csv poses!\n",
      "Starting to analyze %  c:\\Users\\rober\\Desktop\\Monkey-Emotions\\video\\gandalf_231205\\gandalf_231205_58_e3v831b.mp4\n",
      "Loading  c:\\Users\\rober\\Desktop\\Monkey-Emotions\\video\\gandalf_231205\\gandalf_231205_58_e3v831b.mp4\n",
      "Duration of video [s]:  18.24 , recorded with  120.0 fps!\n",
      "Overall # of frames:  2189  found with (before cropping) frame dimensions:  640 480\n",
      "Starting to extract posture\n"
     ]
    },
    {
     "name": "stderr",
     "output_type": "stream",
     "text": [
      "100%|██████████| 2189/2189 [07:04<00:00,  5.16it/s]\n"
     ]
    },
    {
     "name": "stdout",
     "output_type": "stream",
     "text": [
      "Saving results in c:\\Users\\rober\\Desktop\\Monkey-Emotions\\video\\gandalf_231205...\n",
      "Saving csv poses!\n",
      "Starting to analyze %  c:\\Users\\rober\\Desktop\\Monkey-Emotions\\video\\gandalf_231205\\gandalf_231205_59_e3v831b.mp4\n",
      "Loading  c:\\Users\\rober\\Desktop\\Monkey-Emotions\\video\\gandalf_231205\\gandalf_231205_59_e3v831b.mp4\n",
      "Duration of video [s]:  10.48 , recorded with  120.0 fps!\n",
      "Overall # of frames:  1258  found with (before cropping) frame dimensions:  640 480\n",
      "Starting to extract posture\n"
     ]
    },
    {
     "name": "stderr",
     "output_type": "stream",
     "text": [
      "100%|██████████| 1258/1258 [04:04<00:00,  5.14it/s]\n"
     ]
    },
    {
     "name": "stdout",
     "output_type": "stream",
     "text": [
      "Saving results in c:\\Users\\rober\\Desktop\\Monkey-Emotions\\video\\gandalf_231205...\n",
      "Saving csv poses!\n",
      "Starting to analyze %  c:\\Users\\rober\\Desktop\\Monkey-Emotions\\video\\gandalf_231205\\gandalf_231205_60_e3v831b.mp4\n",
      "Loading  c:\\Users\\rober\\Desktop\\Monkey-Emotions\\video\\gandalf_231205\\gandalf_231205_60_e3v831b.mp4\n",
      "Duration of video [s]:  20.92 , recorded with  120.0 fps!\n",
      "Overall # of frames:  2510  found with (before cropping) frame dimensions:  640 480\n",
      "Starting to extract posture\n"
     ]
    },
    {
     "name": "stderr",
     "output_type": "stream",
     "text": [
      "100%|██████████| 2510/2510 [08:07<00:00,  5.15it/s]\n"
     ]
    },
    {
     "name": "stdout",
     "output_type": "stream",
     "text": [
      "Saving results in c:\\Users\\rober\\Desktop\\Monkey-Emotions\\video\\gandalf_231205...\n",
      "Saving csv poses!\n",
      "Starting to analyze %  c:\\Users\\rober\\Desktop\\Monkey-Emotions\\video\\gandalf_231205\\gandalf_231205_61_e3v831b.mp4\n",
      "Loading  c:\\Users\\rober\\Desktop\\Monkey-Emotions\\video\\gandalf_231205\\gandalf_231205_61_e3v831b.mp4\n",
      "Duration of video [s]:  14.88 , recorded with  120.0 fps!\n",
      "Overall # of frames:  1786  found with (before cropping) frame dimensions:  640 480\n",
      "Starting to extract posture\n"
     ]
    },
    {
     "name": "stderr",
     "output_type": "stream",
     "text": [
      "100%|██████████| 1786/1786 [05:47<00:00,  5.14it/s]\n"
     ]
    },
    {
     "name": "stdout",
     "output_type": "stream",
     "text": [
      "Saving results in c:\\Users\\rober\\Desktop\\Monkey-Emotions\\video\\gandalf_231205...\n",
      "Saving csv poses!\n",
      "Starting to analyze %  c:\\Users\\rober\\Desktop\\Monkey-Emotions\\video\\gandalf_231205\\gandalf_231205_62_e3v831b.mp4\n",
      "Loading  c:\\Users\\rober\\Desktop\\Monkey-Emotions\\video\\gandalf_231205\\gandalf_231205_62_e3v831b.mp4\n",
      "Duration of video [s]:  19.56 , recorded with  120.0 fps!\n",
      "Overall # of frames:  2347  found with (before cropping) frame dimensions:  640 480\n",
      "Starting to extract posture\n"
     ]
    },
    {
     "name": "stderr",
     "output_type": "stream",
     "text": [
      "100%|██████████| 2347/2347 [07:35<00:00,  5.16it/s]\n"
     ]
    },
    {
     "name": "stdout",
     "output_type": "stream",
     "text": [
      "Saving results in c:\\Users\\rober\\Desktop\\Monkey-Emotions\\video\\gandalf_231205...\n",
      "Saving csv poses!\n",
      "Starting to analyze %  c:\\Users\\rober\\Desktop\\Monkey-Emotions\\video\\gandalf_231205\\gandalf_231205_63_e3v831b.mp4\n",
      "Loading  c:\\Users\\rober\\Desktop\\Monkey-Emotions\\video\\gandalf_231205\\gandalf_231205_63_e3v831b.mp4\n",
      "Duration of video [s]:  14.64 , recorded with  120.0 fps!\n",
      "Overall # of frames:  1757  found with (before cropping) frame dimensions:  640 480\n",
      "Starting to extract posture\n"
     ]
    },
    {
     "name": "stderr",
     "output_type": "stream",
     "text": [
      "100%|██████████| 1757/1757 [05:41<00:00,  5.14it/s]\n"
     ]
    },
    {
     "name": "stdout",
     "output_type": "stream",
     "text": [
      "Saving results in c:\\Users\\rober\\Desktop\\Monkey-Emotions\\video\\gandalf_231205...\n",
      "Saving csv poses!\n",
      "Starting to analyze %  c:\\Users\\rober\\Desktop\\Monkey-Emotions\\video\\gandalf_231205\\gandalf_231205_64_e3v831b.mp4\n",
      "Loading  c:\\Users\\rober\\Desktop\\Monkey-Emotions\\video\\gandalf_231205\\gandalf_231205_64_e3v831b.mp4\n",
      "Duration of video [s]:  19.32 , recorded with  120.0 fps!\n",
      "Overall # of frames:  2318  found with (before cropping) frame dimensions:  640 480\n",
      "Starting to extract posture\n"
     ]
    },
    {
     "name": "stderr",
     "output_type": "stream",
     "text": [
      "100%|██████████| 2318/2318 [07:31<00:00,  5.13it/s]\n"
     ]
    },
    {
     "name": "stdout",
     "output_type": "stream",
     "text": [
      "Saving results in c:\\Users\\rober\\Desktop\\Monkey-Emotions\\video\\gandalf_231205...\n",
      "Saving csv poses!\n",
      "Starting to analyze %  c:\\Users\\rober\\Desktop\\Monkey-Emotions\\video\\gandalf_231205\\gandalf_231205_65_e3v831b.mp4\n",
      "Loading  c:\\Users\\rober\\Desktop\\Monkey-Emotions\\video\\gandalf_231205\\gandalf_231205_65_e3v831b.mp4\n",
      "Duration of video [s]:  17.73 , recorded with  120.0 fps!\n",
      "Overall # of frames:  2127  found with (before cropping) frame dimensions:  640 480\n",
      "Starting to extract posture\n"
     ]
    },
    {
     "name": "stderr",
     "output_type": "stream",
     "text": [
      "100%|██████████| 2127/2127 [06:52<00:00,  5.15it/s]\n"
     ]
    },
    {
     "name": "stdout",
     "output_type": "stream",
     "text": [
      "Saving results in c:\\Users\\rober\\Desktop\\Monkey-Emotions\\video\\gandalf_231205...\n",
      "Saving csv poses!\n",
      "Starting to analyze %  c:\\Users\\rober\\Desktop\\Monkey-Emotions\\video\\gandalf_231205\\gandalf_231205_66_e3v831b.mp4\n",
      "Loading  c:\\Users\\rober\\Desktop\\Monkey-Emotions\\video\\gandalf_231205\\gandalf_231205_66_e3v831b.mp4\n",
      "Duration of video [s]:  11.98 , recorded with  120.0 fps!\n",
      "Overall # of frames:  1438  found with (before cropping) frame dimensions:  640 480\n",
      "Starting to extract posture\n"
     ]
    },
    {
     "name": "stderr",
     "output_type": "stream",
     "text": [
      "100%|██████████| 1438/1438 [04:39<00:00,  5.15it/s]\n"
     ]
    },
    {
     "name": "stdout",
     "output_type": "stream",
     "text": [
      "Saving results in c:\\Users\\rober\\Desktop\\Monkey-Emotions\\video\\gandalf_231205...\n",
      "Saving csv poses!\n",
      "Starting to analyze %  c:\\Users\\rober\\Desktop\\Monkey-Emotions\\video\\gandalf_231205\\gandalf_231205_67_e3v831b.mp4\n",
      "Loading  c:\\Users\\rober\\Desktop\\Monkey-Emotions\\video\\gandalf_231205\\gandalf_231205_67_e3v831b.mp4\n",
      "Duration of video [s]:  16.17 , recorded with  120.0 fps!\n",
      "Overall # of frames:  1940  found with (before cropping) frame dimensions:  640 480\n",
      "Starting to extract posture\n"
     ]
    },
    {
     "name": "stderr",
     "output_type": "stream",
     "text": [
      "100%|██████████| 1940/1940 [06:16<00:00,  5.15it/s]\n"
     ]
    },
    {
     "name": "stdout",
     "output_type": "stream",
     "text": [
      "Saving results in c:\\Users\\rober\\Desktop\\Monkey-Emotions\\video\\gandalf_231205...\n",
      "Saving csv poses!\n",
      "Starting to analyze %  c:\\Users\\rober\\Desktop\\Monkey-Emotions\\video\\gandalf_231205\\gandalf_231205_68_e3v831b.mp4\n",
      "Loading  c:\\Users\\rober\\Desktop\\Monkey-Emotions\\video\\gandalf_231205\\gandalf_231205_68_e3v831b.mp4\n",
      "Duration of video [s]:  11.1 , recorded with  120.0 fps!\n",
      "Overall # of frames:  1332  found with (before cropping) frame dimensions:  640 480\n",
      "Starting to extract posture\n"
     ]
    },
    {
     "name": "stderr",
     "output_type": "stream",
     "text": [
      "100%|██████████| 1332/1332 [04:19<00:00,  5.13it/s]\n"
     ]
    },
    {
     "name": "stdout",
     "output_type": "stream",
     "text": [
      "Saving results in c:\\Users\\rober\\Desktop\\Monkey-Emotions\\video\\gandalf_231205...\n",
      "Saving csv poses!\n",
      "Starting to analyze %  c:\\Users\\rober\\Desktop\\Monkey-Emotions\\video\\gandalf_231205\\gandalf_231205_69_e3v831b.mp4\n",
      "Loading  c:\\Users\\rober\\Desktop\\Monkey-Emotions\\video\\gandalf_231205\\gandalf_231205_69_e3v831b.mp4\n",
      "Duration of video [s]:  16.93 , recorded with  120.0 fps!\n",
      "Overall # of frames:  2031  found with (before cropping) frame dimensions:  640 480\n",
      "Starting to extract posture\n"
     ]
    },
    {
     "name": "stderr",
     "output_type": "stream",
     "text": [
      "100%|██████████| 2031/2031 [06:34<00:00,  5.15it/s]\n"
     ]
    },
    {
     "name": "stdout",
     "output_type": "stream",
     "text": [
      "Saving results in c:\\Users\\rober\\Desktop\\Monkey-Emotions\\video\\gandalf_231205...\n",
      "Saving csv poses!\n",
      "Starting to analyze %  c:\\Users\\rober\\Desktop\\Monkey-Emotions\\video\\gandalf_231205\\gandalf_231205_70_e3v831b.mp4\n",
      "Loading  c:\\Users\\rober\\Desktop\\Monkey-Emotions\\video\\gandalf_231205\\gandalf_231205_70_e3v831b.mp4\n",
      "Duration of video [s]:  15.73 , recorded with  120.0 fps!\n",
      "Overall # of frames:  1888  found with (before cropping) frame dimensions:  640 480\n",
      "Starting to extract posture\n"
     ]
    },
    {
     "name": "stderr",
     "output_type": "stream",
     "text": [
      "100%|██████████| 1888/1888 [06:03<00:00,  5.20it/s]\n"
     ]
    },
    {
     "name": "stdout",
     "output_type": "stream",
     "text": [
      "Saving results in c:\\Users\\rober\\Desktop\\Monkey-Emotions\\video\\gandalf_231205...\n",
      "Saving csv poses!\n",
      "Starting to analyze %  c:\\Users\\rober\\Desktop\\Monkey-Emotions\\video\\gandalf_231205\\gandalf_231205_71_e3v831b.mp4\n",
      "Loading  c:\\Users\\rober\\Desktop\\Monkey-Emotions\\video\\gandalf_231205\\gandalf_231205_71_e3v831b.mp4\n",
      "Duration of video [s]:  51.2 , recorded with  120.0 fps!\n",
      "Overall # of frames:  6144  found with (before cropping) frame dimensions:  640 480\n",
      "Starting to extract posture\n"
     ]
    },
    {
     "name": "stderr",
     "output_type": "stream",
     "text": [
      "100%|██████████| 6144/6144 [20:00<00:00,  5.12it/s]\n"
     ]
    },
    {
     "name": "stdout",
     "output_type": "stream",
     "text": [
      "Saving results in c:\\Users\\rober\\Desktop\\Monkey-Emotions\\video\\gandalf_231205...\n",
      "Saving csv poses!\n",
      "Starting to analyze %  c:\\Users\\rober\\Desktop\\Monkey-Emotions\\video\\gandalf_231205\\gandalf_231205_72_e3v831b.mp4\n",
      "Loading  c:\\Users\\rober\\Desktop\\Monkey-Emotions\\video\\gandalf_231205\\gandalf_231205_72_e3v831b.mp4\n",
      "Duration of video [s]:  27.27 , recorded with  120.0 fps!\n",
      "Overall # of frames:  3272  found with (before cropping) frame dimensions:  640 480\n",
      "Starting to extract posture\n"
     ]
    },
    {
     "name": "stderr",
     "output_type": "stream",
     "text": [
      "100%|██████████| 3272/3272 [10:47<00:00,  5.05it/s]\n"
     ]
    },
    {
     "name": "stdout",
     "output_type": "stream",
     "text": [
      "Saving results in c:\\Users\\rober\\Desktop\\Monkey-Emotions\\video\\gandalf_231205...\n",
      "Saving csv poses!\n",
      "Starting to analyze %  c:\\Users\\rober\\Desktop\\Monkey-Emotions\\video\\gandalf_231205\\gandalf_231205_73_e3v831b.mp4\n",
      "Loading  c:\\Users\\rober\\Desktop\\Monkey-Emotions\\video\\gandalf_231205\\gandalf_231205_73_e3v831b.mp4\n",
      "Duration of video [s]:  14.55 , recorded with  120.0 fps!\n",
      "Overall # of frames:  1746  found with (before cropping) frame dimensions:  640 480\n",
      "Starting to extract posture\n"
     ]
    },
    {
     "name": "stderr",
     "output_type": "stream",
     "text": [
      "100%|██████████| 1746/1746 [05:39<00:00,  5.14it/s]\n"
     ]
    },
    {
     "name": "stdout",
     "output_type": "stream",
     "text": [
      "Saving results in c:\\Users\\rober\\Desktop\\Monkey-Emotions\\video\\gandalf_231205...\n",
      "Saving csv poses!\n",
      "Starting to analyze %  c:\\Users\\rober\\Desktop\\Monkey-Emotions\\video\\gandalf_231205\\gandalf_231205_75_e3v831b.mp4\n",
      "Loading  c:\\Users\\rober\\Desktop\\Monkey-Emotions\\video\\gandalf_231205\\gandalf_231205_75_e3v831b.mp4\n",
      "Duration of video [s]:  12.92 , recorded with  120.0 fps!\n",
      "Overall # of frames:  1550  found with (before cropping) frame dimensions:  640 480\n",
      "Starting to extract posture\n"
     ]
    },
    {
     "name": "stderr",
     "output_type": "stream",
     "text": [
      "100%|██████████| 1550/1550 [05:00<00:00,  5.16it/s]\n"
     ]
    },
    {
     "name": "stdout",
     "output_type": "stream",
     "text": [
      "Saving results in c:\\Users\\rober\\Desktop\\Monkey-Emotions\\video\\gandalf_231205...\n",
      "Saving csv poses!\n",
      "Starting to analyze %  c:\\Users\\rober\\Desktop\\Monkey-Emotions\\video\\gandalf_231205\\gandalf_231205_76_e3v831b.mp4\n",
      "Loading  c:\\Users\\rober\\Desktop\\Monkey-Emotions\\video\\gandalf_231205\\gandalf_231205_76_e3v831b.mp4\n",
      "Duration of video [s]:  16.71 , recorded with  120.0 fps!\n",
      "Overall # of frames:  2005  found with (before cropping) frame dimensions:  640 480\n",
      "Starting to extract posture\n"
     ]
    },
    {
     "name": "stderr",
     "output_type": "stream",
     "text": [
      "100%|██████████| 2005/2005 [06:29<00:00,  5.15it/s]\n"
     ]
    },
    {
     "name": "stdout",
     "output_type": "stream",
     "text": [
      "Saving results in c:\\Users\\rober\\Desktop\\Monkey-Emotions\\video\\gandalf_231205...\n",
      "Saving csv poses!\n",
      "Starting to analyze %  c:\\Users\\rober\\Desktop\\Monkey-Emotions\\video\\gandalf_231205\\gandalf_231205_77_e3v831b.mp4\n",
      "Loading  c:\\Users\\rober\\Desktop\\Monkey-Emotions\\video\\gandalf_231205\\gandalf_231205_77_e3v831b.mp4\n",
      "Duration of video [s]:  17.4 , recorded with  120.0 fps!\n",
      "Overall # of frames:  2088  found with (before cropping) frame dimensions:  640 480\n",
      "Starting to extract posture\n"
     ]
    },
    {
     "name": "stderr",
     "output_type": "stream",
     "text": [
      "100%|██████████| 2088/2088 [06:45<00:00,  5.16it/s]\n"
     ]
    },
    {
     "name": "stdout",
     "output_type": "stream",
     "text": [
      "Saving results in c:\\Users\\rober\\Desktop\\Monkey-Emotions\\video\\gandalf_231205...\n",
      "Saving csv poses!\n",
      "Starting to analyze %  c:\\Users\\rober\\Desktop\\Monkey-Emotions\\video\\gandalf_231205\\gandalf_231205_78_e3v831b.mp4\n",
      "Loading  c:\\Users\\rober\\Desktop\\Monkey-Emotions\\video\\gandalf_231205\\gandalf_231205_78_e3v831b.mp4\n",
      "Duration of video [s]:  18.62 , recorded with  120.0 fps!\n",
      "Overall # of frames:  2234  found with (before cropping) frame dimensions:  640 480\n",
      "Starting to extract posture\n"
     ]
    },
    {
     "name": "stderr",
     "output_type": "stream",
     "text": [
      "100%|██████████| 2234/2234 [07:15<00:00,  5.13it/s]\n"
     ]
    },
    {
     "name": "stdout",
     "output_type": "stream",
     "text": [
      "Saving results in c:\\Users\\rober\\Desktop\\Monkey-Emotions\\video\\gandalf_231205...\n",
      "Saving csv poses!\n",
      "Starting to analyze %  c:\\Users\\rober\\Desktop\\Monkey-Emotions\\video\\gandalf_231205\\gandalf_231205_79_e3v831b.mp4\n",
      "Loading  c:\\Users\\rober\\Desktop\\Monkey-Emotions\\video\\gandalf_231205\\gandalf_231205_79_e3v831b.mp4\n",
      "Duration of video [s]:  11.15 , recorded with  120.0 fps!\n",
      "Overall # of frames:  1338  found with (before cropping) frame dimensions:  640 480\n",
      "Starting to extract posture\n"
     ]
    },
    {
     "name": "stderr",
     "output_type": "stream",
     "text": [
      "100%|██████████| 1338/1338 [04:20<00:00,  5.13it/s]\n"
     ]
    },
    {
     "name": "stdout",
     "output_type": "stream",
     "text": [
      "Saving results in c:\\Users\\rober\\Desktop\\Monkey-Emotions\\video\\gandalf_231205...\n",
      "Saving csv poses!\n",
      "Starting to analyze %  c:\\Users\\rober\\Desktop\\Monkey-Emotions\\video\\gandalf_231205\\gandalf_231205_80_e3v831b.mp4\n",
      "Loading  c:\\Users\\rober\\Desktop\\Monkey-Emotions\\video\\gandalf_231205\\gandalf_231205_80_e3v831b.mp4\n",
      "Duration of video [s]:  9.47 , recorded with  120.0 fps!\n",
      "Overall # of frames:  1136  found with (before cropping) frame dimensions:  640 480\n",
      "Starting to extract posture\n"
     ]
    },
    {
     "name": "stderr",
     "output_type": "stream",
     "text": [
      "100%|██████████| 1136/1136 [03:41<00:00,  5.13it/s]\n"
     ]
    },
    {
     "name": "stdout",
     "output_type": "stream",
     "text": [
      "Saving results in c:\\Users\\rober\\Desktop\\Monkey-Emotions\\video\\gandalf_231205...\n",
      "Saving csv poses!\n",
      "Starting to analyze %  c:\\Users\\rober\\Desktop\\Monkey-Emotions\\video\\gandalf_231205\\gandalf_231205_81_e3v831b.mp4\n",
      "Loading  c:\\Users\\rober\\Desktop\\Monkey-Emotions\\video\\gandalf_231205\\gandalf_231205_81_e3v831b.mp4\n",
      "Duration of video [s]:  14.44 , recorded with  120.0 fps!\n",
      "Overall # of frames:  1733  found with (before cropping) frame dimensions:  640 480\n",
      "Starting to extract posture\n"
     ]
    },
    {
     "name": "stderr",
     "output_type": "stream",
     "text": [
      "100%|██████████| 1733/1733 [05:36<00:00,  5.14it/s]\n"
     ]
    },
    {
     "name": "stdout",
     "output_type": "stream",
     "text": [
      "Saving results in c:\\Users\\rober\\Desktop\\Monkey-Emotions\\video\\gandalf_231205...\n",
      "Saving csv poses!\n",
      "Starting to analyze %  c:\\Users\\rober\\Desktop\\Monkey-Emotions\\video\\gandalf_231205\\gandalf_231205_82_e3v831b.mp4\n",
      "Loading  c:\\Users\\rober\\Desktop\\Monkey-Emotions\\video\\gandalf_231205\\gandalf_231205_82_e3v831b.mp4\n",
      "Duration of video [s]:  15.78 , recorded with  120.0 fps!\n",
      "Overall # of frames:  1893  found with (before cropping) frame dimensions:  640 480\n",
      "Starting to extract posture\n"
     ]
    },
    {
     "name": "stderr",
     "output_type": "stream",
     "text": [
      "100%|██████████| 1893/1893 [06:10<00:00,  5.11it/s]\n"
     ]
    },
    {
     "name": "stdout",
     "output_type": "stream",
     "text": [
      "Saving results in c:\\Users\\rober\\Desktop\\Monkey-Emotions\\video\\gandalf_231205...\n",
      "Saving csv poses!\n",
      "Starting to analyze %  c:\\Users\\rober\\Desktop\\Monkey-Emotions\\video\\gandalf_231205\\gandalf_231205_83_e3v831b.mp4\n",
      "Loading  c:\\Users\\rober\\Desktop\\Monkey-Emotions\\video\\gandalf_231205\\gandalf_231205_83_e3v831b.mp4\n",
      "Duration of video [s]:  14.49 , recorded with  120.0 fps!\n",
      "Overall # of frames:  1739  found with (before cropping) frame dimensions:  640 480\n",
      "Starting to extract posture\n"
     ]
    },
    {
     "name": "stderr",
     "output_type": "stream",
     "text": [
      "100%|██████████| 1739/1739 [05:38<00:00,  5.13it/s]\n"
     ]
    },
    {
     "name": "stdout",
     "output_type": "stream",
     "text": [
      "Saving results in c:\\Users\\rober\\Desktop\\Monkey-Emotions\\video\\gandalf_231205...\n",
      "Saving csv poses!\n",
      "Starting to analyze %  c:\\Users\\rober\\Desktop\\Monkey-Emotions\\video\\gandalf_231205\\gandalf_231205_84_e3v831b.mp4\n",
      "Loading  c:\\Users\\rober\\Desktop\\Monkey-Emotions\\video\\gandalf_231205\\gandalf_231205_84_e3v831b.mp4\n",
      "Duration of video [s]:  15.07 , recorded with  120.0 fps!\n",
      "Overall # of frames:  1809  found with (before cropping) frame dimensions:  640 480\n",
      "Starting to extract posture\n"
     ]
    },
    {
     "name": "stderr",
     "output_type": "stream",
     "text": [
      "100%|██████████| 1809/1809 [05:53<00:00,  5.11it/s]\n"
     ]
    },
    {
     "name": "stdout",
     "output_type": "stream",
     "text": [
      "Saving results in c:\\Users\\rober\\Desktop\\Monkey-Emotions\\video\\gandalf_231205...\n",
      "Saving csv poses!\n",
      "Starting to analyze %  c:\\Users\\rober\\Desktop\\Monkey-Emotions\\video\\gandalf_231205\\gandalf_231205_85_e3v831b.mp4\n",
      "Loading  c:\\Users\\rober\\Desktop\\Monkey-Emotions\\video\\gandalf_231205\\gandalf_231205_85_e3v831b.mp4\n",
      "Duration of video [s]:  18.66 , recorded with  120.0 fps!\n",
      "Overall # of frames:  2239  found with (before cropping) frame dimensions:  640 480\n",
      "Starting to extract posture\n"
     ]
    },
    {
     "name": "stderr",
     "output_type": "stream",
     "text": [
      "100%|██████████| 2239/2239 [07:15<00:00,  5.15it/s]\n"
     ]
    },
    {
     "name": "stdout",
     "output_type": "stream",
     "text": [
      "Saving results in c:\\Users\\rober\\Desktop\\Monkey-Emotions\\video\\gandalf_231205...\n",
      "Saving csv poses!\n",
      "Starting to analyze %  c:\\Users\\rober\\Desktop\\Monkey-Emotions\\video\\gandalf_231205\\gandalf_231205_86_e3v831b.mp4\n",
      "Loading  c:\\Users\\rober\\Desktop\\Monkey-Emotions\\video\\gandalf_231205\\gandalf_231205_86_e3v831b.mp4\n",
      "Duration of video [s]:  14.91 , recorded with  120.0 fps!\n",
      "Overall # of frames:  1789  found with (before cropping) frame dimensions:  640 480\n",
      "Starting to extract posture\n"
     ]
    },
    {
     "name": "stderr",
     "output_type": "stream",
     "text": [
      "100%|██████████| 1789/1789 [05:47<00:00,  5.14it/s]\n"
     ]
    },
    {
     "name": "stdout",
     "output_type": "stream",
     "text": [
      "Saving results in c:\\Users\\rober\\Desktop\\Monkey-Emotions\\video\\gandalf_231205...\n",
      "Saving csv poses!\n",
      "Starting to analyze %  c:\\Users\\rober\\Desktop\\Monkey-Emotions\\video\\gandalf_231205\\gandalf_231205_87_e3v831b.mp4\n",
      "Loading  c:\\Users\\rober\\Desktop\\Monkey-Emotions\\video\\gandalf_231205\\gandalf_231205_87_e3v831b.mp4\n",
      "Duration of video [s]:  21.98 , recorded with  120.0 fps!\n",
      "Overall # of frames:  2637  found with (before cropping) frame dimensions:  640 480\n",
      "Starting to extract posture\n"
     ]
    },
    {
     "name": "stderr",
     "output_type": "stream",
     "text": [
      "100%|██████████| 2637/2637 [08:30<00:00,  5.17it/s]\n"
     ]
    },
    {
     "name": "stdout",
     "output_type": "stream",
     "text": [
      "Saving results in c:\\Users\\rober\\Desktop\\Monkey-Emotions\\video\\gandalf_231205...\n",
      "Saving csv poses!\n",
      "Starting to analyze %  c:\\Users\\rober\\Desktop\\Monkey-Emotions\\video\\gandalf_231205\\gandalf_231205_88_e3v831b.mp4\n",
      "Loading  c:\\Users\\rober\\Desktop\\Monkey-Emotions\\video\\gandalf_231205\\gandalf_231205_88_e3v831b.mp4\n",
      "Duration of video [s]:  14.98 , recorded with  120.0 fps!\n",
      "Overall # of frames:  1798  found with (before cropping) frame dimensions:  640 480\n",
      "Starting to extract posture\n"
     ]
    },
    {
     "name": "stderr",
     "output_type": "stream",
     "text": [
      "100%|██████████| 1798/1798 [05:48<00:00,  5.16it/s]\n"
     ]
    },
    {
     "name": "stdout",
     "output_type": "stream",
     "text": [
      "Saving results in c:\\Users\\rober\\Desktop\\Monkey-Emotions\\video\\gandalf_231205...\n",
      "Saving csv poses!\n",
      "Starting to analyze %  c:\\Users\\rober\\Desktop\\Monkey-Emotions\\video\\gandalf_231205\\gandalf_231205_89_e3v831b.mp4\n",
      "Loading  c:\\Users\\rober\\Desktop\\Monkey-Emotions\\video\\gandalf_231205\\gandalf_231205_89_e3v831b.mp4\n",
      "Duration of video [s]:  14.57 , recorded with  120.0 fps!\n",
      "Overall # of frames:  1748  found with (before cropping) frame dimensions:  640 480\n",
      "Starting to extract posture\n"
     ]
    },
    {
     "name": "stderr",
     "output_type": "stream",
     "text": [
      "100%|██████████| 1748/1748 [05:39<00:00,  5.15it/s]\n"
     ]
    },
    {
     "name": "stdout",
     "output_type": "stream",
     "text": [
      "Saving results in c:\\Users\\rober\\Desktop\\Monkey-Emotions\\video\\gandalf_231205...\n",
      "Saving csv poses!\n",
      "Starting to analyze %  c:\\Users\\rober\\Desktop\\Monkey-Emotions\\video\\gandalf_231205\\gandalf_231205_90_e3v831b.mp4\n",
      "Loading  c:\\Users\\rober\\Desktop\\Monkey-Emotions\\video\\gandalf_231205\\gandalf_231205_90_e3v831b.mp4\n",
      "Duration of video [s]:  11.75 , recorded with  120.0 fps!\n",
      "Overall # of frames:  1410  found with (before cropping) frame dimensions:  640 480\n",
      "Starting to extract posture\n"
     ]
    },
    {
     "name": "stderr",
     "output_type": "stream",
     "text": [
      "100%|██████████| 1410/1410 [04:34<00:00,  5.13it/s]\n"
     ]
    },
    {
     "name": "stdout",
     "output_type": "stream",
     "text": [
      "Saving results in c:\\Users\\rober\\Desktop\\Monkey-Emotions\\video\\gandalf_231205...\n",
      "Saving csv poses!\n",
      "Starting to analyze %  c:\\Users\\rober\\Desktop\\Monkey-Emotions\\video\\gandalf_231205\\gandalf_231205_91_e3v831b.mp4\n",
      "Loading  c:\\Users\\rober\\Desktop\\Monkey-Emotions\\video\\gandalf_231205\\gandalf_231205_91_e3v831b.mp4\n",
      "Duration of video [s]:  50.73 , recorded with  120.0 fps!\n",
      "Overall # of frames:  6088  found with (before cropping) frame dimensions:  640 480\n",
      "Starting to extract posture\n"
     ]
    },
    {
     "name": "stderr",
     "output_type": "stream",
     "text": [
      "100%|██████████| 6088/6088 [19:44<00:00,  5.14it/s]\n"
     ]
    },
    {
     "name": "stdout",
     "output_type": "stream",
     "text": [
      "Saving results in c:\\Users\\rober\\Desktop\\Monkey-Emotions\\video\\gandalf_231205...\n",
      "Saving csv poses!\n",
      "Starting to analyze %  c:\\Users\\rober\\Desktop\\Monkey-Emotions\\video\\gandalf_231205\\gandalf_231205_92_e3v831b.mp4\n",
      "Loading  c:\\Users\\rober\\Desktop\\Monkey-Emotions\\video\\gandalf_231205\\gandalf_231205_92_e3v831b.mp4\n",
      "Duration of video [s]:  46.36 , recorded with  120.0 fps!\n",
      "Overall # of frames:  5563  found with (before cropping) frame dimensions:  640 480\n",
      "Starting to extract posture\n"
     ]
    },
    {
     "name": "stderr",
     "output_type": "stream",
     "text": [
      "100%|██████████| 5563/5563 [17:58<00:00,  5.16it/s]\n"
     ]
    },
    {
     "name": "stdout",
     "output_type": "stream",
     "text": [
      "Saving results in c:\\Users\\rober\\Desktop\\Monkey-Emotions\\video\\gandalf_231205...\n",
      "Saving csv poses!\n",
      "Starting to analyze %  c:\\Users\\rober\\Desktop\\Monkey-Emotions\\video\\gandalf_231205\\gandalf_231205_93_e3v831b.mp4\n",
      "Loading  c:\\Users\\rober\\Desktop\\Monkey-Emotions\\video\\gandalf_231205\\gandalf_231205_93_e3v831b.mp4\n",
      "Duration of video [s]:  14.84 , recorded with  120.0 fps!\n",
      "Overall # of frames:  1781  found with (before cropping) frame dimensions:  640 480\n",
      "Starting to extract posture\n"
     ]
    },
    {
     "name": "stderr",
     "output_type": "stream",
     "text": [
      "100%|██████████| 1781/1781 [05:46<00:00,  5.14it/s]\n"
     ]
    },
    {
     "name": "stdout",
     "output_type": "stream",
     "text": [
      "Saving results in c:\\Users\\rober\\Desktop\\Monkey-Emotions\\video\\gandalf_231205...\n",
      "Saving csv poses!\n",
      "Starting to analyze %  c:\\Users\\rober\\Desktop\\Monkey-Emotions\\video\\gandalf_231205\\gandalf_231205_94_e3v831b.mp4\n",
      "Loading  c:\\Users\\rober\\Desktop\\Monkey-Emotions\\video\\gandalf_231205\\gandalf_231205_94_e3v831b.mp4\n",
      "Duration of video [s]:  13.83 , recorded with  120.0 fps!\n",
      "Overall # of frames:  1660  found with (before cropping) frame dimensions:  640 480\n",
      "Starting to extract posture\n"
     ]
    },
    {
     "name": "stderr",
     "output_type": "stream",
     "text": [
      "100%|██████████| 1660/1660 [05:23<00:00,  5.13it/s]\n"
     ]
    },
    {
     "name": "stdout",
     "output_type": "stream",
     "text": [
      "Saving results in c:\\Users\\rober\\Desktop\\Monkey-Emotions\\video\\gandalf_231205...\n",
      "Saving csv poses!\n",
      "Starting to analyze %  c:\\Users\\rober\\Desktop\\Monkey-Emotions\\video\\gandalf_231205\\gandalf_231205_95_e3v831b.mp4\n",
      "Loading  c:\\Users\\rober\\Desktop\\Monkey-Emotions\\video\\gandalf_231205\\gandalf_231205_95_e3v831b.mp4\n",
      "Duration of video [s]:  14.85 , recorded with  120.0 fps!\n",
      "Overall # of frames:  1782  found with (before cropping) frame dimensions:  640 480\n",
      "Starting to extract posture\n"
     ]
    },
    {
     "name": "stderr",
     "output_type": "stream",
     "text": [
      "100%|██████████| 1782/1782 [05:47<00:00,  5.13it/s]\n"
     ]
    },
    {
     "name": "stdout",
     "output_type": "stream",
     "text": [
      "Saving results in c:\\Users\\rober\\Desktop\\Monkey-Emotions\\video\\gandalf_231205...\n",
      "Saving csv poses!\n",
      "Starting to analyze %  c:\\Users\\rober\\Desktop\\Monkey-Emotions\\video\\gandalf_231205\\gandalf_231205_96_e3v831b.mp4\n",
      "Loading  c:\\Users\\rober\\Desktop\\Monkey-Emotions\\video\\gandalf_231205\\gandalf_231205_96_e3v831b.mp4\n",
      "Duration of video [s]:  15.21 , recorded with  120.0 fps!\n",
      "Overall # of frames:  1825  found with (before cropping) frame dimensions:  640 480\n",
      "Starting to extract posture\n"
     ]
    },
    {
     "name": "stderr",
     "output_type": "stream",
     "text": [
      "100%|██████████| 1825/1825 [05:56<00:00,  5.12it/s]\n"
     ]
    },
    {
     "name": "stdout",
     "output_type": "stream",
     "text": [
      "Saving results in c:\\Users\\rober\\Desktop\\Monkey-Emotions\\video\\gandalf_231205...\n",
      "Saving csv poses!\n",
      "Starting to analyze %  c:\\Users\\rober\\Desktop\\Monkey-Emotions\\video\\gandalf_231205\\gandalf_231205_97_e3v831b.mp4\n",
      "Loading  c:\\Users\\rober\\Desktop\\Monkey-Emotions\\video\\gandalf_231205\\gandalf_231205_97_e3v831b.mp4\n",
      "Duration of video [s]:  17.49 , recorded with  120.0 fps!\n",
      "Overall # of frames:  2099  found with (before cropping) frame dimensions:  640 480\n",
      "Starting to extract posture\n"
     ]
    },
    {
     "name": "stderr",
     "output_type": "stream",
     "text": [
      "100%|██████████| 2099/2099 [06:50<00:00,  5.11it/s]\n"
     ]
    },
    {
     "name": "stdout",
     "output_type": "stream",
     "text": [
      "Saving results in c:\\Users\\rober\\Desktop\\Monkey-Emotions\\video\\gandalf_231205...\n",
      "Saving csv poses!\n",
      "Starting to analyze %  c:\\Users\\rober\\Desktop\\Monkey-Emotions\\video\\gandalf_231205\\gandalf_231205_98_e3v831b.mp4\n",
      "Loading  c:\\Users\\rober\\Desktop\\Monkey-Emotions\\video\\gandalf_231205\\gandalf_231205_98_e3v831b.mp4\n",
      "Duration of video [s]:  15.53 , recorded with  120.0 fps!\n",
      "Overall # of frames:  1864  found with (before cropping) frame dimensions:  640 480\n",
      "Starting to extract posture\n"
     ]
    },
    {
     "name": "stderr",
     "output_type": "stream",
     "text": [
      "100%|██████████| 1864/1864 [06:02<00:00,  5.15it/s]\n"
     ]
    },
    {
     "name": "stdout",
     "output_type": "stream",
     "text": [
      "Saving results in c:\\Users\\rober\\Desktop\\Monkey-Emotions\\video\\gandalf_231205...\n",
      "Saving csv poses!\n",
      "Starting to analyze %  c:\\Users\\rober\\Desktop\\Monkey-Emotions\\video\\gandalf_231205\\gandalf_231205_99_e3v831b.mp4\n",
      "Loading  c:\\Users\\rober\\Desktop\\Monkey-Emotions\\video\\gandalf_231205\\gandalf_231205_99_e3v831b.mp4\n",
      "Duration of video [s]:  16.98 , recorded with  120.0 fps!\n",
      "Overall # of frames:  2037  found with (before cropping) frame dimensions:  640 480\n",
      "Starting to extract posture\n"
     ]
    },
    {
     "name": "stderr",
     "output_type": "stream",
     "text": [
      "100%|██████████| 2037/2037 [06:36<00:00,  5.14it/s]\n"
     ]
    },
    {
     "name": "stdout",
     "output_type": "stream",
     "text": [
      "Saving results in c:\\Users\\rober\\Desktop\\Monkey-Emotions\\video\\gandalf_231205...\n",
      "Saving csv poses!\n",
      "Starting to analyze %  c:\\Users\\rober\\Desktop\\Monkey-Emotions\\video\\gandalf_231205\\gandalf_231205_100_e3v831b.mp4\n",
      "Loading  c:\\Users\\rober\\Desktop\\Monkey-Emotions\\video\\gandalf_231205\\gandalf_231205_100_e3v831b.mp4\n",
      "Duration of video [s]:  10.97 , recorded with  120.0 fps!\n",
      "Overall # of frames:  1316  found with (before cropping) frame dimensions:  640 480\n",
      "Starting to extract posture\n"
     ]
    },
    {
     "name": "stderr",
     "output_type": "stream",
     "text": [
      "100%|██████████| 1316/1316 [04:17<00:00,  5.10it/s]\n"
     ]
    },
    {
     "name": "stdout",
     "output_type": "stream",
     "text": [
      "Saving results in c:\\Users\\rober\\Desktop\\Monkey-Emotions\\video\\gandalf_231205...\n",
      "Saving csv poses!\n",
      "Starting to analyze %  c:\\Users\\rober\\Desktop\\Monkey-Emotions\\video\\gandalf_231205\\gandalf_231205_101_e3v831b.mp4\n",
      "Loading  c:\\Users\\rober\\Desktop\\Monkey-Emotions\\video\\gandalf_231205\\gandalf_231205_101_e3v831b.mp4\n",
      "Duration of video [s]:  18.77 , recorded with  120.0 fps!\n",
      "Overall # of frames:  2253  found with (before cropping) frame dimensions:  640 480\n",
      "Starting to extract posture\n"
     ]
    },
    {
     "name": "stderr",
     "output_type": "stream",
     "text": [
      "100%|██████████| 2253/2253 [07:24<00:00,  5.06it/s]\n"
     ]
    },
    {
     "name": "stdout",
     "output_type": "stream",
     "text": [
      "Saving results in c:\\Users\\rober\\Desktop\\Monkey-Emotions\\video\\gandalf_231205...\n",
      "Saving csv poses!\n",
      "Starting to analyze %  c:\\Users\\rober\\Desktop\\Monkey-Emotions\\video\\gandalf_231205\\gandalf_231205_102_e3v831b.mp4\n",
      "Loading  c:\\Users\\rober\\Desktop\\Monkey-Emotions\\video\\gandalf_231205\\gandalf_231205_102_e3v831b.mp4\n",
      "Duration of video [s]:  13.08 , recorded with  120.0 fps!\n",
      "Overall # of frames:  1570  found with (before cropping) frame dimensions:  640 480\n",
      "Starting to extract posture\n"
     ]
    },
    {
     "name": "stderr",
     "output_type": "stream",
     "text": [
      "100%|██████████| 1570/1570 [05:06<00:00,  5.12it/s]\n"
     ]
    },
    {
     "name": "stdout",
     "output_type": "stream",
     "text": [
      "Saving results in c:\\Users\\rober\\Desktop\\Monkey-Emotions\\video\\gandalf_231205...\n",
      "Saving csv poses!\n",
      "Starting to analyze %  c:\\Users\\rober\\Desktop\\Monkey-Emotions\\video\\gandalf_231205\\gandalf_231205_103_e3v831b.mp4\n",
      "Loading  c:\\Users\\rober\\Desktop\\Monkey-Emotions\\video\\gandalf_231205\\gandalf_231205_103_e3v831b.mp4\n",
      "Duration of video [s]:  13.87 , recorded with  120.0 fps!\n",
      "Overall # of frames:  1664  found with (before cropping) frame dimensions:  640 480\n",
      "Starting to extract posture\n"
     ]
    },
    {
     "name": "stderr",
     "output_type": "stream",
     "text": [
      "100%|██████████| 1664/1664 [05:23<00:00,  5.14it/s]\n"
     ]
    },
    {
     "name": "stdout",
     "output_type": "stream",
     "text": [
      "Saving results in c:\\Users\\rober\\Desktop\\Monkey-Emotions\\video\\gandalf_231205...\n",
      "Saving csv poses!\n",
      "Starting to analyze %  c:\\Users\\rober\\Desktop\\Monkey-Emotions\\video\\gandalf_231205\\gandalf_231205_104_e3v831b.mp4\n",
      "Loading  c:\\Users\\rober\\Desktop\\Monkey-Emotions\\video\\gandalf_231205\\gandalf_231205_104_e3v831b.mp4\n",
      "Duration of video [s]:  16.52 , recorded with  120.0 fps!\n",
      "Overall # of frames:  1983  found with (before cropping) frame dimensions:  640 480\n",
      "Starting to extract posture\n"
     ]
    },
    {
     "name": "stderr",
     "output_type": "stream",
     "text": [
      "100%|██████████| 1983/1983 [06:26<00:00,  5.13it/s]\n"
     ]
    },
    {
     "name": "stdout",
     "output_type": "stream",
     "text": [
      "Saving results in c:\\Users\\rober\\Desktop\\Monkey-Emotions\\video\\gandalf_231205...\n",
      "Saving csv poses!\n",
      "Starting to analyze %  c:\\Users\\rober\\Desktop\\Monkey-Emotions\\video\\gandalf_231205\\gandalf_231205_105_e3v831b.mp4\n",
      "Loading  c:\\Users\\rober\\Desktop\\Monkey-Emotions\\video\\gandalf_231205\\gandalf_231205_105_e3v831b.mp4\n",
      "Duration of video [s]:  20.24 , recorded with  120.0 fps!\n",
      "Overall # of frames:  2429  found with (before cropping) frame dimensions:  640 480\n",
      "Starting to extract posture\n"
     ]
    },
    {
     "name": "stderr",
     "output_type": "stream",
     "text": [
      "100%|██████████| 2429/2429 [07:53<00:00,  5.12it/s]\n"
     ]
    },
    {
     "name": "stdout",
     "output_type": "stream",
     "text": [
      "Saving results in c:\\Users\\rober\\Desktop\\Monkey-Emotions\\video\\gandalf_231205...\n",
      "Saving csv poses!\n",
      "Starting to analyze %  c:\\Users\\rober\\Desktop\\Monkey-Emotions\\video\\gandalf_231205\\gandalf_231205_106_e3v831b.mp4\n",
      "Loading  c:\\Users\\rober\\Desktop\\Monkey-Emotions\\video\\gandalf_231205\\gandalf_231205_106_e3v831b.mp4\n",
      "Duration of video [s]:  17.76 , recorded with  120.0 fps!\n",
      "Overall # of frames:  2131  found with (before cropping) frame dimensions:  640 480\n",
      "Starting to extract posture\n"
     ]
    },
    {
     "name": "stderr",
     "output_type": "stream",
     "text": [
      "100%|██████████| 2131/2131 [06:55<00:00,  5.13it/s]\n"
     ]
    },
    {
     "name": "stdout",
     "output_type": "stream",
     "text": [
      "Saving results in c:\\Users\\rober\\Desktop\\Monkey-Emotions\\video\\gandalf_231205...\n",
      "Saving csv poses!\n",
      "Starting to analyze %  c:\\Users\\rober\\Desktop\\Monkey-Emotions\\video\\gandalf_231205\\gandalf_231205_107_e3v831b.mp4\n",
      "Loading  c:\\Users\\rober\\Desktop\\Monkey-Emotions\\video\\gandalf_231205\\gandalf_231205_107_e3v831b.mp4\n",
      "Duration of video [s]:  12.0 , recorded with  120.0 fps!\n",
      "Overall # of frames:  1440  found with (before cropping) frame dimensions:  640 480\n",
      "Starting to extract posture\n"
     ]
    },
    {
     "name": "stderr",
     "output_type": "stream",
     "text": [
      "100%|██████████| 1440/1440 [04:41<00:00,  5.11it/s]\n"
     ]
    },
    {
     "name": "stdout",
     "output_type": "stream",
     "text": [
      "Saving results in c:\\Users\\rober\\Desktop\\Monkey-Emotions\\video\\gandalf_231205...\n",
      "Saving csv poses!\n",
      "Starting to analyze %  c:\\Users\\rober\\Desktop\\Monkey-Emotions\\video\\gandalf_231205\\gandalf_231205_108_e3v831b.mp4\n",
      "Loading  c:\\Users\\rober\\Desktop\\Monkey-Emotions\\video\\gandalf_231205\\gandalf_231205_108_e3v831b.mp4\n",
      "Duration of video [s]:  16.04 , recorded with  120.0 fps!\n",
      "Overall # of frames:  1925  found with (before cropping) frame dimensions:  640 480\n",
      "Starting to extract posture\n"
     ]
    },
    {
     "name": "stderr",
     "output_type": "stream",
     "text": [
      "100%|██████████| 1925/1925 [06:15<00:00,  5.13it/s]\n"
     ]
    },
    {
     "name": "stdout",
     "output_type": "stream",
     "text": [
      "Saving results in c:\\Users\\rober\\Desktop\\Monkey-Emotions\\video\\gandalf_231205...\n",
      "Saving csv poses!\n",
      "Starting to analyze %  c:\\Users\\rober\\Desktop\\Monkey-Emotions\\video\\gandalf_231205\\gandalf_231205_109_e3v831b.mp4\n",
      "Loading  c:\\Users\\rober\\Desktop\\Monkey-Emotions\\video\\gandalf_231205\\gandalf_231205_109_e3v831b.mp4\n",
      "Duration of video [s]:  15.6 , recorded with  120.0 fps!\n",
      "Overall # of frames:  1872  found with (before cropping) frame dimensions:  640 480\n",
      "Starting to extract posture\n"
     ]
    },
    {
     "name": "stderr",
     "output_type": "stream",
     "text": [
      "100%|██████████| 1872/1872 [06:03<00:00,  5.15it/s]\n"
     ]
    },
    {
     "name": "stdout",
     "output_type": "stream",
     "text": [
      "Saving results in c:\\Users\\rober\\Desktop\\Monkey-Emotions\\video\\gandalf_231205...\n",
      "Saving csv poses!\n",
      "Starting to analyze %  c:\\Users\\rober\\Desktop\\Monkey-Emotions\\video\\gandalf_231205\\gandalf_231205_110_e3v831b.mp4\n",
      "Loading  c:\\Users\\rober\\Desktop\\Monkey-Emotions\\video\\gandalf_231205\\gandalf_231205_110_e3v831b.mp4\n",
      "Duration of video [s]:  21.24 , recorded with  120.0 fps!\n",
      "Overall # of frames:  2549  found with (before cropping) frame dimensions:  640 480\n",
      "Starting to extract posture\n"
     ]
    },
    {
     "name": "stderr",
     "output_type": "stream",
     "text": [
      "100%|██████████| 2549/2549 [08:17<00:00,  5.12it/s]\n"
     ]
    },
    {
     "name": "stdout",
     "output_type": "stream",
     "text": [
      "Saving results in c:\\Users\\rober\\Desktop\\Monkey-Emotions\\video\\gandalf_231205...\n",
      "Saving csv poses!\n",
      "Starting to analyze %  c:\\Users\\rober\\Desktop\\Monkey-Emotions\\video\\gandalf_231205\\gandalf_231205_111_e3v831b.mp4\n",
      "Loading  c:\\Users\\rober\\Desktop\\Monkey-Emotions\\video\\gandalf_231205\\gandalf_231205_111_e3v831b.mp4\n",
      "Duration of video [s]:  51.55 , recorded with  120.0 fps!\n",
      "Overall # of frames:  6186  found with (before cropping) frame dimensions:  640 480\n",
      "Starting to extract posture\n"
     ]
    },
    {
     "name": "stderr",
     "output_type": "stream",
     "text": [
      "100%|██████████| 6186/6186 [20:06<00:00,  5.13it/s]\n"
     ]
    },
    {
     "name": "stdout",
     "output_type": "stream",
     "text": [
      "Saving results in c:\\Users\\rober\\Desktop\\Monkey-Emotions\\video\\gandalf_231205...\n",
      "Saving csv poses!\n",
      "Starting to analyze %  c:\\Users\\rober\\Desktop\\Monkey-Emotions\\video\\gandalf_231205\\gandalf_231205_112_e3v831b.mp4\n",
      "Loading  c:\\Users\\rober\\Desktop\\Monkey-Emotions\\video\\gandalf_231205\\gandalf_231205_112_e3v831b.mp4\n",
      "Duration of video [s]:  18.05 , recorded with  120.0 fps!\n",
      "Overall # of frames:  2166  found with (before cropping) frame dimensions:  640 480\n",
      "Starting to extract posture\n"
     ]
    },
    {
     "name": "stderr",
     "output_type": "stream",
     "text": [
      "100%|██████████| 2166/2166 [07:02<00:00,  5.13it/s]\n"
     ]
    },
    {
     "name": "stdout",
     "output_type": "stream",
     "text": [
      "Saving results in c:\\Users\\rober\\Desktop\\Monkey-Emotions\\video\\gandalf_231205...\n",
      "Saving csv poses!\n",
      "Starting to analyze %  c:\\Users\\rober\\Desktop\\Monkey-Emotions\\video\\gandalf_231205\\gandalf_231205_113_e3v831b.mp4\n",
      "Loading  c:\\Users\\rober\\Desktop\\Monkey-Emotions\\video\\gandalf_231205\\gandalf_231205_113_e3v831b.mp4\n",
      "Duration of video [s]:  15.09 , recorded with  120.0 fps!\n",
      "Overall # of frames:  1811  found with (before cropping) frame dimensions:  640 480\n",
      "Starting to extract posture\n"
     ]
    },
    {
     "name": "stderr",
     "output_type": "stream",
     "text": [
      "100%|██████████| 1811/1811 [05:50<00:00,  5.16it/s]\n"
     ]
    },
    {
     "name": "stdout",
     "output_type": "stream",
     "text": [
      "Saving results in c:\\Users\\rober\\Desktop\\Monkey-Emotions\\video\\gandalf_231205...\n",
      "Saving csv poses!\n",
      "Starting to analyze %  c:\\Users\\rober\\Desktop\\Monkey-Emotions\\video\\gandalf_231205\\gandalf_231205_114_e3v831b.mp4\n",
      "Loading  c:\\Users\\rober\\Desktop\\Monkey-Emotions\\video\\gandalf_231205\\gandalf_231205_114_e3v831b.mp4\n",
      "Duration of video [s]:  51.2 , recorded with  120.0 fps!\n",
      "Overall # of frames:  6144  found with (before cropping) frame dimensions:  640 480\n",
      "Starting to extract posture\n"
     ]
    },
    {
     "name": "stderr",
     "output_type": "stream",
     "text": [
      " 88%|████████▊ | 5384/6144 [17:25<02:34,  4.91it/s]"
     ]
    }
   ],
   "source": [
    "# Run DLC\n",
    "dlc_config.dlc_run(config_path_dict, dlc_video_path_dict, \n",
    "                   start_video=0, end_video=None, videotype='mp4')"
   ]
  },
  {
   "cell_type": "markdown",
   "metadata": {},
   "source": [
    "***\n",
    "## Generate MonkeyLogic Behavior Trial Videos"
   ]
  },
  {
   "cell_type": "code",
   "execution_count": 56,
   "metadata": {},
   "outputs": [
    {
     "name": "stdout",
     "output_type": "stream",
     "text": [
      "Generating video for trial 1\n",
      "Generating frames for trial 1 from 0 to 12264\n"
     ]
    },
    {
     "data": {
      "application/vnd.jupyter.widget-view+json": {
       "model_id": "b197b46cdc284a5487713d2099d547a6",
       "version_major": 2,
       "version_minor": 0
      },
      "text/plain": [
       "Trial 1 frame:   0%|          | 0/12264 [00:00<?, ?it/s]"
      ]
     },
     "metadata": {},
     "output_type": "display_data"
    },
    {
     "name": "stdout",
     "output_type": "stream",
     "text": [
      "Deleting existing video: /Users/rahimhashim/Desktop/Monkey-Emotions/video/gandalf_231004/eye_0000.mp4\n",
      "Saving video to: /Users/rahimhashim/Desktop/Monkey-Emotions/video/gandalf_231004/eye_0000.mp4\n"
     ]
    },
    {
     "data": {
      "application/vnd.jupyter.widget-view+json": {
       "model_id": "1026cac629bf47bdbf18a4aa63052e8c",
       "version_major": 2,
       "version_minor": 0
      },
      "text/plain": [
       "Trial 0 eye:   0%|          | 0/12264 [00:00<?, ?it/s]"
      ]
     },
     "metadata": {},
     "output_type": "display_data"
    },
    {
     "name": "stdout",
     "output_type": "stream",
     "text": [
      "Deleting existing video: /Users/rahimhashim/Desktop/Monkey-Emotions/video/gandalf_231004/lick_0000.mp4\n",
      "Saving video to: /Users/rahimhashim/Desktop/Monkey-Emotions/video/gandalf_231004/lick_0000.mp4\n"
     ]
    },
    {
     "data": {
      "application/vnd.jupyter.widget-view+json": {
       "model_id": "f172ec46909c42e9af08331e42876687",
       "version_major": 2,
       "version_minor": 0
      },
      "text/plain": [
       "Trial 0 lick:   0%|          | 0/12264 [00:00<?, ?it/s]"
      ]
     },
     "metadata": {},
     "output_type": "display_data"
    },
    {
     "name": "stdout",
     "output_type": "stream",
     "text": [
      "Deleting image folder: /Users/rahimhashim/Desktop/Monkey-Emotions/video/gandalf_231004/trial_0\n"
     ]
    },
    {
     "ename": "TypeError",
     "evalue": "'recursive' is an invalid keyword argument for rmdir()",
     "output_type": "error",
     "traceback": [
      "\u001b[0;31m---------------------------------------------------------------------------\u001b[0m",
      "\u001b[0;31mTypeError\u001b[0m                                 Traceback (most recent call last)",
      "\u001b[1;32m/Users/rahimhashim/Desktop/Monkey-Emotions/data_preprocessing.ipynb Cell 21\u001b[0m line \u001b[0;36m3\n\u001b[1;32m      <a href='vscode-notebook-cell:/Users/rahimhashim/Desktop/Monkey-Emotions/data_preprocessing.ipynb#X25sZmlsZQ%3D%3D?line=0'>1</a>\u001b[0m \u001b[39mfrom\u001b[39;00m \u001b[39mvideo\u001b[39;00m\u001b[39m.\u001b[39;00m\u001b[39mml_videos\u001b[39;00m \u001b[39mimport\u001b[39;00m generate_ml_behavior_videos\n\u001b[1;32m      <a href='vscode-notebook-cell:/Users/rahimhashim/Desktop/Monkey-Emotions/data_preprocessing.ipynb#X25sZmlsZQ%3D%3D?line=1'>2</a>\u001b[0m trial_num_selected \u001b[39m=\u001b[39m \u001b[39m1\u001b[39m\n\u001b[0;32m----> <a href='vscode-notebook-cell:/Users/rahimhashim/Desktop/Monkey-Emotions/data_preprocessing.ipynb#X25sZmlsZQ%3D%3D?line=2'>3</a>\u001b[0m generate_ml_behavior_videos(session_obj\u001b[39m.\u001b[39;49mdf, session_obj, trial_num_selected, epoch_start, epoch_end)\n",
      "File \u001b[0;32m~/Desktop/Monkey-Emotions/video/ml_videos.py:95\u001b[0m, in \u001b[0;36mgenerate_ml_behavior_videos\u001b[0;34m(session_df, session_obj, trial_num, epoch_start, epoch_end)\u001b[0m\n\u001b[1;32m     93\u001b[0m \u001b[39m# delete image folder\u001b[39;00m\n\u001b[1;32m     94\u001b[0m \u001b[39mprint\u001b[39m(\u001b[39m'\u001b[39m\u001b[39mDeleting image folder: \u001b[39m\u001b[39m{}\u001b[39;00m\u001b[39m'\u001b[39m\u001b[39m.\u001b[39mformat(source_folder_path))\n\u001b[0;32m---> 95\u001b[0m os\u001b[39m.\u001b[39mrmdir(source_folder_path, recursive\u001b[39m=\u001b[39m\u001b[39mTrue\u001b[39;00m)\n",
      "\u001b[0;31mTypeError\u001b[0m: 'recursive' is an invalid keyword argument for rmdir()"
     ]
    }
   ],
   "source": [
    "from video.ml_videos import generate_ml_behavior_videos\n",
    "trial_num_selected = 1\n",
    "generate_ml_behavior_videos(session_obj.df, session_obj, trial_num_selected, epoch_start, epoch_end)"
   ]
  },
  {
   "cell_type": "code",
   "execution_count": null,
   "metadata": {},
   "outputs": [],
   "source": []
  }
 ],
 "metadata": {
  "kernelspec": {
   "display_name": "facial-recognition",
   "language": "python",
   "name": "python3"
  },
  "language_info": {
   "codemirror_mode": {
    "name": "ipython",
    "version": 3
   },
   "file_extension": ".py",
   "mimetype": "text/x-python",
   "name": "python",
   "nbconvert_exporter": "python",
   "pygments_lexer": "ipython3",
   "version": "3.9.16"
  },
  "orig_nbformat": 4
 },
 "nbformat": 4,
 "nbformat_minor": 2
}
