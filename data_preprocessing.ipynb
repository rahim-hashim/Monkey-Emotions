{
 "cells": [
  {
   "cell_type": "markdown",
   "metadata": {},
   "source": [
    "# Data Preprocessing\n",
    "#### Run this script to proprocess all the data that will be coming in from one, many, or all of the following sources:\n",
    "1. **MonkeyLogic:** (.bhv2 | .h5) behavior data *[500 or 1000Hz]*\n",
    "  > * Photodiode data\n",
    "  > * White Matter Camera Sync analog data (if applicable)\n",
    "  > * White Matter Camera Save analog data (if applicable)\n",
    "2. **SpikeGLX:** (.meta & .bin) duplicates of analog data *[20000-30000Hz]*\n",
    "  > * Photodiode data (split from ML)\n",
    "  > * White Matter Camera Sync analog data (if applicable)\n",
    "  > * White Matter Camera Save analog data (if applicable)\n",
    "3. **WhiteMatter:** (.mp4 | .avi) video files *[60-120 fps]*\n",
    "***"
   ]
  },
  {
   "cell_type": "markdown",
   "metadata": {},
   "source": [
    "## Find Files\n",
    "`FileContainer` will hold the relevant files listed above. <br>\n",
    "* Specify `ROOT_DIR` to set the directory when prompted to select the files.\n",
    "* `WARNING` printed if dates and monkeys not aligned across files"
   ]
  },
  {
   "cell_type": "code",
   "execution_count": 1,
   "metadata": {},
   "outputs": [
    {
     "name": "stdout",
     "output_type": "stream",
     "text": [
      "Session folder not found.\n",
      "  Select .h5 behavior file (i.e. None_None_choice.h5)\n",
      "  Select directory containing White Matter video files (i.e. None_None)\n",
      "  Select directory containing SpikeGLX files (i.e. None_None_g0)\n",
      "Behavior file selected: C:/Users/rober/SynologyDrive/Rahim/aragorn_20240110/240110_Aragorn_generalization.h5\n",
      "  MonkeyLogic Date: 240110\n",
      "  MonkeyLogic Monkey: aragorn\n",
      "Video files directory selected: C:/Users/rober/Desktop/rhAirpuff/videos/240110_Aragorn\n",
      "  White Matter Video Date: 240110\n",
      "  White Matter Video Monkey: aragorn\n",
      "SpikeGLX files directory selected: C:/Users/rober/SynologyDrive/Rahim/aragorn_20240110/aragorn_20240110_g1\n",
      "  SpikeGLX Date: 240110\n",
      "  SpikeGLX Monkey: aragorn\n",
      "\n"
     ]
    }
   ],
   "source": [
    "%load_ext autoreload\n",
    "%autoreload 2\n",
    "import re\n",
    "import os\n",
    "import sys\n",
    "import cv2\n",
    "import math\n",
    "import numpy as np\n",
    "import pandas as pd\n",
    "from PIL import Image\n",
    "from pathlib import Path\n",
    "from pprint import pprint\n",
    "from tqdm.auto import tqdm\n",
    "import matplotlib.pyplot as plt\n",
    "from collections import defaultdict\n",
    "# Custom classes\n",
    "from classes.FileContainer import FileContainer\n",
    "from classes.SpikeGLX import SpikeGLX\n",
    "# Custom functions\n",
    "from spike_glx import read_SGLX\n",
    "\n",
    "# pandas options\n",
    "pd.options.mode.chained_assignment = None  # default='warn'\n",
    "pd.set_option('display.max_columns', None)\n",
    "\n",
    "ROOT_DIR = 'C:/Users/rober/Desktop/rhAirpuff/videos'\n",
    "VIDEO_DIR = 'C:/Users/rober/Desktop/rhAirpuff/videos/231212_Gandalf'\n",
    "file_container_obj = FileContainer(ROOT_DIR, VIDEO_DIR)"
   ]
  },
  {
   "cell_type": "markdown",
   "metadata": {},
   "source": [
    "***\n",
    "## Convert MonkeyLogic File to Pandas\n",
    "In order to run the behavior files through the preprocessing pipeline, we'll need to convert the MonkeyLogic file (either `.bhv2` or `.h5`) into a Session object which contains the following relevant attributes:\n",
    "> * `session_obj.df`: pandas DataFrame with columns:\n",
    ">   * `'photodiode'`: photodiode signal\n",
    ">   * `'Gen2'`: WM sync signal\n",
    ">   * `'Gen3'`: WM save signal\n",
    "> * `'session_obj.video_path'`: directory of WM videos\n",
    "> * `session_obj.monkey`: monkey name\n",
    "> * `session_obj.date`: date of session (<YYMMDD>)"
   ]
  },
  {
   "cell_type": "code",
   "execution_count": 2,
   "metadata": {},
   "outputs": [
    {
     "name": "stdout",
     "output_type": "stream",
     "text": [
      "Parsing .h5 file...\n",
      "Total number of trials: 587\n",
      "  Choice task detected.\n",
      "Parsing session data...\n"
     ]
    },
    {
     "data": {
      "application/vnd.jupyter.widget-view+json": {
       "model_id": "f7c5ec6040254f09868d4785e1e18573",
       "version_major": 2,
       "version_minor": 0
      },
      "text/plain": [
       "  0%|          | 0/587 [00:00<?, ?it/s]"
      ]
     },
     "metadata": {},
     "output_type": "display_data"
    },
    {
     "name": "stdout",
     "output_type": "stream",
     "text": [
      "  Complete.\n",
      "    Correct trials: 395\n",
      "    Errored trials: 192\n",
      "    Session Length:  02:09:54\n",
      "Creating Session Objects...\n",
      "Lick threshold: 2.24 mV\n",
      "  Min Values (X,Y): (-124.7,-69.867)\n",
      "  Max Values (X,Y): (106.223,123.136)\n",
      "  Reward Mag: 1.0\n",
      "    Reward Drops: 12.0\n",
      "    Reward Frequency: 1.0\n",
      "    Reward Length: 220.0\n",
      "  Reward Mag: 0.5\n",
      "    Reward Drops: 4.0\n",
      "    Reward Frequency: 1.0\n",
      "    Reward Length: 200.0\n",
      "  Reward Mag: 0.0\n",
      "    Reward Drops: 0.0\n",
      "    Reward Frequency: 0.0\n",
      "    Reward Length: 0.0\n",
      "  Airpuff Mag: 1.0\n",
      "    Airpuff Magnitude: 1.0\n",
      "    Airpuff Frequency: 1.0\n",
      "  Airpuff Mag: 0.5\n",
      "    Airpuff Magnitude: 0.5\n",
      "    Airpuff Frequency: 1.0\n",
      "  Airpuff Mag: 0.0\n",
      "    Airpuff Magnitude: 0.0\n",
      "    Airpuff Frequency: 0.0\n",
      "Adding additional fields to session_df DataFrame...\n"
     ]
    },
    {
     "name": "stderr",
     "output_type": "stream",
     "text": [
      "c:\\Users\\rober\\Desktop\\Monkey-Emotions\\config\\add_fields.py:335: RuntimeWarning: Mean of empty slice\n",
      "  lick_avg = np.nanmean(lick_in_window)\n"
     ]
    },
    {
     "name": "stdout",
     "output_type": "stream",
     "text": [
      "  ['cam_frames'] field added.\n",
      "  20 new fields added.\n",
      "\t0 rows removed due to nan valence.\n"
     ]
    }
   ],
   "source": [
    "session_obj, error_dict, behavioral_code_dict = file_container_obj.ml_to_pd()"
   ]
  },
  {
   "cell_type": "code",
   "execution_count": 3,
   "metadata": {},
   "outputs": [],
   "source": [
    "from config.add_fields import add_fields\n",
    "# save is lick\n",
    "# lick is photodiode\n",
    "# photodiode is save\n",
    "if session_obj.monkey == 'gandalf':\n",
    "  session_obj.df['cam_save_2'] = session_obj.df['cam_save'].copy()\n",
    "  session_obj.df['cam_sync_2'] = session_obj.df['cam_sync'].copy()\n",
    "  session_obj.df['cam_sync'] = session_obj.df['lick'].copy() # correct\n",
    "  session_obj.df['cam_save'] = session_obj.df['cam_sync_2'].copy()\n",
    "  session_obj.df['lick'] = session_obj.df['cam_save_2'].copy()\n",
    "  del session_obj.df['cam_sync_2']\n",
    "  del session_obj.df['cam_save_2']\n",
    "\n",
    "  session_obj.df, session_obj = \\\n",
    "  add_fields(session_obj.df, session_obj, behavioral_code_dict)"
   ]
  },
  {
   "cell_type": "code",
   "execution_count": 4,
   "metadata": {},
   "outputs": [
    {
     "data": {
      "text/html": [
       "<div>\n",
       "<style scoped>\n",
       "    .dataframe tbody tr th:only-of-type {\n",
       "        vertical-align: middle;\n",
       "    }\n",
       "\n",
       "    .dataframe tbody tr th {\n",
       "        vertical-align: top;\n",
       "    }\n",
       "\n",
       "    .dataframe thead th {\n",
       "        text-align: right;\n",
       "    }\n",
       "</style>\n",
       "<table border=\"1\" class=\"dataframe\">\n",
       "  <thead>\n",
       "    <tr style=\"text-align: right;\">\n",
       "      <th></th>\n",
       "      <th>date</th>\n",
       "      <th>session_num</th>\n",
       "      <th>subject</th>\n",
       "      <th>trial_num</th>\n",
       "      <th>block</th>\n",
       "      <th>condition</th>\n",
       "      <th>correct</th>\n",
       "      <th>error</th>\n",
       "      <th>error_type</th>\n",
       "      <th>behavioral_code_markers</th>\n",
       "      <th>behavioral_code_times</th>\n",
       "      <th>stimuli_name_0</th>\n",
       "      <th>x_0_pos</th>\n",
       "      <th>y_0_pos</th>\n",
       "      <th>stimuli_name_1</th>\n",
       "      <th>x_1_pos</th>\n",
       "      <th>y_1_pos</th>\n",
       "      <th>stimuli_name_2</th>\n",
       "      <th>x_2_pos</th>\n",
       "      <th>y_2_pos</th>\n",
       "      <th>reward_1</th>\n",
       "      <th>reward_prob_1</th>\n",
       "      <th>reward_mag_1</th>\n",
       "      <th>reward_drops_1</th>\n",
       "      <th>reward_length_1</th>\n",
       "      <th>reward_2</th>\n",
       "      <th>reward_prob_2</th>\n",
       "      <th>reward_mag_2</th>\n",
       "      <th>airpuff_1</th>\n",
       "      <th>airpuff_prob_1</th>\n",
       "      <th>airpuff_mag_1</th>\n",
       "      <th>airpuff_2</th>\n",
       "      <th>airpuff_prob_2</th>\n",
       "      <th>airpuff_mag_2</th>\n",
       "      <th>eye_x</th>\n",
       "      <th>eye_y</th>\n",
       "      <th>eye_pupil</th>\n",
       "      <th>lick</th>\n",
       "      <th>cam_sync</th>\n",
       "      <th>cam_save</th>\n",
       "      <th>photodiode</th>\n",
       "      <th>trial_start</th>\n",
       "      <th>trial_end</th>\n",
       "      <th>trial_datetime_start</th>\n",
       "      <th>trial_datetime_end</th>\n",
       "      <th>reinforcement_trial</th>\n",
       "      <th>choice_trial</th>\n",
       "      <th>stim_chosen</th>\n",
       "      <th>stim_2_chosen</th>\n",
       "      <th>fractal_chosen</th>\n",
       "      <th>reward</th>\n",
       "      <th>reward_mag</th>\n",
       "      <th>airpuff</th>\n",
       "      <th>airpuff_mag</th>\n",
       "      <th>Start Trial</th>\n",
       "      <th>Fixation On</th>\n",
       "      <th>Fixation Success</th>\n",
       "      <th>CS On</th>\n",
       "      <th>Fixation Off</th>\n",
       "      <th>Trace Start</th>\n",
       "      <th>Trace End</th>\n",
       "      <th>Outcome Start</th>\n",
       "      <th>Reward Trigger</th>\n",
       "      <th>Airpuff Trigger</th>\n",
       "      <th>Outcome</th>\n",
       "      <th>Outcome End</th>\n",
       "      <th>Manual Reward</th>\n",
       "      <th>End Trial</th>\n",
       "      <th>valence</th>\n",
       "      <th>valence_1</th>\n",
       "      <th>valence_2</th>\n",
       "      <th>valence_not_chosen</th>\n",
       "      <th>lick_raster</th>\n",
       "      <th>DEM_raster</th>\n",
       "      <th>trial_bins</th>\n",
       "      <th>trial_in_block</th>\n",
       "      <th>lick_count_window</th>\n",
       "      <th>blink_count_window</th>\n",
       "      <th>pupil_data_window</th>\n",
       "      <th>pupil_raster</th>\n",
       "      <th>pupil_raster_window</th>\n",
       "      <th>pupil_raster_window_avg</th>\n",
       "      <th>pupil_binary_zero</th>\n",
       "      <th>blink_onset</th>\n",
       "      <th>blink_offset</th>\n",
       "      <th>blink_raster</th>\n",
       "      <th>blink_raster_window</th>\n",
       "      <th>blink_duration_window</th>\n",
       "      <th>pupil_pre_CS</th>\n",
       "      <th>lick_in_window</th>\n",
       "      <th>blink_in_window</th>\n",
       "      <th>lick_duration</th>\n",
       "      <th>blink_duration_sig</th>\n",
       "      <th>blink_duration_offscreen</th>\n",
       "      <th>eye_distance</th>\n",
       "      <th>cam_frames</th>\n",
       "      <th>fractal_count_in_block</th>\n",
       "    </tr>\n",
       "  </thead>\n",
       "  <tbody>\n",
       "    <tr>\n",
       "      <th>0</th>\n",
       "      <td>240110</td>\n",
       "      <td>0</td>\n",
       "      <td>aragorn</td>\n",
       "      <td>1</td>\n",
       "      <td>1</td>\n",
       "      <td>1</td>\n",
       "      <td>0</td>\n",
       "      <td>1</td>\n",
       "      <td>1</td>\n",
       "      <td>[9, 100, 101, 113, 113, 113, 113, 113, 113, 11...</td>\n",
       "      <td>[2.810800011502579, 2662.726800015662, 2738.25...</td>\n",
       "      <td>_fix</td>\n",
       "      <td>[0.0]</td>\n",
       "      <td>[0.0]</td>\n",
       "      <td>_fractal_D</td>\n",
       "      <td>[0.0]</td>\n",
       "      <td>[0.0]</td>\n",
       "      <td>_fractal_D</td>\n",
       "      <td>[0.0]</td>\n",
       "      <td>[0.0]</td>\n",
       "      <td>0</td>\n",
       "      <td>0.0</td>\n",
       "      <td>0.0</td>\n",
       "      <td>0.0</td>\n",
       "      <td>0.0</td>\n",
       "      <td>0</td>\n",
       "      <td>0.0</td>\n",
       "      <td>0.0</td>\n",
       "      <td>1</td>\n",
       "      <td>1.0</td>\n",
       "      <td>1.0</td>\n",
       "      <td>0</td>\n",
       "      <td>0.0</td>\n",
       "      <td>0.0</td>\n",
       "      <td>[106.22334748653218, 106.22334748653218, 106.2...</td>\n",
       "      <td>[123.13581380654256, 123.13581380654256, 123.1...</td>\n",
       "      <td>[0.0, 0.0, 0.0, 0.0, 0.0, 0.0, 0.0, 0.0, 0.0, ...</td>\n",
       "      <td>[0.1575138613377742, 0.17658583855084684, 0.19...</td>\n",
       "      <td>[-0.0003231997561155553, 3.465516712118176, 3....</td>\n",
       "      <td>[-0.012160979980345016, 0.15291028060078937, 0...</td>\n",
       "      <td>[0.5511199776942904, 0.7461144677822599, 0.703...</td>\n",
       "      <td>0.0000</td>\n",
       "      <td>54302.0000</td>\n",
       "      <td>2024-01-10 14:43:28.505</td>\n",
       "      <td>2024-01-10 14:44:22.807</td>\n",
       "      <td>1</td>\n",
       "      <td>0</td>\n",
       "      <td>4</td>\n",
       "      <td>0</td>\n",
       "      <td>_error</td>\n",
       "      <td>0</td>\n",
       "      <td>0.0</td>\n",
       "      <td>0</td>\n",
       "      <td>0.0</td>\n",
       "      <td>2662</td>\n",
       "      <td>2738</td>\n",
       "      <td>&lt;NA&gt;</td>\n",
       "      <td>&lt;NA&gt;</td>\n",
       "      <td>&lt;NA&gt;</td>\n",
       "      <td>&lt;NA&gt;</td>\n",
       "      <td>&lt;NA&gt;</td>\n",
       "      <td>&lt;NA&gt;</td>\n",
       "      <td>&lt;NA&gt;</td>\n",
       "      <td>&lt;NA&gt;</td>\n",
       "      <td>&lt;NA&gt;</td>\n",
       "      <td>&lt;NA&gt;</td>\n",
       "      <td>&lt;NA&gt;</td>\n",
       "      <td>13211</td>\n",
       "      <td>0.0</td>\n",
       "      <td>-1.0</td>\n",
       "      <td>0.0</td>\n",
       "      <td>-1.0</td>\n",
       "      <td>[0, 0, 0, 0, 0, 0, 0, 0, 0, 0, 0, 0, 0, 0, 0, ...</td>\n",
       "      <td>[1, 1, 1, 1, 1, 1, 1, 1, 1, 1, 1, 1, 1, 1, 1, ...</td>\n",
       "      <td>54300</td>\n",
       "      <td>0</td>\n",
       "      <td>NaN</td>\n",
       "      <td>NaN</td>\n",
       "      <td>NaN</td>\n",
       "      <td>[1, 1, 1, 1, 1, 1, 1, 1, 1, 1, 1, 1, 1, 1, 1, ...</td>\n",
       "      <td>NaN</td>\n",
       "      <td>NaN</td>\n",
       "      <td>NaN</td>\n",
       "      <td>[nan]</td>\n",
       "      <td>[nan]</td>\n",
       "      <td>[nan]</td>\n",
       "      <td>[nan]</td>\n",
       "      <td>NaN</td>\n",
       "      <td>NaN</td>\n",
       "      <td>NaN</td>\n",
       "      <td>NaN</td>\n",
       "      <td>NaN</td>\n",
       "      <td>NaN</td>\n",
       "      <td>NaN</td>\n",
       "      <td>NaN</td>\n",
       "      <td>[1342, 1351, 1359, 1367, 1376, 1384, 1392, 140...</td>\n",
       "      <td>0</td>\n",
       "    </tr>\n",
       "    <tr>\n",
       "      <th>1</th>\n",
       "      <td>240110</td>\n",
       "      <td>0</td>\n",
       "      <td>aragorn</td>\n",
       "      <td>2</td>\n",
       "      <td>1</td>\n",
       "      <td>1</td>\n",
       "      <td>0</td>\n",
       "      <td>1</td>\n",
       "      <td>3</td>\n",
       "      <td>[9, 100, 101, 102, 103, 113, 18]</td>\n",
       "      <td>[1497.8883999865502, 1609.5365999790374, 1659....</td>\n",
       "      <td>_fix</td>\n",
       "      <td>[0.0]</td>\n",
       "      <td>[0.0]</td>\n",
       "      <td>_fractal_C</td>\n",
       "      <td>[0.0]</td>\n",
       "      <td>[0.0]</td>\n",
       "      <td>_fractal_C</td>\n",
       "      <td>[0.0]</td>\n",
       "      <td>[0.0]</td>\n",
       "      <td>0</td>\n",
       "      <td>0.0</td>\n",
       "      <td>0.0</td>\n",
       "      <td>0.0</td>\n",
       "      <td>0.0</td>\n",
       "      <td>0</td>\n",
       "      <td>0.0</td>\n",
       "      <td>0.0</td>\n",
       "      <td>1</td>\n",
       "      <td>1.0</td>\n",
       "      <td>0.5</td>\n",
       "      <td>0</td>\n",
       "      <td>0.0</td>\n",
       "      <td>0.0</td>\n",
       "      <td>[106.22334748653218, 106.22334748653218, 106.2...</td>\n",
       "      <td>[123.13581380654256, 123.13581380654256, 123.1...</td>\n",
       "      <td>[0.0, 0.0, 0.0, 0.0, 0.0, 0.0, 0.0, 0.0, 0.0, ...</td>\n",
       "      <td>[2.362957779853485, 2.351119994849379, 2.35276...</td>\n",
       "      <td>[3.268220019528618, 3.2721659527228524, 3.3159...</td>\n",
       "      <td>[3.2090310247209435, 3.3037334192211993, 3.288...</td>\n",
       "      <td>[0.39887300786741176, 0.5511199776942904, 0.55...</td>\n",
       "      <td>54300.5588</td>\n",
       "      <td>82056.5588</td>\n",
       "      <td>2024-01-10 14:44:22.806</td>\n",
       "      <td>2024-01-10 14:44:50.562</td>\n",
       "      <td>1</td>\n",
       "      <td>0</td>\n",
       "      <td>3</td>\n",
       "      <td>0</td>\n",
       "      <td>_error</td>\n",
       "      <td>0</td>\n",
       "      <td>0.0</td>\n",
       "      <td>0</td>\n",
       "      <td>0.0</td>\n",
       "      <td>1609</td>\n",
       "      <td>1659</td>\n",
       "      <td>25881</td>\n",
       "      <td>25912</td>\n",
       "      <td>&lt;NA&gt;</td>\n",
       "      <td>&lt;NA&gt;</td>\n",
       "      <td>&lt;NA&gt;</td>\n",
       "      <td>&lt;NA&gt;</td>\n",
       "      <td>&lt;NA&gt;</td>\n",
       "      <td>&lt;NA&gt;</td>\n",
       "      <td>&lt;NA&gt;</td>\n",
       "      <td>&lt;NA&gt;</td>\n",
       "      <td>&lt;NA&gt;</td>\n",
       "      <td>27705</td>\n",
       "      <td>0.0</td>\n",
       "      <td>-0.5</td>\n",
       "      <td>0.0</td>\n",
       "      <td>-0.5</td>\n",
       "      <td>[1, 1, 1, 1, 1, 1, 1, 1, 1, 1, 1, 1, 1, 1, 1, ...</td>\n",
       "      <td>[1, 1, 1, 1, 1, 1, 1, 1, 1, 1, 1, 1, 1, 1, 1, ...</td>\n",
       "      <td>27754</td>\n",
       "      <td>1</td>\n",
       "      <td>NaN</td>\n",
       "      <td>NaN</td>\n",
       "      <td>NaN</td>\n",
       "      <td>[1, 1, 1, 1, 1, 1, 1, 1, 1, 1, 1, 1, 1, 1, 1, ...</td>\n",
       "      <td>NaN</td>\n",
       "      <td>NaN</td>\n",
       "      <td>NaN</td>\n",
       "      <td>[nan]</td>\n",
       "      <td>[nan]</td>\n",
       "      <td>[nan]</td>\n",
       "      <td>[nan]</td>\n",
       "      <td>NaN</td>\n",
       "      <td>[6198.0, 6198.0, 6187.0, 6187.0, 6191.0, 6191....</td>\n",
       "      <td>NaN</td>\n",
       "      <td>NaN</td>\n",
       "      <td>NaN</td>\n",
       "      <td>NaN</td>\n",
       "      <td>NaN</td>\n",
       "      <td>NaN</td>\n",
       "      <td>[7, 15, 24, 32, 40, 49, 57, 65, 74, 82, 90, 99...</td>\n",
       "      <td>0</td>\n",
       "    </tr>\n",
       "    <tr>\n",
       "      <th>2</th>\n",
       "      <td>240110</td>\n",
       "      <td>0</td>\n",
       "      <td>aragorn</td>\n",
       "      <td>3</td>\n",
       "      <td>1</td>\n",
       "      <td>1</td>\n",
       "      <td>1</td>\n",
       "      <td>0</td>\n",
       "      <td>0</td>\n",
       "      <td>[9, 100, 101, 102, 103, 104, 105, 106, 107, 10...</td>\n",
       "      <td>[1465.0460999982897, 1567.8781000024173, 1601....</td>\n",
       "      <td>_fix</td>\n",
       "      <td>[0.0]</td>\n",
       "      <td>[0.0]</td>\n",
       "      <td>_fractal_B</td>\n",
       "      <td>[0.0]</td>\n",
       "      <td>[0.0]</td>\n",
       "      <td>_fractal_B</td>\n",
       "      <td>[0.0]</td>\n",
       "      <td>[0.0]</td>\n",
       "      <td>1</td>\n",
       "      <td>1.0</td>\n",
       "      <td>0.5</td>\n",
       "      <td>4.0</td>\n",
       "      <td>200.0</td>\n",
       "      <td>0</td>\n",
       "      <td>0.0</td>\n",
       "      <td>0.0</td>\n",
       "      <td>0</td>\n",
       "      <td>0.0</td>\n",
       "      <td>0.0</td>\n",
       "      <td>0</td>\n",
       "      <td>0.0</td>\n",
       "      <td>0.0</td>\n",
       "      <td>[106.22334748653218, 106.22334748653218, 106.2...</td>\n",
       "      <td>[123.13581380654256, 123.13581380654256, 123.1...</td>\n",
       "      <td>[0.0, 0.0, 0.0, 0.0, 0.0, 0.0, 0.0, 0.0, 0.0, ...</td>\n",
       "      <td>[2.870338548835441, 2.8578431014889185, 2.8759...</td>\n",
       "      <td>[-0.042741912672144805, 3.261643464262846, 3.3...</td>\n",
       "      <td>[3.2432291099024684, 3.267562363998783, 3.3316...</td>\n",
       "      <td>[1.9933558875380712, 2.0795086311965223, 2.014...</td>\n",
       "      <td>82055.1519</td>\n",
       "      <td>88686.1519</td>\n",
       "      <td>2024-01-10 14:44:50.560</td>\n",
       "      <td>2024-01-10 14:44:57.191</td>\n",
       "      <td>1</td>\n",
       "      <td>0</td>\n",
       "      <td>2</td>\n",
       "      <td>0</td>\n",
       "      <td>_fractal_B</td>\n",
       "      <td>1</td>\n",
       "      <td>0.5</td>\n",
       "      <td>0</td>\n",
       "      <td>0.0</td>\n",
       "      <td>1567</td>\n",
       "      <td>1601</td>\n",
       "      <td>2337</td>\n",
       "      <td>2352</td>\n",
       "      <td>2685</td>\n",
       "      <td>3069</td>\n",
       "      <td>4556</td>\n",
       "      <td>4559</td>\n",
       "      <td>4576</td>\n",
       "      <td>&lt;NA&gt;</td>\n",
       "      <td>4589</td>\n",
       "      <td>6580</td>\n",
       "      <td>&lt;NA&gt;</td>\n",
       "      <td>6614</td>\n",
       "      <td>0.5</td>\n",
       "      <td>0.5</td>\n",
       "      <td>0.0</td>\n",
       "      <td>0.0</td>\n",
       "      <td>[1, 1, 1, 1, 1, 1, 1, 1, 1, 1, 1, 1, 1, 1, 1, ...</td>\n",
       "      <td>[1, 1, 1, 1, 1, 1, 1, 1, 1, 1, 1, 1, 1, 1, 1, ...</td>\n",
       "      <td>6632</td>\n",
       "      <td>2</td>\n",
       "      <td>[1, 1, 1, 1, 1, 1, 1, 1, 1, 1, 1, 1, 1, 1, 1, ...</td>\n",
       "      <td>[0, 0, 0, 0, 0, 0, 0, 0, 0, 0, 0, 0, 0, 0, 0, ...</td>\n",
       "      <td>[5529.0, 5529.0, 5529.0, 5529.0, 5529.0, 5529....</td>\n",
       "      <td>[1, 1, 1, 1, 1, 1, 1, 1, 1, 1, 1, 1, 1, 1, 1, ...</td>\n",
       "      <td>[0, 0, 0, 0, 0, 0, 0, 0, 0, 0, 0, 0, 0, 0, 0, ...</td>\n",
       "      <td>0.632308</td>\n",
       "      <td>1.0</td>\n",
       "      <td>[1, 3701]</td>\n",
       "      <td>[1887, 5387]</td>\n",
       "      <td>[0.0, 1.0, 1.0, 1.0, 1.0, 1.0, 1.0, 1.0, 1.0, ...</td>\n",
       "      <td>[0.0, 0.0, 0.0, 0.0, 0.0, 0.0, 0.0, 0.0, 0.0, ...</td>\n",
       "      <td>0.657692</td>\n",
       "      <td>[6874.0, 6874.0, 6874.0, 6874.0, 6866.0, 6866....</td>\n",
       "      <td>1.0</td>\n",
       "      <td>1.0</td>\n",
       "      <td>1.0</td>\n",
       "      <td>0.632308</td>\n",
       "      <td>0.718462</td>\n",
       "      <td>31.800115</td>\n",
       "      <td>[1, 9, 18, 26, 34, 43, 51, 59, 68, 76, 84, 93,...</td>\n",
       "      <td>1</td>\n",
       "    </tr>\n",
       "    <tr>\n",
       "      <th>3</th>\n",
       "      <td>240110</td>\n",
       "      <td>0</td>\n",
       "      <td>aragorn</td>\n",
       "      <td>4</td>\n",
       "      <td>1</td>\n",
       "      <td>1</td>\n",
       "      <td>1</td>\n",
       "      <td>0</td>\n",
       "      <td>0</td>\n",
       "      <td>[9, 100, 101, 102, 103, 104, 105, 106, 107, 10...</td>\n",
       "      <td>[1499.4044000050053, 1610.8038000238594, 1643....</td>\n",
       "      <td>_fix</td>\n",
       "      <td>[0.0]</td>\n",
       "      <td>[0.0]</td>\n",
       "      <td>_fractal_C</td>\n",
       "      <td>[0.0]</td>\n",
       "      <td>[0.0]</td>\n",
       "      <td>_fractal_C</td>\n",
       "      <td>[0.0]</td>\n",
       "      <td>[0.0]</td>\n",
       "      <td>0</td>\n",
       "      <td>0.0</td>\n",
       "      <td>0.0</td>\n",
       "      <td>0.0</td>\n",
       "      <td>0.0</td>\n",
       "      <td>0</td>\n",
       "      <td>0.0</td>\n",
       "      <td>0.0</td>\n",
       "      <td>1</td>\n",
       "      <td>1.0</td>\n",
       "      <td>0.5</td>\n",
       "      <td>0</td>\n",
       "      <td>0.0</td>\n",
       "      <td>0.0</td>\n",
       "      <td>[-6.841316050819423, -6.841316050819423, -6.84...</td>\n",
       "      <td>[-4.686822580819128, -4.686822580819128, -4.68...</td>\n",
       "      <td>[6154.0, 6154.0, 6157.0, 6157.0, 6157.0, 6157....</td>\n",
       "      <td>[2.875599789888271, 2.8825051688286543, 2.8617...</td>\n",
       "      <td>[0.002965072511568939, 0.016775815956786677, -...</td>\n",
       "      <td>[3.320503636486465, 3.325107225623812, 3.26427...</td>\n",
       "      <td>[2.2195890596698096, 2.0867428313165988, 2.072...</td>\n",
       "      <td>88686.2315</td>\n",
       "      <td>94371.2315</td>\n",
       "      <td>2024-01-10 14:44:57.191</td>\n",
       "      <td>2024-01-10 14:45:02.876</td>\n",
       "      <td>1</td>\n",
       "      <td>0</td>\n",
       "      <td>3</td>\n",
       "      <td>0</td>\n",
       "      <td>_fractal_C</td>\n",
       "      <td>0</td>\n",
       "      <td>0.0</td>\n",
       "      <td>1</td>\n",
       "      <td>0.5</td>\n",
       "      <td>1610</td>\n",
       "      <td>1643</td>\n",
       "      <td>2399</td>\n",
       "      <td>2411</td>\n",
       "      <td>2745</td>\n",
       "      <td>3129</td>\n",
       "      <td>4616</td>\n",
       "      <td>4630</td>\n",
       "      <td>&lt;NA&gt;</td>\n",
       "      <td>4648</td>\n",
       "      <td>&lt;NA&gt;</td>\n",
       "      <td>5635</td>\n",
       "      <td>&lt;NA&gt;</td>\n",
       "      <td>5668</td>\n",
       "      <td>-0.5</td>\n",
       "      <td>-0.5</td>\n",
       "      <td>0.0</td>\n",
       "      <td>0.0</td>\n",
       "      <td>[1, 1, 1, 1, 1, 1, 1, 1, 1, 1, 1, 1, 1, 1, 1, ...</td>\n",
       "      <td>[0, 0, 0, 0, 0, 0, 0, 0, 0, 0, 0, 0, 0, 0, 0, ...</td>\n",
       "      <td>5685</td>\n",
       "      <td>3</td>\n",
       "      <td>[1, 1, 1, 1, 1, 1, 1, 1, 1, 1, 1, 1, 1, 1, 1, ...</td>\n",
       "      <td>[0, 0, 0, 0, 0, 0, 0, 0, 0, 0, 0, 0, 0, 0, 0, ...</td>\n",
       "      <td>[6628.0, 6628.0, 6628.0, 6628.0, 6628.0, 6628....</td>\n",
       "      <td>[0, 0, 0, 0, 0, 0, 0, 0, 0, 0, 0, 0, 0, 0, 0, ...</td>\n",
       "      <td>[0, 0, 0, 0, 0, 0, 0, 0, 0, 0, 0, 0, 0, 0, 0, ...</td>\n",
       "      <td>0.000000</td>\n",
       "      <td>0.0</td>\n",
       "      <td>[4854]</td>\n",
       "      <td>[5685]</td>\n",
       "      <td>[0.0, 0.0, 0.0, 0.0, 0.0, 0.0, 0.0, 0.0, 0.0, ...</td>\n",
       "      <td>[0.0, 0.0, 0.0, 0.0, 0.0, 0.0, 0.0, 0.0, 0.0, ...</td>\n",
       "      <td>0.000000</td>\n",
       "      <td>[6037.0, 6025.0, 6025.0, 6025.0, 6027.0, 6027....</td>\n",
       "      <td>1.0</td>\n",
       "      <td>1.0</td>\n",
       "      <td>1.0</td>\n",
       "      <td>0.000000</td>\n",
       "      <td>0.255385</td>\n",
       "      <td>53.551691</td>\n",
       "      <td>[3, 12, 20, 28, 37, 45, 53, 62, 70, 78, 87, 95...</td>\n",
       "      <td>1</td>\n",
       "    </tr>\n",
       "    <tr>\n",
       "      <th>4</th>\n",
       "      <td>240110</td>\n",
       "      <td>0</td>\n",
       "      <td>aragorn</td>\n",
       "      <td>5</td>\n",
       "      <td>1</td>\n",
       "      <td>1</td>\n",
       "      <td>1</td>\n",
       "      <td>0</td>\n",
       "      <td>0</td>\n",
       "      <td>[9, 100, 101, 102, 103, 104, 105, 106, 107, 10...</td>\n",
       "      <td>[1500.538799999049, 1611.1202999891248, 1644.1...</td>\n",
       "      <td>_fix</td>\n",
       "      <td>[0.0]</td>\n",
       "      <td>[0.0]</td>\n",
       "      <td>_fractal_A</td>\n",
       "      <td>[0.0]</td>\n",
       "      <td>[0.0]</td>\n",
       "      <td>_fractal_A</td>\n",
       "      <td>[0.0]</td>\n",
       "      <td>[0.0]</td>\n",
       "      <td>1</td>\n",
       "      <td>1.0</td>\n",
       "      <td>1.0</td>\n",
       "      <td>12.0</td>\n",
       "      <td>220.0</td>\n",
       "      <td>0</td>\n",
       "      <td>0.0</td>\n",
       "      <td>0.0</td>\n",
       "      <td>0</td>\n",
       "      <td>0.0</td>\n",
       "      <td>0.0</td>\n",
       "      <td>0</td>\n",
       "      <td>0.0</td>\n",
       "      <td>0.0</td>\n",
       "      <td>[106.22334748653218, 106.22334748653218, 106.2...</td>\n",
       "      <td>[123.13581380654256, 123.13581380654256, 123.1...</td>\n",
       "      <td>[0.0, 0.0, 0.0, 0.0, 0.0, 0.0, 0.0, 0.0, 0.0, ...</td>\n",
       "      <td>[2.853239515678817, 2.8594872392853268, 2.8591...</td>\n",
       "      <td>[-0.06970574634447183, 0.005924517546271019, 3...</td>\n",
       "      <td>[3.2708506416552057, 3.2586840144168363, 3.299...</td>\n",
       "      <td>[2.0837833858077217, 1.9341669829733121, 2.154...</td>\n",
       "      <td>94371.5518</td>\n",
       "      <td>101994.5518</td>\n",
       "      <td>2024-01-10 14:45:02.877</td>\n",
       "      <td>2024-01-10 14:45:10.500</td>\n",
       "      <td>1</td>\n",
       "      <td>0</td>\n",
       "      <td>1</td>\n",
       "      <td>0</td>\n",
       "      <td>_fractal_A</td>\n",
       "      <td>1</td>\n",
       "      <td>1.0</td>\n",
       "      <td>0</td>\n",
       "      <td>0.0</td>\n",
       "      <td>1611</td>\n",
       "      <td>1644</td>\n",
       "      <td>2346</td>\n",
       "      <td>2361</td>\n",
       "      <td>2695</td>\n",
       "      <td>3079</td>\n",
       "      <td>4566</td>\n",
       "      <td>4569</td>\n",
       "      <td>4578</td>\n",
       "      <td>&lt;NA&gt;</td>\n",
       "      <td>4581</td>\n",
       "      <td>7570</td>\n",
       "      <td>&lt;NA&gt;</td>\n",
       "      <td>7604</td>\n",
       "      <td>1.0</td>\n",
       "      <td>1.0</td>\n",
       "      <td>0.0</td>\n",
       "      <td>0.0</td>\n",
       "      <td>[1, 1, 1, 1, 1, 1, 1, 1, 1, 1, 1, 1, 1, 1, 1, ...</td>\n",
       "      <td>[1, 1, 1, 1, 1, 1, 1, 1, 1, 1, 1, 1, 1, 1, 1, ...</td>\n",
       "      <td>7623</td>\n",
       "      <td>4</td>\n",
       "      <td>[1, 1, 1, 1, 1, 1, 1, 1, 1, 1, 1, 1, 1, 1, 1, ...</td>\n",
       "      <td>[0, 0, 0, 0, 0, 0, 0, 0, 0, 0, 0, 0, 0, 0, 0, ...</td>\n",
       "      <td>[5874.0, 5874.0, 5874.0, 5874.0, 5874.0, 5874....</td>\n",
       "      <td>[1, 1, 1, 1, 1, 1, 1, 1, 1, 1, 1, 1, 1, 1, 1, ...</td>\n",
       "      <td>[0, 0, 0, 0, 0, 0, 0, 0, 0, 0, 0, 0, 0, 0, 0, ...</td>\n",
       "      <td>0.087692</td>\n",
       "      <td>1.0</td>\n",
       "      <td>[1, 1315, 3629, 4805]</td>\n",
       "      <td>[882, 1527, 3865, 5962]</td>\n",
       "      <td>[0.0, 1.0, 1.0, 1.0, 1.0, 1.0, 1.0, 1.0, 1.0, ...</td>\n",
       "      <td>[0.0, 0.0, 0.0, 0.0, 0.0, 0.0, 0.0, 0.0, 0.0, ...</td>\n",
       "      <td>0.181538</td>\n",
       "      <td>[6179.0, 6172.0, 6172.0, 6164.0, 6164.0, 6165....</td>\n",
       "      <td>1.0</td>\n",
       "      <td>1.0</td>\n",
       "      <td>1.0</td>\n",
       "      <td>0.087692</td>\n",
       "      <td>0.503077</td>\n",
       "      <td>94.597761</td>\n",
       "      <td>[2, 10, 18, 27, 35, 43, 52, 60, 68, 77, 85, 93...</td>\n",
       "      <td>1</td>\n",
       "    </tr>\n",
       "  </tbody>\n",
       "</table>\n",
       "</div>"
      ],
      "text/plain": [
       "     date  session_num  subject  trial_num  block  condition  correct  error  \\\n",
       "0  240110            0  aragorn          1      1          1        0      1   \n",
       "1  240110            0  aragorn          2      1          1        0      1   \n",
       "2  240110            0  aragorn          3      1          1        1      0   \n",
       "3  240110            0  aragorn          4      1          1        1      0   \n",
       "4  240110            0  aragorn          5      1          1        1      0   \n",
       "\n",
       "   error_type                            behavioral_code_markers  \\\n",
       "0           1  [9, 100, 101, 113, 113, 113, 113, 113, 113, 11...   \n",
       "1           3                   [9, 100, 101, 102, 103, 113, 18]   \n",
       "2           0  [9, 100, 101, 102, 103, 104, 105, 106, 107, 10...   \n",
       "3           0  [9, 100, 101, 102, 103, 104, 105, 106, 107, 10...   \n",
       "4           0  [9, 100, 101, 102, 103, 104, 105, 106, 107, 10...   \n",
       "\n",
       "                               behavioral_code_times stimuli_name_0 x_0_pos  \\\n",
       "0  [2.810800011502579, 2662.726800015662, 2738.25...           _fix   [0.0]   \n",
       "1  [1497.8883999865502, 1609.5365999790374, 1659....           _fix   [0.0]   \n",
       "2  [1465.0460999982897, 1567.8781000024173, 1601....           _fix   [0.0]   \n",
       "3  [1499.4044000050053, 1610.8038000238594, 1643....           _fix   [0.0]   \n",
       "4  [1500.538799999049, 1611.1202999891248, 1644.1...           _fix   [0.0]   \n",
       "\n",
       "  y_0_pos stimuli_name_1 x_1_pos y_1_pos stimuli_name_2 x_2_pos y_2_pos  \\\n",
       "0   [0.0]     _fractal_D   [0.0]   [0.0]     _fractal_D   [0.0]   [0.0]   \n",
       "1   [0.0]     _fractal_C   [0.0]   [0.0]     _fractal_C   [0.0]   [0.0]   \n",
       "2   [0.0]     _fractal_B   [0.0]   [0.0]     _fractal_B   [0.0]   [0.0]   \n",
       "3   [0.0]     _fractal_C   [0.0]   [0.0]     _fractal_C   [0.0]   [0.0]   \n",
       "4   [0.0]     _fractal_A   [0.0]   [0.0]     _fractal_A   [0.0]   [0.0]   \n",
       "\n",
       "   reward_1  reward_prob_1  reward_mag_1  reward_drops_1  reward_length_1  \\\n",
       "0         0            0.0           0.0             0.0              0.0   \n",
       "1         0            0.0           0.0             0.0              0.0   \n",
       "2         1            1.0           0.5             4.0            200.0   \n",
       "3         0            0.0           0.0             0.0              0.0   \n",
       "4         1            1.0           1.0            12.0            220.0   \n",
       "\n",
       "   reward_2  reward_prob_2  reward_mag_2  airpuff_1  airpuff_prob_1  \\\n",
       "0         0            0.0           0.0          1             1.0   \n",
       "1         0            0.0           0.0          1             1.0   \n",
       "2         0            0.0           0.0          0             0.0   \n",
       "3         0            0.0           0.0          1             1.0   \n",
       "4         0            0.0           0.0          0             0.0   \n",
       "\n",
       "   airpuff_mag_1  airpuff_2  airpuff_prob_2  airpuff_mag_2  \\\n",
       "0            1.0          0             0.0            0.0   \n",
       "1            0.5          0             0.0            0.0   \n",
       "2            0.0          0             0.0            0.0   \n",
       "3            0.5          0             0.0            0.0   \n",
       "4            0.0          0             0.0            0.0   \n",
       "\n",
       "                                               eye_x  \\\n",
       "0  [106.22334748653218, 106.22334748653218, 106.2...   \n",
       "1  [106.22334748653218, 106.22334748653218, 106.2...   \n",
       "2  [106.22334748653218, 106.22334748653218, 106.2...   \n",
       "3  [-6.841316050819423, -6.841316050819423, -6.84...   \n",
       "4  [106.22334748653218, 106.22334748653218, 106.2...   \n",
       "\n",
       "                                               eye_y  \\\n",
       "0  [123.13581380654256, 123.13581380654256, 123.1...   \n",
       "1  [123.13581380654256, 123.13581380654256, 123.1...   \n",
       "2  [123.13581380654256, 123.13581380654256, 123.1...   \n",
       "3  [-4.686822580819128, -4.686822580819128, -4.68...   \n",
       "4  [123.13581380654256, 123.13581380654256, 123.1...   \n",
       "\n",
       "                                           eye_pupil  \\\n",
       "0  [0.0, 0.0, 0.0, 0.0, 0.0, 0.0, 0.0, 0.0, 0.0, ...   \n",
       "1  [0.0, 0.0, 0.0, 0.0, 0.0, 0.0, 0.0, 0.0, 0.0, ...   \n",
       "2  [0.0, 0.0, 0.0, 0.0, 0.0, 0.0, 0.0, 0.0, 0.0, ...   \n",
       "3  [6154.0, 6154.0, 6157.0, 6157.0, 6157.0, 6157....   \n",
       "4  [0.0, 0.0, 0.0, 0.0, 0.0, 0.0, 0.0, 0.0, 0.0, ...   \n",
       "\n",
       "                                                lick  \\\n",
       "0  [0.1575138613377742, 0.17658583855084684, 0.19...   \n",
       "1  [2.362957779853485, 2.351119994849379, 2.35276...   \n",
       "2  [2.870338548835441, 2.8578431014889185, 2.8759...   \n",
       "3  [2.875599789888271, 2.8825051688286543, 2.8617...   \n",
       "4  [2.853239515678817, 2.8594872392853268, 2.8591...   \n",
       "\n",
       "                                            cam_sync  \\\n",
       "0  [-0.0003231997561155553, 3.465516712118176, 3....   \n",
       "1  [3.268220019528618, 3.2721659527228524, 3.3159...   \n",
       "2  [-0.042741912672144805, 3.261643464262846, 3.3...   \n",
       "3  [0.002965072511568939, 0.016775815956786677, -...   \n",
       "4  [-0.06970574634447183, 0.005924517546271019, 3...   \n",
       "\n",
       "                                            cam_save  \\\n",
       "0  [-0.012160979980345016, 0.15291028060078937, 0...   \n",
       "1  [3.2090310247209435, 3.3037334192211993, 3.288...   \n",
       "2  [3.2432291099024684, 3.267562363998783, 3.3316...   \n",
       "3  [3.320503636486465, 3.325107225623812, 3.26427...   \n",
       "4  [3.2708506416552057, 3.2586840144168363, 3.299...   \n",
       "\n",
       "                                          photodiode  trial_start  \\\n",
       "0  [0.5511199776942904, 0.7461144677822599, 0.703...       0.0000   \n",
       "1  [0.39887300786741176, 0.5511199776942904, 0.55...   54300.5588   \n",
       "2  [1.9933558875380712, 2.0795086311965223, 2.014...   82055.1519   \n",
       "3  [2.2195890596698096, 2.0867428313165988, 2.072...   88686.2315   \n",
       "4  [2.0837833858077217, 1.9341669829733121, 2.154...   94371.5518   \n",
       "\n",
       "     trial_end    trial_datetime_start      trial_datetime_end  \\\n",
       "0   54302.0000 2024-01-10 14:43:28.505 2024-01-10 14:44:22.807   \n",
       "1   82056.5588 2024-01-10 14:44:22.806 2024-01-10 14:44:50.562   \n",
       "2   88686.1519 2024-01-10 14:44:50.560 2024-01-10 14:44:57.191   \n",
       "3   94371.2315 2024-01-10 14:44:57.191 2024-01-10 14:45:02.876   \n",
       "4  101994.5518 2024-01-10 14:45:02.877 2024-01-10 14:45:10.500   \n",
       "\n",
       "   reinforcement_trial  choice_trial  stim_chosen  stim_2_chosen  \\\n",
       "0                    1             0            4              0   \n",
       "1                    1             0            3              0   \n",
       "2                    1             0            2              0   \n",
       "3                    1             0            3              0   \n",
       "4                    1             0            1              0   \n",
       "\n",
       "  fractal_chosen  reward  reward_mag  airpuff  airpuff_mag  Start Trial  \\\n",
       "0         _error       0         0.0        0          0.0         2662   \n",
       "1         _error       0         0.0        0          0.0         1609   \n",
       "2     _fractal_B       1         0.5        0          0.0         1567   \n",
       "3     _fractal_C       0         0.0        1          0.5         1610   \n",
       "4     _fractal_A       1         1.0        0          0.0         1611   \n",
       "\n",
       "   Fixation On Fixation Success  CS On Fixation Off Trace Start Trace End  \\\n",
       "0         2738             <NA>   <NA>         <NA>        <NA>      <NA>   \n",
       "1         1659            25881  25912         <NA>        <NA>      <NA>   \n",
       "2         1601             2337   2352         2685        3069      4556   \n",
       "3         1643             2399   2411         2745        3129      4616   \n",
       "4         1644             2346   2361         2695        3079      4566   \n",
       "\n",
       "  Outcome Start Reward Trigger Airpuff Trigger Outcome Outcome End  \\\n",
       "0          <NA>           <NA>            <NA>    <NA>        <NA>   \n",
       "1          <NA>           <NA>            <NA>    <NA>        <NA>   \n",
       "2          4559           4576            <NA>    4589        6580   \n",
       "3          4630           <NA>            4648    <NA>        5635   \n",
       "4          4569           4578            <NA>    4581        7570   \n",
       "\n",
       "  Manual Reward  End Trial  valence  valence_1  valence_2  valence_not_chosen  \\\n",
       "0          <NA>      13211      0.0       -1.0        0.0                -1.0   \n",
       "1          <NA>      27705      0.0       -0.5        0.0                -0.5   \n",
       "2          <NA>       6614      0.5        0.5        0.0                 0.0   \n",
       "3          <NA>       5668     -0.5       -0.5        0.0                 0.0   \n",
       "4          <NA>       7604      1.0        1.0        0.0                 0.0   \n",
       "\n",
       "                                         lick_raster  \\\n",
       "0  [0, 0, 0, 0, 0, 0, 0, 0, 0, 0, 0, 0, 0, 0, 0, ...   \n",
       "1  [1, 1, 1, 1, 1, 1, 1, 1, 1, 1, 1, 1, 1, 1, 1, ...   \n",
       "2  [1, 1, 1, 1, 1, 1, 1, 1, 1, 1, 1, 1, 1, 1, 1, ...   \n",
       "3  [1, 1, 1, 1, 1, 1, 1, 1, 1, 1, 1, 1, 1, 1, 1, ...   \n",
       "4  [1, 1, 1, 1, 1, 1, 1, 1, 1, 1, 1, 1, 1, 1, 1, ...   \n",
       "\n",
       "                                          DEM_raster  trial_bins  \\\n",
       "0  [1, 1, 1, 1, 1, 1, 1, 1, 1, 1, 1, 1, 1, 1, 1, ...       54300   \n",
       "1  [1, 1, 1, 1, 1, 1, 1, 1, 1, 1, 1, 1, 1, 1, 1, ...       27754   \n",
       "2  [1, 1, 1, 1, 1, 1, 1, 1, 1, 1, 1, 1, 1, 1, 1, ...        6632   \n",
       "3  [0, 0, 0, 0, 0, 0, 0, 0, 0, 0, 0, 0, 0, 0, 0, ...        5685   \n",
       "4  [1, 1, 1, 1, 1, 1, 1, 1, 1, 1, 1, 1, 1, 1, 1, ...        7623   \n",
       "\n",
       "   trial_in_block                                  lick_count_window  \\\n",
       "0               0                                                NaN   \n",
       "1               1                                                NaN   \n",
       "2               2  [1, 1, 1, 1, 1, 1, 1, 1, 1, 1, 1, 1, 1, 1, 1, ...   \n",
       "3               3  [1, 1, 1, 1, 1, 1, 1, 1, 1, 1, 1, 1, 1, 1, 1, ...   \n",
       "4               4  [1, 1, 1, 1, 1, 1, 1, 1, 1, 1, 1, 1, 1, 1, 1, ...   \n",
       "\n",
       "                                  blink_count_window  \\\n",
       "0                                                NaN   \n",
       "1                                                NaN   \n",
       "2  [0, 0, 0, 0, 0, 0, 0, 0, 0, 0, 0, 0, 0, 0, 0, ...   \n",
       "3  [0, 0, 0, 0, 0, 0, 0, 0, 0, 0, 0, 0, 0, 0, 0, ...   \n",
       "4  [0, 0, 0, 0, 0, 0, 0, 0, 0, 0, 0, 0, 0, 0, 0, ...   \n",
       "\n",
       "                                   pupil_data_window  \\\n",
       "0                                                NaN   \n",
       "1                                                NaN   \n",
       "2  [5529.0, 5529.0, 5529.0, 5529.0, 5529.0, 5529....   \n",
       "3  [6628.0, 6628.0, 6628.0, 6628.0, 6628.0, 6628....   \n",
       "4  [5874.0, 5874.0, 5874.0, 5874.0, 5874.0, 5874....   \n",
       "\n",
       "                                        pupil_raster  \\\n",
       "0  [1, 1, 1, 1, 1, 1, 1, 1, 1, 1, 1, 1, 1, 1, 1, ...   \n",
       "1  [1, 1, 1, 1, 1, 1, 1, 1, 1, 1, 1, 1, 1, 1, 1, ...   \n",
       "2  [1, 1, 1, 1, 1, 1, 1, 1, 1, 1, 1, 1, 1, 1, 1, ...   \n",
       "3  [0, 0, 0, 0, 0, 0, 0, 0, 0, 0, 0, 0, 0, 0, 0, ...   \n",
       "4  [1, 1, 1, 1, 1, 1, 1, 1, 1, 1, 1, 1, 1, 1, 1, ...   \n",
       "\n",
       "                                 pupil_raster_window  pupil_raster_window_avg  \\\n",
       "0                                                NaN                      NaN   \n",
       "1                                                NaN                      NaN   \n",
       "2  [0, 0, 0, 0, 0, 0, 0, 0, 0, 0, 0, 0, 0, 0, 0, ...                 0.632308   \n",
       "3  [0, 0, 0, 0, 0, 0, 0, 0, 0, 0, 0, 0, 0, 0, 0, ...                 0.000000   \n",
       "4  [0, 0, 0, 0, 0, 0, 0, 0, 0, 0, 0, 0, 0, 0, 0, ...                 0.087692   \n",
       "\n",
       "   pupil_binary_zero            blink_onset             blink_offset  \\\n",
       "0                NaN                  [nan]                    [nan]   \n",
       "1                NaN                  [nan]                    [nan]   \n",
       "2                1.0              [1, 3701]             [1887, 5387]   \n",
       "3                0.0                 [4854]                   [5685]   \n",
       "4                1.0  [1, 1315, 3629, 4805]  [882, 1527, 3865, 5962]   \n",
       "\n",
       "                                        blink_raster  \\\n",
       "0                                              [nan]   \n",
       "1                                              [nan]   \n",
       "2  [0.0, 1.0, 1.0, 1.0, 1.0, 1.0, 1.0, 1.0, 1.0, ...   \n",
       "3  [0.0, 0.0, 0.0, 0.0, 0.0, 0.0, 0.0, 0.0, 0.0, ...   \n",
       "4  [0.0, 1.0, 1.0, 1.0, 1.0, 1.0, 1.0, 1.0, 1.0, ...   \n",
       "\n",
       "                                 blink_raster_window  blink_duration_window  \\\n",
       "0                                              [nan]                    NaN   \n",
       "1                                              [nan]                    NaN   \n",
       "2  [0.0, 0.0, 0.0, 0.0, 0.0, 0.0, 0.0, 0.0, 0.0, ...               0.657692   \n",
       "3  [0.0, 0.0, 0.0, 0.0, 0.0, 0.0, 0.0, 0.0, 0.0, ...               0.000000   \n",
       "4  [0.0, 0.0, 0.0, 0.0, 0.0, 0.0, 0.0, 0.0, 0.0, ...               0.181538   \n",
       "\n",
       "                                        pupil_pre_CS  lick_in_window  \\\n",
       "0                                                NaN             NaN   \n",
       "1  [6198.0, 6198.0, 6187.0, 6187.0, 6191.0, 6191....             NaN   \n",
       "2  [6874.0, 6874.0, 6874.0, 6874.0, 6866.0, 6866....             1.0   \n",
       "3  [6037.0, 6025.0, 6025.0, 6025.0, 6027.0, 6027....             1.0   \n",
       "4  [6179.0, 6172.0, 6172.0, 6164.0, 6164.0, 6165....             1.0   \n",
       "\n",
       "   blink_in_window  lick_duration  blink_duration_sig  \\\n",
       "0              NaN            NaN                 NaN   \n",
       "1              NaN            NaN                 NaN   \n",
       "2              1.0            1.0            0.632308   \n",
       "3              1.0            1.0            0.000000   \n",
       "4              1.0            1.0            0.087692   \n",
       "\n",
       "   blink_duration_offscreen  eye_distance  \\\n",
       "0                       NaN           NaN   \n",
       "1                       NaN           NaN   \n",
       "2                  0.718462     31.800115   \n",
       "3                  0.255385     53.551691   \n",
       "4                  0.503077     94.597761   \n",
       "\n",
       "                                          cam_frames  fractal_count_in_block  \n",
       "0  [1342, 1351, 1359, 1367, 1376, 1384, 1392, 140...                       0  \n",
       "1  [7, 15, 24, 32, 40, 49, 57, 65, 74, 82, 90, 99...                       0  \n",
       "2  [1, 9, 18, 26, 34, 43, 51, 59, 68, 76, 84, 93,...                       1  \n",
       "3  [3, 12, 20, 28, 37, 45, 53, 62, 70, 78, 87, 95...                       1  \n",
       "4  [2, 10, 18, 27, 35, 43, 52, 60, 68, 77, 85, 93...                       1  "
      ]
     },
     "execution_count": 4,
     "metadata": {},
     "output_type": "execute_result"
    }
   ],
   "source": [
    "session_obj.df.head()"
   ]
  },
  {
   "cell_type": "code",
   "execution_count": 6,
   "metadata": {},
   "outputs": [
    {
     "name": "stdout",
     "output_type": "stream",
     "text": [
      "Saving .pickle files to: /Users/rahimhashim/SynologyDrive/Rob/gandalf_20231223\n",
      "  Pickling 231223_gandalf_UnityVR_behave.pkl\n",
      "  Total time to pickle: 0.8221 sec\n"
     ]
    }
   ],
   "source": [
    "import pickle\n",
    "from config.h5_helper import pickler\n",
    "\n",
    "dest_path = \"/Users/rahimhashim/SynologyDrive/Rob/gandalf_20231223\"\n",
    "dest_path = file_container_obj.ml_file_path\n",
    "# dest_path = os.path.dirname(file_container_obj.ml_file_path)\n",
    "\n",
    "pickler(True, \n",
    "        save_path=dest_path, \n",
    "        session_df=session_obj.df, \n",
    "        monkey_input='gandalf',\n",
    "        experiment_name='UnityVR',\n",
    "        error_dict=error_dict, \n",
    "        behavioral_code_dict=behavioral_code_dict)"
   ]
  },
  {
   "cell_type": "markdown",
   "metadata": {},
   "source": [
    "*** \n",
    "## Process SpikeGLX\n",
    "\n",
    "Assign `signal_dict` channels manually based on how you set up the PXI board. `epochs` are the MonkeyLogic eventcodes within `session_obj.df` distinguishing epochs in the task that you will reference later to break up videos based on."
   ]
  },
  {
   "cell_type": "code",
   "execution_count": 5,
   "metadata": {},
   "outputs": [
    {
     "name": "stdout",
     "output_type": "stream",
     "text": [
      "Epochs:\n",
      "  Start Trial\n",
      "  Fixation On\n",
      "  CS On\n",
      "  Trace Start\n",
      "  Outcome Start\n",
      "  End Trial\n"
     ]
    }
   ],
   "source": [
    "# Manually assign the signal channel numbers\n",
    "# from how you set them up on the NI PXIe-6341 board\n",
    "signal_dict = {\n",
    "  0: 'cam_sync',\n",
    "  1: 'cam_save',\n",
    "  2: 'lick',\n",
    "  3: 'photodiode',\n",
    "}\n",
    "\n",
    "# Manually assign the time epochs you care about\n",
    "# which have to exist as rows in session_df\n",
    "if session_obj.monkey in ['aragorn', 'bear']:\n",
    "  epochs = ['Start Trial', 'Fixation On', 'CS On',\t\n",
    "          'Trace Start', 'Outcome Start', 'End Trial']\n",
    "else:\n",
    "  epochs = ['Start trial', 'End trial']\n",
    "print('Epochs:')\n",
    "# Print each epoch on its own line\n",
    "for epoch in epochs:\n",
    "  print(f'  {epoch}')"
   ]
  },
  {
   "cell_type": "markdown",
   "metadata": {},
   "source": [
    "### Peek at SpikeGLX Analog Data\n",
    "Always view the data you are working with before doing any type of analysis. Calling `read_SGLX` prompts a file selection tool (choose the .bin file that **must have the .meta file in the same directory as is the default for SpikeGLX output**), and `plot_channels_raw` allows for visualization of a window specified by [tStart - tEnd] **seconds**. "
   ]
  },
  {
   "cell_type": "code",
   "execution_count": 12,
   "metadata": {},
   "outputs": [
    {
     "name": "stdout",
     "output_type": "stream",
     "text": [
      "Reading SGLX meta and bin files...\n",
      "Select binary file\n",
      "Bin File Path: C:\\Users\\rober\\Desktop\\Rob\\_data\\20231223_gandalf\\gandalf_20231223_g0\\gandalf_20231223_g0_t0.nidq.bin\n",
      "File Name: D://gandalf_20231223_g0/gandalf_20231223_g0_t0.nidq.bin\n",
      "  Number of Channels: 9\n",
      "  File Created: 2023-12-23T17:36:59\n",
      "  File Length: 6040.45037399812\n",
      "nChan: 9, nFileSamp: 12080867\n",
      " Complete.\n",
      "Plotting channels...\n",
      "  SpikeGLX object missing attributes (meta, chan_dict, signal_dict)\n",
      "  Using input arguments instead.\n",
      "Sample Rate:  1999.994413\n",
      " Channel [0]: cam_sync\n",
      "  Max Val: 3345.032\n",
      "  Min Val: -5.798\n",
      " Channel [1]: cam_save\n",
      "  Max Val: 29.602\n",
      "  Min Val: -8.24\n",
      " Channel [2]: lick\n",
      "  Max Val: 8.85\n",
      "  Min Val: -34.485\n",
      " Channel [3]: photodiode\n",
      "  Max Val: 2215.576\n",
      "  Min Val: 423.584\n",
      " Channel [4]: empty\n",
      " Channel [5]: empty\n",
      " Channel [6]: empty\n",
      " Channel [7]: empty\n",
      " Channel [8]: empty\n"
     ]
    },
    {
     "data": {
      "image/png": "[encoded data removed]",
      "text/plain": [
       "<Figure size 1000x200 with 1 Axes>"
      ]
     },
     "metadata": {},
     "output_type": "display_data"
    }
   ],
   "source": [
    "from spike_glx.read_SGLX import read_SGLX, plot_channels_raw\n",
    "\n",
    "print('Reading SGLX meta and bin files...')\n",
    "meta, chan_dict = read_SGLX()\n",
    "print(' Complete.')\n",
    "print('Plotting channels...')\n",
    "plot_channels_raw(None, meta, chan_dict, signal_dict, tStart=0, tEnd=20)"
   ]
  },
  {
   "cell_type": "code",
   "execution_count": 6,
   "metadata": {},
   "outputs": [
    {
     "data": {
      "image/png": "[encoded data removed]",
      "text/plain": [
       "<Figure size 1500x300 with 1 Axes>"
      ]
     },
     "metadata": {},
     "output_type": "display_data"
    }
   ],
   "source": [
    "from spike_glx.read_SGLX import plot_analog_ML\n",
    "# epochs = ['Start Trial', 'Fixation On', 'CS On',\t\n",
    "#           'Trace Start', 'Outcome Start', 'End Trial']\n",
    "plot_analog_ML(session_obj.df, epochs, trial_num=1)"
   ]
  },
  {
   "cell_type": "code",
   "execution_count": null,
   "metadata": {},
   "outputs": [],
   "source": [
    "from spike_glx.load_SGLX import load_sglx\n",
    "\n",
    "# Load the spikeglx object\n",
    "spikeglx_obj = load_sglx(session_obj.df, \n",
    "                         session_obj, \n",
    "                         file_container_obj, \n",
    "                         signal_dict, \n",
    "                         epochs)"
   ]
  },
  {
   "cell_type": "markdown",
   "metadata": {},
   "source": [
    "### ML-SpikeGLX Session Correlation\n",
    "To see just the correlation matrix for each trial in a session, run `plot_spikeglx_ml_corr` with the newly-generated `spikeglx_obj`."
   ]
  },
  {
   "cell_type": "code",
   "execution_count": 10,
   "metadata": {},
   "outputs": [
    {
     "data": {
      "image/png": "[encoded data removed]",
      "text/plain": [
       "<Figure size 1500x800 with 2 Axes>"
      ]
     },
     "metadata": {},
     "output_type": "display_data"
    }
   ],
   "source": [
    "from spike_glx.read_SGLX import plot_spikeglx_ml_corr\n",
    "plot_spikeglx_ml_corr(spikeglx_obj.ml_sglx_corr_matrix, 100)"
   ]
  },
  {
   "cell_type": "markdown",
   "metadata": {},
   "source": [
    "***\n",
    "## Process White Matter Videos\n",
    "\n",
    "After generating a `SpikeGLX` object, you can segment all the White Matter videos by trial."
   ]
  },
  {
   "cell_type": "code",
   "execution_count": 11,
   "metadata": {},
   "outputs": [
    {
     "name": "stdout",
     "output_type": "stream",
     "text": [
      "Video Parsing Complete.\n",
      "  Missing Videos: defaultdict(<class 'list'>, {'e3v831b': [0, 1, 7, 21, 22, 23, 28, 33, 34, 35, 36, 37, 39, 42, 44, 46, 60, 73, 74, 79, 91, 92, 93, 94, 95, 102, 107, 109, 110, 120, 121, 122, 123, 124, 125, 131, 138, 139, 147, 164, 165, 178, 179, 180, 186, 194, 195, 196, 197, 198, 199, 200, 206, 207, 217, 221, 222, 227, 234, 237, 238, 239, 246, 247, 249, 251, 258, 259, 260, 261, 275, 276, 277, 280, 283, 286, 291, 294, 301, 302, 303, 304, 311, 314, 315, 316, 317, 318, 321, 332, 333, 346, 347, 348, 351, 358, 368, 370, 372, 373, 378, 382, 385, 386, 387, 389, 391, 394, 404, 407, 417, 419, 423, 424, 425, 426, 427, 428, 433, 437, 438, 440, 441, 444, 449, 452, 454, 458, 464, 465, 466, 467, 468, 469, 470, 471, 472, 473, 474, 476, 478, 479, 484, 485, 486, 487, 488, 489, 490, 491, 492, 493, 494, 495, 496, 497, 498, 507, 525, 528, 530, 531, 532, 533, 534, 536, 537, 538, 539, 540, 541, 542, 543, 544, 545, 546, 547, 548, 549, 552, 553, 557, 558, 564, 565, 569, 578, 579, 580, 583, 584, 585], 'e3v8360': [0, 1, 7, 21, 22, 23, 28, 33, 34, 35, 36, 37, 39, 42, 44, 46, 60, 73, 74, 79, 91, 92, 93, 94, 95, 102, 107, 109, 110, 120, 121, 122, 123, 124, 125, 131, 138, 139, 147, 164, 165, 178, 179, 180, 186, 194, 195, 196, 197, 198, 199, 200, 206, 207, 217, 221, 222, 227, 234, 237, 238, 239, 246, 247, 249, 251, 258, 259, 260, 261, 275, 276, 277, 280, 283, 286, 291, 294, 301, 302, 303, 304, 311, 314, 315, 316, 317, 318, 321, 332, 333, 346, 347, 348, 351, 358, 368, 370, 372, 373, 378, 382, 385, 386, 387, 389, 391, 394, 404, 407, 417, 419, 423, 424, 425, 426, 427, 428, 433, 437, 438, 440, 441, 444, 449, 452, 454, 458, 464, 465, 466, 467, 468, 469, 470, 471, 472, 473, 474, 476, 478, 479, 484, 485, 486, 487, 488, 489, 490, 491, 492, 493, 494, 495, 496, 497, 498, 507, 525, 528, 530, 531, 532, 533, 534, 536, 537, 538, 539, 540, 541, 542, 543, 544, 545, 546, 547, 548, 549, 552, 553, 557, 558, 564, 565, 569, 578, 579, 580, 583, 584, 585], 'e3v83ad': [0, 1, 7, 21, 22, 23, 28, 33, 34, 35, 36, 37, 39, 42, 44, 46, 60, 73, 74, 79, 91, 92, 93, 94, 95, 102, 107, 109, 110, 120, 121, 122, 123, 124, 125, 131, 138, 139, 147, 164, 165, 178, 179, 180, 186, 194, 195, 196, 197, 198, 199, 200, 206, 207, 217, 221, 222, 227, 234, 237, 238, 239, 246, 249, 251, 258, 259, 260, 261, 275, 276, 277, 280, 283, 286, 291, 294, 301, 302, 303, 304, 311, 314, 315, 316, 317, 318, 321, 332, 333, 346, 347, 348, 351, 358, 368, 370, 372, 373, 378, 382, 385, 386, 387, 389, 391, 394, 404, 407, 417, 419, 423, 424, 425, 426, 427, 428, 433, 437, 438, 440, 441, 444, 449, 452, 454, 458, 464, 465, 466, 467, 468, 469, 470, 471, 472, 473, 474, 476, 478, 479, 484, 485, 486, 487, 488, 489, 490, 491, 492, 493, 494, 495, 496, 497, 498, 507, 525, 528, 530, 531, 532, 533, 534, 536, 537, 538, 539, 540, 541, 542, 543, 544, 545, 546, 547, 548, 549, 552, 553, 557, 558, 564, 565, 569, 578, 579, 580, 583, 584, 585], 'e3v83d6': [0, 1, 7, 21, 22, 23, 28, 33, 34, 35, 36, 37, 39, 42, 44, 46, 60, 73, 74, 79, 91, 92, 93, 94, 95, 102, 107, 109, 110, 120, 121, 122, 123, 124, 125, 131, 138, 139, 147, 164, 165, 178, 179, 180, 186, 194, 195, 196, 197, 198, 199, 200, 206, 207, 217, 221, 222, 227, 234, 237, 238, 239, 246, 247, 249, 251, 258, 259, 260, 261, 275, 276, 277, 280, 283, 286, 291, 294, 301, 302, 303, 304, 311, 314, 315, 316, 317, 318, 321, 332, 333, 346, 347, 348, 351, 358, 368, 370, 372, 373, 378, 382, 385, 386, 387, 389, 391, 394, 404, 407, 417, 419, 423, 424, 425, 426, 427, 428, 433, 437, 438, 440, 441, 444, 449, 452, 454, 458, 464, 465, 466, 467, 468, 469, 470, 471, 472, 473, 474, 476, 478, 479, 484, 485, 486, 487, 488, 489, 490, 491, 492, 493, 494, 495, 496, 497, 498, 507, 525, 528, 530, 531, 532, 533, 534, 536, 537, 538, 539, 540, 541, 542, 543, 544, 545, 546, 547, 548, 549, 552, 553, 557, 558, 564, 565, 569, 578, 579, 580, 583, 584, 585]})\n"
     ]
    }
   ],
   "source": [
    "from video.wm_videos import parse_wm_videos\n",
    "\n",
    "if session_obj.monkey == 'gandalf':\n",
    "  epoch_start = 'start'\n",
    "  epoch_end = 'end'\n",
    "else:\n",
    "  epoch_start = 'Trace Start'\n",
    "  epoch_end = 'Outcome Start'\n",
    "\n",
    "kwargs = {'spikeglx_obj': spikeglx_obj,       # 'spikeglx_obj': spikeglx_obj\n",
    "          'session_obj': session_obj,         # 'session_obj': session_obj\n",
    "          'trial_start': 0,                   # 'trial_start': 0 \n",
    "          'trial_end': len(session_obj.df),   # 'trial_end': len(session_obj.df)\n",
    "          'epoch_start': epoch_start,         # 'epoch_start': 'start'\n",
    "          'epoch_end': epoch_end,             # 'epoch_end': 'end'   \n",
    "          'thread_flag': False,               # 'thread_flag': False\n",
    "          'exclude_camera': ['e3v83c5']}      # 'exclude_camera': ['e3v83c5']        \n",
    "\n",
    "parse_wm_videos(**kwargs)"
   ]
  },
  {
   "cell_type": "code",
   "execution_count": 53,
   "metadata": {},
   "outputs": [
    {
     "name": "stdout",
     "output_type": "stream",
     "text": [
      "247 3\n"
     ]
    }
   ],
   "source": [
    "# see differences between the values of the different dictionary keys\n",
    "cam_videos = [spikeglx_obj.trial_missing_videos[cam] for cam in spikeglx_obj.trial_missing_videos.keys()]\n",
    "cam_videos = [item for sublist in cam_videos for item in sublist]\n",
    "# sort the list\n",
    "cam_videos.sort()\n",
    "for cam in set(cam_videos):\n",
    "  # count the number of times each video appears in the list\n",
    "  if cam_videos.count(cam) != len(spikeglx_obj.trial_missing_videos.keys()):\n",
    "    print(cam, cam_videos.count(cam))"
   ]
  },
  {
   "cell_type": "markdown",
   "metadata": {},
   "source": [
    "***\n",
    "## DeepLabCut Pretrained Pose-Assignment"
   ]
  },
  {
   "cell_type": "markdown",
   "metadata": {},
   "source": [
    "### Manually Assign Cameras\n",
    "\n",
    "Based on your WhiteMatter camera setup, assign the identifying code of the camera (e3vXXXX) with what it is pointing to in this dictionary. Depending on whether you set the key have `face` or `body` will drive which DLC pretrained model you end up using (`primate_face` vs. `full_macaque`)."
   ]
  },
  {
   "cell_type": "code",
   "execution_count": 12,
   "metadata": {},
   "outputs": [
    {
     "name": "stdout",
     "output_type": "stream",
     "text": [
      "Loading DLC 2.3.7...\n"
     ]
    }
   ],
   "source": [
    "import deeplabcut\n",
    "\n",
    "camera_dict = {\n",
    "  'e3v8360':'face_1', \n",
    "  'e3v83d6':'face_2',\n",
    "  'e3v83ad':'body_1',\n",
    "  'e3v831b':'body_2'\n",
    "}"
   ]
  },
  {
   "cell_type": "code",
   "execution_count": 13,
   "metadata": {},
   "outputs": [
    {
     "name": "stdout",
     "output_type": "stream",
     "text": [
      "Checking for video files...\n",
      "  Video directory: c:\\Users\\rober\\Desktop\\Monkey-Emotions\\video\\aragorn_240110\n",
      "  Number of videos found: 1577\n"
     ]
    },
    {
     "data": {
      "application/vnd.jupyter.widget-view+json": {
       "model_id": "44606cf4853b4e24a198b9630ab18b8d",
       "version_major": 2,
       "version_minor": 0
      },
      "text/plain": [
       "  0%|          | 0/1577 [00:00<?, ?it/s]"
      ]
     },
     "metadata": {},
     "output_type": "display_data"
    },
    {
     "name": "stdout",
     "output_type": "stream",
     "text": [
      "  Camera: e3v831b | Number of videos: 394\n",
      "  Camera: e3v8360 | Number of videos: 394\n",
      "  Camera: e3v83ad | Number of videos: 395\n",
      "  Camera: e3v83d6 | Number of videos: 394\n"
     ]
    }
   ],
   "source": [
    "from dlc_primate.dlc_utils import dlc_config, dlc_downsample\n",
    "video_dir = os.path.join(os.getcwd(), 'video', session_obj.monkey + '_' + session_obj.date)\n",
    "dlc_video_path_dict = dlc_config.get_trial_video_list(video_dir, camera_dict)\n",
    "# dlc_video_path_dict = spikeglx_obj.video_file_paths"
   ]
  },
  {
   "cell_type": "code",
   "execution_count": 14,
   "metadata": {},
   "outputs": [
    {
     "name": "stdout",
     "output_type": "stream",
     "text": [
      "Tensorflow GPU found. Enabled for DLC\n",
      "Checking frame size...\n",
      "   Pixel width x height: 640x480\n",
      "No need to downsample videos\n",
      "Initializing Project...\n",
      "  Project name: body_2\n",
      "  Model: full_macaque\n",
      "  Initilization Videos: ['c:\\\\Users\\\\rober\\\\Desktop\\\\Monkey-Emotions\\\\video\\\\aragorn_240110\\\\aragorn_240110_100_e3v831b.mp4']\n",
      "Created \"240110_aragorn\\body_2-rh-2024-01-11\\videos\"\n",
      "Created \"240110_aragorn\\body_2-rh-2024-01-11\\labeled-data\"\n",
      "Created \"240110_aragorn\\body_2-rh-2024-01-11\\training-datasets\"\n",
      "Created \"240110_aragorn\\body_2-rh-2024-01-11\\dlc-models\"\n",
      "Copying the videos\n",
      "240110_aragorn\\body_2-rh-2024-01-11\\videos\\aragorn_240110_100_e3v831b.mp4\n",
      "Generated \"240110_aragorn\\body_2-rh-2024-01-11\\config.yaml\"\n",
      "\n",
      "A new project with name body_2-rh-2024-01-11 is created at 240110_aragorn and a configurable file (config.yaml) is stored there. Change the parameters in this file to adapt to your project's needs.\n",
      " Once you have changed the configuration file, use the function 'extract_frames' to select frames for labeling.\n",
      ". [OPTIONAL] Use the function 'add_new_videos' to add new videos to your project (at any stage).\n",
      "Downloading weights...\n",
      "Loading.... full_macaque\n"
     ]
    },
    {
     "data": {
      "application/vnd.jupyter.widget-view+json": {
       "model_id": "807a2851c0a246a5a1f175bf80809a1b",
       "version_major": 2,
       "version_minor": 0
      },
      "text/plain": [
       "DLC_macaque_full_resnet50.tar.gz:   0%|          | 0.00/182M [00:00<?, ?B/s]"
      ]
     },
     "metadata": {},
     "output_type": "display_data"
    },
    {
     "name": "stderr",
     "output_type": "stream",
     "text": [
      "c:\\Users\\rober\\anaconda3\\envs\\DEEPLABCUT\\lib\\site-packages\\huggingface_hub\\file_download.py:138: UserWarning: `huggingface_hub` cache-system uses symlinks by default to efficiently store duplicated files but your machine does not support them in C:\\Users\\rober\\Desktop\\Monkey-Emotions\\240110_aragorn\\body_2-rh-2024-01-11\\dlc-models\\iteration-0\\body_2Jan11-trainset95shuffle1\\train. Caching files will still work but in a degraded version that might require more space on your disk. This warning can be disabled by setting the `HF_HUB_DISABLE_SYMLINKS_WARNING` environment variable. For more details, see https://huggingface.co/docs/huggingface_hub/how-to-cache#limitations.\n",
      "To support symlinks on Windows, you either need to activate Developer Mode or to run Python as an administrator. In order to see activate developer mode, see this article: https://docs.microsoft.com/en-us/windows/apps/get-started/enable-your-device-for-development\n",
      "  warnings.warn(message)\n"
     ]
    },
    {
     "name": "stdout",
     "output_type": "stream",
     "text": [
      "240110_aragorn\\body_2-rh-2024-01-11\\dlc-models\\iteration-0\\body_2Jan11-trainset95shuffle1\\train\\pose_cfg.yaml\n",
      "Analyzing video...\n",
      "Using snapshot-1030000 for model 240110_aragorn\\body_2-rh-2024-01-11\\dlc-models\\iteration-0\\body_2Jan11-trainset95shuffle1\n"
     ]
    },
    {
     "name": "stderr",
     "output_type": "stream",
     "text": [
      "c:\\Users\\rober\\anaconda3\\envs\\DEEPLABCUT\\lib\\site-packages\\tensorflow\\python\\keras\\engine\\base_layer_v1.py:1694: UserWarning: `layer.apply` is deprecated and will be removed in a future version. Please use `layer.__call__` method instead.\n",
      "  warnings.warn('`layer.apply` is deprecated and '\n"
     ]
    },
    {
     "name": "stdout",
     "output_type": "stream",
     "text": [
      "Analyzing all the videos in the directory...\n",
      "Starting to analyze %  240110_aragorn\\body_2-rh-2024-01-11\\videos\\aragorn_240110_100_e3v831b.mp4\n",
      "Loading  240110_aragorn\\body_2-rh-2024-01-11\\videos\\aragorn_240110_100_e3v831b.mp4\n",
      "Duration of video [s]:  1.49 , recorded with  120.0 fps!\n",
      "Overall # of frames:  179  found with (before cropping) frame dimensions:  640 480\n",
      "Starting to extract posture\n"
     ]
    },
    {
     "name": "stderr",
     "output_type": "stream",
     "text": [
      "100%|██████████| 179/179 [00:08<00:00, 20.10it/s] \n"
     ]
    },
    {
     "name": "stdout",
     "output_type": "stream",
     "text": [
      "Saving results in 240110_aragorn\\body_2-rh-2024-01-11\\videos...\n",
      "Saving csv poses!\n",
      "The videos are analyzed. Now your research can truly start! \n",
      " You can create labeled videos with 'create_labeled_video'\n",
      "If the tracking is not satisfactory for some videos, consider expanding the training set. You can use the function 'extract_outlier_frames' to extract a few representative outlier frames.\n",
      "Tensorflow GPU found. Enabled for DLC\n",
      "Checking frame size...\n",
      "   Pixel width x height: 640x480\n",
      "No need to downsample videos\n",
      "Initializing Project...\n",
      "  Project name: face_1\n",
      "  Model: primate_face\n",
      "  Initilization Videos: ['c:\\\\Users\\\\rober\\\\Desktop\\\\Monkey-Emotions\\\\video\\\\aragorn_240110\\\\aragorn_240110_100_e3v8360.mp4']\n",
      "Created \"C:\\Users\\rober\\Desktop\\Monkey-Emotions\\240110_aragorn\\face_1-rh-2024-01-11\\videos\"\n",
      "Created \"C:\\Users\\rober\\Desktop\\Monkey-Emotions\\240110_aragorn\\face_1-rh-2024-01-11\\labeled-data\"\n",
      "Created \"C:\\Users\\rober\\Desktop\\Monkey-Emotions\\240110_aragorn\\face_1-rh-2024-01-11\\training-datasets\"\n",
      "Created \"C:\\Users\\rober\\Desktop\\Monkey-Emotions\\240110_aragorn\\face_1-rh-2024-01-11\\dlc-models\"\n",
      "Copying the videos\n",
      "C:\\Users\\rober\\Desktop\\Monkey-Emotions\\240110_aragorn\\face_1-rh-2024-01-11\\videos\\aragorn_240110_100_e3v8360.mp4\n",
      "Generated \"C:\\Users\\rober\\Desktop\\Monkey-Emotions\\240110_aragorn\\face_1-rh-2024-01-11\\config.yaml\"\n",
      "\n",
      "A new project with name face_1-rh-2024-01-11 is created at C:\\Users\\rober\\Desktop\\Monkey-Emotions\\240110_aragorn and a configurable file (config.yaml) is stored there. Change the parameters in this file to adapt to your project's needs.\n",
      " Once you have changed the configuration file, use the function 'extract_frames' to select frames for labeling.\n",
      ". [OPTIONAL] Use the function 'add_new_videos' to add new videos to your project (at any stage).\n",
      "Downloading weights...\n",
      "Loading.... primate_face\n"
     ]
    },
    {
     "data": {
      "application/vnd.jupyter.widget-view+json": {
       "model_id": "7fed6a3a110746d195150d5152992cdf",
       "version_major": 2,
       "version_minor": 0
      },
      "text/plain": [
       "(…)e_resnet_50_iteration-1_shuffle-1.tar.gz:   0%|          | 0.00/198M [00:00<?, ?B/s]"
      ]
     },
     "metadata": {},
     "output_type": "display_data"
    },
    {
     "name": "stderr",
     "output_type": "stream",
     "text": [
      "c:\\Users\\rober\\anaconda3\\envs\\DEEPLABCUT\\lib\\site-packages\\huggingface_hub\\file_download.py:138: UserWarning: `huggingface_hub` cache-system uses symlinks by default to efficiently store duplicated files but your machine does not support them in C:\\Users\\rober\\Desktop\\Monkey-Emotions\\240110_aragorn\\face_1-rh-2024-01-11\\dlc-models\\iteration-0\\face_1Jan11-trainset95shuffle1\\train. Caching files will still work but in a degraded version that might require more space on your disk. This warning can be disabled by setting the `HF_HUB_DISABLE_SYMLINKS_WARNING` environment variable. For more details, see https://huggingface.co/docs/huggingface_hub/how-to-cache#limitations.\n",
      "To support symlinks on Windows, you either need to activate Developer Mode or to run Python as an administrator. In order to see activate developer mode, see this article: https://docs.microsoft.com/en-us/windows/apps/get-started/enable-your-device-for-development\n",
      "  warnings.warn(message)\n"
     ]
    },
    {
     "name": "stdout",
     "output_type": "stream",
     "text": [
      "C:\\Users\\rober\\Desktop\\Monkey-Emotions\\240110_aragorn\\face_1-rh-2024-01-11\\dlc-models\\iteration-0\\face_1Jan11-trainset95shuffle1\\train\\pose_cfg.yaml\n",
      "Analyzing video...\n",
      "Using snapshot-1030000 for model C:\\Users\\rober\\Desktop\\Monkey-Emotions\\240110_aragorn\\face_1-rh-2024-01-11\\dlc-models\\iteration-0\\face_1Jan11-trainset95shuffle1\n"
     ]
    },
    {
     "name": "stderr",
     "output_type": "stream",
     "text": [
      "c:\\Users\\rober\\anaconda3\\envs\\DEEPLABCUT\\lib\\site-packages\\tensorflow\\python\\keras\\engine\\base_layer_v1.py:1694: UserWarning: `layer.apply` is deprecated and will be removed in a future version. Please use `layer.__call__` method instead.\n",
      "  warnings.warn('`layer.apply` is deprecated and '\n"
     ]
    },
    {
     "name": "stdout",
     "output_type": "stream",
     "text": [
      "Analyzing all the videos in the directory...\n",
      "Starting to analyze %  C:\\Users\\rober\\Desktop\\Monkey-Emotions\\240110_aragorn\\face_1-rh-2024-01-11\\videos\\aragorn_240110_100_e3v8360.mp4\n",
      "Loading  C:\\Users\\rober\\Desktop\\Monkey-Emotions\\240110_aragorn\\face_1-rh-2024-01-11\\videos\\aragorn_240110_100_e3v8360.mp4\n",
      "Duration of video [s]:  1.49 , recorded with  120.0 fps!\n",
      "Overall # of frames:  179  found with (before cropping) frame dimensions:  640 480\n",
      "Starting to extract posture\n"
     ]
    },
    {
     "name": "stderr",
     "output_type": "stream",
     "text": [
      "100%|██████████| 179/179 [00:04<00:00, 36.93it/s]\n"
     ]
    },
    {
     "name": "stdout",
     "output_type": "stream",
     "text": [
      "Saving results in C:\\Users\\rober\\Desktop\\Monkey-Emotions\\240110_aragorn\\face_1-rh-2024-01-11\\videos...\n",
      "Saving csv poses!\n",
      "The videos are analyzed. Now your research can truly start! \n",
      " You can create labeled videos with 'create_labeled_video'\n",
      "If the tracking is not satisfactory for some videos, consider expanding the training set. You can use the function 'extract_outlier_frames' to extract a few representative outlier frames.\n",
      "  Editing config file.\n",
      "Tensorflow GPU found. Enabled for DLC\n",
      "Checking frame size...\n",
      "   Pixel width x height: 640x480\n",
      "No need to downsample videos\n",
      "Initializing Project...\n",
      "  Project name: body_1\n",
      "  Model: full_macaque\n",
      "  Initilization Videos: ['c:\\\\Users\\\\rober\\\\Desktop\\\\Monkey-Emotions\\\\video\\\\aragorn_240110\\\\aragorn_240110_100_e3v83ad.mp4']\n",
      "Created \"C:\\Users\\rober\\Desktop\\Monkey-Emotions\\240110_aragorn\\body_1-rh-2024-01-11\\videos\"\n",
      "Created \"C:\\Users\\rober\\Desktop\\Monkey-Emotions\\240110_aragorn\\body_1-rh-2024-01-11\\labeled-data\"\n",
      "Created \"C:\\Users\\rober\\Desktop\\Monkey-Emotions\\240110_aragorn\\body_1-rh-2024-01-11\\training-datasets\"\n",
      "Created \"C:\\Users\\rober\\Desktop\\Monkey-Emotions\\240110_aragorn\\body_1-rh-2024-01-11\\dlc-models\"\n",
      "Copying the videos\n",
      "C:\\Users\\rober\\Desktop\\Monkey-Emotions\\240110_aragorn\\body_1-rh-2024-01-11\\videos\\aragorn_240110_100_e3v83ad.mp4\n",
      "Generated \"C:\\Users\\rober\\Desktop\\Monkey-Emotions\\240110_aragorn\\body_1-rh-2024-01-11\\config.yaml\"\n",
      "\n",
      "A new project with name body_1-rh-2024-01-11 is created at C:\\Users\\rober\\Desktop\\Monkey-Emotions\\240110_aragorn and a configurable file (config.yaml) is stored there. Change the parameters in this file to adapt to your project's needs.\n",
      " Once you have changed the configuration file, use the function 'extract_frames' to select frames for labeling.\n",
      ". [OPTIONAL] Use the function 'add_new_videos' to add new videos to your project (at any stage).\n",
      "Downloading weights...\n",
      "Loading.... full_macaque\n"
     ]
    },
    {
     "data": {
      "application/vnd.jupyter.widget-view+json": {
       "model_id": "0ea0c10b3d02442c92f7aae80f9c08c8",
       "version_major": 2,
       "version_minor": 0
      },
      "text/plain": [
       "DLC_macaque_full_resnet50.tar.gz:   0%|          | 0.00/182M [00:00<?, ?B/s]"
      ]
     },
     "metadata": {},
     "output_type": "display_data"
    },
    {
     "name": "stderr",
     "output_type": "stream",
     "text": [
      "c:\\Users\\rober\\anaconda3\\envs\\DEEPLABCUT\\lib\\site-packages\\huggingface_hub\\file_download.py:138: UserWarning: `huggingface_hub` cache-system uses symlinks by default to efficiently store duplicated files but your machine does not support them in C:\\Users\\rober\\Desktop\\Monkey-Emotions\\240110_aragorn\\body_1-rh-2024-01-11\\dlc-models\\iteration-0\\body_1Jan11-trainset95shuffle1\\train. Caching files will still work but in a degraded version that might require more space on your disk. This warning can be disabled by setting the `HF_HUB_DISABLE_SYMLINKS_WARNING` environment variable. For more details, see https://huggingface.co/docs/huggingface_hub/how-to-cache#limitations.\n",
      "To support symlinks on Windows, you either need to activate Developer Mode or to run Python as an administrator. In order to see activate developer mode, see this article: https://docs.microsoft.com/en-us/windows/apps/get-started/enable-your-device-for-development\n",
      "  warnings.warn(message)\n"
     ]
    },
    {
     "name": "stdout",
     "output_type": "stream",
     "text": [
      "C:\\Users\\rober\\Desktop\\Monkey-Emotions\\240110_aragorn\\body_1-rh-2024-01-11\\dlc-models\\iteration-0\\body_1Jan11-trainset95shuffle1\\train\\pose_cfg.yaml\n",
      "Analyzing video...\n",
      "Using snapshot-1030000 for model C:\\Users\\rober\\Desktop\\Monkey-Emotions\\240110_aragorn\\body_1-rh-2024-01-11\\dlc-models\\iteration-0\\body_1Jan11-trainset95shuffle1\n"
     ]
    },
    {
     "name": "stderr",
     "output_type": "stream",
     "text": [
      "c:\\Users\\rober\\anaconda3\\envs\\DEEPLABCUT\\lib\\site-packages\\tensorflow\\python\\keras\\engine\\base_layer_v1.py:1694: UserWarning: `layer.apply` is deprecated and will be removed in a future version. Please use `layer.__call__` method instead.\n",
      "  warnings.warn('`layer.apply` is deprecated and '\n"
     ]
    },
    {
     "name": "stdout",
     "output_type": "stream",
     "text": [
      "Analyzing all the videos in the directory...\n",
      "Starting to analyze %  C:\\Users\\rober\\Desktop\\Monkey-Emotions\\240110_aragorn\\body_1-rh-2024-01-11\\videos\\aragorn_240110_100_e3v83ad.mp4\n",
      "Loading  C:\\Users\\rober\\Desktop\\Monkey-Emotions\\240110_aragorn\\body_1-rh-2024-01-11\\videos\\aragorn_240110_100_e3v83ad.mp4\n",
      "Duration of video [s]:  1.49 , recorded with  120.0 fps!\n",
      "Overall # of frames:  179  found with (before cropping) frame dimensions:  640 480\n",
      "Starting to extract posture\n"
     ]
    },
    {
     "name": "stderr",
     "output_type": "stream",
     "text": [
      "100%|██████████| 179/179 [00:02<00:00, 81.82it/s] \n"
     ]
    },
    {
     "name": "stdout",
     "output_type": "stream",
     "text": [
      "Saving results in C:\\Users\\rober\\Desktop\\Monkey-Emotions\\240110_aragorn\\body_1-rh-2024-01-11\\videos...\n",
      "Saving csv poses!\n",
      "The videos are analyzed. Now your research can truly start! \n",
      " You can create labeled videos with 'create_labeled_video'\n",
      "If the tracking is not satisfactory for some videos, consider expanding the training set. You can use the function 'extract_outlier_frames' to extract a few representative outlier frames.\n",
      "Tensorflow GPU found. Enabled for DLC\n",
      "Checking frame size...\n",
      "   Pixel width x height: 640x480\n",
      "No need to downsample videos\n",
      "Initializing Project...\n",
      "  Project name: face_2\n",
      "  Model: primate_face\n",
      "  Initilization Videos: ['c:\\\\Users\\\\rober\\\\Desktop\\\\Monkey-Emotions\\\\video\\\\aragorn_240110\\\\aragorn_240110_100_e3v83d6.mp4']\n",
      "Created \"C:\\Users\\rober\\Desktop\\Monkey-Emotions\\240110_aragorn\\face_2-rh-2024-01-11\\videos\"\n",
      "Created \"C:\\Users\\rober\\Desktop\\Monkey-Emotions\\240110_aragorn\\face_2-rh-2024-01-11\\labeled-data\"\n",
      "Created \"C:\\Users\\rober\\Desktop\\Monkey-Emotions\\240110_aragorn\\face_2-rh-2024-01-11\\training-datasets\"\n",
      "Created \"C:\\Users\\rober\\Desktop\\Monkey-Emotions\\240110_aragorn\\face_2-rh-2024-01-11\\dlc-models\"\n",
      "Copying the videos\n",
      "C:\\Users\\rober\\Desktop\\Monkey-Emotions\\240110_aragorn\\face_2-rh-2024-01-11\\videos\\aragorn_240110_100_e3v83d6.mp4\n",
      "Generated \"C:\\Users\\rober\\Desktop\\Monkey-Emotions\\240110_aragorn\\face_2-rh-2024-01-11\\config.yaml\"\n",
      "\n",
      "A new project with name face_2-rh-2024-01-11 is created at C:\\Users\\rober\\Desktop\\Monkey-Emotions\\240110_aragorn and a configurable file (config.yaml) is stored there. Change the parameters in this file to adapt to your project's needs.\n",
      " Once you have changed the configuration file, use the function 'extract_frames' to select frames for labeling.\n",
      ". [OPTIONAL] Use the function 'add_new_videos' to add new videos to your project (at any stage).\n",
      "Downloading weights...\n",
      "Loading.... primate_face\n"
     ]
    },
    {
     "data": {
      "application/vnd.jupyter.widget-view+json": {
       "model_id": "4853a2aa02f64ee3972fe1048559e89c",
       "version_major": 2,
       "version_minor": 0
      },
      "text/plain": [
       "(…)e_resnet_50_iteration-1_shuffle-1.tar.gz:   0%|          | 0.00/198M [00:00<?, ?B/s]"
      ]
     },
     "metadata": {},
     "output_type": "display_data"
    },
    {
     "name": "stderr",
     "output_type": "stream",
     "text": [
      "c:\\Users\\rober\\anaconda3\\envs\\DEEPLABCUT\\lib\\site-packages\\huggingface_hub\\file_download.py:138: UserWarning: `huggingface_hub` cache-system uses symlinks by default to efficiently store duplicated files but your machine does not support them in C:\\Users\\rober\\Desktop\\Monkey-Emotions\\240110_aragorn\\face_2-rh-2024-01-11\\dlc-models\\iteration-0\\face_2Jan11-trainset95shuffle1\\train. Caching files will still work but in a degraded version that might require more space on your disk. This warning can be disabled by setting the `HF_HUB_DISABLE_SYMLINKS_WARNING` environment variable. For more details, see https://huggingface.co/docs/huggingface_hub/how-to-cache#limitations.\n",
      "To support symlinks on Windows, you either need to activate Developer Mode or to run Python as an administrator. In order to see activate developer mode, see this article: https://docs.microsoft.com/en-us/windows/apps/get-started/enable-your-device-for-development\n",
      "  warnings.warn(message)\n"
     ]
    },
    {
     "name": "stdout",
     "output_type": "stream",
     "text": [
      "C:\\Users\\rober\\Desktop\\Monkey-Emotions\\240110_aragorn\\face_2-rh-2024-01-11\\dlc-models\\iteration-0\\face_2Jan11-trainset95shuffle1\\train\\pose_cfg.yaml\n",
      "Analyzing video...\n",
      "Using snapshot-1030000 for model C:\\Users\\rober\\Desktop\\Monkey-Emotions\\240110_aragorn\\face_2-rh-2024-01-11\\dlc-models\\iteration-0\\face_2Jan11-trainset95shuffle1\n"
     ]
    },
    {
     "name": "stderr",
     "output_type": "stream",
     "text": [
      "c:\\Users\\rober\\anaconda3\\envs\\DEEPLABCUT\\lib\\site-packages\\tensorflow\\python\\keras\\engine\\base_layer_v1.py:1694: UserWarning: `layer.apply` is deprecated and will be removed in a future version. Please use `layer.__call__` method instead.\n",
      "  warnings.warn('`layer.apply` is deprecated and '\n"
     ]
    },
    {
     "name": "stdout",
     "output_type": "stream",
     "text": [
      "Analyzing all the videos in the directory...\n",
      "Starting to analyze %  C:\\Users\\rober\\Desktop\\Monkey-Emotions\\240110_aragorn\\face_2-rh-2024-01-11\\videos\\aragorn_240110_100_e3v83d6.mp4\n",
      "Loading  C:\\Users\\rober\\Desktop\\Monkey-Emotions\\240110_aragorn\\face_2-rh-2024-01-11\\videos\\aragorn_240110_100_e3v83d6.mp4\n",
      "Duration of video [s]:  1.49 , recorded with  120.0 fps!\n",
      "Overall # of frames:  179  found with (before cropping) frame dimensions:  640 480\n",
      "Starting to extract posture\n"
     ]
    },
    {
     "name": "stderr",
     "output_type": "stream",
     "text": [
      "100%|██████████| 179/179 [00:02<00:00, 77.73it/s] \n"
     ]
    },
    {
     "name": "stdout",
     "output_type": "stream",
     "text": [
      "Saving results in C:\\Users\\rober\\Desktop\\Monkey-Emotions\\240110_aragorn\\face_2-rh-2024-01-11\\videos...\n",
      "Saving csv poses!\n",
      "The videos are analyzed. Now your research can truly start! \n",
      " You can create labeled videos with 'create_labeled_video'\n",
      "If the tracking is not satisfactory for some videos, consider expanding the training set. You can use the function 'extract_outlier_frames' to extract a few representative outlier frames.\n",
      "  Editing config file.\n"
     ]
    }
   ],
   "source": [
    "# Custom modules\n",
    "from dlc_primate.dlc_utils import dlc_config, dlc_downsample\n",
    "\n",
    "# Initialize Project\n",
    "config_path_dict, train_config_path_dict = \\\n",
    "  dlc_config.dlc_initialize_project(dlc_video_path_dict, session_obj, camera_dict)"
   ]
  },
  {
   "cell_type": "code",
   "execution_count": 24,
   "metadata": {},
   "outputs": [
    {
     "name": "stdout",
     "output_type": "stream",
     "text": [
      "Config file read successfully.\n",
      "Do you want to extract (perhaps additional) frames for video: C:\\Users\\rober\\Desktop\\Monkey-Emotions\\231212_aragorn\\face_1-rh-2024-01-08\\videos\\aragorn_231212_0_e3v8360.mp4 ?\n",
      "Extracting frames based on kmeans ...\n",
      "Kmeans-quantization based extracting of frames from 0.0  seconds to 1.51  seconds.\n",
      "Extracting and downsampling... 181  frames from the video.\n"
     ]
    },
    {
     "name": "stderr",
     "output_type": "stream",
     "text": [
      "181it [00:00, 350.18it/s]\n"
     ]
    },
    {
     "name": "stdout",
     "output_type": "stream",
     "text": [
      "Kmeans clustering ... (this might take a while)\n"
     ]
    }
   ],
   "source": [
    "# # deeplabcut.refine_labels(config_path_dict['e3v8360'])\n",
    "# deeplabcut.extract_frames(config_path_dict['e3v8360'], 'automatic')"
   ]
  },
  {
   "cell_type": "markdown",
   "metadata": {},
   "source": [
    "### Evaluate Network\n",
    "\n",
    "TRY THIS TODAY\n",
    "https://github.com/DeepLabCut/DeepLabCut/blob/main/deeplabcut/generate_training_dataset/frame_extraction.py"
   ]
  },
  {
   "cell_type": "code",
   "execution_count": null,
   "metadata": {},
   "outputs": [],
   "source": [
    "# deeplabcut.evaluate_network(config_path_dict['e3v8360'], \n",
    "#                      dlc_video_path_dict['video_path_dict'], \n",
    "#                      plotting=True)\n",
    "# deeplabcut.extract_frames(\n",
    "#           config_path_dict['e3v8360'],\n",
    "#           'automatic',\n",
    "#           'kmeans',\n",
    "#           'GUI',\n",
    "#         )"
   ]
  },
  {
   "cell_type": "markdown",
   "metadata": {},
   "source": [
    "### Run Full Model"
   ]
  },
  {
   "cell_type": "code",
   "execution_count": null,
   "metadata": {},
   "outputs": [],
   "source": [
    "# Run DLC\n",
    "dlc_config.dlc_run(config_path_dict, \n",
    "                   dlc_video_path_dict, \n",
    "                   start_video=0, \n",
    "                   end_video=None, \n",
    "                   videotype='mp4', \n",
    "                   create_labeled_video=False)"
   ]
  },
  {
   "cell_type": "code",
   "execution_count": 60,
   "metadata": {},
   "outputs": [
    {
     "name": "stdout",
     "output_type": "stream",
     "text": [
      "Number of videos in output directory:\n",
      "  e3v831b: 394       \n",
      "  e3v8360: 394       \n",
      "  e3v83ad: 395       \n",
      "  e3v83d6: 394       \n",
      "Number of videos expected:\n",
      " Correct trials: 395 \n",
      " Total trials:   587\n"
     ]
    }
   ],
   "source": [
    "# count number of videos in output directory\n",
    "print('Number of videos in output directory:')\n",
    "for cam in dlc_video_path_dict.keys():\n",
    "  print(f'  {cam}: {len(dlc_video_path_dict[cam])}')\n",
    "print('Number of videos expected:')\n",
    "print(f' Correct trials: {len(session_obj.df[session_obj.df[\"correct\"] == 1])}')\n",
    "print(f' Total trials:   {len(session_obj.df)}')"
   ]
  },
  {
   "cell_type": "markdown",
   "metadata": {},
   "source": [
    "***\n",
    "## Generate MonkeyLogic Behavior Trial Videos"
   ]
  },
  {
   "cell_type": "code",
   "execution_count": 56,
   "metadata": {},
   "outputs": [
    {
     "name": "stdout",
     "output_type": "stream",
     "text": [
      "Generating video for trial 1\n",
      "Generating frames for trial 1 from 0 to 12264\n"
     ]
    },
    {
     "data": {
      "application/vnd.jupyter.widget-view+json": {
       "model_id": "b197b46cdc284a5487713d2099d547a6",
       "version_major": 2,
       "version_minor": 0
      },
      "text/plain": [
       "Trial 1 frame:   0%|          | 0/12264 [00:00<?, ?it/s]"
      ]
     },
     "metadata": {},
     "output_type": "display_data"
    },
    {
     "name": "stdout",
     "output_type": "stream",
     "text": [
      "Deleting existing video: /Users/rahimhashim/Desktop/Monkey-Emotions/video/gandalf_231004/eye_0000.mp4\n",
      "Saving video to: /Users/rahimhashim/Desktop/Monkey-Emotions/video/gandalf_231004/eye_0000.mp4\n"
     ]
    },
    {
     "data": {
      "application/vnd.jupyter.widget-view+json": {
       "model_id": "1026cac629bf47bdbf18a4aa63052e8c",
       "version_major": 2,
       "version_minor": 0
      },
      "text/plain": [
       "Trial 0 eye:   0%|          | 0/12264 [00:00<?, ?it/s]"
      ]
     },
     "metadata": {},
     "output_type": "display_data"
    },
    {
     "name": "stdout",
     "output_type": "stream",
     "text": [
      "Deleting existing video: /Users/rahimhashim/Desktop/Monkey-Emotions/video/gandalf_231004/lick_0000.mp4\n",
      "Saving video to: /Users/rahimhashim/Desktop/Monkey-Emotions/video/gandalf_231004/lick_0000.mp4\n"
     ]
    },
    {
     "data": {
      "application/vnd.jupyter.widget-view+json": {
       "model_id": "f172ec46909c42e9af08331e42876687",
       "version_major": 2,
       "version_minor": 0
      },
      "text/plain": [
       "Trial 0 lick:   0%|          | 0/12264 [00:00<?, ?it/s]"
      ]
     },
     "metadata": {},
     "output_type": "display_data"
    },
    {
     "name": "stdout",
     "output_type": "stream",
     "text": [
      "Deleting image folder: /Users/rahimhashim/Desktop/Monkey-Emotions/video/gandalf_231004/trial_0\n"
     ]
    },
    {
     "ename": "TypeError",
     "evalue": "'recursive' is an invalid keyword argument for rmdir()",
     "output_type": "error",
     "traceback": [
      "\u001b[0;31m---------------------------------------------------------------------------\u001b[0m",
      "\u001b[0;31mTypeError\u001b[0m                                 Traceback (most recent call last)",
      "\u001b[1;32m/Users/rahimhashim/Desktop/Monkey-Emotions/data_preprocessing.ipynb Cell 21\u001b[0m line \u001b[0;36m3\n\u001b[1;32m      <a href='vscode-notebook-cell:/Users/rahimhashim/Desktop/Monkey-Emotions/data_preprocessing.ipynb#X25sZmlsZQ%3D%3D?line=0'>1</a>\u001b[0m \u001b[39mfrom\u001b[39;00m \u001b[39mvideo\u001b[39;00m\u001b[39m.\u001b[39;00m\u001b[39mml_videos\u001b[39;00m \u001b[39mimport\u001b[39;00m generate_ml_behavior_videos\n\u001b[1;32m      <a href='vscode-notebook-cell:/Users/rahimhashim/Desktop/Monkey-Emotions/data_preprocessing.ipynb#X25sZmlsZQ%3D%3D?line=1'>2</a>\u001b[0m trial_num_selected \u001b[39m=\u001b[39m \u001b[39m1\u001b[39m\n\u001b[0;32m----> <a href='vscode-notebook-cell:/Users/rahimhashim/Desktop/Monkey-Emotions/data_preprocessing.ipynb#X25sZmlsZQ%3D%3D?line=2'>3</a>\u001b[0m generate_ml_behavior_videos(session_obj\u001b[39m.\u001b[39;49mdf, session_obj, trial_num_selected, epoch_start, epoch_end)\n",
      "File \u001b[0;32m~/Desktop/Monkey-Emotions/video/ml_videos.py:95\u001b[0m, in \u001b[0;36mgenerate_ml_behavior_videos\u001b[0;34m(session_df, session_obj, trial_num, epoch_start, epoch_end)\u001b[0m\n\u001b[1;32m     93\u001b[0m \u001b[39m# delete image folder\u001b[39;00m\n\u001b[1;32m     94\u001b[0m \u001b[39mprint\u001b[39m(\u001b[39m'\u001b[39m\u001b[39mDeleting image folder: \u001b[39m\u001b[39m{}\u001b[39;00m\u001b[39m'\u001b[39m\u001b[39m.\u001b[39mformat(source_folder_path))\n\u001b[0;32m---> 95\u001b[0m os\u001b[39m.\u001b[39mrmdir(source_folder_path, recursive\u001b[39m=\u001b[39m\u001b[39mTrue\u001b[39;00m)\n",
      "\u001b[0;31mTypeError\u001b[0m: 'recursive' is an invalid keyword argument for rmdir()"
     ]
    }
   ],
   "source": [
    "from video.ml_videos import generate_ml_behavior_videos\n",
    "trial_num_selected = 1\n",
    "generate_ml_behavior_videos(session_obj.df, session_obj, trial_num_selected, epoch_start, epoch_end)"
   ]
  },
  {
   "cell_type": "code",
   "execution_count": null,
   "metadata": {},
   "outputs": [],
   "source": []
  }
 ],
 "metadata": {
  "kernelspec": {
   "display_name": "facial-recognition",
   "language": "python",
   "name": "python3"
  },
  "language_info": {
   "codemirror_mode": {
    "name": "ipython",
    "version": 3
   },
   "file_extension": ".py",
   "mimetype": "text/x-python",
   "name": "python",
   "nbconvert_exporter": "python",
   "pygments_lexer": "ipython3",
   "version": "3.9.18"
  },
  "orig_nbformat": 4
 },
 "nbformat": 4,
 "nbformat_minor": 2
}
