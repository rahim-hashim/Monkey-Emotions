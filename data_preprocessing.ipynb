{
 "cells": [
  {
   "cell_type": "markdown",
   "metadata": {},
   "source": [
    "# Data Preprocessing\n",
    "#### Run this script to proprocess all the data that will be coming in from one, many, or all of the following sources:\n",
    "1. **MonkeyLogic:** (.bhv2 | .h5) behavior data *[500 or 1000Hz]*\n",
    "  > * Photodiode data\n",
    "  > * White Matter Camera Sync analog data (if applicable)\n",
    "  > * White Matter Camera Save analog data (if applicable)\n",
    "2. **SpikeGLX:** (.meta & .bin) duplicates of analog data *[20000-30000Hz]*\n",
    "  > * Photodiode data (split from ML)\n",
    "  > * White Matter Camera Sync analog data (if applicable)\n",
    "  > * White Matter Camera Save analog data (if applicable)\n",
    "3. **WhiteMatter:** (.mp4 | .avi) video files *[60-120 fps]*\n",
    "***"
   ]
  },
  {
   "cell_type": "markdown",
   "metadata": {},
   "source": [
    "## Find Files\n",
    "`FileContainer` will hold the relevant files listed above. <br>\n",
    "* Specify `ROOT_DIR` to set the directory when prompted to select the files.\n",
    "* `WARNING` printed if dates and monkeys not aligned across files"
   ]
  },
  {
   "cell_type": "code",
   "execution_count": 1,
   "metadata": {},
   "outputs": [
    {
     "name": "stdout",
     "output_type": "stream",
     "text": [
      "Select .bhv2/.h5 behavior file (i.e. 230927_Aragorn_choice.h5)\n",
      "Behavior file selected: /Users/rahimhashim/Library/CloudStorage/OneDrive-Personal/data/bear_231027/231027_Bear_choice.h5\n",
      "  MonkeyLogic Date: 231027\n",
      "  MonkeyLogic Monkey: bear\n",
      "Select directory containing White Matter video files (i.e. 230927_Aragorn)\n",
      "Video files directory selected: /Users/rahimhashim/Library/CloudStorage/OneDrive-Personal/data/bear_231027/231027_Bear\n",
      "  White Matter Video Date: 231027\n",
      "  White Matter Video Monkey: bear\n",
      "Select directory containing SpikeGLX files\n",
      "SpikeGLX files directory selected: /Users/rahimhashim/Library/CloudStorage/OneDrive-Personal/data/bear_231027/bear_20231027_g0\n",
      "  SpikeGLX Date: 231027\n",
      "  SpikeGLX Monkey: bear\n",
      "\n"
     ]
    }
   ],
   "source": [
    "%load_ext autoreload\n",
    "%autoreload 2\n",
    "import re\n",
    "import os\n",
    "import sys\n",
    "import cv2\n",
    "import math\n",
    "import numpy as np\n",
    "import pandas as pd\n",
    "from PIL import Image\n",
    "from pathlib import Path\n",
    "from pprint import pprint\n",
    "from tqdm.auto import tqdm\n",
    "import matplotlib.pyplot as plt\n",
    "from collections import defaultdict\n",
    "# Custom classes\n",
    "from classes.FileContainer import FileContainer\n",
    "from classes.SpikeGLX import SpikeGLX\n",
    "# Custom functions\n",
    "from spike_glx import read_SGLX\n",
    "\n",
    "# pandas options\n",
    "pd.options.mode.chained_assignment = None  # default='warn'\n",
    "pd.set_option('display.max_columns', None)\n",
    "\n",
    "ROOT_DIR = '/Users/rahimhashim/My Drive/Columbia/Salzman/Monkey-Training/tasks'\n",
    "file_container_obj = FileContainer(ROOT_DIR)"
   ]
  },
  {
   "cell_type": "markdown",
   "metadata": {},
   "source": [
    "***\n",
    "## Convert MonkeyLogic File to Pandas\n",
    "In order to run the behavior files through the preprocessing pipeline, we'll need to convert the MonkeyLogic file (either `.bhv2` or `.h5`) into a Session object which contains the following relevant attributes:\n",
    "> * `session_obj.df`: pandas DataFrame with columns:\n",
    ">   * `'photodiode'`: photodiode signal\n",
    ">   * `'Gen2'`: WM sync signal\n",
    ">   * `'Gen3'`: WM save signal\n",
    "> * `'session_obj.video_path'`: directory of WM videos\n",
    "> * `session_obj.monkey`: monkey name\n",
    "> * `session_obj.date`: date of session (<YYMMDD>)"
   ]
  },
  {
   "cell_type": "code",
   "execution_count": 2,
   "metadata": {},
   "outputs": [
    {
     "name": "stdout",
     "output_type": "stream",
     "text": [
      "Parsing .h5 file...\n",
      "Total number of trials: 1302\n",
      "  Choice task detected.\n",
      "Parsing session data...\n"
     ]
    },
    {
     "data": {
      "application/vnd.jupyter.widget-view+json": {
       "model_id": "c69dc73e5b934fb1a90aaedb1659923a",
       "version_major": 2,
       "version_minor": 0
      },
      "text/plain": [
       "  0%|          | 0/1302 [00:00<?, ?it/s]"
      ]
     },
     "metadata": {},
     "output_type": "display_data"
    },
    {
     "name": "stdout",
     "output_type": "stream",
     "text": [
      "  Complete.\n",
      "    Correct trials: 397\n",
      "    Errored trials: 905\n",
      "    Session Length:  02:07:49\n",
      "Creating Session Objects...\n",
      "Lick threshold: 3.77 mV\n",
      "  Min Values (X,Y): (-23.451,-32.045)\n",
      "  Max Values (X,Y): (126.459,144.854)\n",
      "  Reward Mag: 1.0\n",
      "    Reward Drops: 14.0\n",
      "    Reward Frequency: 1.0\n",
      "    Reward Length: 200.0\n",
      "  Reward Mag: 0.5\n",
      "    Reward Drops: 6.0\n",
      "    Reward Frequency: 1.0\n",
      "    Reward Length: 150.0\n",
      "  Reward Mag: 0.0\n",
      "    Reward Drops: 0.0\n",
      "    Reward Frequency: 0.0\n",
      "    Reward Length: 0.0\n",
      "  Airpuff Mag: 1.0\n",
      "    Airpuff Magnitude: 1.0\n",
      "    Airpuff Frequency: 1.0\n",
      "  Airpuff Mag: 0.5\n",
      "    Airpuff Magnitude: 0.5\n",
      "    Airpuff Frequency: 1.0\n",
      "  Airpuff Mag: 0.0\n",
      "    Airpuff Magnitude: 0.0\n",
      "    Airpuff Frequency: 0.0\n",
      "Adding additional fields to session_df DataFrame...\n"
     ]
    },
    {
     "name": "stderr",
     "output_type": "stream",
     "text": [
      "/Users/rahimhashim/Desktop/Monkey-Emotions/config/add_fields.py:335: RuntimeWarning: Mean of empty slice\n",
      "  lick_avg = np.nanmean(lick_in_window)\n"
     ]
    },
    {
     "name": "stdout",
     "output_type": "stream",
     "text": [
      "  ['cam_frames'] field added.\n",
      "  20 new fields added.\n",
      "\t0 rows removed due to nan valence.\n"
     ]
    }
   ],
   "source": [
    "session_obj, error_dict, behavioral_code_dict = file_container_obj.ml_to_pd()"
   ]
  },
  {
   "cell_type": "code",
   "execution_count": 13,
   "metadata": {},
   "outputs": [
    {
     "name": "stdout",
     "output_type": "stream",
     "text": [
      "Adding additional fields to session_df DataFrame...\n",
      "   No reward magnitude column found, skipping valence assignment...\n",
      "   No fractal column found, skipping fractal count...\n",
      "   No blink window column found, skipping blink window...\n",
      "   No pupil column found, skipping pupil pre-CS...\n",
      "   No lick window column found, skipping lick window...\n",
      "   No blink window column found, skipping blink window...\n",
      "   No lick duration column found, skipping lick duration...\n",
      "   No blink duration column found, skipping blink duration...\n",
      "   No blink duration column found, skipping blink duration...\n",
      "   No eye distance column found, skipping eye distance...\n",
      "  ['cam_frames'] field added.\n",
      "  20 new fields added.\n",
      "   No behavioral analysis performed...\n"
     ]
    }
   ],
   "source": [
    "from config.add_fields import add_fields\n",
    "# save is lick\n",
    "# lick is photodiode\n",
    "# photodiode is save\n",
    "if session_obj.monkey == 'gandalf':\n",
    "  session_obj.df['cam_save_2'] = session_obj.df['cam_save'].copy()\n",
    "  session_obj.df['cam_sync_2'] = session_obj.df['cam_sync'].copy()\n",
    "  session_obj.df['cam_sync'] = session_obj.df['lick'].copy() # correct\n",
    "  session_obj.df['cam_save'] = session_obj.df['cam_sync_2'].copy()\n",
    "  session_obj.df['lick'] = session_obj.df['cam_save_2'].copy()\n",
    "  del session_obj.df['cam_sync_2']\n",
    "  del session_obj.df['cam_save_2']\n",
    "\n",
    "  session_obj.df, session_obj = \\\n",
    "  add_fields(session_obj.df, session_obj, behavioral_code_dict)"
   ]
  },
  {
   "cell_type": "code",
   "execution_count": 3,
   "metadata": {},
   "outputs": [
    {
     "data": {
      "text/html": [
       "<div>\n",
       "<style scoped>\n",
       "    .dataframe tbody tr th:only-of-type {\n",
       "        vertical-align: middle;\n",
       "    }\n",
       "\n",
       "    .dataframe tbody tr th {\n",
       "        vertical-align: top;\n",
       "    }\n",
       "\n",
       "    .dataframe thead th {\n",
       "        text-align: right;\n",
       "    }\n",
       "</style>\n",
       "<table border=\"1\" class=\"dataframe\">\n",
       "  <thead>\n",
       "    <tr style=\"text-align: right;\">\n",
       "      <th></th>\n",
       "      <th>date</th>\n",
       "      <th>session_num</th>\n",
       "      <th>subject</th>\n",
       "      <th>trial_num</th>\n",
       "      <th>block</th>\n",
       "      <th>condition</th>\n",
       "      <th>correct</th>\n",
       "      <th>error</th>\n",
       "      <th>error_type</th>\n",
       "      <th>behavioral_code_markers</th>\n",
       "      <th>behavioral_code_times</th>\n",
       "      <th>stimuli_name_1</th>\n",
       "      <th>x_1_pos</th>\n",
       "      <th>y_1_pos</th>\n",
       "      <th>stimuli_name_2</th>\n",
       "      <th>x_2_pos</th>\n",
       "      <th>y_2_pos</th>\n",
       "      <th>reward_1</th>\n",
       "      <th>reward_prob_1</th>\n",
       "      <th>reward_mag_1</th>\n",
       "      <th>reward_drops_1</th>\n",
       "      <th>reward_length_1</th>\n",
       "      <th>reward_2</th>\n",
       "      <th>reward_prob_2</th>\n",
       "      <th>reward_mag_2</th>\n",
       "      <th>airpuff_1</th>\n",
       "      <th>airpuff_prob_1</th>\n",
       "      <th>airpuff_mag_1</th>\n",
       "      <th>airpuff_2</th>\n",
       "      <th>airpuff_prob_2</th>\n",
       "      <th>airpuff_mag_2</th>\n",
       "      <th>eye_x</th>\n",
       "      <th>eye_y</th>\n",
       "      <th>eye_pupil</th>\n",
       "      <th>lick</th>\n",
       "      <th>cam_sync</th>\n",
       "      <th>cam_save</th>\n",
       "      <th>photodiode</th>\n",
       "      <th>trial_start</th>\n",
       "      <th>trial_end</th>\n",
       "      <th>trial_datetime_start</th>\n",
       "      <th>trial_datetime_end</th>\n",
       "      <th>reinforcement_trial</th>\n",
       "      <th>choice_trial</th>\n",
       "      <th>stim_chosen</th>\n",
       "      <th>stim_2_chosen</th>\n",
       "      <th>fractal_chosen</th>\n",
       "      <th>reward</th>\n",
       "      <th>reward_mag</th>\n",
       "      <th>airpuff</th>\n",
       "      <th>airpuff_mag</th>\n",
       "      <th>Start Trial</th>\n",
       "      <th>Fixation On</th>\n",
       "      <th>Fixation Success</th>\n",
       "      <th>CS On</th>\n",
       "      <th>Fixation Off</th>\n",
       "      <th>Trace Start</th>\n",
       "      <th>Trace End</th>\n",
       "      <th>Outcome Start</th>\n",
       "      <th>Reward Trigger</th>\n",
       "      <th>Airpuff Trigger</th>\n",
       "      <th>Outcome</th>\n",
       "      <th>Outcome End</th>\n",
       "      <th>Manual Reward</th>\n",
       "      <th>End Trial</th>\n",
       "      <th>valence</th>\n",
       "      <th>valence_1</th>\n",
       "      <th>valence_2</th>\n",
       "      <th>valence_not_chosen</th>\n",
       "      <th>lick_raster</th>\n",
       "      <th>DEM_raster</th>\n",
       "      <th>trial_bins</th>\n",
       "      <th>trial_in_block</th>\n",
       "      <th>fractal_count_in_block</th>\n",
       "      <th>lick_count_window</th>\n",
       "      <th>blink_count_window</th>\n",
       "      <th>pupil_data_window</th>\n",
       "      <th>pupil_raster</th>\n",
       "      <th>pupil_raster_window</th>\n",
       "      <th>pupil_raster_window_avg</th>\n",
       "      <th>pupil_binary_zero</th>\n",
       "      <th>blink_onset</th>\n",
       "      <th>blink_offset</th>\n",
       "      <th>blink_raster</th>\n",
       "      <th>blink_raster_window</th>\n",
       "      <th>blink_duration_window</th>\n",
       "      <th>pupil_pre_CS</th>\n",
       "      <th>lick_in_window</th>\n",
       "      <th>blink_in_window</th>\n",
       "      <th>lick_duration</th>\n",
       "      <th>blink_duration_sig</th>\n",
       "      <th>blink_duration_offscreen</th>\n",
       "      <th>eye_distance</th>\n",
       "      <th>cam_frames</th>\n",
       "    </tr>\n",
       "  </thead>\n",
       "  <tbody>\n",
       "    <tr>\n",
       "      <th>0</th>\n",
       "      <td>231027</td>\n",
       "      <td>0</td>\n",
       "      <td>bear</td>\n",
       "      <td>1</td>\n",
       "      <td>1</td>\n",
       "      <td>1</td>\n",
       "      <td>1</td>\n",
       "      <td>0</td>\n",
       "      <td>0</td>\n",
       "      <td>[9, 100, 101, 102, 103, 104, 105, 106, 107, 10...</td>\n",
       "      <td>[2.6901999954134226, 2676.7485000018496, 2754....</td>\n",
       "      <td>_fractal_A</td>\n",
       "      <td>[0.0]</td>\n",
       "      <td>[0.0]</td>\n",
       "      <td>_fractal_A</td>\n",
       "      <td>[0.0]</td>\n",
       "      <td>[0.0]</td>\n",
       "      <td>1</td>\n",
       "      <td>1.0</td>\n",
       "      <td>1.0</td>\n",
       "      <td>14.0</td>\n",
       "      <td>200.0</td>\n",
       "      <td>0</td>\n",
       "      <td>0.0</td>\n",
       "      <td>0.0</td>\n",
       "      <td>0</td>\n",
       "      <td>0.0</td>\n",
       "      <td>0.0</td>\n",
       "      <td>0</td>\n",
       "      <td>0.0</td>\n",
       "      <td>0.0</td>\n",
       "      <td>[22.61000353812322, 22.590349220872383, 22.590...</td>\n",
       "      <td>[-18.56289860449572, -18.567244091062015, -18....</td>\n",
       "      <td>[5486.0, 5477.0, 5477.0, 5459.0, 5459.0, 5462....</td>\n",
       "      <td>[0.0072398264486985275, 0.0019785908320277823,...</td>\n",
       "      <td>[3.334972059612135, 3.3182018419314097, 3.3205...</td>\n",
       "      <td>[0.00987044425008303, 0.0023074180586142023, -...</td>\n",
       "      <td>[0.6346420705533787, 0.6547005256828635, 0.625...</td>\n",
       "      <td>0.0000</td>\n",
       "      <td>8752.0000</td>\n",
       "      <td>2023-10-27 15:16:44.218</td>\n",
       "      <td>2023-10-27 15:16:52.970</td>\n",
       "      <td>1</td>\n",
       "      <td>0</td>\n",
       "      <td>1</td>\n",
       "      <td>0</td>\n",
       "      <td>_fractal_A</td>\n",
       "      <td>1</td>\n",
       "      <td>1.0</td>\n",
       "      <td>0</td>\n",
       "      <td>0.0</td>\n",
       "      <td>2676</td>\n",
       "      <td>2754</td>\n",
       "      <td>3477</td>\n",
       "      <td>3506</td>\n",
       "      <td>3756</td>\n",
       "      <td>4140</td>\n",
       "      <td>5628</td>\n",
       "      <td>5631</td>\n",
       "      <td>5649</td>\n",
       "      <td>&lt;NA&gt;</td>\n",
       "      <td>5660</td>\n",
       "      <td>8649</td>\n",
       "      <td>&lt;NA&gt;</td>\n",
       "      <td>8700</td>\n",
       "      <td>1.0</td>\n",
       "      <td>1.0</td>\n",
       "      <td>0.0</td>\n",
       "      <td>0.0</td>\n",
       "      <td>[0, 0, 0, 0, 0, 0, 0, 0, 0, 0, 0, 0, 0, 0, 0, ...</td>\n",
       "      <td>[1, 1, 1, 1, 1, 1, 1, 1, 1, 1, 1, 1, 1, 1, 1, ...</td>\n",
       "      <td>8751</td>\n",
       "      <td>0</td>\n",
       "      <td>1</td>\n",
       "      <td>[1, 1, 1, 1, 1, 1, 1, 1, 1, 1, 1, 1, 1, 1, 1, ...</td>\n",
       "      <td>[0, 0, 0, 0, 0, 0, 0, 0, 0, 0, 0, 1, 1, 1, 1, ...</td>\n",
       "      <td>[5117.0, 5143.0, 5143.0, 5151.0, 5151.0, 5190....</td>\n",
       "      <td>[0, 0, 0, 0, 0, 0, 0, 0, 0, 0, 0, 0, 0, 0, 0, ...</td>\n",
       "      <td>[0, 0, 0, 0, 0, 0, 0, 0, 0, 0, 0, 0, 0, 0, 0, ...</td>\n",
       "      <td>0.000000</td>\n",
       "      <td>0.0</td>\n",
       "      <td>[8165]</td>\n",
       "      <td>[8466]</td>\n",
       "      <td>[0.0, 0.0, 0.0, 0.0, 0.0, 0.0, 0.0, 0.0, 0.0, ...</td>\n",
       "      <td>[0.0, 0.0, 0.0, 0.0, 0.0, 0.0, 0.0, 0.0, 0.0, ...</td>\n",
       "      <td>0.000000</td>\n",
       "      <td>[5203.0, 5193.0, 5193.0, 5177.0, 5177.0, 5176....</td>\n",
       "      <td>1.0</td>\n",
       "      <td>1.0</td>\n",
       "      <td>0.777</td>\n",
       "      <td>0.000000</td>\n",
       "      <td>0.500000</td>\n",
       "      <td>338.435917</td>\n",
       "      <td>[1215, 1224, 1232, 1240, 1249, 1257, 1265, 127...</td>\n",
       "    </tr>\n",
       "    <tr>\n",
       "      <th>1</th>\n",
       "      <td>231027</td>\n",
       "      <td>0</td>\n",
       "      <td>bear</td>\n",
       "      <td>2</td>\n",
       "      <td>1</td>\n",
       "      <td>1</td>\n",
       "      <td>1</td>\n",
       "      <td>0</td>\n",
       "      <td>0</td>\n",
       "      <td>[9, 100, 101, 102, 103, 104, 105, 106, 107, 10...</td>\n",
       "      <td>[2725.8577999891713, 2818.8220000010915, 2852....</td>\n",
       "      <td>_fractal_C</td>\n",
       "      <td>[0.0]</td>\n",
       "      <td>[0.0]</td>\n",
       "      <td>_fractal_C</td>\n",
       "      <td>[0.0]</td>\n",
       "      <td>[0.0]</td>\n",
       "      <td>0</td>\n",
       "      <td>0.0</td>\n",
       "      <td>0.0</td>\n",
       "      <td>0.0</td>\n",
       "      <td>0.0</td>\n",
       "      <td>0</td>\n",
       "      <td>0.0</td>\n",
       "      <td>0.0</td>\n",
       "      <td>1</td>\n",
       "      <td>1.0</td>\n",
       "      <td>0.5</td>\n",
       "      <td>0</td>\n",
       "      <td>0.0</td>\n",
       "      <td>0.0</td>\n",
       "      <td>[0.5357004592214435, 0.5357004592214435, 0.535...</td>\n",
       "      <td>[10.336470027981239, 10.336470027981239, 10.33...</td>\n",
       "      <td>[5918.0, 5918.0, 5914.0, 5914.0, 5914.0, 5915....</td>\n",
       "      <td>[4.98601934383543, 4.993582412306133, 4.992267...</td>\n",
       "      <td>[3.3178730141385713, 0.000992109151831927, 0.0...</td>\n",
       "      <td>[3.3040622470061054, 3.3191883253110372, 3.319...</td>\n",
       "      <td>[2.1932828745994963, 2.0624096129011673, 2.248...</td>\n",
       "      <td>8751.4187</td>\n",
       "      <td>15346.4187</td>\n",
       "      <td>2023-10-27 15:16:52.970</td>\n",
       "      <td>2023-10-27 15:16:59.565</td>\n",
       "      <td>1</td>\n",
       "      <td>0</td>\n",
       "      <td>3</td>\n",
       "      <td>0</td>\n",
       "      <td>_fractal_C</td>\n",
       "      <td>0</td>\n",
       "      <td>0.0</td>\n",
       "      <td>1</td>\n",
       "      <td>0.5</td>\n",
       "      <td>2818</td>\n",
       "      <td>2852</td>\n",
       "      <td>3371</td>\n",
       "      <td>3386</td>\n",
       "      <td>3636</td>\n",
       "      <td>4020</td>\n",
       "      <td>5506</td>\n",
       "      <td>5519</td>\n",
       "      <td>&lt;NA&gt;</td>\n",
       "      <td>5539</td>\n",
       "      <td>&lt;NA&gt;</td>\n",
       "      <td>6526</td>\n",
       "      <td>&lt;NA&gt;</td>\n",
       "      <td>6578</td>\n",
       "      <td>-0.5</td>\n",
       "      <td>-0.5</td>\n",
       "      <td>0.0</td>\n",
       "      <td>0.0</td>\n",
       "      <td>[1, 1, 1, 1, 1, 1, 1, 1, 1, 1, 1, 1, 1, 1, 1, ...</td>\n",
       "      <td>[1, 1, 1, 1, 1, 1, 1, 1, 1, 1, 1, 1, 1, 1, 1, ...</td>\n",
       "      <td>6594</td>\n",
       "      <td>1</td>\n",
       "      <td>1</td>\n",
       "      <td>[1, 1, 1, 1, 1, 1, 1, 1, 1, 1, 1, 1, 1, 1, 1, ...</td>\n",
       "      <td>[0, 0, 0, 0, 0, 0, 0, 0, 0, 0, 0, 0, 0, 0, 0, ...</td>\n",
       "      <td>[5357.0, 5357.0, 5357.0, 5357.0, 5357.0, 5357....</td>\n",
       "      <td>[0, 0, 0, 0, 0, 0, 0, 0, 0, 0, 0, 0, 0, 0, 0, ...</td>\n",
       "      <td>[0, 0, 0, 0, 0, 0, 0, 0, 0, 0, 0, 0, 0, 0, 0, ...</td>\n",
       "      <td>0.027692</td>\n",
       "      <td>1.0</td>\n",
       "      <td>[4292, 5790]</td>\n",
       "      <td>[4429, 5917]</td>\n",
       "      <td>[0.0, 0.0, 0.0, 0.0, 0.0, 0.0, 0.0, 0.0, 0.0, ...</td>\n",
       "      <td>[0.0, 0.0, 0.0, 0.0, 0.0, 0.0, 0.0, 0.0, 0.0, ...</td>\n",
       "      <td>0.105385</td>\n",
       "      <td>[5846.0, 5847.0, 5847.0, 5847.0, 5847.0, 5848....</td>\n",
       "      <td>1.0</td>\n",
       "      <td>1.0</td>\n",
       "      <td>0.871</td>\n",
       "      <td>0.027692</td>\n",
       "      <td>0.526923</td>\n",
       "      <td>159.500765</td>\n",
       "      <td>[5, 13, 22, 30, 38, 47, 55, 63, 72, 80, 88, 97...</td>\n",
       "    </tr>\n",
       "    <tr>\n",
       "      <th>2</th>\n",
       "      <td>231027</td>\n",
       "      <td>0</td>\n",
       "      <td>bear</td>\n",
       "      <td>3</td>\n",
       "      <td>1</td>\n",
       "      <td>1</td>\n",
       "      <td>0</td>\n",
       "      <td>1</td>\n",
       "      <td>2</td>\n",
       "      <td>[9, 100, 101, 113, 18]</td>\n",
       "      <td>[1498.7202000047546, 1600.3911000007065, 1633....</td>\n",
       "      <td>_fractal_B</td>\n",
       "      <td>[0.0]</td>\n",
       "      <td>[0.0]</td>\n",
       "      <td>_fractal_B</td>\n",
       "      <td>[0.0]</td>\n",
       "      <td>[0.0]</td>\n",
       "      <td>1</td>\n",
       "      <td>1.0</td>\n",
       "      <td>0.5</td>\n",
       "      <td>0.0</td>\n",
       "      <td>0.0</td>\n",
       "      <td>0</td>\n",
       "      <td>0.0</td>\n",
       "      <td>0.0</td>\n",
       "      <td>0</td>\n",
       "      <td>0.0</td>\n",
       "      <td>0.0</td>\n",
       "      <td>0</td>\n",
       "      <td>0.0</td>\n",
       "      <td>0.0</td>\n",
       "      <td>[4.271316342673247, 4.2415662011025725, 4.2415...</td>\n",
       "      <td>[-11.247373139930488, -11.271164176402367, -11...</td>\n",
       "      <td>[6985.0, 6985.0, 6985.0, 6985.0, 6985.0, 6985....</td>\n",
       "      <td>[-0.004269126486965286, -0.0006520269832846759...</td>\n",
       "      <td>[0.0019785908320277823, 0.0019785908320277823,...</td>\n",
       "      <td>[3.330697298196643, 3.3208324642807847, 3.3195...</td>\n",
       "      <td>[1.3498410750458896, 1.11012609452508, 0.86383...</td>\n",
       "      <td>15346.0166</td>\n",
       "      <td>18633.0166</td>\n",
       "      <td>2023-10-27 15:16:59.563</td>\n",
       "      <td>2023-10-27 15:17:02.850</td>\n",
       "      <td>1</td>\n",
       "      <td>0</td>\n",
       "      <td>2</td>\n",
       "      <td>0</td>\n",
       "      <td>_error</td>\n",
       "      <td>0</td>\n",
       "      <td>0.0</td>\n",
       "      <td>0</td>\n",
       "      <td>0.0</td>\n",
       "      <td>1600</td>\n",
       "      <td>1633</td>\n",
       "      <td>&lt;NA&gt;</td>\n",
       "      <td>&lt;NA&gt;</td>\n",
       "      <td>&lt;NA&gt;</td>\n",
       "      <td>&lt;NA&gt;</td>\n",
       "      <td>&lt;NA&gt;</td>\n",
       "      <td>&lt;NA&gt;</td>\n",
       "      <td>&lt;NA&gt;</td>\n",
       "      <td>&lt;NA&gt;</td>\n",
       "      <td>&lt;NA&gt;</td>\n",
       "      <td>&lt;NA&gt;</td>\n",
       "      <td>&lt;NA&gt;</td>\n",
       "      <td>3237</td>\n",
       "      <td>0.0</td>\n",
       "      <td>0.5</td>\n",
       "      <td>0.0</td>\n",
       "      <td>0.5</td>\n",
       "      <td>[0, 0, 0, 0, 0, 0, 0, 0, 0, 0, 0, 0, 0, 0, 0, ...</td>\n",
       "      <td>[1, 1, 1, 1, 1, 1, 1, 1, 1, 1, 1, 1, 1, 1, 1, ...</td>\n",
       "      <td>3288</td>\n",
       "      <td>2</td>\n",
       "      <td>0</td>\n",
       "      <td>NaN</td>\n",
       "      <td>NaN</td>\n",
       "      <td>NaN</td>\n",
       "      <td>[0, 0, 0, 0, 0, 0, 0, 0, 0, 0, 0, 0, 0, 0, 0, ...</td>\n",
       "      <td>NaN</td>\n",
       "      <td>NaN</td>\n",
       "      <td>NaN</td>\n",
       "      <td>[nan]</td>\n",
       "      <td>[nan]</td>\n",
       "      <td>[nan]</td>\n",
       "      <td>[nan]</td>\n",
       "      <td>NaN</td>\n",
       "      <td>NaN</td>\n",
       "      <td>NaN</td>\n",
       "      <td>NaN</td>\n",
       "      <td>NaN</td>\n",
       "      <td>NaN</td>\n",
       "      <td>NaN</td>\n",
       "      <td>NaN</td>\n",
       "      <td>[2, 10, 18, 27, 35, 43, 52, 60, 68, 77, 85, 93...</td>\n",
       "    </tr>\n",
       "    <tr>\n",
       "      <th>3</th>\n",
       "      <td>231027</td>\n",
       "      <td>0</td>\n",
       "      <td>bear</td>\n",
       "      <td>4</td>\n",
       "      <td>1</td>\n",
       "      <td>1</td>\n",
       "      <td>1</td>\n",
       "      <td>0</td>\n",
       "      <td>0</td>\n",
       "      <td>[9, 100, 101, 102, 103, 104, 105, 106, 107, 10...</td>\n",
       "      <td>[1466.1082999955397, 1568.79079999635, 1601.98...</td>\n",
       "      <td>_fractal_B</td>\n",
       "      <td>[0.0]</td>\n",
       "      <td>[0.0]</td>\n",
       "      <td>_fractal_B</td>\n",
       "      <td>[0.0]</td>\n",
       "      <td>[0.0]</td>\n",
       "      <td>1</td>\n",
       "      <td>1.0</td>\n",
       "      <td>0.5</td>\n",
       "      <td>6.0</td>\n",
       "      <td>150.0</td>\n",
       "      <td>0</td>\n",
       "      <td>0.0</td>\n",
       "      <td>0.0</td>\n",
       "      <td>0</td>\n",
       "      <td>0.0</td>\n",
       "      <td>0.0</td>\n",
       "      <td>0</td>\n",
       "      <td>0.0</td>\n",
       "      <td>0.0</td>\n",
       "      <td>[-3.796804573272821, -3.9278003630209772, -3.9...</td>\n",
       "      <td>[-0.8718407902519577, -0.8677197518386865, -0....</td>\n",
       "      <td>[5815.0, 5811.0, 5811.0, 5790.0, 5790.0, 5788....</td>\n",
       "      <td>[0.005924517546271019, 0.008555135349968657, 0...</td>\n",
       "      <td>[3.3353008874146304, 3.319517153104616, 0.0026...</td>\n",
       "      <td>[3.324449570030537, 3.342535099116731, 3.33102...</td>\n",
       "      <td>[2.169607308570673, 2.158756007640614, 2.04695...</td>\n",
       "      <td>18633.2204</td>\n",
       "      <td>25161.2204</td>\n",
       "      <td>2023-10-27 15:17:02.851</td>\n",
       "      <td>2023-10-27 15:17:09.379</td>\n",
       "      <td>1</td>\n",
       "      <td>0</td>\n",
       "      <td>2</td>\n",
       "      <td>0</td>\n",
       "      <td>_fractal_B</td>\n",
       "      <td>1</td>\n",
       "      <td>0.5</td>\n",
       "      <td>0</td>\n",
       "      <td>0.0</td>\n",
       "      <td>1568</td>\n",
       "      <td>1601</td>\n",
       "      <td>2320</td>\n",
       "      <td>2336</td>\n",
       "      <td>2586</td>\n",
       "      <td>2970</td>\n",
       "      <td>4457</td>\n",
       "      <td>4460</td>\n",
       "      <td>4470</td>\n",
       "      <td>&lt;NA&gt;</td>\n",
       "      <td>4472</td>\n",
       "      <td>6460</td>\n",
       "      <td>&lt;NA&gt;</td>\n",
       "      <td>6510</td>\n",
       "      <td>0.5</td>\n",
       "      <td>0.5</td>\n",
       "      <td>0.0</td>\n",
       "      <td>0.0</td>\n",
       "      <td>[0, 0, 0, 0, 0, 0, 0, 0, 0, 0, 0, 0, 0, 0, 0, ...</td>\n",
       "      <td>[0, 0, 0, 0, 0, 0, 0, 0, 0, 0, 0, 0, 0, 0, 0, ...</td>\n",
       "      <td>6527</td>\n",
       "      <td>3</td>\n",
       "      <td>1</td>\n",
       "      <td>[1, 1, 1, 1, 1, 1, 1, 1, 1, 1, 1, 1, 1, 1, 1, ...</td>\n",
       "      <td>[0, 0, 0, 0, 0, 0, 0, 0, 0, 0, 0, 0, 0, 0, 0, ...</td>\n",
       "      <td>[6111.0, 6111.0, 6111.0, 6104.0, 6104.0, 6104....</td>\n",
       "      <td>[0, 0, 0, 0, 0, 0, 0, 0, 0, 0, 0, 0, 0, 0, 0, ...</td>\n",
       "      <td>[0, 0, 0, 0, 0, 0, 0, 0, 0, 0, 0, 0, 0, 0, 0, ...</td>\n",
       "      <td>0.036154</td>\n",
       "      <td>1.0</td>\n",
       "      <td>[4397]</td>\n",
       "      <td>[4926]</td>\n",
       "      <td>[0.0, 0.0, 0.0, 0.0, 0.0, 0.0, 0.0, 0.0, 0.0, ...</td>\n",
       "      <td>[0.0, 0.0, 0.0, 0.0, 0.0, 0.0, 0.0, 0.0, 0.0, ...</td>\n",
       "      <td>0.046154</td>\n",
       "      <td>[5750.0, 5750.0, 5750.0, 5750.0, 5753.0, 5753....</td>\n",
       "      <td>1.0</td>\n",
       "      <td>1.0</td>\n",
       "      <td>0.927</td>\n",
       "      <td>0.036154</td>\n",
       "      <td>0.739231</td>\n",
       "      <td>158.232009</td>\n",
       "      <td>[6, 15, 23, 31, 40, 48, 56, 65, 73, 81, 90, 98...</td>\n",
       "    </tr>\n",
       "    <tr>\n",
       "      <th>4</th>\n",
       "      <td>231027</td>\n",
       "      <td>0</td>\n",
       "      <td>bear</td>\n",
       "      <td>5</td>\n",
       "      <td>1</td>\n",
       "      <td>1</td>\n",
       "      <td>1</td>\n",
       "      <td>0</td>\n",
       "      <td>0</td>\n",
       "      <td>[9, 100, 101, 102, 103, 104, 105, 106, 107, 10...</td>\n",
       "      <td>[1501.0908000112977, 1622.3096000030637, 1655....</td>\n",
       "      <td>_fractal_A</td>\n",
       "      <td>[0.0]</td>\n",
       "      <td>[0.0]</td>\n",
       "      <td>_fractal_A</td>\n",
       "      <td>[0.0]</td>\n",
       "      <td>[0.0]</td>\n",
       "      <td>1</td>\n",
       "      <td>1.0</td>\n",
       "      <td>1.0</td>\n",
       "      <td>14.0</td>\n",
       "      <td>200.0</td>\n",
       "      <td>0</td>\n",
       "      <td>0.0</td>\n",
       "      <td>0.0</td>\n",
       "      <td>0</td>\n",
       "      <td>0.0</td>\n",
       "      <td>0.0</td>\n",
       "      <td>0</td>\n",
       "      <td>0.0</td>\n",
       "      <td>0.0</td>\n",
       "      <td>[5.818553275142081, 5.818744910714425, 5.81874...</td>\n",
       "      <td>[-8.706456252913338, -8.696585997957701, -8.69...</td>\n",
       "      <td>[6321.0, 6321.0, 6321.0, 6322.0, 6322.0, 6322....</td>\n",
       "      <td>[4.989965292581963, 5.002131968169524, 4.98832...</td>\n",
       "      <td>[0.007897480899478157, 0.0049380358686898496, ...</td>\n",
       "      <td>[3.3126117694782966, 3.332670264999883, 3.3300...</td>\n",
       "      <td>[1.8720186358787099, 1.6997131786612407, 1.272...</td>\n",
       "      <td>25161.1076</td>\n",
       "      <td>32646.1076</td>\n",
       "      <td>2023-10-27 15:17:09.379</td>\n",
       "      <td>2023-10-27 15:17:16.864</td>\n",
       "      <td>1</td>\n",
       "      <td>0</td>\n",
       "      <td>1</td>\n",
       "      <td>0</td>\n",
       "      <td>_fractal_A</td>\n",
       "      <td>1</td>\n",
       "      <td>1.0</td>\n",
       "      <td>0</td>\n",
       "      <td>0.0</td>\n",
       "      <td>1622</td>\n",
       "      <td>1655</td>\n",
       "      <td>2274</td>\n",
       "      <td>2289</td>\n",
       "      <td>2540</td>\n",
       "      <td>2923</td>\n",
       "      <td>4410</td>\n",
       "      <td>4413</td>\n",
       "      <td>4424</td>\n",
       "      <td>&lt;NA&gt;</td>\n",
       "      <td>4426</td>\n",
       "      <td>7414</td>\n",
       "      <td>&lt;NA&gt;</td>\n",
       "      <td>7465</td>\n",
       "      <td>1.0</td>\n",
       "      <td>1.0</td>\n",
       "      <td>0.0</td>\n",
       "      <td>0.0</td>\n",
       "      <td>[1, 1, 1, 1, 1, 1, 1, 1, 1, 1, 1, 1, 1, 1, 1, ...</td>\n",
       "      <td>[0, 0, 0, 0, 0, 0, 0, 0, 0, 0, 0, 0, 0, 0, 0, ...</td>\n",
       "      <td>7485</td>\n",
       "      <td>4</td>\n",
       "      <td>2</td>\n",
       "      <td>[1, 1, 1, 1, 1, 1, 1, 1, 1, 1, 1, 1, 1, 1, 1, ...</td>\n",
       "      <td>[0, 0, 0, 0, 0, 0, 0, 0, 0, 0, 0, 0, 0, 0, 0, ...</td>\n",
       "      <td>[5564.0, 5553.0, 5553.0, 5553.0, 5553.0, 5553....</td>\n",
       "      <td>[0, 0, 0, 0, 0, 0, 0, 0, 0, 0, 0, 0, 0, 0, 0, ...</td>\n",
       "      <td>[0, 0, 0, 0, 0, 0, 0, 0, 0, 0, 0, 0, 0, 0, 0, ...</td>\n",
       "      <td>0.000000</td>\n",
       "      <td>0.0</td>\n",
       "      <td>[4578, 6978]</td>\n",
       "      <td>[4687, 7285]</td>\n",
       "      <td>[0.0, 0.0, 0.0, 0.0, 0.0, 0.0, 0.0, 0.0, 0.0, ...</td>\n",
       "      <td>[0.0, 0.0, 0.0, 0.0, 0.0, 0.0, 0.0, 0.0, 0.0, ...</td>\n",
       "      <td>0.000000</td>\n",
       "      <td>[5959.0, 5959.0, 5959.0, 5959.0, 5929.0, 5929....</td>\n",
       "      <td>1.0</td>\n",
       "      <td>1.0</td>\n",
       "      <td>0.751</td>\n",
       "      <td>0.000000</td>\n",
       "      <td>0.600000</td>\n",
       "      <td>130.343248</td>\n",
       "      <td>[3, 12, 20, 28, 37, 45, 53, 62, 70, 78, 87, 95...</td>\n",
       "    </tr>\n",
       "  </tbody>\n",
       "</table>\n",
       "</div>"
      ],
      "text/plain": [
       "     date  session_num subject  trial_num  block  condition  correct  error  \\\n",
       "0  231027            0    bear          1      1          1        1      0   \n",
       "1  231027            0    bear          2      1          1        1      0   \n",
       "2  231027            0    bear          3      1          1        0      1   \n",
       "3  231027            0    bear          4      1          1        1      0   \n",
       "4  231027            0    bear          5      1          1        1      0   \n",
       "\n",
       "   error_type                            behavioral_code_markers  \\\n",
       "0           0  [9, 100, 101, 102, 103, 104, 105, 106, 107, 10...   \n",
       "1           0  [9, 100, 101, 102, 103, 104, 105, 106, 107, 10...   \n",
       "2           2                             [9, 100, 101, 113, 18]   \n",
       "3           0  [9, 100, 101, 102, 103, 104, 105, 106, 107, 10...   \n",
       "4           0  [9, 100, 101, 102, 103, 104, 105, 106, 107, 10...   \n",
       "\n",
       "                               behavioral_code_times stimuli_name_1 x_1_pos  \\\n",
       "0  [2.6901999954134226, 2676.7485000018496, 2754....     _fractal_A   [0.0]   \n",
       "1  [2725.8577999891713, 2818.8220000010915, 2852....     _fractal_C   [0.0]   \n",
       "2  [1498.7202000047546, 1600.3911000007065, 1633....     _fractal_B   [0.0]   \n",
       "3  [1466.1082999955397, 1568.79079999635, 1601.98...     _fractal_B   [0.0]   \n",
       "4  [1501.0908000112977, 1622.3096000030637, 1655....     _fractal_A   [0.0]   \n",
       "\n",
       "  y_1_pos stimuli_name_2 x_2_pos y_2_pos  reward_1  reward_prob_1  \\\n",
       "0   [0.0]     _fractal_A   [0.0]   [0.0]         1            1.0   \n",
       "1   [0.0]     _fractal_C   [0.0]   [0.0]         0            0.0   \n",
       "2   [0.0]     _fractal_B   [0.0]   [0.0]         1            1.0   \n",
       "3   [0.0]     _fractal_B   [0.0]   [0.0]         1            1.0   \n",
       "4   [0.0]     _fractal_A   [0.0]   [0.0]         1            1.0   \n",
       "\n",
       "   reward_mag_1  reward_drops_1  reward_length_1  reward_2  reward_prob_2  \\\n",
       "0           1.0            14.0            200.0         0            0.0   \n",
       "1           0.0             0.0              0.0         0            0.0   \n",
       "2           0.5             0.0              0.0         0            0.0   \n",
       "3           0.5             6.0            150.0         0            0.0   \n",
       "4           1.0            14.0            200.0         0            0.0   \n",
       "\n",
       "   reward_mag_2  airpuff_1  airpuff_prob_1  airpuff_mag_1  airpuff_2  \\\n",
       "0           0.0          0             0.0            0.0          0   \n",
       "1           0.0          1             1.0            0.5          0   \n",
       "2           0.0          0             0.0            0.0          0   \n",
       "3           0.0          0             0.0            0.0          0   \n",
       "4           0.0          0             0.0            0.0          0   \n",
       "\n",
       "   airpuff_prob_2  airpuff_mag_2  \\\n",
       "0             0.0            0.0   \n",
       "1             0.0            0.0   \n",
       "2             0.0            0.0   \n",
       "3             0.0            0.0   \n",
       "4             0.0            0.0   \n",
       "\n",
       "                                               eye_x  \\\n",
       "0  [22.61000353812322, 22.590349220872383, 22.590...   \n",
       "1  [0.5357004592214435, 0.5357004592214435, 0.535...   \n",
       "2  [4.271316342673247, 4.2415662011025725, 4.2415...   \n",
       "3  [-3.796804573272821, -3.9278003630209772, -3.9...   \n",
       "4  [5.818553275142081, 5.818744910714425, 5.81874...   \n",
       "\n",
       "                                               eye_y  \\\n",
       "0  [-18.56289860449572, -18.567244091062015, -18....   \n",
       "1  [10.336470027981239, 10.336470027981239, 10.33...   \n",
       "2  [-11.247373139930488, -11.271164176402367, -11...   \n",
       "3  [-0.8718407902519577, -0.8677197518386865, -0....   \n",
       "4  [-8.706456252913338, -8.696585997957701, -8.69...   \n",
       "\n",
       "                                           eye_pupil  \\\n",
       "0  [5486.0, 5477.0, 5477.0, 5459.0, 5459.0, 5462....   \n",
       "1  [5918.0, 5918.0, 5914.0, 5914.0, 5914.0, 5915....   \n",
       "2  [6985.0, 6985.0, 6985.0, 6985.0, 6985.0, 6985....   \n",
       "3  [5815.0, 5811.0, 5811.0, 5790.0, 5790.0, 5788....   \n",
       "4  [6321.0, 6321.0, 6321.0, 6322.0, 6322.0, 6322....   \n",
       "\n",
       "                                                lick  \\\n",
       "0  [0.0072398264486985275, 0.0019785908320277823,...   \n",
       "1  [4.98601934383543, 4.993582412306133, 4.992267...   \n",
       "2  [-0.004269126486965286, -0.0006520269832846759...   \n",
       "3  [0.005924517546271019, 0.008555135349968657, 0...   \n",
       "4  [4.989965292581963, 5.002131968169524, 4.98832...   \n",
       "\n",
       "                                            cam_sync  \\\n",
       "0  [3.334972059612135, 3.3182018419314097, 3.3205...   \n",
       "1  [3.3178730141385713, 0.000992109151831927, 0.0...   \n",
       "2  [0.0019785908320277823, 0.0019785908320277823,...   \n",
       "3  [3.3353008874146304, 3.319517153104616, 0.0026...   \n",
       "4  [0.007897480899478157, 0.0049380358686898496, ...   \n",
       "\n",
       "                                            cam_save  \\\n",
       "0  [0.00987044425008303, 0.0023074180586142023, -...   \n",
       "1  [3.3040622470061054, 3.3191883253110372, 3.319...   \n",
       "2  [3.330697298196643, 3.3208324642807847, 3.3195...   \n",
       "3  [3.324449570030537, 3.342535099116731, 3.33102...   \n",
       "4  [3.3126117694782966, 3.332670264999883, 3.3300...   \n",
       "\n",
       "                                          photodiode  trial_start   trial_end  \\\n",
       "0  [0.6346420705533787, 0.6547005256828635, 0.625...       0.0000   8752.0000   \n",
       "1  [2.1932828745994963, 2.0624096129011673, 2.248...    8751.4187  15346.4187   \n",
       "2  [1.3498410750458896, 1.11012609452508, 0.86383...   15346.0166  18633.0166   \n",
       "3  [2.169607308570673, 2.158756007640614, 2.04695...   18633.2204  25161.2204   \n",
       "4  [1.8720186358787099, 1.6997131786612407, 1.272...   25161.1076  32646.1076   \n",
       "\n",
       "     trial_datetime_start      trial_datetime_end  reinforcement_trial  \\\n",
       "0 2023-10-27 15:16:44.218 2023-10-27 15:16:52.970                    1   \n",
       "1 2023-10-27 15:16:52.970 2023-10-27 15:16:59.565                    1   \n",
       "2 2023-10-27 15:16:59.563 2023-10-27 15:17:02.850                    1   \n",
       "3 2023-10-27 15:17:02.851 2023-10-27 15:17:09.379                    1   \n",
       "4 2023-10-27 15:17:09.379 2023-10-27 15:17:16.864                    1   \n",
       "\n",
       "   choice_trial  stim_chosen  stim_2_chosen fractal_chosen  reward  \\\n",
       "0             0            1              0     _fractal_A       1   \n",
       "1             0            3              0     _fractal_C       0   \n",
       "2             0            2              0         _error       0   \n",
       "3             0            2              0     _fractal_B       1   \n",
       "4             0            1              0     _fractal_A       1   \n",
       "\n",
       "   reward_mag  airpuff  airpuff_mag  Start Trial  Fixation On  \\\n",
       "0         1.0        0          0.0         2676         2754   \n",
       "1         0.0        1          0.5         2818         2852   \n",
       "2         0.0        0          0.0         1600         1633   \n",
       "3         0.5        0          0.0         1568         1601   \n",
       "4         1.0        0          0.0         1622         1655   \n",
       "\n",
       "  Fixation Success CS On Fixation Off Trace Start Trace End Outcome Start  \\\n",
       "0             3477  3506         3756        4140      5628          5631   \n",
       "1             3371  3386         3636        4020      5506          5519   \n",
       "2             <NA>  <NA>         <NA>        <NA>      <NA>          <NA>   \n",
       "3             2320  2336         2586        2970      4457          4460   \n",
       "4             2274  2289         2540        2923      4410          4413   \n",
       "\n",
       "  Reward Trigger Airpuff Trigger Outcome Outcome End Manual Reward  End Trial  \\\n",
       "0           5649            <NA>    5660        8649          <NA>       8700   \n",
       "1           <NA>            5539    <NA>        6526          <NA>       6578   \n",
       "2           <NA>            <NA>    <NA>        <NA>          <NA>       3237   \n",
       "3           4470            <NA>    4472        6460          <NA>       6510   \n",
       "4           4424            <NA>    4426        7414          <NA>       7465   \n",
       "\n",
       "   valence  valence_1  valence_2  valence_not_chosen  \\\n",
       "0      1.0        1.0        0.0                 0.0   \n",
       "1     -0.5       -0.5        0.0                 0.0   \n",
       "2      0.0        0.5        0.0                 0.5   \n",
       "3      0.5        0.5        0.0                 0.0   \n",
       "4      1.0        1.0        0.0                 0.0   \n",
       "\n",
       "                                         lick_raster  \\\n",
       "0  [0, 0, 0, 0, 0, 0, 0, 0, 0, 0, 0, 0, 0, 0, 0, ...   \n",
       "1  [1, 1, 1, 1, 1, 1, 1, 1, 1, 1, 1, 1, 1, 1, 1, ...   \n",
       "2  [0, 0, 0, 0, 0, 0, 0, 0, 0, 0, 0, 0, 0, 0, 0, ...   \n",
       "3  [0, 0, 0, 0, 0, 0, 0, 0, 0, 0, 0, 0, 0, 0, 0, ...   \n",
       "4  [1, 1, 1, 1, 1, 1, 1, 1, 1, 1, 1, 1, 1, 1, 1, ...   \n",
       "\n",
       "                                          DEM_raster  trial_bins  \\\n",
       "0  [1, 1, 1, 1, 1, 1, 1, 1, 1, 1, 1, 1, 1, 1, 1, ...        8751   \n",
       "1  [1, 1, 1, 1, 1, 1, 1, 1, 1, 1, 1, 1, 1, 1, 1, ...        6594   \n",
       "2  [1, 1, 1, 1, 1, 1, 1, 1, 1, 1, 1, 1, 1, 1, 1, ...        3288   \n",
       "3  [0, 0, 0, 0, 0, 0, 0, 0, 0, 0, 0, 0, 0, 0, 0, ...        6527   \n",
       "4  [0, 0, 0, 0, 0, 0, 0, 0, 0, 0, 0, 0, 0, 0, 0, ...        7485   \n",
       "\n",
       "   trial_in_block  fractal_count_in_block  \\\n",
       "0               0                       1   \n",
       "1               1                       1   \n",
       "2               2                       0   \n",
       "3               3                       1   \n",
       "4               4                       2   \n",
       "\n",
       "                                   lick_count_window  \\\n",
       "0  [1, 1, 1, 1, 1, 1, 1, 1, 1, 1, 1, 1, 1, 1, 1, ...   \n",
       "1  [1, 1, 1, 1, 1, 1, 1, 1, 1, 1, 1, 1, 1, 1, 1, ...   \n",
       "2                                                NaN   \n",
       "3  [1, 1, 1, 1, 1, 1, 1, 1, 1, 1, 1, 1, 1, 1, 1, ...   \n",
       "4  [1, 1, 1, 1, 1, 1, 1, 1, 1, 1, 1, 1, 1, 1, 1, ...   \n",
       "\n",
       "                                  blink_count_window  \\\n",
       "0  [0, 0, 0, 0, 0, 0, 0, 0, 0, 0, 0, 1, 1, 1, 1, ...   \n",
       "1  [0, 0, 0, 0, 0, 0, 0, 0, 0, 0, 0, 0, 0, 0, 0, ...   \n",
       "2                                                NaN   \n",
       "3  [0, 0, 0, 0, 0, 0, 0, 0, 0, 0, 0, 0, 0, 0, 0, ...   \n",
       "4  [0, 0, 0, 0, 0, 0, 0, 0, 0, 0, 0, 0, 0, 0, 0, ...   \n",
       "\n",
       "                                   pupil_data_window  \\\n",
       "0  [5117.0, 5143.0, 5143.0, 5151.0, 5151.0, 5190....   \n",
       "1  [5357.0, 5357.0, 5357.0, 5357.0, 5357.0, 5357....   \n",
       "2                                                NaN   \n",
       "3  [6111.0, 6111.0, 6111.0, 6104.0, 6104.0, 6104....   \n",
       "4  [5564.0, 5553.0, 5553.0, 5553.0, 5553.0, 5553....   \n",
       "\n",
       "                                        pupil_raster  \\\n",
       "0  [0, 0, 0, 0, 0, 0, 0, 0, 0, 0, 0, 0, 0, 0, 0, ...   \n",
       "1  [0, 0, 0, 0, 0, 0, 0, 0, 0, 0, 0, 0, 0, 0, 0, ...   \n",
       "2  [0, 0, 0, 0, 0, 0, 0, 0, 0, 0, 0, 0, 0, 0, 0, ...   \n",
       "3  [0, 0, 0, 0, 0, 0, 0, 0, 0, 0, 0, 0, 0, 0, 0, ...   \n",
       "4  [0, 0, 0, 0, 0, 0, 0, 0, 0, 0, 0, 0, 0, 0, 0, ...   \n",
       "\n",
       "                                 pupil_raster_window  pupil_raster_window_avg  \\\n",
       "0  [0, 0, 0, 0, 0, 0, 0, 0, 0, 0, 0, 0, 0, 0, 0, ...                 0.000000   \n",
       "1  [0, 0, 0, 0, 0, 0, 0, 0, 0, 0, 0, 0, 0, 0, 0, ...                 0.027692   \n",
       "2                                                NaN                      NaN   \n",
       "3  [0, 0, 0, 0, 0, 0, 0, 0, 0, 0, 0, 0, 0, 0, 0, ...                 0.036154   \n",
       "4  [0, 0, 0, 0, 0, 0, 0, 0, 0, 0, 0, 0, 0, 0, 0, ...                 0.000000   \n",
       "\n",
       "   pupil_binary_zero   blink_onset  blink_offset  \\\n",
       "0                0.0        [8165]        [8466]   \n",
       "1                1.0  [4292, 5790]  [4429, 5917]   \n",
       "2                NaN         [nan]         [nan]   \n",
       "3                1.0        [4397]        [4926]   \n",
       "4                0.0  [4578, 6978]  [4687, 7285]   \n",
       "\n",
       "                                        blink_raster  \\\n",
       "0  [0.0, 0.0, 0.0, 0.0, 0.0, 0.0, 0.0, 0.0, 0.0, ...   \n",
       "1  [0.0, 0.0, 0.0, 0.0, 0.0, 0.0, 0.0, 0.0, 0.0, ...   \n",
       "2                                              [nan]   \n",
       "3  [0.0, 0.0, 0.0, 0.0, 0.0, 0.0, 0.0, 0.0, 0.0, ...   \n",
       "4  [0.0, 0.0, 0.0, 0.0, 0.0, 0.0, 0.0, 0.0, 0.0, ...   \n",
       "\n",
       "                                 blink_raster_window  blink_duration_window  \\\n",
       "0  [0.0, 0.0, 0.0, 0.0, 0.0, 0.0, 0.0, 0.0, 0.0, ...               0.000000   \n",
       "1  [0.0, 0.0, 0.0, 0.0, 0.0, 0.0, 0.0, 0.0, 0.0, ...               0.105385   \n",
       "2                                              [nan]                    NaN   \n",
       "3  [0.0, 0.0, 0.0, 0.0, 0.0, 0.0, 0.0, 0.0, 0.0, ...               0.046154   \n",
       "4  [0.0, 0.0, 0.0, 0.0, 0.0, 0.0, 0.0, 0.0, 0.0, ...               0.000000   \n",
       "\n",
       "                                        pupil_pre_CS  lick_in_window  \\\n",
       "0  [5203.0, 5193.0, 5193.0, 5177.0, 5177.0, 5176....             1.0   \n",
       "1  [5846.0, 5847.0, 5847.0, 5847.0, 5847.0, 5848....             1.0   \n",
       "2                                                NaN             NaN   \n",
       "3  [5750.0, 5750.0, 5750.0, 5750.0, 5753.0, 5753....             1.0   \n",
       "4  [5959.0, 5959.0, 5959.0, 5959.0, 5929.0, 5929....             1.0   \n",
       "\n",
       "   blink_in_window  lick_duration  blink_duration_sig  \\\n",
       "0              1.0          0.777            0.000000   \n",
       "1              1.0          0.871            0.027692   \n",
       "2              NaN            NaN                 NaN   \n",
       "3              1.0          0.927            0.036154   \n",
       "4              1.0          0.751            0.000000   \n",
       "\n",
       "   blink_duration_offscreen  eye_distance  \\\n",
       "0                  0.500000    338.435917   \n",
       "1                  0.526923    159.500765   \n",
       "2                       NaN           NaN   \n",
       "3                  0.739231    158.232009   \n",
       "4                  0.600000    130.343248   \n",
       "\n",
       "                                          cam_frames  \n",
       "0  [1215, 1224, 1232, 1240, 1249, 1257, 1265, 127...  \n",
       "1  [5, 13, 22, 30, 38, 47, 55, 63, 72, 80, 88, 97...  \n",
       "2  [2, 10, 18, 27, 35, 43, 52, 60, 68, 77, 85, 93...  \n",
       "3  [6, 15, 23, 31, 40, 48, 56, 65, 73, 81, 90, 98...  \n",
       "4  [3, 12, 20, 28, 37, 45, 53, 62, 70, 78, 87, 95...  "
      ]
     },
     "execution_count": 3,
     "metadata": {},
     "output_type": "execute_result"
    }
   ],
   "source": [
    "session_obj.df.head()"
   ]
  },
  {
   "cell_type": "code",
   "execution_count": 70,
   "metadata": {},
   "outputs": [
    {
     "name": "stdout",
     "output_type": "stream",
     "text": [
      "Saving .pickle files to: /Users/rahimhashim/Library/CloudStorage/GoogleDrive-rh2898@columbia.edu/.shortcut-targets-by-id/1weRx7ojG3amil91WgRMeTUVxse__Rsyt/rhAirpuff\n",
      "  Pickling 231004_gandalf_UnityVR_behave.pkl\n",
      "  Total time to pickle: 0.5141 sec\n"
     ]
    }
   ],
   "source": [
    "import pickle\n",
    "from config.h5_helper import pickler\n",
    "\n",
    "pickler(True, os.path.dirname(file_container_obj.ml_file_path), \n",
    "        session_obj.df, 'gandalf', 'UnityVR', error_dict, behavioral_code_dict)"
   ]
  },
  {
   "cell_type": "markdown",
   "metadata": {},
   "source": [
    "*** \n",
    "## Process SpikeGLX\n",
    "\n",
    "Assign `signal_dict` channels manually based on how you set up the PXI board. `epochs` are the MonkeyLogic eventcodes within `session_obj.df` distinguishing epochs in the task that you will reference later to break up videos based on."
   ]
  },
  {
   "cell_type": "code",
   "execution_count": 4,
   "metadata": {},
   "outputs": [
    {
     "name": "stdout",
     "output_type": "stream",
     "text": [
      "Epochs:\n",
      "  Start Trial\n",
      "  Fixation On\n",
      "  CS On\n",
      "  Trace Start\n",
      "  Outcome Start\n",
      "  End Trial\n"
     ]
    }
   ],
   "source": [
    "# Manually assign the signal channel numbers\n",
    "# from how you set them up on the NI PXIe-6341 board\n",
    "signal_dict = {\n",
    "  0: 'cam_sync',\n",
    "  1: 'cam_save',\n",
    "  2: 'lick',\n",
    "  3: 'photodiode',\n",
    "  4: 'empty'\n",
    "}\n",
    "\n",
    "# Manually assign the time epochs you care about\n",
    "# which have to exist as rows in session_df\n",
    "if session_obj.monkey in ['aragorn', 'bear']:\n",
    "  epochs = ['Start Trial', 'Fixation On', 'CS On',\t\n",
    "          'Trace Start', 'Outcome Start', 'End Trial']\n",
    "else:\n",
    "  epochs = ['Start trial', 'End trial']\n",
    "print('Epochs:')\n",
    "# Print each epoch on its own line\n",
    "for epoch in epochs:\n",
    "  print(f'  {epoch}')"
   ]
  },
  {
   "cell_type": "markdown",
   "metadata": {},
   "source": [
    "Always view the data you are working with before doing any type of analysis. Calling `read_SGLX` prompts a file selection tool (choose the .bin file that **must have the .meta file in the same directory as is the default for SpikeGLX output**), and `plot_channels_raw` allows for visualization of a window specified by [tStart - tEnd] **seconds**. "
   ]
  },
  {
   "cell_type": "code",
   "execution_count": 18,
   "metadata": {},
   "outputs": [
    {
     "name": "stdout",
     "output_type": "stream",
     "text": [
      "Reading SGLX meta and bin files...\n",
      "Select binary file\n",
      "Bin File Path: /Users/rahimhashim/Library/CloudStorage/GoogleDrive-rh2898@columbia.edu/.shortcut-targets-by-id/1LV5133wM_1EY8V6-UnKI9D7kmJwfyE52/data_Probabilistic_Reward_Airpuff_Choice/aragorn_20230929_g0/aragorn_20230929_g0_t0.nidq.bin\n",
      "File Name: C:/Users/Penfield/Desktop/Rahim/SpikeGLX/aragorn_20230929_g0/aragorn_20230929_g0_t0.nidq.bin\n",
      "  Number of Channels: 5\n",
      "  File Created: 2023-09-29T15:33:39\n",
      "  File Length: 6926.260915188918\n",
      "nChan: 5, nFileSamp: 146742816\n",
      " Complete.\n",
      "Plotting channels...\n",
      "  SpikeGLX object missing attributes (meta, chan_dict, signal_dict)\n",
      "  Using input arguments instead.\n",
      "Sample Rate:  21186.440678\n",
      " Channel [0]: cam_sync\n",
      "  Max Val: 3342.285\n",
      "  Min Val: -5.341\n",
      " Channel [1]: cam_save\n",
      "  Max Val: 3347.168\n",
      "  Min Val: 3281.86\n",
      " Channel [2]: lick\n",
      "  Max Val: 4999.847\n",
      "  Min Val: -11.597\n",
      " Channel [3]: photodiode\n",
      "  Max Val: 2234.192\n",
      "  Min Val: 589.447\n",
      " Channel [4]: empty\n",
      "  Max Val: 0.0\n",
      "  Min Val: 0.0\n"
     ]
    },
    {
     "data": {
      "image/png": "[encoded data removed]",
      "text/plain": [
       "<Figure size 1000x200 with 1 Axes>"
      ]
     },
     "metadata": {},
     "output_type": "display_data"
    }
   ],
   "source": [
    "from spike_glx.read_SGLX import read_SGLX, plot_channels_raw\n",
    "\n",
    "print('Reading SGLX meta and bin files...')\n",
    "meta, chan_dict = read_SGLX()\n",
    "print(' Complete.')\n",
    "print('Plotting channels...')\n",
    "plot_channels_raw(None, meta, chan_dict, signal_dict, tStart=0, tEnd=20)\n"
   ]
  },
  {
   "cell_type": "code",
   "execution_count": 15,
   "metadata": {},
   "outputs": [
    {
     "data": {
      "image/png": "[encoded data removed]",
      "text/plain": [
       "<Figure size 1500x300 with 1 Axes>"
      ]
     },
     "metadata": {},
     "output_type": "display_data"
    }
   ],
   "source": [
    "from spike_glx.read_SGLX import plot_analog_ML\n",
    "# epochs = ['Start Trial', 'Fixation On', 'CS On',\t\n",
    "#           'Trace Start', 'Outcome Start', 'End Trial']\n",
    "plot_analog_ML(session_obj.df, epochs, trial_num=1)"
   ]
  },
  {
   "cell_type": "code",
   "execution_count": 5,
   "metadata": {},
   "outputs": [
    {
     "name": "stdout",
     "output_type": "stream",
     "text": [
      "Created new session folder: /Users/rahimhashim/Desktop/Monkey-Emotions/_data/bear_231027\n",
      "Pickled spikeglx_obj not found for: bear_231027\n",
      "Generating new spikeglx_obj...\n",
      "  Looking for SpikeGLX binary and meta file in:\n",
      "  /Users/rahimhashim/Library/CloudStorage/OneDrive-Personal/data/bear_231027\n",
      "Looking for binary file in /Users/rahimhashim/Library/CloudStorage/OneDrive-Personal/data/bear_231027\n",
      "Found folder: bear_20231027_g0\n",
      "  Found metadata file: bear_20231027_g0_t0.nidq.meta\n",
      "  Found binary file: bear_20231027_g0_t0.nidq.bin\n",
      "File Name: C:/Users/Penfield/Desktop/Rahim/SpikeGLX/bear_20231027_g0/bear_20231027_g0_t0.nidq.bin\n",
      "  Number of Channels: 5\n",
      "  File Created: 2023-10-27T15:16:35\n",
      "  File Length: 8375.474\n",
      "nChan: 5, nFileSamp: 16750948\n",
      "Number of Channels:  5\n",
      "Sample Rate:  2000.0\n",
      " Channel [0]: cam_sync\n",
      "  Max Val: 3344.116\n",
      "  Min Val: -10.071\n",
      " Channel [1]: cam_save\n",
      "  Max Val: 3361.816\n",
      "  Min Val: -19.073\n",
      " Channel [2]: lick\n",
      "  Max Val: 4999.847\n",
      "  Min Val: -37.994\n",
      " Channel [3]: photodiode\n",
      "  Max Val: 2276.306\n",
      "  Min Val: 395.203\n",
      " Channel [4]: empty\n",
      "  Max Val: 0.0\n",
      "  Min Val: 0.0\n",
      "Number of frames in SpikeGLX Cam TTL: 920186\n"
     ]
    },
    {
     "data": {
      "image/png": "[encoded data removed]",
      "text/plain": [
       "<Figure size 2000x500 with 2 Axes>"
      ]
     },
     "metadata": {},
     "output_type": "display_data"
    },
    {
     "name": "stdout",
     "output_type": "stream",
     "text": [
      "Video Folders:\n",
      "['231027_Bear_151644', '231027_Bear_170329', '231027_Bear_152543']\n",
      "Number of cameras: 1\n",
      "  Camera: e3v8360 | Number of videos: 2\n",
      "Camera: e3v8360\n",
      "  Video: e3v8360-20231027T151644-153645.avi | Frames: 144122 | FPS: 120.0 | Length (minutes): 20.02  \n",
      "  Video: e3v8360-20231027T171647-172432.avi | Frames: 55803  | FPS: 120.0 | Length (minutes): 7.75   \n",
      "  Total Frames: 199925\n",
      "SpikeGLX object created.\n",
      "Aligning photodiode signals from ML and SpikeGLX...\n",
      "Epochs\n",
      "  Start Trial\n",
      "  Fixation On\n",
      "  CS On\n",
      "  Trace Start\n",
      "  Outcome Start\n",
      "  End Trial\n"
     ]
    },
    {
     "data": {
      "application/vnd.jupyter.widget-view+json": {
       "model_id": "4dda8935b9bf43e39c07306540d4aa57",
       "version_major": 2,
       "version_minor": 0
      },
      "text/plain": [
       "Trial Number:   0%|          | 0/1302 [00:00<?, ?it/s]"
      ]
     },
     "metadata": {},
     "output_type": "display_data"
    },
    {
     "name": "stdout",
     "output_type": "stream",
     "text": [
      "Trial 1 | Correlation: 0.998 | SGLX High Time: 20250 | ML High Time: 1213\n",
      "Trial 2 | Correlation: 0.998 | SGLX High Time: 5206 | ML High Time: 2803\n",
      "Trial 3 | Correlation: 0.994 | SGLX High Time: 2768 | ML High Time: 1584\n",
      "Trial 4 | Correlation: 0.997 | SGLX High Time: 2706 | ML High Time: 1553\n",
      "Trial 5 | Correlation: 0.994 | SGLX High Time: 2772 | ML High Time: 1586\n",
      "Trial 6 | Correlation: 0.997 | SGLX High Time: 5038 | ML High Time: 2718\n",
      "Trial 7 | Correlation: 0.995 | SGLX High Time: 2712 | ML High Time: 1557\n",
      "Trial 8 | Correlation: 0.992 | SGLX High Time: 2710 | ML High Time: 1555\n",
      "Trial 9 | Correlation: 0.993 | SGLX High Time: 2775 | ML High Time: 1587\n",
      "Trial 10 | Correlation: 0.993 | SGLX High Time: 2709 | ML High Time: 1554\n",
      "Trial 11 | Correlation: 0.996 | SGLX High Time: 2739 | ML High Time: 1570\n",
      "Trial 12 | Correlation: 0.996 | SGLX High Time: 2674 | ML High Time: 1536\n",
      "Trial 13 | Correlation: 0.998 | SGLX High Time: 2707 | ML High Time: 1554\n",
      "Trial 14 | Correlation: 0.997 | SGLX High Time: 2739 | ML High Time: 1570\n",
      "Trial 15 | Correlation: 0.995 | SGLX High Time: 5103 | ML High Time: 2751\n",
      "Trial 16 | Correlation: 0.993 | SGLX High Time: 2673 | ML High Time: 1536\n",
      "Trial 17 | Correlation: 0.997 | SGLX High Time: 2705 | ML High Time: 1553\n",
      "Trial 18 | Correlation: 0.996 | SGLX High Time: 2674 | ML High Time: 1537\n",
      "Trial 19 | Correlation: 0.999 | SGLX High Time: 2739 | ML High Time: 1569\n",
      "Trial 20 | Correlation: 0.992 | SGLX High Time: 2706 | ML High Time: 1553\n",
      "Trial 21 | Correlation: 0.997 | SGLX High Time: 2674 | ML High Time: 1537\n",
      "Trial 22 | Correlation: 0.996 | SGLX High Time: 2674 | ML High Time: 1537\n",
      "Trial 23 | Correlation: 0.995 | SGLX High Time: 2673 | ML High Time: 1536\n",
      "Trial 24 | Correlation: 0.997 | SGLX High Time: 2739 | ML High Time: 1570\n",
      "Trial 25 | Correlation: 0.995 | SGLX High Time: 2714 | ML High Time: 1557\n",
      "Trial 26 | Correlation: 0.997 | SGLX High Time: 2748 | ML High Time: 1574\n",
      "Trial 27 | Correlation: 1.0 | SGLX High Time: 2709 | ML High Time: 1554\n",
      "Trial 28 | Correlation: 0.992 | SGLX High Time: 2712 | ML High Time: 1556\n",
      "Trial 29 | Correlation: 0.997 | SGLX High Time: 2672 | ML High Time: 1536\n",
      "Trial 30 | Correlation: 0.995 | SGLX High Time: 2673 | ML High Time: 1537\n",
      "Trial 31 | Correlation: 0.995 | SGLX High Time: 2711 | ML High Time: 1555\n",
      "Trial 32 | Correlation: 0.993 | SGLX High Time: 2711 | ML High Time: 1555\n",
      "Trial 33 | Correlation: 0.996 | SGLX High Time: 2672 | ML High Time: 1537\n",
      "Trial 34 | Correlation: 0.997 | SGLX High Time: 2713 | ML High Time: 1556\n",
      "Trial 35 | Correlation: 0.995 | SGLX High Time: 5097 | ML High Time: 2748\n",
      "Trial 36 | Correlation: 0.996 | SGLX High Time: 5096 | ML High Time: 2748\n",
      "Trial 37 | Correlation: 0.999 | SGLX High Time: 2773 | ML High Time: 1587\n",
      "Trial 38 | Correlation: 0.995 | SGLX High Time: 2714 | ML High Time: 1557\n",
      "Trial 39 | Correlation: 0.998 | SGLX High Time: 2712 | ML High Time: 1556\n",
      "Trial 40 | Correlation: 0.999 | SGLX High Time: 2712 | ML High Time: 1555\n",
      "Trial 41 | Correlation: 0.993 | SGLX High Time: 2711 | ML High Time: 1556\n",
      "Trial 42 | Correlation: 0.997 | SGLX High Time: 2673 | ML High Time: 1536\n",
      "Trial 43 | Correlation: 0.992 | SGLX High Time: 2673 | ML High Time: 1537\n",
      "Trial 44 | Correlation: 0.997 | SGLX High Time: 2674 | ML High Time: 1537\n",
      "Trial 45 | Correlation: 0.992 | SGLX High Time: 2673 | ML High Time: 1537\n",
      "Trial 46 | Correlation: 0.993 | SGLX High Time: 2674 | ML High Time: 1536\n",
      "Trial 47 | Correlation: 0.999 | SGLX High Time: 2673 | ML High Time: 1537\n",
      "Trial 48 | Correlation: 0.993 | SGLX High Time: 2673 | ML High Time: 1537\n",
      "Trial 49 | Correlation: 0.998 | SGLX High Time: 2673 | ML High Time: 1536\n",
      "Trial 50 | Correlation: 0.999 | SGLX High Time: 2673 | ML High Time: 1536\n",
      "Trial 51 | Correlation: 0.994 | SGLX High Time: 2673 | ML High Time: 1537\n",
      "Trial 52 | Correlation: 0.993 | SGLX High Time: 2674 | ML High Time: 1536\n",
      "Trial 53 | Correlation: 0.996 | SGLX High Time: 2673 | ML High Time: 1537\n",
      "Trial 54 | Correlation: 0.997 | SGLX High Time: 2673 | ML High Time: 1537\n",
      "Trial 55 | Correlation: 0.999 | SGLX High Time: 2675 | ML High Time: 1537\n",
      "Trial 56 | Correlation: 0.993 | SGLX High Time: 2673 | ML High Time: 1537\n",
      "Trial 57 | Correlation: 0.994 | SGLX High Time: 2674 | ML High Time: 1536\n",
      "Trial 58 | Correlation: 0.998 | SGLX High Time: 2672 | ML High Time: 1536\n",
      "Trial 59 | Correlation: 0.992 | SGLX High Time: 2672 | ML High Time: 1536\n",
      "Trial 60 | Correlation: 0.999 | SGLX High Time: 2673 | ML High Time: 1537\n",
      "Trial 61 | Correlation: 0.996 | SGLX High Time: 2673 | ML High Time: 1536\n",
      "Trial 62 | Correlation: 0.997 | SGLX High Time: 2673 | ML High Time: 1537\n",
      "Trial 63 | Correlation: 0.995 | SGLX High Time: 2674 | ML High Time: 1537\n",
      "Trial 64 | Correlation: 0.993 | SGLX High Time: 2674 | ML High Time: 1537\n",
      "Trial 65 | Correlation: 0.999 | SGLX High Time: 2674 | ML High Time: 1537\n",
      "Trial 66 | Correlation: 0.995 | SGLX High Time: 2674 | ML High Time: 1537\n",
      "Trial 67 | Correlation: 0.995 | SGLX High Time: 5102 | ML High Time: 2751\n",
      "Trial 68 | Correlation: 0.995 | SGLX High Time: 2674 | ML High Time: 1537\n",
      "Trial 69 | Correlation: 0.999 | SGLX High Time: 2673 | ML High Time: 1536\n",
      "Trial 70 | Correlation: 0.997 | SGLX High Time: 2673 | ML High Time: 1536\n",
      "Trial 71 | Correlation: 0.992 | SGLX High Time: 2672 | ML High Time: 1536\n",
      "Trial 72 | Correlation: 0.992 | SGLX High Time: 2672 | ML High Time: 1537\n",
      "Trial 73 | Correlation: 0.993 | SGLX High Time: 2674 | ML High Time: 1536\n",
      "Trial 74 | Correlation: 0.997 | SGLX High Time: 2672 | ML High Time: 1536\n",
      "Trial 75 | Correlation: 0.996 | SGLX High Time: 2706 | ML High Time: 1553\n",
      "Trial 76 | Correlation: 0.993 | SGLX High Time: 2672 | ML High Time: 1536\n",
      "Trial 77 | Correlation: 0.997 | SGLX High Time: 2673 | ML High Time: 1537\n",
      "Trial 78 | Correlation: 0.992 | SGLX High Time: 2715 | ML High Time: 1557\n",
      "Trial 79 | Correlation: 0.999 | SGLX High Time: 2674 | ML High Time: 1537\n",
      "Trial 80 | Correlation: 0.998 | SGLX High Time: 2713 | ML High Time: 1556\n",
      "Trial 81 | Correlation: 0.998 | SGLX High Time: 2738 | ML High Time: 1570\n",
      "Trial 82 | Correlation: 0.995 | SGLX High Time: 2674 | ML High Time: 1537\n",
      "Trial 83 | Correlation: 0.994 | SGLX High Time: 2753 | ML High Time: 1576\n",
      "Trial 84 | Correlation: 0.997 | SGLX High Time: 2673 | ML High Time: 1536\n",
      "Trial 85 | Correlation: 0.993 | SGLX High Time: 2673 | ML High Time: 1537\n",
      "Trial 86 | Correlation: 0.992 | SGLX High Time: 2673 | ML High Time: 1536\n",
      "Trial 87 | Correlation: 0.999 | SGLX High Time: 2672 | ML High Time: 1536\n",
      "Trial 88 | Correlation: 0.992 | SGLX High Time: 2673 | ML High Time: 1537\n",
      "Trial 89 | Correlation: 0.997 | SGLX High Time: 2674 | ML High Time: 1537\n",
      "Trial 90 | Correlation: 0.995 | SGLX High Time: 2674 | ML High Time: 1537\n",
      "Trial 91 | Correlation: 0.993 | SGLX High Time: 2674 | ML High Time: 1537\n",
      "Trial 92 | Correlation: 0.998 | SGLX High Time: 2675 | ML High Time: 1537\n",
      "Trial 93 | Correlation: 0.991 | SGLX High Time: 2671 | ML High Time: 1536\n",
      "Trial 94 | Correlation: 0.992 | SGLX High Time: 2674 | ML High Time: 1536\n",
      "Trial 95 | Correlation: 0.999 | SGLX High Time: 2672 | ML High Time: 1536\n",
      "Trial 96 | Correlation: 0.992 | SGLX High Time: 2671 | ML High Time: 1536\n",
      "Trial 97 | Correlation: 0.999 | SGLX High Time: 2674 | ML High Time: 1537\n",
      "Trial 98 | Correlation: 0.997 | SGLX High Time: 2673 | ML High Time: 1536\n",
      "Trial 99 | Correlation: 0.993 | SGLX High Time: 2672 | ML High Time: 1536\n",
      "Trial 100 | Correlation: 0.999 | SGLX High Time: 2672 | ML High Time: 1536\n",
      "Trial 101 | Correlation: 0.993 | SGLX High Time: 2672 | ML High Time: 1536\n",
      "Trial 102 | Correlation: 0.993 | SGLX High Time: 2673 | ML High Time: 1536\n",
      "Trial 103 | Correlation: 0.996 | SGLX High Time: 2673 | ML High Time: 1537\n",
      "Trial 104 | Correlation: 0.997 | SGLX High Time: 2673 | ML High Time: 1537\n",
      "Trial 105 | Correlation: 0.999 | SGLX High Time: 2675 | ML High Time: 1537\n",
      "Trial 106 | Correlation: 0.992 | SGLX High Time: 2672 | ML High Time: 1536\n",
      "Trial 107 | Correlation: 0.998 | SGLX High Time: 2673 | ML High Time: 1537\n",
      "Trial 108 | Correlation: 0.995 | SGLX High Time: 2674 | ML High Time: 1537\n",
      "Trial 109 | Correlation: 0.999 | SGLX High Time: 5143 | ML High Time: 2771\n",
      "Trial 110 | Correlation: 0.995 | SGLX High Time: 2673 | ML High Time: 1536\n",
      "Trial 111 | Correlation: 0.998 | SGLX High Time: 2673 | ML High Time: 1537\n",
      "Trial 112 | Correlation: 0.995 | SGLX High Time: 2714 | ML High Time: 1557\n",
      "Trial 113 | Correlation: 0.993 | SGLX High Time: 2755 | ML High Time: 1577\n",
      "Trial 114 | Correlation: 0.994 | SGLX High Time: 2711 | ML High Time: 1555\n",
      "Trial 115 | Correlation: 0.997 | SGLX High Time: 2710 | ML High Time: 1555\n",
      "Trial 116 | Correlation: 0.996 | SGLX High Time: 2672 | ML High Time: 1536\n",
      "Trial 117 | Correlation: 0.993 | SGLX High Time: 2672 | ML High Time: 1536\n",
      "Trial 118 | Correlation: 0.992 | SGLX High Time: 2672 | ML High Time: 1537\n",
      "Trial 119 | Correlation: 0.992 | SGLX High Time: 2675 | ML High Time: 1537\n",
      "Trial 120 | Correlation: 0.999 | SGLX High Time: 2674 | ML High Time: 1537\n",
      "Trial 121 | Correlation: 0.994 | SGLX High Time: 2674 | ML High Time: 1537\n",
      "Trial 122 | Correlation: 0.999 | SGLX High Time: 5143 | ML High Time: 2771\n",
      "Trial 123 | Correlation: 0.994 | SGLX High Time: 2673 | ML High Time: 1536\n",
      "Trial 124 | Correlation: 0.999 | SGLX High Time: 2671 | ML High Time: 1536\n",
      "Trial 125 | Correlation: 0.992 | SGLX High Time: 2673 | ML High Time: 1537\n",
      "Trial 126 | Correlation: 0.999 | SGLX High Time: 2674 | ML High Time: 1537\n",
      "Trial 127 | Correlation: 0.998 | SGLX High Time: 2673 | ML High Time: 1536\n",
      "Trial 128 | Correlation: 0.992 | SGLX High Time: 2666 | ML High Time: 1533\n",
      "Trial 129 | Correlation: 0.999 | SGLX High Time: 2674 | ML High Time: 1537\n",
      "Trial 130 | Correlation: 0.997 | SGLX High Time: 2673 | ML High Time: 1536\n",
      "Trial 131 | Correlation: 0.996 | SGLX High Time: 2673 | ML High Time: 1537\n",
      "Trial 132 | Correlation: 0.997 | SGLX High Time: 2674 | ML High Time: 1537\n",
      "Trial 133 | Correlation: 0.993 | SGLX High Time: 2675 | ML High Time: 1537\n",
      "Trial 134 | Correlation: 0.999 | SGLX High Time: 2673 | ML High Time: 1537\n",
      "Trial 135 | Correlation: 0.999 | SGLX High Time: 2674 | ML High Time: 1536\n",
      "Trial 136 | Correlation: 0.993 | SGLX High Time: 2671 | ML High Time: 1536\n",
      "Trial 137 | Correlation: 0.997 | SGLX High Time: 2673 | ML High Time: 1536\n",
      "Trial 138 | Correlation: 0.995 | SGLX High Time: 2672 | ML High Time: 1536\n",
      "Trial 139 | Correlation: 0.998 | SGLX High Time: 2672 | ML High Time: 1537\n",
      "Trial 140 | Correlation: 0.999 | SGLX High Time: 2674 | ML High Time: 1536\n",
      "Trial 141 | Correlation: 0.994 | SGLX High Time: 2673 | ML High Time: 1537\n",
      "Trial 142 | Correlation: 0.995 | SGLX High Time: 2674 | ML High Time: 1537\n",
      "Trial 143 | Correlation: 0.995 | SGLX High Time: 5061 | ML High Time: 2730\n",
      "Trial 144 | Correlation: 0.997 | SGLX High Time: 2710 | ML High Time: 1555\n",
      "Trial 145 | Correlation: 0.997 | SGLX High Time: 2740 | ML High Time: 1570\n",
      "Trial 146 | Correlation: 0.997 | SGLX High Time: 2710 | ML High Time: 1555\n",
      "Trial 147 | Correlation: 0.992 | SGLX High Time: 2713 | ML High Time: 1557\n",
      "Trial 148 | Correlation: 0.995 | SGLX High Time: 2674 | ML High Time: 1536\n",
      "Trial 149 | Correlation: 0.994 | SGLX High Time: 2712 | ML High Time: 1557\n",
      "Trial 150 | Correlation: 0.999 | SGLX High Time: 2714 | ML High Time: 1556\n",
      "Trial 151 | Correlation: 0.993 | SGLX High Time: 2672 | ML High Time: 1536\n",
      "Trial 152 | Correlation: 0.997 | SGLX High Time: 2674 | ML High Time: 1537\n",
      "Trial 153 | Correlation: 0.996 | SGLX High Time: 5076 | ML High Time: 2738\n",
      "Trial 154 | Correlation: 1.0 | SGLX High Time: 2714 | ML High Time: 1557\n",
      "Trial 155 | Correlation: 0.995 | SGLX High Time: 2708 | ML High Time: 1554\n",
      "Trial 156 | Correlation: 0.999 | SGLX High Time: 2738 | ML High Time: 1569\n",
      "Trial 157 | Correlation: 0.994 | SGLX High Time: 2674 | ML High Time: 1537\n",
      "Trial 158 | Correlation: 0.999 | SGLX High Time: 5109 | ML High Time: 2754\n",
      "Trial 159 | Correlation: 0.995 | SGLX High Time: 2673 | ML High Time: 1537\n",
      "Trial 160 | Correlation: 0.993 | SGLX High Time: 2710 | ML High Time: 1555\n",
      "Trial 161 | Correlation: 0.998 | SGLX High Time: 2714 | ML High Time: 1557\n",
      "Trial 162 | Correlation: 0.995 | SGLX High Time: 2713 | ML High Time: 1556\n",
      "Trial 163 | Correlation: 0.997 | SGLX High Time: 2713 | ML High Time: 1556\n",
      "Trial 164 | Correlation: 0.999 | SGLX High Time: 5009 | ML High Time: 2705\n",
      "Trial 165 | Correlation: 0.995 | SGLX High Time: 2712 | ML High Time: 1556\n",
      "Trial 166 | Correlation: 0.992 | SGLX High Time: 2714 | ML High Time: 1557\n",
      "Trial 167 | Correlation: 0.999 | SGLX High Time: 2740 | ML High Time: 1570\n",
      "Trial 168 | Correlation: 0.995 | SGLX High Time: 2710 | ML High Time: 1555\n",
      "Trial 169 | Correlation: 0.998 | SGLX High Time: 2714 | ML High Time: 1557\n",
      "Trial 170 | Correlation: 0.997 | SGLX High Time: 2715 | ML High Time: 1557\n",
      "Trial 171 | Correlation: 0.998 | SGLX High Time: 2709 | ML High Time: 1555\n",
      "Trial 172 | Correlation: 0.997 | SGLX High Time: 2710 | ML High Time: 1554\n",
      "Trial 173 | Correlation: 0.993 | SGLX High Time: 2738 | ML High Time: 1569\n",
      "Trial 174 | Correlation: 0.992 | SGLX High Time: 2672 | ML High Time: 1537\n",
      "Trial 175 | Correlation: 0.996 | SGLX High Time: 2708 | ML High Time: 1554\n",
      "Trial 176 | Correlation: 0.999 | SGLX High Time: 2715 | ML High Time: 1557\n",
      "Trial 177 | Correlation: 0.996 | SGLX High Time: 2750 | ML High Time: 1575\n",
      "Trial 178 | Correlation: 0.999 | SGLX High Time: 5043 | ML High Time: 2721\n",
      "Trial 179 | Correlation: 0.997 | SGLX High Time: 2713 | ML High Time: 1557\n",
      "Trial 180 | Correlation: 0.995 | SGLX High Time: 2710 | ML High Time: 1555\n",
      "Trial 181 | Correlation: 0.998 | SGLX High Time: 2714 | ML High Time: 1557\n",
      "Trial 182 | Correlation: 1.0 | SGLX High Time: 2715 | ML High Time: 1557\n",
      "Trial 183 | Correlation: 0.995 | SGLX High Time: 2714 | ML High Time: 1557\n",
      "Trial 184 | Correlation: 0.999 | SGLX High Time: 2710 | ML High Time: 1555\n",
      "Trial 185 | Correlation: 0.995 | SGLX High Time: 2673 | ML High Time: 1537\n",
      "Trial 186 | Correlation: 0.997 | SGLX High Time: 2716 | ML High Time: 1558\n",
      "Trial 187 | Correlation: 0.994 | SGLX High Time: 2714 | ML High Time: 1557\n",
      "Trial 188 | Correlation: 0.999 | SGLX High Time: 2710 | ML High Time: 1555\n",
      "Trial 189 | Correlation: 0.998 | SGLX High Time: 2755 | ML High Time: 1577\n",
      "Trial 190 | Correlation: 0.995 | SGLX High Time: 2709 | ML High Time: 1554\n",
      "Trial 191 | Correlation: 0.995 | SGLX High Time: 2712 | ML High Time: 1556\n",
      "Trial 192 | Correlation: 0.998 | SGLX High Time: 2709 | ML High Time: 1555\n",
      "Trial 193 | Correlation: 0.995 | SGLX High Time: 2714 | ML High Time: 1557\n",
      "Trial 194 | Correlation: 0.996 | SGLX High Time: 2714 | ML High Time: 1556\n",
      "Trial 195 | Correlation: 0.999 | SGLX High Time: 2708 | ML High Time: 1554\n",
      "Trial 196 | Correlation: 0.999 | SGLX High Time: 2708 | ML High Time: 1555\n",
      "Trial 197 | Correlation: 0.995 | SGLX High Time: 2710 | ML High Time: 1555\n",
      "Trial 198 | Correlation: 0.994 | SGLX High Time: 2740 | ML High Time: 1569\n",
      "Trial 199 | Correlation: 0.996 | SGLX High Time: 5141 | ML High Time: 2771\n",
      "Trial 200 | Correlation: 0.995 | SGLX High Time: 2674 | ML High Time: 1537\n",
      "Trial 201 | Correlation: 0.993 | SGLX High Time: 2714 | ML High Time: 1557\n",
      "Trial 202 | Correlation: 0.997 | SGLX High Time: 2712 | ML High Time: 1555\n",
      "Trial 203 | Correlation: 0.996 | SGLX High Time: 2671 | ML High Time: 1536\n",
      "Trial 204 | Correlation: 0.992 | SGLX High Time: 2714 | ML High Time: 1557\n",
      "Trial 205 | Correlation: 0.995 | SGLX High Time: 2740 | ML High Time: 1570\n",
      "Trial 206 | Correlation: 0.998 | SGLX High Time: 5060 | ML High Time: 2730\n",
      "Trial 207 | Correlation: 0.997 | SGLX High Time: 2708 | ML High Time: 1554\n",
      "Trial 208 | Correlation: 0.995 | SGLX High Time: 2711 | ML High Time: 1555\n",
      "Trial 209 | Correlation: 0.996 | SGLX High Time: 2739 | ML High Time: 1570\n",
      "Trial 210 | Correlation: 0.997 | SGLX High Time: 2674 | ML High Time: 1537\n",
      "Trial 211 | Correlation: 0.997 | SGLX High Time: 2674 | ML High Time: 1536\n",
      "Trial 212 | Correlation: 0.993 | SGLX High Time: 2672 | ML High Time: 1536\n",
      "Trial 213 | Correlation: 0.992 | SGLX High Time: 2672 | ML High Time: 1537\n",
      "Trial 214 | Correlation: 0.992 | SGLX High Time: 2675 | ML High Time: 1537\n",
      "Trial 215 | Correlation: 0.999 | SGLX High Time: 2674 | ML High Time: 1537\n",
      "Trial 216 | Correlation: 0.992 | SGLX High Time: 2674 | ML High Time: 1537\n",
      "Trial 217 | Correlation: 0.997 | SGLX High Time: 2674 | ML High Time: 1537\n",
      "Trial 218 | Correlation: 0.995 | SGLX High Time: 2674 | ML High Time: 1537\n",
      "Trial 219 | Correlation: 0.992 | SGLX High Time: 2673 | ML High Time: 1536\n",
      "Trial 220 | Correlation: 0.999 | SGLX High Time: 2673 | ML High Time: 1537\n",
      "Trial 221 | Correlation: 0.992 | SGLX High Time: 2674 | ML High Time: 1537\n",
      "Trial 222 | Correlation: 0.993 | SGLX High Time: 2673 | ML High Time: 1536\n",
      "Trial 223 | Correlation: 0.998 | SGLX High Time: 2673 | ML High Time: 1536\n",
      "Trial 224 | Correlation: 0.992 | SGLX High Time: 2673 | ML High Time: 1537\n",
      "Trial 225 | Correlation: 0.994 | SGLX High Time: 2707 | ML High Time: 1553\n",
      "Trial 226 | Correlation: 0.998 | SGLX High Time: 2672 | ML High Time: 1536\n",
      "Trial 227 | Correlation: 0.998 | SGLX High Time: 2672 | ML High Time: 1537\n",
      "Trial 228 | Correlation: 0.997 | SGLX High Time: 2673 | ML High Time: 1536\n",
      "Trial 229 | Correlation: 0.993 | SGLX High Time: 2673 | ML High Time: 1536\n",
      "Trial 230 | Correlation: 0.999 | SGLX High Time: 2673 | ML High Time: 1537\n",
      "Trial 231 | Correlation: 0.993 | SGLX High Time: 2674 | ML High Time: 1537\n",
      "Trial 232 | Correlation: 0.992 | SGLX High Time: 2707 | ML High Time: 1553\n",
      "Trial 233 | Correlation: 0.999 | SGLX High Time: 2672 | ML High Time: 1536\n",
      "Trial 234 | Correlation: 0.994 | SGLX High Time: 2673 | ML High Time: 1536\n",
      "Trial 235 | Correlation: 0.999 | SGLX High Time: 5042 | ML High Time: 2721\n",
      "Trial 236 | Correlation: 0.997 | SGLX High Time: 2672 | ML High Time: 1537\n",
      "Trial 237 | Correlation: 0.999 | SGLX High Time: 2715 | ML High Time: 1557\n",
      "Trial 238 | Correlation: 0.994 | SGLX High Time: 2714 | ML High Time: 1557\n",
      "Trial 239 | Correlation: 0.996 | SGLX High Time: 2741 | ML High Time: 1570\n",
      "Trial 240 | Correlation: 0.998 | SGLX High Time: 2742 | ML High Time: 1571\n",
      "Trial 241 | Correlation: 0.995 | SGLX High Time: 2710 | ML High Time: 1555\n",
      "Trial 242 | Correlation: 0.998 | SGLX High Time: 2714 | ML High Time: 1557\n",
      "Trial 243 | Correlation: 0.994 | SGLX High Time: 2672 | ML High Time: 1536\n",
      "Trial 244 | Correlation: 0.995 | SGLX High Time: 2673 | ML High Time: 1536\n",
      "Trial 245 | Correlation: 0.994 | SGLX High Time: 2739 | ML High Time: 1570\n",
      "Trial 246 | Correlation: 0.998 | SGLX High Time: 5057 | ML High Time: 2729\n",
      "Trial 247 | Correlation: 0.998 | SGLX High Time: 2710 | ML High Time: 1554\n",
      "Trial 248 | Correlation: 0.998 | SGLX High Time: 2709 | ML High Time: 1555\n",
      "Trial 249 | Correlation: 0.997 | SGLX High Time: 2714 | ML High Time: 1557\n",
      "Trial 250 | Correlation: 0.998 | SGLX High Time: 2713 | ML High Time: 1557\n",
      "Trial 251 | Correlation: 1.0 | SGLX High Time: 2714 | ML High Time: 1556\n",
      "Trial 252 | Correlation: 0.997 | SGLX High Time: 2709 | ML High Time: 1554\n",
      "Trial 253 | Correlation: 0.999 | SGLX High Time: 2713 | ML High Time: 1557\n",
      "Trial 254 | Correlation: 0.996 | SGLX High Time: 2713 | ML High Time: 1557\n",
      "Trial 255 | Correlation: 1.0 | SGLX High Time: 2741 | ML High Time: 1570\n",
      "Trial 256 | Correlation: 0.995 | SGLX High Time: 2714 | ML High Time: 1557\n",
      "Trial 257 | Correlation: 0.998 | SGLX High Time: 2714 | ML High Time: 1557\n",
      "Trial 258 | Correlation: 0.997 | SGLX High Time: 2714 | ML High Time: 1557\n",
      "Trial 259 | Correlation: 0.995 | SGLX High Time: 2709 | ML High Time: 1554\n",
      "Trial 260 | Correlation: 0.995 | SGLX High Time: 2750 | ML High Time: 1576\n",
      "Trial 261 | Correlation: 0.996 | SGLX High Time: 2710 | ML High Time: 1554\n",
      "Trial 262 | Correlation: 0.998 | SGLX High Time: 2708 | ML High Time: 1554\n",
      "Trial 263 | Correlation: 0.995 | SGLX High Time: 2709 | ML High Time: 1555\n",
      "Trial 264 | Correlation: 0.998 | SGLX High Time: 2714 | ML High Time: 1557\n",
      "Trial 265 | Correlation: 0.999 | SGLX High Time: 2709 | ML High Time: 1554\n",
      "Trial 266 | Correlation: 0.995 | SGLX High Time: 2710 | ML High Time: 1555\n",
      "Trial 267 | Correlation: 0.994 | SGLX High Time: 2713 | ML High Time: 1557\n",
      "Trial 268 | Correlation: 0.999 | SGLX High Time: 2714 | ML High Time: 1556\n",
      "Trial 269 | Correlation: 0.993 | SGLX High Time: 2707 | ML High Time: 1554\n",
      "Trial 270 | Correlation: 0.998 | SGLX High Time: 2674 | ML High Time: 1537\n",
      "Trial 271 | Correlation: 0.994 | SGLX High Time: 2710 | ML High Time: 1555\n",
      "Trial 272 | Correlation: 0.999 | SGLX High Time: 2710 | ML High Time: 1555\n",
      "Trial 273 | Correlation: 0.997 | SGLX High Time: 2673 | ML High Time: 1536\n",
      "Trial 274 | Correlation: 0.997 | SGLX High Time: 2673 | ML High Time: 1537\n",
      "Trial 275 | Correlation: 0.995 | SGLX High Time: 2714 | ML High Time: 1557\n",
      "Trial 276 | Correlation: 0.995 | SGLX High Time: 2674 | ML High Time: 1537\n",
      "Trial 277 | Correlation: 0.999 | SGLX High Time: 2712 | ML High Time: 1556\n",
      "Trial 278 | Correlation: 0.995 | SGLX High Time: 2673 | ML High Time: 1536\n",
      "Trial 279 | Correlation: 0.995 | SGLX High Time: 2674 | ML High Time: 1537\n",
      "Trial 280 | Correlation: 0.998 | SGLX High Time: 2713 | ML High Time: 1556\n",
      "Trial 281 | Correlation: 0.998 | SGLX High Time: 2672 | ML High Time: 1536\n",
      "Trial 282 | Correlation: 0.995 | SGLX High Time: 2714 | ML High Time: 1557\n",
      "Trial 283 | Correlation: 0.998 | SGLX High Time: 2672 | ML High Time: 1536\n",
      "Trial 284 | Correlation: 0.998 | SGLX High Time: 2672 | ML High Time: 1537\n",
      "Trial 285 | Correlation: 0.997 | SGLX High Time: 2675 | ML High Time: 1537\n",
      "Trial 286 | Correlation: 0.994 | SGLX High Time: 2674 | ML High Time: 1537\n",
      "Trial 287 | Correlation: 0.998 | SGLX High Time: 2715 | ML High Time: 1557\n",
      "Trial 288 | Correlation: 0.995 | SGLX High Time: 2708 | ML High Time: 1554\n",
      "Trial 289 | Correlation: 0.996 | SGLX High Time: 2754 | ML High Time: 1577\n",
      "Trial 290 | Correlation: 0.995 | SGLX High Time: 5143 | ML High Time: 2771\n",
      "Trial 291 | Correlation: 0.999 | SGLX High Time: 2673 | ML High Time: 1537\n",
      "Trial 292 | Correlation: 0.993 | SGLX High Time: 2674 | ML High Time: 1537\n",
      "Trial 293 | Correlation: 0.993 | SGLX High Time: 2707 | ML High Time: 1553\n",
      "Trial 294 | Correlation: 0.998 | SGLX High Time: 2673 | ML High Time: 1537\n",
      "Trial 295 | Correlation: 0.997 | SGLX High Time: 2740 | ML High Time: 1570\n",
      "Trial 296 | Correlation: 0.993 | SGLX High Time: 2739 | ML High Time: 1569\n",
      "Trial 297 | Correlation: 0.992 | SGLX High Time: 2739 | ML High Time: 1569\n",
      "Trial 298 | Correlation: 0.993 | SGLX High Time: 2712 | ML High Time: 1556\n",
      "Trial 299 | Correlation: 0.997 | SGLX High Time: 2710 | ML High Time: 1555\n",
      "Trial 300 | Correlation: 0.995 | SGLX High Time: 2714 | ML High Time: 1557\n",
      "Trial 301 | Correlation: 0.994 | SGLX High Time: 2673 | ML High Time: 1537\n",
      "Trial 302 | Correlation: 0.992 | SGLX High Time: 2673 | ML High Time: 1536\n",
      "Trial 303 | Correlation: 0.999 | SGLX High Time: 2672 | ML High Time: 1536\n",
      "Trial 304 | Correlation: 0.994 | SGLX High Time: 2673 | ML High Time: 1536\n",
      "Trial 305 | Correlation: 0.998 | SGLX High Time: 4975 | ML High Time: 2688\n"
     ]
    },
    {
     "ename": "KeyboardInterrupt",
     "evalue": "",
     "output_type": "error",
     "traceback": [
      "\u001b[0;31m---------------------------------------------------------------------------\u001b[0m",
      "\u001b[0;31mKeyboardInterrupt\u001b[0m                         Traceback (most recent call last)",
      "\u001b[1;32m/Users/rahimhashim/Desktop/Monkey-Emotions/data_preprocessing.ipynb Cell 14\u001b[0m line \u001b[0;36m4\n\u001b[1;32m      <a href='vscode-notebook-cell:/Users/rahimhashim/Desktop/Monkey-Emotions/data_preprocessing.ipynb#X16sZmlsZQ%3D%3D?line=0'>1</a>\u001b[0m \u001b[39mfrom\u001b[39;00m \u001b[39mspike_glx\u001b[39;00m\u001b[39m.\u001b[39;00m\u001b[39mload_SGLX\u001b[39;00m \u001b[39mimport\u001b[39;00m load_sglx\n\u001b[1;32m      <a href='vscode-notebook-cell:/Users/rahimhashim/Desktop/Monkey-Emotions/data_preprocessing.ipynb#X16sZmlsZQ%3D%3D?line=2'>3</a>\u001b[0m \u001b[39m# Load the spikeglx object\u001b[39;00m\n\u001b[0;32m----> <a href='vscode-notebook-cell:/Users/rahimhashim/Desktop/Monkey-Emotions/data_preprocessing.ipynb#X16sZmlsZQ%3D%3D?line=3'>4</a>\u001b[0m spikeglx_obj \u001b[39m=\u001b[39m load_sglx(session_obj\u001b[39m.\u001b[39;49mdf, \n\u001b[1;32m      <a href='vscode-notebook-cell:/Users/rahimhashim/Desktop/Monkey-Emotions/data_preprocessing.ipynb#X16sZmlsZQ%3D%3D?line=4'>5</a>\u001b[0m                          session_obj, \n\u001b[1;32m      <a href='vscode-notebook-cell:/Users/rahimhashim/Desktop/Monkey-Emotions/data_preprocessing.ipynb#X16sZmlsZQ%3D%3D?line=5'>6</a>\u001b[0m                          file_container_obj, \n\u001b[1;32m      <a href='vscode-notebook-cell:/Users/rahimhashim/Desktop/Monkey-Emotions/data_preprocessing.ipynb#X16sZmlsZQ%3D%3D?line=6'>7</a>\u001b[0m                          signal_dict, \n\u001b[1;32m      <a href='vscode-notebook-cell:/Users/rahimhashim/Desktop/Monkey-Emotions/data_preprocessing.ipynb#X16sZmlsZQ%3D%3D?line=7'>8</a>\u001b[0m                          epochs)\n",
      "File \u001b[0;32m~/Desktop/Monkey-Emotions/spike_glx/load_SGLX.py:47\u001b[0m, in \u001b[0;36mload_sglx\u001b[0;34m(session_df, session_obj, file_container_obj, signal_dict, epochs)\u001b[0m\n\u001b[1;32m     45\u001b[0m \u001b[39mprint\u001b[39m(\u001b[39m'\u001b[39m\u001b[39mSpikeGLX object created.\u001b[39m\u001b[39m'\u001b[39m)\n\u001b[1;32m     46\u001b[0m \u001b[39mprint\u001b[39m(\u001b[39m'\u001b[39m\u001b[39mAligning photodiode signals from ML and SpikeGLX...\u001b[39m\u001b[39m'\u001b[39m)\n\u001b[0;32m---> 47\u001b[0m spikeglx_obj \u001b[39m=\u001b[39m read_SGLX\u001b[39m.\u001b[39;49malign_sglx_ml(spikeglx_obj, session_df, epochs)\n\u001b[1;32m     48\u001b[0m \u001b[39mprint\u001b[39m(\u001b[39m'\u001b[39m\u001b[39m  Done.\u001b[39m\u001b[39m'\u001b[39m)\n\u001b[1;32m     49\u001b[0m \u001b[39mprint\u001b[39m(\u001b[39m'\u001b[39m\u001b[39mComparing ML and SpikeGLX photodiode signals...\u001b[39m\u001b[39m'\u001b[39m)\n",
      "File \u001b[0;32m~/Desktop/Monkey-Emotions/spike_glx/read_SGLX.py:692\u001b[0m, in \u001b[0;36malign_sglx_ml\u001b[0;34m(spikeglx_obj, df, epochs)\u001b[0m\n\u001b[1;32m    690\u001b[0m \t\u001b[39mif\u001b[39;00m e_index \u001b[39m==\u001b[39m \u001b[39m0\u001b[39m:\n\u001b[1;32m    691\u001b[0m \t\t\u001b[39mcontinue\u001b[39;00m\n\u001b[0;32m--> 692\u001b[0m \tsglx_cam_framenumbers \u001b[39m=\u001b[39m spikeglx_cam_frames_window(spikeglx_obj, trial_index_specified, sglx_trial_times, sglx_cam_framenumbers, \n\u001b[1;32m    693\u001b[0m \t\t\t\t\t\t\t\t\t\t\t\t\t\t\t\t\t\t\t\t\t\t\t\t\t \t col_start\u001b[39m=\u001b[39;49mepochs[e_index\u001b[39m-\u001b[39;49m\u001b[39m1\u001b[39;49m], col_end\u001b[39m=\u001b[39;49mepoch)\n\u001b[1;32m    695\u001b[0m \u001b[39m# add correlation value to correlation matrix\u001b[39;00m\n\u001b[1;32m    696\u001b[0m correlation_matrix[trial_index_specified] \u001b[39m=\u001b[39m max_corr[\u001b[39m1\u001b[39m]\n",
      "File \u001b[0;32m~/Desktop/Monkey-Emotions/spike_glx/read_SGLX.py:390\u001b[0m, in \u001b[0;36mspikeglx_cam_frames_window\u001b[0;34m(spikeglx_obj, trial_num, spikeglx_cam_times, spikeglx_cam_framenumbers, col_start, col_end)\u001b[0m\n\u001b[1;32m    388\u001b[0m \u001b[39m# check if both column start and column end not equal to <NA>\u001b[39;00m\n\u001b[1;32m    389\u001b[0m \u001b[39mif\u001b[39;00m pd\u001b[39m.\u001b[39misnull(spikeglx_cam_times[trial_num][col_start]) \u001b[39m==\u001b[39m \u001b[39mFalse\u001b[39;00m \u001b[39mand\u001b[39;00m pd\u001b[39m.\u001b[39misnull(spikeglx_cam_times[trial_num][col_end]) \u001b[39m==\u001b[39m \u001b[39mFalse\u001b[39;00m:\n\u001b[0;32m--> 390\u001b[0m \tspikeglx_frames_trial \u001b[39m=\u001b[39m [f_index \u001b[39mfor\u001b[39;00m f_index,frame \u001b[39min\u001b[39;00m \u001b[39menumerate\u001b[39m(spikeglx_obj\u001b[39m.\u001b[39mcam_frames) \u001b[39mif\u001b[39;00m \\\n\u001b[1;32m    391\u001b[0m \t\t\t\t\t\t\t\t\t\t\t\t\tframe \u001b[39m>\u001b[39m\u001b[39m=\u001b[39m spikeglx_cam_times[trial_num][col_start] \u001b[39mand\u001b[39;00m \\\n\u001b[1;32m    392\u001b[0m \t\t\t\t\t\t\t\t\t\t\t\t\tframe \u001b[39m<\u001b[39m\u001b[39m=\u001b[39m spikeglx_cam_times[trial_num][col_end]]\n\u001b[1;32m    393\u001b[0m \tspikeglx_cam_framenumbers[trial_num][col_start] \u001b[39m=\u001b[39m spikeglx_frames_trial[\u001b[39m0\u001b[39m]\n\u001b[1;32m    394\u001b[0m \tspikeglx_cam_framenumbers[trial_num][col_end] \u001b[39m=\u001b[39m spikeglx_frames_trial[\u001b[39m-\u001b[39m\u001b[39m1\u001b[39m]\t\n",
      "File \u001b[0;32m~/Desktop/Monkey-Emotions/spike_glx/read_SGLX.py:391\u001b[0m, in \u001b[0;36m<listcomp>\u001b[0;34m(.0)\u001b[0m\n\u001b[1;32m    388\u001b[0m \u001b[39m# check if both column start and column end not equal to <NA>\u001b[39;00m\n\u001b[1;32m    389\u001b[0m \u001b[39mif\u001b[39;00m pd\u001b[39m.\u001b[39misnull(spikeglx_cam_times[trial_num][col_start]) \u001b[39m==\u001b[39m \u001b[39mFalse\u001b[39;00m \u001b[39mand\u001b[39;00m pd\u001b[39m.\u001b[39misnull(spikeglx_cam_times[trial_num][col_end]) \u001b[39m==\u001b[39m \u001b[39mFalse\u001b[39;00m:\n\u001b[1;32m    390\u001b[0m \tspikeglx_frames_trial \u001b[39m=\u001b[39m [f_index \u001b[39mfor\u001b[39;00m f_index,frame \u001b[39min\u001b[39;00m \u001b[39menumerate\u001b[39m(spikeglx_obj\u001b[39m.\u001b[39mcam_frames) \u001b[39mif\u001b[39;00m \\\n\u001b[0;32m--> 391\u001b[0m \t\t\t\t\t\t\t\t\t\t\t\t\tframe \u001b[39m>\u001b[39;49m\u001b[39m=\u001b[39;49m spikeglx_cam_times[trial_num][col_start] \u001b[39mand\u001b[39;00m \\\n\u001b[1;32m    392\u001b[0m \t\t\t\t\t\t\t\t\t\t\t\t\tframe \u001b[39m<\u001b[39m\u001b[39m=\u001b[39m spikeglx_cam_times[trial_num][col_end]]\n\u001b[1;32m    393\u001b[0m \tspikeglx_cam_framenumbers[trial_num][col_start] \u001b[39m=\u001b[39m spikeglx_frames_trial[\u001b[39m0\u001b[39m]\n\u001b[1;32m    394\u001b[0m \tspikeglx_cam_framenumbers[trial_num][col_end] \u001b[39m=\u001b[39m spikeglx_frames_trial[\u001b[39m-\u001b[39m\u001b[39m1\u001b[39m]\t\n",
      "\u001b[0;31mKeyboardInterrupt\u001b[0m: "
     ]
    }
   ],
   "source": [
    "from spike_glx.load_SGLX import load_sglx\n",
    "\n",
    "# Load the spikeglx object\n",
    "spikeglx_obj = load_sglx(session_obj.df, \n",
    "                         session_obj, \n",
    "                         file_container_obj, \n",
    "                         signal_dict, \n",
    "                         epochs)"
   ]
  },
  {
   "cell_type": "markdown",
   "metadata": {},
   "source": [
    "### ML-SpikeGLX Session Correlation\n",
    "To see just the correlation matrix for each trial in a session, run `plot_spikeglx_ml_corr` with the newly-generated `spikeglx_obj`."
   ]
  },
  {
   "cell_type": "code",
   "execution_count": 6,
   "metadata": {},
   "outputs": [
    {
     "data": {
      "image/png": "[encoded data removed]",
      "text/plain": [
       "<Figure size 1500x800 with 2 Axes>"
      ]
     },
     "metadata": {},
     "output_type": "display_data"
    }
   ],
   "source": [
    "from spike_glx.read_SGLX import plot_spikeglx_ml_corr\n",
    "plot_spikeglx_ml_corr(spikeglx_obj.ml_sglx_corr_matrix, 100)"
   ]
  },
  {
   "cell_type": "markdown",
   "metadata": {},
   "source": [
    "***\n",
    "## Process White Matter Videos\n",
    "\n",
    "After generating a `SpikeGLX` object, you can segment all the White Matter videos by trial."
   ]
  },
  {
   "cell_type": "code",
   "execution_count": null,
   "metadata": {},
   "outputs": [],
   "source": [
    "from video.wm_videos import parse_wm_videos\n",
    "\n",
    "if session_obj.monkey == 'gandalf':\n",
    "  epoch_start = 'start'\n",
    "  epoch_end = 'end'\n",
    "else:\n",
    "  epoch_start = 'Trace Start'\n",
    "  epoch_end = 'Outcome Start'\n",
    "\n",
    "kwargs = {'spikeglx_obj': spikeglx_obj,       # 'spikeglx_obj': spikeglx_obj\n",
    "          'session_obj': session_obj,         # 'session_obj': session_obj\n",
    "          'trial_start': 0,                   # 'trial_start': 0 \n",
    "          'trial_end': len(session_obj.df),   # 'trial_end': len(session_obj.df)\n",
    "          'epoch_start': epoch_start,         # 'epoch_start': 'start'\n",
    "          'epoch_end': epoch_end,             # 'epoch_end': 'end'   \n",
    "          'thread_flag': False}               # 'thread_flag': False\n",
    "\n",
    "parse_wm_videos(**kwargs)"
   ]
  },
  {
   "cell_type": "markdown",
   "metadata": {},
   "source": [
    "***\n",
    "## Generate MonkeyLogic Behavior Trial Videos"
   ]
  },
  {
   "cell_type": "code",
   "execution_count": 56,
   "metadata": {},
   "outputs": [
    {
     "name": "stdout",
     "output_type": "stream",
     "text": [
      "Generating video for trial 1\n",
      "Generating frames for trial 1 from 0 to 12264\n"
     ]
    },
    {
     "data": {
      "application/vnd.jupyter.widget-view+json": {
       "model_id": "b197b46cdc284a5487713d2099d547a6",
       "version_major": 2,
       "version_minor": 0
      },
      "text/plain": [
       "Trial 1 frame:   0%|          | 0/12264 [00:00<?, ?it/s]"
      ]
     },
     "metadata": {},
     "output_type": "display_data"
    },
    {
     "name": "stdout",
     "output_type": "stream",
     "text": [
      "Deleting existing video: /Users/rahimhashim/Desktop/Monkey-Emotions/video/gandalf_231004/eye_0000.mp4\n",
      "Saving video to: /Users/rahimhashim/Desktop/Monkey-Emotions/video/gandalf_231004/eye_0000.mp4\n"
     ]
    },
    {
     "data": {
      "application/vnd.jupyter.widget-view+json": {
       "model_id": "1026cac629bf47bdbf18a4aa63052e8c",
       "version_major": 2,
       "version_minor": 0
      },
      "text/plain": [
       "Trial 0 eye:   0%|          | 0/12264 [00:00<?, ?it/s]"
      ]
     },
     "metadata": {},
     "output_type": "display_data"
    },
    {
     "name": "stdout",
     "output_type": "stream",
     "text": [
      "Deleting existing video: /Users/rahimhashim/Desktop/Monkey-Emotions/video/gandalf_231004/lick_0000.mp4\n",
      "Saving video to: /Users/rahimhashim/Desktop/Monkey-Emotions/video/gandalf_231004/lick_0000.mp4\n"
     ]
    },
    {
     "data": {
      "application/vnd.jupyter.widget-view+json": {
       "model_id": "f172ec46909c42e9af08331e42876687",
       "version_major": 2,
       "version_minor": 0
      },
      "text/plain": [
       "Trial 0 lick:   0%|          | 0/12264 [00:00<?, ?it/s]"
      ]
     },
     "metadata": {},
     "output_type": "display_data"
    },
    {
     "name": "stdout",
     "output_type": "stream",
     "text": [
      "Deleting image folder: /Users/rahimhashim/Desktop/Monkey-Emotions/video/gandalf_231004/trial_0\n"
     ]
    },
    {
     "ename": "TypeError",
     "evalue": "'recursive' is an invalid keyword argument for rmdir()",
     "output_type": "error",
     "traceback": [
      "\u001b[0;31m---------------------------------------------------------------------------\u001b[0m",
      "\u001b[0;31mTypeError\u001b[0m                                 Traceback (most recent call last)",
      "\u001b[1;32m/Users/rahimhashim/Desktop/Monkey-Emotions/data_preprocessing.ipynb Cell 21\u001b[0m line \u001b[0;36m3\n\u001b[1;32m      <a href='vscode-notebook-cell:/Users/rahimhashim/Desktop/Monkey-Emotions/data_preprocessing.ipynb#X25sZmlsZQ%3D%3D?line=0'>1</a>\u001b[0m \u001b[39mfrom\u001b[39;00m \u001b[39mvideo\u001b[39;00m\u001b[39m.\u001b[39;00m\u001b[39mml_videos\u001b[39;00m \u001b[39mimport\u001b[39;00m generate_ml_behavior_videos\n\u001b[1;32m      <a href='vscode-notebook-cell:/Users/rahimhashim/Desktop/Monkey-Emotions/data_preprocessing.ipynb#X25sZmlsZQ%3D%3D?line=1'>2</a>\u001b[0m trial_num_selected \u001b[39m=\u001b[39m \u001b[39m1\u001b[39m\n\u001b[0;32m----> <a href='vscode-notebook-cell:/Users/rahimhashim/Desktop/Monkey-Emotions/data_preprocessing.ipynb#X25sZmlsZQ%3D%3D?line=2'>3</a>\u001b[0m generate_ml_behavior_videos(session_obj\u001b[39m.\u001b[39;49mdf, session_obj, trial_num_selected, epoch_start, epoch_end)\n",
      "File \u001b[0;32m~/Desktop/Monkey-Emotions/video/ml_videos.py:95\u001b[0m, in \u001b[0;36mgenerate_ml_behavior_videos\u001b[0;34m(session_df, session_obj, trial_num, epoch_start, epoch_end)\u001b[0m\n\u001b[1;32m     93\u001b[0m \u001b[39m# delete image folder\u001b[39;00m\n\u001b[1;32m     94\u001b[0m \u001b[39mprint\u001b[39m(\u001b[39m'\u001b[39m\u001b[39mDeleting image folder: \u001b[39m\u001b[39m{}\u001b[39;00m\u001b[39m'\u001b[39m\u001b[39m.\u001b[39mformat(source_folder_path))\n\u001b[0;32m---> 95\u001b[0m os\u001b[39m.\u001b[39mrmdir(source_folder_path, recursive\u001b[39m=\u001b[39m\u001b[39mTrue\u001b[39;00m)\n",
      "\u001b[0;31mTypeError\u001b[0m: 'recursive' is an invalid keyword argument for rmdir()"
     ]
    }
   ],
   "source": [
    "from video.ml_videos import generate_ml_behavior_videos\n",
    "trial_num_selected = 1\n",
    "generate_ml_behavior_videos(session_obj.df, session_obj, trial_num_selected, epoch_start, epoch_end)"
   ]
  },
  {
   "cell_type": "markdown",
   "metadata": {},
   "source": [
    "***\n",
    "## DeepLabCut"
   ]
  },
  {
   "cell_type": "code",
   "execution_count": 16,
   "metadata": {},
   "outputs": [],
   "source": [
    "import deeplabcut\n",
    "# Custom modules\n",
    "from dlc_primate.dlc_utils import dlc_config, dlc_downsample\n",
    "\n",
    "camera_dict = {\n",
    "  'e3v8360':'face_1', \n",
    "  'e3v83d6':'face_2',\n",
    "  'e3v83ad':'body_1',\n",
    "  'e3v831b':'body_2'\n",
    "}"
   ]
  },
  {
   "cell_type": "code",
   "execution_count": 10,
   "metadata": {},
   "outputs": [
    {
     "name": "stdout",
     "output_type": "stream",
     "text": [
      "Checking for video files...\n",
      "  Video directory: /Users/rahimhashim/Desktop/Monkey-Emotions/video/gandalf_231023\n"
     ]
    },
    {
     "data": {
      "application/vnd.jupyter.widget-view+json": {
       "model_id": "25797155987f44bea5b03fdaac55f323",
       "version_major": 2,
       "version_minor": 0
      },
      "text/plain": [
       "  0%|          | 0/1300 [00:00<?, ?it/s]"
      ]
     },
     "metadata": {},
     "output_type": "display_data"
    },
    {
     "name": "stdout",
     "output_type": "stream",
     "text": [
      "  Camera: e3v83d6 | Number of videos: 325\n",
      "  Camera: e3v8360 | Number of videos: 325\n",
      "  Camera: e3v831b | Number of videos: 325\n",
      "  Camera: e3v83ad | Number of videos: 325\n"
     ]
    }
   ],
   "source": [
    "video_dir = os.path.join(os.getcwd(), 'video', session_obj.monkey + '_' + session_obj.date)\n",
    "dlc_video_path_dict = dlc_config.get_trial_video_list(video_dir, camera_dict)\n",
    "# dlc_video_path_dict = spikeglx_obj.video_file_paths"
   ]
  },
  {
   "cell_type": "code",
   "execution_count": 17,
   "metadata": {},
   "outputs": [
    {
     "name": "stdout",
     "output_type": "stream",
     "text": [
      "Checking frame size...\n",
      "   Pixel width x height: 640x480\n",
      "No need to downsample videos\n",
      "Initializing Project...\n",
      "  Project name: 231023_gandalf_face_2\n",
      "  Model: primate_face\n",
      "  Initilization Videos: ['/Users/rahimhashim/Desktop/Monkey-Emotions/video/gandalf_231023/gandalf_231023_260_e3v83d6.mp4']\n",
      "Created \"/Users/rahimhashim/Desktop/Monkey-Emotions/231023_gandalf_face_2-rahim-2023-10-26/videos\"\n",
      "Created \"/Users/rahimhashim/Desktop/Monkey-Emotions/231023_gandalf_face_2-rahim-2023-10-26/labeled-data\"\n",
      "Created \"/Users/rahimhashim/Desktop/Monkey-Emotions/231023_gandalf_face_2-rahim-2023-10-26/training-datasets\"\n",
      "Created \"/Users/rahimhashim/Desktop/Monkey-Emotions/231023_gandalf_face_2-rahim-2023-10-26/dlc-models\"\n",
      "Attempting to create a symbolic link of the video ...\n",
      "Created the symlink of /Users/rahimhashim/Desktop/Monkey-Emotions/video/gandalf_231023/gandalf_231023_260_e3v83d6.mp4 to /Users/rahimhashim/Desktop/Monkey-Emotions/231023_gandalf_face_2-rahim-2023-10-26/videos/gandalf_231023_260_e3v83d6.mp4\n",
      "/Users/rahimhashim/Desktop/Monkey-Emotions/231023_gandalf_face_2-rahim-2023-10-26/videos/gandalf_231023_260_e3v83d6.mp4\n",
      "Generated \"/Users/rahimhashim/Desktop/Monkey-Emotions/231023_gandalf_face_2-rahim-2023-10-26/config.yaml\"\n",
      "\n",
      "A new project with name 231023_gandalf_face_2-rahim-2023-10-26 is created at /Users/rahimhashim/Desktop/Monkey-Emotions and a configurable file (config.yaml) is stored there. Change the parameters in this file to adapt to your project's needs.\n",
      " Once you have changed the configuration file, use the function 'extract_frames' to select frames for labeling.\n",
      ". [OPTIONAL] Use the function 'add_new_videos' to add new videos to your project (at any stage).\n",
      "Downloading weights...\n",
      "Loading.... primate_face\n"
     ]
    },
    {
     "data": {
      "application/vnd.jupyter.widget-view+json": {
       "model_id": "2aff937f21af49ec8cdd0fb38437e765",
       "version_major": 2,
       "version_minor": 0
      },
      "text/plain": [
       "Downloading (…)n-1_shuffle-1.tar.gz:   0%|          | 0.00/198M [00:00<?, ?B/s]"
      ]
     },
     "metadata": {},
     "output_type": "display_data"
    },
    {
     "name": "stdout",
     "output_type": "stream",
     "text": [
      "/Users/rahimhashim/Desktop/Monkey-Emotions/231023_gandalf_face_2-rahim-2023-10-26/dlc-models/iteration-0/231023_gandalf_face_2Oct26-trainset95shuffle1/train/pose_cfg.yaml\n",
      "Analyzing video...\n",
      "Using snapshot-1030000 for model /Users/rahimhashim/Desktop/Monkey-Emotions/231023_gandalf_face_2-rahim-2023-10-26/dlc-models/iteration-0/231023_gandalf_face_2Oct26-trainset95shuffle1\n"
     ]
    },
    {
     "name": "stderr",
     "output_type": "stream",
     "text": [
      "/Users/rahimhashim/miniconda3/envs/DEEPLABCUT_M1/lib/python3.9/site-packages/tensorflow/python/keras/engine/base_layer_v1.py:1694: UserWarning: `layer.apply` is deprecated and will be removed in a future version. Please use `layer.__call__` method instead.\n",
      "  warnings.warn('`layer.apply` is deprecated and '\n"
     ]
    },
    {
     "name": "stdout",
     "output_type": "stream",
     "text": [
      "Analyzing all the videos in the directory...\n",
      "Starting to analyze %  /Users/rahimhashim/Desktop/Monkey-Emotions/231023_gandalf_face_2-rahim-2023-10-26/videos/gandalf_231023_260_e3v83d6.mp4\n",
      "Loading  /Users/rahimhashim/Desktop/Monkey-Emotions/231023_gandalf_face_2-rahim-2023-10-26/videos/gandalf_231023_260_e3v83d6.mp4\n",
      "Duration of video [s]:  12.88 , recorded with  120.0 fps!\n",
      "Overall # of frames:  1546  found with (before cropping) frame dimensions:  640 480\n",
      "Starting to extract posture\n"
     ]
    },
    {
     "name": "stderr",
     "output_type": "stream",
     "text": [
      "100%|██████████| 1546/1546 [01:30<00:00, 17.04it/s]\n"
     ]
    },
    {
     "name": "stdout",
     "output_type": "stream",
     "text": [
      "Saving results in /Users/rahimhashim/Desktop/Monkey-Emotions/231023_gandalf_face_2-rahim-2023-10-26/videos...\n",
      "Saving csv poses!\n",
      "The videos are analyzed. Now your research can truly start! \n",
      " You can create labeled videos with 'create_labeled_video'\n",
      "If the tracking is not satisfactory for some videos, consider expanding the training set. You can use the function 'extract_outlier_frames' to extract a few representative outlier frames.\n",
      "  Editing config file.\n",
      "Checking frame size...\n",
      "   Pixel width x height: 640x480\n",
      "No need to downsample videos\n",
      "Initializing Project...\n",
      "  Project name: 231023_gandalf_face_1\n",
      "  Model: primate_face\n",
      "  Initilization Videos: ['/Users/rahimhashim/Desktop/Monkey-Emotions/video/gandalf_231023/gandalf_231023_271_e3v8360.mp4']\n",
      "Created \"/Users/rahimhashim/Desktop/Monkey-Emotions/231023_gandalf_face_1-rahim-2023-10-26/videos\"\n",
      "Created \"/Users/rahimhashim/Desktop/Monkey-Emotions/231023_gandalf_face_1-rahim-2023-10-26/labeled-data\"\n",
      "Created \"/Users/rahimhashim/Desktop/Monkey-Emotions/231023_gandalf_face_1-rahim-2023-10-26/training-datasets\"\n",
      "Created \"/Users/rahimhashim/Desktop/Monkey-Emotions/231023_gandalf_face_1-rahim-2023-10-26/dlc-models\"\n",
      "Attempting to create a symbolic link of the video ...\n",
      "Created the symlink of /Users/rahimhashim/Desktop/Monkey-Emotions/video/gandalf_231023/gandalf_231023_271_e3v8360.mp4 to /Users/rahimhashim/Desktop/Monkey-Emotions/231023_gandalf_face_1-rahim-2023-10-26/videos/gandalf_231023_271_e3v8360.mp4\n",
      "/Users/rahimhashim/Desktop/Monkey-Emotions/231023_gandalf_face_1-rahim-2023-10-26/videos/gandalf_231023_271_e3v8360.mp4\n",
      "Generated \"/Users/rahimhashim/Desktop/Monkey-Emotions/231023_gandalf_face_1-rahim-2023-10-26/config.yaml\"\n",
      "\n",
      "A new project with name 231023_gandalf_face_1-rahim-2023-10-26 is created at /Users/rahimhashim/Desktop/Monkey-Emotions and a configurable file (config.yaml) is stored there. Change the parameters in this file to adapt to your project's needs.\n",
      " Once you have changed the configuration file, use the function 'extract_frames' to select frames for labeling.\n",
      ". [OPTIONAL] Use the function 'add_new_videos' to add new videos to your project (at any stage).\n",
      "Downloading weights...\n",
      "Loading.... primate_face\n"
     ]
    },
    {
     "data": {
      "application/vnd.jupyter.widget-view+json": {
       "model_id": "65159264866b4398ad4b2d0469278238",
       "version_major": 2,
       "version_minor": 0
      },
      "text/plain": [
       "Downloading (…)n-1_shuffle-1.tar.gz:   0%|          | 0.00/198M [00:00<?, ?B/s]"
      ]
     },
     "metadata": {},
     "output_type": "display_data"
    },
    {
     "name": "stdout",
     "output_type": "stream",
     "text": [
      "/Users/rahimhashim/Desktop/Monkey-Emotions/231023_gandalf_face_1-rahim-2023-10-26/dlc-models/iteration-0/231023_gandalf_face_1Oct26-trainset95shuffle1/train/pose_cfg.yaml\n",
      "Analyzing video...\n",
      "Using snapshot-1030000 for model /Users/rahimhashim/Desktop/Monkey-Emotions/231023_gandalf_face_1-rahim-2023-10-26/dlc-models/iteration-0/231023_gandalf_face_1Oct26-trainset95shuffle1\n"
     ]
    },
    {
     "name": "stderr",
     "output_type": "stream",
     "text": [
      "/Users/rahimhashim/miniconda3/envs/DEEPLABCUT_M1/lib/python3.9/site-packages/tensorflow/python/keras/engine/base_layer_v1.py:1694: UserWarning: `layer.apply` is deprecated and will be removed in a future version. Please use `layer.__call__` method instead.\n",
      "  warnings.warn('`layer.apply` is deprecated and '\n"
     ]
    },
    {
     "name": "stdout",
     "output_type": "stream",
     "text": [
      "Analyzing all the videos in the directory...\n",
      "Starting to analyze %  /Users/rahimhashim/Desktop/Monkey-Emotions/231023_gandalf_face_1-rahim-2023-10-26/videos/gandalf_231023_271_e3v8360.mp4\n",
      "Loading  /Users/rahimhashim/Desktop/Monkey-Emotions/231023_gandalf_face_1-rahim-2023-10-26/videos/gandalf_231023_271_e3v8360.mp4\n",
      "Duration of video [s]:  13.1 , recorded with  120.0 fps!\n",
      "Overall # of frames:  1572  found with (before cropping) frame dimensions:  640 480\n",
      "Starting to extract posture\n"
     ]
    },
    {
     "name": "stderr",
     "output_type": "stream",
     "text": [
      "100%|██████████| 1572/1572 [01:32<00:00, 17.08it/s]\n"
     ]
    },
    {
     "name": "stdout",
     "output_type": "stream",
     "text": [
      "Saving results in /Users/rahimhashim/Desktop/Monkey-Emotions/231023_gandalf_face_1-rahim-2023-10-26/videos...\n",
      "Saving csv poses!\n",
      "The videos are analyzed. Now your research can truly start! \n",
      " You can create labeled videos with 'create_labeled_video'\n",
      "If the tracking is not satisfactory for some videos, consider expanding the training set. You can use the function 'extract_outlier_frames' to extract a few representative outlier frames.\n",
      "  Editing config file.\n",
      "Checking frame size...\n",
      "   Pixel width x height: 640x480\n",
      "No need to downsample videos\n",
      "Initializing Project...\n",
      "  Project name: 231023_gandalf_body_2\n",
      "  Model: full_macaque\n",
      "  Initilization Videos: ['/Users/rahimhashim/Desktop/Monkey-Emotions/video/gandalf_231023/gandalf_231023_117_e3v831b.mp4']\n",
      "Created \"/Users/rahimhashim/Desktop/Monkey-Emotions/231023_gandalf_body_2-rahim-2023-10-26/videos\"\n",
      "Created \"/Users/rahimhashim/Desktop/Monkey-Emotions/231023_gandalf_body_2-rahim-2023-10-26/labeled-data\"\n",
      "Created \"/Users/rahimhashim/Desktop/Monkey-Emotions/231023_gandalf_body_2-rahim-2023-10-26/training-datasets\"\n",
      "Created \"/Users/rahimhashim/Desktop/Monkey-Emotions/231023_gandalf_body_2-rahim-2023-10-26/dlc-models\"\n",
      "Attempting to create a symbolic link of the video ...\n",
      "Created the symlink of /Users/rahimhashim/Desktop/Monkey-Emotions/video/gandalf_231023/gandalf_231023_117_e3v831b.mp4 to /Users/rahimhashim/Desktop/Monkey-Emotions/231023_gandalf_body_2-rahim-2023-10-26/videos/gandalf_231023_117_e3v831b.mp4\n",
      "/Users/rahimhashim/Desktop/Monkey-Emotions/231023_gandalf_body_2-rahim-2023-10-26/videos/gandalf_231023_117_e3v831b.mp4\n",
      "Generated \"/Users/rahimhashim/Desktop/Monkey-Emotions/231023_gandalf_body_2-rahim-2023-10-26/config.yaml\"\n",
      "\n",
      "A new project with name 231023_gandalf_body_2-rahim-2023-10-26 is created at /Users/rahimhashim/Desktop/Monkey-Emotions and a configurable file (config.yaml) is stored there. Change the parameters in this file to adapt to your project's needs.\n",
      " Once you have changed the configuration file, use the function 'extract_frames' to select frames for labeling.\n",
      ". [OPTIONAL] Use the function 'add_new_videos' to add new videos to your project (at any stage).\n",
      "Downloading weights...\n",
      "Loading.... full_macaque\n"
     ]
    },
    {
     "data": {
      "application/vnd.jupyter.widget-view+json": {
       "model_id": "66ea328d684c45af81eb099af5f5c2fc",
       "version_major": 2,
       "version_minor": 0
      },
      "text/plain": [
       "Downloading (…)full_resnet50.tar.gz:   0%|          | 0.00/182M [00:00<?, ?B/s]"
      ]
     },
     "metadata": {},
     "output_type": "display_data"
    },
    {
     "name": "stdout",
     "output_type": "stream",
     "text": [
      "/Users/rahimhashim/Desktop/Monkey-Emotions/231023_gandalf_body_2-rahim-2023-10-26/dlc-models/iteration-0/231023_gandalf_body_2Oct26-trainset95shuffle1/train/pose_cfg.yaml\n",
      "Analyzing video...\n",
      "Using snapshot-1030000 for model /Users/rahimhashim/Desktop/Monkey-Emotions/231023_gandalf_body_2-rahim-2023-10-26/dlc-models/iteration-0/231023_gandalf_body_2Oct26-trainset95shuffle1\n"
     ]
    },
    {
     "name": "stderr",
     "output_type": "stream",
     "text": [
      "/Users/rahimhashim/miniconda3/envs/DEEPLABCUT_M1/lib/python3.9/site-packages/tensorflow/python/keras/engine/base_layer_v1.py:1694: UserWarning: `layer.apply` is deprecated and will be removed in a future version. Please use `layer.__call__` method instead.\n",
      "  warnings.warn('`layer.apply` is deprecated and '\n"
     ]
    },
    {
     "name": "stdout",
     "output_type": "stream",
     "text": [
      "Analyzing all the videos in the directory...\n",
      "Starting to analyze %  /Users/rahimhashim/Desktop/Monkey-Emotions/231023_gandalf_body_2-rahim-2023-10-26/videos/gandalf_231023_117_e3v831b.mp4\n",
      "Loading  /Users/rahimhashim/Desktop/Monkey-Emotions/231023_gandalf_body_2-rahim-2023-10-26/videos/gandalf_231023_117_e3v831b.mp4\n",
      "Duration of video [s]:  16.56 , recorded with  120.0 fps!\n",
      "Overall # of frames:  1987  found with (before cropping) frame dimensions:  640 480\n",
      "Starting to extract posture\n"
     ]
    },
    {
     "name": "stderr",
     "output_type": "stream",
     "text": [
      "100%|██████████| 1987/1987 [01:37<00:00, 20.36it/s]\n"
     ]
    },
    {
     "name": "stdout",
     "output_type": "stream",
     "text": [
      "Saving results in /Users/rahimhashim/Desktop/Monkey-Emotions/231023_gandalf_body_2-rahim-2023-10-26/videos...\n",
      "Saving csv poses!\n",
      "The videos are analyzed. Now your research can truly start! \n",
      " You can create labeled videos with 'create_labeled_video'\n",
      "If the tracking is not satisfactory for some videos, consider expanding the training set. You can use the function 'extract_outlier_frames' to extract a few representative outlier frames.\n",
      "Checking frame size...\n",
      "   Pixel width x height: 640x480\n",
      "No need to downsample videos\n",
      "Initializing Project...\n",
      "  Project name: 231023_gandalf_body_1\n",
      "  Model: full_macaque\n",
      "  Initilization Videos: ['/Users/rahimhashim/Desktop/Monkey-Emotions/video/gandalf_231023/gandalf_231023_146_e3v83ad.mp4']\n",
      "Created \"/Users/rahimhashim/Desktop/Monkey-Emotions/231023_gandalf_body_1-rahim-2023-10-26/videos\"\n",
      "Created \"/Users/rahimhashim/Desktop/Monkey-Emotions/231023_gandalf_body_1-rahim-2023-10-26/labeled-data\"\n",
      "Created \"/Users/rahimhashim/Desktop/Monkey-Emotions/231023_gandalf_body_1-rahim-2023-10-26/training-datasets\"\n",
      "Created \"/Users/rahimhashim/Desktop/Monkey-Emotions/231023_gandalf_body_1-rahim-2023-10-26/dlc-models\"\n",
      "Attempting to create a symbolic link of the video ...\n",
      "Created the symlink of /Users/rahimhashim/Desktop/Monkey-Emotions/video/gandalf_231023/gandalf_231023_146_e3v83ad.mp4 to /Users/rahimhashim/Desktop/Monkey-Emotions/231023_gandalf_body_1-rahim-2023-10-26/videos/gandalf_231023_146_e3v83ad.mp4\n",
      "/Users/rahimhashim/Desktop/Monkey-Emotions/231023_gandalf_body_1-rahim-2023-10-26/videos/gandalf_231023_146_e3v83ad.mp4\n",
      "Generated \"/Users/rahimhashim/Desktop/Monkey-Emotions/231023_gandalf_body_1-rahim-2023-10-26/config.yaml\"\n",
      "\n",
      "A new project with name 231023_gandalf_body_1-rahim-2023-10-26 is created at /Users/rahimhashim/Desktop/Monkey-Emotions and a configurable file (config.yaml) is stored there. Change the parameters in this file to adapt to your project's needs.\n",
      " Once you have changed the configuration file, use the function 'extract_frames' to select frames for labeling.\n",
      ". [OPTIONAL] Use the function 'add_new_videos' to add new videos to your project (at any stage).\n",
      "Downloading weights...\n",
      "Loading.... full_macaque\n"
     ]
    },
    {
     "data": {
      "application/vnd.jupyter.widget-view+json": {
       "model_id": "408b757d77e040c2b98e662d1117510c",
       "version_major": 2,
       "version_minor": 0
      },
      "text/plain": [
       "Downloading (…)full_resnet50.tar.gz:   0%|          | 0.00/182M [00:00<?, ?B/s]"
      ]
     },
     "metadata": {},
     "output_type": "display_data"
    },
    {
     "name": "stdout",
     "output_type": "stream",
     "text": [
      "/Users/rahimhashim/Desktop/Monkey-Emotions/231023_gandalf_body_1-rahim-2023-10-26/dlc-models/iteration-0/231023_gandalf_body_1Oct26-trainset95shuffle1/train/pose_cfg.yaml\n",
      "Analyzing video...\n",
      "Using snapshot-1030000 for model /Users/rahimhashim/Desktop/Monkey-Emotions/231023_gandalf_body_1-rahim-2023-10-26/dlc-models/iteration-0/231023_gandalf_body_1Oct26-trainset95shuffle1\n"
     ]
    },
    {
     "name": "stderr",
     "output_type": "stream",
     "text": [
      "/Users/rahimhashim/miniconda3/envs/DEEPLABCUT_M1/lib/python3.9/site-packages/tensorflow/python/keras/engine/base_layer_v1.py:1694: UserWarning: `layer.apply` is deprecated and will be removed in a future version. Please use `layer.__call__` method instead.\n",
      "  warnings.warn('`layer.apply` is deprecated and '\n"
     ]
    },
    {
     "name": "stdout",
     "output_type": "stream",
     "text": [
      "Analyzing all the videos in the directory...\n",
      "Starting to analyze %  /Users/rahimhashim/Desktop/Monkey-Emotions/231023_gandalf_body_1-rahim-2023-10-26/videos/gandalf_231023_146_e3v83ad.mp4\n",
      "Loading  /Users/rahimhashim/Desktop/Monkey-Emotions/231023_gandalf_body_1-rahim-2023-10-26/videos/gandalf_231023_146_e3v83ad.mp4\n",
      "Duration of video [s]:  19.94 , recorded with  120.0 fps!\n",
      "Overall # of frames:  2393  found with (before cropping) frame dimensions:  640 480\n",
      "Starting to extract posture\n"
     ]
    },
    {
     "name": "stderr",
     "output_type": "stream",
     "text": [
      "100%|██████████| 2393/2393 [01:56<00:00, 20.57it/s]\n"
     ]
    },
    {
     "name": "stdout",
     "output_type": "stream",
     "text": [
      "Saving results in /Users/rahimhashim/Desktop/Monkey-Emotions/231023_gandalf_body_1-rahim-2023-10-26/videos...\n",
      "Saving csv poses!\n",
      "The videos are analyzed. Now your research can truly start! \n",
      " You can create labeled videos with 'create_labeled_video'\n",
      "If the tracking is not satisfactory for some videos, consider expanding the training set. You can use the function 'extract_outlier_frames' to extract a few representative outlier frames.\n"
     ]
    }
   ],
   "source": [
    "\n",
    "# Initialize project\n",
    "config_path_dict, train_config_path_dict = \\\n",
    "  dlc_config.dlc_initialize_project(dlc_video_path_dict, session_obj, camera_dict)\n"
   ]
  },
  {
   "cell_type": "code",
   "execution_count": 18,
   "metadata": {},
   "outputs": [
    {
     "name": "stdout",
     "output_type": "stream",
     "text": [
      "Attempting to create a symbolic link of the video ...\n",
      "Created the symlink of /Users/rahimhashim/Desktop/Monkey-Emotions/video/gandalf_231023/gandalf_231023_0_e3v83d6.mp4 to /Users/rahimhashim/Desktop/Monkey-Emotions/231023_gandalf_face_2-rahim-2023-10-26/videos/gandalf_231023_0_e3v83d6.mp4\n",
      "Created the symlink of /Users/rahimhashim/Desktop/Monkey-Emotions/video/gandalf_231023/gandalf_231023_1_e3v83d6.mp4 to /Users/rahimhashim/Desktop/Monkey-Emotions/231023_gandalf_face_2-rahim-2023-10-26/videos/gandalf_231023_1_e3v83d6.mp4\n",
      "Created the symlink of /Users/rahimhashim/Desktop/Monkey-Emotions/video/gandalf_231023/gandalf_231023_2_e3v83d6.mp4 to /Users/rahimhashim/Desktop/Monkey-Emotions/231023_gandalf_face_2-rahim-2023-10-26/videos/gandalf_231023_2_e3v83d6.mp4\n",
      "Created the symlink of /Users/rahimhashim/Desktop/Monkey-Emotions/video/gandalf_231023/gandalf_231023_3_e3v83d6.mp4 to /Users/rahimhashim/Desktop/Monkey-Emotions/231023_gandalf_face_2-rahim-2023-10-26/videos/gandalf_231023_3_e3v83d6.mp4\n",
      "Created the symlink of /Users/rahimhashim/Desktop/Monkey-Emotions/video/gandalf_231023/gandalf_231023_4_e3v83d6.mp4 to /Users/rahimhashim/Desktop/Monkey-Emotions/231023_gandalf_face_2-rahim-2023-10-26/videos/gandalf_231023_4_e3v83d6.mp4\n",
      "Created the symlink of /Users/rahimhashim/Desktop/Monkey-Emotions/video/gandalf_231023/gandalf_231023_5_e3v83d6.mp4 to /Users/rahimhashim/Desktop/Monkey-Emotions/231023_gandalf_face_2-rahim-2023-10-26/videos/gandalf_231023_5_e3v83d6.mp4\n",
      "Created the symlink of /Users/rahimhashim/Desktop/Monkey-Emotions/video/gandalf_231023/gandalf_231023_6_e3v83d6.mp4 to /Users/rahimhashim/Desktop/Monkey-Emotions/231023_gandalf_face_2-rahim-2023-10-26/videos/gandalf_231023_6_e3v83d6.mp4\n",
      "Created the symlink of /Users/rahimhashim/Desktop/Monkey-Emotions/video/gandalf_231023/gandalf_231023_7_e3v83d6.mp4 to /Users/rahimhashim/Desktop/Monkey-Emotions/231023_gandalf_face_2-rahim-2023-10-26/videos/gandalf_231023_7_e3v83d6.mp4\n",
      "Created the symlink of /Users/rahimhashim/Desktop/Monkey-Emotions/video/gandalf_231023/gandalf_231023_8_e3v83d6.mp4 to /Users/rahimhashim/Desktop/Monkey-Emotions/231023_gandalf_face_2-rahim-2023-10-26/videos/gandalf_231023_8_e3v83d6.mp4\n",
      "Created the symlink of /Users/rahimhashim/Desktop/Monkey-Emotions/video/gandalf_231023/gandalf_231023_9_e3v83d6.mp4 to /Users/rahimhashim/Desktop/Monkey-Emotions/231023_gandalf_face_2-rahim-2023-10-26/videos/gandalf_231023_9_e3v83d6.mp4\n",
      "Created the symlink of /Users/rahimhashim/Desktop/Monkey-Emotions/video/gandalf_231023/gandalf_231023_10_e3v83d6.mp4 to /Users/rahimhashim/Desktop/Monkey-Emotions/231023_gandalf_face_2-rahim-2023-10-26/videos/gandalf_231023_10_e3v83d6.mp4\n",
      "Created the symlink of /Users/rahimhashim/Desktop/Monkey-Emotions/video/gandalf_231023/gandalf_231023_11_e3v83d6.mp4 to /Users/rahimhashim/Desktop/Monkey-Emotions/231023_gandalf_face_2-rahim-2023-10-26/videos/gandalf_231023_11_e3v83d6.mp4\n",
      "Created the symlink of /Users/rahimhashim/Desktop/Monkey-Emotions/video/gandalf_231023/gandalf_231023_12_e3v83d6.mp4 to /Users/rahimhashim/Desktop/Monkey-Emotions/231023_gandalf_face_2-rahim-2023-10-26/videos/gandalf_231023_12_e3v83d6.mp4\n",
      "Created the symlink of /Users/rahimhashim/Desktop/Monkey-Emotions/video/gandalf_231023/gandalf_231023_13_e3v83d6.mp4 to /Users/rahimhashim/Desktop/Monkey-Emotions/231023_gandalf_face_2-rahim-2023-10-26/videos/gandalf_231023_13_e3v83d6.mp4\n",
      "Created the symlink of /Users/rahimhashim/Desktop/Monkey-Emotions/video/gandalf_231023/gandalf_231023_14_e3v83d6.mp4 to /Users/rahimhashim/Desktop/Monkey-Emotions/231023_gandalf_face_2-rahim-2023-10-26/videos/gandalf_231023_14_e3v83d6.mp4\n",
      "Created the symlink of /Users/rahimhashim/Desktop/Monkey-Emotions/video/gandalf_231023/gandalf_231023_15_e3v83d6.mp4 to /Users/rahimhashim/Desktop/Monkey-Emotions/231023_gandalf_face_2-rahim-2023-10-26/videos/gandalf_231023_15_e3v83d6.mp4\n",
      "Created the symlink of /Users/rahimhashim/Desktop/Monkey-Emotions/video/gandalf_231023/gandalf_231023_16_e3v83d6.mp4 to /Users/rahimhashim/Desktop/Monkey-Emotions/231023_gandalf_face_2-rahim-2023-10-26/videos/gandalf_231023_16_e3v83d6.mp4\n",
      "Created the symlink of /Users/rahimhashim/Desktop/Monkey-Emotions/video/gandalf_231023/gandalf_231023_17_e3v83d6.mp4 to /Users/rahimhashim/Desktop/Monkey-Emotions/231023_gandalf_face_2-rahim-2023-10-26/videos/gandalf_231023_17_e3v83d6.mp4\n",
      "Created the symlink of /Users/rahimhashim/Desktop/Monkey-Emotions/video/gandalf_231023/gandalf_231023_18_e3v83d6.mp4 to /Users/rahimhashim/Desktop/Monkey-Emotions/231023_gandalf_face_2-rahim-2023-10-26/videos/gandalf_231023_18_e3v83d6.mp4\n",
      "Created the symlink of /Users/rahimhashim/Desktop/Monkey-Emotions/video/gandalf_231023/gandalf_231023_19_e3v83d6.mp4 to /Users/rahimhashim/Desktop/Monkey-Emotions/231023_gandalf_face_2-rahim-2023-10-26/videos/gandalf_231023_19_e3v83d6.mp4\n",
      "Created the symlink of /Users/rahimhashim/Desktop/Monkey-Emotions/video/gandalf_231023/gandalf_231023_20_e3v83d6.mp4 to /Users/rahimhashim/Desktop/Monkey-Emotions/231023_gandalf_face_2-rahim-2023-10-26/videos/gandalf_231023_20_e3v83d6.mp4\n",
      "Created the symlink of /Users/rahimhashim/Desktop/Monkey-Emotions/video/gandalf_231023/gandalf_231023_21_e3v83d6.mp4 to /Users/rahimhashim/Desktop/Monkey-Emotions/231023_gandalf_face_2-rahim-2023-10-26/videos/gandalf_231023_21_e3v83d6.mp4\n",
      "Created the symlink of /Users/rahimhashim/Desktop/Monkey-Emotions/video/gandalf_231023/gandalf_231023_22_e3v83d6.mp4 to /Users/rahimhashim/Desktop/Monkey-Emotions/231023_gandalf_face_2-rahim-2023-10-26/videos/gandalf_231023_22_e3v83d6.mp4\n",
      "Created the symlink of /Users/rahimhashim/Desktop/Monkey-Emotions/video/gandalf_231023/gandalf_231023_23_e3v83d6.mp4 to /Users/rahimhashim/Desktop/Monkey-Emotions/231023_gandalf_face_2-rahim-2023-10-26/videos/gandalf_231023_23_e3v83d6.mp4\n",
      "Created the symlink of /Users/rahimhashim/Desktop/Monkey-Emotions/video/gandalf_231023/gandalf_231023_24_e3v83d6.mp4 to /Users/rahimhashim/Desktop/Monkey-Emotions/231023_gandalf_face_2-rahim-2023-10-26/videos/gandalf_231023_24_e3v83d6.mp4\n",
      "Created the symlink of /Users/rahimhashim/Desktop/Monkey-Emotions/video/gandalf_231023/gandalf_231023_25_e3v83d6.mp4 to /Users/rahimhashim/Desktop/Monkey-Emotions/231023_gandalf_face_2-rahim-2023-10-26/videos/gandalf_231023_25_e3v83d6.mp4\n",
      "Created the symlink of /Users/rahimhashim/Desktop/Monkey-Emotions/video/gandalf_231023/gandalf_231023_26_e3v83d6.mp4 to /Users/rahimhashim/Desktop/Monkey-Emotions/231023_gandalf_face_2-rahim-2023-10-26/videos/gandalf_231023_26_e3v83d6.mp4\n",
      "Created the symlink of /Users/rahimhashim/Desktop/Monkey-Emotions/video/gandalf_231023/gandalf_231023_27_e3v83d6.mp4 to /Users/rahimhashim/Desktop/Monkey-Emotions/231023_gandalf_face_2-rahim-2023-10-26/videos/gandalf_231023_27_e3v83d6.mp4\n",
      "Created the symlink of /Users/rahimhashim/Desktop/Monkey-Emotions/video/gandalf_231023/gandalf_231023_28_e3v83d6.mp4 to /Users/rahimhashim/Desktop/Monkey-Emotions/231023_gandalf_face_2-rahim-2023-10-26/videos/gandalf_231023_28_e3v83d6.mp4\n",
      "Created the symlink of /Users/rahimhashim/Desktop/Monkey-Emotions/video/gandalf_231023/gandalf_231023_29_e3v83d6.mp4 to /Users/rahimhashim/Desktop/Monkey-Emotions/231023_gandalf_face_2-rahim-2023-10-26/videos/gandalf_231023_29_e3v83d6.mp4\n",
      "Created the symlink of /Users/rahimhashim/Desktop/Monkey-Emotions/video/gandalf_231023/gandalf_231023_30_e3v83d6.mp4 to /Users/rahimhashim/Desktop/Monkey-Emotions/231023_gandalf_face_2-rahim-2023-10-26/videos/gandalf_231023_30_e3v83d6.mp4\n",
      "Created the symlink of /Users/rahimhashim/Desktop/Monkey-Emotions/video/gandalf_231023/gandalf_231023_31_e3v83d6.mp4 to /Users/rahimhashim/Desktop/Monkey-Emotions/231023_gandalf_face_2-rahim-2023-10-26/videos/gandalf_231023_31_e3v83d6.mp4\n",
      "Created the symlink of /Users/rahimhashim/Desktop/Monkey-Emotions/video/gandalf_231023/gandalf_231023_32_e3v83d6.mp4 to /Users/rahimhashim/Desktop/Monkey-Emotions/231023_gandalf_face_2-rahim-2023-10-26/videos/gandalf_231023_32_e3v83d6.mp4\n",
      "Created the symlink of /Users/rahimhashim/Desktop/Monkey-Emotions/video/gandalf_231023/gandalf_231023_33_e3v83d6.mp4 to /Users/rahimhashim/Desktop/Monkey-Emotions/231023_gandalf_face_2-rahim-2023-10-26/videos/gandalf_231023_33_e3v83d6.mp4\n",
      "Created the symlink of /Users/rahimhashim/Desktop/Monkey-Emotions/video/gandalf_231023/gandalf_231023_34_e3v83d6.mp4 to /Users/rahimhashim/Desktop/Monkey-Emotions/231023_gandalf_face_2-rahim-2023-10-26/videos/gandalf_231023_34_e3v83d6.mp4\n",
      "Created the symlink of /Users/rahimhashim/Desktop/Monkey-Emotions/video/gandalf_231023/gandalf_231023_35_e3v83d6.mp4 to /Users/rahimhashim/Desktop/Monkey-Emotions/231023_gandalf_face_2-rahim-2023-10-26/videos/gandalf_231023_35_e3v83d6.mp4\n",
      "Created the symlink of /Users/rahimhashim/Desktop/Monkey-Emotions/video/gandalf_231023/gandalf_231023_36_e3v83d6.mp4 to /Users/rahimhashim/Desktop/Monkey-Emotions/231023_gandalf_face_2-rahim-2023-10-26/videos/gandalf_231023_36_e3v83d6.mp4\n",
      "Created the symlink of /Users/rahimhashim/Desktop/Monkey-Emotions/video/gandalf_231023/gandalf_231023_37_e3v83d6.mp4 to /Users/rahimhashim/Desktop/Monkey-Emotions/231023_gandalf_face_2-rahim-2023-10-26/videos/gandalf_231023_37_e3v83d6.mp4\n",
      "Created the symlink of /Users/rahimhashim/Desktop/Monkey-Emotions/video/gandalf_231023/gandalf_231023_38_e3v83d6.mp4 to /Users/rahimhashim/Desktop/Monkey-Emotions/231023_gandalf_face_2-rahim-2023-10-26/videos/gandalf_231023_38_e3v83d6.mp4\n",
      "Created the symlink of /Users/rahimhashim/Desktop/Monkey-Emotions/video/gandalf_231023/gandalf_231023_39_e3v83d6.mp4 to /Users/rahimhashim/Desktop/Monkey-Emotions/231023_gandalf_face_2-rahim-2023-10-26/videos/gandalf_231023_39_e3v83d6.mp4\n",
      "Created the symlink of /Users/rahimhashim/Desktop/Monkey-Emotions/video/gandalf_231023/gandalf_231023_40_e3v83d6.mp4 to /Users/rahimhashim/Desktop/Monkey-Emotions/231023_gandalf_face_2-rahim-2023-10-26/videos/gandalf_231023_40_e3v83d6.mp4\n",
      "Created the symlink of /Users/rahimhashim/Desktop/Monkey-Emotions/video/gandalf_231023/gandalf_231023_41_e3v83d6.mp4 to /Users/rahimhashim/Desktop/Monkey-Emotions/231023_gandalf_face_2-rahim-2023-10-26/videos/gandalf_231023_41_e3v83d6.mp4\n",
      "Created the symlink of /Users/rahimhashim/Desktop/Monkey-Emotions/video/gandalf_231023/gandalf_231023_42_e3v83d6.mp4 to /Users/rahimhashim/Desktop/Monkey-Emotions/231023_gandalf_face_2-rahim-2023-10-26/videos/gandalf_231023_42_e3v83d6.mp4\n",
      "Created the symlink of /Users/rahimhashim/Desktop/Monkey-Emotions/video/gandalf_231023/gandalf_231023_43_e3v83d6.mp4 to /Users/rahimhashim/Desktop/Monkey-Emotions/231023_gandalf_face_2-rahim-2023-10-26/videos/gandalf_231023_43_e3v83d6.mp4\n",
      "Created the symlink of /Users/rahimhashim/Desktop/Monkey-Emotions/video/gandalf_231023/gandalf_231023_44_e3v83d6.mp4 to /Users/rahimhashim/Desktop/Monkey-Emotions/231023_gandalf_face_2-rahim-2023-10-26/videos/gandalf_231023_44_e3v83d6.mp4\n",
      "Created the symlink of /Users/rahimhashim/Desktop/Monkey-Emotions/video/gandalf_231023/gandalf_231023_45_e3v83d6.mp4 to /Users/rahimhashim/Desktop/Monkey-Emotions/231023_gandalf_face_2-rahim-2023-10-26/videos/gandalf_231023_45_e3v83d6.mp4\n",
      "Created the symlink of /Users/rahimhashim/Desktop/Monkey-Emotions/video/gandalf_231023/gandalf_231023_46_e3v83d6.mp4 to /Users/rahimhashim/Desktop/Monkey-Emotions/231023_gandalf_face_2-rahim-2023-10-26/videos/gandalf_231023_46_e3v83d6.mp4\n",
      "Created the symlink of /Users/rahimhashim/Desktop/Monkey-Emotions/video/gandalf_231023/gandalf_231023_47_e3v83d6.mp4 to /Users/rahimhashim/Desktop/Monkey-Emotions/231023_gandalf_face_2-rahim-2023-10-26/videos/gandalf_231023_47_e3v83d6.mp4\n",
      "Created the symlink of /Users/rahimhashim/Desktop/Monkey-Emotions/video/gandalf_231023/gandalf_231023_48_e3v83d6.mp4 to /Users/rahimhashim/Desktop/Monkey-Emotions/231023_gandalf_face_2-rahim-2023-10-26/videos/gandalf_231023_48_e3v83d6.mp4\n",
      "Created the symlink of /Users/rahimhashim/Desktop/Monkey-Emotions/video/gandalf_231023/gandalf_231023_49_e3v83d6.mp4 to /Users/rahimhashim/Desktop/Monkey-Emotions/231023_gandalf_face_2-rahim-2023-10-26/videos/gandalf_231023_49_e3v83d6.mp4\n",
      "Created the symlink of /Users/rahimhashim/Desktop/Monkey-Emotions/video/gandalf_231023/gandalf_231023_50_e3v83d6.mp4 to /Users/rahimhashim/Desktop/Monkey-Emotions/231023_gandalf_face_2-rahim-2023-10-26/videos/gandalf_231023_50_e3v83d6.mp4\n",
      "Created the symlink of /Users/rahimhashim/Desktop/Monkey-Emotions/video/gandalf_231023/gandalf_231023_51_e3v83d6.mp4 to /Users/rahimhashim/Desktop/Monkey-Emotions/231023_gandalf_face_2-rahim-2023-10-26/videos/gandalf_231023_51_e3v83d6.mp4\n",
      "Created the symlink of /Users/rahimhashim/Desktop/Monkey-Emotions/video/gandalf_231023/gandalf_231023_52_e3v83d6.mp4 to /Users/rahimhashim/Desktop/Monkey-Emotions/231023_gandalf_face_2-rahim-2023-10-26/videos/gandalf_231023_52_e3v83d6.mp4\n",
      "Created the symlink of /Users/rahimhashim/Desktop/Monkey-Emotions/video/gandalf_231023/gandalf_231023_53_e3v83d6.mp4 to /Users/rahimhashim/Desktop/Monkey-Emotions/231023_gandalf_face_2-rahim-2023-10-26/videos/gandalf_231023_53_e3v83d6.mp4\n",
      "Created the symlink of /Users/rahimhashim/Desktop/Monkey-Emotions/video/gandalf_231023/gandalf_231023_54_e3v83d6.mp4 to /Users/rahimhashim/Desktop/Monkey-Emotions/231023_gandalf_face_2-rahim-2023-10-26/videos/gandalf_231023_54_e3v83d6.mp4\n",
      "Created the symlink of /Users/rahimhashim/Desktop/Monkey-Emotions/video/gandalf_231023/gandalf_231023_55_e3v83d6.mp4 to /Users/rahimhashim/Desktop/Monkey-Emotions/231023_gandalf_face_2-rahim-2023-10-26/videos/gandalf_231023_55_e3v83d6.mp4\n",
      "Created the symlink of /Users/rahimhashim/Desktop/Monkey-Emotions/video/gandalf_231023/gandalf_231023_56_e3v83d6.mp4 to /Users/rahimhashim/Desktop/Monkey-Emotions/231023_gandalf_face_2-rahim-2023-10-26/videos/gandalf_231023_56_e3v83d6.mp4\n",
      "Created the symlink of /Users/rahimhashim/Desktop/Monkey-Emotions/video/gandalf_231023/gandalf_231023_57_e3v83d6.mp4 to /Users/rahimhashim/Desktop/Monkey-Emotions/231023_gandalf_face_2-rahim-2023-10-26/videos/gandalf_231023_57_e3v83d6.mp4\n",
      "Created the symlink of /Users/rahimhashim/Desktop/Monkey-Emotions/video/gandalf_231023/gandalf_231023_58_e3v83d6.mp4 to /Users/rahimhashim/Desktop/Monkey-Emotions/231023_gandalf_face_2-rahim-2023-10-26/videos/gandalf_231023_58_e3v83d6.mp4\n",
      "Created the symlink of /Users/rahimhashim/Desktop/Monkey-Emotions/video/gandalf_231023/gandalf_231023_59_e3v83d6.mp4 to /Users/rahimhashim/Desktop/Monkey-Emotions/231023_gandalf_face_2-rahim-2023-10-26/videos/gandalf_231023_59_e3v83d6.mp4\n",
      "Created the symlink of /Users/rahimhashim/Desktop/Monkey-Emotions/video/gandalf_231023/gandalf_231023_60_e3v83d6.mp4 to /Users/rahimhashim/Desktop/Monkey-Emotions/231023_gandalf_face_2-rahim-2023-10-26/videos/gandalf_231023_60_e3v83d6.mp4\n",
      "Created the symlink of /Users/rahimhashim/Desktop/Monkey-Emotions/video/gandalf_231023/gandalf_231023_61_e3v83d6.mp4 to /Users/rahimhashim/Desktop/Monkey-Emotions/231023_gandalf_face_2-rahim-2023-10-26/videos/gandalf_231023_61_e3v83d6.mp4\n",
      "Created the symlink of /Users/rahimhashim/Desktop/Monkey-Emotions/video/gandalf_231023/gandalf_231023_62_e3v83d6.mp4 to /Users/rahimhashim/Desktop/Monkey-Emotions/231023_gandalf_face_2-rahim-2023-10-26/videos/gandalf_231023_62_e3v83d6.mp4\n",
      "Created the symlink of /Users/rahimhashim/Desktop/Monkey-Emotions/video/gandalf_231023/gandalf_231023_63_e3v83d6.mp4 to /Users/rahimhashim/Desktop/Monkey-Emotions/231023_gandalf_face_2-rahim-2023-10-26/videos/gandalf_231023_63_e3v83d6.mp4\n",
      "Created the symlink of /Users/rahimhashim/Desktop/Monkey-Emotions/video/gandalf_231023/gandalf_231023_64_e3v83d6.mp4 to /Users/rahimhashim/Desktop/Monkey-Emotions/231023_gandalf_face_2-rahim-2023-10-26/videos/gandalf_231023_64_e3v83d6.mp4\n",
      "Created the symlink of /Users/rahimhashim/Desktop/Monkey-Emotions/video/gandalf_231023/gandalf_231023_65_e3v83d6.mp4 to /Users/rahimhashim/Desktop/Monkey-Emotions/231023_gandalf_face_2-rahim-2023-10-26/videos/gandalf_231023_65_e3v83d6.mp4\n",
      "Created the symlink of /Users/rahimhashim/Desktop/Monkey-Emotions/video/gandalf_231023/gandalf_231023_66_e3v83d6.mp4 to /Users/rahimhashim/Desktop/Monkey-Emotions/231023_gandalf_face_2-rahim-2023-10-26/videos/gandalf_231023_66_e3v83d6.mp4\n",
      "Created the symlink of /Users/rahimhashim/Desktop/Monkey-Emotions/video/gandalf_231023/gandalf_231023_67_e3v83d6.mp4 to /Users/rahimhashim/Desktop/Monkey-Emotions/231023_gandalf_face_2-rahim-2023-10-26/videos/gandalf_231023_67_e3v83d6.mp4\n",
      "Created the symlink of /Users/rahimhashim/Desktop/Monkey-Emotions/video/gandalf_231023/gandalf_231023_68_e3v83d6.mp4 to /Users/rahimhashim/Desktop/Monkey-Emotions/231023_gandalf_face_2-rahim-2023-10-26/videos/gandalf_231023_68_e3v83d6.mp4\n",
      "Created the symlink of /Users/rahimhashim/Desktop/Monkey-Emotions/video/gandalf_231023/gandalf_231023_69_e3v83d6.mp4 to /Users/rahimhashim/Desktop/Monkey-Emotions/231023_gandalf_face_2-rahim-2023-10-26/videos/gandalf_231023_69_e3v83d6.mp4\n",
      "Created the symlink of /Users/rahimhashim/Desktop/Monkey-Emotions/video/gandalf_231023/gandalf_231023_70_e3v83d6.mp4 to /Users/rahimhashim/Desktop/Monkey-Emotions/231023_gandalf_face_2-rahim-2023-10-26/videos/gandalf_231023_70_e3v83d6.mp4\n",
      "Created the symlink of /Users/rahimhashim/Desktop/Monkey-Emotions/video/gandalf_231023/gandalf_231023_71_e3v83d6.mp4 to /Users/rahimhashim/Desktop/Monkey-Emotions/231023_gandalf_face_2-rahim-2023-10-26/videos/gandalf_231023_71_e3v83d6.mp4\n",
      "Created the symlink of /Users/rahimhashim/Desktop/Monkey-Emotions/video/gandalf_231023/gandalf_231023_72_e3v83d6.mp4 to /Users/rahimhashim/Desktop/Monkey-Emotions/231023_gandalf_face_2-rahim-2023-10-26/videos/gandalf_231023_72_e3v83d6.mp4\n",
      "Created the symlink of /Users/rahimhashim/Desktop/Monkey-Emotions/video/gandalf_231023/gandalf_231023_73_e3v83d6.mp4 to /Users/rahimhashim/Desktop/Monkey-Emotions/231023_gandalf_face_2-rahim-2023-10-26/videos/gandalf_231023_73_e3v83d6.mp4\n",
      "Created the symlink of /Users/rahimhashim/Desktop/Monkey-Emotions/video/gandalf_231023/gandalf_231023_74_e3v83d6.mp4 to /Users/rahimhashim/Desktop/Monkey-Emotions/231023_gandalf_face_2-rahim-2023-10-26/videos/gandalf_231023_74_e3v83d6.mp4\n",
      "Created the symlink of /Users/rahimhashim/Desktop/Monkey-Emotions/video/gandalf_231023/gandalf_231023_75_e3v83d6.mp4 to /Users/rahimhashim/Desktop/Monkey-Emotions/231023_gandalf_face_2-rahim-2023-10-26/videos/gandalf_231023_75_e3v83d6.mp4\n",
      "Created the symlink of /Users/rahimhashim/Desktop/Monkey-Emotions/video/gandalf_231023/gandalf_231023_76_e3v83d6.mp4 to /Users/rahimhashim/Desktop/Monkey-Emotions/231023_gandalf_face_2-rahim-2023-10-26/videos/gandalf_231023_76_e3v83d6.mp4\n",
      "Created the symlink of /Users/rahimhashim/Desktop/Monkey-Emotions/video/gandalf_231023/gandalf_231023_77_e3v83d6.mp4 to /Users/rahimhashim/Desktop/Monkey-Emotions/231023_gandalf_face_2-rahim-2023-10-26/videos/gandalf_231023_77_e3v83d6.mp4\n",
      "Created the symlink of /Users/rahimhashim/Desktop/Monkey-Emotions/video/gandalf_231023/gandalf_231023_78_e3v83d6.mp4 to /Users/rahimhashim/Desktop/Monkey-Emotions/231023_gandalf_face_2-rahim-2023-10-26/videos/gandalf_231023_78_e3v83d6.mp4\n",
      "Created the symlink of /Users/rahimhashim/Desktop/Monkey-Emotions/video/gandalf_231023/gandalf_231023_79_e3v83d6.mp4 to /Users/rahimhashim/Desktop/Monkey-Emotions/231023_gandalf_face_2-rahim-2023-10-26/videos/gandalf_231023_79_e3v83d6.mp4\n",
      "Created the symlink of /Users/rahimhashim/Desktop/Monkey-Emotions/video/gandalf_231023/gandalf_231023_80_e3v83d6.mp4 to /Users/rahimhashim/Desktop/Monkey-Emotions/231023_gandalf_face_2-rahim-2023-10-26/videos/gandalf_231023_80_e3v83d6.mp4\n",
      "Created the symlink of /Users/rahimhashim/Desktop/Monkey-Emotions/video/gandalf_231023/gandalf_231023_81_e3v83d6.mp4 to /Users/rahimhashim/Desktop/Monkey-Emotions/231023_gandalf_face_2-rahim-2023-10-26/videos/gandalf_231023_81_e3v83d6.mp4\n",
      "Created the symlink of /Users/rahimhashim/Desktop/Monkey-Emotions/video/gandalf_231023/gandalf_231023_83_e3v83d6.mp4 to /Users/rahimhashim/Desktop/Monkey-Emotions/231023_gandalf_face_2-rahim-2023-10-26/videos/gandalf_231023_83_e3v83d6.mp4\n",
      "Created the symlink of /Users/rahimhashim/Desktop/Monkey-Emotions/video/gandalf_231023/gandalf_231023_84_e3v83d6.mp4 to /Users/rahimhashim/Desktop/Monkey-Emotions/231023_gandalf_face_2-rahim-2023-10-26/videos/gandalf_231023_84_e3v83d6.mp4\n",
      "Created the symlink of /Users/rahimhashim/Desktop/Monkey-Emotions/video/gandalf_231023/gandalf_231023_85_e3v83d6.mp4 to /Users/rahimhashim/Desktop/Monkey-Emotions/231023_gandalf_face_2-rahim-2023-10-26/videos/gandalf_231023_85_e3v83d6.mp4\n",
      "Created the symlink of /Users/rahimhashim/Desktop/Monkey-Emotions/video/gandalf_231023/gandalf_231023_86_e3v83d6.mp4 to /Users/rahimhashim/Desktop/Monkey-Emotions/231023_gandalf_face_2-rahim-2023-10-26/videos/gandalf_231023_86_e3v83d6.mp4\n",
      "Created the symlink of /Users/rahimhashim/Desktop/Monkey-Emotions/video/gandalf_231023/gandalf_231023_87_e3v83d6.mp4 to /Users/rahimhashim/Desktop/Monkey-Emotions/231023_gandalf_face_2-rahim-2023-10-26/videos/gandalf_231023_87_e3v83d6.mp4\n",
      "Created the symlink of /Users/rahimhashim/Desktop/Monkey-Emotions/video/gandalf_231023/gandalf_231023_88_e3v83d6.mp4 to /Users/rahimhashim/Desktop/Monkey-Emotions/231023_gandalf_face_2-rahim-2023-10-26/videos/gandalf_231023_88_e3v83d6.mp4\n",
      "Created the symlink of /Users/rahimhashim/Desktop/Monkey-Emotions/video/gandalf_231023/gandalf_231023_89_e3v83d6.mp4 to /Users/rahimhashim/Desktop/Monkey-Emotions/231023_gandalf_face_2-rahim-2023-10-26/videos/gandalf_231023_89_e3v83d6.mp4\n",
      "Created the symlink of /Users/rahimhashim/Desktop/Monkey-Emotions/video/gandalf_231023/gandalf_231023_90_e3v83d6.mp4 to /Users/rahimhashim/Desktop/Monkey-Emotions/231023_gandalf_face_2-rahim-2023-10-26/videos/gandalf_231023_90_e3v83d6.mp4\n",
      "Created the symlink of /Users/rahimhashim/Desktop/Monkey-Emotions/video/gandalf_231023/gandalf_231023_91_e3v83d6.mp4 to /Users/rahimhashim/Desktop/Monkey-Emotions/231023_gandalf_face_2-rahim-2023-10-26/videos/gandalf_231023_91_e3v83d6.mp4\n",
      "Created the symlink of /Users/rahimhashim/Desktop/Monkey-Emotions/video/gandalf_231023/gandalf_231023_92_e3v83d6.mp4 to /Users/rahimhashim/Desktop/Monkey-Emotions/231023_gandalf_face_2-rahim-2023-10-26/videos/gandalf_231023_92_e3v83d6.mp4\n",
      "Created the symlink of /Users/rahimhashim/Desktop/Monkey-Emotions/video/gandalf_231023/gandalf_231023_93_e3v83d6.mp4 to /Users/rahimhashim/Desktop/Monkey-Emotions/231023_gandalf_face_2-rahim-2023-10-26/videos/gandalf_231023_93_e3v83d6.mp4\n",
      "Created the symlink of /Users/rahimhashim/Desktop/Monkey-Emotions/video/gandalf_231023/gandalf_231023_94_e3v83d6.mp4 to /Users/rahimhashim/Desktop/Monkey-Emotions/231023_gandalf_face_2-rahim-2023-10-26/videos/gandalf_231023_94_e3v83d6.mp4\n",
      "Created the symlink of /Users/rahimhashim/Desktop/Monkey-Emotions/video/gandalf_231023/gandalf_231023_95_e3v83d6.mp4 to /Users/rahimhashim/Desktop/Monkey-Emotions/231023_gandalf_face_2-rahim-2023-10-26/videos/gandalf_231023_95_e3v83d6.mp4\n",
      "Created the symlink of /Users/rahimhashim/Desktop/Monkey-Emotions/video/gandalf_231023/gandalf_231023_96_e3v83d6.mp4 to /Users/rahimhashim/Desktop/Monkey-Emotions/231023_gandalf_face_2-rahim-2023-10-26/videos/gandalf_231023_96_e3v83d6.mp4\n",
      "Created the symlink of /Users/rahimhashim/Desktop/Monkey-Emotions/video/gandalf_231023/gandalf_231023_97_e3v83d6.mp4 to /Users/rahimhashim/Desktop/Monkey-Emotions/231023_gandalf_face_2-rahim-2023-10-26/videos/gandalf_231023_97_e3v83d6.mp4\n",
      "Created the symlink of /Users/rahimhashim/Desktop/Monkey-Emotions/video/gandalf_231023/gandalf_231023_98_e3v83d6.mp4 to /Users/rahimhashim/Desktop/Monkey-Emotions/231023_gandalf_face_2-rahim-2023-10-26/videos/gandalf_231023_98_e3v83d6.mp4\n",
      "Created the symlink of /Users/rahimhashim/Desktop/Monkey-Emotions/video/gandalf_231023/gandalf_231023_99_e3v83d6.mp4 to /Users/rahimhashim/Desktop/Monkey-Emotions/231023_gandalf_face_2-rahim-2023-10-26/videos/gandalf_231023_99_e3v83d6.mp4\n",
      "Created the symlink of /Users/rahimhashim/Desktop/Monkey-Emotions/video/gandalf_231023/gandalf_231023_100_e3v83d6.mp4 to /Users/rahimhashim/Desktop/Monkey-Emotions/231023_gandalf_face_2-rahim-2023-10-26/videos/gandalf_231023_100_e3v83d6.mp4\n",
      "Created the symlink of /Users/rahimhashim/Desktop/Monkey-Emotions/video/gandalf_231023/gandalf_231023_101_e3v83d6.mp4 to /Users/rahimhashim/Desktop/Monkey-Emotions/231023_gandalf_face_2-rahim-2023-10-26/videos/gandalf_231023_101_e3v83d6.mp4\n",
      "Created the symlink of /Users/rahimhashim/Desktop/Monkey-Emotions/video/gandalf_231023/gandalf_231023_102_e3v83d6.mp4 to /Users/rahimhashim/Desktop/Monkey-Emotions/231023_gandalf_face_2-rahim-2023-10-26/videos/gandalf_231023_102_e3v83d6.mp4\n",
      "Created the symlink of /Users/rahimhashim/Desktop/Monkey-Emotions/video/gandalf_231023/gandalf_231023_103_e3v83d6.mp4 to /Users/rahimhashim/Desktop/Monkey-Emotions/231023_gandalf_face_2-rahim-2023-10-26/videos/gandalf_231023_103_e3v83d6.mp4\n",
      "Created the symlink of /Users/rahimhashim/Desktop/Monkey-Emotions/video/gandalf_231023/gandalf_231023_104_e3v83d6.mp4 to /Users/rahimhashim/Desktop/Monkey-Emotions/231023_gandalf_face_2-rahim-2023-10-26/videos/gandalf_231023_104_e3v83d6.mp4\n",
      "Created the symlink of /Users/rahimhashim/Desktop/Monkey-Emotions/video/gandalf_231023/gandalf_231023_105_e3v83d6.mp4 to /Users/rahimhashim/Desktop/Monkey-Emotions/231023_gandalf_face_2-rahim-2023-10-26/videos/gandalf_231023_105_e3v83d6.mp4\n",
      "Created the symlink of /Users/rahimhashim/Desktop/Monkey-Emotions/video/gandalf_231023/gandalf_231023_106_e3v83d6.mp4 to /Users/rahimhashim/Desktop/Monkey-Emotions/231023_gandalf_face_2-rahim-2023-10-26/videos/gandalf_231023_106_e3v83d6.mp4\n",
      "Created the symlink of /Users/rahimhashim/Desktop/Monkey-Emotions/video/gandalf_231023/gandalf_231023_107_e3v83d6.mp4 to /Users/rahimhashim/Desktop/Monkey-Emotions/231023_gandalf_face_2-rahim-2023-10-26/videos/gandalf_231023_107_e3v83d6.mp4\n",
      "Created the symlink of /Users/rahimhashim/Desktop/Monkey-Emotions/video/gandalf_231023/gandalf_231023_108_e3v83d6.mp4 to /Users/rahimhashim/Desktop/Monkey-Emotions/231023_gandalf_face_2-rahim-2023-10-26/videos/gandalf_231023_108_e3v83d6.mp4\n",
      "Created the symlink of /Users/rahimhashim/Desktop/Monkey-Emotions/video/gandalf_231023/gandalf_231023_109_e3v83d6.mp4 to /Users/rahimhashim/Desktop/Monkey-Emotions/231023_gandalf_face_2-rahim-2023-10-26/videos/gandalf_231023_109_e3v83d6.mp4\n",
      "Created the symlink of /Users/rahimhashim/Desktop/Monkey-Emotions/video/gandalf_231023/gandalf_231023_110_e3v83d6.mp4 to /Users/rahimhashim/Desktop/Monkey-Emotions/231023_gandalf_face_2-rahim-2023-10-26/videos/gandalf_231023_110_e3v83d6.mp4\n",
      "Created the symlink of /Users/rahimhashim/Desktop/Monkey-Emotions/video/gandalf_231023/gandalf_231023_111_e3v83d6.mp4 to /Users/rahimhashim/Desktop/Monkey-Emotions/231023_gandalf_face_2-rahim-2023-10-26/videos/gandalf_231023_111_e3v83d6.mp4\n",
      "Created the symlink of /Users/rahimhashim/Desktop/Monkey-Emotions/video/gandalf_231023/gandalf_231023_112_e3v83d6.mp4 to /Users/rahimhashim/Desktop/Monkey-Emotions/231023_gandalf_face_2-rahim-2023-10-26/videos/gandalf_231023_112_e3v83d6.mp4\n",
      "Created the symlink of /Users/rahimhashim/Desktop/Monkey-Emotions/video/gandalf_231023/gandalf_231023_113_e3v83d6.mp4 to /Users/rahimhashim/Desktop/Monkey-Emotions/231023_gandalf_face_2-rahim-2023-10-26/videos/gandalf_231023_113_e3v83d6.mp4\n",
      "Created the symlink of /Users/rahimhashim/Desktop/Monkey-Emotions/video/gandalf_231023/gandalf_231023_114_e3v83d6.mp4 to /Users/rahimhashim/Desktop/Monkey-Emotions/231023_gandalf_face_2-rahim-2023-10-26/videos/gandalf_231023_114_e3v83d6.mp4\n",
      "Created the symlink of /Users/rahimhashim/Desktop/Monkey-Emotions/video/gandalf_231023/gandalf_231023_115_e3v83d6.mp4 to /Users/rahimhashim/Desktop/Monkey-Emotions/231023_gandalf_face_2-rahim-2023-10-26/videos/gandalf_231023_115_e3v83d6.mp4\n",
      "Created the symlink of /Users/rahimhashim/Desktop/Monkey-Emotions/video/gandalf_231023/gandalf_231023_116_e3v83d6.mp4 to /Users/rahimhashim/Desktop/Monkey-Emotions/231023_gandalf_face_2-rahim-2023-10-26/videos/gandalf_231023_116_e3v83d6.mp4\n",
      "Created the symlink of /Users/rahimhashim/Desktop/Monkey-Emotions/video/gandalf_231023/gandalf_231023_117_e3v83d6.mp4 to /Users/rahimhashim/Desktop/Monkey-Emotions/231023_gandalf_face_2-rahim-2023-10-26/videos/gandalf_231023_117_e3v83d6.mp4\n",
      "Created the symlink of /Users/rahimhashim/Desktop/Monkey-Emotions/video/gandalf_231023/gandalf_231023_118_e3v83d6.mp4 to /Users/rahimhashim/Desktop/Monkey-Emotions/231023_gandalf_face_2-rahim-2023-10-26/videos/gandalf_231023_118_e3v83d6.mp4\n",
      "Created the symlink of /Users/rahimhashim/Desktop/Monkey-Emotions/video/gandalf_231023/gandalf_231023_119_e3v83d6.mp4 to /Users/rahimhashim/Desktop/Monkey-Emotions/231023_gandalf_face_2-rahim-2023-10-26/videos/gandalf_231023_119_e3v83d6.mp4\n",
      "Created the symlink of /Users/rahimhashim/Desktop/Monkey-Emotions/video/gandalf_231023/gandalf_231023_120_e3v83d6.mp4 to /Users/rahimhashim/Desktop/Monkey-Emotions/231023_gandalf_face_2-rahim-2023-10-26/videos/gandalf_231023_120_e3v83d6.mp4\n",
      "Created the symlink of /Users/rahimhashim/Desktop/Monkey-Emotions/video/gandalf_231023/gandalf_231023_121_e3v83d6.mp4 to /Users/rahimhashim/Desktop/Monkey-Emotions/231023_gandalf_face_2-rahim-2023-10-26/videos/gandalf_231023_121_e3v83d6.mp4\n",
      "Created the symlink of /Users/rahimhashim/Desktop/Monkey-Emotions/video/gandalf_231023/gandalf_231023_122_e3v83d6.mp4 to /Users/rahimhashim/Desktop/Monkey-Emotions/231023_gandalf_face_2-rahim-2023-10-26/videos/gandalf_231023_122_e3v83d6.mp4\n",
      "Created the symlink of /Users/rahimhashim/Desktop/Monkey-Emotions/video/gandalf_231023/gandalf_231023_123_e3v83d6.mp4 to /Users/rahimhashim/Desktop/Monkey-Emotions/231023_gandalf_face_2-rahim-2023-10-26/videos/gandalf_231023_123_e3v83d6.mp4\n",
      "Created the symlink of /Users/rahimhashim/Desktop/Monkey-Emotions/video/gandalf_231023/gandalf_231023_124_e3v83d6.mp4 to /Users/rahimhashim/Desktop/Monkey-Emotions/231023_gandalf_face_2-rahim-2023-10-26/videos/gandalf_231023_124_e3v83d6.mp4\n",
      "Created the symlink of /Users/rahimhashim/Desktop/Monkey-Emotions/video/gandalf_231023/gandalf_231023_125_e3v83d6.mp4 to /Users/rahimhashim/Desktop/Monkey-Emotions/231023_gandalf_face_2-rahim-2023-10-26/videos/gandalf_231023_125_e3v83d6.mp4\n",
      "Created the symlink of /Users/rahimhashim/Desktop/Monkey-Emotions/video/gandalf_231023/gandalf_231023_126_e3v83d6.mp4 to /Users/rahimhashim/Desktop/Monkey-Emotions/231023_gandalf_face_2-rahim-2023-10-26/videos/gandalf_231023_126_e3v83d6.mp4\n",
      "Created the symlink of /Users/rahimhashim/Desktop/Monkey-Emotions/video/gandalf_231023/gandalf_231023_127_e3v83d6.mp4 to /Users/rahimhashim/Desktop/Monkey-Emotions/231023_gandalf_face_2-rahim-2023-10-26/videos/gandalf_231023_127_e3v83d6.mp4\n",
      "Created the symlink of /Users/rahimhashim/Desktop/Monkey-Emotions/video/gandalf_231023/gandalf_231023_128_e3v83d6.mp4 to /Users/rahimhashim/Desktop/Monkey-Emotions/231023_gandalf_face_2-rahim-2023-10-26/videos/gandalf_231023_128_e3v83d6.mp4\n",
      "Created the symlink of /Users/rahimhashim/Desktop/Monkey-Emotions/video/gandalf_231023/gandalf_231023_129_e3v83d6.mp4 to /Users/rahimhashim/Desktop/Monkey-Emotions/231023_gandalf_face_2-rahim-2023-10-26/videos/gandalf_231023_129_e3v83d6.mp4\n",
      "Created the symlink of /Users/rahimhashim/Desktop/Monkey-Emotions/video/gandalf_231023/gandalf_231023_130_e3v83d6.mp4 to /Users/rahimhashim/Desktop/Monkey-Emotions/231023_gandalf_face_2-rahim-2023-10-26/videos/gandalf_231023_130_e3v83d6.mp4\n",
      "Created the symlink of /Users/rahimhashim/Desktop/Monkey-Emotions/video/gandalf_231023/gandalf_231023_131_e3v83d6.mp4 to /Users/rahimhashim/Desktop/Monkey-Emotions/231023_gandalf_face_2-rahim-2023-10-26/videos/gandalf_231023_131_e3v83d6.mp4\n",
      "Created the symlink of /Users/rahimhashim/Desktop/Monkey-Emotions/video/gandalf_231023/gandalf_231023_132_e3v83d6.mp4 to /Users/rahimhashim/Desktop/Monkey-Emotions/231023_gandalf_face_2-rahim-2023-10-26/videos/gandalf_231023_132_e3v83d6.mp4\n",
      "Created the symlink of /Users/rahimhashim/Desktop/Monkey-Emotions/video/gandalf_231023/gandalf_231023_133_e3v83d6.mp4 to /Users/rahimhashim/Desktop/Monkey-Emotions/231023_gandalf_face_2-rahim-2023-10-26/videos/gandalf_231023_133_e3v83d6.mp4\n",
      "Created the symlink of /Users/rahimhashim/Desktop/Monkey-Emotions/video/gandalf_231023/gandalf_231023_134_e3v83d6.mp4 to /Users/rahimhashim/Desktop/Monkey-Emotions/231023_gandalf_face_2-rahim-2023-10-26/videos/gandalf_231023_134_e3v83d6.mp4\n",
      "Created the symlink of /Users/rahimhashim/Desktop/Monkey-Emotions/video/gandalf_231023/gandalf_231023_135_e3v83d6.mp4 to /Users/rahimhashim/Desktop/Monkey-Emotions/231023_gandalf_face_2-rahim-2023-10-26/videos/gandalf_231023_135_e3v83d6.mp4\n",
      "Created the symlink of /Users/rahimhashim/Desktop/Monkey-Emotions/video/gandalf_231023/gandalf_231023_136_e3v83d6.mp4 to /Users/rahimhashim/Desktop/Monkey-Emotions/231023_gandalf_face_2-rahim-2023-10-26/videos/gandalf_231023_136_e3v83d6.mp4\n",
      "Created the symlink of /Users/rahimhashim/Desktop/Monkey-Emotions/video/gandalf_231023/gandalf_231023_137_e3v83d6.mp4 to /Users/rahimhashim/Desktop/Monkey-Emotions/231023_gandalf_face_2-rahim-2023-10-26/videos/gandalf_231023_137_e3v83d6.mp4\n",
      "Created the symlink of /Users/rahimhashim/Desktop/Monkey-Emotions/video/gandalf_231023/gandalf_231023_138_e3v83d6.mp4 to /Users/rahimhashim/Desktop/Monkey-Emotions/231023_gandalf_face_2-rahim-2023-10-26/videos/gandalf_231023_138_e3v83d6.mp4\n",
      "Created the symlink of /Users/rahimhashim/Desktop/Monkey-Emotions/video/gandalf_231023/gandalf_231023_139_e3v83d6.mp4 to /Users/rahimhashim/Desktop/Monkey-Emotions/231023_gandalf_face_2-rahim-2023-10-26/videos/gandalf_231023_139_e3v83d6.mp4\n",
      "Created the symlink of /Users/rahimhashim/Desktop/Monkey-Emotions/video/gandalf_231023/gandalf_231023_140_e3v83d6.mp4 to /Users/rahimhashim/Desktop/Monkey-Emotions/231023_gandalf_face_2-rahim-2023-10-26/videos/gandalf_231023_140_e3v83d6.mp4\n",
      "Created the symlink of /Users/rahimhashim/Desktop/Monkey-Emotions/video/gandalf_231023/gandalf_231023_141_e3v83d6.mp4 to /Users/rahimhashim/Desktop/Monkey-Emotions/231023_gandalf_face_2-rahim-2023-10-26/videos/gandalf_231023_141_e3v83d6.mp4\n",
      "Created the symlink of /Users/rahimhashim/Desktop/Monkey-Emotions/video/gandalf_231023/gandalf_231023_142_e3v83d6.mp4 to /Users/rahimhashim/Desktop/Monkey-Emotions/231023_gandalf_face_2-rahim-2023-10-26/videos/gandalf_231023_142_e3v83d6.mp4\n",
      "Created the symlink of /Users/rahimhashim/Desktop/Monkey-Emotions/video/gandalf_231023/gandalf_231023_143_e3v83d6.mp4 to /Users/rahimhashim/Desktop/Monkey-Emotions/231023_gandalf_face_2-rahim-2023-10-26/videos/gandalf_231023_143_e3v83d6.mp4\n",
      "Created the symlink of /Users/rahimhashim/Desktop/Monkey-Emotions/video/gandalf_231023/gandalf_231023_144_e3v83d6.mp4 to /Users/rahimhashim/Desktop/Monkey-Emotions/231023_gandalf_face_2-rahim-2023-10-26/videos/gandalf_231023_144_e3v83d6.mp4\n",
      "Created the symlink of /Users/rahimhashim/Desktop/Monkey-Emotions/video/gandalf_231023/gandalf_231023_145_e3v83d6.mp4 to /Users/rahimhashim/Desktop/Monkey-Emotions/231023_gandalf_face_2-rahim-2023-10-26/videos/gandalf_231023_145_e3v83d6.mp4\n",
      "Created the symlink of /Users/rahimhashim/Desktop/Monkey-Emotions/video/gandalf_231023/gandalf_231023_146_e3v83d6.mp4 to /Users/rahimhashim/Desktop/Monkey-Emotions/231023_gandalf_face_2-rahim-2023-10-26/videos/gandalf_231023_146_e3v83d6.mp4\n",
      "Created the symlink of /Users/rahimhashim/Desktop/Monkey-Emotions/video/gandalf_231023/gandalf_231023_147_e3v83d6.mp4 to /Users/rahimhashim/Desktop/Monkey-Emotions/231023_gandalf_face_2-rahim-2023-10-26/videos/gandalf_231023_147_e3v83d6.mp4\n",
      "Created the symlink of /Users/rahimhashim/Desktop/Monkey-Emotions/video/gandalf_231023/gandalf_231023_148_e3v83d6.mp4 to /Users/rahimhashim/Desktop/Monkey-Emotions/231023_gandalf_face_2-rahim-2023-10-26/videos/gandalf_231023_148_e3v83d6.mp4\n",
      "Created the symlink of /Users/rahimhashim/Desktop/Monkey-Emotions/video/gandalf_231023/gandalf_231023_149_e3v83d6.mp4 to /Users/rahimhashim/Desktop/Monkey-Emotions/231023_gandalf_face_2-rahim-2023-10-26/videos/gandalf_231023_149_e3v83d6.mp4\n",
      "Created the symlink of /Users/rahimhashim/Desktop/Monkey-Emotions/video/gandalf_231023/gandalf_231023_150_e3v83d6.mp4 to /Users/rahimhashim/Desktop/Monkey-Emotions/231023_gandalf_face_2-rahim-2023-10-26/videos/gandalf_231023_150_e3v83d6.mp4\n",
      "Created the symlink of /Users/rahimhashim/Desktop/Monkey-Emotions/video/gandalf_231023/gandalf_231023_151_e3v83d6.mp4 to /Users/rahimhashim/Desktop/Monkey-Emotions/231023_gandalf_face_2-rahim-2023-10-26/videos/gandalf_231023_151_e3v83d6.mp4\n",
      "Created the symlink of /Users/rahimhashim/Desktop/Monkey-Emotions/video/gandalf_231023/gandalf_231023_152_e3v83d6.mp4 to /Users/rahimhashim/Desktop/Monkey-Emotions/231023_gandalf_face_2-rahim-2023-10-26/videos/gandalf_231023_152_e3v83d6.mp4\n",
      "Created the symlink of /Users/rahimhashim/Desktop/Monkey-Emotions/video/gandalf_231023/gandalf_231023_153_e3v83d6.mp4 to /Users/rahimhashim/Desktop/Monkey-Emotions/231023_gandalf_face_2-rahim-2023-10-26/videos/gandalf_231023_153_e3v83d6.mp4\n",
      "Created the symlink of /Users/rahimhashim/Desktop/Monkey-Emotions/video/gandalf_231023/gandalf_231023_154_e3v83d6.mp4 to /Users/rahimhashim/Desktop/Monkey-Emotions/231023_gandalf_face_2-rahim-2023-10-26/videos/gandalf_231023_154_e3v83d6.mp4\n",
      "Created the symlink of /Users/rahimhashim/Desktop/Monkey-Emotions/video/gandalf_231023/gandalf_231023_155_e3v83d6.mp4 to /Users/rahimhashim/Desktop/Monkey-Emotions/231023_gandalf_face_2-rahim-2023-10-26/videos/gandalf_231023_155_e3v83d6.mp4\n",
      "Created the symlink of /Users/rahimhashim/Desktop/Monkey-Emotions/video/gandalf_231023/gandalf_231023_156_e3v83d6.mp4 to /Users/rahimhashim/Desktop/Monkey-Emotions/231023_gandalf_face_2-rahim-2023-10-26/videos/gandalf_231023_156_e3v83d6.mp4\n",
      "Created the symlink of /Users/rahimhashim/Desktop/Monkey-Emotions/video/gandalf_231023/gandalf_231023_157_e3v83d6.mp4 to /Users/rahimhashim/Desktop/Monkey-Emotions/231023_gandalf_face_2-rahim-2023-10-26/videos/gandalf_231023_157_e3v83d6.mp4\n",
      "Created the symlink of /Users/rahimhashim/Desktop/Monkey-Emotions/video/gandalf_231023/gandalf_231023_158_e3v83d6.mp4 to /Users/rahimhashim/Desktop/Monkey-Emotions/231023_gandalf_face_2-rahim-2023-10-26/videos/gandalf_231023_158_e3v83d6.mp4\n",
      "Created the symlink of /Users/rahimhashim/Desktop/Monkey-Emotions/video/gandalf_231023/gandalf_231023_159_e3v83d6.mp4 to /Users/rahimhashim/Desktop/Monkey-Emotions/231023_gandalf_face_2-rahim-2023-10-26/videos/gandalf_231023_159_e3v83d6.mp4\n",
      "Created the symlink of /Users/rahimhashim/Desktop/Monkey-Emotions/video/gandalf_231023/gandalf_231023_160_e3v83d6.mp4 to /Users/rahimhashim/Desktop/Monkey-Emotions/231023_gandalf_face_2-rahim-2023-10-26/videos/gandalf_231023_160_e3v83d6.mp4\n",
      "Created the symlink of /Users/rahimhashim/Desktop/Monkey-Emotions/video/gandalf_231023/gandalf_231023_161_e3v83d6.mp4 to /Users/rahimhashim/Desktop/Monkey-Emotions/231023_gandalf_face_2-rahim-2023-10-26/videos/gandalf_231023_161_e3v83d6.mp4\n",
      "Created the symlink of /Users/rahimhashim/Desktop/Monkey-Emotions/video/gandalf_231023/gandalf_231023_162_e3v83d6.mp4 to /Users/rahimhashim/Desktop/Monkey-Emotions/231023_gandalf_face_2-rahim-2023-10-26/videos/gandalf_231023_162_e3v83d6.mp4\n",
      "Created the symlink of /Users/rahimhashim/Desktop/Monkey-Emotions/video/gandalf_231023/gandalf_231023_163_e3v83d6.mp4 to /Users/rahimhashim/Desktop/Monkey-Emotions/231023_gandalf_face_2-rahim-2023-10-26/videos/gandalf_231023_163_e3v83d6.mp4\n",
      "Created the symlink of /Users/rahimhashim/Desktop/Monkey-Emotions/video/gandalf_231023/gandalf_231023_164_e3v83d6.mp4 to /Users/rahimhashim/Desktop/Monkey-Emotions/231023_gandalf_face_2-rahim-2023-10-26/videos/gandalf_231023_164_e3v83d6.mp4\n",
      "Created the symlink of /Users/rahimhashim/Desktop/Monkey-Emotions/video/gandalf_231023/gandalf_231023_165_e3v83d6.mp4 to /Users/rahimhashim/Desktop/Monkey-Emotions/231023_gandalf_face_2-rahim-2023-10-26/videos/gandalf_231023_165_e3v83d6.mp4\n",
      "Created the symlink of /Users/rahimhashim/Desktop/Monkey-Emotions/video/gandalf_231023/gandalf_231023_166_e3v83d6.mp4 to /Users/rahimhashim/Desktop/Monkey-Emotions/231023_gandalf_face_2-rahim-2023-10-26/videos/gandalf_231023_166_e3v83d6.mp4\n",
      "Created the symlink of /Users/rahimhashim/Desktop/Monkey-Emotions/video/gandalf_231023/gandalf_231023_168_e3v83d6.mp4 to /Users/rahimhashim/Desktop/Monkey-Emotions/231023_gandalf_face_2-rahim-2023-10-26/videos/gandalf_231023_168_e3v83d6.mp4\n",
      "Created the symlink of /Users/rahimhashim/Desktop/Monkey-Emotions/video/gandalf_231023/gandalf_231023_169_e3v83d6.mp4 to /Users/rahimhashim/Desktop/Monkey-Emotions/231023_gandalf_face_2-rahim-2023-10-26/videos/gandalf_231023_169_e3v83d6.mp4\n",
      "Created the symlink of /Users/rahimhashim/Desktop/Monkey-Emotions/video/gandalf_231023/gandalf_231023_170_e3v83d6.mp4 to /Users/rahimhashim/Desktop/Monkey-Emotions/231023_gandalf_face_2-rahim-2023-10-26/videos/gandalf_231023_170_e3v83d6.mp4\n",
      "Created the symlink of /Users/rahimhashim/Desktop/Monkey-Emotions/video/gandalf_231023/gandalf_231023_171_e3v83d6.mp4 to /Users/rahimhashim/Desktop/Monkey-Emotions/231023_gandalf_face_2-rahim-2023-10-26/videos/gandalf_231023_171_e3v83d6.mp4\n",
      "Created the symlink of /Users/rahimhashim/Desktop/Monkey-Emotions/video/gandalf_231023/gandalf_231023_172_e3v83d6.mp4 to /Users/rahimhashim/Desktop/Monkey-Emotions/231023_gandalf_face_2-rahim-2023-10-26/videos/gandalf_231023_172_e3v83d6.mp4\n",
      "Created the symlink of /Users/rahimhashim/Desktop/Monkey-Emotions/video/gandalf_231023/gandalf_231023_173_e3v83d6.mp4 to /Users/rahimhashim/Desktop/Monkey-Emotions/231023_gandalf_face_2-rahim-2023-10-26/videos/gandalf_231023_173_e3v83d6.mp4\n",
      "Created the symlink of /Users/rahimhashim/Desktop/Monkey-Emotions/video/gandalf_231023/gandalf_231023_174_e3v83d6.mp4 to /Users/rahimhashim/Desktop/Monkey-Emotions/231023_gandalf_face_2-rahim-2023-10-26/videos/gandalf_231023_174_e3v83d6.mp4\n",
      "Created the symlink of /Users/rahimhashim/Desktop/Monkey-Emotions/video/gandalf_231023/gandalf_231023_175_e3v83d6.mp4 to /Users/rahimhashim/Desktop/Monkey-Emotions/231023_gandalf_face_2-rahim-2023-10-26/videos/gandalf_231023_175_e3v83d6.mp4\n",
      "Created the symlink of /Users/rahimhashim/Desktop/Monkey-Emotions/video/gandalf_231023/gandalf_231023_176_e3v83d6.mp4 to /Users/rahimhashim/Desktop/Monkey-Emotions/231023_gandalf_face_2-rahim-2023-10-26/videos/gandalf_231023_176_e3v83d6.mp4\n",
      "Created the symlink of /Users/rahimhashim/Desktop/Monkey-Emotions/video/gandalf_231023/gandalf_231023_177_e3v83d6.mp4 to /Users/rahimhashim/Desktop/Monkey-Emotions/231023_gandalf_face_2-rahim-2023-10-26/videos/gandalf_231023_177_e3v83d6.mp4\n",
      "Created the symlink of /Users/rahimhashim/Desktop/Monkey-Emotions/video/gandalf_231023/gandalf_231023_178_e3v83d6.mp4 to /Users/rahimhashim/Desktop/Monkey-Emotions/231023_gandalf_face_2-rahim-2023-10-26/videos/gandalf_231023_178_e3v83d6.mp4\n",
      "Created the symlink of /Users/rahimhashim/Desktop/Monkey-Emotions/video/gandalf_231023/gandalf_231023_179_e3v83d6.mp4 to /Users/rahimhashim/Desktop/Monkey-Emotions/231023_gandalf_face_2-rahim-2023-10-26/videos/gandalf_231023_179_e3v83d6.mp4\n",
      "Created the symlink of /Users/rahimhashim/Desktop/Monkey-Emotions/video/gandalf_231023/gandalf_231023_180_e3v83d6.mp4 to /Users/rahimhashim/Desktop/Monkey-Emotions/231023_gandalf_face_2-rahim-2023-10-26/videos/gandalf_231023_180_e3v83d6.mp4\n",
      "Created the symlink of /Users/rahimhashim/Desktop/Monkey-Emotions/video/gandalf_231023/gandalf_231023_181_e3v83d6.mp4 to /Users/rahimhashim/Desktop/Monkey-Emotions/231023_gandalf_face_2-rahim-2023-10-26/videos/gandalf_231023_181_e3v83d6.mp4\n",
      "Created the symlink of /Users/rahimhashim/Desktop/Monkey-Emotions/video/gandalf_231023/gandalf_231023_182_e3v83d6.mp4 to /Users/rahimhashim/Desktop/Monkey-Emotions/231023_gandalf_face_2-rahim-2023-10-26/videos/gandalf_231023_182_e3v83d6.mp4\n",
      "Created the symlink of /Users/rahimhashim/Desktop/Monkey-Emotions/video/gandalf_231023/gandalf_231023_183_e3v83d6.mp4 to /Users/rahimhashim/Desktop/Monkey-Emotions/231023_gandalf_face_2-rahim-2023-10-26/videos/gandalf_231023_183_e3v83d6.mp4\n",
      "Created the symlink of /Users/rahimhashim/Desktop/Monkey-Emotions/video/gandalf_231023/gandalf_231023_184_e3v83d6.mp4 to /Users/rahimhashim/Desktop/Monkey-Emotions/231023_gandalf_face_2-rahim-2023-10-26/videos/gandalf_231023_184_e3v83d6.mp4\n",
      "Created the symlink of /Users/rahimhashim/Desktop/Monkey-Emotions/video/gandalf_231023/gandalf_231023_185_e3v83d6.mp4 to /Users/rahimhashim/Desktop/Monkey-Emotions/231023_gandalf_face_2-rahim-2023-10-26/videos/gandalf_231023_185_e3v83d6.mp4\n",
      "Created the symlink of /Users/rahimhashim/Desktop/Monkey-Emotions/video/gandalf_231023/gandalf_231023_186_e3v83d6.mp4 to /Users/rahimhashim/Desktop/Monkey-Emotions/231023_gandalf_face_2-rahim-2023-10-26/videos/gandalf_231023_186_e3v83d6.mp4\n",
      "Created the symlink of /Users/rahimhashim/Desktop/Monkey-Emotions/video/gandalf_231023/gandalf_231023_187_e3v83d6.mp4 to /Users/rahimhashim/Desktop/Monkey-Emotions/231023_gandalf_face_2-rahim-2023-10-26/videos/gandalf_231023_187_e3v83d6.mp4\n",
      "Created the symlink of /Users/rahimhashim/Desktop/Monkey-Emotions/video/gandalf_231023/gandalf_231023_188_e3v83d6.mp4 to /Users/rahimhashim/Desktop/Monkey-Emotions/231023_gandalf_face_2-rahim-2023-10-26/videos/gandalf_231023_188_e3v83d6.mp4\n",
      "Created the symlink of /Users/rahimhashim/Desktop/Monkey-Emotions/video/gandalf_231023/gandalf_231023_189_e3v83d6.mp4 to /Users/rahimhashim/Desktop/Monkey-Emotions/231023_gandalf_face_2-rahim-2023-10-26/videos/gandalf_231023_189_e3v83d6.mp4\n",
      "Created the symlink of /Users/rahimhashim/Desktop/Monkey-Emotions/video/gandalf_231023/gandalf_231023_190_e3v83d6.mp4 to /Users/rahimhashim/Desktop/Monkey-Emotions/231023_gandalf_face_2-rahim-2023-10-26/videos/gandalf_231023_190_e3v83d6.mp4\n",
      "Created the symlink of /Users/rahimhashim/Desktop/Monkey-Emotions/video/gandalf_231023/gandalf_231023_191_e3v83d6.mp4 to /Users/rahimhashim/Desktop/Monkey-Emotions/231023_gandalf_face_2-rahim-2023-10-26/videos/gandalf_231023_191_e3v83d6.mp4\n",
      "Created the symlink of /Users/rahimhashim/Desktop/Monkey-Emotions/video/gandalf_231023/gandalf_231023_192_e3v83d6.mp4 to /Users/rahimhashim/Desktop/Monkey-Emotions/231023_gandalf_face_2-rahim-2023-10-26/videos/gandalf_231023_192_e3v83d6.mp4\n",
      "Created the symlink of /Users/rahimhashim/Desktop/Monkey-Emotions/video/gandalf_231023/gandalf_231023_193_e3v83d6.mp4 to /Users/rahimhashim/Desktop/Monkey-Emotions/231023_gandalf_face_2-rahim-2023-10-26/videos/gandalf_231023_193_e3v83d6.mp4\n",
      "Created the symlink of /Users/rahimhashim/Desktop/Monkey-Emotions/video/gandalf_231023/gandalf_231023_194_e3v83d6.mp4 to /Users/rahimhashim/Desktop/Monkey-Emotions/231023_gandalf_face_2-rahim-2023-10-26/videos/gandalf_231023_194_e3v83d6.mp4\n",
      "Created the symlink of /Users/rahimhashim/Desktop/Monkey-Emotions/video/gandalf_231023/gandalf_231023_195_e3v83d6.mp4 to /Users/rahimhashim/Desktop/Monkey-Emotions/231023_gandalf_face_2-rahim-2023-10-26/videos/gandalf_231023_195_e3v83d6.mp4\n",
      "Created the symlink of /Users/rahimhashim/Desktop/Monkey-Emotions/video/gandalf_231023/gandalf_231023_196_e3v83d6.mp4 to /Users/rahimhashim/Desktop/Monkey-Emotions/231023_gandalf_face_2-rahim-2023-10-26/videos/gandalf_231023_196_e3v83d6.mp4\n",
      "Created the symlink of /Users/rahimhashim/Desktop/Monkey-Emotions/video/gandalf_231023/gandalf_231023_197_e3v83d6.mp4 to /Users/rahimhashim/Desktop/Monkey-Emotions/231023_gandalf_face_2-rahim-2023-10-26/videos/gandalf_231023_197_e3v83d6.mp4\n",
      "Created the symlink of /Users/rahimhashim/Desktop/Monkey-Emotions/video/gandalf_231023/gandalf_231023_198_e3v83d6.mp4 to /Users/rahimhashim/Desktop/Monkey-Emotions/231023_gandalf_face_2-rahim-2023-10-26/videos/gandalf_231023_198_e3v83d6.mp4\n",
      "Created the symlink of /Users/rahimhashim/Desktop/Monkey-Emotions/video/gandalf_231023/gandalf_231023_199_e3v83d6.mp4 to /Users/rahimhashim/Desktop/Monkey-Emotions/231023_gandalf_face_2-rahim-2023-10-26/videos/gandalf_231023_199_e3v83d6.mp4\n",
      "Created the symlink of /Users/rahimhashim/Desktop/Monkey-Emotions/video/gandalf_231023/gandalf_231023_200_e3v83d6.mp4 to /Users/rahimhashim/Desktop/Monkey-Emotions/231023_gandalf_face_2-rahim-2023-10-26/videos/gandalf_231023_200_e3v83d6.mp4\n",
      "Created the symlink of /Users/rahimhashim/Desktop/Monkey-Emotions/video/gandalf_231023/gandalf_231023_201_e3v83d6.mp4 to /Users/rahimhashim/Desktop/Monkey-Emotions/231023_gandalf_face_2-rahim-2023-10-26/videos/gandalf_231023_201_e3v83d6.mp4\n",
      "Created the symlink of /Users/rahimhashim/Desktop/Monkey-Emotions/video/gandalf_231023/gandalf_231023_202_e3v83d6.mp4 to /Users/rahimhashim/Desktop/Monkey-Emotions/231023_gandalf_face_2-rahim-2023-10-26/videos/gandalf_231023_202_e3v83d6.mp4\n",
      "Created the symlink of /Users/rahimhashim/Desktop/Monkey-Emotions/video/gandalf_231023/gandalf_231023_203_e3v83d6.mp4 to /Users/rahimhashim/Desktop/Monkey-Emotions/231023_gandalf_face_2-rahim-2023-10-26/videos/gandalf_231023_203_e3v83d6.mp4\n",
      "Created the symlink of /Users/rahimhashim/Desktop/Monkey-Emotions/video/gandalf_231023/gandalf_231023_204_e3v83d6.mp4 to /Users/rahimhashim/Desktop/Monkey-Emotions/231023_gandalf_face_2-rahim-2023-10-26/videos/gandalf_231023_204_e3v83d6.mp4\n",
      "Created the symlink of /Users/rahimhashim/Desktop/Monkey-Emotions/video/gandalf_231023/gandalf_231023_205_e3v83d6.mp4 to /Users/rahimhashim/Desktop/Monkey-Emotions/231023_gandalf_face_2-rahim-2023-10-26/videos/gandalf_231023_205_e3v83d6.mp4\n",
      "Created the symlink of /Users/rahimhashim/Desktop/Monkey-Emotions/video/gandalf_231023/gandalf_231023_206_e3v83d6.mp4 to /Users/rahimhashim/Desktop/Monkey-Emotions/231023_gandalf_face_2-rahim-2023-10-26/videos/gandalf_231023_206_e3v83d6.mp4\n",
      "Created the symlink of /Users/rahimhashim/Desktop/Monkey-Emotions/video/gandalf_231023/gandalf_231023_207_e3v83d6.mp4 to /Users/rahimhashim/Desktop/Monkey-Emotions/231023_gandalf_face_2-rahim-2023-10-26/videos/gandalf_231023_207_e3v83d6.mp4\n",
      "Created the symlink of /Users/rahimhashim/Desktop/Monkey-Emotions/video/gandalf_231023/gandalf_231023_208_e3v83d6.mp4 to /Users/rahimhashim/Desktop/Monkey-Emotions/231023_gandalf_face_2-rahim-2023-10-26/videos/gandalf_231023_208_e3v83d6.mp4\n",
      "Created the symlink of /Users/rahimhashim/Desktop/Monkey-Emotions/video/gandalf_231023/gandalf_231023_209_e3v83d6.mp4 to /Users/rahimhashim/Desktop/Monkey-Emotions/231023_gandalf_face_2-rahim-2023-10-26/videos/gandalf_231023_209_e3v83d6.mp4\n",
      "Created the symlink of /Users/rahimhashim/Desktop/Monkey-Emotions/video/gandalf_231023/gandalf_231023_210_e3v83d6.mp4 to /Users/rahimhashim/Desktop/Monkey-Emotions/231023_gandalf_face_2-rahim-2023-10-26/videos/gandalf_231023_210_e3v83d6.mp4\n",
      "Created the symlink of /Users/rahimhashim/Desktop/Monkey-Emotions/video/gandalf_231023/gandalf_231023_211_e3v83d6.mp4 to /Users/rahimhashim/Desktop/Monkey-Emotions/231023_gandalf_face_2-rahim-2023-10-26/videos/gandalf_231023_211_e3v83d6.mp4\n",
      "Created the symlink of /Users/rahimhashim/Desktop/Monkey-Emotions/video/gandalf_231023/gandalf_231023_212_e3v83d6.mp4 to /Users/rahimhashim/Desktop/Monkey-Emotions/231023_gandalf_face_2-rahim-2023-10-26/videos/gandalf_231023_212_e3v83d6.mp4\n",
      "Created the symlink of /Users/rahimhashim/Desktop/Monkey-Emotions/video/gandalf_231023/gandalf_231023_213_e3v83d6.mp4 to /Users/rahimhashim/Desktop/Monkey-Emotions/231023_gandalf_face_2-rahim-2023-10-26/videos/gandalf_231023_213_e3v83d6.mp4\n",
      "Created the symlink of /Users/rahimhashim/Desktop/Monkey-Emotions/video/gandalf_231023/gandalf_231023_214_e3v83d6.mp4 to /Users/rahimhashim/Desktop/Monkey-Emotions/231023_gandalf_face_2-rahim-2023-10-26/videos/gandalf_231023_214_e3v83d6.mp4\n",
      "Created the symlink of /Users/rahimhashim/Desktop/Monkey-Emotions/video/gandalf_231023/gandalf_231023_215_e3v83d6.mp4 to /Users/rahimhashim/Desktop/Monkey-Emotions/231023_gandalf_face_2-rahim-2023-10-26/videos/gandalf_231023_215_e3v83d6.mp4\n",
      "Created the symlink of /Users/rahimhashim/Desktop/Monkey-Emotions/video/gandalf_231023/gandalf_231023_216_e3v83d6.mp4 to /Users/rahimhashim/Desktop/Monkey-Emotions/231023_gandalf_face_2-rahim-2023-10-26/videos/gandalf_231023_216_e3v83d6.mp4\n",
      "Created the symlink of /Users/rahimhashim/Desktop/Monkey-Emotions/video/gandalf_231023/gandalf_231023_217_e3v83d6.mp4 to /Users/rahimhashim/Desktop/Monkey-Emotions/231023_gandalf_face_2-rahim-2023-10-26/videos/gandalf_231023_217_e3v83d6.mp4\n",
      "Created the symlink of /Users/rahimhashim/Desktop/Monkey-Emotions/video/gandalf_231023/gandalf_231023_218_e3v83d6.mp4 to /Users/rahimhashim/Desktop/Monkey-Emotions/231023_gandalf_face_2-rahim-2023-10-26/videos/gandalf_231023_218_e3v83d6.mp4\n",
      "Created the symlink of /Users/rahimhashim/Desktop/Monkey-Emotions/video/gandalf_231023/gandalf_231023_219_e3v83d6.mp4 to /Users/rahimhashim/Desktop/Monkey-Emotions/231023_gandalf_face_2-rahim-2023-10-26/videos/gandalf_231023_219_e3v83d6.mp4\n",
      "Created the symlink of /Users/rahimhashim/Desktop/Monkey-Emotions/video/gandalf_231023/gandalf_231023_220_e3v83d6.mp4 to /Users/rahimhashim/Desktop/Monkey-Emotions/231023_gandalf_face_2-rahim-2023-10-26/videos/gandalf_231023_220_e3v83d6.mp4\n",
      "Created the symlink of /Users/rahimhashim/Desktop/Monkey-Emotions/video/gandalf_231023/gandalf_231023_221_e3v83d6.mp4 to /Users/rahimhashim/Desktop/Monkey-Emotions/231023_gandalf_face_2-rahim-2023-10-26/videos/gandalf_231023_221_e3v83d6.mp4\n",
      "Created the symlink of /Users/rahimhashim/Desktop/Monkey-Emotions/video/gandalf_231023/gandalf_231023_222_e3v83d6.mp4 to /Users/rahimhashim/Desktop/Monkey-Emotions/231023_gandalf_face_2-rahim-2023-10-26/videos/gandalf_231023_222_e3v83d6.mp4\n",
      "Created the symlink of /Users/rahimhashim/Desktop/Monkey-Emotions/video/gandalf_231023/gandalf_231023_223_e3v83d6.mp4 to /Users/rahimhashim/Desktop/Monkey-Emotions/231023_gandalf_face_2-rahim-2023-10-26/videos/gandalf_231023_223_e3v83d6.mp4\n",
      "Created the symlink of /Users/rahimhashim/Desktop/Monkey-Emotions/video/gandalf_231023/gandalf_231023_224_e3v83d6.mp4 to /Users/rahimhashim/Desktop/Monkey-Emotions/231023_gandalf_face_2-rahim-2023-10-26/videos/gandalf_231023_224_e3v83d6.mp4\n",
      "Created the symlink of /Users/rahimhashim/Desktop/Monkey-Emotions/video/gandalf_231023/gandalf_231023_225_e3v83d6.mp4 to /Users/rahimhashim/Desktop/Monkey-Emotions/231023_gandalf_face_2-rahim-2023-10-26/videos/gandalf_231023_225_e3v83d6.mp4\n",
      "Created the symlink of /Users/rahimhashim/Desktop/Monkey-Emotions/video/gandalf_231023/gandalf_231023_226_e3v83d6.mp4 to /Users/rahimhashim/Desktop/Monkey-Emotions/231023_gandalf_face_2-rahim-2023-10-26/videos/gandalf_231023_226_e3v83d6.mp4\n",
      "Created the symlink of /Users/rahimhashim/Desktop/Monkey-Emotions/video/gandalf_231023/gandalf_231023_227_e3v83d6.mp4 to /Users/rahimhashim/Desktop/Monkey-Emotions/231023_gandalf_face_2-rahim-2023-10-26/videos/gandalf_231023_227_e3v83d6.mp4\n",
      "Created the symlink of /Users/rahimhashim/Desktop/Monkey-Emotions/video/gandalf_231023/gandalf_231023_228_e3v83d6.mp4 to /Users/rahimhashim/Desktop/Monkey-Emotions/231023_gandalf_face_2-rahim-2023-10-26/videos/gandalf_231023_228_e3v83d6.mp4\n",
      "Created the symlink of /Users/rahimhashim/Desktop/Monkey-Emotions/video/gandalf_231023/gandalf_231023_229_e3v83d6.mp4 to /Users/rahimhashim/Desktop/Monkey-Emotions/231023_gandalf_face_2-rahim-2023-10-26/videos/gandalf_231023_229_e3v83d6.mp4\n",
      "Created the symlink of /Users/rahimhashim/Desktop/Monkey-Emotions/video/gandalf_231023/gandalf_231023_230_e3v83d6.mp4 to /Users/rahimhashim/Desktop/Monkey-Emotions/231023_gandalf_face_2-rahim-2023-10-26/videos/gandalf_231023_230_e3v83d6.mp4\n",
      "Created the symlink of /Users/rahimhashim/Desktop/Monkey-Emotions/video/gandalf_231023/gandalf_231023_231_e3v83d6.mp4 to /Users/rahimhashim/Desktop/Monkey-Emotions/231023_gandalf_face_2-rahim-2023-10-26/videos/gandalf_231023_231_e3v83d6.mp4\n",
      "Created the symlink of /Users/rahimhashim/Desktop/Monkey-Emotions/video/gandalf_231023/gandalf_231023_232_e3v83d6.mp4 to /Users/rahimhashim/Desktop/Monkey-Emotions/231023_gandalf_face_2-rahim-2023-10-26/videos/gandalf_231023_232_e3v83d6.mp4\n",
      "Created the symlink of /Users/rahimhashim/Desktop/Monkey-Emotions/video/gandalf_231023/gandalf_231023_233_e3v83d6.mp4 to /Users/rahimhashim/Desktop/Monkey-Emotions/231023_gandalf_face_2-rahim-2023-10-26/videos/gandalf_231023_233_e3v83d6.mp4\n",
      "Created the symlink of /Users/rahimhashim/Desktop/Monkey-Emotions/video/gandalf_231023/gandalf_231023_234_e3v83d6.mp4 to /Users/rahimhashim/Desktop/Monkey-Emotions/231023_gandalf_face_2-rahim-2023-10-26/videos/gandalf_231023_234_e3v83d6.mp4\n",
      "Created the symlink of /Users/rahimhashim/Desktop/Monkey-Emotions/video/gandalf_231023/gandalf_231023_235_e3v83d6.mp4 to /Users/rahimhashim/Desktop/Monkey-Emotions/231023_gandalf_face_2-rahim-2023-10-26/videos/gandalf_231023_235_e3v83d6.mp4\n",
      "Created the symlink of /Users/rahimhashim/Desktop/Monkey-Emotions/video/gandalf_231023/gandalf_231023_236_e3v83d6.mp4 to /Users/rahimhashim/Desktop/Monkey-Emotions/231023_gandalf_face_2-rahim-2023-10-26/videos/gandalf_231023_236_e3v83d6.mp4\n",
      "Created the symlink of /Users/rahimhashim/Desktop/Monkey-Emotions/video/gandalf_231023/gandalf_231023_237_e3v83d6.mp4 to /Users/rahimhashim/Desktop/Monkey-Emotions/231023_gandalf_face_2-rahim-2023-10-26/videos/gandalf_231023_237_e3v83d6.mp4\n",
      "Created the symlink of /Users/rahimhashim/Desktop/Monkey-Emotions/video/gandalf_231023/gandalf_231023_238_e3v83d6.mp4 to /Users/rahimhashim/Desktop/Monkey-Emotions/231023_gandalf_face_2-rahim-2023-10-26/videos/gandalf_231023_238_e3v83d6.mp4\n",
      "Created the symlink of /Users/rahimhashim/Desktop/Monkey-Emotions/video/gandalf_231023/gandalf_231023_239_e3v83d6.mp4 to /Users/rahimhashim/Desktop/Monkey-Emotions/231023_gandalf_face_2-rahim-2023-10-26/videos/gandalf_231023_239_e3v83d6.mp4\n",
      "Created the symlink of /Users/rahimhashim/Desktop/Monkey-Emotions/video/gandalf_231023/gandalf_231023_240_e3v83d6.mp4 to /Users/rahimhashim/Desktop/Monkey-Emotions/231023_gandalf_face_2-rahim-2023-10-26/videos/gandalf_231023_240_e3v83d6.mp4\n",
      "Created the symlink of /Users/rahimhashim/Desktop/Monkey-Emotions/video/gandalf_231023/gandalf_231023_241_e3v83d6.mp4 to /Users/rahimhashim/Desktop/Monkey-Emotions/231023_gandalf_face_2-rahim-2023-10-26/videos/gandalf_231023_241_e3v83d6.mp4\n",
      "Created the symlink of /Users/rahimhashim/Desktop/Monkey-Emotions/video/gandalf_231023/gandalf_231023_242_e3v83d6.mp4 to /Users/rahimhashim/Desktop/Monkey-Emotions/231023_gandalf_face_2-rahim-2023-10-26/videos/gandalf_231023_242_e3v83d6.mp4\n",
      "Created the symlink of /Users/rahimhashim/Desktop/Monkey-Emotions/video/gandalf_231023/gandalf_231023_243_e3v83d6.mp4 to /Users/rahimhashim/Desktop/Monkey-Emotions/231023_gandalf_face_2-rahim-2023-10-26/videos/gandalf_231023_243_e3v83d6.mp4\n",
      "Created the symlink of /Users/rahimhashim/Desktop/Monkey-Emotions/video/gandalf_231023/gandalf_231023_244_e3v83d6.mp4 to /Users/rahimhashim/Desktop/Monkey-Emotions/231023_gandalf_face_2-rahim-2023-10-26/videos/gandalf_231023_244_e3v83d6.mp4\n",
      "Created the symlink of /Users/rahimhashim/Desktop/Monkey-Emotions/video/gandalf_231023/gandalf_231023_245_e3v83d6.mp4 to /Users/rahimhashim/Desktop/Monkey-Emotions/231023_gandalf_face_2-rahim-2023-10-26/videos/gandalf_231023_245_e3v83d6.mp4\n",
      "Created the symlink of /Users/rahimhashim/Desktop/Monkey-Emotions/video/gandalf_231023/gandalf_231023_246_e3v83d6.mp4 to /Users/rahimhashim/Desktop/Monkey-Emotions/231023_gandalf_face_2-rahim-2023-10-26/videos/gandalf_231023_246_e3v83d6.mp4\n",
      "Created the symlink of /Users/rahimhashim/Desktop/Monkey-Emotions/video/gandalf_231023/gandalf_231023_247_e3v83d6.mp4 to /Users/rahimhashim/Desktop/Monkey-Emotions/231023_gandalf_face_2-rahim-2023-10-26/videos/gandalf_231023_247_e3v83d6.mp4\n",
      "Created the symlink of /Users/rahimhashim/Desktop/Monkey-Emotions/video/gandalf_231023/gandalf_231023_248_e3v83d6.mp4 to /Users/rahimhashim/Desktop/Monkey-Emotions/231023_gandalf_face_2-rahim-2023-10-26/videos/gandalf_231023_248_e3v83d6.mp4\n",
      "Created the symlink of /Users/rahimhashim/Desktop/Monkey-Emotions/video/gandalf_231023/gandalf_231023_249_e3v83d6.mp4 to /Users/rahimhashim/Desktop/Monkey-Emotions/231023_gandalf_face_2-rahim-2023-10-26/videos/gandalf_231023_249_e3v83d6.mp4\n",
      "Created the symlink of /Users/rahimhashim/Desktop/Monkey-Emotions/video/gandalf_231023/gandalf_231023_250_e3v83d6.mp4 to /Users/rahimhashim/Desktop/Monkey-Emotions/231023_gandalf_face_2-rahim-2023-10-26/videos/gandalf_231023_250_e3v83d6.mp4\n",
      "Created the symlink of /Users/rahimhashim/Desktop/Monkey-Emotions/video/gandalf_231023/gandalf_231023_251_e3v83d6.mp4 to /Users/rahimhashim/Desktop/Monkey-Emotions/231023_gandalf_face_2-rahim-2023-10-26/videos/gandalf_231023_251_e3v83d6.mp4\n",
      "Created the symlink of /Users/rahimhashim/Desktop/Monkey-Emotions/video/gandalf_231023/gandalf_231023_252_e3v83d6.mp4 to /Users/rahimhashim/Desktop/Monkey-Emotions/231023_gandalf_face_2-rahim-2023-10-26/videos/gandalf_231023_252_e3v83d6.mp4\n",
      "Created the symlink of /Users/rahimhashim/Desktop/Monkey-Emotions/video/gandalf_231023/gandalf_231023_253_e3v83d6.mp4 to /Users/rahimhashim/Desktop/Monkey-Emotions/231023_gandalf_face_2-rahim-2023-10-26/videos/gandalf_231023_253_e3v83d6.mp4\n",
      "Created the symlink of /Users/rahimhashim/Desktop/Monkey-Emotions/video/gandalf_231023/gandalf_231023_255_e3v83d6.mp4 to /Users/rahimhashim/Desktop/Monkey-Emotions/231023_gandalf_face_2-rahim-2023-10-26/videos/gandalf_231023_255_e3v83d6.mp4\n",
      "Created the symlink of /Users/rahimhashim/Desktop/Monkey-Emotions/video/gandalf_231023/gandalf_231023_256_e3v83d6.mp4 to /Users/rahimhashim/Desktop/Monkey-Emotions/231023_gandalf_face_2-rahim-2023-10-26/videos/gandalf_231023_256_e3v83d6.mp4\n",
      "Created the symlink of /Users/rahimhashim/Desktop/Monkey-Emotions/video/gandalf_231023/gandalf_231023_257_e3v83d6.mp4 to /Users/rahimhashim/Desktop/Monkey-Emotions/231023_gandalf_face_2-rahim-2023-10-26/videos/gandalf_231023_257_e3v83d6.mp4\n",
      "Created the symlink of /Users/rahimhashim/Desktop/Monkey-Emotions/video/gandalf_231023/gandalf_231023_258_e3v83d6.mp4 to /Users/rahimhashim/Desktop/Monkey-Emotions/231023_gandalf_face_2-rahim-2023-10-26/videos/gandalf_231023_258_e3v83d6.mp4\n",
      "Created the symlink of /Users/rahimhashim/Desktop/Monkey-Emotions/video/gandalf_231023/gandalf_231023_259_e3v83d6.mp4 to /Users/rahimhashim/Desktop/Monkey-Emotions/231023_gandalf_face_2-rahim-2023-10-26/videos/gandalf_231023_259_e3v83d6.mp4\n",
      "Video /Users/rahimhashim/Desktop/Monkey-Emotions/231023_gandalf_face_2-rahim-2023-10-26/videos/gandalf_231023_260_e3v83d6.mp4 already exists. Skipping...\n",
      "Created the symlink of /Users/rahimhashim/Desktop/Monkey-Emotions/video/gandalf_231023/gandalf_231023_261_e3v83d6.mp4 to /Users/rahimhashim/Desktop/Monkey-Emotions/231023_gandalf_face_2-rahim-2023-10-26/videos/gandalf_231023_261_e3v83d6.mp4\n",
      "Created the symlink of /Users/rahimhashim/Desktop/Monkey-Emotions/video/gandalf_231023/gandalf_231023_262_e3v83d6.mp4 to /Users/rahimhashim/Desktop/Monkey-Emotions/231023_gandalf_face_2-rahim-2023-10-26/videos/gandalf_231023_262_e3v83d6.mp4\n",
      "Created the symlink of /Users/rahimhashim/Desktop/Monkey-Emotions/video/gandalf_231023/gandalf_231023_263_e3v83d6.mp4 to /Users/rahimhashim/Desktop/Monkey-Emotions/231023_gandalf_face_2-rahim-2023-10-26/videos/gandalf_231023_263_e3v83d6.mp4\n",
      "Created the symlink of /Users/rahimhashim/Desktop/Monkey-Emotions/video/gandalf_231023/gandalf_231023_264_e3v83d6.mp4 to /Users/rahimhashim/Desktop/Monkey-Emotions/231023_gandalf_face_2-rahim-2023-10-26/videos/gandalf_231023_264_e3v83d6.mp4\n",
      "Created the symlink of /Users/rahimhashim/Desktop/Monkey-Emotions/video/gandalf_231023/gandalf_231023_265_e3v83d6.mp4 to /Users/rahimhashim/Desktop/Monkey-Emotions/231023_gandalf_face_2-rahim-2023-10-26/videos/gandalf_231023_265_e3v83d6.mp4\n",
      "Created the symlink of /Users/rahimhashim/Desktop/Monkey-Emotions/video/gandalf_231023/gandalf_231023_266_e3v83d6.mp4 to /Users/rahimhashim/Desktop/Monkey-Emotions/231023_gandalf_face_2-rahim-2023-10-26/videos/gandalf_231023_266_e3v83d6.mp4\n",
      "Created the symlink of /Users/rahimhashim/Desktop/Monkey-Emotions/video/gandalf_231023/gandalf_231023_267_e3v83d6.mp4 to /Users/rahimhashim/Desktop/Monkey-Emotions/231023_gandalf_face_2-rahim-2023-10-26/videos/gandalf_231023_267_e3v83d6.mp4\n",
      "Created the symlink of /Users/rahimhashim/Desktop/Monkey-Emotions/video/gandalf_231023/gandalf_231023_268_e3v83d6.mp4 to /Users/rahimhashim/Desktop/Monkey-Emotions/231023_gandalf_face_2-rahim-2023-10-26/videos/gandalf_231023_268_e3v83d6.mp4\n",
      "Created the symlink of /Users/rahimhashim/Desktop/Monkey-Emotions/video/gandalf_231023/gandalf_231023_269_e3v83d6.mp4 to /Users/rahimhashim/Desktop/Monkey-Emotions/231023_gandalf_face_2-rahim-2023-10-26/videos/gandalf_231023_269_e3v83d6.mp4\n",
      "Created the symlink of /Users/rahimhashim/Desktop/Monkey-Emotions/video/gandalf_231023/gandalf_231023_270_e3v83d6.mp4 to /Users/rahimhashim/Desktop/Monkey-Emotions/231023_gandalf_face_2-rahim-2023-10-26/videos/gandalf_231023_270_e3v83d6.mp4\n",
      "Created the symlink of /Users/rahimhashim/Desktop/Monkey-Emotions/video/gandalf_231023/gandalf_231023_271_e3v83d6.mp4 to /Users/rahimhashim/Desktop/Monkey-Emotions/231023_gandalf_face_2-rahim-2023-10-26/videos/gandalf_231023_271_e3v83d6.mp4\n",
      "Created the symlink of /Users/rahimhashim/Desktop/Monkey-Emotions/video/gandalf_231023/gandalf_231023_272_e3v83d6.mp4 to /Users/rahimhashim/Desktop/Monkey-Emotions/231023_gandalf_face_2-rahim-2023-10-26/videos/gandalf_231023_272_e3v83d6.mp4\n",
      "Created the symlink of /Users/rahimhashim/Desktop/Monkey-Emotions/video/gandalf_231023/gandalf_231023_273_e3v83d6.mp4 to /Users/rahimhashim/Desktop/Monkey-Emotions/231023_gandalf_face_2-rahim-2023-10-26/videos/gandalf_231023_273_e3v83d6.mp4\n",
      "Created the symlink of /Users/rahimhashim/Desktop/Monkey-Emotions/video/gandalf_231023/gandalf_231023_274_e3v83d6.mp4 to /Users/rahimhashim/Desktop/Monkey-Emotions/231023_gandalf_face_2-rahim-2023-10-26/videos/gandalf_231023_274_e3v83d6.mp4\n",
      "Created the symlink of /Users/rahimhashim/Desktop/Monkey-Emotions/video/gandalf_231023/gandalf_231023_275_e3v83d6.mp4 to /Users/rahimhashim/Desktop/Monkey-Emotions/231023_gandalf_face_2-rahim-2023-10-26/videos/gandalf_231023_275_e3v83d6.mp4\n",
      "Created the symlink of /Users/rahimhashim/Desktop/Monkey-Emotions/video/gandalf_231023/gandalf_231023_276_e3v83d6.mp4 to /Users/rahimhashim/Desktop/Monkey-Emotions/231023_gandalf_face_2-rahim-2023-10-26/videos/gandalf_231023_276_e3v83d6.mp4\n",
      "Created the symlink of /Users/rahimhashim/Desktop/Monkey-Emotions/video/gandalf_231023/gandalf_231023_277_e3v83d6.mp4 to /Users/rahimhashim/Desktop/Monkey-Emotions/231023_gandalf_face_2-rahim-2023-10-26/videos/gandalf_231023_277_e3v83d6.mp4\n",
      "Created the symlink of /Users/rahimhashim/Desktop/Monkey-Emotions/video/gandalf_231023/gandalf_231023_278_e3v83d6.mp4 to /Users/rahimhashim/Desktop/Monkey-Emotions/231023_gandalf_face_2-rahim-2023-10-26/videos/gandalf_231023_278_e3v83d6.mp4\n",
      "Created the symlink of /Users/rahimhashim/Desktop/Monkey-Emotions/video/gandalf_231023/gandalf_231023_279_e3v83d6.mp4 to /Users/rahimhashim/Desktop/Monkey-Emotions/231023_gandalf_face_2-rahim-2023-10-26/videos/gandalf_231023_279_e3v83d6.mp4\n",
      "Created the symlink of /Users/rahimhashim/Desktop/Monkey-Emotions/video/gandalf_231023/gandalf_231023_280_e3v83d6.mp4 to /Users/rahimhashim/Desktop/Monkey-Emotions/231023_gandalf_face_2-rahim-2023-10-26/videos/gandalf_231023_280_e3v83d6.mp4\n",
      "Created the symlink of /Users/rahimhashim/Desktop/Monkey-Emotions/video/gandalf_231023/gandalf_231023_281_e3v83d6.mp4 to /Users/rahimhashim/Desktop/Monkey-Emotions/231023_gandalf_face_2-rahim-2023-10-26/videos/gandalf_231023_281_e3v83d6.mp4\n",
      "Created the symlink of /Users/rahimhashim/Desktop/Monkey-Emotions/video/gandalf_231023/gandalf_231023_282_e3v83d6.mp4 to /Users/rahimhashim/Desktop/Monkey-Emotions/231023_gandalf_face_2-rahim-2023-10-26/videos/gandalf_231023_282_e3v83d6.mp4\n",
      "Created the symlink of /Users/rahimhashim/Desktop/Monkey-Emotions/video/gandalf_231023/gandalf_231023_283_e3v83d6.mp4 to /Users/rahimhashim/Desktop/Monkey-Emotions/231023_gandalf_face_2-rahim-2023-10-26/videos/gandalf_231023_283_e3v83d6.mp4\n",
      "Created the symlink of /Users/rahimhashim/Desktop/Monkey-Emotions/video/gandalf_231023/gandalf_231023_284_e3v83d6.mp4 to /Users/rahimhashim/Desktop/Monkey-Emotions/231023_gandalf_face_2-rahim-2023-10-26/videos/gandalf_231023_284_e3v83d6.mp4\n",
      "Created the symlink of /Users/rahimhashim/Desktop/Monkey-Emotions/video/gandalf_231023/gandalf_231023_285_e3v83d6.mp4 to /Users/rahimhashim/Desktop/Monkey-Emotions/231023_gandalf_face_2-rahim-2023-10-26/videos/gandalf_231023_285_e3v83d6.mp4\n",
      "Created the symlink of /Users/rahimhashim/Desktop/Monkey-Emotions/video/gandalf_231023/gandalf_231023_286_e3v83d6.mp4 to /Users/rahimhashim/Desktop/Monkey-Emotions/231023_gandalf_face_2-rahim-2023-10-26/videos/gandalf_231023_286_e3v83d6.mp4\n",
      "Created the symlink of /Users/rahimhashim/Desktop/Monkey-Emotions/video/gandalf_231023/gandalf_231023_287_e3v83d6.mp4 to /Users/rahimhashim/Desktop/Monkey-Emotions/231023_gandalf_face_2-rahim-2023-10-26/videos/gandalf_231023_287_e3v83d6.mp4\n",
      "Created the symlink of /Users/rahimhashim/Desktop/Monkey-Emotions/video/gandalf_231023/gandalf_231023_288_e3v83d6.mp4 to /Users/rahimhashim/Desktop/Monkey-Emotions/231023_gandalf_face_2-rahim-2023-10-26/videos/gandalf_231023_288_e3v83d6.mp4\n",
      "Created the symlink of /Users/rahimhashim/Desktop/Monkey-Emotions/video/gandalf_231023/gandalf_231023_289_e3v83d6.mp4 to /Users/rahimhashim/Desktop/Monkey-Emotions/231023_gandalf_face_2-rahim-2023-10-26/videos/gandalf_231023_289_e3v83d6.mp4\n",
      "Created the symlink of /Users/rahimhashim/Desktop/Monkey-Emotions/video/gandalf_231023/gandalf_231023_290_e3v83d6.mp4 to /Users/rahimhashim/Desktop/Monkey-Emotions/231023_gandalf_face_2-rahim-2023-10-26/videos/gandalf_231023_290_e3v83d6.mp4\n",
      "Created the symlink of /Users/rahimhashim/Desktop/Monkey-Emotions/video/gandalf_231023/gandalf_231023_291_e3v83d6.mp4 to /Users/rahimhashim/Desktop/Monkey-Emotions/231023_gandalf_face_2-rahim-2023-10-26/videos/gandalf_231023_291_e3v83d6.mp4\n",
      "Created the symlink of /Users/rahimhashim/Desktop/Monkey-Emotions/video/gandalf_231023/gandalf_231023_292_e3v83d6.mp4 to /Users/rahimhashim/Desktop/Monkey-Emotions/231023_gandalf_face_2-rahim-2023-10-26/videos/gandalf_231023_292_e3v83d6.mp4\n",
      "Created the symlink of /Users/rahimhashim/Desktop/Monkey-Emotions/video/gandalf_231023/gandalf_231023_293_e3v83d6.mp4 to /Users/rahimhashim/Desktop/Monkey-Emotions/231023_gandalf_face_2-rahim-2023-10-26/videos/gandalf_231023_293_e3v83d6.mp4\n",
      "Created the symlink of /Users/rahimhashim/Desktop/Monkey-Emotions/video/gandalf_231023/gandalf_231023_294_e3v83d6.mp4 to /Users/rahimhashim/Desktop/Monkey-Emotions/231023_gandalf_face_2-rahim-2023-10-26/videos/gandalf_231023_294_e3v83d6.mp4\n",
      "Created the symlink of /Users/rahimhashim/Desktop/Monkey-Emotions/video/gandalf_231023/gandalf_231023_295_e3v83d6.mp4 to /Users/rahimhashim/Desktop/Monkey-Emotions/231023_gandalf_face_2-rahim-2023-10-26/videos/gandalf_231023_295_e3v83d6.mp4\n",
      "Created the symlink of /Users/rahimhashim/Desktop/Monkey-Emotions/video/gandalf_231023/gandalf_231023_296_e3v83d6.mp4 to /Users/rahimhashim/Desktop/Monkey-Emotions/231023_gandalf_face_2-rahim-2023-10-26/videos/gandalf_231023_296_e3v83d6.mp4\n",
      "Created the symlink of /Users/rahimhashim/Desktop/Monkey-Emotions/video/gandalf_231023/gandalf_231023_297_e3v83d6.mp4 to /Users/rahimhashim/Desktop/Monkey-Emotions/231023_gandalf_face_2-rahim-2023-10-26/videos/gandalf_231023_297_e3v83d6.mp4\n",
      "Created the symlink of /Users/rahimhashim/Desktop/Monkey-Emotions/video/gandalf_231023/gandalf_231023_298_e3v83d6.mp4 to /Users/rahimhashim/Desktop/Monkey-Emotions/231023_gandalf_face_2-rahim-2023-10-26/videos/gandalf_231023_298_e3v83d6.mp4\n",
      "Created the symlink of /Users/rahimhashim/Desktop/Monkey-Emotions/video/gandalf_231023/gandalf_231023_299_e3v83d6.mp4 to /Users/rahimhashim/Desktop/Monkey-Emotions/231023_gandalf_face_2-rahim-2023-10-26/videos/gandalf_231023_299_e3v83d6.mp4\n",
      "Created the symlink of /Users/rahimhashim/Desktop/Monkey-Emotions/video/gandalf_231023/gandalf_231023_300_e3v83d6.mp4 to /Users/rahimhashim/Desktop/Monkey-Emotions/231023_gandalf_face_2-rahim-2023-10-26/videos/gandalf_231023_300_e3v83d6.mp4\n",
      "Created the symlink of /Users/rahimhashim/Desktop/Monkey-Emotions/video/gandalf_231023/gandalf_231023_301_e3v83d6.mp4 to /Users/rahimhashim/Desktop/Monkey-Emotions/231023_gandalf_face_2-rahim-2023-10-26/videos/gandalf_231023_301_e3v83d6.mp4\n",
      "Created the symlink of /Users/rahimhashim/Desktop/Monkey-Emotions/video/gandalf_231023/gandalf_231023_302_e3v83d6.mp4 to /Users/rahimhashim/Desktop/Monkey-Emotions/231023_gandalf_face_2-rahim-2023-10-26/videos/gandalf_231023_302_e3v83d6.mp4\n",
      "Created the symlink of /Users/rahimhashim/Desktop/Monkey-Emotions/video/gandalf_231023/gandalf_231023_303_e3v83d6.mp4 to /Users/rahimhashim/Desktop/Monkey-Emotions/231023_gandalf_face_2-rahim-2023-10-26/videos/gandalf_231023_303_e3v83d6.mp4\n",
      "Created the symlink of /Users/rahimhashim/Desktop/Monkey-Emotions/video/gandalf_231023/gandalf_231023_304_e3v83d6.mp4 to /Users/rahimhashim/Desktop/Monkey-Emotions/231023_gandalf_face_2-rahim-2023-10-26/videos/gandalf_231023_304_e3v83d6.mp4\n",
      "Created the symlink of /Users/rahimhashim/Desktop/Monkey-Emotions/video/gandalf_231023/gandalf_231023_305_e3v83d6.mp4 to /Users/rahimhashim/Desktop/Monkey-Emotions/231023_gandalf_face_2-rahim-2023-10-26/videos/gandalf_231023_305_e3v83d6.mp4\n",
      "Created the symlink of /Users/rahimhashim/Desktop/Monkey-Emotions/video/gandalf_231023/gandalf_231023_306_e3v83d6.mp4 to /Users/rahimhashim/Desktop/Monkey-Emotions/231023_gandalf_face_2-rahim-2023-10-26/videos/gandalf_231023_306_e3v83d6.mp4\n",
      "Created the symlink of /Users/rahimhashim/Desktop/Monkey-Emotions/video/gandalf_231023/gandalf_231023_307_e3v83d6.mp4 to /Users/rahimhashim/Desktop/Monkey-Emotions/231023_gandalf_face_2-rahim-2023-10-26/videos/gandalf_231023_307_e3v83d6.mp4\n",
      "Created the symlink of /Users/rahimhashim/Desktop/Monkey-Emotions/video/gandalf_231023/gandalf_231023_308_e3v83d6.mp4 to /Users/rahimhashim/Desktop/Monkey-Emotions/231023_gandalf_face_2-rahim-2023-10-26/videos/gandalf_231023_308_e3v83d6.mp4\n",
      "Created the symlink of /Users/rahimhashim/Desktop/Monkey-Emotions/video/gandalf_231023/gandalf_231023_309_e3v83d6.mp4 to /Users/rahimhashim/Desktop/Monkey-Emotions/231023_gandalf_face_2-rahim-2023-10-26/videos/gandalf_231023_309_e3v83d6.mp4\n",
      "Created the symlink of /Users/rahimhashim/Desktop/Monkey-Emotions/video/gandalf_231023/gandalf_231023_310_e3v83d6.mp4 to /Users/rahimhashim/Desktop/Monkey-Emotions/231023_gandalf_face_2-rahim-2023-10-26/videos/gandalf_231023_310_e3v83d6.mp4\n",
      "Created the symlink of /Users/rahimhashim/Desktop/Monkey-Emotions/video/gandalf_231023/gandalf_231023_311_e3v83d6.mp4 to /Users/rahimhashim/Desktop/Monkey-Emotions/231023_gandalf_face_2-rahim-2023-10-26/videos/gandalf_231023_311_e3v83d6.mp4\n",
      "Created the symlink of /Users/rahimhashim/Desktop/Monkey-Emotions/video/gandalf_231023/gandalf_231023_312_e3v83d6.mp4 to /Users/rahimhashim/Desktop/Monkey-Emotions/231023_gandalf_face_2-rahim-2023-10-26/videos/gandalf_231023_312_e3v83d6.mp4\n",
      "Created the symlink of /Users/rahimhashim/Desktop/Monkey-Emotions/video/gandalf_231023/gandalf_231023_313_e3v83d6.mp4 to /Users/rahimhashim/Desktop/Monkey-Emotions/231023_gandalf_face_2-rahim-2023-10-26/videos/gandalf_231023_313_e3v83d6.mp4\n",
      "Created the symlink of /Users/rahimhashim/Desktop/Monkey-Emotions/video/gandalf_231023/gandalf_231023_315_e3v83d6.mp4 to /Users/rahimhashim/Desktop/Monkey-Emotions/231023_gandalf_face_2-rahim-2023-10-26/videos/gandalf_231023_315_e3v83d6.mp4\n",
      "Created the symlink of /Users/rahimhashim/Desktop/Monkey-Emotions/video/gandalf_231023/gandalf_231023_316_e3v83d6.mp4 to /Users/rahimhashim/Desktop/Monkey-Emotions/231023_gandalf_face_2-rahim-2023-10-26/videos/gandalf_231023_316_e3v83d6.mp4\n",
      "Created the symlink of /Users/rahimhashim/Desktop/Monkey-Emotions/video/gandalf_231023/gandalf_231023_317_e3v83d6.mp4 to /Users/rahimhashim/Desktop/Monkey-Emotions/231023_gandalf_face_2-rahim-2023-10-26/videos/gandalf_231023_317_e3v83d6.mp4\n",
      "Created the symlink of /Users/rahimhashim/Desktop/Monkey-Emotions/video/gandalf_231023/gandalf_231023_318_e3v83d6.mp4 to /Users/rahimhashim/Desktop/Monkey-Emotions/231023_gandalf_face_2-rahim-2023-10-26/videos/gandalf_231023_318_e3v83d6.mp4\n",
      "Created the symlink of /Users/rahimhashim/Desktop/Monkey-Emotions/video/gandalf_231023/gandalf_231023_319_e3v83d6.mp4 to /Users/rahimhashim/Desktop/Monkey-Emotions/231023_gandalf_face_2-rahim-2023-10-26/videos/gandalf_231023_319_e3v83d6.mp4\n",
      "Created the symlink of /Users/rahimhashim/Desktop/Monkey-Emotions/video/gandalf_231023/gandalf_231023_320_e3v83d6.mp4 to /Users/rahimhashim/Desktop/Monkey-Emotions/231023_gandalf_face_2-rahim-2023-10-26/videos/gandalf_231023_320_e3v83d6.mp4\n",
      "Created the symlink of /Users/rahimhashim/Desktop/Monkey-Emotions/video/gandalf_231023/gandalf_231023_321_e3v83d6.mp4 to /Users/rahimhashim/Desktop/Monkey-Emotions/231023_gandalf_face_2-rahim-2023-10-26/videos/gandalf_231023_321_e3v83d6.mp4\n",
      "Created the symlink of /Users/rahimhashim/Desktop/Monkey-Emotions/video/gandalf_231023/gandalf_231023_322_e3v83d6.mp4 to /Users/rahimhashim/Desktop/Monkey-Emotions/231023_gandalf_face_2-rahim-2023-10-26/videos/gandalf_231023_322_e3v83d6.mp4\n",
      "Created the symlink of /Users/rahimhashim/Desktop/Monkey-Emotions/video/gandalf_231023/gandalf_231023_323_e3v83d6.mp4 to /Users/rahimhashim/Desktop/Monkey-Emotions/231023_gandalf_face_2-rahim-2023-10-26/videos/gandalf_231023_323_e3v83d6.mp4\n",
      "Created the symlink of /Users/rahimhashim/Desktop/Monkey-Emotions/video/gandalf_231023/gandalf_231023_324_e3v83d6.mp4 to /Users/rahimhashim/Desktop/Monkey-Emotions/231023_gandalf_face_2-rahim-2023-10-26/videos/gandalf_231023_324_e3v83d6.mp4\n",
      "Created the symlink of /Users/rahimhashim/Desktop/Monkey-Emotions/video/gandalf_231023/gandalf_231023_325_e3v83d6.mp4 to /Users/rahimhashim/Desktop/Monkey-Emotions/231023_gandalf_face_2-rahim-2023-10-26/videos/gandalf_231023_325_e3v83d6.mp4\n",
      "Created the symlink of /Users/rahimhashim/Desktop/Monkey-Emotions/video/gandalf_231023/gandalf_231023_326_e3v83d6.mp4 to /Users/rahimhashim/Desktop/Monkey-Emotions/231023_gandalf_face_2-rahim-2023-10-26/videos/gandalf_231023_326_e3v83d6.mp4\n",
      "Created the symlink of /Users/rahimhashim/Desktop/Monkey-Emotions/video/gandalf_231023/gandalf_231023_327_e3v83d6.mp4 to /Users/rahimhashim/Desktop/Monkey-Emotions/231023_gandalf_face_2-rahim-2023-10-26/videos/gandalf_231023_327_e3v83d6.mp4\n",
      "Created the symlink of /Users/rahimhashim/Desktop/Monkey-Emotions/video/gandalf_231023/gandalf_231023_328_e3v83d6.mp4 to /Users/rahimhashim/Desktop/Monkey-Emotions/231023_gandalf_face_2-rahim-2023-10-26/videos/gandalf_231023_328_e3v83d6.mp4\n",
      "New videos were added to the project! Use the function 'extract_frames' to select frames for labeling.\n",
      "Using snapshot-1030000 for model /Users/rahimhashim/Desktop/Monkey-Emotions/231023_gandalf_face_2-rahim-2023-10-26/dlc-models/iteration-0/231023_gandalf_face_2Oct26-trainset95shuffle1\n"
     ]
    },
    {
     "name": "stderr",
     "output_type": "stream",
     "text": [
      "/Users/rahimhashim/miniconda3/envs/DEEPLABCUT_M1/lib/python3.9/site-packages/tensorflow/python/keras/engine/base_layer_v1.py:1694: UserWarning: `layer.apply` is deprecated and will be removed in a future version. Please use `layer.__call__` method instead.\n",
      "  warnings.warn('`layer.apply` is deprecated and '\n"
     ]
    },
    {
     "name": "stdout",
     "output_type": "stream",
     "text": [
      "Starting to analyze %  /Users/rahimhashim/Desktop/Monkey-Emotions/video/gandalf_231023/gandalf_231023_0_e3v83d6.mp4\n",
      "Loading  /Users/rahimhashim/Desktop/Monkey-Emotions/video/gandalf_231023/gandalf_231023_0_e3v83d6.mp4\n",
      "Duration of video [s]:  9.11 , recorded with  120.0 fps!\n",
      "Overall # of frames:  1093  found with (before cropping) frame dimensions:  640 480\n",
      "Starting to extract posture\n"
     ]
    },
    {
     "name": "stderr",
     "output_type": "stream",
     "text": [
      "100%|██████████| 1093/1093 [01:09<00:00, 15.67it/s]\n"
     ]
    },
    {
     "name": "stdout",
     "output_type": "stream",
     "text": [
      "Saving results in /Users/rahimhashim/Desktop/Monkey-Emotions/video/gandalf_231023...\n",
      "Saving csv poses!\n",
      "Starting to analyze %  /Users/rahimhashim/Desktop/Monkey-Emotions/video/gandalf_231023/gandalf_231023_1_e3v83d6.mp4\n",
      "Loading  /Users/rahimhashim/Desktop/Monkey-Emotions/video/gandalf_231023/gandalf_231023_1_e3v83d6.mp4\n",
      "Duration of video [s]:  13.24 , recorded with  120.0 fps!\n",
      "Overall # of frames:  1589  found with (before cropping) frame dimensions:  640 480\n",
      "Starting to extract posture\n"
     ]
    },
    {
     "name": "stderr",
     "output_type": "stream",
     "text": [
      "100%|██████████| 1589/1589 [01:32<00:00, 17.12it/s]\n"
     ]
    },
    {
     "name": "stdout",
     "output_type": "stream",
     "text": [
      "Saving results in /Users/rahimhashim/Desktop/Monkey-Emotions/video/gandalf_231023...\n",
      "Saving csv poses!\n",
      "Starting to analyze %  /Users/rahimhashim/Desktop/Monkey-Emotions/video/gandalf_231023/gandalf_231023_2_e3v83d6.mp4\n",
      "Loading  /Users/rahimhashim/Desktop/Monkey-Emotions/video/gandalf_231023/gandalf_231023_2_e3v83d6.mp4\n",
      "Duration of video [s]:  16.36 , recorded with  120.0 fps!\n",
      "Overall # of frames:  1963  found with (before cropping) frame dimensions:  640 480\n",
      "Starting to extract posture\n"
     ]
    },
    {
     "name": "stderr",
     "output_type": "stream",
     "text": [
      "100%|██████████| 1963/1963 [01:53<00:00, 17.30it/s]\n"
     ]
    },
    {
     "name": "stdout",
     "output_type": "stream",
     "text": [
      "Saving results in /Users/rahimhashim/Desktop/Monkey-Emotions/video/gandalf_231023...\n",
      "Saving csv poses!\n",
      "Starting to analyze %  /Users/rahimhashim/Desktop/Monkey-Emotions/video/gandalf_231023/gandalf_231023_3_e3v83d6.mp4\n",
      "Loading  /Users/rahimhashim/Desktop/Monkey-Emotions/video/gandalf_231023/gandalf_231023_3_e3v83d6.mp4\n",
      "Duration of video [s]:  13.17 , recorded with  120.0 fps!\n",
      "Overall # of frames:  1580  found with (before cropping) frame dimensions:  640 480\n",
      "Starting to extract posture\n"
     ]
    },
    {
     "name": "stderr",
     "output_type": "stream",
     "text": [
      "100%|██████████| 1580/1580 [01:31<00:00, 17.18it/s]\n"
     ]
    },
    {
     "name": "stdout",
     "output_type": "stream",
     "text": [
      "Saving results in /Users/rahimhashim/Desktop/Monkey-Emotions/video/gandalf_231023...\n",
      "Saving csv poses!\n",
      "Starting to analyze %  /Users/rahimhashim/Desktop/Monkey-Emotions/video/gandalf_231023/gandalf_231023_4_e3v83d6.mp4\n",
      "Loading  /Users/rahimhashim/Desktop/Monkey-Emotions/video/gandalf_231023/gandalf_231023_4_e3v83d6.mp4\n",
      "Duration of video [s]:  16.51 , recorded with  120.0 fps!\n",
      "Overall # of frames:  1981  found with (before cropping) frame dimensions:  640 480\n",
      "Starting to extract posture\n"
     ]
    },
    {
     "name": "stderr",
     "output_type": "stream",
     "text": [
      "100%|██████████| 1981/1981 [01:55<00:00, 17.20it/s]\n"
     ]
    },
    {
     "name": "stdout",
     "output_type": "stream",
     "text": [
      "Saving results in /Users/rahimhashim/Desktop/Monkey-Emotions/video/gandalf_231023...\n",
      "Saving csv poses!\n",
      "Starting to analyze %  /Users/rahimhashim/Desktop/Monkey-Emotions/video/gandalf_231023/gandalf_231023_5_e3v83d6.mp4\n",
      "Loading  /Users/rahimhashim/Desktop/Monkey-Emotions/video/gandalf_231023/gandalf_231023_5_e3v83d6.mp4\n",
      "Duration of video [s]:  14.33 , recorded with  120.0 fps!\n",
      "Overall # of frames:  1720  found with (before cropping) frame dimensions:  640 480\n",
      "Starting to extract posture\n"
     ]
    },
    {
     "name": "stderr",
     "output_type": "stream",
     "text": [
      "100%|██████████| 1720/1720 [01:36<00:00, 17.84it/s]\n"
     ]
    },
    {
     "name": "stdout",
     "output_type": "stream",
     "text": [
      "Saving results in /Users/rahimhashim/Desktop/Monkey-Emotions/video/gandalf_231023...\n",
      "Saving csv poses!\n",
      "Starting to analyze %  /Users/rahimhashim/Desktop/Monkey-Emotions/video/gandalf_231023/gandalf_231023_6_e3v83d6.mp4\n",
      "Loading  /Users/rahimhashim/Desktop/Monkey-Emotions/video/gandalf_231023/gandalf_231023_6_e3v83d6.mp4\n",
      "Duration of video [s]:  12.2 , recorded with  120.0 fps!\n",
      "Overall # of frames:  1464  found with (before cropping) frame dimensions:  640 480\n",
      "Starting to extract posture\n"
     ]
    },
    {
     "name": "stderr",
     "output_type": "stream",
     "text": [
      "100%|██████████| 1464/1464 [01:23<00:00, 17.55it/s]\n"
     ]
    },
    {
     "name": "stdout",
     "output_type": "stream",
     "text": [
      "Saving results in /Users/rahimhashim/Desktop/Monkey-Emotions/video/gandalf_231023...\n",
      "Saving csv poses!\n",
      "Starting to analyze %  /Users/rahimhashim/Desktop/Monkey-Emotions/video/gandalf_231023/gandalf_231023_7_e3v83d6.mp4\n",
      "Loading  /Users/rahimhashim/Desktop/Monkey-Emotions/video/gandalf_231023/gandalf_231023_7_e3v83d6.mp4\n",
      "Duration of video [s]:  13.48 , recorded with  120.0 fps!\n",
      "Overall # of frames:  1618  found with (before cropping) frame dimensions:  640 480\n",
      "Starting to extract posture\n"
     ]
    },
    {
     "name": "stderr",
     "output_type": "stream",
     "text": [
      "100%|██████████| 1618/1618 [01:33<00:00, 17.29it/s]\n"
     ]
    },
    {
     "name": "stdout",
     "output_type": "stream",
     "text": [
      "Saving results in /Users/rahimhashim/Desktop/Monkey-Emotions/video/gandalf_231023...\n",
      "Saving csv poses!\n",
      "Starting to analyze %  /Users/rahimhashim/Desktop/Monkey-Emotions/video/gandalf_231023/gandalf_231023_8_e3v83d6.mp4\n",
      "Loading  /Users/rahimhashim/Desktop/Monkey-Emotions/video/gandalf_231023/gandalf_231023_8_e3v83d6.mp4\n",
      "Duration of video [s]:  13.02 , recorded with  120.0 fps!\n",
      "Overall # of frames:  1562  found with (before cropping) frame dimensions:  640 480\n",
      "Starting to extract posture\n"
     ]
    },
    {
     "name": "stderr",
     "output_type": "stream",
     "text": [
      "100%|██████████| 1562/1562 [01:31<00:00, 17.00it/s]\n"
     ]
    },
    {
     "name": "stdout",
     "output_type": "stream",
     "text": [
      "Saving results in /Users/rahimhashim/Desktop/Monkey-Emotions/video/gandalf_231023...\n",
      "Saving csv poses!\n",
      "Starting to analyze %  /Users/rahimhashim/Desktop/Monkey-Emotions/video/gandalf_231023/gandalf_231023_9_e3v83d6.mp4\n",
      "Loading  /Users/rahimhashim/Desktop/Monkey-Emotions/video/gandalf_231023/gandalf_231023_9_e3v83d6.mp4\n",
      "Duration of video [s]:  15.27 , recorded with  120.0 fps!\n",
      "Overall # of frames:  1832  found with (before cropping) frame dimensions:  640 480\n",
      "Starting to extract posture\n"
     ]
    },
    {
     "name": "stderr",
     "output_type": "stream",
     "text": [
      "100%|██████████| 1832/1832 [01:46<00:00, 17.18it/s]\n"
     ]
    },
    {
     "name": "stdout",
     "output_type": "stream",
     "text": [
      "Saving results in /Users/rahimhashim/Desktop/Monkey-Emotions/video/gandalf_231023...\n",
      "Saving csv poses!\n",
      "Starting to analyze %  /Users/rahimhashim/Desktop/Monkey-Emotions/video/gandalf_231023/gandalf_231023_10_e3v83d6.mp4\n",
      "Loading  /Users/rahimhashim/Desktop/Monkey-Emotions/video/gandalf_231023/gandalf_231023_10_e3v83d6.mp4\n",
      "Duration of video [s]:  14.97 , recorded with  120.0 fps!\n",
      "Overall # of frames:  1796  found with (before cropping) frame dimensions:  640 480\n",
      "Starting to extract posture\n"
     ]
    },
    {
     "name": "stderr",
     "output_type": "stream",
     "text": [
      "100%|██████████| 1796/1796 [01:44<00:00, 17.18it/s]\n"
     ]
    },
    {
     "name": "stdout",
     "output_type": "stream",
     "text": [
      "Saving results in /Users/rahimhashim/Desktop/Monkey-Emotions/video/gandalf_231023...\n",
      "Saving csv poses!\n",
      "Starting to analyze %  /Users/rahimhashim/Desktop/Monkey-Emotions/video/gandalf_231023/gandalf_231023_11_e3v83d6.mp4\n",
      "Loading  /Users/rahimhashim/Desktop/Monkey-Emotions/video/gandalf_231023/gandalf_231023_11_e3v83d6.mp4\n",
      "Duration of video [s]:  13.88 , recorded with  120.0 fps!\n",
      "Overall # of frames:  1666  found with (before cropping) frame dimensions:  640 480\n",
      "Starting to extract posture\n"
     ]
    },
    {
     "name": "stderr",
     "output_type": "stream",
     "text": [
      "100%|██████████| 1666/1666 [01:38<00:00, 16.90it/s]\n"
     ]
    },
    {
     "name": "stdout",
     "output_type": "stream",
     "text": [
      "Saving results in /Users/rahimhashim/Desktop/Monkey-Emotions/video/gandalf_231023...\n",
      "Saving csv poses!\n",
      "Starting to analyze %  /Users/rahimhashim/Desktop/Monkey-Emotions/video/gandalf_231023/gandalf_231023_12_e3v83d6.mp4\n",
      "Loading  /Users/rahimhashim/Desktop/Monkey-Emotions/video/gandalf_231023/gandalf_231023_12_e3v83d6.mp4\n",
      "Duration of video [s]:  11.56 , recorded with  120.0 fps!\n",
      "Overall # of frames:  1387  found with (before cropping) frame dimensions:  640 480\n",
      "Starting to extract posture\n"
     ]
    },
    {
     "name": "stderr",
     "output_type": "stream",
     "text": [
      "100%|██████████| 1387/1387 [01:31<00:00, 15.08it/s]\n"
     ]
    },
    {
     "name": "stdout",
     "output_type": "stream",
     "text": [
      "Saving results in /Users/rahimhashim/Desktop/Monkey-Emotions/video/gandalf_231023...\n",
      "Saving csv poses!\n",
      "Starting to analyze %  /Users/rahimhashim/Desktop/Monkey-Emotions/video/gandalf_231023/gandalf_231023_13_e3v83d6.mp4\n",
      "Loading  /Users/rahimhashim/Desktop/Monkey-Emotions/video/gandalf_231023/gandalf_231023_13_e3v83d6.mp4\n",
      "Duration of video [s]:  16.36 , recorded with  120.0 fps!\n",
      "Overall # of frames:  1963  found with (before cropping) frame dimensions:  640 480\n",
      "Starting to extract posture\n"
     ]
    },
    {
     "name": "stderr",
     "output_type": "stream",
     "text": [
      "100%|██████████| 1963/1963 [01:53<00:00, 17.27it/s]\n"
     ]
    },
    {
     "name": "stdout",
     "output_type": "stream",
     "text": [
      "Saving results in /Users/rahimhashim/Desktop/Monkey-Emotions/video/gandalf_231023...\n",
      "Saving csv poses!\n",
      "Starting to analyze %  /Users/rahimhashim/Desktop/Monkey-Emotions/video/gandalf_231023/gandalf_231023_14_e3v83d6.mp4\n",
      "Loading  /Users/rahimhashim/Desktop/Monkey-Emotions/video/gandalf_231023/gandalf_231023_14_e3v83d6.mp4\n",
      "Duration of video [s]:  16.66 , recorded with  120.0 fps!\n",
      "Overall # of frames:  1999  found with (before cropping) frame dimensions:  640 480\n",
      "Starting to extract posture\n"
     ]
    },
    {
     "name": "stderr",
     "output_type": "stream",
     "text": [
      "100%|██████████| 1999/1999 [01:56<00:00, 17.21it/s]\n"
     ]
    },
    {
     "name": "stdout",
     "output_type": "stream",
     "text": [
      "Saving results in /Users/rahimhashim/Desktop/Monkey-Emotions/video/gandalf_231023...\n",
      "Saving csv poses!\n",
      "Starting to analyze %  /Users/rahimhashim/Desktop/Monkey-Emotions/video/gandalf_231023/gandalf_231023_15_e3v83d6.mp4\n",
      "Loading  /Users/rahimhashim/Desktop/Monkey-Emotions/video/gandalf_231023/gandalf_231023_15_e3v83d6.mp4\n",
      "Duration of video [s]:  25.16 , recorded with  120.0 fps!\n",
      "Overall # of frames:  3019  found with (before cropping) frame dimensions:  640 480\n",
      "Starting to extract posture\n"
     ]
    },
    {
     "name": "stderr",
     "output_type": "stream",
     "text": [
      "100%|██████████| 3019/3019 [02:50<00:00, 17.68it/s]\n"
     ]
    },
    {
     "name": "stdout",
     "output_type": "stream",
     "text": [
      "Saving results in /Users/rahimhashim/Desktop/Monkey-Emotions/video/gandalf_231023...\n",
      "Saving csv poses!\n",
      "Starting to analyze %  /Users/rahimhashim/Desktop/Monkey-Emotions/video/gandalf_231023/gandalf_231023_16_e3v83d6.mp4\n",
      "Loading  /Users/rahimhashim/Desktop/Monkey-Emotions/video/gandalf_231023/gandalf_231023_16_e3v83d6.mp4\n",
      "Duration of video [s]:  15.21 , recorded with  120.0 fps!\n",
      "Overall # of frames:  1825  found with (before cropping) frame dimensions:  640 480\n",
      "Starting to extract posture\n"
     ]
    },
    {
     "name": "stderr",
     "output_type": "stream",
     "text": [
      "100%|██████████| 1825/1825 [01:45<00:00, 17.23it/s]\n"
     ]
    },
    {
     "name": "stdout",
     "output_type": "stream",
     "text": [
      "Saving results in /Users/rahimhashim/Desktop/Monkey-Emotions/video/gandalf_231023...\n",
      "Saving csv poses!\n",
      "Starting to analyze %  /Users/rahimhashim/Desktop/Monkey-Emotions/video/gandalf_231023/gandalf_231023_17_e3v83d6.mp4\n",
      "Loading  /Users/rahimhashim/Desktop/Monkey-Emotions/video/gandalf_231023/gandalf_231023_17_e3v83d6.mp4\n",
      "Duration of video [s]:  14.13 , recorded with  120.0 fps!\n",
      "Overall # of frames:  1696  found with (before cropping) frame dimensions:  640 480\n",
      "Starting to extract posture\n"
     ]
    },
    {
     "name": "stderr",
     "output_type": "stream",
     "text": [
      "100%|██████████| 1696/1696 [01:37<00:00, 17.32it/s]\n"
     ]
    },
    {
     "name": "stdout",
     "output_type": "stream",
     "text": [
      "Saving results in /Users/rahimhashim/Desktop/Monkey-Emotions/video/gandalf_231023...\n",
      "Saving csv poses!\n",
      "Starting to analyze %  /Users/rahimhashim/Desktop/Monkey-Emotions/video/gandalf_231023/gandalf_231023_18_e3v83d6.mp4\n",
      "Loading  /Users/rahimhashim/Desktop/Monkey-Emotions/video/gandalf_231023/gandalf_231023_18_e3v83d6.mp4\n",
      "Duration of video [s]:  14.97 , recorded with  120.0 fps!\n",
      "Overall # of frames:  1796  found with (before cropping) frame dimensions:  640 480\n",
      "Starting to extract posture\n"
     ]
    },
    {
     "name": "stderr",
     "output_type": "stream",
     "text": [
      "100%|██████████| 1796/1796 [01:44<00:00, 17.21it/s]\n"
     ]
    },
    {
     "name": "stdout",
     "output_type": "stream",
     "text": [
      "Saving results in /Users/rahimhashim/Desktop/Monkey-Emotions/video/gandalf_231023...\n",
      "Saving csv poses!\n",
      "Starting to analyze %  /Users/rahimhashim/Desktop/Monkey-Emotions/video/gandalf_231023/gandalf_231023_19_e3v83d6.mp4\n",
      "Loading  /Users/rahimhashim/Desktop/Monkey-Emotions/video/gandalf_231023/gandalf_231023_19_e3v83d6.mp4\n",
      "Duration of video [s]:  10.28 , recorded with  120.0 fps!\n",
      "Overall # of frames:  1234  found with (before cropping) frame dimensions:  640 480\n",
      "Starting to extract posture\n"
     ]
    },
    {
     "name": "stderr",
     "output_type": "stream",
     "text": [
      "100%|██████████| 1234/1234 [01:17<00:00, 15.96it/s]\n"
     ]
    },
    {
     "name": "stdout",
     "output_type": "stream",
     "text": [
      "Saving results in /Users/rahimhashim/Desktop/Monkey-Emotions/video/gandalf_231023...\n",
      "Saving csv poses!\n",
      "Starting to analyze %  /Users/rahimhashim/Desktop/Monkey-Emotions/video/gandalf_231023/gandalf_231023_20_e3v83d6.mp4\n",
      "Loading  /Users/rahimhashim/Desktop/Monkey-Emotions/video/gandalf_231023/gandalf_231023_20_e3v83d6.mp4\n",
      "Duration of video [s]:  16.74 , recorded with  120.0 fps!\n",
      "Overall # of frames:  2009  found with (before cropping) frame dimensions:  640 480\n",
      "Starting to extract posture\n"
     ]
    },
    {
     "name": "stderr",
     "output_type": "stream",
     "text": [
      "100%|██████████| 2009/2009 [01:58<00:00, 16.95it/s]\n"
     ]
    },
    {
     "name": "stdout",
     "output_type": "stream",
     "text": [
      "Saving results in /Users/rahimhashim/Desktop/Monkey-Emotions/video/gandalf_231023...\n",
      "Saving csv poses!\n",
      "Starting to analyze %  /Users/rahimhashim/Desktop/Monkey-Emotions/video/gandalf_231023/gandalf_231023_21_e3v83d6.mp4\n",
      "Loading  /Users/rahimhashim/Desktop/Monkey-Emotions/video/gandalf_231023/gandalf_231023_21_e3v83d6.mp4\n",
      "Duration of video [s]:  11.43 , recorded with  120.0 fps!\n",
      "Overall # of frames:  1372  found with (before cropping) frame dimensions:  640 480\n",
      "Starting to extract posture\n"
     ]
    },
    {
     "name": "stderr",
     "output_type": "stream",
     "text": [
      "100%|██████████| 1372/1372 [01:24<00:00, 16.19it/s]\n"
     ]
    },
    {
     "name": "stdout",
     "output_type": "stream",
     "text": [
      "Saving results in /Users/rahimhashim/Desktop/Monkey-Emotions/video/gandalf_231023...\n",
      "Saving csv poses!\n",
      "Starting to analyze %  /Users/rahimhashim/Desktop/Monkey-Emotions/video/gandalf_231023/gandalf_231023_22_e3v83d6.mp4\n",
      "Loading  /Users/rahimhashim/Desktop/Monkey-Emotions/video/gandalf_231023/gandalf_231023_22_e3v83d6.mp4\n",
      "Duration of video [s]:  10.9 , recorded with  120.0 fps!\n",
      "Overall # of frames:  1308  found with (before cropping) frame dimensions:  640 480\n",
      "Starting to extract posture\n"
     ]
    },
    {
     "name": "stderr",
     "output_type": "stream",
     "text": [
      "100%|██████████| 1308/1308 [01:24<00:00, 15.46it/s]\n"
     ]
    },
    {
     "name": "stdout",
     "output_type": "stream",
     "text": [
      "Saving results in /Users/rahimhashim/Desktop/Monkey-Emotions/video/gandalf_231023...\n",
      "Saving csv poses!\n",
      "Starting to analyze %  /Users/rahimhashim/Desktop/Monkey-Emotions/video/gandalf_231023/gandalf_231023_23_e3v83d6.mp4\n",
      "Loading  /Users/rahimhashim/Desktop/Monkey-Emotions/video/gandalf_231023/gandalf_231023_23_e3v83d6.mp4\n",
      "Duration of video [s]:  13.3 , recorded with  120.0 fps!\n",
      "Overall # of frames:  1596  found with (before cropping) frame dimensions:  640 480\n",
      "Starting to extract posture\n"
     ]
    },
    {
     "name": "stderr",
     "output_type": "stream",
     "text": [
      "100%|██████████| 1596/1596 [01:39<00:00, 16.03it/s]\n"
     ]
    },
    {
     "name": "stdout",
     "output_type": "stream",
     "text": [
      "Saving results in /Users/rahimhashim/Desktop/Monkey-Emotions/video/gandalf_231023...\n",
      "Saving csv poses!\n",
      "Starting to analyze %  /Users/rahimhashim/Desktop/Monkey-Emotions/video/gandalf_231023/gandalf_231023_24_e3v83d6.mp4\n",
      "Loading  /Users/rahimhashim/Desktop/Monkey-Emotions/video/gandalf_231023/gandalf_231023_24_e3v83d6.mp4\n",
      "Duration of video [s]:  15.14 , recorded with  120.0 fps!\n",
      "Overall # of frames:  1817  found with (before cropping) frame dimensions:  640 480\n",
      "Starting to extract posture\n"
     ]
    },
    {
     "name": "stderr",
     "output_type": "stream",
     "text": [
      "100%|██████████| 1817/1817 [01:50<00:00, 16.43it/s]\n"
     ]
    },
    {
     "name": "stdout",
     "output_type": "stream",
     "text": [
      "Saving results in /Users/rahimhashim/Desktop/Monkey-Emotions/video/gandalf_231023...\n",
      "Saving csv poses!\n",
      "Starting to analyze %  /Users/rahimhashim/Desktop/Monkey-Emotions/video/gandalf_231023/gandalf_231023_25_e3v83d6.mp4\n",
      "Loading  /Users/rahimhashim/Desktop/Monkey-Emotions/video/gandalf_231023/gandalf_231023_25_e3v83d6.mp4\n",
      "Duration of video [s]:  15.03 , recorded with  120.0 fps!\n",
      "Overall # of frames:  1803  found with (before cropping) frame dimensions:  640 480\n",
      "Starting to extract posture\n"
     ]
    },
    {
     "name": "stderr",
     "output_type": "stream",
     "text": [
      "100%|██████████| 1803/1803 [01:47<00:00, 16.75it/s]\n"
     ]
    },
    {
     "name": "stdout",
     "output_type": "stream",
     "text": [
      "Saving results in /Users/rahimhashim/Desktop/Monkey-Emotions/video/gandalf_231023...\n",
      "Saving csv poses!\n",
      "Starting to analyze %  /Users/rahimhashim/Desktop/Monkey-Emotions/video/gandalf_231023/gandalf_231023_26_e3v83d6.mp4\n",
      "Loading  /Users/rahimhashim/Desktop/Monkey-Emotions/video/gandalf_231023/gandalf_231023_26_e3v83d6.mp4\n",
      "Duration of video [s]:  13.62 , recorded with  120.0 fps!\n",
      "Overall # of frames:  1635  found with (before cropping) frame dimensions:  640 480\n",
      "Starting to extract posture\n"
     ]
    },
    {
     "name": "stderr",
     "output_type": "stream",
     "text": [
      "100%|██████████| 1635/1635 [01:41<00:00, 16.04it/s]\n"
     ]
    },
    {
     "name": "stdout",
     "output_type": "stream",
     "text": [
      "Saving results in /Users/rahimhashim/Desktop/Monkey-Emotions/video/gandalf_231023...\n",
      "Saving csv poses!\n",
      "Starting to analyze %  /Users/rahimhashim/Desktop/Monkey-Emotions/video/gandalf_231023/gandalf_231023_27_e3v83d6.mp4\n",
      "Loading  /Users/rahimhashim/Desktop/Monkey-Emotions/video/gandalf_231023/gandalf_231023_27_e3v83d6.mp4\n",
      "Duration of video [s]:  15.34 , recorded with  120.0 fps!\n",
      "Overall # of frames:  1841  found with (before cropping) frame dimensions:  640 480\n",
      "Starting to extract posture\n"
     ]
    },
    {
     "name": "stderr",
     "output_type": "stream",
     "text": [
      "100%|██████████| 1841/1841 [01:49<00:00, 16.75it/s]\n"
     ]
    },
    {
     "name": "stdout",
     "output_type": "stream",
     "text": [
      "Saving results in /Users/rahimhashim/Desktop/Monkey-Emotions/video/gandalf_231023...\n",
      "Saving csv poses!\n",
      "Starting to analyze %  /Users/rahimhashim/Desktop/Monkey-Emotions/video/gandalf_231023/gandalf_231023_28_e3v83d6.mp4\n",
      "Loading  /Users/rahimhashim/Desktop/Monkey-Emotions/video/gandalf_231023/gandalf_231023_28_e3v83d6.mp4\n",
      "Duration of video [s]:  15.47 , recorded with  120.0 fps!\n",
      "Overall # of frames:  1856  found with (before cropping) frame dimensions:  640 480\n",
      "Starting to extract posture\n"
     ]
    },
    {
     "name": "stderr",
     "output_type": "stream",
     "text": [
      "100%|██████████| 1856/1856 [01:50<00:00, 16.85it/s]\n"
     ]
    },
    {
     "name": "stdout",
     "output_type": "stream",
     "text": [
      "Saving results in /Users/rahimhashim/Desktop/Monkey-Emotions/video/gandalf_231023...\n",
      "Saving csv poses!\n",
      "Starting to analyze %  /Users/rahimhashim/Desktop/Monkey-Emotions/video/gandalf_231023/gandalf_231023_29_e3v83d6.mp4\n",
      "Loading  /Users/rahimhashim/Desktop/Monkey-Emotions/video/gandalf_231023/gandalf_231023_29_e3v83d6.mp4\n",
      "Duration of video [s]:  12.5 , recorded with  120.0 fps!\n",
      "Overall # of frames:  1500  found with (before cropping) frame dimensions:  640 480\n",
      "Starting to extract posture\n"
     ]
    },
    {
     "name": "stderr",
     "output_type": "stream",
     "text": [
      "100%|██████████| 1500/1500 [01:32<00:00, 16.22it/s]\n"
     ]
    },
    {
     "name": "stdout",
     "output_type": "stream",
     "text": [
      "Saving results in /Users/rahimhashim/Desktop/Monkey-Emotions/video/gandalf_231023...\n",
      "Saving csv poses!\n",
      "Starting to analyze %  /Users/rahimhashim/Desktop/Monkey-Emotions/video/gandalf_231023/gandalf_231023_30_e3v83d6.mp4\n",
      "Loading  /Users/rahimhashim/Desktop/Monkey-Emotions/video/gandalf_231023/gandalf_231023_30_e3v83d6.mp4\n",
      "Duration of video [s]:  12.32 , recorded with  120.0 fps!\n",
      "Overall # of frames:  1478  found with (before cropping) frame dimensions:  640 480\n",
      "Starting to extract posture\n"
     ]
    },
    {
     "name": "stderr",
     "output_type": "stream",
     "text": [
      "100%|██████████| 1478/1478 [01:28<00:00, 16.66it/s]\n"
     ]
    },
    {
     "name": "stdout",
     "output_type": "stream",
     "text": [
      "Saving results in /Users/rahimhashim/Desktop/Monkey-Emotions/video/gandalf_231023...\n",
      "Saving csv poses!\n",
      "Starting to analyze %  /Users/rahimhashim/Desktop/Monkey-Emotions/video/gandalf_231023/gandalf_231023_31_e3v83d6.mp4\n",
      "Loading  /Users/rahimhashim/Desktop/Monkey-Emotions/video/gandalf_231023/gandalf_231023_31_e3v83d6.mp4\n",
      "Duration of video [s]:  15.16 , recorded with  120.0 fps!\n",
      "Overall # of frames:  1819  found with (before cropping) frame dimensions:  640 480\n",
      "Starting to extract posture\n"
     ]
    },
    {
     "name": "stderr",
     "output_type": "stream",
     "text": [
      "100%|██████████| 1819/1819 [01:46<00:00, 17.04it/s]\n"
     ]
    },
    {
     "name": "stdout",
     "output_type": "stream",
     "text": [
      "Saving results in /Users/rahimhashim/Desktop/Monkey-Emotions/video/gandalf_231023...\n",
      "Saving csv poses!\n",
      "Starting to analyze %  /Users/rahimhashim/Desktop/Monkey-Emotions/video/gandalf_231023/gandalf_231023_32_e3v83d6.mp4\n",
      "Loading  /Users/rahimhashim/Desktop/Monkey-Emotions/video/gandalf_231023/gandalf_231023_32_e3v83d6.mp4\n",
      "Duration of video [s]:  16.27 , recorded with  120.0 fps!\n",
      "Overall # of frames:  1952  found with (before cropping) frame dimensions:  640 480\n",
      "Starting to extract posture\n"
     ]
    },
    {
     "name": "stderr",
     "output_type": "stream",
     "text": [
      "100%|██████████| 1952/1952 [01:56<00:00, 16.73it/s]\n"
     ]
    },
    {
     "name": "stdout",
     "output_type": "stream",
     "text": [
      "Saving results in /Users/rahimhashim/Desktop/Monkey-Emotions/video/gandalf_231023...\n",
      "Saving csv poses!\n",
      "Starting to analyze %  /Users/rahimhashim/Desktop/Monkey-Emotions/video/gandalf_231023/gandalf_231023_33_e3v83d6.mp4\n",
      "Loading  /Users/rahimhashim/Desktop/Monkey-Emotions/video/gandalf_231023/gandalf_231023_33_e3v83d6.mp4\n",
      "Duration of video [s]:  17.79 , recorded with  120.0 fps!\n",
      "Overall # of frames:  2135  found with (before cropping) frame dimensions:  640 480\n",
      "Starting to extract posture\n"
     ]
    },
    {
     "name": "stderr",
     "output_type": "stream",
     "text": [
      "100%|██████████| 2135/2135 [02:03<00:00, 17.30it/s]\n"
     ]
    },
    {
     "name": "stdout",
     "output_type": "stream",
     "text": [
      "Saving results in /Users/rahimhashim/Desktop/Monkey-Emotions/video/gandalf_231023...\n",
      "Saving csv poses!\n",
      "Starting to analyze %  /Users/rahimhashim/Desktop/Monkey-Emotions/video/gandalf_231023/gandalf_231023_34_e3v83d6.mp4\n",
      "Loading  /Users/rahimhashim/Desktop/Monkey-Emotions/video/gandalf_231023/gandalf_231023_34_e3v83d6.mp4\n",
      "Duration of video [s]:  12.34 , recorded with  120.0 fps!\n",
      "Overall # of frames:  1481  found with (before cropping) frame dimensions:  640 480\n",
      "Starting to extract posture\n"
     ]
    },
    {
     "name": "stderr",
     "output_type": "stream",
     "text": [
      "100%|██████████| 1481/1481 [01:30<00:00, 16.43it/s]\n"
     ]
    },
    {
     "name": "stdout",
     "output_type": "stream",
     "text": [
      "Saving results in /Users/rahimhashim/Desktop/Monkey-Emotions/video/gandalf_231023...\n",
      "Saving csv poses!\n",
      "Starting to analyze %  /Users/rahimhashim/Desktop/Monkey-Emotions/video/gandalf_231023/gandalf_231023_35_e3v83d6.mp4\n",
      "Loading  /Users/rahimhashim/Desktop/Monkey-Emotions/video/gandalf_231023/gandalf_231023_35_e3v83d6.mp4\n",
      "Duration of video [s]:  16.42 , recorded with  120.0 fps!\n",
      "Overall # of frames:  1970  found with (before cropping) frame dimensions:  640 480\n",
      "Starting to extract posture\n"
     ]
    },
    {
     "name": "stderr",
     "output_type": "stream",
     "text": [
      "100%|██████████| 1970/1970 [03:30<00:00,  9.37it/s]\n"
     ]
    },
    {
     "name": "stdout",
     "output_type": "stream",
     "text": [
      "Saving results in /Users/rahimhashim/Desktop/Monkey-Emotions/video/gandalf_231023...\n",
      "Saving csv poses!\n",
      "Starting to analyze %  /Users/rahimhashim/Desktop/Monkey-Emotions/video/gandalf_231023/gandalf_231023_36_e3v83d6.mp4\n",
      "Loading  /Users/rahimhashim/Desktop/Monkey-Emotions/video/gandalf_231023/gandalf_231023_36_e3v83d6.mp4\n",
      "Duration of video [s]:  15.23 , recorded with  120.0 fps!\n",
      "Overall # of frames:  1828  found with (before cropping) frame dimensions:  640 480\n",
      "Starting to extract posture\n"
     ]
    },
    {
     "name": "stderr",
     "output_type": "stream",
     "text": [
      "100%|██████████| 1828/1828 [01:54<00:00, 15.98it/s]\n"
     ]
    },
    {
     "name": "stdout",
     "output_type": "stream",
     "text": [
      "Saving results in /Users/rahimhashim/Desktop/Monkey-Emotions/video/gandalf_231023...\n",
      "Saving csv poses!\n",
      "Starting to analyze %  /Users/rahimhashim/Desktop/Monkey-Emotions/video/gandalf_231023/gandalf_231023_37_e3v83d6.mp4\n",
      "Loading  /Users/rahimhashim/Desktop/Monkey-Emotions/video/gandalf_231023/gandalf_231023_37_e3v83d6.mp4\n",
      "Duration of video [s]:  15.82 , recorded with  120.0 fps!\n",
      "Overall # of frames:  1898  found with (before cropping) frame dimensions:  640 480\n",
      "Starting to extract posture\n"
     ]
    },
    {
     "name": "stderr",
     "output_type": "stream",
     "text": [
      "100%|██████████| 1898/1898 [01:55<00:00, 16.48it/s]\n"
     ]
    },
    {
     "name": "stdout",
     "output_type": "stream",
     "text": [
      "Saving results in /Users/rahimhashim/Desktop/Monkey-Emotions/video/gandalf_231023...\n",
      "Saving csv poses!\n",
      "Starting to analyze %  /Users/rahimhashim/Desktop/Monkey-Emotions/video/gandalf_231023/gandalf_231023_38_e3v83d6.mp4\n",
      "Loading  /Users/rahimhashim/Desktop/Monkey-Emotions/video/gandalf_231023/gandalf_231023_38_e3v83d6.mp4\n",
      "Duration of video [s]:  14.72 , recorded with  120.0 fps!\n",
      "Overall # of frames:  1767  found with (before cropping) frame dimensions:  640 480\n",
      "Starting to extract posture\n"
     ]
    },
    {
     "name": "stderr",
     "output_type": "stream",
     "text": [
      "100%|██████████| 1767/1767 [01:46<00:00, 16.58it/s]\n"
     ]
    },
    {
     "name": "stdout",
     "output_type": "stream",
     "text": [
      "Saving results in /Users/rahimhashim/Desktop/Monkey-Emotions/video/gandalf_231023...\n",
      "Saving csv poses!\n",
      "Starting to analyze %  /Users/rahimhashim/Desktop/Monkey-Emotions/video/gandalf_231023/gandalf_231023_39_e3v83d6.mp4\n",
      "Loading  /Users/rahimhashim/Desktop/Monkey-Emotions/video/gandalf_231023/gandalf_231023_39_e3v83d6.mp4\n",
      "Duration of video [s]:  14.19 , recorded with  120.0 fps!\n",
      "Overall # of frames:  1703  found with (before cropping) frame dimensions:  640 480\n",
      "Starting to extract posture\n"
     ]
    },
    {
     "name": "stderr",
     "output_type": "stream",
     "text": [
      "100%|██████████| 1703/1703 [01:42<00:00, 16.60it/s]\n"
     ]
    },
    {
     "name": "stdout",
     "output_type": "stream",
     "text": [
      "Saving results in /Users/rahimhashim/Desktop/Monkey-Emotions/video/gandalf_231023...\n",
      "Saving csv poses!\n",
      "Starting to analyze %  /Users/rahimhashim/Desktop/Monkey-Emotions/video/gandalf_231023/gandalf_231023_40_e3v83d6.mp4\n",
      "Loading  /Users/rahimhashim/Desktop/Monkey-Emotions/video/gandalf_231023/gandalf_231023_40_e3v83d6.mp4\n",
      "Duration of video [s]:  15.49 , recorded with  120.0 fps!\n",
      "Overall # of frames:  1859  found with (before cropping) frame dimensions:  640 480\n",
      "Starting to extract posture\n"
     ]
    },
    {
     "name": "stderr",
     "output_type": "stream",
     "text": [
      "100%|██████████| 1859/1859 [01:53<00:00, 16.44it/s]\n"
     ]
    },
    {
     "name": "stdout",
     "output_type": "stream",
     "text": [
      "Saving results in /Users/rahimhashim/Desktop/Monkey-Emotions/video/gandalf_231023...\n",
      "Saving csv poses!\n",
      "Starting to analyze %  /Users/rahimhashim/Desktop/Monkey-Emotions/video/gandalf_231023/gandalf_231023_41_e3v83d6.mp4\n",
      "Loading  /Users/rahimhashim/Desktop/Monkey-Emotions/video/gandalf_231023/gandalf_231023_41_e3v83d6.mp4\n",
      "Duration of video [s]:  15.51 , recorded with  120.0 fps!\n",
      "Overall # of frames:  1861  found with (before cropping) frame dimensions:  640 480\n",
      "Starting to extract posture\n"
     ]
    },
    {
     "name": "stderr",
     "output_type": "stream",
     "text": [
      "100%|██████████| 1861/1861 [01:54<00:00, 16.24it/s]\n"
     ]
    },
    {
     "name": "stdout",
     "output_type": "stream",
     "text": [
      "Saving results in /Users/rahimhashim/Desktop/Monkey-Emotions/video/gandalf_231023...\n",
      "Saving csv poses!\n",
      "Starting to analyze %  /Users/rahimhashim/Desktop/Monkey-Emotions/video/gandalf_231023/gandalf_231023_42_e3v83d6.mp4\n",
      "Loading  /Users/rahimhashim/Desktop/Monkey-Emotions/video/gandalf_231023/gandalf_231023_42_e3v83d6.mp4\n",
      "Duration of video [s]:  13.99 , recorded with  120.0 fps!\n",
      "Overall # of frames:  1679  found with (before cropping) frame dimensions:  640 480\n",
      "Starting to extract posture\n"
     ]
    },
    {
     "name": "stderr",
     "output_type": "stream",
     "text": [
      "100%|██████████| 1679/1679 [01:48<00:00, 15.49it/s]\n"
     ]
    },
    {
     "name": "stdout",
     "output_type": "stream",
     "text": [
      "Saving results in /Users/rahimhashim/Desktop/Monkey-Emotions/video/gandalf_231023...\n",
      "Saving csv poses!\n",
      "Starting to analyze %  /Users/rahimhashim/Desktop/Monkey-Emotions/video/gandalf_231023/gandalf_231023_43_e3v83d6.mp4\n",
      "Loading  /Users/rahimhashim/Desktop/Monkey-Emotions/video/gandalf_231023/gandalf_231023_43_e3v83d6.mp4\n",
      "Duration of video [s]:  15.97 , recorded with  120.0 fps!\n",
      "Overall # of frames:  1917  found with (before cropping) frame dimensions:  640 480\n",
      "Starting to extract posture\n"
     ]
    },
    {
     "name": "stderr",
     "output_type": "stream",
     "text": [
      "100%|██████████| 1917/1917 [02:01<00:00, 15.79it/s]\n"
     ]
    },
    {
     "name": "stdout",
     "output_type": "stream",
     "text": [
      "Saving results in /Users/rahimhashim/Desktop/Monkey-Emotions/video/gandalf_231023...\n",
      "Saving csv poses!\n",
      "Starting to analyze %  /Users/rahimhashim/Desktop/Monkey-Emotions/video/gandalf_231023/gandalf_231023_44_e3v83d6.mp4\n",
      "Loading  /Users/rahimhashim/Desktop/Monkey-Emotions/video/gandalf_231023/gandalf_231023_44_e3v83d6.mp4\n",
      "Duration of video [s]:  16.86 , recorded with  120.0 fps!\n",
      "Overall # of frames:  2023  found with (before cropping) frame dimensions:  640 480\n",
      "Starting to extract posture\n"
     ]
    },
    {
     "name": "stderr",
     "output_type": "stream",
     "text": [
      "100%|██████████| 2023/2023 [01:59<00:00, 16.98it/s]\n"
     ]
    },
    {
     "name": "stdout",
     "output_type": "stream",
     "text": [
      "Saving results in /Users/rahimhashim/Desktop/Monkey-Emotions/video/gandalf_231023...\n",
      "Saving csv poses!\n",
      "Starting to analyze %  /Users/rahimhashim/Desktop/Monkey-Emotions/video/gandalf_231023/gandalf_231023_45_e3v83d6.mp4\n",
      "Loading  /Users/rahimhashim/Desktop/Monkey-Emotions/video/gandalf_231023/gandalf_231023_45_e3v83d6.mp4\n",
      "Duration of video [s]:  15.03 , recorded with  120.0 fps!\n",
      "Overall # of frames:  1803  found with (before cropping) frame dimensions:  640 480\n",
      "Starting to extract posture\n"
     ]
    },
    {
     "name": "stderr",
     "output_type": "stream",
     "text": [
      "100%|██████████| 1803/1803 [01:50<00:00, 16.26it/s]\n"
     ]
    },
    {
     "name": "stdout",
     "output_type": "stream",
     "text": [
      "Saving results in /Users/rahimhashim/Desktop/Monkey-Emotions/video/gandalf_231023...\n",
      "Saving csv poses!\n",
      "Starting to analyze %  /Users/rahimhashim/Desktop/Monkey-Emotions/video/gandalf_231023/gandalf_231023_46_e3v83d6.mp4\n",
      "Loading  /Users/rahimhashim/Desktop/Monkey-Emotions/video/gandalf_231023/gandalf_231023_46_e3v83d6.mp4\n",
      "Duration of video [s]:  18.59 , recorded with  120.0 fps!\n",
      "Overall # of frames:  2231  found with (before cropping) frame dimensions:  640 480\n",
      "Starting to extract posture\n"
     ]
    },
    {
     "name": "stderr",
     "output_type": "stream",
     "text": [
      "100%|██████████| 2231/2231 [02:15<00:00, 16.41it/s]\n"
     ]
    },
    {
     "name": "stdout",
     "output_type": "stream",
     "text": [
      "Saving results in /Users/rahimhashim/Desktop/Monkey-Emotions/video/gandalf_231023...\n",
      "Saving csv poses!\n",
      "Starting to analyze %  /Users/rahimhashim/Desktop/Monkey-Emotions/video/gandalf_231023/gandalf_231023_47_e3v83d6.mp4\n",
      "Loading  /Users/rahimhashim/Desktop/Monkey-Emotions/video/gandalf_231023/gandalf_231023_47_e3v83d6.mp4\n",
      "Duration of video [s]:  14.82 , recorded with  120.0 fps!\n",
      "Overall # of frames:  1779  found with (before cropping) frame dimensions:  640 480\n",
      "Starting to extract posture\n"
     ]
    },
    {
     "name": "stderr",
     "output_type": "stream",
     "text": [
      "100%|██████████| 1779/1779 [01:52<00:00, 15.86it/s]\n"
     ]
    },
    {
     "name": "stdout",
     "output_type": "stream",
     "text": [
      "Saving results in /Users/rahimhashim/Desktop/Monkey-Emotions/video/gandalf_231023...\n",
      "Saving csv poses!\n",
      "Starting to analyze %  /Users/rahimhashim/Desktop/Monkey-Emotions/video/gandalf_231023/gandalf_231023_48_e3v83d6.mp4\n",
      "Loading  /Users/rahimhashim/Desktop/Monkey-Emotions/video/gandalf_231023/gandalf_231023_48_e3v83d6.mp4\n",
      "Duration of video [s]:  10.43 , recorded with  120.0 fps!\n",
      "Overall # of frames:  1252  found with (before cropping) frame dimensions:  640 480\n",
      "Starting to extract posture\n"
     ]
    },
    {
     "name": "stderr",
     "output_type": "stream",
     "text": [
      "100%|██████████| 1252/1252 [01:24<00:00, 14.79it/s]\n"
     ]
    },
    {
     "name": "stdout",
     "output_type": "stream",
     "text": [
      "Saving results in /Users/rahimhashim/Desktop/Monkey-Emotions/video/gandalf_231023...\n",
      "Saving csv poses!\n",
      "Starting to analyze %  /Users/rahimhashim/Desktop/Monkey-Emotions/video/gandalf_231023/gandalf_231023_49_e3v83d6.mp4\n",
      "Loading  /Users/rahimhashim/Desktop/Monkey-Emotions/video/gandalf_231023/gandalf_231023_49_e3v83d6.mp4\n",
      "Duration of video [s]:  11.84 , recorded with  120.0 fps!\n",
      "Overall # of frames:  1421  found with (before cropping) frame dimensions:  640 480\n",
      "Starting to extract posture\n"
     ]
    },
    {
     "name": "stderr",
     "output_type": "stream",
     "text": [
      "100%|██████████| 1421/1421 [01:35<00:00, 14.91it/s]\n"
     ]
    },
    {
     "name": "stdout",
     "output_type": "stream",
     "text": [
      "Saving results in /Users/rahimhashim/Desktop/Monkey-Emotions/video/gandalf_231023...\n",
      "Saving csv poses!\n",
      "Starting to analyze %  /Users/rahimhashim/Desktop/Monkey-Emotions/video/gandalf_231023/gandalf_231023_50_e3v83d6.mp4\n",
      "Loading  /Users/rahimhashim/Desktop/Monkey-Emotions/video/gandalf_231023/gandalf_231023_50_e3v83d6.mp4\n",
      "Duration of video [s]:  13.75 , recorded with  120.0 fps!\n",
      "Overall # of frames:  1650  found with (before cropping) frame dimensions:  640 480\n",
      "Starting to extract posture\n"
     ]
    },
    {
     "name": "stderr",
     "output_type": "stream",
     "text": [
      "100%|██████████| 1650/1650 [01:48<00:00, 15.21it/s]\n"
     ]
    },
    {
     "name": "stdout",
     "output_type": "stream",
     "text": [
      "Saving results in /Users/rahimhashim/Desktop/Monkey-Emotions/video/gandalf_231023...\n",
      "Saving csv poses!\n",
      "Starting to analyze %  /Users/rahimhashim/Desktop/Monkey-Emotions/video/gandalf_231023/gandalf_231023_51_e3v83d6.mp4\n",
      "Loading  /Users/rahimhashim/Desktop/Monkey-Emotions/video/gandalf_231023/gandalf_231023_51_e3v83d6.mp4\n",
      "Duration of video [s]:  16.07 , recorded with  120.0 fps!\n",
      "Overall # of frames:  1929  found with (before cropping) frame dimensions:  640 480\n",
      "Starting to extract posture\n"
     ]
    },
    {
     "name": "stderr",
     "output_type": "stream",
     "text": [
      "100%|██████████| 1929/1929 [01:57<00:00, 16.39it/s]\n"
     ]
    },
    {
     "name": "stdout",
     "output_type": "stream",
     "text": [
      "Saving results in /Users/rahimhashim/Desktop/Monkey-Emotions/video/gandalf_231023...\n",
      "Saving csv poses!\n",
      "Starting to analyze %  /Users/rahimhashim/Desktop/Monkey-Emotions/video/gandalf_231023/gandalf_231023_52_e3v83d6.mp4\n",
      "Loading  /Users/rahimhashim/Desktop/Monkey-Emotions/video/gandalf_231023/gandalf_231023_52_e3v83d6.mp4\n",
      "Duration of video [s]:  12.18 , recorded with  120.0 fps!\n",
      "Overall # of frames:  1462  found with (before cropping) frame dimensions:  640 480\n",
      "Starting to extract posture\n"
     ]
    },
    {
     "name": "stderr",
     "output_type": "stream",
     "text": [
      "100%|██████████| 1462/1462 [01:36<00:00, 15.21it/s]\n"
     ]
    },
    {
     "name": "stdout",
     "output_type": "stream",
     "text": [
      "Saving results in /Users/rahimhashim/Desktop/Monkey-Emotions/video/gandalf_231023...\n",
      "Saving csv poses!\n",
      "Starting to analyze %  /Users/rahimhashim/Desktop/Monkey-Emotions/video/gandalf_231023/gandalf_231023_53_e3v83d6.mp4\n",
      "Loading  /Users/rahimhashim/Desktop/Monkey-Emotions/video/gandalf_231023/gandalf_231023_53_e3v83d6.mp4\n",
      "Duration of video [s]:  15.61 , recorded with  120.0 fps!\n",
      "Overall # of frames:  1873  found with (before cropping) frame dimensions:  640 480\n",
      "Starting to extract posture\n"
     ]
    },
    {
     "name": "stderr",
     "output_type": "stream",
     "text": [
      "100%|██████████| 1873/1873 [01:57<00:00, 15.96it/s]\n"
     ]
    },
    {
     "name": "stdout",
     "output_type": "stream",
     "text": [
      "Saving results in /Users/rahimhashim/Desktop/Monkey-Emotions/video/gandalf_231023...\n",
      "Saving csv poses!\n",
      "Starting to analyze %  /Users/rahimhashim/Desktop/Monkey-Emotions/video/gandalf_231023/gandalf_231023_54_e3v83d6.mp4\n",
      "Loading  /Users/rahimhashim/Desktop/Monkey-Emotions/video/gandalf_231023/gandalf_231023_54_e3v83d6.mp4\n",
      "Duration of video [s]:  13.22 , recorded with  120.0 fps!\n",
      "Overall # of frames:  1586  found with (before cropping) frame dimensions:  640 480\n",
      "Starting to extract posture\n"
     ]
    },
    {
     "name": "stderr",
     "output_type": "stream",
     "text": [
      "100%|██████████| 1586/1586 [01:45<00:00, 15.10it/s]\n"
     ]
    },
    {
     "name": "stdout",
     "output_type": "stream",
     "text": [
      "Saving results in /Users/rahimhashim/Desktop/Monkey-Emotions/video/gandalf_231023...\n",
      "Saving csv poses!\n",
      "Starting to analyze %  /Users/rahimhashim/Desktop/Monkey-Emotions/video/gandalf_231023/gandalf_231023_55_e3v83d6.mp4\n",
      "Loading  /Users/rahimhashim/Desktop/Monkey-Emotions/video/gandalf_231023/gandalf_231023_55_e3v83d6.mp4\n",
      "Duration of video [s]:  15.03 , recorded with  120.0 fps!\n",
      "Overall # of frames:  1804  found with (before cropping) frame dimensions:  640 480\n",
      "Starting to extract posture\n"
     ]
    },
    {
     "name": "stderr",
     "output_type": "stream",
     "text": [
      "100%|██████████| 1804/1804 [01:53<00:00, 15.86it/s]\n"
     ]
    },
    {
     "name": "stdout",
     "output_type": "stream",
     "text": [
      "Saving results in /Users/rahimhashim/Desktop/Monkey-Emotions/video/gandalf_231023...\n",
      "Saving csv poses!\n",
      "Starting to analyze %  /Users/rahimhashim/Desktop/Monkey-Emotions/video/gandalf_231023/gandalf_231023_56_e3v83d6.mp4\n",
      "Loading  /Users/rahimhashim/Desktop/Monkey-Emotions/video/gandalf_231023/gandalf_231023_56_e3v83d6.mp4\n",
      "Duration of video [s]:  13.88 , recorded with  120.0 fps!\n",
      "Overall # of frames:  1665  found with (before cropping) frame dimensions:  640 480\n",
      "Starting to extract posture\n"
     ]
    },
    {
     "name": "stderr",
     "output_type": "stream",
     "text": [
      "100%|██████████| 1665/1665 [01:51<00:00, 14.98it/s]\n"
     ]
    },
    {
     "name": "stdout",
     "output_type": "stream",
     "text": [
      "Saving results in /Users/rahimhashim/Desktop/Monkey-Emotions/video/gandalf_231023...\n",
      "Saving csv poses!\n",
      "Starting to analyze %  /Users/rahimhashim/Desktop/Monkey-Emotions/video/gandalf_231023/gandalf_231023_57_e3v83d6.mp4\n",
      "Loading  /Users/rahimhashim/Desktop/Monkey-Emotions/video/gandalf_231023/gandalf_231023_57_e3v83d6.mp4\n",
      "Duration of video [s]:  14.16 , recorded with  120.0 fps!\n",
      "Overall # of frames:  1699  found with (before cropping) frame dimensions:  640 480\n",
      "Starting to extract posture\n"
     ]
    },
    {
     "name": "stderr",
     "output_type": "stream",
     "text": [
      "100%|██████████| 1699/1699 [01:50<00:00, 15.32it/s]\n"
     ]
    },
    {
     "name": "stdout",
     "output_type": "stream",
     "text": [
      "Saving results in /Users/rahimhashim/Desktop/Monkey-Emotions/video/gandalf_231023...\n",
      "Saving csv poses!\n",
      "Starting to analyze %  /Users/rahimhashim/Desktop/Monkey-Emotions/video/gandalf_231023/gandalf_231023_58_e3v83d6.mp4\n",
      "Loading  /Users/rahimhashim/Desktop/Monkey-Emotions/video/gandalf_231023/gandalf_231023_58_e3v83d6.mp4\n",
      "Duration of video [s]:  15.61 , recorded with  120.0 fps!\n",
      "Overall # of frames:  1873  found with (before cropping) frame dimensions:  640 480\n",
      "Starting to extract posture\n"
     ]
    },
    {
     "name": "stderr",
     "output_type": "stream",
     "text": [
      "100%|██████████| 1873/1873 [01:57<00:00, 15.88it/s]\n"
     ]
    },
    {
     "name": "stdout",
     "output_type": "stream",
     "text": [
      "Saving results in /Users/rahimhashim/Desktop/Monkey-Emotions/video/gandalf_231023...\n",
      "Saving csv poses!\n",
      "Starting to analyze %  /Users/rahimhashim/Desktop/Monkey-Emotions/video/gandalf_231023/gandalf_231023_59_e3v83d6.mp4\n",
      "Loading  /Users/rahimhashim/Desktop/Monkey-Emotions/video/gandalf_231023/gandalf_231023_59_e3v83d6.mp4\n",
      "Duration of video [s]:  12.25 , recorded with  120.0 fps!\n",
      "Overall # of frames:  1470  found with (before cropping) frame dimensions:  640 480\n",
      "Starting to extract posture\n"
     ]
    },
    {
     "name": "stderr",
     "output_type": "stream",
     "text": [
      "100%|██████████| 1470/1470 [01:35<00:00, 15.46it/s]\n"
     ]
    },
    {
     "name": "stdout",
     "output_type": "stream",
     "text": [
      "Saving results in /Users/rahimhashim/Desktop/Monkey-Emotions/video/gandalf_231023...\n",
      "Saving csv poses!\n",
      "Starting to analyze %  /Users/rahimhashim/Desktop/Monkey-Emotions/video/gandalf_231023/gandalf_231023_60_e3v83d6.mp4\n",
      "Loading  /Users/rahimhashim/Desktop/Monkey-Emotions/video/gandalf_231023/gandalf_231023_60_e3v83d6.mp4\n",
      "Duration of video [s]:  14.3 , recorded with  120.0 fps!\n",
      "Overall # of frames:  1716  found with (before cropping) frame dimensions:  640 480\n",
      "Starting to extract posture\n"
     ]
    },
    {
     "name": "stderr",
     "output_type": "stream",
     "text": [
      "100%|██████████| 1716/1716 [01:48<00:00, 15.81it/s]\n"
     ]
    },
    {
     "name": "stdout",
     "output_type": "stream",
     "text": [
      "Saving results in /Users/rahimhashim/Desktop/Monkey-Emotions/video/gandalf_231023...\n",
      "Saving csv poses!\n",
      "Starting to analyze %  /Users/rahimhashim/Desktop/Monkey-Emotions/video/gandalf_231023/gandalf_231023_61_e3v83d6.mp4\n",
      "Loading  /Users/rahimhashim/Desktop/Monkey-Emotions/video/gandalf_231023/gandalf_231023_61_e3v83d6.mp4\n",
      "Duration of video [s]:  12.55 , recorded with  120.0 fps!\n",
      "Overall # of frames:  1506  found with (before cropping) frame dimensions:  640 480\n",
      "Starting to extract posture\n"
     ]
    },
    {
     "name": "stderr",
     "output_type": "stream",
     "text": [
      "100%|██████████| 1506/1506 [01:37<00:00, 15.45it/s]\n"
     ]
    },
    {
     "name": "stdout",
     "output_type": "stream",
     "text": [
      "Saving results in /Users/rahimhashim/Desktop/Monkey-Emotions/video/gandalf_231023...\n",
      "Saving csv poses!\n",
      "Starting to analyze %  /Users/rahimhashim/Desktop/Monkey-Emotions/video/gandalf_231023/gandalf_231023_62_e3v83d6.mp4\n",
      "Loading  /Users/rahimhashim/Desktop/Monkey-Emotions/video/gandalf_231023/gandalf_231023_62_e3v83d6.mp4\n",
      "Duration of video [s]:  12.92 , recorded with  120.0 fps!\n",
      "Overall # of frames:  1550  found with (before cropping) frame dimensions:  640 480\n",
      "Starting to extract posture\n"
     ]
    },
    {
     "name": "stderr",
     "output_type": "stream",
     "text": [
      "100%|██████████| 1550/1550 [01:36<00:00, 16.14it/s]\n"
     ]
    },
    {
     "name": "stdout",
     "output_type": "stream",
     "text": [
      "Saving results in /Users/rahimhashim/Desktop/Monkey-Emotions/video/gandalf_231023...\n",
      "Saving csv poses!\n",
      "Starting to analyze %  /Users/rahimhashim/Desktop/Monkey-Emotions/video/gandalf_231023/gandalf_231023_63_e3v83d6.mp4\n",
      "Loading  /Users/rahimhashim/Desktop/Monkey-Emotions/video/gandalf_231023/gandalf_231023_63_e3v83d6.mp4\n",
      "Duration of video [s]:  14.2 , recorded with  120.0 fps!\n",
      "Overall # of frames:  1704  found with (before cropping) frame dimensions:  640 480\n",
      "Starting to extract posture\n"
     ]
    },
    {
     "name": "stderr",
     "output_type": "stream",
     "text": [
      "100%|██████████| 1704/1704 [01:46<00:00, 15.93it/s]\n"
     ]
    },
    {
     "name": "stdout",
     "output_type": "stream",
     "text": [
      "Saving results in /Users/rahimhashim/Desktop/Monkey-Emotions/video/gandalf_231023...\n",
      "Saving csv poses!\n",
      "Starting to analyze %  /Users/rahimhashim/Desktop/Monkey-Emotions/video/gandalf_231023/gandalf_231023_64_e3v83d6.mp4\n",
      "Loading  /Users/rahimhashim/Desktop/Monkey-Emotions/video/gandalf_231023/gandalf_231023_64_e3v83d6.mp4\n",
      "Duration of video [s]:  15.37 , recorded with  120.0 fps!\n",
      "Overall # of frames:  1844  found with (before cropping) frame dimensions:  640 480\n",
      "Starting to extract posture\n"
     ]
    },
    {
     "name": "stderr",
     "output_type": "stream",
     "text": [
      "100%|██████████| 1844/1844 [01:58<00:00, 15.55it/s]\n"
     ]
    },
    {
     "name": "stdout",
     "output_type": "stream",
     "text": [
      "Saving results in /Users/rahimhashim/Desktop/Monkey-Emotions/video/gandalf_231023...\n",
      "Saving csv poses!\n",
      "Starting to analyze %  /Users/rahimhashim/Desktop/Monkey-Emotions/video/gandalf_231023/gandalf_231023_65_e3v83d6.mp4\n",
      "Loading  /Users/rahimhashim/Desktop/Monkey-Emotions/video/gandalf_231023/gandalf_231023_65_e3v83d6.mp4\n",
      "Duration of video [s]:  14.4 , recorded with  120.0 fps!\n",
      "Overall # of frames:  1728  found with (before cropping) frame dimensions:  640 480\n",
      "Starting to extract posture\n"
     ]
    },
    {
     "name": "stderr",
     "output_type": "stream",
     "text": [
      "100%|██████████| 1728/1728 [01:48<00:00, 15.92it/s]\n"
     ]
    },
    {
     "name": "stdout",
     "output_type": "stream",
     "text": [
      "Saving results in /Users/rahimhashim/Desktop/Monkey-Emotions/video/gandalf_231023...\n",
      "Saving csv poses!\n",
      "Starting to analyze %  /Users/rahimhashim/Desktop/Monkey-Emotions/video/gandalf_231023/gandalf_231023_66_e3v83d6.mp4\n",
      "Loading  /Users/rahimhashim/Desktop/Monkey-Emotions/video/gandalf_231023/gandalf_231023_66_e3v83d6.mp4\n",
      "Duration of video [s]:  16.88 , recorded with  120.0 fps!\n",
      "Overall # of frames:  2026  found with (before cropping) frame dimensions:  640 480\n",
      "Starting to extract posture\n"
     ]
    },
    {
     "name": "stderr",
     "output_type": "stream",
     "text": [
      "100%|██████████| 2026/2026 [02:06<00:00, 15.99it/s]\n"
     ]
    },
    {
     "name": "stdout",
     "output_type": "stream",
     "text": [
      "Saving results in /Users/rahimhashim/Desktop/Monkey-Emotions/video/gandalf_231023...\n",
      "Saving csv poses!\n",
      "Starting to analyze %  /Users/rahimhashim/Desktop/Monkey-Emotions/video/gandalf_231023/gandalf_231023_67_e3v83d6.mp4\n",
      "Loading  /Users/rahimhashim/Desktop/Monkey-Emotions/video/gandalf_231023/gandalf_231023_67_e3v83d6.mp4\n",
      "Duration of video [s]:  32.27 , recorded with  120.0 fps!\n",
      "Overall # of frames:  3872  found with (before cropping) frame dimensions:  640 480\n",
      "Starting to extract posture\n"
     ]
    },
    {
     "name": "stderr",
     "output_type": "stream",
     "text": [
      "100%|██████████| 3872/3872 [03:41<00:00, 17.49it/s]\n"
     ]
    },
    {
     "name": "stdout",
     "output_type": "stream",
     "text": [
      "Saving results in /Users/rahimhashim/Desktop/Monkey-Emotions/video/gandalf_231023...\n",
      "Saving csv poses!\n",
      "Starting to analyze %  /Users/rahimhashim/Desktop/Monkey-Emotions/video/gandalf_231023/gandalf_231023_68_e3v83d6.mp4\n",
      "Loading  /Users/rahimhashim/Desktop/Monkey-Emotions/video/gandalf_231023/gandalf_231023_68_e3v83d6.mp4\n",
      "Duration of video [s]:  17.43 , recorded with  120.0 fps!\n",
      "Overall # of frames:  2091  found with (before cropping) frame dimensions:  640 480\n",
      "Starting to extract posture\n"
     ]
    },
    {
     "name": "stderr",
     "output_type": "stream",
     "text": [
      "100%|██████████| 2091/2091 [02:05<00:00, 16.70it/s]\n"
     ]
    },
    {
     "name": "stdout",
     "output_type": "stream",
     "text": [
      "Saving results in /Users/rahimhashim/Desktop/Monkey-Emotions/video/gandalf_231023...\n",
      "Saving csv poses!\n",
      "Starting to analyze %  /Users/rahimhashim/Desktop/Monkey-Emotions/video/gandalf_231023/gandalf_231023_69_e3v83d6.mp4\n",
      "Loading  /Users/rahimhashim/Desktop/Monkey-Emotions/video/gandalf_231023/gandalf_231023_69_e3v83d6.mp4\n",
      "Duration of video [s]:  12.55 , recorded with  120.0 fps!\n",
      "Overall # of frames:  1506  found with (before cropping) frame dimensions:  640 480\n",
      "Starting to extract posture\n"
     ]
    },
    {
     "name": "stderr",
     "output_type": "stream",
     "text": [
      "100%|██████████| 1506/1506 [01:34<00:00, 15.99it/s]\n"
     ]
    },
    {
     "name": "stdout",
     "output_type": "stream",
     "text": [
      "Saving results in /Users/rahimhashim/Desktop/Monkey-Emotions/video/gandalf_231023...\n",
      "Saving csv poses!\n",
      "Starting to analyze %  /Users/rahimhashim/Desktop/Monkey-Emotions/video/gandalf_231023/gandalf_231023_70_e3v83d6.mp4\n",
      "Loading  /Users/rahimhashim/Desktop/Monkey-Emotions/video/gandalf_231023/gandalf_231023_70_e3v83d6.mp4\n",
      "Duration of video [s]:  13.48 , recorded with  120.0 fps!\n",
      "Overall # of frames:  1618  found with (before cropping) frame dimensions:  640 480\n",
      "Starting to extract posture\n"
     ]
    },
    {
     "name": "stderr",
     "output_type": "stream",
     "text": [
      "100%|██████████| 1618/1618 [01:40<00:00, 16.10it/s]\n"
     ]
    },
    {
     "name": "stdout",
     "output_type": "stream",
     "text": [
      "Saving results in /Users/rahimhashim/Desktop/Monkey-Emotions/video/gandalf_231023...\n",
      "Saving csv poses!\n",
      "Starting to analyze %  /Users/rahimhashim/Desktop/Monkey-Emotions/video/gandalf_231023/gandalf_231023_71_e3v83d6.mp4\n",
      "Loading  /Users/rahimhashim/Desktop/Monkey-Emotions/video/gandalf_231023/gandalf_231023_71_e3v83d6.mp4\n",
      "Duration of video [s]:  14.93 , recorded with  120.0 fps!\n",
      "Overall # of frames:  1791  found with (before cropping) frame dimensions:  640 480\n",
      "Starting to extract posture\n"
     ]
    },
    {
     "name": "stderr",
     "output_type": "stream",
     "text": [
      "100%|██████████| 1791/1791 [06:48<00:00,  4.39it/s] \n"
     ]
    },
    {
     "name": "stdout",
     "output_type": "stream",
     "text": [
      "Saving results in /Users/rahimhashim/Desktop/Monkey-Emotions/video/gandalf_231023...\n",
      "Saving csv poses!\n",
      "Starting to analyze %  /Users/rahimhashim/Desktop/Monkey-Emotions/video/gandalf_231023/gandalf_231023_72_e3v83d6.mp4\n",
      "Loading  /Users/rahimhashim/Desktop/Monkey-Emotions/video/gandalf_231023/gandalf_231023_72_e3v83d6.mp4\n",
      "Duration of video [s]:  15.47 , recorded with  120.0 fps!\n",
      "Overall # of frames:  1857  found with (before cropping) frame dimensions:  640 480\n",
      "Starting to extract posture\n"
     ]
    },
    {
     "name": "stderr",
     "output_type": "stream",
     "text": [
      "100%|██████████| 1857/1857 [03:43<00:00,  8.31it/s]\n"
     ]
    },
    {
     "name": "stdout",
     "output_type": "stream",
     "text": [
      "Saving results in /Users/rahimhashim/Desktop/Monkey-Emotions/video/gandalf_231023...\n",
      "Saving csv poses!\n",
      "Starting to analyze %  /Users/rahimhashim/Desktop/Monkey-Emotions/video/gandalf_231023/gandalf_231023_73_e3v83d6.mp4\n",
      "Loading  /Users/rahimhashim/Desktop/Monkey-Emotions/video/gandalf_231023/gandalf_231023_73_e3v83d6.mp4\n",
      "Duration of video [s]:  10.18 , recorded with  120.0 fps!\n",
      "Overall # of frames:  1222  found with (before cropping) frame dimensions:  640 480\n",
      "Starting to extract posture\n"
     ]
    },
    {
     "name": "stderr",
     "output_type": "stream",
     "text": [
      "100%|██████████| 1222/1222 [02:27<00:00,  8.26it/s]\n"
     ]
    },
    {
     "name": "stdout",
     "output_type": "stream",
     "text": [
      "Saving results in /Users/rahimhashim/Desktop/Monkey-Emotions/video/gandalf_231023...\n",
      "Saving csv poses!\n",
      "Starting to analyze %  /Users/rahimhashim/Desktop/Monkey-Emotions/video/gandalf_231023/gandalf_231023_74_e3v83d6.mp4\n",
      "Loading  /Users/rahimhashim/Desktop/Monkey-Emotions/video/gandalf_231023/gandalf_231023_74_e3v83d6.mp4\n",
      "Duration of video [s]:  12.1 , recorded with  120.0 fps!\n",
      "Overall # of frames:  1452  found with (before cropping) frame dimensions:  640 480\n",
      "Starting to extract posture\n"
     ]
    },
    {
     "name": "stderr",
     "output_type": "stream",
     "text": [
      "100%|██████████| 1452/1452 [01:47<00:00, 13.55it/s]\n"
     ]
    },
    {
     "name": "stdout",
     "output_type": "stream",
     "text": [
      "Saving results in /Users/rahimhashim/Desktop/Monkey-Emotions/video/gandalf_231023...\n",
      "Saving csv poses!\n",
      "Starting to analyze %  /Users/rahimhashim/Desktop/Monkey-Emotions/video/gandalf_231023/gandalf_231023_75_e3v83d6.mp4\n",
      "Loading  /Users/rahimhashim/Desktop/Monkey-Emotions/video/gandalf_231023/gandalf_231023_75_e3v83d6.mp4\n",
      "Duration of video [s]:  13.44 , recorded with  120.0 fps!\n",
      "Overall # of frames:  1613  found with (before cropping) frame dimensions:  640 480\n",
      "Starting to extract posture\n"
     ]
    },
    {
     "name": "stderr",
     "output_type": "stream",
     "text": [
      "100%|██████████| 1613/1613 [01:47<00:00, 15.06it/s]\n"
     ]
    },
    {
     "name": "stdout",
     "output_type": "stream",
     "text": [
      "Saving results in /Users/rahimhashim/Desktop/Monkey-Emotions/video/gandalf_231023...\n",
      "Saving csv poses!\n",
      "Starting to analyze %  /Users/rahimhashim/Desktop/Monkey-Emotions/video/gandalf_231023/gandalf_231023_76_e3v83d6.mp4\n",
      "Loading  /Users/rahimhashim/Desktop/Monkey-Emotions/video/gandalf_231023/gandalf_231023_76_e3v83d6.mp4\n",
      "Duration of video [s]:  14.74 , recorded with  120.0 fps!\n",
      "Overall # of frames:  1769  found with (before cropping) frame dimensions:  640 480\n",
      "Starting to extract posture\n"
     ]
    },
    {
     "name": "stderr",
     "output_type": "stream",
     "text": [
      "100%|██████████| 1769/1769 [01:56<00:00, 15.15it/s]\n"
     ]
    },
    {
     "name": "stdout",
     "output_type": "stream",
     "text": [
      "Saving results in /Users/rahimhashim/Desktop/Monkey-Emotions/video/gandalf_231023...\n",
      "Saving csv poses!\n",
      "Starting to analyze %  /Users/rahimhashim/Desktop/Monkey-Emotions/video/gandalf_231023/gandalf_231023_77_e3v83d6.mp4\n",
      "Loading  /Users/rahimhashim/Desktop/Monkey-Emotions/video/gandalf_231023/gandalf_231023_77_e3v83d6.mp4\n",
      "Duration of video [s]:  13.99 , recorded with  120.0 fps!\n",
      "Overall # of frames:  1679  found with (before cropping) frame dimensions:  640 480\n",
      "Starting to extract posture\n"
     ]
    },
    {
     "name": "stderr",
     "output_type": "stream",
     "text": [
      "100%|██████████| 1679/1679 [01:48<00:00, 15.43it/s]\n"
     ]
    },
    {
     "name": "stdout",
     "output_type": "stream",
     "text": [
      "Saving results in /Users/rahimhashim/Desktop/Monkey-Emotions/video/gandalf_231023...\n",
      "Saving csv poses!\n",
      "Starting to analyze %  /Users/rahimhashim/Desktop/Monkey-Emotions/video/gandalf_231023/gandalf_231023_78_e3v83d6.mp4\n",
      "Loading  /Users/rahimhashim/Desktop/Monkey-Emotions/video/gandalf_231023/gandalf_231023_78_e3v83d6.mp4\n",
      "Duration of video [s]:  10.82 , recorded with  120.0 fps!\n",
      "Overall # of frames:  1298  found with (before cropping) frame dimensions:  640 480\n",
      "Starting to extract posture\n"
     ]
    },
    {
     "name": "stderr",
     "output_type": "stream",
     "text": [
      "100%|██████████| 1298/1298 [01:31<00:00, 14.25it/s]\n"
     ]
    },
    {
     "name": "stdout",
     "output_type": "stream",
     "text": [
      "Saving results in /Users/rahimhashim/Desktop/Monkey-Emotions/video/gandalf_231023...\n",
      "Saving csv poses!\n",
      "Starting to analyze %  /Users/rahimhashim/Desktop/Monkey-Emotions/video/gandalf_231023/gandalf_231023_79_e3v83d6.mp4\n",
      "Loading  /Users/rahimhashim/Desktop/Monkey-Emotions/video/gandalf_231023/gandalf_231023_79_e3v83d6.mp4\n",
      "Duration of video [s]:  12.21 , recorded with  120.0 fps!\n",
      "Overall # of frames:  1465  found with (before cropping) frame dimensions:  640 480\n",
      "Starting to extract posture\n"
     ]
    },
    {
     "name": "stderr",
     "output_type": "stream",
     "text": [
      "100%|██████████| 1465/1465 [01:40<00:00, 14.59it/s]\n"
     ]
    },
    {
     "name": "stdout",
     "output_type": "stream",
     "text": [
      "Saving results in /Users/rahimhashim/Desktop/Monkey-Emotions/video/gandalf_231023...\n",
      "Saving csv poses!\n",
      "Starting to analyze %  /Users/rahimhashim/Desktop/Monkey-Emotions/video/gandalf_231023/gandalf_231023_80_e3v83d6.mp4\n",
      "Loading  /Users/rahimhashim/Desktop/Monkey-Emotions/video/gandalf_231023/gandalf_231023_80_e3v83d6.mp4\n",
      "Duration of video [s]:  14.72 , recorded with  120.0 fps!\n",
      "Overall # of frames:  1766  found with (before cropping) frame dimensions:  640 480\n",
      "Starting to extract posture\n"
     ]
    },
    {
     "name": "stderr",
     "output_type": "stream",
     "text": [
      "100%|██████████| 1766/1766 [01:57<00:00, 15.04it/s]\n"
     ]
    },
    {
     "name": "stdout",
     "output_type": "stream",
     "text": [
      "Saving results in /Users/rahimhashim/Desktop/Monkey-Emotions/video/gandalf_231023...\n",
      "Saving csv poses!\n",
      "Starting to analyze %  /Users/rahimhashim/Desktop/Monkey-Emotions/video/gandalf_231023/gandalf_231023_81_e3v83d6.mp4\n",
      "Loading  /Users/rahimhashim/Desktop/Monkey-Emotions/video/gandalf_231023/gandalf_231023_81_e3v83d6.mp4\n",
      "Duration of video [s]:  12.31 , recorded with  120.0 fps!\n",
      "Overall # of frames:  1477  found with (before cropping) frame dimensions:  640 480\n",
      "Starting to extract posture\n"
     ]
    },
    {
     "name": "stderr",
     "output_type": "stream",
     "text": [
      "100%|██████████| 1477/1477 [01:40<00:00, 14.64it/s]\n"
     ]
    },
    {
     "name": "stdout",
     "output_type": "stream",
     "text": [
      "Saving results in /Users/rahimhashim/Desktop/Monkey-Emotions/video/gandalf_231023...\n",
      "Saving csv poses!\n",
      "Starting to analyze %  /Users/rahimhashim/Desktop/Monkey-Emotions/video/gandalf_231023/gandalf_231023_83_e3v83d6.mp4\n",
      "Loading  /Users/rahimhashim/Desktop/Monkey-Emotions/video/gandalf_231023/gandalf_231023_83_e3v83d6.mp4\n",
      "Duration of video [s]:  15.7 , recorded with  120.0 fps!\n",
      "Overall # of frames:  1884  found with (before cropping) frame dimensions:  640 480\n",
      "Starting to extract posture\n"
     ]
    },
    {
     "name": "stderr",
     "output_type": "stream",
     "text": [
      "100%|██████████| 1884/1884 [02:02<00:00, 15.33it/s]\n"
     ]
    },
    {
     "name": "stdout",
     "output_type": "stream",
     "text": [
      "Saving results in /Users/rahimhashim/Desktop/Monkey-Emotions/video/gandalf_231023...\n",
      "Saving csv poses!\n",
      "Starting to analyze %  /Users/rahimhashim/Desktop/Monkey-Emotions/video/gandalf_231023/gandalf_231023_84_e3v83d6.mp4\n",
      "Loading  /Users/rahimhashim/Desktop/Monkey-Emotions/video/gandalf_231023/gandalf_231023_84_e3v83d6.mp4\n",
      "Duration of video [s]:  14.0 , recorded with  120.0 fps!\n",
      "Overall # of frames:  1680  found with (before cropping) frame dimensions:  640 480\n",
      "Starting to extract posture\n"
     ]
    },
    {
     "name": "stderr",
     "output_type": "stream",
     "text": [
      "100%|██████████| 1680/1680 [01:51<00:00, 15.09it/s]\n"
     ]
    },
    {
     "name": "stdout",
     "output_type": "stream",
     "text": [
      "Saving results in /Users/rahimhashim/Desktop/Monkey-Emotions/video/gandalf_231023...\n",
      "Saving csv poses!\n",
      "Starting to analyze %  /Users/rahimhashim/Desktop/Monkey-Emotions/video/gandalf_231023/gandalf_231023_85_e3v83d6.mp4\n",
      "Loading  /Users/rahimhashim/Desktop/Monkey-Emotions/video/gandalf_231023/gandalf_231023_85_e3v83d6.mp4\n",
      "Duration of video [s]:  14.76 , recorded with  120.0 fps!\n",
      "Overall # of frames:  1771  found with (before cropping) frame dimensions:  640 480\n",
      "Starting to extract posture\n"
     ]
    },
    {
     "name": "stderr",
     "output_type": "stream",
     "text": [
      "100%|██████████| 1771/1771 [01:56<00:00, 15.26it/s]\n"
     ]
    },
    {
     "name": "stdout",
     "output_type": "stream",
     "text": [
      "Saving results in /Users/rahimhashim/Desktop/Monkey-Emotions/video/gandalf_231023...\n",
      "Saving csv poses!\n",
      "Starting to analyze %  /Users/rahimhashim/Desktop/Monkey-Emotions/video/gandalf_231023/gandalf_231023_86_e3v83d6.mp4\n",
      "Loading  /Users/rahimhashim/Desktop/Monkey-Emotions/video/gandalf_231023/gandalf_231023_86_e3v83d6.mp4\n",
      "Duration of video [s]:  12.56 , recorded with  120.0 fps!\n",
      "Overall # of frames:  1507  found with (before cropping) frame dimensions:  640 480\n",
      "Starting to extract posture\n"
     ]
    },
    {
     "name": "stderr",
     "output_type": "stream",
     "text": [
      "100%|██████████| 1507/1507 [01:45<00:00, 14.23it/s]\n"
     ]
    },
    {
     "name": "stdout",
     "output_type": "stream",
     "text": [
      "Saving results in /Users/rahimhashim/Desktop/Monkey-Emotions/video/gandalf_231023...\n",
      "Saving csv poses!\n",
      "Starting to analyze %  /Users/rahimhashim/Desktop/Monkey-Emotions/video/gandalf_231023/gandalf_231023_87_e3v83d6.mp4\n",
      "Loading  /Users/rahimhashim/Desktop/Monkey-Emotions/video/gandalf_231023/gandalf_231023_87_e3v83d6.mp4\n",
      "Duration of video [s]:  12.03 , recorded with  120.0 fps!\n",
      "Overall # of frames:  1444  found with (before cropping) frame dimensions:  640 480\n",
      "Starting to extract posture\n"
     ]
    },
    {
     "name": "stderr",
     "output_type": "stream",
     "text": [
      "100%|██████████| 1444/1444 [01:43<00:00, 13.96it/s]\n"
     ]
    },
    {
     "name": "stdout",
     "output_type": "stream",
     "text": [
      "Saving results in /Users/rahimhashim/Desktop/Monkey-Emotions/video/gandalf_231023...\n",
      "Saving csv poses!\n",
      "Starting to analyze %  /Users/rahimhashim/Desktop/Monkey-Emotions/video/gandalf_231023/gandalf_231023_88_e3v83d6.mp4\n",
      "Loading  /Users/rahimhashim/Desktop/Monkey-Emotions/video/gandalf_231023/gandalf_231023_88_e3v83d6.mp4\n",
      "Duration of video [s]:  14.31 , recorded with  120.0 fps!\n",
      "Overall # of frames:  1717  found with (before cropping) frame dimensions:  640 480\n",
      "Starting to extract posture\n"
     ]
    },
    {
     "name": "stderr",
     "output_type": "stream",
     "text": [
      "100%|██████████| 1717/1717 [01:59<00:00, 14.35it/s]\n"
     ]
    },
    {
     "name": "stdout",
     "output_type": "stream",
     "text": [
      "Saving results in /Users/rahimhashim/Desktop/Monkey-Emotions/video/gandalf_231023...\n",
      "Saving csv poses!\n",
      "Starting to analyze %  /Users/rahimhashim/Desktop/Monkey-Emotions/video/gandalf_231023/gandalf_231023_89_e3v83d6.mp4\n",
      "Loading  /Users/rahimhashim/Desktop/Monkey-Emotions/video/gandalf_231023/gandalf_231023_89_e3v83d6.mp4\n",
      "Duration of video [s]:  16.3 , recorded with  120.0 fps!\n",
      "Overall # of frames:  1956  found with (before cropping) frame dimensions:  640 480\n",
      "Starting to extract posture\n"
     ]
    },
    {
     "name": "stderr",
     "output_type": "stream",
     "text": [
      "100%|██████████| 1956/1956 [02:07<00:00, 15.30it/s]\n"
     ]
    },
    {
     "name": "stdout",
     "output_type": "stream",
     "text": [
      "Saving results in /Users/rahimhashim/Desktop/Monkey-Emotions/video/gandalf_231023...\n",
      "Saving csv poses!\n",
      "Starting to analyze %  /Users/rahimhashim/Desktop/Monkey-Emotions/video/gandalf_231023/gandalf_231023_90_e3v83d6.mp4\n",
      "Loading  /Users/rahimhashim/Desktop/Monkey-Emotions/video/gandalf_231023/gandalf_231023_90_e3v83d6.mp4\n",
      "Duration of video [s]:  17.96 , recorded with  120.0 fps!\n",
      "Overall # of frames:  2155  found with (before cropping) frame dimensions:  640 480\n",
      "Starting to extract posture\n"
     ]
    },
    {
     "name": "stderr",
     "output_type": "stream",
     "text": [
      "100%|██████████| 2155/2155 [02:17<00:00, 15.68it/s]\n"
     ]
    },
    {
     "name": "stdout",
     "output_type": "stream",
     "text": [
      "Saving results in /Users/rahimhashim/Desktop/Monkey-Emotions/video/gandalf_231023...\n",
      "Saving csv poses!\n",
      "Starting to analyze %  /Users/rahimhashim/Desktop/Monkey-Emotions/video/gandalf_231023/gandalf_231023_91_e3v83d6.mp4\n",
      "Loading  /Users/rahimhashim/Desktop/Monkey-Emotions/video/gandalf_231023/gandalf_231023_91_e3v83d6.mp4\n",
      "Duration of video [s]:  13.26 , recorded with  120.0 fps!\n",
      "Overall # of frames:  1591  found with (before cropping) frame dimensions:  640 480\n",
      "Starting to extract posture\n"
     ]
    },
    {
     "name": "stderr",
     "output_type": "stream",
     "text": [
      "100%|██████████| 1591/1591 [01:55<00:00, 13.82it/s]\n"
     ]
    },
    {
     "name": "stdout",
     "output_type": "stream",
     "text": [
      "Saving results in /Users/rahimhashim/Desktop/Monkey-Emotions/video/gandalf_231023...\n",
      "Saving csv poses!\n",
      "Starting to analyze %  /Users/rahimhashim/Desktop/Monkey-Emotions/video/gandalf_231023/gandalf_231023_92_e3v83d6.mp4\n",
      "Loading  /Users/rahimhashim/Desktop/Monkey-Emotions/video/gandalf_231023/gandalf_231023_92_e3v83d6.mp4\n",
      "Duration of video [s]:  15.57 , recorded with  120.0 fps!\n",
      "Overall # of frames:  1868  found with (before cropping) frame dimensions:  640 480\n",
      "Starting to extract posture\n"
     ]
    },
    {
     "name": "stderr",
     "output_type": "stream",
     "text": [
      "100%|██████████| 1868/1868 [02:10<00:00, 14.31it/s]\n"
     ]
    },
    {
     "name": "stdout",
     "output_type": "stream",
     "text": [
      "Saving results in /Users/rahimhashim/Desktop/Monkey-Emotions/video/gandalf_231023...\n",
      "Saving csv poses!\n",
      "Starting to analyze %  /Users/rahimhashim/Desktop/Monkey-Emotions/video/gandalf_231023/gandalf_231023_93_e3v83d6.mp4\n",
      "Loading  /Users/rahimhashim/Desktop/Monkey-Emotions/video/gandalf_231023/gandalf_231023_93_e3v83d6.mp4\n",
      "Duration of video [s]:  12.4 , recorded with  120.0 fps!\n",
      "Overall # of frames:  1488  found with (before cropping) frame dimensions:  640 480\n",
      "Starting to extract posture\n"
     ]
    },
    {
     "name": "stderr",
     "output_type": "stream",
     "text": [
      "100%|██████████| 1488/1488 [01:49<00:00, 13.54it/s]\n"
     ]
    },
    {
     "name": "stdout",
     "output_type": "stream",
     "text": [
      "Saving results in /Users/rahimhashim/Desktop/Monkey-Emotions/video/gandalf_231023...\n",
      "Saving csv poses!\n",
      "Starting to analyze %  /Users/rahimhashim/Desktop/Monkey-Emotions/video/gandalf_231023/gandalf_231023_94_e3v83d6.mp4\n",
      "Loading  /Users/rahimhashim/Desktop/Monkey-Emotions/video/gandalf_231023/gandalf_231023_94_e3v83d6.mp4\n",
      "Duration of video [s]:  15.16 , recorded with  120.0 fps!\n",
      "Overall # of frames:  1819  found with (before cropping) frame dimensions:  640 480\n",
      "Starting to extract posture\n"
     ]
    },
    {
     "name": "stderr",
     "output_type": "stream",
     "text": [
      "100%|██████████| 1819/1819 [02:07<00:00, 14.25it/s]\n"
     ]
    },
    {
     "name": "stdout",
     "output_type": "stream",
     "text": [
      "Saving results in /Users/rahimhashim/Desktop/Monkey-Emotions/video/gandalf_231023...\n",
      "Saving csv poses!\n",
      "Starting to analyze %  /Users/rahimhashim/Desktop/Monkey-Emotions/video/gandalf_231023/gandalf_231023_95_e3v83d6.mp4\n",
      "Loading  /Users/rahimhashim/Desktop/Monkey-Emotions/video/gandalf_231023/gandalf_231023_95_e3v83d6.mp4\n",
      "Duration of video [s]:  15.59 , recorded with  120.0 fps!\n",
      "Overall # of frames:  1871  found with (before cropping) frame dimensions:  640 480\n",
      "Starting to extract posture\n"
     ]
    },
    {
     "name": "stderr",
     "output_type": "stream",
     "text": [
      "100%|██████████| 1871/1871 [02:10<00:00, 14.33it/s]\n"
     ]
    },
    {
     "name": "stdout",
     "output_type": "stream",
     "text": [
      "Saving results in /Users/rahimhashim/Desktop/Monkey-Emotions/video/gandalf_231023...\n",
      "Saving csv poses!\n",
      "Starting to analyze %  /Users/rahimhashim/Desktop/Monkey-Emotions/video/gandalf_231023/gandalf_231023_96_e3v83d6.mp4\n",
      "Loading  /Users/rahimhashim/Desktop/Monkey-Emotions/video/gandalf_231023/gandalf_231023_96_e3v83d6.mp4\n",
      "Duration of video [s]:  9.57 , recorded with  120.0 fps!\n",
      "Overall # of frames:  1148  found with (before cropping) frame dimensions:  640 480\n",
      "Starting to extract posture\n"
     ]
    },
    {
     "name": "stderr",
     "output_type": "stream",
     "text": [
      "100%|██████████| 1148/1148 [01:32<00:00, 12.34it/s]\n"
     ]
    },
    {
     "name": "stdout",
     "output_type": "stream",
     "text": [
      "Saving results in /Users/rahimhashim/Desktop/Monkey-Emotions/video/gandalf_231023...\n",
      "Saving csv poses!\n",
      "Starting to analyze %  /Users/rahimhashim/Desktop/Monkey-Emotions/video/gandalf_231023/gandalf_231023_97_e3v83d6.mp4\n",
      "Loading  /Users/rahimhashim/Desktop/Monkey-Emotions/video/gandalf_231023/gandalf_231023_97_e3v83d6.mp4\n",
      "Duration of video [s]:  11.25 , recorded with  120.0 fps!\n",
      "Overall # of frames:  1350  found with (before cropping) frame dimensions:  640 480\n",
      "Starting to extract posture\n"
     ]
    },
    {
     "name": "stderr",
     "output_type": "stream",
     "text": [
      "100%|██████████| 1350/1350 [01:49<00:00, 12.31it/s]\n"
     ]
    },
    {
     "name": "stdout",
     "output_type": "stream",
     "text": [
      "Saving results in /Users/rahimhashim/Desktop/Monkey-Emotions/video/gandalf_231023...\n",
      "Saving csv poses!\n",
      "Starting to analyze %  /Users/rahimhashim/Desktop/Monkey-Emotions/video/gandalf_231023/gandalf_231023_98_e3v83d6.mp4\n",
      "Loading  /Users/rahimhashim/Desktop/Monkey-Emotions/video/gandalf_231023/gandalf_231023_98_e3v83d6.mp4\n",
      "Duration of video [s]:  17.82 , recorded with  120.0 fps!\n",
      "Overall # of frames:  2139  found with (before cropping) frame dimensions:  640 480\n",
      "Starting to extract posture\n"
     ]
    },
    {
     "name": "stderr",
     "output_type": "stream",
     "text": [
      "100%|██████████| 2139/2139 [02:23<00:00, 14.89it/s]\n"
     ]
    },
    {
     "name": "stdout",
     "output_type": "stream",
     "text": [
      "Saving results in /Users/rahimhashim/Desktop/Monkey-Emotions/video/gandalf_231023...\n",
      "Saving csv poses!\n",
      "Starting to analyze %  /Users/rahimhashim/Desktop/Monkey-Emotions/video/gandalf_231023/gandalf_231023_99_e3v83d6.mp4\n",
      "Loading  /Users/rahimhashim/Desktop/Monkey-Emotions/video/gandalf_231023/gandalf_231023_99_e3v83d6.mp4\n",
      "Duration of video [s]:  14.07 , recorded with  120.0 fps!\n",
      "Overall # of frames:  1688  found with (before cropping) frame dimensions:  640 480\n",
      "Starting to extract posture\n"
     ]
    },
    {
     "name": "stderr",
     "output_type": "stream",
     "text": [
      "100%|██████████| 1688/1688 [02:01<00:00, 13.93it/s]\n"
     ]
    },
    {
     "name": "stdout",
     "output_type": "stream",
     "text": [
      "Saving results in /Users/rahimhashim/Desktop/Monkey-Emotions/video/gandalf_231023...\n",
      "Saving csv poses!\n",
      "Starting to analyze %  /Users/rahimhashim/Desktop/Monkey-Emotions/video/gandalf_231023/gandalf_231023_100_e3v83d6.mp4\n",
      "Loading  /Users/rahimhashim/Desktop/Monkey-Emotions/video/gandalf_231023/gandalf_231023_100_e3v83d6.mp4\n",
      "Duration of video [s]:  14.22 , recorded with  120.0 fps!\n",
      "Overall # of frames:  1707  found with (before cropping) frame dimensions:  640 480\n",
      "Starting to extract posture\n"
     ]
    },
    {
     "name": "stderr",
     "output_type": "stream",
     "text": [
      "100%|██████████| 1707/1707 [02:04<00:00, 13.74it/s]\n"
     ]
    },
    {
     "name": "stdout",
     "output_type": "stream",
     "text": [
      "Saving results in /Users/rahimhashim/Desktop/Monkey-Emotions/video/gandalf_231023...\n",
      "Saving csv poses!\n",
      "Starting to analyze %  /Users/rahimhashim/Desktop/Monkey-Emotions/video/gandalf_231023/gandalf_231023_101_e3v83d6.mp4\n",
      "Loading  /Users/rahimhashim/Desktop/Monkey-Emotions/video/gandalf_231023/gandalf_231023_101_e3v83d6.mp4\n",
      "Duration of video [s]:  10.45 , recorded with  120.0 fps!\n",
      "Overall # of frames:  1254  found with (before cropping) frame dimensions:  640 480\n",
      "Starting to extract posture\n"
     ]
    },
    {
     "name": "stderr",
     "output_type": "stream",
     "text": [
      "100%|██████████| 1254/1254 [01:38<00:00, 12.77it/s]\n"
     ]
    },
    {
     "name": "stdout",
     "output_type": "stream",
     "text": [
      "Saving results in /Users/rahimhashim/Desktop/Monkey-Emotions/video/gandalf_231023...\n",
      "Saving csv poses!\n",
      "Starting to analyze %  /Users/rahimhashim/Desktop/Monkey-Emotions/video/gandalf_231023/gandalf_231023_102_e3v83d6.mp4\n",
      "Loading  /Users/rahimhashim/Desktop/Monkey-Emotions/video/gandalf_231023/gandalf_231023_102_e3v83d6.mp4\n",
      "Duration of video [s]:  11.87 , recorded with  120.0 fps!\n",
      "Overall # of frames:  1424  found with (before cropping) frame dimensions:  640 480\n",
      "Starting to extract posture\n"
     ]
    },
    {
     "name": "stderr",
     "output_type": "stream",
     "text": [
      "100%|██████████| 1424/1424 [01:50<00:00, 12.94it/s]\n"
     ]
    },
    {
     "name": "stdout",
     "output_type": "stream",
     "text": [
      "Saving results in /Users/rahimhashim/Desktop/Monkey-Emotions/video/gandalf_231023...\n",
      "Saving csv poses!\n",
      "Starting to analyze %  /Users/rahimhashim/Desktop/Monkey-Emotions/video/gandalf_231023/gandalf_231023_103_e3v83d6.mp4\n",
      "Loading  /Users/rahimhashim/Desktop/Monkey-Emotions/video/gandalf_231023/gandalf_231023_103_e3v83d6.mp4\n",
      "Duration of video [s]:  15.23 , recorded with  120.0 fps!\n",
      "Overall # of frames:  1828  found with (before cropping) frame dimensions:  640 480\n",
      "Starting to extract posture\n"
     ]
    },
    {
     "name": "stderr",
     "output_type": "stream",
     "text": [
      "100%|██████████| 1828/1828 [02:15<00:00, 13.47it/s]\n"
     ]
    },
    {
     "name": "stdout",
     "output_type": "stream",
     "text": [
      "Saving results in /Users/rahimhashim/Desktop/Monkey-Emotions/video/gandalf_231023...\n",
      "Saving csv poses!\n",
      "Starting to analyze %  /Users/rahimhashim/Desktop/Monkey-Emotions/video/gandalf_231023/gandalf_231023_104_e3v83d6.mp4\n",
      "Loading  /Users/rahimhashim/Desktop/Monkey-Emotions/video/gandalf_231023/gandalf_231023_104_e3v83d6.mp4\n",
      "Duration of video [s]:  15.22 , recorded with  120.0 fps!\n",
      "Overall # of frames:  1827  found with (before cropping) frame dimensions:  640 480\n",
      "Starting to extract posture\n"
     ]
    },
    {
     "name": "stderr",
     "output_type": "stream",
     "text": [
      "100%|██████████| 1827/1827 [02:11<00:00, 13.91it/s]\n"
     ]
    },
    {
     "name": "stdout",
     "output_type": "stream",
     "text": [
      "Saving results in /Users/rahimhashim/Desktop/Monkey-Emotions/video/gandalf_231023...\n",
      "Saving csv poses!\n",
      "Starting to analyze %  /Users/rahimhashim/Desktop/Monkey-Emotions/video/gandalf_231023/gandalf_231023_105_e3v83d6.mp4\n",
      "Loading  /Users/rahimhashim/Desktop/Monkey-Emotions/video/gandalf_231023/gandalf_231023_105_e3v83d6.mp4\n",
      "Duration of video [s]:  14.38 , recorded with  120.0 fps!\n",
      "Overall # of frames:  1725  found with (before cropping) frame dimensions:  640 480\n",
      "Starting to extract posture\n"
     ]
    },
    {
     "name": "stderr",
     "output_type": "stream",
     "text": [
      "100%|██████████| 1725/1725 [02:09<00:00, 13.34it/s]\n"
     ]
    },
    {
     "name": "stdout",
     "output_type": "stream",
     "text": [
      "Saving results in /Users/rahimhashim/Desktop/Monkey-Emotions/video/gandalf_231023...\n",
      "Saving csv poses!\n",
      "Starting to analyze %  /Users/rahimhashim/Desktop/Monkey-Emotions/video/gandalf_231023/gandalf_231023_106_e3v83d6.mp4\n",
      "Loading  /Users/rahimhashim/Desktop/Monkey-Emotions/video/gandalf_231023/gandalf_231023_106_e3v83d6.mp4\n",
      "Duration of video [s]:  10.78 , recorded with  120.0 fps!\n",
      "Overall # of frames:  1294  found with (before cropping) frame dimensions:  640 480\n",
      "Starting to extract posture\n"
     ]
    },
    {
     "name": "stderr",
     "output_type": "stream",
     "text": [
      "100%|██████████| 1294/1294 [01:46<00:00, 12.18it/s]\n"
     ]
    },
    {
     "name": "stdout",
     "output_type": "stream",
     "text": [
      "Saving results in /Users/rahimhashim/Desktop/Monkey-Emotions/video/gandalf_231023...\n",
      "Saving csv poses!\n",
      "Starting to analyze %  /Users/rahimhashim/Desktop/Monkey-Emotions/video/gandalf_231023/gandalf_231023_107_e3v83d6.mp4\n",
      "Loading  /Users/rahimhashim/Desktop/Monkey-Emotions/video/gandalf_231023/gandalf_231023_107_e3v83d6.mp4\n",
      "Duration of video [s]:  14.85 , recorded with  120.0 fps!\n",
      "Overall # of frames:  1782  found with (before cropping) frame dimensions:  640 480\n",
      "Starting to extract posture\n"
     ]
    },
    {
     "name": "stderr",
     "output_type": "stream",
     "text": [
      "100%|██████████| 1782/1782 [02:11<00:00, 13.52it/s]\n"
     ]
    },
    {
     "name": "stdout",
     "output_type": "stream",
     "text": [
      "Saving results in /Users/rahimhashim/Desktop/Monkey-Emotions/video/gandalf_231023...\n",
      "Saving csv poses!\n",
      "Starting to analyze %  /Users/rahimhashim/Desktop/Monkey-Emotions/video/gandalf_231023/gandalf_231023_108_e3v83d6.mp4\n",
      "Loading  /Users/rahimhashim/Desktop/Monkey-Emotions/video/gandalf_231023/gandalf_231023_108_e3v83d6.mp4\n",
      "Duration of video [s]:  13.43 , recorded with  120.0 fps!\n",
      "Overall # of frames:  1612  found with (before cropping) frame dimensions:  640 480\n",
      "Starting to extract posture\n"
     ]
    },
    {
     "name": "stderr",
     "output_type": "stream",
     "text": [
      "100%|██████████| 1612/1612 [01:56<00:00, 13.87it/s]\n"
     ]
    },
    {
     "name": "stdout",
     "output_type": "stream",
     "text": [
      "Saving results in /Users/rahimhashim/Desktop/Monkey-Emotions/video/gandalf_231023...\n",
      "Saving csv poses!\n",
      "Starting to analyze %  /Users/rahimhashim/Desktop/Monkey-Emotions/video/gandalf_231023/gandalf_231023_109_e3v83d6.mp4\n",
      "Loading  /Users/rahimhashim/Desktop/Monkey-Emotions/video/gandalf_231023/gandalf_231023_109_e3v83d6.mp4\n",
      "Duration of video [s]:  16.45 , recorded with  120.0 fps!\n",
      "Overall # of frames:  1974  found with (before cropping) frame dimensions:  640 480\n",
      "Starting to extract posture\n"
     ]
    },
    {
     "name": "stderr",
     "output_type": "stream",
     "text": [
      "100%|██████████| 1974/1974 [02:18<00:00, 14.24it/s]\n"
     ]
    },
    {
     "name": "stdout",
     "output_type": "stream",
     "text": [
      "Saving results in /Users/rahimhashim/Desktop/Monkey-Emotions/video/gandalf_231023...\n",
      "Saving csv poses!\n",
      "Starting to analyze %  /Users/rahimhashim/Desktop/Monkey-Emotions/video/gandalf_231023/gandalf_231023_110_e3v83d6.mp4\n",
      "Loading  /Users/rahimhashim/Desktop/Monkey-Emotions/video/gandalf_231023/gandalf_231023_110_e3v83d6.mp4\n",
      "Duration of video [s]:  11.51 , recorded with  120.0 fps!\n",
      "Overall # of frames:  1381  found with (before cropping) frame dimensions:  640 480\n",
      "Starting to extract posture\n"
     ]
    },
    {
     "name": "stderr",
     "output_type": "stream",
     "text": [
      "100%|██████████| 1381/1381 [01:52<00:00, 12.31it/s]\n"
     ]
    },
    {
     "name": "stdout",
     "output_type": "stream",
     "text": [
      "Saving results in /Users/rahimhashim/Desktop/Monkey-Emotions/video/gandalf_231023...\n",
      "Saving csv poses!\n",
      "Starting to analyze %  /Users/rahimhashim/Desktop/Monkey-Emotions/video/gandalf_231023/gandalf_231023_111_e3v83d6.mp4\n",
      "Loading  /Users/rahimhashim/Desktop/Monkey-Emotions/video/gandalf_231023/gandalf_231023_111_e3v83d6.mp4\n",
      "Duration of video [s]:  15.42 , recorded with  120.0 fps!\n",
      "Overall # of frames:  1850  found with (before cropping) frame dimensions:  640 480\n",
      "Starting to extract posture\n"
     ]
    },
    {
     "name": "stderr",
     "output_type": "stream",
     "text": [
      "100%|██████████| 1850/1850 [02:16<00:00, 13.56it/s]\n"
     ]
    },
    {
     "name": "stdout",
     "output_type": "stream",
     "text": [
      "Saving results in /Users/rahimhashim/Desktop/Monkey-Emotions/video/gandalf_231023...\n",
      "Saving csv poses!\n",
      "Starting to analyze %  /Users/rahimhashim/Desktop/Monkey-Emotions/video/gandalf_231023/gandalf_231023_112_e3v83d6.mp4\n",
      "Loading  /Users/rahimhashim/Desktop/Monkey-Emotions/video/gandalf_231023/gandalf_231023_112_e3v83d6.mp4\n",
      "Duration of video [s]:  12.25 , recorded with  120.0 fps!\n",
      "Overall # of frames:  1470  found with (before cropping) frame dimensions:  640 480\n",
      "Starting to extract posture\n"
     ]
    },
    {
     "name": "stderr",
     "output_type": "stream",
     "text": [
      "100%|██████████| 1470/1470 [01:57<00:00, 12.46it/s]\n"
     ]
    },
    {
     "name": "stdout",
     "output_type": "stream",
     "text": [
      "Saving results in /Users/rahimhashim/Desktop/Monkey-Emotions/video/gandalf_231023...\n",
      "Saving csv poses!\n",
      "Starting to analyze %  /Users/rahimhashim/Desktop/Monkey-Emotions/video/gandalf_231023/gandalf_231023_113_e3v83d6.mp4\n",
      "Loading  /Users/rahimhashim/Desktop/Monkey-Emotions/video/gandalf_231023/gandalf_231023_113_e3v83d6.mp4\n",
      "Duration of video [s]:  11.57 , recorded with  120.0 fps!\n",
      "Overall # of frames:  1388  found with (before cropping) frame dimensions:  640 480\n",
      "Starting to extract posture\n"
     ]
    },
    {
     "name": "stderr",
     "output_type": "stream",
     "text": [
      "100%|██████████| 1388/1388 [01:49<00:00, 12.67it/s]\n"
     ]
    },
    {
     "name": "stdout",
     "output_type": "stream",
     "text": [
      "Saving results in /Users/rahimhashim/Desktop/Monkey-Emotions/video/gandalf_231023...\n",
      "Saving csv poses!\n",
      "Starting to analyze %  /Users/rahimhashim/Desktop/Monkey-Emotions/video/gandalf_231023/gandalf_231023_114_e3v83d6.mp4\n",
      "Loading  /Users/rahimhashim/Desktop/Monkey-Emotions/video/gandalf_231023/gandalf_231023_114_e3v83d6.mp4\n",
      "Duration of video [s]:  10.02 , recorded with  120.0 fps!\n",
      "Overall # of frames:  1202  found with (before cropping) frame dimensions:  640 480\n",
      "Starting to extract posture\n"
     ]
    },
    {
     "name": "stderr",
     "output_type": "stream",
     "text": [
      "100%|██████████| 1202/1202 [01:39<00:00, 12.06it/s]\n"
     ]
    },
    {
     "name": "stdout",
     "output_type": "stream",
     "text": [
      "Saving results in /Users/rahimhashim/Desktop/Monkey-Emotions/video/gandalf_231023...\n",
      "Saving csv poses!\n",
      "Starting to analyze %  /Users/rahimhashim/Desktop/Monkey-Emotions/video/gandalf_231023/gandalf_231023_115_e3v83d6.mp4\n",
      "Loading  /Users/rahimhashim/Desktop/Monkey-Emotions/video/gandalf_231023/gandalf_231023_115_e3v83d6.mp4\n",
      "Duration of video [s]:  14.7 , recorded with  120.0 fps!\n",
      "Overall # of frames:  1764  found with (before cropping) frame dimensions:  640 480\n",
      "Starting to extract posture\n"
     ]
    },
    {
     "name": "stderr",
     "output_type": "stream",
     "text": [
      "100%|██████████| 1764/1764 [02:11<00:00, 13.41it/s]\n"
     ]
    },
    {
     "name": "stdout",
     "output_type": "stream",
     "text": [
      "Saving results in /Users/rahimhashim/Desktop/Monkey-Emotions/video/gandalf_231023...\n",
      "Saving csv poses!\n",
      "Starting to analyze %  /Users/rahimhashim/Desktop/Monkey-Emotions/video/gandalf_231023/gandalf_231023_116_e3v83d6.mp4\n",
      "Loading  /Users/rahimhashim/Desktop/Monkey-Emotions/video/gandalf_231023/gandalf_231023_116_e3v83d6.mp4\n",
      "Duration of video [s]:  15.12 , recorded with  120.0 fps!\n",
      "Overall # of frames:  1815  found with (before cropping) frame dimensions:  640 480\n",
      "Starting to extract posture\n"
     ]
    },
    {
     "name": "stderr",
     "output_type": "stream",
     "text": [
      "100%|██████████| 1815/1815 [02:13<00:00, 13.63it/s]\n"
     ]
    },
    {
     "name": "stdout",
     "output_type": "stream",
     "text": [
      "Saving results in /Users/rahimhashim/Desktop/Monkey-Emotions/video/gandalf_231023...\n",
      "Saving csv poses!\n",
      "Starting to analyze %  /Users/rahimhashim/Desktop/Monkey-Emotions/video/gandalf_231023/gandalf_231023_117_e3v83d6.mp4\n",
      "Loading  /Users/rahimhashim/Desktop/Monkey-Emotions/video/gandalf_231023/gandalf_231023_117_e3v83d6.mp4\n",
      "Duration of video [s]:  16.56 , recorded with  120.0 fps!\n",
      "Overall # of frames:  1987  found with (before cropping) frame dimensions:  640 480\n",
      "Starting to extract posture\n"
     ]
    },
    {
     "name": "stderr",
     "output_type": "stream",
     "text": [
      "100%|██████████| 1987/1987 [02:23<00:00, 13.84it/s]\n"
     ]
    },
    {
     "name": "stdout",
     "output_type": "stream",
     "text": [
      "Saving results in /Users/rahimhashim/Desktop/Monkey-Emotions/video/gandalf_231023...\n",
      "Saving csv poses!\n",
      "Starting to analyze %  /Users/rahimhashim/Desktop/Monkey-Emotions/video/gandalf_231023/gandalf_231023_118_e3v83d6.mp4\n",
      "Loading  /Users/rahimhashim/Desktop/Monkey-Emotions/video/gandalf_231023/gandalf_231023_118_e3v83d6.mp4\n",
      "Duration of video [s]:  14.41 , recorded with  120.0 fps!\n",
      "Overall # of frames:  1729  found with (before cropping) frame dimensions:  640 480\n",
      "Starting to extract posture\n"
     ]
    },
    {
     "name": "stderr",
     "output_type": "stream",
     "text": [
      "100%|██████████| 1729/1729 [02:08<00:00, 13.45it/s]\n"
     ]
    },
    {
     "name": "stdout",
     "output_type": "stream",
     "text": [
      "Saving results in /Users/rahimhashim/Desktop/Monkey-Emotions/video/gandalf_231023...\n",
      "Saving csv poses!\n",
      "Starting to analyze %  /Users/rahimhashim/Desktop/Monkey-Emotions/video/gandalf_231023/gandalf_231023_119_e3v83d6.mp4\n",
      "Loading  /Users/rahimhashim/Desktop/Monkey-Emotions/video/gandalf_231023/gandalf_231023_119_e3v83d6.mp4\n",
      "Duration of video [s]:  11.98 , recorded with  120.0 fps!\n",
      "Overall # of frames:  1438  found with (before cropping) frame dimensions:  640 480\n",
      "Starting to extract posture\n"
     ]
    },
    {
     "name": "stderr",
     "output_type": "stream",
     "text": [
      "100%|██████████| 1438/1438 [01:55<00:00, 12.41it/s]\n"
     ]
    },
    {
     "name": "stdout",
     "output_type": "stream",
     "text": [
      "Saving results in /Users/rahimhashim/Desktop/Monkey-Emotions/video/gandalf_231023...\n",
      "Saving csv poses!\n",
      "Starting to analyze %  /Users/rahimhashim/Desktop/Monkey-Emotions/video/gandalf_231023/gandalf_231023_120_e3v83d6.mp4\n",
      "Loading  /Users/rahimhashim/Desktop/Monkey-Emotions/video/gandalf_231023/gandalf_231023_120_e3v83d6.mp4\n",
      "Duration of video [s]:  16.18 , recorded with  120.0 fps!\n",
      "Overall # of frames:  1941  found with (before cropping) frame dimensions:  640 480\n",
      "Starting to extract posture\n"
     ]
    },
    {
     "name": "stderr",
     "output_type": "stream",
     "text": [
      "100%|██████████| 1941/1941 [02:20<00:00, 13.80it/s]\n"
     ]
    },
    {
     "name": "stdout",
     "output_type": "stream",
     "text": [
      "Saving results in /Users/rahimhashim/Desktop/Monkey-Emotions/video/gandalf_231023...\n",
      "Saving csv poses!\n",
      "Starting to analyze %  /Users/rahimhashim/Desktop/Monkey-Emotions/video/gandalf_231023/gandalf_231023_121_e3v83d6.mp4\n",
      "Loading  /Users/rahimhashim/Desktop/Monkey-Emotions/video/gandalf_231023/gandalf_231023_121_e3v83d6.mp4\n",
      "Duration of video [s]:  13.89 , recorded with  120.0 fps!\n",
      "Overall # of frames:  1667  found with (before cropping) frame dimensions:  640 480\n",
      "Starting to extract posture\n"
     ]
    },
    {
     "name": "stderr",
     "output_type": "stream",
     "text": [
      "100%|██████████| 1667/1667 [02:05<00:00, 13.24it/s]\n"
     ]
    },
    {
     "name": "stdout",
     "output_type": "stream",
     "text": [
      "Saving results in /Users/rahimhashim/Desktop/Monkey-Emotions/video/gandalf_231023...\n",
      "Saving csv poses!\n",
      "Starting to analyze %  /Users/rahimhashim/Desktop/Monkey-Emotions/video/gandalf_231023/gandalf_231023_122_e3v83d6.mp4\n",
      "Loading  /Users/rahimhashim/Desktop/Monkey-Emotions/video/gandalf_231023/gandalf_231023_122_e3v83d6.mp4\n",
      "Duration of video [s]:  10.47 , recorded with  120.0 fps!\n",
      "Overall # of frames:  1256  found with (before cropping) frame dimensions:  640 480\n",
      "Starting to extract posture\n"
     ]
    },
    {
     "name": "stderr",
     "output_type": "stream",
     "text": [
      "100%|██████████| 1256/1256 [01:43<00:00, 12.18it/s]\n"
     ]
    },
    {
     "name": "stdout",
     "output_type": "stream",
     "text": [
      "Saving results in /Users/rahimhashim/Desktop/Monkey-Emotions/video/gandalf_231023...\n",
      "Saving csv poses!\n",
      "Starting to analyze %  /Users/rahimhashim/Desktop/Monkey-Emotions/video/gandalf_231023/gandalf_231023_123_e3v83d6.mp4\n",
      "Loading  /Users/rahimhashim/Desktop/Monkey-Emotions/video/gandalf_231023/gandalf_231023_123_e3v83d6.mp4\n",
      "Duration of video [s]:  12.8 , recorded with  120.0 fps!\n",
      "Overall # of frames:  1536  found with (before cropping) frame dimensions:  640 480\n",
      "Starting to extract posture\n"
     ]
    },
    {
     "name": "stderr",
     "output_type": "stream",
     "text": [
      "100%|██████████| 1536/1536 [02:03<00:00, 12.42it/s]\n"
     ]
    },
    {
     "name": "stdout",
     "output_type": "stream",
     "text": [
      "Saving results in /Users/rahimhashim/Desktop/Monkey-Emotions/video/gandalf_231023...\n",
      "Saving csv poses!\n",
      "Starting to analyze %  /Users/rahimhashim/Desktop/Monkey-Emotions/video/gandalf_231023/gandalf_231023_124_e3v83d6.mp4\n",
      "Loading  /Users/rahimhashim/Desktop/Monkey-Emotions/video/gandalf_231023/gandalf_231023_124_e3v83d6.mp4\n",
      "Duration of video [s]:  15.04 , recorded with  120.0 fps!\n",
      "Overall # of frames:  1805  found with (before cropping) frame dimensions:  640 480\n",
      "Starting to extract posture\n"
     ]
    },
    {
     "name": "stderr",
     "output_type": "stream",
     "text": [
      "100%|██████████| 1805/1805 [02:13<00:00, 13.51it/s]\n"
     ]
    },
    {
     "name": "stdout",
     "output_type": "stream",
     "text": [
      "Saving results in /Users/rahimhashim/Desktop/Monkey-Emotions/video/gandalf_231023...\n",
      "Saving csv poses!\n",
      "Starting to analyze %  /Users/rahimhashim/Desktop/Monkey-Emotions/video/gandalf_231023/gandalf_231023_125_e3v83d6.mp4\n",
      "Loading  /Users/rahimhashim/Desktop/Monkey-Emotions/video/gandalf_231023/gandalf_231023_125_e3v83d6.mp4\n",
      "Duration of video [s]:  14.13 , recorded with  120.0 fps!\n",
      "Overall # of frames:  1696  found with (before cropping) frame dimensions:  640 480\n",
      "Starting to extract posture\n"
     ]
    },
    {
     "name": "stderr",
     "output_type": "stream",
     "text": [
      "100%|██████████| 1696/1696 [02:09<00:00, 13.08it/s]\n"
     ]
    },
    {
     "name": "stdout",
     "output_type": "stream",
     "text": [
      "Saving results in /Users/rahimhashim/Desktop/Monkey-Emotions/video/gandalf_231023...\n",
      "Saving csv poses!\n",
      "Starting to analyze %  /Users/rahimhashim/Desktop/Monkey-Emotions/video/gandalf_231023/gandalf_231023_126_e3v83d6.mp4\n",
      "Loading  /Users/rahimhashim/Desktop/Monkey-Emotions/video/gandalf_231023/gandalf_231023_126_e3v83d6.mp4\n",
      "Duration of video [s]:  14.29 , recorded with  120.0 fps!\n",
      "Overall # of frames:  1715  found with (before cropping) frame dimensions:  640 480\n",
      "Starting to extract posture\n"
     ]
    },
    {
     "name": "stderr",
     "output_type": "stream",
     "text": [
      "100%|██████████| 1715/1715 [02:05<00:00, 13.71it/s]\n"
     ]
    },
    {
     "name": "stdout",
     "output_type": "stream",
     "text": [
      "Saving results in /Users/rahimhashim/Desktop/Monkey-Emotions/video/gandalf_231023...\n",
      "Saving csv poses!\n",
      "Starting to analyze %  /Users/rahimhashim/Desktop/Monkey-Emotions/video/gandalf_231023/gandalf_231023_127_e3v83d6.mp4\n",
      "Loading  /Users/rahimhashim/Desktop/Monkey-Emotions/video/gandalf_231023/gandalf_231023_127_e3v83d6.mp4\n",
      "Duration of video [s]:  12.38 , recorded with  120.0 fps!\n",
      "Overall # of frames:  1485  found with (before cropping) frame dimensions:  640 480\n",
      "Starting to extract posture\n"
     ]
    },
    {
     "name": "stderr",
     "output_type": "stream",
     "text": [
      "100%|██████████| 1485/1485 [01:52<00:00, 13.19it/s]\n"
     ]
    },
    {
     "name": "stdout",
     "output_type": "stream",
     "text": [
      "Saving results in /Users/rahimhashim/Desktop/Monkey-Emotions/video/gandalf_231023...\n",
      "Saving csv poses!\n",
      "Starting to analyze %  /Users/rahimhashim/Desktop/Monkey-Emotions/video/gandalf_231023/gandalf_231023_128_e3v83d6.mp4\n",
      "Loading  /Users/rahimhashim/Desktop/Monkey-Emotions/video/gandalf_231023/gandalf_231023_128_e3v83d6.mp4\n",
      "Duration of video [s]:  13.53 , recorded with  120.0 fps!\n",
      "Overall # of frames:  1624  found with (before cropping) frame dimensions:  640 480\n",
      "Starting to extract posture\n"
     ]
    },
    {
     "name": "stderr",
     "output_type": "stream",
     "text": [
      "100%|██████████| 1624/1624 [02:00<00:00, 13.49it/s]\n"
     ]
    },
    {
     "name": "stdout",
     "output_type": "stream",
     "text": [
      "Saving results in /Users/rahimhashim/Desktop/Monkey-Emotions/video/gandalf_231023...\n",
      "Saving csv poses!\n",
      "Starting to analyze %  /Users/rahimhashim/Desktop/Monkey-Emotions/video/gandalf_231023/gandalf_231023_129_e3v83d6.mp4\n",
      "Loading  /Users/rahimhashim/Desktop/Monkey-Emotions/video/gandalf_231023/gandalf_231023_129_e3v83d6.mp4\n",
      "Duration of video [s]:  11.37 , recorded with  120.0 fps!\n",
      "Overall # of frames:  1364  found with (before cropping) frame dimensions:  640 480\n",
      "Starting to extract posture\n"
     ]
    },
    {
     "name": "stderr",
     "output_type": "stream",
     "text": [
      "100%|██████████| 1364/1364 [01:47<00:00, 12.72it/s]\n"
     ]
    },
    {
     "name": "stdout",
     "output_type": "stream",
     "text": [
      "Saving results in /Users/rahimhashim/Desktop/Monkey-Emotions/video/gandalf_231023...\n",
      "Saving csv poses!\n",
      "Starting to analyze %  /Users/rahimhashim/Desktop/Monkey-Emotions/video/gandalf_231023/gandalf_231023_130_e3v83d6.mp4\n",
      "Loading  /Users/rahimhashim/Desktop/Monkey-Emotions/video/gandalf_231023/gandalf_231023_130_e3v83d6.mp4\n",
      "Duration of video [s]:  13.72 , recorded with  120.0 fps!\n",
      "Overall # of frames:  1646  found with (before cropping) frame dimensions:  640 480\n",
      "Starting to extract posture\n"
     ]
    },
    {
     "name": "stderr",
     "output_type": "stream",
     "text": [
      "100%|██████████| 1646/1646 [02:05<00:00, 13.07it/s]\n"
     ]
    },
    {
     "name": "stdout",
     "output_type": "stream",
     "text": [
      "Saving results in /Users/rahimhashim/Desktop/Monkey-Emotions/video/gandalf_231023...\n",
      "Saving csv poses!\n",
      "Starting to analyze %  /Users/rahimhashim/Desktop/Monkey-Emotions/video/gandalf_231023/gandalf_231023_131_e3v83d6.mp4\n",
      "Loading  /Users/rahimhashim/Desktop/Monkey-Emotions/video/gandalf_231023/gandalf_231023_131_e3v83d6.mp4\n",
      "Duration of video [s]:  13.68 , recorded with  120.0 fps!\n",
      "Overall # of frames:  1642  found with (before cropping) frame dimensions:  640 480\n",
      "Starting to extract posture\n"
     ]
    },
    {
     "name": "stderr",
     "output_type": "stream",
     "text": [
      "100%|██████████| 1642/1642 [02:08<00:00, 12.73it/s]\n"
     ]
    },
    {
     "name": "stdout",
     "output_type": "stream",
     "text": [
      "Saving results in /Users/rahimhashim/Desktop/Monkey-Emotions/video/gandalf_231023...\n",
      "Saving csv poses!\n",
      "Starting to analyze %  /Users/rahimhashim/Desktop/Monkey-Emotions/video/gandalf_231023/gandalf_231023_132_e3v83d6.mp4\n",
      "Loading  /Users/rahimhashim/Desktop/Monkey-Emotions/video/gandalf_231023/gandalf_231023_132_e3v83d6.mp4\n",
      "Duration of video [s]:  12.23 , recorded with  120.0 fps!\n",
      "Overall # of frames:  1468  found with (before cropping) frame dimensions:  640 480\n",
      "Starting to extract posture\n"
     ]
    },
    {
     "name": "stderr",
     "output_type": "stream",
     "text": [
      "100%|██████████| 1468/1468 [02:06<00:00, 11.61it/s]\n"
     ]
    },
    {
     "name": "stdout",
     "output_type": "stream",
     "text": [
      "Saving results in /Users/rahimhashim/Desktop/Monkey-Emotions/video/gandalf_231023...\n",
      "Saving csv poses!\n",
      "Starting to analyze %  /Users/rahimhashim/Desktop/Monkey-Emotions/video/gandalf_231023/gandalf_231023_133_e3v83d6.mp4\n",
      "Loading  /Users/rahimhashim/Desktop/Monkey-Emotions/video/gandalf_231023/gandalf_231023_133_e3v83d6.mp4\n",
      "Duration of video [s]:  18.88 , recorded with  120.0 fps!\n",
      "Overall # of frames:  2265  found with (before cropping) frame dimensions:  640 480\n",
      "Starting to extract posture\n"
     ]
    },
    {
     "name": "stderr",
     "output_type": "stream",
     "text": [
      "100%|██████████| 2265/2265 [02:46<00:00, 13.61it/s]\n"
     ]
    },
    {
     "name": "stdout",
     "output_type": "stream",
     "text": [
      "Saving results in /Users/rahimhashim/Desktop/Monkey-Emotions/video/gandalf_231023...\n",
      "Saving csv poses!\n",
      "Starting to analyze %  /Users/rahimhashim/Desktop/Monkey-Emotions/video/gandalf_231023/gandalf_231023_134_e3v83d6.mp4\n",
      "Loading  /Users/rahimhashim/Desktop/Monkey-Emotions/video/gandalf_231023/gandalf_231023_134_e3v83d6.mp4\n",
      "Duration of video [s]:  12.73 , recorded with  120.0 fps!\n",
      "Overall # of frames:  1528  found with (before cropping) frame dimensions:  640 480\n",
      "Starting to extract posture\n"
     ]
    },
    {
     "name": "stderr",
     "output_type": "stream",
     "text": [
      "100%|██████████| 1528/1528 [02:12<00:00, 11.55it/s]\n"
     ]
    },
    {
     "name": "stdout",
     "output_type": "stream",
     "text": [
      "Saving results in /Users/rahimhashim/Desktop/Monkey-Emotions/video/gandalf_231023...\n",
      "Saving csv poses!\n",
      "Starting to analyze %  /Users/rahimhashim/Desktop/Monkey-Emotions/video/gandalf_231023/gandalf_231023_135_e3v83d6.mp4\n",
      "Loading  /Users/rahimhashim/Desktop/Monkey-Emotions/video/gandalf_231023/gandalf_231023_135_e3v83d6.mp4\n",
      "Duration of video [s]:  14.49 , recorded with  120.0 fps!\n",
      "Overall # of frames:  1739  found with (before cropping) frame dimensions:  640 480\n",
      "Starting to extract posture\n"
     ]
    },
    {
     "name": "stderr",
     "output_type": "stream",
     "text": [
      "100%|██████████| 1739/1739 [02:18<00:00, 12.52it/s]\n"
     ]
    },
    {
     "name": "stdout",
     "output_type": "stream",
     "text": [
      "Saving results in /Users/rahimhashim/Desktop/Monkey-Emotions/video/gandalf_231023...\n",
      "Saving csv poses!\n",
      "Starting to analyze %  /Users/rahimhashim/Desktop/Monkey-Emotions/video/gandalf_231023/gandalf_231023_136_e3v83d6.mp4\n",
      "Loading  /Users/rahimhashim/Desktop/Monkey-Emotions/video/gandalf_231023/gandalf_231023_136_e3v83d6.mp4\n",
      "Duration of video [s]:  16.2 , recorded with  120.0 fps!\n",
      "Overall # of frames:  1944  found with (before cropping) frame dimensions:  640 480\n",
      "Starting to extract posture\n"
     ]
    },
    {
     "name": "stderr",
     "output_type": "stream",
     "text": [
      "100%|██████████| 1944/1944 [02:26<00:00, 13.26it/s]\n"
     ]
    },
    {
     "name": "stdout",
     "output_type": "stream",
     "text": [
      "Saving results in /Users/rahimhashim/Desktop/Monkey-Emotions/video/gandalf_231023...\n",
      "Saving csv poses!\n",
      "Starting to analyze %  /Users/rahimhashim/Desktop/Monkey-Emotions/video/gandalf_231023/gandalf_231023_137_e3v83d6.mp4\n",
      "Loading  /Users/rahimhashim/Desktop/Monkey-Emotions/video/gandalf_231023/gandalf_231023_137_e3v83d6.mp4\n",
      "Duration of video [s]:  19.29 , recorded with  120.0 fps!\n",
      "Overall # of frames:  2315  found with (before cropping) frame dimensions:  640 480\n",
      "Starting to extract posture\n"
     ]
    },
    {
     "name": "stderr",
     "output_type": "stream",
     "text": [
      "100%|██████████| 2315/2315 [02:43<00:00, 14.13it/s]\n"
     ]
    },
    {
     "name": "stdout",
     "output_type": "stream",
     "text": [
      "Saving results in /Users/rahimhashim/Desktop/Monkey-Emotions/video/gandalf_231023...\n",
      "Saving csv poses!\n",
      "Starting to analyze %  /Users/rahimhashim/Desktop/Monkey-Emotions/video/gandalf_231023/gandalf_231023_138_e3v83d6.mp4\n",
      "Loading  /Users/rahimhashim/Desktop/Monkey-Emotions/video/gandalf_231023/gandalf_231023_138_e3v83d6.mp4\n",
      "Duration of video [s]:  13.0 , recorded with  120.0 fps!\n",
      "Overall # of frames:  1560  found with (before cropping) frame dimensions:  640 480\n",
      "Starting to extract posture\n"
     ]
    },
    {
     "name": "stderr",
     "output_type": "stream",
     "text": [
      "100%|██████████| 1560/1560 [02:07<00:00, 12.26it/s]\n"
     ]
    },
    {
     "name": "stdout",
     "output_type": "stream",
     "text": [
      "Saving results in /Users/rahimhashim/Desktop/Monkey-Emotions/video/gandalf_231023...\n",
      "Saving csv poses!\n",
      "Starting to analyze %  /Users/rahimhashim/Desktop/Monkey-Emotions/video/gandalf_231023/gandalf_231023_139_e3v83d6.mp4\n",
      "Loading  /Users/rahimhashim/Desktop/Monkey-Emotions/video/gandalf_231023/gandalf_231023_139_e3v83d6.mp4\n",
      "Duration of video [s]:  13.59 , recorded with  120.0 fps!\n",
      "Overall # of frames:  1631  found with (before cropping) frame dimensions:  640 480\n",
      "Starting to extract posture\n"
     ]
    },
    {
     "name": "stderr",
     "output_type": "stream",
     "text": [
      "100%|██████████| 1631/1631 [01:59<00:00, 13.68it/s]\n"
     ]
    },
    {
     "name": "stdout",
     "output_type": "stream",
     "text": [
      "Saving results in /Users/rahimhashim/Desktop/Monkey-Emotions/video/gandalf_231023...\n",
      "Saving csv poses!\n",
      "Starting to analyze %  /Users/rahimhashim/Desktop/Monkey-Emotions/video/gandalf_231023/gandalf_231023_140_e3v83d6.mp4\n",
      "Loading  /Users/rahimhashim/Desktop/Monkey-Emotions/video/gandalf_231023/gandalf_231023_140_e3v83d6.mp4\n",
      "Duration of video [s]:  16.32 , recorded with  120.0 fps!\n",
      "Overall # of frames:  1959  found with (before cropping) frame dimensions:  640 480\n",
      "Starting to extract posture\n"
     ]
    },
    {
     "name": "stderr",
     "output_type": "stream",
     "text": [
      "100%|██████████| 1959/1959 [02:19<00:00, 14.03it/s]\n"
     ]
    },
    {
     "name": "stdout",
     "output_type": "stream",
     "text": [
      "Saving results in /Users/rahimhashim/Desktop/Monkey-Emotions/video/gandalf_231023...\n",
      "Saving csv poses!\n",
      "Starting to analyze %  /Users/rahimhashim/Desktop/Monkey-Emotions/video/gandalf_231023/gandalf_231023_141_e3v83d6.mp4\n",
      "Loading  /Users/rahimhashim/Desktop/Monkey-Emotions/video/gandalf_231023/gandalf_231023_141_e3v83d6.mp4\n",
      "Duration of video [s]:  10.07 , recorded with  120.0 fps!\n",
      "Overall # of frames:  1209  found with (before cropping) frame dimensions:  640 480\n",
      "Starting to extract posture\n"
     ]
    },
    {
     "name": "stderr",
     "output_type": "stream",
     "text": [
      "100%|██████████| 1209/1209 [01:48<00:00, 11.15it/s]\n"
     ]
    },
    {
     "name": "stdout",
     "output_type": "stream",
     "text": [
      "Saving results in /Users/rahimhashim/Desktop/Monkey-Emotions/video/gandalf_231023...\n",
      "Saving csv poses!\n",
      "Starting to analyze %  /Users/rahimhashim/Desktop/Monkey-Emotions/video/gandalf_231023/gandalf_231023_142_e3v83d6.mp4\n",
      "Loading  /Users/rahimhashim/Desktop/Monkey-Emotions/video/gandalf_231023/gandalf_231023_142_e3v83d6.mp4\n",
      "Duration of video [s]:  11.33 , recorded with  120.0 fps!\n",
      "Overall # of frames:  1360  found with (before cropping) frame dimensions:  640 480\n",
      "Starting to extract posture\n"
     ]
    },
    {
     "name": "stderr",
     "output_type": "stream",
     "text": [
      "100%|██████████| 1360/1360 [01:55<00:00, 11.77it/s]\n"
     ]
    },
    {
     "name": "stdout",
     "output_type": "stream",
     "text": [
      "Saving results in /Users/rahimhashim/Desktop/Monkey-Emotions/video/gandalf_231023...\n",
      "Saving csv poses!\n",
      "Starting to analyze %  /Users/rahimhashim/Desktop/Monkey-Emotions/video/gandalf_231023/gandalf_231023_143_e3v83d6.mp4\n",
      "Loading  /Users/rahimhashim/Desktop/Monkey-Emotions/video/gandalf_231023/gandalf_231023_143_e3v83d6.mp4\n",
      "Duration of video [s]:  12.1 , recorded with  120.0 fps!\n",
      "Overall # of frames:  1452  found with (before cropping) frame dimensions:  640 480\n",
      "Starting to extract posture\n"
     ]
    },
    {
     "name": "stderr",
     "output_type": "stream",
     "text": [
      "100%|██████████| 1452/1452 [01:55<00:00, 12.56it/s]\n"
     ]
    },
    {
     "name": "stdout",
     "output_type": "stream",
     "text": [
      "Saving results in /Users/rahimhashim/Desktop/Monkey-Emotions/video/gandalf_231023...\n",
      "Saving csv poses!\n",
      "Starting to analyze %  /Users/rahimhashim/Desktop/Monkey-Emotions/video/gandalf_231023/gandalf_231023_144_e3v83d6.mp4\n",
      "Loading  /Users/rahimhashim/Desktop/Monkey-Emotions/video/gandalf_231023/gandalf_231023_144_e3v83d6.mp4\n",
      "Duration of video [s]:  14.59 , recorded with  120.0 fps!\n",
      "Overall # of frames:  1751  found with (before cropping) frame dimensions:  640 480\n",
      "Starting to extract posture\n"
     ]
    },
    {
     "name": "stderr",
     "output_type": "stream",
     "text": [
      "100%|██████████| 1751/1751 [02:08<00:00, 13.65it/s]\n"
     ]
    },
    {
     "name": "stdout",
     "output_type": "stream",
     "text": [
      "Saving results in /Users/rahimhashim/Desktop/Monkey-Emotions/video/gandalf_231023...\n",
      "Saving csv poses!\n",
      "Starting to analyze %  /Users/rahimhashim/Desktop/Monkey-Emotions/video/gandalf_231023/gandalf_231023_145_e3v83d6.mp4\n",
      "Loading  /Users/rahimhashim/Desktop/Monkey-Emotions/video/gandalf_231023/gandalf_231023_145_e3v83d6.mp4\n",
      "Duration of video [s]:  15.74 , recorded with  120.0 fps!\n",
      "Overall # of frames:  1889  found with (before cropping) frame dimensions:  640 480\n",
      "Starting to extract posture\n"
     ]
    },
    {
     "name": "stderr",
     "output_type": "stream",
     "text": [
      "100%|██████████| 1889/1889 [02:13<00:00, 14.12it/s]\n"
     ]
    },
    {
     "name": "stdout",
     "output_type": "stream",
     "text": [
      "Saving results in /Users/rahimhashim/Desktop/Monkey-Emotions/video/gandalf_231023...\n",
      "Saving csv poses!\n",
      "Starting to analyze %  /Users/rahimhashim/Desktop/Monkey-Emotions/video/gandalf_231023/gandalf_231023_146_e3v83d6.mp4\n",
      "Loading  /Users/rahimhashim/Desktop/Monkey-Emotions/video/gandalf_231023/gandalf_231023_146_e3v83d6.mp4\n",
      "Duration of video [s]:  19.94 , recorded with  120.0 fps!\n",
      "Overall # of frames:  2393  found with (before cropping) frame dimensions:  640 480\n",
      "Starting to extract posture\n"
     ]
    },
    {
     "name": "stderr",
     "output_type": "stream",
     "text": [
      "100%|██████████| 2393/2393 [06:12<00:00,  6.42it/s]  \n"
     ]
    },
    {
     "name": "stdout",
     "output_type": "stream",
     "text": [
      "Saving results in /Users/rahimhashim/Desktop/Monkey-Emotions/video/gandalf_231023...\n",
      "Saving csv poses!\n",
      "Starting to analyze %  /Users/rahimhashim/Desktop/Monkey-Emotions/video/gandalf_231023/gandalf_231023_147_e3v83d6.mp4\n",
      "Loading  /Users/rahimhashim/Desktop/Monkey-Emotions/video/gandalf_231023/gandalf_231023_147_e3v83d6.mp4\n",
      "Duration of video [s]:  11.47 , recorded with  120.0 fps!\n",
      "Overall # of frames:  1376  found with (before cropping) frame dimensions:  640 480\n",
      "Starting to extract posture\n"
     ]
    },
    {
     "name": "stderr",
     "output_type": "stream",
     "text": [
      "100%|██████████| 1376/1376 [03:00<00:00,  7.63it/s]\n"
     ]
    },
    {
     "name": "stdout",
     "output_type": "stream",
     "text": [
      "Saving results in /Users/rahimhashim/Desktop/Monkey-Emotions/video/gandalf_231023...\n",
      "Saving csv poses!\n",
      "Starting to analyze %  /Users/rahimhashim/Desktop/Monkey-Emotions/video/gandalf_231023/gandalf_231023_148_e3v83d6.mp4\n",
      "Loading  /Users/rahimhashim/Desktop/Monkey-Emotions/video/gandalf_231023/gandalf_231023_148_e3v83d6.mp4\n",
      "Duration of video [s]:  17.12 , recorded with  120.0 fps!\n",
      "Overall # of frames:  2054  found with (before cropping) frame dimensions:  640 480\n",
      "Starting to extract posture\n"
     ]
    },
    {
     "name": "stderr",
     "output_type": "stream",
     "text": [
      "100%|██████████| 2054/2054 [02:22<00:00, 14.38it/s]\n"
     ]
    },
    {
     "name": "stdout",
     "output_type": "stream",
     "text": [
      "Saving results in /Users/rahimhashim/Desktop/Monkey-Emotions/video/gandalf_231023...\n",
      "Saving csv poses!\n",
      "Starting to analyze %  /Users/rahimhashim/Desktop/Monkey-Emotions/video/gandalf_231023/gandalf_231023_149_e3v83d6.mp4\n",
      "Loading  /Users/rahimhashim/Desktop/Monkey-Emotions/video/gandalf_231023/gandalf_231023_149_e3v83d6.mp4\n",
      "Duration of video [s]:  18.57 , recorded with  120.0 fps!\n",
      "Overall # of frames:  2229  found with (before cropping) frame dimensions:  640 480\n",
      "Starting to extract posture\n"
     ]
    },
    {
     "name": "stderr",
     "output_type": "stream",
     "text": [
      "100%|██████████| 2229/2229 [02:34<00:00, 14.46it/s]\n"
     ]
    },
    {
     "name": "stdout",
     "output_type": "stream",
     "text": [
      "Saving results in /Users/rahimhashim/Desktop/Monkey-Emotions/video/gandalf_231023...\n",
      "Saving csv poses!\n",
      "Starting to analyze %  /Users/rahimhashim/Desktop/Monkey-Emotions/video/gandalf_231023/gandalf_231023_150_e3v83d6.mp4\n",
      "Loading  /Users/rahimhashim/Desktop/Monkey-Emotions/video/gandalf_231023/gandalf_231023_150_e3v83d6.mp4\n",
      "Duration of video [s]:  13.8 , recorded with  120.0 fps!\n",
      "Overall # of frames:  1656  found with (before cropping) frame dimensions:  640 480\n",
      "Starting to extract posture\n"
     ]
    },
    {
     "name": "stderr",
     "output_type": "stream",
     "text": [
      "100%|██████████| 1656/1656 [02:09<00:00, 12.81it/s]\n"
     ]
    },
    {
     "name": "stdout",
     "output_type": "stream",
     "text": [
      "Saving results in /Users/rahimhashim/Desktop/Monkey-Emotions/video/gandalf_231023...\n",
      "Saving csv poses!\n",
      "Starting to analyze %  /Users/rahimhashim/Desktop/Monkey-Emotions/video/gandalf_231023/gandalf_231023_151_e3v83d6.mp4\n",
      "Loading  /Users/rahimhashim/Desktop/Monkey-Emotions/video/gandalf_231023/gandalf_231023_151_e3v83d6.mp4\n",
      "Duration of video [s]:  11.27 , recorded with  120.0 fps!\n",
      "Overall # of frames:  1352  found with (before cropping) frame dimensions:  640 480\n",
      "Starting to extract posture\n"
     ]
    },
    {
     "name": "stderr",
     "output_type": "stream",
     "text": [
      "100%|██████████| 1352/1352 [01:56<00:00, 11.65it/s]\n"
     ]
    },
    {
     "name": "stdout",
     "output_type": "stream",
     "text": [
      "Saving results in /Users/rahimhashim/Desktop/Monkey-Emotions/video/gandalf_231023...\n",
      "Saving csv poses!\n",
      "Starting to analyze %  /Users/rahimhashim/Desktop/Monkey-Emotions/video/gandalf_231023/gandalf_231023_152_e3v83d6.mp4\n",
      "Loading  /Users/rahimhashim/Desktop/Monkey-Emotions/video/gandalf_231023/gandalf_231023_152_e3v83d6.mp4\n",
      "Duration of video [s]:  13.4 , recorded with  120.0 fps!\n",
      "Overall # of frames:  1608  found with (before cropping) frame dimensions:  640 480\n",
      "Starting to extract posture\n"
     ]
    },
    {
     "name": "stderr",
     "output_type": "stream",
     "text": [
      "100%|██████████| 1608/1608 [02:06<00:00, 12.68it/s]\n"
     ]
    },
    {
     "name": "stdout",
     "output_type": "stream",
     "text": [
      "Saving results in /Users/rahimhashim/Desktop/Monkey-Emotions/video/gandalf_231023...\n",
      "Saving csv poses!\n",
      "Starting to analyze %  /Users/rahimhashim/Desktop/Monkey-Emotions/video/gandalf_231023/gandalf_231023_153_e3v83d6.mp4\n",
      "Loading  /Users/rahimhashim/Desktop/Monkey-Emotions/video/gandalf_231023/gandalf_231023_153_e3v83d6.mp4\n",
      "Duration of video [s]:  16.27 , recorded with  120.0 fps!\n",
      "Overall # of frames:  1953  found with (before cropping) frame dimensions:  640 480\n",
      "Starting to extract posture\n"
     ]
    },
    {
     "name": "stderr",
     "output_type": "stream",
     "text": [
      "100%|██████████| 1953/1953 [02:27<00:00, 13.21it/s]\n"
     ]
    },
    {
     "name": "stdout",
     "output_type": "stream",
     "text": [
      "Saving results in /Users/rahimhashim/Desktop/Monkey-Emotions/video/gandalf_231023...\n",
      "Saving csv poses!\n",
      "Starting to analyze %  /Users/rahimhashim/Desktop/Monkey-Emotions/video/gandalf_231023/gandalf_231023_154_e3v83d6.mp4\n",
      "Loading  /Users/rahimhashim/Desktop/Monkey-Emotions/video/gandalf_231023/gandalf_231023_154_e3v83d6.mp4\n",
      "Duration of video [s]:  16.24 , recorded with  120.0 fps!\n",
      "Overall # of frames:  1949  found with (before cropping) frame dimensions:  640 480\n",
      "Starting to extract posture\n"
     ]
    },
    {
     "name": "stderr",
     "output_type": "stream",
     "text": [
      "100%|██████████| 1949/1949 [02:30<00:00, 12.94it/s]\n"
     ]
    },
    {
     "name": "stdout",
     "output_type": "stream",
     "text": [
      "Saving results in /Users/rahimhashim/Desktop/Monkey-Emotions/video/gandalf_231023...\n",
      "Saving csv poses!\n",
      "Starting to analyze %  /Users/rahimhashim/Desktop/Monkey-Emotions/video/gandalf_231023/gandalf_231023_155_e3v83d6.mp4\n",
      "Loading  /Users/rahimhashim/Desktop/Monkey-Emotions/video/gandalf_231023/gandalf_231023_155_e3v83d6.mp4\n",
      "Duration of video [s]:  14.78 , recorded with  120.0 fps!\n",
      "Overall # of frames:  1773  found with (before cropping) frame dimensions:  640 480\n",
      "Starting to extract posture\n"
     ]
    },
    {
     "name": "stderr",
     "output_type": "stream",
     "text": [
      "100%|██████████| 1773/1773 [02:22<00:00, 12.47it/s]\n"
     ]
    },
    {
     "name": "stdout",
     "output_type": "stream",
     "text": [
      "Saving results in /Users/rahimhashim/Desktop/Monkey-Emotions/video/gandalf_231023...\n",
      "Saving csv poses!\n",
      "Starting to analyze %  /Users/rahimhashim/Desktop/Monkey-Emotions/video/gandalf_231023/gandalf_231023_156_e3v83d6.mp4\n",
      "Loading  /Users/rahimhashim/Desktop/Monkey-Emotions/video/gandalf_231023/gandalf_231023_156_e3v83d6.mp4\n",
      "Duration of video [s]:  16.81 , recorded with  120.0 fps!\n",
      "Overall # of frames:  2017  found with (before cropping) frame dimensions:  640 480\n",
      "Starting to extract posture\n"
     ]
    },
    {
     "name": "stderr",
     "output_type": "stream",
     "text": [
      "100%|██████████| 2017/2017 [02:36<00:00, 12.88it/s]\n"
     ]
    },
    {
     "name": "stdout",
     "output_type": "stream",
     "text": [
      "Saving results in /Users/rahimhashim/Desktop/Monkey-Emotions/video/gandalf_231023...\n",
      "Saving csv poses!\n",
      "Starting to analyze %  /Users/rahimhashim/Desktop/Monkey-Emotions/video/gandalf_231023/gandalf_231023_157_e3v83d6.mp4\n",
      "Loading  /Users/rahimhashim/Desktop/Monkey-Emotions/video/gandalf_231023/gandalf_231023_157_e3v83d6.mp4\n",
      "Duration of video [s]:  14.29 , recorded with  120.0 fps!\n",
      "Overall # of frames:  1715  found with (before cropping) frame dimensions:  640 480\n",
      "Starting to extract posture\n"
     ]
    },
    {
     "name": "stderr",
     "output_type": "stream",
     "text": [
      "100%|██████████| 1715/1715 [02:18<00:00, 12.41it/s]\n"
     ]
    },
    {
     "name": "stdout",
     "output_type": "stream",
     "text": [
      "Saving results in /Users/rahimhashim/Desktop/Monkey-Emotions/video/gandalf_231023...\n",
      "Saving csv poses!\n",
      "Starting to analyze %  /Users/rahimhashim/Desktop/Monkey-Emotions/video/gandalf_231023/gandalf_231023_158_e3v83d6.mp4\n",
      "Loading  /Users/rahimhashim/Desktop/Monkey-Emotions/video/gandalf_231023/gandalf_231023_158_e3v83d6.mp4\n",
      "Duration of video [s]:  10.05 , recorded with  120.0 fps!\n",
      "Overall # of frames:  1206  found with (before cropping) frame dimensions:  640 480\n",
      "Starting to extract posture\n"
     ]
    },
    {
     "name": "stderr",
     "output_type": "stream",
     "text": [
      "100%|██████████| 1206/1206 [01:53<00:00, 10.63it/s]\n"
     ]
    },
    {
     "name": "stdout",
     "output_type": "stream",
     "text": [
      "Saving results in /Users/rahimhashim/Desktop/Monkey-Emotions/video/gandalf_231023...\n",
      "Saving csv poses!\n",
      "Starting to analyze %  /Users/rahimhashim/Desktop/Monkey-Emotions/video/gandalf_231023/gandalf_231023_159_e3v83d6.mp4\n",
      "Loading  /Users/rahimhashim/Desktop/Monkey-Emotions/video/gandalf_231023/gandalf_231023_159_e3v83d6.mp4\n",
      "Duration of video [s]:  15.92 , recorded with  120.0 fps!\n",
      "Overall # of frames:  1910  found with (before cropping) frame dimensions:  640 480\n",
      "Starting to extract posture\n"
     ]
    },
    {
     "name": "stderr",
     "output_type": "stream",
     "text": [
      "100%|██████████| 1910/1910 [02:27<00:00, 12.91it/s]\n"
     ]
    },
    {
     "name": "stdout",
     "output_type": "stream",
     "text": [
      "Saving results in /Users/rahimhashim/Desktop/Monkey-Emotions/video/gandalf_231023...\n",
      "Saving csv poses!\n",
      "Starting to analyze %  /Users/rahimhashim/Desktop/Monkey-Emotions/video/gandalf_231023/gandalf_231023_160_e3v83d6.mp4\n",
      "Loading  /Users/rahimhashim/Desktop/Monkey-Emotions/video/gandalf_231023/gandalf_231023_160_e3v83d6.mp4\n",
      "Duration of video [s]:  14.41 , recorded with  120.0 fps!\n",
      "Overall # of frames:  1729  found with (before cropping) frame dimensions:  640 480\n",
      "Starting to extract posture\n"
     ]
    },
    {
     "name": "stderr",
     "output_type": "stream",
     "text": [
      "100%|██████████| 1729/1729 [02:18<00:00, 12.52it/s]\n"
     ]
    },
    {
     "name": "stdout",
     "output_type": "stream",
     "text": [
      "Saving results in /Users/rahimhashim/Desktop/Monkey-Emotions/video/gandalf_231023...\n",
      "Saving csv poses!\n",
      "Starting to analyze %  /Users/rahimhashim/Desktop/Monkey-Emotions/video/gandalf_231023/gandalf_231023_161_e3v83d6.mp4\n",
      "Loading  /Users/rahimhashim/Desktop/Monkey-Emotions/video/gandalf_231023/gandalf_231023_161_e3v83d6.mp4\n",
      "Duration of video [s]:  10.82 , recorded with  120.0 fps!\n",
      "Overall # of frames:  1298  found with (before cropping) frame dimensions:  640 480\n",
      "Starting to extract posture\n"
     ]
    },
    {
     "name": "stderr",
     "output_type": "stream",
     "text": [
      "100%|██████████| 1298/1298 [01:54<00:00, 11.31it/s]\n"
     ]
    },
    {
     "name": "stdout",
     "output_type": "stream",
     "text": [
      "Saving results in /Users/rahimhashim/Desktop/Monkey-Emotions/video/gandalf_231023...\n",
      "Saving csv poses!\n",
      "Starting to analyze %  /Users/rahimhashim/Desktop/Monkey-Emotions/video/gandalf_231023/gandalf_231023_162_e3v83d6.mp4\n",
      "Loading  /Users/rahimhashim/Desktop/Monkey-Emotions/video/gandalf_231023/gandalf_231023_162_e3v83d6.mp4\n",
      "Duration of video [s]:  14.65 , recorded with  120.0 fps!\n",
      "Overall # of frames:  1758  found with (before cropping) frame dimensions:  640 480\n",
      "Starting to extract posture\n"
     ]
    },
    {
     "name": "stderr",
     "output_type": "stream",
     "text": [
      "100%|██████████| 1758/1758 [02:32<00:00, 11.55it/s]\n"
     ]
    },
    {
     "name": "stdout",
     "output_type": "stream",
     "text": [
      "Saving results in /Users/rahimhashim/Desktop/Monkey-Emotions/video/gandalf_231023...\n",
      "Saving csv poses!\n",
      "Starting to analyze %  /Users/rahimhashim/Desktop/Monkey-Emotions/video/gandalf_231023/gandalf_231023_163_e3v83d6.mp4\n",
      "Loading  /Users/rahimhashim/Desktop/Monkey-Emotions/video/gandalf_231023/gandalf_231023_163_e3v83d6.mp4\n",
      "Duration of video [s]:  16.11 , recorded with  120.0 fps!\n",
      "Overall # of frames:  1933  found with (before cropping) frame dimensions:  640 480\n",
      "Starting to extract posture\n"
     ]
    },
    {
     "name": "stderr",
     "output_type": "stream",
     "text": [
      "100%|██████████| 1933/1933 [02:35<00:00, 12.45it/s]\n"
     ]
    },
    {
     "name": "stdout",
     "output_type": "stream",
     "text": [
      "Saving results in /Users/rahimhashim/Desktop/Monkey-Emotions/video/gandalf_231023...\n",
      "Saving csv poses!\n",
      "Starting to analyze %  /Users/rahimhashim/Desktop/Monkey-Emotions/video/gandalf_231023/gandalf_231023_164_e3v83d6.mp4\n",
      "Loading  /Users/rahimhashim/Desktop/Monkey-Emotions/video/gandalf_231023/gandalf_231023_164_e3v83d6.mp4\n",
      "Duration of video [s]:  14.54 , recorded with  120.0 fps!\n",
      "Overall # of frames:  1745  found with (before cropping) frame dimensions:  640 480\n",
      "Starting to extract posture\n"
     ]
    },
    {
     "name": "stderr",
     "output_type": "stream",
     "text": [
      "100%|██████████| 1745/1745 [02:28<00:00, 11.77it/s]\n"
     ]
    },
    {
     "name": "stdout",
     "output_type": "stream",
     "text": [
      "Saving results in /Users/rahimhashim/Desktop/Monkey-Emotions/video/gandalf_231023...\n",
      "Saving csv poses!\n",
      "Starting to analyze %  /Users/rahimhashim/Desktop/Monkey-Emotions/video/gandalf_231023/gandalf_231023_165_e3v83d6.mp4\n",
      "Loading  /Users/rahimhashim/Desktop/Monkey-Emotions/video/gandalf_231023/gandalf_231023_165_e3v83d6.mp4\n",
      "Duration of video [s]:  11.68 , recorded with  120.0 fps!\n",
      "Overall # of frames:  1401  found with (before cropping) frame dimensions:  640 480\n",
      "Starting to extract posture\n"
     ]
    },
    {
     "name": "stderr",
     "output_type": "stream",
     "text": [
      "100%|██████████| 1401/1401 [02:01<00:00, 11.53it/s]\n"
     ]
    },
    {
     "name": "stdout",
     "output_type": "stream",
     "text": [
      "Saving results in /Users/rahimhashim/Desktop/Monkey-Emotions/video/gandalf_231023...\n",
      "Saving csv poses!\n",
      "Starting to analyze %  /Users/rahimhashim/Desktop/Monkey-Emotions/video/gandalf_231023/gandalf_231023_166_e3v83d6.mp4\n",
      "Loading  /Users/rahimhashim/Desktop/Monkey-Emotions/video/gandalf_231023/gandalf_231023_166_e3v83d6.mp4\n",
      "Duration of video [s]:  18.52 , recorded with  120.0 fps!\n",
      "Overall # of frames:  2222  found with (before cropping) frame dimensions:  640 480\n",
      "Starting to extract posture\n"
     ]
    },
    {
     "name": "stderr",
     "output_type": "stream",
     "text": [
      "100%|██████████| 2222/2222 [02:47<00:00, 13.29it/s]\n"
     ]
    },
    {
     "name": "stdout",
     "output_type": "stream",
     "text": [
      "Saving results in /Users/rahimhashim/Desktop/Monkey-Emotions/video/gandalf_231023...\n",
      "Saving csv poses!\n",
      "Starting to analyze %  /Users/rahimhashim/Desktop/Monkey-Emotions/video/gandalf_231023/gandalf_231023_168_e3v83d6.mp4\n",
      "Loading  /Users/rahimhashim/Desktop/Monkey-Emotions/video/gandalf_231023/gandalf_231023_168_e3v83d6.mp4\n",
      "Duration of video [s]:  13.22 , recorded with  120.0 fps!\n",
      "Overall # of frames:  1586  found with (before cropping) frame dimensions:  640 480\n",
      "Starting to extract posture\n"
     ]
    },
    {
     "name": "stderr",
     "output_type": "stream",
     "text": [
      "100%|██████████| 1586/1586 [02:14<00:00, 11.79it/s]\n"
     ]
    },
    {
     "name": "stdout",
     "output_type": "stream",
     "text": [
      "Saving results in /Users/rahimhashim/Desktop/Monkey-Emotions/video/gandalf_231023...\n",
      "Saving csv poses!\n",
      "Starting to analyze %  /Users/rahimhashim/Desktop/Monkey-Emotions/video/gandalf_231023/gandalf_231023_169_e3v83d6.mp4\n",
      "Loading  /Users/rahimhashim/Desktop/Monkey-Emotions/video/gandalf_231023/gandalf_231023_169_e3v83d6.mp4\n",
      "Duration of video [s]:  11.47 , recorded with  120.0 fps!\n",
      "Overall # of frames:  1376  found with (before cropping) frame dimensions:  640 480\n",
      "Starting to extract posture\n"
     ]
    },
    {
     "name": "stderr",
     "output_type": "stream",
     "text": [
      "100%|██████████| 1376/1376 [02:07<00:00, 10.79it/s]\n"
     ]
    },
    {
     "name": "stdout",
     "output_type": "stream",
     "text": [
      "Saving results in /Users/rahimhashim/Desktop/Monkey-Emotions/video/gandalf_231023...\n",
      "Saving csv poses!\n",
      "Starting to analyze %  /Users/rahimhashim/Desktop/Monkey-Emotions/video/gandalf_231023/gandalf_231023_170_e3v83d6.mp4\n",
      "Loading  /Users/rahimhashim/Desktop/Monkey-Emotions/video/gandalf_231023/gandalf_231023_170_e3v83d6.mp4\n",
      "Duration of video [s]:  13.79 , recorded with  120.0 fps!\n",
      "Overall # of frames:  1655  found with (before cropping) frame dimensions:  640 480\n",
      "Starting to extract posture\n"
     ]
    },
    {
     "name": "stderr",
     "output_type": "stream",
     "text": [
      "100%|██████████| 1655/1655 [02:16<00:00, 12.13it/s]\n"
     ]
    },
    {
     "name": "stdout",
     "output_type": "stream",
     "text": [
      "Saving results in /Users/rahimhashim/Desktop/Monkey-Emotions/video/gandalf_231023...\n",
      "Saving csv poses!\n",
      "Starting to analyze %  /Users/rahimhashim/Desktop/Monkey-Emotions/video/gandalf_231023/gandalf_231023_171_e3v83d6.mp4\n",
      "Loading  /Users/rahimhashim/Desktop/Monkey-Emotions/video/gandalf_231023/gandalf_231023_171_e3v83d6.mp4\n",
      "Duration of video [s]:  16.79 , recorded with  120.0 fps!\n",
      "Overall # of frames:  2015  found with (before cropping) frame dimensions:  640 480\n",
      "Starting to extract posture\n"
     ]
    },
    {
     "name": "stderr",
     "output_type": "stream",
     "text": [
      "100%|██████████| 2015/2015 [02:40<00:00, 12.53it/s]\n"
     ]
    },
    {
     "name": "stdout",
     "output_type": "stream",
     "text": [
      "Saving results in /Users/rahimhashim/Desktop/Monkey-Emotions/video/gandalf_231023...\n",
      "Saving csv poses!\n",
      "Starting to analyze %  /Users/rahimhashim/Desktop/Monkey-Emotions/video/gandalf_231023/gandalf_231023_172_e3v83d6.mp4\n",
      "Loading  /Users/rahimhashim/Desktop/Monkey-Emotions/video/gandalf_231023/gandalf_231023_172_e3v83d6.mp4\n",
      "Duration of video [s]:  14.11 , recorded with  120.0 fps!\n",
      "Overall # of frames:  1693  found with (before cropping) frame dimensions:  640 480\n",
      "Starting to extract posture\n"
     ]
    },
    {
     "name": "stderr",
     "output_type": "stream",
     "text": [
      "100%|██████████| 1693/1693 [02:14<00:00, 12.63it/s]\n"
     ]
    },
    {
     "name": "stdout",
     "output_type": "stream",
     "text": [
      "Saving results in /Users/rahimhashim/Desktop/Monkey-Emotions/video/gandalf_231023...\n",
      "Saving csv poses!\n",
      "Starting to analyze %  /Users/rahimhashim/Desktop/Monkey-Emotions/video/gandalf_231023/gandalf_231023_173_e3v83d6.mp4\n",
      "Loading  /Users/rahimhashim/Desktop/Monkey-Emotions/video/gandalf_231023/gandalf_231023_173_e3v83d6.mp4\n",
      "Duration of video [s]:  14.11 , recorded with  120.0 fps!\n",
      "Overall # of frames:  1693  found with (before cropping) frame dimensions:  640 480\n",
      "Starting to extract posture\n"
     ]
    },
    {
     "name": "stderr",
     "output_type": "stream",
     "text": [
      "100%|██████████| 1693/1693 [02:32<00:00, 11.08it/s]\n"
     ]
    },
    {
     "name": "stdout",
     "output_type": "stream",
     "text": [
      "Saving results in /Users/rahimhashim/Desktop/Monkey-Emotions/video/gandalf_231023...\n",
      "Saving csv poses!\n",
      "Starting to analyze %  /Users/rahimhashim/Desktop/Monkey-Emotions/video/gandalf_231023/gandalf_231023_174_e3v83d6.mp4\n",
      "Loading  /Users/rahimhashim/Desktop/Monkey-Emotions/video/gandalf_231023/gandalf_231023_174_e3v83d6.mp4\n",
      "Duration of video [s]:  13.85 , recorded with  120.0 fps!\n",
      "Overall # of frames:  1662  found with (before cropping) frame dimensions:  640 480\n",
      "Starting to extract posture\n"
     ]
    },
    {
     "name": "stderr",
     "output_type": "stream",
     "text": [
      "100%|██████████| 1662/1662 [02:16<00:00, 12.21it/s]\n"
     ]
    },
    {
     "name": "stdout",
     "output_type": "stream",
     "text": [
      "Saving results in /Users/rahimhashim/Desktop/Monkey-Emotions/video/gandalf_231023...\n",
      "Saving csv poses!\n",
      "Starting to analyze %  /Users/rahimhashim/Desktop/Monkey-Emotions/video/gandalf_231023/gandalf_231023_175_e3v83d6.mp4\n",
      "Loading  /Users/rahimhashim/Desktop/Monkey-Emotions/video/gandalf_231023/gandalf_231023_175_e3v83d6.mp4\n",
      "Duration of video [s]:  12.13 , recorded with  120.0 fps!\n",
      "Overall # of frames:  1456  found with (before cropping) frame dimensions:  640 480\n",
      "Starting to extract posture\n"
     ]
    },
    {
     "name": "stderr",
     "output_type": "stream",
     "text": [
      "100%|██████████| 1456/1456 [02:04<00:00, 11.68it/s]\n"
     ]
    },
    {
     "name": "stdout",
     "output_type": "stream",
     "text": [
      "Saving results in /Users/rahimhashim/Desktop/Monkey-Emotions/video/gandalf_231023...\n",
      "Saving csv poses!\n",
      "Starting to analyze %  /Users/rahimhashim/Desktop/Monkey-Emotions/video/gandalf_231023/gandalf_231023_176_e3v83d6.mp4\n",
      "Loading  /Users/rahimhashim/Desktop/Monkey-Emotions/video/gandalf_231023/gandalf_231023_176_e3v83d6.mp4\n",
      "Duration of video [s]:  11.71 , recorded with  120.0 fps!\n",
      "Overall # of frames:  1405  found with (before cropping) frame dimensions:  640 480\n",
      "Starting to extract posture\n"
     ]
    },
    {
     "name": "stderr",
     "output_type": "stream",
     "text": [
      "100%|██████████| 1405/1405 [02:17<00:00, 10.22it/s]\n"
     ]
    },
    {
     "name": "stdout",
     "output_type": "stream",
     "text": [
      "Saving results in /Users/rahimhashim/Desktop/Monkey-Emotions/video/gandalf_231023...\n",
      "Saving csv poses!\n",
      "Starting to analyze %  /Users/rahimhashim/Desktop/Monkey-Emotions/video/gandalf_231023/gandalf_231023_177_e3v83d6.mp4\n",
      "Loading  /Users/rahimhashim/Desktop/Monkey-Emotions/video/gandalf_231023/gandalf_231023_177_e3v83d6.mp4\n",
      "Duration of video [s]:  16.38 , recorded with  120.0 fps!\n",
      "Overall # of frames:  1965  found with (before cropping) frame dimensions:  640 480\n",
      "Starting to extract posture\n"
     ]
    },
    {
     "name": "stderr",
     "output_type": "stream",
     "text": [
      "100%|██████████| 1965/1965 [02:22<00:00, 13.84it/s]\n"
     ]
    },
    {
     "name": "stdout",
     "output_type": "stream",
     "text": [
      "Saving results in /Users/rahimhashim/Desktop/Monkey-Emotions/video/gandalf_231023...\n",
      "Saving csv poses!\n",
      "Starting to analyze %  /Users/rahimhashim/Desktop/Monkey-Emotions/video/gandalf_231023/gandalf_231023_178_e3v83d6.mp4\n",
      "Loading  /Users/rahimhashim/Desktop/Monkey-Emotions/video/gandalf_231023/gandalf_231023_178_e3v83d6.mp4\n",
      "Duration of video [s]:  13.56 , recorded with  120.0 fps!\n",
      "Overall # of frames:  1627  found with (before cropping) frame dimensions:  640 480\n",
      "Starting to extract posture\n"
     ]
    },
    {
     "name": "stderr",
     "output_type": "stream",
     "text": [
      "100%|██████████| 1627/1627 [03:56<00:00,  6.88it/s]\n"
     ]
    },
    {
     "name": "stdout",
     "output_type": "stream",
     "text": [
      "Saving results in /Users/rahimhashim/Desktop/Monkey-Emotions/video/gandalf_231023...\n",
      "Saving csv poses!\n",
      "Starting to analyze %  /Users/rahimhashim/Desktop/Monkey-Emotions/video/gandalf_231023/gandalf_231023_179_e3v83d6.mp4\n",
      "Loading  /Users/rahimhashim/Desktop/Monkey-Emotions/video/gandalf_231023/gandalf_231023_179_e3v83d6.mp4\n",
      "Duration of video [s]:  15.36 , recorded with  120.0 fps!\n",
      "Overall # of frames:  1843  found with (before cropping) frame dimensions:  640 480\n",
      "Starting to extract posture\n"
     ]
    },
    {
     "name": "stderr",
     "output_type": "stream",
     "text": [
      "100%|██████████| 1843/1843 [02:39<00:00, 11.58it/s]\n"
     ]
    },
    {
     "name": "stdout",
     "output_type": "stream",
     "text": [
      "Saving results in /Users/rahimhashim/Desktop/Monkey-Emotions/video/gandalf_231023...\n",
      "Saving csv poses!\n",
      "Starting to analyze %  /Users/rahimhashim/Desktop/Monkey-Emotions/video/gandalf_231023/gandalf_231023_180_e3v83d6.mp4\n",
      "Loading  /Users/rahimhashim/Desktop/Monkey-Emotions/video/gandalf_231023/gandalf_231023_180_e3v83d6.mp4\n",
      "Duration of video [s]:  12.14 , recorded with  120.0 fps!\n",
      "Overall # of frames:  1457  found with (before cropping) frame dimensions:  640 480\n",
      "Starting to extract posture\n"
     ]
    },
    {
     "name": "stderr",
     "output_type": "stream",
     "text": [
      " 80%|███████▉  | 1160/1457 [01:50<00:28, 10.46it/s]\n"
     ]
    },
    {
     "name": "stdout",
     "output_type": "stream",
     "text": [
      "Starting to analyze %  /Users/rahimhashim/Desktop/Monkey-Emotions/video/gandalf_231023/gandalf_231023_181_e3v83d6.mp4\n",
      "Loading  /Users/rahimhashim/Desktop/Monkey-Emotions/video/gandalf_231023/gandalf_231023_181_e3v83d6.mp4\n",
      "Duration of video [s]:  15.28 , recorded with  120.0 fps!\n",
      "Overall # of frames:  1833  found with (before cropping) frame dimensions:  640 480\n",
      "Starting to extract posture\n"
     ]
    },
    {
     "name": "stderr",
     "output_type": "stream",
     "text": [
      "  0%|          | 0/1833 [00:00<?, ?it/s]"
     ]
    }
   ],
   "source": [
    "# Run DLC\n",
    "dlc_config.dlc_run(config_path_dict, dlc_video_path_dict, \n",
    "                   start_video=0, end_video=None, videotype='mp4')"
   ]
  },
  {
   "cell_type": "code",
   "execution_count": null,
   "metadata": {},
   "outputs": [],
   "source": []
  }
 ],
 "metadata": {
  "kernelspec": {
   "display_name": "facial-recognition",
   "language": "python",
   "name": "python3"
  },
  "language_info": {
   "codemirror_mode": {
    "name": "ipython",
    "version": 3
   },
   "file_extension": ".py",
   "mimetype": "text/x-python",
   "name": "python",
   "nbconvert_exporter": "python",
   "pygments_lexer": "ipython3",
   "version": "3.9.16"
  },
  "orig_nbformat": 4
 },
 "nbformat": 4,
 "nbformat_minor": 2
}
