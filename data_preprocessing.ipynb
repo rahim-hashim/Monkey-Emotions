{
 "cells": [
  {
   "cell_type": "markdown",
   "metadata": {},
   "source": [
    "# Data Preprocessing\n",
    "#### Run this script to proprocess all the data that will be coming in from one, many, or all of the following sources:\n",
    "1. **MonkeyLogic:** (.bhv2 | .h5) behavior data *[500 or 1000Hz]*\n",
    "  > * Photodiode data\n",
    "  > * White Matter Camera Sync analog data (if applicable)\n",
    "  > * White Matter Camera Save analog data (if applicable)\n",
    "2. **SpikeGLX:** (.meta & .bin) duplicates of analog data *[20000-30000Hz]*\n",
    "  > * Photodiode data (split from ML)\n",
    "  > * White Matter Camera Sync analog data (if applicable)\n",
    "  > * White Matter Camera Save analog data (if applicable)\n",
    "3. **WhiteMatter:** (.mp4 | .avi) video files *[60-120 fps]*\n",
    "***"
   ]
  },
  {
   "cell_type": "markdown",
   "metadata": {},
   "source": [
    "## Find Files\n",
    "`FileContainer` will hold the relevant files listed above. <br>\n",
    "* Specify `ROOT_DIR` to set the directory when prompted to select the files.\n",
    "* `WARNING` printed if dates and monkeys not aligned across files"
   ]
  },
  {
   "cell_type": "code",
   "execution_count": 44,
   "metadata": {},
   "outputs": [
    {
     "name": "stdout",
     "output_type": "stream",
     "text": [
      "The autoreload extension is already loaded. To reload it, use:\n",
      "  %reload_ext autoreload\n",
      "Select .bhv2/.h5 behavior file (i.e. 230927_Aragorn_choice.h5)\n",
<<<<<<< Updated upstream
<<<<<<< Updated upstream
      "Behavior file selected: C:/Users/rober/SynologyDrive/Rob/gandalf_20231205/231205_Gandalf_UnityVR.h5\n",
      "  MonkeyLogic Date: 231205\n",
      "  MonkeyLogic Monkey: gandalf\n",
=======
      "Behavior file selected: G:/.shortcut-targets-by-id/1iwYyt135rRNSZX7kvXzZZh7UDwRKFPfa/data_Probabilistic_Reward_Airpuff_Generalization/231212_Aragorn_generalization.h5\n",
      "  MonkeyLogic Date: 231212\n",
      "  MonkeyLogic Monkey: aragorn\n",
>>>>>>> Stashed changes
      "Select directory containing White Matter video files (i.e. 230927_Aragorn)\n",
      "Video files directory selected: C:/Users/rober/Desktop/rhAirpuff/videos/231212_Aragorn\n",
      "  White Matter Video Date: 231212\n",
      "  White Matter Video Monkey: aragorn\n",
      "Select directory containing SpikeGLX files\n",
<<<<<<< Updated upstream
      "SpikeGLX files directory selected: C:/Users/rober/SynologyDrive/Rob/gandalf_20231205/gandalf_20231205_g0\n",
      "  SpikeGLX Date: 231205\n",
      "  SpikeGLX Monkey: gandalf\n",
      "\n"
=======
      "Behavior file selected: \n",
      "  MonkeyLogic Date: \n"
     ]
    },
    {
     "ename": "IndexError",
     "evalue": "list index out of range",
     "output_type": "error",
     "traceback": [
      "\u001b[0;31m---------------------------------------------------------------------------\u001b[0m",
      "\u001b[0;31mIndexError\u001b[0m                                Traceback (most recent call last)",
      "\u001b[1;32m/Users/rahimhashim/Desktop/Monkey-Emotions/data_preprocessing.ipynb Cell 3\u001b[0m line \u001b[0;36m2\n\u001b[1;32m     <a href='vscode-notebook-cell:/Users/rahimhashim/Desktop/Monkey-Emotions/data_preprocessing.ipynb#W2sZmlsZQ%3D%3D?line=23'>24</a>\u001b[0m pd\u001b[39m.\u001b[39mset_option(\u001b[39m'\u001b[39m\u001b[39mdisplay.max_columns\u001b[39m\u001b[39m'\u001b[39m, \u001b[39mNone\u001b[39;00m)\n\u001b[1;32m     <a href='vscode-notebook-cell:/Users/rahimhashim/Desktop/Monkey-Emotions/data_preprocessing.ipynb#W2sZmlsZQ%3D%3D?line=25'>26</a>\u001b[0m ROOT_DIR \u001b[39m=\u001b[39m \u001b[39m'\u001b[39m\u001b[39m/Users/rahimhashim/My Drive/Columbia/Salzman/Monkey-Training/tasks\u001b[39m\u001b[39m'\u001b[39m\n\u001b[0;32m---> <a href='vscode-notebook-cell:/Users/rahimhashim/Desktop/Monkey-Emotions/data_preprocessing.ipynb#W2sZmlsZQ%3D%3D?line=26'>27</a>\u001b[0m file_container_obj \u001b[39m=\u001b[39m FileContainer(ROOT_DIR)\n",
      "File \u001b[0;32m~/Desktop/Monkey-Emotions/classes/FileContainer.py:23\u001b[0m, in \u001b[0;36mFileContainer.__init__\u001b[0;34m(self, ROOT_DIR)\u001b[0m\n\u001b[1;32m     21\u001b[0m \u001b[39mself\u001b[39m\u001b[39m.\u001b[39mmonkey_name \u001b[39m=\u001b[39m {}\n\u001b[1;32m     22\u001b[0m \u001b[39mself\u001b[39m\u001b[39m.\u001b[39mdate \u001b[39m=\u001b[39m {}\n\u001b[0;32m---> 23\u001b[0m \u001b[39mself\u001b[39;49m\u001b[39m.\u001b[39;49mfind_files(ROOT_DIR)\n",
      "File \u001b[0;32m~/Desktop/Monkey-Emotions/classes/FileContainer.py:50\u001b[0m, in \u001b[0;36mFileContainer.find_files\u001b[0;34m(self, ROOT_DIR)\u001b[0m\n\u001b[1;32m     48\u001b[0m \u001b[39mself\u001b[39m\u001b[39m.\u001b[39mdate[\u001b[39m'\u001b[39m\u001b[39mml\u001b[39m\u001b[39m'\u001b[39m] \u001b[39m=\u001b[39m ml_date\n\u001b[1;32m     49\u001b[0m \u001b[39mprint\u001b[39m(\u001b[39m'\u001b[39m\u001b[39m  MonkeyLogic Date: \u001b[39m\u001b[39m{}\u001b[39;00m\u001b[39m'\u001b[39m\u001b[39m.\u001b[39mformat(ml_date))\n\u001b[0;32m---> 50\u001b[0m ml_monkey_name \u001b[39m=\u001b[39m beh_file_name\u001b[39m.\u001b[39;49msplit(\u001b[39m'\u001b[39;49m\u001b[39m_\u001b[39;49m\u001b[39m'\u001b[39;49m)[\u001b[39m1\u001b[39;49m]\u001b[39m.\u001b[39mlower()\n\u001b[1;32m     51\u001b[0m \u001b[39mself\u001b[39m\u001b[39m.\u001b[39mmonkey_name[\u001b[39m'\u001b[39m\u001b[39mml\u001b[39m\u001b[39m'\u001b[39m] \u001b[39m=\u001b[39m ml_monkey_name\n\u001b[1;32m     52\u001b[0m \u001b[39mprint\u001b[39m(\u001b[39m'\u001b[39m\u001b[39m  MonkeyLogic Monkey: \u001b[39m\u001b[39m{}\u001b[39;00m\u001b[39m'\u001b[39m\u001b[39m.\u001b[39mformat(ml_monkey_name))\n",
      "\u001b[0;31mIndexError\u001b[0m: list index out of range"
>>>>>>> Stashed changes
=======
      "SpikeGLX files directory selected: C:/Users/rober/SynologyDrive/Rahim/aragorn_20231212/aragorn_2023112_g1\n",
      "  SpikeGLX Date: 23112\n",
      "  SpikeGLX Monkey: aragorn\n",
      "\n",
      "WARNING: dates do not match\n",
      "  MonkeyLogic: 231212\n",
      "  SpikeGLX: 23112\n",
      "WARNING: dates do not match\n",
      "  White Matter: 231212\n",
      "  SpikeGLX: 23112\n"
>>>>>>> Stashed changes
     ]
    }
   ],
   "source": [
    "%load_ext autoreload\n",
    "%autoreload 2\n",
    "import re\n",
    "import os\n",
    "import sys\n",
    "import cv2\n",
    "import math\n",
    "import numpy as np\n",
    "import pandas as pd\n",
    "from PIL import Image\n",
    "from pathlib import Path\n",
    "from pprint import pprint\n",
    "from tqdm.auto import tqdm\n",
    "import matplotlib.pyplot as plt\n",
    "from collections import defaultdict\n",
    "# Custom classes\n",
    "from classes.FileContainer import FileContainer\n",
    "from classes.SpikeGLX import SpikeGLX\n",
    "# Custom functions\n",
    "from spike_glx import read_SGLX\n",
    "\n",
    "# pandas options\n",
    "pd.options.mode.chained_assignment = None  # default='warn'\n",
    "pd.set_option('display.max_columns', None)\n",
    "\n",
    "ROOT_DIR = '/Users/rahimhashim/My Drive/Columbia/Salzman/Monkey-Training/tasks'\n",
    "file_container_obj = FileContainer(ROOT_DIR)"
   ]
  },
  {
   "cell_type": "markdown",
   "metadata": {},
   "source": [
    "***\n",
    "## Convert MonkeyLogic File to Pandas\n",
    "In order to run the behavior files through the preprocessing pipeline, we'll need to convert the MonkeyLogic file (either `.bhv2` or `.h5`) into a Session object which contains the following relevant attributes:\n",
    "> * `session_obj.df`: pandas DataFrame with columns:\n",
    ">   * `'photodiode'`: photodiode signal\n",
    ">   * `'Gen2'`: WM sync signal\n",
    ">   * `'Gen3'`: WM save signal\n",
    "> * `'session_obj.video_path'`: directory of WM videos\n",
    "> * `session_obj.monkey`: monkey name\n",
    "> * `session_obj.date`: date of session (<YYMMDD>)"
   ]
  },
  {
   "cell_type": "code",
   "execution_count": 46,
   "metadata": {},
   "outputs": [
    {
     "name": "stdout",
     "output_type": "stream",
     "text": [
      "Parsing .h5 file...\n",
      "Total number of trials: 608\n",
      "  Choice task detected.\n",
      "Parsing session data...\n"
     ]
    },
    {
     "data": {
      "application/vnd.jupyter.widget-view+json": {
       "model_id": "c39465e969ba4c729b7d5aada2f84b93",
       "version_major": 2,
       "version_minor": 0
      },
      "text/plain": [
       "  0%|          | 0/608 [00:00<?, ?it/s]"
      ]
     },
     "metadata": {},
     "output_type": "display_data"
    },
    {
     "name": "stdout",
     "output_type": "stream",
     "text": [
      "  Complete.\n",
      "    Correct trials: 350\n",
      "    Errored trials: 258\n",
      "    Session Length:  01:59:13\n",
      "Creating Session Objects...\n",
      "Lick threshold: 3.77 mV\n",
      "  Min Values (X,Y): (-28.011,-31.582)\n",
      "  Max Values (X,Y): (109.482,130.101)\n",
      "  Reward Mag: 1.0\n",
      "    Reward Drops: 12.0\n",
      "    Reward Frequency: 1.0\n",
      "    Reward Length: 220.0\n",
      "  Reward Mag: 0.5\n",
      "    Reward Drops: 4.0\n",
      "    Reward Frequency: 1.0\n",
      "    Reward Length: 200.0\n",
      "  Reward Mag: 0.0\n",
      "    Reward Drops: 0.0\n",
      "    Reward Frequency: 0.0\n",
      "    Reward Length: 0.0\n",
      "  Airpuff Mag: 1.0\n",
      "    Airpuff Magnitude: 1.0\n",
      "    Airpuff Frequency: 1.0\n",
      "  Airpuff Mag: 0.5\n",
      "    Airpuff Magnitude: 0.5\n",
      "    Airpuff Frequency: 1.0\n",
      "  Airpuff Mag: 0.0\n",
      "    Airpuff Magnitude: 0.0\n",
      "    Airpuff Frequency: 0.0\n",
      "Adding additional fields to session_df DataFrame...\n"
     ]
    },
    {
     "name": "stderr",
     "output_type": "stream",
     "text": [
      "c:\\Users\\rober\\Desktop\\Monkey-Emotions\\config\\add_fields.py:335: RuntimeWarning: Mean of empty slice\n",
      "  lick_avg = np.nanmean(lick_in_window)\n"
     ]
    },
    {
     "name": "stdout",
     "output_type": "stream",
     "text": [
      "  ['cam_frames'] field added.\n",
      "  20 new fields added.\n",
      "\t0 rows removed due to nan valence.\n"
     ]
    }
   ],
   "source": [
    "session_obj, error_dict, behavioral_code_dict = file_container_obj.ml_to_pd()"
   ]
  },
  {
   "cell_type": "code",
   "execution_count": 47,
   "metadata": {},
   "outputs": [],
   "source": [
    "from config.add_fields import add_fields\n",
    "# save is lick\n",
    "# lick is photodiode\n",
    "# photodiode is save\n",
    "if session_obj.monkey == 'gandalf':\n",
    "  session_obj.df['cam_save_2'] = session_obj.df['cam_save'].copy()\n",
    "  session_obj.df['cam_sync_2'] = session_obj.df['cam_sync'].copy()\n",
    "  session_obj.df['cam_sync'] = session_obj.df['lick'].copy() # correct\n",
    "  session_obj.df['cam_save'] = session_obj.df['cam_sync_2'].copy()\n",
    "  session_obj.df['lick'] = session_obj.df['cam_save_2'].copy()\n",
    "  del session_obj.df['cam_sync_2']\n",
    "  del session_obj.df['cam_save_2']\n",
    "\n",
    "  session_obj.df, session_obj = \\\n",
    "  add_fields(session_obj.df, session_obj, behavioral_code_dict)"
   ]
  },
  {
   "cell_type": "code",
   "execution_count": 48,
   "metadata": {},
   "outputs": [
    {
     "data": {
      "text/html": [
       "<div>\n",
       "<style scoped>\n",
       "    .dataframe tbody tr th:only-of-type {\n",
       "        vertical-align: middle;\n",
       "    }\n",
       "\n",
       "    .dataframe tbody tr th {\n",
       "        vertical-align: top;\n",
       "    }\n",
       "\n",
       "    .dataframe thead th {\n",
       "        text-align: right;\n",
       "    }\n",
       "</style>\n",
       "<table border=\"1\" class=\"dataframe\">\n",
       "  <thead>\n",
       "    <tr style=\"text-align: right;\">\n",
       "      <th></th>\n",
       "      <th>date</th>\n",
       "      <th>session_num</th>\n",
       "      <th>subject</th>\n",
       "      <th>trial_num</th>\n",
       "      <th>block</th>\n",
       "      <th>condition</th>\n",
       "      <th>correct</th>\n",
       "      <th>error</th>\n",
       "      <th>error_type</th>\n",
       "      <th>behavioral_code_markers</th>\n",
       "      <th>behavioral_code_times</th>\n",
       "      <th>stimuli_name_0</th>\n",
       "      <th>x_0_pos</th>\n",
       "      <th>y_0_pos</th>\n",
       "      <th>stimuli_name_1</th>\n",
       "      <th>x_1_pos</th>\n",
       "      <th>y_1_pos</th>\n",
       "      <th>stimuli_name_2</th>\n",
       "      <th>x_2_pos</th>\n",
       "      <th>y_2_pos</th>\n",
       "      <th>reward_1</th>\n",
       "      <th>reward_prob_1</th>\n",
       "      <th>reward_mag_1</th>\n",
       "      <th>reward_drops_1</th>\n",
       "      <th>reward_length_1</th>\n",
       "      <th>reward_2</th>\n",
       "      <th>reward_prob_2</th>\n",
       "      <th>reward_mag_2</th>\n",
       "      <th>airpuff_1</th>\n",
       "      <th>airpuff_prob_1</th>\n",
       "      <th>airpuff_mag_1</th>\n",
       "      <th>airpuff_2</th>\n",
       "      <th>airpuff_prob_2</th>\n",
       "      <th>airpuff_mag_2</th>\n",
       "      <th>eye_x</th>\n",
       "      <th>eye_y</th>\n",
       "      <th>eye_pupil</th>\n",
       "      <th>lick</th>\n",
       "      <th>cam_sync</th>\n",
       "      <th>cam_save</th>\n",
       "      <th>photodiode</th>\n",
       "      <th>trial_start</th>\n",
       "      <th>trial_end</th>\n",
       "      <th>trial_datetime_start</th>\n",
       "      <th>trial_datetime_end</th>\n",
       "      <th>reinforcement_trial</th>\n",
       "      <th>choice_trial</th>\n",
       "      <th>stim_chosen</th>\n",
       "      <th>stim_2_chosen</th>\n",
       "      <th>fractal_chosen</th>\n",
       "      <th>reward</th>\n",
       "      <th>reward_mag</th>\n",
       "      <th>airpuff</th>\n",
       "      <th>airpuff_mag</th>\n",
       "      <th>Start Trial</th>\n",
       "      <th>Fixation On</th>\n",
       "      <th>Fixation Success</th>\n",
       "      <th>CS On</th>\n",
       "      <th>Fixation Off</th>\n",
       "      <th>Trace Start</th>\n",
       "      <th>Trace End</th>\n",
       "      <th>Outcome Start</th>\n",
       "      <th>Reward Trigger</th>\n",
       "      <th>Airpuff Trigger</th>\n",
       "      <th>Outcome</th>\n",
       "      <th>Outcome End</th>\n",
       "      <th>Manual Reward</th>\n",
       "      <th>End Trial</th>\n",
       "      <th>valence</th>\n",
       "      <th>valence_1</th>\n",
       "      <th>valence_2</th>\n",
       "      <th>valence_not_chosen</th>\n",
       "      <th>lick_raster</th>\n",
       "      <th>DEM_raster</th>\n",
       "      <th>trial_bins</th>\n",
       "      <th>trial_in_block</th>\n",
       "      <th>lick_count_window</th>\n",
       "      <th>blink_count_window</th>\n",
       "      <th>pupil_data_window</th>\n",
       "      <th>pupil_raster</th>\n",
       "      <th>pupil_raster_window</th>\n",
       "      <th>pupil_raster_window_avg</th>\n",
       "      <th>pupil_binary_zero</th>\n",
       "      <th>blink_onset</th>\n",
       "      <th>blink_offset</th>\n",
       "      <th>blink_raster</th>\n",
       "      <th>blink_raster_window</th>\n",
       "      <th>blink_duration_window</th>\n",
       "      <th>pupil_pre_CS</th>\n",
       "      <th>lick_in_window</th>\n",
       "      <th>blink_in_window</th>\n",
       "      <th>lick_duration</th>\n",
       "      <th>blink_duration_sig</th>\n",
       "      <th>blink_duration_offscreen</th>\n",
       "      <th>eye_distance</th>\n",
       "      <th>cam_frames</th>\n",
       "      <th>fractal_count_in_block</th>\n",
       "    </tr>\n",
       "  </thead>\n",
       "  <tbody>\n",
       "    <tr>\n",
       "      <th>0</th>\n",
       "      <td>231212</td>\n",
       "      <td>0</td>\n",
       "      <td>aragorn</td>\n",
       "      <td>1</td>\n",
       "      <td>1</td>\n",
       "      <td>1</td>\n",
       "      <td>1</td>\n",
       "      <td>0</td>\n",
       "      <td>0</td>\n",
       "      <td>[9, 100, 101, 102, 103, 104, 105, 106, 107, 11...</td>\n",
       "      <td>[4.814800005988218, 2862.4538000003668, 2939.7...</td>\n",
       "      <td>_fix</td>\n",
       "      <td>[0.0]</td>\n",
       "      <td>[0.0]</td>\n",
       "      <td>_fractal_B</td>\n",
       "      <td>[0.0]</td>\n",
       "      <td>[0.0]</td>\n",
       "      <td>_fractal_B</td>\n",
       "      <td>[0.0]</td>\n",
       "      <td>[0.0]</td>\n",
       "      <td>0</td>\n",
       "      <td>0.0</td>\n",
       "      <td>0.0</td>\n",
       "      <td>0.0</td>\n",
       "      <td>0.0</td>\n",
       "      <td>0</td>\n",
       "      <td>0.0</td>\n",
       "      <td>0.0</td>\n",
       "      <td>0</td>\n",
       "      <td>0.0</td>\n",
       "      <td>0.0</td>\n",
       "      <td>0</td>\n",
       "      <td>0.0</td>\n",
       "      <td>0.0</td>\n",
       "      <td>[-19.185954376356676, -19.185954376356676, -19...</td>\n",
       "      <td>[-24.548548930891815, -24.548548930891815, -24...</td>\n",
       "      <td>[6959.0, 6959.0, 6959.0, 6959.0, 6959.0, 6924....</td>\n",
       "      <td>[0.004280381416606555, 0.003622726964232992, 0...</td>\n",
       "      <td>[3.3297108147975347, 0.005595690320483099, 0.0...</td>\n",
       "      <td>[0.01282988927112308, 0.0013209363786366723, 0...</td>\n",
       "      <td>[0.5912368886538488, 0.5632865818828963, 0.576...</td>\n",
       "      <td>0.0000</td>\n",
       "      <td>6587.0000</td>\n",
       "      <td>2023-12-12 12:52:11.930</td>\n",
       "      <td>2023-12-12 12:52:18.517</td>\n",
       "      <td>1</td>\n",
       "      <td>0</td>\n",
       "      <td>2</td>\n",
       "      <td>0</td>\n",
       "      <td>_fractal_B</td>\n",
       "      <td>0</td>\n",
       "      <td>0.0</td>\n",
       "      <td>0</td>\n",
       "      <td>0.0</td>\n",
       "      <td>2862</td>\n",
       "      <td>2939</td>\n",
       "      <td>4164</td>\n",
       "      <td>4192</td>\n",
       "      <td>4509</td>\n",
       "      <td>4910</td>\n",
       "      <td>6398</td>\n",
       "      <td>6419</td>\n",
       "      <td>&lt;NA&gt;</td>\n",
       "      <td>&lt;NA&gt;</td>\n",
       "      <td>6450</td>\n",
       "      <td>6486</td>\n",
       "      <td>&lt;NA&gt;</td>\n",
       "      <td>6536</td>\n",
       "      <td>0.0</td>\n",
       "      <td>0.0</td>\n",
       "      <td>0.0</td>\n",
       "      <td>0.0</td>\n",
       "      <td>[0, 0, 0, 0, 0, 0, 0, 0, 0, 0, 0, 0, 0, 0, 0, ...</td>\n",
       "      <td>[1, 1, 1, 1, 1, 1, 1, 1, 1, 1, 1, 1, 1, 1, 1, ...</td>\n",
       "      <td>6586</td>\n",
       "      <td>0</td>\n",
       "      <td>[1, 1, 1, 1, 1, 1, 1, 1, 1, 1, 1, 1, 1, 1, 1, ...</td>\n",
       "      <td>[0, 0, 0, 0, 0, 0, 0, 0, 0, 0, 0, 0, 0, 0, 0, ...</td>\n",
       "      <td>[6423.0, 6423.0, 6422.0, 6422.0, 6422.0, 6422....</td>\n",
       "      <td>[0, 0, 0, 0, 0, 0, 0, 0, 0, 0, 0, 0, 0, 0, 0, ...</td>\n",
       "      <td>[0, 0, 0, 0, 0, 0, 0, 0, 0, 0, 0, 0, 0, 0, 0, ...</td>\n",
       "      <td>0.093846</td>\n",
       "      <td>1.0</td>\n",
       "      <td>[2103, 3075, 4735, 5064, 5921, 6395]</td>\n",
       "      <td>[2209, 3618, 4935, 5072, 6080, 6586]</td>\n",
       "      <td>[0.0, 0.0, 0.0, 0.0, 0.0, 0.0, 0.0, 0.0, 0.0, ...</td>\n",
       "      <td>[0.0, 0.0, 0.0, 0.0, 0.0, 0.0, 0.0, 0.0, 0.0, ...</td>\n",
       "      <td>0.124615</td>\n",
       "      <td>[7488.0, 7485.0, 7485.0, 7485.0, 7494.0, 7494....</td>\n",
       "      <td>1.0</td>\n",
       "      <td>1.0</td>\n",
       "      <td>0.689</td>\n",
       "      <td>0.093846</td>\n",
       "      <td>0.630769</td>\n",
       "      <td>103.706955</td>\n",
       "      <td>[772, 780, 788, 797, 805, 813, 822, 830, 838, ...</td>\n",
       "      <td>1</td>\n",
       "    </tr>\n",
       "    <tr>\n",
       "      <th>1</th>\n",
       "      <td>231212</td>\n",
       "      <td>0</td>\n",
       "      <td>aragorn</td>\n",
       "      <td>2</td>\n",
       "      <td>1</td>\n",
       "      <td>1</td>\n",
       "      <td>1</td>\n",
       "      <td>0</td>\n",
       "      <td>0</td>\n",
       "      <td>[9, 100, 101, 102, 103, 104, 105, 106, 107, 11...</td>\n",
       "      <td>[1464.8955000011483, 1587.390900007449, 1620.4...</td>\n",
       "      <td>_fix</td>\n",
       "      <td>[0.0]</td>\n",
       "      <td>[0.0]</td>\n",
       "      <td>_fractal_D</td>\n",
       "      <td>[0.0]</td>\n",
       "      <td>[0.0]</td>\n",
       "      <td>_fractal_D</td>\n",
       "      <td>[0.0]</td>\n",
       "      <td>[0.0]</td>\n",
       "      <td>0</td>\n",
       "      <td>0.0</td>\n",
       "      <td>0.0</td>\n",
       "      <td>0.0</td>\n",
       "      <td>0.0</td>\n",
       "      <td>0</td>\n",
       "      <td>0.0</td>\n",
       "      <td>0.0</td>\n",
       "      <td>0</td>\n",
       "      <td>0.0</td>\n",
       "      <td>0.0</td>\n",
       "      <td>0</td>\n",
       "      <td>0.0</td>\n",
       "      <td>0.0</td>\n",
       "      <td>[109.48164008498311, 109.48164008498311, 109.4...</td>\n",
       "      <td>[130.10102043570407, 130.10102043570407, 130.1...</td>\n",
       "      <td>[0.0, 0.0, 0.0, 0.0, 0.0, 0.0, 0.0, 0.0, 0.0, ...</td>\n",
       "      <td>[4.993253583238723, 5.000816651868958, 4.98864...</td>\n",
       "      <td>[0.00658217199762956, 3.3214901198699804, 3.31...</td>\n",
       "      <td>[3.323791914438004, 3.323791914438004, 3.33003...</td>\n",
       "      <td>[2.2011747300544053, 2.0897022768327114, 2.284...</td>\n",
       "      <td>6586.8456</td>\n",
       "      <td>11248.8456</td>\n",
       "      <td>2023-12-12 12:52:18.517</td>\n",
       "      <td>2023-12-12 12:52:23.179</td>\n",
       "      <td>1</td>\n",
       "      <td>0</td>\n",
       "      <td>4</td>\n",
       "      <td>0</td>\n",
       "      <td>_fractal_D</td>\n",
       "      <td>0</td>\n",
       "      <td>0.0</td>\n",
       "      <td>0</td>\n",
       "      <td>0.0</td>\n",
       "      <td>1587</td>\n",
       "      <td>1620</td>\n",
       "      <td>2307</td>\n",
       "      <td>2338</td>\n",
       "      <td>2655</td>\n",
       "      <td>3039</td>\n",
       "      <td>4526</td>\n",
       "      <td>4547</td>\n",
       "      <td>&lt;NA&gt;</td>\n",
       "      <td>&lt;NA&gt;</td>\n",
       "      <td>4559</td>\n",
       "      <td>4593</td>\n",
       "      <td>&lt;NA&gt;</td>\n",
       "      <td>4645</td>\n",
       "      <td>0.0</td>\n",
       "      <td>0.0</td>\n",
       "      <td>0.0</td>\n",
       "      <td>0.0</td>\n",
       "      <td>[1, 1, 1, 1, 1, 1, 1, 1, 1, 1, 1, 1, 1, 1, 1, ...</td>\n",
       "      <td>[1, 1, 1, 1, 1, 1, 1, 1, 1, 1, 1, 1, 1, 1, 1, ...</td>\n",
       "      <td>4663</td>\n",
       "      <td>1</td>\n",
       "      <td>[0, 0, 0, 0, 0, 0, 0, 0, 0, 0, 0, 0, 0, 0, 0, ...</td>\n",
       "      <td>[0, 0, 0, 0, 0, 0, 0, 0, 0, 0, 0, 0, 0, 0, 0, ...</td>\n",
       "      <td>[5865.0, 5865.0, 5865.0, 5865.0, 5865.0, 5865....</td>\n",
       "      <td>[1, 1, 1, 1, 1, 1, 1, 1, 1, 1, 1, 1, 1, 1, 1, ...</td>\n",
       "      <td>[0, 0, 0, 0, 0, 0, 0, 0, 0, 0, 0, 0, 0, 0, 0, ...</td>\n",
       "      <td>0.000000</td>\n",
       "      <td>0.0</td>\n",
       "      <td>[1, 605]</td>\n",
       "      <td>[436, 700]</td>\n",
       "      <td>[0.0, 1.0, 1.0, 1.0, 1.0, 1.0, 1.0, 1.0, 1.0, ...</td>\n",
       "      <td>[0.0, 0.0, 0.0, 0.0, 0.0, 0.0, 0.0, 0.0, 0.0, ...</td>\n",
       "      <td>0.000000</td>\n",
       "      <td>[6824.0, 6824.0, 6824.0, 6824.0, 6807.0, 6807....</td>\n",
       "      <td>1.0</td>\n",
       "      <td>1.0</td>\n",
       "      <td>0.374</td>\n",
       "      <td>0.000000</td>\n",
       "      <td>0.280000</td>\n",
       "      <td>72.313289</td>\n",
       "      <td>[1, 10, 18, 26, 35, 43, 51, 60, 68, 76, 85, 93...</td>\n",
       "      <td>1</td>\n",
       "    </tr>\n",
       "    <tr>\n",
       "      <th>2</th>\n",
       "      <td>231212</td>\n",
       "      <td>0</td>\n",
       "      <td>aragorn</td>\n",
       "      <td>3</td>\n",
       "      <td>1</td>\n",
       "      <td>1</td>\n",
       "      <td>0</td>\n",
       "      <td>1</td>\n",
       "      <td>4</td>\n",
       "      <td>[9, 100, 101, 102, 103, 104, 113, 18]</td>\n",
       "      <td>[1498.7583000038285, 1600.7229999959236, 1633....</td>\n",
       "      <td>_fix</td>\n",
       "      <td>[0.0]</td>\n",
       "      <td>[0.0]</td>\n",
       "      <td>_fractal_A</td>\n",
       "      <td>[0.0]</td>\n",
       "      <td>[0.0]</td>\n",
       "      <td>_fractal_A</td>\n",
       "      <td>[0.0]</td>\n",
       "      <td>[0.0]</td>\n",
       "      <td>0</td>\n",
       "      <td>0.0</td>\n",
       "      <td>0.0</td>\n",
       "      <td>0.0</td>\n",
       "      <td>0.0</td>\n",
       "      <td>0</td>\n",
       "      <td>0.0</td>\n",
       "      <td>0.0</td>\n",
       "      <td>0</td>\n",
       "      <td>0.0</td>\n",
       "      <td>0.0</td>\n",
       "      <td>0</td>\n",
       "      <td>0.0</td>\n",
       "      <td>0.0</td>\n",
       "      <td>[-1.9205451347796556, -1.9330166168518232, -1....</td>\n",
       "      <td>[-5.171249027928454, -5.170768647387971, -5.17...</td>\n",
       "      <td>[6780.0, 6780.0, 6780.0, 6780.0, 6780.0, 6790....</td>\n",
       "      <td>[4.997857190211159, 4.986677001956704, 4.99522...</td>\n",
       "      <td>[3.3152423918025193, 3.3080081804393298, 0.003...</td>\n",
       "      <td>[3.3162288751771523, 3.331026125996718, 3.3221...</td>\n",
       "      <td>[1.823023379953743, 1.4590116885050954, 1.0795...</td>\n",
       "      <td>11248.9589</td>\n",
       "      <td>15688.9589</td>\n",
       "      <td>2023-12-12 12:52:23.179</td>\n",
       "      <td>2023-12-12 12:52:27.619</td>\n",
       "      <td>1</td>\n",
       "      <td>0</td>\n",
       "      <td>1</td>\n",
       "      <td>0</td>\n",
       "      <td>_error</td>\n",
       "      <td>0</td>\n",
       "      <td>0.0</td>\n",
       "      <td>0</td>\n",
       "      <td>0.0</td>\n",
       "      <td>1600</td>\n",
       "      <td>1633</td>\n",
       "      <td>2352</td>\n",
       "      <td>2368</td>\n",
       "      <td>2685</td>\n",
       "      <td>&lt;NA&gt;</td>\n",
       "      <td>&lt;NA&gt;</td>\n",
       "      <td>&lt;NA&gt;</td>\n",
       "      <td>&lt;NA&gt;</td>\n",
       "      <td>&lt;NA&gt;</td>\n",
       "      <td>&lt;NA&gt;</td>\n",
       "      <td>&lt;NA&gt;</td>\n",
       "      <td>&lt;NA&gt;</td>\n",
       "      <td>4423</td>\n",
       "      <td>0.0</td>\n",
       "      <td>0.0</td>\n",
       "      <td>0.0</td>\n",
       "      <td>0.0</td>\n",
       "      <td>[1, 1, 1, 1, 1, 1, 1, 1, 1, 1, 1, 1, 1, 1, 1, ...</td>\n",
       "      <td>[0, 0, 0, 0, 0, 0, 0, 0, 0, 0, 0, 0, 0, 0, 0, ...</td>\n",
       "      <td>4439</td>\n",
       "      <td>2</td>\n",
       "      <td>NaN</td>\n",
       "      <td>NaN</td>\n",
       "      <td>NaN</td>\n",
       "      <td>[0, 0, 0, 0, 0, 0, 0, 0, 0, 0, 0, 0, 0, 0, 0, ...</td>\n",
       "      <td>NaN</td>\n",
       "      <td>NaN</td>\n",
       "      <td>NaN</td>\n",
       "      <td>[nan]</td>\n",
       "      <td>[nan]</td>\n",
       "      <td>[nan]</td>\n",
       "      <td>[nan]</td>\n",
       "      <td>NaN</td>\n",
       "      <td>[7717.0, 7717.0, 7717.0, 7649.0, 7649.0, 7649....</td>\n",
       "      <td>NaN</td>\n",
       "      <td>NaN</td>\n",
       "      <td>NaN</td>\n",
       "      <td>NaN</td>\n",
       "      <td>NaN</td>\n",
       "      <td>NaN</td>\n",
       "      <td>[6, 14, 23, 31, 39, 48, 56, 64, 73, 81, 89, 98...</td>\n",
       "      <td>0</td>\n",
       "    </tr>\n",
       "    <tr>\n",
       "      <th>3</th>\n",
       "      <td>231212</td>\n",
       "      <td>0</td>\n",
       "      <td>aragorn</td>\n",
       "      <td>4</td>\n",
       "      <td>1</td>\n",
       "      <td>1</td>\n",
       "      <td>0</td>\n",
       "      <td>1</td>\n",
       "      <td>4</td>\n",
       "      <td>[9, 100, 101, 102, 103, 104, 113, 18]</td>\n",
       "      <td>[1499.4447000062792, 1591.7214000073727, 1625....</td>\n",
       "      <td>_fix</td>\n",
       "      <td>[0.0]</td>\n",
       "      <td>[0.0]</td>\n",
       "      <td>_fractal_D</td>\n",
       "      <td>[0.0]</td>\n",
       "      <td>[0.0]</td>\n",
       "      <td>_fractal_D</td>\n",
       "      <td>[0.0]</td>\n",
       "      <td>[0.0]</td>\n",
       "      <td>0</td>\n",
       "      <td>0.0</td>\n",
       "      <td>0.0</td>\n",
       "      <td>0.0</td>\n",
       "      <td>0.0</td>\n",
       "      <td>0</td>\n",
       "      <td>0.0</td>\n",
       "      <td>0.0</td>\n",
       "      <td>0</td>\n",
       "      <td>0.0</td>\n",
       "      <td>0.0</td>\n",
       "      <td>0</td>\n",
       "      <td>0.0</td>\n",
       "      <td>0.0</td>\n",
       "      <td>[22.140937436917294, 22.140937436917294, 22.14...</td>\n",
       "      <td>[-6.588136235382706, -6.588136235382706, -6.58...</td>\n",
       "      <td>[6795.0, 6795.0, 6753.0, 6734.0, 6734.0, 6713....</td>\n",
       "      <td>[0.007568653674124515, 0.0072398264486985275, ...</td>\n",
       "      <td>[3.342863926923519, 3.344508065960268, 3.32181...</td>\n",
       "      <td>[3.3224766032551636, 3.3178730141385713, 3.317...</td>\n",
       "      <td>[0.5718360875050253, 0.5869621358665832, 0.582...</td>\n",
       "      <td>15688.2649</td>\n",
       "      <td>20006.2649</td>\n",
       "      <td>2023-12-12 12:52:27.619</td>\n",
       "      <td>2023-12-12 12:52:31.937</td>\n",
       "      <td>1</td>\n",
       "      <td>0</td>\n",
       "      <td>4</td>\n",
       "      <td>0</td>\n",
       "      <td>_error</td>\n",
       "      <td>0</td>\n",
       "      <td>0.0</td>\n",
       "      <td>0</td>\n",
       "      <td>0.0</td>\n",
       "      <td>1591</td>\n",
       "      <td>1625</td>\n",
       "      <td>2335</td>\n",
       "      <td>2351</td>\n",
       "      <td>2679</td>\n",
       "      <td>&lt;NA&gt;</td>\n",
       "      <td>&lt;NA&gt;</td>\n",
       "      <td>&lt;NA&gt;</td>\n",
       "      <td>&lt;NA&gt;</td>\n",
       "      <td>&lt;NA&gt;</td>\n",
       "      <td>&lt;NA&gt;</td>\n",
       "      <td>&lt;NA&gt;</td>\n",
       "      <td>&lt;NA&gt;</td>\n",
       "      <td>4298</td>\n",
       "      <td>0.0</td>\n",
       "      <td>0.0</td>\n",
       "      <td>0.0</td>\n",
       "      <td>0.0</td>\n",
       "      <td>[0, 0, 0, 0, 0, 0, 0, 0, 0, 0, 0, 0, 0, 0, 0, ...</td>\n",
       "      <td>[1, 1, 1, 1, 1, 1, 1, 1, 1, 1, 1, 1, 1, 1, 1, ...</td>\n",
       "      <td>4318</td>\n",
       "      <td>3</td>\n",
       "      <td>NaN</td>\n",
       "      <td>NaN</td>\n",
       "      <td>NaN</td>\n",
       "      <td>[0, 0, 0, 0, 0, 0, 0, 0, 0, 0, 0, 0, 0, 0, 0, ...</td>\n",
       "      <td>NaN</td>\n",
       "      <td>NaN</td>\n",
       "      <td>NaN</td>\n",
       "      <td>[nan]</td>\n",
       "      <td>[nan]</td>\n",
       "      <td>[nan]</td>\n",
       "      <td>[nan]</td>\n",
       "      <td>NaN</td>\n",
       "      <td>[7079.0, 7079.0, 7084.0, 7084.0, 7121.0, 7121....</td>\n",
       "      <td>NaN</td>\n",
       "      <td>NaN</td>\n",
       "      <td>NaN</td>\n",
       "      <td>NaN</td>\n",
       "      <td>NaN</td>\n",
       "      <td>NaN</td>\n",
       "      <td>[8, 16, 24, 33, 41, 49, 58, 66, 74, 83, 91, 99...</td>\n",
       "      <td>0</td>\n",
       "    </tr>\n",
       "    <tr>\n",
       "      <th>4</th>\n",
       "      <td>231212</td>\n",
       "      <td>0</td>\n",
       "      <td>aragorn</td>\n",
       "      <td>5</td>\n",
       "      <td>1</td>\n",
       "      <td>1</td>\n",
       "      <td>0</td>\n",
       "      <td>1</td>\n",
       "      <td>4</td>\n",
       "      <td>[9, 100, 101, 102, 103, 104, 113, 18]</td>\n",
       "      <td>[1500.5889000021853, 1611.819400000968, 1644.8...</td>\n",
       "      <td>_fix</td>\n",
       "      <td>[0.0]</td>\n",
       "      <td>[0.0]</td>\n",
       "      <td>_fractal_C</td>\n",
       "      <td>[0.0]</td>\n",
       "      <td>[0.0]</td>\n",
       "      <td>_fractal_C</td>\n",
       "      <td>[0.0]</td>\n",
       "      <td>[0.0]</td>\n",
       "      <td>0</td>\n",
       "      <td>0.0</td>\n",
       "      <td>0.0</td>\n",
       "      <td>0.0</td>\n",
       "      <td>0.0</td>\n",
       "      <td>0</td>\n",
       "      <td>0.0</td>\n",
       "      <td>0.0</td>\n",
       "      <td>0</td>\n",
       "      <td>0.0</td>\n",
       "      <td>0.0</td>\n",
       "      <td>0</td>\n",
       "      <td>0.0</td>\n",
       "      <td>0.0</td>\n",
       "      <td>[-10.213688292771982, -10.213688292771982, -10...</td>\n",
       "      <td>[-21.111890031092162, -21.111890031092162, -21...</td>\n",
       "      <td>[6276.0, 6276.0, 6276.0, 6291.0, 6291.0, 6303....</td>\n",
       "      <td>[0.0072398264486985275, 0.002965072511568939, ...</td>\n",
       "      <td>[3.3366161986264764, 3.307350524865284, 0.0042...</td>\n",
       "      <td>[3.3142559084295504, 3.311296458320617, 3.3165...</td>\n",
       "      <td>[0.5925521972028582, 0.5869621358665832, 0.570...</td>\n",
       "      <td>20006.6776</td>\n",
       "      <td>36164.6776</td>\n",
       "      <td>2023-12-12 12:52:31.937</td>\n",
       "      <td>2023-12-12 12:52:48.095</td>\n",
       "      <td>1</td>\n",
       "      <td>0</td>\n",
       "      <td>3</td>\n",
       "      <td>0</td>\n",
       "      <td>_error</td>\n",
       "      <td>0</td>\n",
       "      <td>0.0</td>\n",
       "      <td>0</td>\n",
       "      <td>0.0</td>\n",
       "      <td>1611</td>\n",
       "      <td>1644</td>\n",
       "      <td>14237</td>\n",
       "      <td>14251</td>\n",
       "      <td>14568</td>\n",
       "      <td>&lt;NA&gt;</td>\n",
       "      <td>&lt;NA&gt;</td>\n",
       "      <td>&lt;NA&gt;</td>\n",
       "      <td>&lt;NA&gt;</td>\n",
       "      <td>&lt;NA&gt;</td>\n",
       "      <td>&lt;NA&gt;</td>\n",
       "      <td>&lt;NA&gt;</td>\n",
       "      <td>&lt;NA&gt;</td>\n",
       "      <td>16139</td>\n",
       "      <td>0.0</td>\n",
       "      <td>0.0</td>\n",
       "      <td>0.0</td>\n",
       "      <td>0.0</td>\n",
       "      <td>[0, 0, 0, 0, 0, 0, 0, 0, 0, 0, 0, 0, 0, 0, 0, ...</td>\n",
       "      <td>[1, 1, 1, 1, 1, 1, 1, 1, 1, 1, 1, 1, 1, 1, 1, ...</td>\n",
       "      <td>16157</td>\n",
       "      <td>4</td>\n",
       "      <td>NaN</td>\n",
       "      <td>NaN</td>\n",
       "      <td>NaN</td>\n",
       "      <td>[0, 0, 0, 0, 0, 0, 0, 0, 0, 0, 0, 0, 0, 0, 0, ...</td>\n",
       "      <td>NaN</td>\n",
       "      <td>NaN</td>\n",
       "      <td>NaN</td>\n",
       "      <td>[nan]</td>\n",
       "      <td>[nan]</td>\n",
       "      <td>[nan]</td>\n",
       "      <td>[nan]</td>\n",
       "      <td>NaN</td>\n",
       "      <td>[7736.0, 7736.0, 7736.0, 7739.0, 7739.0, 7743....</td>\n",
       "      <td>NaN</td>\n",
       "      <td>NaN</td>\n",
       "      <td>NaN</td>\n",
       "      <td>NaN</td>\n",
       "      <td>NaN</td>\n",
       "      <td>NaN</td>\n",
       "      <td>[6, 15, 23, 31, 40, 48, 56, 65, 73, 81, 90, 98...</td>\n",
       "      <td>0</td>\n",
       "    </tr>\n",
       "  </tbody>\n",
       "</table>\n",
       "</div>"
      ],
      "text/plain": [
       "     date  session_num  subject  trial_num  block  condition  correct  error  \\\n",
       "0  231212            0  aragorn          1      1          1        1      0   \n",
       "1  231212            0  aragorn          2      1          1        1      0   \n",
       "2  231212            0  aragorn          3      1          1        0      1   \n",
       "3  231212            0  aragorn          4      1          1        0      1   \n",
       "4  231212            0  aragorn          5      1          1        0      1   \n",
       "\n",
       "   error_type                            behavioral_code_markers  \\\n",
       "0           0  [9, 100, 101, 102, 103, 104, 105, 106, 107, 11...   \n",
       "1           0  [9, 100, 101, 102, 103, 104, 105, 106, 107, 11...   \n",
       "2           4              [9, 100, 101, 102, 103, 104, 113, 18]   \n",
       "3           4              [9, 100, 101, 102, 103, 104, 113, 18]   \n",
       "4           4              [9, 100, 101, 102, 103, 104, 113, 18]   \n",
       "\n",
       "                               behavioral_code_times stimuli_name_0 x_0_pos  \\\n",
       "0  [4.814800005988218, 2862.4538000003668, 2939.7...           _fix   [0.0]   \n",
       "1  [1464.8955000011483, 1587.390900007449, 1620.4...           _fix   [0.0]   \n",
       "2  [1498.7583000038285, 1600.7229999959236, 1633....           _fix   [0.0]   \n",
       "3  [1499.4447000062792, 1591.7214000073727, 1625....           _fix   [0.0]   \n",
       "4  [1500.5889000021853, 1611.819400000968, 1644.8...           _fix   [0.0]   \n",
       "\n",
       "  y_0_pos stimuli_name_1 x_1_pos y_1_pos stimuli_name_2 x_2_pos y_2_pos  \\\n",
       "0   [0.0]     _fractal_B   [0.0]   [0.0]     _fractal_B   [0.0]   [0.0]   \n",
       "1   [0.0]     _fractal_D   [0.0]   [0.0]     _fractal_D   [0.0]   [0.0]   \n",
       "2   [0.0]     _fractal_A   [0.0]   [0.0]     _fractal_A   [0.0]   [0.0]   \n",
       "3   [0.0]     _fractal_D   [0.0]   [0.0]     _fractal_D   [0.0]   [0.0]   \n",
       "4   [0.0]     _fractal_C   [0.0]   [0.0]     _fractal_C   [0.0]   [0.0]   \n",
       "\n",
       "   reward_1  reward_prob_1  reward_mag_1  reward_drops_1  reward_length_1  \\\n",
       "0         0            0.0           0.0             0.0              0.0   \n",
       "1         0            0.0           0.0             0.0              0.0   \n",
       "2         0            0.0           0.0             0.0              0.0   \n",
       "3         0            0.0           0.0             0.0              0.0   \n",
       "4         0            0.0           0.0             0.0              0.0   \n",
       "\n",
       "   reward_2  reward_prob_2  reward_mag_2  airpuff_1  airpuff_prob_1  \\\n",
       "0         0            0.0           0.0          0             0.0   \n",
       "1         0            0.0           0.0          0             0.0   \n",
       "2         0            0.0           0.0          0             0.0   \n",
       "3         0            0.0           0.0          0             0.0   \n",
       "4         0            0.0           0.0          0             0.0   \n",
       "\n",
       "   airpuff_mag_1  airpuff_2  airpuff_prob_2  airpuff_mag_2  \\\n",
       "0            0.0          0             0.0            0.0   \n",
       "1            0.0          0             0.0            0.0   \n",
       "2            0.0          0             0.0            0.0   \n",
       "3            0.0          0             0.0            0.0   \n",
       "4            0.0          0             0.0            0.0   \n",
       "\n",
       "                                               eye_x  \\\n",
       "0  [-19.185954376356676, -19.185954376356676, -19...   \n",
       "1  [109.48164008498311, 109.48164008498311, 109.4...   \n",
       "2  [-1.9205451347796556, -1.9330166168518232, -1....   \n",
       "3  [22.140937436917294, 22.140937436917294, 22.14...   \n",
       "4  [-10.213688292771982, -10.213688292771982, -10...   \n",
       "\n",
       "                                               eye_y  \\\n",
       "0  [-24.548548930891815, -24.548548930891815, -24...   \n",
       "1  [130.10102043570407, 130.10102043570407, 130.1...   \n",
       "2  [-5.171249027928454, -5.170768647387971, -5.17...   \n",
       "3  [-6.588136235382706, -6.588136235382706, -6.58...   \n",
       "4  [-21.111890031092162, -21.111890031092162, -21...   \n",
       "\n",
       "                                           eye_pupil  \\\n",
       "0  [6959.0, 6959.0, 6959.0, 6959.0, 6959.0, 6924....   \n",
       "1  [0.0, 0.0, 0.0, 0.0, 0.0, 0.0, 0.0, 0.0, 0.0, ...   \n",
       "2  [6780.0, 6780.0, 6780.0, 6780.0, 6780.0, 6790....   \n",
       "3  [6795.0, 6795.0, 6753.0, 6734.0, 6734.0, 6713....   \n",
       "4  [6276.0, 6276.0, 6276.0, 6291.0, 6291.0, 6303....   \n",
       "\n",
       "                                                lick  \\\n",
       "0  [0.004280381416606555, 0.003622726964232992, 0...   \n",
       "1  [4.993253583238723, 5.000816651868958, 4.98864...   \n",
       "2  [4.997857190211159, 4.986677001956704, 4.99522...   \n",
       "3  [0.007568653674124515, 0.0072398264486985275, ...   \n",
       "4  [0.0072398264486985275, 0.002965072511568939, ...   \n",
       "\n",
       "                                            cam_sync  \\\n",
       "0  [3.3297108147975347, 0.005595690320483099, 0.0...   \n",
       "1  [0.00658217199762956, 3.3214901198699804, 3.31...   \n",
       "2  [3.3152423918025193, 3.3080081804393298, 0.003...   \n",
       "3  [3.342863926923519, 3.344508065960268, 3.32181...   \n",
       "4  [3.3366161986264764, 3.307350524865284, 0.0042...   \n",
       "\n",
       "                                            cam_save  \\\n",
       "0  [0.01282988927112308, 0.0013209363786366723, 0...   \n",
       "1  [3.323791914438004, 3.323791914438004, 3.33003...   \n",
       "2  [3.3162288751771523, 3.331026125996718, 3.3221...   \n",
       "3  [3.3224766032551636, 3.3178730141385713, 3.317...   \n",
       "4  [3.3142559084295504, 3.311296458320617, 3.3165...   \n",
       "\n",
       "                                          photodiode  trial_start   trial_end  \\\n",
       "0  [0.5912368886538488, 0.5632865818828963, 0.576...       0.0000   6587.0000   \n",
       "1  [2.2011747300544053, 2.0897022768327114, 2.284...    6586.8456  11248.8456   \n",
       "2  [1.823023379953743, 1.4590116885050954, 1.0795...   11248.9589  15688.9589   \n",
       "3  [0.5718360875050253, 0.5869621358665832, 0.582...   15688.2649  20006.2649   \n",
       "4  [0.5925521972028582, 0.5869621358665832, 0.570...   20006.6776  36164.6776   \n",
       "\n",
       "     trial_datetime_start      trial_datetime_end  reinforcement_trial  \\\n",
       "0 2023-12-12 12:52:11.930 2023-12-12 12:52:18.517                    1   \n",
       "1 2023-12-12 12:52:18.517 2023-12-12 12:52:23.179                    1   \n",
       "2 2023-12-12 12:52:23.179 2023-12-12 12:52:27.619                    1   \n",
       "3 2023-12-12 12:52:27.619 2023-12-12 12:52:31.937                    1   \n",
       "4 2023-12-12 12:52:31.937 2023-12-12 12:52:48.095                    1   \n",
       "\n",
       "   choice_trial  stim_chosen  stim_2_chosen fractal_chosen  reward  \\\n",
       "0             0            2              0     _fractal_B       0   \n",
       "1             0            4              0     _fractal_D       0   \n",
       "2             0            1              0         _error       0   \n",
       "3             0            4              0         _error       0   \n",
       "4             0            3              0         _error       0   \n",
       "\n",
       "   reward_mag  airpuff  airpuff_mag  Start Trial  Fixation On  \\\n",
       "0         0.0        0          0.0         2862         2939   \n",
       "1         0.0        0          0.0         1587         1620   \n",
       "2         0.0        0          0.0         1600         1633   \n",
       "3         0.0        0          0.0         1591         1625   \n",
       "4         0.0        0          0.0         1611         1644   \n",
       "\n",
       "  Fixation Success  CS On Fixation Off Trace Start Trace End Outcome Start  \\\n",
       "0             4164   4192         4509        4910      6398          6419   \n",
       "1             2307   2338         2655        3039      4526          4547   \n",
       "2             2352   2368         2685        <NA>      <NA>          <NA>   \n",
       "3             2335   2351         2679        <NA>      <NA>          <NA>   \n",
       "4            14237  14251        14568        <NA>      <NA>          <NA>   \n",
       "\n",
       "  Reward Trigger Airpuff Trigger Outcome Outcome End Manual Reward  End Trial  \\\n",
       "0           <NA>            <NA>    6450        6486          <NA>       6536   \n",
       "1           <NA>            <NA>    4559        4593          <NA>       4645   \n",
       "2           <NA>            <NA>    <NA>        <NA>          <NA>       4423   \n",
       "3           <NA>            <NA>    <NA>        <NA>          <NA>       4298   \n",
       "4           <NA>            <NA>    <NA>        <NA>          <NA>      16139   \n",
       "\n",
       "   valence  valence_1  valence_2  valence_not_chosen  \\\n",
       "0      0.0        0.0        0.0                 0.0   \n",
       "1      0.0        0.0        0.0                 0.0   \n",
       "2      0.0        0.0        0.0                 0.0   \n",
       "3      0.0        0.0        0.0                 0.0   \n",
       "4      0.0        0.0        0.0                 0.0   \n",
       "\n",
       "                                         lick_raster  \\\n",
       "0  [0, 0, 0, 0, 0, 0, 0, 0, 0, 0, 0, 0, 0, 0, 0, ...   \n",
       "1  [1, 1, 1, 1, 1, 1, 1, 1, 1, 1, 1, 1, 1, 1, 1, ...   \n",
       "2  [1, 1, 1, 1, 1, 1, 1, 1, 1, 1, 1, 1, 1, 1, 1, ...   \n",
       "3  [0, 0, 0, 0, 0, 0, 0, 0, 0, 0, 0, 0, 0, 0, 0, ...   \n",
       "4  [0, 0, 0, 0, 0, 0, 0, 0, 0, 0, 0, 0, 0, 0, 0, ...   \n",
       "\n",
       "                                          DEM_raster  trial_bins  \\\n",
       "0  [1, 1, 1, 1, 1, 1, 1, 1, 1, 1, 1, 1, 1, 1, 1, ...        6586   \n",
       "1  [1, 1, 1, 1, 1, 1, 1, 1, 1, 1, 1, 1, 1, 1, 1, ...        4663   \n",
       "2  [0, 0, 0, 0, 0, 0, 0, 0, 0, 0, 0, 0, 0, 0, 0, ...        4439   \n",
       "3  [1, 1, 1, 1, 1, 1, 1, 1, 1, 1, 1, 1, 1, 1, 1, ...        4318   \n",
       "4  [1, 1, 1, 1, 1, 1, 1, 1, 1, 1, 1, 1, 1, 1, 1, ...       16157   \n",
       "\n",
       "   trial_in_block                                  lick_count_window  \\\n",
       "0               0  [1, 1, 1, 1, 1, 1, 1, 1, 1, 1, 1, 1, 1, 1, 1, ...   \n",
       "1               1  [0, 0, 0, 0, 0, 0, 0, 0, 0, 0, 0, 0, 0, 0, 0, ...   \n",
       "2               2                                                NaN   \n",
       "3               3                                                NaN   \n",
       "4               4                                                NaN   \n",
       "\n",
       "                                  blink_count_window  \\\n",
       "0  [0, 0, 0, 0, 0, 0, 0, 0, 0, 0, 0, 0, 0, 0, 0, ...   \n",
       "1  [0, 0, 0, 0, 0, 0, 0, 0, 0, 0, 0, 0, 0, 0, 0, ...   \n",
       "2                                                NaN   \n",
       "3                                                NaN   \n",
       "4                                                NaN   \n",
       "\n",
       "                                   pupil_data_window  \\\n",
       "0  [6423.0, 6423.0, 6422.0, 6422.0, 6422.0, 6422....   \n",
       "1  [5865.0, 5865.0, 5865.0, 5865.0, 5865.0, 5865....   \n",
       "2                                                NaN   \n",
       "3                                                NaN   \n",
       "4                                                NaN   \n",
       "\n",
       "                                        pupil_raster  \\\n",
       "0  [0, 0, 0, 0, 0, 0, 0, 0, 0, 0, 0, 0, 0, 0, 0, ...   \n",
       "1  [1, 1, 1, 1, 1, 1, 1, 1, 1, 1, 1, 1, 1, 1, 1, ...   \n",
       "2  [0, 0, 0, 0, 0, 0, 0, 0, 0, 0, 0, 0, 0, 0, 0, ...   \n",
       "3  [0, 0, 0, 0, 0, 0, 0, 0, 0, 0, 0, 0, 0, 0, 0, ...   \n",
       "4  [0, 0, 0, 0, 0, 0, 0, 0, 0, 0, 0, 0, 0, 0, 0, ...   \n",
       "\n",
       "                                 pupil_raster_window  pupil_raster_window_avg  \\\n",
       "0  [0, 0, 0, 0, 0, 0, 0, 0, 0, 0, 0, 0, 0, 0, 0, ...                 0.093846   \n",
       "1  [0, 0, 0, 0, 0, 0, 0, 0, 0, 0, 0, 0, 0, 0, 0, ...                 0.000000   \n",
       "2                                                NaN                      NaN   \n",
       "3                                                NaN                      NaN   \n",
       "4                                                NaN                      NaN   \n",
       "\n",
       "   pupil_binary_zero                           blink_onset  \\\n",
       "0                1.0  [2103, 3075, 4735, 5064, 5921, 6395]   \n",
       "1                0.0                              [1, 605]   \n",
       "2                NaN                                 [nan]   \n",
       "3                NaN                                 [nan]   \n",
       "4                NaN                                 [nan]   \n",
       "\n",
       "                           blink_offset  \\\n",
       "0  [2209, 3618, 4935, 5072, 6080, 6586]   \n",
       "1                            [436, 700]   \n",
       "2                                 [nan]   \n",
       "3                                 [nan]   \n",
       "4                                 [nan]   \n",
       "\n",
       "                                        blink_raster  \\\n",
       "0  [0.0, 0.0, 0.0, 0.0, 0.0, 0.0, 0.0, 0.0, 0.0, ...   \n",
       "1  [0.0, 1.0, 1.0, 1.0, 1.0, 1.0, 1.0, 1.0, 1.0, ...   \n",
       "2                                              [nan]   \n",
       "3                                              [nan]   \n",
       "4                                              [nan]   \n",
       "\n",
       "                                 blink_raster_window  blink_duration_window  \\\n",
       "0  [0.0, 0.0, 0.0, 0.0, 0.0, 0.0, 0.0, 0.0, 0.0, ...               0.124615   \n",
       "1  [0.0, 0.0, 0.0, 0.0, 0.0, 0.0, 0.0, 0.0, 0.0, ...               0.000000   \n",
       "2                                              [nan]                    NaN   \n",
       "3                                              [nan]                    NaN   \n",
       "4                                              [nan]                    NaN   \n",
       "\n",
       "                                        pupil_pre_CS  lick_in_window  \\\n",
       "0  [7488.0, 7485.0, 7485.0, 7485.0, 7494.0, 7494....             1.0   \n",
       "1  [6824.0, 6824.0, 6824.0, 6824.0, 6807.0, 6807....             1.0   \n",
       "2  [7717.0, 7717.0, 7717.0, 7649.0, 7649.0, 7649....             NaN   \n",
       "3  [7079.0, 7079.0, 7084.0, 7084.0, 7121.0, 7121....             NaN   \n",
       "4  [7736.0, 7736.0, 7736.0, 7739.0, 7739.0, 7743....             NaN   \n",
       "\n",
       "   blink_in_window  lick_duration  blink_duration_sig  \\\n",
       "0              1.0          0.689            0.093846   \n",
       "1              1.0          0.374            0.000000   \n",
       "2              NaN            NaN                 NaN   \n",
       "3              NaN            NaN                 NaN   \n",
       "4              NaN            NaN                 NaN   \n",
       "\n",
       "   blink_duration_offscreen  eye_distance  \\\n",
       "0                  0.630769    103.706955   \n",
       "1                  0.280000     72.313289   \n",
       "2                       NaN           NaN   \n",
       "3                       NaN           NaN   \n",
       "4                       NaN           NaN   \n",
       "\n",
       "                                          cam_frames  fractal_count_in_block  \n",
       "0  [772, 780, 788, 797, 805, 813, 822, 830, 838, ...                       1  \n",
       "1  [1, 10, 18, 26, 35, 43, 51, 60, 68, 76, 85, 93...                       1  \n",
       "2  [6, 14, 23, 31, 39, 48, 56, 64, 73, 81, 89, 98...                       0  \n",
       "3  [8, 16, 24, 33, 41, 49, 58, 66, 74, 83, 91, 99...                       0  \n",
       "4  [6, 15, 23, 31, 40, 48, 56, 65, 73, 81, 90, 98...                       0  "
      ]
     },
     "execution_count": 48,
     "metadata": {},
     "output_type": "execute_result"
    }
   ],
   "source": [
    "session_obj.df.head()"
   ]
  },
  {
   "cell_type": "code",
   "execution_count": 38,
   "metadata": {},
   "outputs": [
    {
     "name": "stdout",
     "output_type": "stream",
     "text": [
      "Saving .pickle files to: C:/Users/rober/SynologyDrive/Rob/gandalf_20231214_g0\n",
      "  Pickling 231214_gandalf_UnityVR_behave.pkl\n",
      "  Total time to pickle: 1.6065 sec\n"
     ]
    }
   ],
   "source": [
    "import pickle\n",
    "from config.h5_helper import pickler\n",
    "\n",
    "pickler(True, os.path.dirname(file_container_obj.ml_file_path), \n",
    "        session_obj.df, 'gandalf', 'UnityVR', error_dict, behavioral_code_dict)"
   ]
  },
  {
   "cell_type": "markdown",
   "metadata": {},
   "source": [
    "*** \n",
    "## Process SpikeGLX\n",
    "\n",
    "Assign `signal_dict` channels manually based on how you set up the PXI board. `epochs` are the MonkeyLogic eventcodes within `session_obj.df` distinguishing epochs in the task that you will reference later to break up videos based on."
   ]
  },
  {
   "cell_type": "code",
   "execution_count": 49,
   "metadata": {},
   "outputs": [
    {
     "name": "stdout",
     "output_type": "stream",
     "text": [
      "Epochs:\n",
      "  Start Trial\n",
      "  Fixation On\n",
      "  CS On\n",
      "  Trace Start\n",
      "  Outcome Start\n",
      "  End Trial\n"
     ]
    }
   ],
   "source": [
    "# Manually assign the signal channel numbers\n",
    "# from how you set them up on the NI PXIe-6341 board\n",
    "signal_dict = {\n",
    "  0: 'cam_sync',\n",
    "  1: 'cam_save',\n",
    "  2: 'lick',\n",
    "  3: 'photodiode',\n",
    "}\n",
    "\n",
    "# Manually assign the time epochs you care about\n",
    "# which have to exist as rows in session_df\n",
    "if session_obj.monkey in ['aragorn', 'bear']:\n",
    "  epochs = ['Start Trial', 'Fixation On', 'CS On',\t\n",
    "          'Trace Start', 'Outcome Start', 'End Trial']\n",
    "else:\n",
    "  epochs = ['Start trial', 'End trial']\n",
    "print('Epochs:')\n",
    "# Print each epoch on its own line\n",
    "for epoch in epochs:\n",
    "  print(f'  {epoch}')"
   ]
  },
  {
   "cell_type": "markdown",
   "metadata": {},
   "source": [
    "### Peek at SpikeGLX Analog Data\n",
    "Always view the data you are working with before doing any type of analysis. Calling `read_SGLX` prompts a file selection tool (choose the .bin file that **must have the .meta file in the same directory as is the default for SpikeGLX output**), and `plot_channels_raw` allows for visualization of a window specified by [tStart - tEnd] **seconds**. "
   ]
  },
  {
   "cell_type": "code",
   "execution_count": 50,
   "metadata": {},
   "outputs": [
    {
     "name": "stdout",
     "output_type": "stream",
     "text": [
      "Reading SGLX meta and bin files...\n",
      "Select binary file\n",
      "Bin File Path: C:\\Users\\rober\\SynologyDrive\\Rahim\\aragorn_20231212\\aragorn_2023112_g1\\aragorn_2023112_g1_t0.nidq.bin\n",
      "File Name: D://aragorn_2023112_g1/aragorn_2023112_g1_t0.nidq.bin\n",
      "  Number of Channels: 9\n",
      "  File Created: 2023-12-12T12:52:07\n",
      "  File Length: 7168.9690151920695\n",
      "nChan: 9, nFileSamp: 14337914\n",
      " Complete.\n",
      "Plotting channels...\n",
      "  SpikeGLX object missing attributes (meta, chan_dict, signal_dict)\n",
      "  Using input arguments instead.\n",
      "Sample Rate:  1999.996648\n",
      " Channel [0]: cam_sync\n",
      "  Max Val: 3342.896\n",
      "  Min Val: -5.493\n",
      " Channel [1]: cam_save\n",
      "  Max Val: 3357.849\n",
      "  Min Val: -10.986\n",
      " Channel [2]: lick\n",
      "  Max Val: 5007.019\n",
      "  Min Val: -22.583\n",
      " Channel [3]: photodiode\n",
      "  Max Val: 2286.072\n",
      "  Min Val: 536.194\n",
      " Channel [4]: empty\n",
      " Channel [5]: empty\n",
      " Channel [6]: empty\n",
      " Channel [7]: empty\n",
      " Channel [8]: empty\n"
     ]
    },
    {
     "data": {
      "image/png": "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",
      "text/plain": [
       "<Figure size 1000x200 with 1 Axes>"
      ]
     },
     "metadata": {},
     "output_type": "display_data"
    }
   ],
   "source": [
    "from spike_glx.read_SGLX import read_SGLX, plot_channels_raw\n",
    "\n",
    "print('Reading SGLX meta and bin files...')\n",
    "meta, chan_dict = read_SGLX()\n",
    "print(' Complete.')\n",
    "print('Plotting channels...')\n",
    "plot_channels_raw(None, meta, chan_dict, signal_dict, tStart=0, tEnd=20)"
   ]
  },
  {
   "cell_type": "code",
   "execution_count": 51,
   "metadata": {},
   "outputs": [
    {
     "data": {
      "image/png": "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",
      "text/plain": [
       "<Figure size 1500x300 with 1 Axes>"
      ]
     },
     "metadata": {},
     "output_type": "display_data"
    }
   ],
   "source": [
    "from spike_glx.read_SGLX import plot_analog_ML\n",
    "# epochs = ['Start Trial', 'Fixation On', 'CS On',\t\n",
    "#           'Trace Start', 'Outcome Start', 'End Trial']\n",
    "plot_analog_ML(session_obj.df, epochs, trial_num=1)"
   ]
  },
  {
   "cell_type": "code",
   "execution_count": 52,
   "metadata": {},
   "outputs": [
    {
     "name": "stdout",
     "output_type": "stream",
     "text": [
      "Created new session folder: c:\\Users\\rober\\Desktop\\Monkey-Emotions\\_data\\aragorn_231212\n",
      "Pickled spikeglx_obj not found for: aragorn_231212\n",
      "Generating new spikeglx_obj...\n",
      "  Looking for SpikeGLX binary and meta file in:\n",
      "  C:/Users/rober/SynologyDrive/Rahim/aragorn_20231212\n",
      "Looking for binary file in C:/Users/rober/SynologyDrive/Rahim/aragorn_20231212\n"
     ]
    },
    {
     "ename": "UnboundLocalError",
     "evalue": "local variable 'spikeglx_folder' referenced before assignment",
     "output_type": "error",
     "traceback": [
      "\u001b[1;31m---------------------------------------------------------------------------\u001b[0m",
      "\u001b[1;31mUnboundLocalError\u001b[0m                         Traceback (most recent call last)",
      "Cell \u001b[1;32mIn[52], line 4\u001b[0m\n\u001b[0;32m      1\u001b[0m \u001b[38;5;28;01mfrom\u001b[39;00m \u001b[38;5;21;01mspike_glx\u001b[39;00m\u001b[38;5;21;01m.\u001b[39;00m\u001b[38;5;21;01mload_SGLX\u001b[39;00m \u001b[38;5;28;01mimport\u001b[39;00m load_sglx\n\u001b[0;32m      3\u001b[0m \u001b[38;5;66;03m# Load the spikeglx object\u001b[39;00m\n\u001b[1;32m----> 4\u001b[0m spikeglx_obj \u001b[38;5;241m=\u001b[39m \u001b[43mload_sglx\u001b[49m\u001b[43m(\u001b[49m\u001b[43msession_obj\u001b[49m\u001b[38;5;241;43m.\u001b[39;49m\u001b[43mdf\u001b[49m\u001b[43m,\u001b[49m\u001b[43m \u001b[49m\n\u001b[0;32m      5\u001b[0m \u001b[43m                         \u001b[49m\u001b[43msession_obj\u001b[49m\u001b[43m,\u001b[49m\u001b[43m \u001b[49m\n\u001b[0;32m      6\u001b[0m \u001b[43m                         \u001b[49m\u001b[43mfile_container_obj\u001b[49m\u001b[43m,\u001b[49m\u001b[43m \u001b[49m\n\u001b[0;32m      7\u001b[0m \u001b[43m                         \u001b[49m\u001b[43msignal_dict\u001b[49m\u001b[43m,\u001b[49m\u001b[43m \u001b[49m\n\u001b[0;32m      8\u001b[0m \u001b[43m                         \u001b[49m\u001b[43mepochs\u001b[49m\u001b[43m)\u001b[49m\n",
      "File \u001b[1;32mc:\\Users\\rober\\Desktop\\Monkey-Emotions\\spike_glx\\load_SGLX.py:61\u001b[0m, in \u001b[0;36mload_sglx\u001b[1;34m(session_df, session_obj, file_container_obj, signal_dict, epochs)\u001b[0m\n\u001b[0;32m     59\u001b[0m \u001b[38;5;28mprint\u001b[39m(\u001b[38;5;124mf\u001b[39m\u001b[38;5;124m'\u001b[39m\u001b[38;5;124m  Looking for SpikeGLX binary and meta file in:\u001b[39m\u001b[38;5;130;01m\\n\u001b[39;00m\u001b[38;5;124m  \u001b[39m\u001b[38;5;132;01m{\u001b[39;00msglx_dir_path\u001b[38;5;132;01m}\u001b[39;00m\u001b[38;5;124m'\u001b[39m)\n\u001b[0;32m     60\u001b[0m \u001b[38;5;66;03m# Create SpikeGLX object\u001b[39;00m\n\u001b[1;32m---> 61\u001b[0m spikeglx_obj \u001b[38;5;241m=\u001b[39m \u001b[43mSpikeGLX\u001b[49m\u001b[43m(\u001b[49m\u001b[43msglx_dir_path\u001b[49m\u001b[43m,\u001b[49m\u001b[43m \u001b[49m\n\u001b[0;32m     62\u001b[0m \u001b[43m                        \u001b[49m\u001b[43mmonkey_name\u001b[49m\u001b[43m,\u001b[49m\u001b[43m \u001b[49m\n\u001b[0;32m     63\u001b[0m \u001b[43m                        \u001b[49m\u001b[43mdate_str\u001b[49m\u001b[43m,\u001b[49m\u001b[43m \u001b[49m\n\u001b[0;32m     64\u001b[0m \u001b[43m                        \u001b[49m\u001b[43msglx_wm_path\u001b[49m\u001b[43m,\u001b[49m\u001b[43m \u001b[49m\n\u001b[0;32m     65\u001b[0m \u001b[43m                        \u001b[49m\u001b[43msignal_dict\u001b[49m\u001b[43m)\u001b[49m\n\u001b[0;32m     66\u001b[0m \u001b[38;5;28mprint\u001b[39m(\u001b[38;5;124m'\u001b[39m\u001b[38;5;124mSpikeGLX object created.\u001b[39m\u001b[38;5;124m'\u001b[39m)\n\u001b[0;32m     67\u001b[0m \u001b[38;5;28mprint\u001b[39m(\u001b[38;5;124m'\u001b[39m\u001b[38;5;124mAligning photodiode signals from ML and SpikeGLX...\u001b[39m\u001b[38;5;124m'\u001b[39m)\n",
      "File \u001b[1;32mc:\\Users\\rober\\Desktop\\Monkey-Emotions\\classes\\SpikeGLX.py:75\u001b[0m, in \u001b[0;36mSpikeGLX.__init__\u001b[1;34m(self, sglx_path, monkey_name, date, video_path, signal_dict)\u001b[0m\n\u001b[0;32m     72\u001b[0m \u001b[38;5;28mself\u001b[39m\u001b[38;5;241m.\u001b[39mtrial_missing_videos \u001b[38;5;241m=\u001b[39m defaultdict(\u001b[38;5;28mlist\u001b[39m)\n\u001b[0;32m     74\u001b[0m \u001b[38;5;28;01mif\u001b[39;00m sglx_path \u001b[38;5;129;01mis\u001b[39;00m \u001b[38;5;129;01mnot\u001b[39;00m \u001b[38;5;28;01mNone\u001b[39;00m \u001b[38;5;129;01mand\u001b[39;00m monkey_name \u001b[38;5;129;01mis\u001b[39;00m \u001b[38;5;129;01mnot\u001b[39;00m \u001b[38;5;28;01mNone\u001b[39;00m \u001b[38;5;129;01mand\u001b[39;00m date \u001b[38;5;129;01mis\u001b[39;00m \u001b[38;5;129;01mnot\u001b[39;00m \u001b[38;5;28;01mNone\u001b[39;00m:\n\u001b[1;32m---> 75\u001b[0m   \u001b[38;5;28;43mself\u001b[39;49m\u001b[38;5;241;43m.\u001b[39;49m\u001b[43m_find_SGLX\u001b[49m\u001b[43m(\u001b[49m\u001b[43m)\u001b[49m\n\u001b[0;32m     76\u001b[0m \u001b[38;5;28;01mif\u001b[39;00m \u001b[38;5;28mself\u001b[39m\u001b[38;5;241m.\u001b[39mbin_file_path \u001b[38;5;129;01mis\u001b[39;00m \u001b[38;5;129;01mnot\u001b[39;00m \u001b[38;5;28;01mNone\u001b[39;00m:\n\u001b[0;32m     77\u001b[0m   \u001b[38;5;28mself\u001b[39m\u001b[38;5;241m.\u001b[39m_load_spikeglx(signal_dict)\n",
      "File \u001b[1;32mc:\\Users\\rober\\Desktop\\Monkey-Emotions\\classes\\SpikeGLX.py:133\u001b[0m, in \u001b[0;36mSpikeGLX._find_SGLX\u001b[1;34m(self)\u001b[0m\n\u001b[0;32m    131\u001b[0m spikeglx_bin \u001b[38;5;241m=\u001b[39m \u001b[38;5;28;01mNone\u001b[39;00m\n\u001b[0;32m    132\u001b[0m spikeglx_meta \u001b[38;5;241m=\u001b[39m \u001b[38;5;28;01mNone\u001b[39;00m\n\u001b[1;32m--> 133\u001b[0m \u001b[38;5;28mprint\u001b[39m(\u001b[38;5;124mf\u001b[39m\u001b[38;5;124m'\u001b[39m\u001b[38;5;124mFound folder: \u001b[39m\u001b[38;5;132;01m{\u001b[39;00mspikeglx_folder\u001b[38;5;132;01m}\u001b[39;00m\u001b[38;5;124m'\u001b[39m)\n\u001b[0;32m    134\u001b[0m \u001b[38;5;66;03m# find .bin file\u001b[39;00m\n\u001b[0;32m    135\u001b[0m \u001b[38;5;28;01mfor\u001b[39;00m file \u001b[38;5;129;01min\u001b[39;00m os\u001b[38;5;241m.\u001b[39mlistdir(os\u001b[38;5;241m.\u001b[39mpath\u001b[38;5;241m.\u001b[39mjoin(\u001b[38;5;28mself\u001b[39m\u001b[38;5;241m.\u001b[39msglx_file_path, spikeglx_folder)):\n",
      "\u001b[1;31mUnboundLocalError\u001b[0m: local variable 'spikeglx_folder' referenced before assignment"
     ]
    }
   ],
   "source": [
    "from spike_glx.load_SGLX import load_sglx\n",
    "\n",
    "# Load the spikeglx object\n",
    "spikeglx_obj = load_sglx(session_obj.df, \n",
    "                         session_obj, \n",
    "                         file_container_obj, \n",
    "                         signal_dict, \n",
    "                         epochs)"
   ]
  },
  {
   "cell_type": "markdown",
   "metadata": {},
   "source": [
    "### ML-SpikeGLX Session Correlation\n",
    "To see just the correlation matrix for each trial in a session, run `plot_spikeglx_ml_corr` with the newly-generated `spikeglx_obj`."
   ]
  },
  {
   "cell_type": "code",
   "execution_count": 14,
   "metadata": {},
   "outputs": [
    {
     "data": {
      "image/png": "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",
      "text/plain": [
       "<Figure size 1500x800 with 2 Axes>"
      ]
     },
     "metadata": {},
     "output_type": "display_data"
    }
   ],
   "source": [
    "from spike_glx.read_SGLX import plot_spikeglx_ml_corr\n",
    "plot_spikeglx_ml_corr(spikeglx_obj.ml_sglx_corr_matrix, 100)"
   ]
  },
  {
   "cell_type": "markdown",
   "metadata": {},
   "source": [
    "***\n",
    "## Process White Matter Videos\n",
    "\n",
    "After generating a `SpikeGLX` object, you can segment all the White Matter videos by trial."
   ]
  },
  {
   "cell_type": "code",
   "execution_count": 14,
   "metadata": {},
   "outputs": [
    {
     "name": "stdout",
     "output_type": "stream",
     "text": [
      "Video Parsing Complete.\n",
      "  Missing Videos: defaultdict(<class 'list'>, {'e3v831b': [74, 135, 214, 281], 'e3v8360': [74, 135, 214, 281], 'e3v83ad': [74, 135, 214, 281], 'e3v83d6': [74, 135, 214, 281]})\n"
     ]
    }
   ],
   "source": [
    "from video.wm_videos import parse_wm_videos\n",
    "\n",
    "if session_obj.monkey == 'gandalf':\n",
    "  epoch_start = 'start'\n",
    "  epoch_end = 'end'\n",
    "else:\n",
    "  epoch_start = 'Trace Start'\n",
    "  epoch_end = 'Outcome Start'\n",
    "\n",
    "kwargs = {'spikeglx_obj': spikeglx_obj,       # 'spikeglx_obj': spikeglx_obj\n",
    "          'session_obj': session_obj,         # 'session_obj': session_obj\n",
    "          'trial_start': 0,                   # 'trial_start': 0 \n",
    "          'trial_end': len(session_obj.df),   # 'trial_end': len(session_obj.df)\n",
    "          'epoch_start': epoch_start,         # 'epoch_start': 'start'\n",
    "          'epoch_end': epoch_end,             # 'epoch_end': 'end'   \n",
    "          'thread_flag': False}               # 'thread_flag': False\n",
    "\n",
    "parse_wm_videos(**kwargs)"
   ]
  },
  {
   "cell_type": "markdown",
   "metadata": {},
   "source": [
    "***\n",
    "## DeepLabCut"
   ]
  },
  {
   "cell_type": "code",
   "execution_count": 15,
   "metadata": {},
   "outputs": [
    {
     "name": "stdout",
     "output_type": "stream",
     "text": [
      "Loading DLC 2.3.7...\n"
     ]
    }
   ],
   "source": [
    "import deeplabcut\n",
    "\n",
    "camera_dict = {\n",
    "  'e3v8360':'face_1', \n",
    "  'e3v83d6':'face_2',\n",
    "  'e3v83ad':'body_1',\n",
    "  'e3v831b':'body_2'\n",
    "}"
   ]
  },
  {
   "cell_type": "code",
   "execution_count": 16,
   "metadata": {},
   "outputs": [
    {
     "name": "stdout",
     "output_type": "stream",
     "text": [
      "Checking for video files...\n",
      "  Video directory: c:\\Users\\rober\\Desktop\\Monkey-Emotions\\video\\gandalf_231205\n"
     ]
    },
    {
     "data": {
      "application/vnd.jupyter.widget-view+json": {
       "model_id": "69dab0262f03482f81c8ee57a613fb7d",
       "version_major": 2,
       "version_minor": 0
      },
      "text/plain": [
       "  0%|          | 0/1124 [00:00<?, ?it/s]"
      ]
     },
     "metadata": {},
     "output_type": "display_data"
    },
    {
     "name": "stdout",
     "output_type": "stream",
     "text": [
      "  Camera: e3v831b | Number of videos: 281\n",
      "  Camera: e3v8360 | Number of videos: 281\n",
      "  Camera: e3v83ad | Number of videos: 281\n",
      "  Camera: e3v83d6 | Number of videos: 281\n"
     ]
    }
   ],
   "source": [
    "from dlc_primate.dlc_utils import dlc_config, dlc_downsample\n",
    "video_dir = os.path.join(os.getcwd(), 'video', session_obj.monkey + '_' + session_obj.date)\n",
    "dlc_video_path_dict = dlc_config.get_trial_video_list(video_dir, camera_dict)\n",
    "# dlc_video_path_dict = spikeglx_obj.video_file_paths"
   ]
  },
  {
   "cell_type": "code",
   "execution_count": 17,
   "metadata": {},
   "outputs": [
    {
     "name": "stdout",
     "output_type": "stream",
     "text": [
      "Checking frame size...\n",
      "   Pixel width x height: 640x480\n",
      "No need to downsample videos\n",
      "Initializing Project...\n",
      "  Project name: body_2\n",
      "  Model: full_macaque\n",
      "  Initilization Videos: ['c:\\\\Users\\\\rober\\\\Desktop\\\\Monkey-Emotions\\\\video\\\\gandalf_231205\\\\gandalf_231205_0_e3v831b.mp4']\n",
      "Created \"231205_gandalf\\body_2-rh-2023-12-06\\videos\"\n",
      "Created \"231205_gandalf\\body_2-rh-2023-12-06\\labeled-data\"\n",
      "Created \"231205_gandalf\\body_2-rh-2023-12-06\\training-datasets\"\n",
      "Created \"231205_gandalf\\body_2-rh-2023-12-06\\dlc-models\"\n",
      "Copying the videos\n",
      "231205_gandalf\\body_2-rh-2023-12-06\\videos\\gandalf_231205_0_e3v831b.mp4\n",
      "Generated \"231205_gandalf\\body_2-rh-2023-12-06\\config.yaml\"\n",
      "\n",
      "A new project with name body_2-rh-2023-12-06 is created at 231205_gandalf and a configurable file (config.yaml) is stored there. Change the parameters in this file to adapt to your project's needs.\n",
      " Once you have changed the configuration file, use the function 'extract_frames' to select frames for labeling.\n",
      ". [OPTIONAL] Use the function 'add_new_videos' to add new videos to your project (at any stage).\n",
      "Downloading weights...\n",
      "Loading.... full_macaque\n"
     ]
    },
    {
     "data": {
      "application/vnd.jupyter.widget-view+json": {
       "model_id": "60d4f053014d49daa194dd721dc25c52",
       "version_major": 2,
       "version_minor": 0
      },
      "text/plain": [
       "DLC_macaque_full_resnet50.tar.gz:   0%|          | 0.00/182M [00:00<?, ?B/s]"
      ]
     },
     "metadata": {},
     "output_type": "display_data"
    },
    {
     "name": "stderr",
     "output_type": "stream",
     "text": [
      "c:\\Users\\rober\\anaconda3\\envs\\DEEPLABCUT\\lib\\site-packages\\huggingface_hub\\file_download.py:138: UserWarning: `huggingface_hub` cache-system uses symlinks by default to efficiently store duplicated files but your machine does not support them in C:\\Users\\rober\\Desktop\\Monkey-Emotions\\231205_gandalf\\body_2-rh-2023-12-06\\dlc-models\\iteration-0\\body_2Dec6-trainset95shuffle1\\train. Caching files will still work but in a degraded version that might require more space on your disk. This warning can be disabled by setting the `HF_HUB_DISABLE_SYMLINKS_WARNING` environment variable. For more details, see https://huggingface.co/docs/huggingface_hub/how-to-cache#limitations.\n",
      "To support symlinks on Windows, you either need to activate Developer Mode or to run Python as an administrator. In order to see activate developer mode, see this article: https://docs.microsoft.com/en-us/windows/apps/get-started/enable-your-device-for-development\n",
      "  warnings.warn(message)\n"
     ]
    },
    {
     "name": "stdout",
     "output_type": "stream",
     "text": [
      "231205_gandalf\\body_2-rh-2023-12-06\\dlc-models\\iteration-0\\body_2Dec6-trainset95shuffle1\\train\\pose_cfg.yaml\n",
      "Analyzing video...\n",
      "Using snapshot-1030000 for model 231205_gandalf\\body_2-rh-2023-12-06\\dlc-models\\iteration-0\\body_2Dec6-trainset95shuffle1\n"
     ]
    },
    {
     "name": "stderr",
     "output_type": "stream",
     "text": [
      "c:\\Users\\rober\\anaconda3\\envs\\DEEPLABCUT\\lib\\site-packages\\tensorflow\\python\\keras\\engine\\base_layer_v1.py:1694: UserWarning: `layer.apply` is deprecated and will be removed in a future version. Please use `layer.__call__` method instead.\n",
      "  warnings.warn('`layer.apply` is deprecated and '\n"
     ]
    },
    {
     "name": "stdout",
     "output_type": "stream",
     "text": [
      "Analyzing all the videos in the directory...\n",
      "Starting to analyze %  231205_gandalf\\body_2-rh-2023-12-06\\videos\\gandalf_231205_0_e3v831b.mp4\n",
      "Loading  231205_gandalf\\body_2-rh-2023-12-06\\videos\\gandalf_231205_0_e3v831b.mp4\n",
      "Duration of video [s]:  12.9 , recorded with  120.0 fps!\n",
      "Overall # of frames:  1548  found with (before cropping) frame dimensions:  640 480\n",
      "Starting to extract posture\n"
     ]
    },
    {
     "name": "stderr",
     "output_type": "stream",
     "text": [
      "100%|██████████| 1548/1548 [05:41<00:00,  4.54it/s]\n"
     ]
    },
    {
     "name": "stdout",
     "output_type": "stream",
     "text": [
      "Saving results in 231205_gandalf\\body_2-rh-2023-12-06\\videos...\n",
      "Saving csv poses!\n",
      "The videos are analyzed. Now your research can truly start! \n",
      " You can create labeled videos with 'create_labeled_video'\n",
      "If the tracking is not satisfactory for some videos, consider expanding the training set. You can use the function 'extract_outlier_frames' to extract a few representative outlier frames.\n",
      "Checking frame size...\n",
      "   Pixel width x height: 640x480\n",
      "No need to downsample videos\n",
      "Initializing Project...\n",
      "  Project name: face_1\n",
      "  Model: primate_face\n",
      "  Initilization Videos: ['c:\\\\Users\\\\rober\\\\Desktop\\\\Monkey-Emotions\\\\video\\\\gandalf_231205\\\\gandalf_231205_0_e3v8360.mp4']\n",
      "Created \"C:\\Users\\rober\\Desktop\\Monkey-Emotions\\231205_gandalf\\face_1-rh-2023-12-06\\videos\"\n",
      "Created \"C:\\Users\\rober\\Desktop\\Monkey-Emotions\\231205_gandalf\\face_1-rh-2023-12-06\\labeled-data\"\n",
      "Created \"C:\\Users\\rober\\Desktop\\Monkey-Emotions\\231205_gandalf\\face_1-rh-2023-12-06\\training-datasets\"\n",
      "Created \"C:\\Users\\rober\\Desktop\\Monkey-Emotions\\231205_gandalf\\face_1-rh-2023-12-06\\dlc-models\"\n",
      "Copying the videos\n",
      "C:\\Users\\rober\\Desktop\\Monkey-Emotions\\231205_gandalf\\face_1-rh-2023-12-06\\videos\\gandalf_231205_0_e3v8360.mp4\n",
      "Generated \"C:\\Users\\rober\\Desktop\\Monkey-Emotions\\231205_gandalf\\face_1-rh-2023-12-06\\config.yaml\"\n",
      "\n",
      "A new project with name face_1-rh-2023-12-06 is created at C:\\Users\\rober\\Desktop\\Monkey-Emotions\\231205_gandalf and a configurable file (config.yaml) is stored there. Change the parameters in this file to adapt to your project's needs.\n",
      " Once you have changed the configuration file, use the function 'extract_frames' to select frames for labeling.\n",
      ". [OPTIONAL] Use the function 'add_new_videos' to add new videos to your project (at any stage).\n",
      "Downloading weights...\n",
      "Loading.... primate_face\n"
     ]
    },
    {
     "data": {
      "application/vnd.jupyter.widget-view+json": {
       "model_id": "b003161b0f5a4011a488d836058ff43c",
       "version_major": 2,
       "version_minor": 0
      },
      "text/plain": [
       "(…)e_resnet_50_iteration-1_shuffle-1.tar.gz:   0%|          | 0.00/198M [00:00<?, ?B/s]"
      ]
     },
     "metadata": {},
     "output_type": "display_data"
    },
    {
     "name": "stderr",
     "output_type": "stream",
     "text": [
      "c:\\Users\\rober\\anaconda3\\envs\\DEEPLABCUT\\lib\\site-packages\\huggingface_hub\\file_download.py:138: UserWarning: `huggingface_hub` cache-system uses symlinks by default to efficiently store duplicated files but your machine does not support them in C:\\Users\\rober\\Desktop\\Monkey-Emotions\\231205_gandalf\\face_1-rh-2023-12-06\\dlc-models\\iteration-0\\face_1Dec6-trainset95shuffle1\\train. Caching files will still work but in a degraded version that might require more space on your disk. This warning can be disabled by setting the `HF_HUB_DISABLE_SYMLINKS_WARNING` environment variable. For more details, see https://huggingface.co/docs/huggingface_hub/how-to-cache#limitations.\n",
      "To support symlinks on Windows, you either need to activate Developer Mode or to run Python as an administrator. In order to see activate developer mode, see this article: https://docs.microsoft.com/en-us/windows/apps/get-started/enable-your-device-for-development\n",
      "  warnings.warn(message)\n"
     ]
    },
    {
     "name": "stdout",
     "output_type": "stream",
     "text": [
      "C:\\Users\\rober\\Desktop\\Monkey-Emotions\\231205_gandalf\\face_1-rh-2023-12-06\\dlc-models\\iteration-0\\face_1Dec6-trainset95shuffle1\\train\\pose_cfg.yaml\n",
      "Analyzing video...\n",
      "Using snapshot-1030000 for model C:\\Users\\rober\\Desktop\\Monkey-Emotions\\231205_gandalf\\face_1-rh-2023-12-06\\dlc-models\\iteration-0\\face_1Dec6-trainset95shuffle1\n"
     ]
    },
    {
     "name": "stderr",
     "output_type": "stream",
     "text": [
      "c:\\Users\\rober\\anaconda3\\envs\\DEEPLABCUT\\lib\\site-packages\\tensorflow\\python\\keras\\engine\\base_layer_v1.py:1694: UserWarning: `layer.apply` is deprecated and will be removed in a future version. Please use `layer.__call__` method instead.\n",
      "  warnings.warn('`layer.apply` is deprecated and '\n"
     ]
    },
    {
     "name": "stdout",
     "output_type": "stream",
     "text": [
      "Analyzing all the videos in the directory...\n",
      "Starting to analyze %  C:\\Users\\rober\\Desktop\\Monkey-Emotions\\231205_gandalf\\face_1-rh-2023-12-06\\videos\\gandalf_231205_0_e3v8360.mp4\n",
      "Loading  C:\\Users\\rober\\Desktop\\Monkey-Emotions\\231205_gandalf\\face_1-rh-2023-12-06\\videos\\gandalf_231205_0_e3v8360.mp4\n",
      "Duration of video [s]:  12.9 , recorded with  120.0 fps!\n",
      "Overall # of frames:  1548  found with (before cropping) frame dimensions:  640 480\n",
      "Starting to extract posture\n"
     ]
    },
    {
     "name": "stderr",
     "output_type": "stream",
     "text": [
      "100%|██████████| 1548/1548 [05:54<00:00,  4.37it/s]\n"
     ]
    },
    {
     "name": "stdout",
     "output_type": "stream",
     "text": [
      "Saving results in C:\\Users\\rober\\Desktop\\Monkey-Emotions\\231205_gandalf\\face_1-rh-2023-12-06\\videos...\n",
      "Saving csv poses!\n",
      "The videos are analyzed. Now your research can truly start! \n",
      " You can create labeled videos with 'create_labeled_video'\n",
      "If the tracking is not satisfactory for some videos, consider expanding the training set. You can use the function 'extract_outlier_frames' to extract a few representative outlier frames.\n",
      "  Editing config file.\n",
      "Checking frame size...\n",
      "   Pixel width x height: 640x480\n",
      "No need to downsample videos\n",
      "Initializing Project...\n",
      "  Project name: body_1\n",
      "  Model: full_macaque\n",
      "  Initilization Videos: ['c:\\\\Users\\\\rober\\\\Desktop\\\\Monkey-Emotions\\\\video\\\\gandalf_231205\\\\gandalf_231205_0_e3v83ad.mp4']\n",
      "Created \"C:\\Users\\rober\\Desktop\\Monkey-Emotions\\231205_gandalf\\body_1-rh-2023-12-06\\videos\"\n",
      "Created \"C:\\Users\\rober\\Desktop\\Monkey-Emotions\\231205_gandalf\\body_1-rh-2023-12-06\\labeled-data\"\n",
      "Created \"C:\\Users\\rober\\Desktop\\Monkey-Emotions\\231205_gandalf\\body_1-rh-2023-12-06\\training-datasets\"\n",
      "Created \"C:\\Users\\rober\\Desktop\\Monkey-Emotions\\231205_gandalf\\body_1-rh-2023-12-06\\dlc-models\"\n",
      "Copying the videos\n",
      "C:\\Users\\rober\\Desktop\\Monkey-Emotions\\231205_gandalf\\body_1-rh-2023-12-06\\videos\\gandalf_231205_0_e3v83ad.mp4\n",
      "Generated \"C:\\Users\\rober\\Desktop\\Monkey-Emotions\\231205_gandalf\\body_1-rh-2023-12-06\\config.yaml\"\n",
      "\n",
      "A new project with name body_1-rh-2023-12-06 is created at C:\\Users\\rober\\Desktop\\Monkey-Emotions\\231205_gandalf and a configurable file (config.yaml) is stored there. Change the parameters in this file to adapt to your project's needs.\n",
      " Once you have changed the configuration file, use the function 'extract_frames' to select frames for labeling.\n",
      ". [OPTIONAL] Use the function 'add_new_videos' to add new videos to your project (at any stage).\n",
      "Downloading weights...\n",
      "Loading.... full_macaque\n"
     ]
    },
    {
     "data": {
      "application/vnd.jupyter.widget-view+json": {
       "model_id": "bed3114e6d4e4c5d84cc872dc33d1a6b",
       "version_major": 2,
       "version_minor": 0
      },
      "text/plain": [
       "DLC_macaque_full_resnet50.tar.gz:   0%|          | 0.00/182M [00:00<?, ?B/s]"
      ]
     },
     "metadata": {},
     "output_type": "display_data"
    },
    {
     "name": "stderr",
     "output_type": "stream",
     "text": [
      "c:\\Users\\rober\\anaconda3\\envs\\DEEPLABCUT\\lib\\site-packages\\huggingface_hub\\file_download.py:138: UserWarning: `huggingface_hub` cache-system uses symlinks by default to efficiently store duplicated files but your machine does not support them in C:\\Users\\rober\\Desktop\\Monkey-Emotions\\231205_gandalf\\body_1-rh-2023-12-06\\dlc-models\\iteration-0\\body_1Dec6-trainset95shuffle1\\train. Caching files will still work but in a degraded version that might require more space on your disk. This warning can be disabled by setting the `HF_HUB_DISABLE_SYMLINKS_WARNING` environment variable. For more details, see https://huggingface.co/docs/huggingface_hub/how-to-cache#limitations.\n",
      "To support symlinks on Windows, you either need to activate Developer Mode or to run Python as an administrator. In order to see activate developer mode, see this article: https://docs.microsoft.com/en-us/windows/apps/get-started/enable-your-device-for-development\n",
      "  warnings.warn(message)\n"
     ]
    },
    {
     "name": "stdout",
     "output_type": "stream",
     "text": [
      "C:\\Users\\rober\\Desktop\\Monkey-Emotions\\231205_gandalf\\body_1-rh-2023-12-06\\dlc-models\\iteration-0\\body_1Dec6-trainset95shuffle1\\train\\pose_cfg.yaml\n",
      "Analyzing video...\n",
      "Using snapshot-1030000 for model C:\\Users\\rober\\Desktop\\Monkey-Emotions\\231205_gandalf\\body_1-rh-2023-12-06\\dlc-models\\iteration-0\\body_1Dec6-trainset95shuffle1\n"
     ]
    },
    {
     "name": "stderr",
     "output_type": "stream",
     "text": [
      "c:\\Users\\rober\\anaconda3\\envs\\DEEPLABCUT\\lib\\site-packages\\tensorflow\\python\\keras\\engine\\base_layer_v1.py:1694: UserWarning: `layer.apply` is deprecated and will be removed in a future version. Please use `layer.__call__` method instead.\n",
      "  warnings.warn('`layer.apply` is deprecated and '\n"
     ]
    },
    {
     "name": "stdout",
     "output_type": "stream",
     "text": [
      "Analyzing all the videos in the directory...\n",
      "Starting to analyze %  C:\\Users\\rober\\Desktop\\Monkey-Emotions\\231205_gandalf\\body_1-rh-2023-12-06\\videos\\gandalf_231205_0_e3v83ad.mp4\n",
      "Loading  C:\\Users\\rober\\Desktop\\Monkey-Emotions\\231205_gandalf\\body_1-rh-2023-12-06\\videos\\gandalf_231205_0_e3v83ad.mp4\n",
      "Duration of video [s]:  12.9 , recorded with  120.0 fps!\n",
      "Overall # of frames:  1548  found with (before cropping) frame dimensions:  640 480\n",
      "Starting to extract posture\n"
     ]
    },
    {
     "name": "stderr",
     "output_type": "stream",
     "text": [
      "100%|██████████| 1548/1548 [05:39<00:00,  4.55it/s]\n"
     ]
    },
    {
     "name": "stdout",
     "output_type": "stream",
     "text": [
      "Saving results in C:\\Users\\rober\\Desktop\\Monkey-Emotions\\231205_gandalf\\body_1-rh-2023-12-06\\videos...\n",
      "Saving csv poses!\n",
      "The videos are analyzed. Now your research can truly start! \n",
      " You can create labeled videos with 'create_labeled_video'\n",
      "If the tracking is not satisfactory for some videos, consider expanding the training set. You can use the function 'extract_outlier_frames' to extract a few representative outlier frames.\n",
      "Checking frame size...\n",
      "   Pixel width x height: 640x480\n",
      "No need to downsample videos\n",
      "Initializing Project...\n",
      "  Project name: face_2\n",
      "  Model: primate_face\n",
      "  Initilization Videos: ['c:\\\\Users\\\\rober\\\\Desktop\\\\Monkey-Emotions\\\\video\\\\gandalf_231205\\\\gandalf_231205_0_e3v83d6.mp4']\n",
      "Created \"C:\\Users\\rober\\Desktop\\Monkey-Emotions\\231205_gandalf\\face_2-rh-2023-12-06\\videos\"\n",
      "Created \"C:\\Users\\rober\\Desktop\\Monkey-Emotions\\231205_gandalf\\face_2-rh-2023-12-06\\labeled-data\"\n",
      "Created \"C:\\Users\\rober\\Desktop\\Monkey-Emotions\\231205_gandalf\\face_2-rh-2023-12-06\\training-datasets\"\n",
      "Created \"C:\\Users\\rober\\Desktop\\Monkey-Emotions\\231205_gandalf\\face_2-rh-2023-12-06\\dlc-models\"\n",
      "Copying the videos\n",
      "C:\\Users\\rober\\Desktop\\Monkey-Emotions\\231205_gandalf\\face_2-rh-2023-12-06\\videos\\gandalf_231205_0_e3v83d6.mp4\n",
      "Generated \"C:\\Users\\rober\\Desktop\\Monkey-Emotions\\231205_gandalf\\face_2-rh-2023-12-06\\config.yaml\"\n",
      "\n",
      "A new project with name face_2-rh-2023-12-06 is created at C:\\Users\\rober\\Desktop\\Monkey-Emotions\\231205_gandalf and a configurable file (config.yaml) is stored there. Change the parameters in this file to adapt to your project's needs.\n",
      " Once you have changed the configuration file, use the function 'extract_frames' to select frames for labeling.\n",
      ". [OPTIONAL] Use the function 'add_new_videos' to add new videos to your project (at any stage).\n",
      "Downloading weights...\n",
      "Loading.... primate_face\n"
     ]
    },
    {
     "data": {
      "application/vnd.jupyter.widget-view+json": {
       "model_id": "2065afb007ee446a8049a8d83cbc2d8e",
       "version_major": 2,
       "version_minor": 0
      },
      "text/plain": [
       "(…)e_resnet_50_iteration-1_shuffle-1.tar.gz:   0%|          | 0.00/198M [00:00<?, ?B/s]"
      ]
     },
     "metadata": {},
     "output_type": "display_data"
    },
    {
     "name": "stderr",
     "output_type": "stream",
     "text": [
      "c:\\Users\\rober\\anaconda3\\envs\\DEEPLABCUT\\lib\\site-packages\\huggingface_hub\\file_download.py:138: UserWarning: `huggingface_hub` cache-system uses symlinks by default to efficiently store duplicated files but your machine does not support them in C:\\Users\\rober\\Desktop\\Monkey-Emotions\\231205_gandalf\\face_2-rh-2023-12-06\\dlc-models\\iteration-0\\face_2Dec6-trainset95shuffle1\\train. Caching files will still work but in a degraded version that might require more space on your disk. This warning can be disabled by setting the `HF_HUB_DISABLE_SYMLINKS_WARNING` environment variable. For more details, see https://huggingface.co/docs/huggingface_hub/how-to-cache#limitations.\n",
      "To support symlinks on Windows, you either need to activate Developer Mode or to run Python as an administrator. In order to see activate developer mode, see this article: https://docs.microsoft.com/en-us/windows/apps/get-started/enable-your-device-for-development\n",
      "  warnings.warn(message)\n"
     ]
    },
    {
     "name": "stdout",
     "output_type": "stream",
     "text": [
      "C:\\Users\\rober\\Desktop\\Monkey-Emotions\\231205_gandalf\\face_2-rh-2023-12-06\\dlc-models\\iteration-0\\face_2Dec6-trainset95shuffle1\\train\\pose_cfg.yaml\n",
      "Analyzing video...\n",
      "Using snapshot-1030000 for model C:\\Users\\rober\\Desktop\\Monkey-Emotions\\231205_gandalf\\face_2-rh-2023-12-06\\dlc-models\\iteration-0\\face_2Dec6-trainset95shuffle1\n"
     ]
    },
    {
     "name": "stderr",
     "output_type": "stream",
     "text": [
      "c:\\Users\\rober\\anaconda3\\envs\\DEEPLABCUT\\lib\\site-packages\\tensorflow\\python\\keras\\engine\\base_layer_v1.py:1694: UserWarning: `layer.apply` is deprecated and will be removed in a future version. Please use `layer.__call__` method instead.\n",
      "  warnings.warn('`layer.apply` is deprecated and '\n"
     ]
    },
    {
     "name": "stdout",
     "output_type": "stream",
     "text": [
      "Analyzing all the videos in the directory...\n",
      "Starting to analyze %  C:\\Users\\rober\\Desktop\\Monkey-Emotions\\231205_gandalf\\face_2-rh-2023-12-06\\videos\\gandalf_231205_0_e3v83d6.mp4\n",
      "Loading  C:\\Users\\rober\\Desktop\\Monkey-Emotions\\231205_gandalf\\face_2-rh-2023-12-06\\videos\\gandalf_231205_0_e3v83d6.mp4\n",
      "Duration of video [s]:  12.9 , recorded with  120.0 fps!\n",
      "Overall # of frames:  1548  found with (before cropping) frame dimensions:  640 480\n",
      "Starting to extract posture\n"
     ]
    },
    {
     "name": "stderr",
     "output_type": "stream",
     "text": [
      "100%|██████████| 1548/1548 [06:01<00:00,  4.29it/s]\n"
     ]
    },
    {
     "name": "stdout",
     "output_type": "stream",
     "text": [
      "Saving results in C:\\Users\\rober\\Desktop\\Monkey-Emotions\\231205_gandalf\\face_2-rh-2023-12-06\\videos...\n",
      "Saving csv poses!\n",
      "The videos are analyzed. Now your research can truly start! \n",
      " You can create labeled videos with 'create_labeled_video'\n",
      "If the tracking is not satisfactory for some videos, consider expanding the training set. You can use the function 'extract_outlier_frames' to extract a few representative outlier frames.\n",
      "  Editing config file.\n"
     ]
    }
   ],
   "source": [
    "# Custom modules\n",
    "from dlc_primate.dlc_utils import dlc_config, dlc_downsample\n",
    "\n",
    "# Initialize Project\n",
    "config_path_dict, train_config_path_dict = \\\n",
    "  dlc_config.dlc_initialize_project(dlc_video_path_dict, session_obj, camera_dict)"
   ]
  },
  {
   "cell_type": "code",
   "execution_count": 18,
   "metadata": {},
   "outputs": [
    {
     "name": "stdout",
     "output_type": "stream",
     "text": [
      "Attempting to create a symbolic link of the video ...\n",
      "Video 231205_gandalf\\body_2-rh-2023-12-06\\videos\\gandalf_231205_0_e3v831b.mp4 already exists. Skipping...\n",
      "Symlink creation impossible (exFat architecture?): copying the video instead.\n",
      "c:\\Users\\rober\\Desktop\\Monkey-Emotions\\video\\gandalf_231205\\gandalf_231205_1_e3v831b.mp4 copied to 231205_gandalf\\body_2-rh-2023-12-06\\videos\\gandalf_231205_1_e3v831b.mp4\n",
      "Symlink creation impossible (exFat architecture?): copying the video instead.\n",
      "c:\\Users\\rober\\Desktop\\Monkey-Emotions\\video\\gandalf_231205\\gandalf_231205_2_e3v831b.mp4 copied to 231205_gandalf\\body_2-rh-2023-12-06\\videos\\gandalf_231205_2_e3v831b.mp4\n",
      "Symlink creation impossible (exFat architecture?): copying the video instead.\n",
      "c:\\Users\\rober\\Desktop\\Monkey-Emotions\\video\\gandalf_231205\\gandalf_231205_3_e3v831b.mp4 copied to 231205_gandalf\\body_2-rh-2023-12-06\\videos\\gandalf_231205_3_e3v831b.mp4\n",
      "Symlink creation impossible (exFat architecture?): copying the video instead.\n",
      "c:\\Users\\rober\\Desktop\\Monkey-Emotions\\video\\gandalf_231205\\gandalf_231205_4_e3v831b.mp4 copied to 231205_gandalf\\body_2-rh-2023-12-06\\videos\\gandalf_231205_4_e3v831b.mp4\n",
      "Symlink creation impossible (exFat architecture?): copying the video instead.\n",
      "c:\\Users\\rober\\Desktop\\Monkey-Emotions\\video\\gandalf_231205\\gandalf_231205_5_e3v831b.mp4 copied to 231205_gandalf\\body_2-rh-2023-12-06\\videos\\gandalf_231205_5_e3v831b.mp4\n",
      "Symlink creation impossible (exFat architecture?): copying the video instead.\n",
      "c:\\Users\\rober\\Desktop\\Monkey-Emotions\\video\\gandalf_231205\\gandalf_231205_6_e3v831b.mp4 copied to 231205_gandalf\\body_2-rh-2023-12-06\\videos\\gandalf_231205_6_e3v831b.mp4\n",
      "Symlink creation impossible (exFat architecture?): copying the video instead.\n",
      "c:\\Users\\rober\\Desktop\\Monkey-Emotions\\video\\gandalf_231205\\gandalf_231205_7_e3v831b.mp4 copied to 231205_gandalf\\body_2-rh-2023-12-06\\videos\\gandalf_231205_7_e3v831b.mp4\n",
      "Symlink creation impossible (exFat architecture?): copying the video instead.\n",
      "c:\\Users\\rober\\Desktop\\Monkey-Emotions\\video\\gandalf_231205\\gandalf_231205_8_e3v831b.mp4 copied to 231205_gandalf\\body_2-rh-2023-12-06\\videos\\gandalf_231205_8_e3v831b.mp4\n",
      "Symlink creation impossible (exFat architecture?): copying the video instead.\n",
      "c:\\Users\\rober\\Desktop\\Monkey-Emotions\\video\\gandalf_231205\\gandalf_231205_9_e3v831b.mp4 copied to 231205_gandalf\\body_2-rh-2023-12-06\\videos\\gandalf_231205_9_e3v831b.mp4\n",
      "Symlink creation impossible (exFat architecture?): copying the video instead.\n",
      "c:\\Users\\rober\\Desktop\\Monkey-Emotions\\video\\gandalf_231205\\gandalf_231205_10_e3v831b.mp4 copied to 231205_gandalf\\body_2-rh-2023-12-06\\videos\\gandalf_231205_10_e3v831b.mp4\n",
      "Symlink creation impossible (exFat architecture?): copying the video instead.\n",
      "c:\\Users\\rober\\Desktop\\Monkey-Emotions\\video\\gandalf_231205\\gandalf_231205_11_e3v831b.mp4 copied to 231205_gandalf\\body_2-rh-2023-12-06\\videos\\gandalf_231205_11_e3v831b.mp4\n",
      "Symlink creation impossible (exFat architecture?): copying the video instead.\n",
      "c:\\Users\\rober\\Desktop\\Monkey-Emotions\\video\\gandalf_231205\\gandalf_231205_12_e3v831b.mp4 copied to 231205_gandalf\\body_2-rh-2023-12-06\\videos\\gandalf_231205_12_e3v831b.mp4\n",
      "Symlink creation impossible (exFat architecture?): copying the video instead.\n",
      "c:\\Users\\rober\\Desktop\\Monkey-Emotions\\video\\gandalf_231205\\gandalf_231205_13_e3v831b.mp4 copied to 231205_gandalf\\body_2-rh-2023-12-06\\videos\\gandalf_231205_13_e3v831b.mp4\n",
      "Symlink creation impossible (exFat architecture?): copying the video instead.\n",
      "c:\\Users\\rober\\Desktop\\Monkey-Emotions\\video\\gandalf_231205\\gandalf_231205_14_e3v831b.mp4 copied to 231205_gandalf\\body_2-rh-2023-12-06\\videos\\gandalf_231205_14_e3v831b.mp4\n",
      "Symlink creation impossible (exFat architecture?): copying the video instead.\n",
      "c:\\Users\\rober\\Desktop\\Monkey-Emotions\\video\\gandalf_231205\\gandalf_231205_15_e3v831b.mp4 copied to 231205_gandalf\\body_2-rh-2023-12-06\\videos\\gandalf_231205_15_e3v831b.mp4\n",
      "Symlink creation impossible (exFat architecture?): copying the video instead.\n",
      "c:\\Users\\rober\\Desktop\\Monkey-Emotions\\video\\gandalf_231205\\gandalf_231205_16_e3v831b.mp4 copied to 231205_gandalf\\body_2-rh-2023-12-06\\videos\\gandalf_231205_16_e3v831b.mp4\n",
      "Symlink creation impossible (exFat architecture?): copying the video instead.\n",
      "c:\\Users\\rober\\Desktop\\Monkey-Emotions\\video\\gandalf_231205\\gandalf_231205_17_e3v831b.mp4 copied to 231205_gandalf\\body_2-rh-2023-12-06\\videos\\gandalf_231205_17_e3v831b.mp4\n",
      "Symlink creation impossible (exFat architecture?): copying the video instead.\n",
      "c:\\Users\\rober\\Desktop\\Monkey-Emotions\\video\\gandalf_231205\\gandalf_231205_18_e3v831b.mp4 copied to 231205_gandalf\\body_2-rh-2023-12-06\\videos\\gandalf_231205_18_e3v831b.mp4\n",
      "Symlink creation impossible (exFat architecture?): copying the video instead.\n",
      "c:\\Users\\rober\\Desktop\\Monkey-Emotions\\video\\gandalf_231205\\gandalf_231205_19_e3v831b.mp4 copied to 231205_gandalf\\body_2-rh-2023-12-06\\videos\\gandalf_231205_19_e3v831b.mp4\n",
      "Symlink creation impossible (exFat architecture?): copying the video instead.\n",
      "c:\\Users\\rober\\Desktop\\Monkey-Emotions\\video\\gandalf_231205\\gandalf_231205_20_e3v831b.mp4 copied to 231205_gandalf\\body_2-rh-2023-12-06\\videos\\gandalf_231205_20_e3v831b.mp4\n",
      "Symlink creation impossible (exFat architecture?): copying the video instead.\n",
      "c:\\Users\\rober\\Desktop\\Monkey-Emotions\\video\\gandalf_231205\\gandalf_231205_21_e3v831b.mp4 copied to 231205_gandalf\\body_2-rh-2023-12-06\\videos\\gandalf_231205_21_e3v831b.mp4\n",
      "Symlink creation impossible (exFat architecture?): copying the video instead.\n",
      "c:\\Users\\rober\\Desktop\\Monkey-Emotions\\video\\gandalf_231205\\gandalf_231205_22_e3v831b.mp4 copied to 231205_gandalf\\body_2-rh-2023-12-06\\videos\\gandalf_231205_22_e3v831b.mp4\n",
      "Symlink creation impossible (exFat architecture?): copying the video instead.\n",
      "c:\\Users\\rober\\Desktop\\Monkey-Emotions\\video\\gandalf_231205\\gandalf_231205_23_e3v831b.mp4 copied to 231205_gandalf\\body_2-rh-2023-12-06\\videos\\gandalf_231205_23_e3v831b.mp4\n",
      "Symlink creation impossible (exFat architecture?): copying the video instead.\n",
      "c:\\Users\\rober\\Desktop\\Monkey-Emotions\\video\\gandalf_231205\\gandalf_231205_24_e3v831b.mp4 copied to 231205_gandalf\\body_2-rh-2023-12-06\\videos\\gandalf_231205_24_e3v831b.mp4\n",
      "Symlink creation impossible (exFat architecture?): copying the video instead.\n",
      "c:\\Users\\rober\\Desktop\\Monkey-Emotions\\video\\gandalf_231205\\gandalf_231205_25_e3v831b.mp4 copied to 231205_gandalf\\body_2-rh-2023-12-06\\videos\\gandalf_231205_25_e3v831b.mp4\n",
      "Symlink creation impossible (exFat architecture?): copying the video instead.\n",
      "c:\\Users\\rober\\Desktop\\Monkey-Emotions\\video\\gandalf_231205\\gandalf_231205_26_e3v831b.mp4 copied to 231205_gandalf\\body_2-rh-2023-12-06\\videos\\gandalf_231205_26_e3v831b.mp4\n",
      "Symlink creation impossible (exFat architecture?): copying the video instead.\n",
      "c:\\Users\\rober\\Desktop\\Monkey-Emotions\\video\\gandalf_231205\\gandalf_231205_27_e3v831b.mp4 copied to 231205_gandalf\\body_2-rh-2023-12-06\\videos\\gandalf_231205_27_e3v831b.mp4\n",
      "Symlink creation impossible (exFat architecture?): copying the video instead.\n",
      "c:\\Users\\rober\\Desktop\\Monkey-Emotions\\video\\gandalf_231205\\gandalf_231205_28_e3v831b.mp4 copied to 231205_gandalf\\body_2-rh-2023-12-06\\videos\\gandalf_231205_28_e3v831b.mp4\n",
      "Symlink creation impossible (exFat architecture?): copying the video instead.\n",
      "c:\\Users\\rober\\Desktop\\Monkey-Emotions\\video\\gandalf_231205\\gandalf_231205_29_e3v831b.mp4 copied to 231205_gandalf\\body_2-rh-2023-12-06\\videos\\gandalf_231205_29_e3v831b.mp4\n",
      "Symlink creation impossible (exFat architecture?): copying the video instead.\n",
      "c:\\Users\\rober\\Desktop\\Monkey-Emotions\\video\\gandalf_231205\\gandalf_231205_30_e3v831b.mp4 copied to 231205_gandalf\\body_2-rh-2023-12-06\\videos\\gandalf_231205_30_e3v831b.mp4\n",
      "Symlink creation impossible (exFat architecture?): copying the video instead.\n",
      "c:\\Users\\rober\\Desktop\\Monkey-Emotions\\video\\gandalf_231205\\gandalf_231205_31_e3v831b.mp4 copied to 231205_gandalf\\body_2-rh-2023-12-06\\videos\\gandalf_231205_31_e3v831b.mp4\n",
      "Symlink creation impossible (exFat architecture?): copying the video instead.\n",
      "c:\\Users\\rober\\Desktop\\Monkey-Emotions\\video\\gandalf_231205\\gandalf_231205_32_e3v831b.mp4 copied to 231205_gandalf\\body_2-rh-2023-12-06\\videos\\gandalf_231205_32_e3v831b.mp4\n",
      "Symlink creation impossible (exFat architecture?): copying the video instead.\n",
      "c:\\Users\\rober\\Desktop\\Monkey-Emotions\\video\\gandalf_231205\\gandalf_231205_33_e3v831b.mp4 copied to 231205_gandalf\\body_2-rh-2023-12-06\\videos\\gandalf_231205_33_e3v831b.mp4\n",
      "Symlink creation impossible (exFat architecture?): copying the video instead.\n",
      "c:\\Users\\rober\\Desktop\\Monkey-Emotions\\video\\gandalf_231205\\gandalf_231205_34_e3v831b.mp4 copied to 231205_gandalf\\body_2-rh-2023-12-06\\videos\\gandalf_231205_34_e3v831b.mp4\n",
      "Symlink creation impossible (exFat architecture?): copying the video instead.\n",
      "c:\\Users\\rober\\Desktop\\Monkey-Emotions\\video\\gandalf_231205\\gandalf_231205_35_e3v831b.mp4 copied to 231205_gandalf\\body_2-rh-2023-12-06\\videos\\gandalf_231205_35_e3v831b.mp4\n",
      "Symlink creation impossible (exFat architecture?): copying the video instead.\n",
      "c:\\Users\\rober\\Desktop\\Monkey-Emotions\\video\\gandalf_231205\\gandalf_231205_36_e3v831b.mp4 copied to 231205_gandalf\\body_2-rh-2023-12-06\\videos\\gandalf_231205_36_e3v831b.mp4\n",
      "Symlink creation impossible (exFat architecture?): copying the video instead.\n",
      "c:\\Users\\rober\\Desktop\\Monkey-Emotions\\video\\gandalf_231205\\gandalf_231205_37_e3v831b.mp4 copied to 231205_gandalf\\body_2-rh-2023-12-06\\videos\\gandalf_231205_37_e3v831b.mp4\n",
      "Symlink creation impossible (exFat architecture?): copying the video instead.\n",
      "c:\\Users\\rober\\Desktop\\Monkey-Emotions\\video\\gandalf_231205\\gandalf_231205_38_e3v831b.mp4 copied to 231205_gandalf\\body_2-rh-2023-12-06\\videos\\gandalf_231205_38_e3v831b.mp4\n",
      "Symlink creation impossible (exFat architecture?): copying the video instead.\n",
      "c:\\Users\\rober\\Desktop\\Monkey-Emotions\\video\\gandalf_231205\\gandalf_231205_39_e3v831b.mp4 copied to 231205_gandalf\\body_2-rh-2023-12-06\\videos\\gandalf_231205_39_e3v831b.mp4\n",
      "Symlink creation impossible (exFat architecture?): copying the video instead.\n",
      "c:\\Users\\rober\\Desktop\\Monkey-Emotions\\video\\gandalf_231205\\gandalf_231205_40_e3v831b.mp4 copied to 231205_gandalf\\body_2-rh-2023-12-06\\videos\\gandalf_231205_40_e3v831b.mp4\n",
      "Symlink creation impossible (exFat architecture?): copying the video instead.\n",
      "c:\\Users\\rober\\Desktop\\Monkey-Emotions\\video\\gandalf_231205\\gandalf_231205_41_e3v831b.mp4 copied to 231205_gandalf\\body_2-rh-2023-12-06\\videos\\gandalf_231205_41_e3v831b.mp4\n",
      "Symlink creation impossible (exFat architecture?): copying the video instead.\n",
      "c:\\Users\\rober\\Desktop\\Monkey-Emotions\\video\\gandalf_231205\\gandalf_231205_42_e3v831b.mp4 copied to 231205_gandalf\\body_2-rh-2023-12-06\\videos\\gandalf_231205_42_e3v831b.mp4\n",
      "Symlink creation impossible (exFat architecture?): copying the video instead.\n",
      "c:\\Users\\rober\\Desktop\\Monkey-Emotions\\video\\gandalf_231205\\gandalf_231205_43_e3v831b.mp4 copied to 231205_gandalf\\body_2-rh-2023-12-06\\videos\\gandalf_231205_43_e3v831b.mp4\n",
      "Symlink creation impossible (exFat architecture?): copying the video instead.\n",
      "c:\\Users\\rober\\Desktop\\Monkey-Emotions\\video\\gandalf_231205\\gandalf_231205_44_e3v831b.mp4 copied to 231205_gandalf\\body_2-rh-2023-12-06\\videos\\gandalf_231205_44_e3v831b.mp4\n",
      "Symlink creation impossible (exFat architecture?): copying the video instead.\n",
      "c:\\Users\\rober\\Desktop\\Monkey-Emotions\\video\\gandalf_231205\\gandalf_231205_45_e3v831b.mp4 copied to 231205_gandalf\\body_2-rh-2023-12-06\\videos\\gandalf_231205_45_e3v831b.mp4\n",
      "Symlink creation impossible (exFat architecture?): copying the video instead.\n",
      "c:\\Users\\rober\\Desktop\\Monkey-Emotions\\video\\gandalf_231205\\gandalf_231205_46_e3v831b.mp4 copied to 231205_gandalf\\body_2-rh-2023-12-06\\videos\\gandalf_231205_46_e3v831b.mp4\n",
      "Symlink creation impossible (exFat architecture?): copying the video instead.\n",
      "c:\\Users\\rober\\Desktop\\Monkey-Emotions\\video\\gandalf_231205\\gandalf_231205_47_e3v831b.mp4 copied to 231205_gandalf\\body_2-rh-2023-12-06\\videos\\gandalf_231205_47_e3v831b.mp4\n",
      "Symlink creation impossible (exFat architecture?): copying the video instead.\n",
      "c:\\Users\\rober\\Desktop\\Monkey-Emotions\\video\\gandalf_231205\\gandalf_231205_48_e3v831b.mp4 copied to 231205_gandalf\\body_2-rh-2023-12-06\\videos\\gandalf_231205_48_e3v831b.mp4\n",
      "Symlink creation impossible (exFat architecture?): copying the video instead.\n",
      "c:\\Users\\rober\\Desktop\\Monkey-Emotions\\video\\gandalf_231205\\gandalf_231205_49_e3v831b.mp4 copied to 231205_gandalf\\body_2-rh-2023-12-06\\videos\\gandalf_231205_49_e3v831b.mp4\n",
      "Symlink creation impossible (exFat architecture?): copying the video instead.\n",
      "c:\\Users\\rober\\Desktop\\Monkey-Emotions\\video\\gandalf_231205\\gandalf_231205_50_e3v831b.mp4 copied to 231205_gandalf\\body_2-rh-2023-12-06\\videos\\gandalf_231205_50_e3v831b.mp4\n",
      "Symlink creation impossible (exFat architecture?): copying the video instead.\n",
      "c:\\Users\\rober\\Desktop\\Monkey-Emotions\\video\\gandalf_231205\\gandalf_231205_51_e3v831b.mp4 copied to 231205_gandalf\\body_2-rh-2023-12-06\\videos\\gandalf_231205_51_e3v831b.mp4\n",
      "Symlink creation impossible (exFat architecture?): copying the video instead.\n",
      "c:\\Users\\rober\\Desktop\\Monkey-Emotions\\video\\gandalf_231205\\gandalf_231205_52_e3v831b.mp4 copied to 231205_gandalf\\body_2-rh-2023-12-06\\videos\\gandalf_231205_52_e3v831b.mp4\n",
      "Symlink creation impossible (exFat architecture?): copying the video instead.\n",
      "c:\\Users\\rober\\Desktop\\Monkey-Emotions\\video\\gandalf_231205\\gandalf_231205_53_e3v831b.mp4 copied to 231205_gandalf\\body_2-rh-2023-12-06\\videos\\gandalf_231205_53_e3v831b.mp4\n",
      "Symlink creation impossible (exFat architecture?): copying the video instead.\n",
      "c:\\Users\\rober\\Desktop\\Monkey-Emotions\\video\\gandalf_231205\\gandalf_231205_54_e3v831b.mp4 copied to 231205_gandalf\\body_2-rh-2023-12-06\\videos\\gandalf_231205_54_e3v831b.mp4\n",
      "Symlink creation impossible (exFat architecture?): copying the video instead.\n",
      "c:\\Users\\rober\\Desktop\\Monkey-Emotions\\video\\gandalf_231205\\gandalf_231205_55_e3v831b.mp4 copied to 231205_gandalf\\body_2-rh-2023-12-06\\videos\\gandalf_231205_55_e3v831b.mp4\n",
      "Symlink creation impossible (exFat architecture?): copying the video instead.\n",
      "c:\\Users\\rober\\Desktop\\Monkey-Emotions\\video\\gandalf_231205\\gandalf_231205_56_e3v831b.mp4 copied to 231205_gandalf\\body_2-rh-2023-12-06\\videos\\gandalf_231205_56_e3v831b.mp4\n",
      "Symlink creation impossible (exFat architecture?): copying the video instead.\n",
      "c:\\Users\\rober\\Desktop\\Monkey-Emotions\\video\\gandalf_231205\\gandalf_231205_57_e3v831b.mp4 copied to 231205_gandalf\\body_2-rh-2023-12-06\\videos\\gandalf_231205_57_e3v831b.mp4\n",
      "Symlink creation impossible (exFat architecture?): copying the video instead.\n",
      "c:\\Users\\rober\\Desktop\\Monkey-Emotions\\video\\gandalf_231205\\gandalf_231205_58_e3v831b.mp4 copied to 231205_gandalf\\body_2-rh-2023-12-06\\videos\\gandalf_231205_58_e3v831b.mp4\n",
      "Symlink creation impossible (exFat architecture?): copying the video instead.\n",
      "c:\\Users\\rober\\Desktop\\Monkey-Emotions\\video\\gandalf_231205\\gandalf_231205_59_e3v831b.mp4 copied to 231205_gandalf\\body_2-rh-2023-12-06\\videos\\gandalf_231205_59_e3v831b.mp4\n",
      "Symlink creation impossible (exFat architecture?): copying the video instead.\n",
      "c:\\Users\\rober\\Desktop\\Monkey-Emotions\\video\\gandalf_231205\\gandalf_231205_60_e3v831b.mp4 copied to 231205_gandalf\\body_2-rh-2023-12-06\\videos\\gandalf_231205_60_e3v831b.mp4\n",
      "Symlink creation impossible (exFat architecture?): copying the video instead.\n",
      "c:\\Users\\rober\\Desktop\\Monkey-Emotions\\video\\gandalf_231205\\gandalf_231205_61_e3v831b.mp4 copied to 231205_gandalf\\body_2-rh-2023-12-06\\videos\\gandalf_231205_61_e3v831b.mp4\n",
      "Symlink creation impossible (exFat architecture?): copying the video instead.\n",
      "c:\\Users\\rober\\Desktop\\Monkey-Emotions\\video\\gandalf_231205\\gandalf_231205_62_e3v831b.mp4 copied to 231205_gandalf\\body_2-rh-2023-12-06\\videos\\gandalf_231205_62_e3v831b.mp4\n",
      "Symlink creation impossible (exFat architecture?): copying the video instead.\n",
      "c:\\Users\\rober\\Desktop\\Monkey-Emotions\\video\\gandalf_231205\\gandalf_231205_63_e3v831b.mp4 copied to 231205_gandalf\\body_2-rh-2023-12-06\\videos\\gandalf_231205_63_e3v831b.mp4\n",
      "Symlink creation impossible (exFat architecture?): copying the video instead.\n",
      "c:\\Users\\rober\\Desktop\\Monkey-Emotions\\video\\gandalf_231205\\gandalf_231205_64_e3v831b.mp4 copied to 231205_gandalf\\body_2-rh-2023-12-06\\videos\\gandalf_231205_64_e3v831b.mp4\n",
      "Symlink creation impossible (exFat architecture?): copying the video instead.\n",
      "c:\\Users\\rober\\Desktop\\Monkey-Emotions\\video\\gandalf_231205\\gandalf_231205_65_e3v831b.mp4 copied to 231205_gandalf\\body_2-rh-2023-12-06\\videos\\gandalf_231205_65_e3v831b.mp4\n",
      "Symlink creation impossible (exFat architecture?): copying the video instead.\n",
      "c:\\Users\\rober\\Desktop\\Monkey-Emotions\\video\\gandalf_231205\\gandalf_231205_66_e3v831b.mp4 copied to 231205_gandalf\\body_2-rh-2023-12-06\\videos\\gandalf_231205_66_e3v831b.mp4\n",
      "Symlink creation impossible (exFat architecture?): copying the video instead.\n",
      "c:\\Users\\rober\\Desktop\\Monkey-Emotions\\video\\gandalf_231205\\gandalf_231205_67_e3v831b.mp4 copied to 231205_gandalf\\body_2-rh-2023-12-06\\videos\\gandalf_231205_67_e3v831b.mp4\n",
      "Symlink creation impossible (exFat architecture?): copying the video instead.\n",
      "c:\\Users\\rober\\Desktop\\Monkey-Emotions\\video\\gandalf_231205\\gandalf_231205_68_e3v831b.mp4 copied to 231205_gandalf\\body_2-rh-2023-12-06\\videos\\gandalf_231205_68_e3v831b.mp4\n",
      "Symlink creation impossible (exFat architecture?): copying the video instead.\n",
      "c:\\Users\\rober\\Desktop\\Monkey-Emotions\\video\\gandalf_231205\\gandalf_231205_69_e3v831b.mp4 copied to 231205_gandalf\\body_2-rh-2023-12-06\\videos\\gandalf_231205_69_e3v831b.mp4\n",
      "Symlink creation impossible (exFat architecture?): copying the video instead.\n",
      "c:\\Users\\rober\\Desktop\\Monkey-Emotions\\video\\gandalf_231205\\gandalf_231205_70_e3v831b.mp4 copied to 231205_gandalf\\body_2-rh-2023-12-06\\videos\\gandalf_231205_70_e3v831b.mp4\n",
      "Symlink creation impossible (exFat architecture?): copying the video instead.\n",
      "c:\\Users\\rober\\Desktop\\Monkey-Emotions\\video\\gandalf_231205\\gandalf_231205_71_e3v831b.mp4 copied to 231205_gandalf\\body_2-rh-2023-12-06\\videos\\gandalf_231205_71_e3v831b.mp4\n",
      "Symlink creation impossible (exFat architecture?): copying the video instead.\n",
      "c:\\Users\\rober\\Desktop\\Monkey-Emotions\\video\\gandalf_231205\\gandalf_231205_72_e3v831b.mp4 copied to 231205_gandalf\\body_2-rh-2023-12-06\\videos\\gandalf_231205_72_e3v831b.mp4\n",
      "Symlink creation impossible (exFat architecture?): copying the video instead.\n",
      "c:\\Users\\rober\\Desktop\\Monkey-Emotions\\video\\gandalf_231205\\gandalf_231205_73_e3v831b.mp4 copied to 231205_gandalf\\body_2-rh-2023-12-06\\videos\\gandalf_231205_73_e3v831b.mp4\n",
      "Symlink creation impossible (exFat architecture?): copying the video instead.\n",
      "c:\\Users\\rober\\Desktop\\Monkey-Emotions\\video\\gandalf_231205\\gandalf_231205_75_e3v831b.mp4 copied to 231205_gandalf\\body_2-rh-2023-12-06\\videos\\gandalf_231205_75_e3v831b.mp4\n",
      "Symlink creation impossible (exFat architecture?): copying the video instead.\n",
      "c:\\Users\\rober\\Desktop\\Monkey-Emotions\\video\\gandalf_231205\\gandalf_231205_76_e3v831b.mp4 copied to 231205_gandalf\\body_2-rh-2023-12-06\\videos\\gandalf_231205_76_e3v831b.mp4\n",
      "Symlink creation impossible (exFat architecture?): copying the video instead.\n",
      "c:\\Users\\rober\\Desktop\\Monkey-Emotions\\video\\gandalf_231205\\gandalf_231205_77_e3v831b.mp4 copied to 231205_gandalf\\body_2-rh-2023-12-06\\videos\\gandalf_231205_77_e3v831b.mp4\n",
      "Symlink creation impossible (exFat architecture?): copying the video instead.\n",
      "c:\\Users\\rober\\Desktop\\Monkey-Emotions\\video\\gandalf_231205\\gandalf_231205_78_e3v831b.mp4 copied to 231205_gandalf\\body_2-rh-2023-12-06\\videos\\gandalf_231205_78_e3v831b.mp4\n",
      "Symlink creation impossible (exFat architecture?): copying the video instead.\n",
      "c:\\Users\\rober\\Desktop\\Monkey-Emotions\\video\\gandalf_231205\\gandalf_231205_79_e3v831b.mp4 copied to 231205_gandalf\\body_2-rh-2023-12-06\\videos\\gandalf_231205_79_e3v831b.mp4\n",
      "Symlink creation impossible (exFat architecture?): copying the video instead.\n",
      "c:\\Users\\rober\\Desktop\\Monkey-Emotions\\video\\gandalf_231205\\gandalf_231205_80_e3v831b.mp4 copied to 231205_gandalf\\body_2-rh-2023-12-06\\videos\\gandalf_231205_80_e3v831b.mp4\n",
      "Symlink creation impossible (exFat architecture?): copying the video instead.\n",
      "c:\\Users\\rober\\Desktop\\Monkey-Emotions\\video\\gandalf_231205\\gandalf_231205_81_e3v831b.mp4 copied to 231205_gandalf\\body_2-rh-2023-12-06\\videos\\gandalf_231205_81_e3v831b.mp4\n",
      "Symlink creation impossible (exFat architecture?): copying the video instead.\n",
      "c:\\Users\\rober\\Desktop\\Monkey-Emotions\\video\\gandalf_231205\\gandalf_231205_82_e3v831b.mp4 copied to 231205_gandalf\\body_2-rh-2023-12-06\\videos\\gandalf_231205_82_e3v831b.mp4\n",
      "Symlink creation impossible (exFat architecture?): copying the video instead.\n",
      "c:\\Users\\rober\\Desktop\\Monkey-Emotions\\video\\gandalf_231205\\gandalf_231205_83_e3v831b.mp4 copied to 231205_gandalf\\body_2-rh-2023-12-06\\videos\\gandalf_231205_83_e3v831b.mp4\n",
      "Symlink creation impossible (exFat architecture?): copying the video instead.\n",
      "c:\\Users\\rober\\Desktop\\Monkey-Emotions\\video\\gandalf_231205\\gandalf_231205_84_e3v831b.mp4 copied to 231205_gandalf\\body_2-rh-2023-12-06\\videos\\gandalf_231205_84_e3v831b.mp4\n",
      "Symlink creation impossible (exFat architecture?): copying the video instead.\n",
      "c:\\Users\\rober\\Desktop\\Monkey-Emotions\\video\\gandalf_231205\\gandalf_231205_85_e3v831b.mp4 copied to 231205_gandalf\\body_2-rh-2023-12-06\\videos\\gandalf_231205_85_e3v831b.mp4\n",
      "Symlink creation impossible (exFat architecture?): copying the video instead.\n",
      "c:\\Users\\rober\\Desktop\\Monkey-Emotions\\video\\gandalf_231205\\gandalf_231205_86_e3v831b.mp4 copied to 231205_gandalf\\body_2-rh-2023-12-06\\videos\\gandalf_231205_86_e3v831b.mp4\n",
      "Symlink creation impossible (exFat architecture?): copying the video instead.\n",
      "c:\\Users\\rober\\Desktop\\Monkey-Emotions\\video\\gandalf_231205\\gandalf_231205_87_e3v831b.mp4 copied to 231205_gandalf\\body_2-rh-2023-12-06\\videos\\gandalf_231205_87_e3v831b.mp4\n",
      "Symlink creation impossible (exFat architecture?): copying the video instead.\n",
      "c:\\Users\\rober\\Desktop\\Monkey-Emotions\\video\\gandalf_231205\\gandalf_231205_88_e3v831b.mp4 copied to 231205_gandalf\\body_2-rh-2023-12-06\\videos\\gandalf_231205_88_e3v831b.mp4\n",
      "Symlink creation impossible (exFat architecture?): copying the video instead.\n",
      "c:\\Users\\rober\\Desktop\\Monkey-Emotions\\video\\gandalf_231205\\gandalf_231205_89_e3v831b.mp4 copied to 231205_gandalf\\body_2-rh-2023-12-06\\videos\\gandalf_231205_89_e3v831b.mp4\n",
      "Symlink creation impossible (exFat architecture?): copying the video instead.\n",
      "c:\\Users\\rober\\Desktop\\Monkey-Emotions\\video\\gandalf_231205\\gandalf_231205_90_e3v831b.mp4 copied to 231205_gandalf\\body_2-rh-2023-12-06\\videos\\gandalf_231205_90_e3v831b.mp4\n",
      "Symlink creation impossible (exFat architecture?): copying the video instead.\n",
      "c:\\Users\\rober\\Desktop\\Monkey-Emotions\\video\\gandalf_231205\\gandalf_231205_91_e3v831b.mp4 copied to 231205_gandalf\\body_2-rh-2023-12-06\\videos\\gandalf_231205_91_e3v831b.mp4\n",
      "Symlink creation impossible (exFat architecture?): copying the video instead.\n",
      "c:\\Users\\rober\\Desktop\\Monkey-Emotions\\video\\gandalf_231205\\gandalf_231205_92_e3v831b.mp4 copied to 231205_gandalf\\body_2-rh-2023-12-06\\videos\\gandalf_231205_92_e3v831b.mp4\n",
      "Symlink creation impossible (exFat architecture?): copying the video instead.\n",
      "c:\\Users\\rober\\Desktop\\Monkey-Emotions\\video\\gandalf_231205\\gandalf_231205_93_e3v831b.mp4 copied to 231205_gandalf\\body_2-rh-2023-12-06\\videos\\gandalf_231205_93_e3v831b.mp4\n",
      "Symlink creation impossible (exFat architecture?): copying the video instead.\n",
      "c:\\Users\\rober\\Desktop\\Monkey-Emotions\\video\\gandalf_231205\\gandalf_231205_94_e3v831b.mp4 copied to 231205_gandalf\\body_2-rh-2023-12-06\\videos\\gandalf_231205_94_e3v831b.mp4\n",
      "Symlink creation impossible (exFat architecture?): copying the video instead.\n",
      "c:\\Users\\rober\\Desktop\\Monkey-Emotions\\video\\gandalf_231205\\gandalf_231205_95_e3v831b.mp4 copied to 231205_gandalf\\body_2-rh-2023-12-06\\videos\\gandalf_231205_95_e3v831b.mp4\n",
      "Symlink creation impossible (exFat architecture?): copying the video instead.\n",
      "c:\\Users\\rober\\Desktop\\Monkey-Emotions\\video\\gandalf_231205\\gandalf_231205_96_e3v831b.mp4 copied to 231205_gandalf\\body_2-rh-2023-12-06\\videos\\gandalf_231205_96_e3v831b.mp4\n",
      "Symlink creation impossible (exFat architecture?): copying the video instead.\n",
      "c:\\Users\\rober\\Desktop\\Monkey-Emotions\\video\\gandalf_231205\\gandalf_231205_97_e3v831b.mp4 copied to 231205_gandalf\\body_2-rh-2023-12-06\\videos\\gandalf_231205_97_e3v831b.mp4\n",
      "Symlink creation impossible (exFat architecture?): copying the video instead.\n",
      "c:\\Users\\rober\\Desktop\\Monkey-Emotions\\video\\gandalf_231205\\gandalf_231205_98_e3v831b.mp4 copied to 231205_gandalf\\body_2-rh-2023-12-06\\videos\\gandalf_231205_98_e3v831b.mp4\n",
      "Symlink creation impossible (exFat architecture?): copying the video instead.\n",
      "c:\\Users\\rober\\Desktop\\Monkey-Emotions\\video\\gandalf_231205\\gandalf_231205_99_e3v831b.mp4 copied to 231205_gandalf\\body_2-rh-2023-12-06\\videos\\gandalf_231205_99_e3v831b.mp4\n",
      "Symlink creation impossible (exFat architecture?): copying the video instead.\n",
      "c:\\Users\\rober\\Desktop\\Monkey-Emotions\\video\\gandalf_231205\\gandalf_231205_100_e3v831b.mp4 copied to 231205_gandalf\\body_2-rh-2023-12-06\\videos\\gandalf_231205_100_e3v831b.mp4\n",
      "Symlink creation impossible (exFat architecture?): copying the video instead.\n",
      "c:\\Users\\rober\\Desktop\\Monkey-Emotions\\video\\gandalf_231205\\gandalf_231205_101_e3v831b.mp4 copied to 231205_gandalf\\body_2-rh-2023-12-06\\videos\\gandalf_231205_101_e3v831b.mp4\n",
      "Symlink creation impossible (exFat architecture?): copying the video instead.\n",
      "c:\\Users\\rober\\Desktop\\Monkey-Emotions\\video\\gandalf_231205\\gandalf_231205_102_e3v831b.mp4 copied to 231205_gandalf\\body_2-rh-2023-12-06\\videos\\gandalf_231205_102_e3v831b.mp4\n",
      "Symlink creation impossible (exFat architecture?): copying the video instead.\n",
      "c:\\Users\\rober\\Desktop\\Monkey-Emotions\\video\\gandalf_231205\\gandalf_231205_103_e3v831b.mp4 copied to 231205_gandalf\\body_2-rh-2023-12-06\\videos\\gandalf_231205_103_e3v831b.mp4\n",
      "Symlink creation impossible (exFat architecture?): copying the video instead.\n",
      "c:\\Users\\rober\\Desktop\\Monkey-Emotions\\video\\gandalf_231205\\gandalf_231205_104_e3v831b.mp4 copied to 231205_gandalf\\body_2-rh-2023-12-06\\videos\\gandalf_231205_104_e3v831b.mp4\n",
      "Symlink creation impossible (exFat architecture?): copying the video instead.\n",
      "c:\\Users\\rober\\Desktop\\Monkey-Emotions\\video\\gandalf_231205\\gandalf_231205_105_e3v831b.mp4 copied to 231205_gandalf\\body_2-rh-2023-12-06\\videos\\gandalf_231205_105_e3v831b.mp4\n",
      "Symlink creation impossible (exFat architecture?): copying the video instead.\n",
      "c:\\Users\\rober\\Desktop\\Monkey-Emotions\\video\\gandalf_231205\\gandalf_231205_106_e3v831b.mp4 copied to 231205_gandalf\\body_2-rh-2023-12-06\\videos\\gandalf_231205_106_e3v831b.mp4\n",
      "Symlink creation impossible (exFat architecture?): copying the video instead.\n",
      "c:\\Users\\rober\\Desktop\\Monkey-Emotions\\video\\gandalf_231205\\gandalf_231205_107_e3v831b.mp4 copied to 231205_gandalf\\body_2-rh-2023-12-06\\videos\\gandalf_231205_107_e3v831b.mp4\n",
      "Symlink creation impossible (exFat architecture?): copying the video instead.\n",
      "c:\\Users\\rober\\Desktop\\Monkey-Emotions\\video\\gandalf_231205\\gandalf_231205_108_e3v831b.mp4 copied to 231205_gandalf\\body_2-rh-2023-12-06\\videos\\gandalf_231205_108_e3v831b.mp4\n",
      "Symlink creation impossible (exFat architecture?): copying the video instead.\n",
      "c:\\Users\\rober\\Desktop\\Monkey-Emotions\\video\\gandalf_231205\\gandalf_231205_109_e3v831b.mp4 copied to 231205_gandalf\\body_2-rh-2023-12-06\\videos\\gandalf_231205_109_e3v831b.mp4\n",
      "Symlink creation impossible (exFat architecture?): copying the video instead.\n",
      "c:\\Users\\rober\\Desktop\\Monkey-Emotions\\video\\gandalf_231205\\gandalf_231205_110_e3v831b.mp4 copied to 231205_gandalf\\body_2-rh-2023-12-06\\videos\\gandalf_231205_110_e3v831b.mp4\n",
      "Symlink creation impossible (exFat architecture?): copying the video instead.\n",
      "c:\\Users\\rober\\Desktop\\Monkey-Emotions\\video\\gandalf_231205\\gandalf_231205_111_e3v831b.mp4 copied to 231205_gandalf\\body_2-rh-2023-12-06\\videos\\gandalf_231205_111_e3v831b.mp4\n",
      "Symlink creation impossible (exFat architecture?): copying the video instead.\n",
      "c:\\Users\\rober\\Desktop\\Monkey-Emotions\\video\\gandalf_231205\\gandalf_231205_112_e3v831b.mp4 copied to 231205_gandalf\\body_2-rh-2023-12-06\\videos\\gandalf_231205_112_e3v831b.mp4\n",
      "Symlink creation impossible (exFat architecture?): copying the video instead.\n",
      "c:\\Users\\rober\\Desktop\\Monkey-Emotions\\video\\gandalf_231205\\gandalf_231205_113_e3v831b.mp4 copied to 231205_gandalf\\body_2-rh-2023-12-06\\videos\\gandalf_231205_113_e3v831b.mp4\n",
      "Symlink creation impossible (exFat architecture?): copying the video instead.\n",
      "c:\\Users\\rober\\Desktop\\Monkey-Emotions\\video\\gandalf_231205\\gandalf_231205_114_e3v831b.mp4 copied to 231205_gandalf\\body_2-rh-2023-12-06\\videos\\gandalf_231205_114_e3v831b.mp4\n",
      "Symlink creation impossible (exFat architecture?): copying the video instead.\n",
      "c:\\Users\\rober\\Desktop\\Monkey-Emotions\\video\\gandalf_231205\\gandalf_231205_115_e3v831b.mp4 copied to 231205_gandalf\\body_2-rh-2023-12-06\\videos\\gandalf_231205_115_e3v831b.mp4\n",
      "Symlink creation impossible (exFat architecture?): copying the video instead.\n",
      "c:\\Users\\rober\\Desktop\\Monkey-Emotions\\video\\gandalf_231205\\gandalf_231205_116_e3v831b.mp4 copied to 231205_gandalf\\body_2-rh-2023-12-06\\videos\\gandalf_231205_116_e3v831b.mp4\n",
      "Symlink creation impossible (exFat architecture?): copying the video instead.\n",
      "c:\\Users\\rober\\Desktop\\Monkey-Emotions\\video\\gandalf_231205\\gandalf_231205_117_e3v831b.mp4 copied to 231205_gandalf\\body_2-rh-2023-12-06\\videos\\gandalf_231205_117_e3v831b.mp4\n",
      "Symlink creation impossible (exFat architecture?): copying the video instead.\n",
      "c:\\Users\\rober\\Desktop\\Monkey-Emotions\\video\\gandalf_231205\\gandalf_231205_118_e3v831b.mp4 copied to 231205_gandalf\\body_2-rh-2023-12-06\\videos\\gandalf_231205_118_e3v831b.mp4\n",
      "Symlink creation impossible (exFat architecture?): copying the video instead.\n",
      "c:\\Users\\rober\\Desktop\\Monkey-Emotions\\video\\gandalf_231205\\gandalf_231205_119_e3v831b.mp4 copied to 231205_gandalf\\body_2-rh-2023-12-06\\videos\\gandalf_231205_119_e3v831b.mp4\n",
      "Symlink creation impossible (exFat architecture?): copying the video instead.\n",
      "c:\\Users\\rober\\Desktop\\Monkey-Emotions\\video\\gandalf_231205\\gandalf_231205_120_e3v831b.mp4 copied to 231205_gandalf\\body_2-rh-2023-12-06\\videos\\gandalf_231205_120_e3v831b.mp4\n",
      "Symlink creation impossible (exFat architecture?): copying the video instead.\n",
      "c:\\Users\\rober\\Desktop\\Monkey-Emotions\\video\\gandalf_231205\\gandalf_231205_121_e3v831b.mp4 copied to 231205_gandalf\\body_2-rh-2023-12-06\\videos\\gandalf_231205_121_e3v831b.mp4\n",
      "Symlink creation impossible (exFat architecture?): copying the video instead.\n",
      "c:\\Users\\rober\\Desktop\\Monkey-Emotions\\video\\gandalf_231205\\gandalf_231205_122_e3v831b.mp4 copied to 231205_gandalf\\body_2-rh-2023-12-06\\videos\\gandalf_231205_122_e3v831b.mp4\n",
      "Symlink creation impossible (exFat architecture?): copying the video instead.\n",
      "c:\\Users\\rober\\Desktop\\Monkey-Emotions\\video\\gandalf_231205\\gandalf_231205_123_e3v831b.mp4 copied to 231205_gandalf\\body_2-rh-2023-12-06\\videos\\gandalf_231205_123_e3v831b.mp4\n",
      "Symlink creation impossible (exFat architecture?): copying the video instead.\n",
      "c:\\Users\\rober\\Desktop\\Monkey-Emotions\\video\\gandalf_231205\\gandalf_231205_124_e3v831b.mp4 copied to 231205_gandalf\\body_2-rh-2023-12-06\\videos\\gandalf_231205_124_e3v831b.mp4\n",
      "Symlink creation impossible (exFat architecture?): copying the video instead.\n",
      "c:\\Users\\rober\\Desktop\\Monkey-Emotions\\video\\gandalf_231205\\gandalf_231205_125_e3v831b.mp4 copied to 231205_gandalf\\body_2-rh-2023-12-06\\videos\\gandalf_231205_125_e3v831b.mp4\n",
      "Symlink creation impossible (exFat architecture?): copying the video instead.\n",
      "c:\\Users\\rober\\Desktop\\Monkey-Emotions\\video\\gandalf_231205\\gandalf_231205_126_e3v831b.mp4 copied to 231205_gandalf\\body_2-rh-2023-12-06\\videos\\gandalf_231205_126_e3v831b.mp4\n",
      "Symlink creation impossible (exFat architecture?): copying the video instead.\n",
      "c:\\Users\\rober\\Desktop\\Monkey-Emotions\\video\\gandalf_231205\\gandalf_231205_127_e3v831b.mp4 copied to 231205_gandalf\\body_2-rh-2023-12-06\\videos\\gandalf_231205_127_e3v831b.mp4\n",
      "Symlink creation impossible (exFat architecture?): copying the video instead.\n",
      "c:\\Users\\rober\\Desktop\\Monkey-Emotions\\video\\gandalf_231205\\gandalf_231205_128_e3v831b.mp4 copied to 231205_gandalf\\body_2-rh-2023-12-06\\videos\\gandalf_231205_128_e3v831b.mp4\n",
      "Symlink creation impossible (exFat architecture?): copying the video instead.\n",
      "c:\\Users\\rober\\Desktop\\Monkey-Emotions\\video\\gandalf_231205\\gandalf_231205_129_e3v831b.mp4 copied to 231205_gandalf\\body_2-rh-2023-12-06\\videos\\gandalf_231205_129_e3v831b.mp4\n",
      "Symlink creation impossible (exFat architecture?): copying the video instead.\n",
      "c:\\Users\\rober\\Desktop\\Monkey-Emotions\\video\\gandalf_231205\\gandalf_231205_130_e3v831b.mp4 copied to 231205_gandalf\\body_2-rh-2023-12-06\\videos\\gandalf_231205_130_e3v831b.mp4\n",
      "Symlink creation impossible (exFat architecture?): copying the video instead.\n",
      "c:\\Users\\rober\\Desktop\\Monkey-Emotions\\video\\gandalf_231205\\gandalf_231205_131_e3v831b.mp4 copied to 231205_gandalf\\body_2-rh-2023-12-06\\videos\\gandalf_231205_131_e3v831b.mp4\n",
      "Symlink creation impossible (exFat architecture?): copying the video instead.\n",
      "c:\\Users\\rober\\Desktop\\Monkey-Emotions\\video\\gandalf_231205\\gandalf_231205_132_e3v831b.mp4 copied to 231205_gandalf\\body_2-rh-2023-12-06\\videos\\gandalf_231205_132_e3v831b.mp4\n",
      "Symlink creation impossible (exFat architecture?): copying the video instead.\n",
      "c:\\Users\\rober\\Desktop\\Monkey-Emotions\\video\\gandalf_231205\\gandalf_231205_133_e3v831b.mp4 copied to 231205_gandalf\\body_2-rh-2023-12-06\\videos\\gandalf_231205_133_e3v831b.mp4\n",
      "Symlink creation impossible (exFat architecture?): copying the video instead.\n",
      "c:\\Users\\rober\\Desktop\\Monkey-Emotions\\video\\gandalf_231205\\gandalf_231205_134_e3v831b.mp4 copied to 231205_gandalf\\body_2-rh-2023-12-06\\videos\\gandalf_231205_134_e3v831b.mp4\n",
      "Symlink creation impossible (exFat architecture?): copying the video instead.\n",
      "c:\\Users\\rober\\Desktop\\Monkey-Emotions\\video\\gandalf_231205\\gandalf_231205_136_e3v831b.mp4 copied to 231205_gandalf\\body_2-rh-2023-12-06\\videos\\gandalf_231205_136_e3v831b.mp4\n",
      "Symlink creation impossible (exFat architecture?): copying the video instead.\n",
      "c:\\Users\\rober\\Desktop\\Monkey-Emotions\\video\\gandalf_231205\\gandalf_231205_137_e3v831b.mp4 copied to 231205_gandalf\\body_2-rh-2023-12-06\\videos\\gandalf_231205_137_e3v831b.mp4\n",
      "Symlink creation impossible (exFat architecture?): copying the video instead.\n",
      "c:\\Users\\rober\\Desktop\\Monkey-Emotions\\video\\gandalf_231205\\gandalf_231205_138_e3v831b.mp4 copied to 231205_gandalf\\body_2-rh-2023-12-06\\videos\\gandalf_231205_138_e3v831b.mp4\n",
      "Symlink creation impossible (exFat architecture?): copying the video instead.\n",
      "c:\\Users\\rober\\Desktop\\Monkey-Emotions\\video\\gandalf_231205\\gandalf_231205_139_e3v831b.mp4 copied to 231205_gandalf\\body_2-rh-2023-12-06\\videos\\gandalf_231205_139_e3v831b.mp4\n",
      "Symlink creation impossible (exFat architecture?): copying the video instead.\n",
      "c:\\Users\\rober\\Desktop\\Monkey-Emotions\\video\\gandalf_231205\\gandalf_231205_140_e3v831b.mp4 copied to 231205_gandalf\\body_2-rh-2023-12-06\\videos\\gandalf_231205_140_e3v831b.mp4\n",
      "Symlink creation impossible (exFat architecture?): copying the video instead.\n",
      "c:\\Users\\rober\\Desktop\\Monkey-Emotions\\video\\gandalf_231205\\gandalf_231205_141_e3v831b.mp4 copied to 231205_gandalf\\body_2-rh-2023-12-06\\videos\\gandalf_231205_141_e3v831b.mp4\n",
      "Symlink creation impossible (exFat architecture?): copying the video instead.\n",
      "c:\\Users\\rober\\Desktop\\Monkey-Emotions\\video\\gandalf_231205\\gandalf_231205_142_e3v831b.mp4 copied to 231205_gandalf\\body_2-rh-2023-12-06\\videos\\gandalf_231205_142_e3v831b.mp4\n",
      "Symlink creation impossible (exFat architecture?): copying the video instead.\n",
      "c:\\Users\\rober\\Desktop\\Monkey-Emotions\\video\\gandalf_231205\\gandalf_231205_143_e3v831b.mp4 copied to 231205_gandalf\\body_2-rh-2023-12-06\\videos\\gandalf_231205_143_e3v831b.mp4\n",
      "Symlink creation impossible (exFat architecture?): copying the video instead.\n",
      "c:\\Users\\rober\\Desktop\\Monkey-Emotions\\video\\gandalf_231205\\gandalf_231205_144_e3v831b.mp4 copied to 231205_gandalf\\body_2-rh-2023-12-06\\videos\\gandalf_231205_144_e3v831b.mp4\n",
      "Symlink creation impossible (exFat architecture?): copying the video instead.\n",
      "c:\\Users\\rober\\Desktop\\Monkey-Emotions\\video\\gandalf_231205\\gandalf_231205_145_e3v831b.mp4 copied to 231205_gandalf\\body_2-rh-2023-12-06\\videos\\gandalf_231205_145_e3v831b.mp4\n",
      "Symlink creation impossible (exFat architecture?): copying the video instead.\n",
      "c:\\Users\\rober\\Desktop\\Monkey-Emotions\\video\\gandalf_231205\\gandalf_231205_146_e3v831b.mp4 copied to 231205_gandalf\\body_2-rh-2023-12-06\\videos\\gandalf_231205_146_e3v831b.mp4\n",
      "Symlink creation impossible (exFat architecture?): copying the video instead.\n",
      "c:\\Users\\rober\\Desktop\\Monkey-Emotions\\video\\gandalf_231205\\gandalf_231205_147_e3v831b.mp4 copied to 231205_gandalf\\body_2-rh-2023-12-06\\videos\\gandalf_231205_147_e3v831b.mp4\n",
      "Symlink creation impossible (exFat architecture?): copying the video instead.\n",
      "c:\\Users\\rober\\Desktop\\Monkey-Emotions\\video\\gandalf_231205\\gandalf_231205_148_e3v831b.mp4 copied to 231205_gandalf\\body_2-rh-2023-12-06\\videos\\gandalf_231205_148_e3v831b.mp4\n",
      "Symlink creation impossible (exFat architecture?): copying the video instead.\n",
      "c:\\Users\\rober\\Desktop\\Monkey-Emotions\\video\\gandalf_231205\\gandalf_231205_149_e3v831b.mp4 copied to 231205_gandalf\\body_2-rh-2023-12-06\\videos\\gandalf_231205_149_e3v831b.mp4\n",
      "Symlink creation impossible (exFat architecture?): copying the video instead.\n",
      "c:\\Users\\rober\\Desktop\\Monkey-Emotions\\video\\gandalf_231205\\gandalf_231205_150_e3v831b.mp4 copied to 231205_gandalf\\body_2-rh-2023-12-06\\videos\\gandalf_231205_150_e3v831b.mp4\n",
      "Symlink creation impossible (exFat architecture?): copying the video instead.\n",
      "c:\\Users\\rober\\Desktop\\Monkey-Emotions\\video\\gandalf_231205\\gandalf_231205_151_e3v831b.mp4 copied to 231205_gandalf\\body_2-rh-2023-12-06\\videos\\gandalf_231205_151_e3v831b.mp4\n",
      "Symlink creation impossible (exFat architecture?): copying the video instead.\n",
      "c:\\Users\\rober\\Desktop\\Monkey-Emotions\\video\\gandalf_231205\\gandalf_231205_152_e3v831b.mp4 copied to 231205_gandalf\\body_2-rh-2023-12-06\\videos\\gandalf_231205_152_e3v831b.mp4\n",
      "Symlink creation impossible (exFat architecture?): copying the video instead.\n",
      "c:\\Users\\rober\\Desktop\\Monkey-Emotions\\video\\gandalf_231205\\gandalf_231205_153_e3v831b.mp4 copied to 231205_gandalf\\body_2-rh-2023-12-06\\videos\\gandalf_231205_153_e3v831b.mp4\n",
      "Symlink creation impossible (exFat architecture?): copying the video instead.\n",
      "c:\\Users\\rober\\Desktop\\Monkey-Emotions\\video\\gandalf_231205\\gandalf_231205_154_e3v831b.mp4 copied to 231205_gandalf\\body_2-rh-2023-12-06\\videos\\gandalf_231205_154_e3v831b.mp4\n",
      "Symlink creation impossible (exFat architecture?): copying the video instead.\n",
      "c:\\Users\\rober\\Desktop\\Monkey-Emotions\\video\\gandalf_231205\\gandalf_231205_155_e3v831b.mp4 copied to 231205_gandalf\\body_2-rh-2023-12-06\\videos\\gandalf_231205_155_e3v831b.mp4\n",
      "Symlink creation impossible (exFat architecture?): copying the video instead.\n",
      "c:\\Users\\rober\\Desktop\\Monkey-Emotions\\video\\gandalf_231205\\gandalf_231205_156_e3v831b.mp4 copied to 231205_gandalf\\body_2-rh-2023-12-06\\videos\\gandalf_231205_156_e3v831b.mp4\n",
      "Symlink creation impossible (exFat architecture?): copying the video instead.\n",
      "c:\\Users\\rober\\Desktop\\Monkey-Emotions\\video\\gandalf_231205\\gandalf_231205_157_e3v831b.mp4 copied to 231205_gandalf\\body_2-rh-2023-12-06\\videos\\gandalf_231205_157_e3v831b.mp4\n",
      "Symlink creation impossible (exFat architecture?): copying the video instead.\n",
      "c:\\Users\\rober\\Desktop\\Monkey-Emotions\\video\\gandalf_231205\\gandalf_231205_158_e3v831b.mp4 copied to 231205_gandalf\\body_2-rh-2023-12-06\\videos\\gandalf_231205_158_e3v831b.mp4\n",
      "Symlink creation impossible (exFat architecture?): copying the video instead.\n",
      "c:\\Users\\rober\\Desktop\\Monkey-Emotions\\video\\gandalf_231205\\gandalf_231205_159_e3v831b.mp4 copied to 231205_gandalf\\body_2-rh-2023-12-06\\videos\\gandalf_231205_159_e3v831b.mp4\n",
      "Symlink creation impossible (exFat architecture?): copying the video instead.\n",
      "c:\\Users\\rober\\Desktop\\Monkey-Emotions\\video\\gandalf_231205\\gandalf_231205_160_e3v831b.mp4 copied to 231205_gandalf\\body_2-rh-2023-12-06\\videos\\gandalf_231205_160_e3v831b.mp4\n",
      "Symlink creation impossible (exFat architecture?): copying the video instead.\n",
      "c:\\Users\\rober\\Desktop\\Monkey-Emotions\\video\\gandalf_231205\\gandalf_231205_161_e3v831b.mp4 copied to 231205_gandalf\\body_2-rh-2023-12-06\\videos\\gandalf_231205_161_e3v831b.mp4\n",
      "Symlink creation impossible (exFat architecture?): copying the video instead.\n",
      "c:\\Users\\rober\\Desktop\\Monkey-Emotions\\video\\gandalf_231205\\gandalf_231205_162_e3v831b.mp4 copied to 231205_gandalf\\body_2-rh-2023-12-06\\videos\\gandalf_231205_162_e3v831b.mp4\n",
      "Symlink creation impossible (exFat architecture?): copying the video instead.\n",
      "c:\\Users\\rober\\Desktop\\Monkey-Emotions\\video\\gandalf_231205\\gandalf_231205_163_e3v831b.mp4 copied to 231205_gandalf\\body_2-rh-2023-12-06\\videos\\gandalf_231205_163_e3v831b.mp4\n",
      "Symlink creation impossible (exFat architecture?): copying the video instead.\n",
      "c:\\Users\\rober\\Desktop\\Monkey-Emotions\\video\\gandalf_231205\\gandalf_231205_164_e3v831b.mp4 copied to 231205_gandalf\\body_2-rh-2023-12-06\\videos\\gandalf_231205_164_e3v831b.mp4\n",
      "Symlink creation impossible (exFat architecture?): copying the video instead.\n",
      "c:\\Users\\rober\\Desktop\\Monkey-Emotions\\video\\gandalf_231205\\gandalf_231205_165_e3v831b.mp4 copied to 231205_gandalf\\body_2-rh-2023-12-06\\videos\\gandalf_231205_165_e3v831b.mp4\n",
      "Symlink creation impossible (exFat architecture?): copying the video instead.\n",
      "c:\\Users\\rober\\Desktop\\Monkey-Emotions\\video\\gandalf_231205\\gandalf_231205_166_e3v831b.mp4 copied to 231205_gandalf\\body_2-rh-2023-12-06\\videos\\gandalf_231205_166_e3v831b.mp4\n",
      "Symlink creation impossible (exFat architecture?): copying the video instead.\n",
      "c:\\Users\\rober\\Desktop\\Monkey-Emotions\\video\\gandalf_231205\\gandalf_231205_167_e3v831b.mp4 copied to 231205_gandalf\\body_2-rh-2023-12-06\\videos\\gandalf_231205_167_e3v831b.mp4\n",
      "Symlink creation impossible (exFat architecture?): copying the video instead.\n",
      "c:\\Users\\rober\\Desktop\\Monkey-Emotions\\video\\gandalf_231205\\gandalf_231205_168_e3v831b.mp4 copied to 231205_gandalf\\body_2-rh-2023-12-06\\videos\\gandalf_231205_168_e3v831b.mp4\n",
      "Symlink creation impossible (exFat architecture?): copying the video instead.\n",
      "c:\\Users\\rober\\Desktop\\Monkey-Emotions\\video\\gandalf_231205\\gandalf_231205_169_e3v831b.mp4 copied to 231205_gandalf\\body_2-rh-2023-12-06\\videos\\gandalf_231205_169_e3v831b.mp4\n",
      "Symlink creation impossible (exFat architecture?): copying the video instead.\n",
      "c:\\Users\\rober\\Desktop\\Monkey-Emotions\\video\\gandalf_231205\\gandalf_231205_170_e3v831b.mp4 copied to 231205_gandalf\\body_2-rh-2023-12-06\\videos\\gandalf_231205_170_e3v831b.mp4\n",
      "Symlink creation impossible (exFat architecture?): copying the video instead.\n",
      "c:\\Users\\rober\\Desktop\\Monkey-Emotions\\video\\gandalf_231205\\gandalf_231205_171_e3v831b.mp4 copied to 231205_gandalf\\body_2-rh-2023-12-06\\videos\\gandalf_231205_171_e3v831b.mp4\n",
      "Symlink creation impossible (exFat architecture?): copying the video instead.\n",
      "c:\\Users\\rober\\Desktop\\Monkey-Emotions\\video\\gandalf_231205\\gandalf_231205_172_e3v831b.mp4 copied to 231205_gandalf\\body_2-rh-2023-12-06\\videos\\gandalf_231205_172_e3v831b.mp4\n",
      "Symlink creation impossible (exFat architecture?): copying the video instead.\n",
      "c:\\Users\\rober\\Desktop\\Monkey-Emotions\\video\\gandalf_231205\\gandalf_231205_173_e3v831b.mp4 copied to 231205_gandalf\\body_2-rh-2023-12-06\\videos\\gandalf_231205_173_e3v831b.mp4\n",
      "Symlink creation impossible (exFat architecture?): copying the video instead.\n",
      "c:\\Users\\rober\\Desktop\\Monkey-Emotions\\video\\gandalf_231205\\gandalf_231205_174_e3v831b.mp4 copied to 231205_gandalf\\body_2-rh-2023-12-06\\videos\\gandalf_231205_174_e3v831b.mp4\n",
      "Symlink creation impossible (exFat architecture?): copying the video instead.\n",
      "c:\\Users\\rober\\Desktop\\Monkey-Emotions\\video\\gandalf_231205\\gandalf_231205_175_e3v831b.mp4 copied to 231205_gandalf\\body_2-rh-2023-12-06\\videos\\gandalf_231205_175_e3v831b.mp4\n",
      "Symlink creation impossible (exFat architecture?): copying the video instead.\n",
      "c:\\Users\\rober\\Desktop\\Monkey-Emotions\\video\\gandalf_231205\\gandalf_231205_176_e3v831b.mp4 copied to 231205_gandalf\\body_2-rh-2023-12-06\\videos\\gandalf_231205_176_e3v831b.mp4\n",
      "Symlink creation impossible (exFat architecture?): copying the video instead.\n",
      "c:\\Users\\rober\\Desktop\\Monkey-Emotions\\video\\gandalf_231205\\gandalf_231205_177_e3v831b.mp4 copied to 231205_gandalf\\body_2-rh-2023-12-06\\videos\\gandalf_231205_177_e3v831b.mp4\n",
      "Symlink creation impossible (exFat architecture?): copying the video instead.\n",
      "c:\\Users\\rober\\Desktop\\Monkey-Emotions\\video\\gandalf_231205\\gandalf_231205_178_e3v831b.mp4 copied to 231205_gandalf\\body_2-rh-2023-12-06\\videos\\gandalf_231205_178_e3v831b.mp4\n",
      "Symlink creation impossible (exFat architecture?): copying the video instead.\n",
      "c:\\Users\\rober\\Desktop\\Monkey-Emotions\\video\\gandalf_231205\\gandalf_231205_179_e3v831b.mp4 copied to 231205_gandalf\\body_2-rh-2023-12-06\\videos\\gandalf_231205_179_e3v831b.mp4\n",
      "Symlink creation impossible (exFat architecture?): copying the video instead.\n",
      "c:\\Users\\rober\\Desktop\\Monkey-Emotions\\video\\gandalf_231205\\gandalf_231205_180_e3v831b.mp4 copied to 231205_gandalf\\body_2-rh-2023-12-06\\videos\\gandalf_231205_180_e3v831b.mp4\n",
      "Symlink creation impossible (exFat architecture?): copying the video instead.\n",
      "c:\\Users\\rober\\Desktop\\Monkey-Emotions\\video\\gandalf_231205\\gandalf_231205_181_e3v831b.mp4 copied to 231205_gandalf\\body_2-rh-2023-12-06\\videos\\gandalf_231205_181_e3v831b.mp4\n",
      "Symlink creation impossible (exFat architecture?): copying the video instead.\n",
      "c:\\Users\\rober\\Desktop\\Monkey-Emotions\\video\\gandalf_231205\\gandalf_231205_182_e3v831b.mp4 copied to 231205_gandalf\\body_2-rh-2023-12-06\\videos\\gandalf_231205_182_e3v831b.mp4\n",
      "Symlink creation impossible (exFat architecture?): copying the video instead.\n",
      "c:\\Users\\rober\\Desktop\\Monkey-Emotions\\video\\gandalf_231205\\gandalf_231205_183_e3v831b.mp4 copied to 231205_gandalf\\body_2-rh-2023-12-06\\videos\\gandalf_231205_183_e3v831b.mp4\n",
      "Symlink creation impossible (exFat architecture?): copying the video instead.\n",
      "c:\\Users\\rober\\Desktop\\Monkey-Emotions\\video\\gandalf_231205\\gandalf_231205_184_e3v831b.mp4 copied to 231205_gandalf\\body_2-rh-2023-12-06\\videos\\gandalf_231205_184_e3v831b.mp4\n",
      "Symlink creation impossible (exFat architecture?): copying the video instead.\n",
      "c:\\Users\\rober\\Desktop\\Monkey-Emotions\\video\\gandalf_231205\\gandalf_231205_185_e3v831b.mp4 copied to 231205_gandalf\\body_2-rh-2023-12-06\\videos\\gandalf_231205_185_e3v831b.mp4\n",
      "Symlink creation impossible (exFat architecture?): copying the video instead.\n",
      "c:\\Users\\rober\\Desktop\\Monkey-Emotions\\video\\gandalf_231205\\gandalf_231205_186_e3v831b.mp4 copied to 231205_gandalf\\body_2-rh-2023-12-06\\videos\\gandalf_231205_186_e3v831b.mp4\n",
      "Symlink creation impossible (exFat architecture?): copying the video instead.\n",
      "c:\\Users\\rober\\Desktop\\Monkey-Emotions\\video\\gandalf_231205\\gandalf_231205_187_e3v831b.mp4 copied to 231205_gandalf\\body_2-rh-2023-12-06\\videos\\gandalf_231205_187_e3v831b.mp4\n",
      "Symlink creation impossible (exFat architecture?): copying the video instead.\n",
      "c:\\Users\\rober\\Desktop\\Monkey-Emotions\\video\\gandalf_231205\\gandalf_231205_188_e3v831b.mp4 copied to 231205_gandalf\\body_2-rh-2023-12-06\\videos\\gandalf_231205_188_e3v831b.mp4\n",
      "Symlink creation impossible (exFat architecture?): copying the video instead.\n",
      "c:\\Users\\rober\\Desktop\\Monkey-Emotions\\video\\gandalf_231205\\gandalf_231205_189_e3v831b.mp4 copied to 231205_gandalf\\body_2-rh-2023-12-06\\videos\\gandalf_231205_189_e3v831b.mp4\n",
      "Symlink creation impossible (exFat architecture?): copying the video instead.\n",
      "c:\\Users\\rober\\Desktop\\Monkey-Emotions\\video\\gandalf_231205\\gandalf_231205_190_e3v831b.mp4 copied to 231205_gandalf\\body_2-rh-2023-12-06\\videos\\gandalf_231205_190_e3v831b.mp4\n",
      "Symlink creation impossible (exFat architecture?): copying the video instead.\n",
      "c:\\Users\\rober\\Desktop\\Monkey-Emotions\\video\\gandalf_231205\\gandalf_231205_191_e3v831b.mp4 copied to 231205_gandalf\\body_2-rh-2023-12-06\\videos\\gandalf_231205_191_e3v831b.mp4\n",
      "Symlink creation impossible (exFat architecture?): copying the video instead.\n",
      "c:\\Users\\rober\\Desktop\\Monkey-Emotions\\video\\gandalf_231205\\gandalf_231205_192_e3v831b.mp4 copied to 231205_gandalf\\body_2-rh-2023-12-06\\videos\\gandalf_231205_192_e3v831b.mp4\n",
      "Symlink creation impossible (exFat architecture?): copying the video instead.\n",
      "c:\\Users\\rober\\Desktop\\Monkey-Emotions\\video\\gandalf_231205\\gandalf_231205_193_e3v831b.mp4 copied to 231205_gandalf\\body_2-rh-2023-12-06\\videos\\gandalf_231205_193_e3v831b.mp4\n",
      "Symlink creation impossible (exFat architecture?): copying the video instead.\n",
      "c:\\Users\\rober\\Desktop\\Monkey-Emotions\\video\\gandalf_231205\\gandalf_231205_194_e3v831b.mp4 copied to 231205_gandalf\\body_2-rh-2023-12-06\\videos\\gandalf_231205_194_e3v831b.mp4\n",
      "Symlink creation impossible (exFat architecture?): copying the video instead.\n",
      "c:\\Users\\rober\\Desktop\\Monkey-Emotions\\video\\gandalf_231205\\gandalf_231205_195_e3v831b.mp4 copied to 231205_gandalf\\body_2-rh-2023-12-06\\videos\\gandalf_231205_195_e3v831b.mp4\n",
      "Symlink creation impossible (exFat architecture?): copying the video instead.\n",
      "c:\\Users\\rober\\Desktop\\Monkey-Emotions\\video\\gandalf_231205\\gandalf_231205_196_e3v831b.mp4 copied to 231205_gandalf\\body_2-rh-2023-12-06\\videos\\gandalf_231205_196_e3v831b.mp4\n",
      "Symlink creation impossible (exFat architecture?): copying the video instead.\n",
      "c:\\Users\\rober\\Desktop\\Monkey-Emotions\\video\\gandalf_231205\\gandalf_231205_197_e3v831b.mp4 copied to 231205_gandalf\\body_2-rh-2023-12-06\\videos\\gandalf_231205_197_e3v831b.mp4\n",
      "Symlink creation impossible (exFat architecture?): copying the video instead.\n",
      "c:\\Users\\rober\\Desktop\\Monkey-Emotions\\video\\gandalf_231205\\gandalf_231205_198_e3v831b.mp4 copied to 231205_gandalf\\body_2-rh-2023-12-06\\videos\\gandalf_231205_198_e3v831b.mp4\n",
      "Symlink creation impossible (exFat architecture?): copying the video instead.\n",
      "c:\\Users\\rober\\Desktop\\Monkey-Emotions\\video\\gandalf_231205\\gandalf_231205_199_e3v831b.mp4 copied to 231205_gandalf\\body_2-rh-2023-12-06\\videos\\gandalf_231205_199_e3v831b.mp4\n",
      "Symlink creation impossible (exFat architecture?): copying the video instead.\n",
      "c:\\Users\\rober\\Desktop\\Monkey-Emotions\\video\\gandalf_231205\\gandalf_231205_200_e3v831b.mp4 copied to 231205_gandalf\\body_2-rh-2023-12-06\\videos\\gandalf_231205_200_e3v831b.mp4\n",
      "Symlink creation impossible (exFat architecture?): copying the video instead.\n",
      "c:\\Users\\rober\\Desktop\\Monkey-Emotions\\video\\gandalf_231205\\gandalf_231205_201_e3v831b.mp4 copied to 231205_gandalf\\body_2-rh-2023-12-06\\videos\\gandalf_231205_201_e3v831b.mp4\n",
      "Symlink creation impossible (exFat architecture?): copying the video instead.\n",
      "c:\\Users\\rober\\Desktop\\Monkey-Emotions\\video\\gandalf_231205\\gandalf_231205_202_e3v831b.mp4 copied to 231205_gandalf\\body_2-rh-2023-12-06\\videos\\gandalf_231205_202_e3v831b.mp4\n",
      "Symlink creation impossible (exFat architecture?): copying the video instead.\n",
      "c:\\Users\\rober\\Desktop\\Monkey-Emotions\\video\\gandalf_231205\\gandalf_231205_203_e3v831b.mp4 copied to 231205_gandalf\\body_2-rh-2023-12-06\\videos\\gandalf_231205_203_e3v831b.mp4\n",
      "Symlink creation impossible (exFat architecture?): copying the video instead.\n",
      "c:\\Users\\rober\\Desktop\\Monkey-Emotions\\video\\gandalf_231205\\gandalf_231205_204_e3v831b.mp4 copied to 231205_gandalf\\body_2-rh-2023-12-06\\videos\\gandalf_231205_204_e3v831b.mp4\n",
      "Symlink creation impossible (exFat architecture?): copying the video instead.\n",
      "c:\\Users\\rober\\Desktop\\Monkey-Emotions\\video\\gandalf_231205\\gandalf_231205_205_e3v831b.mp4 copied to 231205_gandalf\\body_2-rh-2023-12-06\\videos\\gandalf_231205_205_e3v831b.mp4\n",
      "Symlink creation impossible (exFat architecture?): copying the video instead.\n",
      "c:\\Users\\rober\\Desktop\\Monkey-Emotions\\video\\gandalf_231205\\gandalf_231205_206_e3v831b.mp4 copied to 231205_gandalf\\body_2-rh-2023-12-06\\videos\\gandalf_231205_206_e3v831b.mp4\n",
      "Symlink creation impossible (exFat architecture?): copying the video instead.\n",
      "c:\\Users\\rober\\Desktop\\Monkey-Emotions\\video\\gandalf_231205\\gandalf_231205_207_e3v831b.mp4 copied to 231205_gandalf\\body_2-rh-2023-12-06\\videos\\gandalf_231205_207_e3v831b.mp4\n",
      "Symlink creation impossible (exFat architecture?): copying the video instead.\n",
      "c:\\Users\\rober\\Desktop\\Monkey-Emotions\\video\\gandalf_231205\\gandalf_231205_208_e3v831b.mp4 copied to 231205_gandalf\\body_2-rh-2023-12-06\\videos\\gandalf_231205_208_e3v831b.mp4\n",
      "Symlink creation impossible (exFat architecture?): copying the video instead.\n",
      "c:\\Users\\rober\\Desktop\\Monkey-Emotions\\video\\gandalf_231205\\gandalf_231205_209_e3v831b.mp4 copied to 231205_gandalf\\body_2-rh-2023-12-06\\videos\\gandalf_231205_209_e3v831b.mp4\n",
      "Symlink creation impossible (exFat architecture?): copying the video instead.\n",
      "c:\\Users\\rober\\Desktop\\Monkey-Emotions\\video\\gandalf_231205\\gandalf_231205_210_e3v831b.mp4 copied to 231205_gandalf\\body_2-rh-2023-12-06\\videos\\gandalf_231205_210_e3v831b.mp4\n",
      "Symlink creation impossible (exFat architecture?): copying the video instead.\n",
      "c:\\Users\\rober\\Desktop\\Monkey-Emotions\\video\\gandalf_231205\\gandalf_231205_211_e3v831b.mp4 copied to 231205_gandalf\\body_2-rh-2023-12-06\\videos\\gandalf_231205_211_e3v831b.mp4\n",
      "Symlink creation impossible (exFat architecture?): copying the video instead.\n",
      "c:\\Users\\rober\\Desktop\\Monkey-Emotions\\video\\gandalf_231205\\gandalf_231205_212_e3v831b.mp4 copied to 231205_gandalf\\body_2-rh-2023-12-06\\videos\\gandalf_231205_212_e3v831b.mp4\n",
      "Symlink creation impossible (exFat architecture?): copying the video instead.\n",
      "c:\\Users\\rober\\Desktop\\Monkey-Emotions\\video\\gandalf_231205\\gandalf_231205_213_e3v831b.mp4 copied to 231205_gandalf\\body_2-rh-2023-12-06\\videos\\gandalf_231205_213_e3v831b.mp4\n",
      "Symlink creation impossible (exFat architecture?): copying the video instead.\n",
      "c:\\Users\\rober\\Desktop\\Monkey-Emotions\\video\\gandalf_231205\\gandalf_231205_215_e3v831b.mp4 copied to 231205_gandalf\\body_2-rh-2023-12-06\\videos\\gandalf_231205_215_e3v831b.mp4\n",
      "Symlink creation impossible (exFat architecture?): copying the video instead.\n",
      "c:\\Users\\rober\\Desktop\\Monkey-Emotions\\video\\gandalf_231205\\gandalf_231205_216_e3v831b.mp4 copied to 231205_gandalf\\body_2-rh-2023-12-06\\videos\\gandalf_231205_216_e3v831b.mp4\n",
      "Symlink creation impossible (exFat architecture?): copying the video instead.\n",
      "c:\\Users\\rober\\Desktop\\Monkey-Emotions\\video\\gandalf_231205\\gandalf_231205_217_e3v831b.mp4 copied to 231205_gandalf\\body_2-rh-2023-12-06\\videos\\gandalf_231205_217_e3v831b.mp4\n",
      "Symlink creation impossible (exFat architecture?): copying the video instead.\n",
      "c:\\Users\\rober\\Desktop\\Monkey-Emotions\\video\\gandalf_231205\\gandalf_231205_218_e3v831b.mp4 copied to 231205_gandalf\\body_2-rh-2023-12-06\\videos\\gandalf_231205_218_e3v831b.mp4\n",
      "Symlink creation impossible (exFat architecture?): copying the video instead.\n",
      "c:\\Users\\rober\\Desktop\\Monkey-Emotions\\video\\gandalf_231205\\gandalf_231205_219_e3v831b.mp4 copied to 231205_gandalf\\body_2-rh-2023-12-06\\videos\\gandalf_231205_219_e3v831b.mp4\n",
      "Symlink creation impossible (exFat architecture?): copying the video instead.\n",
      "c:\\Users\\rober\\Desktop\\Monkey-Emotions\\video\\gandalf_231205\\gandalf_231205_220_e3v831b.mp4 copied to 231205_gandalf\\body_2-rh-2023-12-06\\videos\\gandalf_231205_220_e3v831b.mp4\n",
      "Symlink creation impossible (exFat architecture?): copying the video instead.\n",
      "c:\\Users\\rober\\Desktop\\Monkey-Emotions\\video\\gandalf_231205\\gandalf_231205_221_e3v831b.mp4 copied to 231205_gandalf\\body_2-rh-2023-12-06\\videos\\gandalf_231205_221_e3v831b.mp4\n",
      "Symlink creation impossible (exFat architecture?): copying the video instead.\n",
      "c:\\Users\\rober\\Desktop\\Monkey-Emotions\\video\\gandalf_231205\\gandalf_231205_222_e3v831b.mp4 copied to 231205_gandalf\\body_2-rh-2023-12-06\\videos\\gandalf_231205_222_e3v831b.mp4\n",
      "Symlink creation impossible (exFat architecture?): copying the video instead.\n",
      "c:\\Users\\rober\\Desktop\\Monkey-Emotions\\video\\gandalf_231205\\gandalf_231205_223_e3v831b.mp4 copied to 231205_gandalf\\body_2-rh-2023-12-06\\videos\\gandalf_231205_223_e3v831b.mp4\n",
      "Symlink creation impossible (exFat architecture?): copying the video instead.\n",
      "c:\\Users\\rober\\Desktop\\Monkey-Emotions\\video\\gandalf_231205\\gandalf_231205_224_e3v831b.mp4 copied to 231205_gandalf\\body_2-rh-2023-12-06\\videos\\gandalf_231205_224_e3v831b.mp4\n",
      "Symlink creation impossible (exFat architecture?): copying the video instead.\n",
      "c:\\Users\\rober\\Desktop\\Monkey-Emotions\\video\\gandalf_231205\\gandalf_231205_225_e3v831b.mp4 copied to 231205_gandalf\\body_2-rh-2023-12-06\\videos\\gandalf_231205_225_e3v831b.mp4\n",
      "Symlink creation impossible (exFat architecture?): copying the video instead.\n",
      "c:\\Users\\rober\\Desktop\\Monkey-Emotions\\video\\gandalf_231205\\gandalf_231205_226_e3v831b.mp4 copied to 231205_gandalf\\body_2-rh-2023-12-06\\videos\\gandalf_231205_226_e3v831b.mp4\n",
      "Symlink creation impossible (exFat architecture?): copying the video instead.\n",
      "c:\\Users\\rober\\Desktop\\Monkey-Emotions\\video\\gandalf_231205\\gandalf_231205_227_e3v831b.mp4 copied to 231205_gandalf\\body_2-rh-2023-12-06\\videos\\gandalf_231205_227_e3v831b.mp4\n",
      "Symlink creation impossible (exFat architecture?): copying the video instead.\n",
      "c:\\Users\\rober\\Desktop\\Monkey-Emotions\\video\\gandalf_231205\\gandalf_231205_228_e3v831b.mp4 copied to 231205_gandalf\\body_2-rh-2023-12-06\\videos\\gandalf_231205_228_e3v831b.mp4\n",
      "Symlink creation impossible (exFat architecture?): copying the video instead.\n",
      "c:\\Users\\rober\\Desktop\\Monkey-Emotions\\video\\gandalf_231205\\gandalf_231205_229_e3v831b.mp4 copied to 231205_gandalf\\body_2-rh-2023-12-06\\videos\\gandalf_231205_229_e3v831b.mp4\n",
      "Symlink creation impossible (exFat architecture?): copying the video instead.\n",
      "c:\\Users\\rober\\Desktop\\Monkey-Emotions\\video\\gandalf_231205\\gandalf_231205_230_e3v831b.mp4 copied to 231205_gandalf\\body_2-rh-2023-12-06\\videos\\gandalf_231205_230_e3v831b.mp4\n",
      "Symlink creation impossible (exFat architecture?): copying the video instead.\n",
      "c:\\Users\\rober\\Desktop\\Monkey-Emotions\\video\\gandalf_231205\\gandalf_231205_231_e3v831b.mp4 copied to 231205_gandalf\\body_2-rh-2023-12-06\\videos\\gandalf_231205_231_e3v831b.mp4\n",
      "Symlink creation impossible (exFat architecture?): copying the video instead.\n",
      "c:\\Users\\rober\\Desktop\\Monkey-Emotions\\video\\gandalf_231205\\gandalf_231205_232_e3v831b.mp4 copied to 231205_gandalf\\body_2-rh-2023-12-06\\videos\\gandalf_231205_232_e3v831b.mp4\n",
      "Symlink creation impossible (exFat architecture?): copying the video instead.\n",
      "c:\\Users\\rober\\Desktop\\Monkey-Emotions\\video\\gandalf_231205\\gandalf_231205_233_e3v831b.mp4 copied to 231205_gandalf\\body_2-rh-2023-12-06\\videos\\gandalf_231205_233_e3v831b.mp4\n",
      "Symlink creation impossible (exFat architecture?): copying the video instead.\n",
      "c:\\Users\\rober\\Desktop\\Monkey-Emotions\\video\\gandalf_231205\\gandalf_231205_234_e3v831b.mp4 copied to 231205_gandalf\\body_2-rh-2023-12-06\\videos\\gandalf_231205_234_e3v831b.mp4\n",
      "Symlink creation impossible (exFat architecture?): copying the video instead.\n",
      "c:\\Users\\rober\\Desktop\\Monkey-Emotions\\video\\gandalf_231205\\gandalf_231205_235_e3v831b.mp4 copied to 231205_gandalf\\body_2-rh-2023-12-06\\videos\\gandalf_231205_235_e3v831b.mp4\n",
      "Symlink creation impossible (exFat architecture?): copying the video instead.\n",
      "c:\\Users\\rober\\Desktop\\Monkey-Emotions\\video\\gandalf_231205\\gandalf_231205_236_e3v831b.mp4 copied to 231205_gandalf\\body_2-rh-2023-12-06\\videos\\gandalf_231205_236_e3v831b.mp4\n",
      "Symlink creation impossible (exFat architecture?): copying the video instead.\n",
      "c:\\Users\\rober\\Desktop\\Monkey-Emotions\\video\\gandalf_231205\\gandalf_231205_237_e3v831b.mp4 copied to 231205_gandalf\\body_2-rh-2023-12-06\\videos\\gandalf_231205_237_e3v831b.mp4\n",
      "Symlink creation impossible (exFat architecture?): copying the video instead.\n",
      "c:\\Users\\rober\\Desktop\\Monkey-Emotions\\video\\gandalf_231205\\gandalf_231205_238_e3v831b.mp4 copied to 231205_gandalf\\body_2-rh-2023-12-06\\videos\\gandalf_231205_238_e3v831b.mp4\n",
      "Symlink creation impossible (exFat architecture?): copying the video instead.\n",
      "c:\\Users\\rober\\Desktop\\Monkey-Emotions\\video\\gandalf_231205\\gandalf_231205_239_e3v831b.mp4 copied to 231205_gandalf\\body_2-rh-2023-12-06\\videos\\gandalf_231205_239_e3v831b.mp4\n",
      "Symlink creation impossible (exFat architecture?): copying the video instead.\n",
      "c:\\Users\\rober\\Desktop\\Monkey-Emotions\\video\\gandalf_231205\\gandalf_231205_240_e3v831b.mp4 copied to 231205_gandalf\\body_2-rh-2023-12-06\\videos\\gandalf_231205_240_e3v831b.mp4\n",
      "Symlink creation impossible (exFat architecture?): copying the video instead.\n",
      "c:\\Users\\rober\\Desktop\\Monkey-Emotions\\video\\gandalf_231205\\gandalf_231205_241_e3v831b.mp4 copied to 231205_gandalf\\body_2-rh-2023-12-06\\videos\\gandalf_231205_241_e3v831b.mp4\n",
      "Symlink creation impossible (exFat architecture?): copying the video instead.\n",
      "c:\\Users\\rober\\Desktop\\Monkey-Emotions\\video\\gandalf_231205\\gandalf_231205_242_e3v831b.mp4 copied to 231205_gandalf\\body_2-rh-2023-12-06\\videos\\gandalf_231205_242_e3v831b.mp4\n",
      "Symlink creation impossible (exFat architecture?): copying the video instead.\n",
      "c:\\Users\\rober\\Desktop\\Monkey-Emotions\\video\\gandalf_231205\\gandalf_231205_243_e3v831b.mp4 copied to 231205_gandalf\\body_2-rh-2023-12-06\\videos\\gandalf_231205_243_e3v831b.mp4\n",
      "Symlink creation impossible (exFat architecture?): copying the video instead.\n",
      "c:\\Users\\rober\\Desktop\\Monkey-Emotions\\video\\gandalf_231205\\gandalf_231205_244_e3v831b.mp4 copied to 231205_gandalf\\body_2-rh-2023-12-06\\videos\\gandalf_231205_244_e3v831b.mp4\n",
      "Symlink creation impossible (exFat architecture?): copying the video instead.\n",
      "c:\\Users\\rober\\Desktop\\Monkey-Emotions\\video\\gandalf_231205\\gandalf_231205_245_e3v831b.mp4 copied to 231205_gandalf\\body_2-rh-2023-12-06\\videos\\gandalf_231205_245_e3v831b.mp4\n",
      "Symlink creation impossible (exFat architecture?): copying the video instead.\n",
      "c:\\Users\\rober\\Desktop\\Monkey-Emotions\\video\\gandalf_231205\\gandalf_231205_246_e3v831b.mp4 copied to 231205_gandalf\\body_2-rh-2023-12-06\\videos\\gandalf_231205_246_e3v831b.mp4\n",
      "Symlink creation impossible (exFat architecture?): copying the video instead.\n",
      "c:\\Users\\rober\\Desktop\\Monkey-Emotions\\video\\gandalf_231205\\gandalf_231205_247_e3v831b.mp4 copied to 231205_gandalf\\body_2-rh-2023-12-06\\videos\\gandalf_231205_247_e3v831b.mp4\n",
      "Symlink creation impossible (exFat architecture?): copying the video instead.\n",
      "c:\\Users\\rober\\Desktop\\Monkey-Emotions\\video\\gandalf_231205\\gandalf_231205_248_e3v831b.mp4 copied to 231205_gandalf\\body_2-rh-2023-12-06\\videos\\gandalf_231205_248_e3v831b.mp4\n",
      "Symlink creation impossible (exFat architecture?): copying the video instead.\n",
      "c:\\Users\\rober\\Desktop\\Monkey-Emotions\\video\\gandalf_231205\\gandalf_231205_249_e3v831b.mp4 copied to 231205_gandalf\\body_2-rh-2023-12-06\\videos\\gandalf_231205_249_e3v831b.mp4\n",
      "Symlink creation impossible (exFat architecture?): copying the video instead.\n",
      "c:\\Users\\rober\\Desktop\\Monkey-Emotions\\video\\gandalf_231205\\gandalf_231205_250_e3v831b.mp4 copied to 231205_gandalf\\body_2-rh-2023-12-06\\videos\\gandalf_231205_250_e3v831b.mp4\n",
      "Symlink creation impossible (exFat architecture?): copying the video instead.\n",
      "c:\\Users\\rober\\Desktop\\Monkey-Emotions\\video\\gandalf_231205\\gandalf_231205_251_e3v831b.mp4 copied to 231205_gandalf\\body_2-rh-2023-12-06\\videos\\gandalf_231205_251_e3v831b.mp4\n",
      "Symlink creation impossible (exFat architecture?): copying the video instead.\n",
      "c:\\Users\\rober\\Desktop\\Monkey-Emotions\\video\\gandalf_231205\\gandalf_231205_252_e3v831b.mp4 copied to 231205_gandalf\\body_2-rh-2023-12-06\\videos\\gandalf_231205_252_e3v831b.mp4\n",
      "Symlink creation impossible (exFat architecture?): copying the video instead.\n",
      "c:\\Users\\rober\\Desktop\\Monkey-Emotions\\video\\gandalf_231205\\gandalf_231205_253_e3v831b.mp4 copied to 231205_gandalf\\body_2-rh-2023-12-06\\videos\\gandalf_231205_253_e3v831b.mp4\n",
      "Symlink creation impossible (exFat architecture?): copying the video instead.\n",
      "c:\\Users\\rober\\Desktop\\Monkey-Emotions\\video\\gandalf_231205\\gandalf_231205_254_e3v831b.mp4 copied to 231205_gandalf\\body_2-rh-2023-12-06\\videos\\gandalf_231205_254_e3v831b.mp4\n",
      "Symlink creation impossible (exFat architecture?): copying the video instead.\n",
      "c:\\Users\\rober\\Desktop\\Monkey-Emotions\\video\\gandalf_231205\\gandalf_231205_255_e3v831b.mp4 copied to 231205_gandalf\\body_2-rh-2023-12-06\\videos\\gandalf_231205_255_e3v831b.mp4\n",
      "Symlink creation impossible (exFat architecture?): copying the video instead.\n",
      "c:\\Users\\rober\\Desktop\\Monkey-Emotions\\video\\gandalf_231205\\gandalf_231205_256_e3v831b.mp4 copied to 231205_gandalf\\body_2-rh-2023-12-06\\videos\\gandalf_231205_256_e3v831b.mp4\n",
      "Symlink creation impossible (exFat architecture?): copying the video instead.\n",
      "c:\\Users\\rober\\Desktop\\Monkey-Emotions\\video\\gandalf_231205\\gandalf_231205_257_e3v831b.mp4 copied to 231205_gandalf\\body_2-rh-2023-12-06\\videos\\gandalf_231205_257_e3v831b.mp4\n",
      "Symlink creation impossible (exFat architecture?): copying the video instead.\n",
      "c:\\Users\\rober\\Desktop\\Monkey-Emotions\\video\\gandalf_231205\\gandalf_231205_258_e3v831b.mp4 copied to 231205_gandalf\\body_2-rh-2023-12-06\\videos\\gandalf_231205_258_e3v831b.mp4\n",
      "Symlink creation impossible (exFat architecture?): copying the video instead.\n",
      "c:\\Users\\rober\\Desktop\\Monkey-Emotions\\video\\gandalf_231205\\gandalf_231205_259_e3v831b.mp4 copied to 231205_gandalf\\body_2-rh-2023-12-06\\videos\\gandalf_231205_259_e3v831b.mp4\n",
      "Symlink creation impossible (exFat architecture?): copying the video instead.\n",
      "c:\\Users\\rober\\Desktop\\Monkey-Emotions\\video\\gandalf_231205\\gandalf_231205_260_e3v831b.mp4 copied to 231205_gandalf\\body_2-rh-2023-12-06\\videos\\gandalf_231205_260_e3v831b.mp4\n",
      "Symlink creation impossible (exFat architecture?): copying the video instead.\n",
      "c:\\Users\\rober\\Desktop\\Monkey-Emotions\\video\\gandalf_231205\\gandalf_231205_261_e3v831b.mp4 copied to 231205_gandalf\\body_2-rh-2023-12-06\\videos\\gandalf_231205_261_e3v831b.mp4\n",
      "Symlink creation impossible (exFat architecture?): copying the video instead.\n",
      "c:\\Users\\rober\\Desktop\\Monkey-Emotions\\video\\gandalf_231205\\gandalf_231205_262_e3v831b.mp4 copied to 231205_gandalf\\body_2-rh-2023-12-06\\videos\\gandalf_231205_262_e3v831b.mp4\n",
      "Symlink creation impossible (exFat architecture?): copying the video instead.\n",
      "c:\\Users\\rober\\Desktop\\Monkey-Emotions\\video\\gandalf_231205\\gandalf_231205_263_e3v831b.mp4 copied to 231205_gandalf\\body_2-rh-2023-12-06\\videos\\gandalf_231205_263_e3v831b.mp4\n",
      "Symlink creation impossible (exFat architecture?): copying the video instead.\n",
      "c:\\Users\\rober\\Desktop\\Monkey-Emotions\\video\\gandalf_231205\\gandalf_231205_264_e3v831b.mp4 copied to 231205_gandalf\\body_2-rh-2023-12-06\\videos\\gandalf_231205_264_e3v831b.mp4\n",
      "Symlink creation impossible (exFat architecture?): copying the video instead.\n",
      "c:\\Users\\rober\\Desktop\\Monkey-Emotions\\video\\gandalf_231205\\gandalf_231205_265_e3v831b.mp4 copied to 231205_gandalf\\body_2-rh-2023-12-06\\videos\\gandalf_231205_265_e3v831b.mp4\n",
      "Symlink creation impossible (exFat architecture?): copying the video instead.\n",
      "c:\\Users\\rober\\Desktop\\Monkey-Emotions\\video\\gandalf_231205\\gandalf_231205_266_e3v831b.mp4 copied to 231205_gandalf\\body_2-rh-2023-12-06\\videos\\gandalf_231205_266_e3v831b.mp4\n",
      "Symlink creation impossible (exFat architecture?): copying the video instead.\n",
      "c:\\Users\\rober\\Desktop\\Monkey-Emotions\\video\\gandalf_231205\\gandalf_231205_267_e3v831b.mp4 copied to 231205_gandalf\\body_2-rh-2023-12-06\\videos\\gandalf_231205_267_e3v831b.mp4\n",
      "Symlink creation impossible (exFat architecture?): copying the video instead.\n",
      "c:\\Users\\rober\\Desktop\\Monkey-Emotions\\video\\gandalf_231205\\gandalf_231205_268_e3v831b.mp4 copied to 231205_gandalf\\body_2-rh-2023-12-06\\videos\\gandalf_231205_268_e3v831b.mp4\n",
      "Symlink creation impossible (exFat architecture?): copying the video instead.\n",
      "c:\\Users\\rober\\Desktop\\Monkey-Emotions\\video\\gandalf_231205\\gandalf_231205_269_e3v831b.mp4 copied to 231205_gandalf\\body_2-rh-2023-12-06\\videos\\gandalf_231205_269_e3v831b.mp4\n",
      "Symlink creation impossible (exFat architecture?): copying the video instead.\n",
      "c:\\Users\\rober\\Desktop\\Monkey-Emotions\\video\\gandalf_231205\\gandalf_231205_270_e3v831b.mp4 copied to 231205_gandalf\\body_2-rh-2023-12-06\\videos\\gandalf_231205_270_e3v831b.mp4\n",
      "Symlink creation impossible (exFat architecture?): copying the video instead.\n",
      "c:\\Users\\rober\\Desktop\\Monkey-Emotions\\video\\gandalf_231205\\gandalf_231205_271_e3v831b.mp4 copied to 231205_gandalf\\body_2-rh-2023-12-06\\videos\\gandalf_231205_271_e3v831b.mp4\n",
      "Symlink creation impossible (exFat architecture?): copying the video instead.\n",
      "c:\\Users\\rober\\Desktop\\Monkey-Emotions\\video\\gandalf_231205\\gandalf_231205_272_e3v831b.mp4 copied to 231205_gandalf\\body_2-rh-2023-12-06\\videos\\gandalf_231205_272_e3v831b.mp4\n",
      "Symlink creation impossible (exFat architecture?): copying the video instead.\n",
      "c:\\Users\\rober\\Desktop\\Monkey-Emotions\\video\\gandalf_231205\\gandalf_231205_273_e3v831b.mp4 copied to 231205_gandalf\\body_2-rh-2023-12-06\\videos\\gandalf_231205_273_e3v831b.mp4\n",
      "Symlink creation impossible (exFat architecture?): copying the video instead.\n",
      "c:\\Users\\rober\\Desktop\\Monkey-Emotions\\video\\gandalf_231205\\gandalf_231205_274_e3v831b.mp4 copied to 231205_gandalf\\body_2-rh-2023-12-06\\videos\\gandalf_231205_274_e3v831b.mp4\n",
      "Symlink creation impossible (exFat architecture?): copying the video instead.\n",
      "c:\\Users\\rober\\Desktop\\Monkey-Emotions\\video\\gandalf_231205\\gandalf_231205_275_e3v831b.mp4 copied to 231205_gandalf\\body_2-rh-2023-12-06\\videos\\gandalf_231205_275_e3v831b.mp4\n",
      "Symlink creation impossible (exFat architecture?): copying the video instead.\n",
      "c:\\Users\\rober\\Desktop\\Monkey-Emotions\\video\\gandalf_231205\\gandalf_231205_276_e3v831b.mp4 copied to 231205_gandalf\\body_2-rh-2023-12-06\\videos\\gandalf_231205_276_e3v831b.mp4\n",
      "Symlink creation impossible (exFat architecture?): copying the video instead.\n",
      "c:\\Users\\rober\\Desktop\\Monkey-Emotions\\video\\gandalf_231205\\gandalf_231205_277_e3v831b.mp4 copied to 231205_gandalf\\body_2-rh-2023-12-06\\videos\\gandalf_231205_277_e3v831b.mp4\n",
      "Symlink creation impossible (exFat architecture?): copying the video instead.\n",
      "c:\\Users\\rober\\Desktop\\Monkey-Emotions\\video\\gandalf_231205\\gandalf_231205_278_e3v831b.mp4 copied to 231205_gandalf\\body_2-rh-2023-12-06\\videos\\gandalf_231205_278_e3v831b.mp4\n",
      "Symlink creation impossible (exFat architecture?): copying the video instead.\n",
      "c:\\Users\\rober\\Desktop\\Monkey-Emotions\\video\\gandalf_231205\\gandalf_231205_279_e3v831b.mp4 copied to 231205_gandalf\\body_2-rh-2023-12-06\\videos\\gandalf_231205_279_e3v831b.mp4\n",
      "Symlink creation impossible (exFat architecture?): copying the video instead.\n",
      "c:\\Users\\rober\\Desktop\\Monkey-Emotions\\video\\gandalf_231205\\gandalf_231205_280_e3v831b.mp4 copied to 231205_gandalf\\body_2-rh-2023-12-06\\videos\\gandalf_231205_280_e3v831b.mp4\n",
      "Symlink creation impossible (exFat architecture?): copying the video instead.\n",
      "c:\\Users\\rober\\Desktop\\Monkey-Emotions\\video\\gandalf_231205\\gandalf_231205_282_e3v831b.mp4 copied to 231205_gandalf\\body_2-rh-2023-12-06\\videos\\gandalf_231205_282_e3v831b.mp4\n",
      "Symlink creation impossible (exFat architecture?): copying the video instead.\n",
      "c:\\Users\\rober\\Desktop\\Monkey-Emotions\\video\\gandalf_231205\\gandalf_231205_283_e3v831b.mp4 copied to 231205_gandalf\\body_2-rh-2023-12-06\\videos\\gandalf_231205_283_e3v831b.mp4\n",
      "Symlink creation impossible (exFat architecture?): copying the video instead.\n",
      "c:\\Users\\rober\\Desktop\\Monkey-Emotions\\video\\gandalf_231205\\gandalf_231205_284_e3v831b.mp4 copied to 231205_gandalf\\body_2-rh-2023-12-06\\videos\\gandalf_231205_284_e3v831b.mp4\n",
      "New videos were added to the project! Use the function 'extract_frames' to select frames for labeling.\n",
      "Using snapshot-1030000 for model 231205_gandalf\\body_2-rh-2023-12-06\\dlc-models\\iteration-0\\body_2Dec6-trainset95shuffle1\n"
     ]
    },
    {
     "name": "stderr",
     "output_type": "stream",
     "text": [
      "c:\\Users\\rober\\anaconda3\\envs\\DEEPLABCUT\\lib\\site-packages\\tensorflow\\python\\keras\\engine\\base_layer_v1.py:1694: UserWarning: `layer.apply` is deprecated and will be removed in a future version. Please use `layer.__call__` method instead.\n",
      "  warnings.warn('`layer.apply` is deprecated and '\n"
     ]
    },
    {
     "name": "stdout",
     "output_type": "stream",
     "text": [
      "Starting to analyze %  c:\\Users\\rober\\Desktop\\Monkey-Emotions\\video\\gandalf_231205\\gandalf_231205_0_e3v831b.mp4\n",
      "Loading  c:\\Users\\rober\\Desktop\\Monkey-Emotions\\video\\gandalf_231205\\gandalf_231205_0_e3v831b.mp4\n",
      "Duration of video [s]:  12.9 , recorded with  120.0 fps!\n",
      "Overall # of frames:  1548  found with (before cropping) frame dimensions:  640 480\n",
      "Starting to extract posture\n"
     ]
    },
    {
     "name": "stderr",
     "output_type": "stream",
     "text": [
      "100%|██████████| 1548/1548 [05:32<00:00,  4.65it/s]\n"
     ]
    },
    {
     "name": "stdout",
     "output_type": "stream",
     "text": [
      "Saving results in c:\\Users\\rober\\Desktop\\Monkey-Emotions\\video\\gandalf_231205...\n",
      "Saving csv poses!\n",
      "Starting to analyze %  c:\\Users\\rober\\Desktop\\Monkey-Emotions\\video\\gandalf_231205\\gandalf_231205_1_e3v831b.mp4\n",
      "Loading  c:\\Users\\rober\\Desktop\\Monkey-Emotions\\video\\gandalf_231205\\gandalf_231205_1_e3v831b.mp4\n",
      "Duration of video [s]:  17.58 , recorded with  120.0 fps!\n",
      "Overall # of frames:  2110  found with (before cropping) frame dimensions:  640 480\n",
      "Starting to extract posture\n"
     ]
    },
    {
     "name": "stderr",
     "output_type": "stream",
     "text": [
      "100%|██████████| 2110/2110 [07:31<00:00,  4.68it/s]\n"
     ]
    },
    {
     "name": "stdout",
     "output_type": "stream",
     "text": [
      "Saving results in c:\\Users\\rober\\Desktop\\Monkey-Emotions\\video\\gandalf_231205...\n",
      "Saving csv poses!\n",
      "Starting to analyze %  c:\\Users\\rober\\Desktop\\Monkey-Emotions\\video\\gandalf_231205\\gandalf_231205_2_e3v831b.mp4\n",
      "Loading  c:\\Users\\rober\\Desktop\\Monkey-Emotions\\video\\gandalf_231205\\gandalf_231205_2_e3v831b.mp4\n",
      "Duration of video [s]:  10.42 , recorded with  120.0 fps!\n",
      "Overall # of frames:  1250  found with (before cropping) frame dimensions:  640 480\n",
      "Starting to extract posture\n"
     ]
    },
    {
     "name": "stderr",
     "output_type": "stream",
     "text": [
      "100%|██████████| 1250/1250 [04:38<00:00,  4.49it/s]\n"
     ]
    },
    {
     "name": "stdout",
     "output_type": "stream",
     "text": [
      "Saving results in c:\\Users\\rober\\Desktop\\Monkey-Emotions\\video\\gandalf_231205...\n",
      "Saving csv poses!\n",
      "Starting to analyze %  c:\\Users\\rober\\Desktop\\Monkey-Emotions\\video\\gandalf_231205\\gandalf_231205_3_e3v831b.mp4\n",
      "Loading  c:\\Users\\rober\\Desktop\\Monkey-Emotions\\video\\gandalf_231205\\gandalf_231205_3_e3v831b.mp4\n",
      "Duration of video [s]:  14.14 , recorded with  120.0 fps!\n",
      "Overall # of frames:  1697  found with (before cropping) frame dimensions:  640 480\n",
      "Starting to extract posture\n"
     ]
    },
    {
     "name": "stderr",
     "output_type": "stream",
     "text": [
      "100%|██████████| 1697/1697 [06:16<00:00,  4.51it/s]\n"
     ]
    },
    {
     "name": "stdout",
     "output_type": "stream",
     "text": [
      "Saving results in c:\\Users\\rober\\Desktop\\Monkey-Emotions\\video\\gandalf_231205...\n",
      "Saving csv poses!\n",
      "Starting to analyze %  c:\\Users\\rober\\Desktop\\Monkey-Emotions\\video\\gandalf_231205\\gandalf_231205_4_e3v831b.mp4\n",
      "Loading  c:\\Users\\rober\\Desktop\\Monkey-Emotions\\video\\gandalf_231205\\gandalf_231205_4_e3v831b.mp4\n",
      "Duration of video [s]:  18.91 , recorded with  120.0 fps!\n",
      "Overall # of frames:  2269  found with (before cropping) frame dimensions:  640 480\n",
      "Starting to extract posture\n"
     ]
    },
    {
     "name": "stderr",
     "output_type": "stream",
     "text": [
      "100%|██████████| 2269/2269 [08:21<00:00,  4.52it/s]\n"
     ]
    },
    {
     "name": "stdout",
     "output_type": "stream",
     "text": [
      "Saving results in c:\\Users\\rober\\Desktop\\Monkey-Emotions\\video\\gandalf_231205...\n",
      "Saving csv poses!\n",
      "Starting to analyze %  c:\\Users\\rober\\Desktop\\Monkey-Emotions\\video\\gandalf_231205\\gandalf_231205_5_e3v831b.mp4\n",
      "Loading  c:\\Users\\rober\\Desktop\\Monkey-Emotions\\video\\gandalf_231205\\gandalf_231205_5_e3v831b.mp4\n",
      "Duration of video [s]:  14.57 , recorded with  120.0 fps!\n",
      "Overall # of frames:  1748  found with (before cropping) frame dimensions:  640 480\n",
      "Starting to extract posture\n"
     ]
    },
    {
     "name": "stderr",
     "output_type": "stream",
     "text": [
      "100%|██████████| 1748/1748 [06:15<00:00,  4.65it/s]\n"
     ]
    },
    {
     "name": "stdout",
     "output_type": "stream",
     "text": [
      "Saving results in c:\\Users\\rober\\Desktop\\Monkey-Emotions\\video\\gandalf_231205...\n",
      "Saving csv poses!\n",
      "Starting to analyze %  c:\\Users\\rober\\Desktop\\Monkey-Emotions\\video\\gandalf_231205\\gandalf_231205_6_e3v831b.mp4\n",
      "Loading  c:\\Users\\rober\\Desktop\\Monkey-Emotions\\video\\gandalf_231205\\gandalf_231205_6_e3v831b.mp4\n",
      "Duration of video [s]:  13.63 , recorded with  120.0 fps!\n",
      "Overall # of frames:  1636  found with (before cropping) frame dimensions:  640 480\n",
      "Starting to extract posture\n"
     ]
    },
    {
     "name": "stderr",
     "output_type": "stream",
     "text": [
      "100%|██████████| 1636/1636 [05:55<00:00,  4.60it/s]\n"
     ]
    },
    {
     "name": "stdout",
     "output_type": "stream",
     "text": [
      "Saving results in c:\\Users\\rober\\Desktop\\Monkey-Emotions\\video\\gandalf_231205...\n",
      "Saving csv poses!\n",
      "Starting to analyze %  c:\\Users\\rober\\Desktop\\Monkey-Emotions\\video\\gandalf_231205\\gandalf_231205_7_e3v831b.mp4\n",
      "Loading  c:\\Users\\rober\\Desktop\\Monkey-Emotions\\video\\gandalf_231205\\gandalf_231205_7_e3v831b.mp4\n",
      "Duration of video [s]:  14.64 , recorded with  120.0 fps!\n",
      "Overall # of frames:  1757  found with (before cropping) frame dimensions:  640 480\n",
      "Starting to extract posture\n"
     ]
    },
    {
     "name": "stderr",
     "output_type": "stream",
     "text": [
      "100%|██████████| 1757/1757 [06:27<00:00,  4.53it/s]\n"
     ]
    },
    {
     "name": "stdout",
     "output_type": "stream",
     "text": [
      "Saving results in c:\\Users\\rober\\Desktop\\Monkey-Emotions\\video\\gandalf_231205...\n",
      "Saving csv poses!\n",
      "Starting to analyze %  c:\\Users\\rober\\Desktop\\Monkey-Emotions\\video\\gandalf_231205\\gandalf_231205_8_e3v831b.mp4\n",
      "Loading  c:\\Users\\rober\\Desktop\\Monkey-Emotions\\video\\gandalf_231205\\gandalf_231205_8_e3v831b.mp4\n",
      "Duration of video [s]:  12.17 , recorded with  120.0 fps!\n",
      "Overall # of frames:  1460  found with (before cropping) frame dimensions:  640 480\n",
      "Starting to extract posture\n"
     ]
    },
    {
     "name": "stderr",
     "output_type": "stream",
     "text": [
      "100%|██████████| 1460/1460 [05:12<00:00,  4.68it/s]\n"
     ]
    },
    {
     "name": "stdout",
     "output_type": "stream",
     "text": [
      "Saving results in c:\\Users\\rober\\Desktop\\Monkey-Emotions\\video\\gandalf_231205...\n",
      "Saving csv poses!\n",
      "Starting to analyze %  c:\\Users\\rober\\Desktop\\Monkey-Emotions\\video\\gandalf_231205\\gandalf_231205_9_e3v831b.mp4\n",
      "Loading  c:\\Users\\rober\\Desktop\\Monkey-Emotions\\video\\gandalf_231205\\gandalf_231205_9_e3v831b.mp4\n",
      "Duration of video [s]:  14.92 , recorded with  120.0 fps!\n",
      "Overall # of frames:  1790  found with (before cropping) frame dimensions:  640 480\n",
      "Starting to extract posture\n"
     ]
    },
    {
     "name": "stderr",
     "output_type": "stream",
     "text": [
      "100%|██████████| 1790/1790 [06:33<00:00,  4.54it/s]\n"
     ]
    },
    {
     "name": "stdout",
     "output_type": "stream",
     "text": [
      "Saving results in c:\\Users\\rober\\Desktop\\Monkey-Emotions\\video\\gandalf_231205...\n",
      "Saving csv poses!\n",
      "Starting to analyze %  c:\\Users\\rober\\Desktop\\Monkey-Emotions\\video\\gandalf_231205\\gandalf_231205_10_e3v831b.mp4\n",
      "Loading  c:\\Users\\rober\\Desktop\\Monkey-Emotions\\video\\gandalf_231205\\gandalf_231205_10_e3v831b.mp4\n",
      "Duration of video [s]:  13.74 , recorded with  120.0 fps!\n",
      "Overall # of frames:  1649  found with (before cropping) frame dimensions:  640 480\n",
      "Starting to extract posture\n"
     ]
    },
    {
     "name": "stderr",
     "output_type": "stream",
     "text": [
      "100%|██████████| 1649/1649 [06:02<00:00,  4.55it/s]\n"
     ]
    },
    {
     "name": "stdout",
     "output_type": "stream",
     "text": [
      "Saving results in c:\\Users\\rober\\Desktop\\Monkey-Emotions\\video\\gandalf_231205...\n",
      "Saving csv poses!\n",
      "Starting to analyze %  c:\\Users\\rober\\Desktop\\Monkey-Emotions\\video\\gandalf_231205\\gandalf_231205_11_e3v831b.mp4\n",
      "Loading  c:\\Users\\rober\\Desktop\\Monkey-Emotions\\video\\gandalf_231205\\gandalf_231205_11_e3v831b.mp4\n",
      "Duration of video [s]:  13.25 , recorded with  120.0 fps!\n",
      "Overall # of frames:  1590  found with (before cropping) frame dimensions:  640 480\n",
      "Starting to extract posture\n"
     ]
    },
    {
     "name": "stderr",
     "output_type": "stream",
     "text": [
      "100%|██████████| 1590/1590 [05:48<00:00,  4.57it/s]\n"
     ]
    },
    {
     "name": "stdout",
     "output_type": "stream",
     "text": [
      "Saving results in c:\\Users\\rober\\Desktop\\Monkey-Emotions\\video\\gandalf_231205...\n",
      "Saving csv poses!\n",
      "Starting to analyze %  c:\\Users\\rober\\Desktop\\Monkey-Emotions\\video\\gandalf_231205\\gandalf_231205_12_e3v831b.mp4\n",
      "Loading  c:\\Users\\rober\\Desktop\\Monkey-Emotions\\video\\gandalf_231205\\gandalf_231205_12_e3v831b.mp4\n",
      "Duration of video [s]:  15.69 , recorded with  120.0 fps!\n",
      "Overall # of frames:  1883  found with (before cropping) frame dimensions:  640 480\n",
      "Starting to extract posture\n"
     ]
    },
    {
     "name": "stderr",
     "output_type": "stream",
     "text": [
      "100%|██████████| 1883/1883 [06:52<00:00,  4.56it/s]\n"
     ]
    },
    {
     "name": "stdout",
     "output_type": "stream",
     "text": [
      "Saving results in c:\\Users\\rober\\Desktop\\Monkey-Emotions\\video\\gandalf_231205...\n",
      "Saving csv poses!\n",
      "Starting to analyze %  c:\\Users\\rober\\Desktop\\Monkey-Emotions\\video\\gandalf_231205\\gandalf_231205_13_e3v831b.mp4\n",
      "Loading  c:\\Users\\rober\\Desktop\\Monkey-Emotions\\video\\gandalf_231205\\gandalf_231205_13_e3v831b.mp4\n",
      "Duration of video [s]:  10.85 , recorded with  120.0 fps!\n",
      "Overall # of frames:  1302  found with (before cropping) frame dimensions:  640 480\n",
      "Starting to extract posture\n"
     ]
    },
    {
     "name": "stderr",
     "output_type": "stream",
     "text": [
      "100%|██████████| 1302/1302 [04:43<00:00,  4.60it/s]\n"
     ]
    },
    {
     "name": "stdout",
     "output_type": "stream",
     "text": [
      "Saving results in c:\\Users\\rober\\Desktop\\Monkey-Emotions\\video\\gandalf_231205...\n",
      "Saving csv poses!\n",
      "Starting to analyze %  c:\\Users\\rober\\Desktop\\Monkey-Emotions\\video\\gandalf_231205\\gandalf_231205_14_e3v831b.mp4\n",
      "Loading  c:\\Users\\rober\\Desktop\\Monkey-Emotions\\video\\gandalf_231205\\gandalf_231205_14_e3v831b.mp4\n",
      "Duration of video [s]:  25.43 , recorded with  120.0 fps!\n",
      "Overall # of frames:  3051  found with (before cropping) frame dimensions:  640 480\n",
      "Starting to extract posture\n"
     ]
    },
    {
     "name": "stderr",
     "output_type": "stream",
     "text": [
      "100%|██████████| 3051/3051 [11:05<00:00,  4.59it/s]\n"
     ]
    },
    {
     "name": "stdout",
     "output_type": "stream",
     "text": [
      "Saving results in c:\\Users\\rober\\Desktop\\Monkey-Emotions\\video\\gandalf_231205...\n",
      "Saving csv poses!\n",
      "Starting to analyze %  c:\\Users\\rober\\Desktop\\Monkey-Emotions\\video\\gandalf_231205\\gandalf_231205_15_e3v831b.mp4\n",
      "Loading  c:\\Users\\rober\\Desktop\\Monkey-Emotions\\video\\gandalf_231205\\gandalf_231205_15_e3v831b.mp4\n",
      "Duration of video [s]:  16.51 , recorded with  120.0 fps!\n",
      "Overall # of frames:  1981  found with (before cropping) frame dimensions:  640 480\n",
      "Starting to extract posture\n"
     ]
    },
    {
     "name": "stderr",
     "output_type": "stream",
     "text": [
      "100%|██████████| 1981/1981 [07:06<00:00,  4.65it/s]\n"
     ]
    },
    {
     "name": "stdout",
     "output_type": "stream",
     "text": [
      "Saving results in c:\\Users\\rober\\Desktop\\Monkey-Emotions\\video\\gandalf_231205...\n",
      "Saving csv poses!\n",
      "Starting to analyze %  c:\\Users\\rober\\Desktop\\Monkey-Emotions\\video\\gandalf_231205\\gandalf_231205_16_e3v831b.mp4\n",
      "Loading  c:\\Users\\rober\\Desktop\\Monkey-Emotions\\video\\gandalf_231205\\gandalf_231205_16_e3v831b.mp4\n",
      "Duration of video [s]:  11.82 , recorded with  120.0 fps!\n",
      "Overall # of frames:  1418  found with (before cropping) frame dimensions:  640 480\n",
      "Starting to extract posture\n"
     ]
    },
    {
     "name": "stderr",
     "output_type": "stream",
     "text": [
      "100%|██████████| 1418/1418 [05:06<00:00,  4.63it/s]\n"
     ]
    },
    {
     "name": "stdout",
     "output_type": "stream",
     "text": [
      "Saving results in c:\\Users\\rober\\Desktop\\Monkey-Emotions\\video\\gandalf_231205...\n",
      "Saving csv poses!\n",
      "Starting to analyze %  c:\\Users\\rober\\Desktop\\Monkey-Emotions\\video\\gandalf_231205\\gandalf_231205_17_e3v831b.mp4\n",
      "Loading  c:\\Users\\rober\\Desktop\\Monkey-Emotions\\video\\gandalf_231205\\gandalf_231205_17_e3v831b.mp4\n",
      "Duration of video [s]:  15.74 , recorded with  120.0 fps!\n",
      "Overall # of frames:  1889  found with (before cropping) frame dimensions:  640 480\n",
      "Starting to extract posture\n"
     ]
    },
    {
     "name": "stderr",
     "output_type": "stream",
     "text": [
      "100%|██████████| 1889/1889 [06:45<00:00,  4.66it/s]\n"
     ]
    },
    {
     "name": "stdout",
     "output_type": "stream",
     "text": [
      "Saving results in c:\\Users\\rober\\Desktop\\Monkey-Emotions\\video\\gandalf_231205...\n",
      "Saving csv poses!\n",
      "Starting to analyze %  c:\\Users\\rober\\Desktop\\Monkey-Emotions\\video\\gandalf_231205\\gandalf_231205_18_e3v831b.mp4\n",
      "Loading  c:\\Users\\rober\\Desktop\\Monkey-Emotions\\video\\gandalf_231205\\gandalf_231205_18_e3v831b.mp4\n",
      "Duration of video [s]:  18.37 , recorded with  120.0 fps!\n",
      "Overall # of frames:  2204  found with (before cropping) frame dimensions:  640 480\n",
      "Starting to extract posture\n"
     ]
    },
    {
     "name": "stderr",
     "output_type": "stream",
     "text": [
      "100%|██████████| 2204/2204 [07:55<00:00,  4.63it/s]\n"
     ]
    },
    {
     "name": "stdout",
     "output_type": "stream",
     "text": [
      "Saving results in c:\\Users\\rober\\Desktop\\Monkey-Emotions\\video\\gandalf_231205...\n",
      "Saving csv poses!\n",
      "Starting to analyze %  c:\\Users\\rober\\Desktop\\Monkey-Emotions\\video\\gandalf_231205\\gandalf_231205_19_e3v831b.mp4\n",
      "Loading  c:\\Users\\rober\\Desktop\\Monkey-Emotions\\video\\gandalf_231205\\gandalf_231205_19_e3v831b.mp4\n",
      "Duration of video [s]:  15.28 , recorded with  120.0 fps!\n",
      "Overall # of frames:  1833  found with (before cropping) frame dimensions:  640 480\n",
      "Starting to extract posture\n"
     ]
    },
    {
     "name": "stderr",
     "output_type": "stream",
     "text": [
      "100%|██████████| 1833/1833 [06:35<00:00,  4.63it/s]\n"
     ]
    },
    {
     "name": "stdout",
     "output_type": "stream",
     "text": [
      "Saving results in c:\\Users\\rober\\Desktop\\Monkey-Emotions\\video\\gandalf_231205...\n",
      "Saving csv poses!\n",
      "Starting to analyze %  c:\\Users\\rober\\Desktop\\Monkey-Emotions\\video\\gandalf_231205\\gandalf_231205_20_e3v831b.mp4\n",
      "Loading  c:\\Users\\rober\\Desktop\\Monkey-Emotions\\video\\gandalf_231205\\gandalf_231205_20_e3v831b.mp4\n",
      "Duration of video [s]:  12.32 , recorded with  120.0 fps!\n",
      "Overall # of frames:  1478  found with (before cropping) frame dimensions:  640 480\n",
      "Starting to extract posture\n"
     ]
    },
    {
     "name": "stderr",
     "output_type": "stream",
     "text": [
      "100%|██████████| 1478/1478 [05:18<00:00,  4.64it/s]\n"
     ]
    },
    {
     "name": "stdout",
     "output_type": "stream",
     "text": [
      "Saving results in c:\\Users\\rober\\Desktop\\Monkey-Emotions\\video\\gandalf_231205...\n",
      "Saving csv poses!\n",
      "Starting to analyze %  c:\\Users\\rober\\Desktop\\Monkey-Emotions\\video\\gandalf_231205\\gandalf_231205_21_e3v831b.mp4\n",
      "Loading  c:\\Users\\rober\\Desktop\\Monkey-Emotions\\video\\gandalf_231205\\gandalf_231205_21_e3v831b.mp4\n",
      "Duration of video [s]:  15.44 , recorded with  120.0 fps!\n",
      "Overall # of frames:  1853  found with (before cropping) frame dimensions:  640 480\n",
      "Starting to extract posture\n"
     ]
    },
    {
     "name": "stderr",
     "output_type": "stream",
     "text": [
      "100%|██████████| 1853/1853 [06:08<00:00,  5.03it/s]\n"
     ]
    },
    {
     "name": "stdout",
     "output_type": "stream",
     "text": [
      "Saving results in c:\\Users\\rober\\Desktop\\Monkey-Emotions\\video\\gandalf_231205...\n",
      "Saving csv poses!\n",
      "Starting to analyze %  c:\\Users\\rober\\Desktop\\Monkey-Emotions\\video\\gandalf_231205\\gandalf_231205_22_e3v831b.mp4\n",
      "Loading  c:\\Users\\rober\\Desktop\\Monkey-Emotions\\video\\gandalf_231205\\gandalf_231205_22_e3v831b.mp4\n",
      "Duration of video [s]:  12.72 , recorded with  120.0 fps!\n",
      "Overall # of frames:  1526  found with (before cropping) frame dimensions:  640 480\n",
      "Starting to extract posture\n"
     ]
    },
    {
     "name": "stderr",
     "output_type": "stream",
     "text": [
      "100%|██████████| 1526/1526 [04:56<00:00,  5.15it/s]\n"
     ]
    },
    {
     "name": "stdout",
     "output_type": "stream",
     "text": [
      "Saving results in c:\\Users\\rober\\Desktop\\Monkey-Emotions\\video\\gandalf_231205...\n",
      "Saving csv poses!\n",
      "Starting to analyze %  c:\\Users\\rober\\Desktop\\Monkey-Emotions\\video\\gandalf_231205\\gandalf_231205_23_e3v831b.mp4\n",
      "Loading  c:\\Users\\rober\\Desktop\\Monkey-Emotions\\video\\gandalf_231205\\gandalf_231205_23_e3v831b.mp4\n",
      "Duration of video [s]:  17.68 , recorded with  120.0 fps!\n",
      "Overall # of frames:  2121  found with (before cropping) frame dimensions:  640 480\n",
      "Starting to extract posture\n"
     ]
    },
    {
     "name": "stderr",
     "output_type": "stream",
     "text": [
      "100%|██████████| 2121/2121 [06:54<00:00,  5.12it/s]\n"
     ]
    },
    {
     "name": "stdout",
     "output_type": "stream",
     "text": [
      "Saving results in c:\\Users\\rober\\Desktop\\Monkey-Emotions\\video\\gandalf_231205...\n",
      "Saving csv poses!\n",
      "Starting to analyze %  c:\\Users\\rober\\Desktop\\Monkey-Emotions\\video\\gandalf_231205\\gandalf_231205_24_e3v831b.mp4\n",
      "Loading  c:\\Users\\rober\\Desktop\\Monkey-Emotions\\video\\gandalf_231205\\gandalf_231205_24_e3v831b.mp4\n",
      "Duration of video [s]:  18.22 , recorded with  120.0 fps!\n",
      "Overall # of frames:  2186  found with (before cropping) frame dimensions:  640 480\n",
      "Starting to extract posture\n"
     ]
    },
    {
     "name": "stderr",
     "output_type": "stream",
     "text": [
      "100%|██████████| 2186/2186 [07:05<00:00,  5.14it/s]\n"
     ]
    },
    {
     "name": "stdout",
     "output_type": "stream",
     "text": [
      "Saving results in c:\\Users\\rober\\Desktop\\Monkey-Emotions\\video\\gandalf_231205...\n",
      "Saving csv poses!\n",
      "Starting to analyze %  c:\\Users\\rober\\Desktop\\Monkey-Emotions\\video\\gandalf_231205\\gandalf_231205_25_e3v831b.mp4\n",
      "Loading  c:\\Users\\rober\\Desktop\\Monkey-Emotions\\video\\gandalf_231205\\gandalf_231205_25_e3v831b.mp4\n",
      "Duration of video [s]:  13.04 , recorded with  120.0 fps!\n",
      "Overall # of frames:  1565  found with (before cropping) frame dimensions:  640 480\n",
      "Starting to extract posture\n"
     ]
    },
    {
     "name": "stderr",
     "output_type": "stream",
     "text": [
      "100%|██████████| 1565/1565 [05:06<00:00,  5.10it/s]\n"
     ]
    },
    {
     "name": "stdout",
     "output_type": "stream",
     "text": [
      "Saving results in c:\\Users\\rober\\Desktop\\Monkey-Emotions\\video\\gandalf_231205...\n",
      "Saving csv poses!\n",
      "Starting to analyze %  c:\\Users\\rober\\Desktop\\Monkey-Emotions\\video\\gandalf_231205\\gandalf_231205_26_e3v831b.mp4\n",
      "Loading  c:\\Users\\rober\\Desktop\\Monkey-Emotions\\video\\gandalf_231205\\gandalf_231205_26_e3v831b.mp4\n",
      "Duration of video [s]:  12.77 , recorded with  120.0 fps!\n",
      "Overall # of frames:  1532  found with (before cropping) frame dimensions:  640 480\n",
      "Starting to extract posture\n"
     ]
    },
    {
     "name": "stderr",
     "output_type": "stream",
     "text": [
      "100%|██████████| 1532/1532 [04:58<00:00,  5.13it/s]\n"
     ]
    },
    {
     "name": "stdout",
     "output_type": "stream",
     "text": [
      "Saving results in c:\\Users\\rober\\Desktop\\Monkey-Emotions\\video\\gandalf_231205...\n",
      "Saving csv poses!\n",
      "Starting to analyze %  c:\\Users\\rober\\Desktop\\Monkey-Emotions\\video\\gandalf_231205\\gandalf_231205_27_e3v831b.mp4\n",
      "Loading  c:\\Users\\rober\\Desktop\\Monkey-Emotions\\video\\gandalf_231205\\gandalf_231205_27_e3v831b.mp4\n",
      "Duration of video [s]:  15.04 , recorded with  120.0 fps!\n",
      "Overall # of frames:  1805  found with (before cropping) frame dimensions:  640 480\n",
      "Starting to extract posture\n"
     ]
    },
    {
     "name": "stderr",
     "output_type": "stream",
     "text": [
      "100%|██████████| 1805/1805 [05:51<00:00,  5.13it/s]\n"
     ]
    },
    {
     "name": "stdout",
     "output_type": "stream",
     "text": [
      "Saving results in c:\\Users\\rober\\Desktop\\Monkey-Emotions\\video\\gandalf_231205...\n",
      "Saving csv poses!\n",
      "Starting to analyze %  c:\\Users\\rober\\Desktop\\Monkey-Emotions\\video\\gandalf_231205\\gandalf_231205_28_e3v831b.mp4\n",
      "Loading  c:\\Users\\rober\\Desktop\\Monkey-Emotions\\video\\gandalf_231205\\gandalf_231205_28_e3v831b.mp4\n",
      "Duration of video [s]:  12.39 , recorded with  120.0 fps!\n",
      "Overall # of frames:  1487  found with (before cropping) frame dimensions:  640 480\n",
      "Starting to extract posture\n"
     ]
    },
    {
     "name": "stderr",
     "output_type": "stream",
     "text": [
      "100%|██████████| 1487/1487 [04:49<00:00,  5.14it/s]\n"
     ]
    },
    {
     "name": "stdout",
     "output_type": "stream",
     "text": [
      "Saving results in c:\\Users\\rober\\Desktop\\Monkey-Emotions\\video\\gandalf_231205...\n",
      "Saving csv poses!\n",
      "Starting to analyze %  c:\\Users\\rober\\Desktop\\Monkey-Emotions\\video\\gandalf_231205\\gandalf_231205_29_e3v831b.mp4\n",
      "Loading  c:\\Users\\rober\\Desktop\\Monkey-Emotions\\video\\gandalf_231205\\gandalf_231205_29_e3v831b.mp4\n",
      "Duration of video [s]:  13.38 , recorded with  120.0 fps!\n",
      "Overall # of frames:  1606  found with (before cropping) frame dimensions:  640 480\n",
      "Starting to extract posture\n"
     ]
    },
    {
     "name": "stderr",
     "output_type": "stream",
     "text": [
      "100%|██████████| 1606/1606 [05:13<00:00,  5.13it/s]\n"
     ]
    },
    {
     "name": "stdout",
     "output_type": "stream",
     "text": [
      "Saving results in c:\\Users\\rober\\Desktop\\Monkey-Emotions\\video\\gandalf_231205...\n",
      "Saving csv poses!\n",
      "Starting to analyze %  c:\\Users\\rober\\Desktop\\Monkey-Emotions\\video\\gandalf_231205\\gandalf_231205_30_e3v831b.mp4\n",
      "Loading  c:\\Users\\rober\\Desktop\\Monkey-Emotions\\video\\gandalf_231205\\gandalf_231205_30_e3v831b.mp4\n",
      "Duration of video [s]:  16.61 , recorded with  120.0 fps!\n",
      "Overall # of frames:  1993  found with (before cropping) frame dimensions:  640 480\n",
      "Starting to extract posture\n"
     ]
    },
    {
     "name": "stderr",
     "output_type": "stream",
     "text": [
      "100%|██████████| 1993/1993 [06:28<00:00,  5.12it/s]\n"
     ]
    },
    {
     "name": "stdout",
     "output_type": "stream",
     "text": [
      "Saving results in c:\\Users\\rober\\Desktop\\Monkey-Emotions\\video\\gandalf_231205...\n",
      "Saving csv poses!\n",
      "Starting to analyze %  c:\\Users\\rober\\Desktop\\Monkey-Emotions\\video\\gandalf_231205\\gandalf_231205_31_e3v831b.mp4\n",
      "Loading  c:\\Users\\rober\\Desktop\\Monkey-Emotions\\video\\gandalf_231205\\gandalf_231205_31_e3v831b.mp4\n",
      "Duration of video [s]:  16.1 , recorded with  120.0 fps!\n",
      "Overall # of frames:  1932  found with (before cropping) frame dimensions:  640 480\n",
      "Starting to extract posture\n"
     ]
    },
    {
     "name": "stderr",
     "output_type": "stream",
     "text": [
      "100%|██████████| 1932/1932 [06:16<00:00,  5.13it/s]\n"
     ]
    },
    {
     "name": "stdout",
     "output_type": "stream",
     "text": [
      "Saving results in c:\\Users\\rober\\Desktop\\Monkey-Emotions\\video\\gandalf_231205...\n",
      "Saving csv poses!\n",
      "Starting to analyze %  c:\\Users\\rober\\Desktop\\Monkey-Emotions\\video\\gandalf_231205\\gandalf_231205_32_e3v831b.mp4\n",
      "Loading  c:\\Users\\rober\\Desktop\\Monkey-Emotions\\video\\gandalf_231205\\gandalf_231205_32_e3v831b.mp4\n",
      "Duration of video [s]:  12.22 , recorded with  120.0 fps!\n",
      "Overall # of frames:  1467  found with (before cropping) frame dimensions:  640 480\n",
      "Starting to extract posture\n"
     ]
    },
    {
     "name": "stderr",
     "output_type": "stream",
     "text": [
      "100%|██████████| 1467/1467 [04:46<00:00,  5.13it/s]\n"
     ]
    },
    {
     "name": "stdout",
     "output_type": "stream",
     "text": [
      "Saving results in c:\\Users\\rober\\Desktop\\Monkey-Emotions\\video\\gandalf_231205...\n",
      "Saving csv poses!\n",
      "Starting to analyze %  c:\\Users\\rober\\Desktop\\Monkey-Emotions\\video\\gandalf_231205\\gandalf_231205_33_e3v831b.mp4\n",
      "Loading  c:\\Users\\rober\\Desktop\\Monkey-Emotions\\video\\gandalf_231205\\gandalf_231205_33_e3v831b.mp4\n",
      "Duration of video [s]:  14.82 , recorded with  120.0 fps!\n",
      "Overall # of frames:  1778  found with (before cropping) frame dimensions:  640 480\n",
      "Starting to extract posture\n"
     ]
    },
    {
     "name": "stderr",
     "output_type": "stream",
     "text": [
      "100%|██████████| 1778/1778 [05:46<00:00,  5.13it/s]\n"
     ]
    },
    {
     "name": "stdout",
     "output_type": "stream",
     "text": [
      "Saving results in c:\\Users\\rober\\Desktop\\Monkey-Emotions\\video\\gandalf_231205...\n",
      "Saving csv poses!\n",
      "Starting to analyze %  c:\\Users\\rober\\Desktop\\Monkey-Emotions\\video\\gandalf_231205\\gandalf_231205_34_e3v831b.mp4\n",
      "Loading  c:\\Users\\rober\\Desktop\\Monkey-Emotions\\video\\gandalf_231205\\gandalf_231205_34_e3v831b.mp4\n",
      "Duration of video [s]:  18.98 , recorded with  120.0 fps!\n",
      "Overall # of frames:  2277  found with (before cropping) frame dimensions:  640 480\n",
      "Starting to extract posture\n"
     ]
    },
    {
     "name": "stderr",
     "output_type": "stream",
     "text": [
      "100%|██████████| 2277/2277 [07:22<00:00,  5.14it/s]\n"
     ]
    },
    {
     "name": "stdout",
     "output_type": "stream",
     "text": [
      "Saving results in c:\\Users\\rober\\Desktop\\Monkey-Emotions\\video\\gandalf_231205...\n",
      "Saving csv poses!\n",
      "Starting to analyze %  c:\\Users\\rober\\Desktop\\Monkey-Emotions\\video\\gandalf_231205\\gandalf_231205_35_e3v831b.mp4\n",
      "Loading  c:\\Users\\rober\\Desktop\\Monkey-Emotions\\video\\gandalf_231205\\gandalf_231205_35_e3v831b.mp4\n",
      "Duration of video [s]:  10.13 , recorded with  120.0 fps!\n",
      "Overall # of frames:  1216  found with (before cropping) frame dimensions:  640 480\n",
      "Starting to extract posture\n"
     ]
    },
    {
     "name": "stderr",
     "output_type": "stream",
     "text": [
      "100%|██████████| 1216/1216 [03:58<00:00,  5.11it/s]\n"
     ]
    },
    {
     "name": "stdout",
     "output_type": "stream",
     "text": [
      "Saving results in c:\\Users\\rober\\Desktop\\Monkey-Emotions\\video\\gandalf_231205...\n",
      "Saving csv poses!\n",
      "Starting to analyze %  c:\\Users\\rober\\Desktop\\Monkey-Emotions\\video\\gandalf_231205\\gandalf_231205_36_e3v831b.mp4\n",
      "Loading  c:\\Users\\rober\\Desktop\\Monkey-Emotions\\video\\gandalf_231205\\gandalf_231205_36_e3v831b.mp4\n",
      "Duration of video [s]:  12.55 , recorded with  120.0 fps!\n",
      "Overall # of frames:  1506  found with (before cropping) frame dimensions:  640 480\n",
      "Starting to extract posture\n"
     ]
    },
    {
     "name": "stderr",
     "output_type": "stream",
     "text": [
      "100%|██████████| 1506/1506 [04:54<00:00,  5.11it/s]\n"
     ]
    },
    {
     "name": "stdout",
     "output_type": "stream",
     "text": [
      "Saving results in c:\\Users\\rober\\Desktop\\Monkey-Emotions\\video\\gandalf_231205...\n",
      "Saving csv poses!\n",
      "Starting to analyze %  c:\\Users\\rober\\Desktop\\Monkey-Emotions\\video\\gandalf_231205\\gandalf_231205_37_e3v831b.mp4\n",
      "Loading  c:\\Users\\rober\\Desktop\\Monkey-Emotions\\video\\gandalf_231205\\gandalf_231205_37_e3v831b.mp4\n",
      "Duration of video [s]:  17.94 , recorded with  120.0 fps!\n",
      "Overall # of frames:  2153  found with (before cropping) frame dimensions:  640 480\n",
      "Starting to extract posture\n"
     ]
    },
    {
     "name": "stderr",
     "output_type": "stream",
     "text": [
      "100%|██████████| 2153/2153 [07:01<00:00,  5.11it/s]\n"
     ]
    },
    {
     "name": "stdout",
     "output_type": "stream",
     "text": [
      "Saving results in c:\\Users\\rober\\Desktop\\Monkey-Emotions\\video\\gandalf_231205...\n",
      "Saving csv poses!\n",
      "Starting to analyze %  c:\\Users\\rober\\Desktop\\Monkey-Emotions\\video\\gandalf_231205\\gandalf_231205_38_e3v831b.mp4\n",
      "Loading  c:\\Users\\rober\\Desktop\\Monkey-Emotions\\video\\gandalf_231205\\gandalf_231205_38_e3v831b.mp4\n",
      "Duration of video [s]:  17.37 , recorded with  120.0 fps!\n",
      "Overall # of frames:  2084  found with (before cropping) frame dimensions:  640 480\n",
      "Starting to extract posture\n"
     ]
    },
    {
     "name": "stderr",
     "output_type": "stream",
     "text": [
      "100%|██████████| 2084/2084 [06:45<00:00,  5.14it/s]\n"
     ]
    },
    {
     "name": "stdout",
     "output_type": "stream",
     "text": [
      "Saving results in c:\\Users\\rober\\Desktop\\Monkey-Emotions\\video\\gandalf_231205...\n",
      "Saving csv poses!\n",
      "Starting to analyze %  c:\\Users\\rober\\Desktop\\Monkey-Emotions\\video\\gandalf_231205\\gandalf_231205_39_e3v831b.mp4\n",
      "Loading  c:\\Users\\rober\\Desktop\\Monkey-Emotions\\video\\gandalf_231205\\gandalf_231205_39_e3v831b.mp4\n",
      "Duration of video [s]:  14.71 , recorded with  120.0 fps!\n",
      "Overall # of frames:  1765  found with (before cropping) frame dimensions:  640 480\n",
      "Starting to extract posture\n"
     ]
    },
    {
     "name": "stderr",
     "output_type": "stream",
     "text": [
      "100%|██████████| 1765/1765 [05:44<00:00,  5.13it/s]\n"
     ]
    },
    {
     "name": "stdout",
     "output_type": "stream",
     "text": [
      "Saving results in c:\\Users\\rober\\Desktop\\Monkey-Emotions\\video\\gandalf_231205...\n",
      "Saving csv poses!\n",
      "Starting to analyze %  c:\\Users\\rober\\Desktop\\Monkey-Emotions\\video\\gandalf_231205\\gandalf_231205_40_e3v831b.mp4\n",
      "Loading  c:\\Users\\rober\\Desktop\\Monkey-Emotions\\video\\gandalf_231205\\gandalf_231205_40_e3v831b.mp4\n",
      "Duration of video [s]:  11.6 , recorded with  120.0 fps!\n",
      "Overall # of frames:  1392  found with (before cropping) frame dimensions:  640 480\n",
      "Starting to extract posture\n"
     ]
    },
    {
     "name": "stderr",
     "output_type": "stream",
     "text": [
      "100%|██████████| 1392/1392 [04:30<00:00,  5.14it/s]\n"
     ]
    },
    {
     "name": "stdout",
     "output_type": "stream",
     "text": [
      "Saving results in c:\\Users\\rober\\Desktop\\Monkey-Emotions\\video\\gandalf_231205...\n",
      "Saving csv poses!\n",
      "Starting to analyze %  c:\\Users\\rober\\Desktop\\Monkey-Emotions\\video\\gandalf_231205\\gandalf_231205_41_e3v831b.mp4\n",
      "Loading  c:\\Users\\rober\\Desktop\\Monkey-Emotions\\video\\gandalf_231205\\gandalf_231205_41_e3v831b.mp4\n",
      "Duration of video [s]:  45.07 , recorded with  120.0 fps!\n",
      "Overall # of frames:  5408  found with (before cropping) frame dimensions:  640 480\n",
      "Starting to extract posture\n"
     ]
    },
    {
     "name": "stderr",
     "output_type": "stream",
     "text": [
      "100%|██████████| 5408/5408 [17:32<00:00,  5.14it/s]\n"
     ]
    },
    {
     "name": "stdout",
     "output_type": "stream",
     "text": [
      "Saving results in c:\\Users\\rober\\Desktop\\Monkey-Emotions\\video\\gandalf_231205...\n",
      "Saving csv poses!\n",
      "Starting to analyze %  c:\\Users\\rober\\Desktop\\Monkey-Emotions\\video\\gandalf_231205\\gandalf_231205_42_e3v831b.mp4\n",
      "Loading  c:\\Users\\rober\\Desktop\\Monkey-Emotions\\video\\gandalf_231205\\gandalf_231205_42_e3v831b.mp4\n",
      "Duration of video [s]:  17.65 , recorded with  120.0 fps!\n",
      "Overall # of frames:  2118  found with (before cropping) frame dimensions:  640 480\n",
      "Starting to extract posture\n"
     ]
    },
    {
     "name": "stderr",
     "output_type": "stream",
     "text": [
      "100%|██████████| 2118/2118 [06:59<00:00,  5.05it/s]\n"
     ]
    },
    {
     "name": "stdout",
     "output_type": "stream",
     "text": [
      "Saving results in c:\\Users\\rober\\Desktop\\Monkey-Emotions\\video\\gandalf_231205...\n",
      "Saving csv poses!\n",
      "Starting to analyze %  c:\\Users\\rober\\Desktop\\Monkey-Emotions\\video\\gandalf_231205\\gandalf_231205_43_e3v831b.mp4\n",
      "Loading  c:\\Users\\rober\\Desktop\\Monkey-Emotions\\video\\gandalf_231205\\gandalf_231205_43_e3v831b.mp4\n",
      "Duration of video [s]:  15.41 , recorded with  120.0 fps!\n",
      "Overall # of frames:  1849  found with (before cropping) frame dimensions:  640 480\n",
      "Starting to extract posture\n"
     ]
    },
    {
     "name": "stderr",
     "output_type": "stream",
     "text": [
      "100%|██████████| 1849/1849 [06:01<00:00,  5.12it/s]\n"
     ]
    },
    {
     "name": "stdout",
     "output_type": "stream",
     "text": [
      "Saving results in c:\\Users\\rober\\Desktop\\Monkey-Emotions\\video\\gandalf_231205...\n",
      "Saving csv poses!\n",
      "Starting to analyze %  c:\\Users\\rober\\Desktop\\Monkey-Emotions\\video\\gandalf_231205\\gandalf_231205_44_e3v831b.mp4\n",
      "Loading  c:\\Users\\rober\\Desktop\\Monkey-Emotions\\video\\gandalf_231205\\gandalf_231205_44_e3v831b.mp4\n",
      "Duration of video [s]:  15.68 , recorded with  120.0 fps!\n",
      "Overall # of frames:  1882  found with (before cropping) frame dimensions:  640 480\n",
      "Starting to extract posture\n"
     ]
    },
    {
     "name": "stderr",
     "output_type": "stream",
     "text": [
      "100%|██████████| 1882/1882 [06:08<00:00,  5.10it/s]\n"
     ]
    },
    {
     "name": "stdout",
     "output_type": "stream",
     "text": [
      "Saving results in c:\\Users\\rober\\Desktop\\Monkey-Emotions\\video\\gandalf_231205...\n",
      "Saving csv poses!\n",
      "Starting to analyze %  c:\\Users\\rober\\Desktop\\Monkey-Emotions\\video\\gandalf_231205\\gandalf_231205_45_e3v831b.mp4\n",
      "Loading  c:\\Users\\rober\\Desktop\\Monkey-Emotions\\video\\gandalf_231205\\gandalf_231205_45_e3v831b.mp4\n",
      "Duration of video [s]:  17.57 , recorded with  120.0 fps!\n",
      "Overall # of frames:  2109  found with (before cropping) frame dimensions:  640 480\n",
      "Starting to extract posture\n"
     ]
    },
    {
     "name": "stderr",
     "output_type": "stream",
     "text": [
      "100%|██████████| 2109/2109 [06:46<00:00,  5.19it/s]\n"
     ]
    },
    {
     "name": "stdout",
     "output_type": "stream",
     "text": [
      "Saving results in c:\\Users\\rober\\Desktop\\Monkey-Emotions\\video\\gandalf_231205...\n",
      "Saving csv poses!\n",
      "Starting to analyze %  c:\\Users\\rober\\Desktop\\Monkey-Emotions\\video\\gandalf_231205\\gandalf_231205_46_e3v831b.mp4\n",
      "Loading  c:\\Users\\rober\\Desktop\\Monkey-Emotions\\video\\gandalf_231205\\gandalf_231205_46_e3v831b.mp4\n",
      "Duration of video [s]:  16.04 , recorded with  120.0 fps!\n",
      "Overall # of frames:  1925  found with (before cropping) frame dimensions:  640 480\n",
      "Starting to extract posture\n"
     ]
    },
    {
     "name": "stderr",
     "output_type": "stream",
     "text": [
      "100%|██████████| 1925/1925 [06:13<00:00,  5.16it/s]\n"
     ]
    },
    {
     "name": "stdout",
     "output_type": "stream",
     "text": [
      "Saving results in c:\\Users\\rober\\Desktop\\Monkey-Emotions\\video\\gandalf_231205...\n",
      "Saving csv poses!\n",
      "Starting to analyze %  c:\\Users\\rober\\Desktop\\Monkey-Emotions\\video\\gandalf_231205\\gandalf_231205_47_e3v831b.mp4\n",
      "Loading  c:\\Users\\rober\\Desktop\\Monkey-Emotions\\video\\gandalf_231205\\gandalf_231205_47_e3v831b.mp4\n",
      "Duration of video [s]:  16.45 , recorded with  120.0 fps!\n",
      "Overall # of frames:  1974  found with (before cropping) frame dimensions:  640 480\n",
      "Starting to extract posture\n"
     ]
    },
    {
     "name": "stderr",
     "output_type": "stream",
     "text": [
      "100%|██████████| 1974/1974 [06:23<00:00,  5.14it/s]\n"
     ]
    },
    {
     "name": "stdout",
     "output_type": "stream",
     "text": [
      "Saving results in c:\\Users\\rober\\Desktop\\Monkey-Emotions\\video\\gandalf_231205...\n",
      "Saving csv poses!\n",
      "Starting to analyze %  c:\\Users\\rober\\Desktop\\Monkey-Emotions\\video\\gandalf_231205\\gandalf_231205_48_e3v831b.mp4\n",
      "Loading  c:\\Users\\rober\\Desktop\\Monkey-Emotions\\video\\gandalf_231205\\gandalf_231205_48_e3v831b.mp4\n",
      "Duration of video [s]:  15.71 , recorded with  120.0 fps!\n",
      "Overall # of frames:  1885  found with (before cropping) frame dimensions:  640 480\n",
      "Starting to extract posture\n"
     ]
    },
    {
     "name": "stderr",
     "output_type": "stream",
     "text": [
      "100%|██████████| 1885/1885 [06:06<00:00,  5.14it/s]\n"
     ]
    },
    {
     "name": "stdout",
     "output_type": "stream",
     "text": [
      "Saving results in c:\\Users\\rober\\Desktop\\Monkey-Emotions\\video\\gandalf_231205...\n",
      "Saving csv poses!\n",
      "Starting to analyze %  c:\\Users\\rober\\Desktop\\Monkey-Emotions\\video\\gandalf_231205\\gandalf_231205_49_e3v831b.mp4\n",
      "Loading  c:\\Users\\rober\\Desktop\\Monkey-Emotions\\video\\gandalf_231205\\gandalf_231205_49_e3v831b.mp4\n",
      "Duration of video [s]:  15.36 , recorded with  120.0 fps!\n",
      "Overall # of frames:  1843  found with (before cropping) frame dimensions:  640 480\n",
      "Starting to extract posture\n"
     ]
    },
    {
     "name": "stderr",
     "output_type": "stream",
     "text": [
      "100%|██████████| 1843/1843 [05:58<00:00,  5.14it/s]\n"
     ]
    },
    {
     "name": "stdout",
     "output_type": "stream",
     "text": [
      "Saving results in c:\\Users\\rober\\Desktop\\Monkey-Emotions\\video\\gandalf_231205...\n",
      "Saving csv poses!\n",
      "Starting to analyze %  c:\\Users\\rober\\Desktop\\Monkey-Emotions\\video\\gandalf_231205\\gandalf_231205_50_e3v831b.mp4\n",
      "Loading  c:\\Users\\rober\\Desktop\\Monkey-Emotions\\video\\gandalf_231205\\gandalf_231205_50_e3v831b.mp4\n",
      "Duration of video [s]:  16.27 , recorded with  120.0 fps!\n",
      "Overall # of frames:  1953  found with (before cropping) frame dimensions:  640 480\n",
      "Starting to extract posture\n"
     ]
    },
    {
     "name": "stderr",
     "output_type": "stream",
     "text": [
      "100%|██████████| 1953/1953 [06:19<00:00,  5.14it/s]\n"
     ]
    },
    {
     "name": "stdout",
     "output_type": "stream",
     "text": [
      "Saving results in c:\\Users\\rober\\Desktop\\Monkey-Emotions\\video\\gandalf_231205...\n",
      "Saving csv poses!\n",
      "Starting to analyze %  c:\\Users\\rober\\Desktop\\Monkey-Emotions\\video\\gandalf_231205\\gandalf_231205_51_e3v831b.mp4\n",
      "Loading  c:\\Users\\rober\\Desktop\\Monkey-Emotions\\video\\gandalf_231205\\gandalf_231205_51_e3v831b.mp4\n",
      "Duration of video [s]:  14.18 , recorded with  120.0 fps!\n",
      "Overall # of frames:  1702  found with (before cropping) frame dimensions:  640 480\n",
      "Starting to extract posture\n"
     ]
    },
    {
     "name": "stderr",
     "output_type": "stream",
     "text": [
      "100%|██████████| 1702/1702 [05:30<00:00,  5.15it/s]\n"
     ]
    },
    {
     "name": "stdout",
     "output_type": "stream",
     "text": [
      "Saving results in c:\\Users\\rober\\Desktop\\Monkey-Emotions\\video\\gandalf_231205...\n",
      "Saving csv poses!\n",
      "Starting to analyze %  c:\\Users\\rober\\Desktop\\Monkey-Emotions\\video\\gandalf_231205\\gandalf_231205_52_e3v831b.mp4\n",
      "Loading  c:\\Users\\rober\\Desktop\\Monkey-Emotions\\video\\gandalf_231205\\gandalf_231205_52_e3v831b.mp4\n",
      "Duration of video [s]:  12.0 , recorded with  120.0 fps!\n",
      "Overall # of frames:  1440  found with (before cropping) frame dimensions:  640 480\n",
      "Starting to extract posture\n"
     ]
    },
    {
     "name": "stderr",
     "output_type": "stream",
     "text": [
      "100%|██████████| 1440/1440 [04:39<00:00,  5.15it/s]\n"
     ]
    },
    {
     "name": "stdout",
     "output_type": "stream",
     "text": [
      "Saving results in c:\\Users\\rober\\Desktop\\Monkey-Emotions\\video\\gandalf_231205...\n",
      "Saving csv poses!\n",
      "Starting to analyze %  c:\\Users\\rober\\Desktop\\Monkey-Emotions\\video\\gandalf_231205\\gandalf_231205_53_e3v831b.mp4\n",
      "Loading  c:\\Users\\rober\\Desktop\\Monkey-Emotions\\video\\gandalf_231205\\gandalf_231205_53_e3v831b.mp4\n",
      "Duration of video [s]:  15.91 , recorded with  120.0 fps!\n",
      "Overall # of frames:  1909  found with (before cropping) frame dimensions:  640 480\n",
      "Starting to extract posture\n"
     ]
    },
    {
     "name": "stderr",
     "output_type": "stream",
     "text": [
      "100%|██████████| 1909/1909 [06:10<00:00,  5.15it/s]\n"
     ]
    },
    {
     "name": "stdout",
     "output_type": "stream",
     "text": [
      "Saving results in c:\\Users\\rober\\Desktop\\Monkey-Emotions\\video\\gandalf_231205...\n",
      "Saving csv poses!\n",
      "Starting to analyze %  c:\\Users\\rober\\Desktop\\Monkey-Emotions\\video\\gandalf_231205\\gandalf_231205_54_e3v831b.mp4\n",
      "Loading  c:\\Users\\rober\\Desktop\\Monkey-Emotions\\video\\gandalf_231205\\gandalf_231205_54_e3v831b.mp4\n",
      "Duration of video [s]:  14.89 , recorded with  120.0 fps!\n",
      "Overall # of frames:  1787  found with (before cropping) frame dimensions:  640 480\n",
      "Starting to extract posture\n"
     ]
    },
    {
     "name": "stderr",
     "output_type": "stream",
     "text": [
      "100%|██████████| 1787/1787 [05:49<00:00,  5.12it/s]\n"
     ]
    },
    {
     "name": "stdout",
     "output_type": "stream",
     "text": [
      "Saving results in c:\\Users\\rober\\Desktop\\Monkey-Emotions\\video\\gandalf_231205...\n",
      "Saving csv poses!\n",
      "Starting to analyze %  c:\\Users\\rober\\Desktop\\Monkey-Emotions\\video\\gandalf_231205\\gandalf_231205_55_e3v831b.mp4\n",
      "Loading  c:\\Users\\rober\\Desktop\\Monkey-Emotions\\video\\gandalf_231205\\gandalf_231205_55_e3v831b.mp4\n",
      "Duration of video [s]:  10.08 , recorded with  120.0 fps!\n",
      "Overall # of frames:  1210  found with (before cropping) frame dimensions:  640 480\n",
      "Starting to extract posture\n"
     ]
    },
    {
     "name": "stderr",
     "output_type": "stream",
     "text": [
      "100%|██████████| 1210/1210 [03:55<00:00,  5.13it/s]\n"
     ]
    },
    {
     "name": "stdout",
     "output_type": "stream",
     "text": [
      "Saving results in c:\\Users\\rober\\Desktop\\Monkey-Emotions\\video\\gandalf_231205...\n",
      "Saving csv poses!\n",
      "Starting to analyze %  c:\\Users\\rober\\Desktop\\Monkey-Emotions\\video\\gandalf_231205\\gandalf_231205_56_e3v831b.mp4\n",
      "Loading  c:\\Users\\rober\\Desktop\\Monkey-Emotions\\video\\gandalf_231205\\gandalf_231205_56_e3v831b.mp4\n",
      "Duration of video [s]:  16.57 , recorded with  120.0 fps!\n",
      "Overall # of frames:  1988  found with (before cropping) frame dimensions:  640 480\n",
      "Starting to extract posture\n"
     ]
    },
    {
     "name": "stderr",
     "output_type": "stream",
     "text": [
      "100%|██████████| 1988/1988 [06:25<00:00,  5.16it/s]\n"
     ]
    },
    {
     "name": "stdout",
     "output_type": "stream",
     "text": [
      "Saving results in c:\\Users\\rober\\Desktop\\Monkey-Emotions\\video\\gandalf_231205...\n",
      "Saving csv poses!\n",
      "Starting to analyze %  c:\\Users\\rober\\Desktop\\Monkey-Emotions\\video\\gandalf_231205\\gandalf_231205_57_e3v831b.mp4\n",
      "Loading  c:\\Users\\rober\\Desktop\\Monkey-Emotions\\video\\gandalf_231205\\gandalf_231205_57_e3v831b.mp4\n",
      "Duration of video [s]:  16.41 , recorded with  120.0 fps!\n",
      "Overall # of frames:  1969  found with (before cropping) frame dimensions:  640 480\n",
      "Starting to extract posture\n"
     ]
    },
    {
     "name": "stderr",
     "output_type": "stream",
     "text": [
      "100%|██████████| 1969/1969 [06:22<00:00,  5.15it/s]\n"
     ]
    },
    {
     "name": "stdout",
     "output_type": "stream",
     "text": [
      "Saving results in c:\\Users\\rober\\Desktop\\Monkey-Emotions\\video\\gandalf_231205...\n",
      "Saving csv poses!\n",
      "Starting to analyze %  c:\\Users\\rober\\Desktop\\Monkey-Emotions\\video\\gandalf_231205\\gandalf_231205_58_e3v831b.mp4\n",
      "Loading  c:\\Users\\rober\\Desktop\\Monkey-Emotions\\video\\gandalf_231205\\gandalf_231205_58_e3v831b.mp4\n",
      "Duration of video [s]:  18.24 , recorded with  120.0 fps!\n",
      "Overall # of frames:  2189  found with (before cropping) frame dimensions:  640 480\n",
      "Starting to extract posture\n"
     ]
    },
    {
     "name": "stderr",
     "output_type": "stream",
     "text": [
      "100%|██████████| 2189/2189 [07:04<00:00,  5.16it/s]\n"
     ]
    },
    {
     "name": "stdout",
     "output_type": "stream",
     "text": [
      "Saving results in c:\\Users\\rober\\Desktop\\Monkey-Emotions\\video\\gandalf_231205...\n",
      "Saving csv poses!\n",
      "Starting to analyze %  c:\\Users\\rober\\Desktop\\Monkey-Emotions\\video\\gandalf_231205\\gandalf_231205_59_e3v831b.mp4\n",
      "Loading  c:\\Users\\rober\\Desktop\\Monkey-Emotions\\video\\gandalf_231205\\gandalf_231205_59_e3v831b.mp4\n",
      "Duration of video [s]:  10.48 , recorded with  120.0 fps!\n",
      "Overall # of frames:  1258  found with (before cropping) frame dimensions:  640 480\n",
      "Starting to extract posture\n"
     ]
    },
    {
     "name": "stderr",
     "output_type": "stream",
     "text": [
      "100%|██████████| 1258/1258 [04:04<00:00,  5.14it/s]\n"
     ]
    },
    {
     "name": "stdout",
     "output_type": "stream",
     "text": [
      "Saving results in c:\\Users\\rober\\Desktop\\Monkey-Emotions\\video\\gandalf_231205...\n",
      "Saving csv poses!\n",
      "Starting to analyze %  c:\\Users\\rober\\Desktop\\Monkey-Emotions\\video\\gandalf_231205\\gandalf_231205_60_e3v831b.mp4\n",
      "Loading  c:\\Users\\rober\\Desktop\\Monkey-Emotions\\video\\gandalf_231205\\gandalf_231205_60_e3v831b.mp4\n",
      "Duration of video [s]:  20.92 , recorded with  120.0 fps!\n",
      "Overall # of frames:  2510  found with (before cropping) frame dimensions:  640 480\n",
      "Starting to extract posture\n"
     ]
    },
    {
     "name": "stderr",
     "output_type": "stream",
     "text": [
      "100%|██████████| 2510/2510 [08:07<00:00,  5.15it/s]\n"
     ]
    },
    {
     "name": "stdout",
     "output_type": "stream",
     "text": [
      "Saving results in c:\\Users\\rober\\Desktop\\Monkey-Emotions\\video\\gandalf_231205...\n",
      "Saving csv poses!\n",
      "Starting to analyze %  c:\\Users\\rober\\Desktop\\Monkey-Emotions\\video\\gandalf_231205\\gandalf_231205_61_e3v831b.mp4\n",
      "Loading  c:\\Users\\rober\\Desktop\\Monkey-Emotions\\video\\gandalf_231205\\gandalf_231205_61_e3v831b.mp4\n",
      "Duration of video [s]:  14.88 , recorded with  120.0 fps!\n",
      "Overall # of frames:  1786  found with (before cropping) frame dimensions:  640 480\n",
      "Starting to extract posture\n"
     ]
    },
    {
     "name": "stderr",
     "output_type": "stream",
     "text": [
      "100%|██████████| 1786/1786 [05:47<00:00,  5.14it/s]\n"
     ]
    },
    {
     "name": "stdout",
     "output_type": "stream",
     "text": [
      "Saving results in c:\\Users\\rober\\Desktop\\Monkey-Emotions\\video\\gandalf_231205...\n",
      "Saving csv poses!\n",
      "Starting to analyze %  c:\\Users\\rober\\Desktop\\Monkey-Emotions\\video\\gandalf_231205\\gandalf_231205_62_e3v831b.mp4\n",
      "Loading  c:\\Users\\rober\\Desktop\\Monkey-Emotions\\video\\gandalf_231205\\gandalf_231205_62_e3v831b.mp4\n",
      "Duration of video [s]:  19.56 , recorded with  120.0 fps!\n",
      "Overall # of frames:  2347  found with (before cropping) frame dimensions:  640 480\n",
      "Starting to extract posture\n"
     ]
    },
    {
     "name": "stderr",
     "output_type": "stream",
     "text": [
      "100%|██████████| 2347/2347 [07:35<00:00,  5.16it/s]\n"
     ]
    },
    {
     "name": "stdout",
     "output_type": "stream",
     "text": [
      "Saving results in c:\\Users\\rober\\Desktop\\Monkey-Emotions\\video\\gandalf_231205...\n",
      "Saving csv poses!\n",
      "Starting to analyze %  c:\\Users\\rober\\Desktop\\Monkey-Emotions\\video\\gandalf_231205\\gandalf_231205_63_e3v831b.mp4\n",
      "Loading  c:\\Users\\rober\\Desktop\\Monkey-Emotions\\video\\gandalf_231205\\gandalf_231205_63_e3v831b.mp4\n",
      "Duration of video [s]:  14.64 , recorded with  120.0 fps!\n",
      "Overall # of frames:  1757  found with (before cropping) frame dimensions:  640 480\n",
      "Starting to extract posture\n"
     ]
    },
    {
     "name": "stderr",
     "output_type": "stream",
     "text": [
      "100%|██████████| 1757/1757 [05:41<00:00,  5.14it/s]\n"
     ]
    },
    {
     "name": "stdout",
     "output_type": "stream",
     "text": [
      "Saving results in c:\\Users\\rober\\Desktop\\Monkey-Emotions\\video\\gandalf_231205...\n",
      "Saving csv poses!\n",
      "Starting to analyze %  c:\\Users\\rober\\Desktop\\Monkey-Emotions\\video\\gandalf_231205\\gandalf_231205_64_e3v831b.mp4\n",
      "Loading  c:\\Users\\rober\\Desktop\\Monkey-Emotions\\video\\gandalf_231205\\gandalf_231205_64_e3v831b.mp4\n",
      "Duration of video [s]:  19.32 , recorded with  120.0 fps!\n",
      "Overall # of frames:  2318  found with (before cropping) frame dimensions:  640 480\n",
      "Starting to extract posture\n"
     ]
    },
    {
     "name": "stderr",
     "output_type": "stream",
     "text": [
      "100%|██████████| 2318/2318 [07:31<00:00,  5.13it/s]\n"
     ]
    },
    {
     "name": "stdout",
     "output_type": "stream",
     "text": [
      "Saving results in c:\\Users\\rober\\Desktop\\Monkey-Emotions\\video\\gandalf_231205...\n",
      "Saving csv poses!\n",
      "Starting to analyze %  c:\\Users\\rober\\Desktop\\Monkey-Emotions\\video\\gandalf_231205\\gandalf_231205_65_e3v831b.mp4\n",
      "Loading  c:\\Users\\rober\\Desktop\\Monkey-Emotions\\video\\gandalf_231205\\gandalf_231205_65_e3v831b.mp4\n",
      "Duration of video [s]:  17.73 , recorded with  120.0 fps!\n",
      "Overall # of frames:  2127  found with (before cropping) frame dimensions:  640 480\n",
      "Starting to extract posture\n"
     ]
    },
    {
     "name": "stderr",
     "output_type": "stream",
     "text": [
      "100%|██████████| 2127/2127 [06:52<00:00,  5.15it/s]\n"
     ]
    },
    {
     "name": "stdout",
     "output_type": "stream",
     "text": [
      "Saving results in c:\\Users\\rober\\Desktop\\Monkey-Emotions\\video\\gandalf_231205...\n",
      "Saving csv poses!\n",
      "Starting to analyze %  c:\\Users\\rober\\Desktop\\Monkey-Emotions\\video\\gandalf_231205\\gandalf_231205_66_e3v831b.mp4\n",
      "Loading  c:\\Users\\rober\\Desktop\\Monkey-Emotions\\video\\gandalf_231205\\gandalf_231205_66_e3v831b.mp4\n",
      "Duration of video [s]:  11.98 , recorded with  120.0 fps!\n",
      "Overall # of frames:  1438  found with (before cropping) frame dimensions:  640 480\n",
      "Starting to extract posture\n"
     ]
    },
    {
     "name": "stderr",
     "output_type": "stream",
     "text": [
      "100%|██████████| 1438/1438 [04:39<00:00,  5.15it/s]\n"
     ]
    },
    {
     "name": "stdout",
     "output_type": "stream",
     "text": [
      "Saving results in c:\\Users\\rober\\Desktop\\Monkey-Emotions\\video\\gandalf_231205...\n",
      "Saving csv poses!\n",
      "Starting to analyze %  c:\\Users\\rober\\Desktop\\Monkey-Emotions\\video\\gandalf_231205\\gandalf_231205_67_e3v831b.mp4\n",
      "Loading  c:\\Users\\rober\\Desktop\\Monkey-Emotions\\video\\gandalf_231205\\gandalf_231205_67_e3v831b.mp4\n",
      "Duration of video [s]:  16.17 , recorded with  120.0 fps!\n",
      "Overall # of frames:  1940  found with (before cropping) frame dimensions:  640 480\n",
      "Starting to extract posture\n"
     ]
    },
    {
     "name": "stderr",
     "output_type": "stream",
     "text": [
      "100%|██████████| 1940/1940 [06:16<00:00,  5.15it/s]\n"
     ]
    },
    {
     "name": "stdout",
     "output_type": "stream",
     "text": [
      "Saving results in c:\\Users\\rober\\Desktop\\Monkey-Emotions\\video\\gandalf_231205...\n",
      "Saving csv poses!\n",
      "Starting to analyze %  c:\\Users\\rober\\Desktop\\Monkey-Emotions\\video\\gandalf_231205\\gandalf_231205_68_e3v831b.mp4\n",
      "Loading  c:\\Users\\rober\\Desktop\\Monkey-Emotions\\video\\gandalf_231205\\gandalf_231205_68_e3v831b.mp4\n",
      "Duration of video [s]:  11.1 , recorded with  120.0 fps!\n",
      "Overall # of frames:  1332  found with (before cropping) frame dimensions:  640 480\n",
      "Starting to extract posture\n"
     ]
    },
    {
     "name": "stderr",
     "output_type": "stream",
     "text": [
      "100%|██████████| 1332/1332 [04:19<00:00,  5.13it/s]\n"
     ]
    },
    {
     "name": "stdout",
     "output_type": "stream",
     "text": [
      "Saving results in c:\\Users\\rober\\Desktop\\Monkey-Emotions\\video\\gandalf_231205...\n",
      "Saving csv poses!\n",
      "Starting to analyze %  c:\\Users\\rober\\Desktop\\Monkey-Emotions\\video\\gandalf_231205\\gandalf_231205_69_e3v831b.mp4\n",
      "Loading  c:\\Users\\rober\\Desktop\\Monkey-Emotions\\video\\gandalf_231205\\gandalf_231205_69_e3v831b.mp4\n",
      "Duration of video [s]:  16.93 , recorded with  120.0 fps!\n",
      "Overall # of frames:  2031  found with (before cropping) frame dimensions:  640 480\n",
      "Starting to extract posture\n"
     ]
    },
    {
     "name": "stderr",
     "output_type": "stream",
     "text": [
      "100%|██████████| 2031/2031 [06:34<00:00,  5.15it/s]\n"
     ]
    },
    {
     "name": "stdout",
     "output_type": "stream",
     "text": [
      "Saving results in c:\\Users\\rober\\Desktop\\Monkey-Emotions\\video\\gandalf_231205...\n",
      "Saving csv poses!\n",
      "Starting to analyze %  c:\\Users\\rober\\Desktop\\Monkey-Emotions\\video\\gandalf_231205\\gandalf_231205_70_e3v831b.mp4\n",
      "Loading  c:\\Users\\rober\\Desktop\\Monkey-Emotions\\video\\gandalf_231205\\gandalf_231205_70_e3v831b.mp4\n",
      "Duration of video [s]:  15.73 , recorded with  120.0 fps!\n",
      "Overall # of frames:  1888  found with (before cropping) frame dimensions:  640 480\n",
      "Starting to extract posture\n"
     ]
    },
    {
     "name": "stderr",
     "output_type": "stream",
     "text": [
      "100%|██████████| 1888/1888 [06:03<00:00,  5.20it/s]\n"
     ]
    },
    {
     "name": "stdout",
     "output_type": "stream",
     "text": [
      "Saving results in c:\\Users\\rober\\Desktop\\Monkey-Emotions\\video\\gandalf_231205...\n",
      "Saving csv poses!\n",
      "Starting to analyze %  c:\\Users\\rober\\Desktop\\Monkey-Emotions\\video\\gandalf_231205\\gandalf_231205_71_e3v831b.mp4\n",
      "Loading  c:\\Users\\rober\\Desktop\\Monkey-Emotions\\video\\gandalf_231205\\gandalf_231205_71_e3v831b.mp4\n",
      "Duration of video [s]:  51.2 , recorded with  120.0 fps!\n",
      "Overall # of frames:  6144  found with (before cropping) frame dimensions:  640 480\n",
      "Starting to extract posture\n"
     ]
    },
    {
     "name": "stderr",
     "output_type": "stream",
     "text": [
      "100%|██████████| 6144/6144 [20:00<00:00,  5.12it/s]\n"
     ]
    },
    {
     "name": "stdout",
     "output_type": "stream",
     "text": [
      "Saving results in c:\\Users\\rober\\Desktop\\Monkey-Emotions\\video\\gandalf_231205...\n",
      "Saving csv poses!\n",
      "Starting to analyze %  c:\\Users\\rober\\Desktop\\Monkey-Emotions\\video\\gandalf_231205\\gandalf_231205_72_e3v831b.mp4\n",
      "Loading  c:\\Users\\rober\\Desktop\\Monkey-Emotions\\video\\gandalf_231205\\gandalf_231205_72_e3v831b.mp4\n",
      "Duration of video [s]:  27.27 , recorded with  120.0 fps!\n",
      "Overall # of frames:  3272  found with (before cropping) frame dimensions:  640 480\n",
      "Starting to extract posture\n"
     ]
    },
    {
     "name": "stderr",
     "output_type": "stream",
     "text": [
      "100%|██████████| 3272/3272 [10:47<00:00,  5.05it/s]\n"
     ]
    },
    {
     "name": "stdout",
     "output_type": "stream",
     "text": [
      "Saving results in c:\\Users\\rober\\Desktop\\Monkey-Emotions\\video\\gandalf_231205...\n",
      "Saving csv poses!\n",
      "Starting to analyze %  c:\\Users\\rober\\Desktop\\Monkey-Emotions\\video\\gandalf_231205\\gandalf_231205_73_e3v831b.mp4\n",
      "Loading  c:\\Users\\rober\\Desktop\\Monkey-Emotions\\video\\gandalf_231205\\gandalf_231205_73_e3v831b.mp4\n",
      "Duration of video [s]:  14.55 , recorded with  120.0 fps!\n",
      "Overall # of frames:  1746  found with (before cropping) frame dimensions:  640 480\n",
      "Starting to extract posture\n"
     ]
    },
    {
     "name": "stderr",
     "output_type": "stream",
     "text": [
      "100%|██████████| 1746/1746 [05:39<00:00,  5.14it/s]\n"
     ]
    },
    {
     "name": "stdout",
     "output_type": "stream",
     "text": [
      "Saving results in c:\\Users\\rober\\Desktop\\Monkey-Emotions\\video\\gandalf_231205...\n",
      "Saving csv poses!\n",
      "Starting to analyze %  c:\\Users\\rober\\Desktop\\Monkey-Emotions\\video\\gandalf_231205\\gandalf_231205_75_e3v831b.mp4\n",
      "Loading  c:\\Users\\rober\\Desktop\\Monkey-Emotions\\video\\gandalf_231205\\gandalf_231205_75_e3v831b.mp4\n",
      "Duration of video [s]:  12.92 , recorded with  120.0 fps!\n",
      "Overall # of frames:  1550  found with (before cropping) frame dimensions:  640 480\n",
      "Starting to extract posture\n"
     ]
    },
    {
     "name": "stderr",
     "output_type": "stream",
     "text": [
      "100%|██████████| 1550/1550 [05:00<00:00,  5.16it/s]\n"
     ]
    },
    {
     "name": "stdout",
     "output_type": "stream",
     "text": [
      "Saving results in c:\\Users\\rober\\Desktop\\Monkey-Emotions\\video\\gandalf_231205...\n",
      "Saving csv poses!\n",
      "Starting to analyze %  c:\\Users\\rober\\Desktop\\Monkey-Emotions\\video\\gandalf_231205\\gandalf_231205_76_e3v831b.mp4\n",
      "Loading  c:\\Users\\rober\\Desktop\\Monkey-Emotions\\video\\gandalf_231205\\gandalf_231205_76_e3v831b.mp4\n",
      "Duration of video [s]:  16.71 , recorded with  120.0 fps!\n",
      "Overall # of frames:  2005  found with (before cropping) frame dimensions:  640 480\n",
      "Starting to extract posture\n"
     ]
    },
    {
     "name": "stderr",
     "output_type": "stream",
     "text": [
      "100%|██████████| 2005/2005 [06:29<00:00,  5.15it/s]\n"
     ]
    },
    {
     "name": "stdout",
     "output_type": "stream",
     "text": [
      "Saving results in c:\\Users\\rober\\Desktop\\Monkey-Emotions\\video\\gandalf_231205...\n",
      "Saving csv poses!\n",
      "Starting to analyze %  c:\\Users\\rober\\Desktop\\Monkey-Emotions\\video\\gandalf_231205\\gandalf_231205_77_e3v831b.mp4\n",
      "Loading  c:\\Users\\rober\\Desktop\\Monkey-Emotions\\video\\gandalf_231205\\gandalf_231205_77_e3v831b.mp4\n",
      "Duration of video [s]:  17.4 , recorded with  120.0 fps!\n",
      "Overall # of frames:  2088  found with (before cropping) frame dimensions:  640 480\n",
      "Starting to extract posture\n"
     ]
    },
    {
     "name": "stderr",
     "output_type": "stream",
     "text": [
      "100%|██████████| 2088/2088 [06:45<00:00,  5.16it/s]\n"
     ]
    },
    {
     "name": "stdout",
     "output_type": "stream",
     "text": [
      "Saving results in c:\\Users\\rober\\Desktop\\Monkey-Emotions\\video\\gandalf_231205...\n",
      "Saving csv poses!\n",
      "Starting to analyze %  c:\\Users\\rober\\Desktop\\Monkey-Emotions\\video\\gandalf_231205\\gandalf_231205_78_e3v831b.mp4\n",
      "Loading  c:\\Users\\rober\\Desktop\\Monkey-Emotions\\video\\gandalf_231205\\gandalf_231205_78_e3v831b.mp4\n",
      "Duration of video [s]:  18.62 , recorded with  120.0 fps!\n",
      "Overall # of frames:  2234  found with (before cropping) frame dimensions:  640 480\n",
      "Starting to extract posture\n"
     ]
    },
    {
     "name": "stderr",
     "output_type": "stream",
     "text": [
      "100%|██████████| 2234/2234 [07:15<00:00,  5.13it/s]\n"
     ]
    },
    {
     "name": "stdout",
     "output_type": "stream",
     "text": [
      "Saving results in c:\\Users\\rober\\Desktop\\Monkey-Emotions\\video\\gandalf_231205...\n",
      "Saving csv poses!\n",
      "Starting to analyze %  c:\\Users\\rober\\Desktop\\Monkey-Emotions\\video\\gandalf_231205\\gandalf_231205_79_e3v831b.mp4\n",
      "Loading  c:\\Users\\rober\\Desktop\\Monkey-Emotions\\video\\gandalf_231205\\gandalf_231205_79_e3v831b.mp4\n",
      "Duration of video [s]:  11.15 , recorded with  120.0 fps!\n",
      "Overall # of frames:  1338  found with (before cropping) frame dimensions:  640 480\n",
      "Starting to extract posture\n"
     ]
    },
    {
     "name": "stderr",
     "output_type": "stream",
     "text": [
      "100%|██████████| 1338/1338 [04:20<00:00,  5.13it/s]\n"
     ]
    },
    {
     "name": "stdout",
     "output_type": "stream",
     "text": [
      "Saving results in c:\\Users\\rober\\Desktop\\Monkey-Emotions\\video\\gandalf_231205...\n",
      "Saving csv poses!\n",
      "Starting to analyze %  c:\\Users\\rober\\Desktop\\Monkey-Emotions\\video\\gandalf_231205\\gandalf_231205_80_e3v831b.mp4\n",
      "Loading  c:\\Users\\rober\\Desktop\\Monkey-Emotions\\video\\gandalf_231205\\gandalf_231205_80_e3v831b.mp4\n",
      "Duration of video [s]:  9.47 , recorded with  120.0 fps!\n",
      "Overall # of frames:  1136  found with (before cropping) frame dimensions:  640 480\n",
      "Starting to extract posture\n"
     ]
    },
    {
     "name": "stderr",
     "output_type": "stream",
     "text": [
      "100%|██████████| 1136/1136 [03:41<00:00,  5.13it/s]\n"
     ]
    },
    {
     "name": "stdout",
     "output_type": "stream",
     "text": [
      "Saving results in c:\\Users\\rober\\Desktop\\Monkey-Emotions\\video\\gandalf_231205...\n",
      "Saving csv poses!\n",
      "Starting to analyze %  c:\\Users\\rober\\Desktop\\Monkey-Emotions\\video\\gandalf_231205\\gandalf_231205_81_e3v831b.mp4\n",
      "Loading  c:\\Users\\rober\\Desktop\\Monkey-Emotions\\video\\gandalf_231205\\gandalf_231205_81_e3v831b.mp4\n",
      "Duration of video [s]:  14.44 , recorded with  120.0 fps!\n",
      "Overall # of frames:  1733  found with (before cropping) frame dimensions:  640 480\n",
      "Starting to extract posture\n"
     ]
    },
    {
     "name": "stderr",
     "output_type": "stream",
     "text": [
      "100%|██████████| 1733/1733 [05:36<00:00,  5.14it/s]\n"
     ]
    },
    {
     "name": "stdout",
     "output_type": "stream",
     "text": [
      "Saving results in c:\\Users\\rober\\Desktop\\Monkey-Emotions\\video\\gandalf_231205...\n",
      "Saving csv poses!\n",
      "Starting to analyze %  c:\\Users\\rober\\Desktop\\Monkey-Emotions\\video\\gandalf_231205\\gandalf_231205_82_e3v831b.mp4\n",
      "Loading  c:\\Users\\rober\\Desktop\\Monkey-Emotions\\video\\gandalf_231205\\gandalf_231205_82_e3v831b.mp4\n",
      "Duration of video [s]:  15.78 , recorded with  120.0 fps!\n",
      "Overall # of frames:  1893  found with (before cropping) frame dimensions:  640 480\n",
      "Starting to extract posture\n"
     ]
    },
    {
     "name": "stderr",
     "output_type": "stream",
     "text": [
      "100%|██████████| 1893/1893 [06:10<00:00,  5.11it/s]\n"
     ]
    },
    {
     "name": "stdout",
     "output_type": "stream",
     "text": [
      "Saving results in c:\\Users\\rober\\Desktop\\Monkey-Emotions\\video\\gandalf_231205...\n",
      "Saving csv poses!\n",
      "Starting to analyze %  c:\\Users\\rober\\Desktop\\Monkey-Emotions\\video\\gandalf_231205\\gandalf_231205_83_e3v831b.mp4\n",
      "Loading  c:\\Users\\rober\\Desktop\\Monkey-Emotions\\video\\gandalf_231205\\gandalf_231205_83_e3v831b.mp4\n",
      "Duration of video [s]:  14.49 , recorded with  120.0 fps!\n",
      "Overall # of frames:  1739  found with (before cropping) frame dimensions:  640 480\n",
      "Starting to extract posture\n"
     ]
    },
    {
     "name": "stderr",
     "output_type": "stream",
     "text": [
      "100%|██████████| 1739/1739 [05:38<00:00,  5.13it/s]\n"
     ]
    },
    {
     "name": "stdout",
     "output_type": "stream",
     "text": [
      "Saving results in c:\\Users\\rober\\Desktop\\Monkey-Emotions\\video\\gandalf_231205...\n",
      "Saving csv poses!\n",
      "Starting to analyze %  c:\\Users\\rober\\Desktop\\Monkey-Emotions\\video\\gandalf_231205\\gandalf_231205_84_e3v831b.mp4\n",
      "Loading  c:\\Users\\rober\\Desktop\\Monkey-Emotions\\video\\gandalf_231205\\gandalf_231205_84_e3v831b.mp4\n",
      "Duration of video [s]:  15.07 , recorded with  120.0 fps!\n",
      "Overall # of frames:  1809  found with (before cropping) frame dimensions:  640 480\n",
      "Starting to extract posture\n"
     ]
    },
    {
     "name": "stderr",
     "output_type": "stream",
     "text": [
      "100%|██████████| 1809/1809 [05:53<00:00,  5.11it/s]\n"
     ]
    },
    {
     "name": "stdout",
     "output_type": "stream",
     "text": [
      "Saving results in c:\\Users\\rober\\Desktop\\Monkey-Emotions\\video\\gandalf_231205...\n",
      "Saving csv poses!\n",
      "Starting to analyze %  c:\\Users\\rober\\Desktop\\Monkey-Emotions\\video\\gandalf_231205\\gandalf_231205_85_e3v831b.mp4\n",
      "Loading  c:\\Users\\rober\\Desktop\\Monkey-Emotions\\video\\gandalf_231205\\gandalf_231205_85_e3v831b.mp4\n",
      "Duration of video [s]:  18.66 , recorded with  120.0 fps!\n",
      "Overall # of frames:  2239  found with (before cropping) frame dimensions:  640 480\n",
      "Starting to extract posture\n"
     ]
    },
    {
     "name": "stderr",
     "output_type": "stream",
     "text": [
      "100%|██████████| 2239/2239 [07:15<00:00,  5.15it/s]\n"
     ]
    },
    {
     "name": "stdout",
     "output_type": "stream",
     "text": [
      "Saving results in c:\\Users\\rober\\Desktop\\Monkey-Emotions\\video\\gandalf_231205...\n",
      "Saving csv poses!\n",
      "Starting to analyze %  c:\\Users\\rober\\Desktop\\Monkey-Emotions\\video\\gandalf_231205\\gandalf_231205_86_e3v831b.mp4\n",
      "Loading  c:\\Users\\rober\\Desktop\\Monkey-Emotions\\video\\gandalf_231205\\gandalf_231205_86_e3v831b.mp4\n",
      "Duration of video [s]:  14.91 , recorded with  120.0 fps!\n",
      "Overall # of frames:  1789  found with (before cropping) frame dimensions:  640 480\n",
      "Starting to extract posture\n"
     ]
    },
    {
     "name": "stderr",
     "output_type": "stream",
     "text": [
      "100%|██████████| 1789/1789 [05:47<00:00,  5.14it/s]\n"
     ]
    },
    {
     "name": "stdout",
     "output_type": "stream",
     "text": [
      "Saving results in c:\\Users\\rober\\Desktop\\Monkey-Emotions\\video\\gandalf_231205...\n",
      "Saving csv poses!\n",
      "Starting to analyze %  c:\\Users\\rober\\Desktop\\Monkey-Emotions\\video\\gandalf_231205\\gandalf_231205_87_e3v831b.mp4\n",
      "Loading  c:\\Users\\rober\\Desktop\\Monkey-Emotions\\video\\gandalf_231205\\gandalf_231205_87_e3v831b.mp4\n",
      "Duration of video [s]:  21.98 , recorded with  120.0 fps!\n",
      "Overall # of frames:  2637  found with (before cropping) frame dimensions:  640 480\n",
      "Starting to extract posture\n"
     ]
    },
    {
     "name": "stderr",
     "output_type": "stream",
     "text": [
      "100%|██████████| 2637/2637 [08:30<00:00,  5.17it/s]\n"
     ]
    },
    {
     "name": "stdout",
     "output_type": "stream",
     "text": [
      "Saving results in c:\\Users\\rober\\Desktop\\Monkey-Emotions\\video\\gandalf_231205...\n",
      "Saving csv poses!\n",
      "Starting to analyze %  c:\\Users\\rober\\Desktop\\Monkey-Emotions\\video\\gandalf_231205\\gandalf_231205_88_e3v831b.mp4\n",
      "Loading  c:\\Users\\rober\\Desktop\\Monkey-Emotions\\video\\gandalf_231205\\gandalf_231205_88_e3v831b.mp4\n",
      "Duration of video [s]:  14.98 , recorded with  120.0 fps!\n",
      "Overall # of frames:  1798  found with (before cropping) frame dimensions:  640 480\n",
      "Starting to extract posture\n"
     ]
    },
    {
     "name": "stderr",
     "output_type": "stream",
     "text": [
      "100%|██████████| 1798/1798 [05:48<00:00,  5.16it/s]\n"
     ]
    },
    {
     "name": "stdout",
     "output_type": "stream",
     "text": [
      "Saving results in c:\\Users\\rober\\Desktop\\Monkey-Emotions\\video\\gandalf_231205...\n",
      "Saving csv poses!\n",
      "Starting to analyze %  c:\\Users\\rober\\Desktop\\Monkey-Emotions\\video\\gandalf_231205\\gandalf_231205_89_e3v831b.mp4\n",
      "Loading  c:\\Users\\rober\\Desktop\\Monkey-Emotions\\video\\gandalf_231205\\gandalf_231205_89_e3v831b.mp4\n",
      "Duration of video [s]:  14.57 , recorded with  120.0 fps!\n",
      "Overall # of frames:  1748  found with (before cropping) frame dimensions:  640 480\n",
      "Starting to extract posture\n"
     ]
    },
    {
     "name": "stderr",
     "output_type": "stream",
     "text": [
      "100%|██████████| 1748/1748 [05:39<00:00,  5.15it/s]\n"
     ]
    },
    {
     "name": "stdout",
     "output_type": "stream",
     "text": [
      "Saving results in c:\\Users\\rober\\Desktop\\Monkey-Emotions\\video\\gandalf_231205...\n",
      "Saving csv poses!\n",
      "Starting to analyze %  c:\\Users\\rober\\Desktop\\Monkey-Emotions\\video\\gandalf_231205\\gandalf_231205_90_e3v831b.mp4\n",
      "Loading  c:\\Users\\rober\\Desktop\\Monkey-Emotions\\video\\gandalf_231205\\gandalf_231205_90_e3v831b.mp4\n",
      "Duration of video [s]:  11.75 , recorded with  120.0 fps!\n",
      "Overall # of frames:  1410  found with (before cropping) frame dimensions:  640 480\n",
      "Starting to extract posture\n"
     ]
    },
    {
     "name": "stderr",
     "output_type": "stream",
     "text": [
      "100%|██████████| 1410/1410 [04:34<00:00,  5.13it/s]\n"
     ]
    },
    {
     "name": "stdout",
     "output_type": "stream",
     "text": [
      "Saving results in c:\\Users\\rober\\Desktop\\Monkey-Emotions\\video\\gandalf_231205...\n",
      "Saving csv poses!\n",
      "Starting to analyze %  c:\\Users\\rober\\Desktop\\Monkey-Emotions\\video\\gandalf_231205\\gandalf_231205_91_e3v831b.mp4\n",
      "Loading  c:\\Users\\rober\\Desktop\\Monkey-Emotions\\video\\gandalf_231205\\gandalf_231205_91_e3v831b.mp4\n",
      "Duration of video [s]:  50.73 , recorded with  120.0 fps!\n",
      "Overall # of frames:  6088  found with (before cropping) frame dimensions:  640 480\n",
      "Starting to extract posture\n"
     ]
    },
    {
     "name": "stderr",
     "output_type": "stream",
     "text": [
      "100%|██████████| 6088/6088 [19:44<00:00,  5.14it/s]\n"
     ]
    },
    {
     "name": "stdout",
     "output_type": "stream",
     "text": [
      "Saving results in c:\\Users\\rober\\Desktop\\Monkey-Emotions\\video\\gandalf_231205...\n",
      "Saving csv poses!\n",
      "Starting to analyze %  c:\\Users\\rober\\Desktop\\Monkey-Emotions\\video\\gandalf_231205\\gandalf_231205_92_e3v831b.mp4\n",
      "Loading  c:\\Users\\rober\\Desktop\\Monkey-Emotions\\video\\gandalf_231205\\gandalf_231205_92_e3v831b.mp4\n",
      "Duration of video [s]:  46.36 , recorded with  120.0 fps!\n",
      "Overall # of frames:  5563  found with (before cropping) frame dimensions:  640 480\n",
      "Starting to extract posture\n"
     ]
    },
    {
     "name": "stderr",
     "output_type": "stream",
     "text": [
      "100%|██████████| 5563/5563 [17:58<00:00,  5.16it/s]\n"
     ]
    },
    {
     "name": "stdout",
     "output_type": "stream",
     "text": [
      "Saving results in c:\\Users\\rober\\Desktop\\Monkey-Emotions\\video\\gandalf_231205...\n",
      "Saving csv poses!\n",
      "Starting to analyze %  c:\\Users\\rober\\Desktop\\Monkey-Emotions\\video\\gandalf_231205\\gandalf_231205_93_e3v831b.mp4\n",
      "Loading  c:\\Users\\rober\\Desktop\\Monkey-Emotions\\video\\gandalf_231205\\gandalf_231205_93_e3v831b.mp4\n",
      "Duration of video [s]:  14.84 , recorded with  120.0 fps!\n",
      "Overall # of frames:  1781  found with (before cropping) frame dimensions:  640 480\n",
      "Starting to extract posture\n"
     ]
    },
    {
     "name": "stderr",
     "output_type": "stream",
     "text": [
      "100%|██████████| 1781/1781 [05:46<00:00,  5.14it/s]\n"
     ]
    },
    {
     "name": "stdout",
     "output_type": "stream",
     "text": [
      "Saving results in c:\\Users\\rober\\Desktop\\Monkey-Emotions\\video\\gandalf_231205...\n",
      "Saving csv poses!\n",
      "Starting to analyze %  c:\\Users\\rober\\Desktop\\Monkey-Emotions\\video\\gandalf_231205\\gandalf_231205_94_e3v831b.mp4\n",
      "Loading  c:\\Users\\rober\\Desktop\\Monkey-Emotions\\video\\gandalf_231205\\gandalf_231205_94_e3v831b.mp4\n",
      "Duration of video [s]:  13.83 , recorded with  120.0 fps!\n",
      "Overall # of frames:  1660  found with (before cropping) frame dimensions:  640 480\n",
      "Starting to extract posture\n"
     ]
    },
    {
     "name": "stderr",
     "output_type": "stream",
     "text": [
      "100%|██████████| 1660/1660 [05:23<00:00,  5.13it/s]\n"
     ]
    },
    {
     "name": "stdout",
     "output_type": "stream",
     "text": [
      "Saving results in c:\\Users\\rober\\Desktop\\Monkey-Emotions\\video\\gandalf_231205...\n",
      "Saving csv poses!\n",
      "Starting to analyze %  c:\\Users\\rober\\Desktop\\Monkey-Emotions\\video\\gandalf_231205\\gandalf_231205_95_e3v831b.mp4\n",
      "Loading  c:\\Users\\rober\\Desktop\\Monkey-Emotions\\video\\gandalf_231205\\gandalf_231205_95_e3v831b.mp4\n",
      "Duration of video [s]:  14.85 , recorded with  120.0 fps!\n",
      "Overall # of frames:  1782  found with (before cropping) frame dimensions:  640 480\n",
      "Starting to extract posture\n"
     ]
    },
    {
     "name": "stderr",
     "output_type": "stream",
     "text": [
      "100%|██████████| 1782/1782 [05:47<00:00,  5.13it/s]\n"
     ]
    },
    {
     "name": "stdout",
     "output_type": "stream",
     "text": [
      "Saving results in c:\\Users\\rober\\Desktop\\Monkey-Emotions\\video\\gandalf_231205...\n",
      "Saving csv poses!\n",
      "Starting to analyze %  c:\\Users\\rober\\Desktop\\Monkey-Emotions\\video\\gandalf_231205\\gandalf_231205_96_e3v831b.mp4\n",
      "Loading  c:\\Users\\rober\\Desktop\\Monkey-Emotions\\video\\gandalf_231205\\gandalf_231205_96_e3v831b.mp4\n",
      "Duration of video [s]:  15.21 , recorded with  120.0 fps!\n",
      "Overall # of frames:  1825  found with (before cropping) frame dimensions:  640 480\n",
      "Starting to extract posture\n"
     ]
    },
    {
     "name": "stderr",
     "output_type": "stream",
     "text": [
      "100%|██████████| 1825/1825 [05:56<00:00,  5.12it/s]\n"
     ]
    },
    {
     "name": "stdout",
     "output_type": "stream",
     "text": [
      "Saving results in c:\\Users\\rober\\Desktop\\Monkey-Emotions\\video\\gandalf_231205...\n",
      "Saving csv poses!\n",
      "Starting to analyze %  c:\\Users\\rober\\Desktop\\Monkey-Emotions\\video\\gandalf_231205\\gandalf_231205_97_e3v831b.mp4\n",
      "Loading  c:\\Users\\rober\\Desktop\\Monkey-Emotions\\video\\gandalf_231205\\gandalf_231205_97_e3v831b.mp4\n",
      "Duration of video [s]:  17.49 , recorded with  120.0 fps!\n",
      "Overall # of frames:  2099  found with (before cropping) frame dimensions:  640 480\n",
      "Starting to extract posture\n"
     ]
    },
    {
     "name": "stderr",
     "output_type": "stream",
     "text": [
      "100%|██████████| 2099/2099 [06:50<00:00,  5.11it/s]\n"
     ]
    },
    {
     "name": "stdout",
     "output_type": "stream",
     "text": [
      "Saving results in c:\\Users\\rober\\Desktop\\Monkey-Emotions\\video\\gandalf_231205...\n",
      "Saving csv poses!\n",
      "Starting to analyze %  c:\\Users\\rober\\Desktop\\Monkey-Emotions\\video\\gandalf_231205\\gandalf_231205_98_e3v831b.mp4\n",
      "Loading  c:\\Users\\rober\\Desktop\\Monkey-Emotions\\video\\gandalf_231205\\gandalf_231205_98_e3v831b.mp4\n",
      "Duration of video [s]:  15.53 , recorded with  120.0 fps!\n",
      "Overall # of frames:  1864  found with (before cropping) frame dimensions:  640 480\n",
      "Starting to extract posture\n"
     ]
    },
    {
     "name": "stderr",
     "output_type": "stream",
     "text": [
      "100%|██████████| 1864/1864 [06:02<00:00,  5.15it/s]\n"
     ]
    },
    {
     "name": "stdout",
     "output_type": "stream",
     "text": [
      "Saving results in c:\\Users\\rober\\Desktop\\Monkey-Emotions\\video\\gandalf_231205...\n",
      "Saving csv poses!\n",
      "Starting to analyze %  c:\\Users\\rober\\Desktop\\Monkey-Emotions\\video\\gandalf_231205\\gandalf_231205_99_e3v831b.mp4\n",
      "Loading  c:\\Users\\rober\\Desktop\\Monkey-Emotions\\video\\gandalf_231205\\gandalf_231205_99_e3v831b.mp4\n",
      "Duration of video [s]:  16.98 , recorded with  120.0 fps!\n",
      "Overall # of frames:  2037  found with (before cropping) frame dimensions:  640 480\n",
      "Starting to extract posture\n"
     ]
    },
    {
     "name": "stderr",
     "output_type": "stream",
     "text": [
      "100%|██████████| 2037/2037 [06:36<00:00,  5.14it/s]\n"
     ]
    },
    {
     "name": "stdout",
     "output_type": "stream",
     "text": [
      "Saving results in c:\\Users\\rober\\Desktop\\Monkey-Emotions\\video\\gandalf_231205...\n",
      "Saving csv poses!\n",
      "Starting to analyze %  c:\\Users\\rober\\Desktop\\Monkey-Emotions\\video\\gandalf_231205\\gandalf_231205_100_e3v831b.mp4\n",
      "Loading  c:\\Users\\rober\\Desktop\\Monkey-Emotions\\video\\gandalf_231205\\gandalf_231205_100_e3v831b.mp4\n",
      "Duration of video [s]:  10.97 , recorded with  120.0 fps!\n",
      "Overall # of frames:  1316  found with (before cropping) frame dimensions:  640 480\n",
      "Starting to extract posture\n"
     ]
    },
    {
     "name": "stderr",
     "output_type": "stream",
     "text": [
      "100%|██████████| 1316/1316 [04:17<00:00,  5.10it/s]\n"
     ]
    },
    {
     "name": "stdout",
     "output_type": "stream",
     "text": [
      "Saving results in c:\\Users\\rober\\Desktop\\Monkey-Emotions\\video\\gandalf_231205...\n",
      "Saving csv poses!\n",
      "Starting to analyze %  c:\\Users\\rober\\Desktop\\Monkey-Emotions\\video\\gandalf_231205\\gandalf_231205_101_e3v831b.mp4\n",
      "Loading  c:\\Users\\rober\\Desktop\\Monkey-Emotions\\video\\gandalf_231205\\gandalf_231205_101_e3v831b.mp4\n",
      "Duration of video [s]:  18.77 , recorded with  120.0 fps!\n",
      "Overall # of frames:  2253  found with (before cropping) frame dimensions:  640 480\n",
      "Starting to extract posture\n"
     ]
    },
    {
     "name": "stderr",
     "output_type": "stream",
     "text": [
      "100%|██████████| 2253/2253 [07:24<00:00,  5.06it/s]\n"
     ]
    },
    {
     "name": "stdout",
     "output_type": "stream",
     "text": [
      "Saving results in c:\\Users\\rober\\Desktop\\Monkey-Emotions\\video\\gandalf_231205...\n",
      "Saving csv poses!\n",
      "Starting to analyze %  c:\\Users\\rober\\Desktop\\Monkey-Emotions\\video\\gandalf_231205\\gandalf_231205_102_e3v831b.mp4\n",
      "Loading  c:\\Users\\rober\\Desktop\\Monkey-Emotions\\video\\gandalf_231205\\gandalf_231205_102_e3v831b.mp4\n",
      "Duration of video [s]:  13.08 , recorded with  120.0 fps!\n",
      "Overall # of frames:  1570  found with (before cropping) frame dimensions:  640 480\n",
      "Starting to extract posture\n"
     ]
    },
    {
     "name": "stderr",
     "output_type": "stream",
     "text": [
      "100%|██████████| 1570/1570 [05:06<00:00,  5.12it/s]\n"
     ]
    },
    {
     "name": "stdout",
     "output_type": "stream",
     "text": [
      "Saving results in c:\\Users\\rober\\Desktop\\Monkey-Emotions\\video\\gandalf_231205...\n",
      "Saving csv poses!\n",
      "Starting to analyze %  c:\\Users\\rober\\Desktop\\Monkey-Emotions\\video\\gandalf_231205\\gandalf_231205_103_e3v831b.mp4\n",
      "Loading  c:\\Users\\rober\\Desktop\\Monkey-Emotions\\video\\gandalf_231205\\gandalf_231205_103_e3v831b.mp4\n",
      "Duration of video [s]:  13.87 , recorded with  120.0 fps!\n",
      "Overall # of frames:  1664  found with (before cropping) frame dimensions:  640 480\n",
      "Starting to extract posture\n"
     ]
    },
    {
     "name": "stderr",
     "output_type": "stream",
     "text": [
      "100%|██████████| 1664/1664 [05:23<00:00,  5.14it/s]\n"
     ]
    },
    {
     "name": "stdout",
     "output_type": "stream",
     "text": [
      "Saving results in c:\\Users\\rober\\Desktop\\Monkey-Emotions\\video\\gandalf_231205...\n",
      "Saving csv poses!\n",
      "Starting to analyze %  c:\\Users\\rober\\Desktop\\Monkey-Emotions\\video\\gandalf_231205\\gandalf_231205_104_e3v831b.mp4\n",
      "Loading  c:\\Users\\rober\\Desktop\\Monkey-Emotions\\video\\gandalf_231205\\gandalf_231205_104_e3v831b.mp4\n",
      "Duration of video [s]:  16.52 , recorded with  120.0 fps!\n",
      "Overall # of frames:  1983  found with (before cropping) frame dimensions:  640 480\n",
      "Starting to extract posture\n"
     ]
    },
    {
     "name": "stderr",
     "output_type": "stream",
     "text": [
      "100%|██████████| 1983/1983 [06:26<00:00,  5.13it/s]\n"
     ]
    },
    {
     "name": "stdout",
     "output_type": "stream",
     "text": [
      "Saving results in c:\\Users\\rober\\Desktop\\Monkey-Emotions\\video\\gandalf_231205...\n",
      "Saving csv poses!\n",
      "Starting to analyze %  c:\\Users\\rober\\Desktop\\Monkey-Emotions\\video\\gandalf_231205\\gandalf_231205_105_e3v831b.mp4\n",
      "Loading  c:\\Users\\rober\\Desktop\\Monkey-Emotions\\video\\gandalf_231205\\gandalf_231205_105_e3v831b.mp4\n",
      "Duration of video [s]:  20.24 , recorded with  120.0 fps!\n",
      "Overall # of frames:  2429  found with (before cropping) frame dimensions:  640 480\n",
      "Starting to extract posture\n"
     ]
    },
    {
     "name": "stderr",
     "output_type": "stream",
     "text": [
      "100%|██████████| 2429/2429 [07:53<00:00,  5.12it/s]\n"
     ]
    },
    {
     "name": "stdout",
     "output_type": "stream",
     "text": [
      "Saving results in c:\\Users\\rober\\Desktop\\Monkey-Emotions\\video\\gandalf_231205...\n",
      "Saving csv poses!\n",
      "Starting to analyze %  c:\\Users\\rober\\Desktop\\Monkey-Emotions\\video\\gandalf_231205\\gandalf_231205_106_e3v831b.mp4\n",
      "Loading  c:\\Users\\rober\\Desktop\\Monkey-Emotions\\video\\gandalf_231205\\gandalf_231205_106_e3v831b.mp4\n",
      "Duration of video [s]:  17.76 , recorded with  120.0 fps!\n",
      "Overall # of frames:  2131  found with (before cropping) frame dimensions:  640 480\n",
      "Starting to extract posture\n"
     ]
    },
    {
     "name": "stderr",
     "output_type": "stream",
     "text": [
      "100%|██████████| 2131/2131 [06:55<00:00,  5.13it/s]\n"
     ]
    },
    {
     "name": "stdout",
     "output_type": "stream",
     "text": [
      "Saving results in c:\\Users\\rober\\Desktop\\Monkey-Emotions\\video\\gandalf_231205...\n",
      "Saving csv poses!\n",
      "Starting to analyze %  c:\\Users\\rober\\Desktop\\Monkey-Emotions\\video\\gandalf_231205\\gandalf_231205_107_e3v831b.mp4\n",
      "Loading  c:\\Users\\rober\\Desktop\\Monkey-Emotions\\video\\gandalf_231205\\gandalf_231205_107_e3v831b.mp4\n",
      "Duration of video [s]:  12.0 , recorded with  120.0 fps!\n",
      "Overall # of frames:  1440  found with (before cropping) frame dimensions:  640 480\n",
      "Starting to extract posture\n"
     ]
    },
    {
     "name": "stderr",
     "output_type": "stream",
     "text": [
      "100%|██████████| 1440/1440 [04:41<00:00,  5.11it/s]\n"
     ]
    },
    {
     "name": "stdout",
     "output_type": "stream",
     "text": [
      "Saving results in c:\\Users\\rober\\Desktop\\Monkey-Emotions\\video\\gandalf_231205...\n",
      "Saving csv poses!\n",
      "Starting to analyze %  c:\\Users\\rober\\Desktop\\Monkey-Emotions\\video\\gandalf_231205\\gandalf_231205_108_e3v831b.mp4\n",
      "Loading  c:\\Users\\rober\\Desktop\\Monkey-Emotions\\video\\gandalf_231205\\gandalf_231205_108_e3v831b.mp4\n",
      "Duration of video [s]:  16.04 , recorded with  120.0 fps!\n",
      "Overall # of frames:  1925  found with (before cropping) frame dimensions:  640 480\n",
      "Starting to extract posture\n"
     ]
    },
    {
     "name": "stderr",
     "output_type": "stream",
     "text": [
      "100%|██████████| 1925/1925 [06:15<00:00,  5.13it/s]\n"
     ]
    },
    {
     "name": "stdout",
     "output_type": "stream",
     "text": [
      "Saving results in c:\\Users\\rober\\Desktop\\Monkey-Emotions\\video\\gandalf_231205...\n",
      "Saving csv poses!\n",
      "Starting to analyze %  c:\\Users\\rober\\Desktop\\Monkey-Emotions\\video\\gandalf_231205\\gandalf_231205_109_e3v831b.mp4\n",
      "Loading  c:\\Users\\rober\\Desktop\\Monkey-Emotions\\video\\gandalf_231205\\gandalf_231205_109_e3v831b.mp4\n",
      "Duration of video [s]:  15.6 , recorded with  120.0 fps!\n",
      "Overall # of frames:  1872  found with (before cropping) frame dimensions:  640 480\n",
      "Starting to extract posture\n"
     ]
    },
    {
     "name": "stderr",
     "output_type": "stream",
     "text": [
      "100%|██████████| 1872/1872 [06:03<00:00,  5.15it/s]\n"
     ]
    },
    {
     "name": "stdout",
     "output_type": "stream",
     "text": [
      "Saving results in c:\\Users\\rober\\Desktop\\Monkey-Emotions\\video\\gandalf_231205...\n",
      "Saving csv poses!\n",
      "Starting to analyze %  c:\\Users\\rober\\Desktop\\Monkey-Emotions\\video\\gandalf_231205\\gandalf_231205_110_e3v831b.mp4\n",
      "Loading  c:\\Users\\rober\\Desktop\\Monkey-Emotions\\video\\gandalf_231205\\gandalf_231205_110_e3v831b.mp4\n",
      "Duration of video [s]:  21.24 , recorded with  120.0 fps!\n",
      "Overall # of frames:  2549  found with (before cropping) frame dimensions:  640 480\n",
      "Starting to extract posture\n"
     ]
    },
    {
     "name": "stderr",
     "output_type": "stream",
     "text": [
      "100%|██████████| 2549/2549 [08:17<00:00,  5.12it/s]\n"
     ]
    },
    {
     "name": "stdout",
     "output_type": "stream",
     "text": [
      "Saving results in c:\\Users\\rober\\Desktop\\Monkey-Emotions\\video\\gandalf_231205...\n",
      "Saving csv poses!\n",
      "Starting to analyze %  c:\\Users\\rober\\Desktop\\Monkey-Emotions\\video\\gandalf_231205\\gandalf_231205_111_e3v831b.mp4\n",
      "Loading  c:\\Users\\rober\\Desktop\\Monkey-Emotions\\video\\gandalf_231205\\gandalf_231205_111_e3v831b.mp4\n",
      "Duration of video [s]:  51.55 , recorded with  120.0 fps!\n",
      "Overall # of frames:  6186  found with (before cropping) frame dimensions:  640 480\n",
      "Starting to extract posture\n"
     ]
    },
    {
     "name": "stderr",
     "output_type": "stream",
     "text": [
      "100%|██████████| 6186/6186 [20:06<00:00,  5.13it/s]\n"
     ]
    },
    {
     "name": "stdout",
     "output_type": "stream",
     "text": [
      "Saving results in c:\\Users\\rober\\Desktop\\Monkey-Emotions\\video\\gandalf_231205...\n",
      "Saving csv poses!\n",
      "Starting to analyze %  c:\\Users\\rober\\Desktop\\Monkey-Emotions\\video\\gandalf_231205\\gandalf_231205_112_e3v831b.mp4\n",
      "Loading  c:\\Users\\rober\\Desktop\\Monkey-Emotions\\video\\gandalf_231205\\gandalf_231205_112_e3v831b.mp4\n",
      "Duration of video [s]:  18.05 , recorded with  120.0 fps!\n",
      "Overall # of frames:  2166  found with (before cropping) frame dimensions:  640 480\n",
      "Starting to extract posture\n"
     ]
    },
    {
     "name": "stderr",
     "output_type": "stream",
     "text": [
      "100%|██████████| 2166/2166 [07:02<00:00,  5.13it/s]\n"
     ]
    },
    {
     "name": "stdout",
     "output_type": "stream",
     "text": [
      "Saving results in c:\\Users\\rober\\Desktop\\Monkey-Emotions\\video\\gandalf_231205...\n",
      "Saving csv poses!\n",
      "Starting to analyze %  c:\\Users\\rober\\Desktop\\Monkey-Emotions\\video\\gandalf_231205\\gandalf_231205_113_e3v831b.mp4\n",
      "Loading  c:\\Users\\rober\\Desktop\\Monkey-Emotions\\video\\gandalf_231205\\gandalf_231205_113_e3v831b.mp4\n",
      "Duration of video [s]:  15.09 , recorded with  120.0 fps!\n",
      "Overall # of frames:  1811  found with (before cropping) frame dimensions:  640 480\n",
      "Starting to extract posture\n"
     ]
    },
    {
     "name": "stderr",
     "output_type": "stream",
     "text": [
      "100%|██████████| 1811/1811 [05:50<00:00,  5.16it/s]\n"
     ]
    },
    {
     "name": "stdout",
     "output_type": "stream",
     "text": [
      "Saving results in c:\\Users\\rober\\Desktop\\Monkey-Emotions\\video\\gandalf_231205...\n",
      "Saving csv poses!\n",
      "Starting to analyze %  c:\\Users\\rober\\Desktop\\Monkey-Emotions\\video\\gandalf_231205\\gandalf_231205_114_e3v831b.mp4\n",
      "Loading  c:\\Users\\rober\\Desktop\\Monkey-Emotions\\video\\gandalf_231205\\gandalf_231205_114_e3v831b.mp4\n",
      "Duration of video [s]:  51.2 , recorded with  120.0 fps!\n",
      "Overall # of frames:  6144  found with (before cropping) frame dimensions:  640 480\n",
      "Starting to extract posture\n"
     ]
    },
    {
     "name": "stderr",
     "output_type": "stream",
     "text": [
      "100%|██████████| 6144/6144 [19:55<00:00,  5.14it/s]\n"
     ]
    },
    {
     "name": "stdout",
     "output_type": "stream",
     "text": [
      "Saving results in c:\\Users\\rober\\Desktop\\Monkey-Emotions\\video\\gandalf_231205...\n",
      "Saving csv poses!\n",
      "Starting to analyze %  c:\\Users\\rober\\Desktop\\Monkey-Emotions\\video\\gandalf_231205\\gandalf_231205_115_e3v831b.mp4\n",
      "Loading  c:\\Users\\rober\\Desktop\\Monkey-Emotions\\video\\gandalf_231205\\gandalf_231205_115_e3v831b.mp4\n",
      "Duration of video [s]:  32.33 , recorded with  120.0 fps!\n",
      "Overall # of frames:  3880  found with (before cropping) frame dimensions:  640 480\n",
      "Starting to extract posture\n"
     ]
    },
    {
     "name": "stderr",
     "output_type": "stream",
     "text": [
      "100%|██████████| 3880/3880 [12:41<00:00,  5.09it/s]\n"
     ]
    },
    {
     "name": "stdout",
     "output_type": "stream",
     "text": [
      "Saving results in c:\\Users\\rober\\Desktop\\Monkey-Emotions\\video\\gandalf_231205...\n",
      "Saving csv poses!\n",
      "Starting to analyze %  c:\\Users\\rober\\Desktop\\Monkey-Emotions\\video\\gandalf_231205\\gandalf_231205_116_e3v831b.mp4\n",
      "Loading  c:\\Users\\rober\\Desktop\\Monkey-Emotions\\video\\gandalf_231205\\gandalf_231205_116_e3v831b.mp4\n",
      "Duration of video [s]:  15.62 , recorded with  120.0 fps!\n",
      "Overall # of frames:  1874  found with (before cropping) frame dimensions:  640 480\n",
      "Starting to extract posture\n"
     ]
    },
    {
     "name": "stderr",
     "output_type": "stream",
     "text": [
      "100%|██████████| 1874/1874 [06:09<00:00,  5.07it/s]\n"
     ]
    },
    {
     "name": "stdout",
     "output_type": "stream",
     "text": [
      "Saving results in c:\\Users\\rober\\Desktop\\Monkey-Emotions\\video\\gandalf_231205...\n",
      "Saving csv poses!\n",
      "Starting to analyze %  c:\\Users\\rober\\Desktop\\Monkey-Emotions\\video\\gandalf_231205\\gandalf_231205_117_e3v831b.mp4\n",
      "Loading  c:\\Users\\rober\\Desktop\\Monkey-Emotions\\video\\gandalf_231205\\gandalf_231205_117_e3v831b.mp4\n",
      "Duration of video [s]:  19.73 , recorded with  120.0 fps!\n",
      "Overall # of frames:  2368  found with (before cropping) frame dimensions:  640 480\n",
      "Starting to extract posture\n"
     ]
    },
    {
     "name": "stderr",
     "output_type": "stream",
     "text": [
      "100%|██████████| 2368/2368 [07:44<00:00,  5.10it/s]\n"
     ]
    },
    {
     "name": "stdout",
     "output_type": "stream",
     "text": [
      "Saving results in c:\\Users\\rober\\Desktop\\Monkey-Emotions\\video\\gandalf_231205...\n",
      "Saving csv poses!\n",
      "Starting to analyze %  c:\\Users\\rober\\Desktop\\Monkey-Emotions\\video\\gandalf_231205\\gandalf_231205_118_e3v831b.mp4\n",
      "Loading  c:\\Users\\rober\\Desktop\\Monkey-Emotions\\video\\gandalf_231205\\gandalf_231205_118_e3v831b.mp4\n",
      "Duration of video [s]:  51.27 , recorded with  120.0 fps!\n",
      "Overall # of frames:  6152  found with (before cropping) frame dimensions:  640 480\n",
      "Starting to extract posture\n"
     ]
    },
    {
     "name": "stderr",
     "output_type": "stream",
     "text": [
      "100%|██████████| 6152/6152 [20:11<00:00,  5.08it/s]\n"
     ]
    },
    {
     "name": "stdout",
     "output_type": "stream",
     "text": [
      "Saving results in c:\\Users\\rober\\Desktop\\Monkey-Emotions\\video\\gandalf_231205...\n",
      "Saving csv poses!\n",
      "Starting to analyze %  c:\\Users\\rober\\Desktop\\Monkey-Emotions\\video\\gandalf_231205\\gandalf_231205_119_e3v831b.mp4\n",
      "Loading  c:\\Users\\rober\\Desktop\\Monkey-Emotions\\video\\gandalf_231205\\gandalf_231205_119_e3v831b.mp4\n",
      "Duration of video [s]:  35.06 , recorded with  120.0 fps!\n",
      "Overall # of frames:  4207  found with (before cropping) frame dimensions:  640 480\n",
      "Starting to extract posture\n"
     ]
    },
    {
     "name": "stderr",
     "output_type": "stream",
     "text": [
      "100%|██████████| 4207/4207 [13:47<00:00,  5.08it/s]\n"
     ]
    },
    {
     "name": "stdout",
     "output_type": "stream",
     "text": [
      "Saving results in c:\\Users\\rober\\Desktop\\Monkey-Emotions\\video\\gandalf_231205...\n",
      "Saving csv poses!\n",
      "Starting to analyze %  c:\\Users\\rober\\Desktop\\Monkey-Emotions\\video\\gandalf_231205\\gandalf_231205_120_e3v831b.mp4\n",
      "Loading  c:\\Users\\rober\\Desktop\\Monkey-Emotions\\video\\gandalf_231205\\gandalf_231205_120_e3v831b.mp4\n",
      "Duration of video [s]:  12.97 , recorded with  120.0 fps!\n",
      "Overall # of frames:  1556  found with (before cropping) frame dimensions:  640 480\n",
      "Starting to extract posture\n"
     ]
    },
    {
     "name": "stderr",
     "output_type": "stream",
     "text": [
      "100%|██████████| 1556/1556 [05:06<00:00,  5.07it/s]\n"
     ]
    },
    {
     "name": "stdout",
     "output_type": "stream",
     "text": [
      "Saving results in c:\\Users\\rober\\Desktop\\Monkey-Emotions\\video\\gandalf_231205...\n",
      "Saving csv poses!\n",
      "Starting to analyze %  c:\\Users\\rober\\Desktop\\Monkey-Emotions\\video\\gandalf_231205\\gandalf_231205_121_e3v831b.mp4\n",
      "Loading  c:\\Users\\rober\\Desktop\\Monkey-Emotions\\video\\gandalf_231205\\gandalf_231205_121_e3v831b.mp4\n",
      "Duration of video [s]:  16.54 , recorded with  120.0 fps!\n",
      "Overall # of frames:  1985  found with (before cropping) frame dimensions:  640 480\n",
      "Starting to extract posture\n"
     ]
    },
    {
     "name": "stderr",
     "output_type": "stream",
     "text": [
      "100%|██████████| 1985/1985 [06:32<00:00,  5.06it/s]\n"
     ]
    },
    {
     "name": "stdout",
     "output_type": "stream",
     "text": [
      "Saving results in c:\\Users\\rober\\Desktop\\Monkey-Emotions\\video\\gandalf_231205...\n",
      "Saving csv poses!\n",
      "Starting to analyze %  c:\\Users\\rober\\Desktop\\Monkey-Emotions\\video\\gandalf_231205\\gandalf_231205_122_e3v831b.mp4\n",
      "Loading  c:\\Users\\rober\\Desktop\\Monkey-Emotions\\video\\gandalf_231205\\gandalf_231205_122_e3v831b.mp4\n",
      "Duration of video [s]:  10.28 , recorded with  120.0 fps!\n",
      "Overall # of frames:  1234  found with (before cropping) frame dimensions:  640 480\n",
      "Starting to extract posture\n"
     ]
    },
    {
     "name": "stderr",
     "output_type": "stream",
     "text": [
      "100%|██████████| 1234/1234 [04:04<00:00,  5.04it/s]\n"
     ]
    },
    {
     "name": "stdout",
     "output_type": "stream",
     "text": [
      "Saving results in c:\\Users\\rober\\Desktop\\Monkey-Emotions\\video\\gandalf_231205...\n",
      "Saving csv poses!\n",
      "Starting to analyze %  c:\\Users\\rober\\Desktop\\Monkey-Emotions\\video\\gandalf_231205\\gandalf_231205_123_e3v831b.mp4\n",
      "Loading  c:\\Users\\rober\\Desktop\\Monkey-Emotions\\video\\gandalf_231205\\gandalf_231205_123_e3v831b.mp4\n",
      "Duration of video [s]:  19.01 , recorded with  120.0 fps!\n",
      "Overall # of frames:  2281  found with (before cropping) frame dimensions:  640 480\n",
      "Starting to extract posture\n"
     ]
    },
    {
     "name": "stderr",
     "output_type": "stream",
     "text": [
      "100%|██████████| 2281/2281 [07:31<00:00,  5.05it/s]\n"
     ]
    },
    {
     "name": "stdout",
     "output_type": "stream",
     "text": [
      "Saving results in c:\\Users\\rober\\Desktop\\Monkey-Emotions\\video\\gandalf_231205...\n",
      "Saving csv poses!\n",
      "Starting to analyze %  c:\\Users\\rober\\Desktop\\Monkey-Emotions\\video\\gandalf_231205\\gandalf_231205_124_e3v831b.mp4\n",
      "Loading  c:\\Users\\rober\\Desktop\\Monkey-Emotions\\video\\gandalf_231205\\gandalf_231205_124_e3v831b.mp4\n",
      "Duration of video [s]:  16.68 , recorded with  120.0 fps!\n",
      "Overall # of frames:  2002  found with (before cropping) frame dimensions:  640 480\n",
      "Starting to extract posture\n"
     ]
    },
    {
     "name": "stderr",
     "output_type": "stream",
     "text": [
      "100%|██████████| 2002/2002 [06:39<00:00,  5.01it/s]\n"
     ]
    },
    {
     "name": "stdout",
     "output_type": "stream",
     "text": [
      "Saving results in c:\\Users\\rober\\Desktop\\Monkey-Emotions\\video\\gandalf_231205...\n",
      "Saving csv poses!\n",
      "Starting to analyze %  c:\\Users\\rober\\Desktop\\Monkey-Emotions\\video\\gandalf_231205\\gandalf_231205_125_e3v831b.mp4\n",
      "Loading  c:\\Users\\rober\\Desktop\\Monkey-Emotions\\video\\gandalf_231205\\gandalf_231205_125_e3v831b.mp4\n",
      "Duration of video [s]:  11.19 , recorded with  120.0 fps!\n",
      "Overall # of frames:  1343  found with (before cropping) frame dimensions:  640 480\n",
      "Starting to extract posture\n"
     ]
    },
    {
     "name": "stderr",
     "output_type": "stream",
     "text": [
      "100%|██████████| 1343/1343 [04:25<00:00,  5.05it/s]\n"
     ]
    },
    {
     "name": "stdout",
     "output_type": "stream",
     "text": [
      "Saving results in c:\\Users\\rober\\Desktop\\Monkey-Emotions\\video\\gandalf_231205...\n",
      "Saving csv poses!\n",
      "Starting to analyze %  c:\\Users\\rober\\Desktop\\Monkey-Emotions\\video\\gandalf_231205\\gandalf_231205_126_e3v831b.mp4\n",
      "Loading  c:\\Users\\rober\\Desktop\\Monkey-Emotions\\video\\gandalf_231205\\gandalf_231205_126_e3v831b.mp4\n",
      "Duration of video [s]:  13.27 , recorded with  120.0 fps!\n",
      "Overall # of frames:  1592  found with (before cropping) frame dimensions:  640 480\n",
      "Starting to extract posture\n"
     ]
    },
    {
     "name": "stderr",
     "output_type": "stream",
     "text": [
      "100%|██████████| 1592/1592 [05:16<00:00,  5.03it/s]\n"
     ]
    },
    {
     "name": "stdout",
     "output_type": "stream",
     "text": [
      "Saving results in c:\\Users\\rober\\Desktop\\Monkey-Emotions\\video\\gandalf_231205...\n",
      "Saving csv poses!\n",
      "Starting to analyze %  c:\\Users\\rober\\Desktop\\Monkey-Emotions\\video\\gandalf_231205\\gandalf_231205_127_e3v831b.mp4\n",
      "Loading  c:\\Users\\rober\\Desktop\\Monkey-Emotions\\video\\gandalf_231205\\gandalf_231205_127_e3v831b.mp4\n",
      "Duration of video [s]:  16.5 , recorded with  120.0 fps!\n",
      "Overall # of frames:  1980  found with (before cropping) frame dimensions:  640 480\n",
      "Starting to extract posture\n"
     ]
    },
    {
     "name": "stderr",
     "output_type": "stream",
     "text": [
      "100%|██████████| 1980/1980 [06:33<00:00,  5.04it/s]\n"
     ]
    },
    {
     "name": "stdout",
     "output_type": "stream",
     "text": [
      "Saving results in c:\\Users\\rober\\Desktop\\Monkey-Emotions\\video\\gandalf_231205...\n",
      "Saving csv poses!\n",
      "Starting to analyze %  c:\\Users\\rober\\Desktop\\Monkey-Emotions\\video\\gandalf_231205\\gandalf_231205_128_e3v831b.mp4\n",
      "Loading  c:\\Users\\rober\\Desktop\\Monkey-Emotions\\video\\gandalf_231205\\gandalf_231205_128_e3v831b.mp4\n",
      "Duration of video [s]:  13.07 , recorded with  120.0 fps!\n",
      "Overall # of frames:  1569  found with (before cropping) frame dimensions:  640 480\n",
      "Starting to extract posture\n"
     ]
    },
    {
     "name": "stderr",
     "output_type": "stream",
     "text": [
      "100%|██████████| 1569/1569 [05:12<00:00,  5.03it/s]\n"
     ]
    },
    {
     "name": "stdout",
     "output_type": "stream",
     "text": [
      "Saving results in c:\\Users\\rober\\Desktop\\Monkey-Emotions\\video\\gandalf_231205...\n",
      "Saving csv poses!\n",
      "Starting to analyze %  c:\\Users\\rober\\Desktop\\Monkey-Emotions\\video\\gandalf_231205\\gandalf_231205_129_e3v831b.mp4\n",
      "Loading  c:\\Users\\rober\\Desktop\\Monkey-Emotions\\video\\gandalf_231205\\gandalf_231205_129_e3v831b.mp4\n",
      "Duration of video [s]:  45.79 , recorded with  120.0 fps!\n",
      "Overall # of frames:  5495  found with (before cropping) frame dimensions:  640 480\n",
      "Starting to extract posture\n"
     ]
    },
    {
     "name": "stderr",
     "output_type": "stream",
     "text": [
      "100%|██████████| 5495/5495 [17:57<00:00,  5.10it/s]\n"
     ]
    },
    {
     "name": "stdout",
     "output_type": "stream",
     "text": [
      "Saving results in c:\\Users\\rober\\Desktop\\Monkey-Emotions\\video\\gandalf_231205...\n",
      "Saving csv poses!\n",
      "Starting to analyze %  c:\\Users\\rober\\Desktop\\Monkey-Emotions\\video\\gandalf_231205\\gandalf_231205_130_e3v831b.mp4\n",
      "Loading  c:\\Users\\rober\\Desktop\\Monkey-Emotions\\video\\gandalf_231205\\gandalf_231205_130_e3v831b.mp4\n",
      "Duration of video [s]:  14.86 , recorded with  120.0 fps!\n",
      "Overall # of frames:  1783  found with (before cropping) frame dimensions:  640 480\n",
      "Starting to extract posture\n"
     ]
    },
    {
     "name": "stderr",
     "output_type": "stream",
     "text": [
      "100%|██████████| 1783/1783 [05:50<00:00,  5.09it/s]\n"
     ]
    },
    {
     "name": "stdout",
     "output_type": "stream",
     "text": [
      "Saving results in c:\\Users\\rober\\Desktop\\Monkey-Emotions\\video\\gandalf_231205...\n",
      "Saving csv poses!\n",
      "Starting to analyze %  c:\\Users\\rober\\Desktop\\Monkey-Emotions\\video\\gandalf_231205\\gandalf_231205_131_e3v831b.mp4\n",
      "Loading  c:\\Users\\rober\\Desktop\\Monkey-Emotions\\video\\gandalf_231205\\gandalf_231205_131_e3v831b.mp4\n",
      "Duration of video [s]:  12.83 , recorded with  120.0 fps!\n",
      "Overall # of frames:  1540  found with (before cropping) frame dimensions:  640 480\n",
      "Starting to extract posture\n"
     ]
    },
    {
     "name": "stderr",
     "output_type": "stream",
     "text": [
      "100%|██████████| 1540/1540 [05:11<00:00,  4.94it/s]\n"
     ]
    },
    {
     "name": "stdout",
     "output_type": "stream",
     "text": [
      "Saving results in c:\\Users\\rober\\Desktop\\Monkey-Emotions\\video\\gandalf_231205...\n",
      "Saving csv poses!\n",
      "Starting to analyze %  c:\\Users\\rober\\Desktop\\Monkey-Emotions\\video\\gandalf_231205\\gandalf_231205_132_e3v831b.mp4\n",
      "Loading  c:\\Users\\rober\\Desktop\\Monkey-Emotions\\video\\gandalf_231205\\gandalf_231205_132_e3v831b.mp4\n",
      "Duration of video [s]:  13.7 , recorded with  120.0 fps!\n",
      "Overall # of frames:  1644  found with (before cropping) frame dimensions:  640 480\n",
      "Starting to extract posture\n"
     ]
    },
    {
     "name": "stderr",
     "output_type": "stream",
     "text": [
      "100%|██████████| 1644/1644 [05:32<00:00,  4.95it/s]\n"
     ]
    },
    {
     "name": "stdout",
     "output_type": "stream",
     "text": [
      "Saving results in c:\\Users\\rober\\Desktop\\Monkey-Emotions\\video\\gandalf_231205...\n",
      "Saving csv poses!\n",
      "Starting to analyze %  c:\\Users\\rober\\Desktop\\Monkey-Emotions\\video\\gandalf_231205\\gandalf_231205_133_e3v831b.mp4\n",
      "Loading  c:\\Users\\rober\\Desktop\\Monkey-Emotions\\video\\gandalf_231205\\gandalf_231205_133_e3v831b.mp4\n",
      "Duration of video [s]:  15.82 , recorded with  120.0 fps!\n",
      "Overall # of frames:  1899  found with (before cropping) frame dimensions:  640 480\n",
      "Starting to extract posture\n"
     ]
    },
    {
     "name": "stderr",
     "output_type": "stream",
     "text": [
      "100%|██████████| 1899/1899 [06:24<00:00,  4.94it/s]\n"
     ]
    },
    {
     "name": "stdout",
     "output_type": "stream",
     "text": [
      "Saving results in c:\\Users\\rober\\Desktop\\Monkey-Emotions\\video\\gandalf_231205...\n",
      "Saving csv poses!\n",
      "Starting to analyze %  c:\\Users\\rober\\Desktop\\Monkey-Emotions\\video\\gandalf_231205\\gandalf_231205_134_e3v831b.mp4\n",
      "Loading  c:\\Users\\rober\\Desktop\\Monkey-Emotions\\video\\gandalf_231205\\gandalf_231205_134_e3v831b.mp4\n",
      "Duration of video [s]:  13.35 , recorded with  120.0 fps!\n",
      "Overall # of frames:  1602  found with (before cropping) frame dimensions:  640 480\n",
      "Starting to extract posture\n"
     ]
    },
    {
     "name": "stderr",
     "output_type": "stream",
     "text": [
      "100%|██████████| 1602/1602 [05:24<00:00,  4.93it/s]\n"
     ]
    },
    {
     "name": "stdout",
     "output_type": "stream",
     "text": [
      "Saving results in c:\\Users\\rober\\Desktop\\Monkey-Emotions\\video\\gandalf_231205...\n",
      "Saving csv poses!\n",
      "Starting to analyze %  c:\\Users\\rober\\Desktop\\Monkey-Emotions\\video\\gandalf_231205\\gandalf_231205_136_e3v831b.mp4\n",
      "Loading  c:\\Users\\rober\\Desktop\\Monkey-Emotions\\video\\gandalf_231205\\gandalf_231205_136_e3v831b.mp4\n",
      "Duration of video [s]:  61.58 , recorded with  120.0 fps!\n",
      "Overall # of frames:  7389  found with (before cropping) frame dimensions:  640 480\n",
      "Starting to extract posture\n"
     ]
    },
    {
     "name": "stderr",
     "output_type": "stream",
     "text": [
      "100%|██████████| 7389/7389 [24:53<00:00,  4.95it/s]\n"
     ]
    },
    {
     "name": "stdout",
     "output_type": "stream",
     "text": [
      "Saving results in c:\\Users\\rober\\Desktop\\Monkey-Emotions\\video\\gandalf_231205...\n",
      "Saving csv poses!\n",
      "Starting to analyze %  c:\\Users\\rober\\Desktop\\Monkey-Emotions\\video\\gandalf_231205\\gandalf_231205_137_e3v831b.mp4\n",
      "Loading  c:\\Users\\rober\\Desktop\\Monkey-Emotions\\video\\gandalf_231205\\gandalf_231205_137_e3v831b.mp4\n",
      "Duration of video [s]:  46.17 , recorded with  120.0 fps!\n",
      "Overall # of frames:  5540  found with (before cropping) frame dimensions:  640 480\n",
      "Starting to extract posture\n"
     ]
    },
    {
     "name": "stderr",
     "output_type": "stream",
     "text": [
      "100%|██████████| 5540/5540 [18:39<00:00,  4.95it/s]\n"
     ]
    },
    {
     "name": "stdout",
     "output_type": "stream",
     "text": [
      "Saving results in c:\\Users\\rober\\Desktop\\Monkey-Emotions\\video\\gandalf_231205...\n",
      "Saving csv poses!\n",
      "Starting to analyze %  c:\\Users\\rober\\Desktop\\Monkey-Emotions\\video\\gandalf_231205\\gandalf_231205_138_e3v831b.mp4\n",
      "Loading  c:\\Users\\rober\\Desktop\\Monkey-Emotions\\video\\gandalf_231205\\gandalf_231205_138_e3v831b.mp4\n",
      "Duration of video [s]:  12.75 , recorded with  120.0 fps!\n",
      "Overall # of frames:  1530  found with (before cropping) frame dimensions:  640 480\n",
      "Starting to extract posture\n"
     ]
    },
    {
     "name": "stderr",
     "output_type": "stream",
     "text": [
      "100%|██████████| 1530/1530 [05:10<00:00,  4.92it/s]\n"
     ]
    },
    {
     "name": "stdout",
     "output_type": "stream",
     "text": [
      "Saving results in c:\\Users\\rober\\Desktop\\Monkey-Emotions\\video\\gandalf_231205...\n",
      "Saving csv poses!\n",
      "Starting to analyze %  c:\\Users\\rober\\Desktop\\Monkey-Emotions\\video\\gandalf_231205\\gandalf_231205_139_e3v831b.mp4\n",
      "Loading  c:\\Users\\rober\\Desktop\\Monkey-Emotions\\video\\gandalf_231205\\gandalf_231205_139_e3v831b.mp4\n",
      "Duration of video [s]:  21.23 , recorded with  120.0 fps!\n",
      "Overall # of frames:  2547  found with (before cropping) frame dimensions:  640 480\n",
      "Starting to extract posture\n"
     ]
    },
    {
     "name": "stderr",
     "output_type": "stream",
     "text": [
      "100%|██████████| 2547/2547 [08:23<00:00,  5.06it/s]\n"
     ]
    },
    {
     "name": "stdout",
     "output_type": "stream",
     "text": [
      "Saving results in c:\\Users\\rober\\Desktop\\Monkey-Emotions\\video\\gandalf_231205...\n",
      "Saving csv poses!\n",
      "Starting to analyze %  c:\\Users\\rober\\Desktop\\Monkey-Emotions\\video\\gandalf_231205\\gandalf_231205_140_e3v831b.mp4\n",
      "Loading  c:\\Users\\rober\\Desktop\\Monkey-Emotions\\video\\gandalf_231205\\gandalf_231205_140_e3v831b.mp4\n",
      "Duration of video [s]:  14.82 , recorded with  120.0 fps!\n",
      "Overall # of frames:  1778  found with (before cropping) frame dimensions:  640 480\n",
      "Starting to extract posture\n"
     ]
    },
    {
     "name": "stderr",
     "output_type": "stream",
     "text": [
      "100%|██████████| 1778/1778 [05:55<00:00,  5.00it/s]\n"
     ]
    },
    {
     "name": "stdout",
     "output_type": "stream",
     "text": [
      "Saving results in c:\\Users\\rober\\Desktop\\Monkey-Emotions\\video\\gandalf_231205...\n",
      "Saving csv poses!\n",
      "Starting to analyze %  c:\\Users\\rober\\Desktop\\Monkey-Emotions\\video\\gandalf_231205\\gandalf_231205_141_e3v831b.mp4\n",
      "Loading  c:\\Users\\rober\\Desktop\\Monkey-Emotions\\video\\gandalf_231205\\gandalf_231205_141_e3v831b.mp4\n",
      "Duration of video [s]:  17.27 , recorded with  120.0 fps!\n",
      "Overall # of frames:  2072  found with (before cropping) frame dimensions:  640 480\n",
      "Starting to extract posture\n"
     ]
    },
    {
     "name": "stderr",
     "output_type": "stream",
     "text": [
      "100%|██████████| 2072/2072 [06:50<00:00,  5.05it/s]\n"
     ]
    },
    {
     "name": "stdout",
     "output_type": "stream",
     "text": [
      "Saving results in c:\\Users\\rober\\Desktop\\Monkey-Emotions\\video\\gandalf_231205...\n",
      "Saving csv poses!\n",
      "Starting to analyze %  c:\\Users\\rober\\Desktop\\Monkey-Emotions\\video\\gandalf_231205\\gandalf_231205_142_e3v831b.mp4\n",
      "Loading  c:\\Users\\rober\\Desktop\\Monkey-Emotions\\video\\gandalf_231205\\gandalf_231205_142_e3v831b.mp4\n",
      "Duration of video [s]:  14.75 , recorded with  120.0 fps!\n",
      "Overall # of frames:  1770  found with (before cropping) frame dimensions:  640 480\n",
      "Starting to extract posture\n"
     ]
    },
    {
     "name": "stderr",
     "output_type": "stream",
     "text": [
      "100%|██████████| 1770/1770 [05:52<00:00,  5.02it/s]\n"
     ]
    },
    {
     "name": "stdout",
     "output_type": "stream",
     "text": [
      "Saving results in c:\\Users\\rober\\Desktop\\Monkey-Emotions\\video\\gandalf_231205...\n",
      "Saving csv poses!\n",
      "Starting to analyze %  c:\\Users\\rober\\Desktop\\Monkey-Emotions\\video\\gandalf_231205\\gandalf_231205_143_e3v831b.mp4\n",
      "Loading  c:\\Users\\rober\\Desktop\\Monkey-Emotions\\video\\gandalf_231205\\gandalf_231205_143_e3v831b.mp4\n",
      "Duration of video [s]:  12.13 , recorded with  120.0 fps!\n",
      "Overall # of frames:  1456  found with (before cropping) frame dimensions:  640 480\n",
      "Starting to extract posture\n"
     ]
    },
    {
     "name": "stderr",
     "output_type": "stream",
     "text": [
      "100%|██████████| 1456/1456 [04:48<00:00,  5.04it/s]\n"
     ]
    },
    {
     "name": "stdout",
     "output_type": "stream",
     "text": [
      "Saving results in c:\\Users\\rober\\Desktop\\Monkey-Emotions\\video\\gandalf_231205...\n",
      "Saving csv poses!\n",
      "Starting to analyze %  c:\\Users\\rober\\Desktop\\Monkey-Emotions\\video\\gandalf_231205\\gandalf_231205_144_e3v831b.mp4\n",
      "Loading  c:\\Users\\rober\\Desktop\\Monkey-Emotions\\video\\gandalf_231205\\gandalf_231205_144_e3v831b.mp4\n",
      "Duration of video [s]:  14.35 , recorded with  120.0 fps!\n",
      "Overall # of frames:  1722  found with (before cropping) frame dimensions:  640 480\n",
      "Starting to extract posture\n"
     ]
    },
    {
     "name": "stderr",
     "output_type": "stream",
     "text": [
      "100%|██████████| 1722/1722 [05:40<00:00,  5.06it/s]\n"
     ]
    },
    {
     "name": "stdout",
     "output_type": "stream",
     "text": [
      "Saving results in c:\\Users\\rober\\Desktop\\Monkey-Emotions\\video\\gandalf_231205...\n",
      "Saving csv poses!\n",
      "Starting to analyze %  c:\\Users\\rober\\Desktop\\Monkey-Emotions\\video\\gandalf_231205\\gandalf_231205_145_e3v831b.mp4\n",
      "Loading  c:\\Users\\rober\\Desktop\\Monkey-Emotions\\video\\gandalf_231205\\gandalf_231205_145_e3v831b.mp4\n",
      "Duration of video [s]:  14.97 , recorded with  120.0 fps!\n",
      "Overall # of frames:  1797  found with (before cropping) frame dimensions:  640 480\n",
      "Starting to extract posture\n"
     ]
    },
    {
     "name": "stderr",
     "output_type": "stream",
     "text": [
      "100%|██████████| 1797/1797 [05:39<00:00,  5.30it/s]\n"
     ]
    },
    {
     "name": "stdout",
     "output_type": "stream",
     "text": [
      "Saving results in c:\\Users\\rober\\Desktop\\Monkey-Emotions\\video\\gandalf_231205...\n",
      "Saving csv poses!\n",
      "Starting to analyze %  c:\\Users\\rober\\Desktop\\Monkey-Emotions\\video\\gandalf_231205\\gandalf_231205_146_e3v831b.mp4\n",
      "Loading  c:\\Users\\rober\\Desktop\\Monkey-Emotions\\video\\gandalf_231205\\gandalf_231205_146_e3v831b.mp4\n",
      "Duration of video [s]:  14.62 , recorded with  120.0 fps!\n",
      "Overall # of frames:  1754  found with (before cropping) frame dimensions:  640 480\n",
      "Starting to extract posture\n"
     ]
    },
    {
     "name": "stderr",
     "output_type": "stream",
     "text": [
      "100%|██████████| 1754/1754 [05:36<00:00,  5.22it/s]\n"
     ]
    },
    {
     "name": "stdout",
     "output_type": "stream",
     "text": [
      "Saving results in c:\\Users\\rober\\Desktop\\Monkey-Emotions\\video\\gandalf_231205...\n",
      "Saving csv poses!\n",
      "Starting to analyze %  c:\\Users\\rober\\Desktop\\Monkey-Emotions\\video\\gandalf_231205\\gandalf_231205_147_e3v831b.mp4\n",
      "Loading  c:\\Users\\rober\\Desktop\\Monkey-Emotions\\video\\gandalf_231205\\gandalf_231205_147_e3v831b.mp4\n",
      "Duration of video [s]:  13.11 , recorded with  120.0 fps!\n",
      "Overall # of frames:  1573  found with (before cropping) frame dimensions:  640 480\n",
      "Starting to extract posture\n"
     ]
    },
    {
     "name": "stderr",
     "output_type": "stream",
     "text": [
      "100%|██████████| 1573/1573 [05:06<00:00,  5.14it/s]\n"
     ]
    },
    {
     "name": "stdout",
     "output_type": "stream",
     "text": [
      "Saving results in c:\\Users\\rober\\Desktop\\Monkey-Emotions\\video\\gandalf_231205...\n",
      "Saving csv poses!\n",
      "Starting to analyze %  c:\\Users\\rober\\Desktop\\Monkey-Emotions\\video\\gandalf_231205\\gandalf_231205_148_e3v831b.mp4\n",
      "Loading  c:\\Users\\rober\\Desktop\\Monkey-Emotions\\video\\gandalf_231205\\gandalf_231205_148_e3v831b.mp4\n",
      "Duration of video [s]:  14.47 , recorded with  120.0 fps!\n",
      "Overall # of frames:  1736  found with (before cropping) frame dimensions:  640 480\n",
      "Starting to extract posture\n"
     ]
    },
    {
     "name": "stderr",
     "output_type": "stream",
     "text": [
      "100%|██████████| 1736/1736 [05:38<00:00,  5.13it/s]\n"
     ]
    },
    {
     "name": "stdout",
     "output_type": "stream",
     "text": [
      "Saving results in c:\\Users\\rober\\Desktop\\Monkey-Emotions\\video\\gandalf_231205...\n",
      "Saving csv poses!\n",
      "Starting to analyze %  c:\\Users\\rober\\Desktop\\Monkey-Emotions\\video\\gandalf_231205\\gandalf_231205_149_e3v831b.mp4\n",
      "Loading  c:\\Users\\rober\\Desktop\\Monkey-Emotions\\video\\gandalf_231205\\gandalf_231205_149_e3v831b.mp4\n",
      "Duration of video [s]:  9.88 , recorded with  120.0 fps!\n",
      "Overall # of frames:  1185  found with (before cropping) frame dimensions:  640 480\n",
      "Starting to extract posture\n"
     ]
    },
    {
     "name": "stderr",
     "output_type": "stream",
     "text": [
      "100%|██████████| 1185/1185 [03:51<00:00,  5.12it/s]\n"
     ]
    },
    {
     "name": "stdout",
     "output_type": "stream",
     "text": [
      "Saving results in c:\\Users\\rober\\Desktop\\Monkey-Emotions\\video\\gandalf_231205...\n",
      "Saving csv poses!\n",
      "Starting to analyze %  c:\\Users\\rober\\Desktop\\Monkey-Emotions\\video\\gandalf_231205\\gandalf_231205_150_e3v831b.mp4\n",
      "Loading  c:\\Users\\rober\\Desktop\\Monkey-Emotions\\video\\gandalf_231205\\gandalf_231205_150_e3v831b.mp4\n",
      "Duration of video [s]:  15.0 , recorded with  120.0 fps!\n",
      "Overall # of frames:  1800  found with (before cropping) frame dimensions:  640 480\n",
      "Starting to extract posture\n"
     ]
    },
    {
     "name": "stderr",
     "output_type": "stream",
     "text": [
      "100%|██████████| 1800/1800 [05:49<00:00,  5.16it/s]\n"
     ]
    },
    {
     "name": "stdout",
     "output_type": "stream",
     "text": [
      "Saving results in c:\\Users\\rober\\Desktop\\Monkey-Emotions\\video\\gandalf_231205...\n",
      "Saving csv poses!\n",
      "Starting to analyze %  c:\\Users\\rober\\Desktop\\Monkey-Emotions\\video\\gandalf_231205\\gandalf_231205_151_e3v831b.mp4\n",
      "Loading  c:\\Users\\rober\\Desktop\\Monkey-Emotions\\video\\gandalf_231205\\gandalf_231205_151_e3v831b.mp4\n",
      "Duration of video [s]:  14.03 , recorded with  120.0 fps!\n",
      "Overall # of frames:  1683  found with (before cropping) frame dimensions:  640 480\n",
      "Starting to extract posture\n"
     ]
    },
    {
     "name": "stderr",
     "output_type": "stream",
     "text": [
      "100%|██████████| 1683/1683 [05:28<00:00,  5.13it/s]\n"
     ]
    },
    {
     "name": "stdout",
     "output_type": "stream",
     "text": [
      "Saving results in c:\\Users\\rober\\Desktop\\Monkey-Emotions\\video\\gandalf_231205...\n",
      "Saving csv poses!\n",
      "Starting to analyze %  c:\\Users\\rober\\Desktop\\Monkey-Emotions\\video\\gandalf_231205\\gandalf_231205_152_e3v831b.mp4\n",
      "Loading  c:\\Users\\rober\\Desktop\\Monkey-Emotions\\video\\gandalf_231205\\gandalf_231205_152_e3v831b.mp4\n",
      "Duration of video [s]:  9.42 , recorded with  120.0 fps!\n",
      "Overall # of frames:  1130  found with (before cropping) frame dimensions:  640 480\n",
      "Starting to extract posture\n"
     ]
    },
    {
     "name": "stderr",
     "output_type": "stream",
     "text": [
      "100%|██████████| 1130/1130 [03:41<00:00,  5.11it/s]\n"
     ]
    },
    {
     "name": "stdout",
     "output_type": "stream",
     "text": [
      "Saving results in c:\\Users\\rober\\Desktop\\Monkey-Emotions\\video\\gandalf_231205...\n",
      "Saving csv poses!\n",
      "Starting to analyze %  c:\\Users\\rober\\Desktop\\Monkey-Emotions\\video\\gandalf_231205\\gandalf_231205_153_e3v831b.mp4\n",
      "Loading  c:\\Users\\rober\\Desktop\\Monkey-Emotions\\video\\gandalf_231205\\gandalf_231205_153_e3v831b.mp4\n",
      "Duration of video [s]:  14.73 , recorded with  120.0 fps!\n",
      "Overall # of frames:  1768  found with (before cropping) frame dimensions:  640 480\n",
      "Starting to extract posture\n"
     ]
    },
    {
     "name": "stderr",
     "output_type": "stream",
     "text": [
      "100%|██████████| 1768/1768 [06:00<00:00,  4.90it/s]\n"
     ]
    },
    {
     "name": "stdout",
     "output_type": "stream",
     "text": [
      "Saving results in c:\\Users\\rober\\Desktop\\Monkey-Emotions\\video\\gandalf_231205...\n",
      "Saving csv poses!\n",
      "Starting to analyze %  c:\\Users\\rober\\Desktop\\Monkey-Emotions\\video\\gandalf_231205\\gandalf_231205_154_e3v831b.mp4\n",
      "Loading  c:\\Users\\rober\\Desktop\\Monkey-Emotions\\video\\gandalf_231205\\gandalf_231205_154_e3v831b.mp4\n",
      "Duration of video [s]:  9.68 , recorded with  120.0 fps!\n",
      "Overall # of frames:  1162  found with (before cropping) frame dimensions:  640 480\n",
      "Starting to extract posture\n"
     ]
    },
    {
     "name": "stderr",
     "output_type": "stream",
     "text": [
      "100%|██████████| 1162/1162 [04:02<00:00,  4.80it/s]\n"
     ]
    },
    {
     "name": "stdout",
     "output_type": "stream",
     "text": [
      "Saving results in c:\\Users\\rober\\Desktop\\Monkey-Emotions\\video\\gandalf_231205...\n",
      "Saving csv poses!\n",
      "Starting to analyze %  c:\\Users\\rober\\Desktop\\Monkey-Emotions\\video\\gandalf_231205\\gandalf_231205_155_e3v831b.mp4\n",
      "Loading  c:\\Users\\rober\\Desktop\\Monkey-Emotions\\video\\gandalf_231205\\gandalf_231205_155_e3v831b.mp4\n",
      "Duration of video [s]:  11.42 , recorded with  120.0 fps!\n",
      "Overall # of frames:  1370  found with (before cropping) frame dimensions:  640 480\n",
      "Starting to extract posture\n"
     ]
    },
    {
     "name": "stderr",
     "output_type": "stream",
     "text": [
      "100%|██████████| 1370/1370 [04:42<00:00,  4.84it/s]\n"
     ]
    },
    {
     "name": "stdout",
     "output_type": "stream",
     "text": [
      "Saving results in c:\\Users\\rober\\Desktop\\Monkey-Emotions\\video\\gandalf_231205...\n",
      "Saving csv poses!\n",
      "Starting to analyze %  c:\\Users\\rober\\Desktop\\Monkey-Emotions\\video\\gandalf_231205\\gandalf_231205_156_e3v831b.mp4\n",
      "Loading  c:\\Users\\rober\\Desktop\\Monkey-Emotions\\video\\gandalf_231205\\gandalf_231205_156_e3v831b.mp4\n",
      "Duration of video [s]:  9.55 , recorded with  120.0 fps!\n",
      "Overall # of frames:  1146  found with (before cropping) frame dimensions:  640 480\n",
      "Starting to extract posture\n"
     ]
    },
    {
     "name": "stderr",
     "output_type": "stream",
     "text": [
      "100%|██████████| 1146/1146 [03:57<00:00,  4.83it/s]\n"
     ]
    },
    {
     "name": "stdout",
     "output_type": "stream",
     "text": [
      "Saving results in c:\\Users\\rober\\Desktop\\Monkey-Emotions\\video\\gandalf_231205...\n",
      "Saving csv poses!\n",
      "Starting to analyze %  c:\\Users\\rober\\Desktop\\Monkey-Emotions\\video\\gandalf_231205\\gandalf_231205_157_e3v831b.mp4\n",
      "Loading  c:\\Users\\rober\\Desktop\\Monkey-Emotions\\video\\gandalf_231205\\gandalf_231205_157_e3v831b.mp4\n",
      "Duration of video [s]:  11.96 , recorded with  120.0 fps!\n",
      "Overall # of frames:  1435  found with (before cropping) frame dimensions:  640 480\n",
      "Starting to extract posture\n"
     ]
    },
    {
     "name": "stderr",
     "output_type": "stream",
     "text": [
      "100%|██████████| 1435/1435 [04:56<00:00,  4.84it/s]\n"
     ]
    },
    {
     "name": "stdout",
     "output_type": "stream",
     "text": [
      "Saving results in c:\\Users\\rober\\Desktop\\Monkey-Emotions\\video\\gandalf_231205...\n",
      "Saving csv poses!\n",
      "Starting to analyze %  c:\\Users\\rober\\Desktop\\Monkey-Emotions\\video\\gandalf_231205\\gandalf_231205_158_e3v831b.mp4\n",
      "Loading  c:\\Users\\rober\\Desktop\\Monkey-Emotions\\video\\gandalf_231205\\gandalf_231205_158_e3v831b.mp4\n",
      "Duration of video [s]:  13.98 , recorded with  120.0 fps!\n",
      "Overall # of frames:  1678  found with (before cropping) frame dimensions:  640 480\n",
      "Starting to extract posture\n"
     ]
    },
    {
     "name": "stderr",
     "output_type": "stream",
     "text": [
      "100%|██████████| 1678/1678 [05:47<00:00,  4.83it/s]\n"
     ]
    },
    {
     "name": "stdout",
     "output_type": "stream",
     "text": [
      "Saving results in c:\\Users\\rober\\Desktop\\Monkey-Emotions\\video\\gandalf_231205...\n",
      "Saving csv poses!\n",
      "Starting to analyze %  c:\\Users\\rober\\Desktop\\Monkey-Emotions\\video\\gandalf_231205\\gandalf_231205_159_e3v831b.mp4\n",
      "Loading  c:\\Users\\rober\\Desktop\\Monkey-Emotions\\video\\gandalf_231205\\gandalf_231205_159_e3v831b.mp4\n",
      "Duration of video [s]:  12.35 , recorded with  120.0 fps!\n",
      "Overall # of frames:  1482  found with (before cropping) frame dimensions:  640 480\n",
      "Starting to extract posture\n"
     ]
    },
    {
     "name": "stderr",
     "output_type": "stream",
     "text": [
      "100%|██████████| 1482/1482 [05:07<00:00,  4.83it/s]\n"
     ]
    },
    {
     "name": "stdout",
     "output_type": "stream",
     "text": [
      "Saving results in c:\\Users\\rober\\Desktop\\Monkey-Emotions\\video\\gandalf_231205...\n",
      "Saving csv poses!\n",
      "Starting to analyze %  c:\\Users\\rober\\Desktop\\Monkey-Emotions\\video\\gandalf_231205\\gandalf_231205_160_e3v831b.mp4\n",
      "Loading  c:\\Users\\rober\\Desktop\\Monkey-Emotions\\video\\gandalf_231205\\gandalf_231205_160_e3v831b.mp4\n",
      "Duration of video [s]:  15.73 , recorded with  120.0 fps!\n",
      "Overall # of frames:  1888  found with (before cropping) frame dimensions:  640 480\n",
      "Starting to extract posture\n"
     ]
    },
    {
     "name": "stderr",
     "output_type": "stream",
     "text": [
      "100%|██████████| 1888/1888 [06:29<00:00,  4.84it/s]\n"
     ]
    },
    {
     "name": "stdout",
     "output_type": "stream",
     "text": [
      "Saving results in c:\\Users\\rober\\Desktop\\Monkey-Emotions\\video\\gandalf_231205...\n",
      "Saving csv poses!\n",
      "Starting to analyze %  c:\\Users\\rober\\Desktop\\Monkey-Emotions\\video\\gandalf_231205\\gandalf_231205_161_e3v831b.mp4\n",
      "Loading  c:\\Users\\rober\\Desktop\\Monkey-Emotions\\video\\gandalf_231205\\gandalf_231205_161_e3v831b.mp4\n",
      "Duration of video [s]:  11.96 , recorded with  120.0 fps!\n",
      "Overall # of frames:  1435  found with (before cropping) frame dimensions:  640 480\n",
      "Starting to extract posture\n"
     ]
    },
    {
     "name": "stderr",
     "output_type": "stream",
     "text": [
      "100%|██████████| 1435/1435 [04:58<00:00,  4.81it/s]\n"
     ]
    },
    {
     "name": "stdout",
     "output_type": "stream",
     "text": [
      "Saving results in c:\\Users\\rober\\Desktop\\Monkey-Emotions\\video\\gandalf_231205...\n",
      "Saving csv poses!\n",
      "Starting to analyze %  c:\\Users\\rober\\Desktop\\Monkey-Emotions\\video\\gandalf_231205\\gandalf_231205_162_e3v831b.mp4\n",
      "Loading  c:\\Users\\rober\\Desktop\\Monkey-Emotions\\video\\gandalf_231205\\gandalf_231205_162_e3v831b.mp4\n",
      "Duration of video [s]:  17.9 , recorded with  120.0 fps!\n",
      "Overall # of frames:  2148  found with (before cropping) frame dimensions:  640 480\n",
      "Starting to extract posture\n"
     ]
    },
    {
     "name": "stderr",
     "output_type": "stream",
     "text": [
      "100%|██████████| 2148/2148 [07:25<00:00,  4.83it/s]\n"
     ]
    },
    {
     "name": "stdout",
     "output_type": "stream",
     "text": [
      "Saving results in c:\\Users\\rober\\Desktop\\Monkey-Emotions\\video\\gandalf_231205...\n",
      "Saving csv poses!\n",
      "Starting to analyze %  c:\\Users\\rober\\Desktop\\Monkey-Emotions\\video\\gandalf_231205\\gandalf_231205_163_e3v831b.mp4\n",
      "Loading  c:\\Users\\rober\\Desktop\\Monkey-Emotions\\video\\gandalf_231205\\gandalf_231205_163_e3v831b.mp4\n",
      "Duration of video [s]:  10.77 , recorded with  120.0 fps!\n",
      "Overall # of frames:  1292  found with (before cropping) frame dimensions:  640 480\n",
      "Starting to extract posture\n"
     ]
    },
    {
     "name": "stderr",
     "output_type": "stream",
     "text": [
      "100%|██████████| 1292/1292 [04:29<00:00,  4.80it/s]\n"
     ]
    },
    {
     "name": "stdout",
     "output_type": "stream",
     "text": [
      "Saving results in c:\\Users\\rober\\Desktop\\Monkey-Emotions\\video\\gandalf_231205...\n",
      "Saving csv poses!\n",
      "Starting to analyze %  c:\\Users\\rober\\Desktop\\Monkey-Emotions\\video\\gandalf_231205\\gandalf_231205_164_e3v831b.mp4\n",
      "Loading  c:\\Users\\rober\\Desktop\\Monkey-Emotions\\video\\gandalf_231205\\gandalf_231205_164_e3v831b.mp4\n",
      "Duration of video [s]:  15.22 , recorded with  120.0 fps!\n",
      "Overall # of frames:  1827  found with (before cropping) frame dimensions:  640 480\n",
      "Starting to extract posture\n"
     ]
    },
    {
     "name": "stderr",
     "output_type": "stream",
     "text": [
      "100%|██████████| 1827/1827 [06:19<00:00,  4.82it/s]\n"
     ]
    },
    {
     "name": "stdout",
     "output_type": "stream",
     "text": [
      "Saving results in c:\\Users\\rober\\Desktop\\Monkey-Emotions\\video\\gandalf_231205...\n",
      "Saving csv poses!\n",
      "Starting to analyze %  c:\\Users\\rober\\Desktop\\Monkey-Emotions\\video\\gandalf_231205\\gandalf_231205_165_e3v831b.mp4\n",
      "Loading  c:\\Users\\rober\\Desktop\\Monkey-Emotions\\video\\gandalf_231205\\gandalf_231205_165_e3v831b.mp4\n",
      "Duration of video [s]:  14.1 , recorded with  120.0 fps!\n",
      "Overall # of frames:  1692  found with (before cropping) frame dimensions:  640 480\n",
      "Starting to extract posture\n"
     ]
    },
    {
     "name": "stderr",
     "output_type": "stream",
     "text": [
      "100%|██████████| 1692/1692 [05:50<00:00,  4.82it/s]\n"
     ]
    },
    {
     "name": "stdout",
     "output_type": "stream",
     "text": [
      "Saving results in c:\\Users\\rober\\Desktop\\Monkey-Emotions\\video\\gandalf_231205...\n",
      "Saving csv poses!\n",
      "Starting to analyze %  c:\\Users\\rober\\Desktop\\Monkey-Emotions\\video\\gandalf_231205\\gandalf_231205_166_e3v831b.mp4\n",
      "Loading  c:\\Users\\rober\\Desktop\\Monkey-Emotions\\video\\gandalf_231205\\gandalf_231205_166_e3v831b.mp4\n",
      "Duration of video [s]:  15.19 , recorded with  120.0 fps!\n",
      "Overall # of frames:  1823  found with (before cropping) frame dimensions:  640 480\n",
      "Starting to extract posture\n"
     ]
    },
    {
     "name": "stderr",
     "output_type": "stream",
     "text": [
      "100%|██████████| 1823/1823 [06:16<00:00,  4.84it/s]\n"
     ]
    },
    {
     "name": "stdout",
     "output_type": "stream",
     "text": [
      "Saving results in c:\\Users\\rober\\Desktop\\Monkey-Emotions\\video\\gandalf_231205...\n",
      "Saving csv poses!\n",
      "Starting to analyze %  c:\\Users\\rober\\Desktop\\Monkey-Emotions\\video\\gandalf_231205\\gandalf_231205_167_e3v831b.mp4\n",
      "Loading  c:\\Users\\rober\\Desktop\\Monkey-Emotions\\video\\gandalf_231205\\gandalf_231205_167_e3v831b.mp4\n",
      "Duration of video [s]:  16.81 , recorded with  120.0 fps!\n",
      "Overall # of frames:  2017  found with (before cropping) frame dimensions:  640 480\n",
      "Starting to extract posture\n"
     ]
    },
    {
     "name": "stderr",
     "output_type": "stream",
     "text": [
      "100%|██████████| 2017/2017 [06:57<00:00,  4.83it/s]\n"
     ]
    },
    {
     "name": "stdout",
     "output_type": "stream",
     "text": [
      "Saving results in c:\\Users\\rober\\Desktop\\Monkey-Emotions\\video\\gandalf_231205...\n",
      "Saving csv poses!\n",
      "Starting to analyze %  c:\\Users\\rober\\Desktop\\Monkey-Emotions\\video\\gandalf_231205\\gandalf_231205_168_e3v831b.mp4\n",
      "Loading  c:\\Users\\rober\\Desktop\\Monkey-Emotions\\video\\gandalf_231205\\gandalf_231205_168_e3v831b.mp4\n",
      "Duration of video [s]:  14.07 , recorded with  120.0 fps!\n",
      "Overall # of frames:  1688  found with (before cropping) frame dimensions:  640 480\n",
      "Starting to extract posture\n"
     ]
    },
    {
     "name": "stderr",
     "output_type": "stream",
     "text": [
      "100%|██████████| 1688/1688 [05:48<00:00,  4.84it/s]\n"
     ]
    },
    {
     "name": "stdout",
     "output_type": "stream",
     "text": [
      "Saving results in c:\\Users\\rober\\Desktop\\Monkey-Emotions\\video\\gandalf_231205...\n",
      "Saving csv poses!\n",
      "Starting to analyze %  c:\\Users\\rober\\Desktop\\Monkey-Emotions\\video\\gandalf_231205\\gandalf_231205_169_e3v831b.mp4\n",
      "Loading  c:\\Users\\rober\\Desktop\\Monkey-Emotions\\video\\gandalf_231205\\gandalf_231205_169_e3v831b.mp4\n",
      "Duration of video [s]:  12.23 , recorded with  120.0 fps!\n",
      "Overall # of frames:  1468  found with (before cropping) frame dimensions:  640 480\n",
      "Starting to extract posture\n"
     ]
    },
    {
     "name": "stderr",
     "output_type": "stream",
     "text": [
      "100%|██████████| 1468/1468 [05:04<00:00,  4.83it/s]\n"
     ]
    },
    {
     "name": "stdout",
     "output_type": "stream",
     "text": [
      "Saving results in c:\\Users\\rober\\Desktop\\Monkey-Emotions\\video\\gandalf_231205...\n",
      "Saving csv poses!\n",
      "Starting to analyze %  c:\\Users\\rober\\Desktop\\Monkey-Emotions\\video\\gandalf_231205\\gandalf_231205_170_e3v831b.mp4\n",
      "Loading  c:\\Users\\rober\\Desktop\\Monkey-Emotions\\video\\gandalf_231205\\gandalf_231205_170_e3v831b.mp4\n",
      "Duration of video [s]:  14.84 , recorded with  120.0 fps!\n",
      "Overall # of frames:  1781  found with (before cropping) frame dimensions:  640 480\n",
      "Starting to extract posture\n"
     ]
    },
    {
     "name": "stderr",
     "output_type": "stream",
     "text": [
      "100%|██████████| 1781/1781 [06:07<00:00,  4.84it/s]\n"
     ]
    },
    {
     "name": "stdout",
     "output_type": "stream",
     "text": [
      "Saving results in c:\\Users\\rober\\Desktop\\Monkey-Emotions\\video\\gandalf_231205...\n",
      "Saving csv poses!\n",
      "Starting to analyze %  c:\\Users\\rober\\Desktop\\Monkey-Emotions\\video\\gandalf_231205\\gandalf_231205_171_e3v831b.mp4\n",
      "Loading  c:\\Users\\rober\\Desktop\\Monkey-Emotions\\video\\gandalf_231205\\gandalf_231205_171_e3v831b.mp4\n",
      "Duration of video [s]:  10.54 , recorded with  120.0 fps!\n",
      "Overall # of frames:  1265  found with (before cropping) frame dimensions:  640 480\n",
      "Starting to extract posture\n"
     ]
    },
    {
     "name": "stderr",
     "output_type": "stream",
     "text": [
      "100%|██████████| 1265/1265 [04:22<00:00,  4.82it/s]\n"
     ]
    },
    {
     "name": "stdout",
     "output_type": "stream",
     "text": [
      "Saving results in c:\\Users\\rober\\Desktop\\Monkey-Emotions\\video\\gandalf_231205...\n",
      "Saving csv poses!\n",
      "Starting to analyze %  c:\\Users\\rober\\Desktop\\Monkey-Emotions\\video\\gandalf_231205\\gandalf_231205_172_e3v831b.mp4\n",
      "Loading  c:\\Users\\rober\\Desktop\\Monkey-Emotions\\video\\gandalf_231205\\gandalf_231205_172_e3v831b.mp4\n",
      "Duration of video [s]:  10.01 , recorded with  120.0 fps!\n",
      "Overall # of frames:  1201  found with (before cropping) frame dimensions:  640 480\n",
      "Starting to extract posture\n"
     ]
    },
    {
     "name": "stderr",
     "output_type": "stream",
     "text": [
      "100%|██████████| 1201/1201 [04:09<00:00,  4.81it/s]\n"
     ]
    },
    {
     "name": "stdout",
     "output_type": "stream",
     "text": [
      "Saving results in c:\\Users\\rober\\Desktop\\Monkey-Emotions\\video\\gandalf_231205...\n",
      "Saving csv poses!\n",
      "Starting to analyze %  c:\\Users\\rober\\Desktop\\Monkey-Emotions\\video\\gandalf_231205\\gandalf_231205_173_e3v831b.mp4\n",
      "Loading  c:\\Users\\rober\\Desktop\\Monkey-Emotions\\video\\gandalf_231205\\gandalf_231205_173_e3v831b.mp4\n",
      "Duration of video [s]:  13.9 , recorded with  120.0 fps!\n",
      "Overall # of frames:  1668  found with (before cropping) frame dimensions:  640 480\n",
      "Starting to extract posture\n"
     ]
    },
    {
     "name": "stderr",
     "output_type": "stream",
     "text": [
      "100%|██████████| 1668/1668 [05:45<00:00,  4.82it/s]\n"
     ]
    },
    {
     "name": "stdout",
     "output_type": "stream",
     "text": [
      "Saving results in c:\\Users\\rober\\Desktop\\Monkey-Emotions\\video\\gandalf_231205...\n",
      "Saving csv poses!\n",
      "Starting to analyze %  c:\\Users\\rober\\Desktop\\Monkey-Emotions\\video\\gandalf_231205\\gandalf_231205_174_e3v831b.mp4\n",
      "Loading  c:\\Users\\rober\\Desktop\\Monkey-Emotions\\video\\gandalf_231205\\gandalf_231205_174_e3v831b.mp4\n",
      "Duration of video [s]:  12.82 , recorded with  120.0 fps!\n",
      "Overall # of frames:  1538  found with (before cropping) frame dimensions:  640 480\n",
      "Starting to extract posture\n"
     ]
    },
    {
     "name": "stderr",
     "output_type": "stream",
     "text": [
      "100%|██████████| 1538/1538 [05:22<00:00,  4.77it/s]\n"
     ]
    },
    {
     "name": "stdout",
     "output_type": "stream",
     "text": [
      "Saving results in c:\\Users\\rober\\Desktop\\Monkey-Emotions\\video\\gandalf_231205...\n",
      "Saving csv poses!\n",
      "Starting to analyze %  c:\\Users\\rober\\Desktop\\Monkey-Emotions\\video\\gandalf_231205\\gandalf_231205_175_e3v831b.mp4\n",
      "Loading  c:\\Users\\rober\\Desktop\\Monkey-Emotions\\video\\gandalf_231205\\gandalf_231205_175_e3v831b.mp4\n",
      "Duration of video [s]:  11.9 , recorded with  120.0 fps!\n",
      "Overall # of frames:  1428  found with (before cropping) frame dimensions:  640 480\n",
      "Starting to extract posture\n"
     ]
    },
    {
     "name": "stderr",
     "output_type": "stream",
     "text": [
      "100%|██████████| 1428/1428 [04:56<00:00,  4.81it/s]\n"
     ]
    },
    {
     "name": "stdout",
     "output_type": "stream",
     "text": [
      "Saving results in c:\\Users\\rober\\Desktop\\Monkey-Emotions\\video\\gandalf_231205...\n",
      "Saving csv poses!\n",
      "Starting to analyze %  c:\\Users\\rober\\Desktop\\Monkey-Emotions\\video\\gandalf_231205\\gandalf_231205_176_e3v831b.mp4\n",
      "Loading  c:\\Users\\rober\\Desktop\\Monkey-Emotions\\video\\gandalf_231205\\gandalf_231205_176_e3v831b.mp4\n",
      "Duration of video [s]:  14.68 , recorded with  120.0 fps!\n",
      "Overall # of frames:  1761  found with (before cropping) frame dimensions:  640 480\n",
      "Starting to extract posture\n"
     ]
    },
    {
     "name": "stderr",
     "output_type": "stream",
     "text": [
      "100%|██████████| 1761/1761 [06:05<00:00,  4.82it/s]\n"
     ]
    },
    {
     "name": "stdout",
     "output_type": "stream",
     "text": [
      "Saving results in c:\\Users\\rober\\Desktop\\Monkey-Emotions\\video\\gandalf_231205...\n",
      "Saving csv poses!\n",
      "Starting to analyze %  c:\\Users\\rober\\Desktop\\Monkey-Emotions\\video\\gandalf_231205\\gandalf_231205_177_e3v831b.mp4\n",
      "Loading  c:\\Users\\rober\\Desktop\\Monkey-Emotions\\video\\gandalf_231205\\gandalf_231205_177_e3v831b.mp4\n",
      "Duration of video [s]:  16.03 , recorded with  120.0 fps!\n",
      "Overall # of frames:  1924  found with (before cropping) frame dimensions:  640 480\n",
      "Starting to extract posture\n"
     ]
    },
    {
     "name": "stderr",
     "output_type": "stream",
     "text": [
      "100%|██████████| 1924/1924 [06:33<00:00,  4.89it/s]\n"
     ]
    },
    {
     "name": "stdout",
     "output_type": "stream",
     "text": [
      "Saving results in c:\\Users\\rober\\Desktop\\Monkey-Emotions\\video\\gandalf_231205...\n",
      "Saving csv poses!\n",
      "Starting to analyze %  c:\\Users\\rober\\Desktop\\Monkey-Emotions\\video\\gandalf_231205\\gandalf_231205_178_e3v831b.mp4\n",
      "Loading  c:\\Users\\rober\\Desktop\\Monkey-Emotions\\video\\gandalf_231205\\gandalf_231205_178_e3v831b.mp4\n",
      "Duration of video [s]:  10.1 , recorded with  120.0 fps!\n",
      "Overall # of frames:  1212  found with (before cropping) frame dimensions:  640 480\n",
      "Starting to extract posture\n"
     ]
    },
    {
     "name": "stderr",
     "output_type": "stream",
     "text": [
      "100%|██████████| 1212/1212 [04:07<00:00,  4.89it/s]\n"
     ]
    },
    {
     "name": "stdout",
     "output_type": "stream",
     "text": [
      "Saving results in c:\\Users\\rober\\Desktop\\Monkey-Emotions\\video\\gandalf_231205...\n",
      "Saving csv poses!\n",
      "Starting to analyze %  c:\\Users\\rober\\Desktop\\Monkey-Emotions\\video\\gandalf_231205\\gandalf_231205_179_e3v831b.mp4\n",
      "Loading  c:\\Users\\rober\\Desktop\\Monkey-Emotions\\video\\gandalf_231205\\gandalf_231205_179_e3v831b.mp4\n",
      "Duration of video [s]:  13.75 , recorded with  120.0 fps!\n",
      "Overall # of frames:  1650  found with (before cropping) frame dimensions:  640 480\n",
      "Starting to extract posture\n"
     ]
    },
    {
     "name": "stderr",
     "output_type": "stream",
     "text": [
      "100%|██████████| 1650/1650 [05:38<00:00,  4.88it/s]\n"
     ]
    },
    {
     "name": "stdout",
     "output_type": "stream",
     "text": [
      "Saving results in c:\\Users\\rober\\Desktop\\Monkey-Emotions\\video\\gandalf_231205...\n",
      "Saving csv poses!\n",
      "Starting to analyze %  c:\\Users\\rober\\Desktop\\Monkey-Emotions\\video\\gandalf_231205\\gandalf_231205_180_e3v831b.mp4\n",
      "Loading  c:\\Users\\rober\\Desktop\\Monkey-Emotions\\video\\gandalf_231205\\gandalf_231205_180_e3v831b.mp4\n",
      "Duration of video [s]:  15.33 , recorded with  120.0 fps!\n",
      "Overall # of frames:  1840  found with (before cropping) frame dimensions:  640 480\n",
      "Starting to extract posture\n"
     ]
    },
    {
     "name": "stderr",
     "output_type": "stream",
     "text": [
      "100%|██████████| 1840/1840 [06:15<00:00,  4.90it/s]\n"
     ]
    },
    {
     "name": "stdout",
     "output_type": "stream",
     "text": [
      "Saving results in c:\\Users\\rober\\Desktop\\Monkey-Emotions\\video\\gandalf_231205...\n",
      "Saving csv poses!\n",
      "Starting to analyze %  c:\\Users\\rober\\Desktop\\Monkey-Emotions\\video\\gandalf_231205\\gandalf_231205_181_e3v831b.mp4\n",
      "Loading  c:\\Users\\rober\\Desktop\\Monkey-Emotions\\video\\gandalf_231205\\gandalf_231205_181_e3v831b.mp4\n",
      "Duration of video [s]:  12.69 , recorded with  120.0 fps!\n",
      "Overall # of frames:  1523  found with (before cropping) frame dimensions:  640 480\n",
      "Starting to extract posture\n"
     ]
    },
    {
     "name": "stderr",
     "output_type": "stream",
     "text": [
      "100%|██████████| 1523/1523 [05:05<00:00,  4.99it/s]\n"
     ]
    },
    {
     "name": "stdout",
     "output_type": "stream",
     "text": [
      "Saving results in c:\\Users\\rober\\Desktop\\Monkey-Emotions\\video\\gandalf_231205...\n",
      "Saving csv poses!\n",
      "Starting to analyze %  c:\\Users\\rober\\Desktop\\Monkey-Emotions\\video\\gandalf_231205\\gandalf_231205_182_e3v831b.mp4\n",
      "Loading  c:\\Users\\rober\\Desktop\\Monkey-Emotions\\video\\gandalf_231205\\gandalf_231205_182_e3v831b.mp4\n",
      "Duration of video [s]:  14.68 , recorded with  120.0 fps!\n",
      "Overall # of frames:  1761  found with (before cropping) frame dimensions:  640 480\n",
      "Starting to extract posture\n"
     ]
    },
    {
     "name": "stderr",
     "output_type": "stream",
     "text": [
      "100%|██████████| 1761/1761 [05:58<00:00,  4.92it/s]\n"
     ]
    },
    {
     "name": "stdout",
     "output_type": "stream",
     "text": [
      "Saving results in c:\\Users\\rober\\Desktop\\Monkey-Emotions\\video\\gandalf_231205...\n",
      "Saving csv poses!\n",
      "Starting to analyze %  c:\\Users\\rober\\Desktop\\Monkey-Emotions\\video\\gandalf_231205\\gandalf_231205_183_e3v831b.mp4\n",
      "Loading  c:\\Users\\rober\\Desktop\\Monkey-Emotions\\video\\gandalf_231205\\gandalf_231205_183_e3v831b.mp4\n",
      "Duration of video [s]:  10.53 , recorded with  120.0 fps!\n",
      "Overall # of frames:  1264  found with (before cropping) frame dimensions:  640 480\n",
      "Starting to extract posture\n"
     ]
    },
    {
     "name": "stderr",
     "output_type": "stream",
     "text": [
      "100%|██████████| 1264/1264 [04:17<00:00,  4.90it/s]\n"
     ]
    },
    {
     "name": "stdout",
     "output_type": "stream",
     "text": [
      "Saving results in c:\\Users\\rober\\Desktop\\Monkey-Emotions\\video\\gandalf_231205...\n",
      "Saving csv poses!\n",
      "Starting to analyze %  c:\\Users\\rober\\Desktop\\Monkey-Emotions\\video\\gandalf_231205\\gandalf_231205_184_e3v831b.mp4\n",
      "Loading  c:\\Users\\rober\\Desktop\\Monkey-Emotions\\video\\gandalf_231205\\gandalf_231205_184_e3v831b.mp4\n",
      "Duration of video [s]:  11.2 , recorded with  120.0 fps!\n",
      "Overall # of frames:  1344  found with (before cropping) frame dimensions:  640 480\n",
      "Starting to extract posture\n"
     ]
    },
    {
     "name": "stderr",
     "output_type": "stream",
     "text": [
      "100%|██████████| 1344/1344 [04:34<00:00,  4.89it/s]\n"
     ]
    },
    {
     "name": "stdout",
     "output_type": "stream",
     "text": [
      "Saving results in c:\\Users\\rober\\Desktop\\Monkey-Emotions\\video\\gandalf_231205...\n",
      "Saving csv poses!\n",
      "Starting to analyze %  c:\\Users\\rober\\Desktop\\Monkey-Emotions\\video\\gandalf_231205\\gandalf_231205_185_e3v831b.mp4\n",
      "Loading  c:\\Users\\rober\\Desktop\\Monkey-Emotions\\video\\gandalf_231205\\gandalf_231205_185_e3v831b.mp4\n",
      "Duration of video [s]:  14.78 , recorded with  120.0 fps!\n",
      "Overall # of frames:  1773  found with (before cropping) frame dimensions:  640 480\n",
      "Starting to extract posture\n"
     ]
    },
    {
     "name": "stderr",
     "output_type": "stream",
     "text": [
      "100%|██████████| 1773/1773 [06:05<00:00,  4.85it/s]\n"
     ]
    },
    {
     "name": "stdout",
     "output_type": "stream",
     "text": [
      "Saving results in c:\\Users\\rober\\Desktop\\Monkey-Emotions\\video\\gandalf_231205...\n",
      "Saving csv poses!\n",
      "Starting to analyze %  c:\\Users\\rober\\Desktop\\Monkey-Emotions\\video\\gandalf_231205\\gandalf_231205_186_e3v831b.mp4\n",
      "Loading  c:\\Users\\rober\\Desktop\\Monkey-Emotions\\video\\gandalf_231205\\gandalf_231205_186_e3v831b.mp4\n",
      "Duration of video [s]:  13.13 , recorded with  120.0 fps!\n",
      "Overall # of frames:  1576  found with (before cropping) frame dimensions:  640 480\n",
      "Starting to extract posture\n"
     ]
    },
    {
     "name": "stderr",
     "output_type": "stream",
     "text": [
      "100%|██████████| 1576/1576 [05:22<00:00,  4.88it/s]\n"
     ]
    },
    {
     "name": "stdout",
     "output_type": "stream",
     "text": [
      "Saving results in c:\\Users\\rober\\Desktop\\Monkey-Emotions\\video\\gandalf_231205...\n",
      "Saving csv poses!\n",
      "Starting to analyze %  c:\\Users\\rober\\Desktop\\Monkey-Emotions\\video\\gandalf_231205\\gandalf_231205_187_e3v831b.mp4\n",
      "Loading  c:\\Users\\rober\\Desktop\\Monkey-Emotions\\video\\gandalf_231205\\gandalf_231205_187_e3v831b.mp4\n",
      "Duration of video [s]:  9.67 , recorded with  120.0 fps!\n",
      "Overall # of frames:  1160  found with (before cropping) frame dimensions:  640 480\n",
      "Starting to extract posture\n"
     ]
    },
    {
     "name": "stderr",
     "output_type": "stream",
     "text": [
      "100%|██████████| 1160/1160 [03:57<00:00,  4.89it/s]\n"
     ]
    },
    {
     "name": "stdout",
     "output_type": "stream",
     "text": [
      "Saving results in c:\\Users\\rober\\Desktop\\Monkey-Emotions\\video\\gandalf_231205...\n",
      "Saving csv poses!\n",
      "Starting to analyze %  c:\\Users\\rober\\Desktop\\Monkey-Emotions\\video\\gandalf_231205\\gandalf_231205_188_e3v831b.mp4\n",
      "Loading  c:\\Users\\rober\\Desktop\\Monkey-Emotions\\video\\gandalf_231205\\gandalf_231205_188_e3v831b.mp4\n",
      "Duration of video [s]:  13.37 , recorded with  120.0 fps!\n",
      "Overall # of frames:  1604  found with (before cropping) frame dimensions:  640 480\n",
      "Starting to extract posture\n"
     ]
    },
    {
     "name": "stderr",
     "output_type": "stream",
     "text": [
      "100%|██████████| 1604/1604 [05:29<00:00,  4.86it/s]\n"
     ]
    },
    {
     "name": "stdout",
     "output_type": "stream",
     "text": [
      "Saving results in c:\\Users\\rober\\Desktop\\Monkey-Emotions\\video\\gandalf_231205...\n",
      "Saving csv poses!\n",
      "Starting to analyze %  c:\\Users\\rober\\Desktop\\Monkey-Emotions\\video\\gandalf_231205\\gandalf_231205_189_e3v831b.mp4\n",
      "Loading  c:\\Users\\rober\\Desktop\\Monkey-Emotions\\video\\gandalf_231205\\gandalf_231205_189_e3v831b.mp4\n",
      "Duration of video [s]:  14.07 , recorded with  120.0 fps!\n",
      "Overall # of frames:  1689  found with (before cropping) frame dimensions:  640 480\n",
      "Starting to extract posture\n"
     ]
    },
    {
     "name": "stderr",
     "output_type": "stream",
     "text": [
      "100%|██████████| 1689/1689 [05:50<00:00,  4.82it/s]\n"
     ]
    },
    {
     "name": "stdout",
     "output_type": "stream",
     "text": [
      "Saving results in c:\\Users\\rober\\Desktop\\Monkey-Emotions\\video\\gandalf_231205...\n",
      "Saving csv poses!\n",
      "Starting to analyze %  c:\\Users\\rober\\Desktop\\Monkey-Emotions\\video\\gandalf_231205\\gandalf_231205_190_e3v831b.mp4\n",
      "Loading  c:\\Users\\rober\\Desktop\\Monkey-Emotions\\video\\gandalf_231205\\gandalf_231205_190_e3v831b.mp4\n",
      "Duration of video [s]:  13.07 , recorded with  120.0 fps!\n",
      "Overall # of frames:  1569  found with (before cropping) frame dimensions:  640 480\n",
      "Starting to extract posture\n"
     ]
    },
    {
     "name": "stderr",
     "output_type": "stream",
     "text": [
      "100%|██████████| 1569/1569 [05:23<00:00,  4.86it/s]\n"
     ]
    },
    {
     "name": "stdout",
     "output_type": "stream",
     "text": [
      "Saving results in c:\\Users\\rober\\Desktop\\Monkey-Emotions\\video\\gandalf_231205...\n",
      "Saving csv poses!\n",
      "Starting to analyze %  c:\\Users\\rober\\Desktop\\Monkey-Emotions\\video\\gandalf_231205\\gandalf_231205_191_e3v831b.mp4\n",
      "Loading  c:\\Users\\rober\\Desktop\\Monkey-Emotions\\video\\gandalf_231205\\gandalf_231205_191_e3v831b.mp4\n",
      "Duration of video [s]:  12.48 , recorded with  120.0 fps!\n",
      "Overall # of frames:  1498  found with (before cropping) frame dimensions:  640 480\n",
      "Starting to extract posture\n"
     ]
    },
    {
     "name": "stderr",
     "output_type": "stream",
     "text": [
      "100%|██████████| 1498/1498 [05:08<00:00,  4.86it/s]\n"
     ]
    },
    {
     "name": "stdout",
     "output_type": "stream",
     "text": [
      "Saving results in c:\\Users\\rober\\Desktop\\Monkey-Emotions\\video\\gandalf_231205...\n",
      "Saving csv poses!\n",
      "Starting to analyze %  c:\\Users\\rober\\Desktop\\Monkey-Emotions\\video\\gandalf_231205\\gandalf_231205_192_e3v831b.mp4\n",
      "Loading  c:\\Users\\rober\\Desktop\\Monkey-Emotions\\video\\gandalf_231205\\gandalf_231205_192_e3v831b.mp4\n",
      "Duration of video [s]:  15.69 , recorded with  120.0 fps!\n",
      "Overall # of frames:  1883  found with (before cropping) frame dimensions:  640 480\n",
      "Starting to extract posture\n"
     ]
    },
    {
     "name": "stderr",
     "output_type": "stream",
     "text": [
      "100%|██████████| 1883/1883 [06:26<00:00,  4.87it/s]\n"
     ]
    },
    {
     "name": "stdout",
     "output_type": "stream",
     "text": [
      "Saving results in c:\\Users\\rober\\Desktop\\Monkey-Emotions\\video\\gandalf_231205...\n",
      "Saving csv poses!\n",
      "Starting to analyze %  c:\\Users\\rober\\Desktop\\Monkey-Emotions\\video\\gandalf_231205\\gandalf_231205_193_e3v831b.mp4\n",
      "Loading  c:\\Users\\rober\\Desktop\\Monkey-Emotions\\video\\gandalf_231205\\gandalf_231205_193_e3v831b.mp4\n",
      "Duration of video [s]:  14.47 , recorded with  120.0 fps!\n",
      "Overall # of frames:  1736  found with (before cropping) frame dimensions:  640 480\n",
      "Starting to extract posture\n"
     ]
    },
    {
     "name": "stderr",
     "output_type": "stream",
     "text": [
      "100%|██████████| 1736/1736 [05:55<00:00,  4.88it/s]\n"
     ]
    },
    {
     "name": "stdout",
     "output_type": "stream",
     "text": [
      "Saving results in c:\\Users\\rober\\Desktop\\Monkey-Emotions\\video\\gandalf_231205...\n",
      "Saving csv poses!\n",
      "Starting to analyze %  c:\\Users\\rober\\Desktop\\Monkey-Emotions\\video\\gandalf_231205\\gandalf_231205_194_e3v831b.mp4\n",
      "Loading  c:\\Users\\rober\\Desktop\\Monkey-Emotions\\video\\gandalf_231205\\gandalf_231205_194_e3v831b.mp4\n",
      "Duration of video [s]:  13.62 , recorded with  120.0 fps!\n",
      "Overall # of frames:  1634  found with (before cropping) frame dimensions:  640 480\n",
      "Starting to extract posture\n"
     ]
    },
    {
     "name": "stderr",
     "output_type": "stream",
     "text": [
      "100%|██████████| 1634/1634 [05:35<00:00,  4.87it/s]\n"
     ]
    },
    {
     "name": "stdout",
     "output_type": "stream",
     "text": [
      "Saving results in c:\\Users\\rober\\Desktop\\Monkey-Emotions\\video\\gandalf_231205...\n",
      "Saving csv poses!\n",
      "Starting to analyze %  c:\\Users\\rober\\Desktop\\Monkey-Emotions\\video\\gandalf_231205\\gandalf_231205_195_e3v831b.mp4\n",
      "Loading  c:\\Users\\rober\\Desktop\\Monkey-Emotions\\video\\gandalf_231205\\gandalf_231205_195_e3v831b.mp4\n",
      "Duration of video [s]:  15.31 , recorded with  120.0 fps!\n",
      "Overall # of frames:  1837  found with (before cropping) frame dimensions:  640 480\n",
      "Starting to extract posture\n"
     ]
    },
    {
     "name": "stderr",
     "output_type": "stream",
     "text": [
      "100%|██████████| 1837/1837 [06:16<00:00,  4.88it/s]\n"
     ]
    },
    {
     "name": "stdout",
     "output_type": "stream",
     "text": [
      "Saving results in c:\\Users\\rober\\Desktop\\Monkey-Emotions\\video\\gandalf_231205...\n",
      "Saving csv poses!\n",
      "Starting to analyze %  c:\\Users\\rober\\Desktop\\Monkey-Emotions\\video\\gandalf_231205\\gandalf_231205_196_e3v831b.mp4\n",
      "Loading  c:\\Users\\rober\\Desktop\\Monkey-Emotions\\video\\gandalf_231205\\gandalf_231205_196_e3v831b.mp4\n",
      "Duration of video [s]:  12.25 , recorded with  120.0 fps!\n",
      "Overall # of frames:  1470  found with (before cropping) frame dimensions:  640 480\n",
      "Starting to extract posture\n"
     ]
    },
    {
     "name": "stderr",
     "output_type": "stream",
     "text": [
      "100%|██████████| 1470/1470 [05:03<00:00,  4.84it/s]\n"
     ]
    },
    {
     "name": "stdout",
     "output_type": "stream",
     "text": [
      "Saving results in c:\\Users\\rober\\Desktop\\Monkey-Emotions\\video\\gandalf_231205...\n",
      "Saving csv poses!\n",
      "Starting to analyze %  c:\\Users\\rober\\Desktop\\Monkey-Emotions\\video\\gandalf_231205\\gandalf_231205_197_e3v831b.mp4\n",
      "Loading  c:\\Users\\rober\\Desktop\\Monkey-Emotions\\video\\gandalf_231205\\gandalf_231205_197_e3v831b.mp4\n",
      "Duration of video [s]:  14.12 , recorded with  120.0 fps!\n",
      "Overall # of frames:  1695  found with (before cropping) frame dimensions:  640 480\n",
      "Starting to extract posture\n"
     ]
    },
    {
     "name": "stderr",
     "output_type": "stream",
     "text": [
      "100%|██████████| 1695/1695 [05:48<00:00,  4.87it/s]\n"
     ]
    },
    {
     "name": "stdout",
     "output_type": "stream",
     "text": [
      "Saving results in c:\\Users\\rober\\Desktop\\Monkey-Emotions\\video\\gandalf_231205...\n",
      "Saving csv poses!\n",
      "Starting to analyze %  c:\\Users\\rober\\Desktop\\Monkey-Emotions\\video\\gandalf_231205\\gandalf_231205_198_e3v831b.mp4\n",
      "Loading  c:\\Users\\rober\\Desktop\\Monkey-Emotions\\video\\gandalf_231205\\gandalf_231205_198_e3v831b.mp4\n",
      "Duration of video [s]:  15.94 , recorded with  120.0 fps!\n",
      "Overall # of frames:  1913  found with (before cropping) frame dimensions:  640 480\n",
      "Starting to extract posture\n"
     ]
    },
    {
     "name": "stderr",
     "output_type": "stream",
     "text": [
      "100%|██████████| 1913/1913 [06:33<00:00,  4.86it/s]\n"
     ]
    },
    {
     "name": "stdout",
     "output_type": "stream",
     "text": [
      "Saving results in c:\\Users\\rober\\Desktop\\Monkey-Emotions\\video\\gandalf_231205...\n",
      "Saving csv poses!\n",
      "Starting to analyze %  c:\\Users\\rober\\Desktop\\Monkey-Emotions\\video\\gandalf_231205\\gandalf_231205_199_e3v831b.mp4\n",
      "Loading  c:\\Users\\rober\\Desktop\\Monkey-Emotions\\video\\gandalf_231205\\gandalf_231205_199_e3v831b.mp4\n",
      "Duration of video [s]:  12.48 , recorded with  120.0 fps!\n",
      "Overall # of frames:  1498  found with (before cropping) frame dimensions:  640 480\n",
      "Starting to extract posture\n"
     ]
    },
    {
     "name": "stderr",
     "output_type": "stream",
     "text": [
      "100%|██████████| 1498/1498 [05:08<00:00,  4.86it/s]\n"
     ]
    },
    {
     "name": "stdout",
     "output_type": "stream",
     "text": [
      "Saving results in c:\\Users\\rober\\Desktop\\Monkey-Emotions\\video\\gandalf_231205...\n",
      "Saving csv poses!\n",
      "Starting to analyze %  c:\\Users\\rober\\Desktop\\Monkey-Emotions\\video\\gandalf_231205\\gandalf_231205_200_e3v831b.mp4\n",
      "Loading  c:\\Users\\rober\\Desktop\\Monkey-Emotions\\video\\gandalf_231205\\gandalf_231205_200_e3v831b.mp4\n",
      "Duration of video [s]:  16.09 , recorded with  120.0 fps!\n",
      "Overall # of frames:  1931  found with (before cropping) frame dimensions:  640 480\n",
      "Starting to extract posture\n"
     ]
    },
    {
     "name": "stderr",
     "output_type": "stream",
     "text": [
      "100%|██████████| 1931/1931 [06:36<00:00,  4.86it/s]\n"
     ]
    },
    {
     "name": "stdout",
     "output_type": "stream",
     "text": [
      "Saving results in c:\\Users\\rober\\Desktop\\Monkey-Emotions\\video\\gandalf_231205...\n",
      "Saving csv poses!\n",
      "Starting to analyze %  c:\\Users\\rober\\Desktop\\Monkey-Emotions\\video\\gandalf_231205\\gandalf_231205_201_e3v831b.mp4\n",
      "Loading  c:\\Users\\rober\\Desktop\\Monkey-Emotions\\video\\gandalf_231205\\gandalf_231205_201_e3v831b.mp4\n",
      "Duration of video [s]:  15.63 , recorded with  120.0 fps!\n",
      "Overall # of frames:  1876  found with (before cropping) frame dimensions:  640 480\n",
      "Starting to extract posture\n"
     ]
    },
    {
     "name": "stderr",
     "output_type": "stream",
     "text": [
      "100%|██████████| 1876/1876 [06:26<00:00,  4.86it/s]\n"
     ]
    },
    {
     "name": "stdout",
     "output_type": "stream",
     "text": [
      "Saving results in c:\\Users\\rober\\Desktop\\Monkey-Emotions\\video\\gandalf_231205...\n",
      "Saving csv poses!\n",
      "Starting to analyze %  c:\\Users\\rober\\Desktop\\Monkey-Emotions\\video\\gandalf_231205\\gandalf_231205_202_e3v831b.mp4\n",
      "Loading  c:\\Users\\rober\\Desktop\\Monkey-Emotions\\video\\gandalf_231205\\gandalf_231205_202_e3v831b.mp4\n",
      "Duration of video [s]:  12.75 , recorded with  120.0 fps!\n",
      "Overall # of frames:  1530  found with (before cropping) frame dimensions:  640 480\n",
      "Starting to extract posture\n"
     ]
    },
    {
     "name": "stderr",
     "output_type": "stream",
     "text": [
      "100%|██████████| 1530/1530 [05:15<00:00,  4.85it/s]\n"
     ]
    },
    {
     "name": "stdout",
     "output_type": "stream",
     "text": [
      "Saving results in c:\\Users\\rober\\Desktop\\Monkey-Emotions\\video\\gandalf_231205...\n",
      "Saving csv poses!\n",
      "Starting to analyze %  c:\\Users\\rober\\Desktop\\Monkey-Emotions\\video\\gandalf_231205\\gandalf_231205_203_e3v831b.mp4\n",
      "Loading  c:\\Users\\rober\\Desktop\\Monkey-Emotions\\video\\gandalf_231205\\gandalf_231205_203_e3v831b.mp4\n",
      "Duration of video [s]:  13.3 , recorded with  120.0 fps!\n",
      "Overall # of frames:  1596  found with (before cropping) frame dimensions:  640 480\n",
      "Starting to extract posture\n"
     ]
    },
    {
     "name": "stderr",
     "output_type": "stream",
     "text": [
      "100%|██████████| 1596/1596 [05:28<00:00,  4.85it/s]\n"
     ]
    },
    {
     "name": "stdout",
     "output_type": "stream",
     "text": [
      "Saving results in c:\\Users\\rober\\Desktop\\Monkey-Emotions\\video\\gandalf_231205...\n",
      "Saving csv poses!\n",
      "Starting to analyze %  c:\\Users\\rober\\Desktop\\Monkey-Emotions\\video\\gandalf_231205\\gandalf_231205_204_e3v831b.mp4\n",
      "Loading  c:\\Users\\rober\\Desktop\\Monkey-Emotions\\video\\gandalf_231205\\gandalf_231205_204_e3v831b.mp4\n",
      "Duration of video [s]:  13.52 , recorded with  120.0 fps!\n",
      "Overall # of frames:  1622  found with (before cropping) frame dimensions:  640 480\n",
      "Starting to extract posture\n"
     ]
    },
    {
     "name": "stderr",
     "output_type": "stream",
     "text": [
      "100%|██████████| 1622/1622 [05:34<00:00,  4.85it/s]\n"
     ]
    },
    {
     "name": "stdout",
     "output_type": "stream",
     "text": [
      "Saving results in c:\\Users\\rober\\Desktop\\Monkey-Emotions\\video\\gandalf_231205...\n",
      "Saving csv poses!\n",
      "Starting to analyze %  c:\\Users\\rober\\Desktop\\Monkey-Emotions\\video\\gandalf_231205\\gandalf_231205_205_e3v831b.mp4\n",
      "Loading  c:\\Users\\rober\\Desktop\\Monkey-Emotions\\video\\gandalf_231205\\gandalf_231205_205_e3v831b.mp4\n",
      "Duration of video [s]:  15.36 , recorded with  120.0 fps!\n",
      "Overall # of frames:  1843  found with (before cropping) frame dimensions:  640 480\n",
      "Starting to extract posture\n"
     ]
    },
    {
     "name": "stderr",
     "output_type": "stream",
     "text": [
      "100%|██████████| 1843/1843 [06:17<00:00,  4.89it/s]\n"
     ]
    },
    {
     "name": "stdout",
     "output_type": "stream",
     "text": [
      "Saving results in c:\\Users\\rober\\Desktop\\Monkey-Emotions\\video\\gandalf_231205...\n",
      "Saving csv poses!\n",
      "Starting to analyze %  c:\\Users\\rober\\Desktop\\Monkey-Emotions\\video\\gandalf_231205\\gandalf_231205_206_e3v831b.mp4\n",
      "Loading  c:\\Users\\rober\\Desktop\\Monkey-Emotions\\video\\gandalf_231205\\gandalf_231205_206_e3v831b.mp4\n",
      "Duration of video [s]:  14.4 , recorded with  120.0 fps!\n",
      "Overall # of frames:  1728  found with (before cropping) frame dimensions:  640 480\n",
      "Starting to extract posture\n"
     ]
    },
    {
     "name": "stderr",
     "output_type": "stream",
     "text": [
      "100%|██████████| 1728/1728 [05:53<00:00,  4.88it/s]\n"
     ]
    },
    {
     "name": "stdout",
     "output_type": "stream",
     "text": [
      "Saving results in c:\\Users\\rober\\Desktop\\Monkey-Emotions\\video\\gandalf_231205...\n",
      "Saving csv poses!\n",
      "Starting to analyze %  c:\\Users\\rober\\Desktop\\Monkey-Emotions\\video\\gandalf_231205\\gandalf_231205_207_e3v831b.mp4\n",
      "Loading  c:\\Users\\rober\\Desktop\\Monkey-Emotions\\video\\gandalf_231205\\gandalf_231205_207_e3v831b.mp4\n",
      "Duration of video [s]:  11.0 , recorded with  120.0 fps!\n",
      "Overall # of frames:  1320  found with (before cropping) frame dimensions:  640 480\n",
      "Starting to extract posture\n"
     ]
    },
    {
     "name": "stderr",
     "output_type": "stream",
     "text": [
      "100%|██████████| 1320/1320 [04:29<00:00,  4.90it/s]\n"
     ]
    },
    {
     "name": "stdout",
     "output_type": "stream",
     "text": [
      "Saving results in c:\\Users\\rober\\Desktop\\Monkey-Emotions\\video\\gandalf_231205...\n",
      "Saving csv poses!\n",
      "Starting to analyze %  c:\\Users\\rober\\Desktop\\Monkey-Emotions\\video\\gandalf_231205\\gandalf_231205_208_e3v831b.mp4\n",
      "Loading  c:\\Users\\rober\\Desktop\\Monkey-Emotions\\video\\gandalf_231205\\gandalf_231205_208_e3v831b.mp4\n",
      "Duration of video [s]:  16.64 , recorded with  120.0 fps!\n",
      "Overall # of frames:  1997  found with (before cropping) frame dimensions:  640 480\n",
      "Starting to extract posture\n"
     ]
    },
    {
     "name": "stderr",
     "output_type": "stream",
     "text": [
      "100%|██████████| 1997/1997 [06:48<00:00,  4.89it/s]\n"
     ]
    },
    {
     "name": "stdout",
     "output_type": "stream",
     "text": [
      "Saving results in c:\\Users\\rober\\Desktop\\Monkey-Emotions\\video\\gandalf_231205...\n",
      "Saving csv poses!\n",
      "Starting to analyze %  c:\\Users\\rober\\Desktop\\Monkey-Emotions\\video\\gandalf_231205\\gandalf_231205_209_e3v831b.mp4\n",
      "Loading  c:\\Users\\rober\\Desktop\\Monkey-Emotions\\video\\gandalf_231205\\gandalf_231205_209_e3v831b.mp4\n",
      "Duration of video [s]:  15.59 , recorded with  120.0 fps!\n",
      "Overall # of frames:  1871  found with (before cropping) frame dimensions:  640 480\n",
      "Starting to extract posture\n"
     ]
    },
    {
     "name": "stderr",
     "output_type": "stream",
     "text": [
      "100%|██████████| 1871/1871 [06:22<00:00,  4.89it/s]\n"
     ]
    },
    {
     "name": "stdout",
     "output_type": "stream",
     "text": [
      "Saving results in c:\\Users\\rober\\Desktop\\Monkey-Emotions\\video\\gandalf_231205...\n",
      "Saving csv poses!\n",
      "Starting to analyze %  c:\\Users\\rober\\Desktop\\Monkey-Emotions\\video\\gandalf_231205\\gandalf_231205_210_e3v831b.mp4\n",
      "Loading  c:\\Users\\rober\\Desktop\\Monkey-Emotions\\video\\gandalf_231205\\gandalf_231205_210_e3v831b.mp4\n",
      "Duration of video [s]:  15.58 , recorded with  120.0 fps!\n",
      "Overall # of frames:  1870  found with (before cropping) frame dimensions:  640 480\n",
      "Starting to extract posture\n"
     ]
    },
    {
     "name": "stderr",
     "output_type": "stream",
     "text": [
      "100%|██████████| 1870/1870 [06:21<00:00,  4.90it/s]\n"
     ]
    },
    {
     "name": "stdout",
     "output_type": "stream",
     "text": [
      "Saving results in c:\\Users\\rober\\Desktop\\Monkey-Emotions\\video\\gandalf_231205...\n",
      "Saving csv poses!\n",
      "Starting to analyze %  c:\\Users\\rober\\Desktop\\Monkey-Emotions\\video\\gandalf_231205\\gandalf_231205_211_e3v831b.mp4\n",
      "Loading  c:\\Users\\rober\\Desktop\\Monkey-Emotions\\video\\gandalf_231205\\gandalf_231205_211_e3v831b.mp4\n",
      "Duration of video [s]:  11.32 , recorded with  120.0 fps!\n",
      "Overall # of frames:  1358  found with (before cropping) frame dimensions:  640 480\n",
      "Starting to extract posture\n"
     ]
    },
    {
     "name": "stderr",
     "output_type": "stream",
     "text": [
      "100%|██████████| 1358/1358 [04:37<00:00,  4.89it/s]\n"
     ]
    },
    {
     "name": "stdout",
     "output_type": "stream",
     "text": [
      "Saving results in c:\\Users\\rober\\Desktop\\Monkey-Emotions\\video\\gandalf_231205...\n",
      "Saving csv poses!\n",
      "Starting to analyze %  c:\\Users\\rober\\Desktop\\Monkey-Emotions\\video\\gandalf_231205\\gandalf_231205_212_e3v831b.mp4\n",
      "Loading  c:\\Users\\rober\\Desktop\\Monkey-Emotions\\video\\gandalf_231205\\gandalf_231205_212_e3v831b.mp4\n",
      "Duration of video [s]:  14.26 , recorded with  120.0 fps!\n",
      "Overall # of frames:  1711  found with (before cropping) frame dimensions:  640 480\n",
      "Starting to extract posture\n"
     ]
    },
    {
     "name": "stderr",
     "output_type": "stream",
     "text": [
      "100%|██████████| 1711/1711 [05:49<00:00,  4.89it/s]\n"
     ]
    },
    {
     "name": "stdout",
     "output_type": "stream",
     "text": [
      "Saving results in c:\\Users\\rober\\Desktop\\Monkey-Emotions\\video\\gandalf_231205...\n",
      "Saving csv poses!\n",
      "Starting to analyze %  c:\\Users\\rober\\Desktop\\Monkey-Emotions\\video\\gandalf_231205\\gandalf_231205_213_e3v831b.mp4\n",
      "Loading  c:\\Users\\rober\\Desktop\\Monkey-Emotions\\video\\gandalf_231205\\gandalf_231205_213_e3v831b.mp4\n",
      "Duration of video [s]:  13.4 , recorded with  120.0 fps!\n",
      "Overall # of frames:  1608  found with (before cropping) frame dimensions:  640 480\n",
      "Starting to extract posture\n"
     ]
    },
    {
     "name": "stderr",
     "output_type": "stream",
     "text": [
      "100%|██████████| 1608/1608 [05:28<00:00,  4.89it/s]\n"
     ]
    },
    {
     "name": "stdout",
     "output_type": "stream",
     "text": [
      "Saving results in c:\\Users\\rober\\Desktop\\Monkey-Emotions\\video\\gandalf_231205...\n",
      "Saving csv poses!\n",
      "Starting to analyze %  c:\\Users\\rober\\Desktop\\Monkey-Emotions\\video\\gandalf_231205\\gandalf_231205_215_e3v831b.mp4\n",
      "Loading  c:\\Users\\rober\\Desktop\\Monkey-Emotions\\video\\gandalf_231205\\gandalf_231205_215_e3v831b.mp4\n",
      "Duration of video [s]:  55.74 , recorded with  120.0 fps!\n",
      "Overall # of frames:  6689  found with (before cropping) frame dimensions:  640 480\n",
      "Starting to extract posture\n"
     ]
    },
    {
     "name": "stderr",
     "output_type": "stream",
     "text": [
      "100%|██████████| 6689/6689 [22:47<00:00,  4.89it/s]\n"
     ]
    },
    {
     "name": "stdout",
     "output_type": "stream",
     "text": [
      "Saving results in c:\\Users\\rober\\Desktop\\Monkey-Emotions\\video\\gandalf_231205...\n",
      "Saving csv poses!\n",
      "Starting to analyze %  c:\\Users\\rober\\Desktop\\Monkey-Emotions\\video\\gandalf_231205\\gandalf_231205_216_e3v831b.mp4\n",
      "Loading  c:\\Users\\rober\\Desktop\\Monkey-Emotions\\video\\gandalf_231205\\gandalf_231205_216_e3v831b.mp4\n",
      "Duration of video [s]:  55.57 , recorded with  120.0 fps!\n",
      "Overall # of frames:  6668  found with (before cropping) frame dimensions:  640 480\n",
      "Starting to extract posture\n"
     ]
    },
    {
     "name": "stderr",
     "output_type": "stream",
     "text": [
      "100%|██████████| 6668/6668 [22:44<00:00,  4.89it/s]\n"
     ]
    },
    {
     "name": "stdout",
     "output_type": "stream",
     "text": [
      "Saving results in c:\\Users\\rober\\Desktop\\Monkey-Emotions\\video\\gandalf_231205...\n",
      "Saving csv poses!\n",
      "Starting to analyze %  c:\\Users\\rober\\Desktop\\Monkey-Emotions\\video\\gandalf_231205\\gandalf_231205_217_e3v831b.mp4\n",
      "Loading  c:\\Users\\rober\\Desktop\\Monkey-Emotions\\video\\gandalf_231205\\gandalf_231205_217_e3v831b.mp4\n",
      "Duration of video [s]:  48.48 , recorded with  120.0 fps!\n",
      "Overall # of frames:  5818  found with (before cropping) frame dimensions:  640 480\n",
      "Starting to extract posture\n"
     ]
    },
    {
     "name": "stderr",
     "output_type": "stream",
     "text": [
      "100%|██████████| 5818/5818 [19:48<00:00,  4.89it/s]\n"
     ]
    },
    {
     "name": "stdout",
     "output_type": "stream",
     "text": [
      "Saving results in c:\\Users\\rober\\Desktop\\Monkey-Emotions\\video\\gandalf_231205...\n",
      "Saving csv poses!\n",
      "Starting to analyze %  c:\\Users\\rober\\Desktop\\Monkey-Emotions\\video\\gandalf_231205\\gandalf_231205_218_e3v831b.mp4\n",
      "Loading  c:\\Users\\rober\\Desktop\\Monkey-Emotions\\video\\gandalf_231205\\gandalf_231205_218_e3v831b.mp4\n",
      "Duration of video [s]:  11.75 , recorded with  120.0 fps!\n",
      "Overall # of frames:  1410  found with (before cropping) frame dimensions:  640 480\n",
      "Starting to extract posture\n"
     ]
    },
    {
     "name": "stderr",
     "output_type": "stream",
     "text": [
      "100%|██████████| 1410/1410 [04:49<00:00,  4.87it/s]\n"
     ]
    },
    {
     "name": "stdout",
     "output_type": "stream",
     "text": [
      "Saving results in c:\\Users\\rober\\Desktop\\Monkey-Emotions\\video\\gandalf_231205...\n",
      "Saving csv poses!\n",
      "Starting to analyze %  c:\\Users\\rober\\Desktop\\Monkey-Emotions\\video\\gandalf_231205\\gandalf_231205_219_e3v831b.mp4\n",
      "Loading  c:\\Users\\rober\\Desktop\\Monkey-Emotions\\video\\gandalf_231205\\gandalf_231205_219_e3v831b.mp4\n",
      "Duration of video [s]:  12.98 , recorded with  120.0 fps!\n",
      "Overall # of frames:  1558  found with (before cropping) frame dimensions:  640 480\n",
      "Starting to extract posture\n"
     ]
    },
    {
     "name": "stderr",
     "output_type": "stream",
     "text": [
      "100%|██████████| 1558/1558 [05:18<00:00,  4.89it/s]\n"
     ]
    },
    {
     "name": "stdout",
     "output_type": "stream",
     "text": [
      "Saving results in c:\\Users\\rober\\Desktop\\Monkey-Emotions\\video\\gandalf_231205...\n",
      "Saving csv poses!\n",
      "Starting to analyze %  c:\\Users\\rober\\Desktop\\Monkey-Emotions\\video\\gandalf_231205\\gandalf_231205_220_e3v831b.mp4\n",
      "Loading  c:\\Users\\rober\\Desktop\\Monkey-Emotions\\video\\gandalf_231205\\gandalf_231205_220_e3v831b.mp4\n",
      "Duration of video [s]:  16.54 , recorded with  120.0 fps!\n",
      "Overall # of frames:  1985  found with (before cropping) frame dimensions:  640 480\n",
      "Starting to extract posture\n"
     ]
    },
    {
     "name": "stderr",
     "output_type": "stream",
     "text": [
      "100%|██████████| 1985/1985 [06:49<00:00,  4.85it/s]\n"
     ]
    },
    {
     "name": "stdout",
     "output_type": "stream",
     "text": [
      "Saving results in c:\\Users\\rober\\Desktop\\Monkey-Emotions\\video\\gandalf_231205...\n",
      "Saving csv poses!\n",
      "Starting to analyze %  c:\\Users\\rober\\Desktop\\Monkey-Emotions\\video\\gandalf_231205\\gandalf_231205_221_e3v831b.mp4\n",
      "Loading  c:\\Users\\rober\\Desktop\\Monkey-Emotions\\video\\gandalf_231205\\gandalf_231205_221_e3v831b.mp4\n",
      "Duration of video [s]:  14.1 , recorded with  120.0 fps!\n",
      "Overall # of frames:  1692  found with (before cropping) frame dimensions:  640 480\n",
      "Starting to extract posture\n"
     ]
    },
    {
     "name": "stderr",
     "output_type": "stream",
     "text": [
      "100%|██████████| 1692/1692 [05:47<00:00,  4.88it/s]\n"
     ]
    },
    {
     "name": "stdout",
     "output_type": "stream",
     "text": [
      "Saving results in c:\\Users\\rober\\Desktop\\Monkey-Emotions\\video\\gandalf_231205...\n",
      "Saving csv poses!\n",
      "Starting to analyze %  c:\\Users\\rober\\Desktop\\Monkey-Emotions\\video\\gandalf_231205\\gandalf_231205_222_e3v831b.mp4\n",
      "Loading  c:\\Users\\rober\\Desktop\\Monkey-Emotions\\video\\gandalf_231205\\gandalf_231205_222_e3v831b.mp4\n",
      "Duration of video [s]:  14.97 , recorded with  120.0 fps!\n",
      "Overall # of frames:  1797  found with (before cropping) frame dimensions:  640 480\n",
      "Starting to extract posture\n"
     ]
    },
    {
     "name": "stderr",
     "output_type": "stream",
     "text": [
      "100%|██████████| 1797/1797 [06:07<00:00,  4.88it/s]\n"
     ]
    },
    {
     "name": "stdout",
     "output_type": "stream",
     "text": [
      "Saving results in c:\\Users\\rober\\Desktop\\Monkey-Emotions\\video\\gandalf_231205...\n",
      "Saving csv poses!\n",
      "Starting to analyze %  c:\\Users\\rober\\Desktop\\Monkey-Emotions\\video\\gandalf_231205\\gandalf_231205_223_e3v831b.mp4\n",
      "Loading  c:\\Users\\rober\\Desktop\\Monkey-Emotions\\video\\gandalf_231205\\gandalf_231205_223_e3v831b.mp4\n",
      "Duration of video [s]:  12.78 , recorded with  120.0 fps!\n",
      "Overall # of frames:  1534  found with (before cropping) frame dimensions:  640 480\n",
      "Starting to extract posture\n"
     ]
    },
    {
     "name": "stderr",
     "output_type": "stream",
     "text": [
      "100%|██████████| 1534/1534 [05:14<00:00,  4.87it/s]\n"
     ]
    },
    {
     "name": "stdout",
     "output_type": "stream",
     "text": [
      "Saving results in c:\\Users\\rober\\Desktop\\Monkey-Emotions\\video\\gandalf_231205...\n",
      "Saving csv poses!\n",
      "Starting to analyze %  c:\\Users\\rober\\Desktop\\Monkey-Emotions\\video\\gandalf_231205\\gandalf_231205_224_e3v831b.mp4\n",
      "Loading  c:\\Users\\rober\\Desktop\\Monkey-Emotions\\video\\gandalf_231205\\gandalf_231205_224_e3v831b.mp4\n",
      "Duration of video [s]:  14.58 , recorded with  120.0 fps!\n",
      "Overall # of frames:  1750  found with (before cropping) frame dimensions:  640 480\n",
      "Starting to extract posture\n"
     ]
    },
    {
     "name": "stderr",
     "output_type": "stream",
     "text": [
      "100%|██████████| 1750/1750 [05:59<00:00,  4.87it/s]\n"
     ]
    },
    {
     "name": "stdout",
     "output_type": "stream",
     "text": [
      "Saving results in c:\\Users\\rober\\Desktop\\Monkey-Emotions\\video\\gandalf_231205...\n",
      "Saving csv poses!\n",
      "Starting to analyze %  c:\\Users\\rober\\Desktop\\Monkey-Emotions\\video\\gandalf_231205\\gandalf_231205_225_e3v831b.mp4\n",
      "Loading  c:\\Users\\rober\\Desktop\\Monkey-Emotions\\video\\gandalf_231205\\gandalf_231205_225_e3v831b.mp4\n",
      "Duration of video [s]:  16.89 , recorded with  120.0 fps!\n",
      "Overall # of frames:  2027  found with (before cropping) frame dimensions:  640 480\n",
      "Starting to extract posture\n"
     ]
    },
    {
     "name": "stderr",
     "output_type": "stream",
     "text": [
      "100%|██████████| 2027/2027 [06:56<00:00,  4.87it/s]\n"
     ]
    },
    {
     "name": "stdout",
     "output_type": "stream",
     "text": [
      "Saving results in c:\\Users\\rober\\Desktop\\Monkey-Emotions\\video\\gandalf_231205...\n",
      "Saving csv poses!\n",
      "Starting to analyze %  c:\\Users\\rober\\Desktop\\Monkey-Emotions\\video\\gandalf_231205\\gandalf_231205_226_e3v831b.mp4\n",
      "Loading  c:\\Users\\rober\\Desktop\\Monkey-Emotions\\video\\gandalf_231205\\gandalf_231205_226_e3v831b.mp4\n",
      "Duration of video [s]:  14.87 , recorded with  120.0 fps!\n",
      "Overall # of frames:  1784  found with (before cropping) frame dimensions:  640 480\n",
      "Starting to extract posture\n"
     ]
    },
    {
     "name": "stderr",
     "output_type": "stream",
     "text": [
      "100%|██████████| 1784/1784 [06:05<00:00,  4.88it/s]\n"
     ]
    },
    {
     "name": "stdout",
     "output_type": "stream",
     "text": [
      "Saving results in c:\\Users\\rober\\Desktop\\Monkey-Emotions\\video\\gandalf_231205...\n",
      "Saving csv poses!\n",
      "Starting to analyze %  c:\\Users\\rober\\Desktop\\Monkey-Emotions\\video\\gandalf_231205\\gandalf_231205_227_e3v831b.mp4\n",
      "Loading  c:\\Users\\rober\\Desktop\\Monkey-Emotions\\video\\gandalf_231205\\gandalf_231205_227_e3v831b.mp4\n",
      "Duration of video [s]:  14.74 , recorded with  120.0 fps!\n",
      "Overall # of frames:  1769  found with (before cropping) frame dimensions:  640 480\n",
      "Starting to extract posture\n"
     ]
    },
    {
     "name": "stderr",
     "output_type": "stream",
     "text": [
      "100%|██████████| 1769/1769 [06:04<00:00,  4.86it/s]\n"
     ]
    },
    {
     "name": "stdout",
     "output_type": "stream",
     "text": [
      "Saving results in c:\\Users\\rober\\Desktop\\Monkey-Emotions\\video\\gandalf_231205...\n",
      "Saving csv poses!\n",
      "Starting to analyze %  c:\\Users\\rober\\Desktop\\Monkey-Emotions\\video\\gandalf_231205\\gandalf_231205_228_e3v831b.mp4\n",
      "Loading  c:\\Users\\rober\\Desktop\\Monkey-Emotions\\video\\gandalf_231205\\gandalf_231205_228_e3v831b.mp4\n",
      "Duration of video [s]:  11.7 , recorded with  120.0 fps!\n",
      "Overall # of frames:  1404  found with (before cropping) frame dimensions:  640 480\n",
      "Starting to extract posture\n"
     ]
    },
    {
     "name": "stderr",
     "output_type": "stream",
     "text": [
      "100%|██████████| 1404/1404 [04:49<00:00,  4.86it/s]\n"
     ]
    },
    {
     "name": "stdout",
     "output_type": "stream",
     "text": [
      "Saving results in c:\\Users\\rober\\Desktop\\Monkey-Emotions\\video\\gandalf_231205...\n",
      "Saving csv poses!\n",
      "Starting to analyze %  c:\\Users\\rober\\Desktop\\Monkey-Emotions\\video\\gandalf_231205\\gandalf_231205_229_e3v831b.mp4\n",
      "Loading  c:\\Users\\rober\\Desktop\\Monkey-Emotions\\video\\gandalf_231205\\gandalf_231205_229_e3v831b.mp4\n",
      "Duration of video [s]:  11.85 , recorded with  120.0 fps!\n",
      "Overall # of frames:  1422  found with (before cropping) frame dimensions:  640 480\n",
      "Starting to extract posture\n"
     ]
    },
    {
     "name": "stderr",
     "output_type": "stream",
     "text": [
      "100%|██████████| 1422/1422 [04:51<00:00,  4.87it/s]\n"
     ]
    },
    {
     "name": "stdout",
     "output_type": "stream",
     "text": [
      "Saving results in c:\\Users\\rober\\Desktop\\Monkey-Emotions\\video\\gandalf_231205...\n",
      "Saving csv poses!\n",
      "Starting to analyze %  c:\\Users\\rober\\Desktop\\Monkey-Emotions\\video\\gandalf_231205\\gandalf_231205_230_e3v831b.mp4\n",
      "Loading  c:\\Users\\rober\\Desktop\\Monkey-Emotions\\video\\gandalf_231205\\gandalf_231205_230_e3v831b.mp4\n",
      "Duration of video [s]:  13.34 , recorded with  120.0 fps!\n",
      "Overall # of frames:  1601  found with (before cropping) frame dimensions:  640 480\n",
      "Starting to extract posture\n"
     ]
    },
    {
     "name": "stderr",
     "output_type": "stream",
     "text": [
      "100%|██████████| 1601/1601 [05:30<00:00,  4.85it/s]\n"
     ]
    },
    {
     "name": "stdout",
     "output_type": "stream",
     "text": [
      "Saving results in c:\\Users\\rober\\Desktop\\Monkey-Emotions\\video\\gandalf_231205...\n",
      "Saving csv poses!\n",
      "Starting to analyze %  c:\\Users\\rober\\Desktop\\Monkey-Emotions\\video\\gandalf_231205\\gandalf_231205_231_e3v831b.mp4\n",
      "Loading  c:\\Users\\rober\\Desktop\\Monkey-Emotions\\video\\gandalf_231205\\gandalf_231205_231_e3v831b.mp4\n",
      "Duration of video [s]:  13.23 , recorded with  120.0 fps!\n",
      "Overall # of frames:  1588  found with (before cropping) frame dimensions:  640 480\n",
      "Starting to extract posture\n"
     ]
    },
    {
     "name": "stderr",
     "output_type": "stream",
     "text": [
      "100%|██████████| 1588/1588 [05:29<00:00,  4.82it/s]\n"
     ]
    },
    {
     "name": "stdout",
     "output_type": "stream",
     "text": [
      "Saving results in c:\\Users\\rober\\Desktop\\Monkey-Emotions\\video\\gandalf_231205...\n",
      "Saving csv poses!\n",
      "Starting to analyze %  c:\\Users\\rober\\Desktop\\Monkey-Emotions\\video\\gandalf_231205\\gandalf_231205_232_e3v831b.mp4\n",
      "Loading  c:\\Users\\rober\\Desktop\\Monkey-Emotions\\video\\gandalf_231205\\gandalf_231205_232_e3v831b.mp4\n",
      "Duration of video [s]:  15.22 , recorded with  120.0 fps!\n",
      "Overall # of frames:  1826  found with (before cropping) frame dimensions:  640 480\n",
      "Starting to extract posture\n"
     ]
    },
    {
     "name": "stderr",
     "output_type": "stream",
     "text": [
      "100%|██████████| 1826/1826 [06:16<00:00,  4.85it/s]\n"
     ]
    },
    {
     "name": "stdout",
     "output_type": "stream",
     "text": [
      "Saving results in c:\\Users\\rober\\Desktop\\Monkey-Emotions\\video\\gandalf_231205...\n",
      "Saving csv poses!\n",
      "Starting to analyze %  c:\\Users\\rober\\Desktop\\Monkey-Emotions\\video\\gandalf_231205\\gandalf_231205_233_e3v831b.mp4\n",
      "Loading  c:\\Users\\rober\\Desktop\\Monkey-Emotions\\video\\gandalf_231205\\gandalf_231205_233_e3v831b.mp4\n",
      "Duration of video [s]:  16.98 , recorded with  120.0 fps!\n",
      "Overall # of frames:  2037  found with (before cropping) frame dimensions:  640 480\n",
      "Starting to extract posture\n"
     ]
    },
    {
     "name": "stderr",
     "output_type": "stream",
     "text": [
      "100%|██████████| 2037/2037 [06:58<00:00,  4.86it/s]\n"
     ]
    },
    {
     "name": "stdout",
     "output_type": "stream",
     "text": [
      "Saving results in c:\\Users\\rober\\Desktop\\Monkey-Emotions\\video\\gandalf_231205...\n",
      "Saving csv poses!\n",
      "Starting to analyze %  c:\\Users\\rober\\Desktop\\Monkey-Emotions\\video\\gandalf_231205\\gandalf_231205_234_e3v831b.mp4\n",
      "Loading  c:\\Users\\rober\\Desktop\\Monkey-Emotions\\video\\gandalf_231205\\gandalf_231205_234_e3v831b.mp4\n",
      "Duration of video [s]:  12.83 , recorded with  120.0 fps!\n",
      "Overall # of frames:  1540  found with (before cropping) frame dimensions:  640 480\n",
      "Starting to extract posture\n"
     ]
    },
    {
     "name": "stderr",
     "output_type": "stream",
     "text": [
      "100%|██████████| 1540/1540 [05:16<00:00,  4.86it/s]\n"
     ]
    },
    {
     "name": "stdout",
     "output_type": "stream",
     "text": [
      "Saving results in c:\\Users\\rober\\Desktop\\Monkey-Emotions\\video\\gandalf_231205...\n",
      "Saving csv poses!\n",
      "Starting to analyze %  c:\\Users\\rober\\Desktop\\Monkey-Emotions\\video\\gandalf_231205\\gandalf_231205_235_e3v831b.mp4\n",
      "Loading  c:\\Users\\rober\\Desktop\\Monkey-Emotions\\video\\gandalf_231205\\gandalf_231205_235_e3v831b.mp4\n",
      "Duration of video [s]:  16.24 , recorded with  120.0 fps!\n",
      "Overall # of frames:  1949  found with (before cropping) frame dimensions:  640 480\n",
      "Starting to extract posture\n"
     ]
    },
    {
     "name": "stderr",
     "output_type": "stream",
     "text": [
      "100%|██████████| 1949/1949 [06:40<00:00,  4.86it/s]\n"
     ]
    },
    {
     "name": "stdout",
     "output_type": "stream",
     "text": [
      "Saving results in c:\\Users\\rober\\Desktop\\Monkey-Emotions\\video\\gandalf_231205...\n",
      "Saving csv poses!\n",
      "Starting to analyze %  c:\\Users\\rober\\Desktop\\Monkey-Emotions\\video\\gandalf_231205\\gandalf_231205_236_e3v831b.mp4\n",
      "Loading  c:\\Users\\rober\\Desktop\\Monkey-Emotions\\video\\gandalf_231205\\gandalf_231205_236_e3v831b.mp4\n",
      "Duration of video [s]:  12.07 , recorded with  120.0 fps!\n",
      "Overall # of frames:  1448  found with (before cropping) frame dimensions:  640 480\n",
      "Starting to extract posture\n"
     ]
    },
    {
     "name": "stderr",
     "output_type": "stream",
     "text": [
      "100%|██████████| 1448/1448 [04:57<00:00,  4.87it/s]\n"
     ]
    },
    {
     "name": "stdout",
     "output_type": "stream",
     "text": [
      "Saving results in c:\\Users\\rober\\Desktop\\Monkey-Emotions\\video\\gandalf_231205...\n",
      "Saving csv poses!\n",
      "Starting to analyze %  c:\\Users\\rober\\Desktop\\Monkey-Emotions\\video\\gandalf_231205\\gandalf_231205_237_e3v831b.mp4\n",
      "Loading  c:\\Users\\rober\\Desktop\\Monkey-Emotions\\video\\gandalf_231205\\gandalf_231205_237_e3v831b.mp4\n",
      "Duration of video [s]:  18.26 , recorded with  120.0 fps!\n",
      "Overall # of frames:  2191  found with (before cropping) frame dimensions:  640 480\n",
      "Starting to extract posture\n"
     ]
    },
    {
     "name": "stderr",
     "output_type": "stream",
     "text": [
      "100%|██████████| 2191/2191 [07:28<00:00,  4.88it/s]\n"
     ]
    },
    {
     "name": "stdout",
     "output_type": "stream",
     "text": [
      "Saving results in c:\\Users\\rober\\Desktop\\Monkey-Emotions\\video\\gandalf_231205...\n",
      "Saving csv poses!\n",
      "Starting to analyze %  c:\\Users\\rober\\Desktop\\Monkey-Emotions\\video\\gandalf_231205\\gandalf_231205_238_e3v831b.mp4\n",
      "Loading  c:\\Users\\rober\\Desktop\\Monkey-Emotions\\video\\gandalf_231205\\gandalf_231205_238_e3v831b.mp4\n",
      "Duration of video [s]:  13.92 , recorded with  120.0 fps!\n",
      "Overall # of frames:  1670  found with (before cropping) frame dimensions:  640 480\n",
      "Starting to extract posture\n"
     ]
    },
    {
     "name": "stderr",
     "output_type": "stream",
     "text": [
      "100%|██████████| 1670/1670 [05:42<00:00,  4.88it/s]\n"
     ]
    },
    {
     "name": "stdout",
     "output_type": "stream",
     "text": [
      "Saving results in c:\\Users\\rober\\Desktop\\Monkey-Emotions\\video\\gandalf_231205...\n",
      "Saving csv poses!\n",
      "Starting to analyze %  c:\\Users\\rober\\Desktop\\Monkey-Emotions\\video\\gandalf_231205\\gandalf_231205_239_e3v831b.mp4\n",
      "Loading  c:\\Users\\rober\\Desktop\\Monkey-Emotions\\video\\gandalf_231205\\gandalf_231205_239_e3v831b.mp4\n",
      "Duration of video [s]:  16.93 , recorded with  120.0 fps!\n",
      "Overall # of frames:  2031  found with (before cropping) frame dimensions:  640 480\n",
      "Starting to extract posture\n"
     ]
    },
    {
     "name": "stderr",
     "output_type": "stream",
     "text": [
      "100%|██████████| 2031/2031 [06:56<00:00,  4.88it/s]\n"
     ]
    },
    {
     "name": "stdout",
     "output_type": "stream",
     "text": [
      "Saving results in c:\\Users\\rober\\Desktop\\Monkey-Emotions\\video\\gandalf_231205...\n",
      "Saving csv poses!\n",
      "Starting to analyze %  c:\\Users\\rober\\Desktop\\Monkey-Emotions\\video\\gandalf_231205\\gandalf_231205_240_e3v831b.mp4\n",
      "Loading  c:\\Users\\rober\\Desktop\\Monkey-Emotions\\video\\gandalf_231205\\gandalf_231205_240_e3v831b.mp4\n",
      "Duration of video [s]:  14.08 , recorded with  120.0 fps!\n",
      "Overall # of frames:  1690  found with (before cropping) frame dimensions:  640 480\n",
      "Starting to extract posture\n"
     ]
    },
    {
     "name": "stderr",
     "output_type": "stream",
     "text": [
      "100%|██████████| 1690/1690 [05:48<00:00,  4.85it/s]\n"
     ]
    },
    {
     "name": "stdout",
     "output_type": "stream",
     "text": [
      "Saving results in c:\\Users\\rober\\Desktop\\Monkey-Emotions\\video\\gandalf_231205...\n",
      "Saving csv poses!\n",
      "Starting to analyze %  c:\\Users\\rober\\Desktop\\Monkey-Emotions\\video\\gandalf_231205\\gandalf_231205_241_e3v831b.mp4\n",
      "Loading  c:\\Users\\rober\\Desktop\\Monkey-Emotions\\video\\gandalf_231205\\gandalf_231205_241_e3v831b.mp4\n",
      "Duration of video [s]:  17.07 , recorded with  120.0 fps!\n",
      "Overall # of frames:  2049  found with (before cropping) frame dimensions:  640 480\n",
      "Starting to extract posture\n"
     ]
    },
    {
     "name": "stderr",
     "output_type": "stream",
     "text": [
      "100%|██████████| 2049/2049 [07:01<00:00,  4.86it/s]\n"
     ]
    },
    {
     "name": "stdout",
     "output_type": "stream",
     "text": [
      "Saving results in c:\\Users\\rober\\Desktop\\Monkey-Emotions\\video\\gandalf_231205...\n",
      "Saving csv poses!\n",
      "Starting to analyze %  c:\\Users\\rober\\Desktop\\Monkey-Emotions\\video\\gandalf_231205\\gandalf_231205_242_e3v831b.mp4\n",
      "Loading  c:\\Users\\rober\\Desktop\\Monkey-Emotions\\video\\gandalf_231205\\gandalf_231205_242_e3v831b.mp4\n",
      "Duration of video [s]:  11.87 , recorded with  120.0 fps!\n",
      "Overall # of frames:  1424  found with (before cropping) frame dimensions:  640 480\n",
      "Starting to extract posture\n"
     ]
    },
    {
     "name": "stderr",
     "output_type": "stream",
     "text": [
      "100%|██████████| 1424/1424 [04:51<00:00,  4.89it/s]\n"
     ]
    },
    {
     "name": "stdout",
     "output_type": "stream",
     "text": [
      "Saving results in c:\\Users\\rober\\Desktop\\Monkey-Emotions\\video\\gandalf_231205...\n",
      "Saving csv poses!\n",
      "Starting to analyze %  c:\\Users\\rober\\Desktop\\Monkey-Emotions\\video\\gandalf_231205\\gandalf_231205_243_e3v831b.mp4\n",
      "Loading  c:\\Users\\rober\\Desktop\\Monkey-Emotions\\video\\gandalf_231205\\gandalf_231205_243_e3v831b.mp4\n",
      "Duration of video [s]:  15.38 , recorded with  120.0 fps!\n",
      "Overall # of frames:  1846  found with (before cropping) frame dimensions:  640 480\n",
      "Starting to extract posture\n"
     ]
    },
    {
     "name": "stderr",
     "output_type": "stream",
     "text": [
      "100%|██████████| 1846/1846 [06:19<00:00,  4.86it/s]\n"
     ]
    },
    {
     "name": "stdout",
     "output_type": "stream",
     "text": [
      "Saving results in c:\\Users\\rober\\Desktop\\Monkey-Emotions\\video\\gandalf_231205...\n",
      "Saving csv poses!\n",
      "Starting to analyze %  c:\\Users\\rober\\Desktop\\Monkey-Emotions\\video\\gandalf_231205\\gandalf_231205_244_e3v831b.mp4\n",
      "Loading  c:\\Users\\rober\\Desktop\\Monkey-Emotions\\video\\gandalf_231205\\gandalf_231205_244_e3v831b.mp4\n",
      "Duration of video [s]:  17.37 , recorded with  120.0 fps!\n",
      "Overall # of frames:  2084  found with (before cropping) frame dimensions:  640 480\n",
      "Starting to extract posture\n"
     ]
    },
    {
     "name": "stderr",
     "output_type": "stream",
     "text": [
      "100%|██████████| 2084/2084 [07:08<00:00,  4.86it/s]\n"
     ]
    },
    {
     "name": "stdout",
     "output_type": "stream",
     "text": [
      "Saving results in c:\\Users\\rober\\Desktop\\Monkey-Emotions\\video\\gandalf_231205...\n",
      "Saving csv poses!\n",
      "Starting to analyze %  c:\\Users\\rober\\Desktop\\Monkey-Emotions\\video\\gandalf_231205\\gandalf_231205_245_e3v831b.mp4\n",
      "Loading  c:\\Users\\rober\\Desktop\\Monkey-Emotions\\video\\gandalf_231205\\gandalf_231205_245_e3v831b.mp4\n",
      "Duration of video [s]:  15.51 , recorded with  120.0 fps!\n",
      "Overall # of frames:  1861  found with (before cropping) frame dimensions:  640 480\n",
      "Starting to extract posture\n"
     ]
    },
    {
     "name": "stderr",
     "output_type": "stream",
     "text": [
      "100%|██████████| 1861/1861 [06:23<00:00,  4.86it/s]\n"
     ]
    },
    {
     "name": "stdout",
     "output_type": "stream",
     "text": [
      "Saving results in c:\\Users\\rober\\Desktop\\Monkey-Emotions\\video\\gandalf_231205...\n",
      "Saving csv poses!\n",
      "Starting to analyze %  c:\\Users\\rober\\Desktop\\Monkey-Emotions\\video\\gandalf_231205\\gandalf_231205_246_e3v831b.mp4\n",
      "Loading  c:\\Users\\rober\\Desktop\\Monkey-Emotions\\video\\gandalf_231205\\gandalf_231205_246_e3v831b.mp4\n",
      "Duration of video [s]:  15.12 , recorded with  120.0 fps!\n",
      "Overall # of frames:  1814  found with (before cropping) frame dimensions:  640 480\n",
      "Starting to extract posture\n"
     ]
    },
    {
     "name": "stderr",
     "output_type": "stream",
     "text": [
      "100%|██████████| 1814/1814 [06:12<00:00,  4.86it/s]\n"
     ]
    },
    {
     "name": "stdout",
     "output_type": "stream",
     "text": [
      "Saving results in c:\\Users\\rober\\Desktop\\Monkey-Emotions\\video\\gandalf_231205...\n",
      "Saving csv poses!\n",
      "Starting to analyze %  c:\\Users\\rober\\Desktop\\Monkey-Emotions\\video\\gandalf_231205\\gandalf_231205_247_e3v831b.mp4\n",
      "Loading  c:\\Users\\rober\\Desktop\\Monkey-Emotions\\video\\gandalf_231205\\gandalf_231205_247_e3v831b.mp4\n",
      "Duration of video [s]:  10.43 , recorded with  120.0 fps!\n",
      "Overall # of frames:  1252  found with (before cropping) frame dimensions:  640 480\n",
      "Starting to extract posture\n"
     ]
    },
    {
     "name": "stderr",
     "output_type": "stream",
     "text": [
      "100%|██████████| 1252/1252 [04:18<00:00,  4.85it/s]\n"
     ]
    },
    {
     "name": "stdout",
     "output_type": "stream",
     "text": [
      "Saving results in c:\\Users\\rober\\Desktop\\Monkey-Emotions\\video\\gandalf_231205...\n",
      "Saving csv poses!\n",
      "Starting to analyze %  c:\\Users\\rober\\Desktop\\Monkey-Emotions\\video\\gandalf_231205\\gandalf_231205_248_e3v831b.mp4\n",
      "Loading  c:\\Users\\rober\\Desktop\\Monkey-Emotions\\video\\gandalf_231205\\gandalf_231205_248_e3v831b.mp4\n",
      "Duration of video [s]:  14.3 , recorded with  120.0 fps!\n",
      "Overall # of frames:  1716  found with (before cropping) frame dimensions:  640 480\n",
      "Starting to extract posture\n"
     ]
    },
    {
     "name": "stderr",
     "output_type": "stream",
     "text": [
      "100%|██████████| 1716/1716 [05:53<00:00,  4.86it/s]\n"
     ]
    },
    {
     "name": "stdout",
     "output_type": "stream",
     "text": [
      "Saving results in c:\\Users\\rober\\Desktop\\Monkey-Emotions\\video\\gandalf_231205...\n",
      "Saving csv poses!\n",
      "Starting to analyze %  c:\\Users\\rober\\Desktop\\Monkey-Emotions\\video\\gandalf_231205\\gandalf_231205_249_e3v831b.mp4\n",
      "Loading  c:\\Users\\rober\\Desktop\\Monkey-Emotions\\video\\gandalf_231205\\gandalf_231205_249_e3v831b.mp4\n",
      "Duration of video [s]:  17.84 , recorded with  120.0 fps!\n",
      "Overall # of frames:  2141  found with (before cropping) frame dimensions:  640 480\n",
      "Starting to extract posture\n"
     ]
    },
    {
     "name": "stderr",
     "output_type": "stream",
     "text": [
      "100%|██████████| 2141/2141 [07:20<00:00,  4.86it/s]\n"
     ]
    },
    {
     "name": "stdout",
     "output_type": "stream",
     "text": [
      "Saving results in c:\\Users\\rober\\Desktop\\Monkey-Emotions\\video\\gandalf_231205...\n",
      "Saving csv poses!\n",
      "Starting to analyze %  c:\\Users\\rober\\Desktop\\Monkey-Emotions\\video\\gandalf_231205\\gandalf_231205_250_e3v831b.mp4\n",
      "Loading  c:\\Users\\rober\\Desktop\\Monkey-Emotions\\video\\gandalf_231205\\gandalf_231205_250_e3v831b.mp4\n",
      "Duration of video [s]:  12.18 , recorded with  120.0 fps!\n",
      "Overall # of frames:  1462  found with (before cropping) frame dimensions:  640 480\n",
      "Starting to extract posture\n"
     ]
    },
    {
     "name": "stderr",
     "output_type": "stream",
     "text": [
      "100%|██████████| 1462/1462 [05:02<00:00,  4.83it/s]\n"
     ]
    },
    {
     "name": "stdout",
     "output_type": "stream",
     "text": [
      "Saving results in c:\\Users\\rober\\Desktop\\Monkey-Emotions\\video\\gandalf_231205...\n",
      "Saving csv poses!\n",
      "Starting to analyze %  c:\\Users\\rober\\Desktop\\Monkey-Emotions\\video\\gandalf_231205\\gandalf_231205_251_e3v831b.mp4\n",
      "Loading  c:\\Users\\rober\\Desktop\\Monkey-Emotions\\video\\gandalf_231205\\gandalf_231205_251_e3v831b.mp4\n",
      "Duration of video [s]:  11.28 , recorded with  120.0 fps!\n",
      "Overall # of frames:  1354  found with (before cropping) frame dimensions:  640 480\n",
      "Starting to extract posture\n"
     ]
    },
    {
     "name": "stderr",
     "output_type": "stream",
     "text": [
      "100%|██████████| 1354/1354 [04:40<00:00,  4.83it/s]\n"
     ]
    },
    {
     "name": "stdout",
     "output_type": "stream",
     "text": [
      "Saving results in c:\\Users\\rober\\Desktop\\Monkey-Emotions\\video\\gandalf_231205...\n",
      "Saving csv poses!\n",
      "Starting to analyze %  c:\\Users\\rober\\Desktop\\Monkey-Emotions\\video\\gandalf_231205\\gandalf_231205_252_e3v831b.mp4\n",
      "Loading  c:\\Users\\rober\\Desktop\\Monkey-Emotions\\video\\gandalf_231205\\gandalf_231205_252_e3v831b.mp4\n",
      "Duration of video [s]:  13.35 , recorded with  120.0 fps!\n",
      "Overall # of frames:  1602  found with (before cropping) frame dimensions:  640 480\n",
      "Starting to extract posture\n"
     ]
    },
    {
     "name": "stderr",
     "output_type": "stream",
     "text": [
      "100%|██████████| 1602/1602 [05:29<00:00,  4.85it/s]\n"
     ]
    },
    {
     "name": "stdout",
     "output_type": "stream",
     "text": [
      "Saving results in c:\\Users\\rober\\Desktop\\Monkey-Emotions\\video\\gandalf_231205...\n",
      "Saving csv poses!\n",
      "Starting to analyze %  c:\\Users\\rober\\Desktop\\Monkey-Emotions\\video\\gandalf_231205\\gandalf_231205_253_e3v831b.mp4\n",
      "Loading  c:\\Users\\rober\\Desktop\\Monkey-Emotions\\video\\gandalf_231205\\gandalf_231205_253_e3v831b.mp4\n",
      "Duration of video [s]:  9.92 , recorded with  120.0 fps!\n",
      "Overall # of frames:  1190  found with (before cropping) frame dimensions:  640 480\n",
      "Starting to extract posture\n"
     ]
    },
    {
     "name": "stderr",
     "output_type": "stream",
     "text": [
      "100%|██████████| 1190/1190 [04:05<00:00,  4.85it/s]\n"
     ]
    },
    {
     "name": "stdout",
     "output_type": "stream",
     "text": [
      "Saving results in c:\\Users\\rober\\Desktop\\Monkey-Emotions\\video\\gandalf_231205...\n",
      "Saving csv poses!\n",
      "Starting to analyze %  c:\\Users\\rober\\Desktop\\Monkey-Emotions\\video\\gandalf_231205\\gandalf_231205_254_e3v831b.mp4\n",
      "Loading  c:\\Users\\rober\\Desktop\\Monkey-Emotions\\video\\gandalf_231205\\gandalf_231205_254_e3v831b.mp4\n",
      "Duration of video [s]:  16.76 , recorded with  120.0 fps!\n",
      "Overall # of frames:  2011  found with (before cropping) frame dimensions:  640 480\n",
      "Starting to extract posture\n"
     ]
    },
    {
     "name": "stderr",
     "output_type": "stream",
     "text": [
      "100%|██████████| 2011/2011 [06:54<00:00,  4.85it/s]\n"
     ]
    },
    {
     "name": "stdout",
     "output_type": "stream",
     "text": [
      "Saving results in c:\\Users\\rober\\Desktop\\Monkey-Emotions\\video\\gandalf_231205...\n",
      "Saving csv poses!\n",
      "Starting to analyze %  c:\\Users\\rober\\Desktop\\Monkey-Emotions\\video\\gandalf_231205\\gandalf_231205_255_e3v831b.mp4\n",
      "Loading  c:\\Users\\rober\\Desktop\\Monkey-Emotions\\video\\gandalf_231205\\gandalf_231205_255_e3v831b.mp4\n",
      "Duration of video [s]:  12.32 , recorded with  120.0 fps!\n",
      "Overall # of frames:  1478  found with (before cropping) frame dimensions:  640 480\n",
      "Starting to extract posture\n"
     ]
    },
    {
     "name": "stderr",
     "output_type": "stream",
     "text": [
      "100%|██████████| 1478/1478 [05:04<00:00,  4.85it/s]\n"
     ]
    },
    {
     "name": "stdout",
     "output_type": "stream",
     "text": [
      "Saving results in c:\\Users\\rober\\Desktop\\Monkey-Emotions\\video\\gandalf_231205...\n",
      "Saving csv poses!\n",
      "Starting to analyze %  c:\\Users\\rober\\Desktop\\Monkey-Emotions\\video\\gandalf_231205\\gandalf_231205_256_e3v831b.mp4\n",
      "Loading  c:\\Users\\rober\\Desktop\\Monkey-Emotions\\video\\gandalf_231205\\gandalf_231205_256_e3v831b.mp4\n",
      "Duration of video [s]:  14.16 , recorded with  120.0 fps!\n",
      "Overall # of frames:  1699  found with (before cropping) frame dimensions:  640 480\n",
      "Starting to extract posture\n"
     ]
    },
    {
     "name": "stderr",
     "output_type": "stream",
     "text": [
      "100%|██████████| 1699/1699 [05:48<00:00,  4.88it/s]\n"
     ]
    },
    {
     "name": "stdout",
     "output_type": "stream",
     "text": [
      "Saving results in c:\\Users\\rober\\Desktop\\Monkey-Emotions\\video\\gandalf_231205...\n",
      "Saving csv poses!\n",
      "Starting to analyze %  c:\\Users\\rober\\Desktop\\Monkey-Emotions\\video\\gandalf_231205\\gandalf_231205_257_e3v831b.mp4\n",
      "Loading  c:\\Users\\rober\\Desktop\\Monkey-Emotions\\video\\gandalf_231205\\gandalf_231205_257_e3v831b.mp4\n",
      "Duration of video [s]:  16.94 , recorded with  120.0 fps!\n",
      "Overall # of frames:  2033  found with (before cropping) frame dimensions:  640 480\n",
      "Starting to extract posture\n"
     ]
    },
    {
     "name": "stderr",
     "output_type": "stream",
     "text": [
      "100%|██████████| 2033/2033 [06:57<00:00,  4.87it/s]\n"
     ]
    },
    {
     "name": "stdout",
     "output_type": "stream",
     "text": [
      "Saving results in c:\\Users\\rober\\Desktop\\Monkey-Emotions\\video\\gandalf_231205...\n",
      "Saving csv poses!\n",
      "Starting to analyze %  c:\\Users\\rober\\Desktop\\Monkey-Emotions\\video\\gandalf_231205\\gandalf_231205_258_e3v831b.mp4\n",
      "Loading  c:\\Users\\rober\\Desktop\\Monkey-Emotions\\video\\gandalf_231205\\gandalf_231205_258_e3v831b.mp4\n",
      "Duration of video [s]:  51.03 , recorded with  120.0 fps!\n",
      "Overall # of frames:  6124  found with (before cropping) frame dimensions:  640 480\n",
      "Starting to extract posture\n"
     ]
    },
    {
     "name": "stderr",
     "output_type": "stream",
     "text": [
      "100%|██████████| 6124/6124 [20:54<00:00,  4.88it/s]\n"
     ]
    },
    {
     "name": "stdout",
     "output_type": "stream",
     "text": [
      "Saving results in c:\\Users\\rober\\Desktop\\Monkey-Emotions\\video\\gandalf_231205...\n",
      "Saving csv poses!\n",
      "Starting to analyze %  c:\\Users\\rober\\Desktop\\Monkey-Emotions\\video\\gandalf_231205\\gandalf_231205_259_e3v831b.mp4\n",
      "Loading  c:\\Users\\rober\\Desktop\\Monkey-Emotions\\video\\gandalf_231205\\gandalf_231205_259_e3v831b.mp4\n",
      "Duration of video [s]:  27.18 , recorded with  120.0 fps!\n",
      "Overall # of frames:  3262  found with (before cropping) frame dimensions:  640 480\n",
      "Starting to extract posture\n"
     ]
    },
    {
     "name": "stderr",
     "output_type": "stream",
     "text": [
      "100%|██████████| 3262/3262 [11:08<00:00,  4.88it/s]\n"
     ]
    },
    {
     "name": "stdout",
     "output_type": "stream",
     "text": [
      "Saving results in c:\\Users\\rober\\Desktop\\Monkey-Emotions\\video\\gandalf_231205...\n",
      "Saving csv poses!\n",
      "Starting to analyze %  c:\\Users\\rober\\Desktop\\Monkey-Emotions\\video\\gandalf_231205\\gandalf_231205_260_e3v831b.mp4\n",
      "Loading  c:\\Users\\rober\\Desktop\\Monkey-Emotions\\video\\gandalf_231205\\gandalf_231205_260_e3v831b.mp4\n",
      "Duration of video [s]:  16.27 , recorded with  120.0 fps!\n",
      "Overall # of frames:  1952  found with (before cropping) frame dimensions:  640 480\n",
      "Starting to extract posture\n"
     ]
    },
    {
     "name": "stderr",
     "output_type": "stream",
     "text": [
      "100%|██████████| 1952/1952 [06:39<00:00,  4.89it/s]\n"
     ]
    },
    {
     "name": "stdout",
     "output_type": "stream",
     "text": [
      "Saving results in c:\\Users\\rober\\Desktop\\Monkey-Emotions\\video\\gandalf_231205...\n",
      "Saving csv poses!\n",
      "Starting to analyze %  c:\\Users\\rober\\Desktop\\Monkey-Emotions\\video\\gandalf_231205\\gandalf_231205_261_e3v831b.mp4\n",
      "Loading  c:\\Users\\rober\\Desktop\\Monkey-Emotions\\video\\gandalf_231205\\gandalf_231205_261_e3v831b.mp4\n",
      "Duration of video [s]:  18.07 , recorded with  120.0 fps!\n",
      "Overall # of frames:  2169  found with (before cropping) frame dimensions:  640 480\n",
      "Starting to extract posture\n"
     ]
    },
    {
     "name": "stderr",
     "output_type": "stream",
     "text": [
      "100%|██████████| 2169/2169 [07:24<00:00,  4.88it/s]\n"
     ]
    },
    {
     "name": "stdout",
     "output_type": "stream",
     "text": [
      "Saving results in c:\\Users\\rober\\Desktop\\Monkey-Emotions\\video\\gandalf_231205...\n",
      "Saving csv poses!\n",
      "Starting to analyze %  c:\\Users\\rober\\Desktop\\Monkey-Emotions\\video\\gandalf_231205\\gandalf_231205_262_e3v831b.mp4\n",
      "Loading  c:\\Users\\rober\\Desktop\\Monkey-Emotions\\video\\gandalf_231205\\gandalf_231205_262_e3v831b.mp4\n",
      "Duration of video [s]:  14.93 , recorded with  120.0 fps!\n",
      "Overall # of frames:  1791  found with (before cropping) frame dimensions:  640 480\n",
      "Starting to extract posture\n"
     ]
    },
    {
     "name": "stderr",
     "output_type": "stream",
     "text": [
      "100%|██████████| 1791/1791 [06:05<00:00,  4.90it/s]\n"
     ]
    },
    {
     "name": "stdout",
     "output_type": "stream",
     "text": [
      "Saving results in c:\\Users\\rober\\Desktop\\Monkey-Emotions\\video\\gandalf_231205...\n",
      "Saving csv poses!\n",
      "Starting to analyze %  c:\\Users\\rober\\Desktop\\Monkey-Emotions\\video\\gandalf_231205\\gandalf_231205_263_e3v831b.mp4\n",
      "Loading  c:\\Users\\rober\\Desktop\\Monkey-Emotions\\video\\gandalf_231205\\gandalf_231205_263_e3v831b.mp4\n",
      "Duration of video [s]:  13.75 , recorded with  120.0 fps!\n",
      "Overall # of frames:  1650  found with (before cropping) frame dimensions:  640 480\n",
      "Starting to extract posture\n"
     ]
    },
    {
     "name": "stderr",
     "output_type": "stream",
     "text": [
      "100%|██████████| 1650/1650 [05:39<00:00,  4.87it/s]\n"
     ]
    },
    {
     "name": "stdout",
     "output_type": "stream",
     "text": [
      "Saving results in c:\\Users\\rober\\Desktop\\Monkey-Emotions\\video\\gandalf_231205...\n",
      "Saving csv poses!\n",
      "Starting to analyze %  c:\\Users\\rober\\Desktop\\Monkey-Emotions\\video\\gandalf_231205\\gandalf_231205_264_e3v831b.mp4\n",
      "Loading  c:\\Users\\rober\\Desktop\\Monkey-Emotions\\video\\gandalf_231205\\gandalf_231205_264_e3v831b.mp4\n",
      "Duration of video [s]:  16.57 , recorded with  120.0 fps!\n",
      "Overall # of frames:  1989  found with (before cropping) frame dimensions:  640 480\n",
      "Starting to extract posture\n"
     ]
    },
    {
     "name": "stderr",
     "output_type": "stream",
     "text": [
      "100%|██████████| 1989/1989 [06:47<00:00,  4.88it/s]\n"
     ]
    },
    {
     "name": "stdout",
     "output_type": "stream",
     "text": [
      "Saving results in c:\\Users\\rober\\Desktop\\Monkey-Emotions\\video\\gandalf_231205...\n",
      "Saving csv poses!\n",
      "Starting to analyze %  c:\\Users\\rober\\Desktop\\Monkey-Emotions\\video\\gandalf_231205\\gandalf_231205_265_e3v831b.mp4\n",
      "Loading  c:\\Users\\rober\\Desktop\\Monkey-Emotions\\video\\gandalf_231205\\gandalf_231205_265_e3v831b.mp4\n",
      "Duration of video [s]:  13.62 , recorded with  120.0 fps!\n",
      "Overall # of frames:  1634  found with (before cropping) frame dimensions:  640 480\n",
      "Starting to extract posture\n"
     ]
    },
    {
     "name": "stderr",
     "output_type": "stream",
     "text": [
      "100%|██████████| 1634/1634 [05:36<00:00,  4.86it/s]\n"
     ]
    },
    {
     "name": "stdout",
     "output_type": "stream",
     "text": [
      "Saving results in c:\\Users\\rober\\Desktop\\Monkey-Emotions\\video\\gandalf_231205...\n",
      "Saving csv poses!\n",
      "Starting to analyze %  c:\\Users\\rober\\Desktop\\Monkey-Emotions\\video\\gandalf_231205\\gandalf_231205_266_e3v831b.mp4\n",
      "Loading  c:\\Users\\rober\\Desktop\\Monkey-Emotions\\video\\gandalf_231205\\gandalf_231205_266_e3v831b.mp4\n",
      "Duration of video [s]:  17.31 , recorded with  120.0 fps!\n",
      "Overall # of frames:  2077  found with (before cropping) frame dimensions:  640 480\n",
      "Starting to extract posture\n"
     ]
    },
    {
     "name": "stderr",
     "output_type": "stream",
     "text": [
      "100%|██████████| 2077/2077 [07:07<00:00,  4.86it/s]\n"
     ]
    },
    {
     "name": "stdout",
     "output_type": "stream",
     "text": [
      "Saving results in c:\\Users\\rober\\Desktop\\Monkey-Emotions\\video\\gandalf_231205...\n",
      "Saving csv poses!\n",
      "Starting to analyze %  c:\\Users\\rober\\Desktop\\Monkey-Emotions\\video\\gandalf_231205\\gandalf_231205_267_e3v831b.mp4\n",
      "Loading  c:\\Users\\rober\\Desktop\\Monkey-Emotions\\video\\gandalf_231205\\gandalf_231205_267_e3v831b.mp4\n",
      "Duration of video [s]:  12.4 , recorded with  120.0 fps!\n",
      "Overall # of frames:  1488  found with (before cropping) frame dimensions:  640 480\n",
      "Starting to extract posture\n"
     ]
    },
    {
     "name": "stderr",
     "output_type": "stream",
     "text": [
      "100%|██████████| 1488/1488 [05:03<00:00,  4.90it/s]\n"
     ]
    },
    {
     "name": "stdout",
     "output_type": "stream",
     "text": [
      "Saving results in c:\\Users\\rober\\Desktop\\Monkey-Emotions\\video\\gandalf_231205...\n",
      "Saving csv poses!\n",
      "Starting to analyze %  c:\\Users\\rober\\Desktop\\Monkey-Emotions\\video\\gandalf_231205\\gandalf_231205_268_e3v831b.mp4\n",
      "Loading  c:\\Users\\rober\\Desktop\\Monkey-Emotions\\video\\gandalf_231205\\gandalf_231205_268_e3v831b.mp4\n",
      "Duration of video [s]:  16.48 , recorded with  120.0 fps!\n",
      "Overall # of frames:  1977  found with (before cropping) frame dimensions:  640 480\n",
      "Starting to extract posture\n"
     ]
    },
    {
     "name": "stderr",
     "output_type": "stream",
     "text": [
      "100%|██████████| 1977/1977 [06:45<00:00,  4.88it/s]\n"
     ]
    },
    {
     "name": "stdout",
     "output_type": "stream",
     "text": [
      "Saving results in c:\\Users\\rober\\Desktop\\Monkey-Emotions\\video\\gandalf_231205...\n",
      "Saving csv poses!\n",
      "Starting to analyze %  c:\\Users\\rober\\Desktop\\Monkey-Emotions\\video\\gandalf_231205\\gandalf_231205_269_e3v831b.mp4\n",
      "Loading  c:\\Users\\rober\\Desktop\\Monkey-Emotions\\video\\gandalf_231205\\gandalf_231205_269_e3v831b.mp4\n",
      "Duration of video [s]:  15.65 , recorded with  120.0 fps!\n",
      "Overall # of frames:  1878  found with (before cropping) frame dimensions:  640 480\n",
      "Starting to extract posture\n"
     ]
    },
    {
     "name": "stderr",
     "output_type": "stream",
     "text": [
      "100%|██████████| 1878/1878 [06:24<00:00,  4.89it/s]\n"
     ]
    },
    {
     "name": "stdout",
     "output_type": "stream",
     "text": [
      "Saving results in c:\\Users\\rober\\Desktop\\Monkey-Emotions\\video\\gandalf_231205...\n",
      "Saving csv poses!\n",
      "Starting to analyze %  c:\\Users\\rober\\Desktop\\Monkey-Emotions\\video\\gandalf_231205\\gandalf_231205_270_e3v831b.mp4\n",
      "Loading  c:\\Users\\rober\\Desktop\\Monkey-Emotions\\video\\gandalf_231205\\gandalf_231205_270_e3v831b.mp4\n",
      "Duration of video [s]:  15.43 , recorded with  120.0 fps!\n",
      "Overall # of frames:  1851  found with (before cropping) frame dimensions:  640 480\n",
      "Starting to extract posture\n"
     ]
    },
    {
     "name": "stderr",
     "output_type": "stream",
     "text": [
      "100%|██████████| 1851/1851 [06:21<00:00,  4.85it/s]\n"
     ]
    },
    {
     "name": "stdout",
     "output_type": "stream",
     "text": [
      "Saving results in c:\\Users\\rober\\Desktop\\Monkey-Emotions\\video\\gandalf_231205...\n",
      "Saving csv poses!\n",
      "Starting to analyze %  c:\\Users\\rober\\Desktop\\Monkey-Emotions\\video\\gandalf_231205\\gandalf_231205_271_e3v831b.mp4\n",
      "Loading  c:\\Users\\rober\\Desktop\\Monkey-Emotions\\video\\gandalf_231205\\gandalf_231205_271_e3v831b.mp4\n",
      "Duration of video [s]:  14.98 , recorded with  120.0 fps!\n",
      "Overall # of frames:  1798  found with (before cropping) frame dimensions:  640 480\n",
      "Starting to extract posture\n"
     ]
    },
    {
     "name": "stderr",
     "output_type": "stream",
     "text": [
      "100%|██████████| 1798/1798 [06:15<00:00,  4.79it/s]\n"
     ]
    },
    {
     "name": "stdout",
     "output_type": "stream",
     "text": [
      "Saving results in c:\\Users\\rober\\Desktop\\Monkey-Emotions\\video\\gandalf_231205...\n",
      "Saving csv poses!\n",
      "Starting to analyze %  c:\\Users\\rober\\Desktop\\Monkey-Emotions\\video\\gandalf_231205\\gandalf_231205_272_e3v831b.mp4\n",
      "Loading  c:\\Users\\rober\\Desktop\\Monkey-Emotions\\video\\gandalf_231205\\gandalf_231205_272_e3v831b.mp4\n",
      "Duration of video [s]:  12.38 , recorded with  120.0 fps!\n",
      "Overall # of frames:  1486  found with (before cropping) frame dimensions:  640 480\n",
      "Starting to extract posture\n"
     ]
    },
    {
     "name": "stderr",
     "output_type": "stream",
     "text": [
      "100%|██████████| 1486/1486 [05:09<00:00,  4.81it/s]\n"
     ]
    },
    {
     "name": "stdout",
     "output_type": "stream",
     "text": [
      "Saving results in c:\\Users\\rober\\Desktop\\Monkey-Emotions\\video\\gandalf_231205...\n",
      "Saving csv poses!\n",
      "Starting to analyze %  c:\\Users\\rober\\Desktop\\Monkey-Emotions\\video\\gandalf_231205\\gandalf_231205_273_e3v831b.mp4\n",
      "Loading  c:\\Users\\rober\\Desktop\\Monkey-Emotions\\video\\gandalf_231205\\gandalf_231205_273_e3v831b.mp4\n",
      "Duration of video [s]:  16.86 , recorded with  120.0 fps!\n",
      "Overall # of frames:  2023  found with (before cropping) frame dimensions:  640 480\n",
      "Starting to extract posture\n"
     ]
    },
    {
     "name": "stderr",
     "output_type": "stream",
     "text": [
      "100%|██████████| 2023/2023 [06:52<00:00,  4.90it/s]\n"
     ]
    },
    {
     "name": "stdout",
     "output_type": "stream",
     "text": [
      "Saving results in c:\\Users\\rober\\Desktop\\Monkey-Emotions\\video\\gandalf_231205...\n",
      "Saving csv poses!\n",
      "Starting to analyze %  c:\\Users\\rober\\Desktop\\Monkey-Emotions\\video\\gandalf_231205\\gandalf_231205_274_e3v831b.mp4\n",
      "Loading  c:\\Users\\rober\\Desktop\\Monkey-Emotions\\video\\gandalf_231205\\gandalf_231205_274_e3v831b.mp4\n",
      "Duration of video [s]:  14.68 , recorded with  120.0 fps!\n",
      "Overall # of frames:  1762  found with (before cropping) frame dimensions:  640 480\n",
      "Starting to extract posture\n"
     ]
    },
    {
     "name": "stderr",
     "output_type": "stream",
     "text": [
      "100%|██████████| 1762/1762 [06:01<00:00,  4.88it/s]\n"
     ]
    },
    {
     "name": "stdout",
     "output_type": "stream",
     "text": [
      "Saving results in c:\\Users\\rober\\Desktop\\Monkey-Emotions\\video\\gandalf_231205...\n",
      "Saving csv poses!\n",
      "Starting to analyze %  c:\\Users\\rober\\Desktop\\Monkey-Emotions\\video\\gandalf_231205\\gandalf_231205_275_e3v831b.mp4\n",
      "Loading  c:\\Users\\rober\\Desktop\\Monkey-Emotions\\video\\gandalf_231205\\gandalf_231205_275_e3v831b.mp4\n",
      "Duration of video [s]:  17.93 , recorded with  120.0 fps!\n",
      "Overall # of frames:  2151  found with (before cropping) frame dimensions:  640 480\n",
      "Starting to extract posture\n"
     ]
    },
    {
     "name": "stderr",
     "output_type": "stream",
     "text": [
      "100%|██████████| 2151/2151 [07:18<00:00,  4.90it/s]\n"
     ]
    },
    {
     "name": "stdout",
     "output_type": "stream",
     "text": [
      "Saving results in c:\\Users\\rober\\Desktop\\Monkey-Emotions\\video\\gandalf_231205...\n",
      "Saving csv poses!\n",
      "Starting to analyze %  c:\\Users\\rober\\Desktop\\Monkey-Emotions\\video\\gandalf_231205\\gandalf_231205_276_e3v831b.mp4\n",
      "Loading  c:\\Users\\rober\\Desktop\\Monkey-Emotions\\video\\gandalf_231205\\gandalf_231205_276_e3v831b.mp4\n",
      "Duration of video [s]:  16.01 , recorded with  120.0 fps!\n",
      "Overall # of frames:  1921  found with (before cropping) frame dimensions:  640 480\n",
      "Starting to extract posture\n"
     ]
    },
    {
     "name": "stderr",
     "output_type": "stream",
     "text": [
      "100%|██████████| 1921/1921 [06:34<00:00,  4.87it/s]\n"
     ]
    },
    {
     "name": "stdout",
     "output_type": "stream",
     "text": [
      "Saving results in c:\\Users\\rober\\Desktop\\Monkey-Emotions\\video\\gandalf_231205...\n",
      "Saving csv poses!\n",
      "Starting to analyze %  c:\\Users\\rober\\Desktop\\Monkey-Emotions\\video\\gandalf_231205\\gandalf_231205_277_e3v831b.mp4\n",
      "Loading  c:\\Users\\rober\\Desktop\\Monkey-Emotions\\video\\gandalf_231205\\gandalf_231205_277_e3v831b.mp4\n",
      "Duration of video [s]:  17.25 , recorded with  120.0 fps!\n",
      "Overall # of frames:  2070  found with (before cropping) frame dimensions:  640 480\n",
      "Starting to extract posture\n"
     ]
    },
    {
     "name": "stderr",
     "output_type": "stream",
     "text": [
      "100%|██████████| 2070/2070 [07:02<00:00,  4.90it/s]\n"
     ]
    },
    {
     "name": "stdout",
     "output_type": "stream",
     "text": [
      "Saving results in c:\\Users\\rober\\Desktop\\Monkey-Emotions\\video\\gandalf_231205...\n",
      "Saving csv poses!\n",
      "Starting to analyze %  c:\\Users\\rober\\Desktop\\Monkey-Emotions\\video\\gandalf_231205\\gandalf_231205_278_e3v831b.mp4\n",
      "Loading  c:\\Users\\rober\\Desktop\\Monkey-Emotions\\video\\gandalf_231205\\gandalf_231205_278_e3v831b.mp4\n",
      "Duration of video [s]:  18.82 , recorded with  120.0 fps!\n",
      "Overall # of frames:  2259  found with (before cropping) frame dimensions:  640 480\n",
      "Starting to extract posture\n"
     ]
    },
    {
     "name": "stderr",
     "output_type": "stream",
     "text": [
      "100%|██████████| 2259/2259 [07:41<00:00,  4.90it/s]\n"
     ]
    },
    {
     "name": "stdout",
     "output_type": "stream",
     "text": [
      "Saving results in c:\\Users\\rober\\Desktop\\Monkey-Emotions\\video\\gandalf_231205...\n",
      "Saving csv poses!\n",
      "Starting to analyze %  c:\\Users\\rober\\Desktop\\Monkey-Emotions\\video\\gandalf_231205\\gandalf_231205_279_e3v831b.mp4\n",
      "Loading  c:\\Users\\rober\\Desktop\\Monkey-Emotions\\video\\gandalf_231205\\gandalf_231205_279_e3v831b.mp4\n",
      "Duration of video [s]:  12.53 , recorded with  120.0 fps!\n",
      "Overall # of frames:  1504  found with (before cropping) frame dimensions:  640 480\n",
      "Starting to extract posture\n"
     ]
    },
    {
     "name": "stderr",
     "output_type": "stream",
     "text": [
      "100%|██████████| 1504/1504 [05:07<00:00,  4.90it/s]\n"
     ]
    },
    {
     "name": "stdout",
     "output_type": "stream",
     "text": [
      "Saving results in c:\\Users\\rober\\Desktop\\Monkey-Emotions\\video\\gandalf_231205...\n",
      "Saving csv poses!\n",
      "Starting to analyze %  c:\\Users\\rober\\Desktop\\Monkey-Emotions\\video\\gandalf_231205\\gandalf_231205_280_e3v831b.mp4\n",
      "Loading  c:\\Users\\rober\\Desktop\\Monkey-Emotions\\video\\gandalf_231205\\gandalf_231205_280_e3v831b.mp4\n",
      "Duration of video [s]:  51.18 , recorded with  120.0 fps!\n",
      "Overall # of frames:  6142  found with (before cropping) frame dimensions:  640 480\n",
      "Starting to extract posture\n"
     ]
    },
    {
     "name": "stderr",
     "output_type": "stream",
     "text": [
      "100%|██████████| 6142/6142 [20:49<00:00,  4.92it/s]\n"
     ]
    },
    {
     "name": "stdout",
     "output_type": "stream",
     "text": [
      "Saving results in c:\\Users\\rober\\Desktop\\Monkey-Emotions\\video\\gandalf_231205...\n",
      "Saving csv poses!\n",
      "Starting to analyze %  c:\\Users\\rober\\Desktop\\Monkey-Emotions\\video\\gandalf_231205\\gandalf_231205_282_e3v831b.mp4\n",
      "Loading  c:\\Users\\rober\\Desktop\\Monkey-Emotions\\video\\gandalf_231205\\gandalf_231205_282_e3v831b.mp4\n",
      "Duration of video [s]:  55.63 , recorded with  120.0 fps!\n",
      "Overall # of frames:  6676  found with (before cropping) frame dimensions:  640 480\n",
      "Starting to extract posture\n"
     ]
    },
    {
     "name": "stderr",
     "output_type": "stream",
     "text": [
      "100%|██████████| 6676/6676 [22:38<00:00,  4.92it/s]\n"
     ]
    },
    {
     "name": "stdout",
     "output_type": "stream",
     "text": [
      "Saving results in c:\\Users\\rober\\Desktop\\Monkey-Emotions\\video\\gandalf_231205...\n",
      "Saving csv poses!\n",
      "Starting to analyze %  c:\\Users\\rober\\Desktop\\Monkey-Emotions\\video\\gandalf_231205\\gandalf_231205_283_e3v831b.mp4\n",
      "Loading  c:\\Users\\rober\\Desktop\\Monkey-Emotions\\video\\gandalf_231205\\gandalf_231205_283_e3v831b.mp4\n",
      "Duration of video [s]:  55.72 , recorded with  120.0 fps!\n",
      "Overall # of frames:  6686  found with (before cropping) frame dimensions:  640 480\n",
      "Starting to extract posture\n"
     ]
    },
    {
     "name": "stderr",
     "output_type": "stream",
     "text": [
      "100%|██████████| 6686/6686 [22:40<00:00,  4.92it/s]\n"
     ]
    },
    {
     "name": "stdout",
     "output_type": "stream",
     "text": [
      "Saving results in c:\\Users\\rober\\Desktop\\Monkey-Emotions\\video\\gandalf_231205...\n",
      "Saving csv poses!\n",
      "Starting to analyze %  c:\\Users\\rober\\Desktop\\Monkey-Emotions\\video\\gandalf_231205\\gandalf_231205_284_e3v831b.mp4\n",
      "Loading  c:\\Users\\rober\\Desktop\\Monkey-Emotions\\video\\gandalf_231205\\gandalf_231205_284_e3v831b.mp4\n",
      "Duration of video [s]:  55.73 , recorded with  120.0 fps!\n",
      "Overall # of frames:  6687  found with (before cropping) frame dimensions:  640 480\n",
      "Starting to extract posture\n"
     ]
    },
    {
     "name": "stderr",
     "output_type": "stream",
     "text": [
      "100%|██████████| 6687/6687 [22:42<00:00,  4.91it/s]\n"
     ]
    },
    {
     "name": "stdout",
     "output_type": "stream",
     "text": [
      "Saving results in c:\\Users\\rober\\Desktop\\Monkey-Emotions\\video\\gandalf_231205...\n",
      "Saving csv poses!\n",
      "The videos are analyzed. Now your research can truly start! \n",
      " You can create labeled videos with 'create_labeled_video'\n",
      "If the tracking is not satisfactory for some videos, consider expanding the training set. You can use the function 'extract_outlier_frames' to extract a few representative outlier frames.\n",
      "Filtering with median model c:\\Users\\rober\\Desktop\\Monkey-Emotions\\video\\gandalf_231205\\gandalf_231205_0_e3v831b.mp4\n",
      "Saving filtered csv poses!\n",
      "Filtering with median model c:\\Users\\rober\\Desktop\\Monkey-Emotions\\video\\gandalf_231205\\gandalf_231205_1_e3v831b.mp4\n",
      "Saving filtered csv poses!\n",
      "Filtering with median model c:\\Users\\rober\\Desktop\\Monkey-Emotions\\video\\gandalf_231205\\gandalf_231205_2_e3v831b.mp4\n",
      "Saving filtered csv poses!\n",
      "Filtering with median model c:\\Users\\rober\\Desktop\\Monkey-Emotions\\video\\gandalf_231205\\gandalf_231205_3_e3v831b.mp4\n",
      "Saving filtered csv poses!\n",
      "Filtering with median model c:\\Users\\rober\\Desktop\\Monkey-Emotions\\video\\gandalf_231205\\gandalf_231205_4_e3v831b.mp4\n",
      "Saving filtered csv poses!\n",
      "Filtering with median model c:\\Users\\rober\\Desktop\\Monkey-Emotions\\video\\gandalf_231205\\gandalf_231205_5_e3v831b.mp4\n",
      "Saving filtered csv poses!\n",
      "Filtering with median model c:\\Users\\rober\\Desktop\\Monkey-Emotions\\video\\gandalf_231205\\gandalf_231205_6_e3v831b.mp4\n",
      "Saving filtered csv poses!\n",
      "Filtering with median model c:\\Users\\rober\\Desktop\\Monkey-Emotions\\video\\gandalf_231205\\gandalf_231205_7_e3v831b.mp4\n",
      "Saving filtered csv poses!\n",
      "Filtering with median model c:\\Users\\rober\\Desktop\\Monkey-Emotions\\video\\gandalf_231205\\gandalf_231205_8_e3v831b.mp4\n",
      "Saving filtered csv poses!\n",
      "Filtering with median model c:\\Users\\rober\\Desktop\\Monkey-Emotions\\video\\gandalf_231205\\gandalf_231205_9_e3v831b.mp4\n",
      "Saving filtered csv poses!\n",
      "Filtering with median model c:\\Users\\rober\\Desktop\\Monkey-Emotions\\video\\gandalf_231205\\gandalf_231205_10_e3v831b.mp4\n",
      "Saving filtered csv poses!\n",
      "Filtering with median model c:\\Users\\rober\\Desktop\\Monkey-Emotions\\video\\gandalf_231205\\gandalf_231205_11_e3v831b.mp4\n",
      "Saving filtered csv poses!\n",
      "Filtering with median model c:\\Users\\rober\\Desktop\\Monkey-Emotions\\video\\gandalf_231205\\gandalf_231205_12_e3v831b.mp4\n",
      "Saving filtered csv poses!\n",
      "Filtering with median model c:\\Users\\rober\\Desktop\\Monkey-Emotions\\video\\gandalf_231205\\gandalf_231205_13_e3v831b.mp4\n",
      "Saving filtered csv poses!\n",
      "Filtering with median model c:\\Users\\rober\\Desktop\\Monkey-Emotions\\video\\gandalf_231205\\gandalf_231205_14_e3v831b.mp4\n",
      "Saving filtered csv poses!\n",
      "Filtering with median model c:\\Users\\rober\\Desktop\\Monkey-Emotions\\video\\gandalf_231205\\gandalf_231205_15_e3v831b.mp4\n",
      "Saving filtered csv poses!\n",
      "Filtering with median model c:\\Users\\rober\\Desktop\\Monkey-Emotions\\video\\gandalf_231205\\gandalf_231205_16_e3v831b.mp4\n",
      "Saving filtered csv poses!\n",
      "Filtering with median model c:\\Users\\rober\\Desktop\\Monkey-Emotions\\video\\gandalf_231205\\gandalf_231205_17_e3v831b.mp4\n",
      "Saving filtered csv poses!\n",
      "Filtering with median model c:\\Users\\rober\\Desktop\\Monkey-Emotions\\video\\gandalf_231205\\gandalf_231205_18_e3v831b.mp4\n",
      "Saving filtered csv poses!\n",
      "Filtering with median model c:\\Users\\rober\\Desktop\\Monkey-Emotions\\video\\gandalf_231205\\gandalf_231205_19_e3v831b.mp4\n",
      "Saving filtered csv poses!\n",
      "Filtering with median model c:\\Users\\rober\\Desktop\\Monkey-Emotions\\video\\gandalf_231205\\gandalf_231205_20_e3v831b.mp4\n",
      "Saving filtered csv poses!\n",
      "Filtering with median model c:\\Users\\rober\\Desktop\\Monkey-Emotions\\video\\gandalf_231205\\gandalf_231205_21_e3v831b.mp4\n",
      "Saving filtered csv poses!\n",
      "Filtering with median model c:\\Users\\rober\\Desktop\\Monkey-Emotions\\video\\gandalf_231205\\gandalf_231205_22_e3v831b.mp4\n",
      "Saving filtered csv poses!\n",
      "Filtering with median model c:\\Users\\rober\\Desktop\\Monkey-Emotions\\video\\gandalf_231205\\gandalf_231205_23_e3v831b.mp4\n",
      "Saving filtered csv poses!\n",
      "Filtering with median model c:\\Users\\rober\\Desktop\\Monkey-Emotions\\video\\gandalf_231205\\gandalf_231205_24_e3v831b.mp4\n",
      "Saving filtered csv poses!\n",
      "Filtering with median model c:\\Users\\rober\\Desktop\\Monkey-Emotions\\video\\gandalf_231205\\gandalf_231205_25_e3v831b.mp4\n",
      "Saving filtered csv poses!\n",
      "Filtering with median model c:\\Users\\rober\\Desktop\\Monkey-Emotions\\video\\gandalf_231205\\gandalf_231205_26_e3v831b.mp4\n",
      "Saving filtered csv poses!\n",
      "Filtering with median model c:\\Users\\rober\\Desktop\\Monkey-Emotions\\video\\gandalf_231205\\gandalf_231205_27_e3v831b.mp4\n",
      "Saving filtered csv poses!\n",
      "Filtering with median model c:\\Users\\rober\\Desktop\\Monkey-Emotions\\video\\gandalf_231205\\gandalf_231205_28_e3v831b.mp4\n",
      "Saving filtered csv poses!\n",
      "Filtering with median model c:\\Users\\rober\\Desktop\\Monkey-Emotions\\video\\gandalf_231205\\gandalf_231205_29_e3v831b.mp4\n",
      "Saving filtered csv poses!\n",
      "Filtering with median model c:\\Users\\rober\\Desktop\\Monkey-Emotions\\video\\gandalf_231205\\gandalf_231205_30_e3v831b.mp4\n",
      "Saving filtered csv poses!\n",
      "Filtering with median model c:\\Users\\rober\\Desktop\\Monkey-Emotions\\video\\gandalf_231205\\gandalf_231205_31_e3v831b.mp4\n",
      "Saving filtered csv poses!\n",
      "Filtering with median model c:\\Users\\rober\\Desktop\\Monkey-Emotions\\video\\gandalf_231205\\gandalf_231205_32_e3v831b.mp4\n",
      "Saving filtered csv poses!\n",
      "Filtering with median model c:\\Users\\rober\\Desktop\\Monkey-Emotions\\video\\gandalf_231205\\gandalf_231205_33_e3v831b.mp4\n",
      "Saving filtered csv poses!\n",
      "Filtering with median model c:\\Users\\rober\\Desktop\\Monkey-Emotions\\video\\gandalf_231205\\gandalf_231205_34_e3v831b.mp4\n",
      "Saving filtered csv poses!\n",
      "Filtering with median model c:\\Users\\rober\\Desktop\\Monkey-Emotions\\video\\gandalf_231205\\gandalf_231205_35_e3v831b.mp4\n",
      "Saving filtered csv poses!\n",
      "Filtering with median model c:\\Users\\rober\\Desktop\\Monkey-Emotions\\video\\gandalf_231205\\gandalf_231205_36_e3v831b.mp4\n",
      "Saving filtered csv poses!\n",
      "Filtering with median model c:\\Users\\rober\\Desktop\\Monkey-Emotions\\video\\gandalf_231205\\gandalf_231205_37_e3v831b.mp4\n",
      "Saving filtered csv poses!\n",
      "Filtering with median model c:\\Users\\rober\\Desktop\\Monkey-Emotions\\video\\gandalf_231205\\gandalf_231205_38_e3v831b.mp4\n",
      "Saving filtered csv poses!\n",
      "Filtering with median model c:\\Users\\rober\\Desktop\\Monkey-Emotions\\video\\gandalf_231205\\gandalf_231205_39_e3v831b.mp4\n",
      "Saving filtered csv poses!\n",
      "Filtering with median model c:\\Users\\rober\\Desktop\\Monkey-Emotions\\video\\gandalf_231205\\gandalf_231205_40_e3v831b.mp4\n",
      "Saving filtered csv poses!\n",
      "Filtering with median model c:\\Users\\rober\\Desktop\\Monkey-Emotions\\video\\gandalf_231205\\gandalf_231205_41_e3v831b.mp4\n",
      "Saving filtered csv poses!\n",
      "Filtering with median model c:\\Users\\rober\\Desktop\\Monkey-Emotions\\video\\gandalf_231205\\gandalf_231205_42_e3v831b.mp4\n",
      "Saving filtered csv poses!\n",
      "Filtering with median model c:\\Users\\rober\\Desktop\\Monkey-Emotions\\video\\gandalf_231205\\gandalf_231205_43_e3v831b.mp4\n",
      "Saving filtered csv poses!\n",
      "Filtering with median model c:\\Users\\rober\\Desktop\\Monkey-Emotions\\video\\gandalf_231205\\gandalf_231205_44_e3v831b.mp4\n",
      "Saving filtered csv poses!\n",
      "Filtering with median model c:\\Users\\rober\\Desktop\\Monkey-Emotions\\video\\gandalf_231205\\gandalf_231205_45_e3v831b.mp4\n",
      "Saving filtered csv poses!\n",
      "Filtering with median model c:\\Users\\rober\\Desktop\\Monkey-Emotions\\video\\gandalf_231205\\gandalf_231205_46_e3v831b.mp4\n",
      "Saving filtered csv poses!\n",
      "Filtering with median model c:\\Users\\rober\\Desktop\\Monkey-Emotions\\video\\gandalf_231205\\gandalf_231205_47_e3v831b.mp4\n",
      "Saving filtered csv poses!\n",
      "Filtering with median model c:\\Users\\rober\\Desktop\\Monkey-Emotions\\video\\gandalf_231205\\gandalf_231205_48_e3v831b.mp4\n",
      "Saving filtered csv poses!\n",
      "Filtering with median model c:\\Users\\rober\\Desktop\\Monkey-Emotions\\video\\gandalf_231205\\gandalf_231205_49_e3v831b.mp4\n",
      "Saving filtered csv poses!\n",
      "Filtering with median model c:\\Users\\rober\\Desktop\\Monkey-Emotions\\video\\gandalf_231205\\gandalf_231205_50_e3v831b.mp4\n",
      "Saving filtered csv poses!\n",
      "Filtering with median model c:\\Users\\rober\\Desktop\\Monkey-Emotions\\video\\gandalf_231205\\gandalf_231205_51_e3v831b.mp4\n",
      "Saving filtered csv poses!\n",
      "Filtering with median model c:\\Users\\rober\\Desktop\\Monkey-Emotions\\video\\gandalf_231205\\gandalf_231205_52_e3v831b.mp4\n",
      "Saving filtered csv poses!\n",
      "Filtering with median model c:\\Users\\rober\\Desktop\\Monkey-Emotions\\video\\gandalf_231205\\gandalf_231205_53_e3v831b.mp4\n",
      "Saving filtered csv poses!\n",
      "Filtering with median model c:\\Users\\rober\\Desktop\\Monkey-Emotions\\video\\gandalf_231205\\gandalf_231205_54_e3v831b.mp4\n",
      "Saving filtered csv poses!\n",
      "Filtering with median model c:\\Users\\rober\\Desktop\\Monkey-Emotions\\video\\gandalf_231205\\gandalf_231205_55_e3v831b.mp4\n",
      "Saving filtered csv poses!\n",
      "Filtering with median model c:\\Users\\rober\\Desktop\\Monkey-Emotions\\video\\gandalf_231205\\gandalf_231205_56_e3v831b.mp4\n",
      "Saving filtered csv poses!\n",
      "Filtering with median model c:\\Users\\rober\\Desktop\\Monkey-Emotions\\video\\gandalf_231205\\gandalf_231205_57_e3v831b.mp4\n",
      "Saving filtered csv poses!\n",
      "Filtering with median model c:\\Users\\rober\\Desktop\\Monkey-Emotions\\video\\gandalf_231205\\gandalf_231205_58_e3v831b.mp4\n",
      "Saving filtered csv poses!\n",
      "Filtering with median model c:\\Users\\rober\\Desktop\\Monkey-Emotions\\video\\gandalf_231205\\gandalf_231205_59_e3v831b.mp4\n",
      "Saving filtered csv poses!\n",
      "Filtering with median model c:\\Users\\rober\\Desktop\\Monkey-Emotions\\video\\gandalf_231205\\gandalf_231205_60_e3v831b.mp4\n",
      "Saving filtered csv poses!\n",
      "Filtering with median model c:\\Users\\rober\\Desktop\\Monkey-Emotions\\video\\gandalf_231205\\gandalf_231205_61_e3v831b.mp4\n",
      "Saving filtered csv poses!\n",
      "Filtering with median model c:\\Users\\rober\\Desktop\\Monkey-Emotions\\video\\gandalf_231205\\gandalf_231205_62_e3v831b.mp4\n",
      "Saving filtered csv poses!\n",
      "Filtering with median model c:\\Users\\rober\\Desktop\\Monkey-Emotions\\video\\gandalf_231205\\gandalf_231205_63_e3v831b.mp4\n",
      "Saving filtered csv poses!\n",
      "Filtering with median model c:\\Users\\rober\\Desktop\\Monkey-Emotions\\video\\gandalf_231205\\gandalf_231205_64_e3v831b.mp4\n",
      "Saving filtered csv poses!\n",
      "Filtering with median model c:\\Users\\rober\\Desktop\\Monkey-Emotions\\video\\gandalf_231205\\gandalf_231205_65_e3v831b.mp4\n",
      "Saving filtered csv poses!\n",
      "Filtering with median model c:\\Users\\rober\\Desktop\\Monkey-Emotions\\video\\gandalf_231205\\gandalf_231205_66_e3v831b.mp4\n",
      "Saving filtered csv poses!\n",
      "Filtering with median model c:\\Users\\rober\\Desktop\\Monkey-Emotions\\video\\gandalf_231205\\gandalf_231205_67_e3v831b.mp4\n",
      "Saving filtered csv poses!\n",
      "Filtering with median model c:\\Users\\rober\\Desktop\\Monkey-Emotions\\video\\gandalf_231205\\gandalf_231205_68_e3v831b.mp4\n",
      "Saving filtered csv poses!\n",
      "Filtering with median model c:\\Users\\rober\\Desktop\\Monkey-Emotions\\video\\gandalf_231205\\gandalf_231205_69_e3v831b.mp4\n",
      "Saving filtered csv poses!\n",
      "Filtering with median model c:\\Users\\rober\\Desktop\\Monkey-Emotions\\video\\gandalf_231205\\gandalf_231205_70_e3v831b.mp4\n",
      "Saving filtered csv poses!\n",
      "Filtering with median model c:\\Users\\rober\\Desktop\\Monkey-Emotions\\video\\gandalf_231205\\gandalf_231205_71_e3v831b.mp4\n",
      "Saving filtered csv poses!\n",
      "Filtering with median model c:\\Users\\rober\\Desktop\\Monkey-Emotions\\video\\gandalf_231205\\gandalf_231205_72_e3v831b.mp4\n",
      "Saving filtered csv poses!\n",
      "Filtering with median model c:\\Users\\rober\\Desktop\\Monkey-Emotions\\video\\gandalf_231205\\gandalf_231205_73_e3v831b.mp4\n",
      "Saving filtered csv poses!\n",
      "Filtering with median model c:\\Users\\rober\\Desktop\\Monkey-Emotions\\video\\gandalf_231205\\gandalf_231205_75_e3v831b.mp4\n",
      "Saving filtered csv poses!\n",
      "Filtering with median model c:\\Users\\rober\\Desktop\\Monkey-Emotions\\video\\gandalf_231205\\gandalf_231205_76_e3v831b.mp4\n",
      "Saving filtered csv poses!\n",
      "Filtering with median model c:\\Users\\rober\\Desktop\\Monkey-Emotions\\video\\gandalf_231205\\gandalf_231205_77_e3v831b.mp4\n",
      "Saving filtered csv poses!\n",
      "Filtering with median model c:\\Users\\rober\\Desktop\\Monkey-Emotions\\video\\gandalf_231205\\gandalf_231205_78_e3v831b.mp4\n",
      "Saving filtered csv poses!\n",
      "Filtering with median model c:\\Users\\rober\\Desktop\\Monkey-Emotions\\video\\gandalf_231205\\gandalf_231205_79_e3v831b.mp4\n",
      "Saving filtered csv poses!\n",
      "Filtering with median model c:\\Users\\rober\\Desktop\\Monkey-Emotions\\video\\gandalf_231205\\gandalf_231205_80_e3v831b.mp4\n",
      "Saving filtered csv poses!\n",
      "Filtering with median model c:\\Users\\rober\\Desktop\\Monkey-Emotions\\video\\gandalf_231205\\gandalf_231205_81_e3v831b.mp4\n",
      "Saving filtered csv poses!\n",
      "Filtering with median model c:\\Users\\rober\\Desktop\\Monkey-Emotions\\video\\gandalf_231205\\gandalf_231205_82_e3v831b.mp4\n",
      "Saving filtered csv poses!\n",
      "Filtering with median model c:\\Users\\rober\\Desktop\\Monkey-Emotions\\video\\gandalf_231205\\gandalf_231205_83_e3v831b.mp4\n",
      "Saving filtered csv poses!\n",
      "Filtering with median model c:\\Users\\rober\\Desktop\\Monkey-Emotions\\video\\gandalf_231205\\gandalf_231205_84_e3v831b.mp4\n",
      "Saving filtered csv poses!\n",
      "Filtering with median model c:\\Users\\rober\\Desktop\\Monkey-Emotions\\video\\gandalf_231205\\gandalf_231205_85_e3v831b.mp4\n",
      "Saving filtered csv poses!\n",
      "Filtering with median model c:\\Users\\rober\\Desktop\\Monkey-Emotions\\video\\gandalf_231205\\gandalf_231205_86_e3v831b.mp4\n",
      "Saving filtered csv poses!\n",
      "Filtering with median model c:\\Users\\rober\\Desktop\\Monkey-Emotions\\video\\gandalf_231205\\gandalf_231205_87_e3v831b.mp4\n",
      "Saving filtered csv poses!\n",
      "Filtering with median model c:\\Users\\rober\\Desktop\\Monkey-Emotions\\video\\gandalf_231205\\gandalf_231205_88_e3v831b.mp4\n",
      "Saving filtered csv poses!\n",
      "Filtering with median model c:\\Users\\rober\\Desktop\\Monkey-Emotions\\video\\gandalf_231205\\gandalf_231205_89_e3v831b.mp4\n",
      "Saving filtered csv poses!\n",
      "Filtering with median model c:\\Users\\rober\\Desktop\\Monkey-Emotions\\video\\gandalf_231205\\gandalf_231205_90_e3v831b.mp4\n",
      "Saving filtered csv poses!\n",
      "Filtering with median model c:\\Users\\rober\\Desktop\\Monkey-Emotions\\video\\gandalf_231205\\gandalf_231205_91_e3v831b.mp4\n",
      "Saving filtered csv poses!\n",
      "Filtering with median model c:\\Users\\rober\\Desktop\\Monkey-Emotions\\video\\gandalf_231205\\gandalf_231205_92_e3v831b.mp4\n",
      "Saving filtered csv poses!\n",
      "Filtering with median model c:\\Users\\rober\\Desktop\\Monkey-Emotions\\video\\gandalf_231205\\gandalf_231205_93_e3v831b.mp4\n",
      "Saving filtered csv poses!\n",
      "Filtering with median model c:\\Users\\rober\\Desktop\\Monkey-Emotions\\video\\gandalf_231205\\gandalf_231205_94_e3v831b.mp4\n",
      "Saving filtered csv poses!\n",
      "Filtering with median model c:\\Users\\rober\\Desktop\\Monkey-Emotions\\video\\gandalf_231205\\gandalf_231205_95_e3v831b.mp4\n",
      "Saving filtered csv poses!\n",
      "Filtering with median model c:\\Users\\rober\\Desktop\\Monkey-Emotions\\video\\gandalf_231205\\gandalf_231205_96_e3v831b.mp4\n",
      "Saving filtered csv poses!\n",
      "Filtering with median model c:\\Users\\rober\\Desktop\\Monkey-Emotions\\video\\gandalf_231205\\gandalf_231205_97_e3v831b.mp4\n",
      "Saving filtered csv poses!\n",
      "Filtering with median model c:\\Users\\rober\\Desktop\\Monkey-Emotions\\video\\gandalf_231205\\gandalf_231205_98_e3v831b.mp4\n",
      "Saving filtered csv poses!\n",
      "Filtering with median model c:\\Users\\rober\\Desktop\\Monkey-Emotions\\video\\gandalf_231205\\gandalf_231205_99_e3v831b.mp4\n",
      "Saving filtered csv poses!\n",
      "Filtering with median model c:\\Users\\rober\\Desktop\\Monkey-Emotions\\video\\gandalf_231205\\gandalf_231205_100_e3v831b.mp4\n",
      "Saving filtered csv poses!\n",
      "Filtering with median model c:\\Users\\rober\\Desktop\\Monkey-Emotions\\video\\gandalf_231205\\gandalf_231205_101_e3v831b.mp4\n",
      "Saving filtered csv poses!\n",
      "Filtering with median model c:\\Users\\rober\\Desktop\\Monkey-Emotions\\video\\gandalf_231205\\gandalf_231205_102_e3v831b.mp4\n",
      "Saving filtered csv poses!\n",
      "Filtering with median model c:\\Users\\rober\\Desktop\\Monkey-Emotions\\video\\gandalf_231205\\gandalf_231205_103_e3v831b.mp4\n",
      "Saving filtered csv poses!\n",
      "Filtering with median model c:\\Users\\rober\\Desktop\\Monkey-Emotions\\video\\gandalf_231205\\gandalf_231205_104_e3v831b.mp4\n",
      "Saving filtered csv poses!\n",
      "Filtering with median model c:\\Users\\rober\\Desktop\\Monkey-Emotions\\video\\gandalf_231205\\gandalf_231205_105_e3v831b.mp4\n",
      "Saving filtered csv poses!\n",
      "Filtering with median model c:\\Users\\rober\\Desktop\\Monkey-Emotions\\video\\gandalf_231205\\gandalf_231205_106_e3v831b.mp4\n",
      "Saving filtered csv poses!\n",
      "Filtering with median model c:\\Users\\rober\\Desktop\\Monkey-Emotions\\video\\gandalf_231205\\gandalf_231205_107_e3v831b.mp4\n",
      "Saving filtered csv poses!\n",
      "Filtering with median model c:\\Users\\rober\\Desktop\\Monkey-Emotions\\video\\gandalf_231205\\gandalf_231205_108_e3v831b.mp4\n",
      "Saving filtered csv poses!\n",
      "Filtering with median model c:\\Users\\rober\\Desktop\\Monkey-Emotions\\video\\gandalf_231205\\gandalf_231205_109_e3v831b.mp4\n",
      "Saving filtered csv poses!\n",
      "Filtering with median model c:\\Users\\rober\\Desktop\\Monkey-Emotions\\video\\gandalf_231205\\gandalf_231205_110_e3v831b.mp4\n",
      "Saving filtered csv poses!\n",
      "Filtering with median model c:\\Users\\rober\\Desktop\\Monkey-Emotions\\video\\gandalf_231205\\gandalf_231205_111_e3v831b.mp4\n",
      "Saving filtered csv poses!\n",
      "Filtering with median model c:\\Users\\rober\\Desktop\\Monkey-Emotions\\video\\gandalf_231205\\gandalf_231205_112_e3v831b.mp4\n",
      "Saving filtered csv poses!\n",
      "Filtering with median model c:\\Users\\rober\\Desktop\\Monkey-Emotions\\video\\gandalf_231205\\gandalf_231205_113_e3v831b.mp4\n",
      "Saving filtered csv poses!\n",
      "Filtering with median model c:\\Users\\rober\\Desktop\\Monkey-Emotions\\video\\gandalf_231205\\gandalf_231205_114_e3v831b.mp4\n",
      "Saving filtered csv poses!\n",
      "Filtering with median model c:\\Users\\rober\\Desktop\\Monkey-Emotions\\video\\gandalf_231205\\gandalf_231205_115_e3v831b.mp4\n",
      "Saving filtered csv poses!\n",
      "Filtering with median model c:\\Users\\rober\\Desktop\\Monkey-Emotions\\video\\gandalf_231205\\gandalf_231205_116_e3v831b.mp4\n",
      "Saving filtered csv poses!\n",
      "Filtering with median model c:\\Users\\rober\\Desktop\\Monkey-Emotions\\video\\gandalf_231205\\gandalf_231205_117_e3v831b.mp4\n",
      "Saving filtered csv poses!\n",
      "Filtering with median model c:\\Users\\rober\\Desktop\\Monkey-Emotions\\video\\gandalf_231205\\gandalf_231205_118_e3v831b.mp4\n",
      "Saving filtered csv poses!\n",
      "Filtering with median model c:\\Users\\rober\\Desktop\\Monkey-Emotions\\video\\gandalf_231205\\gandalf_231205_119_e3v831b.mp4\n",
      "Saving filtered csv poses!\n",
      "Filtering with median model c:\\Users\\rober\\Desktop\\Monkey-Emotions\\video\\gandalf_231205\\gandalf_231205_120_e3v831b.mp4\n",
      "Saving filtered csv poses!\n",
      "Filtering with median model c:\\Users\\rober\\Desktop\\Monkey-Emotions\\video\\gandalf_231205\\gandalf_231205_121_e3v831b.mp4\n",
      "Saving filtered csv poses!\n",
      "Filtering with median model c:\\Users\\rober\\Desktop\\Monkey-Emotions\\video\\gandalf_231205\\gandalf_231205_122_e3v831b.mp4\n",
      "Saving filtered csv poses!\n",
      "Filtering with median model c:\\Users\\rober\\Desktop\\Monkey-Emotions\\video\\gandalf_231205\\gandalf_231205_123_e3v831b.mp4\n",
      "Saving filtered csv poses!\n",
      "Filtering with median model c:\\Users\\rober\\Desktop\\Monkey-Emotions\\video\\gandalf_231205\\gandalf_231205_124_e3v831b.mp4\n",
      "Saving filtered csv poses!\n",
      "Filtering with median model c:\\Users\\rober\\Desktop\\Monkey-Emotions\\video\\gandalf_231205\\gandalf_231205_125_e3v831b.mp4\n",
      "Saving filtered csv poses!\n",
      "Filtering with median model c:\\Users\\rober\\Desktop\\Monkey-Emotions\\video\\gandalf_231205\\gandalf_231205_126_e3v831b.mp4\n",
      "Saving filtered csv poses!\n",
      "Filtering with median model c:\\Users\\rober\\Desktop\\Monkey-Emotions\\video\\gandalf_231205\\gandalf_231205_127_e3v831b.mp4\n",
      "Saving filtered csv poses!\n",
      "Filtering with median model c:\\Users\\rober\\Desktop\\Monkey-Emotions\\video\\gandalf_231205\\gandalf_231205_128_e3v831b.mp4\n",
      "Saving filtered csv poses!\n",
      "Filtering with median model c:\\Users\\rober\\Desktop\\Monkey-Emotions\\video\\gandalf_231205\\gandalf_231205_129_e3v831b.mp4\n",
      "Saving filtered csv poses!\n",
      "Filtering with median model c:\\Users\\rober\\Desktop\\Monkey-Emotions\\video\\gandalf_231205\\gandalf_231205_130_e3v831b.mp4\n",
      "Saving filtered csv poses!\n",
      "Filtering with median model c:\\Users\\rober\\Desktop\\Monkey-Emotions\\video\\gandalf_231205\\gandalf_231205_131_e3v831b.mp4\n",
      "Saving filtered csv poses!\n",
      "Filtering with median model c:\\Users\\rober\\Desktop\\Monkey-Emotions\\video\\gandalf_231205\\gandalf_231205_132_e3v831b.mp4\n",
      "Saving filtered csv poses!\n",
      "Filtering with median model c:\\Users\\rober\\Desktop\\Monkey-Emotions\\video\\gandalf_231205\\gandalf_231205_133_e3v831b.mp4\n",
      "Saving filtered csv poses!\n",
      "Filtering with median model c:\\Users\\rober\\Desktop\\Monkey-Emotions\\video\\gandalf_231205\\gandalf_231205_134_e3v831b.mp4\n",
      "Saving filtered csv poses!\n",
      "Filtering with median model c:\\Users\\rober\\Desktop\\Monkey-Emotions\\video\\gandalf_231205\\gandalf_231205_136_e3v831b.mp4\n",
      "Saving filtered csv poses!\n",
      "Filtering with median model c:\\Users\\rober\\Desktop\\Monkey-Emotions\\video\\gandalf_231205\\gandalf_231205_137_e3v831b.mp4\n",
      "Saving filtered csv poses!\n",
      "Filtering with median model c:\\Users\\rober\\Desktop\\Monkey-Emotions\\video\\gandalf_231205\\gandalf_231205_138_e3v831b.mp4\n",
      "Saving filtered csv poses!\n",
      "Filtering with median model c:\\Users\\rober\\Desktop\\Monkey-Emotions\\video\\gandalf_231205\\gandalf_231205_139_e3v831b.mp4\n",
      "Saving filtered csv poses!\n",
      "Filtering with median model c:\\Users\\rober\\Desktop\\Monkey-Emotions\\video\\gandalf_231205\\gandalf_231205_140_e3v831b.mp4\n",
      "Saving filtered csv poses!\n",
      "Filtering with median model c:\\Users\\rober\\Desktop\\Monkey-Emotions\\video\\gandalf_231205\\gandalf_231205_141_e3v831b.mp4\n",
      "Saving filtered csv poses!\n",
      "Filtering with median model c:\\Users\\rober\\Desktop\\Monkey-Emotions\\video\\gandalf_231205\\gandalf_231205_142_e3v831b.mp4\n",
      "Saving filtered csv poses!\n",
      "Filtering with median model c:\\Users\\rober\\Desktop\\Monkey-Emotions\\video\\gandalf_231205\\gandalf_231205_143_e3v831b.mp4\n",
      "Saving filtered csv poses!\n",
      "Filtering with median model c:\\Users\\rober\\Desktop\\Monkey-Emotions\\video\\gandalf_231205\\gandalf_231205_144_e3v831b.mp4\n",
      "Saving filtered csv poses!\n",
      "Filtering with median model c:\\Users\\rober\\Desktop\\Monkey-Emotions\\video\\gandalf_231205\\gandalf_231205_145_e3v831b.mp4\n",
      "Saving filtered csv poses!\n",
      "Filtering with median model c:\\Users\\rober\\Desktop\\Monkey-Emotions\\video\\gandalf_231205\\gandalf_231205_146_e3v831b.mp4\n",
      "Saving filtered csv poses!\n",
      "Filtering with median model c:\\Users\\rober\\Desktop\\Monkey-Emotions\\video\\gandalf_231205\\gandalf_231205_147_e3v831b.mp4\n",
      "Saving filtered csv poses!\n",
      "Filtering with median model c:\\Users\\rober\\Desktop\\Monkey-Emotions\\video\\gandalf_231205\\gandalf_231205_148_e3v831b.mp4\n",
      "Saving filtered csv poses!\n",
      "Filtering with median model c:\\Users\\rober\\Desktop\\Monkey-Emotions\\video\\gandalf_231205\\gandalf_231205_149_e3v831b.mp4\n",
      "Saving filtered csv poses!\n",
      "Filtering with median model c:\\Users\\rober\\Desktop\\Monkey-Emotions\\video\\gandalf_231205\\gandalf_231205_150_e3v831b.mp4\n",
      "Saving filtered csv poses!\n",
      "Filtering with median model c:\\Users\\rober\\Desktop\\Monkey-Emotions\\video\\gandalf_231205\\gandalf_231205_151_e3v831b.mp4\n",
      "Saving filtered csv poses!\n",
      "Filtering with median model c:\\Users\\rober\\Desktop\\Monkey-Emotions\\video\\gandalf_231205\\gandalf_231205_152_e3v831b.mp4\n",
      "Saving filtered csv poses!\n",
      "Filtering with median model c:\\Users\\rober\\Desktop\\Monkey-Emotions\\video\\gandalf_231205\\gandalf_231205_153_e3v831b.mp4\n",
      "Saving filtered csv poses!\n",
      "Filtering with median model c:\\Users\\rober\\Desktop\\Monkey-Emotions\\video\\gandalf_231205\\gandalf_231205_154_e3v831b.mp4\n",
      "Saving filtered csv poses!\n",
      "Filtering with median model c:\\Users\\rober\\Desktop\\Monkey-Emotions\\video\\gandalf_231205\\gandalf_231205_155_e3v831b.mp4\n",
      "Saving filtered csv poses!\n",
      "Filtering with median model c:\\Users\\rober\\Desktop\\Monkey-Emotions\\video\\gandalf_231205\\gandalf_231205_156_e3v831b.mp4\n",
      "Saving filtered csv poses!\n",
      "Filtering with median model c:\\Users\\rober\\Desktop\\Monkey-Emotions\\video\\gandalf_231205\\gandalf_231205_157_e3v831b.mp4\n",
      "Saving filtered csv poses!\n",
      "Filtering with median model c:\\Users\\rober\\Desktop\\Monkey-Emotions\\video\\gandalf_231205\\gandalf_231205_158_e3v831b.mp4\n",
      "Saving filtered csv poses!\n",
      "Filtering with median model c:\\Users\\rober\\Desktop\\Monkey-Emotions\\video\\gandalf_231205\\gandalf_231205_159_e3v831b.mp4\n",
      "Saving filtered csv poses!\n",
      "Filtering with median model c:\\Users\\rober\\Desktop\\Monkey-Emotions\\video\\gandalf_231205\\gandalf_231205_160_e3v831b.mp4\n",
      "Saving filtered csv poses!\n",
      "Filtering with median model c:\\Users\\rober\\Desktop\\Monkey-Emotions\\video\\gandalf_231205\\gandalf_231205_161_e3v831b.mp4\n",
      "Saving filtered csv poses!\n",
      "Filtering with median model c:\\Users\\rober\\Desktop\\Monkey-Emotions\\video\\gandalf_231205\\gandalf_231205_162_e3v831b.mp4\n",
      "Saving filtered csv poses!\n",
      "Filtering with median model c:\\Users\\rober\\Desktop\\Monkey-Emotions\\video\\gandalf_231205\\gandalf_231205_163_e3v831b.mp4\n",
      "Saving filtered csv poses!\n",
      "Filtering with median model c:\\Users\\rober\\Desktop\\Monkey-Emotions\\video\\gandalf_231205\\gandalf_231205_164_e3v831b.mp4\n",
      "Saving filtered csv poses!\n",
      "Filtering with median model c:\\Users\\rober\\Desktop\\Monkey-Emotions\\video\\gandalf_231205\\gandalf_231205_165_e3v831b.mp4\n",
      "Saving filtered csv poses!\n",
      "Filtering with median model c:\\Users\\rober\\Desktop\\Monkey-Emotions\\video\\gandalf_231205\\gandalf_231205_166_e3v831b.mp4\n",
      "Saving filtered csv poses!\n",
      "Filtering with median model c:\\Users\\rober\\Desktop\\Monkey-Emotions\\video\\gandalf_231205\\gandalf_231205_167_e3v831b.mp4\n",
      "Saving filtered csv poses!\n",
      "Filtering with median model c:\\Users\\rober\\Desktop\\Monkey-Emotions\\video\\gandalf_231205\\gandalf_231205_168_e3v831b.mp4\n",
      "Saving filtered csv poses!\n",
      "Filtering with median model c:\\Users\\rober\\Desktop\\Monkey-Emotions\\video\\gandalf_231205\\gandalf_231205_169_e3v831b.mp4\n",
      "Saving filtered csv poses!\n",
      "Filtering with median model c:\\Users\\rober\\Desktop\\Monkey-Emotions\\video\\gandalf_231205\\gandalf_231205_170_e3v831b.mp4\n",
      "Saving filtered csv poses!\n",
      "Filtering with median model c:\\Users\\rober\\Desktop\\Monkey-Emotions\\video\\gandalf_231205\\gandalf_231205_171_e3v831b.mp4\n",
      "Saving filtered csv poses!\n",
      "Filtering with median model c:\\Users\\rober\\Desktop\\Monkey-Emotions\\video\\gandalf_231205\\gandalf_231205_172_e3v831b.mp4\n",
      "Saving filtered csv poses!\n",
      "Filtering with median model c:\\Users\\rober\\Desktop\\Monkey-Emotions\\video\\gandalf_231205\\gandalf_231205_173_e3v831b.mp4\n",
      "Saving filtered csv poses!\n",
      "Filtering with median model c:\\Users\\rober\\Desktop\\Monkey-Emotions\\video\\gandalf_231205\\gandalf_231205_174_e3v831b.mp4\n",
      "Saving filtered csv poses!\n",
      "Filtering with median model c:\\Users\\rober\\Desktop\\Monkey-Emotions\\video\\gandalf_231205\\gandalf_231205_175_e3v831b.mp4\n",
      "Saving filtered csv poses!\n",
      "Filtering with median model c:\\Users\\rober\\Desktop\\Monkey-Emotions\\video\\gandalf_231205\\gandalf_231205_176_e3v831b.mp4\n",
      "Saving filtered csv poses!\n",
      "Filtering with median model c:\\Users\\rober\\Desktop\\Monkey-Emotions\\video\\gandalf_231205\\gandalf_231205_177_e3v831b.mp4\n",
      "Saving filtered csv poses!\n",
      "Filtering with median model c:\\Users\\rober\\Desktop\\Monkey-Emotions\\video\\gandalf_231205\\gandalf_231205_178_e3v831b.mp4\n",
      "Saving filtered csv poses!\n",
      "Filtering with median model c:\\Users\\rober\\Desktop\\Monkey-Emotions\\video\\gandalf_231205\\gandalf_231205_179_e3v831b.mp4\n",
      "Saving filtered csv poses!\n",
      "Filtering with median model c:\\Users\\rober\\Desktop\\Monkey-Emotions\\video\\gandalf_231205\\gandalf_231205_180_e3v831b.mp4\n",
      "Saving filtered csv poses!\n",
      "Filtering with median model c:\\Users\\rober\\Desktop\\Monkey-Emotions\\video\\gandalf_231205\\gandalf_231205_181_e3v831b.mp4\n",
      "Saving filtered csv poses!\n",
      "Filtering with median model c:\\Users\\rober\\Desktop\\Monkey-Emotions\\video\\gandalf_231205\\gandalf_231205_182_e3v831b.mp4\n",
      "Saving filtered csv poses!\n",
      "Filtering with median model c:\\Users\\rober\\Desktop\\Monkey-Emotions\\video\\gandalf_231205\\gandalf_231205_183_e3v831b.mp4\n",
      "Saving filtered csv poses!\n",
      "Filtering with median model c:\\Users\\rober\\Desktop\\Monkey-Emotions\\video\\gandalf_231205\\gandalf_231205_184_e3v831b.mp4\n",
      "Saving filtered csv poses!\n",
      "Filtering with median model c:\\Users\\rober\\Desktop\\Monkey-Emotions\\video\\gandalf_231205\\gandalf_231205_185_e3v831b.mp4\n",
      "Saving filtered csv poses!\n",
      "Filtering with median model c:\\Users\\rober\\Desktop\\Monkey-Emotions\\video\\gandalf_231205\\gandalf_231205_186_e3v831b.mp4\n",
      "Saving filtered csv poses!\n",
      "Filtering with median model c:\\Users\\rober\\Desktop\\Monkey-Emotions\\video\\gandalf_231205\\gandalf_231205_187_e3v831b.mp4\n",
      "Saving filtered csv poses!\n",
      "Filtering with median model c:\\Users\\rober\\Desktop\\Monkey-Emotions\\video\\gandalf_231205\\gandalf_231205_188_e3v831b.mp4\n",
      "Saving filtered csv poses!\n",
      "Filtering with median model c:\\Users\\rober\\Desktop\\Monkey-Emotions\\video\\gandalf_231205\\gandalf_231205_189_e3v831b.mp4\n",
      "Saving filtered csv poses!\n",
      "Filtering with median model c:\\Users\\rober\\Desktop\\Monkey-Emotions\\video\\gandalf_231205\\gandalf_231205_190_e3v831b.mp4\n",
      "Saving filtered csv poses!\n",
      "Filtering with median model c:\\Users\\rober\\Desktop\\Monkey-Emotions\\video\\gandalf_231205\\gandalf_231205_191_e3v831b.mp4\n",
      "Saving filtered csv poses!\n",
      "Filtering with median model c:\\Users\\rober\\Desktop\\Monkey-Emotions\\video\\gandalf_231205\\gandalf_231205_192_e3v831b.mp4\n",
      "Saving filtered csv poses!\n",
      "Filtering with median model c:\\Users\\rober\\Desktop\\Monkey-Emotions\\video\\gandalf_231205\\gandalf_231205_193_e3v831b.mp4\n",
      "Saving filtered csv poses!\n",
      "Filtering with median model c:\\Users\\rober\\Desktop\\Monkey-Emotions\\video\\gandalf_231205\\gandalf_231205_194_e3v831b.mp4\n",
      "Saving filtered csv poses!\n",
      "Filtering with median model c:\\Users\\rober\\Desktop\\Monkey-Emotions\\video\\gandalf_231205\\gandalf_231205_195_e3v831b.mp4\n",
      "Saving filtered csv poses!\n",
      "Filtering with median model c:\\Users\\rober\\Desktop\\Monkey-Emotions\\video\\gandalf_231205\\gandalf_231205_196_e3v831b.mp4\n",
      "Saving filtered csv poses!\n",
      "Filtering with median model c:\\Users\\rober\\Desktop\\Monkey-Emotions\\video\\gandalf_231205\\gandalf_231205_197_e3v831b.mp4\n",
      "Saving filtered csv poses!\n",
      "Filtering with median model c:\\Users\\rober\\Desktop\\Monkey-Emotions\\video\\gandalf_231205\\gandalf_231205_198_e3v831b.mp4\n",
      "Saving filtered csv poses!\n",
      "Filtering with median model c:\\Users\\rober\\Desktop\\Monkey-Emotions\\video\\gandalf_231205\\gandalf_231205_199_e3v831b.mp4\n",
      "Saving filtered csv poses!\n",
      "Filtering with median model c:\\Users\\rober\\Desktop\\Monkey-Emotions\\video\\gandalf_231205\\gandalf_231205_200_e3v831b.mp4\n",
      "Saving filtered csv poses!\n",
      "Filtering with median model c:\\Users\\rober\\Desktop\\Monkey-Emotions\\video\\gandalf_231205\\gandalf_231205_201_e3v831b.mp4\n",
      "Saving filtered csv poses!\n",
      "Filtering with median model c:\\Users\\rober\\Desktop\\Monkey-Emotions\\video\\gandalf_231205\\gandalf_231205_202_e3v831b.mp4\n",
      "Saving filtered csv poses!\n",
      "Filtering with median model c:\\Users\\rober\\Desktop\\Monkey-Emotions\\video\\gandalf_231205\\gandalf_231205_203_e3v831b.mp4\n",
      "Saving filtered csv poses!\n",
      "Filtering with median model c:\\Users\\rober\\Desktop\\Monkey-Emotions\\video\\gandalf_231205\\gandalf_231205_204_e3v831b.mp4\n",
      "Saving filtered csv poses!\n",
      "Filtering with median model c:\\Users\\rober\\Desktop\\Monkey-Emotions\\video\\gandalf_231205\\gandalf_231205_205_e3v831b.mp4\n",
      "Saving filtered csv poses!\n",
      "Filtering with median model c:\\Users\\rober\\Desktop\\Monkey-Emotions\\video\\gandalf_231205\\gandalf_231205_206_e3v831b.mp4\n",
      "Saving filtered csv poses!\n",
      "Filtering with median model c:\\Users\\rober\\Desktop\\Monkey-Emotions\\video\\gandalf_231205\\gandalf_231205_207_e3v831b.mp4\n",
      "Saving filtered csv poses!\n",
      "Filtering with median model c:\\Users\\rober\\Desktop\\Monkey-Emotions\\video\\gandalf_231205\\gandalf_231205_208_e3v831b.mp4\n",
      "Saving filtered csv poses!\n",
      "Filtering with median model c:\\Users\\rober\\Desktop\\Monkey-Emotions\\video\\gandalf_231205\\gandalf_231205_209_e3v831b.mp4\n",
      "Saving filtered csv poses!\n",
      "Filtering with median model c:\\Users\\rober\\Desktop\\Monkey-Emotions\\video\\gandalf_231205\\gandalf_231205_210_e3v831b.mp4\n",
      "Saving filtered csv poses!\n",
      "Filtering with median model c:\\Users\\rober\\Desktop\\Monkey-Emotions\\video\\gandalf_231205\\gandalf_231205_211_e3v831b.mp4\n",
      "Saving filtered csv poses!\n",
      "Filtering with median model c:\\Users\\rober\\Desktop\\Monkey-Emotions\\video\\gandalf_231205\\gandalf_231205_212_e3v831b.mp4\n",
      "Saving filtered csv poses!\n",
      "Filtering with median model c:\\Users\\rober\\Desktop\\Monkey-Emotions\\video\\gandalf_231205\\gandalf_231205_213_e3v831b.mp4\n",
      "Saving filtered csv poses!\n",
      "Filtering with median model c:\\Users\\rober\\Desktop\\Monkey-Emotions\\video\\gandalf_231205\\gandalf_231205_215_e3v831b.mp4\n",
      "Saving filtered csv poses!\n",
      "Filtering with median model c:\\Users\\rober\\Desktop\\Monkey-Emotions\\video\\gandalf_231205\\gandalf_231205_216_e3v831b.mp4\n",
      "Saving filtered csv poses!\n",
      "Filtering with median model c:\\Users\\rober\\Desktop\\Monkey-Emotions\\video\\gandalf_231205\\gandalf_231205_217_e3v831b.mp4\n",
      "Saving filtered csv poses!\n",
      "Filtering with median model c:\\Users\\rober\\Desktop\\Monkey-Emotions\\video\\gandalf_231205\\gandalf_231205_218_e3v831b.mp4\n",
      "Saving filtered csv poses!\n",
      "Filtering with median model c:\\Users\\rober\\Desktop\\Monkey-Emotions\\video\\gandalf_231205\\gandalf_231205_219_e3v831b.mp4\n",
      "Saving filtered csv poses!\n",
      "Filtering with median model c:\\Users\\rober\\Desktop\\Monkey-Emotions\\video\\gandalf_231205\\gandalf_231205_220_e3v831b.mp4\n",
      "Saving filtered csv poses!\n",
      "Filtering with median model c:\\Users\\rober\\Desktop\\Monkey-Emotions\\video\\gandalf_231205\\gandalf_231205_221_e3v831b.mp4\n",
      "Saving filtered csv poses!\n",
      "Filtering with median model c:\\Users\\rober\\Desktop\\Monkey-Emotions\\video\\gandalf_231205\\gandalf_231205_222_e3v831b.mp4\n",
      "Saving filtered csv poses!\n",
      "Filtering with median model c:\\Users\\rober\\Desktop\\Monkey-Emotions\\video\\gandalf_231205\\gandalf_231205_223_e3v831b.mp4\n",
      "Saving filtered csv poses!\n",
      "Filtering with median model c:\\Users\\rober\\Desktop\\Monkey-Emotions\\video\\gandalf_231205\\gandalf_231205_224_e3v831b.mp4\n",
      "Saving filtered csv poses!\n",
      "Filtering with median model c:\\Users\\rober\\Desktop\\Monkey-Emotions\\video\\gandalf_231205\\gandalf_231205_225_e3v831b.mp4\n",
      "Saving filtered csv poses!\n",
      "Filtering with median model c:\\Users\\rober\\Desktop\\Monkey-Emotions\\video\\gandalf_231205\\gandalf_231205_226_e3v831b.mp4\n",
      "Saving filtered csv poses!\n",
      "Filtering with median model c:\\Users\\rober\\Desktop\\Monkey-Emotions\\video\\gandalf_231205\\gandalf_231205_227_e3v831b.mp4\n",
      "Saving filtered csv poses!\n",
      "Filtering with median model c:\\Users\\rober\\Desktop\\Monkey-Emotions\\video\\gandalf_231205\\gandalf_231205_228_e3v831b.mp4\n",
      "Saving filtered csv poses!\n",
      "Filtering with median model c:\\Users\\rober\\Desktop\\Monkey-Emotions\\video\\gandalf_231205\\gandalf_231205_229_e3v831b.mp4\n",
      "Saving filtered csv poses!\n",
      "Filtering with median model c:\\Users\\rober\\Desktop\\Monkey-Emotions\\video\\gandalf_231205\\gandalf_231205_230_e3v831b.mp4\n",
      "Saving filtered csv poses!\n",
      "Filtering with median model c:\\Users\\rober\\Desktop\\Monkey-Emotions\\video\\gandalf_231205\\gandalf_231205_231_e3v831b.mp4\n",
      "Saving filtered csv poses!\n",
      "Filtering with median model c:\\Users\\rober\\Desktop\\Monkey-Emotions\\video\\gandalf_231205\\gandalf_231205_232_e3v831b.mp4\n",
      "Saving filtered csv poses!\n",
      "Filtering with median model c:\\Users\\rober\\Desktop\\Monkey-Emotions\\video\\gandalf_231205\\gandalf_231205_233_e3v831b.mp4\n",
      "Saving filtered csv poses!\n",
      "Filtering with median model c:\\Users\\rober\\Desktop\\Monkey-Emotions\\video\\gandalf_231205\\gandalf_231205_234_e3v831b.mp4\n",
      "Saving filtered csv poses!\n",
      "Filtering with median model c:\\Users\\rober\\Desktop\\Monkey-Emotions\\video\\gandalf_231205\\gandalf_231205_235_e3v831b.mp4\n",
      "Saving filtered csv poses!\n",
      "Filtering with median model c:\\Users\\rober\\Desktop\\Monkey-Emotions\\video\\gandalf_231205\\gandalf_231205_236_e3v831b.mp4\n",
      "Saving filtered csv poses!\n",
      "Filtering with median model c:\\Users\\rober\\Desktop\\Monkey-Emotions\\video\\gandalf_231205\\gandalf_231205_237_e3v831b.mp4\n",
      "Saving filtered csv poses!\n",
      "Filtering with median model c:\\Users\\rober\\Desktop\\Monkey-Emotions\\video\\gandalf_231205\\gandalf_231205_238_e3v831b.mp4\n",
      "Saving filtered csv poses!\n",
      "Filtering with median model c:\\Users\\rober\\Desktop\\Monkey-Emotions\\video\\gandalf_231205\\gandalf_231205_239_e3v831b.mp4\n",
      "Saving filtered csv poses!\n",
      "Filtering with median model c:\\Users\\rober\\Desktop\\Monkey-Emotions\\video\\gandalf_231205\\gandalf_231205_240_e3v831b.mp4\n",
      "Saving filtered csv poses!\n",
      "Filtering with median model c:\\Users\\rober\\Desktop\\Monkey-Emotions\\video\\gandalf_231205\\gandalf_231205_241_e3v831b.mp4\n",
      "Saving filtered csv poses!\n",
      "Filtering with median model c:\\Users\\rober\\Desktop\\Monkey-Emotions\\video\\gandalf_231205\\gandalf_231205_242_e3v831b.mp4\n",
      "Saving filtered csv poses!\n",
      "Filtering with median model c:\\Users\\rober\\Desktop\\Monkey-Emotions\\video\\gandalf_231205\\gandalf_231205_243_e3v831b.mp4\n",
      "Saving filtered csv poses!\n",
      "Filtering with median model c:\\Users\\rober\\Desktop\\Monkey-Emotions\\video\\gandalf_231205\\gandalf_231205_244_e3v831b.mp4\n",
      "Saving filtered csv poses!\n",
      "Filtering with median model c:\\Users\\rober\\Desktop\\Monkey-Emotions\\video\\gandalf_231205\\gandalf_231205_245_e3v831b.mp4\n",
      "Saving filtered csv poses!\n",
      "Filtering with median model c:\\Users\\rober\\Desktop\\Monkey-Emotions\\video\\gandalf_231205\\gandalf_231205_246_e3v831b.mp4\n",
      "Saving filtered csv poses!\n",
      "Filtering with median model c:\\Users\\rober\\Desktop\\Monkey-Emotions\\video\\gandalf_231205\\gandalf_231205_247_e3v831b.mp4\n",
      "Saving filtered csv poses!\n",
      "Filtering with median model c:\\Users\\rober\\Desktop\\Monkey-Emotions\\video\\gandalf_231205\\gandalf_231205_248_e3v831b.mp4\n",
      "Saving filtered csv poses!\n",
      "Filtering with median model c:\\Users\\rober\\Desktop\\Monkey-Emotions\\video\\gandalf_231205\\gandalf_231205_249_e3v831b.mp4\n",
      "Saving filtered csv poses!\n",
      "Filtering with median model c:\\Users\\rober\\Desktop\\Monkey-Emotions\\video\\gandalf_231205\\gandalf_231205_250_e3v831b.mp4\n",
      "Saving filtered csv poses!\n",
      "Filtering with median model c:\\Users\\rober\\Desktop\\Monkey-Emotions\\video\\gandalf_231205\\gandalf_231205_251_e3v831b.mp4\n",
      "Saving filtered csv poses!\n",
      "Filtering with median model c:\\Users\\rober\\Desktop\\Monkey-Emotions\\video\\gandalf_231205\\gandalf_231205_252_e3v831b.mp4\n",
      "Saving filtered csv poses!\n",
      "Filtering with median model c:\\Users\\rober\\Desktop\\Monkey-Emotions\\video\\gandalf_231205\\gandalf_231205_253_e3v831b.mp4\n",
      "Saving filtered csv poses!\n",
      "Filtering with median model c:\\Users\\rober\\Desktop\\Monkey-Emotions\\video\\gandalf_231205\\gandalf_231205_254_e3v831b.mp4\n",
      "Saving filtered csv poses!\n",
      "Filtering with median model c:\\Users\\rober\\Desktop\\Monkey-Emotions\\video\\gandalf_231205\\gandalf_231205_255_e3v831b.mp4\n",
      "Saving filtered csv poses!\n",
      "Filtering with median model c:\\Users\\rober\\Desktop\\Monkey-Emotions\\video\\gandalf_231205\\gandalf_231205_256_e3v831b.mp4\n",
      "Saving filtered csv poses!\n",
      "Filtering with median model c:\\Users\\rober\\Desktop\\Monkey-Emotions\\video\\gandalf_231205\\gandalf_231205_257_e3v831b.mp4\n",
      "Saving filtered csv poses!\n",
      "Filtering with median model c:\\Users\\rober\\Desktop\\Monkey-Emotions\\video\\gandalf_231205\\gandalf_231205_258_e3v831b.mp4\n",
      "Saving filtered csv poses!\n",
      "Filtering with median model c:\\Users\\rober\\Desktop\\Monkey-Emotions\\video\\gandalf_231205\\gandalf_231205_259_e3v831b.mp4\n",
      "Saving filtered csv poses!\n",
      "Filtering with median model c:\\Users\\rober\\Desktop\\Monkey-Emotions\\video\\gandalf_231205\\gandalf_231205_260_e3v831b.mp4\n",
      "Saving filtered csv poses!\n",
      "Filtering with median model c:\\Users\\rober\\Desktop\\Monkey-Emotions\\video\\gandalf_231205\\gandalf_231205_261_e3v831b.mp4\n",
      "Saving filtered csv poses!\n",
      "Filtering with median model c:\\Users\\rober\\Desktop\\Monkey-Emotions\\video\\gandalf_231205\\gandalf_231205_262_e3v831b.mp4\n",
      "Saving filtered csv poses!\n",
      "Filtering with median model c:\\Users\\rober\\Desktop\\Monkey-Emotions\\video\\gandalf_231205\\gandalf_231205_263_e3v831b.mp4\n",
      "Saving filtered csv poses!\n",
      "Filtering with median model c:\\Users\\rober\\Desktop\\Monkey-Emotions\\video\\gandalf_231205\\gandalf_231205_264_e3v831b.mp4\n",
      "Saving filtered csv poses!\n",
      "Filtering with median model c:\\Users\\rober\\Desktop\\Monkey-Emotions\\video\\gandalf_231205\\gandalf_231205_265_e3v831b.mp4\n",
      "Saving filtered csv poses!\n",
      "Filtering with median model c:\\Users\\rober\\Desktop\\Monkey-Emotions\\video\\gandalf_231205\\gandalf_231205_266_e3v831b.mp4\n",
      "Saving filtered csv poses!\n",
      "Filtering with median model c:\\Users\\rober\\Desktop\\Monkey-Emotions\\video\\gandalf_231205\\gandalf_231205_267_e3v831b.mp4\n",
      "Saving filtered csv poses!\n",
      "Filtering with median model c:\\Users\\rober\\Desktop\\Monkey-Emotions\\video\\gandalf_231205\\gandalf_231205_268_e3v831b.mp4\n",
      "Saving filtered csv poses!\n",
      "Filtering with median model c:\\Users\\rober\\Desktop\\Monkey-Emotions\\video\\gandalf_231205\\gandalf_231205_269_e3v831b.mp4\n",
      "Saving filtered csv poses!\n",
      "Filtering with median model c:\\Users\\rober\\Desktop\\Monkey-Emotions\\video\\gandalf_231205\\gandalf_231205_270_e3v831b.mp4\n",
      "Saving filtered csv poses!\n",
      "Filtering with median model c:\\Users\\rober\\Desktop\\Monkey-Emotions\\video\\gandalf_231205\\gandalf_231205_271_e3v831b.mp4\n",
      "Saving filtered csv poses!\n",
      "Filtering with median model c:\\Users\\rober\\Desktop\\Monkey-Emotions\\video\\gandalf_231205\\gandalf_231205_272_e3v831b.mp4\n",
      "Saving filtered csv poses!\n",
      "Filtering with median model c:\\Users\\rober\\Desktop\\Monkey-Emotions\\video\\gandalf_231205\\gandalf_231205_273_e3v831b.mp4\n",
      "Saving filtered csv poses!\n",
      "Filtering with median model c:\\Users\\rober\\Desktop\\Monkey-Emotions\\video\\gandalf_231205\\gandalf_231205_274_e3v831b.mp4\n",
      "Saving filtered csv poses!\n",
      "Filtering with median model c:\\Users\\rober\\Desktop\\Monkey-Emotions\\video\\gandalf_231205\\gandalf_231205_275_e3v831b.mp4\n",
      "Saving filtered csv poses!\n",
      "Filtering with median model c:\\Users\\rober\\Desktop\\Monkey-Emotions\\video\\gandalf_231205\\gandalf_231205_276_e3v831b.mp4\n",
      "Saving filtered csv poses!\n",
      "Filtering with median model c:\\Users\\rober\\Desktop\\Monkey-Emotions\\video\\gandalf_231205\\gandalf_231205_277_e3v831b.mp4\n",
      "Saving filtered csv poses!\n",
      "Filtering with median model c:\\Users\\rober\\Desktop\\Monkey-Emotions\\video\\gandalf_231205\\gandalf_231205_278_e3v831b.mp4\n",
      "Saving filtered csv poses!\n",
      "Filtering with median model c:\\Users\\rober\\Desktop\\Monkey-Emotions\\video\\gandalf_231205\\gandalf_231205_279_e3v831b.mp4\n",
      "Saving filtered csv poses!\n",
      "Filtering with median model c:\\Users\\rober\\Desktop\\Monkey-Emotions\\video\\gandalf_231205\\gandalf_231205_280_e3v831b.mp4\n",
      "Saving filtered csv poses!\n",
      "Filtering with median model c:\\Users\\rober\\Desktop\\Monkey-Emotions\\video\\gandalf_231205\\gandalf_231205_282_e3v831b.mp4\n",
      "Saving filtered csv poses!\n",
      "Filtering with median model c:\\Users\\rober\\Desktop\\Monkey-Emotions\\video\\gandalf_231205\\gandalf_231205_283_e3v831b.mp4\n",
      "Saving filtered csv poses!\n",
      "Filtering with median model c:\\Users\\rober\\Desktop\\Monkey-Emotions\\video\\gandalf_231205\\gandalf_231205_284_e3v831b.mp4\n",
      "Saving filtered csv poses!\n",
      "Starting to process video: c:\\Users\\rober\\Desktop\\Monkey-Emotions\\video\\gandalf_231205\\gandalf_231205_0_e3v831b.mp4\n",
      "Loading c:\\Users\\rober\\Desktop\\Monkey-Emotions\\video\\gandalf_231205\\gandalf_231205_0_e3v831b.mp4 and data.\n",
      "Duration of video [s]: 12.9, recorded with 120 fps!\n",
      "Overall # of frames: 1548 with cropped frame dimensions: 640 480\n",
      "Generating frames and creating video.\n"
     ]
    },
    {
     "name": "stderr",
     "output_type": "stream",
     "text": [
      "100%|██████████| 1548/1548 [00:04<00:00, 337.24it/s]\n"
     ]
    },
    {
     "name": "stdout",
     "output_type": "stream",
     "text": [
      "Starting to process video: c:\\Users\\rober\\Desktop\\Monkey-Emotions\\video\\gandalf_231205\\gandalf_231205_1_e3v831b.mp4\n",
      "Loading c:\\Users\\rober\\Desktop\\Monkey-Emotions\\video\\gandalf_231205\\gandalf_231205_1_e3v831b.mp4 and data.\n",
      "Duration of video [s]: 17.58, recorded with 120 fps!\n",
      "Overall # of frames: 2110 with cropped frame dimensions: 640 480\n",
      "Generating frames and creating video.\n"
     ]
    },
    {
     "name": "stderr",
     "output_type": "stream",
     "text": [
      "100%|██████████| 2110/2110 [00:13<00:00, 157.53it/s]\n"
     ]
    },
    {
     "name": "stdout",
     "output_type": "stream",
     "text": [
      "Starting to process video: c:\\Users\\rober\\Desktop\\Monkey-Emotions\\video\\gandalf_231205\\gandalf_231205_2_e3v831b.mp4\n",
      "Loading c:\\Users\\rober\\Desktop\\Monkey-Emotions\\video\\gandalf_231205\\gandalf_231205_2_e3v831b.mp4 and data.\n",
      "Duration of video [s]: 10.42, recorded with 120 fps!\n",
      "Overall # of frames: 1250 with cropped frame dimensions: 640 480\n",
      "Generating frames and creating video.\n"
     ]
    },
    {
     "name": "stderr",
     "output_type": "stream",
     "text": [
      "100%|██████████| 1250/1250 [00:03<00:00, 349.86it/s]\n"
     ]
    },
    {
     "name": "stdout",
     "output_type": "stream",
     "text": [
      "Starting to process video: c:\\Users\\rober\\Desktop\\Monkey-Emotions\\video\\gandalf_231205\\gandalf_231205_3_e3v831b.mp4\n",
      "Loading c:\\Users\\rober\\Desktop\\Monkey-Emotions\\video\\gandalf_231205\\gandalf_231205_3_e3v831b.mp4 and data.\n",
      "Duration of video [s]: 14.14, recorded with 120 fps!\n",
      "Overall # of frames: 1697 with cropped frame dimensions: 640 480\n",
      "Generating frames and creating video.\n"
     ]
    },
    {
     "name": "stderr",
     "output_type": "stream",
     "text": [
      "100%|██████████| 1697/1697 [00:04<00:00, 353.97it/s]\n"
     ]
    },
    {
     "name": "stdout",
     "output_type": "stream",
     "text": [
      "Starting to process video: c:\\Users\\rober\\Desktop\\Monkey-Emotions\\video\\gandalf_231205\\gandalf_231205_4_e3v831b.mp4\n",
      "Loading c:\\Users\\rober\\Desktop\\Monkey-Emotions\\video\\gandalf_231205\\gandalf_231205_4_e3v831b.mp4 and data.\n",
      "Duration of video [s]: 18.91, recorded with 120 fps!\n",
      "Overall # of frames: 2269 with cropped frame dimensions: 640 480\n",
      "Generating frames and creating video.\n"
     ]
    },
    {
     "name": "stderr",
     "output_type": "stream",
     "text": [
      "100%|██████████| 2269/2269 [00:06<00:00, 349.86it/s]\n"
     ]
    },
    {
     "name": "stdout",
     "output_type": "stream",
     "text": [
      "Starting to process video: c:\\Users\\rober\\Desktop\\Monkey-Emotions\\video\\gandalf_231205\\gandalf_231205_5_e3v831b.mp4\n",
      "Loading c:\\Users\\rober\\Desktop\\Monkey-Emotions\\video\\gandalf_231205\\gandalf_231205_5_e3v831b.mp4 and data.\n",
      "Duration of video [s]: 14.57, recorded with 120 fps!\n",
      "Overall # of frames: 1748 with cropped frame dimensions: 640 480\n",
      "Generating frames and creating video.\n"
     ]
    },
    {
     "name": "stderr",
     "output_type": "stream",
     "text": [
      "100%|██████████| 1748/1748 [00:04<00:00, 352.74it/s]\n"
     ]
    },
    {
     "name": "stdout",
     "output_type": "stream",
     "text": [
      "Starting to process video: c:\\Users\\rober\\Desktop\\Monkey-Emotions\\video\\gandalf_231205\\gandalf_231205_6_e3v831b.mp4\n",
      "Loading c:\\Users\\rober\\Desktop\\Monkey-Emotions\\video\\gandalf_231205\\gandalf_231205_6_e3v831b.mp4 and data.\n",
      "Duration of video [s]: 13.63, recorded with 120 fps!\n",
      "Overall # of frames: 1636 with cropped frame dimensions: 640 480\n",
      "Generating frames and creating video.\n"
     ]
    },
    {
     "name": "stderr",
     "output_type": "stream",
     "text": [
      "100%|██████████| 1636/1636 [00:04<00:00, 354.36it/s]\n"
     ]
    },
    {
     "name": "stdout",
     "output_type": "stream",
     "text": [
      "Starting to process video: c:\\Users\\rober\\Desktop\\Monkey-Emotions\\video\\gandalf_231205\\gandalf_231205_7_e3v831b.mp4\n",
      "Loading c:\\Users\\rober\\Desktop\\Monkey-Emotions\\video\\gandalf_231205\\gandalf_231205_7_e3v831b.mp4 and data.\n",
      "Duration of video [s]: 14.64, recorded with 120 fps!\n",
      "Overall # of frames: 1757 with cropped frame dimensions: 640 480\n",
      "Generating frames and creating video.\n"
     ]
    },
    {
     "name": "stderr",
     "output_type": "stream",
     "text": [
      "100%|██████████| 1757/1757 [00:04<00:00, 358.05it/s]\n"
     ]
    },
    {
     "name": "stdout",
     "output_type": "stream",
     "text": [
      "Starting to process video: c:\\Users\\rober\\Desktop\\Monkey-Emotions\\video\\gandalf_231205\\gandalf_231205_8_e3v831b.mp4\n",
      "Loading c:\\Users\\rober\\Desktop\\Monkey-Emotions\\video\\gandalf_231205\\gandalf_231205_8_e3v831b.mp4 and data.\n",
      "Duration of video [s]: 12.17, recorded with 120 fps!\n",
      "Overall # of frames: 1460 with cropped frame dimensions: 640 480\n",
      "Generating frames and creating video.\n"
     ]
    },
    {
     "name": "stderr",
     "output_type": "stream",
     "text": [
      "100%|██████████| 1460/1460 [00:04<00:00, 361.44it/s]\n"
     ]
    },
    {
     "name": "stdout",
     "output_type": "stream",
     "text": [
      "Starting to process video: c:\\Users\\rober\\Desktop\\Monkey-Emotions\\video\\gandalf_231205\\gandalf_231205_9_e3v831b.mp4\n",
      "Loading c:\\Users\\rober\\Desktop\\Monkey-Emotions\\video\\gandalf_231205\\gandalf_231205_9_e3v831b.mp4 and data.\n",
      "Duration of video [s]: 14.92, recorded with 120 fps!\n",
      "Overall # of frames: 1790 with cropped frame dimensions: 640 480\n",
      "Generating frames and creating video.\n"
     ]
    },
    {
     "name": "stderr",
     "output_type": "stream",
     "text": [
      "100%|██████████| 1790/1790 [00:04<00:00, 373.04it/s]\n"
     ]
    },
    {
     "name": "stdout",
     "output_type": "stream",
     "text": [
      "Starting to process video: c:\\Users\\rober\\Desktop\\Monkey-Emotions\\video\\gandalf_231205\\gandalf_231205_10_e3v831b.mp4\n",
      "Loading c:\\Users\\rober\\Desktop\\Monkey-Emotions\\video\\gandalf_231205\\gandalf_231205_10_e3v831b.mp4 and data.\n",
      "Duration of video [s]: 13.74, recorded with 120 fps!\n",
      "Overall # of frames: 1649 with cropped frame dimensions: 640 480\n",
      "Generating frames and creating video.\n"
     ]
    },
    {
     "name": "stderr",
     "output_type": "stream",
     "text": [
      "100%|██████████| 1649/1649 [00:04<00:00, 372.76it/s]\n"
     ]
    },
    {
     "name": "stdout",
     "output_type": "stream",
     "text": [
      "Starting to process video: c:\\Users\\rober\\Desktop\\Monkey-Emotions\\video\\gandalf_231205\\gandalf_231205_11_e3v831b.mp4\n",
      "Loading c:\\Users\\rober\\Desktop\\Monkey-Emotions\\video\\gandalf_231205\\gandalf_231205_11_e3v831b.mp4 and data.\n",
      "Duration of video [s]: 13.25, recorded with 120 fps!\n",
      "Overall # of frames: 1590 with cropped frame dimensions: 640 480\n",
      "Generating frames and creating video.\n"
     ]
    },
    {
     "name": "stderr",
     "output_type": "stream",
     "text": [
      "100%|██████████| 1590/1590 [00:04<00:00, 377.00it/s]\n"
     ]
    },
    {
     "name": "stdout",
     "output_type": "stream",
     "text": [
      "Starting to process video: c:\\Users\\rober\\Desktop\\Monkey-Emotions\\video\\gandalf_231205\\gandalf_231205_12_e3v831b.mp4\n",
      "Loading c:\\Users\\rober\\Desktop\\Monkey-Emotions\\video\\gandalf_231205\\gandalf_231205_12_e3v831b.mp4 and data.\n",
      "Duration of video [s]: 15.69, recorded with 120 fps!\n",
      "Overall # of frames: 1883 with cropped frame dimensions: 640 480\n",
      "Generating frames and creating video.\n"
     ]
    },
    {
     "name": "stderr",
     "output_type": "stream",
     "text": [
      "100%|██████████| 1883/1883 [00:04<00:00, 391.17it/s]\n"
     ]
    },
    {
     "name": "stdout",
     "output_type": "stream",
     "text": [
      "Starting to process video: c:\\Users\\rober\\Desktop\\Monkey-Emotions\\video\\gandalf_231205\\gandalf_231205_13_e3v831b.mp4\n",
      "Loading c:\\Users\\rober\\Desktop\\Monkey-Emotions\\video\\gandalf_231205\\gandalf_231205_13_e3v831b.mp4 and data.\n",
      "Duration of video [s]: 10.85, recorded with 120 fps!\n",
      "Overall # of frames: 1302 with cropped frame dimensions: 640 480\n",
      "Generating frames and creating video.\n"
     ]
    },
    {
     "name": "stderr",
     "output_type": "stream",
     "text": [
      "100%|██████████| 1302/1302 [00:03<00:00, 384.66it/s]\n"
     ]
    },
    {
     "name": "stdout",
     "output_type": "stream",
     "text": [
      "Starting to process video: c:\\Users\\rober\\Desktop\\Monkey-Emotions\\video\\gandalf_231205\\gandalf_231205_14_e3v831b.mp4\n",
      "Loading c:\\Users\\rober\\Desktop\\Monkey-Emotions\\video\\gandalf_231205\\gandalf_231205_14_e3v831b.mp4 and data.\n",
      "Duration of video [s]: 25.43, recorded with 120 fps!\n",
      "Overall # of frames: 3051 with cropped frame dimensions: 640 480\n",
      "Generating frames and creating video.\n"
     ]
    },
    {
     "name": "stderr",
     "output_type": "stream",
     "text": [
      "100%|██████████| 3051/3051 [00:08<00:00, 371.67it/s]\n"
     ]
    },
    {
     "name": "stdout",
     "output_type": "stream",
     "text": [
      "Starting to process video: c:\\Users\\rober\\Desktop\\Monkey-Emotions\\video\\gandalf_231205\\gandalf_231205_15_e3v831b.mp4\n",
      "Loading c:\\Users\\rober\\Desktop\\Monkey-Emotions\\video\\gandalf_231205\\gandalf_231205_15_e3v831b.mp4 and data.\n",
      "Duration of video [s]: 16.51, recorded with 120 fps!\n",
      "Overall # of frames: 1981 with cropped frame dimensions: 640 480\n",
      "Generating frames and creating video.\n"
     ]
    },
    {
     "name": "stderr",
     "output_type": "stream",
     "text": [
      "100%|██████████| 1981/1981 [00:05<00:00, 368.59it/s]\n"
     ]
    },
    {
     "name": "stdout",
     "output_type": "stream",
     "text": [
      "Starting to process video: c:\\Users\\rober\\Desktop\\Monkey-Emotions\\video\\gandalf_231205\\gandalf_231205_16_e3v831b.mp4\n",
      "Loading c:\\Users\\rober\\Desktop\\Monkey-Emotions\\video\\gandalf_231205\\gandalf_231205_16_e3v831b.mp4 and data.\n",
      "Duration of video [s]: 11.82, recorded with 120 fps!\n",
      "Overall # of frames: 1418 with cropped frame dimensions: 640 480\n",
      "Generating frames and creating video.\n"
     ]
    },
    {
     "name": "stderr",
     "output_type": "stream",
     "text": [
      "100%|██████████| 1418/1418 [00:03<00:00, 367.19it/s]\n"
     ]
    },
    {
     "name": "stdout",
     "output_type": "stream",
     "text": [
      "Starting to process video: c:\\Users\\rober\\Desktop\\Monkey-Emotions\\video\\gandalf_231205\\gandalf_231205_17_e3v831b.mp4\n",
      "Loading c:\\Users\\rober\\Desktop\\Monkey-Emotions\\video\\gandalf_231205\\gandalf_231205_17_e3v831b.mp4 and data.\n",
      "Duration of video [s]: 15.74, recorded with 120 fps!\n",
      "Overall # of frames: 1889 with cropped frame dimensions: 640 480\n",
      "Generating frames and creating video.\n"
     ]
    },
    {
     "name": "stderr",
     "output_type": "stream",
     "text": [
      "100%|██████████| 1889/1889 [00:05<00:00, 366.25it/s]\n"
     ]
    },
    {
     "name": "stdout",
     "output_type": "stream",
     "text": [
      "Starting to process video: c:\\Users\\rober\\Desktop\\Monkey-Emotions\\video\\gandalf_231205\\gandalf_231205_18_e3v831b.mp4\n",
      "Loading c:\\Users\\rober\\Desktop\\Monkey-Emotions\\video\\gandalf_231205\\gandalf_231205_18_e3v831b.mp4 and data.\n",
      "Duration of video [s]: 18.37, recorded with 120 fps!\n",
      "Overall # of frames: 2204 with cropped frame dimensions: 640 480\n",
      "Generating frames and creating video.\n"
     ]
    },
    {
     "name": "stderr",
     "output_type": "stream",
     "text": [
      "100%|██████████| 2204/2204 [00:05<00:00, 368.48it/s]\n"
     ]
    },
    {
     "name": "stdout",
     "output_type": "stream",
     "text": [
      "Starting to process video: c:\\Users\\rober\\Desktop\\Monkey-Emotions\\video\\gandalf_231205\\gandalf_231205_19_e3v831b.mp4\n",
      "Loading c:\\Users\\rober\\Desktop\\Monkey-Emotions\\video\\gandalf_231205\\gandalf_231205_19_e3v831b.mp4 and data.\n",
      "Duration of video [s]: 15.28, recorded with 120 fps!\n",
      "Overall # of frames: 1833 with cropped frame dimensions: 640 480\n",
      "Generating frames and creating video.\n"
     ]
    },
    {
     "name": "stderr",
     "output_type": "stream",
     "text": [
      "100%|██████████| 1833/1833 [00:04<00:00, 367.00it/s]\n"
     ]
    },
    {
     "name": "stdout",
     "output_type": "stream",
     "text": [
      "Starting to process video: c:\\Users\\rober\\Desktop\\Monkey-Emotions\\video\\gandalf_231205\\gandalf_231205_20_e3v831b.mp4\n",
      "Loading c:\\Users\\rober\\Desktop\\Monkey-Emotions\\video\\gandalf_231205\\gandalf_231205_20_e3v831b.mp4 and data.\n",
      "Duration of video [s]: 12.32, recorded with 120 fps!\n",
      "Overall # of frames: 1478 with cropped frame dimensions: 640 480\n",
      "Generating frames and creating video.\n"
     ]
    },
    {
     "name": "stderr",
     "output_type": "stream",
     "text": [
      "100%|██████████| 1478/1478 [00:04<00:00, 361.84it/s]\n"
     ]
    },
    {
     "name": "stdout",
     "output_type": "stream",
     "text": [
      "Starting to process video: c:\\Users\\rober\\Desktop\\Monkey-Emotions\\video\\gandalf_231205\\gandalf_231205_21_e3v831b.mp4\n",
      "Loading c:\\Users\\rober\\Desktop\\Monkey-Emotions\\video\\gandalf_231205\\gandalf_231205_21_e3v831b.mp4 and data.\n",
      "Duration of video [s]: 15.44, recorded with 120 fps!\n",
      "Overall # of frames: 1853 with cropped frame dimensions: 640 480\n",
      "Generating frames and creating video.\n"
     ]
    },
    {
     "name": "stderr",
     "output_type": "stream",
     "text": [
      "100%|██████████| 1853/1853 [00:05<00:00, 356.27it/s]\n"
     ]
    },
    {
     "name": "stdout",
     "output_type": "stream",
     "text": [
      "Starting to process video: c:\\Users\\rober\\Desktop\\Monkey-Emotions\\video\\gandalf_231205\\gandalf_231205_22_e3v831b.mp4\n",
      "Loading c:\\Users\\rober\\Desktop\\Monkey-Emotions\\video\\gandalf_231205\\gandalf_231205_22_e3v831b.mp4 and data.\n",
      "Duration of video [s]: 12.72, recorded with 120 fps!\n",
      "Overall # of frames: 1526 with cropped frame dimensions: 640 480\n",
      "Generating frames and creating video.\n"
     ]
    },
    {
     "name": "stderr",
     "output_type": "stream",
     "text": [
      "100%|██████████| 1526/1526 [00:04<00:00, 360.99it/s]\n"
     ]
    },
    {
     "name": "stdout",
     "output_type": "stream",
     "text": [
      "Starting to process video: c:\\Users\\rober\\Desktop\\Monkey-Emotions\\video\\gandalf_231205\\gandalf_231205_23_e3v831b.mp4\n",
      "Loading c:\\Users\\rober\\Desktop\\Monkey-Emotions\\video\\gandalf_231205\\gandalf_231205_23_e3v831b.mp4 and data.\n",
      "Duration of video [s]: 17.68, recorded with 120 fps!\n",
      "Overall # of frames: 2121 with cropped frame dimensions: 640 480\n",
      "Generating frames and creating video.\n"
     ]
    },
    {
     "name": "stderr",
     "output_type": "stream",
     "text": [
      "100%|██████████| 2121/2121 [00:05<00:00, 371.29it/s]\n"
     ]
    },
    {
     "name": "stdout",
     "output_type": "stream",
     "text": [
      "Starting to process video: c:\\Users\\rober\\Desktop\\Monkey-Emotions\\video\\gandalf_231205\\gandalf_231205_24_e3v831b.mp4\n",
      "Loading c:\\Users\\rober\\Desktop\\Monkey-Emotions\\video\\gandalf_231205\\gandalf_231205_24_e3v831b.mp4 and data.\n",
      "Duration of video [s]: 18.22, recorded with 120 fps!\n",
      "Overall # of frames: 2186 with cropped frame dimensions: 640 480\n",
      "Generating frames and creating video.\n"
     ]
    },
    {
     "name": "stderr",
     "output_type": "stream",
     "text": [
      "100%|██████████| 2186/2186 [00:05<00:00, 377.37it/s]\n"
     ]
    },
    {
     "name": "stdout",
     "output_type": "stream",
     "text": [
      "Starting to process video: c:\\Users\\rober\\Desktop\\Monkey-Emotions\\video\\gandalf_231205\\gandalf_231205_25_e3v831b.mp4\n",
      "Loading c:\\Users\\rober\\Desktop\\Monkey-Emotions\\video\\gandalf_231205\\gandalf_231205_25_e3v831b.mp4 and data.\n",
      "Duration of video [s]: 13.04, recorded with 120 fps!\n",
      "Overall # of frames: 1565 with cropped frame dimensions: 640 480\n",
      "Generating frames and creating video.\n"
     ]
    },
    {
     "name": "stderr",
     "output_type": "stream",
     "text": [
      "100%|██████████| 1565/1565 [00:04<00:00, 375.64it/s]\n"
     ]
    },
    {
     "name": "stdout",
     "output_type": "stream",
     "text": [
      "Starting to process video: c:\\Users\\rober\\Desktop\\Monkey-Emotions\\video\\gandalf_231205\\gandalf_231205_26_e3v831b.mp4\n",
      "Loading c:\\Users\\rober\\Desktop\\Monkey-Emotions\\video\\gandalf_231205\\gandalf_231205_26_e3v831b.mp4 and data.\n",
      "Duration of video [s]: 12.77, recorded with 120 fps!\n",
      "Overall # of frames: 1532 with cropped frame dimensions: 640 480\n",
      "Generating frames and creating video.\n"
     ]
    },
    {
     "name": "stderr",
     "output_type": "stream",
     "text": [
      "100%|██████████| 1532/1532 [00:03<00:00, 383.34it/s]\n"
     ]
    },
    {
     "name": "stdout",
     "output_type": "stream",
     "text": [
      "Starting to process video: c:\\Users\\rober\\Desktop\\Monkey-Emotions\\video\\gandalf_231205\\gandalf_231205_27_e3v831b.mp4\n",
      "Loading c:\\Users\\rober\\Desktop\\Monkey-Emotions\\video\\gandalf_231205\\gandalf_231205_27_e3v831b.mp4 and data.\n",
      "Duration of video [s]: 15.04, recorded with 120 fps!\n",
      "Overall # of frames: 1805 with cropped frame dimensions: 640 480\n",
      "Generating frames and creating video.\n"
     ]
    },
    {
     "name": "stderr",
     "output_type": "stream",
     "text": [
      "100%|██████████| 1805/1805 [00:04<00:00, 392.80it/s]\n"
     ]
    },
    {
     "name": "stdout",
     "output_type": "stream",
     "text": [
      "Starting to process video: c:\\Users\\rober\\Desktop\\Monkey-Emotions\\video\\gandalf_231205\\gandalf_231205_28_e3v831b.mp4\n",
      "Loading c:\\Users\\rober\\Desktop\\Monkey-Emotions\\video\\gandalf_231205\\gandalf_231205_28_e3v831b.mp4 and data.\n",
      "Duration of video [s]: 12.39, recorded with 120 fps!\n",
      "Overall # of frames: 1487 with cropped frame dimensions: 640 480\n",
      "Generating frames and creating video.\n"
     ]
    },
    {
     "name": "stderr",
     "output_type": "stream",
     "text": [
      "100%|██████████| 1487/1487 [00:04<00:00, 353.84it/s]\n"
     ]
    },
    {
     "name": "stdout",
     "output_type": "stream",
     "text": [
      "Starting to process video: c:\\Users\\rober\\Desktop\\Monkey-Emotions\\video\\gandalf_231205\\gandalf_231205_29_e3v831b.mp4\n",
      "Loading c:\\Users\\rober\\Desktop\\Monkey-Emotions\\video\\gandalf_231205\\gandalf_231205_29_e3v831b.mp4 and data.\n",
      "Duration of video [s]: 13.38, recorded with 120 fps!\n",
      "Overall # of frames: 1606 with cropped frame dimensions: 640 480\n",
      "Generating frames and creating video.\n"
     ]
    },
    {
     "name": "stderr",
     "output_type": "stream",
     "text": [
      "100%|██████████| 1606/1606 [00:04<00:00, 351.14it/s]\n"
     ]
    },
    {
     "name": "stdout",
     "output_type": "stream",
     "text": [
      "Starting to process video: c:\\Users\\rober\\Desktop\\Monkey-Emotions\\video\\gandalf_231205\\gandalf_231205_30_e3v831b.mp4\n",
      "Loading c:\\Users\\rober\\Desktop\\Monkey-Emotions\\video\\gandalf_231205\\gandalf_231205_30_e3v831b.mp4 and data.\n",
      "Duration of video [s]: 16.61, recorded with 120 fps!\n",
      "Overall # of frames: 1993 with cropped frame dimensions: 640 480\n",
      "Generating frames and creating video.\n"
     ]
    },
    {
     "name": "stderr",
     "output_type": "stream",
     "text": [
      "100%|██████████| 1993/1993 [00:05<00:00, 374.74it/s]\n"
     ]
    },
    {
     "name": "stdout",
     "output_type": "stream",
     "text": [
      "Starting to process video: c:\\Users\\rober\\Desktop\\Monkey-Emotions\\video\\gandalf_231205\\gandalf_231205_31_e3v831b.mp4\n",
      "Loading c:\\Users\\rober\\Desktop\\Monkey-Emotions\\video\\gandalf_231205\\gandalf_231205_31_e3v831b.mp4 and data.\n",
      "Duration of video [s]: 16.1, recorded with 120 fps!\n",
      "Overall # of frames: 1932 with cropped frame dimensions: 640 480\n",
      "Generating frames and creating video.\n"
     ]
    },
    {
     "name": "stderr",
     "output_type": "stream",
     "text": [
      "100%|██████████| 1932/1932 [00:04<00:00, 389.02it/s]\n"
     ]
    },
    {
     "name": "stdout",
     "output_type": "stream",
     "text": [
      "Starting to process video: c:\\Users\\rober\\Desktop\\Monkey-Emotions\\video\\gandalf_231205\\gandalf_231205_32_e3v831b.mp4\n",
      "Loading c:\\Users\\rober\\Desktop\\Monkey-Emotions\\video\\gandalf_231205\\gandalf_231205_32_e3v831b.mp4 and data.\n",
      "Duration of video [s]: 12.22, recorded with 120 fps!\n",
      "Overall # of frames: 1467 with cropped frame dimensions: 640 480\n",
      "Generating frames and creating video.\n"
     ]
    },
    {
     "name": "stderr",
     "output_type": "stream",
     "text": [
      "100%|██████████| 1467/1467 [00:03<00:00, 385.85it/s]\n"
     ]
    },
    {
     "name": "stdout",
     "output_type": "stream",
     "text": [
      "Starting to process video: c:\\Users\\rober\\Desktop\\Monkey-Emotions\\video\\gandalf_231205\\gandalf_231205_33_e3v831b.mp4\n",
      "Loading c:\\Users\\rober\\Desktop\\Monkey-Emotions\\video\\gandalf_231205\\gandalf_231205_33_e3v831b.mp4 and data.\n",
      "Duration of video [s]: 14.82, recorded with 120 fps!\n",
      "Overall # of frames: 1778 with cropped frame dimensions: 640 480\n",
      "Generating frames and creating video.\n"
     ]
    },
    {
     "name": "stderr",
     "output_type": "stream",
     "text": [
      "100%|██████████| 1778/1778 [00:04<00:00, 387.24it/s]\n"
     ]
    },
    {
     "name": "stdout",
     "output_type": "stream",
     "text": [
      "Starting to process video: c:\\Users\\rober\\Desktop\\Monkey-Emotions\\video\\gandalf_231205\\gandalf_231205_34_e3v831b.mp4\n",
      "Loading c:\\Users\\rober\\Desktop\\Monkey-Emotions\\video\\gandalf_231205\\gandalf_231205_34_e3v831b.mp4 and data.\n",
      "Duration of video [s]: 18.98, recorded with 120 fps!\n",
      "Overall # of frames: 2277 with cropped frame dimensions: 640 480\n",
      "Generating frames and creating video.\n"
     ]
    },
    {
     "name": "stderr",
     "output_type": "stream",
     "text": [
      "100%|██████████| 2277/2277 [00:05<00:00, 391.34it/s]\n"
     ]
    },
    {
     "name": "stdout",
     "output_type": "stream",
     "text": [
      "Starting to process video: c:\\Users\\rober\\Desktop\\Monkey-Emotions\\video\\gandalf_231205\\gandalf_231205_35_e3v831b.mp4\n",
      "Loading c:\\Users\\rober\\Desktop\\Monkey-Emotions\\video\\gandalf_231205\\gandalf_231205_35_e3v831b.mp4 and data.\n",
      "Duration of video [s]: 10.13, recorded with 120 fps!\n",
      "Overall # of frames: 1216 with cropped frame dimensions: 640 480\n",
      "Generating frames and creating video.\n"
     ]
    },
    {
     "name": "stderr",
     "output_type": "stream",
     "text": [
      "100%|██████████| 1216/1216 [00:02<00:00, 410.32it/s]\n"
     ]
    },
    {
     "name": "stdout",
     "output_type": "stream",
     "text": [
      "Starting to process video: c:\\Users\\rober\\Desktop\\Monkey-Emotions\\video\\gandalf_231205\\gandalf_231205_36_e3v831b.mp4\n",
      "Loading c:\\Users\\rober\\Desktop\\Monkey-Emotions\\video\\gandalf_231205\\gandalf_231205_36_e3v831b.mp4 and data.\n",
      "Duration of video [s]: 12.55, recorded with 120 fps!\n",
      "Overall # of frames: 1506 with cropped frame dimensions: 640 480\n",
      "Generating frames and creating video.\n"
     ]
    },
    {
     "name": "stderr",
     "output_type": "stream",
     "text": [
      "100%|██████████| 1506/1506 [00:03<00:00, 410.44it/s]\n"
     ]
    },
    {
     "name": "stdout",
     "output_type": "stream",
     "text": [
      "Starting to process video: c:\\Users\\rober\\Desktop\\Monkey-Emotions\\video\\gandalf_231205\\gandalf_231205_37_e3v831b.mp4\n",
      "Loading c:\\Users\\rober\\Desktop\\Monkey-Emotions\\video\\gandalf_231205\\gandalf_231205_37_e3v831b.mp4 and data.\n",
      "Duration of video [s]: 17.94, recorded with 120 fps!\n",
      "Overall # of frames: 2153 with cropped frame dimensions: 640 480\n",
      "Generating frames and creating video.\n"
     ]
    },
    {
     "name": "stderr",
     "output_type": "stream",
     "text": [
      "100%|██████████| 2153/2153 [00:05<00:00, 408.49it/s]\n"
     ]
    },
    {
     "name": "stdout",
     "output_type": "stream",
     "text": [
      "Starting to process video: c:\\Users\\rober\\Desktop\\Monkey-Emotions\\video\\gandalf_231205\\gandalf_231205_38_e3v831b.mp4\n",
      "Loading c:\\Users\\rober\\Desktop\\Monkey-Emotions\\video\\gandalf_231205\\gandalf_231205_38_e3v831b.mp4 and data.\n",
      "Duration of video [s]: 17.37, recorded with 120 fps!\n",
      "Overall # of frames: 2084 with cropped frame dimensions: 640 480\n",
      "Generating frames and creating video.\n"
     ]
    },
    {
     "name": "stderr",
     "output_type": "stream",
     "text": [
      "100%|██████████| 2084/2084 [00:05<00:00, 410.43it/s]\n"
     ]
    },
    {
     "name": "stdout",
     "output_type": "stream",
     "text": [
      "Starting to process video: c:\\Users\\rober\\Desktop\\Monkey-Emotions\\video\\gandalf_231205\\gandalf_231205_39_e3v831b.mp4\n",
      "Loading c:\\Users\\rober\\Desktop\\Monkey-Emotions\\video\\gandalf_231205\\gandalf_231205_39_e3v831b.mp4 and data.\n",
      "Duration of video [s]: 14.71, recorded with 120 fps!\n",
      "Overall # of frames: 1765 with cropped frame dimensions: 640 480\n",
      "Generating frames and creating video.\n"
     ]
    },
    {
     "name": "stderr",
     "output_type": "stream",
     "text": [
      "100%|██████████| 1765/1765 [00:04<00:00, 405.86it/s]\n"
     ]
    },
    {
     "name": "stdout",
     "output_type": "stream",
     "text": [
      "Starting to process video: c:\\Users\\rober\\Desktop\\Monkey-Emotions\\video\\gandalf_231205\\gandalf_231205_40_e3v831b.mp4\n",
      "Loading c:\\Users\\rober\\Desktop\\Monkey-Emotions\\video\\gandalf_231205\\gandalf_231205_40_e3v831b.mp4 and data.\n",
      "Duration of video [s]: 11.6, recorded with 120 fps!\n",
      "Overall # of frames: 1392 with cropped frame dimensions: 640 480\n",
      "Generating frames and creating video.\n"
     ]
    },
    {
     "name": "stderr",
     "output_type": "stream",
     "text": [
      "100%|██████████| 1392/1392 [00:03<00:00, 405.46it/s]\n"
     ]
    },
    {
     "name": "stdout",
     "output_type": "stream",
     "text": [
      "Starting to process video: c:\\Users\\rober\\Desktop\\Monkey-Emotions\\video\\gandalf_231205\\gandalf_231205_41_e3v831b.mp4\n",
      "Loading c:\\Users\\rober\\Desktop\\Monkey-Emotions\\video\\gandalf_231205\\gandalf_231205_41_e3v831b.mp4 and data.\n",
      "Duration of video [s]: 45.07, recorded with 120 fps!\n",
      "Overall # of frames: 5408 with cropped frame dimensions: 640 480\n",
      "Generating frames and creating video.\n"
     ]
    },
    {
     "name": "stderr",
     "output_type": "stream",
     "text": [
      "100%|██████████| 5408/5408 [00:13<00:00, 403.48it/s]\n"
     ]
    },
    {
     "name": "stdout",
     "output_type": "stream",
     "text": [
      "Starting to process video: c:\\Users\\rober\\Desktop\\Monkey-Emotions\\video\\gandalf_231205\\gandalf_231205_42_e3v831b.mp4\n",
      "Loading c:\\Users\\rober\\Desktop\\Monkey-Emotions\\video\\gandalf_231205\\gandalf_231205_42_e3v831b.mp4 and data.\n",
      "Duration of video [s]: 17.65, recorded with 120 fps!\n",
      "Overall # of frames: 2118 with cropped frame dimensions: 640 480\n",
      "Generating frames and creating video.\n"
     ]
    },
    {
     "name": "stderr",
     "output_type": "stream",
     "text": [
      "100%|██████████| 2118/2118 [00:05<00:00, 407.60it/s]\n"
     ]
    },
    {
     "name": "stdout",
     "output_type": "stream",
     "text": [
      "Starting to process video: c:\\Users\\rober\\Desktop\\Monkey-Emotions\\video\\gandalf_231205\\gandalf_231205_43_e3v831b.mp4\n",
      "Loading c:\\Users\\rober\\Desktop\\Monkey-Emotions\\video\\gandalf_231205\\gandalf_231205_43_e3v831b.mp4 and data.\n",
      "Duration of video [s]: 15.41, recorded with 120 fps!\n",
      "Overall # of frames: 1849 with cropped frame dimensions: 640 480\n",
      "Generating frames and creating video.\n"
     ]
    },
    {
     "name": "stderr",
     "output_type": "stream",
     "text": [
      "100%|██████████| 1849/1849 [00:04<00:00, 405.71it/s]\n"
     ]
    },
    {
     "name": "stdout",
     "output_type": "stream",
     "text": [
      "Starting to process video: c:\\Users\\rober\\Desktop\\Monkey-Emotions\\video\\gandalf_231205\\gandalf_231205_44_e3v831b.mp4\n",
      "Loading c:\\Users\\rober\\Desktop\\Monkey-Emotions\\video\\gandalf_231205\\gandalf_231205_44_e3v831b.mp4 and data.\n",
      "Duration of video [s]: 15.68, recorded with 120 fps!\n",
      "Overall # of frames: 1882 with cropped frame dimensions: 640 480\n",
      "Generating frames and creating video.\n"
     ]
    },
    {
     "name": "stderr",
     "output_type": "stream",
     "text": [
      "100%|██████████| 1882/1882 [00:04<00:00, 405.50it/s]\n"
     ]
    },
    {
     "name": "stdout",
     "output_type": "stream",
     "text": [
      "Starting to process video: c:\\Users\\rober\\Desktop\\Monkey-Emotions\\video\\gandalf_231205\\gandalf_231205_45_e3v831b.mp4\n",
      "Loading c:\\Users\\rober\\Desktop\\Monkey-Emotions\\video\\gandalf_231205\\gandalf_231205_45_e3v831b.mp4 and data.\n",
      "Duration of video [s]: 17.57, recorded with 120 fps!\n",
      "Overall # of frames: 2109 with cropped frame dimensions: 640 480\n",
      "Generating frames and creating video.\n"
     ]
    },
    {
     "name": "stderr",
     "output_type": "stream",
     "text": [
      "100%|██████████| 2109/2109 [00:05<00:00, 404.69it/s]\n"
     ]
    },
    {
     "name": "stdout",
     "output_type": "stream",
     "text": [
      "Starting to process video: c:\\Users\\rober\\Desktop\\Monkey-Emotions\\video\\gandalf_231205\\gandalf_231205_46_e3v831b.mp4\n",
      "Loading c:\\Users\\rober\\Desktop\\Monkey-Emotions\\video\\gandalf_231205\\gandalf_231205_46_e3v831b.mp4 and data.\n",
      "Duration of video [s]: 16.04, recorded with 120 fps!\n",
      "Overall # of frames: 1925 with cropped frame dimensions: 640 480\n",
      "Generating frames and creating video.\n"
     ]
    },
    {
     "name": "stderr",
     "output_type": "stream",
     "text": [
      "100%|██████████| 1925/1925 [00:04<00:00, 394.44it/s]\n"
     ]
    },
    {
     "name": "stdout",
     "output_type": "stream",
     "text": [
      "Starting to process video: c:\\Users\\rober\\Desktop\\Monkey-Emotions\\video\\gandalf_231205\\gandalf_231205_47_e3v831b.mp4\n",
      "Loading c:\\Users\\rober\\Desktop\\Monkey-Emotions\\video\\gandalf_231205\\gandalf_231205_47_e3v831b.mp4 and data.\n",
      "Duration of video [s]: 16.45, recorded with 120 fps!\n",
      "Overall # of frames: 1974 with cropped frame dimensions: 640 480\n",
      "Generating frames and creating video.\n"
     ]
    },
    {
     "name": "stderr",
     "output_type": "stream",
     "text": [
      "100%|██████████| 1974/1974 [00:04<00:00, 404.67it/s]\n"
     ]
    },
    {
     "name": "stdout",
     "output_type": "stream",
     "text": [
      "Starting to process video: c:\\Users\\rober\\Desktop\\Monkey-Emotions\\video\\gandalf_231205\\gandalf_231205_48_e3v831b.mp4\n",
      "Loading c:\\Users\\rober\\Desktop\\Monkey-Emotions\\video\\gandalf_231205\\gandalf_231205_48_e3v831b.mp4 and data.\n",
      "Duration of video [s]: 15.71, recorded with 120 fps!\n",
      "Overall # of frames: 1885 with cropped frame dimensions: 640 480\n",
      "Generating frames and creating video.\n"
     ]
    },
    {
     "name": "stderr",
     "output_type": "stream",
     "text": [
      "100%|██████████| 1885/1885 [00:04<00:00, 400.98it/s]\n"
     ]
    },
    {
     "name": "stdout",
     "output_type": "stream",
     "text": [
      "Starting to process video: c:\\Users\\rober\\Desktop\\Monkey-Emotions\\video\\gandalf_231205\\gandalf_231205_49_e3v831b.mp4\n",
      "Loading c:\\Users\\rober\\Desktop\\Monkey-Emotions\\video\\gandalf_231205\\gandalf_231205_49_e3v831b.mp4 and data.\n",
      "Duration of video [s]: 15.36, recorded with 120 fps!\n",
      "Overall # of frames: 1843 with cropped frame dimensions: 640 480\n",
      "Generating frames and creating video.\n"
     ]
    },
    {
     "name": "stderr",
     "output_type": "stream",
     "text": [
      "100%|██████████| 1843/1843 [00:04<00:00, 408.04it/s]\n"
     ]
    },
    {
     "name": "stdout",
     "output_type": "stream",
     "text": [
      "Starting to process video: c:\\Users\\rober\\Desktop\\Monkey-Emotions\\video\\gandalf_231205\\gandalf_231205_50_e3v831b.mp4\n",
      "Loading c:\\Users\\rober\\Desktop\\Monkey-Emotions\\video\\gandalf_231205\\gandalf_231205_50_e3v831b.mp4 and data.\n",
      "Duration of video [s]: 16.27, recorded with 120 fps!\n",
      "Overall # of frames: 1953 with cropped frame dimensions: 640 480\n",
      "Generating frames and creating video.\n"
     ]
    },
    {
     "name": "stderr",
     "output_type": "stream",
     "text": [
      "100%|██████████| 1953/1953 [00:04<00:00, 407.88it/s]\n"
     ]
    },
    {
     "name": "stdout",
     "output_type": "stream",
     "text": [
      "Starting to process video: c:\\Users\\rober\\Desktop\\Monkey-Emotions\\video\\gandalf_231205\\gandalf_231205_51_e3v831b.mp4\n",
      "Loading c:\\Users\\rober\\Desktop\\Monkey-Emotions\\video\\gandalf_231205\\gandalf_231205_51_e3v831b.mp4 and data.\n",
      "Duration of video [s]: 14.18, recorded with 120 fps!\n",
      "Overall # of frames: 1702 with cropped frame dimensions: 640 480\n",
      "Generating frames and creating video.\n"
     ]
    },
    {
     "name": "stderr",
     "output_type": "stream",
     "text": [
      "100%|██████████| 1702/1702 [00:04<00:00, 409.89it/s]\n"
     ]
    },
    {
     "name": "stdout",
     "output_type": "stream",
     "text": [
      "Starting to process video: c:\\Users\\rober\\Desktop\\Monkey-Emotions\\video\\gandalf_231205\\gandalf_231205_52_e3v831b.mp4\n",
      "Loading c:\\Users\\rober\\Desktop\\Monkey-Emotions\\video\\gandalf_231205\\gandalf_231205_52_e3v831b.mp4 and data.\n",
      "Duration of video [s]: 12.0, recorded with 120 fps!\n",
      "Overall # of frames: 1440 with cropped frame dimensions: 640 480\n",
      "Generating frames and creating video.\n"
     ]
    },
    {
     "name": "stderr",
     "output_type": "stream",
     "text": [
      "100%|██████████| 1440/1440 [00:03<00:00, 404.07it/s]\n"
     ]
    },
    {
     "name": "stdout",
     "output_type": "stream",
     "text": [
      "Starting to process video: c:\\Users\\rober\\Desktop\\Monkey-Emotions\\video\\gandalf_231205\\gandalf_231205_53_e3v831b.mp4\n",
      "Loading c:\\Users\\rober\\Desktop\\Monkey-Emotions\\video\\gandalf_231205\\gandalf_231205_53_e3v831b.mp4 and data.\n",
      "Duration of video [s]: 15.91, recorded with 120 fps!\n",
      "Overall # of frames: 1909 with cropped frame dimensions: 640 480\n",
      "Generating frames and creating video.\n"
     ]
    },
    {
     "name": "stderr",
     "output_type": "stream",
     "text": [
      "100%|██████████| 1909/1909 [00:04<00:00, 403.98it/s]\n"
     ]
    },
    {
     "name": "stdout",
     "output_type": "stream",
     "text": [
      "Starting to process video: c:\\Users\\rober\\Desktop\\Monkey-Emotions\\video\\gandalf_231205\\gandalf_231205_54_e3v831b.mp4\n",
      "Loading c:\\Users\\rober\\Desktop\\Monkey-Emotions\\video\\gandalf_231205\\gandalf_231205_54_e3v831b.mp4 and data.\n",
      "Duration of video [s]: 14.89, recorded with 120 fps!\n",
      "Overall # of frames: 1787 with cropped frame dimensions: 640 480\n",
      "Generating frames and creating video.\n"
     ]
    },
    {
     "name": "stderr",
     "output_type": "stream",
     "text": [
      "100%|██████████| 1787/1787 [00:04<00:00, 407.77it/s]\n"
     ]
    },
    {
     "name": "stdout",
     "output_type": "stream",
     "text": [
      "Starting to process video: c:\\Users\\rober\\Desktop\\Monkey-Emotions\\video\\gandalf_231205\\gandalf_231205_55_e3v831b.mp4\n",
      "Loading c:\\Users\\rober\\Desktop\\Monkey-Emotions\\video\\gandalf_231205\\gandalf_231205_55_e3v831b.mp4 and data.\n",
      "Duration of video [s]: 10.08, recorded with 120 fps!\n",
      "Overall # of frames: 1210 with cropped frame dimensions: 640 480\n",
      "Generating frames and creating video.\n"
     ]
    },
    {
     "name": "stderr",
     "output_type": "stream",
     "text": [
      "100%|██████████| 1210/1210 [00:02<00:00, 407.99it/s]\n"
     ]
    },
    {
     "name": "stdout",
     "output_type": "stream",
     "text": [
      "Starting to process video: c:\\Users\\rober\\Desktop\\Monkey-Emotions\\video\\gandalf_231205\\gandalf_231205_56_e3v831b.mp4\n",
      "Loading c:\\Users\\rober\\Desktop\\Monkey-Emotions\\video\\gandalf_231205\\gandalf_231205_56_e3v831b.mp4 and data.\n",
      "Duration of video [s]: 16.57, recorded with 120 fps!\n",
      "Overall # of frames: 1988 with cropped frame dimensions: 640 480\n",
      "Generating frames and creating video.\n"
     ]
    },
    {
     "name": "stderr",
     "output_type": "stream",
     "text": [
      "100%|██████████| 1988/1988 [00:04<00:00, 409.02it/s]\n"
     ]
    },
    {
     "name": "stdout",
     "output_type": "stream",
     "text": [
      "Starting to process video: c:\\Users\\rober\\Desktop\\Monkey-Emotions\\video\\gandalf_231205\\gandalf_231205_57_e3v831b.mp4\n",
      "Loading c:\\Users\\rober\\Desktop\\Monkey-Emotions\\video\\gandalf_231205\\gandalf_231205_57_e3v831b.mp4 and data.\n",
      "Duration of video [s]: 16.41, recorded with 120 fps!\n",
      "Overall # of frames: 1969 with cropped frame dimensions: 640 480\n",
      "Generating frames and creating video.\n"
     ]
    },
    {
     "name": "stderr",
     "output_type": "stream",
     "text": [
      "100%|██████████| 1969/1969 [00:04<00:00, 408.68it/s]\n"
     ]
    },
    {
     "name": "stdout",
     "output_type": "stream",
     "text": [
      "Starting to process video: c:\\Users\\rober\\Desktop\\Monkey-Emotions\\video\\gandalf_231205\\gandalf_231205_58_e3v831b.mp4\n",
      "Loading c:\\Users\\rober\\Desktop\\Monkey-Emotions\\video\\gandalf_231205\\gandalf_231205_58_e3v831b.mp4 and data.\n",
      "Duration of video [s]: 18.24, recorded with 120 fps!\n",
      "Overall # of frames: 2189 with cropped frame dimensions: 640 480\n",
      "Generating frames and creating video.\n"
     ]
    },
    {
     "name": "stderr",
     "output_type": "stream",
     "text": [
      "100%|██████████| 2189/2189 [00:05<00:00, 408.55it/s]\n"
     ]
    },
    {
     "name": "stdout",
     "output_type": "stream",
     "text": [
      "Starting to process video: c:\\Users\\rober\\Desktop\\Monkey-Emotions\\video\\gandalf_231205\\gandalf_231205_59_e3v831b.mp4\n",
      "Loading c:\\Users\\rober\\Desktop\\Monkey-Emotions\\video\\gandalf_231205\\gandalf_231205_59_e3v831b.mp4 and data.\n",
      "Duration of video [s]: 10.48, recorded with 120 fps!\n",
      "Overall # of frames: 1258 with cropped frame dimensions: 640 480\n",
      "Generating frames and creating video.\n"
     ]
    },
    {
     "name": "stderr",
     "output_type": "stream",
     "text": [
      "100%|██████████| 1258/1258 [00:03<00:00, 404.41it/s]\n"
     ]
    },
    {
     "name": "stdout",
     "output_type": "stream",
     "text": [
      "Starting to process video: c:\\Users\\rober\\Desktop\\Monkey-Emotions\\video\\gandalf_231205\\gandalf_231205_60_e3v831b.mp4\n",
      "Loading c:\\Users\\rober\\Desktop\\Monkey-Emotions\\video\\gandalf_231205\\gandalf_231205_60_e3v831b.mp4 and data.\n",
      "Duration of video [s]: 20.92, recorded with 120 fps!\n",
      "Overall # of frames: 2510 with cropped frame dimensions: 640 480\n",
      "Generating frames and creating video.\n"
     ]
    },
    {
     "name": "stderr",
     "output_type": "stream",
     "text": [
      "100%|██████████| 2510/2510 [00:06<00:00, 408.28it/s]\n"
     ]
    },
    {
     "name": "stdout",
     "output_type": "stream",
     "text": [
      "Starting to process video: c:\\Users\\rober\\Desktop\\Monkey-Emotions\\video\\gandalf_231205\\gandalf_231205_61_e3v831b.mp4\n",
      "Loading c:\\Users\\rober\\Desktop\\Monkey-Emotions\\video\\gandalf_231205\\gandalf_231205_61_e3v831b.mp4 and data.\n",
      "Duration of video [s]: 14.88, recorded with 120 fps!\n",
      "Overall # of frames: 1786 with cropped frame dimensions: 640 480\n",
      "Generating frames and creating video.\n"
     ]
    },
    {
     "name": "stderr",
     "output_type": "stream",
     "text": [
      "100%|██████████| 1786/1786 [00:04<00:00, 407.90it/s]\n"
     ]
    },
    {
     "name": "stdout",
     "output_type": "stream",
     "text": [
      "Starting to process video: c:\\Users\\rober\\Desktop\\Monkey-Emotions\\video\\gandalf_231205\\gandalf_231205_62_e3v831b.mp4\n",
      "Loading c:\\Users\\rober\\Desktop\\Monkey-Emotions\\video\\gandalf_231205\\gandalf_231205_62_e3v831b.mp4 and data.\n",
      "Duration of video [s]: 19.56, recorded with 120 fps!\n",
      "Overall # of frames: 2347 with cropped frame dimensions: 640 480\n",
      "Generating frames and creating video.\n"
     ]
    },
    {
     "name": "stderr",
     "output_type": "stream",
     "text": [
      "100%|██████████| 2347/2347 [00:05<00:00, 403.58it/s]\n"
     ]
    },
    {
     "name": "stdout",
     "output_type": "stream",
     "text": [
      "Starting to process video: c:\\Users\\rober\\Desktop\\Monkey-Emotions\\video\\gandalf_231205\\gandalf_231205_63_e3v831b.mp4\n",
      "Loading c:\\Users\\rober\\Desktop\\Monkey-Emotions\\video\\gandalf_231205\\gandalf_231205_63_e3v831b.mp4 and data.\n",
      "Duration of video [s]: 14.64, recorded with 120 fps!\n",
      "Overall # of frames: 1757 with cropped frame dimensions: 640 480\n",
      "Generating frames and creating video.\n"
     ]
    },
    {
     "name": "stderr",
     "output_type": "stream",
     "text": [
      "100%|██████████| 1757/1757 [00:04<00:00, 408.60it/s]\n"
     ]
    },
    {
     "name": "stdout",
     "output_type": "stream",
     "text": [
      "Starting to process video: c:\\Users\\rober\\Desktop\\Monkey-Emotions\\video\\gandalf_231205\\gandalf_231205_64_e3v831b.mp4\n",
      "Loading c:\\Users\\rober\\Desktop\\Monkey-Emotions\\video\\gandalf_231205\\gandalf_231205_64_e3v831b.mp4 and data.\n",
      "Duration of video [s]: 19.32, recorded with 120 fps!\n",
      "Overall # of frames: 2318 with cropped frame dimensions: 640 480\n",
      "Generating frames and creating video.\n"
     ]
    },
    {
     "name": "stderr",
     "output_type": "stream",
     "text": [
      "100%|██████████| 2318/2318 [00:05<00:00, 407.22it/s]\n"
     ]
    },
    {
     "name": "stdout",
     "output_type": "stream",
     "text": [
      "Starting to process video: c:\\Users\\rober\\Desktop\\Monkey-Emotions\\video\\gandalf_231205\\gandalf_231205_65_e3v831b.mp4\n",
      "Loading c:\\Users\\rober\\Desktop\\Monkey-Emotions\\video\\gandalf_231205\\gandalf_231205_65_e3v831b.mp4 and data.\n",
      "Duration of video [s]: 17.73, recorded with 120 fps!\n",
      "Overall # of frames: 2127 with cropped frame dimensions: 640 480\n",
      "Generating frames and creating video.\n"
     ]
    },
    {
     "name": "stderr",
     "output_type": "stream",
     "text": [
      "100%|██████████| 2127/2127 [00:05<00:00, 409.10it/s]\n"
     ]
    },
    {
     "name": "stdout",
     "output_type": "stream",
     "text": [
      "Starting to process video: c:\\Users\\rober\\Desktop\\Monkey-Emotions\\video\\gandalf_231205\\gandalf_231205_66_e3v831b.mp4\n",
      "Loading c:\\Users\\rober\\Desktop\\Monkey-Emotions\\video\\gandalf_231205\\gandalf_231205_66_e3v831b.mp4 and data.\n",
      "Duration of video [s]: 11.98, recorded with 120 fps!\n",
      "Overall # of frames: 1438 with cropped frame dimensions: 640 480\n",
      "Generating frames and creating video.\n"
     ]
    },
    {
     "name": "stderr",
     "output_type": "stream",
     "text": [
      "100%|██████████| 1438/1438 [00:03<00:00, 410.62it/s]\n"
     ]
    },
    {
     "name": "stdout",
     "output_type": "stream",
     "text": [
      "Starting to process video: c:\\Users\\rober\\Desktop\\Monkey-Emotions\\video\\gandalf_231205\\gandalf_231205_67_e3v831b.mp4\n",
      "Loading c:\\Users\\rober\\Desktop\\Monkey-Emotions\\video\\gandalf_231205\\gandalf_231205_67_e3v831b.mp4 and data.\n",
      "Duration of video [s]: 16.17, recorded with 120 fps!\n",
      "Overall # of frames: 1940 with cropped frame dimensions: 640 480\n",
      "Generating frames and creating video.\n"
     ]
    },
    {
     "name": "stderr",
     "output_type": "stream",
     "text": [
      "100%|██████████| 1940/1940 [00:04<00:00, 405.84it/s]\n"
     ]
    },
    {
     "name": "stdout",
     "output_type": "stream",
     "text": [
      "Starting to process video: c:\\Users\\rober\\Desktop\\Monkey-Emotions\\video\\gandalf_231205\\gandalf_231205_68_e3v831b.mp4\n",
      "Loading c:\\Users\\rober\\Desktop\\Monkey-Emotions\\video\\gandalf_231205\\gandalf_231205_68_e3v831b.mp4 and data.\n",
      "Duration of video [s]: 11.1, recorded with 120 fps!\n",
      "Overall # of frames: 1332 with cropped frame dimensions: 640 480\n",
      "Generating frames and creating video.\n"
     ]
    },
    {
     "name": "stderr",
     "output_type": "stream",
     "text": [
      "100%|██████████| 1332/1332 [00:03<00:00, 405.02it/s]\n"
     ]
    },
    {
     "name": "stdout",
     "output_type": "stream",
     "text": [
      "Starting to process video: c:\\Users\\rober\\Desktop\\Monkey-Emotions\\video\\gandalf_231205\\gandalf_231205_69_e3v831b.mp4\n",
      "Loading c:\\Users\\rober\\Desktop\\Monkey-Emotions\\video\\gandalf_231205\\gandalf_231205_69_e3v831b.mp4 and data.\n",
      "Duration of video [s]: 16.93, recorded with 120 fps!\n",
      "Overall # of frames: 2031 with cropped frame dimensions: 640 480\n",
      "Generating frames and creating video.\n"
     ]
    },
    {
     "name": "stderr",
     "output_type": "stream",
     "text": [
      "100%|██████████| 2031/2031 [00:04<00:00, 408.23it/s]\n"
     ]
    },
    {
     "name": "stdout",
     "output_type": "stream",
     "text": [
      "Starting to process video: c:\\Users\\rober\\Desktop\\Monkey-Emotions\\video\\gandalf_231205\\gandalf_231205_70_e3v831b.mp4\n",
      "Loading c:\\Users\\rober\\Desktop\\Monkey-Emotions\\video\\gandalf_231205\\gandalf_231205_70_e3v831b.mp4 and data.\n",
      "Duration of video [s]: 15.73, recorded with 120 fps!\n",
      "Overall # of frames: 1888 with cropped frame dimensions: 640 480\n",
      "Generating frames and creating video.\n"
     ]
    },
    {
     "name": "stderr",
     "output_type": "stream",
     "text": [
      "100%|██████████| 1888/1888 [00:04<00:00, 407.65it/s]\n"
     ]
    },
    {
     "name": "stdout",
     "output_type": "stream",
     "text": [
      "Starting to process video: c:\\Users\\rober\\Desktop\\Monkey-Emotions\\video\\gandalf_231205\\gandalf_231205_71_e3v831b.mp4\n",
      "Loading c:\\Users\\rober\\Desktop\\Monkey-Emotions\\video\\gandalf_231205\\gandalf_231205_71_e3v831b.mp4 and data.\n",
      "Duration of video [s]: 51.2, recorded with 120 fps!\n",
      "Overall # of frames: 6144 with cropped frame dimensions: 640 480\n",
      "Generating frames and creating video.\n"
     ]
    },
    {
     "name": "stderr",
     "output_type": "stream",
     "text": [
      "100%|██████████| 6144/6144 [00:15<00:00, 405.75it/s]\n"
     ]
    },
    {
     "name": "stdout",
     "output_type": "stream",
     "text": [
      "Starting to process video: c:\\Users\\rober\\Desktop\\Monkey-Emotions\\video\\gandalf_231205\\gandalf_231205_72_e3v831b.mp4\n",
      "Loading c:\\Users\\rober\\Desktop\\Monkey-Emotions\\video\\gandalf_231205\\gandalf_231205_72_e3v831b.mp4 and data.\n",
      "Duration of video [s]: 27.27, recorded with 120 fps!\n",
      "Overall # of frames: 3272 with cropped frame dimensions: 640 480\n",
      "Generating frames and creating video.\n"
     ]
    },
    {
     "name": "stderr",
     "output_type": "stream",
     "text": [
      "100%|██████████| 3272/3272 [00:08<00:00, 407.58it/s]\n"
     ]
    },
    {
     "name": "stdout",
     "output_type": "stream",
     "text": [
      "Starting to process video: c:\\Users\\rober\\Desktop\\Monkey-Emotions\\video\\gandalf_231205\\gandalf_231205_73_e3v831b.mp4\n",
      "Loading c:\\Users\\rober\\Desktop\\Monkey-Emotions\\video\\gandalf_231205\\gandalf_231205_73_e3v831b.mp4 and data.\n",
      "Duration of video [s]: 14.55, recorded with 120 fps!\n",
      "Overall # of frames: 1746 with cropped frame dimensions: 640 480\n",
      "Generating frames and creating video.\n"
     ]
    },
    {
     "name": "stderr",
     "output_type": "stream",
     "text": [
      "100%|██████████| 1746/1746 [00:04<00:00, 407.55it/s]\n"
     ]
    },
    {
     "name": "stdout",
     "output_type": "stream",
     "text": [
      "Starting to process video: c:\\Users\\rober\\Desktop\\Monkey-Emotions\\video\\gandalf_231205\\gandalf_231205_75_e3v831b.mp4\n",
      "Loading c:\\Users\\rober\\Desktop\\Monkey-Emotions\\video\\gandalf_231205\\gandalf_231205_75_e3v831b.mp4 and data.\n",
      "Duration of video [s]: 12.92, recorded with 120 fps!\n",
      "Overall # of frames: 1550 with cropped frame dimensions: 640 480\n",
      "Generating frames and creating video.\n"
     ]
    },
    {
     "name": "stderr",
     "output_type": "stream",
     "text": [
      "100%|██████████| 1550/1550 [00:03<00:00, 409.16it/s]\n"
     ]
    },
    {
     "name": "stdout",
     "output_type": "stream",
     "text": [
      "Starting to process video: c:\\Users\\rober\\Desktop\\Monkey-Emotions\\video\\gandalf_231205\\gandalf_231205_76_e3v831b.mp4\n",
      "Loading c:\\Users\\rober\\Desktop\\Monkey-Emotions\\video\\gandalf_231205\\gandalf_231205_76_e3v831b.mp4 and data.\n",
      "Duration of video [s]: 16.71, recorded with 120 fps!\n",
      "Overall # of frames: 2005 with cropped frame dimensions: 640 480\n",
      "Generating frames and creating video.\n"
     ]
    },
    {
     "name": "stderr",
     "output_type": "stream",
     "text": [
      "100%|██████████| 2005/2005 [00:04<00:00, 407.22it/s]\n"
     ]
    },
    {
     "name": "stdout",
     "output_type": "stream",
     "text": [
      "Starting to process video: c:\\Users\\rober\\Desktop\\Monkey-Emotions\\video\\gandalf_231205\\gandalf_231205_77_e3v831b.mp4\n",
      "Loading c:\\Users\\rober\\Desktop\\Monkey-Emotions\\video\\gandalf_231205\\gandalf_231205_77_e3v831b.mp4 and data.\n",
      "Duration of video [s]: 17.4, recorded with 120 fps!\n",
      "Overall # of frames: 2088 with cropped frame dimensions: 640 480\n",
      "Generating frames and creating video.\n"
     ]
    },
    {
     "name": "stderr",
     "output_type": "stream",
     "text": [
      "100%|██████████| 2088/2088 [00:05<00:00, 397.83it/s]\n"
     ]
    },
    {
     "name": "stdout",
     "output_type": "stream",
     "text": [
      "Starting to process video: c:\\Users\\rober\\Desktop\\Monkey-Emotions\\video\\gandalf_231205\\gandalf_231205_78_e3v831b.mp4\n",
      "Loading c:\\Users\\rober\\Desktop\\Monkey-Emotions\\video\\gandalf_231205\\gandalf_231205_78_e3v831b.mp4 and data.\n",
      "Duration of video [s]: 18.62, recorded with 120 fps!\n",
      "Overall # of frames: 2234 with cropped frame dimensions: 640 480\n",
      "Generating frames and creating video.\n"
     ]
    },
    {
     "name": "stderr",
     "output_type": "stream",
     "text": [
      "100%|██████████| 2234/2234 [00:05<00:00, 405.93it/s]\n"
     ]
    },
    {
     "name": "stdout",
     "output_type": "stream",
     "text": [
      "Starting to process video: c:\\Users\\rober\\Desktop\\Monkey-Emotions\\video\\gandalf_231205\\gandalf_231205_79_e3v831b.mp4\n",
      "Loading c:\\Users\\rober\\Desktop\\Monkey-Emotions\\video\\gandalf_231205\\gandalf_231205_79_e3v831b.mp4 and data.\n",
      "Duration of video [s]: 11.15, recorded with 120 fps!\n",
      "Overall # of frames: 1338 with cropped frame dimensions: 640 480\n",
      "Generating frames and creating video.\n"
     ]
    },
    {
     "name": "stderr",
     "output_type": "stream",
     "text": [
      "100%|██████████| 1338/1338 [00:03<00:00, 400.93it/s]\n"
     ]
    },
    {
     "name": "stdout",
     "output_type": "stream",
     "text": [
      "Starting to process video: c:\\Users\\rober\\Desktop\\Monkey-Emotions\\video\\gandalf_231205\\gandalf_231205_80_e3v831b.mp4\n",
      "Loading c:\\Users\\rober\\Desktop\\Monkey-Emotions\\video\\gandalf_231205\\gandalf_231205_80_e3v831b.mp4 and data.\n",
      "Duration of video [s]: 9.47, recorded with 120 fps!\n",
      "Overall # of frames: 1136 with cropped frame dimensions: 640 480\n",
      "Generating frames and creating video.\n"
     ]
    },
    {
     "name": "stderr",
     "output_type": "stream",
     "text": [
      "100%|██████████| 1136/1136 [00:02<00:00, 408.88it/s]\n"
     ]
    },
    {
     "name": "stdout",
     "output_type": "stream",
     "text": [
      "Starting to process video: c:\\Users\\rober\\Desktop\\Monkey-Emotions\\video\\gandalf_231205\\gandalf_231205_81_e3v831b.mp4\n",
      "Loading c:\\Users\\rober\\Desktop\\Monkey-Emotions\\video\\gandalf_231205\\gandalf_231205_81_e3v831b.mp4 and data.\n",
      "Duration of video [s]: 14.44, recorded with 120 fps!\n",
      "Overall # of frames: 1733 with cropped frame dimensions: 640 480\n",
      "Generating frames and creating video.\n"
     ]
    },
    {
     "name": "stderr",
     "output_type": "stream",
     "text": [
      "100%|██████████| 1733/1733 [00:04<00:00, 403.70it/s]\n"
     ]
    },
    {
     "name": "stdout",
     "output_type": "stream",
     "text": [
      "Starting to process video: c:\\Users\\rober\\Desktop\\Monkey-Emotions\\video\\gandalf_231205\\gandalf_231205_82_e3v831b.mp4\n",
      "Loading c:\\Users\\rober\\Desktop\\Monkey-Emotions\\video\\gandalf_231205\\gandalf_231205_82_e3v831b.mp4 and data.\n",
      "Duration of video [s]: 15.78, recorded with 120 fps!\n",
      "Overall # of frames: 1893 with cropped frame dimensions: 640 480\n",
      "Generating frames and creating video.\n"
     ]
    },
    {
     "name": "stderr",
     "output_type": "stream",
     "text": [
      "100%|██████████| 1893/1893 [00:04<00:00, 406.70it/s]\n"
     ]
    },
    {
     "name": "stdout",
     "output_type": "stream",
     "text": [
      "Starting to process video: c:\\Users\\rober\\Desktop\\Monkey-Emotions\\video\\gandalf_231205\\gandalf_231205_83_e3v831b.mp4\n",
      "Loading c:\\Users\\rober\\Desktop\\Monkey-Emotions\\video\\gandalf_231205\\gandalf_231205_83_e3v831b.mp4 and data.\n",
      "Duration of video [s]: 14.49, recorded with 120 fps!\n",
      "Overall # of frames: 1739 with cropped frame dimensions: 640 480\n",
      "Generating frames and creating video.\n"
     ]
    },
    {
     "name": "stderr",
     "output_type": "stream",
     "text": [
      "100%|██████████| 1739/1739 [00:04<00:00, 411.01it/s]\n"
     ]
    },
    {
     "name": "stdout",
     "output_type": "stream",
     "text": [
      "Starting to process video: c:\\Users\\rober\\Desktop\\Monkey-Emotions\\video\\gandalf_231205\\gandalf_231205_84_e3v831b.mp4\n",
      "Loading c:\\Users\\rober\\Desktop\\Monkey-Emotions\\video\\gandalf_231205\\gandalf_231205_84_e3v831b.mp4 and data.\n",
      "Duration of video [s]: 15.07, recorded with 120 fps!\n",
      "Overall # of frames: 1809 with cropped frame dimensions: 640 480\n",
      "Generating frames and creating video.\n"
     ]
    },
    {
     "name": "stderr",
     "output_type": "stream",
     "text": [
      "100%|██████████| 1809/1809 [00:04<00:00, 407.79it/s]\n"
     ]
    },
    {
     "name": "stdout",
     "output_type": "stream",
     "text": [
      "Starting to process video: c:\\Users\\rober\\Desktop\\Monkey-Emotions\\video\\gandalf_231205\\gandalf_231205_85_e3v831b.mp4\n",
      "Loading c:\\Users\\rober\\Desktop\\Monkey-Emotions\\video\\gandalf_231205\\gandalf_231205_85_e3v831b.mp4 and data.\n",
      "Duration of video [s]: 18.66, recorded with 120 fps!\n",
      "Overall # of frames: 2239 with cropped frame dimensions: 640 480\n",
      "Generating frames and creating video.\n"
     ]
    },
    {
     "name": "stderr",
     "output_type": "stream",
     "text": [
      "100%|██████████| 2239/2239 [00:05<00:00, 408.29it/s]\n"
     ]
    },
    {
     "name": "stdout",
     "output_type": "stream",
     "text": [
      "Starting to process video: c:\\Users\\rober\\Desktop\\Monkey-Emotions\\video\\gandalf_231205\\gandalf_231205_86_e3v831b.mp4\n",
      "Loading c:\\Users\\rober\\Desktop\\Monkey-Emotions\\video\\gandalf_231205\\gandalf_231205_86_e3v831b.mp4 and data.\n",
      "Duration of video [s]: 14.91, recorded with 120 fps!\n",
      "Overall # of frames: 1789 with cropped frame dimensions: 640 480\n",
      "Generating frames and creating video.\n"
     ]
    },
    {
     "name": "stderr",
     "output_type": "stream",
     "text": [
      "100%|██████████| 1789/1789 [00:04<00:00, 408.63it/s]\n"
     ]
    },
    {
     "name": "stdout",
     "output_type": "stream",
     "text": [
      "Starting to process video: c:\\Users\\rober\\Desktop\\Monkey-Emotions\\video\\gandalf_231205\\gandalf_231205_87_e3v831b.mp4\n",
      "Loading c:\\Users\\rober\\Desktop\\Monkey-Emotions\\video\\gandalf_231205\\gandalf_231205_87_e3v831b.mp4 and data.\n",
      "Duration of video [s]: 21.98, recorded with 120 fps!\n",
      "Overall # of frames: 2637 with cropped frame dimensions: 640 480\n",
      "Generating frames and creating video.\n"
     ]
    },
    {
     "name": "stderr",
     "output_type": "stream",
     "text": [
      "100%|██████████| 2637/2637 [00:06<00:00, 409.36it/s]\n"
     ]
    },
    {
     "name": "stdout",
     "output_type": "stream",
     "text": [
      "Starting to process video: c:\\Users\\rober\\Desktop\\Monkey-Emotions\\video\\gandalf_231205\\gandalf_231205_88_e3v831b.mp4\n",
      "Loading c:\\Users\\rober\\Desktop\\Monkey-Emotions\\video\\gandalf_231205\\gandalf_231205_88_e3v831b.mp4 and data.\n",
      "Duration of video [s]: 14.98, recorded with 120 fps!\n",
      "Overall # of frames: 1798 with cropped frame dimensions: 640 480\n",
      "Generating frames and creating video.\n"
     ]
    },
    {
     "name": "stderr",
     "output_type": "stream",
     "text": [
      "100%|██████████| 1798/1798 [00:04<00:00, 408.26it/s]\n"
     ]
    },
    {
     "name": "stdout",
     "output_type": "stream",
     "text": [
      "Starting to process video: c:\\Users\\rober\\Desktop\\Monkey-Emotions\\video\\gandalf_231205\\gandalf_231205_89_e3v831b.mp4\n",
      "Loading c:\\Users\\rober\\Desktop\\Monkey-Emotions\\video\\gandalf_231205\\gandalf_231205_89_e3v831b.mp4 and data.\n",
      "Duration of video [s]: 14.57, recorded with 120 fps!\n",
      "Overall # of frames: 1748 with cropped frame dimensions: 640 480\n",
      "Generating frames and creating video.\n"
     ]
    },
    {
     "name": "stderr",
     "output_type": "stream",
     "text": [
      "100%|██████████| 1748/1748 [00:04<00:00, 406.98it/s]\n"
     ]
    },
    {
     "name": "stdout",
     "output_type": "stream",
     "text": [
      "Starting to process video: c:\\Users\\rober\\Desktop\\Monkey-Emotions\\video\\gandalf_231205\\gandalf_231205_90_e3v831b.mp4\n",
      "Loading c:\\Users\\rober\\Desktop\\Monkey-Emotions\\video\\gandalf_231205\\gandalf_231205_90_e3v831b.mp4 and data.\n",
      "Duration of video [s]: 11.75, recorded with 120 fps!\n",
      "Overall # of frames: 1410 with cropped frame dimensions: 640 480\n",
      "Generating frames and creating video.\n"
     ]
    },
    {
     "name": "stderr",
     "output_type": "stream",
     "text": [
      "100%|██████████| 1410/1410 [00:03<00:00, 403.96it/s]\n"
     ]
    },
    {
     "name": "stdout",
     "output_type": "stream",
     "text": [
      "Starting to process video: c:\\Users\\rober\\Desktop\\Monkey-Emotions\\video\\gandalf_231205\\gandalf_231205_91_e3v831b.mp4\n",
      "Loading c:\\Users\\rober\\Desktop\\Monkey-Emotions\\video\\gandalf_231205\\gandalf_231205_91_e3v831b.mp4 and data.\n",
      "Duration of video [s]: 50.73, recorded with 120 fps!\n",
      "Overall # of frames: 6088 with cropped frame dimensions: 640 480\n",
      "Generating frames and creating video.\n"
     ]
    },
    {
     "name": "stderr",
     "output_type": "stream",
     "text": [
      "100%|██████████| 6088/6088 [00:15<00:00, 402.25it/s]\n"
     ]
    },
    {
     "name": "stdout",
     "output_type": "stream",
     "text": [
      "Starting to process video: c:\\Users\\rober\\Desktop\\Monkey-Emotions\\video\\gandalf_231205\\gandalf_231205_92_e3v831b.mp4\n",
      "Loading c:\\Users\\rober\\Desktop\\Monkey-Emotions\\video\\gandalf_231205\\gandalf_231205_92_e3v831b.mp4 and data.\n",
      "Duration of video [s]: 46.36, recorded with 120 fps!\n",
      "Overall # of frames: 5563 with cropped frame dimensions: 640 480\n",
      "Generating frames and creating video.\n"
     ]
    },
    {
     "name": "stderr",
     "output_type": "stream",
     "text": [
      "100%|██████████| 5563/5563 [00:13<00:00, 404.90it/s]\n"
     ]
    },
    {
     "name": "stdout",
     "output_type": "stream",
     "text": [
      "Starting to process video: c:\\Users\\rober\\Desktop\\Monkey-Emotions\\video\\gandalf_231205\\gandalf_231205_93_e3v831b.mp4\n",
      "Loading c:\\Users\\rober\\Desktop\\Monkey-Emotions\\video\\gandalf_231205\\gandalf_231205_93_e3v831b.mp4 and data.\n",
      "Duration of video [s]: 14.84, recorded with 120 fps!\n",
      "Overall # of frames: 1781 with cropped frame dimensions: 640 480\n",
      "Generating frames and creating video.\n"
     ]
    },
    {
     "name": "stderr",
     "output_type": "stream",
     "text": [
      "100%|██████████| 1781/1781 [00:04<00:00, 407.81it/s]\n"
     ]
    },
    {
     "name": "stdout",
     "output_type": "stream",
     "text": [
      "Starting to process video: c:\\Users\\rober\\Desktop\\Monkey-Emotions\\video\\gandalf_231205\\gandalf_231205_94_e3v831b.mp4\n",
      "Loading c:\\Users\\rober\\Desktop\\Monkey-Emotions\\video\\gandalf_231205\\gandalf_231205_94_e3v831b.mp4 and data.\n",
      "Duration of video [s]: 13.83, recorded with 120 fps!\n",
      "Overall # of frames: 1660 with cropped frame dimensions: 640 480\n",
      "Generating frames and creating video.\n"
     ]
    },
    {
     "name": "stderr",
     "output_type": "stream",
     "text": [
      "100%|██████████| 1660/1660 [00:04<00:00, 411.60it/s]\n"
     ]
    },
    {
     "name": "stdout",
     "output_type": "stream",
     "text": [
      "Starting to process video: c:\\Users\\rober\\Desktop\\Monkey-Emotions\\video\\gandalf_231205\\gandalf_231205_95_e3v831b.mp4\n",
      "Loading c:\\Users\\rober\\Desktop\\Monkey-Emotions\\video\\gandalf_231205\\gandalf_231205_95_e3v831b.mp4 and data.\n",
      "Duration of video [s]: 14.85, recorded with 120 fps!\n",
      "Overall # of frames: 1782 with cropped frame dimensions: 640 480\n",
      "Generating frames and creating video.\n"
     ]
    },
    {
     "name": "stderr",
     "output_type": "stream",
     "text": [
      "100%|██████████| 1782/1782 [00:04<00:00, 407.48it/s]\n"
     ]
    },
    {
     "name": "stdout",
     "output_type": "stream",
     "text": [
      "Starting to process video: c:\\Users\\rober\\Desktop\\Monkey-Emotions\\video\\gandalf_231205\\gandalf_231205_96_e3v831b.mp4\n",
      "Loading c:\\Users\\rober\\Desktop\\Monkey-Emotions\\video\\gandalf_231205\\gandalf_231205_96_e3v831b.mp4 and data.\n",
      "Duration of video [s]: 15.21, recorded with 120 fps!\n",
      "Overall # of frames: 1825 with cropped frame dimensions: 640 480\n",
      "Generating frames and creating video.\n"
     ]
    },
    {
     "name": "stderr",
     "output_type": "stream",
     "text": [
      "100%|██████████| 1825/1825 [00:04<00:00, 408.22it/s]\n"
     ]
    },
    {
     "name": "stdout",
     "output_type": "stream",
     "text": [
      "Starting to process video: c:\\Users\\rober\\Desktop\\Monkey-Emotions\\video\\gandalf_231205\\gandalf_231205_97_e3v831b.mp4\n",
      "Loading c:\\Users\\rober\\Desktop\\Monkey-Emotions\\video\\gandalf_231205\\gandalf_231205_97_e3v831b.mp4 and data.\n",
      "Duration of video [s]: 17.49, recorded with 120 fps!\n",
      "Overall # of frames: 2099 with cropped frame dimensions: 640 480\n",
      "Generating frames and creating video.\n"
     ]
    },
    {
     "name": "stderr",
     "output_type": "stream",
     "text": [
      "100%|██████████| 2099/2099 [00:05<00:00, 407.84it/s]\n"
     ]
    },
    {
     "name": "stdout",
     "output_type": "stream",
     "text": [
      "Starting to process video: c:\\Users\\rober\\Desktop\\Monkey-Emotions\\video\\gandalf_231205\\gandalf_231205_98_e3v831b.mp4\n",
      "Loading c:\\Users\\rober\\Desktop\\Monkey-Emotions\\video\\gandalf_231205\\gandalf_231205_98_e3v831b.mp4 and data.\n",
      "Duration of video [s]: 15.53, recorded with 120 fps!\n",
      "Overall # of frames: 1864 with cropped frame dimensions: 640 480\n",
      "Generating frames and creating video.\n"
     ]
    },
    {
     "name": "stderr",
     "output_type": "stream",
     "text": [
      "100%|██████████| 1864/1864 [00:04<00:00, 409.24it/s]\n"
     ]
    },
    {
     "name": "stdout",
     "output_type": "stream",
     "text": [
      "Starting to process video: c:\\Users\\rober\\Desktop\\Monkey-Emotions\\video\\gandalf_231205\\gandalf_231205_99_e3v831b.mp4\n",
      "Loading c:\\Users\\rober\\Desktop\\Monkey-Emotions\\video\\gandalf_231205\\gandalf_231205_99_e3v831b.mp4 and data.\n",
      "Duration of video [s]: 16.98, recorded with 120 fps!\n",
      "Overall # of frames: 2037 with cropped frame dimensions: 640 480\n",
      "Generating frames and creating video.\n"
     ]
    },
    {
     "name": "stderr",
     "output_type": "stream",
     "text": [
      "100%|██████████| 2037/2037 [00:05<00:00, 404.87it/s]\n"
     ]
    },
    {
     "name": "stdout",
     "output_type": "stream",
     "text": [
      "Starting to process video: c:\\Users\\rober\\Desktop\\Monkey-Emotions\\video\\gandalf_231205\\gandalf_231205_100_e3v831b.mp4\n",
      "Loading c:\\Users\\rober\\Desktop\\Monkey-Emotions\\video\\gandalf_231205\\gandalf_231205_100_e3v831b.mp4 and data.\n",
      "Duration of video [s]: 10.97, recorded with 120 fps!\n",
      "Overall # of frames: 1316 with cropped frame dimensions: 640 480\n",
      "Generating frames and creating video.\n"
     ]
    },
    {
     "name": "stderr",
     "output_type": "stream",
     "text": [
      "100%|██████████| 1316/1316 [00:03<00:00, 410.49it/s]\n"
     ]
    },
    {
     "name": "stdout",
     "output_type": "stream",
     "text": [
      "Starting to process video: c:\\Users\\rober\\Desktop\\Monkey-Emotions\\video\\gandalf_231205\\gandalf_231205_101_e3v831b.mp4\n",
      "Loading c:\\Users\\rober\\Desktop\\Monkey-Emotions\\video\\gandalf_231205\\gandalf_231205_101_e3v831b.mp4 and data.\n",
      "Duration of video [s]: 18.77, recorded with 120 fps!\n",
      "Overall # of frames: 2253 with cropped frame dimensions: 640 480\n",
      "Generating frames and creating video.\n"
     ]
    },
    {
     "name": "stderr",
     "output_type": "stream",
     "text": [
      "100%|██████████| 2253/2253 [00:05<00:00, 406.98it/s]\n"
     ]
    },
    {
     "name": "stdout",
     "output_type": "stream",
     "text": [
      "Starting to process video: c:\\Users\\rober\\Desktop\\Monkey-Emotions\\video\\gandalf_231205\\gandalf_231205_102_e3v831b.mp4\n",
      "Loading c:\\Users\\rober\\Desktop\\Monkey-Emotions\\video\\gandalf_231205\\gandalf_231205_102_e3v831b.mp4 and data.\n",
      "Duration of video [s]: 13.08, recorded with 120 fps!\n",
      "Overall # of frames: 1570 with cropped frame dimensions: 640 480\n",
      "Generating frames and creating video.\n"
     ]
    },
    {
     "name": "stderr",
     "output_type": "stream",
     "text": [
      "100%|██████████| 1570/1570 [00:03<00:00, 404.31it/s]\n"
     ]
    },
    {
     "name": "stdout",
     "output_type": "stream",
     "text": [
      "Starting to process video: c:\\Users\\rober\\Desktop\\Monkey-Emotions\\video\\gandalf_231205\\gandalf_231205_103_e3v831b.mp4\n",
      "Loading c:\\Users\\rober\\Desktop\\Monkey-Emotions\\video\\gandalf_231205\\gandalf_231205_103_e3v831b.mp4 and data.\n",
      "Duration of video [s]: 13.87, recorded with 120 fps!\n",
      "Overall # of frames: 1664 with cropped frame dimensions: 640 480\n",
      "Generating frames and creating video.\n"
     ]
    },
    {
     "name": "stderr",
     "output_type": "stream",
     "text": [
      "100%|██████████| 1664/1664 [00:04<00:00, 399.89it/s]\n"
     ]
    },
    {
     "name": "stdout",
     "output_type": "stream",
     "text": [
      "Starting to process video: c:\\Users\\rober\\Desktop\\Monkey-Emotions\\video\\gandalf_231205\\gandalf_231205_104_e3v831b.mp4\n",
      "Loading c:\\Users\\rober\\Desktop\\Monkey-Emotions\\video\\gandalf_231205\\gandalf_231205_104_e3v831b.mp4 and data.\n",
      "Duration of video [s]: 16.52, recorded with 120 fps!\n",
      "Overall # of frames: 1983 with cropped frame dimensions: 640 480\n",
      "Generating frames and creating video.\n"
     ]
    },
    {
     "name": "stderr",
     "output_type": "stream",
     "text": [
      "100%|██████████| 1983/1983 [00:04<00:00, 408.93it/s]\n"
     ]
    },
    {
     "name": "stdout",
     "output_type": "stream",
     "text": [
      "Starting to process video: c:\\Users\\rober\\Desktop\\Monkey-Emotions\\video\\gandalf_231205\\gandalf_231205_105_e3v831b.mp4\n",
      "Loading c:\\Users\\rober\\Desktop\\Monkey-Emotions\\video\\gandalf_231205\\gandalf_231205_105_e3v831b.mp4 and data.\n",
      "Duration of video [s]: 20.24, recorded with 120 fps!\n",
      "Overall # of frames: 2429 with cropped frame dimensions: 640 480\n",
      "Generating frames and creating video.\n"
     ]
    },
    {
     "name": "stderr",
     "output_type": "stream",
     "text": [
      "100%|██████████| 2429/2429 [00:05<00:00, 405.85it/s]\n"
     ]
    },
    {
     "name": "stdout",
     "output_type": "stream",
     "text": [
      "Starting to process video: c:\\Users\\rober\\Desktop\\Monkey-Emotions\\video\\gandalf_231205\\gandalf_231205_106_e3v831b.mp4\n",
      "Loading c:\\Users\\rober\\Desktop\\Monkey-Emotions\\video\\gandalf_231205\\gandalf_231205_106_e3v831b.mp4 and data.\n",
      "Duration of video [s]: 17.76, recorded with 120 fps!\n",
      "Overall # of frames: 2131 with cropped frame dimensions: 640 480\n",
      "Generating frames and creating video.\n"
     ]
    },
    {
     "name": "stderr",
     "output_type": "stream",
     "text": [
      "100%|██████████| 2131/2131 [00:05<00:00, 378.69it/s]\n"
     ]
    },
    {
     "name": "stdout",
     "output_type": "stream",
     "text": [
      "Starting to process video: c:\\Users\\rober\\Desktop\\Monkey-Emotions\\video\\gandalf_231205\\gandalf_231205_107_e3v831b.mp4\n",
      "Loading c:\\Users\\rober\\Desktop\\Monkey-Emotions\\video\\gandalf_231205\\gandalf_231205_107_e3v831b.mp4 and data.\n",
      "Duration of video [s]: 12.0, recorded with 120 fps!\n",
      "Overall # of frames: 1440 with cropped frame dimensions: 640 480\n",
      "Generating frames and creating video.\n"
     ]
    },
    {
     "name": "stderr",
     "output_type": "stream",
     "text": [
      "100%|██████████| 1440/1440 [00:03<00:00, 376.62it/s]\n"
     ]
    },
    {
     "name": "stdout",
     "output_type": "stream",
     "text": [
      "Starting to process video: c:\\Users\\rober\\Desktop\\Monkey-Emotions\\video\\gandalf_231205\\gandalf_231205_108_e3v831b.mp4\n",
      "Loading c:\\Users\\rober\\Desktop\\Monkey-Emotions\\video\\gandalf_231205\\gandalf_231205_108_e3v831b.mp4 and data.\n",
      "Duration of video [s]: 16.04, recorded with 120 fps!\n",
      "Overall # of frames: 1925 with cropped frame dimensions: 640 480\n",
      "Generating frames and creating video.\n"
     ]
    },
    {
     "name": "stderr",
     "output_type": "stream",
     "text": [
      "100%|██████████| 1925/1925 [00:05<00:00, 380.58it/s]\n"
     ]
    },
    {
     "name": "stdout",
     "output_type": "stream",
     "text": [
      "Starting to process video: c:\\Users\\rober\\Desktop\\Monkey-Emotions\\video\\gandalf_231205\\gandalf_231205_109_e3v831b.mp4\n",
      "Loading c:\\Users\\rober\\Desktop\\Monkey-Emotions\\video\\gandalf_231205\\gandalf_231205_109_e3v831b.mp4 and data.\n",
      "Duration of video [s]: 15.6, recorded with 120 fps!\n",
      "Overall # of frames: 1872 with cropped frame dimensions: 640 480\n",
      "Generating frames and creating video.\n"
     ]
    },
    {
     "name": "stderr",
     "output_type": "stream",
     "text": [
      "100%|██████████| 1872/1872 [00:04<00:00, 383.00it/s]\n"
     ]
    },
    {
     "name": "stdout",
     "output_type": "stream",
     "text": [
      "Starting to process video: c:\\Users\\rober\\Desktop\\Monkey-Emotions\\video\\gandalf_231205\\gandalf_231205_110_e3v831b.mp4\n",
      "Loading c:\\Users\\rober\\Desktop\\Monkey-Emotions\\video\\gandalf_231205\\gandalf_231205_110_e3v831b.mp4 and data.\n",
      "Duration of video [s]: 21.24, recorded with 120 fps!\n",
      "Overall # of frames: 2549 with cropped frame dimensions: 640 480\n",
      "Generating frames and creating video.\n"
     ]
    },
    {
     "name": "stderr",
     "output_type": "stream",
     "text": [
      "100%|██████████| 2549/2549 [00:06<00:00, 396.40it/s]\n"
     ]
    },
    {
     "name": "stdout",
     "output_type": "stream",
     "text": [
      "Starting to process video: c:\\Users\\rober\\Desktop\\Monkey-Emotions\\video\\gandalf_231205\\gandalf_231205_111_e3v831b.mp4\n",
      "Loading c:\\Users\\rober\\Desktop\\Monkey-Emotions\\video\\gandalf_231205\\gandalf_231205_111_e3v831b.mp4 and data.\n",
      "Duration of video [s]: 51.55, recorded with 120 fps!\n",
      "Overall # of frames: 6186 with cropped frame dimensions: 640 480\n",
      "Generating frames and creating video.\n"
     ]
    },
    {
     "name": "stderr",
     "output_type": "stream",
     "text": [
      "100%|██████████| 6186/6186 [00:15<00:00, 409.33it/s]\n"
     ]
    },
    {
     "name": "stdout",
     "output_type": "stream",
     "text": [
      "Starting to process video: c:\\Users\\rober\\Desktop\\Monkey-Emotions\\video\\gandalf_231205\\gandalf_231205_112_e3v831b.mp4\n",
      "Loading c:\\Users\\rober\\Desktop\\Monkey-Emotions\\video\\gandalf_231205\\gandalf_231205_112_e3v831b.mp4 and data.\n",
      "Duration of video [s]: 18.05, recorded with 120 fps!\n",
      "Overall # of frames: 2166 with cropped frame dimensions: 640 480\n",
      "Generating frames and creating video.\n"
     ]
    },
    {
     "name": "stderr",
     "output_type": "stream",
     "text": [
      "100%|██████████| 2166/2166 [00:05<00:00, 411.40it/s]\n"
     ]
    },
    {
     "name": "stdout",
     "output_type": "stream",
     "text": [
      "Starting to process video: c:\\Users\\rober\\Desktop\\Monkey-Emotions\\video\\gandalf_231205\\gandalf_231205_113_e3v831b.mp4\n",
      "Loading c:\\Users\\rober\\Desktop\\Monkey-Emotions\\video\\gandalf_231205\\gandalf_231205_113_e3v831b.mp4 and data.\n",
      "Duration of video [s]: 15.09, recorded with 120 fps!\n",
      "Overall # of frames: 1811 with cropped frame dimensions: 640 480\n",
      "Generating frames and creating video.\n"
     ]
    },
    {
     "name": "stderr",
     "output_type": "stream",
     "text": [
      "100%|██████████| 1811/1811 [00:04<00:00, 409.48it/s]\n"
     ]
    },
    {
     "name": "stdout",
     "output_type": "stream",
     "text": [
      "Starting to process video: c:\\Users\\rober\\Desktop\\Monkey-Emotions\\video\\gandalf_231205\\gandalf_231205_114_e3v831b.mp4\n",
      "Loading c:\\Users\\rober\\Desktop\\Monkey-Emotions\\video\\gandalf_231205\\gandalf_231205_114_e3v831b.mp4 and data.\n",
      "Duration of video [s]: 51.2, recorded with 120 fps!\n",
      "Overall # of frames: 6144 with cropped frame dimensions: 640 480\n",
      "Generating frames and creating video.\n"
     ]
    },
    {
     "name": "stderr",
     "output_type": "stream",
     "text": [
      "100%|██████████| 6144/6144 [00:15<00:00, 408.47it/s]\n"
     ]
    },
    {
     "name": "stdout",
     "output_type": "stream",
     "text": [
      "Starting to process video: c:\\Users\\rober\\Desktop\\Monkey-Emotions\\video\\gandalf_231205\\gandalf_231205_115_e3v831b.mp4\n",
      "Loading c:\\Users\\rober\\Desktop\\Monkey-Emotions\\video\\gandalf_231205\\gandalf_231205_115_e3v831b.mp4 and data.\n",
      "Duration of video [s]: 32.33, recorded with 120 fps!\n",
      "Overall # of frames: 3880 with cropped frame dimensions: 640 480\n",
      "Generating frames and creating video.\n"
     ]
    },
    {
     "name": "stderr",
     "output_type": "stream",
     "text": [
      "100%|██████████| 3880/3880 [00:09<00:00, 410.04it/s]\n"
     ]
    },
    {
     "name": "stdout",
     "output_type": "stream",
     "text": [
      "Starting to process video: c:\\Users\\rober\\Desktop\\Monkey-Emotions\\video\\gandalf_231205\\gandalf_231205_116_e3v831b.mp4\n",
      "Loading c:\\Users\\rober\\Desktop\\Monkey-Emotions\\video\\gandalf_231205\\gandalf_231205_116_e3v831b.mp4 and data.\n",
      "Duration of video [s]: 15.62, recorded with 120 fps!\n",
      "Overall # of frames: 1874 with cropped frame dimensions: 640 480\n",
      "Generating frames and creating video.\n"
     ]
    },
    {
     "name": "stderr",
     "output_type": "stream",
     "text": [
      "100%|██████████| 1874/1874 [00:04<00:00, 409.15it/s]\n"
     ]
    },
    {
     "name": "stdout",
     "output_type": "stream",
     "text": [
      "Starting to process video: c:\\Users\\rober\\Desktop\\Monkey-Emotions\\video\\gandalf_231205\\gandalf_231205_117_e3v831b.mp4\n",
      "Loading c:\\Users\\rober\\Desktop\\Monkey-Emotions\\video\\gandalf_231205\\gandalf_231205_117_e3v831b.mp4 and data.\n",
      "Duration of video [s]: 19.73, recorded with 120 fps!\n",
      "Overall # of frames: 2368 with cropped frame dimensions: 640 480\n",
      "Generating frames and creating video.\n"
     ]
    },
    {
     "name": "stderr",
     "output_type": "stream",
     "text": [
      "100%|██████████| 2368/2368 [00:05<00:00, 408.97it/s]\n"
     ]
    },
    {
     "name": "stdout",
     "output_type": "stream",
     "text": [
      "Starting to process video: c:\\Users\\rober\\Desktop\\Monkey-Emotions\\video\\gandalf_231205\\gandalf_231205_118_e3v831b.mp4\n",
      "Loading c:\\Users\\rober\\Desktop\\Monkey-Emotions\\video\\gandalf_231205\\gandalf_231205_118_e3v831b.mp4 and data.\n",
      "Duration of video [s]: 51.27, recorded with 120 fps!\n",
      "Overall # of frames: 6152 with cropped frame dimensions: 640 480\n",
      "Generating frames and creating video.\n"
     ]
    },
    {
     "name": "stderr",
     "output_type": "stream",
     "text": [
      "100%|██████████| 6152/6152 [00:15<00:00, 406.73it/s]\n"
     ]
    },
    {
     "name": "stdout",
     "output_type": "stream",
     "text": [
      "Starting to process video: c:\\Users\\rober\\Desktop\\Monkey-Emotions\\video\\gandalf_231205\\gandalf_231205_119_e3v831b.mp4\n",
      "Loading c:\\Users\\rober\\Desktop\\Monkey-Emotions\\video\\gandalf_231205\\gandalf_231205_119_e3v831b.mp4 and data.\n",
      "Duration of video [s]: 35.06, recorded with 120 fps!\n",
      "Overall # of frames: 4207 with cropped frame dimensions: 640 480\n",
      "Generating frames and creating video.\n"
     ]
    },
    {
     "name": "stderr",
     "output_type": "stream",
     "text": [
      "100%|██████████| 4207/4207 [00:10<00:00, 398.49it/s]\n"
     ]
    },
    {
     "name": "stdout",
     "output_type": "stream",
     "text": [
      "Starting to process video: c:\\Users\\rober\\Desktop\\Monkey-Emotions\\video\\gandalf_231205\\gandalf_231205_120_e3v831b.mp4\n",
      "Loading c:\\Users\\rober\\Desktop\\Monkey-Emotions\\video\\gandalf_231205\\gandalf_231205_120_e3v831b.mp4 and data.\n",
      "Duration of video [s]: 12.97, recorded with 120 fps!\n",
      "Overall # of frames: 1556 with cropped frame dimensions: 640 480\n",
      "Generating frames and creating video.\n"
     ]
    },
    {
     "name": "stderr",
     "output_type": "stream",
     "text": [
      "100%|██████████| 1556/1556 [00:03<00:00, 404.57it/s]\n"
     ]
    },
    {
     "name": "stdout",
     "output_type": "stream",
     "text": [
      "Starting to process video: c:\\Users\\rober\\Desktop\\Monkey-Emotions\\video\\gandalf_231205\\gandalf_231205_121_e3v831b.mp4\n",
      "Loading c:\\Users\\rober\\Desktop\\Monkey-Emotions\\video\\gandalf_231205\\gandalf_231205_121_e3v831b.mp4 and data.\n",
      "Duration of video [s]: 16.54, recorded with 120 fps!\n",
      "Overall # of frames: 1985 with cropped frame dimensions: 640 480\n",
      "Generating frames and creating video.\n"
     ]
    },
    {
     "name": "stderr",
     "output_type": "stream",
     "text": [
      "100%|██████████| 1985/1985 [00:04<00:00, 404.09it/s]\n"
     ]
    },
    {
     "name": "stdout",
     "output_type": "stream",
     "text": [
      "Starting to process video: c:\\Users\\rober\\Desktop\\Monkey-Emotions\\video\\gandalf_231205\\gandalf_231205_122_e3v831b.mp4\n",
      "Loading c:\\Users\\rober\\Desktop\\Monkey-Emotions\\video\\gandalf_231205\\gandalf_231205_122_e3v831b.mp4 and data.\n",
      "Duration of video [s]: 10.28, recorded with 120 fps!\n",
      "Overall # of frames: 1234 with cropped frame dimensions: 640 480\n",
      "Generating frames and creating video.\n"
     ]
    },
    {
     "name": "stderr",
     "output_type": "stream",
     "text": [
      "100%|██████████| 1234/1234 [00:03<00:00, 401.63it/s]\n"
     ]
    },
    {
     "name": "stdout",
     "output_type": "stream",
     "text": [
      "Starting to process video: c:\\Users\\rober\\Desktop\\Monkey-Emotions\\video\\gandalf_231205\\gandalf_231205_123_e3v831b.mp4\n",
      "Loading c:\\Users\\rober\\Desktop\\Monkey-Emotions\\video\\gandalf_231205\\gandalf_231205_123_e3v831b.mp4 and data.\n",
      "Duration of video [s]: 19.01, recorded with 120 fps!\n",
      "Overall # of frames: 2281 with cropped frame dimensions: 640 480\n",
      "Generating frames and creating video.\n"
     ]
    },
    {
     "name": "stderr",
     "output_type": "stream",
     "text": [
      "100%|██████████| 2281/2281 [00:05<00:00, 409.28it/s]\n"
     ]
    },
    {
     "name": "stdout",
     "output_type": "stream",
     "text": [
      "Starting to process video: c:\\Users\\rober\\Desktop\\Monkey-Emotions\\video\\gandalf_231205\\gandalf_231205_124_e3v831b.mp4\n",
      "Loading c:\\Users\\rober\\Desktop\\Monkey-Emotions\\video\\gandalf_231205\\gandalf_231205_124_e3v831b.mp4 and data.\n",
      "Duration of video [s]: 16.68, recorded with 120 fps!\n",
      "Overall # of frames: 2002 with cropped frame dimensions: 640 480\n",
      "Generating frames and creating video.\n"
     ]
    },
    {
     "name": "stderr",
     "output_type": "stream",
     "text": [
      "100%|██████████| 2002/2002 [00:04<00:00, 407.14it/s]\n"
     ]
    },
    {
     "name": "stdout",
     "output_type": "stream",
     "text": [
      "Starting to process video: c:\\Users\\rober\\Desktop\\Monkey-Emotions\\video\\gandalf_231205\\gandalf_231205_125_e3v831b.mp4\n",
      "Loading c:\\Users\\rober\\Desktop\\Monkey-Emotions\\video\\gandalf_231205\\gandalf_231205_125_e3v831b.mp4 and data.\n",
      "Duration of video [s]: 11.19, recorded with 120 fps!\n",
      "Overall # of frames: 1343 with cropped frame dimensions: 640 480\n",
      "Generating frames and creating video.\n"
     ]
    },
    {
     "name": "stderr",
     "output_type": "stream",
     "text": [
      "100%|██████████| 1343/1343 [00:03<00:00, 409.04it/s]\n"
     ]
    },
    {
     "name": "stdout",
     "output_type": "stream",
     "text": [
      "Starting to process video: c:\\Users\\rober\\Desktop\\Monkey-Emotions\\video\\gandalf_231205\\gandalf_231205_126_e3v831b.mp4\n",
      "Loading c:\\Users\\rober\\Desktop\\Monkey-Emotions\\video\\gandalf_231205\\gandalf_231205_126_e3v831b.mp4 and data.\n",
      "Duration of video [s]: 13.27, recorded with 120 fps!\n",
      "Overall # of frames: 1592 with cropped frame dimensions: 640 480\n",
      "Generating frames and creating video.\n"
     ]
    },
    {
     "name": "stderr",
     "output_type": "stream",
     "text": [
      "100%|██████████| 1592/1592 [00:03<00:00, 400.75it/s]\n"
     ]
    },
    {
     "name": "stdout",
     "output_type": "stream",
     "text": [
      "Starting to process video: c:\\Users\\rober\\Desktop\\Monkey-Emotions\\video\\gandalf_231205\\gandalf_231205_127_e3v831b.mp4\n",
      "Loading c:\\Users\\rober\\Desktop\\Monkey-Emotions\\video\\gandalf_231205\\gandalf_231205_127_e3v831b.mp4 and data.\n",
      "Duration of video [s]: 16.5, recorded with 120 fps!\n",
      "Overall # of frames: 1980 with cropped frame dimensions: 640 480\n",
      "Generating frames and creating video.\n"
     ]
    },
    {
     "name": "stderr",
     "output_type": "stream",
     "text": [
      "100%|██████████| 1980/1980 [00:04<00:00, 406.14it/s]\n"
     ]
    },
    {
     "name": "stdout",
     "output_type": "stream",
     "text": [
      "Starting to process video: c:\\Users\\rober\\Desktop\\Monkey-Emotions\\video\\gandalf_231205\\gandalf_231205_128_e3v831b.mp4\n",
      "Loading c:\\Users\\rober\\Desktop\\Monkey-Emotions\\video\\gandalf_231205\\gandalf_231205_128_e3v831b.mp4 and data.\n",
      "Duration of video [s]: 13.07, recorded with 120 fps!\n",
      "Overall # of frames: 1569 with cropped frame dimensions: 640 480\n",
      "Generating frames and creating video.\n"
     ]
    },
    {
     "name": "stderr",
     "output_type": "stream",
     "text": [
      "100%|██████████| 1569/1569 [00:03<00:00, 404.31it/s]\n"
     ]
    },
    {
     "name": "stdout",
     "output_type": "stream",
     "text": [
      "Starting to process video: c:\\Users\\rober\\Desktop\\Monkey-Emotions\\video\\gandalf_231205\\gandalf_231205_129_e3v831b.mp4\n",
      "Loading c:\\Users\\rober\\Desktop\\Monkey-Emotions\\video\\gandalf_231205\\gandalf_231205_129_e3v831b.mp4 and data.\n",
      "Duration of video [s]: 45.79, recorded with 120 fps!\n",
      "Overall # of frames: 5495 with cropped frame dimensions: 640 480\n",
      "Generating frames and creating video.\n"
     ]
    },
    {
     "name": "stderr",
     "output_type": "stream",
     "text": [
      "100%|██████████| 5495/5495 [00:13<00:00, 402.26it/s]\n"
     ]
    },
    {
     "name": "stdout",
     "output_type": "stream",
     "text": [
      "Starting to process video: c:\\Users\\rober\\Desktop\\Monkey-Emotions\\video\\gandalf_231205\\gandalf_231205_130_e3v831b.mp4\n",
      "Loading c:\\Users\\rober\\Desktop\\Monkey-Emotions\\video\\gandalf_231205\\gandalf_231205_130_e3v831b.mp4 and data.\n",
      "Duration of video [s]: 14.86, recorded with 120 fps!\n",
      "Overall # of frames: 1783 with cropped frame dimensions: 640 480\n",
      "Generating frames and creating video.\n"
     ]
    },
    {
     "name": "stderr",
     "output_type": "stream",
     "text": [
      "100%|██████████| 1783/1783 [00:04<00:00, 403.45it/s]\n"
     ]
    },
    {
     "name": "stdout",
     "output_type": "stream",
     "text": [
      "Starting to process video: c:\\Users\\rober\\Desktop\\Monkey-Emotions\\video\\gandalf_231205\\gandalf_231205_131_e3v831b.mp4\n",
      "Loading c:\\Users\\rober\\Desktop\\Monkey-Emotions\\video\\gandalf_231205\\gandalf_231205_131_e3v831b.mp4 and data.\n",
      "Duration of video [s]: 12.83, recorded with 120 fps!\n",
      "Overall # of frames: 1540 with cropped frame dimensions: 640 480\n",
      "Generating frames and creating video.\n"
     ]
    },
    {
     "name": "stderr",
     "output_type": "stream",
     "text": [
      "100%|██████████| 1540/1540 [00:03<00:00, 402.97it/s]\n"
     ]
    },
    {
     "name": "stdout",
     "output_type": "stream",
     "text": [
      "Starting to process video: c:\\Users\\rober\\Desktop\\Monkey-Emotions\\video\\gandalf_231205\\gandalf_231205_132_e3v831b.mp4\n",
      "Loading c:\\Users\\rober\\Desktop\\Monkey-Emotions\\video\\gandalf_231205\\gandalf_231205_132_e3v831b.mp4 and data.\n",
      "Duration of video [s]: 13.7, recorded with 120 fps!\n",
      "Overall # of frames: 1644 with cropped frame dimensions: 640 480\n",
      "Generating frames and creating video.\n"
     ]
    },
    {
     "name": "stderr",
     "output_type": "stream",
     "text": [
      "100%|██████████| 1644/1644 [00:04<00:00, 406.43it/s]\n"
     ]
    },
    {
     "name": "stdout",
     "output_type": "stream",
     "text": [
      "Starting to process video: c:\\Users\\rober\\Desktop\\Monkey-Emotions\\video\\gandalf_231205\\gandalf_231205_133_e3v831b.mp4\n",
      "Loading c:\\Users\\rober\\Desktop\\Monkey-Emotions\\video\\gandalf_231205\\gandalf_231205_133_e3v831b.mp4 and data.\n",
      "Duration of video [s]: 15.82, recorded with 120 fps!\n",
      "Overall # of frames: 1899 with cropped frame dimensions: 640 480\n",
      "Generating frames and creating video.\n"
     ]
    },
    {
     "name": "stderr",
     "output_type": "stream",
     "text": [
      "100%|██████████| 1899/1899 [00:04<00:00, 404.36it/s]\n"
     ]
    },
    {
     "name": "stdout",
     "output_type": "stream",
     "text": [
      "Starting to process video: c:\\Users\\rober\\Desktop\\Monkey-Emotions\\video\\gandalf_231205\\gandalf_231205_134_e3v831b.mp4\n",
      "Loading c:\\Users\\rober\\Desktop\\Monkey-Emotions\\video\\gandalf_231205\\gandalf_231205_134_e3v831b.mp4 and data.\n",
      "Duration of video [s]: 13.35, recorded with 120 fps!\n",
      "Overall # of frames: 1602 with cropped frame dimensions: 640 480\n",
      "Generating frames and creating video.\n"
     ]
    },
    {
     "name": "stderr",
     "output_type": "stream",
     "text": [
      "100%|██████████| 1602/1602 [00:03<00:00, 404.61it/s]\n"
     ]
    },
    {
     "name": "stdout",
     "output_type": "stream",
     "text": [
      "Starting to process video: c:\\Users\\rober\\Desktop\\Monkey-Emotions\\video\\gandalf_231205\\gandalf_231205_136_e3v831b.mp4\n",
      "Loading c:\\Users\\rober\\Desktop\\Monkey-Emotions\\video\\gandalf_231205\\gandalf_231205_136_e3v831b.mp4 and data.\n",
      "Duration of video [s]: 61.58, recorded with 120 fps!\n",
      "Overall # of frames: 7389 with cropped frame dimensions: 640 480\n",
      "Generating frames and creating video.\n"
     ]
    },
    {
     "name": "stderr",
     "output_type": "stream",
     "text": [
      "100%|██████████| 7389/7389 [00:18<00:00, 402.01it/s]\n"
     ]
    },
    {
     "name": "stdout",
     "output_type": "stream",
     "text": [
      "Starting to process video: c:\\Users\\rober\\Desktop\\Monkey-Emotions\\video\\gandalf_231205\\gandalf_231205_137_e3v831b.mp4\n",
      "Loading c:\\Users\\rober\\Desktop\\Monkey-Emotions\\video\\gandalf_231205\\gandalf_231205_137_e3v831b.mp4 and data.\n",
      "Duration of video [s]: 46.17, recorded with 120 fps!\n",
      "Overall # of frames: 5540 with cropped frame dimensions: 640 480\n",
      "Generating frames and creating video.\n"
     ]
    },
    {
     "name": "stderr",
     "output_type": "stream",
     "text": [
      "100%|██████████| 5540/5540 [00:13<00:00, 400.35it/s]\n"
     ]
    },
    {
     "name": "stdout",
     "output_type": "stream",
     "text": [
      "Starting to process video: c:\\Users\\rober\\Desktop\\Monkey-Emotions\\video\\gandalf_231205\\gandalf_231205_138_e3v831b.mp4\n",
      "Loading c:\\Users\\rober\\Desktop\\Monkey-Emotions\\video\\gandalf_231205\\gandalf_231205_138_e3v831b.mp4 and data.\n",
      "Duration of video [s]: 12.75, recorded with 120 fps!\n",
      "Overall # of frames: 1530 with cropped frame dimensions: 640 480\n",
      "Generating frames and creating video.\n"
     ]
    },
    {
     "name": "stderr",
     "output_type": "stream",
     "text": [
      "100%|██████████| 1530/1530 [00:03<00:00, 409.06it/s]\n"
     ]
    },
    {
     "name": "stdout",
     "output_type": "stream",
     "text": [
      "Starting to process video: c:\\Users\\rober\\Desktop\\Monkey-Emotions\\video\\gandalf_231205\\gandalf_231205_139_e3v831b.mp4\n",
      "Loading c:\\Users\\rober\\Desktop\\Monkey-Emotions\\video\\gandalf_231205\\gandalf_231205_139_e3v831b.mp4 and data.\n",
      "Duration of video [s]: 21.23, recorded with 120 fps!\n",
      "Overall # of frames: 2547 with cropped frame dimensions: 640 480\n",
      "Generating frames and creating video.\n"
     ]
    },
    {
     "name": "stderr",
     "output_type": "stream",
     "text": [
      "100%|██████████| 2547/2547 [00:06<00:00, 407.18it/s]\n"
     ]
    },
    {
     "name": "stdout",
     "output_type": "stream",
     "text": [
      "Starting to process video: c:\\Users\\rober\\Desktop\\Monkey-Emotions\\video\\gandalf_231205\\gandalf_231205_140_e3v831b.mp4\n",
      "Loading c:\\Users\\rober\\Desktop\\Monkey-Emotions\\video\\gandalf_231205\\gandalf_231205_140_e3v831b.mp4 and data.\n",
      "Duration of video [s]: 14.82, recorded with 120 fps!\n",
      "Overall # of frames: 1778 with cropped frame dimensions: 640 480\n",
      "Generating frames and creating video.\n"
     ]
    },
    {
     "name": "stderr",
     "output_type": "stream",
     "text": [
      "100%|██████████| 1778/1778 [00:04<00:00, 408.32it/s]\n"
     ]
    },
    {
     "name": "stdout",
     "output_type": "stream",
     "text": [
      "Starting to process video: c:\\Users\\rober\\Desktop\\Monkey-Emotions\\video\\gandalf_231205\\gandalf_231205_141_e3v831b.mp4\n",
      "Loading c:\\Users\\rober\\Desktop\\Monkey-Emotions\\video\\gandalf_231205\\gandalf_231205_141_e3v831b.mp4 and data.\n",
      "Duration of video [s]: 17.27, recorded with 120 fps!\n",
      "Overall # of frames: 2072 with cropped frame dimensions: 640 480\n",
      "Generating frames and creating video.\n"
     ]
    },
    {
     "name": "stderr",
     "output_type": "stream",
     "text": [
      "100%|██████████| 2072/2072 [00:05<00:00, 408.57it/s]\n"
     ]
    },
    {
     "name": "stdout",
     "output_type": "stream",
     "text": [
      "Starting to process video: c:\\Users\\rober\\Desktop\\Monkey-Emotions\\video\\gandalf_231205\\gandalf_231205_142_e3v831b.mp4\n",
      "Loading c:\\Users\\rober\\Desktop\\Monkey-Emotions\\video\\gandalf_231205\\gandalf_231205_142_e3v831b.mp4 and data.\n",
      "Duration of video [s]: 14.75, recorded with 120 fps!\n",
      "Overall # of frames: 1770 with cropped frame dimensions: 640 480\n",
      "Generating frames and creating video.\n"
     ]
    },
    {
     "name": "stderr",
     "output_type": "stream",
     "text": [
      "100%|██████████| 1770/1770 [00:04<00:00, 409.17it/s]\n"
     ]
    },
    {
     "name": "stdout",
     "output_type": "stream",
     "text": [
      "Starting to process video: c:\\Users\\rober\\Desktop\\Monkey-Emotions\\video\\gandalf_231205\\gandalf_231205_143_e3v831b.mp4\n",
      "Loading c:\\Users\\rober\\Desktop\\Monkey-Emotions\\video\\gandalf_231205\\gandalf_231205_143_e3v831b.mp4 and data.\n",
      "Duration of video [s]: 12.13, recorded with 120 fps!\n",
      "Overall # of frames: 1456 with cropped frame dimensions: 640 480\n",
      "Generating frames and creating video.\n"
     ]
    },
    {
     "name": "stderr",
     "output_type": "stream",
     "text": [
      "100%|██████████| 1456/1456 [00:03<00:00, 405.92it/s]\n"
     ]
    },
    {
     "name": "stdout",
     "output_type": "stream",
     "text": [
      "Starting to process video: c:\\Users\\rober\\Desktop\\Monkey-Emotions\\video\\gandalf_231205\\gandalf_231205_144_e3v831b.mp4\n",
      "Loading c:\\Users\\rober\\Desktop\\Monkey-Emotions\\video\\gandalf_231205\\gandalf_231205_144_e3v831b.mp4 and data.\n",
      "Duration of video [s]: 14.35, recorded with 120 fps!\n",
      "Overall # of frames: 1722 with cropped frame dimensions: 640 480\n",
      "Generating frames and creating video.\n"
     ]
    },
    {
     "name": "stderr",
     "output_type": "stream",
     "text": [
      "100%|██████████| 1722/1722 [00:04<00:00, 408.62it/s]\n"
     ]
    },
    {
     "name": "stdout",
     "output_type": "stream",
     "text": [
      "Starting to process video: c:\\Users\\rober\\Desktop\\Monkey-Emotions\\video\\gandalf_231205\\gandalf_231205_145_e3v831b.mp4\n",
      "Loading c:\\Users\\rober\\Desktop\\Monkey-Emotions\\video\\gandalf_231205\\gandalf_231205_145_e3v831b.mp4 and data.\n",
      "Duration of video [s]: 14.97, recorded with 120 fps!\n",
      "Overall # of frames: 1797 with cropped frame dimensions: 640 480\n",
      "Generating frames and creating video.\n"
     ]
    },
    {
     "name": "stderr",
     "output_type": "stream",
     "text": [
      "100%|██████████| 1797/1797 [00:04<00:00, 406.00it/s]\n"
     ]
    },
    {
     "name": "stdout",
     "output_type": "stream",
     "text": [
      "Starting to process video: c:\\Users\\rober\\Desktop\\Monkey-Emotions\\video\\gandalf_231205\\gandalf_231205_146_e3v831b.mp4\n",
      "Loading c:\\Users\\rober\\Desktop\\Monkey-Emotions\\video\\gandalf_231205\\gandalf_231205_146_e3v831b.mp4 and data.\n",
      "Duration of video [s]: 14.62, recorded with 120 fps!\n",
      "Overall # of frames: 1754 with cropped frame dimensions: 640 480\n",
      "Generating frames and creating video.\n"
     ]
    },
    {
     "name": "stderr",
     "output_type": "stream",
     "text": [
      "100%|██████████| 1754/1754 [00:04<00:00, 408.92it/s]\n"
     ]
    },
    {
     "name": "stdout",
     "output_type": "stream",
     "text": [
      "Starting to process video: c:\\Users\\rober\\Desktop\\Monkey-Emotions\\video\\gandalf_231205\\gandalf_231205_147_e3v831b.mp4\n",
      "Loading c:\\Users\\rober\\Desktop\\Monkey-Emotions\\video\\gandalf_231205\\gandalf_231205_147_e3v831b.mp4 and data.\n",
      "Duration of video [s]: 13.11, recorded with 120 fps!\n",
      "Overall # of frames: 1573 with cropped frame dimensions: 640 480\n",
      "Generating frames and creating video.\n"
     ]
    },
    {
     "name": "stderr",
     "output_type": "stream",
     "text": [
      "100%|██████████| 1573/1573 [00:03<00:00, 405.04it/s]\n"
     ]
    },
    {
     "name": "stdout",
     "output_type": "stream",
     "text": [
      "Starting to process video: c:\\Users\\rober\\Desktop\\Monkey-Emotions\\video\\gandalf_231205\\gandalf_231205_148_e3v831b.mp4\n",
      "Loading c:\\Users\\rober\\Desktop\\Monkey-Emotions\\video\\gandalf_231205\\gandalf_231205_148_e3v831b.mp4 and data.\n",
      "Duration of video [s]: 14.47, recorded with 120 fps!\n",
      "Overall # of frames: 1736 with cropped frame dimensions: 640 480\n",
      "Generating frames and creating video.\n"
     ]
    },
    {
     "name": "stderr",
     "output_type": "stream",
     "text": [
      "100%|██████████| 1736/1736 [00:04<00:00, 409.21it/s]\n"
     ]
    },
    {
     "name": "stdout",
     "output_type": "stream",
     "text": [
      "Starting to process video: c:\\Users\\rober\\Desktop\\Monkey-Emotions\\video\\gandalf_231205\\gandalf_231205_149_e3v831b.mp4\n",
      "Loading c:\\Users\\rober\\Desktop\\Monkey-Emotions\\video\\gandalf_231205\\gandalf_231205_149_e3v831b.mp4 and data.\n",
      "Duration of video [s]: 9.88, recorded with 120 fps!\n",
      "Overall # of frames: 1185 with cropped frame dimensions: 640 480\n",
      "Generating frames and creating video.\n"
     ]
    },
    {
     "name": "stderr",
     "output_type": "stream",
     "text": [
      "100%|██████████| 1185/1185 [00:02<00:00, 410.71it/s]\n"
     ]
    },
    {
     "name": "stdout",
     "output_type": "stream",
     "text": [
      "Starting to process video: c:\\Users\\rober\\Desktop\\Monkey-Emotions\\video\\gandalf_231205\\gandalf_231205_150_e3v831b.mp4\n",
      "Loading c:\\Users\\rober\\Desktop\\Monkey-Emotions\\video\\gandalf_231205\\gandalf_231205_150_e3v831b.mp4 and data.\n",
      "Duration of video [s]: 15.0, recorded with 120 fps!\n",
      "Overall # of frames: 1800 with cropped frame dimensions: 640 480\n",
      "Generating frames and creating video.\n"
     ]
    },
    {
     "name": "stderr",
     "output_type": "stream",
     "text": [
      "100%|██████████| 1800/1800 [00:04<00:00, 412.13it/s]\n"
     ]
    },
    {
     "name": "stdout",
     "output_type": "stream",
     "text": [
      "Starting to process video: c:\\Users\\rober\\Desktop\\Monkey-Emotions\\video\\gandalf_231205\\gandalf_231205_151_e3v831b.mp4\n",
      "Loading c:\\Users\\rober\\Desktop\\Monkey-Emotions\\video\\gandalf_231205\\gandalf_231205_151_e3v831b.mp4 and data.\n",
      "Duration of video [s]: 14.03, recorded with 120 fps!\n",
      "Overall # of frames: 1683 with cropped frame dimensions: 640 480\n",
      "Generating frames and creating video.\n"
     ]
    },
    {
     "name": "stderr",
     "output_type": "stream",
     "text": [
      "100%|██████████| 1683/1683 [00:04<00:00, 406.12it/s]\n"
     ]
    },
    {
     "name": "stdout",
     "output_type": "stream",
     "text": [
      "Starting to process video: c:\\Users\\rober\\Desktop\\Monkey-Emotions\\video\\gandalf_231205\\gandalf_231205_152_e3v831b.mp4\n",
      "Loading c:\\Users\\rober\\Desktop\\Monkey-Emotions\\video\\gandalf_231205\\gandalf_231205_152_e3v831b.mp4 and data.\n",
      "Duration of video [s]: 9.42, recorded with 120 fps!\n",
      "Overall # of frames: 1130 with cropped frame dimensions: 640 480\n",
      "Generating frames and creating video.\n"
     ]
    },
    {
     "name": "stderr",
     "output_type": "stream",
     "text": [
      "100%|██████████| 1130/1130 [00:02<00:00, 410.17it/s]\n"
     ]
    },
    {
     "name": "stdout",
     "output_type": "stream",
     "text": [
      "Starting to process video: c:\\Users\\rober\\Desktop\\Monkey-Emotions\\video\\gandalf_231205\\gandalf_231205_153_e3v831b.mp4\n",
      "Loading c:\\Users\\rober\\Desktop\\Monkey-Emotions\\video\\gandalf_231205\\gandalf_231205_153_e3v831b.mp4 and data.\n",
      "Duration of video [s]: 14.73, recorded with 120 fps!\n",
      "Overall # of frames: 1768 with cropped frame dimensions: 640 480\n",
      "Generating frames and creating video.\n"
     ]
    },
    {
     "name": "stderr",
     "output_type": "stream",
     "text": [
      "100%|██████████| 1768/1768 [00:04<00:00, 406.78it/s]\n"
     ]
    },
    {
     "name": "stdout",
     "output_type": "stream",
     "text": [
      "Starting to process video: c:\\Users\\rober\\Desktop\\Monkey-Emotions\\video\\gandalf_231205\\gandalf_231205_154_e3v831b.mp4\n",
      "Loading c:\\Users\\rober\\Desktop\\Monkey-Emotions\\video\\gandalf_231205\\gandalf_231205_154_e3v831b.mp4 and data.\n",
      "Duration of video [s]: 9.68, recorded with 120 fps!\n",
      "Overall # of frames: 1162 with cropped frame dimensions: 640 480\n",
      "Generating frames and creating video.\n"
     ]
    },
    {
     "name": "stderr",
     "output_type": "stream",
     "text": [
      "100%|██████████| 1162/1162 [00:02<00:00, 405.90it/s]\n"
     ]
    },
    {
     "name": "stdout",
     "output_type": "stream",
     "text": [
      "Starting to process video: c:\\Users\\rober\\Desktop\\Monkey-Emotions\\video\\gandalf_231205\\gandalf_231205_155_e3v831b.mp4\n",
      "Loading c:\\Users\\rober\\Desktop\\Monkey-Emotions\\video\\gandalf_231205\\gandalf_231205_155_e3v831b.mp4 and data.\n",
      "Duration of video [s]: 11.42, recorded with 120 fps!\n",
      "Overall # of frames: 1370 with cropped frame dimensions: 640 480\n",
      "Generating frames and creating video.\n"
     ]
    },
    {
     "name": "stderr",
     "output_type": "stream",
     "text": [
      "100%|██████████| 1370/1370 [00:03<00:00, 402.34it/s]\n"
     ]
    },
    {
     "name": "stdout",
     "output_type": "stream",
     "text": [
      "Starting to process video: c:\\Users\\rober\\Desktop\\Monkey-Emotions\\video\\gandalf_231205\\gandalf_231205_156_e3v831b.mp4\n",
      "Loading c:\\Users\\rober\\Desktop\\Monkey-Emotions\\video\\gandalf_231205\\gandalf_231205_156_e3v831b.mp4 and data.\n",
      "Duration of video [s]: 9.55, recorded with 120 fps!\n",
      "Overall # of frames: 1146 with cropped frame dimensions: 640 480\n",
      "Generating frames and creating video.\n"
     ]
    },
    {
     "name": "stderr",
     "output_type": "stream",
     "text": [
      "100%|██████████| 1146/1146 [00:02<00:00, 407.60it/s]\n"
     ]
    },
    {
     "name": "stdout",
     "output_type": "stream",
     "text": [
      "Starting to process video: c:\\Users\\rober\\Desktop\\Monkey-Emotions\\video\\gandalf_231205\\gandalf_231205_157_e3v831b.mp4\n",
      "Loading c:\\Users\\rober\\Desktop\\Monkey-Emotions\\video\\gandalf_231205\\gandalf_231205_157_e3v831b.mp4 and data.\n",
      "Duration of video [s]: 11.96, recorded with 120 fps!\n",
      "Overall # of frames: 1435 with cropped frame dimensions: 640 480\n",
      "Generating frames and creating video.\n"
     ]
    },
    {
     "name": "stderr",
     "output_type": "stream",
     "text": [
      "100%|██████████| 1435/1435 [00:03<00:00, 402.63it/s]\n"
     ]
    },
    {
     "name": "stdout",
     "output_type": "stream",
     "text": [
      "Starting to process video: c:\\Users\\rober\\Desktop\\Monkey-Emotions\\video\\gandalf_231205\\gandalf_231205_158_e3v831b.mp4\n",
      "Loading c:\\Users\\rober\\Desktop\\Monkey-Emotions\\video\\gandalf_231205\\gandalf_231205_158_e3v831b.mp4 and data.\n",
      "Duration of video [s]: 13.98, recorded with 120 fps!\n",
      "Overall # of frames: 1678 with cropped frame dimensions: 640 480\n",
      "Generating frames and creating video.\n"
     ]
    },
    {
     "name": "stderr",
     "output_type": "stream",
     "text": [
      "100%|██████████| 1678/1678 [00:04<00:00, 385.23it/s]\n"
     ]
    },
    {
     "name": "stdout",
     "output_type": "stream",
     "text": [
      "Starting to process video: c:\\Users\\rober\\Desktop\\Monkey-Emotions\\video\\gandalf_231205\\gandalf_231205_159_e3v831b.mp4\n",
      "Loading c:\\Users\\rober\\Desktop\\Monkey-Emotions\\video\\gandalf_231205\\gandalf_231205_159_e3v831b.mp4 and data.\n",
      "Duration of video [s]: 12.35, recorded with 120 fps!\n",
      "Overall # of frames: 1482 with cropped frame dimensions: 640 480\n",
      "Generating frames and creating video.\n"
     ]
    },
    {
     "name": "stderr",
     "output_type": "stream",
     "text": [
      "100%|██████████| 1482/1482 [00:03<00:00, 407.33it/s]\n"
     ]
    },
    {
     "name": "stdout",
     "output_type": "stream",
     "text": [
      "Starting to process video: c:\\Users\\rober\\Desktop\\Monkey-Emotions\\video\\gandalf_231205\\gandalf_231205_160_e3v831b.mp4\n",
      "Loading c:\\Users\\rober\\Desktop\\Monkey-Emotions\\video\\gandalf_231205\\gandalf_231205_160_e3v831b.mp4 and data.\n",
      "Duration of video [s]: 15.73, recorded with 120 fps!\n",
      "Overall # of frames: 1888 with cropped frame dimensions: 640 480\n",
      "Generating frames and creating video.\n"
     ]
    },
    {
     "name": "stderr",
     "output_type": "stream",
     "text": [
      "100%|██████████| 1888/1888 [00:04<00:00, 405.26it/s]\n"
     ]
    },
    {
     "name": "stdout",
     "output_type": "stream",
     "text": [
      "Starting to process video: c:\\Users\\rober\\Desktop\\Monkey-Emotions\\video\\gandalf_231205\\gandalf_231205_161_e3v831b.mp4\n",
      "Loading c:\\Users\\rober\\Desktop\\Monkey-Emotions\\video\\gandalf_231205\\gandalf_231205_161_e3v831b.mp4 and data.\n",
      "Duration of video [s]: 11.96, recorded with 120 fps!\n",
      "Overall # of frames: 1435 with cropped frame dimensions: 640 480\n",
      "Generating frames and creating video.\n"
     ]
    },
    {
     "name": "stderr",
     "output_type": "stream",
     "text": [
      "100%|██████████| 1435/1435 [00:03<00:00, 404.89it/s]\n"
     ]
    },
    {
     "name": "stdout",
     "output_type": "stream",
     "text": [
      "Starting to process video: c:\\Users\\rober\\Desktop\\Monkey-Emotions\\video\\gandalf_231205\\gandalf_231205_162_e3v831b.mp4\n",
      "Loading c:\\Users\\rober\\Desktop\\Monkey-Emotions\\video\\gandalf_231205\\gandalf_231205_162_e3v831b.mp4 and data.\n",
      "Duration of video [s]: 17.9, recorded with 120 fps!\n",
      "Overall # of frames: 2148 with cropped frame dimensions: 640 480\n",
      "Generating frames and creating video.\n"
     ]
    },
    {
     "name": "stderr",
     "output_type": "stream",
     "text": [
      "100%|██████████| 2148/2148 [00:05<00:00, 405.00it/s]\n"
     ]
    },
    {
     "name": "stdout",
     "output_type": "stream",
     "text": [
      "Starting to process video: c:\\Users\\rober\\Desktop\\Monkey-Emotions\\video\\gandalf_231205\\gandalf_231205_163_e3v831b.mp4\n",
      "Loading c:\\Users\\rober\\Desktop\\Monkey-Emotions\\video\\gandalf_231205\\gandalf_231205_163_e3v831b.mp4 and data.\n",
      "Duration of video [s]: 10.77, recorded with 120 fps!\n",
      "Overall # of frames: 1292 with cropped frame dimensions: 640 480\n",
      "Generating frames and creating video.\n"
     ]
    },
    {
     "name": "stderr",
     "output_type": "stream",
     "text": [
      "100%|██████████| 1292/1292 [00:03<00:00, 397.49it/s]\n"
     ]
    },
    {
     "name": "stdout",
     "output_type": "stream",
     "text": [
      "Starting to process video: c:\\Users\\rober\\Desktop\\Monkey-Emotions\\video\\gandalf_231205\\gandalf_231205_164_e3v831b.mp4\n",
      "Loading c:\\Users\\rober\\Desktop\\Monkey-Emotions\\video\\gandalf_231205\\gandalf_231205_164_e3v831b.mp4 and data.\n",
      "Duration of video [s]: 15.22, recorded with 120 fps!\n",
      "Overall # of frames: 1827 with cropped frame dimensions: 640 480\n",
      "Generating frames and creating video.\n"
     ]
    },
    {
     "name": "stderr",
     "output_type": "stream",
     "text": [
      "100%|██████████| 1827/1827 [00:04<00:00, 404.30it/s]\n"
     ]
    },
    {
     "name": "stdout",
     "output_type": "stream",
     "text": [
      "Starting to process video: c:\\Users\\rober\\Desktop\\Monkey-Emotions\\video\\gandalf_231205\\gandalf_231205_165_e3v831b.mp4\n",
      "Loading c:\\Users\\rober\\Desktop\\Monkey-Emotions\\video\\gandalf_231205\\gandalf_231205_165_e3v831b.mp4 and data.\n",
      "Duration of video [s]: 14.1, recorded with 120 fps!\n",
      "Overall # of frames: 1692 with cropped frame dimensions: 640 480\n",
      "Generating frames and creating video.\n"
     ]
    },
    {
     "name": "stderr",
     "output_type": "stream",
     "text": [
      "100%|██████████| 1692/1692 [00:04<00:00, 407.50it/s]\n"
     ]
    },
    {
     "name": "stdout",
     "output_type": "stream",
     "text": [
      "Starting to process video: c:\\Users\\rober\\Desktop\\Monkey-Emotions\\video\\gandalf_231205\\gandalf_231205_166_e3v831b.mp4\n",
      "Loading c:\\Users\\rober\\Desktop\\Monkey-Emotions\\video\\gandalf_231205\\gandalf_231205_166_e3v831b.mp4 and data.\n",
      "Duration of video [s]: 15.19, recorded with 120 fps!\n",
      "Overall # of frames: 1823 with cropped frame dimensions: 640 480\n",
      "Generating frames and creating video.\n"
     ]
    },
    {
     "name": "stderr",
     "output_type": "stream",
     "text": [
      "100%|██████████| 1823/1823 [00:04<00:00, 405.58it/s]\n"
     ]
    },
    {
     "name": "stdout",
     "output_type": "stream",
     "text": [
      "Starting to process video: c:\\Users\\rober\\Desktop\\Monkey-Emotions\\video\\gandalf_231205\\gandalf_231205_167_e3v831b.mp4\n",
      "Loading c:\\Users\\rober\\Desktop\\Monkey-Emotions\\video\\gandalf_231205\\gandalf_231205_167_e3v831b.mp4 and data.\n",
      "Duration of video [s]: 16.81, recorded with 120 fps!\n",
      "Overall # of frames: 2017 with cropped frame dimensions: 640 480\n",
      "Generating frames and creating video.\n"
     ]
    },
    {
     "name": "stderr",
     "output_type": "stream",
     "text": [
      "100%|██████████| 2017/2017 [00:04<00:00, 405.79it/s]\n"
     ]
    },
    {
     "name": "stdout",
     "output_type": "stream",
     "text": [
      "Starting to process video: c:\\Users\\rober\\Desktop\\Monkey-Emotions\\video\\gandalf_231205\\gandalf_231205_168_e3v831b.mp4\n",
      "Loading c:\\Users\\rober\\Desktop\\Monkey-Emotions\\video\\gandalf_231205\\gandalf_231205_168_e3v831b.mp4 and data.\n",
      "Duration of video [s]: 14.07, recorded with 120 fps!\n",
      "Overall # of frames: 1688 with cropped frame dimensions: 640 480\n",
      "Generating frames and creating video.\n"
     ]
    },
    {
     "name": "stderr",
     "output_type": "stream",
     "text": [
      "100%|██████████| 1688/1688 [00:04<00:00, 404.68it/s]\n"
     ]
    },
    {
     "name": "stdout",
     "output_type": "stream",
     "text": [
      "Starting to process video: c:\\Users\\rober\\Desktop\\Monkey-Emotions\\video\\gandalf_231205\\gandalf_231205_169_e3v831b.mp4\n",
      "Loading c:\\Users\\rober\\Desktop\\Monkey-Emotions\\video\\gandalf_231205\\gandalf_231205_169_e3v831b.mp4 and data.\n",
      "Duration of video [s]: 12.23, recorded with 120 fps!\n",
      "Overall # of frames: 1468 with cropped frame dimensions: 640 480\n",
      "Generating frames and creating video.\n"
     ]
    },
    {
     "name": "stderr",
     "output_type": "stream",
     "text": [
      "100%|██████████| 1468/1468 [00:03<00:00, 404.20it/s]\n"
     ]
    },
    {
     "name": "stdout",
     "output_type": "stream",
     "text": [
      "Starting to process video: c:\\Users\\rober\\Desktop\\Monkey-Emotions\\video\\gandalf_231205\\gandalf_231205_170_e3v831b.mp4\n",
      "Loading c:\\Users\\rober\\Desktop\\Monkey-Emotions\\video\\gandalf_231205\\gandalf_231205_170_e3v831b.mp4 and data.\n",
      "Duration of video [s]: 14.84, recorded with 120 fps!\n",
      "Overall # of frames: 1781 with cropped frame dimensions: 640 480\n",
      "Generating frames and creating video.\n"
     ]
    },
    {
     "name": "stderr",
     "output_type": "stream",
     "text": [
      "100%|██████████| 1781/1781 [00:04<00:00, 405.63it/s]\n"
     ]
    },
    {
     "name": "stdout",
     "output_type": "stream",
     "text": [
      "Starting to process video: c:\\Users\\rober\\Desktop\\Monkey-Emotions\\video\\gandalf_231205\\gandalf_231205_171_e3v831b.mp4\n",
      "Loading c:\\Users\\rober\\Desktop\\Monkey-Emotions\\video\\gandalf_231205\\gandalf_231205_171_e3v831b.mp4 and data.\n",
      "Duration of video [s]: 10.54, recorded with 120 fps!\n",
      "Overall # of frames: 1265 with cropped frame dimensions: 640 480\n",
      "Generating frames and creating video.\n"
     ]
    },
    {
     "name": "stderr",
     "output_type": "stream",
     "text": [
      "100%|██████████| 1265/1265 [00:03<00:00, 408.10it/s]\n"
     ]
    },
    {
     "name": "stdout",
     "output_type": "stream",
     "text": [
      "Starting to process video: c:\\Users\\rober\\Desktop\\Monkey-Emotions\\video\\gandalf_231205\\gandalf_231205_172_e3v831b.mp4\n",
      "Loading c:\\Users\\rober\\Desktop\\Monkey-Emotions\\video\\gandalf_231205\\gandalf_231205_172_e3v831b.mp4 and data.\n",
      "Duration of video [s]: 10.01, recorded with 120 fps!\n",
      "Overall # of frames: 1201 with cropped frame dimensions: 640 480\n",
      "Generating frames and creating video.\n"
     ]
    },
    {
     "name": "stderr",
     "output_type": "stream",
     "text": [
      "100%|██████████| 1201/1201 [00:02<00:00, 407.02it/s]\n"
     ]
    },
    {
     "name": "stdout",
     "output_type": "stream",
     "text": [
      "Starting to process video: c:\\Users\\rober\\Desktop\\Monkey-Emotions\\video\\gandalf_231205\\gandalf_231205_173_e3v831b.mp4\n",
      "Loading c:\\Users\\rober\\Desktop\\Monkey-Emotions\\video\\gandalf_231205\\gandalf_231205_173_e3v831b.mp4 and data.\n",
      "Duration of video [s]: 13.9, recorded with 120 fps!\n",
      "Overall # of frames: 1668 with cropped frame dimensions: 640 480\n",
      "Generating frames and creating video.\n"
     ]
    },
    {
     "name": "stderr",
     "output_type": "stream",
     "text": [
      "100%|██████████| 1668/1668 [00:04<00:00, 411.11it/s]\n"
     ]
    },
    {
     "name": "stdout",
     "output_type": "stream",
     "text": [
      "Starting to process video: c:\\Users\\rober\\Desktop\\Monkey-Emotions\\video\\gandalf_231205\\gandalf_231205_174_e3v831b.mp4\n",
      "Loading c:\\Users\\rober\\Desktop\\Monkey-Emotions\\video\\gandalf_231205\\gandalf_231205_174_e3v831b.mp4 and data.\n",
      "Duration of video [s]: 12.82, recorded with 120 fps!\n",
      "Overall # of frames: 1538 with cropped frame dimensions: 640 480\n",
      "Generating frames and creating video.\n"
     ]
    },
    {
     "name": "stderr",
     "output_type": "stream",
     "text": [
      "100%|██████████| 1538/1538 [00:03<00:00, 407.24it/s]\n"
     ]
    },
    {
     "name": "stdout",
     "output_type": "stream",
     "text": [
      "Starting to process video: c:\\Users\\rober\\Desktop\\Monkey-Emotions\\video\\gandalf_231205\\gandalf_231205_175_e3v831b.mp4\n",
      "Loading c:\\Users\\rober\\Desktop\\Monkey-Emotions\\video\\gandalf_231205\\gandalf_231205_175_e3v831b.mp4 and data.\n",
      "Duration of video [s]: 11.9, recorded with 120 fps!\n",
      "Overall # of frames: 1428 with cropped frame dimensions: 640 480\n",
      "Generating frames and creating video.\n"
     ]
    },
    {
     "name": "stderr",
     "output_type": "stream",
     "text": [
      "100%|██████████| 1428/1428 [00:03<00:00, 409.08it/s]\n"
     ]
    },
    {
     "name": "stdout",
     "output_type": "stream",
     "text": [
      "Starting to process video: c:\\Users\\rober\\Desktop\\Monkey-Emotions\\video\\gandalf_231205\\gandalf_231205_176_e3v831b.mp4\n",
      "Loading c:\\Users\\rober\\Desktop\\Monkey-Emotions\\video\\gandalf_231205\\gandalf_231205_176_e3v831b.mp4 and data.\n",
      "Duration of video [s]: 14.68, recorded with 120 fps!\n",
      "Overall # of frames: 1761 with cropped frame dimensions: 640 480\n",
      "Generating frames and creating video.\n"
     ]
    },
    {
     "name": "stderr",
     "output_type": "stream",
     "text": [
      "100%|██████████| 1761/1761 [00:04<00:00, 406.72it/s]\n"
     ]
    },
    {
     "name": "stdout",
     "output_type": "stream",
     "text": [
      "Starting to process video: c:\\Users\\rober\\Desktop\\Monkey-Emotions\\video\\gandalf_231205\\gandalf_231205_177_e3v831b.mp4\n",
      "Loading c:\\Users\\rober\\Desktop\\Monkey-Emotions\\video\\gandalf_231205\\gandalf_231205_177_e3v831b.mp4 and data.\n",
      "Duration of video [s]: 16.03, recorded with 120 fps!\n",
      "Overall # of frames: 1924 with cropped frame dimensions: 640 480\n",
      "Generating frames and creating video.\n"
     ]
    },
    {
     "name": "stderr",
     "output_type": "stream",
     "text": [
      "100%|██████████| 1924/1924 [00:04<00:00, 403.88it/s]\n"
     ]
    },
    {
     "name": "stdout",
     "output_type": "stream",
     "text": [
      "Starting to process video: c:\\Users\\rober\\Desktop\\Monkey-Emotions\\video\\gandalf_231205\\gandalf_231205_178_e3v831b.mp4\n",
      "Loading c:\\Users\\rober\\Desktop\\Monkey-Emotions\\video\\gandalf_231205\\gandalf_231205_178_e3v831b.mp4 and data.\n",
      "Duration of video [s]: 10.1, recorded with 120 fps!\n",
      "Overall # of frames: 1212 with cropped frame dimensions: 640 480\n",
      "Generating frames and creating video.\n"
     ]
    },
    {
     "name": "stderr",
     "output_type": "stream",
     "text": [
      "100%|██████████| 1212/1212 [00:02<00:00, 406.25it/s]\n"
     ]
    },
    {
     "name": "stdout",
     "output_type": "stream",
     "text": [
      "Starting to process video: c:\\Users\\rober\\Desktop\\Monkey-Emotions\\video\\gandalf_231205\\gandalf_231205_179_e3v831b.mp4\n",
      "Loading c:\\Users\\rober\\Desktop\\Monkey-Emotions\\video\\gandalf_231205\\gandalf_231205_179_e3v831b.mp4 and data.\n",
      "Duration of video [s]: 13.75, recorded with 120 fps!\n",
      "Overall # of frames: 1650 with cropped frame dimensions: 640 480\n",
      "Generating frames and creating video.\n"
     ]
    },
    {
     "name": "stderr",
     "output_type": "stream",
     "text": [
      "100%|██████████| 1650/1650 [00:04<00:00, 406.17it/s]\n"
     ]
    },
    {
     "name": "stdout",
     "output_type": "stream",
     "text": [
      "Starting to process video: c:\\Users\\rober\\Desktop\\Monkey-Emotions\\video\\gandalf_231205\\gandalf_231205_180_e3v831b.mp4\n",
      "Loading c:\\Users\\rober\\Desktop\\Monkey-Emotions\\video\\gandalf_231205\\gandalf_231205_180_e3v831b.mp4 and data.\n",
      "Duration of video [s]: 15.33, recorded with 120 fps!\n",
      "Overall # of frames: 1840 with cropped frame dimensions: 640 480\n",
      "Generating frames and creating video.\n"
     ]
    },
    {
     "name": "stderr",
     "output_type": "stream",
     "text": [
      "100%|██████████| 1840/1840 [00:04<00:00, 407.02it/s]\n"
     ]
    },
    {
     "name": "stdout",
     "output_type": "stream",
     "text": [
      "Starting to process video: c:\\Users\\rober\\Desktop\\Monkey-Emotions\\video\\gandalf_231205\\gandalf_231205_181_e3v831b.mp4\n",
      "Loading c:\\Users\\rober\\Desktop\\Monkey-Emotions\\video\\gandalf_231205\\gandalf_231205_181_e3v831b.mp4 and data.\n",
      "Duration of video [s]: 12.69, recorded with 120 fps!\n",
      "Overall # of frames: 1523 with cropped frame dimensions: 640 480\n",
      "Generating frames and creating video.\n"
     ]
    },
    {
     "name": "stderr",
     "output_type": "stream",
     "text": [
      "100%|██████████| 1523/1523 [00:03<00:00, 408.77it/s]\n"
     ]
    },
    {
     "name": "stdout",
     "output_type": "stream",
     "text": [
      "Starting to process video: c:\\Users\\rober\\Desktop\\Monkey-Emotions\\video\\gandalf_231205\\gandalf_231205_182_e3v831b.mp4\n",
      "Loading c:\\Users\\rober\\Desktop\\Monkey-Emotions\\video\\gandalf_231205\\gandalf_231205_182_e3v831b.mp4 and data.\n",
      "Duration of video [s]: 14.68, recorded with 120 fps!\n",
      "Overall # of frames: 1761 with cropped frame dimensions: 640 480\n",
      "Generating frames and creating video.\n"
     ]
    },
    {
     "name": "stderr",
     "output_type": "stream",
     "text": [
      "100%|██████████| 1761/1761 [00:04<00:00, 410.94it/s]\n"
     ]
    },
    {
     "name": "stdout",
     "output_type": "stream",
     "text": [
      "Starting to process video: c:\\Users\\rober\\Desktop\\Monkey-Emotions\\video\\gandalf_231205\\gandalf_231205_183_e3v831b.mp4\n",
      "Loading c:\\Users\\rober\\Desktop\\Monkey-Emotions\\video\\gandalf_231205\\gandalf_231205_183_e3v831b.mp4 and data.\n",
      "Duration of video [s]: 10.53, recorded with 120 fps!\n",
      "Overall # of frames: 1264 with cropped frame dimensions: 640 480\n",
      "Generating frames and creating video.\n"
     ]
    },
    {
     "name": "stderr",
     "output_type": "stream",
     "text": [
      "100%|██████████| 1264/1264 [00:03<00:00, 409.96it/s]\n"
     ]
    },
    {
     "name": "stdout",
     "output_type": "stream",
     "text": [
      "Starting to process video: c:\\Users\\rober\\Desktop\\Monkey-Emotions\\video\\gandalf_231205\\gandalf_231205_184_e3v831b.mp4\n",
      "Loading c:\\Users\\rober\\Desktop\\Monkey-Emotions\\video\\gandalf_231205\\gandalf_231205_184_e3v831b.mp4 and data.\n",
      "Duration of video [s]: 11.2, recorded with 120 fps!\n",
      "Overall # of frames: 1344 with cropped frame dimensions: 640 480\n",
      "Generating frames and creating video.\n"
     ]
    },
    {
     "name": "stderr",
     "output_type": "stream",
     "text": [
      "100%|██████████| 1344/1344 [00:03<00:00, 407.40it/s]\n"
     ]
    },
    {
     "name": "stdout",
     "output_type": "stream",
     "text": [
      "Starting to process video: c:\\Users\\rober\\Desktop\\Monkey-Emotions\\video\\gandalf_231205\\gandalf_231205_185_e3v831b.mp4\n",
      "Loading c:\\Users\\rober\\Desktop\\Monkey-Emotions\\video\\gandalf_231205\\gandalf_231205_185_e3v831b.mp4 and data.\n",
      "Duration of video [s]: 14.78, recorded with 120 fps!\n",
      "Overall # of frames: 1773 with cropped frame dimensions: 640 480\n",
      "Generating frames and creating video.\n"
     ]
    },
    {
     "name": "stderr",
     "output_type": "stream",
     "text": [
      "100%|██████████| 1773/1773 [00:04<00:00, 408.06it/s]\n"
     ]
    },
    {
     "name": "stdout",
     "output_type": "stream",
     "text": [
      "Starting to process video: c:\\Users\\rober\\Desktop\\Monkey-Emotions\\video\\gandalf_231205\\gandalf_231205_186_e3v831b.mp4\n",
      "Loading c:\\Users\\rober\\Desktop\\Monkey-Emotions\\video\\gandalf_231205\\gandalf_231205_186_e3v831b.mp4 and data.\n",
      "Duration of video [s]: 13.13, recorded with 120 fps!\n",
      "Overall # of frames: 1576 with cropped frame dimensions: 640 480\n",
      "Generating frames and creating video.\n"
     ]
    },
    {
     "name": "stderr",
     "output_type": "stream",
     "text": [
      "100%|██████████| 1576/1576 [00:03<00:00, 410.65it/s]\n"
     ]
    },
    {
     "name": "stdout",
     "output_type": "stream",
     "text": [
      "Starting to process video: c:\\Users\\rober\\Desktop\\Monkey-Emotions\\video\\gandalf_231205\\gandalf_231205_187_e3v831b.mp4\n",
      "Loading c:\\Users\\rober\\Desktop\\Monkey-Emotions\\video\\gandalf_231205\\gandalf_231205_187_e3v831b.mp4 and data.\n",
      "Duration of video [s]: 9.67, recorded with 120 fps!\n",
      "Overall # of frames: 1160 with cropped frame dimensions: 640 480\n",
      "Generating frames and creating video.\n"
     ]
    },
    {
     "name": "stderr",
     "output_type": "stream",
     "text": [
      "100%|██████████| 1160/1160 [00:02<00:00, 406.51it/s]\n"
     ]
    },
    {
     "name": "stdout",
     "output_type": "stream",
     "text": [
      "Starting to process video: c:\\Users\\rober\\Desktop\\Monkey-Emotions\\video\\gandalf_231205\\gandalf_231205_188_e3v831b.mp4\n",
      "Loading c:\\Users\\rober\\Desktop\\Monkey-Emotions\\video\\gandalf_231205\\gandalf_231205_188_e3v831b.mp4 and data.\n",
      "Duration of video [s]: 13.37, recorded with 120 fps!\n",
      "Overall # of frames: 1604 with cropped frame dimensions: 640 480\n",
      "Generating frames and creating video.\n"
     ]
    },
    {
     "name": "stderr",
     "output_type": "stream",
     "text": [
      "100%|██████████| 1604/1604 [00:03<00:00, 405.42it/s]\n"
     ]
    },
    {
     "name": "stdout",
     "output_type": "stream",
     "text": [
      "Starting to process video: c:\\Users\\rober\\Desktop\\Monkey-Emotions\\video\\gandalf_231205\\gandalf_231205_189_e3v831b.mp4\n",
      "Loading c:\\Users\\rober\\Desktop\\Monkey-Emotions\\video\\gandalf_231205\\gandalf_231205_189_e3v831b.mp4 and data.\n",
      "Duration of video [s]: 14.07, recorded with 120 fps!\n",
      "Overall # of frames: 1689 with cropped frame dimensions: 640 480\n",
      "Generating frames and creating video.\n"
     ]
    },
    {
     "name": "stderr",
     "output_type": "stream",
     "text": [
      "100%|██████████| 1689/1689 [00:04<00:00, 413.34it/s]\n"
     ]
    },
    {
     "name": "stdout",
     "output_type": "stream",
     "text": [
      "Starting to process video: c:\\Users\\rober\\Desktop\\Monkey-Emotions\\video\\gandalf_231205\\gandalf_231205_190_e3v831b.mp4\n",
      "Loading c:\\Users\\rober\\Desktop\\Monkey-Emotions\\video\\gandalf_231205\\gandalf_231205_190_e3v831b.mp4 and data.\n",
      "Duration of video [s]: 13.07, recorded with 120 fps!\n",
      "Overall # of frames: 1569 with cropped frame dimensions: 640 480\n",
      "Generating frames and creating video.\n"
     ]
    },
    {
     "name": "stderr",
     "output_type": "stream",
     "text": [
      "100%|██████████| 1569/1569 [00:03<00:00, 409.30it/s]\n"
     ]
    },
    {
     "name": "stdout",
     "output_type": "stream",
     "text": [
      "Starting to process video: c:\\Users\\rober\\Desktop\\Monkey-Emotions\\video\\gandalf_231205\\gandalf_231205_191_e3v831b.mp4\n",
      "Loading c:\\Users\\rober\\Desktop\\Monkey-Emotions\\video\\gandalf_231205\\gandalf_231205_191_e3v831b.mp4 and data.\n",
      "Duration of video [s]: 12.48, recorded with 120 fps!\n",
      "Overall # of frames: 1498 with cropped frame dimensions: 640 480\n",
      "Generating frames and creating video.\n"
     ]
    },
    {
     "name": "stderr",
     "output_type": "stream",
     "text": [
      "100%|██████████| 1498/1498 [00:03<00:00, 409.07it/s]\n"
     ]
    },
    {
     "name": "stdout",
     "output_type": "stream",
     "text": [
      "Starting to process video: c:\\Users\\rober\\Desktop\\Monkey-Emotions\\video\\gandalf_231205\\gandalf_231205_192_e3v831b.mp4\n",
      "Loading c:\\Users\\rober\\Desktop\\Monkey-Emotions\\video\\gandalf_231205\\gandalf_231205_192_e3v831b.mp4 and data.\n",
      "Duration of video [s]: 15.69, recorded with 120 fps!\n",
      "Overall # of frames: 1883 with cropped frame dimensions: 640 480\n",
      "Generating frames and creating video.\n"
     ]
    },
    {
     "name": "stderr",
     "output_type": "stream",
     "text": [
      "100%|██████████| 1883/1883 [00:04<00:00, 410.04it/s]\n"
     ]
    },
    {
     "name": "stdout",
     "output_type": "stream",
     "text": [
      "Starting to process video: c:\\Users\\rober\\Desktop\\Monkey-Emotions\\video\\gandalf_231205\\gandalf_231205_193_e3v831b.mp4\n",
      "Loading c:\\Users\\rober\\Desktop\\Monkey-Emotions\\video\\gandalf_231205\\gandalf_231205_193_e3v831b.mp4 and data.\n",
      "Duration of video [s]: 14.47, recorded with 120 fps!\n",
      "Overall # of frames: 1736 with cropped frame dimensions: 640 480\n",
      "Generating frames and creating video.\n"
     ]
    },
    {
     "name": "stderr",
     "output_type": "stream",
     "text": [
      "100%|██████████| 1736/1736 [00:04<00:00, 407.62it/s]\n"
     ]
    },
    {
     "name": "stdout",
     "output_type": "stream",
     "text": [
      "Starting to process video: c:\\Users\\rober\\Desktop\\Monkey-Emotions\\video\\gandalf_231205\\gandalf_231205_194_e3v831b.mp4\n",
      "Loading c:\\Users\\rober\\Desktop\\Monkey-Emotions\\video\\gandalf_231205\\gandalf_231205_194_e3v831b.mp4 and data.\n",
      "Duration of video [s]: 13.62, recorded with 120 fps!\n",
      "Overall # of frames: 1634 with cropped frame dimensions: 640 480\n",
      "Generating frames and creating video.\n"
     ]
    },
    {
     "name": "stderr",
     "output_type": "stream",
     "text": [
      "100%|██████████| 1634/1634 [00:04<00:00, 406.80it/s]\n"
     ]
    },
    {
     "name": "stdout",
     "output_type": "stream",
     "text": [
      "Starting to process video: c:\\Users\\rober\\Desktop\\Monkey-Emotions\\video\\gandalf_231205\\gandalf_231205_195_e3v831b.mp4\n",
      "Loading c:\\Users\\rober\\Desktop\\Monkey-Emotions\\video\\gandalf_231205\\gandalf_231205_195_e3v831b.mp4 and data.\n",
      "Duration of video [s]: 15.31, recorded with 120 fps!\n",
      "Overall # of frames: 1837 with cropped frame dimensions: 640 480\n",
      "Generating frames and creating video.\n"
     ]
    },
    {
     "name": "stderr",
     "output_type": "stream",
     "text": [
      "100%|██████████| 1837/1837 [00:04<00:00, 412.51it/s]\n"
     ]
    },
    {
     "name": "stdout",
     "output_type": "stream",
     "text": [
      "Starting to process video: c:\\Users\\rober\\Desktop\\Monkey-Emotions\\video\\gandalf_231205\\gandalf_231205_196_e3v831b.mp4\n",
      "Loading c:\\Users\\rober\\Desktop\\Monkey-Emotions\\video\\gandalf_231205\\gandalf_231205_196_e3v831b.mp4 and data.\n",
      "Duration of video [s]: 12.25, recorded with 120 fps!\n",
      "Overall # of frames: 1470 with cropped frame dimensions: 640 480\n",
      "Generating frames and creating video.\n"
     ]
    },
    {
     "name": "stderr",
     "output_type": "stream",
     "text": [
      "100%|██████████| 1470/1470 [00:03<00:00, 411.25it/s]\n"
     ]
    },
    {
     "name": "stdout",
     "output_type": "stream",
     "text": [
      "Starting to process video: c:\\Users\\rober\\Desktop\\Monkey-Emotions\\video\\gandalf_231205\\gandalf_231205_197_e3v831b.mp4\n",
      "Loading c:\\Users\\rober\\Desktop\\Monkey-Emotions\\video\\gandalf_231205\\gandalf_231205_197_e3v831b.mp4 and data.\n",
      "Duration of video [s]: 14.12, recorded with 120 fps!\n",
      "Overall # of frames: 1695 with cropped frame dimensions: 640 480\n",
      "Generating frames and creating video.\n"
     ]
    },
    {
     "name": "stderr",
     "output_type": "stream",
     "text": [
      "100%|██████████| 1695/1695 [00:04<00:00, 407.56it/s]\n"
     ]
    },
    {
     "name": "stdout",
     "output_type": "stream",
     "text": [
      "Starting to process video: c:\\Users\\rober\\Desktop\\Monkey-Emotions\\video\\gandalf_231205\\gandalf_231205_198_e3v831b.mp4\n",
      "Loading c:\\Users\\rober\\Desktop\\Monkey-Emotions\\video\\gandalf_231205\\gandalf_231205_198_e3v831b.mp4 and data.\n",
      "Duration of video [s]: 15.94, recorded with 120 fps!\n",
      "Overall # of frames: 1913 with cropped frame dimensions: 640 480\n",
      "Generating frames and creating video.\n"
     ]
    },
    {
     "name": "stderr",
     "output_type": "stream",
     "text": [
      "100%|██████████| 1913/1913 [00:04<00:00, 408.62it/s]\n"
     ]
    },
    {
     "name": "stdout",
     "output_type": "stream",
     "text": [
      "Starting to process video: c:\\Users\\rober\\Desktop\\Monkey-Emotions\\video\\gandalf_231205\\gandalf_231205_199_e3v831b.mp4\n",
      "Loading c:\\Users\\rober\\Desktop\\Monkey-Emotions\\video\\gandalf_231205\\gandalf_231205_199_e3v831b.mp4 and data.\n",
      "Duration of video [s]: 12.48, recorded with 120 fps!\n",
      "Overall # of frames: 1498 with cropped frame dimensions: 640 480\n",
      "Generating frames and creating video.\n"
     ]
    },
    {
     "name": "stderr",
     "output_type": "stream",
     "text": [
      "100%|██████████| 1498/1498 [00:03<00:00, 408.38it/s]\n"
     ]
    },
    {
     "name": "stdout",
     "output_type": "stream",
     "text": [
      "Starting to process video: c:\\Users\\rober\\Desktop\\Monkey-Emotions\\video\\gandalf_231205\\gandalf_231205_200_e3v831b.mp4\n",
      "Loading c:\\Users\\rober\\Desktop\\Monkey-Emotions\\video\\gandalf_231205\\gandalf_231205_200_e3v831b.mp4 and data.\n",
      "Duration of video [s]: 16.09, recorded with 120 fps!\n",
      "Overall # of frames: 1931 with cropped frame dimensions: 640 480\n",
      "Generating frames and creating video.\n"
     ]
    },
    {
     "name": "stderr",
     "output_type": "stream",
     "text": [
      "100%|██████████| 1931/1931 [00:04<00:00, 406.70it/s]\n"
     ]
    },
    {
     "name": "stdout",
     "output_type": "stream",
     "text": [
      "Starting to process video: c:\\Users\\rober\\Desktop\\Monkey-Emotions\\video\\gandalf_231205\\gandalf_231205_201_e3v831b.mp4\n",
      "Loading c:\\Users\\rober\\Desktop\\Monkey-Emotions\\video\\gandalf_231205\\gandalf_231205_201_e3v831b.mp4 and data.\n",
      "Duration of video [s]: 15.63, recorded with 120 fps!\n",
      "Overall # of frames: 1876 with cropped frame dimensions: 640 480\n",
      "Generating frames and creating video.\n"
     ]
    },
    {
     "name": "stderr",
     "output_type": "stream",
     "text": [
      "100%|██████████| 1876/1876 [00:04<00:00, 406.68it/s]\n"
     ]
    },
    {
     "name": "stdout",
     "output_type": "stream",
     "text": [
      "Starting to process video: c:\\Users\\rober\\Desktop\\Monkey-Emotions\\video\\gandalf_231205\\gandalf_231205_202_e3v831b.mp4\n",
      "Loading c:\\Users\\rober\\Desktop\\Monkey-Emotions\\video\\gandalf_231205\\gandalf_231205_202_e3v831b.mp4 and data.\n",
      "Duration of video [s]: 12.75, recorded with 120 fps!\n",
      "Overall # of frames: 1530 with cropped frame dimensions: 640 480\n",
      "Generating frames and creating video.\n"
     ]
    },
    {
     "name": "stderr",
     "output_type": "stream",
     "text": [
      "100%|██████████| 1530/1530 [00:03<00:00, 408.97it/s]\n"
     ]
    },
    {
     "name": "stdout",
     "output_type": "stream",
     "text": [
      "Starting to process video: c:\\Users\\rober\\Desktop\\Monkey-Emotions\\video\\gandalf_231205\\gandalf_231205_203_e3v831b.mp4\n",
      "Loading c:\\Users\\rober\\Desktop\\Monkey-Emotions\\video\\gandalf_231205\\gandalf_231205_203_e3v831b.mp4 and data.\n",
      "Duration of video [s]: 13.3, recorded with 120 fps!\n",
      "Overall # of frames: 1596 with cropped frame dimensions: 640 480\n",
      "Generating frames and creating video.\n"
     ]
    },
    {
     "name": "stderr",
     "output_type": "stream",
     "text": [
      "100%|██████████| 1596/1596 [00:03<00:00, 410.09it/s]\n"
     ]
    },
    {
     "name": "stdout",
     "output_type": "stream",
     "text": [
      "Starting to process video: c:\\Users\\rober\\Desktop\\Monkey-Emotions\\video\\gandalf_231205\\gandalf_231205_204_e3v831b.mp4\n",
      "Loading c:\\Users\\rober\\Desktop\\Monkey-Emotions\\video\\gandalf_231205\\gandalf_231205_204_e3v831b.mp4 and data.\n",
      "Duration of video [s]: 13.52, recorded with 120 fps!\n",
      "Overall # of frames: 1622 with cropped frame dimensions: 640 480\n",
      "Generating frames and creating video.\n"
     ]
    },
    {
     "name": "stderr",
     "output_type": "stream",
     "text": [
      "100%|██████████| 1622/1622 [00:03<00:00, 409.45it/s]\n"
     ]
    },
    {
     "name": "stdout",
     "output_type": "stream",
     "text": [
      "Starting to process video: c:\\Users\\rober\\Desktop\\Monkey-Emotions\\video\\gandalf_231205\\gandalf_231205_205_e3v831b.mp4\n",
      "Loading c:\\Users\\rober\\Desktop\\Monkey-Emotions\\video\\gandalf_231205\\gandalf_231205_205_e3v831b.mp4 and data.\n",
      "Duration of video [s]: 15.36, recorded with 120 fps!\n",
      "Overall # of frames: 1843 with cropped frame dimensions: 640 480\n",
      "Generating frames and creating video.\n"
     ]
    },
    {
     "name": "stderr",
     "output_type": "stream",
     "text": [
      "100%|██████████| 1843/1843 [00:04<00:00, 410.93it/s]\n"
     ]
    },
    {
     "name": "stdout",
     "output_type": "stream",
     "text": [
      "Starting to process video: c:\\Users\\rober\\Desktop\\Monkey-Emotions\\video\\gandalf_231205\\gandalf_231205_206_e3v831b.mp4\n",
      "Loading c:\\Users\\rober\\Desktop\\Monkey-Emotions\\video\\gandalf_231205\\gandalf_231205_206_e3v831b.mp4 and data.\n",
      "Duration of video [s]: 14.4, recorded with 120 fps!\n",
      "Overall # of frames: 1728 with cropped frame dimensions: 640 480\n",
      "Generating frames and creating video.\n"
     ]
    },
    {
     "name": "stderr",
     "output_type": "stream",
     "text": [
      "100%|██████████| 1728/1728 [00:04<00:00, 410.82it/s]\n"
     ]
    },
    {
     "name": "stdout",
     "output_type": "stream",
     "text": [
      "Starting to process video: c:\\Users\\rober\\Desktop\\Monkey-Emotions\\video\\gandalf_231205\\gandalf_231205_207_e3v831b.mp4\n",
      "Loading c:\\Users\\rober\\Desktop\\Monkey-Emotions\\video\\gandalf_231205\\gandalf_231205_207_e3v831b.mp4 and data.\n",
      "Duration of video [s]: 11.0, recorded with 120 fps!\n",
      "Overall # of frames: 1320 with cropped frame dimensions: 640 480\n",
      "Generating frames and creating video.\n"
     ]
    },
    {
     "name": "stderr",
     "output_type": "stream",
     "text": [
      "100%|██████████| 1320/1320 [00:03<00:00, 407.10it/s]\n"
     ]
    },
    {
     "name": "stdout",
     "output_type": "stream",
     "text": [
      "Starting to process video: c:\\Users\\rober\\Desktop\\Monkey-Emotions\\video\\gandalf_231205\\gandalf_231205_208_e3v831b.mp4\n",
      "Loading c:\\Users\\rober\\Desktop\\Monkey-Emotions\\video\\gandalf_231205\\gandalf_231205_208_e3v831b.mp4 and data.\n",
      "Duration of video [s]: 16.64, recorded with 120 fps!\n",
      "Overall # of frames: 1997 with cropped frame dimensions: 640 480\n",
      "Generating frames and creating video.\n"
     ]
    },
    {
     "name": "stderr",
     "output_type": "stream",
     "text": [
      "100%|██████████| 1997/1997 [00:04<00:00, 406.29it/s]\n"
     ]
    },
    {
     "name": "stdout",
     "output_type": "stream",
     "text": [
      "Starting to process video: c:\\Users\\rober\\Desktop\\Monkey-Emotions\\video\\gandalf_231205\\gandalf_231205_209_e3v831b.mp4\n",
      "Loading c:\\Users\\rober\\Desktop\\Monkey-Emotions\\video\\gandalf_231205\\gandalf_231205_209_e3v831b.mp4 and data.\n",
      "Duration of video [s]: 15.59, recorded with 120 fps!\n",
      "Overall # of frames: 1871 with cropped frame dimensions: 640 480\n",
      "Generating frames and creating video.\n"
     ]
    },
    {
     "name": "stderr",
     "output_type": "stream",
     "text": [
      "100%|██████████| 1871/1871 [00:04<00:00, 406.24it/s]\n"
     ]
    },
    {
     "name": "stdout",
     "output_type": "stream",
     "text": [
      "Starting to process video: c:\\Users\\rober\\Desktop\\Monkey-Emotions\\video\\gandalf_231205\\gandalf_231205_210_e3v831b.mp4\n",
      "Loading c:\\Users\\rober\\Desktop\\Monkey-Emotions\\video\\gandalf_231205\\gandalf_231205_210_e3v831b.mp4 and data.\n",
      "Duration of video [s]: 15.58, recorded with 120 fps!\n",
      "Overall # of frames: 1870 with cropped frame dimensions: 640 480\n",
      "Generating frames and creating video.\n"
     ]
    },
    {
     "name": "stderr",
     "output_type": "stream",
     "text": [
      "100%|██████████| 1870/1870 [00:04<00:00, 405.68it/s]\n"
     ]
    },
    {
     "name": "stdout",
     "output_type": "stream",
     "text": [
      "Starting to process video: c:\\Users\\rober\\Desktop\\Monkey-Emotions\\video\\gandalf_231205\\gandalf_231205_211_e3v831b.mp4\n",
      "Loading c:\\Users\\rober\\Desktop\\Monkey-Emotions\\video\\gandalf_231205\\gandalf_231205_211_e3v831b.mp4 and data.\n",
      "Duration of video [s]: 11.32, recorded with 120 fps!\n",
      "Overall # of frames: 1358 with cropped frame dimensions: 640 480\n",
      "Generating frames and creating video.\n"
     ]
    },
    {
     "name": "stderr",
     "output_type": "stream",
     "text": [
      "100%|██████████| 1358/1358 [00:03<00:00, 408.15it/s]\n"
     ]
    },
    {
     "name": "stdout",
     "output_type": "stream",
     "text": [
      "Starting to process video: c:\\Users\\rober\\Desktop\\Monkey-Emotions\\video\\gandalf_231205\\gandalf_231205_212_e3v831b.mp4\n",
      "Loading c:\\Users\\rober\\Desktop\\Monkey-Emotions\\video\\gandalf_231205\\gandalf_231205_212_e3v831b.mp4 and data.\n",
      "Duration of video [s]: 14.26, recorded with 120 fps!\n",
      "Overall # of frames: 1711 with cropped frame dimensions: 640 480\n",
      "Generating frames and creating video.\n"
     ]
    },
    {
     "name": "stderr",
     "output_type": "stream",
     "text": [
      "100%|██████████| 1711/1711 [00:04<00:00, 409.94it/s]\n"
     ]
    },
    {
     "name": "stdout",
     "output_type": "stream",
     "text": [
      "Starting to process video: c:\\Users\\rober\\Desktop\\Monkey-Emotions\\video\\gandalf_231205\\gandalf_231205_213_e3v831b.mp4\n",
      "Loading c:\\Users\\rober\\Desktop\\Monkey-Emotions\\video\\gandalf_231205\\gandalf_231205_213_e3v831b.mp4 and data.\n",
      "Duration of video [s]: 13.4, recorded with 120 fps!\n",
      "Overall # of frames: 1608 with cropped frame dimensions: 640 480\n",
      "Generating frames and creating video.\n"
     ]
    },
    {
     "name": "stderr",
     "output_type": "stream",
     "text": [
      "100%|██████████| 1608/1608 [00:03<00:00, 408.30it/s]\n"
     ]
    },
    {
     "name": "stdout",
     "output_type": "stream",
     "text": [
      "Starting to process video: c:\\Users\\rober\\Desktop\\Monkey-Emotions\\video\\gandalf_231205\\gandalf_231205_215_e3v831b.mp4\n",
      "Loading c:\\Users\\rober\\Desktop\\Monkey-Emotions\\video\\gandalf_231205\\gandalf_231205_215_e3v831b.mp4 and data.\n",
      "Duration of video [s]: 55.74, recorded with 120 fps!\n",
      "Overall # of frames: 6689 with cropped frame dimensions: 640 480\n",
      "Generating frames and creating video.\n"
     ]
    },
    {
     "name": "stderr",
     "output_type": "stream",
     "text": [
      "100%|██████████| 6689/6689 [00:16<00:00, 409.86it/s]\n"
     ]
    },
    {
     "name": "stdout",
     "output_type": "stream",
     "text": [
      "Starting to process video: c:\\Users\\rober\\Desktop\\Monkey-Emotions\\video\\gandalf_231205\\gandalf_231205_216_e3v831b.mp4\n",
      "Loading c:\\Users\\rober\\Desktop\\Monkey-Emotions\\video\\gandalf_231205\\gandalf_231205_216_e3v831b.mp4 and data.\n",
      "Duration of video [s]: 55.57, recorded with 120 fps!\n",
      "Overall # of frames: 6668 with cropped frame dimensions: 640 480\n",
      "Generating frames and creating video.\n"
     ]
    },
    {
     "name": "stderr",
     "output_type": "stream",
     "text": [
      "100%|██████████| 6668/6668 [00:16<00:00, 410.38it/s]\n"
     ]
    },
    {
     "name": "stdout",
     "output_type": "stream",
     "text": [
      "Starting to process video: c:\\Users\\rober\\Desktop\\Monkey-Emotions\\video\\gandalf_231205\\gandalf_231205_217_e3v831b.mp4\n",
      "Loading c:\\Users\\rober\\Desktop\\Monkey-Emotions\\video\\gandalf_231205\\gandalf_231205_217_e3v831b.mp4 and data.\n",
      "Duration of video [s]: 48.48, recorded with 120 fps!\n",
      "Overall # of frames: 5818 with cropped frame dimensions: 640 480\n",
      "Generating frames and creating video.\n"
     ]
    },
    {
     "name": "stderr",
     "output_type": "stream",
     "text": [
      "100%|██████████| 5818/5818 [00:14<00:00, 408.63it/s]\n"
     ]
    },
    {
     "name": "stdout",
     "output_type": "stream",
     "text": [
      "Starting to process video: c:\\Users\\rober\\Desktop\\Monkey-Emotions\\video\\gandalf_231205\\gandalf_231205_218_e3v831b.mp4\n",
      "Loading c:\\Users\\rober\\Desktop\\Monkey-Emotions\\video\\gandalf_231205\\gandalf_231205_218_e3v831b.mp4 and data.\n",
      "Duration of video [s]: 11.75, recorded with 120 fps!\n",
      "Overall # of frames: 1410 with cropped frame dimensions: 640 480\n",
      "Generating frames and creating video.\n"
     ]
    },
    {
     "name": "stderr",
     "output_type": "stream",
     "text": [
      "100%|██████████| 1410/1410 [00:03<00:00, 408.75it/s]\n"
     ]
    },
    {
     "name": "stdout",
     "output_type": "stream",
     "text": [
      "Starting to process video: c:\\Users\\rober\\Desktop\\Monkey-Emotions\\video\\gandalf_231205\\gandalf_231205_219_e3v831b.mp4\n",
      "Loading c:\\Users\\rober\\Desktop\\Monkey-Emotions\\video\\gandalf_231205\\gandalf_231205_219_e3v831b.mp4 and data.\n",
      "Duration of video [s]: 12.98, recorded with 120 fps!\n",
      "Overall # of frames: 1558 with cropped frame dimensions: 640 480\n",
      "Generating frames and creating video.\n"
     ]
    },
    {
     "name": "stderr",
     "output_type": "stream",
     "text": [
      "100%|██████████| 1558/1558 [00:03<00:00, 406.33it/s]\n"
     ]
    },
    {
     "name": "stdout",
     "output_type": "stream",
     "text": [
      "Starting to process video: c:\\Users\\rober\\Desktop\\Monkey-Emotions\\video\\gandalf_231205\\gandalf_231205_220_e3v831b.mp4\n",
      "Loading c:\\Users\\rober\\Desktop\\Monkey-Emotions\\video\\gandalf_231205\\gandalf_231205_220_e3v831b.mp4 and data.\n",
      "Duration of video [s]: 16.54, recorded with 120 fps!\n",
      "Overall # of frames: 1985 with cropped frame dimensions: 640 480\n",
      "Generating frames and creating video.\n"
     ]
    },
    {
     "name": "stderr",
     "output_type": "stream",
     "text": [
      "100%|██████████| 1985/1985 [00:04<00:00, 406.90it/s]\n"
     ]
    },
    {
     "name": "stdout",
     "output_type": "stream",
     "text": [
      "Starting to process video: c:\\Users\\rober\\Desktop\\Monkey-Emotions\\video\\gandalf_231205\\gandalf_231205_221_e3v831b.mp4\n",
      "Loading c:\\Users\\rober\\Desktop\\Monkey-Emotions\\video\\gandalf_231205\\gandalf_231205_221_e3v831b.mp4 and data.\n",
      "Duration of video [s]: 14.1, recorded with 120 fps!\n",
      "Overall # of frames: 1692 with cropped frame dimensions: 640 480\n",
      "Generating frames and creating video.\n"
     ]
    },
    {
     "name": "stderr",
     "output_type": "stream",
     "text": [
      "100%|██████████| 1692/1692 [00:04<00:00, 407.87it/s]\n"
     ]
    },
    {
     "name": "stdout",
     "output_type": "stream",
     "text": [
      "Starting to process video: c:\\Users\\rober\\Desktop\\Monkey-Emotions\\video\\gandalf_231205\\gandalf_231205_222_e3v831b.mp4\n",
      "Loading c:\\Users\\rober\\Desktop\\Monkey-Emotions\\video\\gandalf_231205\\gandalf_231205_222_e3v831b.mp4 and data.\n",
      "Duration of video [s]: 14.97, recorded with 120 fps!\n",
      "Overall # of frames: 1797 with cropped frame dimensions: 640 480\n",
      "Generating frames and creating video.\n"
     ]
    },
    {
     "name": "stderr",
     "output_type": "stream",
     "text": [
      "100%|██████████| 1797/1797 [00:04<00:00, 406.23it/s]\n"
     ]
    },
    {
     "name": "stdout",
     "output_type": "stream",
     "text": [
      "Starting to process video: c:\\Users\\rober\\Desktop\\Monkey-Emotions\\video\\gandalf_231205\\gandalf_231205_223_e3v831b.mp4\n",
      "Loading c:\\Users\\rober\\Desktop\\Monkey-Emotions\\video\\gandalf_231205\\gandalf_231205_223_e3v831b.mp4 and data.\n",
      "Duration of video [s]: 12.78, recorded with 120 fps!\n",
      "Overall # of frames: 1534 with cropped frame dimensions: 640 480\n",
      "Generating frames and creating video.\n"
     ]
    },
    {
     "name": "stderr",
     "output_type": "stream",
     "text": [
      "100%|██████████| 1534/1534 [00:03<00:00, 401.09it/s]\n"
     ]
    },
    {
     "name": "stdout",
     "output_type": "stream",
     "text": [
      "Starting to process video: c:\\Users\\rober\\Desktop\\Monkey-Emotions\\video\\gandalf_231205\\gandalf_231205_224_e3v831b.mp4\n",
      "Loading c:\\Users\\rober\\Desktop\\Monkey-Emotions\\video\\gandalf_231205\\gandalf_231205_224_e3v831b.mp4 and data.\n",
      "Duration of video [s]: 14.58, recorded with 120 fps!\n",
      "Overall # of frames: 1750 with cropped frame dimensions: 640 480\n",
      "Generating frames and creating video.\n"
     ]
    },
    {
     "name": "stderr",
     "output_type": "stream",
     "text": [
      "100%|██████████| 1750/1750 [00:04<00:00, 405.53it/s]\n"
     ]
    },
    {
     "name": "stdout",
     "output_type": "stream",
     "text": [
      "Starting to process video: c:\\Users\\rober\\Desktop\\Monkey-Emotions\\video\\gandalf_231205\\gandalf_231205_225_e3v831b.mp4\n",
      "Loading c:\\Users\\rober\\Desktop\\Monkey-Emotions\\video\\gandalf_231205\\gandalf_231205_225_e3v831b.mp4 and data.\n",
      "Duration of video [s]: 16.89, recorded with 120 fps!\n",
      "Overall # of frames: 2027 with cropped frame dimensions: 640 480\n",
      "Generating frames and creating video.\n"
     ]
    },
    {
     "name": "stderr",
     "output_type": "stream",
     "text": [
      "100%|██████████| 2027/2027 [00:04<00:00, 408.98it/s]\n"
     ]
    },
    {
     "name": "stdout",
     "output_type": "stream",
     "text": [
      "Starting to process video: c:\\Users\\rober\\Desktop\\Monkey-Emotions\\video\\gandalf_231205\\gandalf_231205_226_e3v831b.mp4\n",
      "Loading c:\\Users\\rober\\Desktop\\Monkey-Emotions\\video\\gandalf_231205\\gandalf_231205_226_e3v831b.mp4 and data.\n",
      "Duration of video [s]: 14.87, recorded with 120 fps!\n",
      "Overall # of frames: 1784 with cropped frame dimensions: 640 480\n",
      "Generating frames and creating video.\n"
     ]
    },
    {
     "name": "stderr",
     "output_type": "stream",
     "text": [
      "100%|██████████| 1784/1784 [00:04<00:00, 408.22it/s]\n"
     ]
    },
    {
     "name": "stdout",
     "output_type": "stream",
     "text": [
      "Starting to process video: c:\\Users\\rober\\Desktop\\Monkey-Emotions\\video\\gandalf_231205\\gandalf_231205_227_e3v831b.mp4\n",
      "Loading c:\\Users\\rober\\Desktop\\Monkey-Emotions\\video\\gandalf_231205\\gandalf_231205_227_e3v831b.mp4 and data.\n",
      "Duration of video [s]: 14.74, recorded with 120 fps!\n",
      "Overall # of frames: 1769 with cropped frame dimensions: 640 480\n",
      "Generating frames and creating video.\n"
     ]
    },
    {
     "name": "stderr",
     "output_type": "stream",
     "text": [
      "100%|██████████| 1769/1769 [00:04<00:00, 409.76it/s]\n"
     ]
    },
    {
     "name": "stdout",
     "output_type": "stream",
     "text": [
      "Starting to process video: c:\\Users\\rober\\Desktop\\Monkey-Emotions\\video\\gandalf_231205\\gandalf_231205_228_e3v831b.mp4\n",
      "Loading c:\\Users\\rober\\Desktop\\Monkey-Emotions\\video\\gandalf_231205\\gandalf_231205_228_e3v831b.mp4 and data.\n",
      "Duration of video [s]: 11.7, recorded with 120 fps!\n",
      "Overall # of frames: 1404 with cropped frame dimensions: 640 480\n",
      "Generating frames and creating video.\n"
     ]
    },
    {
     "name": "stderr",
     "output_type": "stream",
     "text": [
      "100%|██████████| 1404/1404 [00:03<00:00, 410.89it/s]\n"
     ]
    },
    {
     "name": "stdout",
     "output_type": "stream",
     "text": [
      "Starting to process video: c:\\Users\\rober\\Desktop\\Monkey-Emotions\\video\\gandalf_231205\\gandalf_231205_229_e3v831b.mp4\n",
      "Loading c:\\Users\\rober\\Desktop\\Monkey-Emotions\\video\\gandalf_231205\\gandalf_231205_229_e3v831b.mp4 and data.\n",
      "Duration of video [s]: 11.85, recorded with 120 fps!\n",
      "Overall # of frames: 1422 with cropped frame dimensions: 640 480\n",
      "Generating frames and creating video.\n"
     ]
    },
    {
     "name": "stderr",
     "output_type": "stream",
     "text": [
      "100%|██████████| 1422/1422 [00:03<00:00, 412.22it/s]\n"
     ]
    },
    {
     "name": "stdout",
     "output_type": "stream",
     "text": [
      "Starting to process video: c:\\Users\\rober\\Desktop\\Monkey-Emotions\\video\\gandalf_231205\\gandalf_231205_230_e3v831b.mp4\n",
      "Loading c:\\Users\\rober\\Desktop\\Monkey-Emotions\\video\\gandalf_231205\\gandalf_231205_230_e3v831b.mp4 and data.\n",
      "Duration of video [s]: 13.34, recorded with 120 fps!\n",
      "Overall # of frames: 1601 with cropped frame dimensions: 640 480\n",
      "Generating frames and creating video.\n"
     ]
    },
    {
     "name": "stderr",
     "output_type": "stream",
     "text": [
      "100%|██████████| 1601/1601 [00:03<00:00, 410.46it/s]\n"
     ]
    },
    {
     "name": "stdout",
     "output_type": "stream",
     "text": [
      "Starting to process video: c:\\Users\\rober\\Desktop\\Monkey-Emotions\\video\\gandalf_231205\\gandalf_231205_231_e3v831b.mp4\n",
      "Loading c:\\Users\\rober\\Desktop\\Monkey-Emotions\\video\\gandalf_231205\\gandalf_231205_231_e3v831b.mp4 and data.\n",
      "Duration of video [s]: 13.23, recorded with 120 fps!\n",
      "Overall # of frames: 1588 with cropped frame dimensions: 640 480\n",
      "Generating frames and creating video.\n"
     ]
    },
    {
     "name": "stderr",
     "output_type": "stream",
     "text": [
      "100%|██████████| 1588/1588 [00:03<00:00, 410.86it/s]\n"
     ]
    },
    {
     "name": "stdout",
     "output_type": "stream",
     "text": [
      "Starting to process video: c:\\Users\\rober\\Desktop\\Monkey-Emotions\\video\\gandalf_231205\\gandalf_231205_232_e3v831b.mp4\n",
      "Loading c:\\Users\\rober\\Desktop\\Monkey-Emotions\\video\\gandalf_231205\\gandalf_231205_232_e3v831b.mp4 and data.\n",
      "Duration of video [s]: 15.22, recorded with 120 fps!\n",
      "Overall # of frames: 1826 with cropped frame dimensions: 640 480\n",
      "Generating frames and creating video.\n"
     ]
    },
    {
     "name": "stderr",
     "output_type": "stream",
     "text": [
      "100%|██████████| 1826/1826 [00:04<00:00, 410.63it/s]\n"
     ]
    },
    {
     "name": "stdout",
     "output_type": "stream",
     "text": [
      "Starting to process video: c:\\Users\\rober\\Desktop\\Monkey-Emotions\\video\\gandalf_231205\\gandalf_231205_233_e3v831b.mp4\n",
      "Loading c:\\Users\\rober\\Desktop\\Monkey-Emotions\\video\\gandalf_231205\\gandalf_231205_233_e3v831b.mp4 and data.\n",
      "Duration of video [s]: 16.98, recorded with 120 fps!\n",
      "Overall # of frames: 2037 with cropped frame dimensions: 640 480\n",
      "Generating frames and creating video.\n"
     ]
    },
    {
     "name": "stderr",
     "output_type": "stream",
     "text": [
      "100%|██████████| 2037/2037 [00:04<00:00, 408.62it/s]\n"
     ]
    },
    {
     "name": "stdout",
     "output_type": "stream",
     "text": [
      "Starting to process video: c:\\Users\\rober\\Desktop\\Monkey-Emotions\\video\\gandalf_231205\\gandalf_231205_234_e3v831b.mp4\n",
      "Loading c:\\Users\\rober\\Desktop\\Monkey-Emotions\\video\\gandalf_231205\\gandalf_231205_234_e3v831b.mp4 and data.\n",
      "Duration of video [s]: 12.83, recorded with 120 fps!\n",
      "Overall # of frames: 1540 with cropped frame dimensions: 640 480\n",
      "Generating frames and creating video.\n"
     ]
    },
    {
     "name": "stderr",
     "output_type": "stream",
     "text": [
      "100%|██████████| 1540/1540 [00:03<00:00, 410.04it/s]\n"
     ]
    },
    {
     "name": "stdout",
     "output_type": "stream",
     "text": [
      "Starting to process video: c:\\Users\\rober\\Desktop\\Monkey-Emotions\\video\\gandalf_231205\\gandalf_231205_235_e3v831b.mp4\n",
      "Loading c:\\Users\\rober\\Desktop\\Monkey-Emotions\\video\\gandalf_231205\\gandalf_231205_235_e3v831b.mp4 and data.\n",
      "Duration of video [s]: 16.24, recorded with 120 fps!\n",
      "Overall # of frames: 1949 with cropped frame dimensions: 640 480\n",
      "Generating frames and creating video.\n"
     ]
    },
    {
     "name": "stderr",
     "output_type": "stream",
     "text": [
      "100%|██████████| 1949/1949 [00:04<00:00, 407.05it/s]\n"
     ]
    },
    {
     "name": "stdout",
     "output_type": "stream",
     "text": [
      "Starting to process video: c:\\Users\\rober\\Desktop\\Monkey-Emotions\\video\\gandalf_231205\\gandalf_231205_236_e3v831b.mp4\n",
      "Loading c:\\Users\\rober\\Desktop\\Monkey-Emotions\\video\\gandalf_231205\\gandalf_231205_236_e3v831b.mp4 and data.\n",
      "Duration of video [s]: 12.07, recorded with 120 fps!\n",
      "Overall # of frames: 1448 with cropped frame dimensions: 640 480\n",
      "Generating frames and creating video.\n"
     ]
    },
    {
     "name": "stderr",
     "output_type": "stream",
     "text": [
      "100%|██████████| 1448/1448 [00:03<00:00, 406.31it/s]\n"
     ]
    },
    {
     "name": "stdout",
     "output_type": "stream",
     "text": [
      "Starting to process video: c:\\Users\\rober\\Desktop\\Monkey-Emotions\\video\\gandalf_231205\\gandalf_231205_237_e3v831b.mp4\n",
      "Loading c:\\Users\\rober\\Desktop\\Monkey-Emotions\\video\\gandalf_231205\\gandalf_231205_237_e3v831b.mp4 and data.\n",
      "Duration of video [s]: 18.26, recorded with 120 fps!\n",
      "Overall # of frames: 2191 with cropped frame dimensions: 640 480\n",
      "Generating frames and creating video.\n"
     ]
    },
    {
     "name": "stderr",
     "output_type": "stream",
     "text": [
      "100%|██████████| 2191/2191 [00:05<00:00, 406.40it/s]\n"
     ]
    },
    {
     "name": "stdout",
     "output_type": "stream",
     "text": [
      "Starting to process video: c:\\Users\\rober\\Desktop\\Monkey-Emotions\\video\\gandalf_231205\\gandalf_231205_238_e3v831b.mp4\n",
      "Loading c:\\Users\\rober\\Desktop\\Monkey-Emotions\\video\\gandalf_231205\\gandalf_231205_238_e3v831b.mp4 and data.\n",
      "Duration of video [s]: 13.92, recorded with 120 fps!\n",
      "Overall # of frames: 1670 with cropped frame dimensions: 640 480\n",
      "Generating frames and creating video.\n"
     ]
    },
    {
     "name": "stderr",
     "output_type": "stream",
     "text": [
      "100%|██████████| 1670/1670 [00:04<00:00, 404.97it/s]\n"
     ]
    },
    {
     "name": "stdout",
     "output_type": "stream",
     "text": [
      "Starting to process video: c:\\Users\\rober\\Desktop\\Monkey-Emotions\\video\\gandalf_231205\\gandalf_231205_239_e3v831b.mp4\n",
      "Loading c:\\Users\\rober\\Desktop\\Monkey-Emotions\\video\\gandalf_231205\\gandalf_231205_239_e3v831b.mp4 and data.\n",
      "Duration of video [s]: 16.93, recorded with 120 fps!\n",
      "Overall # of frames: 2031 with cropped frame dimensions: 640 480\n",
      "Generating frames and creating video.\n"
     ]
    },
    {
     "name": "stderr",
     "output_type": "stream",
     "text": [
      "100%|██████████| 2031/2031 [00:04<00:00, 409.44it/s]\n"
     ]
    },
    {
     "name": "stdout",
     "output_type": "stream",
     "text": [
      "Starting to process video: c:\\Users\\rober\\Desktop\\Monkey-Emotions\\video\\gandalf_231205\\gandalf_231205_240_e3v831b.mp4\n",
      "Loading c:\\Users\\rober\\Desktop\\Monkey-Emotions\\video\\gandalf_231205\\gandalf_231205_240_e3v831b.mp4 and data.\n",
      "Duration of video [s]: 14.08, recorded with 120 fps!\n",
      "Overall # of frames: 1690 with cropped frame dimensions: 640 480\n",
      "Generating frames and creating video.\n"
     ]
    },
    {
     "name": "stderr",
     "output_type": "stream",
     "text": [
      "100%|██████████| 1690/1690 [00:04<00:00, 408.55it/s]\n"
     ]
    },
    {
     "name": "stdout",
     "output_type": "stream",
     "text": [
      "Starting to process video: c:\\Users\\rober\\Desktop\\Monkey-Emotions\\video\\gandalf_231205\\gandalf_231205_241_e3v831b.mp4\n",
      "Loading c:\\Users\\rober\\Desktop\\Monkey-Emotions\\video\\gandalf_231205\\gandalf_231205_241_e3v831b.mp4 and data.\n",
      "Duration of video [s]: 17.07, recorded with 120 fps!\n",
      "Overall # of frames: 2049 with cropped frame dimensions: 640 480\n",
      "Generating frames and creating video.\n"
     ]
    },
    {
     "name": "stderr",
     "output_type": "stream",
     "text": [
      "100%|██████████| 2049/2049 [00:05<00:00, 408.88it/s]\n"
     ]
    },
    {
     "name": "stdout",
     "output_type": "stream",
     "text": [
      "Starting to process video: c:\\Users\\rober\\Desktop\\Monkey-Emotions\\video\\gandalf_231205\\gandalf_231205_242_e3v831b.mp4\n",
      "Loading c:\\Users\\rober\\Desktop\\Monkey-Emotions\\video\\gandalf_231205\\gandalf_231205_242_e3v831b.mp4 and data.\n",
      "Duration of video [s]: 11.87, recorded with 120 fps!\n",
      "Overall # of frames: 1424 with cropped frame dimensions: 640 480\n",
      "Generating frames and creating video.\n"
     ]
    },
    {
     "name": "stderr",
     "output_type": "stream",
     "text": [
      "100%|██████████| 1424/1424 [00:03<00:00, 406.45it/s]\n"
     ]
    },
    {
     "name": "stdout",
     "output_type": "stream",
     "text": [
      "Starting to process video: c:\\Users\\rober\\Desktop\\Monkey-Emotions\\video\\gandalf_231205\\gandalf_231205_243_e3v831b.mp4\n",
      "Loading c:\\Users\\rober\\Desktop\\Monkey-Emotions\\video\\gandalf_231205\\gandalf_231205_243_e3v831b.mp4 and data.\n",
      "Duration of video [s]: 15.38, recorded with 120 fps!\n",
      "Overall # of frames: 1846 with cropped frame dimensions: 640 480\n",
      "Generating frames and creating video.\n"
     ]
    },
    {
     "name": "stderr",
     "output_type": "stream",
     "text": [
      "100%|██████████| 1846/1846 [00:04<00:00, 408.46it/s]\n"
     ]
    },
    {
     "name": "stdout",
     "output_type": "stream",
     "text": [
      "Starting to process video: c:\\Users\\rober\\Desktop\\Monkey-Emotions\\video\\gandalf_231205\\gandalf_231205_244_e3v831b.mp4\n",
      "Loading c:\\Users\\rober\\Desktop\\Monkey-Emotions\\video\\gandalf_231205\\gandalf_231205_244_e3v831b.mp4 and data.\n",
      "Duration of video [s]: 17.37, recorded with 120 fps!\n",
      "Overall # of frames: 2084 with cropped frame dimensions: 640 480\n",
      "Generating frames and creating video.\n"
     ]
    },
    {
     "name": "stderr",
     "output_type": "stream",
     "text": [
      "100%|██████████| 2084/2084 [00:05<00:00, 409.30it/s]\n"
     ]
    },
    {
     "name": "stdout",
     "output_type": "stream",
     "text": [
      "Starting to process video: c:\\Users\\rober\\Desktop\\Monkey-Emotions\\video\\gandalf_231205\\gandalf_231205_245_e3v831b.mp4\n",
      "Loading c:\\Users\\rober\\Desktop\\Monkey-Emotions\\video\\gandalf_231205\\gandalf_231205_245_e3v831b.mp4 and data.\n",
      "Duration of video [s]: 15.51, recorded with 120 fps!\n",
      "Overall # of frames: 1861 with cropped frame dimensions: 640 480\n",
      "Generating frames and creating video.\n"
     ]
    },
    {
     "name": "stderr",
     "output_type": "stream",
     "text": [
      "100%|██████████| 1861/1861 [00:04<00:00, 409.49it/s]\n"
     ]
    },
    {
     "name": "stdout",
     "output_type": "stream",
     "text": [
      "Starting to process video: c:\\Users\\rober\\Desktop\\Monkey-Emotions\\video\\gandalf_231205\\gandalf_231205_246_e3v831b.mp4\n",
      "Loading c:\\Users\\rober\\Desktop\\Monkey-Emotions\\video\\gandalf_231205\\gandalf_231205_246_e3v831b.mp4 and data.\n",
      "Duration of video [s]: 15.12, recorded with 120 fps!\n",
      "Overall # of frames: 1814 with cropped frame dimensions: 640 480\n",
      "Generating frames and creating video.\n"
     ]
    },
    {
     "name": "stderr",
     "output_type": "stream",
     "text": [
      "100%|██████████| 1814/1814 [00:04<00:00, 409.96it/s]\n"
     ]
    },
    {
     "name": "stdout",
     "output_type": "stream",
     "text": [
      "Starting to process video: c:\\Users\\rober\\Desktop\\Monkey-Emotions\\video\\gandalf_231205\\gandalf_231205_247_e3v831b.mp4\n",
      "Loading c:\\Users\\rober\\Desktop\\Monkey-Emotions\\video\\gandalf_231205\\gandalf_231205_247_e3v831b.mp4 and data.\n",
      "Duration of video [s]: 10.43, recorded with 120 fps!\n",
      "Overall # of frames: 1252 with cropped frame dimensions: 640 480\n",
      "Generating frames and creating video.\n"
     ]
    },
    {
     "name": "stderr",
     "output_type": "stream",
     "text": [
      "100%|██████████| 1252/1252 [00:03<00:00, 408.88it/s]\n"
     ]
    },
    {
     "name": "stdout",
     "output_type": "stream",
     "text": [
      "Starting to process video: c:\\Users\\rober\\Desktop\\Monkey-Emotions\\video\\gandalf_231205\\gandalf_231205_248_e3v831b.mp4\n",
      "Loading c:\\Users\\rober\\Desktop\\Monkey-Emotions\\video\\gandalf_231205\\gandalf_231205_248_e3v831b.mp4 and data.\n",
      "Duration of video [s]: 14.3, recorded with 120 fps!\n",
      "Overall # of frames: 1716 with cropped frame dimensions: 640 480\n",
      "Generating frames and creating video.\n"
     ]
    },
    {
     "name": "stderr",
     "output_type": "stream",
     "text": [
      "100%|██████████| 1716/1716 [00:04<00:00, 405.70it/s]\n"
     ]
    },
    {
     "name": "stdout",
     "output_type": "stream",
     "text": [
      "Starting to process video: c:\\Users\\rober\\Desktop\\Monkey-Emotions\\video\\gandalf_231205\\gandalf_231205_249_e3v831b.mp4\n",
      "Loading c:\\Users\\rober\\Desktop\\Monkey-Emotions\\video\\gandalf_231205\\gandalf_231205_249_e3v831b.mp4 and data.\n",
      "Duration of video [s]: 17.84, recorded with 120 fps!\n",
      "Overall # of frames: 2141 with cropped frame dimensions: 640 480\n",
      "Generating frames and creating video.\n"
     ]
    },
    {
     "name": "stderr",
     "output_type": "stream",
     "text": [
      "100%|██████████| 2141/2141 [00:05<00:00, 403.56it/s]\n"
     ]
    },
    {
     "name": "stdout",
     "output_type": "stream",
     "text": [
      "Starting to process video: c:\\Users\\rober\\Desktop\\Monkey-Emotions\\video\\gandalf_231205\\gandalf_231205_250_e3v831b.mp4\n",
      "Loading c:\\Users\\rober\\Desktop\\Monkey-Emotions\\video\\gandalf_231205\\gandalf_231205_250_e3v831b.mp4 and data.\n",
      "Duration of video [s]: 12.18, recorded with 120 fps!\n",
      "Overall # of frames: 1462 with cropped frame dimensions: 640 480\n",
      "Generating frames and creating video.\n"
     ]
    },
    {
     "name": "stderr",
     "output_type": "stream",
     "text": [
      "100%|██████████| 1462/1462 [00:03<00:00, 408.17it/s]\n"
     ]
    },
    {
     "name": "stdout",
     "output_type": "stream",
     "text": [
      "Starting to process video: c:\\Users\\rober\\Desktop\\Monkey-Emotions\\video\\gandalf_231205\\gandalf_231205_251_e3v831b.mp4\n",
      "Loading c:\\Users\\rober\\Desktop\\Monkey-Emotions\\video\\gandalf_231205\\gandalf_231205_251_e3v831b.mp4 and data.\n",
      "Duration of video [s]: 11.28, recorded with 120 fps!\n",
      "Overall # of frames: 1354 with cropped frame dimensions: 640 480\n",
      "Generating frames and creating video.\n"
     ]
    },
    {
     "name": "stderr",
     "output_type": "stream",
     "text": [
      "100%|██████████| 1354/1354 [00:03<00:00, 403.21it/s]\n"
     ]
    },
    {
     "name": "stdout",
     "output_type": "stream",
     "text": [
      "Starting to process video: c:\\Users\\rober\\Desktop\\Monkey-Emotions\\video\\gandalf_231205\\gandalf_231205_252_e3v831b.mp4\n",
      "Loading c:\\Users\\rober\\Desktop\\Monkey-Emotions\\video\\gandalf_231205\\gandalf_231205_252_e3v831b.mp4 and data.\n",
      "Duration of video [s]: 13.35, recorded with 120 fps!\n",
      "Overall # of frames: 1602 with cropped frame dimensions: 640 480\n",
      "Generating frames and creating video.\n"
     ]
    },
    {
     "name": "stderr",
     "output_type": "stream",
     "text": [
      "100%|██████████| 1602/1602 [00:03<00:00, 405.33it/s]\n"
     ]
    },
    {
     "name": "stdout",
     "output_type": "stream",
     "text": [
      "Starting to process video: c:\\Users\\rober\\Desktop\\Monkey-Emotions\\video\\gandalf_231205\\gandalf_231205_253_e3v831b.mp4\n",
      "Loading c:\\Users\\rober\\Desktop\\Monkey-Emotions\\video\\gandalf_231205\\gandalf_231205_253_e3v831b.mp4 and data.\n",
      "Duration of video [s]: 9.92, recorded with 120 fps!\n",
      "Overall # of frames: 1190 with cropped frame dimensions: 640 480\n",
      "Generating frames and creating video.\n"
     ]
    },
    {
     "name": "stderr",
     "output_type": "stream",
     "text": [
      "100%|██████████| 1190/1190 [00:02<00:00, 405.83it/s]\n"
     ]
    },
    {
     "name": "stdout",
     "output_type": "stream",
     "text": [
      "Starting to process video: c:\\Users\\rober\\Desktop\\Monkey-Emotions\\video\\gandalf_231205\\gandalf_231205_254_e3v831b.mp4\n",
      "Loading c:\\Users\\rober\\Desktop\\Monkey-Emotions\\video\\gandalf_231205\\gandalf_231205_254_e3v831b.mp4 and data.\n",
      "Duration of video [s]: 16.76, recorded with 120 fps!\n",
      "Overall # of frames: 2011 with cropped frame dimensions: 640 480\n",
      "Generating frames and creating video.\n"
     ]
    },
    {
     "name": "stderr",
     "output_type": "stream",
     "text": [
      "100%|██████████| 2011/2011 [00:04<00:00, 403.14it/s]\n"
     ]
    },
    {
     "name": "stdout",
     "output_type": "stream",
     "text": [
      "Starting to process video: c:\\Users\\rober\\Desktop\\Monkey-Emotions\\video\\gandalf_231205\\gandalf_231205_255_e3v831b.mp4\n",
      "Loading c:\\Users\\rober\\Desktop\\Monkey-Emotions\\video\\gandalf_231205\\gandalf_231205_255_e3v831b.mp4 and data.\n",
      "Duration of video [s]: 12.32, recorded with 120 fps!\n",
      "Overall # of frames: 1478 with cropped frame dimensions: 640 480\n",
      "Generating frames and creating video.\n"
     ]
    },
    {
     "name": "stderr",
     "output_type": "stream",
     "text": [
      "100%|██████████| 1478/1478 [00:03<00:00, 405.93it/s]\n"
     ]
    },
    {
     "name": "stdout",
     "output_type": "stream",
     "text": [
      "Starting to process video: c:\\Users\\rober\\Desktop\\Monkey-Emotions\\video\\gandalf_231205\\gandalf_231205_256_e3v831b.mp4\n",
      "Loading c:\\Users\\rober\\Desktop\\Monkey-Emotions\\video\\gandalf_231205\\gandalf_231205_256_e3v831b.mp4 and data.\n",
      "Duration of video [s]: 14.16, recorded with 120 fps!\n",
      "Overall # of frames: 1699 with cropped frame dimensions: 640 480\n",
      "Generating frames and creating video.\n"
     ]
    },
    {
     "name": "stderr",
     "output_type": "stream",
     "text": [
      "100%|██████████| 1699/1699 [00:04<00:00, 405.92it/s]\n"
     ]
    },
    {
     "name": "stdout",
     "output_type": "stream",
     "text": [
      "Starting to process video: c:\\Users\\rober\\Desktop\\Monkey-Emotions\\video\\gandalf_231205\\gandalf_231205_257_e3v831b.mp4\n",
      "Loading c:\\Users\\rober\\Desktop\\Monkey-Emotions\\video\\gandalf_231205\\gandalf_231205_257_e3v831b.mp4 and data.\n",
      "Duration of video [s]: 16.94, recorded with 120 fps!\n",
      "Overall # of frames: 2033 with cropped frame dimensions: 640 480\n",
      "Generating frames and creating video.\n"
     ]
    },
    {
     "name": "stderr",
     "output_type": "stream",
     "text": [
      "100%|██████████| 2033/2033 [00:04<00:00, 408.12it/s]\n"
     ]
    },
    {
     "name": "stdout",
     "output_type": "stream",
     "text": [
      "Starting to process video: c:\\Users\\rober\\Desktop\\Monkey-Emotions\\video\\gandalf_231205\\gandalf_231205_258_e3v831b.mp4\n",
      "Loading c:\\Users\\rober\\Desktop\\Monkey-Emotions\\video\\gandalf_231205\\gandalf_231205_258_e3v831b.mp4 and data.\n",
      "Duration of video [s]: 51.03, recorded with 120 fps!\n",
      "Overall # of frames: 6124 with cropped frame dimensions: 640 480\n",
      "Generating frames and creating video.\n"
     ]
    },
    {
     "name": "stderr",
     "output_type": "stream",
     "text": [
      "100%|██████████| 6124/6124 [00:15<00:00, 404.13it/s]\n"
     ]
    },
    {
     "name": "stdout",
     "output_type": "stream",
     "text": [
      "Starting to process video: c:\\Users\\rober\\Desktop\\Monkey-Emotions\\video\\gandalf_231205\\gandalf_231205_259_e3v831b.mp4\n",
      "Loading c:\\Users\\rober\\Desktop\\Monkey-Emotions\\video\\gandalf_231205\\gandalf_231205_259_e3v831b.mp4 and data.\n",
      "Duration of video [s]: 27.18, recorded with 120 fps!\n",
      "Overall # of frames: 3262 with cropped frame dimensions: 640 480\n",
      "Generating frames and creating video.\n"
     ]
    },
    {
     "name": "stderr",
     "output_type": "stream",
     "text": [
      "100%|██████████| 3262/3262 [00:08<00:00, 406.10it/s]\n"
     ]
    },
    {
     "name": "stdout",
     "output_type": "stream",
     "text": [
      "Starting to process video: c:\\Users\\rober\\Desktop\\Monkey-Emotions\\video\\gandalf_231205\\gandalf_231205_260_e3v831b.mp4\n",
      "Loading c:\\Users\\rober\\Desktop\\Monkey-Emotions\\video\\gandalf_231205\\gandalf_231205_260_e3v831b.mp4 and data.\n",
      "Duration of video [s]: 16.27, recorded with 120 fps!\n",
      "Overall # of frames: 1952 with cropped frame dimensions: 640 480\n",
      "Generating frames and creating video.\n"
     ]
    },
    {
     "name": "stderr",
     "output_type": "stream",
     "text": [
      "100%|██████████| 1952/1952 [00:04<00:00, 406.01it/s]\n"
     ]
    },
    {
     "name": "stdout",
     "output_type": "stream",
     "text": [
      "Starting to process video: c:\\Users\\rober\\Desktop\\Monkey-Emotions\\video\\gandalf_231205\\gandalf_231205_261_e3v831b.mp4\n",
      "Loading c:\\Users\\rober\\Desktop\\Monkey-Emotions\\video\\gandalf_231205\\gandalf_231205_261_e3v831b.mp4 and data.\n",
      "Duration of video [s]: 18.07, recorded with 120 fps!\n",
      "Overall # of frames: 2169 with cropped frame dimensions: 640 480\n",
      "Generating frames and creating video.\n"
     ]
    },
    {
     "name": "stderr",
     "output_type": "stream",
     "text": [
      "100%|██████████| 2169/2169 [00:05<00:00, 404.29it/s]\n"
     ]
    },
    {
     "name": "stdout",
     "output_type": "stream",
     "text": [
      "Starting to process video: c:\\Users\\rober\\Desktop\\Monkey-Emotions\\video\\gandalf_231205\\gandalf_231205_262_e3v831b.mp4\n",
      "Loading c:\\Users\\rober\\Desktop\\Monkey-Emotions\\video\\gandalf_231205\\gandalf_231205_262_e3v831b.mp4 and data.\n",
      "Duration of video [s]: 14.93, recorded with 120 fps!\n",
      "Overall # of frames: 1791 with cropped frame dimensions: 640 480\n",
      "Generating frames and creating video.\n"
     ]
    },
    {
     "name": "stderr",
     "output_type": "stream",
     "text": [
      "100%|██████████| 1791/1791 [00:04<00:00, 405.81it/s]\n"
     ]
    },
    {
     "name": "stdout",
     "output_type": "stream",
     "text": [
      "Starting to process video: c:\\Users\\rober\\Desktop\\Monkey-Emotions\\video\\gandalf_231205\\gandalf_231205_263_e3v831b.mp4\n",
      "Loading c:\\Users\\rober\\Desktop\\Monkey-Emotions\\video\\gandalf_231205\\gandalf_231205_263_e3v831b.mp4 and data.\n",
      "Duration of video [s]: 13.75, recorded with 120 fps!\n",
      "Overall # of frames: 1650 with cropped frame dimensions: 640 480\n",
      "Generating frames and creating video.\n"
     ]
    },
    {
     "name": "stderr",
     "output_type": "stream",
     "text": [
      "100%|██████████| 1650/1650 [00:04<00:00, 406.98it/s]\n"
     ]
    },
    {
     "name": "stdout",
     "output_type": "stream",
     "text": [
      "Starting to process video: c:\\Users\\rober\\Desktop\\Monkey-Emotions\\video\\gandalf_231205\\gandalf_231205_264_e3v831b.mp4\n",
      "Loading c:\\Users\\rober\\Desktop\\Monkey-Emotions\\video\\gandalf_231205\\gandalf_231205_264_e3v831b.mp4 and data.\n",
      "Duration of video [s]: 16.57, recorded with 120 fps!\n",
      "Overall # of frames: 1989 with cropped frame dimensions: 640 480\n",
      "Generating frames and creating video.\n"
     ]
    },
    {
     "name": "stderr",
     "output_type": "stream",
     "text": [
      "100%|██████████| 1989/1989 [00:04<00:00, 402.92it/s]\n"
     ]
    },
    {
     "name": "stdout",
     "output_type": "stream",
     "text": [
      "Starting to process video: c:\\Users\\rober\\Desktop\\Monkey-Emotions\\video\\gandalf_231205\\gandalf_231205_265_e3v831b.mp4\n",
      "Loading c:\\Users\\rober\\Desktop\\Monkey-Emotions\\video\\gandalf_231205\\gandalf_231205_265_e3v831b.mp4 and data.\n",
      "Duration of video [s]: 13.62, recorded with 120 fps!\n",
      "Overall # of frames: 1634 with cropped frame dimensions: 640 480\n",
      "Generating frames and creating video.\n"
     ]
    },
    {
     "name": "stderr",
     "output_type": "stream",
     "text": [
      "100%|██████████| 1634/1634 [00:04<00:00, 401.34it/s]\n"
     ]
    },
    {
     "name": "stdout",
     "output_type": "stream",
     "text": [
      "Starting to process video: c:\\Users\\rober\\Desktop\\Monkey-Emotions\\video\\gandalf_231205\\gandalf_231205_266_e3v831b.mp4\n",
      "Loading c:\\Users\\rober\\Desktop\\Monkey-Emotions\\video\\gandalf_231205\\gandalf_231205_266_e3v831b.mp4 and data.\n",
      "Duration of video [s]: 17.31, recorded with 120 fps!\n",
      "Overall # of frames: 2077 with cropped frame dimensions: 640 480\n",
      "Generating frames and creating video.\n"
     ]
    },
    {
     "name": "stderr",
     "output_type": "stream",
     "text": [
      "100%|██████████| 2077/2077 [00:05<00:00, 404.62it/s]\n"
     ]
    },
    {
     "name": "stdout",
     "output_type": "stream",
     "text": [
      "Starting to process video: c:\\Users\\rober\\Desktop\\Monkey-Emotions\\video\\gandalf_231205\\gandalf_231205_267_e3v831b.mp4\n",
      "Loading c:\\Users\\rober\\Desktop\\Monkey-Emotions\\video\\gandalf_231205\\gandalf_231205_267_e3v831b.mp4 and data.\n",
      "Duration of video [s]: 12.4, recorded with 120 fps!\n",
      "Overall # of frames: 1488 with cropped frame dimensions: 640 480\n",
      "Generating frames and creating video.\n"
     ]
    },
    {
     "name": "stderr",
     "output_type": "stream",
     "text": [
      "100%|██████████| 1488/1488 [00:03<00:00, 406.13it/s]\n"
     ]
    },
    {
     "name": "stdout",
     "output_type": "stream",
     "text": [
      "Starting to process video: c:\\Users\\rober\\Desktop\\Monkey-Emotions\\video\\gandalf_231205\\gandalf_231205_268_e3v831b.mp4\n",
      "Loading c:\\Users\\rober\\Desktop\\Monkey-Emotions\\video\\gandalf_231205\\gandalf_231205_268_e3v831b.mp4 and data.\n",
      "Duration of video [s]: 16.48, recorded with 120 fps!\n",
      "Overall # of frames: 1977 with cropped frame dimensions: 640 480\n",
      "Generating frames and creating video.\n"
     ]
    },
    {
     "name": "stderr",
     "output_type": "stream",
     "text": [
      "100%|██████████| 1977/1977 [00:04<00:00, 405.29it/s]\n"
     ]
    },
    {
     "name": "stdout",
     "output_type": "stream",
     "text": [
      "Starting to process video: c:\\Users\\rober\\Desktop\\Monkey-Emotions\\video\\gandalf_231205\\gandalf_231205_269_e3v831b.mp4\n",
      "Loading c:\\Users\\rober\\Desktop\\Monkey-Emotions\\video\\gandalf_231205\\gandalf_231205_269_e3v831b.mp4 and data.\n",
      "Duration of video [s]: 15.65, recorded with 120 fps!\n",
      "Overall # of frames: 1878 with cropped frame dimensions: 640 480\n",
      "Generating frames and creating video.\n"
     ]
    },
    {
     "name": "stderr",
     "output_type": "stream",
     "text": [
      "100%|██████████| 1878/1878 [00:04<00:00, 406.95it/s]\n"
     ]
    },
    {
     "name": "stdout",
     "output_type": "stream",
     "text": [
      "Starting to process video: c:\\Users\\rober\\Desktop\\Monkey-Emotions\\video\\gandalf_231205\\gandalf_231205_270_e3v831b.mp4\n",
      "Loading c:\\Users\\rober\\Desktop\\Monkey-Emotions\\video\\gandalf_231205\\gandalf_231205_270_e3v831b.mp4 and data.\n",
      "Duration of video [s]: 15.43, recorded with 120 fps!\n",
      "Overall # of frames: 1851 with cropped frame dimensions: 640 480\n",
      "Generating frames and creating video.\n"
     ]
    },
    {
     "name": "stderr",
     "output_type": "stream",
     "text": [
      "100%|██████████| 1851/1851 [00:04<00:00, 410.86it/s]\n"
     ]
    },
    {
     "name": "stdout",
     "output_type": "stream",
     "text": [
      "Starting to process video: c:\\Users\\rober\\Desktop\\Monkey-Emotions\\video\\gandalf_231205\\gandalf_231205_271_e3v831b.mp4\n",
      "Loading c:\\Users\\rober\\Desktop\\Monkey-Emotions\\video\\gandalf_231205\\gandalf_231205_271_e3v831b.mp4 and data.\n",
      "Duration of video [s]: 14.98, recorded with 120 fps!\n",
      "Overall # of frames: 1798 with cropped frame dimensions: 640 480\n",
      "Generating frames and creating video.\n"
     ]
    },
    {
     "name": "stderr",
     "output_type": "stream",
     "text": [
      "100%|██████████| 1798/1798 [00:04<00:00, 408.45it/s]\n"
     ]
    },
    {
     "name": "stdout",
     "output_type": "stream",
     "text": [
      "Starting to process video: c:\\Users\\rober\\Desktop\\Monkey-Emotions\\video\\gandalf_231205\\gandalf_231205_272_e3v831b.mp4\n",
      "Loading c:\\Users\\rober\\Desktop\\Monkey-Emotions\\video\\gandalf_231205\\gandalf_231205_272_e3v831b.mp4 and data.\n",
      "Duration of video [s]: 12.38, recorded with 120 fps!\n",
      "Overall # of frames: 1486 with cropped frame dimensions: 640 480\n",
      "Generating frames and creating video.\n"
     ]
    },
    {
     "name": "stderr",
     "output_type": "stream",
     "text": [
      "100%|██████████| 1486/1486 [00:03<00:00, 412.58it/s]\n"
     ]
    },
    {
     "name": "stdout",
     "output_type": "stream",
     "text": [
      "Starting to process video: c:\\Users\\rober\\Desktop\\Monkey-Emotions\\video\\gandalf_231205\\gandalf_231205_273_e3v831b.mp4\n",
      "Loading c:\\Users\\rober\\Desktop\\Monkey-Emotions\\video\\gandalf_231205\\gandalf_231205_273_e3v831b.mp4 and data.\n",
      "Duration of video [s]: 16.86, recorded with 120 fps!\n",
      "Overall # of frames: 2023 with cropped frame dimensions: 640 480\n",
      "Generating frames and creating video.\n"
     ]
    },
    {
     "name": "stderr",
     "output_type": "stream",
     "text": [
      "100%|██████████| 2023/2023 [00:04<00:00, 410.27it/s]\n"
     ]
    },
    {
     "name": "stdout",
     "output_type": "stream",
     "text": [
      "Starting to process video: c:\\Users\\rober\\Desktop\\Monkey-Emotions\\video\\gandalf_231205\\gandalf_231205_274_e3v831b.mp4\n",
      "Loading c:\\Users\\rober\\Desktop\\Monkey-Emotions\\video\\gandalf_231205\\gandalf_231205_274_e3v831b.mp4 and data.\n",
      "Duration of video [s]: 14.68, recorded with 120 fps!\n",
      "Overall # of frames: 1762 with cropped frame dimensions: 640 480\n",
      "Generating frames and creating video.\n"
     ]
    },
    {
     "name": "stderr",
     "output_type": "stream",
     "text": [
      "100%|██████████| 1762/1762 [00:04<00:00, 405.40it/s]\n"
     ]
    },
    {
     "name": "stdout",
     "output_type": "stream",
     "text": [
      "Starting to process video: c:\\Users\\rober\\Desktop\\Monkey-Emotions\\video\\gandalf_231205\\gandalf_231205_275_e3v831b.mp4\n",
      "Loading c:\\Users\\rober\\Desktop\\Monkey-Emotions\\video\\gandalf_231205\\gandalf_231205_275_e3v831b.mp4 and data.\n",
      "Duration of video [s]: 17.93, recorded with 120 fps!\n",
      "Overall # of frames: 2151 with cropped frame dimensions: 640 480\n",
      "Generating frames and creating video.\n"
     ]
    },
    {
     "name": "stderr",
     "output_type": "stream",
     "text": [
      "100%|██████████| 2151/2151 [00:05<00:00, 400.31it/s]\n"
     ]
    },
    {
     "name": "stdout",
     "output_type": "stream",
     "text": [
      "Starting to process video: c:\\Users\\rober\\Desktop\\Monkey-Emotions\\video\\gandalf_231205\\gandalf_231205_276_e3v831b.mp4\n",
      "Loading c:\\Users\\rober\\Desktop\\Monkey-Emotions\\video\\gandalf_231205\\gandalf_231205_276_e3v831b.mp4 and data.\n",
      "Duration of video [s]: 16.01, recorded with 120 fps!\n",
      "Overall # of frames: 1921 with cropped frame dimensions: 640 480\n",
      "Generating frames and creating video.\n"
     ]
    },
    {
     "name": "stderr",
     "output_type": "stream",
     "text": [
      "100%|██████████| 1921/1921 [00:04<00:00, 409.02it/s]\n"
     ]
    },
    {
     "name": "stdout",
     "output_type": "stream",
     "text": [
      "Starting to process video: c:\\Users\\rober\\Desktop\\Monkey-Emotions\\video\\gandalf_231205\\gandalf_231205_277_e3v831b.mp4\n",
      "Loading c:\\Users\\rober\\Desktop\\Monkey-Emotions\\video\\gandalf_231205\\gandalf_231205_277_e3v831b.mp4 and data.\n",
      "Duration of video [s]: 17.25, recorded with 120 fps!\n",
      "Overall # of frames: 2070 with cropped frame dimensions: 640 480\n",
      "Generating frames and creating video.\n"
     ]
    },
    {
     "name": "stderr",
     "output_type": "stream",
     "text": [
      "100%|██████████| 2070/2070 [00:05<00:00, 407.50it/s]\n"
     ]
    },
    {
     "name": "stdout",
     "output_type": "stream",
     "text": [
      "Starting to process video: c:\\Users\\rober\\Desktop\\Monkey-Emotions\\video\\gandalf_231205\\gandalf_231205_278_e3v831b.mp4\n",
      "Loading c:\\Users\\rober\\Desktop\\Monkey-Emotions\\video\\gandalf_231205\\gandalf_231205_278_e3v831b.mp4 and data.\n",
      "Duration of video [s]: 18.82, recorded with 120 fps!\n",
      "Overall # of frames: 2259 with cropped frame dimensions: 640 480\n",
      "Generating frames and creating video.\n"
     ]
    },
    {
     "name": "stderr",
     "output_type": "stream",
     "text": [
      "100%|██████████| 2259/2259 [00:05<00:00, 406.38it/s]\n"
     ]
    },
    {
     "name": "stdout",
     "output_type": "stream",
     "text": [
      "Starting to process video: c:\\Users\\rober\\Desktop\\Monkey-Emotions\\video\\gandalf_231205\\gandalf_231205_279_e3v831b.mp4\n",
      "Loading c:\\Users\\rober\\Desktop\\Monkey-Emotions\\video\\gandalf_231205\\gandalf_231205_279_e3v831b.mp4 and data.\n",
      "Duration of video [s]: 12.53, recorded with 120 fps!\n",
      "Overall # of frames: 1504 with cropped frame dimensions: 640 480\n",
      "Generating frames and creating video.\n"
     ]
    },
    {
     "name": "stderr",
     "output_type": "stream",
     "text": [
      "100%|██████████| 1504/1504 [00:03<00:00, 411.51it/s]\n"
     ]
    },
    {
     "name": "stdout",
     "output_type": "stream",
     "text": [
      "Starting to process video: c:\\Users\\rober\\Desktop\\Monkey-Emotions\\video\\gandalf_231205\\gandalf_231205_280_e3v831b.mp4\n",
      "Loading c:\\Users\\rober\\Desktop\\Monkey-Emotions\\video\\gandalf_231205\\gandalf_231205_280_e3v831b.mp4 and data.\n",
      "Duration of video [s]: 51.18, recorded with 120 fps!\n",
      "Overall # of frames: 6142 with cropped frame dimensions: 640 480\n",
      "Generating frames and creating video.\n"
     ]
    },
    {
     "name": "stderr",
     "output_type": "stream",
     "text": [
      "100%|██████████| 6142/6142 [00:14<00:00, 411.48it/s]\n"
     ]
    },
    {
     "name": "stdout",
     "output_type": "stream",
     "text": [
      "Starting to process video: c:\\Users\\rober\\Desktop\\Monkey-Emotions\\video\\gandalf_231205\\gandalf_231205_282_e3v831b.mp4\n",
      "Loading c:\\Users\\rober\\Desktop\\Monkey-Emotions\\video\\gandalf_231205\\gandalf_231205_282_e3v831b.mp4 and data.\n",
      "Duration of video [s]: 55.63, recorded with 120 fps!\n",
      "Overall # of frames: 6676 with cropped frame dimensions: 640 480\n",
      "Generating frames and creating video.\n"
     ]
    },
    {
     "name": "stderr",
     "output_type": "stream",
     "text": [
      "100%|██████████| 6676/6676 [00:16<00:00, 412.49it/s]\n"
     ]
    },
    {
     "name": "stdout",
     "output_type": "stream",
     "text": [
      "Starting to process video: c:\\Users\\rober\\Desktop\\Monkey-Emotions\\video\\gandalf_231205\\gandalf_231205_283_e3v831b.mp4\n",
      "Loading c:\\Users\\rober\\Desktop\\Monkey-Emotions\\video\\gandalf_231205\\gandalf_231205_283_e3v831b.mp4 and data.\n",
      "Duration of video [s]: 55.72, recorded with 120 fps!\n",
      "Overall # of frames: 6686 with cropped frame dimensions: 640 480\n",
      "Generating frames and creating video.\n"
     ]
    },
    {
     "name": "stderr",
     "output_type": "stream",
     "text": [
      "100%|██████████| 6686/6686 [00:16<00:00, 410.19it/s]\n"
     ]
    },
    {
     "name": "stdout",
     "output_type": "stream",
     "text": [
      "Starting to process video: c:\\Users\\rober\\Desktop\\Monkey-Emotions\\video\\gandalf_231205\\gandalf_231205_284_e3v831b.mp4\n",
      "Loading c:\\Users\\rober\\Desktop\\Monkey-Emotions\\video\\gandalf_231205\\gandalf_231205_284_e3v831b.mp4 and data.\n",
      "Duration of video [s]: 55.73, recorded with 120 fps!\n",
      "Overall # of frames: 6687 with cropped frame dimensions: 640 480\n",
      "Generating frames and creating video.\n"
     ]
    },
    {
     "name": "stderr",
     "output_type": "stream",
     "text": [
      "100%|██████████| 6687/6687 [00:16<00:00, 410.43it/s]\n"
     ]
    },
    {
     "name": "stdout",
     "output_type": "stream",
     "text": [
      "Attempting to create a symbolic link of the video ...\n",
      "Video C:\\Users\\rober\\Desktop\\Monkey-Emotions\\231205_gandalf\\face_1-rh-2023-12-06\\videos\\gandalf_231205_0_e3v8360.mp4 already exists. Skipping...\n",
      "Symlink creation impossible (exFat architecture?): copying the video instead.\n",
      "c:\\Users\\rober\\Desktop\\Monkey-Emotions\\video\\gandalf_231205\\gandalf_231205_1_e3v8360.mp4 copied to C:\\Users\\rober\\Desktop\\Monkey-Emotions\\231205_gandalf\\face_1-rh-2023-12-06\\videos\\gandalf_231205_1_e3v8360.mp4\n",
      "Symlink creation impossible (exFat architecture?): copying the video instead.\n",
      "c:\\Users\\rober\\Desktop\\Monkey-Emotions\\video\\gandalf_231205\\gandalf_231205_2_e3v8360.mp4 copied to C:\\Users\\rober\\Desktop\\Monkey-Emotions\\231205_gandalf\\face_1-rh-2023-12-06\\videos\\gandalf_231205_2_e3v8360.mp4\n",
      "Symlink creation impossible (exFat architecture?): copying the video instead.\n",
      "c:\\Users\\rober\\Desktop\\Monkey-Emotions\\video\\gandalf_231205\\gandalf_231205_3_e3v8360.mp4 copied to C:\\Users\\rober\\Desktop\\Monkey-Emotions\\231205_gandalf\\face_1-rh-2023-12-06\\videos\\gandalf_231205_3_e3v8360.mp4\n",
      "Symlink creation impossible (exFat architecture?): copying the video instead.\n",
      "c:\\Users\\rober\\Desktop\\Monkey-Emotions\\video\\gandalf_231205\\gandalf_231205_4_e3v8360.mp4 copied to C:\\Users\\rober\\Desktop\\Monkey-Emotions\\231205_gandalf\\face_1-rh-2023-12-06\\videos\\gandalf_231205_4_e3v8360.mp4\n",
      "Symlink creation impossible (exFat architecture?): copying the video instead.\n",
      "c:\\Users\\rober\\Desktop\\Monkey-Emotions\\video\\gandalf_231205\\gandalf_231205_5_e3v8360.mp4 copied to C:\\Users\\rober\\Desktop\\Monkey-Emotions\\231205_gandalf\\face_1-rh-2023-12-06\\videos\\gandalf_231205_5_e3v8360.mp4\n",
      "Symlink creation impossible (exFat architecture?): copying the video instead.\n",
      "c:\\Users\\rober\\Desktop\\Monkey-Emotions\\video\\gandalf_231205\\gandalf_231205_6_e3v8360.mp4 copied to C:\\Users\\rober\\Desktop\\Monkey-Emotions\\231205_gandalf\\face_1-rh-2023-12-06\\videos\\gandalf_231205_6_e3v8360.mp4\n",
      "Symlink creation impossible (exFat architecture?): copying the video instead.\n",
      "c:\\Users\\rober\\Desktop\\Monkey-Emotions\\video\\gandalf_231205\\gandalf_231205_7_e3v8360.mp4 copied to C:\\Users\\rober\\Desktop\\Monkey-Emotions\\231205_gandalf\\face_1-rh-2023-12-06\\videos\\gandalf_231205_7_e3v8360.mp4\n",
      "Symlink creation impossible (exFat architecture?): copying the video instead.\n",
      "c:\\Users\\rober\\Desktop\\Monkey-Emotions\\video\\gandalf_231205\\gandalf_231205_8_e3v8360.mp4 copied to C:\\Users\\rober\\Desktop\\Monkey-Emotions\\231205_gandalf\\face_1-rh-2023-12-06\\videos\\gandalf_231205_8_e3v8360.mp4\n",
      "Symlink creation impossible (exFat architecture?): copying the video instead.\n",
      "c:\\Users\\rober\\Desktop\\Monkey-Emotions\\video\\gandalf_231205\\gandalf_231205_9_e3v8360.mp4 copied to C:\\Users\\rober\\Desktop\\Monkey-Emotions\\231205_gandalf\\face_1-rh-2023-12-06\\videos\\gandalf_231205_9_e3v8360.mp4\n",
      "Symlink creation impossible (exFat architecture?): copying the video instead.\n",
      "c:\\Users\\rober\\Desktop\\Monkey-Emotions\\video\\gandalf_231205\\gandalf_231205_10_e3v8360.mp4 copied to C:\\Users\\rober\\Desktop\\Monkey-Emotions\\231205_gandalf\\face_1-rh-2023-12-06\\videos\\gandalf_231205_10_e3v8360.mp4\n",
      "Symlink creation impossible (exFat architecture?): copying the video instead.\n",
      "c:\\Users\\rober\\Desktop\\Monkey-Emotions\\video\\gandalf_231205\\gandalf_231205_11_e3v8360.mp4 copied to C:\\Users\\rober\\Desktop\\Monkey-Emotions\\231205_gandalf\\face_1-rh-2023-12-06\\videos\\gandalf_231205_11_e3v8360.mp4\n",
      "Symlink creation impossible (exFat architecture?): copying the video instead.\n",
      "c:\\Users\\rober\\Desktop\\Monkey-Emotions\\video\\gandalf_231205\\gandalf_231205_12_e3v8360.mp4 copied to C:\\Users\\rober\\Desktop\\Monkey-Emotions\\231205_gandalf\\face_1-rh-2023-12-06\\videos\\gandalf_231205_12_e3v8360.mp4\n",
      "Symlink creation impossible (exFat architecture?): copying the video instead.\n",
      "c:\\Users\\rober\\Desktop\\Monkey-Emotions\\video\\gandalf_231205\\gandalf_231205_13_e3v8360.mp4 copied to C:\\Users\\rober\\Desktop\\Monkey-Emotions\\231205_gandalf\\face_1-rh-2023-12-06\\videos\\gandalf_231205_13_e3v8360.mp4\n",
      "Symlink creation impossible (exFat architecture?): copying the video instead.\n",
      "c:\\Users\\rober\\Desktop\\Monkey-Emotions\\video\\gandalf_231205\\gandalf_231205_14_e3v8360.mp4 copied to C:\\Users\\rober\\Desktop\\Monkey-Emotions\\231205_gandalf\\face_1-rh-2023-12-06\\videos\\gandalf_231205_14_e3v8360.mp4\n",
      "Symlink creation impossible (exFat architecture?): copying the video instead.\n",
      "c:\\Users\\rober\\Desktop\\Monkey-Emotions\\video\\gandalf_231205\\gandalf_231205_15_e3v8360.mp4 copied to C:\\Users\\rober\\Desktop\\Monkey-Emotions\\231205_gandalf\\face_1-rh-2023-12-06\\videos\\gandalf_231205_15_e3v8360.mp4\n",
      "Symlink creation impossible (exFat architecture?): copying the video instead.\n",
      "c:\\Users\\rober\\Desktop\\Monkey-Emotions\\video\\gandalf_231205\\gandalf_231205_16_e3v8360.mp4 copied to C:\\Users\\rober\\Desktop\\Monkey-Emotions\\231205_gandalf\\face_1-rh-2023-12-06\\videos\\gandalf_231205_16_e3v8360.mp4\n",
      "Symlink creation impossible (exFat architecture?): copying the video instead.\n",
      "c:\\Users\\rober\\Desktop\\Monkey-Emotions\\video\\gandalf_231205\\gandalf_231205_17_e3v8360.mp4 copied to C:\\Users\\rober\\Desktop\\Monkey-Emotions\\231205_gandalf\\face_1-rh-2023-12-06\\videos\\gandalf_231205_17_e3v8360.mp4\n",
      "Symlink creation impossible (exFat architecture?): copying the video instead.\n",
      "c:\\Users\\rober\\Desktop\\Monkey-Emotions\\video\\gandalf_231205\\gandalf_231205_18_e3v8360.mp4 copied to C:\\Users\\rober\\Desktop\\Monkey-Emotions\\231205_gandalf\\face_1-rh-2023-12-06\\videos\\gandalf_231205_18_e3v8360.mp4\n",
      "Symlink creation impossible (exFat architecture?): copying the video instead.\n",
      "c:\\Users\\rober\\Desktop\\Monkey-Emotions\\video\\gandalf_231205\\gandalf_231205_19_e3v8360.mp4 copied to C:\\Users\\rober\\Desktop\\Monkey-Emotions\\231205_gandalf\\face_1-rh-2023-12-06\\videos\\gandalf_231205_19_e3v8360.mp4\n",
      "Symlink creation impossible (exFat architecture?): copying the video instead.\n",
      "c:\\Users\\rober\\Desktop\\Monkey-Emotions\\video\\gandalf_231205\\gandalf_231205_20_e3v8360.mp4 copied to C:\\Users\\rober\\Desktop\\Monkey-Emotions\\231205_gandalf\\face_1-rh-2023-12-06\\videos\\gandalf_231205_20_e3v8360.mp4\n",
      "Symlink creation impossible (exFat architecture?): copying the video instead.\n",
      "c:\\Users\\rober\\Desktop\\Monkey-Emotions\\video\\gandalf_231205\\gandalf_231205_21_e3v8360.mp4 copied to C:\\Users\\rober\\Desktop\\Monkey-Emotions\\231205_gandalf\\face_1-rh-2023-12-06\\videos\\gandalf_231205_21_e3v8360.mp4\n",
      "Symlink creation impossible (exFat architecture?): copying the video instead.\n",
      "c:\\Users\\rober\\Desktop\\Monkey-Emotions\\video\\gandalf_231205\\gandalf_231205_22_e3v8360.mp4 copied to C:\\Users\\rober\\Desktop\\Monkey-Emotions\\231205_gandalf\\face_1-rh-2023-12-06\\videos\\gandalf_231205_22_e3v8360.mp4\n",
      "Symlink creation impossible (exFat architecture?): copying the video instead.\n",
      "c:\\Users\\rober\\Desktop\\Monkey-Emotions\\video\\gandalf_231205\\gandalf_231205_23_e3v8360.mp4 copied to C:\\Users\\rober\\Desktop\\Monkey-Emotions\\231205_gandalf\\face_1-rh-2023-12-06\\videos\\gandalf_231205_23_e3v8360.mp4\n",
      "Symlink creation impossible (exFat architecture?): copying the video instead.\n",
      "c:\\Users\\rober\\Desktop\\Monkey-Emotions\\video\\gandalf_231205\\gandalf_231205_24_e3v8360.mp4 copied to C:\\Users\\rober\\Desktop\\Monkey-Emotions\\231205_gandalf\\face_1-rh-2023-12-06\\videos\\gandalf_231205_24_e3v8360.mp4\n",
      "Symlink creation impossible (exFat architecture?): copying the video instead.\n",
      "c:\\Users\\rober\\Desktop\\Monkey-Emotions\\video\\gandalf_231205\\gandalf_231205_25_e3v8360.mp4 copied to C:\\Users\\rober\\Desktop\\Monkey-Emotions\\231205_gandalf\\face_1-rh-2023-12-06\\videos\\gandalf_231205_25_e3v8360.mp4\n",
      "Symlink creation impossible (exFat architecture?): copying the video instead.\n",
      "c:\\Users\\rober\\Desktop\\Monkey-Emotions\\video\\gandalf_231205\\gandalf_231205_26_e3v8360.mp4 copied to C:\\Users\\rober\\Desktop\\Monkey-Emotions\\231205_gandalf\\face_1-rh-2023-12-06\\videos\\gandalf_231205_26_e3v8360.mp4\n",
      "Symlink creation impossible (exFat architecture?): copying the video instead.\n",
      "c:\\Users\\rober\\Desktop\\Monkey-Emotions\\video\\gandalf_231205\\gandalf_231205_27_e3v8360.mp4 copied to C:\\Users\\rober\\Desktop\\Monkey-Emotions\\231205_gandalf\\face_1-rh-2023-12-06\\videos\\gandalf_231205_27_e3v8360.mp4\n",
      "Symlink creation impossible (exFat architecture?): copying the video instead.\n",
      "c:\\Users\\rober\\Desktop\\Monkey-Emotions\\video\\gandalf_231205\\gandalf_231205_28_e3v8360.mp4 copied to C:\\Users\\rober\\Desktop\\Monkey-Emotions\\231205_gandalf\\face_1-rh-2023-12-06\\videos\\gandalf_231205_28_e3v8360.mp4\n",
      "Symlink creation impossible (exFat architecture?): copying the video instead.\n",
      "c:\\Users\\rober\\Desktop\\Monkey-Emotions\\video\\gandalf_231205\\gandalf_231205_29_e3v8360.mp4 copied to C:\\Users\\rober\\Desktop\\Monkey-Emotions\\231205_gandalf\\face_1-rh-2023-12-06\\videos\\gandalf_231205_29_e3v8360.mp4\n",
      "Symlink creation impossible (exFat architecture?): copying the video instead.\n",
      "c:\\Users\\rober\\Desktop\\Monkey-Emotions\\video\\gandalf_231205\\gandalf_231205_30_e3v8360.mp4 copied to C:\\Users\\rober\\Desktop\\Monkey-Emotions\\231205_gandalf\\face_1-rh-2023-12-06\\videos\\gandalf_231205_30_e3v8360.mp4\n",
      "Symlink creation impossible (exFat architecture?): copying the video instead.\n",
      "c:\\Users\\rober\\Desktop\\Monkey-Emotions\\video\\gandalf_231205\\gandalf_231205_31_e3v8360.mp4 copied to C:\\Users\\rober\\Desktop\\Monkey-Emotions\\231205_gandalf\\face_1-rh-2023-12-06\\videos\\gandalf_231205_31_e3v8360.mp4\n",
      "Symlink creation impossible (exFat architecture?): copying the video instead.\n",
      "c:\\Users\\rober\\Desktop\\Monkey-Emotions\\video\\gandalf_231205\\gandalf_231205_32_e3v8360.mp4 copied to C:\\Users\\rober\\Desktop\\Monkey-Emotions\\231205_gandalf\\face_1-rh-2023-12-06\\videos\\gandalf_231205_32_e3v8360.mp4\n",
      "Symlink creation impossible (exFat architecture?): copying the video instead.\n",
      "c:\\Users\\rober\\Desktop\\Monkey-Emotions\\video\\gandalf_231205\\gandalf_231205_33_e3v8360.mp4 copied to C:\\Users\\rober\\Desktop\\Monkey-Emotions\\231205_gandalf\\face_1-rh-2023-12-06\\videos\\gandalf_231205_33_e3v8360.mp4\n",
      "Symlink creation impossible (exFat architecture?): copying the video instead.\n",
      "c:\\Users\\rober\\Desktop\\Monkey-Emotions\\video\\gandalf_231205\\gandalf_231205_34_e3v8360.mp4 copied to C:\\Users\\rober\\Desktop\\Monkey-Emotions\\231205_gandalf\\face_1-rh-2023-12-06\\videos\\gandalf_231205_34_e3v8360.mp4\n",
      "Symlink creation impossible (exFat architecture?): copying the video instead.\n",
      "c:\\Users\\rober\\Desktop\\Monkey-Emotions\\video\\gandalf_231205\\gandalf_231205_35_e3v8360.mp4 copied to C:\\Users\\rober\\Desktop\\Monkey-Emotions\\231205_gandalf\\face_1-rh-2023-12-06\\videos\\gandalf_231205_35_e3v8360.mp4\n",
      "Symlink creation impossible (exFat architecture?): copying the video instead.\n",
      "c:\\Users\\rober\\Desktop\\Monkey-Emotions\\video\\gandalf_231205\\gandalf_231205_36_e3v8360.mp4 copied to C:\\Users\\rober\\Desktop\\Monkey-Emotions\\231205_gandalf\\face_1-rh-2023-12-06\\videos\\gandalf_231205_36_e3v8360.mp4\n",
      "Symlink creation impossible (exFat architecture?): copying the video instead.\n",
      "c:\\Users\\rober\\Desktop\\Monkey-Emotions\\video\\gandalf_231205\\gandalf_231205_37_e3v8360.mp4 copied to C:\\Users\\rober\\Desktop\\Monkey-Emotions\\231205_gandalf\\face_1-rh-2023-12-06\\videos\\gandalf_231205_37_e3v8360.mp4\n",
      "Symlink creation impossible (exFat architecture?): copying the video instead.\n",
      "c:\\Users\\rober\\Desktop\\Monkey-Emotions\\video\\gandalf_231205\\gandalf_231205_38_e3v8360.mp4 copied to C:\\Users\\rober\\Desktop\\Monkey-Emotions\\231205_gandalf\\face_1-rh-2023-12-06\\videos\\gandalf_231205_38_e3v8360.mp4\n",
      "Symlink creation impossible (exFat architecture?): copying the video instead.\n",
      "c:\\Users\\rober\\Desktop\\Monkey-Emotions\\video\\gandalf_231205\\gandalf_231205_39_e3v8360.mp4 copied to C:\\Users\\rober\\Desktop\\Monkey-Emotions\\231205_gandalf\\face_1-rh-2023-12-06\\videos\\gandalf_231205_39_e3v8360.mp4\n",
      "Symlink creation impossible (exFat architecture?): copying the video instead.\n",
      "c:\\Users\\rober\\Desktop\\Monkey-Emotions\\video\\gandalf_231205\\gandalf_231205_40_e3v8360.mp4 copied to C:\\Users\\rober\\Desktop\\Monkey-Emotions\\231205_gandalf\\face_1-rh-2023-12-06\\videos\\gandalf_231205_40_e3v8360.mp4\n",
      "Symlink creation impossible (exFat architecture?): copying the video instead.\n",
      "c:\\Users\\rober\\Desktop\\Monkey-Emotions\\video\\gandalf_231205\\gandalf_231205_41_e3v8360.mp4 copied to C:\\Users\\rober\\Desktop\\Monkey-Emotions\\231205_gandalf\\face_1-rh-2023-12-06\\videos\\gandalf_231205_41_e3v8360.mp4\n",
      "Symlink creation impossible (exFat architecture?): copying the video instead.\n",
      "c:\\Users\\rober\\Desktop\\Monkey-Emotions\\video\\gandalf_231205\\gandalf_231205_42_e3v8360.mp4 copied to C:\\Users\\rober\\Desktop\\Monkey-Emotions\\231205_gandalf\\face_1-rh-2023-12-06\\videos\\gandalf_231205_42_e3v8360.mp4\n",
      "Symlink creation impossible (exFat architecture?): copying the video instead.\n",
      "c:\\Users\\rober\\Desktop\\Monkey-Emotions\\video\\gandalf_231205\\gandalf_231205_43_e3v8360.mp4 copied to C:\\Users\\rober\\Desktop\\Monkey-Emotions\\231205_gandalf\\face_1-rh-2023-12-06\\videos\\gandalf_231205_43_e3v8360.mp4\n",
      "Symlink creation impossible (exFat architecture?): copying the video instead.\n",
      "c:\\Users\\rober\\Desktop\\Monkey-Emotions\\video\\gandalf_231205\\gandalf_231205_44_e3v8360.mp4 copied to C:\\Users\\rober\\Desktop\\Monkey-Emotions\\231205_gandalf\\face_1-rh-2023-12-06\\videos\\gandalf_231205_44_e3v8360.mp4\n",
      "Symlink creation impossible (exFat architecture?): copying the video instead.\n",
      "c:\\Users\\rober\\Desktop\\Monkey-Emotions\\video\\gandalf_231205\\gandalf_231205_45_e3v8360.mp4 copied to C:\\Users\\rober\\Desktop\\Monkey-Emotions\\231205_gandalf\\face_1-rh-2023-12-06\\videos\\gandalf_231205_45_e3v8360.mp4\n",
      "Symlink creation impossible (exFat architecture?): copying the video instead.\n",
      "c:\\Users\\rober\\Desktop\\Monkey-Emotions\\video\\gandalf_231205\\gandalf_231205_46_e3v8360.mp4 copied to C:\\Users\\rober\\Desktop\\Monkey-Emotions\\231205_gandalf\\face_1-rh-2023-12-06\\videos\\gandalf_231205_46_e3v8360.mp4\n",
      "Symlink creation impossible (exFat architecture?): copying the video instead.\n",
      "c:\\Users\\rober\\Desktop\\Monkey-Emotions\\video\\gandalf_231205\\gandalf_231205_47_e3v8360.mp4 copied to C:\\Users\\rober\\Desktop\\Monkey-Emotions\\231205_gandalf\\face_1-rh-2023-12-06\\videos\\gandalf_231205_47_e3v8360.mp4\n",
      "Symlink creation impossible (exFat architecture?): copying the video instead.\n",
      "c:\\Users\\rober\\Desktop\\Monkey-Emotions\\video\\gandalf_231205\\gandalf_231205_48_e3v8360.mp4 copied to C:\\Users\\rober\\Desktop\\Monkey-Emotions\\231205_gandalf\\face_1-rh-2023-12-06\\videos\\gandalf_231205_48_e3v8360.mp4\n",
      "Symlink creation impossible (exFat architecture?): copying the video instead.\n",
      "c:\\Users\\rober\\Desktop\\Monkey-Emotions\\video\\gandalf_231205\\gandalf_231205_49_e3v8360.mp4 copied to C:\\Users\\rober\\Desktop\\Monkey-Emotions\\231205_gandalf\\face_1-rh-2023-12-06\\videos\\gandalf_231205_49_e3v8360.mp4\n",
      "Symlink creation impossible (exFat architecture?): copying the video instead.\n",
      "c:\\Users\\rober\\Desktop\\Monkey-Emotions\\video\\gandalf_231205\\gandalf_231205_50_e3v8360.mp4 copied to C:\\Users\\rober\\Desktop\\Monkey-Emotions\\231205_gandalf\\face_1-rh-2023-12-06\\videos\\gandalf_231205_50_e3v8360.mp4\n",
      "Symlink creation impossible (exFat architecture?): copying the video instead.\n",
      "c:\\Users\\rober\\Desktop\\Monkey-Emotions\\video\\gandalf_231205\\gandalf_231205_51_e3v8360.mp4 copied to C:\\Users\\rober\\Desktop\\Monkey-Emotions\\231205_gandalf\\face_1-rh-2023-12-06\\videos\\gandalf_231205_51_e3v8360.mp4\n",
      "Symlink creation impossible (exFat architecture?): copying the video instead.\n",
      "c:\\Users\\rober\\Desktop\\Monkey-Emotions\\video\\gandalf_231205\\gandalf_231205_52_e3v8360.mp4 copied to C:\\Users\\rober\\Desktop\\Monkey-Emotions\\231205_gandalf\\face_1-rh-2023-12-06\\videos\\gandalf_231205_52_e3v8360.mp4\n",
      "Symlink creation impossible (exFat architecture?): copying the video instead.\n",
      "c:\\Users\\rober\\Desktop\\Monkey-Emotions\\video\\gandalf_231205\\gandalf_231205_53_e3v8360.mp4 copied to C:\\Users\\rober\\Desktop\\Monkey-Emotions\\231205_gandalf\\face_1-rh-2023-12-06\\videos\\gandalf_231205_53_e3v8360.mp4\n",
      "Symlink creation impossible (exFat architecture?): copying the video instead.\n",
      "c:\\Users\\rober\\Desktop\\Monkey-Emotions\\video\\gandalf_231205\\gandalf_231205_54_e3v8360.mp4 copied to C:\\Users\\rober\\Desktop\\Monkey-Emotions\\231205_gandalf\\face_1-rh-2023-12-06\\videos\\gandalf_231205_54_e3v8360.mp4\n",
      "Symlink creation impossible (exFat architecture?): copying the video instead.\n",
      "c:\\Users\\rober\\Desktop\\Monkey-Emotions\\video\\gandalf_231205\\gandalf_231205_55_e3v8360.mp4 copied to C:\\Users\\rober\\Desktop\\Monkey-Emotions\\231205_gandalf\\face_1-rh-2023-12-06\\videos\\gandalf_231205_55_e3v8360.mp4\n",
      "Symlink creation impossible (exFat architecture?): copying the video instead.\n",
      "c:\\Users\\rober\\Desktop\\Monkey-Emotions\\video\\gandalf_231205\\gandalf_231205_56_e3v8360.mp4 copied to C:\\Users\\rober\\Desktop\\Monkey-Emotions\\231205_gandalf\\face_1-rh-2023-12-06\\videos\\gandalf_231205_56_e3v8360.mp4\n",
      "Symlink creation impossible (exFat architecture?): copying the video instead.\n",
      "c:\\Users\\rober\\Desktop\\Monkey-Emotions\\video\\gandalf_231205\\gandalf_231205_57_e3v8360.mp4 copied to C:\\Users\\rober\\Desktop\\Monkey-Emotions\\231205_gandalf\\face_1-rh-2023-12-06\\videos\\gandalf_231205_57_e3v8360.mp4\n",
      "Symlink creation impossible (exFat architecture?): copying the video instead.\n",
      "c:\\Users\\rober\\Desktop\\Monkey-Emotions\\video\\gandalf_231205\\gandalf_231205_58_e3v8360.mp4 copied to C:\\Users\\rober\\Desktop\\Monkey-Emotions\\231205_gandalf\\face_1-rh-2023-12-06\\videos\\gandalf_231205_58_e3v8360.mp4\n",
      "Symlink creation impossible (exFat architecture?): copying the video instead.\n",
      "c:\\Users\\rober\\Desktop\\Monkey-Emotions\\video\\gandalf_231205\\gandalf_231205_59_e3v8360.mp4 copied to C:\\Users\\rober\\Desktop\\Monkey-Emotions\\231205_gandalf\\face_1-rh-2023-12-06\\videos\\gandalf_231205_59_e3v8360.mp4\n",
      "Symlink creation impossible (exFat architecture?): copying the video instead.\n",
      "c:\\Users\\rober\\Desktop\\Monkey-Emotions\\video\\gandalf_231205\\gandalf_231205_60_e3v8360.mp4 copied to C:\\Users\\rober\\Desktop\\Monkey-Emotions\\231205_gandalf\\face_1-rh-2023-12-06\\videos\\gandalf_231205_60_e3v8360.mp4\n",
      "Symlink creation impossible (exFat architecture?): copying the video instead.\n",
      "c:\\Users\\rober\\Desktop\\Monkey-Emotions\\video\\gandalf_231205\\gandalf_231205_61_e3v8360.mp4 copied to C:\\Users\\rober\\Desktop\\Monkey-Emotions\\231205_gandalf\\face_1-rh-2023-12-06\\videos\\gandalf_231205_61_e3v8360.mp4\n",
      "Symlink creation impossible (exFat architecture?): copying the video instead.\n",
      "c:\\Users\\rober\\Desktop\\Monkey-Emotions\\video\\gandalf_231205\\gandalf_231205_62_e3v8360.mp4 copied to C:\\Users\\rober\\Desktop\\Monkey-Emotions\\231205_gandalf\\face_1-rh-2023-12-06\\videos\\gandalf_231205_62_e3v8360.mp4\n",
      "Symlink creation impossible (exFat architecture?): copying the video instead.\n",
      "c:\\Users\\rober\\Desktop\\Monkey-Emotions\\video\\gandalf_231205\\gandalf_231205_63_e3v8360.mp4 copied to C:\\Users\\rober\\Desktop\\Monkey-Emotions\\231205_gandalf\\face_1-rh-2023-12-06\\videos\\gandalf_231205_63_e3v8360.mp4\n",
      "Symlink creation impossible (exFat architecture?): copying the video instead.\n",
      "c:\\Users\\rober\\Desktop\\Monkey-Emotions\\video\\gandalf_231205\\gandalf_231205_64_e3v8360.mp4 copied to C:\\Users\\rober\\Desktop\\Monkey-Emotions\\231205_gandalf\\face_1-rh-2023-12-06\\videos\\gandalf_231205_64_e3v8360.mp4\n",
      "Symlink creation impossible (exFat architecture?): copying the video instead.\n",
      "c:\\Users\\rober\\Desktop\\Monkey-Emotions\\video\\gandalf_231205\\gandalf_231205_65_e3v8360.mp4 copied to C:\\Users\\rober\\Desktop\\Monkey-Emotions\\231205_gandalf\\face_1-rh-2023-12-06\\videos\\gandalf_231205_65_e3v8360.mp4\n",
      "Symlink creation impossible (exFat architecture?): copying the video instead.\n",
      "c:\\Users\\rober\\Desktop\\Monkey-Emotions\\video\\gandalf_231205\\gandalf_231205_66_e3v8360.mp4 copied to C:\\Users\\rober\\Desktop\\Monkey-Emotions\\231205_gandalf\\face_1-rh-2023-12-06\\videos\\gandalf_231205_66_e3v8360.mp4\n",
      "Symlink creation impossible (exFat architecture?): copying the video instead.\n",
      "c:\\Users\\rober\\Desktop\\Monkey-Emotions\\video\\gandalf_231205\\gandalf_231205_67_e3v8360.mp4 copied to C:\\Users\\rober\\Desktop\\Monkey-Emotions\\231205_gandalf\\face_1-rh-2023-12-06\\videos\\gandalf_231205_67_e3v8360.mp4\n",
      "Symlink creation impossible (exFat architecture?): copying the video instead.\n",
      "c:\\Users\\rober\\Desktop\\Monkey-Emotions\\video\\gandalf_231205\\gandalf_231205_68_e3v8360.mp4 copied to C:\\Users\\rober\\Desktop\\Monkey-Emotions\\231205_gandalf\\face_1-rh-2023-12-06\\videos\\gandalf_231205_68_e3v8360.mp4\n",
      "Symlink creation impossible (exFat architecture?): copying the video instead.\n",
      "c:\\Users\\rober\\Desktop\\Monkey-Emotions\\video\\gandalf_231205\\gandalf_231205_69_e3v8360.mp4 copied to C:\\Users\\rober\\Desktop\\Monkey-Emotions\\231205_gandalf\\face_1-rh-2023-12-06\\videos\\gandalf_231205_69_e3v8360.mp4\n",
      "Symlink creation impossible (exFat architecture?): copying the video instead.\n",
      "c:\\Users\\rober\\Desktop\\Monkey-Emotions\\video\\gandalf_231205\\gandalf_231205_70_e3v8360.mp4 copied to C:\\Users\\rober\\Desktop\\Monkey-Emotions\\231205_gandalf\\face_1-rh-2023-12-06\\videos\\gandalf_231205_70_e3v8360.mp4\n",
      "Symlink creation impossible (exFat architecture?): copying the video instead.\n",
      "c:\\Users\\rober\\Desktop\\Monkey-Emotions\\video\\gandalf_231205\\gandalf_231205_71_e3v8360.mp4 copied to C:\\Users\\rober\\Desktop\\Monkey-Emotions\\231205_gandalf\\face_1-rh-2023-12-06\\videos\\gandalf_231205_71_e3v8360.mp4\n",
      "Symlink creation impossible (exFat architecture?): copying the video instead.\n",
      "c:\\Users\\rober\\Desktop\\Monkey-Emotions\\video\\gandalf_231205\\gandalf_231205_72_e3v8360.mp4 copied to C:\\Users\\rober\\Desktop\\Monkey-Emotions\\231205_gandalf\\face_1-rh-2023-12-06\\videos\\gandalf_231205_72_e3v8360.mp4\n",
      "Symlink creation impossible (exFat architecture?): copying the video instead.\n",
      "c:\\Users\\rober\\Desktop\\Monkey-Emotions\\video\\gandalf_231205\\gandalf_231205_73_e3v8360.mp4 copied to C:\\Users\\rober\\Desktop\\Monkey-Emotions\\231205_gandalf\\face_1-rh-2023-12-06\\videos\\gandalf_231205_73_e3v8360.mp4\n",
      "Symlink creation impossible (exFat architecture?): copying the video instead.\n",
      "c:\\Users\\rober\\Desktop\\Monkey-Emotions\\video\\gandalf_231205\\gandalf_231205_75_e3v8360.mp4 copied to C:\\Users\\rober\\Desktop\\Monkey-Emotions\\231205_gandalf\\face_1-rh-2023-12-06\\videos\\gandalf_231205_75_e3v8360.mp4\n",
      "Symlink creation impossible (exFat architecture?): copying the video instead.\n",
      "c:\\Users\\rober\\Desktop\\Monkey-Emotions\\video\\gandalf_231205\\gandalf_231205_76_e3v8360.mp4 copied to C:\\Users\\rober\\Desktop\\Monkey-Emotions\\231205_gandalf\\face_1-rh-2023-12-06\\videos\\gandalf_231205_76_e3v8360.mp4\n",
      "Symlink creation impossible (exFat architecture?): copying the video instead.\n",
      "c:\\Users\\rober\\Desktop\\Monkey-Emotions\\video\\gandalf_231205\\gandalf_231205_77_e3v8360.mp4 copied to C:\\Users\\rober\\Desktop\\Monkey-Emotions\\231205_gandalf\\face_1-rh-2023-12-06\\videos\\gandalf_231205_77_e3v8360.mp4\n",
      "Symlink creation impossible (exFat architecture?): copying the video instead.\n",
      "c:\\Users\\rober\\Desktop\\Monkey-Emotions\\video\\gandalf_231205\\gandalf_231205_78_e3v8360.mp4 copied to C:\\Users\\rober\\Desktop\\Monkey-Emotions\\231205_gandalf\\face_1-rh-2023-12-06\\videos\\gandalf_231205_78_e3v8360.mp4\n",
      "Symlink creation impossible (exFat architecture?): copying the video instead.\n",
      "c:\\Users\\rober\\Desktop\\Monkey-Emotions\\video\\gandalf_231205\\gandalf_231205_79_e3v8360.mp4 copied to C:\\Users\\rober\\Desktop\\Monkey-Emotions\\231205_gandalf\\face_1-rh-2023-12-06\\videos\\gandalf_231205_79_e3v8360.mp4\n",
      "Symlink creation impossible (exFat architecture?): copying the video instead.\n",
      "c:\\Users\\rober\\Desktop\\Monkey-Emotions\\video\\gandalf_231205\\gandalf_231205_80_e3v8360.mp4 copied to C:\\Users\\rober\\Desktop\\Monkey-Emotions\\231205_gandalf\\face_1-rh-2023-12-06\\videos\\gandalf_231205_80_e3v8360.mp4\n",
      "Symlink creation impossible (exFat architecture?): copying the video instead.\n",
      "c:\\Users\\rober\\Desktop\\Monkey-Emotions\\video\\gandalf_231205\\gandalf_231205_81_e3v8360.mp4 copied to C:\\Users\\rober\\Desktop\\Monkey-Emotions\\231205_gandalf\\face_1-rh-2023-12-06\\videos\\gandalf_231205_81_e3v8360.mp4\n",
      "Symlink creation impossible (exFat architecture?): copying the video instead.\n",
      "c:\\Users\\rober\\Desktop\\Monkey-Emotions\\video\\gandalf_231205\\gandalf_231205_82_e3v8360.mp4 copied to C:\\Users\\rober\\Desktop\\Monkey-Emotions\\231205_gandalf\\face_1-rh-2023-12-06\\videos\\gandalf_231205_82_e3v8360.mp4\n",
      "Symlink creation impossible (exFat architecture?): copying the video instead.\n",
      "c:\\Users\\rober\\Desktop\\Monkey-Emotions\\video\\gandalf_231205\\gandalf_231205_83_e3v8360.mp4 copied to C:\\Users\\rober\\Desktop\\Monkey-Emotions\\231205_gandalf\\face_1-rh-2023-12-06\\videos\\gandalf_231205_83_e3v8360.mp4\n",
      "Symlink creation impossible (exFat architecture?): copying the video instead.\n",
      "c:\\Users\\rober\\Desktop\\Monkey-Emotions\\video\\gandalf_231205\\gandalf_231205_84_e3v8360.mp4 copied to C:\\Users\\rober\\Desktop\\Monkey-Emotions\\231205_gandalf\\face_1-rh-2023-12-06\\videos\\gandalf_231205_84_e3v8360.mp4\n",
      "Symlink creation impossible (exFat architecture?): copying the video instead.\n",
      "c:\\Users\\rober\\Desktop\\Monkey-Emotions\\video\\gandalf_231205\\gandalf_231205_85_e3v8360.mp4 copied to C:\\Users\\rober\\Desktop\\Monkey-Emotions\\231205_gandalf\\face_1-rh-2023-12-06\\videos\\gandalf_231205_85_e3v8360.mp4\n",
      "Symlink creation impossible (exFat architecture?): copying the video instead.\n",
      "c:\\Users\\rober\\Desktop\\Monkey-Emotions\\video\\gandalf_231205\\gandalf_231205_86_e3v8360.mp4 copied to C:\\Users\\rober\\Desktop\\Monkey-Emotions\\231205_gandalf\\face_1-rh-2023-12-06\\videos\\gandalf_231205_86_e3v8360.mp4\n",
      "Symlink creation impossible (exFat architecture?): copying the video instead.\n",
      "c:\\Users\\rober\\Desktop\\Monkey-Emotions\\video\\gandalf_231205\\gandalf_231205_87_e3v8360.mp4 copied to C:\\Users\\rober\\Desktop\\Monkey-Emotions\\231205_gandalf\\face_1-rh-2023-12-06\\videos\\gandalf_231205_87_e3v8360.mp4\n",
      "Symlink creation impossible (exFat architecture?): copying the video instead.\n",
      "c:\\Users\\rober\\Desktop\\Monkey-Emotions\\video\\gandalf_231205\\gandalf_231205_88_e3v8360.mp4 copied to C:\\Users\\rober\\Desktop\\Monkey-Emotions\\231205_gandalf\\face_1-rh-2023-12-06\\videos\\gandalf_231205_88_e3v8360.mp4\n",
      "Symlink creation impossible (exFat architecture?): copying the video instead.\n",
      "c:\\Users\\rober\\Desktop\\Monkey-Emotions\\video\\gandalf_231205\\gandalf_231205_89_e3v8360.mp4 copied to C:\\Users\\rober\\Desktop\\Monkey-Emotions\\231205_gandalf\\face_1-rh-2023-12-06\\videos\\gandalf_231205_89_e3v8360.mp4\n",
      "Symlink creation impossible (exFat architecture?): copying the video instead.\n",
      "c:\\Users\\rober\\Desktop\\Monkey-Emotions\\video\\gandalf_231205\\gandalf_231205_90_e3v8360.mp4 copied to C:\\Users\\rober\\Desktop\\Monkey-Emotions\\231205_gandalf\\face_1-rh-2023-12-06\\videos\\gandalf_231205_90_e3v8360.mp4\n",
      "Symlink creation impossible (exFat architecture?): copying the video instead.\n",
      "c:\\Users\\rober\\Desktop\\Monkey-Emotions\\video\\gandalf_231205\\gandalf_231205_91_e3v8360.mp4 copied to C:\\Users\\rober\\Desktop\\Monkey-Emotions\\231205_gandalf\\face_1-rh-2023-12-06\\videos\\gandalf_231205_91_e3v8360.mp4\n",
      "Symlink creation impossible (exFat architecture?): copying the video instead.\n",
      "c:\\Users\\rober\\Desktop\\Monkey-Emotions\\video\\gandalf_231205\\gandalf_231205_92_e3v8360.mp4 copied to C:\\Users\\rober\\Desktop\\Monkey-Emotions\\231205_gandalf\\face_1-rh-2023-12-06\\videos\\gandalf_231205_92_e3v8360.mp4\n",
      "Symlink creation impossible (exFat architecture?): copying the video instead.\n",
      "c:\\Users\\rober\\Desktop\\Monkey-Emotions\\video\\gandalf_231205\\gandalf_231205_93_e3v8360.mp4 copied to C:\\Users\\rober\\Desktop\\Monkey-Emotions\\231205_gandalf\\face_1-rh-2023-12-06\\videos\\gandalf_231205_93_e3v8360.mp4\n",
      "Symlink creation impossible (exFat architecture?): copying the video instead.\n",
      "c:\\Users\\rober\\Desktop\\Monkey-Emotions\\video\\gandalf_231205\\gandalf_231205_94_e3v8360.mp4 copied to C:\\Users\\rober\\Desktop\\Monkey-Emotions\\231205_gandalf\\face_1-rh-2023-12-06\\videos\\gandalf_231205_94_e3v8360.mp4\n",
      "Symlink creation impossible (exFat architecture?): copying the video instead.\n",
      "c:\\Users\\rober\\Desktop\\Monkey-Emotions\\video\\gandalf_231205\\gandalf_231205_95_e3v8360.mp4 copied to C:\\Users\\rober\\Desktop\\Monkey-Emotions\\231205_gandalf\\face_1-rh-2023-12-06\\videos\\gandalf_231205_95_e3v8360.mp4\n",
      "Symlink creation impossible (exFat architecture?): copying the video instead.\n",
      "c:\\Users\\rober\\Desktop\\Monkey-Emotions\\video\\gandalf_231205\\gandalf_231205_96_e3v8360.mp4 copied to C:\\Users\\rober\\Desktop\\Monkey-Emotions\\231205_gandalf\\face_1-rh-2023-12-06\\videos\\gandalf_231205_96_e3v8360.mp4\n",
      "Symlink creation impossible (exFat architecture?): copying the video instead.\n",
      "c:\\Users\\rober\\Desktop\\Monkey-Emotions\\video\\gandalf_231205\\gandalf_231205_97_e3v8360.mp4 copied to C:\\Users\\rober\\Desktop\\Monkey-Emotions\\231205_gandalf\\face_1-rh-2023-12-06\\videos\\gandalf_231205_97_e3v8360.mp4\n",
      "Symlink creation impossible (exFat architecture?): copying the video instead.\n",
      "c:\\Users\\rober\\Desktop\\Monkey-Emotions\\video\\gandalf_231205\\gandalf_231205_98_e3v8360.mp4 copied to C:\\Users\\rober\\Desktop\\Monkey-Emotions\\231205_gandalf\\face_1-rh-2023-12-06\\videos\\gandalf_231205_98_e3v8360.mp4\n",
      "Symlink creation impossible (exFat architecture?): copying the video instead.\n",
      "c:\\Users\\rober\\Desktop\\Monkey-Emotions\\video\\gandalf_231205\\gandalf_231205_99_e3v8360.mp4 copied to C:\\Users\\rober\\Desktop\\Monkey-Emotions\\231205_gandalf\\face_1-rh-2023-12-06\\videos\\gandalf_231205_99_e3v8360.mp4\n",
      "Symlink creation impossible (exFat architecture?): copying the video instead.\n",
      "c:\\Users\\rober\\Desktop\\Monkey-Emotions\\video\\gandalf_231205\\gandalf_231205_100_e3v8360.mp4 copied to C:\\Users\\rober\\Desktop\\Monkey-Emotions\\231205_gandalf\\face_1-rh-2023-12-06\\videos\\gandalf_231205_100_e3v8360.mp4\n",
      "Symlink creation impossible (exFat architecture?): copying the video instead.\n",
      "c:\\Users\\rober\\Desktop\\Monkey-Emotions\\video\\gandalf_231205\\gandalf_231205_101_e3v8360.mp4 copied to C:\\Users\\rober\\Desktop\\Monkey-Emotions\\231205_gandalf\\face_1-rh-2023-12-06\\videos\\gandalf_231205_101_e3v8360.mp4\n",
      "Symlink creation impossible (exFat architecture?): copying the video instead.\n",
      "c:\\Users\\rober\\Desktop\\Monkey-Emotions\\video\\gandalf_231205\\gandalf_231205_102_e3v8360.mp4 copied to C:\\Users\\rober\\Desktop\\Monkey-Emotions\\231205_gandalf\\face_1-rh-2023-12-06\\videos\\gandalf_231205_102_e3v8360.mp4\n",
      "Symlink creation impossible (exFat architecture?): copying the video instead.\n",
      "c:\\Users\\rober\\Desktop\\Monkey-Emotions\\video\\gandalf_231205\\gandalf_231205_103_e3v8360.mp4 copied to C:\\Users\\rober\\Desktop\\Monkey-Emotions\\231205_gandalf\\face_1-rh-2023-12-06\\videos\\gandalf_231205_103_e3v8360.mp4\n",
      "Symlink creation impossible (exFat architecture?): copying the video instead.\n",
      "c:\\Users\\rober\\Desktop\\Monkey-Emotions\\video\\gandalf_231205\\gandalf_231205_104_e3v8360.mp4 copied to C:\\Users\\rober\\Desktop\\Monkey-Emotions\\231205_gandalf\\face_1-rh-2023-12-06\\videos\\gandalf_231205_104_e3v8360.mp4\n",
      "Symlink creation impossible (exFat architecture?): copying the video instead.\n",
      "c:\\Users\\rober\\Desktop\\Monkey-Emotions\\video\\gandalf_231205\\gandalf_231205_105_e3v8360.mp4 copied to C:\\Users\\rober\\Desktop\\Monkey-Emotions\\231205_gandalf\\face_1-rh-2023-12-06\\videos\\gandalf_231205_105_e3v8360.mp4\n",
      "Symlink creation impossible (exFat architecture?): copying the video instead.\n",
      "c:\\Users\\rober\\Desktop\\Monkey-Emotions\\video\\gandalf_231205\\gandalf_231205_106_e3v8360.mp4 copied to C:\\Users\\rober\\Desktop\\Monkey-Emotions\\231205_gandalf\\face_1-rh-2023-12-06\\videos\\gandalf_231205_106_e3v8360.mp4\n",
      "Symlink creation impossible (exFat architecture?): copying the video instead.\n",
      "c:\\Users\\rober\\Desktop\\Monkey-Emotions\\video\\gandalf_231205\\gandalf_231205_107_e3v8360.mp4 copied to C:\\Users\\rober\\Desktop\\Monkey-Emotions\\231205_gandalf\\face_1-rh-2023-12-06\\videos\\gandalf_231205_107_e3v8360.mp4\n",
      "Symlink creation impossible (exFat architecture?): copying the video instead.\n",
      "c:\\Users\\rober\\Desktop\\Monkey-Emotions\\video\\gandalf_231205\\gandalf_231205_108_e3v8360.mp4 copied to C:\\Users\\rober\\Desktop\\Monkey-Emotions\\231205_gandalf\\face_1-rh-2023-12-06\\videos\\gandalf_231205_108_e3v8360.mp4\n",
      "Symlink creation impossible (exFat architecture?): copying the video instead.\n",
      "c:\\Users\\rober\\Desktop\\Monkey-Emotions\\video\\gandalf_231205\\gandalf_231205_109_e3v8360.mp4 copied to C:\\Users\\rober\\Desktop\\Monkey-Emotions\\231205_gandalf\\face_1-rh-2023-12-06\\videos\\gandalf_231205_109_e3v8360.mp4\n",
      "Symlink creation impossible (exFat architecture?): copying the video instead.\n",
      "c:\\Users\\rober\\Desktop\\Monkey-Emotions\\video\\gandalf_231205\\gandalf_231205_110_e3v8360.mp4 copied to C:\\Users\\rober\\Desktop\\Monkey-Emotions\\231205_gandalf\\face_1-rh-2023-12-06\\videos\\gandalf_231205_110_e3v8360.mp4\n",
      "Symlink creation impossible (exFat architecture?): copying the video instead.\n",
      "c:\\Users\\rober\\Desktop\\Monkey-Emotions\\video\\gandalf_231205\\gandalf_231205_111_e3v8360.mp4 copied to C:\\Users\\rober\\Desktop\\Monkey-Emotions\\231205_gandalf\\face_1-rh-2023-12-06\\videos\\gandalf_231205_111_e3v8360.mp4\n",
      "Symlink creation impossible (exFat architecture?): copying the video instead.\n",
      "c:\\Users\\rober\\Desktop\\Monkey-Emotions\\video\\gandalf_231205\\gandalf_231205_112_e3v8360.mp4 copied to C:\\Users\\rober\\Desktop\\Monkey-Emotions\\231205_gandalf\\face_1-rh-2023-12-06\\videos\\gandalf_231205_112_e3v8360.mp4\n",
      "Symlink creation impossible (exFat architecture?): copying the video instead.\n",
      "c:\\Users\\rober\\Desktop\\Monkey-Emotions\\video\\gandalf_231205\\gandalf_231205_113_e3v8360.mp4 copied to C:\\Users\\rober\\Desktop\\Monkey-Emotions\\231205_gandalf\\face_1-rh-2023-12-06\\videos\\gandalf_231205_113_e3v8360.mp4\n",
      "Symlink creation impossible (exFat architecture?): copying the video instead.\n",
      "c:\\Users\\rober\\Desktop\\Monkey-Emotions\\video\\gandalf_231205\\gandalf_231205_114_e3v8360.mp4 copied to C:\\Users\\rober\\Desktop\\Monkey-Emotions\\231205_gandalf\\face_1-rh-2023-12-06\\videos\\gandalf_231205_114_e3v8360.mp4\n",
      "Symlink creation impossible (exFat architecture?): copying the video instead.\n",
      "c:\\Users\\rober\\Desktop\\Monkey-Emotions\\video\\gandalf_231205\\gandalf_231205_115_e3v8360.mp4 copied to C:\\Users\\rober\\Desktop\\Monkey-Emotions\\231205_gandalf\\face_1-rh-2023-12-06\\videos\\gandalf_231205_115_e3v8360.mp4\n",
      "Symlink creation impossible (exFat architecture?): copying the video instead.\n",
      "c:\\Users\\rober\\Desktop\\Monkey-Emotions\\video\\gandalf_231205\\gandalf_231205_116_e3v8360.mp4 copied to C:\\Users\\rober\\Desktop\\Monkey-Emotions\\231205_gandalf\\face_1-rh-2023-12-06\\videos\\gandalf_231205_116_e3v8360.mp4\n",
      "Symlink creation impossible (exFat architecture?): copying the video instead.\n",
      "c:\\Users\\rober\\Desktop\\Monkey-Emotions\\video\\gandalf_231205\\gandalf_231205_117_e3v8360.mp4 copied to C:\\Users\\rober\\Desktop\\Monkey-Emotions\\231205_gandalf\\face_1-rh-2023-12-06\\videos\\gandalf_231205_117_e3v8360.mp4\n",
      "Symlink creation impossible (exFat architecture?): copying the video instead.\n",
      "c:\\Users\\rober\\Desktop\\Monkey-Emotions\\video\\gandalf_231205\\gandalf_231205_118_e3v8360.mp4 copied to C:\\Users\\rober\\Desktop\\Monkey-Emotions\\231205_gandalf\\face_1-rh-2023-12-06\\videos\\gandalf_231205_118_e3v8360.mp4\n",
      "Symlink creation impossible (exFat architecture?): copying the video instead.\n",
      "c:\\Users\\rober\\Desktop\\Monkey-Emotions\\video\\gandalf_231205\\gandalf_231205_119_e3v8360.mp4 copied to C:\\Users\\rober\\Desktop\\Monkey-Emotions\\231205_gandalf\\face_1-rh-2023-12-06\\videos\\gandalf_231205_119_e3v8360.mp4\n",
      "Symlink creation impossible (exFat architecture?): copying the video instead.\n",
      "c:\\Users\\rober\\Desktop\\Monkey-Emotions\\video\\gandalf_231205\\gandalf_231205_120_e3v8360.mp4 copied to C:\\Users\\rober\\Desktop\\Monkey-Emotions\\231205_gandalf\\face_1-rh-2023-12-06\\videos\\gandalf_231205_120_e3v8360.mp4\n",
      "Symlink creation impossible (exFat architecture?): copying the video instead.\n",
      "c:\\Users\\rober\\Desktop\\Monkey-Emotions\\video\\gandalf_231205\\gandalf_231205_121_e3v8360.mp4 copied to C:\\Users\\rober\\Desktop\\Monkey-Emotions\\231205_gandalf\\face_1-rh-2023-12-06\\videos\\gandalf_231205_121_e3v8360.mp4\n",
      "Symlink creation impossible (exFat architecture?): copying the video instead.\n",
      "c:\\Users\\rober\\Desktop\\Monkey-Emotions\\video\\gandalf_231205\\gandalf_231205_122_e3v8360.mp4 copied to C:\\Users\\rober\\Desktop\\Monkey-Emotions\\231205_gandalf\\face_1-rh-2023-12-06\\videos\\gandalf_231205_122_e3v8360.mp4\n",
      "Symlink creation impossible (exFat architecture?): copying the video instead.\n",
      "c:\\Users\\rober\\Desktop\\Monkey-Emotions\\video\\gandalf_231205\\gandalf_231205_123_e3v8360.mp4 copied to C:\\Users\\rober\\Desktop\\Monkey-Emotions\\231205_gandalf\\face_1-rh-2023-12-06\\videos\\gandalf_231205_123_e3v8360.mp4\n",
      "Symlink creation impossible (exFat architecture?): copying the video instead.\n",
      "c:\\Users\\rober\\Desktop\\Monkey-Emotions\\video\\gandalf_231205\\gandalf_231205_124_e3v8360.mp4 copied to C:\\Users\\rober\\Desktop\\Monkey-Emotions\\231205_gandalf\\face_1-rh-2023-12-06\\videos\\gandalf_231205_124_e3v8360.mp4\n",
      "Symlink creation impossible (exFat architecture?): copying the video instead.\n",
      "c:\\Users\\rober\\Desktop\\Monkey-Emotions\\video\\gandalf_231205\\gandalf_231205_125_e3v8360.mp4 copied to C:\\Users\\rober\\Desktop\\Monkey-Emotions\\231205_gandalf\\face_1-rh-2023-12-06\\videos\\gandalf_231205_125_e3v8360.mp4\n",
      "Symlink creation impossible (exFat architecture?): copying the video instead.\n",
      "c:\\Users\\rober\\Desktop\\Monkey-Emotions\\video\\gandalf_231205\\gandalf_231205_126_e3v8360.mp4 copied to C:\\Users\\rober\\Desktop\\Monkey-Emotions\\231205_gandalf\\face_1-rh-2023-12-06\\videos\\gandalf_231205_126_e3v8360.mp4\n",
      "Symlink creation impossible (exFat architecture?): copying the video instead.\n",
      "c:\\Users\\rober\\Desktop\\Monkey-Emotions\\video\\gandalf_231205\\gandalf_231205_127_e3v8360.mp4 copied to C:\\Users\\rober\\Desktop\\Monkey-Emotions\\231205_gandalf\\face_1-rh-2023-12-06\\videos\\gandalf_231205_127_e3v8360.mp4\n",
      "Symlink creation impossible (exFat architecture?): copying the video instead.\n",
      "c:\\Users\\rober\\Desktop\\Monkey-Emotions\\video\\gandalf_231205\\gandalf_231205_128_e3v8360.mp4 copied to C:\\Users\\rober\\Desktop\\Monkey-Emotions\\231205_gandalf\\face_1-rh-2023-12-06\\videos\\gandalf_231205_128_e3v8360.mp4\n",
      "Symlink creation impossible (exFat architecture?): copying the video instead.\n",
      "c:\\Users\\rober\\Desktop\\Monkey-Emotions\\video\\gandalf_231205\\gandalf_231205_129_e3v8360.mp4 copied to C:\\Users\\rober\\Desktop\\Monkey-Emotions\\231205_gandalf\\face_1-rh-2023-12-06\\videos\\gandalf_231205_129_e3v8360.mp4\n",
      "Symlink creation impossible (exFat architecture?): copying the video instead.\n",
      "c:\\Users\\rober\\Desktop\\Monkey-Emotions\\video\\gandalf_231205\\gandalf_231205_130_e3v8360.mp4 copied to C:\\Users\\rober\\Desktop\\Monkey-Emotions\\231205_gandalf\\face_1-rh-2023-12-06\\videos\\gandalf_231205_130_e3v8360.mp4\n",
      "Symlink creation impossible (exFat architecture?): copying the video instead.\n",
      "c:\\Users\\rober\\Desktop\\Monkey-Emotions\\video\\gandalf_231205\\gandalf_231205_131_e3v8360.mp4 copied to C:\\Users\\rober\\Desktop\\Monkey-Emotions\\231205_gandalf\\face_1-rh-2023-12-06\\videos\\gandalf_231205_131_e3v8360.mp4\n",
      "Symlink creation impossible (exFat architecture?): copying the video instead.\n",
      "c:\\Users\\rober\\Desktop\\Monkey-Emotions\\video\\gandalf_231205\\gandalf_231205_132_e3v8360.mp4 copied to C:\\Users\\rober\\Desktop\\Monkey-Emotions\\231205_gandalf\\face_1-rh-2023-12-06\\videos\\gandalf_231205_132_e3v8360.mp4\n",
      "Symlink creation impossible (exFat architecture?): copying the video instead.\n",
      "c:\\Users\\rober\\Desktop\\Monkey-Emotions\\video\\gandalf_231205\\gandalf_231205_133_e3v8360.mp4 copied to C:\\Users\\rober\\Desktop\\Monkey-Emotions\\231205_gandalf\\face_1-rh-2023-12-06\\videos\\gandalf_231205_133_e3v8360.mp4\n",
      "Symlink creation impossible (exFat architecture?): copying the video instead.\n",
      "c:\\Users\\rober\\Desktop\\Monkey-Emotions\\video\\gandalf_231205\\gandalf_231205_134_e3v8360.mp4 copied to C:\\Users\\rober\\Desktop\\Monkey-Emotions\\231205_gandalf\\face_1-rh-2023-12-06\\videos\\gandalf_231205_134_e3v8360.mp4\n",
      "Symlink creation impossible (exFat architecture?): copying the video instead.\n",
      "c:\\Users\\rober\\Desktop\\Monkey-Emotions\\video\\gandalf_231205\\gandalf_231205_136_e3v8360.mp4 copied to C:\\Users\\rober\\Desktop\\Monkey-Emotions\\231205_gandalf\\face_1-rh-2023-12-06\\videos\\gandalf_231205_136_e3v8360.mp4\n",
      "Symlink creation impossible (exFat architecture?): copying the video instead.\n",
      "c:\\Users\\rober\\Desktop\\Monkey-Emotions\\video\\gandalf_231205\\gandalf_231205_137_e3v8360.mp4 copied to C:\\Users\\rober\\Desktop\\Monkey-Emotions\\231205_gandalf\\face_1-rh-2023-12-06\\videos\\gandalf_231205_137_e3v8360.mp4\n",
      "Symlink creation impossible (exFat architecture?): copying the video instead.\n",
      "c:\\Users\\rober\\Desktop\\Monkey-Emotions\\video\\gandalf_231205\\gandalf_231205_138_e3v8360.mp4 copied to C:\\Users\\rober\\Desktop\\Monkey-Emotions\\231205_gandalf\\face_1-rh-2023-12-06\\videos\\gandalf_231205_138_e3v8360.mp4\n",
      "Symlink creation impossible (exFat architecture?): copying the video instead.\n",
      "c:\\Users\\rober\\Desktop\\Monkey-Emotions\\video\\gandalf_231205\\gandalf_231205_139_e3v8360.mp4 copied to C:\\Users\\rober\\Desktop\\Monkey-Emotions\\231205_gandalf\\face_1-rh-2023-12-06\\videos\\gandalf_231205_139_e3v8360.mp4\n",
      "Symlink creation impossible (exFat architecture?): copying the video instead.\n",
      "c:\\Users\\rober\\Desktop\\Monkey-Emotions\\video\\gandalf_231205\\gandalf_231205_140_e3v8360.mp4 copied to C:\\Users\\rober\\Desktop\\Monkey-Emotions\\231205_gandalf\\face_1-rh-2023-12-06\\videos\\gandalf_231205_140_e3v8360.mp4\n",
      "Symlink creation impossible (exFat architecture?): copying the video instead.\n",
      "c:\\Users\\rober\\Desktop\\Monkey-Emotions\\video\\gandalf_231205\\gandalf_231205_141_e3v8360.mp4 copied to C:\\Users\\rober\\Desktop\\Monkey-Emotions\\231205_gandalf\\face_1-rh-2023-12-06\\videos\\gandalf_231205_141_e3v8360.mp4\n",
      "Symlink creation impossible (exFat architecture?): copying the video instead.\n",
      "c:\\Users\\rober\\Desktop\\Monkey-Emotions\\video\\gandalf_231205\\gandalf_231205_142_e3v8360.mp4 copied to C:\\Users\\rober\\Desktop\\Monkey-Emotions\\231205_gandalf\\face_1-rh-2023-12-06\\videos\\gandalf_231205_142_e3v8360.mp4\n",
      "Symlink creation impossible (exFat architecture?): copying the video instead.\n",
      "c:\\Users\\rober\\Desktop\\Monkey-Emotions\\video\\gandalf_231205\\gandalf_231205_143_e3v8360.mp4 copied to C:\\Users\\rober\\Desktop\\Monkey-Emotions\\231205_gandalf\\face_1-rh-2023-12-06\\videos\\gandalf_231205_143_e3v8360.mp4\n",
      "Symlink creation impossible (exFat architecture?): copying the video instead.\n",
      "c:\\Users\\rober\\Desktop\\Monkey-Emotions\\video\\gandalf_231205\\gandalf_231205_144_e3v8360.mp4 copied to C:\\Users\\rober\\Desktop\\Monkey-Emotions\\231205_gandalf\\face_1-rh-2023-12-06\\videos\\gandalf_231205_144_e3v8360.mp4\n",
      "Symlink creation impossible (exFat architecture?): copying the video instead.\n",
      "c:\\Users\\rober\\Desktop\\Monkey-Emotions\\video\\gandalf_231205\\gandalf_231205_145_e3v8360.mp4 copied to C:\\Users\\rober\\Desktop\\Monkey-Emotions\\231205_gandalf\\face_1-rh-2023-12-06\\videos\\gandalf_231205_145_e3v8360.mp4\n",
      "Symlink creation impossible (exFat architecture?): copying the video instead.\n",
      "c:\\Users\\rober\\Desktop\\Monkey-Emotions\\video\\gandalf_231205\\gandalf_231205_146_e3v8360.mp4 copied to C:\\Users\\rober\\Desktop\\Monkey-Emotions\\231205_gandalf\\face_1-rh-2023-12-06\\videos\\gandalf_231205_146_e3v8360.mp4\n",
      "Symlink creation impossible (exFat architecture?): copying the video instead.\n",
      "c:\\Users\\rober\\Desktop\\Monkey-Emotions\\video\\gandalf_231205\\gandalf_231205_147_e3v8360.mp4 copied to C:\\Users\\rober\\Desktop\\Monkey-Emotions\\231205_gandalf\\face_1-rh-2023-12-06\\videos\\gandalf_231205_147_e3v8360.mp4\n",
      "Symlink creation impossible (exFat architecture?): copying the video instead.\n",
      "c:\\Users\\rober\\Desktop\\Monkey-Emotions\\video\\gandalf_231205\\gandalf_231205_148_e3v8360.mp4 copied to C:\\Users\\rober\\Desktop\\Monkey-Emotions\\231205_gandalf\\face_1-rh-2023-12-06\\videos\\gandalf_231205_148_e3v8360.mp4\n",
      "Symlink creation impossible (exFat architecture?): copying the video instead.\n",
      "c:\\Users\\rober\\Desktop\\Monkey-Emotions\\video\\gandalf_231205\\gandalf_231205_149_e3v8360.mp4 copied to C:\\Users\\rober\\Desktop\\Monkey-Emotions\\231205_gandalf\\face_1-rh-2023-12-06\\videos\\gandalf_231205_149_e3v8360.mp4\n",
      "Symlink creation impossible (exFat architecture?): copying the video instead.\n",
      "c:\\Users\\rober\\Desktop\\Monkey-Emotions\\video\\gandalf_231205\\gandalf_231205_150_e3v8360.mp4 copied to C:\\Users\\rober\\Desktop\\Monkey-Emotions\\231205_gandalf\\face_1-rh-2023-12-06\\videos\\gandalf_231205_150_e3v8360.mp4\n",
      "Symlink creation impossible (exFat architecture?): copying the video instead.\n",
      "c:\\Users\\rober\\Desktop\\Monkey-Emotions\\video\\gandalf_231205\\gandalf_231205_151_e3v8360.mp4 copied to C:\\Users\\rober\\Desktop\\Monkey-Emotions\\231205_gandalf\\face_1-rh-2023-12-06\\videos\\gandalf_231205_151_e3v8360.mp4\n",
      "Symlink creation impossible (exFat architecture?): copying the video instead.\n",
      "c:\\Users\\rober\\Desktop\\Monkey-Emotions\\video\\gandalf_231205\\gandalf_231205_152_e3v8360.mp4 copied to C:\\Users\\rober\\Desktop\\Monkey-Emotions\\231205_gandalf\\face_1-rh-2023-12-06\\videos\\gandalf_231205_152_e3v8360.mp4\n",
      "Symlink creation impossible (exFat architecture?): copying the video instead.\n",
      "c:\\Users\\rober\\Desktop\\Monkey-Emotions\\video\\gandalf_231205\\gandalf_231205_153_e3v8360.mp4 copied to C:\\Users\\rober\\Desktop\\Monkey-Emotions\\231205_gandalf\\face_1-rh-2023-12-06\\videos\\gandalf_231205_153_e3v8360.mp4\n",
      "Symlink creation impossible (exFat architecture?): copying the video instead.\n",
      "c:\\Users\\rober\\Desktop\\Monkey-Emotions\\video\\gandalf_231205\\gandalf_231205_154_e3v8360.mp4 copied to C:\\Users\\rober\\Desktop\\Monkey-Emotions\\231205_gandalf\\face_1-rh-2023-12-06\\videos\\gandalf_231205_154_e3v8360.mp4\n",
      "Symlink creation impossible (exFat architecture?): copying the video instead.\n",
      "c:\\Users\\rober\\Desktop\\Monkey-Emotions\\video\\gandalf_231205\\gandalf_231205_155_e3v8360.mp4 copied to C:\\Users\\rober\\Desktop\\Monkey-Emotions\\231205_gandalf\\face_1-rh-2023-12-06\\videos\\gandalf_231205_155_e3v8360.mp4\n",
      "Symlink creation impossible (exFat architecture?): copying the video instead.\n",
      "c:\\Users\\rober\\Desktop\\Monkey-Emotions\\video\\gandalf_231205\\gandalf_231205_156_e3v8360.mp4 copied to C:\\Users\\rober\\Desktop\\Monkey-Emotions\\231205_gandalf\\face_1-rh-2023-12-06\\videos\\gandalf_231205_156_e3v8360.mp4\n",
      "Symlink creation impossible (exFat architecture?): copying the video instead.\n",
      "c:\\Users\\rober\\Desktop\\Monkey-Emotions\\video\\gandalf_231205\\gandalf_231205_157_e3v8360.mp4 copied to C:\\Users\\rober\\Desktop\\Monkey-Emotions\\231205_gandalf\\face_1-rh-2023-12-06\\videos\\gandalf_231205_157_e3v8360.mp4\n",
      "Symlink creation impossible (exFat architecture?): copying the video instead.\n",
      "c:\\Users\\rober\\Desktop\\Monkey-Emotions\\video\\gandalf_231205\\gandalf_231205_158_e3v8360.mp4 copied to C:\\Users\\rober\\Desktop\\Monkey-Emotions\\231205_gandalf\\face_1-rh-2023-12-06\\videos\\gandalf_231205_158_e3v8360.mp4\n",
      "Symlink creation impossible (exFat architecture?): copying the video instead.\n",
      "c:\\Users\\rober\\Desktop\\Monkey-Emotions\\video\\gandalf_231205\\gandalf_231205_159_e3v8360.mp4 copied to C:\\Users\\rober\\Desktop\\Monkey-Emotions\\231205_gandalf\\face_1-rh-2023-12-06\\videos\\gandalf_231205_159_e3v8360.mp4\n",
      "Symlink creation impossible (exFat architecture?): copying the video instead.\n",
      "c:\\Users\\rober\\Desktop\\Monkey-Emotions\\video\\gandalf_231205\\gandalf_231205_160_e3v8360.mp4 copied to C:\\Users\\rober\\Desktop\\Monkey-Emotions\\231205_gandalf\\face_1-rh-2023-12-06\\videos\\gandalf_231205_160_e3v8360.mp4\n",
      "Symlink creation impossible (exFat architecture?): copying the video instead.\n",
      "c:\\Users\\rober\\Desktop\\Monkey-Emotions\\video\\gandalf_231205\\gandalf_231205_161_e3v8360.mp4 copied to C:\\Users\\rober\\Desktop\\Monkey-Emotions\\231205_gandalf\\face_1-rh-2023-12-06\\videos\\gandalf_231205_161_e3v8360.mp4\n",
      "Symlink creation impossible (exFat architecture?): copying the video instead.\n",
      "c:\\Users\\rober\\Desktop\\Monkey-Emotions\\video\\gandalf_231205\\gandalf_231205_162_e3v8360.mp4 copied to C:\\Users\\rober\\Desktop\\Monkey-Emotions\\231205_gandalf\\face_1-rh-2023-12-06\\videos\\gandalf_231205_162_e3v8360.mp4\n",
      "Symlink creation impossible (exFat architecture?): copying the video instead.\n",
      "c:\\Users\\rober\\Desktop\\Monkey-Emotions\\video\\gandalf_231205\\gandalf_231205_163_e3v8360.mp4 copied to C:\\Users\\rober\\Desktop\\Monkey-Emotions\\231205_gandalf\\face_1-rh-2023-12-06\\videos\\gandalf_231205_163_e3v8360.mp4\n",
      "Symlink creation impossible (exFat architecture?): copying the video instead.\n",
      "c:\\Users\\rober\\Desktop\\Monkey-Emotions\\video\\gandalf_231205\\gandalf_231205_164_e3v8360.mp4 copied to C:\\Users\\rober\\Desktop\\Monkey-Emotions\\231205_gandalf\\face_1-rh-2023-12-06\\videos\\gandalf_231205_164_e3v8360.mp4\n",
      "Symlink creation impossible (exFat architecture?): copying the video instead.\n",
      "c:\\Users\\rober\\Desktop\\Monkey-Emotions\\video\\gandalf_231205\\gandalf_231205_165_e3v8360.mp4 copied to C:\\Users\\rober\\Desktop\\Monkey-Emotions\\231205_gandalf\\face_1-rh-2023-12-06\\videos\\gandalf_231205_165_e3v8360.mp4\n",
      "Symlink creation impossible (exFat architecture?): copying the video instead.\n",
      "c:\\Users\\rober\\Desktop\\Monkey-Emotions\\video\\gandalf_231205\\gandalf_231205_166_e3v8360.mp4 copied to C:\\Users\\rober\\Desktop\\Monkey-Emotions\\231205_gandalf\\face_1-rh-2023-12-06\\videos\\gandalf_231205_166_e3v8360.mp4\n",
      "Symlink creation impossible (exFat architecture?): copying the video instead.\n",
      "c:\\Users\\rober\\Desktop\\Monkey-Emotions\\video\\gandalf_231205\\gandalf_231205_167_e3v8360.mp4 copied to C:\\Users\\rober\\Desktop\\Monkey-Emotions\\231205_gandalf\\face_1-rh-2023-12-06\\videos\\gandalf_231205_167_e3v8360.mp4\n",
      "Symlink creation impossible (exFat architecture?): copying the video instead.\n",
      "c:\\Users\\rober\\Desktop\\Monkey-Emotions\\video\\gandalf_231205\\gandalf_231205_168_e3v8360.mp4 copied to C:\\Users\\rober\\Desktop\\Monkey-Emotions\\231205_gandalf\\face_1-rh-2023-12-06\\videos\\gandalf_231205_168_e3v8360.mp4\n",
      "Symlink creation impossible (exFat architecture?): copying the video instead.\n",
      "c:\\Users\\rober\\Desktop\\Monkey-Emotions\\video\\gandalf_231205\\gandalf_231205_169_e3v8360.mp4 copied to C:\\Users\\rober\\Desktop\\Monkey-Emotions\\231205_gandalf\\face_1-rh-2023-12-06\\videos\\gandalf_231205_169_e3v8360.mp4\n",
      "Symlink creation impossible (exFat architecture?): copying the video instead.\n",
      "c:\\Users\\rober\\Desktop\\Monkey-Emotions\\video\\gandalf_231205\\gandalf_231205_170_e3v8360.mp4 copied to C:\\Users\\rober\\Desktop\\Monkey-Emotions\\231205_gandalf\\face_1-rh-2023-12-06\\videos\\gandalf_231205_170_e3v8360.mp4\n",
      "Symlink creation impossible (exFat architecture?): copying the video instead.\n",
      "c:\\Users\\rober\\Desktop\\Monkey-Emotions\\video\\gandalf_231205\\gandalf_231205_171_e3v8360.mp4 copied to C:\\Users\\rober\\Desktop\\Monkey-Emotions\\231205_gandalf\\face_1-rh-2023-12-06\\videos\\gandalf_231205_171_e3v8360.mp4\n",
      "Symlink creation impossible (exFat architecture?): copying the video instead.\n",
      "c:\\Users\\rober\\Desktop\\Monkey-Emotions\\video\\gandalf_231205\\gandalf_231205_172_e3v8360.mp4 copied to C:\\Users\\rober\\Desktop\\Monkey-Emotions\\231205_gandalf\\face_1-rh-2023-12-06\\videos\\gandalf_231205_172_e3v8360.mp4\n",
      "Symlink creation impossible (exFat architecture?): copying the video instead.\n",
      "c:\\Users\\rober\\Desktop\\Monkey-Emotions\\video\\gandalf_231205\\gandalf_231205_173_e3v8360.mp4 copied to C:\\Users\\rober\\Desktop\\Monkey-Emotions\\231205_gandalf\\face_1-rh-2023-12-06\\videos\\gandalf_231205_173_e3v8360.mp4\n",
      "Symlink creation impossible (exFat architecture?): copying the video instead.\n",
      "c:\\Users\\rober\\Desktop\\Monkey-Emotions\\video\\gandalf_231205\\gandalf_231205_174_e3v8360.mp4 copied to C:\\Users\\rober\\Desktop\\Monkey-Emotions\\231205_gandalf\\face_1-rh-2023-12-06\\videos\\gandalf_231205_174_e3v8360.mp4\n",
      "Symlink creation impossible (exFat architecture?): copying the video instead.\n",
      "c:\\Users\\rober\\Desktop\\Monkey-Emotions\\video\\gandalf_231205\\gandalf_231205_175_e3v8360.mp4 copied to C:\\Users\\rober\\Desktop\\Monkey-Emotions\\231205_gandalf\\face_1-rh-2023-12-06\\videos\\gandalf_231205_175_e3v8360.mp4\n",
      "Symlink creation impossible (exFat architecture?): copying the video instead.\n",
      "c:\\Users\\rober\\Desktop\\Monkey-Emotions\\video\\gandalf_231205\\gandalf_231205_176_e3v8360.mp4 copied to C:\\Users\\rober\\Desktop\\Monkey-Emotions\\231205_gandalf\\face_1-rh-2023-12-06\\videos\\gandalf_231205_176_e3v8360.mp4\n",
      "Symlink creation impossible (exFat architecture?): copying the video instead.\n",
      "c:\\Users\\rober\\Desktop\\Monkey-Emotions\\video\\gandalf_231205\\gandalf_231205_177_e3v8360.mp4 copied to C:\\Users\\rober\\Desktop\\Monkey-Emotions\\231205_gandalf\\face_1-rh-2023-12-06\\videos\\gandalf_231205_177_e3v8360.mp4\n",
      "Symlink creation impossible (exFat architecture?): copying the video instead.\n",
      "c:\\Users\\rober\\Desktop\\Monkey-Emotions\\video\\gandalf_231205\\gandalf_231205_178_e3v8360.mp4 copied to C:\\Users\\rober\\Desktop\\Monkey-Emotions\\231205_gandalf\\face_1-rh-2023-12-06\\videos\\gandalf_231205_178_e3v8360.mp4\n",
      "Symlink creation impossible (exFat architecture?): copying the video instead.\n",
      "c:\\Users\\rober\\Desktop\\Monkey-Emotions\\video\\gandalf_231205\\gandalf_231205_179_e3v8360.mp4 copied to C:\\Users\\rober\\Desktop\\Monkey-Emotions\\231205_gandalf\\face_1-rh-2023-12-06\\videos\\gandalf_231205_179_e3v8360.mp4\n",
      "Symlink creation impossible (exFat architecture?): copying the video instead.\n",
      "c:\\Users\\rober\\Desktop\\Monkey-Emotions\\video\\gandalf_231205\\gandalf_231205_180_e3v8360.mp4 copied to C:\\Users\\rober\\Desktop\\Monkey-Emotions\\231205_gandalf\\face_1-rh-2023-12-06\\videos\\gandalf_231205_180_e3v8360.mp4\n",
      "Symlink creation impossible (exFat architecture?): copying the video instead.\n",
      "c:\\Users\\rober\\Desktop\\Monkey-Emotions\\video\\gandalf_231205\\gandalf_231205_181_e3v8360.mp4 copied to C:\\Users\\rober\\Desktop\\Monkey-Emotions\\231205_gandalf\\face_1-rh-2023-12-06\\videos\\gandalf_231205_181_e3v8360.mp4\n",
      "Symlink creation impossible (exFat architecture?): copying the video instead.\n",
      "c:\\Users\\rober\\Desktop\\Monkey-Emotions\\video\\gandalf_231205\\gandalf_231205_182_e3v8360.mp4 copied to C:\\Users\\rober\\Desktop\\Monkey-Emotions\\231205_gandalf\\face_1-rh-2023-12-06\\videos\\gandalf_231205_182_e3v8360.mp4\n",
      "Symlink creation impossible (exFat architecture?): copying the video instead.\n",
      "c:\\Users\\rober\\Desktop\\Monkey-Emotions\\video\\gandalf_231205\\gandalf_231205_183_e3v8360.mp4 copied to C:\\Users\\rober\\Desktop\\Monkey-Emotions\\231205_gandalf\\face_1-rh-2023-12-06\\videos\\gandalf_231205_183_e3v8360.mp4\n",
      "Symlink creation impossible (exFat architecture?): copying the video instead.\n",
      "c:\\Users\\rober\\Desktop\\Monkey-Emotions\\video\\gandalf_231205\\gandalf_231205_184_e3v8360.mp4 copied to C:\\Users\\rober\\Desktop\\Monkey-Emotions\\231205_gandalf\\face_1-rh-2023-12-06\\videos\\gandalf_231205_184_e3v8360.mp4\n",
      "Symlink creation impossible (exFat architecture?): copying the video instead.\n",
      "c:\\Users\\rober\\Desktop\\Monkey-Emotions\\video\\gandalf_231205\\gandalf_231205_185_e3v8360.mp4 copied to C:\\Users\\rober\\Desktop\\Monkey-Emotions\\231205_gandalf\\face_1-rh-2023-12-06\\videos\\gandalf_231205_185_e3v8360.mp4\n",
      "Symlink creation impossible (exFat architecture?): copying the video instead.\n",
      "c:\\Users\\rober\\Desktop\\Monkey-Emotions\\video\\gandalf_231205\\gandalf_231205_186_e3v8360.mp4 copied to C:\\Users\\rober\\Desktop\\Monkey-Emotions\\231205_gandalf\\face_1-rh-2023-12-06\\videos\\gandalf_231205_186_e3v8360.mp4\n",
      "Symlink creation impossible (exFat architecture?): copying the video instead.\n",
      "c:\\Users\\rober\\Desktop\\Monkey-Emotions\\video\\gandalf_231205\\gandalf_231205_187_e3v8360.mp4 copied to C:\\Users\\rober\\Desktop\\Monkey-Emotions\\231205_gandalf\\face_1-rh-2023-12-06\\videos\\gandalf_231205_187_e3v8360.mp4\n",
      "Symlink creation impossible (exFat architecture?): copying the video instead.\n",
      "c:\\Users\\rober\\Desktop\\Monkey-Emotions\\video\\gandalf_231205\\gandalf_231205_188_e3v8360.mp4 copied to C:\\Users\\rober\\Desktop\\Monkey-Emotions\\231205_gandalf\\face_1-rh-2023-12-06\\videos\\gandalf_231205_188_e3v8360.mp4\n",
      "Symlink creation impossible (exFat architecture?): copying the video instead.\n",
      "c:\\Users\\rober\\Desktop\\Monkey-Emotions\\video\\gandalf_231205\\gandalf_231205_189_e3v8360.mp4 copied to C:\\Users\\rober\\Desktop\\Monkey-Emotions\\231205_gandalf\\face_1-rh-2023-12-06\\videos\\gandalf_231205_189_e3v8360.mp4\n",
      "Symlink creation impossible (exFat architecture?): copying the video instead.\n",
      "c:\\Users\\rober\\Desktop\\Monkey-Emotions\\video\\gandalf_231205\\gandalf_231205_190_e3v8360.mp4 copied to C:\\Users\\rober\\Desktop\\Monkey-Emotions\\231205_gandalf\\face_1-rh-2023-12-06\\videos\\gandalf_231205_190_e3v8360.mp4\n",
      "Symlink creation impossible (exFat architecture?): copying the video instead.\n",
      "c:\\Users\\rober\\Desktop\\Monkey-Emotions\\video\\gandalf_231205\\gandalf_231205_191_e3v8360.mp4 copied to C:\\Users\\rober\\Desktop\\Monkey-Emotions\\231205_gandalf\\face_1-rh-2023-12-06\\videos\\gandalf_231205_191_e3v8360.mp4\n",
      "Symlink creation impossible (exFat architecture?): copying the video instead.\n",
      "c:\\Users\\rober\\Desktop\\Monkey-Emotions\\video\\gandalf_231205\\gandalf_231205_192_e3v8360.mp4 copied to C:\\Users\\rober\\Desktop\\Monkey-Emotions\\231205_gandalf\\face_1-rh-2023-12-06\\videos\\gandalf_231205_192_e3v8360.mp4\n",
      "Symlink creation impossible (exFat architecture?): copying the video instead.\n",
      "c:\\Users\\rober\\Desktop\\Monkey-Emotions\\video\\gandalf_231205\\gandalf_231205_193_e3v8360.mp4 copied to C:\\Users\\rober\\Desktop\\Monkey-Emotions\\231205_gandalf\\face_1-rh-2023-12-06\\videos\\gandalf_231205_193_e3v8360.mp4\n",
      "Symlink creation impossible (exFat architecture?): copying the video instead.\n",
      "c:\\Users\\rober\\Desktop\\Monkey-Emotions\\video\\gandalf_231205\\gandalf_231205_194_e3v8360.mp4 copied to C:\\Users\\rober\\Desktop\\Monkey-Emotions\\231205_gandalf\\face_1-rh-2023-12-06\\videos\\gandalf_231205_194_e3v8360.mp4\n",
      "Symlink creation impossible (exFat architecture?): copying the video instead.\n",
      "c:\\Users\\rober\\Desktop\\Monkey-Emotions\\video\\gandalf_231205\\gandalf_231205_195_e3v8360.mp4 copied to C:\\Users\\rober\\Desktop\\Monkey-Emotions\\231205_gandalf\\face_1-rh-2023-12-06\\videos\\gandalf_231205_195_e3v8360.mp4\n",
      "Symlink creation impossible (exFat architecture?): copying the video instead.\n",
      "c:\\Users\\rober\\Desktop\\Monkey-Emotions\\video\\gandalf_231205\\gandalf_231205_196_e3v8360.mp4 copied to C:\\Users\\rober\\Desktop\\Monkey-Emotions\\231205_gandalf\\face_1-rh-2023-12-06\\videos\\gandalf_231205_196_e3v8360.mp4\n",
      "Symlink creation impossible (exFat architecture?): copying the video instead.\n",
      "c:\\Users\\rober\\Desktop\\Monkey-Emotions\\video\\gandalf_231205\\gandalf_231205_197_e3v8360.mp4 copied to C:\\Users\\rober\\Desktop\\Monkey-Emotions\\231205_gandalf\\face_1-rh-2023-12-06\\videos\\gandalf_231205_197_e3v8360.mp4\n",
      "Symlink creation impossible (exFat architecture?): copying the video instead.\n",
      "c:\\Users\\rober\\Desktop\\Monkey-Emotions\\video\\gandalf_231205\\gandalf_231205_198_e3v8360.mp4 copied to C:\\Users\\rober\\Desktop\\Monkey-Emotions\\231205_gandalf\\face_1-rh-2023-12-06\\videos\\gandalf_231205_198_e3v8360.mp4\n",
      "Symlink creation impossible (exFat architecture?): copying the video instead.\n",
      "c:\\Users\\rober\\Desktop\\Monkey-Emotions\\video\\gandalf_231205\\gandalf_231205_199_e3v8360.mp4 copied to C:\\Users\\rober\\Desktop\\Monkey-Emotions\\231205_gandalf\\face_1-rh-2023-12-06\\videos\\gandalf_231205_199_e3v8360.mp4\n",
      "Symlink creation impossible (exFat architecture?): copying the video instead.\n",
      "c:\\Users\\rober\\Desktop\\Monkey-Emotions\\video\\gandalf_231205\\gandalf_231205_200_e3v8360.mp4 copied to C:\\Users\\rober\\Desktop\\Monkey-Emotions\\231205_gandalf\\face_1-rh-2023-12-06\\videos\\gandalf_231205_200_e3v8360.mp4\n",
      "Symlink creation impossible (exFat architecture?): copying the video instead.\n",
      "c:\\Users\\rober\\Desktop\\Monkey-Emotions\\video\\gandalf_231205\\gandalf_231205_201_e3v8360.mp4 copied to C:\\Users\\rober\\Desktop\\Monkey-Emotions\\231205_gandalf\\face_1-rh-2023-12-06\\videos\\gandalf_231205_201_e3v8360.mp4\n",
      "Symlink creation impossible (exFat architecture?): copying the video instead.\n",
      "c:\\Users\\rober\\Desktop\\Monkey-Emotions\\video\\gandalf_231205\\gandalf_231205_202_e3v8360.mp4 copied to C:\\Users\\rober\\Desktop\\Monkey-Emotions\\231205_gandalf\\face_1-rh-2023-12-06\\videos\\gandalf_231205_202_e3v8360.mp4\n",
      "Symlink creation impossible (exFat architecture?): copying the video instead.\n",
      "c:\\Users\\rober\\Desktop\\Monkey-Emotions\\video\\gandalf_231205\\gandalf_231205_203_e3v8360.mp4 copied to C:\\Users\\rober\\Desktop\\Monkey-Emotions\\231205_gandalf\\face_1-rh-2023-12-06\\videos\\gandalf_231205_203_e3v8360.mp4\n",
      "Symlink creation impossible (exFat architecture?): copying the video instead.\n",
      "c:\\Users\\rober\\Desktop\\Monkey-Emotions\\video\\gandalf_231205\\gandalf_231205_204_e3v8360.mp4 copied to C:\\Users\\rober\\Desktop\\Monkey-Emotions\\231205_gandalf\\face_1-rh-2023-12-06\\videos\\gandalf_231205_204_e3v8360.mp4\n",
      "Symlink creation impossible (exFat architecture?): copying the video instead.\n",
      "c:\\Users\\rober\\Desktop\\Monkey-Emotions\\video\\gandalf_231205\\gandalf_231205_205_e3v8360.mp4 copied to C:\\Users\\rober\\Desktop\\Monkey-Emotions\\231205_gandalf\\face_1-rh-2023-12-06\\videos\\gandalf_231205_205_e3v8360.mp4\n",
      "Symlink creation impossible (exFat architecture?): copying the video instead.\n",
      "c:\\Users\\rober\\Desktop\\Monkey-Emotions\\video\\gandalf_231205\\gandalf_231205_206_e3v8360.mp4 copied to C:\\Users\\rober\\Desktop\\Monkey-Emotions\\231205_gandalf\\face_1-rh-2023-12-06\\videos\\gandalf_231205_206_e3v8360.mp4\n",
      "Symlink creation impossible (exFat architecture?): copying the video instead.\n",
      "c:\\Users\\rober\\Desktop\\Monkey-Emotions\\video\\gandalf_231205\\gandalf_231205_207_e3v8360.mp4 copied to C:\\Users\\rober\\Desktop\\Monkey-Emotions\\231205_gandalf\\face_1-rh-2023-12-06\\videos\\gandalf_231205_207_e3v8360.mp4\n",
      "Symlink creation impossible (exFat architecture?): copying the video instead.\n",
      "c:\\Users\\rober\\Desktop\\Monkey-Emotions\\video\\gandalf_231205\\gandalf_231205_208_e3v8360.mp4 copied to C:\\Users\\rober\\Desktop\\Monkey-Emotions\\231205_gandalf\\face_1-rh-2023-12-06\\videos\\gandalf_231205_208_e3v8360.mp4\n",
      "Symlink creation impossible (exFat architecture?): copying the video instead.\n",
      "c:\\Users\\rober\\Desktop\\Monkey-Emotions\\video\\gandalf_231205\\gandalf_231205_209_e3v8360.mp4 copied to C:\\Users\\rober\\Desktop\\Monkey-Emotions\\231205_gandalf\\face_1-rh-2023-12-06\\videos\\gandalf_231205_209_e3v8360.mp4\n",
      "Symlink creation impossible (exFat architecture?): copying the video instead.\n",
      "c:\\Users\\rober\\Desktop\\Monkey-Emotions\\video\\gandalf_231205\\gandalf_231205_210_e3v8360.mp4 copied to C:\\Users\\rober\\Desktop\\Monkey-Emotions\\231205_gandalf\\face_1-rh-2023-12-06\\videos\\gandalf_231205_210_e3v8360.mp4\n",
      "Symlink creation impossible (exFat architecture?): copying the video instead.\n",
      "c:\\Users\\rober\\Desktop\\Monkey-Emotions\\video\\gandalf_231205\\gandalf_231205_211_e3v8360.mp4 copied to C:\\Users\\rober\\Desktop\\Monkey-Emotions\\231205_gandalf\\face_1-rh-2023-12-06\\videos\\gandalf_231205_211_e3v8360.mp4\n",
      "Symlink creation impossible (exFat architecture?): copying the video instead.\n",
      "c:\\Users\\rober\\Desktop\\Monkey-Emotions\\video\\gandalf_231205\\gandalf_231205_212_e3v8360.mp4 copied to C:\\Users\\rober\\Desktop\\Monkey-Emotions\\231205_gandalf\\face_1-rh-2023-12-06\\videos\\gandalf_231205_212_e3v8360.mp4\n",
      "Symlink creation impossible (exFat architecture?): copying the video instead.\n",
      "c:\\Users\\rober\\Desktop\\Monkey-Emotions\\video\\gandalf_231205\\gandalf_231205_213_e3v8360.mp4 copied to C:\\Users\\rober\\Desktop\\Monkey-Emotions\\231205_gandalf\\face_1-rh-2023-12-06\\videos\\gandalf_231205_213_e3v8360.mp4\n",
      "Symlink creation impossible (exFat architecture?): copying the video instead.\n",
      "c:\\Users\\rober\\Desktop\\Monkey-Emotions\\video\\gandalf_231205\\gandalf_231205_215_e3v8360.mp4 copied to C:\\Users\\rober\\Desktop\\Monkey-Emotions\\231205_gandalf\\face_1-rh-2023-12-06\\videos\\gandalf_231205_215_e3v8360.mp4\n",
      "Symlink creation impossible (exFat architecture?): copying the video instead.\n",
      "c:\\Users\\rober\\Desktop\\Monkey-Emotions\\video\\gandalf_231205\\gandalf_231205_216_e3v8360.mp4 copied to C:\\Users\\rober\\Desktop\\Monkey-Emotions\\231205_gandalf\\face_1-rh-2023-12-06\\videos\\gandalf_231205_216_e3v8360.mp4\n",
      "Symlink creation impossible (exFat architecture?): copying the video instead.\n",
      "c:\\Users\\rober\\Desktop\\Monkey-Emotions\\video\\gandalf_231205\\gandalf_231205_217_e3v8360.mp4 copied to C:\\Users\\rober\\Desktop\\Monkey-Emotions\\231205_gandalf\\face_1-rh-2023-12-06\\videos\\gandalf_231205_217_e3v8360.mp4\n",
      "Symlink creation impossible (exFat architecture?): copying the video instead.\n",
      "c:\\Users\\rober\\Desktop\\Monkey-Emotions\\video\\gandalf_231205\\gandalf_231205_218_e3v8360.mp4 copied to C:\\Users\\rober\\Desktop\\Monkey-Emotions\\231205_gandalf\\face_1-rh-2023-12-06\\videos\\gandalf_231205_218_e3v8360.mp4\n",
      "Symlink creation impossible (exFat architecture?): copying the video instead.\n",
      "c:\\Users\\rober\\Desktop\\Monkey-Emotions\\video\\gandalf_231205\\gandalf_231205_219_e3v8360.mp4 copied to C:\\Users\\rober\\Desktop\\Monkey-Emotions\\231205_gandalf\\face_1-rh-2023-12-06\\videos\\gandalf_231205_219_e3v8360.mp4\n",
      "Symlink creation impossible (exFat architecture?): copying the video instead.\n",
      "c:\\Users\\rober\\Desktop\\Monkey-Emotions\\video\\gandalf_231205\\gandalf_231205_220_e3v8360.mp4 copied to C:\\Users\\rober\\Desktop\\Monkey-Emotions\\231205_gandalf\\face_1-rh-2023-12-06\\videos\\gandalf_231205_220_e3v8360.mp4\n",
      "Symlink creation impossible (exFat architecture?): copying the video instead.\n",
      "c:\\Users\\rober\\Desktop\\Monkey-Emotions\\video\\gandalf_231205\\gandalf_231205_221_e3v8360.mp4 copied to C:\\Users\\rober\\Desktop\\Monkey-Emotions\\231205_gandalf\\face_1-rh-2023-12-06\\videos\\gandalf_231205_221_e3v8360.mp4\n",
      "Symlink creation impossible (exFat architecture?): copying the video instead.\n",
      "c:\\Users\\rober\\Desktop\\Monkey-Emotions\\video\\gandalf_231205\\gandalf_231205_222_e3v8360.mp4 copied to C:\\Users\\rober\\Desktop\\Monkey-Emotions\\231205_gandalf\\face_1-rh-2023-12-06\\videos\\gandalf_231205_222_e3v8360.mp4\n",
      "Symlink creation impossible (exFat architecture?): copying the video instead.\n",
      "c:\\Users\\rober\\Desktop\\Monkey-Emotions\\video\\gandalf_231205\\gandalf_231205_223_e3v8360.mp4 copied to C:\\Users\\rober\\Desktop\\Monkey-Emotions\\231205_gandalf\\face_1-rh-2023-12-06\\videos\\gandalf_231205_223_e3v8360.mp4\n",
      "Symlink creation impossible (exFat architecture?): copying the video instead.\n",
      "c:\\Users\\rober\\Desktop\\Monkey-Emotions\\video\\gandalf_231205\\gandalf_231205_224_e3v8360.mp4 copied to C:\\Users\\rober\\Desktop\\Monkey-Emotions\\231205_gandalf\\face_1-rh-2023-12-06\\videos\\gandalf_231205_224_e3v8360.mp4\n",
      "Symlink creation impossible (exFat architecture?): copying the video instead.\n",
      "c:\\Users\\rober\\Desktop\\Monkey-Emotions\\video\\gandalf_231205\\gandalf_231205_225_e3v8360.mp4 copied to C:\\Users\\rober\\Desktop\\Monkey-Emotions\\231205_gandalf\\face_1-rh-2023-12-06\\videos\\gandalf_231205_225_e3v8360.mp4\n",
      "Symlink creation impossible (exFat architecture?): copying the video instead.\n",
      "c:\\Users\\rober\\Desktop\\Monkey-Emotions\\video\\gandalf_231205\\gandalf_231205_226_e3v8360.mp4 copied to C:\\Users\\rober\\Desktop\\Monkey-Emotions\\231205_gandalf\\face_1-rh-2023-12-06\\videos\\gandalf_231205_226_e3v8360.mp4\n",
      "Symlink creation impossible (exFat architecture?): copying the video instead.\n",
      "c:\\Users\\rober\\Desktop\\Monkey-Emotions\\video\\gandalf_231205\\gandalf_231205_227_e3v8360.mp4 copied to C:\\Users\\rober\\Desktop\\Monkey-Emotions\\231205_gandalf\\face_1-rh-2023-12-06\\videos\\gandalf_231205_227_e3v8360.mp4\n",
      "Symlink creation impossible (exFat architecture?): copying the video instead.\n",
      "c:\\Users\\rober\\Desktop\\Monkey-Emotions\\video\\gandalf_231205\\gandalf_231205_228_e3v8360.mp4 copied to C:\\Users\\rober\\Desktop\\Monkey-Emotions\\231205_gandalf\\face_1-rh-2023-12-06\\videos\\gandalf_231205_228_e3v8360.mp4\n",
      "Symlink creation impossible (exFat architecture?): copying the video instead.\n",
      "c:\\Users\\rober\\Desktop\\Monkey-Emotions\\video\\gandalf_231205\\gandalf_231205_229_e3v8360.mp4 copied to C:\\Users\\rober\\Desktop\\Monkey-Emotions\\231205_gandalf\\face_1-rh-2023-12-06\\videos\\gandalf_231205_229_e3v8360.mp4\n",
      "Symlink creation impossible (exFat architecture?): copying the video instead.\n",
      "c:\\Users\\rober\\Desktop\\Monkey-Emotions\\video\\gandalf_231205\\gandalf_231205_230_e3v8360.mp4 copied to C:\\Users\\rober\\Desktop\\Monkey-Emotions\\231205_gandalf\\face_1-rh-2023-12-06\\videos\\gandalf_231205_230_e3v8360.mp4\n",
      "Symlink creation impossible (exFat architecture?): copying the video instead.\n",
      "c:\\Users\\rober\\Desktop\\Monkey-Emotions\\video\\gandalf_231205\\gandalf_231205_231_e3v8360.mp4 copied to C:\\Users\\rober\\Desktop\\Monkey-Emotions\\231205_gandalf\\face_1-rh-2023-12-06\\videos\\gandalf_231205_231_e3v8360.mp4\n",
      "Symlink creation impossible (exFat architecture?): copying the video instead.\n",
      "c:\\Users\\rober\\Desktop\\Monkey-Emotions\\video\\gandalf_231205\\gandalf_231205_232_e3v8360.mp4 copied to C:\\Users\\rober\\Desktop\\Monkey-Emotions\\231205_gandalf\\face_1-rh-2023-12-06\\videos\\gandalf_231205_232_e3v8360.mp4\n",
      "Symlink creation impossible (exFat architecture?): copying the video instead.\n",
      "c:\\Users\\rober\\Desktop\\Monkey-Emotions\\video\\gandalf_231205\\gandalf_231205_233_e3v8360.mp4 copied to C:\\Users\\rober\\Desktop\\Monkey-Emotions\\231205_gandalf\\face_1-rh-2023-12-06\\videos\\gandalf_231205_233_e3v8360.mp4\n",
      "Symlink creation impossible (exFat architecture?): copying the video instead.\n",
      "c:\\Users\\rober\\Desktop\\Monkey-Emotions\\video\\gandalf_231205\\gandalf_231205_234_e3v8360.mp4 copied to C:\\Users\\rober\\Desktop\\Monkey-Emotions\\231205_gandalf\\face_1-rh-2023-12-06\\videos\\gandalf_231205_234_e3v8360.mp4\n",
      "Symlink creation impossible (exFat architecture?): copying the video instead.\n",
      "c:\\Users\\rober\\Desktop\\Monkey-Emotions\\video\\gandalf_231205\\gandalf_231205_235_e3v8360.mp4 copied to C:\\Users\\rober\\Desktop\\Monkey-Emotions\\231205_gandalf\\face_1-rh-2023-12-06\\videos\\gandalf_231205_235_e3v8360.mp4\n",
      "Symlink creation impossible (exFat architecture?): copying the video instead.\n",
      "c:\\Users\\rober\\Desktop\\Monkey-Emotions\\video\\gandalf_231205\\gandalf_231205_236_e3v8360.mp4 copied to C:\\Users\\rober\\Desktop\\Monkey-Emotions\\231205_gandalf\\face_1-rh-2023-12-06\\videos\\gandalf_231205_236_e3v8360.mp4\n",
      "Symlink creation impossible (exFat architecture?): copying the video instead.\n",
      "c:\\Users\\rober\\Desktop\\Monkey-Emotions\\video\\gandalf_231205\\gandalf_231205_237_e3v8360.mp4 copied to C:\\Users\\rober\\Desktop\\Monkey-Emotions\\231205_gandalf\\face_1-rh-2023-12-06\\videos\\gandalf_231205_237_e3v8360.mp4\n",
      "Symlink creation impossible (exFat architecture?): copying the video instead.\n",
      "c:\\Users\\rober\\Desktop\\Monkey-Emotions\\video\\gandalf_231205\\gandalf_231205_238_e3v8360.mp4 copied to C:\\Users\\rober\\Desktop\\Monkey-Emotions\\231205_gandalf\\face_1-rh-2023-12-06\\videos\\gandalf_231205_238_e3v8360.mp4\n",
      "Symlink creation impossible (exFat architecture?): copying the video instead.\n",
      "c:\\Users\\rober\\Desktop\\Monkey-Emotions\\video\\gandalf_231205\\gandalf_231205_239_e3v8360.mp4 copied to C:\\Users\\rober\\Desktop\\Monkey-Emotions\\231205_gandalf\\face_1-rh-2023-12-06\\videos\\gandalf_231205_239_e3v8360.mp4\n",
      "Symlink creation impossible (exFat architecture?): copying the video instead.\n",
      "c:\\Users\\rober\\Desktop\\Monkey-Emotions\\video\\gandalf_231205\\gandalf_231205_240_e3v8360.mp4 copied to C:\\Users\\rober\\Desktop\\Monkey-Emotions\\231205_gandalf\\face_1-rh-2023-12-06\\videos\\gandalf_231205_240_e3v8360.mp4\n",
      "Symlink creation impossible (exFat architecture?): copying the video instead.\n",
      "c:\\Users\\rober\\Desktop\\Monkey-Emotions\\video\\gandalf_231205\\gandalf_231205_241_e3v8360.mp4 copied to C:\\Users\\rober\\Desktop\\Monkey-Emotions\\231205_gandalf\\face_1-rh-2023-12-06\\videos\\gandalf_231205_241_e3v8360.mp4\n",
      "Symlink creation impossible (exFat architecture?): copying the video instead.\n",
      "c:\\Users\\rober\\Desktop\\Monkey-Emotions\\video\\gandalf_231205\\gandalf_231205_242_e3v8360.mp4 copied to C:\\Users\\rober\\Desktop\\Monkey-Emotions\\231205_gandalf\\face_1-rh-2023-12-06\\videos\\gandalf_231205_242_e3v8360.mp4\n",
      "Symlink creation impossible (exFat architecture?): copying the video instead.\n",
      "c:\\Users\\rober\\Desktop\\Monkey-Emotions\\video\\gandalf_231205\\gandalf_231205_243_e3v8360.mp4 copied to C:\\Users\\rober\\Desktop\\Monkey-Emotions\\231205_gandalf\\face_1-rh-2023-12-06\\videos\\gandalf_231205_243_e3v8360.mp4\n",
      "Symlink creation impossible (exFat architecture?): copying the video instead.\n",
      "c:\\Users\\rober\\Desktop\\Monkey-Emotions\\video\\gandalf_231205\\gandalf_231205_244_e3v8360.mp4 copied to C:\\Users\\rober\\Desktop\\Monkey-Emotions\\231205_gandalf\\face_1-rh-2023-12-06\\videos\\gandalf_231205_244_e3v8360.mp4\n",
      "Symlink creation impossible (exFat architecture?): copying the video instead.\n",
      "c:\\Users\\rober\\Desktop\\Monkey-Emotions\\video\\gandalf_231205\\gandalf_231205_245_e3v8360.mp4 copied to C:\\Users\\rober\\Desktop\\Monkey-Emotions\\231205_gandalf\\face_1-rh-2023-12-06\\videos\\gandalf_231205_245_e3v8360.mp4\n",
      "Symlink creation impossible (exFat architecture?): copying the video instead.\n",
      "c:\\Users\\rober\\Desktop\\Monkey-Emotions\\video\\gandalf_231205\\gandalf_231205_246_e3v8360.mp4 copied to C:\\Users\\rober\\Desktop\\Monkey-Emotions\\231205_gandalf\\face_1-rh-2023-12-06\\videos\\gandalf_231205_246_e3v8360.mp4\n",
      "Symlink creation impossible (exFat architecture?): copying the video instead.\n",
      "c:\\Users\\rober\\Desktop\\Monkey-Emotions\\video\\gandalf_231205\\gandalf_231205_247_e3v8360.mp4 copied to C:\\Users\\rober\\Desktop\\Monkey-Emotions\\231205_gandalf\\face_1-rh-2023-12-06\\videos\\gandalf_231205_247_e3v8360.mp4\n",
      "Symlink creation impossible (exFat architecture?): copying the video instead.\n",
      "c:\\Users\\rober\\Desktop\\Monkey-Emotions\\video\\gandalf_231205\\gandalf_231205_248_e3v8360.mp4 copied to C:\\Users\\rober\\Desktop\\Monkey-Emotions\\231205_gandalf\\face_1-rh-2023-12-06\\videos\\gandalf_231205_248_e3v8360.mp4\n",
      "Symlink creation impossible (exFat architecture?): copying the video instead.\n",
      "c:\\Users\\rober\\Desktop\\Monkey-Emotions\\video\\gandalf_231205\\gandalf_231205_249_e3v8360.mp4 copied to C:\\Users\\rober\\Desktop\\Monkey-Emotions\\231205_gandalf\\face_1-rh-2023-12-06\\videos\\gandalf_231205_249_e3v8360.mp4\n",
      "Symlink creation impossible (exFat architecture?): copying the video instead.\n",
      "c:\\Users\\rober\\Desktop\\Monkey-Emotions\\video\\gandalf_231205\\gandalf_231205_250_e3v8360.mp4 copied to C:\\Users\\rober\\Desktop\\Monkey-Emotions\\231205_gandalf\\face_1-rh-2023-12-06\\videos\\gandalf_231205_250_e3v8360.mp4\n",
      "Symlink creation impossible (exFat architecture?): copying the video instead.\n",
      "c:\\Users\\rober\\Desktop\\Monkey-Emotions\\video\\gandalf_231205\\gandalf_231205_251_e3v8360.mp4 copied to C:\\Users\\rober\\Desktop\\Monkey-Emotions\\231205_gandalf\\face_1-rh-2023-12-06\\videos\\gandalf_231205_251_e3v8360.mp4\n",
      "Symlink creation impossible (exFat architecture?): copying the video instead.\n",
      "c:\\Users\\rober\\Desktop\\Monkey-Emotions\\video\\gandalf_231205\\gandalf_231205_252_e3v8360.mp4 copied to C:\\Users\\rober\\Desktop\\Monkey-Emotions\\231205_gandalf\\face_1-rh-2023-12-06\\videos\\gandalf_231205_252_e3v8360.mp4\n",
      "Symlink creation impossible (exFat architecture?): copying the video instead.\n",
      "c:\\Users\\rober\\Desktop\\Monkey-Emotions\\video\\gandalf_231205\\gandalf_231205_253_e3v8360.mp4 copied to C:\\Users\\rober\\Desktop\\Monkey-Emotions\\231205_gandalf\\face_1-rh-2023-12-06\\videos\\gandalf_231205_253_e3v8360.mp4\n",
      "Symlink creation impossible (exFat architecture?): copying the video instead.\n",
      "c:\\Users\\rober\\Desktop\\Monkey-Emotions\\video\\gandalf_231205\\gandalf_231205_254_e3v8360.mp4 copied to C:\\Users\\rober\\Desktop\\Monkey-Emotions\\231205_gandalf\\face_1-rh-2023-12-06\\videos\\gandalf_231205_254_e3v8360.mp4\n",
      "Symlink creation impossible (exFat architecture?): copying the video instead.\n",
      "c:\\Users\\rober\\Desktop\\Monkey-Emotions\\video\\gandalf_231205\\gandalf_231205_255_e3v8360.mp4 copied to C:\\Users\\rober\\Desktop\\Monkey-Emotions\\231205_gandalf\\face_1-rh-2023-12-06\\videos\\gandalf_231205_255_e3v8360.mp4\n",
      "Symlink creation impossible (exFat architecture?): copying the video instead.\n",
      "c:\\Users\\rober\\Desktop\\Monkey-Emotions\\video\\gandalf_231205\\gandalf_231205_256_e3v8360.mp4 copied to C:\\Users\\rober\\Desktop\\Monkey-Emotions\\231205_gandalf\\face_1-rh-2023-12-06\\videos\\gandalf_231205_256_e3v8360.mp4\n",
      "Symlink creation impossible (exFat architecture?): copying the video instead.\n",
      "c:\\Users\\rober\\Desktop\\Monkey-Emotions\\video\\gandalf_231205\\gandalf_231205_257_e3v8360.mp4 copied to C:\\Users\\rober\\Desktop\\Monkey-Emotions\\231205_gandalf\\face_1-rh-2023-12-06\\videos\\gandalf_231205_257_e3v8360.mp4\n",
      "Symlink creation impossible (exFat architecture?): copying the video instead.\n",
      "c:\\Users\\rober\\Desktop\\Monkey-Emotions\\video\\gandalf_231205\\gandalf_231205_258_e3v8360.mp4 copied to C:\\Users\\rober\\Desktop\\Monkey-Emotions\\231205_gandalf\\face_1-rh-2023-12-06\\videos\\gandalf_231205_258_e3v8360.mp4\n",
      "Symlink creation impossible (exFat architecture?): copying the video instead.\n",
      "c:\\Users\\rober\\Desktop\\Monkey-Emotions\\video\\gandalf_231205\\gandalf_231205_259_e3v8360.mp4 copied to C:\\Users\\rober\\Desktop\\Monkey-Emotions\\231205_gandalf\\face_1-rh-2023-12-06\\videos\\gandalf_231205_259_e3v8360.mp4\n",
      "Symlink creation impossible (exFat architecture?): copying the video instead.\n",
      "c:\\Users\\rober\\Desktop\\Monkey-Emotions\\video\\gandalf_231205\\gandalf_231205_260_e3v8360.mp4 copied to C:\\Users\\rober\\Desktop\\Monkey-Emotions\\231205_gandalf\\face_1-rh-2023-12-06\\videos\\gandalf_231205_260_e3v8360.mp4\n",
      "Symlink creation impossible (exFat architecture?): copying the video instead.\n",
      "c:\\Users\\rober\\Desktop\\Monkey-Emotions\\video\\gandalf_231205\\gandalf_231205_261_e3v8360.mp4 copied to C:\\Users\\rober\\Desktop\\Monkey-Emotions\\231205_gandalf\\face_1-rh-2023-12-06\\videos\\gandalf_231205_261_e3v8360.mp4\n",
      "Symlink creation impossible (exFat architecture?): copying the video instead.\n",
      "c:\\Users\\rober\\Desktop\\Monkey-Emotions\\video\\gandalf_231205\\gandalf_231205_262_e3v8360.mp4 copied to C:\\Users\\rober\\Desktop\\Monkey-Emotions\\231205_gandalf\\face_1-rh-2023-12-06\\videos\\gandalf_231205_262_e3v8360.mp4\n",
      "Symlink creation impossible (exFat architecture?): copying the video instead.\n",
      "c:\\Users\\rober\\Desktop\\Monkey-Emotions\\video\\gandalf_231205\\gandalf_231205_263_e3v8360.mp4 copied to C:\\Users\\rober\\Desktop\\Monkey-Emotions\\231205_gandalf\\face_1-rh-2023-12-06\\videos\\gandalf_231205_263_e3v8360.mp4\n",
      "Symlink creation impossible (exFat architecture?): copying the video instead.\n",
      "c:\\Users\\rober\\Desktop\\Monkey-Emotions\\video\\gandalf_231205\\gandalf_231205_264_e3v8360.mp4 copied to C:\\Users\\rober\\Desktop\\Monkey-Emotions\\231205_gandalf\\face_1-rh-2023-12-06\\videos\\gandalf_231205_264_e3v8360.mp4\n",
      "Symlink creation impossible (exFat architecture?): copying the video instead.\n",
      "c:\\Users\\rober\\Desktop\\Monkey-Emotions\\video\\gandalf_231205\\gandalf_231205_265_e3v8360.mp4 copied to C:\\Users\\rober\\Desktop\\Monkey-Emotions\\231205_gandalf\\face_1-rh-2023-12-06\\videos\\gandalf_231205_265_e3v8360.mp4\n",
      "Symlink creation impossible (exFat architecture?): copying the video instead.\n",
      "c:\\Users\\rober\\Desktop\\Monkey-Emotions\\video\\gandalf_231205\\gandalf_231205_266_e3v8360.mp4 copied to C:\\Users\\rober\\Desktop\\Monkey-Emotions\\231205_gandalf\\face_1-rh-2023-12-06\\videos\\gandalf_231205_266_e3v8360.mp4\n",
      "Symlink creation impossible (exFat architecture?): copying the video instead.\n",
      "c:\\Users\\rober\\Desktop\\Monkey-Emotions\\video\\gandalf_231205\\gandalf_231205_267_e3v8360.mp4 copied to C:\\Users\\rober\\Desktop\\Monkey-Emotions\\231205_gandalf\\face_1-rh-2023-12-06\\videos\\gandalf_231205_267_e3v8360.mp4\n",
      "Symlink creation impossible (exFat architecture?): copying the video instead.\n",
      "c:\\Users\\rober\\Desktop\\Monkey-Emotions\\video\\gandalf_231205\\gandalf_231205_268_e3v8360.mp4 copied to C:\\Users\\rober\\Desktop\\Monkey-Emotions\\231205_gandalf\\face_1-rh-2023-12-06\\videos\\gandalf_231205_268_e3v8360.mp4\n",
      "Symlink creation impossible (exFat architecture?): copying the video instead.\n",
      "c:\\Users\\rober\\Desktop\\Monkey-Emotions\\video\\gandalf_231205\\gandalf_231205_269_e3v8360.mp4 copied to C:\\Users\\rober\\Desktop\\Monkey-Emotions\\231205_gandalf\\face_1-rh-2023-12-06\\videos\\gandalf_231205_269_e3v8360.mp4\n",
      "Symlink creation impossible (exFat architecture?): copying the video instead.\n",
      "c:\\Users\\rober\\Desktop\\Monkey-Emotions\\video\\gandalf_231205\\gandalf_231205_270_e3v8360.mp4 copied to C:\\Users\\rober\\Desktop\\Monkey-Emotions\\231205_gandalf\\face_1-rh-2023-12-06\\videos\\gandalf_231205_270_e3v8360.mp4\n",
      "Symlink creation impossible (exFat architecture?): copying the video instead.\n",
      "c:\\Users\\rober\\Desktop\\Monkey-Emotions\\video\\gandalf_231205\\gandalf_231205_271_e3v8360.mp4 copied to C:\\Users\\rober\\Desktop\\Monkey-Emotions\\231205_gandalf\\face_1-rh-2023-12-06\\videos\\gandalf_231205_271_e3v8360.mp4\n",
      "Symlink creation impossible (exFat architecture?): copying the video instead.\n",
      "c:\\Users\\rober\\Desktop\\Monkey-Emotions\\video\\gandalf_231205\\gandalf_231205_272_e3v8360.mp4 copied to C:\\Users\\rober\\Desktop\\Monkey-Emotions\\231205_gandalf\\face_1-rh-2023-12-06\\videos\\gandalf_231205_272_e3v8360.mp4\n",
      "Symlink creation impossible (exFat architecture?): copying the video instead.\n",
      "c:\\Users\\rober\\Desktop\\Monkey-Emotions\\video\\gandalf_231205\\gandalf_231205_273_e3v8360.mp4 copied to C:\\Users\\rober\\Desktop\\Monkey-Emotions\\231205_gandalf\\face_1-rh-2023-12-06\\videos\\gandalf_231205_273_e3v8360.mp4\n",
      "Symlink creation impossible (exFat architecture?): copying the video instead.\n",
      "c:\\Users\\rober\\Desktop\\Monkey-Emotions\\video\\gandalf_231205\\gandalf_231205_274_e3v8360.mp4 copied to C:\\Users\\rober\\Desktop\\Monkey-Emotions\\231205_gandalf\\face_1-rh-2023-12-06\\videos\\gandalf_231205_274_e3v8360.mp4\n",
      "Symlink creation impossible (exFat architecture?): copying the video instead.\n",
      "c:\\Users\\rober\\Desktop\\Monkey-Emotions\\video\\gandalf_231205\\gandalf_231205_275_e3v8360.mp4 copied to C:\\Users\\rober\\Desktop\\Monkey-Emotions\\231205_gandalf\\face_1-rh-2023-12-06\\videos\\gandalf_231205_275_e3v8360.mp4\n",
      "Symlink creation impossible (exFat architecture?): copying the video instead.\n",
      "c:\\Users\\rober\\Desktop\\Monkey-Emotions\\video\\gandalf_231205\\gandalf_231205_276_e3v8360.mp4 copied to C:\\Users\\rober\\Desktop\\Monkey-Emotions\\231205_gandalf\\face_1-rh-2023-12-06\\videos\\gandalf_231205_276_e3v8360.mp4\n",
      "Symlink creation impossible (exFat architecture?): copying the video instead.\n",
      "c:\\Users\\rober\\Desktop\\Monkey-Emotions\\video\\gandalf_231205\\gandalf_231205_277_e3v8360.mp4 copied to C:\\Users\\rober\\Desktop\\Monkey-Emotions\\231205_gandalf\\face_1-rh-2023-12-06\\videos\\gandalf_231205_277_e3v8360.mp4\n",
      "Symlink creation impossible (exFat architecture?): copying the video instead.\n",
      "c:\\Users\\rober\\Desktop\\Monkey-Emotions\\video\\gandalf_231205\\gandalf_231205_278_e3v8360.mp4 copied to C:\\Users\\rober\\Desktop\\Monkey-Emotions\\231205_gandalf\\face_1-rh-2023-12-06\\videos\\gandalf_231205_278_e3v8360.mp4\n",
      "Symlink creation impossible (exFat architecture?): copying the video instead.\n",
      "c:\\Users\\rober\\Desktop\\Monkey-Emotions\\video\\gandalf_231205\\gandalf_231205_279_e3v8360.mp4 copied to C:\\Users\\rober\\Desktop\\Monkey-Emotions\\231205_gandalf\\face_1-rh-2023-12-06\\videos\\gandalf_231205_279_e3v8360.mp4\n",
      "Symlink creation impossible (exFat architecture?): copying the video instead.\n",
      "c:\\Users\\rober\\Desktop\\Monkey-Emotions\\video\\gandalf_231205\\gandalf_231205_280_e3v8360.mp4 copied to C:\\Users\\rober\\Desktop\\Monkey-Emotions\\231205_gandalf\\face_1-rh-2023-12-06\\videos\\gandalf_231205_280_e3v8360.mp4\n",
      "Symlink creation impossible (exFat architecture?): copying the video instead.\n",
      "c:\\Users\\rober\\Desktop\\Monkey-Emotions\\video\\gandalf_231205\\gandalf_231205_282_e3v8360.mp4 copied to C:\\Users\\rober\\Desktop\\Monkey-Emotions\\231205_gandalf\\face_1-rh-2023-12-06\\videos\\gandalf_231205_282_e3v8360.mp4\n",
      "Symlink creation impossible (exFat architecture?): copying the video instead.\n",
      "c:\\Users\\rober\\Desktop\\Monkey-Emotions\\video\\gandalf_231205\\gandalf_231205_283_e3v8360.mp4 copied to C:\\Users\\rober\\Desktop\\Monkey-Emotions\\231205_gandalf\\face_1-rh-2023-12-06\\videos\\gandalf_231205_283_e3v8360.mp4\n",
      "Symlink creation impossible (exFat architecture?): copying the video instead.\n",
      "c:\\Users\\rober\\Desktop\\Monkey-Emotions\\video\\gandalf_231205\\gandalf_231205_284_e3v8360.mp4 copied to C:\\Users\\rober\\Desktop\\Monkey-Emotions\\231205_gandalf\\face_1-rh-2023-12-06\\videos\\gandalf_231205_284_e3v8360.mp4\n",
      "New videos were added to the project! Use the function 'extract_frames' to select frames for labeling.\n",
      "Using snapshot-1030000 for model C:\\Users\\rober\\Desktop\\Monkey-Emotions\\231205_gandalf\\face_1-rh-2023-12-06\\dlc-models\\iteration-0\\face_1Dec6-trainset95shuffle1\n"
     ]
    },
    {
     "name": "stderr",
     "output_type": "stream",
     "text": [
      "c:\\Users\\rober\\anaconda3\\envs\\DEEPLABCUT\\lib\\site-packages\\tensorflow\\python\\keras\\engine\\base_layer_v1.py:1694: UserWarning: `layer.apply` is deprecated and will be removed in a future version. Please use `layer.__call__` method instead.\n",
      "  warnings.warn('`layer.apply` is deprecated and '\n"
     ]
    },
    {
     "name": "stdout",
     "output_type": "stream",
     "text": [
      "Starting to analyze %  c:\\Users\\rober\\Desktop\\Monkey-Emotions\\video\\gandalf_231205\\gandalf_231205_0_e3v8360.mp4\n",
      "Loading  c:\\Users\\rober\\Desktop\\Monkey-Emotions\\video\\gandalf_231205\\gandalf_231205_0_e3v8360.mp4\n",
      "Duration of video [s]:  12.9 , recorded with  120.0 fps!\n",
      "Overall # of frames:  1548  found with (before cropping) frame dimensions:  640 480\n",
      "Starting to extract posture\n"
     ]
    },
    {
     "name": "stderr",
     "output_type": "stream",
     "text": [
      "100%|██████████| 1548/1548 [05:42<00:00,  4.53it/s]\n"
     ]
    },
    {
     "name": "stdout",
     "output_type": "stream",
     "text": [
      "Saving results in c:\\Users\\rober\\Desktop\\Monkey-Emotions\\video\\gandalf_231205...\n",
      "Saving csv poses!\n",
      "Starting to analyze %  c:\\Users\\rober\\Desktop\\Monkey-Emotions\\video\\gandalf_231205\\gandalf_231205_1_e3v8360.mp4\n",
      "Loading  c:\\Users\\rober\\Desktop\\Monkey-Emotions\\video\\gandalf_231205\\gandalf_231205_1_e3v8360.mp4\n",
      "Duration of video [s]:  17.58 , recorded with  120.0 fps!\n",
      "Overall # of frames:  2110  found with (before cropping) frame dimensions:  640 480\n",
      "Starting to extract posture\n"
     ]
    },
    {
     "name": "stderr",
     "output_type": "stream",
     "text": [
      "100%|██████████| 2110/2110 [07:45<00:00,  4.53it/s]\n"
     ]
    },
    {
     "name": "stdout",
     "output_type": "stream",
     "text": [
      "Saving results in c:\\Users\\rober\\Desktop\\Monkey-Emotions\\video\\gandalf_231205...\n",
      "Saving csv poses!\n",
      "Starting to analyze %  c:\\Users\\rober\\Desktop\\Monkey-Emotions\\video\\gandalf_231205\\gandalf_231205_2_e3v8360.mp4\n",
      "Loading  c:\\Users\\rober\\Desktop\\Monkey-Emotions\\video\\gandalf_231205\\gandalf_231205_2_e3v8360.mp4\n",
      "Duration of video [s]:  10.42 , recorded with  120.0 fps!\n",
      "Overall # of frames:  1250  found with (before cropping) frame dimensions:  640 480\n",
      "Starting to extract posture\n"
     ]
    },
    {
     "name": "stderr",
     "output_type": "stream",
     "text": [
      "100%|██████████| 1250/1250 [04:36<00:00,  4.52it/s]\n"
     ]
    },
    {
     "name": "stdout",
     "output_type": "stream",
     "text": [
      "Saving results in c:\\Users\\rober\\Desktop\\Monkey-Emotions\\video\\gandalf_231205...\n",
      "Saving csv poses!\n",
      "Starting to analyze %  c:\\Users\\rober\\Desktop\\Monkey-Emotions\\video\\gandalf_231205\\gandalf_231205_3_e3v8360.mp4\n",
      "Loading  c:\\Users\\rober\\Desktop\\Monkey-Emotions\\video\\gandalf_231205\\gandalf_231205_3_e3v8360.mp4\n",
      "Duration of video [s]:  14.14 , recorded with  120.0 fps!\n",
      "Overall # of frames:  1697  found with (before cropping) frame dimensions:  640 480\n",
      "Starting to extract posture\n"
     ]
    },
    {
     "name": "stderr",
     "output_type": "stream",
     "text": [
      "100%|██████████| 1697/1697 [06:14<00:00,  4.53it/s]\n"
     ]
    },
    {
     "name": "stdout",
     "output_type": "stream",
     "text": [
      "Saving results in c:\\Users\\rober\\Desktop\\Monkey-Emotions\\video\\gandalf_231205...\n",
      "Saving csv poses!\n",
      "Starting to analyze %  c:\\Users\\rober\\Desktop\\Monkey-Emotions\\video\\gandalf_231205\\gandalf_231205_4_e3v8360.mp4\n",
      "Loading  c:\\Users\\rober\\Desktop\\Monkey-Emotions\\video\\gandalf_231205\\gandalf_231205_4_e3v8360.mp4\n",
      "Duration of video [s]:  18.91 , recorded with  120.0 fps!\n",
      "Overall # of frames:  2269  found with (before cropping) frame dimensions:  640 480\n",
      "Starting to extract posture\n"
     ]
    },
    {
     "name": "stderr",
     "output_type": "stream",
     "text": [
      "100%|██████████| 2269/2269 [08:20<00:00,  4.53it/s]\n"
     ]
    },
    {
     "name": "stdout",
     "output_type": "stream",
     "text": [
      "Saving results in c:\\Users\\rober\\Desktop\\Monkey-Emotions\\video\\gandalf_231205...\n",
      "Saving csv poses!\n",
      "Starting to analyze %  c:\\Users\\rober\\Desktop\\Monkey-Emotions\\video\\gandalf_231205\\gandalf_231205_5_e3v8360.mp4\n",
      "Loading  c:\\Users\\rober\\Desktop\\Monkey-Emotions\\video\\gandalf_231205\\gandalf_231205_5_e3v8360.mp4\n",
      "Duration of video [s]:  14.57 , recorded with  120.0 fps!\n",
      "Overall # of frames:  1748  found with (before cropping) frame dimensions:  640 480\n",
      "Starting to extract posture\n"
     ]
    },
    {
     "name": "stderr",
     "output_type": "stream",
     "text": [
      "100%|██████████| 1748/1748 [06:25<00:00,  4.54it/s]\n"
     ]
    },
    {
     "name": "stdout",
     "output_type": "stream",
     "text": [
      "Saving results in c:\\Users\\rober\\Desktop\\Monkey-Emotions\\video\\gandalf_231205...\n",
      "Saving csv poses!\n",
      "Starting to analyze %  c:\\Users\\rober\\Desktop\\Monkey-Emotions\\video\\gandalf_231205\\gandalf_231205_6_e3v8360.mp4\n",
      "Loading  c:\\Users\\rober\\Desktop\\Monkey-Emotions\\video\\gandalf_231205\\gandalf_231205_6_e3v8360.mp4\n",
      "Duration of video [s]:  13.63 , recorded with  120.0 fps!\n",
      "Overall # of frames:  1636  found with (before cropping) frame dimensions:  640 480\n",
      "Starting to extract posture\n"
     ]
    },
    {
     "name": "stderr",
     "output_type": "stream",
     "text": [
      "100%|██████████| 1636/1636 [06:02<00:00,  4.52it/s]"
     ]
    },
    {
     "name": "stdout",
     "output_type": "stream",
     "text": [
      "Saving results in c:\\Users\\rober\\Desktop\\Monkey-Emotions\\video\\gandalf_231205...\n",
      "Saving csv poses!\n"
     ]
    },
    {
     "name": "stderr",
     "output_type": "stream",
     "text": [
      "\n"
     ]
    },
    {
     "name": "stdout",
     "output_type": "stream",
     "text": [
      "Starting to analyze %  c:\\Users\\rober\\Desktop\\Monkey-Emotions\\video\\gandalf_231205\\gandalf_231205_7_e3v8360.mp4\n",
      "Loading  c:\\Users\\rober\\Desktop\\Monkey-Emotions\\video\\gandalf_231205\\gandalf_231205_7_e3v8360.mp4\n",
      "Duration of video [s]:  14.64 , recorded with  120.0 fps!\n",
      "Overall # of frames:  1757  found with (before cropping) frame dimensions:  640 480\n",
      "Starting to extract posture\n"
     ]
    },
    {
     "name": "stderr",
     "output_type": "stream",
     "text": [
      "100%|██████████| 1757/1757 [06:23<00:00,  4.58it/s]\n"
     ]
    },
    {
     "name": "stdout",
     "output_type": "stream",
     "text": [
      "Saving results in c:\\Users\\rober\\Desktop\\Monkey-Emotions\\video\\gandalf_231205...\n",
      "Saving csv poses!\n",
      "Starting to analyze %  c:\\Users\\rober\\Desktop\\Monkey-Emotions\\video\\gandalf_231205\\gandalf_231205_8_e3v8360.mp4\n",
      "Loading  c:\\Users\\rober\\Desktop\\Monkey-Emotions\\video\\gandalf_231205\\gandalf_231205_8_e3v8360.mp4\n",
      "Duration of video [s]:  12.17 , recorded with  120.0 fps!\n",
      "Overall # of frames:  1460  found with (before cropping) frame dimensions:  640 480\n",
      "Starting to extract posture\n"
     ]
    },
    {
     "name": "stderr",
     "output_type": "stream",
     "text": [
      "100%|██████████| 1460/1460 [05:18<00:00,  4.59it/s]\n"
     ]
    },
    {
     "name": "stdout",
     "output_type": "stream",
     "text": [
      "Saving results in c:\\Users\\rober\\Desktop\\Monkey-Emotions\\video\\gandalf_231205...\n",
      "Saving csv poses!\n",
      "Starting to analyze %  c:\\Users\\rober\\Desktop\\Monkey-Emotions\\video\\gandalf_231205\\gandalf_231205_9_e3v8360.mp4\n",
      "Loading  c:\\Users\\rober\\Desktop\\Monkey-Emotions\\video\\gandalf_231205\\gandalf_231205_9_e3v8360.mp4\n",
      "Duration of video [s]:  14.92 , recorded with  120.0 fps!\n",
      "Overall # of frames:  1790  found with (before cropping) frame dimensions:  640 480\n",
      "Starting to extract posture\n"
     ]
    },
    {
     "name": "stderr",
     "output_type": "stream",
     "text": [
      "100%|██████████| 1790/1790 [06:29<00:00,  4.60it/s]\n"
     ]
    },
    {
     "name": "stdout",
     "output_type": "stream",
     "text": [
      "Saving results in c:\\Users\\rober\\Desktop\\Monkey-Emotions\\video\\gandalf_231205...\n",
      "Saving csv poses!\n",
      "Starting to analyze %  c:\\Users\\rober\\Desktop\\Monkey-Emotions\\video\\gandalf_231205\\gandalf_231205_10_e3v8360.mp4\n",
      "Loading  c:\\Users\\rober\\Desktop\\Monkey-Emotions\\video\\gandalf_231205\\gandalf_231205_10_e3v8360.mp4\n",
      "Duration of video [s]:  13.74 , recorded with  120.0 fps!\n",
      "Overall # of frames:  1649  found with (before cropping) frame dimensions:  640 480\n",
      "Starting to extract posture\n"
     ]
    },
    {
     "name": "stderr",
     "output_type": "stream",
     "text": [
      "100%|██████████| 1649/1649 [05:59<00:00,  4.58it/s]\n"
     ]
    },
    {
     "name": "stdout",
     "output_type": "stream",
     "text": [
      "Saving results in c:\\Users\\rober\\Desktop\\Monkey-Emotions\\video\\gandalf_231205...\n",
      "Saving csv poses!\n",
      "Starting to analyze %  c:\\Users\\rober\\Desktop\\Monkey-Emotions\\video\\gandalf_231205\\gandalf_231205_11_e3v8360.mp4\n",
      "Loading  c:\\Users\\rober\\Desktop\\Monkey-Emotions\\video\\gandalf_231205\\gandalf_231205_11_e3v8360.mp4\n",
      "Duration of video [s]:  13.25 , recorded with  120.0 fps!\n",
      "Overall # of frames:  1590  found with (before cropping) frame dimensions:  640 480\n",
      "Starting to extract posture\n"
     ]
    },
    {
     "name": "stderr",
     "output_type": "stream",
     "text": [
      "100%|██████████| 1590/1590 [05:46<00:00,  4.59it/s]\n"
     ]
    },
    {
     "name": "stdout",
     "output_type": "stream",
     "text": [
      "Saving results in c:\\Users\\rober\\Desktop\\Monkey-Emotions\\video\\gandalf_231205...\n",
      "Saving csv poses!\n",
      "Starting to analyze %  c:\\Users\\rober\\Desktop\\Monkey-Emotions\\video\\gandalf_231205\\gandalf_231205_12_e3v8360.mp4\n",
      "Loading  c:\\Users\\rober\\Desktop\\Monkey-Emotions\\video\\gandalf_231205\\gandalf_231205_12_e3v8360.mp4\n",
      "Duration of video [s]:  15.69 , recorded with  120.0 fps!\n",
      "Overall # of frames:  1883  found with (before cropping) frame dimensions:  640 480\n",
      "Starting to extract posture\n"
     ]
    },
    {
     "name": "stderr",
     "output_type": "stream",
     "text": [
      "100%|██████████| 1883/1883 [06:51<00:00,  4.58it/s]\n"
     ]
    },
    {
     "name": "stdout",
     "output_type": "stream",
     "text": [
      "Saving results in c:\\Users\\rober\\Desktop\\Monkey-Emotions\\video\\gandalf_231205...\n",
      "Saving csv poses!\n",
      "Starting to analyze %  c:\\Users\\rober\\Desktop\\Monkey-Emotions\\video\\gandalf_231205\\gandalf_231205_13_e3v8360.mp4\n",
      "Loading  c:\\Users\\rober\\Desktop\\Monkey-Emotions\\video\\gandalf_231205\\gandalf_231205_13_e3v8360.mp4\n",
      "Duration of video [s]:  10.85 , recorded with  120.0 fps!\n",
      "Overall # of frames:  1302  found with (before cropping) frame dimensions:  640 480\n",
      "Starting to extract posture\n"
     ]
    },
    {
     "name": "stderr",
     "output_type": "stream",
     "text": [
      "100%|██████████| 1302/1302 [04:43<00:00,  4.58it/s]\n"
     ]
    },
    {
     "name": "stdout",
     "output_type": "stream",
     "text": [
      "Saving results in c:\\Users\\rober\\Desktop\\Monkey-Emotions\\video\\gandalf_231205...\n",
      "Saving csv poses!\n",
      "Starting to analyze %  c:\\Users\\rober\\Desktop\\Monkey-Emotions\\video\\gandalf_231205\\gandalf_231205_14_e3v8360.mp4\n",
      "Loading  c:\\Users\\rober\\Desktop\\Monkey-Emotions\\video\\gandalf_231205\\gandalf_231205_14_e3v8360.mp4\n",
      "Duration of video [s]:  25.43 , recorded with  120.0 fps!\n",
      "Overall # of frames:  3051  found with (before cropping) frame dimensions:  640 480\n",
      "Starting to extract posture\n"
     ]
    },
    {
     "name": "stderr",
     "output_type": "stream",
     "text": [
      "100%|██████████| 3051/3051 [10:57<00:00,  4.64it/s]\n"
     ]
    },
    {
     "name": "stdout",
     "output_type": "stream",
     "text": [
      "Saving results in c:\\Users\\rober\\Desktop\\Monkey-Emotions\\video\\gandalf_231205...\n",
      "Saving csv poses!\n",
      "Starting to analyze %  c:\\Users\\rober\\Desktop\\Monkey-Emotions\\video\\gandalf_231205\\gandalf_231205_15_e3v8360.mp4\n",
      "Loading  c:\\Users\\rober\\Desktop\\Monkey-Emotions\\video\\gandalf_231205\\gandalf_231205_15_e3v8360.mp4\n",
      "Duration of video [s]:  16.51 , recorded with  120.0 fps!\n",
      "Overall # of frames:  1981  found with (before cropping) frame dimensions:  640 480\n",
      "Starting to extract posture\n"
     ]
    },
    {
     "name": "stderr",
     "output_type": "stream",
     "text": [
      "100%|██████████| 1981/1981 [07:08<00:00,  4.63it/s]\n"
     ]
    },
    {
     "name": "stdout",
     "output_type": "stream",
     "text": [
      "Saving results in c:\\Users\\rober\\Desktop\\Monkey-Emotions\\video\\gandalf_231205...\n",
      "Saving csv poses!\n",
      "Starting to analyze %  c:\\Users\\rober\\Desktop\\Monkey-Emotions\\video\\gandalf_231205\\gandalf_231205_16_e3v8360.mp4\n",
      "Loading  c:\\Users\\rober\\Desktop\\Monkey-Emotions\\video\\gandalf_231205\\gandalf_231205_16_e3v8360.mp4\n",
      "Duration of video [s]:  11.82 , recorded with  120.0 fps!\n",
      "Overall # of frames:  1418  found with (before cropping) frame dimensions:  640 480\n",
      "Starting to extract posture\n"
     ]
    },
    {
     "name": "stderr",
     "output_type": "stream",
     "text": [
      "100%|██████████| 1418/1418 [05:07<00:00,  4.62it/s]\n"
     ]
    },
    {
     "name": "stdout",
     "output_type": "stream",
     "text": [
      "Saving results in c:\\Users\\rober\\Desktop\\Monkey-Emotions\\video\\gandalf_231205...\n",
      "Saving csv poses!\n",
      "Starting to analyze %  c:\\Users\\rober\\Desktop\\Monkey-Emotions\\video\\gandalf_231205\\gandalf_231205_17_e3v8360.mp4\n",
      "Loading  c:\\Users\\rober\\Desktop\\Monkey-Emotions\\video\\gandalf_231205\\gandalf_231205_17_e3v8360.mp4\n",
      "Duration of video [s]:  15.74 , recorded with  120.0 fps!\n",
      "Overall # of frames:  1889  found with (before cropping) frame dimensions:  640 480\n",
      "Starting to extract posture\n"
     ]
    },
    {
     "name": "stderr",
     "output_type": "stream",
     "text": [
      "100%|██████████| 1889/1889 [06:47<00:00,  4.64it/s]\n"
     ]
    },
    {
     "name": "stdout",
     "output_type": "stream",
     "text": [
      "Saving results in c:\\Users\\rober\\Desktop\\Monkey-Emotions\\video\\gandalf_231205...\n",
      "Saving csv poses!\n",
      "Starting to analyze %  c:\\Users\\rober\\Desktop\\Monkey-Emotions\\video\\gandalf_231205\\gandalf_231205_18_e3v8360.mp4\n",
      "Loading  c:\\Users\\rober\\Desktop\\Monkey-Emotions\\video\\gandalf_231205\\gandalf_231205_18_e3v8360.mp4\n",
      "Duration of video [s]:  18.37 , recorded with  120.0 fps!\n",
      "Overall # of frames:  2204  found with (before cropping) frame dimensions:  640 480\n",
      "Starting to extract posture\n"
     ]
    },
    {
     "name": "stderr",
     "output_type": "stream",
     "text": [
      "100%|██████████| 2204/2204 [07:59<00:00,  4.60it/s]\n"
     ]
    },
    {
     "name": "stdout",
     "output_type": "stream",
     "text": [
      "Saving results in c:\\Users\\rober\\Desktop\\Monkey-Emotions\\video\\gandalf_231205...\n",
      "Saving csv poses!\n",
      "Starting to analyze %  c:\\Users\\rober\\Desktop\\Monkey-Emotions\\video\\gandalf_231205\\gandalf_231205_19_e3v8360.mp4\n",
      "Loading  c:\\Users\\rober\\Desktop\\Monkey-Emotions\\video\\gandalf_231205\\gandalf_231205_19_e3v8360.mp4\n",
      "Duration of video [s]:  15.28 , recorded with  120.0 fps!\n",
      "Overall # of frames:  1833  found with (before cropping) frame dimensions:  640 480\n",
      "Starting to extract posture\n"
     ]
    },
    {
     "name": "stderr",
     "output_type": "stream",
     "text": [
      "100%|██████████| 1833/1833 [06:38<00:00,  4.61it/s]\n"
     ]
    },
    {
     "name": "stdout",
     "output_type": "stream",
     "text": [
      "Saving results in c:\\Users\\rober\\Desktop\\Monkey-Emotions\\video\\gandalf_231205...\n",
      "Saving csv poses!\n",
      "Starting to analyze %  c:\\Users\\rober\\Desktop\\Monkey-Emotions\\video\\gandalf_231205\\gandalf_231205_20_e3v8360.mp4\n",
      "Loading  c:\\Users\\rober\\Desktop\\Monkey-Emotions\\video\\gandalf_231205\\gandalf_231205_20_e3v8360.mp4\n",
      "Duration of video [s]:  12.32 , recorded with  120.0 fps!\n",
      "Overall # of frames:  1478  found with (before cropping) frame dimensions:  640 480\n",
      "Starting to extract posture\n"
     ]
    },
    {
     "name": "stderr",
     "output_type": "stream",
     "text": [
      "100%|██████████| 1478/1478 [05:18<00:00,  4.64it/s]\n"
     ]
    },
    {
     "name": "stdout",
     "output_type": "stream",
     "text": [
      "Saving results in c:\\Users\\rober\\Desktop\\Monkey-Emotions\\video\\gandalf_231205...\n",
      "Saving csv poses!\n",
      "Starting to analyze %  c:\\Users\\rober\\Desktop\\Monkey-Emotions\\video\\gandalf_231205\\gandalf_231205_21_e3v8360.mp4\n",
      "Loading  c:\\Users\\rober\\Desktop\\Monkey-Emotions\\video\\gandalf_231205\\gandalf_231205_21_e3v8360.mp4\n",
      "Duration of video [s]:  15.44 , recorded with  120.0 fps!\n",
      "Overall # of frames:  1853  found with (before cropping) frame dimensions:  640 480\n",
      "Starting to extract posture\n"
     ]
    },
    {
     "name": "stderr",
     "output_type": "stream",
     "text": [
      "100%|██████████| 1853/1853 [06:39<00:00,  4.64it/s]\n"
     ]
    },
    {
     "name": "stdout",
     "output_type": "stream",
     "text": [
      "Saving results in c:\\Users\\rober\\Desktop\\Monkey-Emotions\\video\\gandalf_231205...\n",
      "Saving csv poses!\n",
      "Starting to analyze %  c:\\Users\\rober\\Desktop\\Monkey-Emotions\\video\\gandalf_231205\\gandalf_231205_22_e3v8360.mp4\n",
      "Loading  c:\\Users\\rober\\Desktop\\Monkey-Emotions\\video\\gandalf_231205\\gandalf_231205_22_e3v8360.mp4\n",
      "Duration of video [s]:  12.72 , recorded with  120.0 fps!\n",
      "Overall # of frames:  1526  found with (before cropping) frame dimensions:  640 480\n",
      "Starting to extract posture\n"
     ]
    },
    {
     "name": "stderr",
     "output_type": "stream",
     "text": [
      "100%|██████████| 1526/1526 [05:28<00:00,  4.64it/s]\n"
     ]
    },
    {
     "name": "stdout",
     "output_type": "stream",
     "text": [
      "Saving results in c:\\Users\\rober\\Desktop\\Monkey-Emotions\\video\\gandalf_231205...\n",
      "Saving csv poses!\n",
      "Starting to analyze %  c:\\Users\\rober\\Desktop\\Monkey-Emotions\\video\\gandalf_231205\\gandalf_231205_23_e3v8360.mp4\n",
      "Loading  c:\\Users\\rober\\Desktop\\Monkey-Emotions\\video\\gandalf_231205\\gandalf_231205_23_e3v8360.mp4\n",
      "Duration of video [s]:  17.68 , recorded with  120.0 fps!\n",
      "Overall # of frames:  2121  found with (before cropping) frame dimensions:  640 480\n",
      "Starting to extract posture\n"
     ]
    },
    {
     "name": "stderr",
     "output_type": "stream",
     "text": [
      "100%|██████████| 2121/2121 [07:37<00:00,  4.64it/s]\n"
     ]
    },
    {
     "name": "stdout",
     "output_type": "stream",
     "text": [
      "Saving results in c:\\Users\\rober\\Desktop\\Monkey-Emotions\\video\\gandalf_231205...\n",
      "Saving csv poses!\n",
      "Starting to analyze %  c:\\Users\\rober\\Desktop\\Monkey-Emotions\\video\\gandalf_231205\\gandalf_231205_24_e3v8360.mp4\n",
      "Loading  c:\\Users\\rober\\Desktop\\Monkey-Emotions\\video\\gandalf_231205\\gandalf_231205_24_e3v8360.mp4\n",
      "Duration of video [s]:  18.22 , recorded with  120.0 fps!\n",
      "Overall # of frames:  2186  found with (before cropping) frame dimensions:  640 480\n",
      "Starting to extract posture\n"
     ]
    },
    {
     "name": "stderr",
     "output_type": "stream",
     "text": [
      "100%|██████████| 2186/2186 [07:52<00:00,  4.63it/s]\n"
     ]
    },
    {
     "name": "stdout",
     "output_type": "stream",
     "text": [
      "Saving results in c:\\Users\\rober\\Desktop\\Monkey-Emotions\\video\\gandalf_231205...\n",
      "Saving csv poses!\n",
      "Starting to analyze %  c:\\Users\\rober\\Desktop\\Monkey-Emotions\\video\\gandalf_231205\\gandalf_231205_25_e3v8360.mp4\n",
      "Loading  c:\\Users\\rober\\Desktop\\Monkey-Emotions\\video\\gandalf_231205\\gandalf_231205_25_e3v8360.mp4\n",
      "Duration of video [s]:  13.04 , recorded with  120.0 fps!\n",
      "Overall # of frames:  1565  found with (before cropping) frame dimensions:  640 480\n",
      "Starting to extract posture\n"
     ]
    },
    {
     "name": "stderr",
     "output_type": "stream",
     "text": [
      "100%|██████████| 1565/1565 [05:37<00:00,  4.64it/s]\n"
     ]
    },
    {
     "name": "stdout",
     "output_type": "stream",
     "text": [
      "Saving results in c:\\Users\\rober\\Desktop\\Monkey-Emotions\\video\\gandalf_231205...\n",
      "Saving csv poses!\n",
      "Starting to analyze %  c:\\Users\\rober\\Desktop\\Monkey-Emotions\\video\\gandalf_231205\\gandalf_231205_26_e3v8360.mp4\n",
      "Loading  c:\\Users\\rober\\Desktop\\Monkey-Emotions\\video\\gandalf_231205\\gandalf_231205_26_e3v8360.mp4\n",
      "Duration of video [s]:  12.77 , recorded with  120.0 fps!\n",
      "Overall # of frames:  1532  found with (before cropping) frame dimensions:  640 480\n",
      "Starting to extract posture\n"
     ]
    },
    {
     "name": "stderr",
     "output_type": "stream",
     "text": [
      "100%|██████████| 1532/1532 [05:30<00:00,  4.64it/s]\n"
     ]
    },
    {
     "name": "stdout",
     "output_type": "stream",
     "text": [
      "Saving results in c:\\Users\\rober\\Desktop\\Monkey-Emotions\\video\\gandalf_231205...\n",
      "Saving csv poses!\n",
      "Starting to analyze %  c:\\Users\\rober\\Desktop\\Monkey-Emotions\\video\\gandalf_231205\\gandalf_231205_27_e3v8360.mp4\n",
      "Loading  c:\\Users\\rober\\Desktop\\Monkey-Emotions\\video\\gandalf_231205\\gandalf_231205_27_e3v8360.mp4\n",
      "Duration of video [s]:  15.04 , recorded with  120.0 fps!\n",
      "Overall # of frames:  1805  found with (before cropping) frame dimensions:  640 480\n",
      "Starting to extract posture\n"
     ]
    },
    {
     "name": "stderr",
     "output_type": "stream",
     "text": [
      "100%|██████████| 1805/1805 [06:28<00:00,  4.65it/s]\n"
     ]
    },
    {
     "name": "stdout",
     "output_type": "stream",
     "text": [
      "Saving results in c:\\Users\\rober\\Desktop\\Monkey-Emotions\\video\\gandalf_231205...\n",
      "Saving csv poses!\n",
      "Starting to analyze %  c:\\Users\\rober\\Desktop\\Monkey-Emotions\\video\\gandalf_231205\\gandalf_231205_28_e3v8360.mp4\n",
      "Loading  c:\\Users\\rober\\Desktop\\Monkey-Emotions\\video\\gandalf_231205\\gandalf_231205_28_e3v8360.mp4\n",
      "Duration of video [s]:  12.39 , recorded with  120.0 fps!\n",
      "Overall # of frames:  1487  found with (before cropping) frame dimensions:  640 480\n",
      "Starting to extract posture\n"
     ]
    },
    {
     "name": "stderr",
     "output_type": "stream",
     "text": [
      "100%|██████████| 1487/1487 [05:20<00:00,  4.64it/s]\n"
     ]
    },
    {
     "name": "stdout",
     "output_type": "stream",
     "text": [
      "Saving results in c:\\Users\\rober\\Desktop\\Monkey-Emotions\\video\\gandalf_231205...\n",
      "Saving csv poses!\n",
      "Starting to analyze %  c:\\Users\\rober\\Desktop\\Monkey-Emotions\\video\\gandalf_231205\\gandalf_231205_29_e3v8360.mp4\n",
      "Loading  c:\\Users\\rober\\Desktop\\Monkey-Emotions\\video\\gandalf_231205\\gandalf_231205_29_e3v8360.mp4\n",
      "Duration of video [s]:  13.38 , recorded with  120.0 fps!\n",
      "Overall # of frames:  1606  found with (before cropping) frame dimensions:  640 480\n",
      "Starting to extract posture\n"
     ]
    },
    {
     "name": "stderr",
     "output_type": "stream",
     "text": [
      "100%|██████████| 1606/1606 [05:45<00:00,  4.65it/s]\n"
     ]
    },
    {
     "name": "stdout",
     "output_type": "stream",
     "text": [
      "Saving results in c:\\Users\\rober\\Desktop\\Monkey-Emotions\\video\\gandalf_231205...\n",
      "Saving csv poses!\n",
      "Starting to analyze %  c:\\Users\\rober\\Desktop\\Monkey-Emotions\\video\\gandalf_231205\\gandalf_231205_30_e3v8360.mp4\n",
      "Loading  c:\\Users\\rober\\Desktop\\Monkey-Emotions\\video\\gandalf_231205\\gandalf_231205_30_e3v8360.mp4\n",
      "Duration of video [s]:  16.61 , recorded with  120.0 fps!\n",
      "Overall # of frames:  1993  found with (before cropping) frame dimensions:  640 480\n",
      "Starting to extract posture\n"
     ]
    },
    {
     "name": "stderr",
     "output_type": "stream",
     "text": [
      "100%|██████████| 1993/1993 [07:09<00:00,  4.64it/s]\n"
     ]
    },
    {
     "name": "stdout",
     "output_type": "stream",
     "text": [
      "Saving results in c:\\Users\\rober\\Desktop\\Monkey-Emotions\\video\\gandalf_231205...\n",
      "Saving csv poses!\n",
      "Starting to analyze %  c:\\Users\\rober\\Desktop\\Monkey-Emotions\\video\\gandalf_231205\\gandalf_231205_31_e3v8360.mp4\n",
      "Loading  c:\\Users\\rober\\Desktop\\Monkey-Emotions\\video\\gandalf_231205\\gandalf_231205_31_e3v8360.mp4\n",
      "Duration of video [s]:  16.1 , recorded with  120.0 fps!\n",
      "Overall # of frames:  1932  found with (before cropping) frame dimensions:  640 480\n",
      "Starting to extract posture\n"
     ]
    },
    {
     "name": "stderr",
     "output_type": "stream",
     "text": [
      "100%|██████████| 1932/1932 [06:54<00:00,  4.66it/s]\n"
     ]
    },
    {
     "name": "stdout",
     "output_type": "stream",
     "text": [
      "Saving results in c:\\Users\\rober\\Desktop\\Monkey-Emotions\\video\\gandalf_231205...\n",
      "Saving csv poses!\n",
      "Starting to analyze %  c:\\Users\\rober\\Desktop\\Monkey-Emotions\\video\\gandalf_231205\\gandalf_231205_32_e3v8360.mp4\n",
      "Loading  c:\\Users\\rober\\Desktop\\Monkey-Emotions\\video\\gandalf_231205\\gandalf_231205_32_e3v8360.mp4\n",
      "Duration of video [s]:  12.22 , recorded with  120.0 fps!\n",
      "Overall # of frames:  1467  found with (before cropping) frame dimensions:  640 480\n",
      "Starting to extract posture\n"
     ]
    },
    {
     "name": "stderr",
     "output_type": "stream",
     "text": [
      "100%|██████████| 1467/1467 [05:16<00:00,  4.64it/s]\n"
     ]
    },
    {
     "name": "stdout",
     "output_type": "stream",
     "text": [
      "Saving results in c:\\Users\\rober\\Desktop\\Monkey-Emotions\\video\\gandalf_231205...\n",
      "Saving csv poses!\n",
      "Starting to analyze %  c:\\Users\\rober\\Desktop\\Monkey-Emotions\\video\\gandalf_231205\\gandalf_231205_33_e3v8360.mp4\n",
      "Loading  c:\\Users\\rober\\Desktop\\Monkey-Emotions\\video\\gandalf_231205\\gandalf_231205_33_e3v8360.mp4\n",
      "Duration of video [s]:  14.82 , recorded with  120.0 fps!\n",
      "Overall # of frames:  1778  found with (before cropping) frame dimensions:  640 480\n",
      "Starting to extract posture\n"
     ]
    },
    {
     "name": "stderr",
     "output_type": "stream",
     "text": [
      "100%|██████████| 1778/1778 [06:24<00:00,  4.63it/s]\n"
     ]
    },
    {
     "name": "stdout",
     "output_type": "stream",
     "text": [
      "Saving results in c:\\Users\\rober\\Desktop\\Monkey-Emotions\\video\\gandalf_231205...\n",
      "Saving csv poses!\n",
      "Starting to analyze %  c:\\Users\\rober\\Desktop\\Monkey-Emotions\\video\\gandalf_231205\\gandalf_231205_34_e3v8360.mp4\n",
      "Loading  c:\\Users\\rober\\Desktop\\Monkey-Emotions\\video\\gandalf_231205\\gandalf_231205_34_e3v8360.mp4\n",
      "Duration of video [s]:  18.98 , recorded with  120.0 fps!\n",
      "Overall # of frames:  2277  found with (before cropping) frame dimensions:  640 480\n",
      "Starting to extract posture\n"
     ]
    },
    {
     "name": "stderr",
     "output_type": "stream",
     "text": [
      "100%|██████████| 2277/2277 [08:10<00:00,  4.65it/s]\n"
     ]
    },
    {
     "name": "stdout",
     "output_type": "stream",
     "text": [
      "Saving results in c:\\Users\\rober\\Desktop\\Monkey-Emotions\\video\\gandalf_231205...\n",
      "Saving csv poses!\n",
      "Starting to analyze %  c:\\Users\\rober\\Desktop\\Monkey-Emotions\\video\\gandalf_231205\\gandalf_231205_35_e3v8360.mp4\n",
      "Loading  c:\\Users\\rober\\Desktop\\Monkey-Emotions\\video\\gandalf_231205\\gandalf_231205_35_e3v8360.mp4\n",
      "Duration of video [s]:  10.13 , recorded with  120.0 fps!\n",
      "Overall # of frames:  1216  found with (before cropping) frame dimensions:  640 480\n",
      "Starting to extract posture\n"
     ]
    },
    {
     "name": "stderr",
     "output_type": "stream",
     "text": [
      "100%|██████████| 1216/1216 [04:22<00:00,  4.63it/s]\n"
     ]
    },
    {
     "name": "stdout",
     "output_type": "stream",
     "text": [
      "Saving results in c:\\Users\\rober\\Desktop\\Monkey-Emotions\\video\\gandalf_231205...\n",
      "Saving csv poses!\n",
      "Starting to analyze %  c:\\Users\\rober\\Desktop\\Monkey-Emotions\\video\\gandalf_231205\\gandalf_231205_36_e3v8360.mp4\n",
      "Loading  c:\\Users\\rober\\Desktop\\Monkey-Emotions\\video\\gandalf_231205\\gandalf_231205_36_e3v8360.mp4\n",
      "Duration of video [s]:  12.55 , recorded with  120.0 fps!\n",
      "Overall # of frames:  1506  found with (before cropping) frame dimensions:  640 480\n",
      "Starting to extract posture\n"
     ]
    },
    {
     "name": "stderr",
     "output_type": "stream",
     "text": [
      "100%|██████████| 1506/1506 [05:29<00:00,  4.57it/s]\n"
     ]
    },
    {
     "name": "stdout",
     "output_type": "stream",
     "text": [
      "Saving results in c:\\Users\\rober\\Desktop\\Monkey-Emotions\\video\\gandalf_231205...\n",
      "Saving csv poses!\n",
      "Starting to analyze %  c:\\Users\\rober\\Desktop\\Monkey-Emotions\\video\\gandalf_231205\\gandalf_231205_37_e3v8360.mp4\n",
      "Loading  c:\\Users\\rober\\Desktop\\Monkey-Emotions\\video\\gandalf_231205\\gandalf_231205_37_e3v8360.mp4\n",
      "Duration of video [s]:  17.94 , recorded with  120.0 fps!\n",
      "Overall # of frames:  2153  found with (before cropping) frame dimensions:  640 480\n",
      "Starting to extract posture\n"
     ]
    },
    {
     "name": "stderr",
     "output_type": "stream",
     "text": [
      "100%|██████████| 2153/2153 [07:54<00:00,  4.54it/s]\n"
     ]
    },
    {
     "name": "stdout",
     "output_type": "stream",
     "text": [
      "Saving results in c:\\Users\\rober\\Desktop\\Monkey-Emotions\\video\\gandalf_231205...\n",
      "Saving csv poses!\n",
      "Starting to analyze %  c:\\Users\\rober\\Desktop\\Monkey-Emotions\\video\\gandalf_231205\\gandalf_231205_38_e3v8360.mp4\n",
      "Loading  c:\\Users\\rober\\Desktop\\Monkey-Emotions\\video\\gandalf_231205\\gandalf_231205_38_e3v8360.mp4\n",
      "Duration of video [s]:  17.37 , recorded with  120.0 fps!\n",
      "Overall # of frames:  2084  found with (before cropping) frame dimensions:  640 480\n",
      "Starting to extract posture\n"
     ]
    },
    {
     "name": "stderr",
     "output_type": "stream",
     "text": [
      "100%|██████████| 2084/2084 [07:24<00:00,  4.68it/s]\n"
     ]
    },
    {
     "name": "stdout",
     "output_type": "stream",
     "text": [
      "Saving results in c:\\Users\\rober\\Desktop\\Monkey-Emotions\\video\\gandalf_231205...\n",
      "Saving csv poses!\n",
      "Starting to analyze %  c:\\Users\\rober\\Desktop\\Monkey-Emotions\\video\\gandalf_231205\\gandalf_231205_39_e3v8360.mp4\n",
      "Loading  c:\\Users\\rober\\Desktop\\Monkey-Emotions\\video\\gandalf_231205\\gandalf_231205_39_e3v8360.mp4\n",
      "Duration of video [s]:  14.71 , recorded with  120.0 fps!\n",
      "Overall # of frames:  1765  found with (before cropping) frame dimensions:  640 480\n",
      "Starting to extract posture\n"
     ]
    },
    {
     "name": "stderr",
     "output_type": "stream",
     "text": [
      "100%|██████████| 1765/1765 [07:01<00:00,  4.18it/s]\n"
     ]
    },
    {
     "name": "stdout",
     "output_type": "stream",
     "text": [
      "Saving results in c:\\Users\\rober\\Desktop\\Monkey-Emotions\\video\\gandalf_231205...\n",
      "Saving csv poses!\n",
      "Starting to analyze %  c:\\Users\\rober\\Desktop\\Monkey-Emotions\\video\\gandalf_231205\\gandalf_231205_40_e3v8360.mp4\n",
      "Loading  c:\\Users\\rober\\Desktop\\Monkey-Emotions\\video\\gandalf_231205\\gandalf_231205_40_e3v8360.mp4\n",
      "Duration of video [s]:  11.6 , recorded with  120.0 fps!\n",
      "Overall # of frames:  1392  found with (before cropping) frame dimensions:  640 480\n",
      "Starting to extract posture\n"
     ]
    },
    {
     "name": "stderr",
     "output_type": "stream",
     "text": [
      "100%|██████████| 1392/1392 [05:42<00:00,  4.07it/s]\n"
     ]
    },
    {
     "name": "stdout",
     "output_type": "stream",
     "text": [
      "Saving results in c:\\Users\\rober\\Desktop\\Monkey-Emotions\\video\\gandalf_231205...\n",
      "Saving csv poses!\n",
      "Starting to analyze %  c:\\Users\\rober\\Desktop\\Monkey-Emotions\\video\\gandalf_231205\\gandalf_231205_41_e3v8360.mp4\n",
      "Loading  c:\\Users\\rober\\Desktop\\Monkey-Emotions\\video\\gandalf_231205\\gandalf_231205_41_e3v8360.mp4\n",
      "Duration of video [s]:  45.07 , recorded with  120.0 fps!\n",
      "Overall # of frames:  5408  found with (before cropping) frame dimensions:  640 480\n",
      "Starting to extract posture\n"
     ]
    },
    {
     "name": "stderr",
     "output_type": "stream",
     "text": [
      "100%|██████████| 5408/5408 [22:06<00:00,  4.08it/s]\n"
     ]
    },
    {
     "name": "stdout",
     "output_type": "stream",
     "text": [
      "Saving results in c:\\Users\\rober\\Desktop\\Monkey-Emotions\\video\\gandalf_231205...\n",
      "Saving csv poses!\n",
      "Starting to analyze %  c:\\Users\\rober\\Desktop\\Monkey-Emotions\\video\\gandalf_231205\\gandalf_231205_42_e3v8360.mp4\n",
      "Loading  c:\\Users\\rober\\Desktop\\Monkey-Emotions\\video\\gandalf_231205\\gandalf_231205_42_e3v8360.mp4\n",
      "Duration of video [s]:  17.65 , recorded with  120.0 fps!\n",
      "Overall # of frames:  2118  found with (before cropping) frame dimensions:  640 480\n",
      "Starting to extract posture\n"
     ]
    },
    {
     "name": "stderr",
     "output_type": "stream",
     "text": [
      "100%|██████████| 2118/2118 [08:38<00:00,  4.08it/s]\n"
     ]
    },
    {
     "name": "stdout",
     "output_type": "stream",
     "text": [
      "Saving results in c:\\Users\\rober\\Desktop\\Monkey-Emotions\\video\\gandalf_231205...\n",
      "Saving csv poses!\n",
      "Starting to analyze %  c:\\Users\\rober\\Desktop\\Monkey-Emotions\\video\\gandalf_231205\\gandalf_231205_43_e3v8360.mp4\n",
      "Loading  c:\\Users\\rober\\Desktop\\Monkey-Emotions\\video\\gandalf_231205\\gandalf_231205_43_e3v8360.mp4\n",
      "Duration of video [s]:  15.41 , recorded with  120.0 fps!\n",
      "Overall # of frames:  1849  found with (before cropping) frame dimensions:  640 480\n",
      "Starting to extract posture\n"
     ]
    },
    {
     "name": "stderr",
     "output_type": "stream",
     "text": [
      "100%|██████████| 1849/1849 [07:34<00:00,  4.07it/s]\n"
     ]
    },
    {
     "name": "stdout",
     "output_type": "stream",
     "text": [
      "Saving results in c:\\Users\\rober\\Desktop\\Monkey-Emotions\\video\\gandalf_231205...\n",
      "Saving csv poses!\n",
      "Starting to analyze %  c:\\Users\\rober\\Desktop\\Monkey-Emotions\\video\\gandalf_231205\\gandalf_231205_44_e3v8360.mp4\n",
      "Loading  c:\\Users\\rober\\Desktop\\Monkey-Emotions\\video\\gandalf_231205\\gandalf_231205_44_e3v8360.mp4\n",
      "Duration of video [s]:  15.68 , recorded with  120.0 fps!\n",
      "Overall # of frames:  1882  found with (before cropping) frame dimensions:  640 480\n",
      "Starting to extract posture\n"
     ]
    },
    {
     "name": "stderr",
     "output_type": "stream",
     "text": [
      "100%|██████████| 1882/1882 [07:42<00:00,  4.07it/s]\n"
     ]
    },
    {
     "name": "stdout",
     "output_type": "stream",
     "text": [
      "Saving results in c:\\Users\\rober\\Desktop\\Monkey-Emotions\\video\\gandalf_231205...\n",
      "Saving csv poses!\n",
      "Starting to analyze %  c:\\Users\\rober\\Desktop\\Monkey-Emotions\\video\\gandalf_231205\\gandalf_231205_45_e3v8360.mp4\n",
      "Loading  c:\\Users\\rober\\Desktop\\Monkey-Emotions\\video\\gandalf_231205\\gandalf_231205_45_e3v8360.mp4\n",
      "Duration of video [s]:  17.57 , recorded with  120.0 fps!\n",
      "Overall # of frames:  2109  found with (before cropping) frame dimensions:  640 480\n",
      "Starting to extract posture\n"
     ]
    },
    {
     "name": "stderr",
     "output_type": "stream",
     "text": [
      "100%|██████████| 2109/2109 [08:37<00:00,  4.08it/s]\n"
     ]
    },
    {
     "name": "stdout",
     "output_type": "stream",
     "text": [
      "Saving results in c:\\Users\\rober\\Desktop\\Monkey-Emotions\\video\\gandalf_231205...\n",
      "Saving csv poses!\n",
      "Starting to analyze %  c:\\Users\\rober\\Desktop\\Monkey-Emotions\\video\\gandalf_231205\\gandalf_231205_46_e3v8360.mp4\n",
      "Loading  c:\\Users\\rober\\Desktop\\Monkey-Emotions\\video\\gandalf_231205\\gandalf_231205_46_e3v8360.mp4\n",
      "Duration of video [s]:  16.04 , recorded with  120.0 fps!\n",
      "Overall # of frames:  1925  found with (before cropping) frame dimensions:  640 480\n",
      "Starting to extract posture\n"
     ]
    },
    {
     "name": "stderr",
     "output_type": "stream",
     "text": [
      "100%|██████████| 1925/1925 [07:52<00:00,  4.07it/s]\n"
     ]
    },
    {
     "name": "stdout",
     "output_type": "stream",
     "text": [
      "Saving results in c:\\Users\\rober\\Desktop\\Monkey-Emotions\\video\\gandalf_231205...\n",
      "Saving csv poses!\n",
      "Starting to analyze %  c:\\Users\\rober\\Desktop\\Monkey-Emotions\\video\\gandalf_231205\\gandalf_231205_47_e3v8360.mp4\n",
      "Loading  c:\\Users\\rober\\Desktop\\Monkey-Emotions\\video\\gandalf_231205\\gandalf_231205_47_e3v8360.mp4\n",
      "Duration of video [s]:  16.45 , recorded with  120.0 fps!\n",
      "Overall # of frames:  1974  found with (before cropping) frame dimensions:  640 480\n",
      "Starting to extract posture\n"
     ]
    },
    {
     "name": "stderr",
     "output_type": "stream",
     "text": [
      "100%|██████████| 1974/1974 [07:59<00:00,  4.11it/s]\n"
     ]
    },
    {
     "name": "stdout",
     "output_type": "stream",
     "text": [
      "Saving results in c:\\Users\\rober\\Desktop\\Monkey-Emotions\\video\\gandalf_231205...\n",
      "Saving csv poses!\n",
      "Starting to analyze %  c:\\Users\\rober\\Desktop\\Monkey-Emotions\\video\\gandalf_231205\\gandalf_231205_48_e3v8360.mp4\n",
      "Loading  c:\\Users\\rober\\Desktop\\Monkey-Emotions\\video\\gandalf_231205\\gandalf_231205_48_e3v8360.mp4\n",
      "Duration of video [s]:  15.71 , recorded with  120.0 fps!\n",
      "Overall # of frames:  1885  found with (before cropping) frame dimensions:  640 480\n",
      "Starting to extract posture\n"
     ]
    },
    {
     "name": "stderr",
     "output_type": "stream",
     "text": [
      "100%|██████████| 1885/1885 [07:40<00:00,  4.09it/s]\n"
     ]
    },
    {
     "name": "stdout",
     "output_type": "stream",
     "text": [
      "Saving results in c:\\Users\\rober\\Desktop\\Monkey-Emotions\\video\\gandalf_231205...\n",
      "Saving csv poses!\n",
      "Starting to analyze %  c:\\Users\\rober\\Desktop\\Monkey-Emotions\\video\\gandalf_231205\\gandalf_231205_49_e3v8360.mp4\n",
      "Loading  c:\\Users\\rober\\Desktop\\Monkey-Emotions\\video\\gandalf_231205\\gandalf_231205_49_e3v8360.mp4\n",
      "Duration of video [s]:  15.36 , recorded with  120.0 fps!\n",
      "Overall # of frames:  1843  found with (before cropping) frame dimensions:  640 480\n",
      "Starting to extract posture\n"
     ]
    },
    {
     "name": "stderr",
     "output_type": "stream",
     "text": [
      "100%|██████████| 1843/1843 [07:29<00:00,  4.10it/s]\n"
     ]
    },
    {
     "name": "stdout",
     "output_type": "stream",
     "text": [
      "Saving results in c:\\Users\\rober\\Desktop\\Monkey-Emotions\\video\\gandalf_231205...\n",
      "Saving csv poses!\n",
      "Starting to analyze %  c:\\Users\\rober\\Desktop\\Monkey-Emotions\\video\\gandalf_231205\\gandalf_231205_50_e3v8360.mp4\n",
      "Loading  c:\\Users\\rober\\Desktop\\Monkey-Emotions\\video\\gandalf_231205\\gandalf_231205_50_e3v8360.mp4\n",
      "Duration of video [s]:  16.27 , recorded with  120.0 fps!\n",
      "Overall # of frames:  1953  found with (before cropping) frame dimensions:  640 480\n",
      "Starting to extract posture\n"
     ]
    },
    {
     "name": "stderr",
     "output_type": "stream",
     "text": [
      "100%|██████████| 1953/1953 [07:56<00:00,  4.10it/s]\n"
     ]
    },
    {
     "name": "stdout",
     "output_type": "stream",
     "text": [
      "Saving results in c:\\Users\\rober\\Desktop\\Monkey-Emotions\\video\\gandalf_231205...\n",
      "Saving csv poses!\n",
      "Starting to analyze %  c:\\Users\\rober\\Desktop\\Monkey-Emotions\\video\\gandalf_231205\\gandalf_231205_51_e3v8360.mp4\n",
      "Loading  c:\\Users\\rober\\Desktop\\Monkey-Emotions\\video\\gandalf_231205\\gandalf_231205_51_e3v8360.mp4\n",
      "Duration of video [s]:  14.18 , recorded with  120.0 fps!\n",
      "Overall # of frames:  1702  found with (before cropping) frame dimensions:  640 480\n",
      "Starting to extract posture\n"
     ]
    },
    {
     "name": "stderr",
     "output_type": "stream",
     "text": [
      "100%|██████████| 1702/1702 [06:54<00:00,  4.11it/s]\n"
     ]
    },
    {
     "name": "stdout",
     "output_type": "stream",
     "text": [
      "Saving results in c:\\Users\\rober\\Desktop\\Monkey-Emotions\\video\\gandalf_231205...\n",
      "Saving csv poses!\n",
      "Starting to analyze %  c:\\Users\\rober\\Desktop\\Monkey-Emotions\\video\\gandalf_231205\\gandalf_231205_52_e3v8360.mp4\n",
      "Loading  c:\\Users\\rober\\Desktop\\Monkey-Emotions\\video\\gandalf_231205\\gandalf_231205_52_e3v8360.mp4\n",
      "Duration of video [s]:  12.0 , recorded with  120.0 fps!\n",
      "Overall # of frames:  1440  found with (before cropping) frame dimensions:  640 480\n",
      "Starting to extract posture\n"
     ]
    },
    {
     "name": "stderr",
     "output_type": "stream",
     "text": [
      "100%|██████████| 1440/1440 [05:49<00:00,  4.12it/s]\n"
     ]
    },
    {
     "name": "stdout",
     "output_type": "stream",
     "text": [
      "Saving results in c:\\Users\\rober\\Desktop\\Monkey-Emotions\\video\\gandalf_231205...\n",
      "Saving csv poses!\n",
      "Starting to analyze %  c:\\Users\\rober\\Desktop\\Monkey-Emotions\\video\\gandalf_231205\\gandalf_231205_53_e3v8360.mp4\n",
      "Loading  c:\\Users\\rober\\Desktop\\Monkey-Emotions\\video\\gandalf_231205\\gandalf_231205_53_e3v8360.mp4\n",
      "Duration of video [s]:  15.91 , recorded with  120.0 fps!\n",
      "Overall # of frames:  1909  found with (before cropping) frame dimensions:  640 480\n",
      "Starting to extract posture\n"
     ]
    },
    {
     "name": "stderr",
     "output_type": "stream",
     "text": [
      "100%|██████████| 1909/1909 [07:43<00:00,  4.12it/s]\n"
     ]
    },
    {
     "name": "stdout",
     "output_type": "stream",
     "text": [
      "Saving results in c:\\Users\\rober\\Desktop\\Monkey-Emotions\\video\\gandalf_231205...\n",
      "Saving csv poses!\n",
      "Starting to analyze %  c:\\Users\\rober\\Desktop\\Monkey-Emotions\\video\\gandalf_231205\\gandalf_231205_54_e3v8360.mp4\n",
      "Loading  c:\\Users\\rober\\Desktop\\Monkey-Emotions\\video\\gandalf_231205\\gandalf_231205_54_e3v8360.mp4\n",
      "Duration of video [s]:  14.89 , recorded with  120.0 fps!\n",
      "Overall # of frames:  1787  found with (before cropping) frame dimensions:  640 480\n",
      "Starting to extract posture\n"
     ]
    },
    {
     "name": "stderr",
     "output_type": "stream",
     "text": [
      "100%|██████████| 1787/1787 [07:10<00:00,  4.15it/s]\n"
     ]
    },
    {
     "name": "stdout",
     "output_type": "stream",
     "text": [
      "Saving results in c:\\Users\\rober\\Desktop\\Monkey-Emotions\\video\\gandalf_231205...\n",
      "Saving csv poses!\n",
      "Starting to analyze %  c:\\Users\\rober\\Desktop\\Monkey-Emotions\\video\\gandalf_231205\\gandalf_231205_55_e3v8360.mp4\n",
      "Loading  c:\\Users\\rober\\Desktop\\Monkey-Emotions\\video\\gandalf_231205\\gandalf_231205_55_e3v8360.mp4\n",
      "Duration of video [s]:  10.08 , recorded with  120.0 fps!\n",
      "Overall # of frames:  1210  found with (before cropping) frame dimensions:  640 480\n",
      "Starting to extract posture\n"
     ]
    },
    {
     "name": "stderr",
     "output_type": "stream",
     "text": [
      "100%|██████████| 1210/1210 [04:51<00:00,  4.15it/s]\n"
     ]
    },
    {
     "name": "stdout",
     "output_type": "stream",
     "text": [
      "Saving results in c:\\Users\\rober\\Desktop\\Monkey-Emotions\\video\\gandalf_231205...\n",
      "Saving csv poses!\n",
      "Starting to analyze %  c:\\Users\\rober\\Desktop\\Monkey-Emotions\\video\\gandalf_231205\\gandalf_231205_56_e3v8360.mp4\n",
      "Loading  c:\\Users\\rober\\Desktop\\Monkey-Emotions\\video\\gandalf_231205\\gandalf_231205_56_e3v8360.mp4\n",
      "Duration of video [s]:  16.57 , recorded with  120.0 fps!\n",
      "Overall # of frames:  1988  found with (before cropping) frame dimensions:  640 480\n",
      "Starting to extract posture\n"
     ]
    },
    {
     "name": "stderr",
     "output_type": "stream",
     "text": [
      "100%|██████████| 1988/1988 [07:57<00:00,  4.16it/s]\n"
     ]
    },
    {
     "name": "stdout",
     "output_type": "stream",
     "text": [
      "Saving results in c:\\Users\\rober\\Desktop\\Monkey-Emotions\\video\\gandalf_231205...\n",
      "Saving csv poses!\n",
      "Starting to analyze %  c:\\Users\\rober\\Desktop\\Monkey-Emotions\\video\\gandalf_231205\\gandalf_231205_57_e3v8360.mp4\n",
      "Loading  c:\\Users\\rober\\Desktop\\Monkey-Emotions\\video\\gandalf_231205\\gandalf_231205_57_e3v8360.mp4\n",
      "Duration of video [s]:  16.41 , recorded with  120.0 fps!\n",
      "Overall # of frames:  1969  found with (before cropping) frame dimensions:  640 480\n",
      "Starting to extract posture\n"
     ]
    },
    {
     "name": "stderr",
     "output_type": "stream",
     "text": [
      "100%|██████████| 1969/1969 [07:54<00:00,  4.15it/s]\n"
     ]
    },
    {
     "name": "stdout",
     "output_type": "stream",
     "text": [
      "Saving results in c:\\Users\\rober\\Desktop\\Monkey-Emotions\\video\\gandalf_231205...\n",
      "Saving csv poses!\n",
      "Starting to analyze %  c:\\Users\\rober\\Desktop\\Monkey-Emotions\\video\\gandalf_231205\\gandalf_231205_58_e3v8360.mp4\n",
      "Loading  c:\\Users\\rober\\Desktop\\Monkey-Emotions\\video\\gandalf_231205\\gandalf_231205_58_e3v8360.mp4\n",
      "Duration of video [s]:  18.24 , recorded with  120.0 fps!\n",
      "Overall # of frames:  2189  found with (before cropping) frame dimensions:  640 480\n",
      "Starting to extract posture\n"
     ]
    },
    {
     "name": "stderr",
     "output_type": "stream",
     "text": [
      "100%|██████████| 2189/2189 [08:47<00:00,  4.15it/s]\n"
     ]
    },
    {
     "name": "stdout",
     "output_type": "stream",
     "text": [
      "Saving results in c:\\Users\\rober\\Desktop\\Monkey-Emotions\\video\\gandalf_231205...\n",
      "Saving csv poses!\n",
      "Starting to analyze %  c:\\Users\\rober\\Desktop\\Monkey-Emotions\\video\\gandalf_231205\\gandalf_231205_59_e3v8360.mp4\n",
      "Loading  c:\\Users\\rober\\Desktop\\Monkey-Emotions\\video\\gandalf_231205\\gandalf_231205_59_e3v8360.mp4\n",
      "Duration of video [s]:  10.48 , recorded with  120.0 fps!\n",
      "Overall # of frames:  1258  found with (before cropping) frame dimensions:  640 480\n",
      "Starting to extract posture\n"
     ]
    },
    {
     "name": "stderr",
     "output_type": "stream",
     "text": [
      "100%|██████████| 1258/1258 [05:06<00:00,  4.11it/s]\n"
     ]
    },
    {
     "name": "stdout",
     "output_type": "stream",
     "text": [
      "Saving results in c:\\Users\\rober\\Desktop\\Monkey-Emotions\\video\\gandalf_231205...\n",
      "Saving csv poses!\n",
      "Starting to analyze %  c:\\Users\\rober\\Desktop\\Monkey-Emotions\\video\\gandalf_231205\\gandalf_231205_60_e3v8360.mp4\n",
      "Loading  c:\\Users\\rober\\Desktop\\Monkey-Emotions\\video\\gandalf_231205\\gandalf_231205_60_e3v8360.mp4\n",
      "Duration of video [s]:  20.92 , recorded with  120.0 fps!\n",
      "Overall # of frames:  2510  found with (before cropping) frame dimensions:  640 480\n",
      "Starting to extract posture\n"
     ]
    },
    {
     "name": "stderr",
     "output_type": "stream",
     "text": [
      "100%|██████████| 2510/2510 [10:11<00:00,  4.10it/s]\n"
     ]
    },
    {
     "name": "stdout",
     "output_type": "stream",
     "text": [
      "Saving results in c:\\Users\\rober\\Desktop\\Monkey-Emotions\\video\\gandalf_231205...\n",
      "Saving csv poses!\n",
      "Starting to analyze %  c:\\Users\\rober\\Desktop\\Monkey-Emotions\\video\\gandalf_231205\\gandalf_231205_61_e3v8360.mp4\n",
      "Loading  c:\\Users\\rober\\Desktop\\Monkey-Emotions\\video\\gandalf_231205\\gandalf_231205_61_e3v8360.mp4\n",
      "Duration of video [s]:  14.88 , recorded with  120.0 fps!\n",
      "Overall # of frames:  1786  found with (before cropping) frame dimensions:  640 480\n",
      "Starting to extract posture\n"
     ]
    },
    {
     "name": "stderr",
     "output_type": "stream",
     "text": [
      "100%|██████████| 1786/1786 [07:11<00:00,  4.14it/s]\n"
     ]
    },
    {
     "name": "stdout",
     "output_type": "stream",
     "text": [
      "Saving results in c:\\Users\\rober\\Desktop\\Monkey-Emotions\\video\\gandalf_231205...\n",
      "Saving csv poses!\n",
      "Starting to analyze %  c:\\Users\\rober\\Desktop\\Monkey-Emotions\\video\\gandalf_231205\\gandalf_231205_62_e3v8360.mp4\n",
      "Loading  c:\\Users\\rober\\Desktop\\Monkey-Emotions\\video\\gandalf_231205\\gandalf_231205_62_e3v8360.mp4\n",
      "Duration of video [s]:  19.56 , recorded with  120.0 fps!\n",
      "Overall # of frames:  2347  found with (before cropping) frame dimensions:  640 480\n",
      "Starting to extract posture\n"
     ]
    },
    {
     "name": "stderr",
     "output_type": "stream",
     "text": [
      "100%|██████████| 2347/2347 [09:26<00:00,  4.14it/s]\n"
     ]
    },
    {
     "name": "stdout",
     "output_type": "stream",
     "text": [
      "Saving results in c:\\Users\\rober\\Desktop\\Monkey-Emotions\\video\\gandalf_231205...\n",
      "Saving csv poses!\n",
      "Starting to analyze %  c:\\Users\\rober\\Desktop\\Monkey-Emotions\\video\\gandalf_231205\\gandalf_231205_63_e3v8360.mp4\n",
      "Loading  c:\\Users\\rober\\Desktop\\Monkey-Emotions\\video\\gandalf_231205\\gandalf_231205_63_e3v8360.mp4\n",
      "Duration of video [s]:  14.64 , recorded with  120.0 fps!\n",
      "Overall # of frames:  1757  found with (before cropping) frame dimensions:  640 480\n",
      "Starting to extract posture\n"
     ]
    },
    {
     "name": "stderr",
     "output_type": "stream",
     "text": [
      "100%|██████████| 1757/1757 [07:05<00:00,  4.13it/s]\n"
     ]
    },
    {
     "name": "stdout",
     "output_type": "stream",
     "text": [
      "Saving results in c:\\Users\\rober\\Desktop\\Monkey-Emotions\\video\\gandalf_231205...\n",
      "Saving csv poses!\n",
      "Starting to analyze %  c:\\Users\\rober\\Desktop\\Monkey-Emotions\\video\\gandalf_231205\\gandalf_231205_64_e3v8360.mp4\n",
      "Loading  c:\\Users\\rober\\Desktop\\Monkey-Emotions\\video\\gandalf_231205\\gandalf_231205_64_e3v8360.mp4\n",
      "Duration of video [s]:  19.32 , recorded with  120.0 fps!\n",
      "Overall # of frames:  2318  found with (before cropping) frame dimensions:  640 480\n",
      "Starting to extract posture\n"
     ]
    },
    {
     "name": "stderr",
     "output_type": "stream",
     "text": [
      "100%|██████████| 2318/2318 [09:28<00:00,  4.07it/s]\n"
     ]
    },
    {
     "name": "stdout",
     "output_type": "stream",
     "text": [
      "Saving results in c:\\Users\\rober\\Desktop\\Monkey-Emotions\\video\\gandalf_231205...\n",
      "Saving csv poses!\n",
      "Starting to analyze %  c:\\Users\\rober\\Desktop\\Monkey-Emotions\\video\\gandalf_231205\\gandalf_231205_65_e3v8360.mp4\n",
      "Loading  c:\\Users\\rober\\Desktop\\Monkey-Emotions\\video\\gandalf_231205\\gandalf_231205_65_e3v8360.mp4\n",
      "Duration of video [s]:  17.73 , recorded with  120.0 fps!\n",
      "Overall # of frames:  2127  found with (before cropping) frame dimensions:  640 480\n",
      "Starting to extract posture\n"
     ]
    },
    {
     "name": "stderr",
     "output_type": "stream",
     "text": [
      "100%|██████████| 2127/2127 [08:43<00:00,  4.06it/s]\n"
     ]
    },
    {
     "name": "stdout",
     "output_type": "stream",
     "text": [
      "Saving results in c:\\Users\\rober\\Desktop\\Monkey-Emotions\\video\\gandalf_231205...\n",
      "Saving csv poses!\n",
      "Starting to analyze %  c:\\Users\\rober\\Desktop\\Monkey-Emotions\\video\\gandalf_231205\\gandalf_231205_66_e3v8360.mp4\n",
      "Loading  c:\\Users\\rober\\Desktop\\Monkey-Emotions\\video\\gandalf_231205\\gandalf_231205_66_e3v8360.mp4\n",
      "Duration of video [s]:  11.98 , recorded with  120.0 fps!\n",
      "Overall # of frames:  1438  found with (before cropping) frame dimensions:  640 480\n",
      "Starting to extract posture\n"
     ]
    },
    {
     "name": "stderr",
     "output_type": "stream",
     "text": [
      "100%|██████████| 1438/1438 [05:49<00:00,  4.12it/s]\n"
     ]
    },
    {
     "name": "stdout",
     "output_type": "stream",
     "text": [
      "Saving results in c:\\Users\\rober\\Desktop\\Monkey-Emotions\\video\\gandalf_231205...\n",
      "Saving csv poses!\n",
      "Starting to analyze %  c:\\Users\\rober\\Desktop\\Monkey-Emotions\\video\\gandalf_231205\\gandalf_231205_67_e3v8360.mp4\n",
      "Loading  c:\\Users\\rober\\Desktop\\Monkey-Emotions\\video\\gandalf_231205\\gandalf_231205_67_e3v8360.mp4\n",
      "Duration of video [s]:  16.17 , recorded with  120.0 fps!\n",
      "Overall # of frames:  1940  found with (before cropping) frame dimensions:  640 480\n",
      "Starting to extract posture\n"
     ]
    },
    {
     "name": "stderr",
     "output_type": "stream",
     "text": [
      "100%|██████████| 1940/1940 [07:39<00:00,  4.22it/s]\n"
     ]
    },
    {
     "name": "stdout",
     "output_type": "stream",
     "text": [
      "Saving results in c:\\Users\\rober\\Desktop\\Monkey-Emotions\\video\\gandalf_231205...\n",
      "Saving csv poses!\n",
      "Starting to analyze %  c:\\Users\\rober\\Desktop\\Monkey-Emotions\\video\\gandalf_231205\\gandalf_231205_68_e3v8360.mp4\n",
      "Loading  c:\\Users\\rober\\Desktop\\Monkey-Emotions\\video\\gandalf_231205\\gandalf_231205_68_e3v8360.mp4\n",
      "Duration of video [s]:  11.1 , recorded with  120.0 fps!\n",
      "Overall # of frames:  1332  found with (before cropping) frame dimensions:  640 480\n",
      "Starting to extract posture\n"
     ]
    },
    {
     "name": "stderr",
     "output_type": "stream",
     "text": [
      "100%|██████████| 1332/1332 [05:16<00:00,  4.21it/s]\n"
     ]
    },
    {
     "name": "stdout",
     "output_type": "stream",
     "text": [
      "Saving results in c:\\Users\\rober\\Desktop\\Monkey-Emotions\\video\\gandalf_231205...\n",
      "Saving csv poses!\n",
      "Starting to analyze %  c:\\Users\\rober\\Desktop\\Monkey-Emotions\\video\\gandalf_231205\\gandalf_231205_69_e3v8360.mp4\n",
      "Loading  c:\\Users\\rober\\Desktop\\Monkey-Emotions\\video\\gandalf_231205\\gandalf_231205_69_e3v8360.mp4\n",
      "Duration of video [s]:  16.93 , recorded with  120.0 fps!\n",
      "Overall # of frames:  2031  found with (before cropping) frame dimensions:  640 480\n",
      "Starting to extract posture\n"
     ]
    },
    {
     "name": "stderr",
     "output_type": "stream",
     "text": [
      "100%|██████████| 2031/2031 [08:00<00:00,  4.22it/s]\n"
     ]
    },
    {
     "name": "stdout",
     "output_type": "stream",
     "text": [
      "Saving results in c:\\Users\\rober\\Desktop\\Monkey-Emotions\\video\\gandalf_231205...\n",
      "Saving csv poses!\n",
      "Starting to analyze %  c:\\Users\\rober\\Desktop\\Monkey-Emotions\\video\\gandalf_231205\\gandalf_231205_70_e3v8360.mp4\n",
      "Loading  c:\\Users\\rober\\Desktop\\Monkey-Emotions\\video\\gandalf_231205\\gandalf_231205_70_e3v8360.mp4\n",
      "Duration of video [s]:  15.73 , recorded with  120.0 fps!\n",
      "Overall # of frames:  1888  found with (before cropping) frame dimensions:  640 480\n",
      "Starting to extract posture\n"
     ]
    },
    {
     "name": "stderr",
     "output_type": "stream",
     "text": [
      "100%|██████████| 1888/1888 [07:21<00:00,  4.27it/s]\n"
     ]
    },
    {
     "name": "stdout",
     "output_type": "stream",
     "text": [
      "Saving results in c:\\Users\\rober\\Desktop\\Monkey-Emotions\\video\\gandalf_231205...\n",
      "Saving csv poses!\n",
      "Starting to analyze %  c:\\Users\\rober\\Desktop\\Monkey-Emotions\\video\\gandalf_231205\\gandalf_231205_71_e3v8360.mp4\n",
      "Loading  c:\\Users\\rober\\Desktop\\Monkey-Emotions\\video\\gandalf_231205\\gandalf_231205_71_e3v8360.mp4\n",
      "Duration of video [s]:  51.2 , recorded with  120.0 fps!\n",
      "Overall # of frames:  6144  found with (before cropping) frame dimensions:  640 480\n",
      "Starting to extract posture\n"
     ]
    },
    {
     "name": "stderr",
     "output_type": "stream",
     "text": [
      "100%|██████████| 6144/6144 [24:01<00:00,  4.26it/s]\n"
     ]
    },
    {
     "name": "stdout",
     "output_type": "stream",
     "text": [
      "Saving results in c:\\Users\\rober\\Desktop\\Monkey-Emotions\\video\\gandalf_231205...\n",
      "Saving csv poses!\n",
      "Starting to analyze %  c:\\Users\\rober\\Desktop\\Monkey-Emotions\\video\\gandalf_231205\\gandalf_231205_72_e3v8360.mp4\n",
      "Loading  c:\\Users\\rober\\Desktop\\Monkey-Emotions\\video\\gandalf_231205\\gandalf_231205_72_e3v8360.mp4\n",
      "Duration of video [s]:  27.27 , recorded with  120.0 fps!\n",
      "Overall # of frames:  3272  found with (before cropping) frame dimensions:  640 480\n",
      "Starting to extract posture\n"
     ]
    },
    {
     "name": "stderr",
     "output_type": "stream",
     "text": [
      "100%|██████████| 3272/3272 [12:45<00:00,  4.27it/s]\n"
     ]
    },
    {
     "name": "stdout",
     "output_type": "stream",
     "text": [
      "Saving results in c:\\Users\\rober\\Desktop\\Monkey-Emotions\\video\\gandalf_231205...\n",
      "Saving csv poses!\n",
      "Starting to analyze %  c:\\Users\\rober\\Desktop\\Monkey-Emotions\\video\\gandalf_231205\\gandalf_231205_73_e3v8360.mp4\n",
      "Loading  c:\\Users\\rober\\Desktop\\Monkey-Emotions\\video\\gandalf_231205\\gandalf_231205_73_e3v8360.mp4\n",
      "Duration of video [s]:  14.55 , recorded with  120.0 fps!\n",
      "Overall # of frames:  1746  found with (before cropping) frame dimensions:  640 480\n",
      "Starting to extract posture\n"
     ]
    },
    {
     "name": "stderr",
     "output_type": "stream",
     "text": [
      "100%|██████████| 1746/1746 [06:49<00:00,  4.26it/s]\n"
     ]
    },
    {
     "name": "stdout",
     "output_type": "stream",
     "text": [
      "Saving results in c:\\Users\\rober\\Desktop\\Monkey-Emotions\\video\\gandalf_231205...\n",
      "Saving csv poses!\n",
      "Starting to analyze %  c:\\Users\\rober\\Desktop\\Monkey-Emotions\\video\\gandalf_231205\\gandalf_231205_75_e3v8360.mp4\n",
      "Loading  c:\\Users\\rober\\Desktop\\Monkey-Emotions\\video\\gandalf_231205\\gandalf_231205_75_e3v8360.mp4\n",
      "Duration of video [s]:  12.92 , recorded with  120.0 fps!\n",
      "Overall # of frames:  1550  found with (before cropping) frame dimensions:  640 480\n",
      "Starting to extract posture\n"
     ]
    },
    {
     "name": "stderr",
     "output_type": "stream",
     "text": [
      "100%|██████████| 1550/1550 [06:03<00:00,  4.27it/s]\n"
     ]
    },
    {
     "name": "stdout",
     "output_type": "stream",
     "text": [
      "Saving results in c:\\Users\\rober\\Desktop\\Monkey-Emotions\\video\\gandalf_231205...\n",
      "Saving csv poses!\n",
      "Starting to analyze %  c:\\Users\\rober\\Desktop\\Monkey-Emotions\\video\\gandalf_231205\\gandalf_231205_76_e3v8360.mp4\n",
      "Loading  c:\\Users\\rober\\Desktop\\Monkey-Emotions\\video\\gandalf_231205\\gandalf_231205_76_e3v8360.mp4\n",
      "Duration of video [s]:  16.71 , recorded with  120.0 fps!\n",
      "Overall # of frames:  2005  found with (before cropping) frame dimensions:  640 480\n",
      "Starting to extract posture\n"
     ]
    },
    {
     "name": "stderr",
     "output_type": "stream",
     "text": [
      "100%|██████████| 2005/2005 [07:49<00:00,  4.27it/s]\n"
     ]
    },
    {
     "name": "stdout",
     "output_type": "stream",
     "text": [
      "Saving results in c:\\Users\\rober\\Desktop\\Monkey-Emotions\\video\\gandalf_231205...\n",
      "Saving csv poses!\n",
      "Starting to analyze %  c:\\Users\\rober\\Desktop\\Monkey-Emotions\\video\\gandalf_231205\\gandalf_231205_77_e3v8360.mp4\n",
      "Loading  c:\\Users\\rober\\Desktop\\Monkey-Emotions\\video\\gandalf_231205\\gandalf_231205_77_e3v8360.mp4\n",
      "Duration of video [s]:  17.4 , recorded with  120.0 fps!\n",
      "Overall # of frames:  2088  found with (before cropping) frame dimensions:  640 480\n",
      "Starting to extract posture\n"
     ]
    },
    {
     "name": "stderr",
     "output_type": "stream",
     "text": [
      "100%|██████████| 2088/2088 [08:08<00:00,  4.27it/s]\n"
     ]
    },
    {
     "name": "stdout",
     "output_type": "stream",
     "text": [
      "Saving results in c:\\Users\\rober\\Desktop\\Monkey-Emotions\\video\\gandalf_231205...\n",
      "Saving csv poses!\n",
      "Starting to analyze %  c:\\Users\\rober\\Desktop\\Monkey-Emotions\\video\\gandalf_231205\\gandalf_231205_78_e3v8360.mp4\n",
      "Loading  c:\\Users\\rober\\Desktop\\Monkey-Emotions\\video\\gandalf_231205\\gandalf_231205_78_e3v8360.mp4\n",
      "Duration of video [s]:  18.62 , recorded with  120.0 fps!\n",
      "Overall # of frames:  2234  found with (before cropping) frame dimensions:  640 480\n",
      "Starting to extract posture\n"
     ]
    },
    {
     "name": "stderr",
     "output_type": "stream",
     "text": [
      "100%|██████████| 2234/2234 [08:44<00:00,  4.26it/s]\n"
     ]
    },
    {
     "name": "stdout",
     "output_type": "stream",
     "text": [
      "Saving results in c:\\Users\\rober\\Desktop\\Monkey-Emotions\\video\\gandalf_231205...\n",
      "Saving csv poses!\n",
      "Starting to analyze %  c:\\Users\\rober\\Desktop\\Monkey-Emotions\\video\\gandalf_231205\\gandalf_231205_79_e3v8360.mp4\n",
      "Loading  c:\\Users\\rober\\Desktop\\Monkey-Emotions\\video\\gandalf_231205\\gandalf_231205_79_e3v8360.mp4\n",
      "Duration of video [s]:  11.15 , recorded with  120.0 fps!\n",
      "Overall # of frames:  1338  found with (before cropping) frame dimensions:  640 480\n",
      "Starting to extract posture\n"
     ]
    },
    {
     "name": "stderr",
     "output_type": "stream",
     "text": [
      "100%|██████████| 1338/1338 [05:14<00:00,  4.26it/s]\n"
     ]
    },
    {
     "name": "stdout",
     "output_type": "stream",
     "text": [
      "Saving results in c:\\Users\\rober\\Desktop\\Monkey-Emotions\\video\\gandalf_231205...\n",
      "Saving csv poses!\n",
      "Starting to analyze %  c:\\Users\\rober\\Desktop\\Monkey-Emotions\\video\\gandalf_231205\\gandalf_231205_80_e3v8360.mp4\n",
      "Loading  c:\\Users\\rober\\Desktop\\Monkey-Emotions\\video\\gandalf_231205\\gandalf_231205_80_e3v8360.mp4\n",
      "Duration of video [s]:  9.47 , recorded with  120.0 fps!\n",
      "Overall # of frames:  1136  found with (before cropping) frame dimensions:  640 480\n",
      "Starting to extract posture\n"
     ]
    },
    {
     "name": "stderr",
     "output_type": "stream",
     "text": [
      "100%|██████████| 1136/1136 [04:26<00:00,  4.26it/s]\n"
     ]
    },
    {
     "name": "stdout",
     "output_type": "stream",
     "text": [
      "Saving results in c:\\Users\\rober\\Desktop\\Monkey-Emotions\\video\\gandalf_231205...\n",
      "Saving csv poses!\n",
      "Starting to analyze %  c:\\Users\\rober\\Desktop\\Monkey-Emotions\\video\\gandalf_231205\\gandalf_231205_81_e3v8360.mp4\n",
      "Loading  c:\\Users\\rober\\Desktop\\Monkey-Emotions\\video\\gandalf_231205\\gandalf_231205_81_e3v8360.mp4\n",
      "Duration of video [s]:  14.44 , recorded with  120.0 fps!\n",
      "Overall # of frames:  1733  found with (before cropping) frame dimensions:  640 480\n",
      "Starting to extract posture\n"
     ]
    },
    {
     "name": "stderr",
     "output_type": "stream",
     "text": [
      "100%|██████████| 1733/1733 [06:46<00:00,  4.27it/s]\n"
     ]
    },
    {
     "name": "stdout",
     "output_type": "stream",
     "text": [
      "Saving results in c:\\Users\\rober\\Desktop\\Monkey-Emotions\\video\\gandalf_231205...\n",
      "Saving csv poses!\n",
      "Starting to analyze %  c:\\Users\\rober\\Desktop\\Monkey-Emotions\\video\\gandalf_231205\\gandalf_231205_82_e3v8360.mp4\n",
      "Loading  c:\\Users\\rober\\Desktop\\Monkey-Emotions\\video\\gandalf_231205\\gandalf_231205_82_e3v8360.mp4\n",
      "Duration of video [s]:  15.78 , recorded with  120.0 fps!\n",
      "Overall # of frames:  1893  found with (before cropping) frame dimensions:  640 480\n",
      "Starting to extract posture\n"
     ]
    },
    {
     "name": "stderr",
     "output_type": "stream",
     "text": [
      "100%|██████████| 1893/1893 [07:26<00:00,  4.24it/s]\n"
     ]
    },
    {
     "name": "stdout",
     "output_type": "stream",
     "text": [
      "Saving results in c:\\Users\\rober\\Desktop\\Monkey-Emotions\\video\\gandalf_231205...\n",
      "Saving csv poses!\n",
      "Starting to analyze %  c:\\Users\\rober\\Desktop\\Monkey-Emotions\\video\\gandalf_231205\\gandalf_231205_83_e3v8360.mp4\n",
      "Loading  c:\\Users\\rober\\Desktop\\Monkey-Emotions\\video\\gandalf_231205\\gandalf_231205_83_e3v8360.mp4\n",
      "Duration of video [s]:  14.49 , recorded with  120.0 fps!\n",
      "Overall # of frames:  1739  found with (before cropping) frame dimensions:  640 480\n",
      "Starting to extract posture\n"
     ]
    },
    {
     "name": "stderr",
     "output_type": "stream",
     "text": [
      "100%|██████████| 1739/1739 [06:55<00:00,  4.18it/s]\n"
     ]
    },
    {
     "name": "stdout",
     "output_type": "stream",
     "text": [
      "Saving results in c:\\Users\\rober\\Desktop\\Monkey-Emotions\\video\\gandalf_231205...\n",
      "Saving csv poses!\n",
      "Starting to analyze %  c:\\Users\\rober\\Desktop\\Monkey-Emotions\\video\\gandalf_231205\\gandalf_231205_84_e3v8360.mp4\n",
      "Loading  c:\\Users\\rober\\Desktop\\Monkey-Emotions\\video\\gandalf_231205\\gandalf_231205_84_e3v8360.mp4\n",
      "Duration of video [s]:  15.07 , recorded with  120.0 fps!\n",
      "Overall # of frames:  1809  found with (before cropping) frame dimensions:  640 480\n",
      "Starting to extract posture\n"
     ]
    },
    {
     "name": "stderr",
     "output_type": "stream",
     "text": [
      "100%|██████████| 1809/1809 [07:14<00:00,  4.16it/s]\n"
     ]
    },
    {
     "name": "stdout",
     "output_type": "stream",
     "text": [
      "Saving results in c:\\Users\\rober\\Desktop\\Monkey-Emotions\\video\\gandalf_231205...\n",
      "Saving csv poses!\n",
      "Starting to analyze %  c:\\Users\\rober\\Desktop\\Monkey-Emotions\\video\\gandalf_231205\\gandalf_231205_85_e3v8360.mp4\n",
      "Loading  c:\\Users\\rober\\Desktop\\Monkey-Emotions\\video\\gandalf_231205\\gandalf_231205_85_e3v8360.mp4\n",
      "Duration of video [s]:  18.66 , recorded with  120.0 fps!\n",
      "Overall # of frames:  2239  found with (before cropping) frame dimensions:  640 480\n",
      "Starting to extract posture\n"
     ]
    },
    {
     "name": "stderr",
     "output_type": "stream",
     "text": [
      "100%|██████████| 2239/2239 [08:49<00:00,  4.23it/s]\n"
     ]
    },
    {
     "name": "stdout",
     "output_type": "stream",
     "text": [
      "Saving results in c:\\Users\\rober\\Desktop\\Monkey-Emotions\\video\\gandalf_231205...\n",
      "Saving csv poses!\n",
      "Starting to analyze %  c:\\Users\\rober\\Desktop\\Monkey-Emotions\\video\\gandalf_231205\\gandalf_231205_86_e3v8360.mp4\n",
      "Loading  c:\\Users\\rober\\Desktop\\Monkey-Emotions\\video\\gandalf_231205\\gandalf_231205_86_e3v8360.mp4\n",
      "Duration of video [s]:  14.91 , recorded with  120.0 fps!\n",
      "Overall # of frames:  1789  found with (before cropping) frame dimensions:  640 480\n",
      "Starting to extract posture\n"
     ]
    },
    {
     "name": "stderr",
     "output_type": "stream",
     "text": [
      "100%|██████████| 1789/1789 [07:10<00:00,  4.16it/s]\n"
     ]
    },
    {
     "name": "stdout",
     "output_type": "stream",
     "text": [
      "Saving results in c:\\Users\\rober\\Desktop\\Monkey-Emotions\\video\\gandalf_231205...\n",
      "Saving csv poses!\n",
      "Starting to analyze %  c:\\Users\\rober\\Desktop\\Monkey-Emotions\\video\\gandalf_231205\\gandalf_231205_87_e3v8360.mp4\n",
      "Loading  c:\\Users\\rober\\Desktop\\Monkey-Emotions\\video\\gandalf_231205\\gandalf_231205_87_e3v8360.mp4\n",
      "Duration of video [s]:  21.98 , recorded with  120.0 fps!\n",
      "Overall # of frames:  2637  found with (before cropping) frame dimensions:  640 480\n",
      "Starting to extract posture\n"
     ]
    },
    {
     "name": "stderr",
     "output_type": "stream",
     "text": [
      "100%|██████████| 2637/2637 [10:46<00:00,  4.08it/s]\n"
     ]
    },
    {
     "name": "stdout",
     "output_type": "stream",
     "text": [
      "Saving results in c:\\Users\\rober\\Desktop\\Monkey-Emotions\\video\\gandalf_231205...\n",
      "Saving csv poses!\n",
      "Starting to analyze %  c:\\Users\\rober\\Desktop\\Monkey-Emotions\\video\\gandalf_231205\\gandalf_231205_88_e3v8360.mp4\n",
      "Loading  c:\\Users\\rober\\Desktop\\Monkey-Emotions\\video\\gandalf_231205\\gandalf_231205_88_e3v8360.mp4\n",
      "Duration of video [s]:  14.98 , recorded with  120.0 fps!\n",
      "Overall # of frames:  1798  found with (before cropping) frame dimensions:  640 480\n",
      "Starting to extract posture\n"
     ]
    },
    {
     "name": "stderr",
     "output_type": "stream",
     "text": [
      " 61%|██████    | 1096/1798 [04:35<02:56,  3.98it/s]\n"
     ]
    },
    {
     "name": "stdout",
     "output_type": "stream",
     "text": [
      "Starting to analyze %  c:\\Users\\rober\\Desktop\\Monkey-Emotions\\video\\gandalf_231205\\gandalf_231205_89_e3v8360.mp4\n",
      "Loading  c:\\Users\\rober\\Desktop\\Monkey-Emotions\\video\\gandalf_231205\\gandalf_231205_89_e3v8360.mp4\n",
      "Duration of video [s]:  14.57 , recorded with  120.0 fps!\n",
      "Overall # of frames:  1748  found with (before cropping) frame dimensions:  640 480\n",
      "Starting to extract posture\n"
     ]
    },
    {
     "name": "stderr",
     "output_type": "stream",
     "text": [
      "  2%|▏         | 40/1748 [00:10<07:23,  3.85it/s]"
     ]
    }
   ],
   "source": [
    "# Run DLC\n",
    "dlc_config.dlc_run(config_path_dict, dlc_video_path_dict, \n",
    "                   start_video=0, end_video=None, videotype='mp4')"
   ]
  },
  {
   "cell_type": "markdown",
   "metadata": {},
   "source": [
    "***\n",
    "## Generate MonkeyLogic Behavior Trial Videos"
   ]
  },
  {
   "cell_type": "code",
   "execution_count": 56,
   "metadata": {},
   "outputs": [
    {
     "name": "stdout",
     "output_type": "stream",
     "text": [
      "Generating video for trial 1\n",
      "Generating frames for trial 1 from 0 to 12264\n"
     ]
    },
    {
     "data": {
      "application/vnd.jupyter.widget-view+json": {
       "model_id": "b197b46cdc284a5487713d2099d547a6",
       "version_major": 2,
       "version_minor": 0
      },
      "text/plain": [
       "Trial 1 frame:   0%|          | 0/12264 [00:00<?, ?it/s]"
      ]
     },
     "metadata": {},
     "output_type": "display_data"
    },
    {
     "name": "stdout",
     "output_type": "stream",
     "text": [
      "Deleting existing video: /Users/rahimhashim/Desktop/Monkey-Emotions/video/gandalf_231004/eye_0000.mp4\n",
      "Saving video to: /Users/rahimhashim/Desktop/Monkey-Emotions/video/gandalf_231004/eye_0000.mp4\n"
     ]
    },
    {
     "data": {
      "application/vnd.jupyter.widget-view+json": {
       "model_id": "1026cac629bf47bdbf18a4aa63052e8c",
       "version_major": 2,
       "version_minor": 0
      },
      "text/plain": [
       "Trial 0 eye:   0%|          | 0/12264 [00:00<?, ?it/s]"
      ]
     },
     "metadata": {},
     "output_type": "display_data"
    },
    {
     "name": "stdout",
     "output_type": "stream",
     "text": [
      "Deleting existing video: /Users/rahimhashim/Desktop/Monkey-Emotions/video/gandalf_231004/lick_0000.mp4\n",
      "Saving video to: /Users/rahimhashim/Desktop/Monkey-Emotions/video/gandalf_231004/lick_0000.mp4\n"
     ]
    },
    {
     "data": {
      "application/vnd.jupyter.widget-view+json": {
       "model_id": "f172ec46909c42e9af08331e42876687",
       "version_major": 2,
       "version_minor": 0
      },
      "text/plain": [
       "Trial 0 lick:   0%|          | 0/12264 [00:00<?, ?it/s]"
      ]
     },
     "metadata": {},
     "output_type": "display_data"
    },
    {
     "name": "stdout",
     "output_type": "stream",
     "text": [
      "Deleting image folder: /Users/rahimhashim/Desktop/Monkey-Emotions/video/gandalf_231004/trial_0\n"
     ]
    },
    {
     "ename": "TypeError",
     "evalue": "'recursive' is an invalid keyword argument for rmdir()",
     "output_type": "error",
     "traceback": [
      "\u001b[0;31m---------------------------------------------------------------------------\u001b[0m",
      "\u001b[0;31mTypeError\u001b[0m                                 Traceback (most recent call last)",
      "\u001b[1;32m/Users/rahimhashim/Desktop/Monkey-Emotions/data_preprocessing.ipynb Cell 21\u001b[0m line \u001b[0;36m3\n\u001b[1;32m      <a href='vscode-notebook-cell:/Users/rahimhashim/Desktop/Monkey-Emotions/data_preprocessing.ipynb#X25sZmlsZQ%3D%3D?line=0'>1</a>\u001b[0m \u001b[39mfrom\u001b[39;00m \u001b[39mvideo\u001b[39;00m\u001b[39m.\u001b[39;00m\u001b[39mml_videos\u001b[39;00m \u001b[39mimport\u001b[39;00m generate_ml_behavior_videos\n\u001b[1;32m      <a href='vscode-notebook-cell:/Users/rahimhashim/Desktop/Monkey-Emotions/data_preprocessing.ipynb#X25sZmlsZQ%3D%3D?line=1'>2</a>\u001b[0m trial_num_selected \u001b[39m=\u001b[39m \u001b[39m1\u001b[39m\n\u001b[0;32m----> <a href='vscode-notebook-cell:/Users/rahimhashim/Desktop/Monkey-Emotions/data_preprocessing.ipynb#X25sZmlsZQ%3D%3D?line=2'>3</a>\u001b[0m generate_ml_behavior_videos(session_obj\u001b[39m.\u001b[39;49mdf, session_obj, trial_num_selected, epoch_start, epoch_end)\n",
      "File \u001b[0;32m~/Desktop/Monkey-Emotions/video/ml_videos.py:95\u001b[0m, in \u001b[0;36mgenerate_ml_behavior_videos\u001b[0;34m(session_df, session_obj, trial_num, epoch_start, epoch_end)\u001b[0m\n\u001b[1;32m     93\u001b[0m \u001b[39m# delete image folder\u001b[39;00m\n\u001b[1;32m     94\u001b[0m \u001b[39mprint\u001b[39m(\u001b[39m'\u001b[39m\u001b[39mDeleting image folder: \u001b[39m\u001b[39m{}\u001b[39;00m\u001b[39m'\u001b[39m\u001b[39m.\u001b[39mformat(source_folder_path))\n\u001b[0;32m---> 95\u001b[0m os\u001b[39m.\u001b[39mrmdir(source_folder_path, recursive\u001b[39m=\u001b[39m\u001b[39mTrue\u001b[39;00m)\n",
      "\u001b[0;31mTypeError\u001b[0m: 'recursive' is an invalid keyword argument for rmdir()"
     ]
    }
   ],
   "source": [
    "from video.ml_videos import generate_ml_behavior_videos\n",
    "trial_num_selected = 1\n",
    "generate_ml_behavior_videos(session_obj.df, session_obj, trial_num_selected, epoch_start, epoch_end)"
   ]
  },
  {
   "cell_type": "code",
   "execution_count": null,
   "metadata": {},
   "outputs": [],
   "source": []
  }
 ],
 "metadata": {
  "kernelspec": {
   "display_name": "facial-recognition",
   "language": "python",
   "name": "python3"
  },
  "language_info": {
   "codemirror_mode": {
    "name": "ipython",
    "version": 3
   },
   "file_extension": ".py",
   "mimetype": "text/x-python",
   "name": "python",
   "nbconvert_exporter": "python",
   "pygments_lexer": "ipython3",
   "version": "3.9.18"
  },
  "orig_nbformat": 4
 },
 "nbformat": 4,
 "nbformat_minor": 2
}
