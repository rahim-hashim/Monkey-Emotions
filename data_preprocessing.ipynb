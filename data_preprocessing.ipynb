{
 "cells": [
  {
   "cell_type": "markdown",
   "metadata": {},
   "source": [
    "# Data Preprocessing\n",
    "#### Run this script to proprocess all the data that will be coming in from one, many, or all of the following sources:\n",
    "1. **MonkeyLogic:** (.bhv2 | .h5) behavior data *[500 or 1000Hz]*\n",
    "  > * Photodiode data\n",
    "  > * White Matter Camera Sync analog data (if applicable)\n",
    "  > * White Matter Camera Save analog data (if applicable)\n",
    "2. **SpikeGLX:** (.meta & .bin) duplicates of analog data *[20000-30000Hz]*\n",
    "  > * Photodiode data (split from ML)\n",
    "  > * White Matter Camera Sync analog data (if applicable)\n",
    "  > * White Matter Camera Save analog data (if applicable)\n",
    "3. **WhiteMatter:** (.mp4 | .avi) video files *[60-120 fps]*\n",
    "***"
   ]
  },
  {
   "cell_type": "markdown",
   "metadata": {},
   "source": [
    "## Find Files\n",
    "`FileContainer` will hold the relevant files listed above. <br>\n",
    "* Specify `ROOT_DIR` to set the directory when prompted to select the files.\n",
    "* `WARNING` printed if dates and monkeys not aligned across files"
   ]
  },
  {
   "cell_type": "code",
   "execution_count": 5,
   "metadata": {},
   "outputs": [
    {
     "name": "stdout",
     "output_type": "stream",
     "text": [
      "The autoreload extension is already loaded. To reload it, use:\n",
      "  %reload_ext autoreload\n",
      "Select .bhv2/.h5 behavior file (i.e. 230927_Aragorn_choice.h5)\n",
      "Behavior file selected: C:/Users/rober/SynologyDrive/Rob/gandalf_20231205/231205_Gandalf_UnityVR.h5\n",
      "  MonkeyLogic Date: 231205\n",
      "  MonkeyLogic Monkey: gandalf\n",
      "Select directory containing White Matter video files (i.e. 230927_Aragorn)\n",
      "Video files directory selected: C:/Users/rober/Desktop/rhAirpuff/videos/231205_Gandalf\n",
      "  White Matter Video Date: 231205\n",
      "  White Matter Video Monkey: gandalf\n",
      "Select directory containing SpikeGLX files\n",
      "SpikeGLX files directory selected: C:/Users/rober/SynologyDrive/Rob/gandalf_20231205/gandalf_20231205_g0\n",
      "  SpikeGLX Date: 231205\n",
      "  SpikeGLX Monkey: gandalf\n",
      "\n"
     ]
    }
   ],
   "source": [
    "%load_ext autoreload\n",
    "%autoreload 2\n",
    "import re\n",
    "import os\n",
    "import sys\n",
    "import cv2\n",
    "import math\n",
    "import numpy as np\n",
    "import pandas as pd\n",
    "from PIL import Image\n",
    "from pathlib import Path\n",
    "from pprint import pprint\n",
    "from tqdm.auto import tqdm\n",
    "import matplotlib.pyplot as plt\n",
    "from collections import defaultdict\n",
    "# Custom classes\n",
    "from classes.FileContainer import FileContainer\n",
    "from classes.SpikeGLX import SpikeGLX\n",
    "# Custom functions\n",
    "from spike_glx import read_SGLX\n",
    "\n",
    "# pandas options\n",
    "pd.options.mode.chained_assignment = None  # default='warn'\n",
    "pd.set_option('display.max_columns', None)\n",
    "\n",
    "ROOT_DIR = '/Users/rahimhashim/My Drive/Columbia/Salzman/Monkey-Training/tasks'\n",
    "file_container_obj = FileContainer(ROOT_DIR)"
   ]
  },
  {
   "cell_type": "markdown",
   "metadata": {},
   "source": [
    "***\n",
    "## Convert MonkeyLogic File to Pandas\n",
    "In order to run the behavior files through the preprocessing pipeline, we'll need to convert the MonkeyLogic file (either `.bhv2` or `.h5`) into a Session object which contains the following relevant attributes:\n",
    "> * `session_obj.df`: pandas DataFrame with columns:\n",
    ">   * `'photodiode'`: photodiode signal\n",
    ">   * `'Gen2'`: WM sync signal\n",
    ">   * `'Gen3'`: WM save signal\n",
    "> * `'session_obj.video_path'`: directory of WM videos\n",
    "> * `session_obj.monkey`: monkey name\n",
    "> * `session_obj.date`: date of session (<YYMMDD>)"
   ]
  },
  {
   "cell_type": "code",
   "execution_count": 7,
   "metadata": {},
   "outputs": [
    {
     "name": "stdout",
     "output_type": "stream",
     "text": [
      "Parsing .h5 file...\n",
      "Total number of trials: 286\n",
      "Parsing session data...\n"
     ]
    },
    {
     "data": {
      "application/vnd.jupyter.widget-view+json": {
       "model_id": "cb3bcdc1135745d081168e8e6fc06355",
       "version_major": 2,
       "version_minor": 0
      },
      "text/plain": [
       "  0%|          | 0/286 [00:00<?, ?it/s]"
      ]
     },
     "metadata": {},
     "output_type": "display_data"
    },
    {
     "name": "stdout",
     "output_type": "stream",
     "text": [
      "  Complete.\n",
      "    Correct trials: 176\n",
      "    Errored trials: 110\n",
      "    Session Length:  01:23:45\n",
      "Creating Session Objects...\n",
      "Lick threshold: 2.53 mV\n",
      "Adding additional fields to session_df DataFrame...\n",
      "   No reward magnitude column found, skipping valence assignment...\n",
      "   No blink window column found, skipping blink window...\n",
      "   No pupil column found, skipping pupil pre-CS...\n",
      "   No lick window column found, skipping lick window...\n",
      "   No blink window column found, skipping blink window...\n",
      "   No lick duration column found, skipping lick duration...\n",
      "   No blink duration column found, skipping blink duration...\n",
      "   No blink duration column found, skipping blink duration...\n",
      "   No eye distance column found, skipping eye distance...\n",
      "  ['cam_frames'] field added.\n",
      "  20 new fields added.\n",
      "   No behavioral analysis performed...\n",
      "   No novel fractal column found, skipping novel fractal...\n",
      "   No fractal column found, skipping fractal count...\n"
     ]
    }
   ],
   "source": [
    "session_obj, error_dict, behavioral_code_dict = file_container_obj.ml_to_pd()"
   ]
  },
  {
   "cell_type": "code",
   "execution_count": 8,
   "metadata": {},
   "outputs": [
    {
     "name": "stdout",
     "output_type": "stream",
     "text": [
      "Adding additional fields to session_df DataFrame...\n",
      "   No reward magnitude column found, skipping valence assignment...\n",
      "   No blink window column found, skipping blink window...\n",
      "   No pupil column found, skipping pupil pre-CS...\n",
      "   No lick window column found, skipping lick window...\n",
      "   No blink window column found, skipping blink window...\n",
      "   No lick duration column found, skipping lick duration...\n",
      "   No blink duration column found, skipping blink duration...\n",
      "   No blink duration column found, skipping blink duration...\n",
      "   No eye distance column found, skipping eye distance...\n",
      "  ['cam_frames'] field added.\n",
      "  20 new fields added.\n",
      "   No behavioral analysis performed...\n",
      "   No novel fractal column found, skipping novel fractal...\n",
      "   No fractal column found, skipping fractal count...\n"
     ]
    }
   ],
   "source": [
    "from config.add_fields import add_fields\n",
    "# save is lick\n",
    "# lick is photodiode\n",
    "# photodiode is save\n",
    "if session_obj.monkey == 'gandalf':\n",
    "  session_obj.df['cam_save_2'] = session_obj.df['cam_save'].copy()\n",
    "  session_obj.df['cam_sync_2'] = session_obj.df['cam_sync'].copy()\n",
    "  session_obj.df['cam_sync'] = session_obj.df['lick'].copy() # correct\n",
    "  session_obj.df['cam_save'] = session_obj.df['cam_sync_2'].copy()\n",
    "  session_obj.df['lick'] = session_obj.df['cam_save_2'].copy()\n",
    "  del session_obj.df['cam_sync_2']\n",
    "  del session_obj.df['cam_save_2']\n",
    "\n",
    "  session_obj.df, session_obj = \\\n",
    "  add_fields(session_obj.df, session_obj, behavioral_code_dict)"
   ]
  },
  {
   "cell_type": "code",
   "execution_count": 9,
   "metadata": {},
   "outputs": [
    {
     "data": {
      "text/html": [
       "<div>\n",
       "<style scoped>\n",
       "    .dataframe tbody tr th:only-of-type {\n",
       "        vertical-align: middle;\n",
       "    }\n",
       "\n",
       "    .dataframe tbody tr th {\n",
       "        vertical-align: top;\n",
       "    }\n",
       "\n",
       "    .dataframe thead th {\n",
       "        text-align: right;\n",
       "    }\n",
       "</style>\n",
       "<table border=\"1\" class=\"dataframe\">\n",
       "  <thead>\n",
       "    <tr style=\"text-align: right;\">\n",
       "      <th></th>\n",
       "      <th>date</th>\n",
       "      <th>session_num</th>\n",
       "      <th>subject</th>\n",
       "      <th>trial_num</th>\n",
       "      <th>block</th>\n",
       "      <th>condition</th>\n",
       "      <th>correct</th>\n",
       "      <th>error</th>\n",
       "      <th>error_type</th>\n",
       "      <th>behavioral_code_markers</th>\n",
       "      <th>behavioral_code_times</th>\n",
       "      <th>eye_x</th>\n",
       "      <th>eye_y</th>\n",
       "      <th>eye_pupil</th>\n",
       "      <th>lick</th>\n",
       "      <th>cam_sync</th>\n",
       "      <th>cam_save</th>\n",
       "      <th>photodiode</th>\n",
       "      <th>trial_start</th>\n",
       "      <th>trial_end</th>\n",
       "      <th>trial_datetime_start</th>\n",
       "      <th>trial_datetime_end</th>\n",
       "      <th>Start trial</th>\n",
       "      <th>Frame skipped</th>\n",
       "      <th>Manual reward</th>\n",
       "      <th>End trial</th>\n",
       "      <th>Start</th>\n",
       "      <th>Reward</th>\n",
       "      <th>lick_raster</th>\n",
       "      <th>DEM_raster</th>\n",
       "      <th>trial_bins</th>\n",
       "      <th>trial_in_block</th>\n",
       "      <th>cam_frames</th>\n",
       "    </tr>\n",
       "  </thead>\n",
       "  <tbody>\n",
       "    <tr>\n",
       "      <th>0</th>\n",
       "      <td>231205</td>\n",
       "      <td>0</td>\n",
       "      <td>gandalf</td>\n",
       "      <td>1</td>\n",
       "      <td>1</td>\n",
       "      <td>1</td>\n",
       "      <td>1</td>\n",
       "      <td>0</td>\n",
       "      <td>0</td>\n",
       "      <td>[9, 10, 50, 18]</td>\n",
       "      <td>[3.4784000017680228, 2880.391000013333, 13314....</td>\n",
       "      <td>[-6.0667594861911125, -6.083853542221848, -6.1...</td>\n",
       "      <td>[7.3320901115399035, 7.328807233906357, 7.4433...</td>\n",
       "      <td>[8182.0, 8168.0, 8167.0, 8167.0, 8187.0, 8187....</td>\n",
       "      <td>[0.0062533447719864965, 0.0072398264486985275,...</td>\n",
       "      <td>[0.005266863094622737, 0.017104643180125986, 0...</td>\n",
       "      <td>[0.0049380358686898496, 0.007897480899478157, ...</td>\n",
       "      <td>[0.9210504981210056, 1.0252886962286676, 0.970...</td>\n",
       "      <td>0.0000</td>\n",
       "      <td>13663.0000</td>\n",
       "      <td>2023-12-05 17:00:52.262</td>\n",
       "      <td>2023-12-05 17:01:05.925</td>\n",
       "      <td>3</td>\n",
       "      <td>&lt;NA&gt;</td>\n",
       "      <td>&lt;NA&gt;</td>\n",
       "      <td>13660</td>\n",
       "      <td>2880</td>\n",
       "      <td>13314</td>\n",
       "      <td>[0, 0, 0, 0, 0, 0, 0, 0, 0, 0, 0, 0, 0, 0, 0, ...</td>\n",
       "      <td>[0, 0, 0, 0, 0, 0, 0, 0, 0, 0, 0, 0, 0, 0, 0, ...</td>\n",
       "      <td>13662</td>\n",
       "      <td>0</td>\n",
       "      <td>[754, 763, 771, 779, 788, 796, 804, 813, 821, ...</td>\n",
       "    </tr>\n",
       "    <tr>\n",
       "      <th>1</th>\n",
       "      <td>231205</td>\n",
       "      <td>0</td>\n",
       "      <td>gandalf</td>\n",
       "      <td>2</td>\n",
       "      <td>1</td>\n",
       "      <td>1</td>\n",
       "      <td>0</td>\n",
       "      <td>1</td>\n",
       "      <td>6</td>\n",
       "      <td>[9, 10, 18]</td>\n",
       "      <td>[343.97940000053495, 410.8777999645099, 17510....</td>\n",
       "      <td>[-0.9337724921111511, -0.994682550832626, -0.9...</td>\n",
       "      <td>[-10.835546183212456, -10.818512933477251, -10...</td>\n",
       "      <td>[6228.0, 6243.0, 6243.0, 6231.0, 6231.0, 6241....</td>\n",
       "      <td>[4.992267096038386, 5.0024607972454564, 4.9876...</td>\n",
       "      <td>[3.310967630531658, 3.3093234915896317, 3.3139...</td>\n",
       "      <td>[3.3267513646102476, 3.3162288751771523, 3.325...</td>\n",
       "      <td>[1.6089568759071933, 1.7533120117203995, 1.648...</td>\n",
       "      <td>13663.0518</td>\n",
       "      <td>31256.0518</td>\n",
       "      <td>2023-12-05 17:01:05.924</td>\n",
       "      <td>2023-12-05 17:01:23.517</td>\n",
       "      <td>343</td>\n",
       "      <td>&lt;NA&gt;</td>\n",
       "      <td>&lt;NA&gt;</td>\n",
       "      <td>17510</td>\n",
       "      <td>410</td>\n",
       "      <td>&lt;NA&gt;</td>\n",
       "      <td>[1, 1, 1, 1, 1, 1, 1, 1, 1, 1, 1, 1, 1, 1, 1, ...</td>\n",
       "      <td>[1, 1, 1, 1, 1, 1, 1, 1, 1, 1, 1, 1, 1, 1, 1, ...</td>\n",
       "      <td>17592</td>\n",
       "      <td>1</td>\n",
       "      <td>[8, 16, 25, 33, 41, 50, 58, 66, 75, 83, 91, 10...</td>\n",
       "    </tr>\n",
       "    <tr>\n",
       "      <th>2</th>\n",
       "      <td>231205</td>\n",
       "      <td>0</td>\n",
       "      <td>gandalf</td>\n",
       "      <td>3</td>\n",
       "      <td>1</td>\n",
       "      <td>1</td>\n",
       "      <td>0</td>\n",
       "      <td>1</td>\n",
       "      <td>6</td>\n",
       "      <td>[9, 10, 18]</td>\n",
       "      <td>[201.48400001926348, 266.20070001808926, 10343...</td>\n",
       "      <td>[0.7700776784552404, 0.7700776784552404, 0.753...</td>\n",
       "      <td>[-10.275304116797535, -10.275304116797535, -10...</td>\n",
       "      <td>[5498.0, 5498.0, 5533.0, 5533.0, 5505.0, 5505....</td>\n",
       "      <td>[4.995226557647911, 4.994897728578924, 4.98601...</td>\n",
       "      <td>[3.3356297152173124, 3.313269425058244, 0.0049...</td>\n",
       "      <td>[3.3300396425970513, 3.334972059612135, 3.3356...</td>\n",
       "      <td>[2.059450167451071, 1.9982882963697595, 1.9262...</td>\n",
       "      <td>31255.5153</td>\n",
       "      <td>41680.5153</td>\n",
       "      <td>2023-12-05 17:01:23.517</td>\n",
       "      <td>2023-12-05 17:01:33.942</td>\n",
       "      <td>201</td>\n",
       "      <td>&lt;NA&gt;</td>\n",
       "      <td>&lt;NA&gt;</td>\n",
       "      <td>10343</td>\n",
       "      <td>266</td>\n",
       "      <td>&lt;NA&gt;</td>\n",
       "      <td>[1, 1, 1, 1, 1, 1, 1, 1, 1, 1, 1, 1, 1, 1, 1, ...</td>\n",
       "      <td>[1, 1, 1, 1, 1, 1, 1, 1, 1, 1, 1, 1, 1, 1, 1, ...</td>\n",
       "      <td>10424</td>\n",
       "      <td>2</td>\n",
       "      <td>[7, 15, 23, 32, 40, 48, 57, 65, 73, 82, 90, 98...</td>\n",
       "    </tr>\n",
       "    <tr>\n",
       "      <th>3</th>\n",
       "      <td>231205</td>\n",
       "      <td>0</td>\n",
       "      <td>gandalf</td>\n",
       "      <td>4</td>\n",
       "      <td>1</td>\n",
       "      <td>1</td>\n",
       "      <td>0</td>\n",
       "      <td>1</td>\n",
       "      <td>6</td>\n",
       "      <td>[9, 10, 18]</td>\n",
       "      <td>[186.22759997379035, 249.8083999962546, 14063....</td>\n",
       "      <td>[0.37551485597474005, 0.40521379241456, 0.4052...</td>\n",
       "      <td>[-10.489857972433539, -10.499721066148492, -10...</td>\n",
       "      <td>[5648.0, 5638.0, 5638.0, 5619.0, 5619.0, 5644....</td>\n",
       "      <td>[4.995226557647911, 4.98601934383543, 4.992924...</td>\n",
       "      <td>[3.317544186345917, 3.316557702969066, 0.00132...</td>\n",
       "      <td>[3.323791914438004, 3.3389179932543875, 3.3228...</td>\n",
       "      <td>[2.056161894737025, 2.1798009549938904, 2.0525...</td>\n",
       "      <td>41679.7459</td>\n",
       "      <td>55825.7459</td>\n",
       "      <td>2023-12-05 17:01:33.941</td>\n",
       "      <td>2023-12-05 17:01:48.087</td>\n",
       "      <td>186</td>\n",
       "      <td>&lt;NA&gt;</td>\n",
       "      <td>&lt;NA&gt;</td>\n",
       "      <td>14063</td>\n",
       "      <td>249</td>\n",
       "      <td>&lt;NA&gt;</td>\n",
       "      <td>[1, 1, 1, 1, 1, 1, 1, 1, 1, 1, 1, 1, 1, 1, 1, ...</td>\n",
       "      <td>[1, 1, 1, 1, 1, 1, 1, 1, 1, 1, 1, 1, 1, 1, 1, ...</td>\n",
       "      <td>14146</td>\n",
       "      <td>3</td>\n",
       "      <td>[7, 15, 23, 32, 40, 48, 57, 65, 73, 82, 90, 98...</td>\n",
       "    </tr>\n",
       "    <tr>\n",
       "      <th>4</th>\n",
       "      <td>231205</td>\n",
       "      <td>0</td>\n",
       "      <td>gandalf</td>\n",
       "      <td>5</td>\n",
       "      <td>1</td>\n",
       "      <td>1</td>\n",
       "      <td>0</td>\n",
       "      <td>1</td>\n",
       "      <td>6</td>\n",
       "      <td>[9, 10, 18]</td>\n",
       "      <td>[186.29480001982301, 265.30510000884533, 18832...</td>\n",
       "      <td>[6.4897034445916715, 6.4897034445916715, 6.452...</td>\n",
       "      <td>[-10.868593277922802, -10.868593277922802, -10...</td>\n",
       "      <td>[6090.0, 6090.0, 6062.0, 6062.0, 6049.0, 6049....</td>\n",
       "      <td>[0.008226308124759552, 0.012501062046851016, 0...</td>\n",
       "      <td>[0.008555135349968657, 0.003951554190456064, 3...</td>\n",
       "      <td>[3.325107225623812, 3.330697298196643, 3.32050...</td>\n",
       "      <td>[0.5264579420492492, 0.5205390534680839, 0.510...</td>\n",
       "      <td>55825.6678</td>\n",
       "      <td>74741.6678</td>\n",
       "      <td>2023-12-05 17:01:48.087</td>\n",
       "      <td>2023-12-05 17:02:07.003</td>\n",
       "      <td>186</td>\n",
       "      <td>&lt;NA&gt;</td>\n",
       "      <td>&lt;NA&gt;</td>\n",
       "      <td>18832</td>\n",
       "      <td>265</td>\n",
       "      <td>&lt;NA&gt;</td>\n",
       "      <td>[0, 0, 0, 0, 1, 1, 1, 1, 1, 1, 1, 1, 1, 1, 1, ...</td>\n",
       "      <td>[1, 1, 1, 1, 1, 1, 1, 1, 1, 1, 1, 1, 1, 1, 1, ...</td>\n",
       "      <td>18915</td>\n",
       "      <td>4</td>\n",
       "      <td>[2, 11, 19, 27, 36, 44, 52, 61, 69, 77, 86, 94...</td>\n",
       "    </tr>\n",
       "  </tbody>\n",
       "</table>\n",
       "</div>"
      ],
      "text/plain": [
       "     date  session_num  subject  trial_num  block  condition  correct  error  \\\n",
       "0  231205            0  gandalf          1      1          1        1      0   \n",
       "1  231205            0  gandalf          2      1          1        0      1   \n",
       "2  231205            0  gandalf          3      1          1        0      1   \n",
       "3  231205            0  gandalf          4      1          1        0      1   \n",
       "4  231205            0  gandalf          5      1          1        0      1   \n",
       "\n",
       "   error_type behavioral_code_markers  \\\n",
       "0           0         [9, 10, 50, 18]   \n",
       "1           6             [9, 10, 18]   \n",
       "2           6             [9, 10, 18]   \n",
       "3           6             [9, 10, 18]   \n",
       "4           6             [9, 10, 18]   \n",
       "\n",
       "                               behavioral_code_times  \\\n",
       "0  [3.4784000017680228, 2880.391000013333, 13314....   \n",
       "1  [343.97940000053495, 410.8777999645099, 17510....   \n",
       "2  [201.48400001926348, 266.20070001808926, 10343...   \n",
       "3  [186.22759997379035, 249.8083999962546, 14063....   \n",
       "4  [186.29480001982301, 265.30510000884533, 18832...   \n",
       "\n",
       "                                               eye_x  \\\n",
       "0  [-6.0667594861911125, -6.083853542221848, -6.1...   \n",
       "1  [-0.9337724921111511, -0.994682550832626, -0.9...   \n",
       "2  [0.7700776784552404, 0.7700776784552404, 0.753...   \n",
       "3  [0.37551485597474005, 0.40521379241456, 0.4052...   \n",
       "4  [6.4897034445916715, 6.4897034445916715, 6.452...   \n",
       "\n",
       "                                               eye_y  \\\n",
       "0  [7.3320901115399035, 7.328807233906357, 7.4433...   \n",
       "1  [-10.835546183212456, -10.818512933477251, -10...   \n",
       "2  [-10.275304116797535, -10.275304116797535, -10...   \n",
       "3  [-10.489857972433539, -10.499721066148492, -10...   \n",
       "4  [-10.868593277922802, -10.868593277922802, -10...   \n",
       "\n",
       "                                           eye_pupil  \\\n",
       "0  [8182.0, 8168.0, 8167.0, 8167.0, 8187.0, 8187....   \n",
       "1  [6228.0, 6243.0, 6243.0, 6231.0, 6231.0, 6241....   \n",
       "2  [5498.0, 5498.0, 5533.0, 5533.0, 5505.0, 5505....   \n",
       "3  [5648.0, 5638.0, 5638.0, 5619.0, 5619.0, 5644....   \n",
       "4  [6090.0, 6090.0, 6062.0, 6062.0, 6049.0, 6049....   \n",
       "\n",
       "                                                lick  \\\n",
       "0  [0.0062533447719864965, 0.0072398264486985275,...   \n",
       "1  [4.992267096038386, 5.0024607972454564, 4.9876...   \n",
       "2  [4.995226557647911, 4.994897728578924, 4.98601...   \n",
       "3  [4.995226557647911, 4.98601934383543, 4.992924...   \n",
       "4  [0.008226308124759552, 0.012501062046851016, 0...   \n",
       "\n",
       "                                            cam_sync  \\\n",
       "0  [0.005266863094622737, 0.017104643180125986, 0...   \n",
       "1  [3.310967630531658, 3.3093234915896317, 3.3139...   \n",
       "2  [3.3356297152173124, 3.313269425058244, 0.0049...   \n",
       "3  [3.317544186345917, 3.316557702969066, 0.00132...   \n",
       "4  [0.008555135349968657, 0.003951554190456064, 3...   \n",
       "\n",
       "                                            cam_save  \\\n",
       "0  [0.0049380358686898496, 0.007897480899478157, ...   \n",
       "1  [3.3267513646102476, 3.3162288751771523, 3.325...   \n",
       "2  [3.3300396425970513, 3.334972059612135, 3.3356...   \n",
       "3  [3.323791914438004, 3.3389179932543875, 3.3228...   \n",
       "4  [3.325107225623812, 3.330697298196643, 3.32050...   \n",
       "\n",
       "                                          photodiode  trial_start   trial_end  \\\n",
       "0  [0.9210504981210056, 1.0252886962286676, 0.970...       0.0000  13663.0000   \n",
       "1  [1.6089568759071933, 1.7533120117203995, 1.648...   13663.0518  31256.0518   \n",
       "2  [2.059450167451071, 1.9982882963697595, 1.9262...   31255.5153  41680.5153   \n",
       "3  [2.056161894737025, 2.1798009549938904, 2.0525...   41679.7459  55825.7459   \n",
       "4  [0.5264579420492492, 0.5205390534680839, 0.510...   55825.6678  74741.6678   \n",
       "\n",
       "     trial_datetime_start      trial_datetime_end  Start trial  Frame skipped  \\\n",
       "0 2023-12-05 17:00:52.262 2023-12-05 17:01:05.925            3           <NA>   \n",
       "1 2023-12-05 17:01:05.924 2023-12-05 17:01:23.517          343           <NA>   \n",
       "2 2023-12-05 17:01:23.517 2023-12-05 17:01:33.942          201           <NA>   \n",
       "3 2023-12-05 17:01:33.941 2023-12-05 17:01:48.087          186           <NA>   \n",
       "4 2023-12-05 17:01:48.087 2023-12-05 17:02:07.003          186           <NA>   \n",
       "\n",
       "   Manual reward  End trial  Start  Reward  \\\n",
       "0           <NA>      13660   2880   13314   \n",
       "1           <NA>      17510    410    <NA>   \n",
       "2           <NA>      10343    266    <NA>   \n",
       "3           <NA>      14063    249    <NA>   \n",
       "4           <NA>      18832    265    <NA>   \n",
       "\n",
       "                                         lick_raster  \\\n",
       "0  [0, 0, 0, 0, 0, 0, 0, 0, 0, 0, 0, 0, 0, 0, 0, ...   \n",
       "1  [1, 1, 1, 1, 1, 1, 1, 1, 1, 1, 1, 1, 1, 1, 1, ...   \n",
       "2  [1, 1, 1, 1, 1, 1, 1, 1, 1, 1, 1, 1, 1, 1, 1, ...   \n",
       "3  [1, 1, 1, 1, 1, 1, 1, 1, 1, 1, 1, 1, 1, 1, 1, ...   \n",
       "4  [0, 0, 0, 0, 1, 1, 1, 1, 1, 1, 1, 1, 1, 1, 1, ...   \n",
       "\n",
       "                                          DEM_raster  trial_bins  \\\n",
       "0  [0, 0, 0, 0, 0, 0, 0, 0, 0, 0, 0, 0, 0, 0, 0, ...       13662   \n",
       "1  [1, 1, 1, 1, 1, 1, 1, 1, 1, 1, 1, 1, 1, 1, 1, ...       17592   \n",
       "2  [1, 1, 1, 1, 1, 1, 1, 1, 1, 1, 1, 1, 1, 1, 1, ...       10424   \n",
       "3  [1, 1, 1, 1, 1, 1, 1, 1, 1, 1, 1, 1, 1, 1, 1, ...       14146   \n",
       "4  [1, 1, 1, 1, 1, 1, 1, 1, 1, 1, 1, 1, 1, 1, 1, ...       18915   \n",
       "\n",
       "   trial_in_block                                         cam_frames  \n",
       "0               0  [754, 763, 771, 779, 788, 796, 804, 813, 821, ...  \n",
       "1               1  [8, 16, 25, 33, 41, 50, 58, 66, 75, 83, 91, 10...  \n",
       "2               2  [7, 15, 23, 32, 40, 48, 57, 65, 73, 82, 90, 98...  \n",
       "3               3  [7, 15, 23, 32, 40, 48, 57, 65, 73, 82, 90, 98...  \n",
       "4               4  [2, 11, 19, 27, 36, 44, 52, 61, 69, 77, 86, 94...  "
      ]
     },
     "execution_count": 9,
     "metadata": {},
     "output_type": "execute_result"
    }
   ],
   "source": [
    "session_obj.df.head()"
   ]
  },
  {
   "cell_type": "code",
   "execution_count": 70,
   "metadata": {},
   "outputs": [
    {
     "name": "stdout",
     "output_type": "stream",
     "text": [
      "Saving .pickle files to: /Users/rahimhashim/Library/CloudStorage/GoogleDrive-rh2898@columbia.edu/.shortcut-targets-by-id/1weRx7ojG3amil91WgRMeTUVxse__Rsyt/rhAirpuff\n",
      "  Pickling 231004_gandalf_UnityVR_behave.pkl\n",
      "  Total time to pickle: 0.5141 sec\n"
     ]
    }
   ],
   "source": [
    "import pickle\n",
    "from config.h5_helper import pickler\n",
    "\n",
    "pickler(True, os.path.dirname(file_container_obj.ml_file_path), \n",
    "        session_obj.df, 'gandalf', 'UnityVR', error_dict, behavioral_code_dict)"
   ]
  },
  {
   "cell_type": "markdown",
   "metadata": {},
   "source": [
    "*** \n",
    "## Process SpikeGLX\n",
    "\n",
    "Assign `signal_dict` channels manually based on how you set up the PXI board. `epochs` are the MonkeyLogic eventcodes within `session_obj.df` distinguishing epochs in the task that you will reference later to break up videos based on."
   ]
  },
  {
   "cell_type": "code",
   "execution_count": 10,
   "metadata": {},
   "outputs": [
    {
     "name": "stdout",
     "output_type": "stream",
     "text": [
      "Epochs:\n",
      "  Start trial\n",
      "  End trial\n"
     ]
    }
   ],
   "source": [
    "# Manually assign the signal channel numbers\n",
    "# from how you set them up on the NI PXIe-6341 board\n",
    "signal_dict = {\n",
    "  0: 'cam_sync',\n",
    "  1: 'cam_save',\n",
    "  2: 'lick',\n",
    "  3: 'photodiode',\n",
    "}\n",
    "\n",
    "# Manually assign the time epochs you care about\n",
    "# which have to exist as rows in session_df\n",
    "if session_obj.monkey in ['aragorn', 'bear']:\n",
    "  epochs = ['Start Trial', 'Fixation On', 'CS On',\t\n",
    "          'Trace Start', 'Outcome Start', 'End Trial']\n",
    "else:\n",
    "  epochs = ['Start trial', 'End trial']\n",
    "print('Epochs:')\n",
    "# Print each epoch on its own line\n",
    "for epoch in epochs:\n",
    "  print(f'  {epoch}')"
   ]
  },
  {
   "cell_type": "markdown",
   "metadata": {},
   "source": [
    "### Peek at SpikeGLX Analog Data\n",
    "Always view the data you are working with before doing any type of analysis. Calling `read_SGLX` prompts a file selection tool (choose the .bin file that **must have the .meta file in the same directory as is the default for SpikeGLX output**), and `plot_channels_raw` allows for visualization of a window specified by [tStart - tEnd] **seconds**. "
   ]
  },
  {
   "cell_type": "code",
   "execution_count": 11,
   "metadata": {},
   "outputs": [
    {
     "name": "stdout",
     "output_type": "stream",
     "text": [
      "Reading SGLX meta and bin files...\n",
      "Select binary file\n",
      "Bin File Path: C:\\Users\\rober\\SynologyDrive\\Rob\\gandalf_20231205\\gandalf_20231205_g0\\gandalf_20231205_g0_t0.nidq.bin\n",
      "File Name: D://saline_20231205_g0/saline_20231205_g0_t0.nidq.bin\n",
      "  Number of Channels: 9\n",
      "  File Created: 2023-12-05T17:00:46\n",
      "  File Length: 5051.549966397743\n",
      "nChan: 9, nFileSamp: 10103083\n",
      " Complete.\n",
      "Plotting channels...\n",
      "  SpikeGLX object missing attributes (meta, chan_dict, signal_dict)\n",
      "  Using input arguments instead.\n",
      "Sample Rate:  1999.996648\n",
      " Channel [0]: cam_sync\n",
      "  Max Val: 3342.59\n",
      "  Min Val: -6.104\n",
      " Channel [1]: cam_save\n",
      "  Max Val: 3357.239\n",
      "  Min Val: -8.24\n",
      " Channel [2]: lick\n",
      "  Max Val: 5008.24\n",
      "  Min Val: -30.823\n",
      " Channel [3]: photodiode\n",
      "  Max Val: 2246.094\n",
      "  Min Val: 398.254\n",
      " Channel [4]: empty\n",
      " Channel [5]: empty\n",
      " Channel [6]: empty\n",
      " Channel [7]: empty\n",
      " Channel [8]: empty\n"
     ]
    },
    {
     "data": {
      "image/png": "[encoded data removed]",
      "text/plain": [
       "<Figure size 1000x200 with 1 Axes>"
      ]
     },
     "metadata": {},
     "output_type": "display_data"
    }
   ],
   "source": [
    "from spike_glx.read_SGLX import read_SGLX, plot_channels_raw\n",
    "\n",
    "print('Reading SGLX meta and bin files...')\n",
    "meta, chan_dict = read_SGLX()\n",
    "print(' Complete.')\n",
    "print('Plotting channels...')\n",
    "plot_channels_raw(None, meta, chan_dict, signal_dict, tStart=0, tEnd=20)"
   ]
  },
  {
   "cell_type": "code",
   "execution_count": 12,
   "metadata": {},
   "outputs": [
    {
     "data": {
      "image/png": "[encoded data removed]",
      "text/plain": [
       "<Figure size 1500x300 with 1 Axes>"
      ]
     },
     "metadata": {},
     "output_type": "display_data"
    }
   ],
   "source": [
    "from spike_glx.read_SGLX import plot_analog_ML\n",
    "# epochs = ['Start Trial', 'Fixation On', 'CS On',\t\n",
    "#           'Trace Start', 'Outcome Start', 'End Trial']\n",
    "plot_analog_ML(session_obj.df, epochs, trial_num=1)"
   ]
  },
  {
   "cell_type": "code",
   "execution_count": 13,
   "metadata": {},
   "outputs": [
    {
     "name": "stdout",
     "output_type": "stream",
     "text": [
      "Created new session folder: c:\\Users\\rober\\Desktop\\Monkey-Emotions\\_data\\gandalf_231205\n",
      "Pickled spikeglx_obj not found for: gandalf_231205\n",
      "Generating new spikeglx_obj...\n",
      "  Looking for SpikeGLX binary and meta file in:\n",
      "  C:/Users/rober/SynologyDrive/Rob/gandalf_20231205\n",
      "Looking for binary file in C:/Users/rober/SynologyDrive/Rob/gandalf_20231205\n",
      "Found folder: gandalf_20231205_g0\n",
      "  Found binary file: gandalf_20231205_g0_t0.nidq.bin\n",
      "  Found metadata file: gandalf_20231205_g0_t0.nidq.meta\n",
      "File Name: D://saline_20231205_g0/saline_20231205_g0_t0.nidq.bin\n",
      "  Number of Channels: 9\n",
      "  File Created: 2023-12-05T17:00:46\n",
      "  File Length: 5051.549966397743\n",
      "nChan: 9, nFileSamp: 10103083\n",
      "Number of Channels:  9\n",
      "Sample Rate:  1999.996648\n",
      "Number of frames in SpikeGLX Cam TTL: 603016\n"
     ]
    },
    {
     "data": {
      "image/png": "[encoded data removed]",
      "text/plain": [
       "<Figure size 2000x500 with 2 Axes>"
      ]
     },
     "metadata": {},
     "output_type": "display_data"
    },
    {
     "name": "stdout",
     "output_type": "stream",
     "text": [
      "Video Folders:\n",
      "['231205_Gandalf_170052', '231205_Gandalf_170317', '231205_Gandalf_173109']\n",
      "Number of cameras: 4\n",
      "  Camera: e3v831b | Number of videos: 5\n",
      "  Camera: e3v8360 | Number of videos: 5\n",
      "  Camera: e3v83ad | Number of videos: 5\n",
      "  Camera: e3v83d6 | Number of videos: 5\n",
      "Camera: e3v831b\n",
      "  Video: e3v831b-20231205T170053-172054.avi | Frames: 144123 | FPS: 120.0 | Length (minutes): 20.02  \n",
      "  Video: e3v831b-20231205T172054-174054.avi | Frames: 144005 | FPS: 120.0 | Length (minutes): 20.0   \n",
      "  Video: e3v831b-20231205T174054-180054.avi | Frames: 144004 | FPS: 120.0 | Length (minutes): 20.0   \n",
      "  Video: e3v831b-20231205T180054-182055.avi | Frames: 144123 | FPS: 120.0 | Length (minutes): 20.02  \n",
      "  Video: e3v831b-20231205T182055-182438.avi | Frames: 26762  | FPS: 120.0 | Length (minutes): 3.72   \n",
      "  Total Frames: 603017\n",
      "Camera: e3v8360\n",
      "  Video: e3v8360-20231205T170053-172054.avi | Frames: 144123 | FPS: 120.0 | Length (minutes): 20.02  \n",
      "  Video: e3v8360-20231205T172054-174054.avi | Frames: 144005 | FPS: 120.0 | Length (minutes): 20.0   \n",
      "  Video: e3v8360-20231205T174054-180054.avi | Frames: 144004 | FPS: 120.0 | Length (minutes): 20.0   \n",
      "  Video: e3v8360-20231205T180054-182055.avi | Frames: 144123 | FPS: 120.0 | Length (minutes): 20.02  \n",
      "  Video: e3v8360-20231205T182055-182438.avi | Frames: 26762  | FPS: 120.0 | Length (minutes): 3.72   \n",
      "  Total Frames: 603017\n",
      "Camera: e3v83ad\n",
      "  Video: e3v83ad-20231205T170053-172054.avi | Frames: 144123 | FPS: 120.0 | Length (minutes): 20.02  \n",
      "  Video: e3v83ad-20231205T172054-174054.avi | Frames: 144005 | FPS: 120.0 | Length (minutes): 20.0   \n",
      "  Video: e3v83ad-20231205T174054-180055.avi | Frames: 144124 | FPS: 120.0 | Length (minutes): 20.02  \n",
      "  Video: e3v83ad-20231205T180055-182055.avi | Frames: 144004 | FPS: 120.0 | Length (minutes): 20.0   \n",
      "  Video: e3v83ad-20231205T182055-182438.avi | Frames: 26761  | FPS: 120.0 | Length (minutes): 3.72   \n",
      "  Total Frames: 603017\n",
      "Camera: e3v83d6\n",
      "  Video: e3v83d6-20231205T170053-172054.avi | Frames: 144011 | FPS: 120.0 | Length (minutes): 20.0   \n",
      "  Video: e3v83d6-20231205T172054-174054.avi | Frames: 143880 | FPS: 120.0 | Length (minutes): 19.98  \n",
      "  Video: e3v83d6-20231205T174054-180055.avi | Frames: 144005 | FPS: 120.0 | Length (minutes): 20.0   \n",
      "  Video: e3v83d6-20231205T180055-182055.avi | Frames: 143894 | FPS: 120.0 | Length (minutes): 19.99  \n",
      "  Video: e3v83d6-20231205T182055-182438.avi | Frames: 26727  | FPS: 120.0 | Length (minutes): 3.71   \n",
      "  Total Frames: 602517\n",
      "SpikeGLX object created.\n",
      "Aligning photodiode signals from ML and SpikeGLX...\n",
      "0.0\n",
      "Epochs\n",
      "  Start trial\n",
      "  End trial\n"
     ]
    },
    {
     "data": {
      "application/vnd.jupyter.widget-view+json": {
       "model_id": "0129d6d983174c6bacba2f7e046c8e82",
       "version_major": 2,
       "version_minor": 0
      },
      "text/plain": [
       "Trial Number:   0%|          | 0/285 [00:00<?, ?it/s]"
      ]
     },
     "metadata": {},
     "output_type": "display_data"
    },
    {
     "name": "stdout",
     "output_type": "stream",
     "text": [
      "Trial 1 | Correlation: 0.992 | SGLX High Time: 13120 | ML High Time: 747\n",
      "  Trial 1 | Epoch start 5813.010994578427 | Epoch end 19476.010994578428\n",
      "Trial 2 low on first approximation | Correlation: -0.167 | SGLX High Time: 2 | ML High Time: 159\n",
      "  Photodiode aligned. Correlation: 0.984 | Shift: -2\n",
      "  Trial 2 | Epoch start 19474.010994578428 | Epoch end 37067.01099457843\n",
      "Trial 3 low on first approximation | Correlation: 0.0 | SGLX High Time: 1746 | ML High Time: 257\n",
      "  Photodiode aligned. Correlation: 0.984 | Shift: 1\n",
      "  Trial 3 | Epoch start 37068.01099457843 | Epoch end 47493.01099457843\n",
      "Trial 4 low on first approximation | Correlation: -0.129 | SGLX High Time: 144 | ML High Time: 230\n",
      "  Photodiode aligned. Correlation: 0.983 | Shift: 0\n",
      "  Trial 4 | Epoch start 47493.01099457843 | Epoch end 61639.01099457843\n",
      "Trial 5 low on first approximation | Correlation: -0.049 | SGLX High Time: 11 | ML High Time: 287\n",
      "  Photodiode aligned. Correlation: 0.982 | Shift: 0\n",
      "  Trial 5 | Epoch start 61639.01099457843 | Epoch end 80555.01099457842\n",
      "Trial 6 low on first approximation | Correlation: 0.908 | SGLX High Time: 2922 | ML High Time: 472\n",
      "  Photodiode aligned. Correlation: 0.986 | Shift: 1\n",
      "  Trial 6 | Epoch start 80556.01099457842 | Epoch end 95134.01099457842\n",
      "Trial 7 low on first approximation | Correlation: 0.01 | SGLX High Time: 1577 | ML High Time: 804\n",
      "  Photodiode aligned. Correlation: 0.983 | Shift: -1\n",
      "  Trial 7 | Epoch start 95133.01099457842 | Epoch end 108776.01099457842\n",
      "Trial 8 low on first approximation | Correlation: 0.021 | SGLX High Time: 323 | ML High Time: 505\n",
      "  Photodiode aligned. Correlation: 0.986 | Shift: 1\n",
      "  Trial 8 | Epoch start 108777.01099457842 | Epoch end 123423.01099457842\n",
      "Trial 9 low on first approximation | Correlation: 0.063 | SGLX High Time: 1745 | ML High Time: 704\n",
      "  Photodiode aligned. Correlation: 0.982 | Shift: -1\n",
      "  Trial 9 | Epoch start 123422.01099457842 | Epoch end 135597.01099457842\n",
      "Trial 10 low on first approximation | Correlation: -0.034 | SGLX High Time: 1450 | ML High Time: 358\n",
      "  Photodiode aligned. Correlation: 0.982 | Shift: 0\n",
      "  Trial 10 | Epoch start 135597.01099457842 | Epoch end 150527.01099457842\n",
      "Trial 11 low on first approximation | Correlation: 0.014 | SGLX High Time: 1447 | ML High Time: 75\n",
      "  Photodiode aligned. Correlation: 0.982 | Shift: 0\n",
      "  Trial 11 | Epoch start 150527.01099457842 | Epoch end 164275.01099457842\n",
      "Trial 12 low on first approximation | Correlation: 0.041 | SGLX High Time: 282 | ML High Time: 118\n",
      "  Photodiode aligned. Correlation: 0.981 | Shift: 1\n",
      "  Trial 12 | Epoch start 164276.01099457842 | Epoch end 177534.01099457842\n",
      "Trial 13 low on first approximation | Correlation: -0.06 | SGLX High Time: 246 | ML High Time: 254\n",
      "  Photodiode aligned. Correlation: 0.983 | Shift: 0\n",
      "  Trial 13 | Epoch start 177534.01099457842 | Epoch end 193229.01099457842\n",
      "Trial 14 low on first approximation | Correlation: -0.117 | SGLX High Time: 1022 | ML High Time: 489\n",
      "  Photodiode aligned. Correlation: 0.986 | Shift: 1\n",
      "  Trial 14 | Epoch start 193230.01099457842 | Epoch end 204091.01099457842\n",
      "Trial 15 low on first approximation | Correlation: 0.082 | SGLX High Time: 443 | ML High Time: 114\n",
      "  Photodiode aligned. Correlation: 0.984 | Shift: 0\n",
      "  Trial 15 | Epoch start 204091.01099457842 | Epoch end 229528.01099457842\n",
      "Trial 16 low on first approximation | Correlation: -0.127 | SGLX High Time: 1178 | ML High Time: 234\n",
      "  Photodiode aligned. Correlation: 0.982 | Shift: -1\n",
      "  Trial 16 | Epoch start 229527.01099457842 | Epoch end 246040.01099457842\n",
      "Trial 17 low on first approximation | Correlation: 0.012 | SGLX High Time: 1589 | ML High Time: 1191\n",
      "  Photodiode aligned. Correlation: 0.982 | Shift: 0\n",
      "  Trial 17 | Epoch start 246040.01099457842 | Epoch end 257867.01099457842\n",
      "Trial 18 low on first approximation | Correlation: -0.039 | SGLX High Time: 882 | ML High Time: 387\n",
      "  Photodiode aligned. Correlation: 0.985 | Shift: 1\n",
      "  Trial 18 | Epoch start 257868.01099457842 | Epoch end 273613.0109945784\n",
      "Trial 19 low on first approximation | Correlation: -0.0 | SGLX High Time: 747 | ML High Time: 300\n",
      "  Photodiode aligned. Correlation: 0.984 | Shift: 0\n",
      "  Trial 19 | Epoch start 273613.0109945784 | Epoch end 291995.0109945784\n",
      "Trial 20 low on first approximation | Correlation: -0.21 | SGLX High Time: 149 | ML High Time: 187\n",
      "  Photodiode aligned. Correlation: 0.981 | Shift: 0\n",
      "  Trial 20 | Epoch start 291995.0109945784 | Epoch end 307274.0109945784\n",
      "Trial 21 low on first approximation | Correlation: 0.727 | SGLX High Time: 1923 | ML High Time: 7\n",
      "  Photodiode aligned. Correlation: 0.983 | Shift: 1\n",
      "  Trial 21 | Epoch start 307275.0109945784 | Epoch end 319602.0109945784\n",
      "Trial 22 low on first approximation | Correlation: -0.0 | SGLX High Time: 515 | ML High Time: 855\n",
      "  Photodiode aligned. Correlation: 0.985 | Shift: 0\n",
      "  Trial 22 | Epoch start 319602.0109945784 | Epoch end 335048.0109945784\n",
      "Trial 23 low on first approximation | Correlation: 0.09 | SGLX High Time: 1114 | ML High Time: 457\n",
      "  Photodiode aligned. Correlation: 0.983 | Shift: -1\n",
      "  Trial 23 | Epoch start 335047.0109945784 | Epoch end 347774.0109945784\n",
      "Trial 24 low on first approximation | Correlation: -0.089 | SGLX High Time: 741 | ML High Time: 1\n",
      "  Photodiode aligned. Correlation: 0.983 | Shift: 1\n",
      "  Trial 24 | Epoch start 347775.0109945784 | Epoch end 365457.0109945784\n",
      "Trial 25 low on first approximation | Correlation: 0.072 | SGLX High Time: 45 | ML High Time: 422\n",
      "  Photodiode aligned. Correlation: 0.982 | Shift: 0\n",
      "  Trial 25 | Epoch start 365457.0109945784 | Epoch end 383687.0109945784\n",
      "Trial 26 low on first approximation | Correlation: 0.103 | SGLX High Time: 884 | ML High Time: 724\n",
      "  Photodiode aligned. Correlation: 0.982 | Shift: 0\n",
      "  Trial 26 | Epoch start 383687.0109945784 | Epoch end 396732.0109945784\n",
      "Trial 27 low on first approximation | Correlation: -0.057 | SGLX High Time: 616 | ML High Time: 1\n",
      "  Photodiode aligned. Correlation: 0.982 | Shift: 0\n",
      "  Trial 27 | Epoch start 396732.0109945784 | Epoch end 409510.0109945784\n",
      "Trial 28 low on first approximation | Correlation: 0.142 | SGLX High Time: 713 | ML High Time: 554\n",
      "  Photodiode aligned. Correlation: 0.985 | Shift: 1\n",
      "  Trial 28 | Epoch start 409511.0109945784 | Epoch end 424556.0109945784\n",
      "Trial 29 low on first approximation | Correlation: 0.115 | SGLX High Time: 5 | ML High Time: 38\n",
      "  Photodiode aligned. Correlation: 0.981 | Shift: -1\n",
      "  Trial 29 | Epoch start 424555.0109945784 | Epoch end 436948.0109945784\n",
      "Trial 30 low on first approximation | Correlation: 0.174 | SGLX High Time: 423 | ML High Time: 339\n",
      "  Photodiode aligned. Correlation: 0.983 | Shift: 1\n",
      "  Trial 30 | Epoch start 436949.0109945784 | Epoch end 450344.0109945784\n",
      "Trial 31 low on first approximation | Correlation: 0.106 | SGLX High Time: 2 | ML High Time: 292\n",
      "  Photodiode aligned. Correlation: 0.983 | Shift: 0\n",
      "  Trial 31 | Epoch start 450344.0109945784 | Epoch end 466957.0109945784\n",
      "Trial 32 | Correlation: 0.995 | SGLX High Time: 2401 | ML High Time: 197\n",
      "  Trial 32 | Epoch start 466960.28295560624 | Epoch end 483073.28295560624\n",
      "Trial 33 low on first approximation | Correlation: -0.049 | SGLX High Time: 581 | ML High Time: 405\n",
      "  Photodiode aligned. Correlation: 0.984 | Shift: -2\n",
      "  Trial 33 | Epoch start 483071.28295560624 | Epoch end 495299.28295560624\n",
      "Trial 34 low on first approximation | Correlation: -0.055 | SGLX High Time: 1845 | ML High Time: 224\n",
      "  Photodiode aligned. Correlation: 0.986 | Shift: 0\n",
      "  Trial 34 | Epoch start 495299.28295560624 | Epoch end 510128.28295560624\n",
      "Trial 35 low on first approximation | Correlation: 0.008 | SGLX High Time: 1279 | ML High Time: 739\n",
      "  Photodiode aligned. Correlation: 0.981 | Shift: -1\n",
      "  Trial 35 | Epoch start 510127.28295560624 | Epoch end 529108.2829556062\n",
      "Trial 36 low on first approximation | Correlation: -0.234 | SGLX High Time: 5 | ML High Time: 1\n",
      "  Photodiode aligned. Correlation: 0.983 | Shift: 0\n",
      "  Trial 36 | Epoch start 529108.2829556062 | Epoch end 539250.2829556062\n",
      "Trial 37 low on first approximation | Correlation: 0.012 | SGLX High Time: 48 | ML High Time: 55\n",
      "  Photodiode aligned. Correlation: 0.98 | Shift: 1\n",
      "  Trial 37 | Epoch start 539251.2829556062 | Epoch end 551811.2829556062\n",
      "Trial 38 | Correlation: 0.994 | SGLX High Time: 3866 | ML High Time: 930\n",
      "  Trial 38 | Epoch start 551813.9263988206 | Epoch end 569762.9263988206\n",
      "Trial 39 low on first approximation | Correlation: 0.364 | SGLX High Time: 1711 | ML High Time: 4\n",
      "  Photodiode aligned. Correlation: 0.984 | Shift: -2\n",
      "  Trial 39 | Epoch start 569760.9263988206 | Epoch end 587140.9263988206\n",
      "Trial 40 low on first approximation | Correlation: -0.251 | SGLX High Time: 414 | ML High Time: 355\n",
      "  Photodiode aligned. Correlation: 0.982 | Shift: 0\n",
      "  Trial 40 | Epoch start 587140.9263988206 | Epoch end 601852.9263988206\n",
      "Trial 41 low on first approximation | Correlation: -0.04 | SGLX High Time: 22 | ML High Time: 91\n",
      "  Photodiode aligned. Correlation: 0.982 | Shift: 0\n",
      "  Trial 41 | Epoch start 601852.9263988206 | Epoch end 613462.9263988206\n",
      "Trial 42 low on first approximation | Correlation: -0.024 | SGLX High Time: 750 | ML High Time: 455\n",
      "  Photodiode aligned. Correlation: 0.982 | Shift: 0\n",
      "  Trial 42 | Epoch start 613462.9263988206 | Epoch end 658533.9263988206\n",
      "Trial 43 low on first approximation | Correlation: 0.008 | SGLX High Time: 149 | ML High Time: 191\n",
      "  Photodiode aligned. Correlation: 0.984 | Shift: 1\n",
      "  Trial 43 | Epoch start 658534.9263988206 | Epoch end 676198.9263988206\n",
      "Trial 44 low on first approximation | Correlation: 0.066 | SGLX High Time: 1085 | ML High Time: 889\n",
      "  Photodiode aligned. Correlation: 0.981 | Shift: 0\n",
      "  Trial 44 | Epoch start 676198.9263988206 | Epoch end 691610.9263988206\n",
      "Trial 45 low on first approximation | Correlation: -0.192 | SGLX High Time: 480 | ML High Time: 523\n",
      "  Photodiode aligned. Correlation: 0.985 | Shift: 0\n",
      "  Trial 45 | Epoch start 691610.9263988206 | Epoch end 707306.9263988206\n",
      "Trial 46 low on first approximation | Correlation: 0.013 | SGLX High Time: 348 | ML High Time: 839\n",
      "  Photodiode aligned. Correlation: 0.983 | Shift: 0\n",
      "  Trial 46 | Epoch start 707306.9263988206 | Epoch end 724887.9263988206\n",
      "Trial 47 low on first approximation | Correlation: 0.065 | SGLX High Time: 251 | ML High Time: 706\n",
      "  Photodiode aligned. Correlation: 0.98 | Shift: 0\n",
      "  Trial 47 | Epoch start 724887.9263988206 | Epoch end 740935.9263988206\n",
      "Trial 48 | Correlation: 0.993 | SGLX High Time: 2048 | ML High Time: 21\n",
      "  Trial 48 | Epoch start 740938.7418485273 | Epoch end 757401.7418485273\n",
      "Trial 49 low on first approximation | Correlation: -0.03 | SGLX High Time: 243 | ML High Time: 588\n",
      "  Photodiode aligned. Correlation: 0.985 | Shift: -1\n",
      "  Trial 49 | Epoch start 757400.7418485273 | Epoch end 773114.7418485273\n",
      "Trial 50 | Correlation: 0.995 | SGLX High Time: 2545 | ML High Time: 270\n",
      "  Trial 50 | Epoch start 773116.7961962704 | Epoch end 788478.7961962704\n",
      "Trial 51 low on first approximation | Correlation: 0.116 | SGLX High Time: 1208 | ML High Time: 304\n",
      "  Photodiode aligned. Correlation: 0.982 | Shift: -3\n",
      "  Trial 51 | Epoch start 788475.7961962704 | Epoch end 804755.7961962704\n",
      "Trial 52 low on first approximation | Correlation: -0.025 | SGLX High Time: 1494 | ML High Time: 471\n",
      "  Photodiode aligned. Correlation: 0.982 | Shift: 0\n",
      "  Trial 52 | Epoch start 804755.7961962704 | Epoch end 818949.7961962704\n",
      "Trial 53 low on first approximation | Correlation: 0.178 | SGLX High Time: 515 | ML High Time: 722\n",
      "  Photodiode aligned. Correlation: 0.985 | Shift: 1\n",
      "  Trial 53 | Epoch start 818950.7961962704 | Epoch end 830960.7961962704\n",
      "Trial 54 low on first approximation | Correlation: -0.046 | SGLX High Time: 682 | ML High Time: 338\n",
      "  Photodiode aligned. Correlation: 0.984 | Shift: 0\n",
      "  Trial 54 | Epoch start 830960.7961962704 | Epoch end 846873.7961962704\n",
      "Trial 55 | Correlation: 0.993 | SGLX High Time: 2949 | ML High Time: 472\n",
      "  Trial 55 | Epoch start 846875.9201551141 | Epoch end 861771.9201551141\n",
      "Trial 56 low on first approximation | Correlation: 0.888 | SGLX High Time: 1985 | ML High Time: 8\n",
      "  Photodiode aligned. Correlation: 0.987 | Shift: -1\n",
      "  Trial 56 | Epoch start 861770.9201551141 | Epoch end 871862.9201551141\n",
      "Trial 57 low on first approximation | Correlation: 0.14 | SGLX High Time: 681 | ML High Time: 622\n",
      "  Photodiode aligned. Correlation: 0.983 | Shift: -1\n",
      "  Trial 57 | Epoch start 871861.9201551141 | Epoch end 888442.9201551141\n",
      "Trial 58 low on first approximation | Correlation: -0.065 | SGLX High Time: 548 | ML High Time: 371\n",
      "  Photodiode aligned. Correlation: 0.982 | Shift: 0\n",
      "  Trial 58 | Epoch start 888442.9201551141 | Epoch end 904854.9201551141\n",
      "Trial 59 low on first approximation | Correlation: -0.068 | SGLX High Time: 1449 | ML High Time: 489\n",
      "  Photodiode aligned. Correlation: 0.983 | Shift: 1\n",
      "  Trial 59 | Epoch start 904855.9201551141 | Epoch end 923103.9201551141\n",
      "Trial 60 low on first approximation | Correlation: 0.056 | SGLX High Time: 548 | ML High Time: 199\n",
      "  Photodiode aligned. Correlation: 0.981 | Shift: 0\n",
      "  Trial 60 | Epoch start 923103.9201551141 | Epoch end 933595.9201551141\n",
      "Trial 61 low on first approximation | Correlation: 0.051 | SGLX High Time: 781 | ML High Time: 890\n",
      "  Photodiode aligned. Correlation: 0.981 | Shift: -1\n",
      "  Trial 61 | Epoch start 933594.9201551141 | Epoch end 954512.9201551141\n",
      "Trial 62 low on first approximation | Correlation: 0.078 | SGLX High Time: 215 | ML High Time: 205\n",
      "  Photodiode aligned. Correlation: 0.982 | Shift: 1\n",
      "  Trial 62 | Epoch start 954513.9201551141 | Epoch end 969410.9201551141\n",
      "Trial 63 low on first approximation | Correlation: -0.038 | SGLX High Time: 1451 | ML High Time: 86\n",
      "  Photodiode aligned. Correlation: 0.981 | Shift: 0\n",
      "  Trial 63 | Epoch start 969410.9201551141 | Epoch end 988975.9201551141\n",
      "Trial 64 low on first approximation | Correlation: 0.865 | SGLX High Time: 1953 | ML High Time: 4\n",
      "  Photodiode aligned. Correlation: 0.983 | Shift: 0\n",
      "  Trial 64 | Epoch start 988975.9201551141 | Epoch end 1003621.9201551141\n",
      "Trial 65 low on first approximation | Correlation: 0.069 | SGLX High Time: 1748 | ML High Time: 229\n",
      "  Photodiode aligned. Correlation: 0.983 | Shift: 0\n",
      "  Trial 65 | Epoch start 1003621.9201551141 | Epoch end 1022952.9201551141\n",
      "Trial 66 low on first approximation | Correlation: 0.071 | SGLX High Time: 48 | ML High Time: 106\n",
      "  Photodiode aligned. Correlation: 0.98 | Shift: 0\n",
      "  Trial 66 | Epoch start 1022952.9201551141 | Epoch end 1040684.9201551141\n",
      "Trial 67 low on first approximation | Correlation: 0.069 | SGLX High Time: 1784 | ML High Time: 504\n",
      "  Photodiode aligned. Correlation: 0.983 | Shift: 1\n",
      "  Trial 67 | Epoch start 1040685.9201551141 | Epoch end 1052678.920155114\n",
      "Trial 68 low on first approximation | Correlation: -0.015 | SGLX High Time: 1079 | ML High Time: 1072\n",
      "  Photodiode aligned. Correlation: 0.985 | Shift: 1\n",
      "  Trial 68 | Epoch start 1052679.920155114 | Epoch end 1068859.920155114\n",
      "Trial 69 | Correlation: 0.992 | SGLX High Time: 3347 | ML High Time: 671\n",
      "  Trial 69 | Epoch start 1068862.2925377982 | Epoch end 1079971.2925377982\n",
      "Trial 70 low on first approximation | Correlation: 0.092 | SGLX High Time: 1909 | ML High Time: 423\n",
      "  Photodiode aligned. Correlation: 0.981 | Shift: -3\n",
      "  Trial 70 | Epoch start 1079968.2925377982 | Epoch end 1096898.2925377982\n",
      "Trial 71 low on first approximation | Correlation: -0.045 | SGLX High Time: 82 | ML High Time: 227\n",
      "  Photodiode aligned. Correlation: 0.984 | Shift: 1\n",
      "  Trial 71 | Epoch start 1096899.2925377982 | Epoch end 1112645.2925377982\n",
      "Trial 72 low on first approximation | Correlation: 0.106 | SGLX High Time: 918 | ML High Time: 555\n",
      "  Photodiode aligned. Correlation: 0.984 | Shift: 0\n",
      "  Trial 72 | Epoch start 1112645.2925377982 | Epoch end 1163855.2925377982\n",
      "Trial 73 low on first approximation | Correlation: 0.065 | SGLX High Time: 681 | ML High Time: 354\n",
      "  Photodiode aligned. Correlation: 0.984 | Shift: 1\n",
      "  Trial 73 | Epoch start 1163856.2925377982 | Epoch end 1191129.2925377982\n",
      "Trial 74 | Correlation: 0.994 | SGLX High Time: 2981 | ML High Time: 488\n",
      "  Trial 74 | Epoch start 1191131.4971542773 | Epoch end 1205691.4971542773\n",
      "Trial 75 low on first approximation | Correlation: 0.087 | SGLX High Time: 1577 | ML High Time: 155\n",
      "  Photodiode aligned. Correlation: 0.983 | Shift: -2\n",
      "  Trial 75 | Epoch start 1205689.4971542773 | Epoch end 1218817.4971542773\n",
      "Trial 76 low on first approximation | Correlation: -0.039 | SGLX High Time: 80 | ML High Time: 530\n",
      "  Photodiode aligned. Correlation: 0.984 | Shift: 0\n",
      "  Trial 76 | Epoch start 1218817.4971542773 | Epoch end 1231744.4971542773\n",
      "Trial 77 low on first approximation | Correlation: -0.089 | SGLX High Time: 1214 | ML High Time: 8\n",
      "  Photodiode aligned. Correlation: 0.981 | Shift: 0\n",
      "  Trial 77 | Epoch start 1231744.4971542773 | Epoch end 1248459.4971542773\n",
      "Trial 78 low on first approximation | Correlation: -0.046 | SGLX High Time: 112 | ML High Time: 1\n",
      "  Photodiode aligned. Correlation: 0.981 | Shift: -1\n",
      "  Trial 78 | Epoch start 1248458.4971542773 | Epoch end 1265872.4971542773\n",
      "Trial 79 low on first approximation | Correlation: 0.023 | SGLX High Time: 1566 | ML High Time: 354\n",
      "  Photodiode aligned. Correlation: 0.984 | Shift: 2\n",
      "  Trial 79 | Epoch start 1265874.4971542773 | Epoch end 1284505.4971542773\n",
      "Trial 80 low on first approximation | Correlation: -0.053 | SGLX High Time: 1316 | ML High Time: 45\n",
      "  Photodiode aligned. Correlation: 0.982 | Shift: 0\n",
      "  Trial 80 | Epoch start 1284505.4971542773 | Epoch end 1295665.4971542773\n",
      "Trial 81 low on first approximation | Correlation: -0.154 | SGLX High Time: 178 | ML High Time: 321\n",
      "  Photodiode aligned. Correlation: 0.983 | Shift: 0\n",
      "  Trial 81 | Epoch start 1295665.4971542773 | Epoch end 1305138.4971542773\n",
      "Trial 82 low on first approximation | Correlation: -0.081 | SGLX High Time: 7 | ML High Time: 189\n",
      "  Photodiode aligned. Correlation: 0.983 | Shift: 0\n",
      "  Trial 82 | Epoch start 1305138.4971542773 | Epoch end 1319585.4971542773\n",
      "Trial 83 | Correlation: 0.994 | SGLX High Time: 2384 | ML High Time: 189\n",
      "  Trial 83 | Epoch start 1319588.211946607 | Epoch end 1335368.211946607\n",
      "Trial 84 low on first approximation | Correlation: -0.145 | SGLX High Time: 506 | ML High Time: 2\n",
      "  Photodiode aligned. Correlation: 0.985 | Shift: -2\n",
      "  Trial 84 | Epoch start 1335366.211946607 | Epoch end 1349859.211946607\n",
      "Trial 85 low on first approximation | Correlation: 0.092 | SGLX High Time: 548 | ML High Time: 107\n",
      "  Photodiode aligned. Correlation: 0.981 | Shift: -1\n",
      "  Trial 85 | Epoch start 1349858.211946607 | Epoch end 1364938.211946607\n",
      "Trial 86 low on first approximation | Correlation: 0.097 | SGLX High Time: 85 | ML High Time: 572\n",
      "  Photodiode aligned. Correlation: 0.982 | Shift: 1\n",
      "  Trial 86 | Epoch start 1364939.211946607 | Epoch end 1383604.211946607\n",
      "Trial 87 low on first approximation | Correlation: 0.047 | SGLX High Time: 747 | ML High Time: 15\n",
      "  Photodiode aligned. Correlation: 0.983 | Shift: 1\n",
      "  Trial 87 | Epoch start 1383605.211946607 | Epoch end 1398518.211946607\n",
      "Trial 88 | Correlation: 0.992 | SGLX High Time: 2482 | ML High Time: 239\n",
      "  Trial 88 | Epoch start 1398519.844319823 | Epoch end 1420504.844319823\n",
      "Trial 89 low on first approximation | Correlation: -0.113 | SGLX High Time: 1175 | ML High Time: 555\n",
      "  Photodiode aligned. Correlation: 0.981 | Shift: -3\n",
      "  Trial 89 | Epoch start 1420501.844319823 | Epoch end 1435496.844319823\n",
      "Trial 90 low on first approximation | Correlation: -0.154 | SGLX High Time: 782 | ML High Time: 438\n",
      "  Photodiode aligned. Correlation: 0.982 | Shift: 1\n",
      "  Trial 90 | Epoch start 1435497.844319823 | Epoch end 1450075.844319823\n",
      "Trial 91 low on first approximation | Correlation: -0.054 | SGLX High Time: 1583 | ML High Time: 555\n",
      "  Photodiode aligned. Correlation: 0.984 | Shift: 1\n",
      "  Trial 91 | Epoch start 1450076.844319823 | Epoch end 1461836.844319823\n",
      "Trial 92 low on first approximation | Correlation: 0.023 | SGLX High Time: 652 | ML High Time: 63\n",
      "  Photodiode aligned. Correlation: 0.985 | Shift: 0\n",
      "  Trial 92 | Epoch start 1461836.844319823 | Epoch end 1512578.844319823\n",
      "Trial 93 low on first approximation | Correlation: 0.059 | SGLX High Time: 1847 | ML High Time: 488\n",
      "  Photodiode aligned. Correlation: 0.984 | Shift: 1\n",
      "  Trial 93 | Epoch start 1512579.844319823 | Epoch end 1558951.844319823\n",
      "Trial 94 low on first approximation | Correlation: -0.177 | SGLX High Time: 143 | ML High Time: 538\n",
      "  Photodiode aligned. Correlation: 0.982 | Shift: -1\n",
      "  Trial 94 | Epoch start 1558950.844319823 | Epoch end 1573794.844319823\n",
      "Trial 95 low on first approximation | Correlation: 0.183 | SGLX High Time: 1459 | ML High Time: 373\n",
      "  Photodiode aligned. Correlation: 0.984 | Shift: 1\n",
      "  Trial 95 | Epoch start 1573795.844319823 | Epoch end 1587641.844319823\n",
      "Trial 96 low on first approximation | Correlation: 0.043 | SGLX High Time: 1613 | ML High Time: 490\n",
      "  Photodiode aligned. Correlation: 0.983 | Shift: -1\n",
      "  Trial 96 | Epoch start 1587640.844319823 | Epoch end 1602501.844319823\n",
      "Trial 97 low on first approximation | Correlation: -0.016 | SGLX High Time: 1817 | ML High Time: 458\n",
      "  Photodiode aligned. Correlation: 0.981 | Shift: 1\n",
      "  Trial 97 | Epoch start 1602502.844319823 | Epoch end 1617716.844319823\n",
      "Trial 98 | Correlation: 0.992 | SGLX High Time: 2247 | ML High Time: 121\n",
      "  Trial 98 | Epoch start 1617719.2115001944 | Epoch end 1635216.2115001944\n",
      "Trial 99 low on first approximation | Correlation: -0.027 | SGLX High Time: 42 | ML High Time: 290\n",
      "  Photodiode aligned. Correlation: 0.981 | Shift: -2\n",
      "  Trial 99 | Epoch start 1635214.2115001944 | Epoch end 1650760.2115001944\n",
      "Trial 100 low on first approximation | Correlation: 0.089 | SGLX High Time: 1414 | ML High Time: 123\n",
      "  Photodiode aligned. Correlation: 0.98 | Shift: 0\n",
      "  Trial 100 | Epoch start 1650760.2115001944 | Epoch end 1667740.2115001944\n",
      "Trial 101 low on first approximation | Correlation: -0.123 | SGLX High Time: 1484 | ML High Time: 247\n",
      "  Photodiode aligned. Correlation: 0.985 | Shift: 1\n",
      "  Trial 101 | Epoch start 1667741.2115001944 | Epoch end 1678717.2115001944\n",
      "Trial 102 low on first approximation | Correlation: -0.057 | SGLX High Time: 1280 | ML High Time: 290\n",
      "  Photodiode aligned. Correlation: 0.983 | Shift: 0\n",
      "  Trial 102 | Epoch start 1678717.2115001944 | Epoch end 1697499.2115001944\n",
      "Trial 103 low on first approximation | Correlation: 0.904 | SGLX High Time: 1994 | ML High Time: 7\n",
      "  Photodiode aligned. Correlation: 0.98 | Shift: 0\n",
      "  Trial 103 | Epoch start 1697499.2115001944 | Epoch end 1710593.2115001944\n",
      "Trial 104 low on first approximation | Correlation: -0.047 | SGLX High Time: 1481 | ML High Time: 55\n",
      "  Photodiode aligned. Correlation: 0.983 | Shift: 0\n",
      "  Trial 104 | Epoch start 1710593.2115001944 | Epoch end 1724471.2115001944\n",
      "Trial 105 low on first approximation | Correlation: 0.2 | SGLX High Time: 1581 | ML High Time: 15\n",
      "  Photodiode aligned. Correlation: 0.984 | Shift: 0\n",
      "  Trial 105 | Epoch start 1724471.2115001944 | Epoch end 1741001.2115001944\n",
      "Trial 106 low on first approximation | Correlation: -0.003 | SGLX High Time: 1516 | ML High Time: 472\n",
      "  Photodiode aligned. Correlation: 0.982 | Shift: 0\n",
      "  Trial 106 | Epoch start 1741001.2115001944 | Epoch end 1761251.2115001944\n",
      "Trial 107 low on first approximation | Correlation: -0.051 | SGLX High Time: 1617 | ML High Time: 791\n",
      "  Photodiode aligned. Correlation: 0.981 | Shift: 0\n",
      "  Trial 107 | Epoch start 1761251.2115001944 | Epoch end 1779016.2115001944\n",
      "Trial 108 low on first approximation | Correlation: -0.216 | SGLX High Time: 316 | ML High Time: 507\n",
      "  Photodiode aligned. Correlation: 0.982 | Shift: 1\n",
      "  Trial 108 | Epoch start 1779017.2115001944 | Epoch end 1791028.2115001944\n",
      "Trial 109 low on first approximation | Correlation: -0.116 | SGLX High Time: 318 | ML High Time: 487\n",
      "  Photodiode aligned. Correlation: 0.983 | Shift: 0\n",
      "  Trial 109 | Epoch start 1791028.2115001944 | Epoch end 1807074.2115001944\n",
      "Trial 110 low on first approximation | Correlation: -0.026 | SGLX High Time: 1950 | ML High Time: 838\n",
      "  Photodiode aligned. Correlation: 0.981 | Shift: 0\n",
      "  Trial 110 | Epoch start 1807074.2115001944 | Epoch end 1822687.2115001944\n",
      "Trial 111 | Correlation: 0.993 | SGLX High Time: 2548 | ML High Time: 271\n",
      "  Trial 111 | Epoch start 1822690.0552827285 | Epoch end 1843944.0552827285\n",
      "Trial 112 | Correlation: 0.989 | SGLX High Time: 2151 | ML High Time: 76\n",
      "  Trial 112 | Epoch start 1843943.0905759959 | Epoch end 1895499.0905759959\n",
      "Trial 113 low on first approximation | Correlation: -0.119 | SGLX High Time: 1383 | ML High Time: 154\n",
      "  Photodiode aligned. Correlation: 0.981 | Shift: 0\n",
      "  Trial 113 | Epoch start 1895499.0905759959 | Epoch end 1913563.0905759959\n",
      "Trial 114 low on first approximation | Correlation: 0.125 | SGLX High Time: 1249 | ML High Time: 638\n",
      "  Photodiode aligned. Correlation: 0.985 | Shift: 0\n",
      "  Trial 114 | Epoch start 1913563.0905759959 | Epoch end 1928659.0905759959\n",
      "Trial 115 low on first approximation | Correlation: -0.067 | SGLX High Time: 1651 | ML High Time: 372\n",
      "  Photodiode aligned. Correlation: 0.983 | Shift: 0\n",
      "  Trial 115 | Epoch start 1928659.0905759959 | Epoch end 1979867.0905759959\n",
      "Trial 116 low on first approximation | Correlation: -0.038 | SGLX High Time: 119 | ML High Time: 306\n",
      "  Photodiode aligned. Correlation: 0.981 | Shift: 0\n",
      "  Trial 116 | Epoch start 1979867.0905759959 | Epoch end 2012212.0905759959\n",
      "Trial 117 low on first approximation | Correlation: 0.046 | SGLX High Time: 921 | ML High Time: 508\n",
      "  Photodiode aligned. Correlation: 0.982 | Shift: 0\n",
      "  Trial 117 | Epoch start 2012212.0905759959 | Epoch end 2027841.0905759959\n",
      "Trial 118 low on first approximation | Correlation: 0.238 | SGLX High Time: 1820 | ML High Time: 54\n",
      "  Photodiode aligned. Correlation: 0.982 | Shift: 1\n",
      "  Trial 118 | Epoch start 2027842.0905759959 | Epoch end 2047591.0905759959\n",
      "Trial 119 low on first approximation | Correlation: -0.046 | SGLX High Time: 1747 | ML High Time: 972\n",
      "  Photodiode aligned. Correlation: 0.983 | Shift: 0\n",
      "  Trial 119 | Epoch start 2047591.0905759959 | Epoch end 2098866.090575996\n",
      "Trial 120 low on first approximation | Correlation: 0.034 | SGLX High Time: 79 | ML High Time: 893\n",
      "  Photodiode aligned. Correlation: 0.983 | Shift: 1\n",
      "  Trial 120 | Epoch start 2098867.090575996 | Epoch end 2133928.090575996\n",
      "Trial 121 low on first approximation | Correlation: 0.021 | SGLX High Time: 1149 | ML High Time: 239\n",
      "  Photodiode aligned. Correlation: 0.983 | Shift: 0\n",
      "  Trial 121 | Epoch start 2133928.090575996 | Epoch end 2146906.090575996\n",
      "Trial 122 low on first approximation | Correlation: -0.012 | SGLX High Time: 974 | ML High Time: 405\n",
      "  Photodiode aligned. Correlation: 0.981 | Shift: 0\n",
      "  Trial 122 | Epoch start 2146906.090575996 | Epoch end 2163453.090575996\n",
      "Trial 123 | Correlation: 0.992 | SGLX High Time: 2016 | ML High Time: 5\n",
      "  Trial 123 | Epoch start 2163455.625960009 | Epoch end 2173748.625960009\n",
      "Trial 124 low on first approximation | Correlation: 0.153 | SGLX High Time: 74 | ML High Time: 5\n",
      "  Photodiode aligned. Correlation: 0.983 | Shift: -2\n",
      "  Trial 124 | Epoch start 2173746.625960009 | Epoch end 2192762.625960009\n",
      "Trial 125 low on first approximation | Correlation: -0.003 | SGLX High Time: 5 | ML High Time: 203\n",
      "  Photodiode aligned. Correlation: 0.981 | Shift: 0\n",
      "  Trial 125 | Epoch start 2192762.625960009 | Epoch end 2209457.625960009\n",
      "Trial 126 low on first approximation | Correlation: 0.037 | SGLX High Time: 1587 | ML High Time: 556\n",
      "  Photodiode aligned. Correlation: 0.983 | Shift: 1\n",
      "  Trial 126 | Epoch start 2209458.625960009 | Epoch end 2220652.625960009\n",
      "Trial 127 low on first approximation | Correlation: -0.017 | SGLX High Time: 144 | ML High Time: 4\n",
      "  Photodiode aligned. Correlation: 0.982 | Shift: 0\n",
      "  Trial 127 | Epoch start 2220652.625960009 | Epoch end 2233929.625960009\n",
      "Trial 128 low on first approximation | Correlation: -0.064 | SGLX High Time: 247 | ML High Time: 138\n",
      "  Photodiode aligned. Correlation: 0.98 | Shift: -1\n",
      "  Trial 128 | Epoch start 2233928.625960009 | Epoch end 2250442.625960009\n",
      "Trial 129 low on first approximation | Correlation: -0.062 | SGLX High Time: 347 | ML High Time: 221\n",
      "  Photodiode aligned. Correlation: 0.981 | Shift: 1\n",
      "  Trial 129 | Epoch start 2250443.625960009 | Epoch end 2263521.625960009\n",
      "Trial 130 low on first approximation | Correlation: 0.006 | SGLX High Time: 949 | ML High Time: 420\n",
      "  Photodiode aligned. Correlation: 0.986 | Shift: 1\n",
      "  Trial 130 | Epoch start 2263522.625960009 | Epoch end 2309326.625960009\n",
      "Trial 131 low on first approximation | Correlation: 0.027 | SGLX High Time: 176 | ML High Time: 238\n",
      "  Photodiode aligned. Correlation: 0.982 | Shift: -1\n",
      "  Trial 131 | Epoch start 2309325.625960009 | Epoch end 2324186.625960009\n",
      "Trial 132 low on first approximation | Correlation: -0.041 | SGLX High Time: 952 | ML High Time: 431\n",
      "  Photodiode aligned. Correlation: 0.983 | Shift: 1\n",
      "  Trial 132 | Epoch start 2324187.625960009 | Epoch end 2337032.625960009\n",
      "Trial 133 low on first approximation | Correlation: 0.038 | SGLX High Time: 91 | ML High Time: 354\n",
      "  Photodiode aligned. Correlation: 0.981 | Shift: -1\n",
      "  Trial 133 | Epoch start 2337031.625960009 | Epoch end 2350741.625960009\n",
      "Trial 134 low on first approximation | Correlation: -0.154 | SGLX High Time: 415 | ML High Time: 38\n",
      "  Photodiode aligned. Correlation: 0.985 | Shift: 1\n",
      "  Trial 134 | Epoch start 2350742.625960009 | Epoch end 2366572.625960009\n",
      "Trial 135 low on first approximation | Correlation: -0.135 | SGLX High Time: 1318 | ML High Time: 255\n",
      "  Photodiode aligned. Correlation: 0.983 | Shift: 0\n",
      "  Trial 135 | Epoch start 2366572.625960009 | Epoch end 2379932.625960009\n",
      "Trial 136 low on first approximation | Correlation: 0.064 | SGLX High Time: 1383 | ML High Time: 926\n",
      "  Photodiode aligned. Correlation: 0.985 | Shift: 1\n",
      "  Trial 136 | Epoch start 2379933.625960009 | Epoch end 2431360.625960009\n",
      "Trial 137 low on first approximation | Correlation: -0.026 | SGLX High Time: 48 | ML High Time: 272\n",
      "  Photodiode aligned. Correlation: 0.984 | Shift: 1\n",
      "  Trial 137 | Epoch start 2431361.625960009 | Epoch end 2492944.625960009\n",
      "Trial 138 low on first approximation | Correlation: 0.068 | SGLX High Time: 116 | ML High Time: 290\n",
      "  Photodiode aligned. Correlation: 0.984 | Shift: 1\n",
      "  Trial 138 | Epoch start 2492945.625960009 | Epoch end 2539116.625960009\n",
      "Trial 139 low on first approximation | Correlation: 0.154 | SGLX High Time: 1514 | ML High Time: 122\n",
      "  Photodiode aligned. Correlation: 0.983 | Shift: -1\n",
      "  Trial 139 | Epoch start 2539115.625960009 | Epoch end 2551876.625960009\n",
      "Trial 140 low on first approximation | Correlation: -0.038 | SGLX High Time: 1182 | ML High Time: 657\n",
      "  Photodiode aligned. Correlation: 0.981 | Shift: 0\n",
      "  Trial 140 | Epoch start 2551876.625960009 | Epoch end 2573109.625960009\n",
      "Trial 141 low on first approximation | Correlation: 0.011 | SGLX High Time: 917 | ML High Time: 558\n",
      "  Photodiode aligned. Correlation: 0.981 | Shift: 0\n",
      "  Trial 141 | Epoch start 2573109.625960009 | Epoch end 2587939.625960009\n",
      "Trial 142 low on first approximation | Correlation: 0.007 | SGLX High Time: 715 | ML High Time: 38\n",
      "  Photodiode aligned. Correlation: 0.984 | Shift: 1\n",
      "  Trial 142 | Epoch start 2587940.625960009 | Epoch end 2605221.625960009\n",
      "Trial 143 | Correlation: 0.995 | SGLX High Time: 2823 | ML High Time: 408\n",
      "  Trial 143 | Epoch start 2605224.867040685 | Epoch end 2619986.867040685\n",
      "Trial 144 low on first approximation | Correlation: -0.1 | SGLX High Time: 574 | ML High Time: 598\n",
      "  Photodiode aligned. Correlation: 0.981 | Shift: -4\n",
      "  Trial 144 | Epoch start 2619982.867040685 | Epoch end 2632125.867040685\n",
      "Trial 145 low on first approximation | Correlation: 0.024 | SGLX High Time: 58 | ML High Time: 255\n",
      "  Photodiode aligned. Correlation: 0.981 | Shift: 1\n",
      "  Trial 145 | Epoch start 2632126.867040685 | Epoch end 2646488.867040685\n",
      "Trial 146 low on first approximation | Correlation: 0.201 | SGLX High Time: 1457 | ML High Time: 55\n",
      "  Photodiode aligned. Correlation: 0.983 | Shift: 1\n",
      "  Trial 146 | Epoch start 2646489.867040685 | Epoch end 2661468.867040685\n",
      "Trial 147 low on first approximation | Correlation: -0.233 | SGLX High Time: 445 | ML High Time: 219\n",
      "  Photodiode aligned. Correlation: 0.984 | Shift: 0\n",
      "  Trial 147 | Epoch start 2661468.867040685 | Epoch end 2676097.867040685\n",
      "Trial 148 low on first approximation | Correlation: 0.128 | SGLX High Time: 979 | ML High Time: 1238\n",
      "  Photodiode aligned. Correlation: 0.982 | Shift: -1\n",
      "  Trial 148 | Epoch start 2676096.867040685 | Epoch end 2689207.867040685\n",
      "Trial 149 low on first approximation | Correlation: 0.114 | SGLX High Time: 1754 | ML High Time: 488\n",
      "  Photodiode aligned. Correlation: 0.983 | Shift: 1\n",
      "  Trial 149 | Epoch start 2689208.867040685 | Epoch end 2703687.867040685\n",
      "Trial 150 | Correlation: 0.994 | SGLX High Time: 2753 | ML High Time: 373\n",
      "  Trial 150 | Epoch start 2703691.0320113176 | Epoch end 2713582.0320113176\n",
      "Trial 151 low on first approximation | Correlation: -0.021 | SGLX High Time: 273 | ML High Time: 110\n",
      "  Photodiode aligned. Correlation: 0.981 | Shift: -4\n",
      "  Trial 151 | Epoch start 2713578.0320113176 | Epoch end 2728589.0320113176\n",
      "Trial 152 low on first approximation | Correlation: 0.052 | SGLX High Time: 934 | ML High Time: 5\n",
      "  Photodiode aligned. Correlation: 0.983 | Shift: 1\n",
      "  Trial 152 | Epoch start 2728590.0320113176 | Epoch end 2742620.0320113176\n",
      "Trial 153 low on first approximation | Correlation: -0.039 | SGLX High Time: 859 | ML High Time: 306\n",
      "  Photodiode aligned. Correlation: 0.982 | Shift: 0\n",
      "  Trial 153 | Epoch start 2742620.0320113176 | Epoch end 2752043.0320113176\n",
      "Trial 154 low on first approximation | Correlation: 0.141 | SGLX High Time: 621 | ML High Time: 1624\n",
      "  Photodiode aligned. Correlation: 0.981 | Shift: 0\n",
      "  Trial 154 | Epoch start 2752043.0320113176 | Epoch end 2766789.0320113176\n",
      "Trial 155 low on first approximation | Correlation: 0.018 | SGLX High Time: 3 | ML High Time: 215\n",
      "  Photodiode aligned. Correlation: 0.982 | Shift: 1\n",
      "  Trial 155 | Epoch start 2766790.0320113176 | Epoch end 2776481.0320113176\n",
      "Trial 156 low on first approximation | Correlation: -0.123 | SGLX High Time: 682 | ML High Time: 271\n",
      "  Photodiode aligned. Correlation: 0.981 | Shift: 0\n",
      "  Trial 156 | Epoch start 2776481.0320113176 | Epoch end 2787907.0320113176\n",
      "Trial 157 low on first approximation | Correlation: -0.087 | SGLX High Time: 1582 | ML High Time: 624\n",
      "  Photodiode aligned. Correlation: 0.982 | Shift: 0\n",
      "  Trial 157 | Epoch start 2787907.0320113176 | Epoch end 2797466.0320113176\n",
      "Trial 158 low on first approximation | Correlation: 0.086 | SGLX High Time: 694 | ML High Time: 639\n",
      "  Photodiode aligned. Correlation: 0.981 | Shift: 0\n",
      "  Trial 158 | Epoch start 2797466.0320113176 | Epoch end 2809426.0320113176\n",
      "Trial 159 low on first approximation | Correlation: -0.028 | SGLX High Time: 945 | ML High Time: 7\n",
      "  Photodiode aligned. Correlation: 0.983 | Shift: 0\n",
      "  Trial 159 | Epoch start 2809426.0320113176 | Epoch end 2823419.0320113176\n",
      "Trial 160 low on first approximation | Correlation: 0.15 | SGLX High Time: 1983 | ML High Time: 162\n",
      "  Photodiode aligned. Correlation: 0.986 | Shift: 1\n",
      "  Trial 160 | Epoch start 2823420.0320113176 | Epoch end 2835782.0320113176\n",
      "Trial 161 low on first approximation | Correlation: -0.017 | SGLX High Time: 1 | ML High Time: 321\n",
      "  Photodiode aligned. Correlation: 0.985 | Shift: -1\n",
      "  Trial 161 | Epoch start 2835781.0320113176 | Epoch end 2851525.0320113176\n",
      "Trial 162 low on first approximation | Correlation: 0.081 | SGLX High Time: 1487 | ML High Time: 478\n",
      "  Photodiode aligned. Correlation: 0.982 | Shift: 1\n",
      "  Trial 162 | Epoch start 2851526.0320113176 | Epoch end 2863487.0320113176\n",
      "Trial 163 low on first approximation | Correlation: -0.045 | SGLX High Time: 1016 | ML High Time: 340\n",
      "  Photodiode aligned. Correlation: 0.983 | Shift: -1\n",
      "  Trial 163 | Epoch start 2863486.0320113176 | Epoch end 2881400.0320113176\n",
      "Trial 164 low on first approximation | Correlation: 0.019 | SGLX High Time: 215 | ML High Time: 206\n",
      "  Photodiode aligned. Correlation: 0.986 | Shift: 2\n",
      "  Trial 164 | Epoch start 2881402.0320113176 | Epoch end 2892178.0320113176\n",
      "Trial 165 low on first approximation | Correlation: -0.158 | SGLX High Time: 80 | ML High Time: 355\n",
      "  Photodiode aligned. Correlation: 0.984 | Shift: -2\n",
      "  Trial 165 | Epoch start 2892176.0320113176 | Epoch end 2907405.0320113176\n",
      "Trial 166 low on first approximation | Correlation: 0.02 | SGLX High Time: 1317 | ML High Time: 474\n",
      "  Photodiode aligned. Correlation: 0.982 | Shift: 1\n",
      "  Trial 166 | Epoch start 2907406.0320113176 | Epoch end 2921518.0320113176\n",
      "Trial 167 low on first approximation | Correlation: -0.025 | SGLX High Time: 314 | ML High Time: 439\n",
      "  Photodiode aligned. Correlation: 0.982 | Shift: 0\n",
      "  Trial 167 | Epoch start 2921518.0320113176 | Epoch end 2936715.0320113176\n",
      "Trial 168 low on first approximation | Correlation: 0.123 | SGLX High Time: 44 | ML High Time: 138\n",
      "  Photodiode aligned. Correlation: 0.984 | Shift: 1\n",
      "  Trial 168 | Epoch start 2936716.0320113176 | Epoch end 2953529.0320113176\n",
      "Trial 169 low on first approximation | Correlation: 0.013 | SGLX High Time: 12 | ML High Time: 221\n",
      "  Photodiode aligned. Correlation: 0.982 | Shift: -1\n",
      "  Trial 169 | Epoch start 2953528.0320113176 | Epoch end 2967606.0320113176\n",
      "Trial 170 low on first approximation | Correlation: 0.1 | SGLX High Time: 148 | ML High Time: 154\n",
      "  Photodiode aligned. Correlation: 0.981 | Shift: 0\n",
      "  Trial 170 | Epoch start 2967606.0320113176 | Epoch end 2979850.0320113176\n",
      "Trial 171 low on first approximation | Correlation: 0.012 | SGLX High Time: 247 | ML High Time: 255\n",
      "  Photodiode aligned. Correlation: 0.983 | Shift: 0\n",
      "  Trial 171 | Epoch start 2979850.0320113176 | Epoch end 2994695.0320113176\n",
      "Trial 172 low on first approximation | Correlation: 0.205 | SGLX High Time: 1615 | ML High Time: 7\n",
      "  Photodiode aligned. Correlation: 0.984 | Shift: 1\n",
      "  Trial 172 | Epoch start 2994696.0320113176 | Epoch end 3005253.0320113176\n",
      "Trial 173 low on first approximation | Correlation: 0.822 | SGLX High Time: 1923 | ML High Time: 1\n",
      "  Photodiode aligned. Correlation: 0.981 | Shift: 0\n",
      "  Trial 173 | Epoch start 3005253.0320113176 | Epoch end 3015263.0320113176\n",
      "Trial 174 low on first approximation | Correlation: -0.135 | SGLX High Time: 1248 | ML High Time: 510\n",
      "  Photodiode aligned. Correlation: 0.981 | Shift: 0\n",
      "  Trial 174 | Epoch start 3015263.0320113176 | Epoch end 3029175.0320113176\n",
      "Trial 175 low on first approximation | Correlation: -0.003 | SGLX High Time: 550 | ML High Time: 221\n",
      "  Photodiode aligned. Correlation: 0.983 | Shift: 0\n",
      "  Trial 175 | Epoch start 3029175.0320113176 | Epoch end 3042001.0320113176\n",
      "Trial 176 | Correlation: 0.993 | SGLX High Time: 2685 | ML High Time: 339\n",
      "  Trial 176 | Epoch start 3042004.098967034 | Epoch end 3053913.098967034\n",
      "Trial 177 low on first approximation | Correlation: -0.238 | SGLX High Time: 182 | ML High Time: 622\n",
      "  Photodiode aligned. Correlation: 0.983 | Shift: -2\n",
      "  Trial 177 | Epoch start 3053911.098967034 | Epoch end 3068592.098967034\n",
      "Trial 178 low on first approximation | Correlation: 0.089 | SGLX High Time: 1278 | ML High Time: 37\n",
      "  Photodiode aligned. Correlation: 0.981 | Shift: 0\n",
      "  Trial 178 | Epoch start 3068592.098967034 | Epoch end 3084637.098967034\n",
      "Trial 179 low on first approximation | Correlation: 0.026 | SGLX High Time: 552 | ML High Time: 160\n",
      "  Photodiode aligned. Correlation: 0.982 | Shift: 1\n",
      "  Trial 179 | Epoch start 3084638.098967034 | Epoch end 3094748.098967034\n",
      "Trial 180 low on first approximation | Correlation: 0.11 | SGLX High Time: 1376 | ML High Time: 136\n",
      "  Photodiode aligned. Correlation: 0.98 | Shift: -1\n",
      "  Trial 180 | Epoch start 3094747.098967034 | Epoch end 3108506.098967034\n",
      "Trial 181 low on first approximation | Correlation: -0.297 | SGLX High Time: 495 | ML High Time: 211\n",
      "  Photodiode aligned. Correlation: 0.984 | Shift: 0\n",
      "  Trial 181 | Epoch start 3108506.098967034 | Epoch end 3123852.098967034\n",
      "Trial 182 low on first approximation | Correlation: -0.062 | SGLX High Time: 860 | ML High Time: 348\n",
      "  Photodiode aligned. Correlation: 0.981 | Shift: 1\n",
      "  Trial 182 | Epoch start 3123853.098967034 | Epoch end 3136547.098967034\n",
      "Trial 183 low on first approximation | Correlation: -0.098 | SGLX High Time: 414 | ML High Time: 72\n",
      "  Photodiode aligned. Correlation: 0.981 | Shift: -1\n",
      "  Trial 183 | Epoch start 3136546.098967034 | Epoch end 3151224.098967034\n",
      "Trial 184 low on first approximation | Correlation: 0.051 | SGLX High Time: 1086 | ML High Time: 21\n",
      "  Photodiode aligned. Correlation: 0.982 | Shift: 1\n",
      "  Trial 184 | Epoch start 3151225.098967034 | Epoch end 3161769.098967034\n",
      "Trial 185 low on first approximation | Correlation: -0.101 | SGLX High Time: 245 | ML High Time: 238\n",
      "  Photodiode aligned. Correlation: 0.984 | Shift: 0\n",
      "  Trial 185 | Epoch start 3161769.098967034 | Epoch end 3172977.098967034\n",
      "Trial 186 low on first approximation | Correlation: 0.089 | SGLX High Time: 48 | ML High Time: 555\n",
      "  Photodiode aligned. Correlation: 0.987 | Shift: 1\n",
      "  Trial 186 | Epoch start 3172978.098967034 | Epoch end 3187758.098967034\n",
      "Trial 187 | Correlation: 0.993 | SGLX High Time: 3621 | ML High Time: 808\n",
      "  Trial 187 | Epoch start 3187760.3440405447 | Epoch end 3200903.3440405447\n",
      "Trial 188 low on first approximation | Correlation: -0.017 | SGLX High Time: 1253 | ML High Time: 439\n",
      "  Photodiode aligned. Correlation: 0.983 | Shift: -2\n",
      "  Trial 188 | Epoch start 3200901.3440405447 | Epoch end 3210577.3440405447\n",
      "Trial 189 low on first approximation | Correlation: -0.014 | SGLX High Time: 76 | ML High Time: 904\n",
      "  Photodiode aligned. Correlation: 0.985 | Shift: 0\n",
      "  Trial 189 | Epoch start 3210577.3440405447 | Epoch end 3223953.3440405447\n",
      "Trial 190 low on first approximation | Correlation: -0.133 | SGLX High Time: 414 | ML High Time: 307\n",
      "  Photodiode aligned. Correlation: 0.984 | Shift: 0\n",
      "  Trial 190 | Epoch start 3223953.3440405447 | Epoch end 3238031.3440405447\n",
      "Trial 191 low on first approximation | Correlation: -0.043 | SGLX High Time: 587 | ML High Time: 707\n",
      "  Photodiode aligned. Correlation: 0.981 | Shift: -1\n",
      "  Trial 191 | Epoch start 3238030.3440405447 | Epoch end 3251107.3440405447\n",
      "Trial 192 low on first approximation | Correlation: -0.057 | SGLX High Time: 125 | ML High Time: 163\n",
      "  Photodiode aligned. Correlation: 0.985 | Shift: 2\n",
      "  Trial 192 | Epoch start 3251109.3440405447 | Epoch end 3263603.3440405447\n",
      "Trial 193 low on first approximation | Correlation: -0.068 | SGLX High Time: 1 | ML High Time: 278\n",
      "  Photodiode aligned. Correlation: 0.984 | Shift: 0\n",
      "  Trial 193 | Epoch start 3263603.3440405447 | Epoch end 3279299.3440405447\n",
      "Trial 194 low on first approximation | Correlation: 0.355 | SGLX High Time: 1688 | ML High Time: 1\n",
      "  Photodiode aligned. Correlation: 0.981 | Shift: -1\n",
      "  Trial 194 | Epoch start 3279298.3440405447 | Epoch end 3293777.3440405447\n",
      "Trial 195 low on first approximation | Correlation: 0.143 | SGLX High Time: 186 | ML High Time: 1023\n",
      "  Photodiode aligned. Correlation: 0.983 | Shift: 1\n",
      "  Trial 195 | Epoch start 3293778.3440405447 | Epoch end 3307406.3440405447\n",
      "Trial 196 low on first approximation | Correlation: 0.137 | SGLX High Time: 387 | ML High Time: 2\n",
      "  Photodiode aligned. Correlation: 0.984 | Shift: -1\n",
      "  Trial 196 | Epoch start 3307405.3440405447 | Epoch end 3322719.3440405447\n",
      "Trial 197 low on first approximation | Correlation: 0.133 | SGLX High Time: 879 | ML High Time: 304\n",
      "  Photodiode aligned. Correlation: 0.981 | Shift: 0\n",
      "  Trial 197 | Epoch start 3322719.3440405447 | Epoch end 3334977.3440405447\n",
      "Trial 198 low on first approximation | Correlation: 0.054 | SGLX High Time: 752 | ML High Time: 75\n",
      "  Photodiode aligned. Correlation: 0.982 | Shift: 1\n",
      "  Trial 198 | Epoch start 3334978.3440405447 | Epoch end 3349107.3440405447\n",
      "Trial 199 low on first approximation | Correlation: 0.037 | SGLX High Time: 129 | ML High Time: 340\n",
      "  Photodiode aligned. Correlation: 0.98 | Shift: -1\n",
      "  Trial 199 | Epoch start 3349106.3440405447 | Epoch end 3365053.3440405447\n",
      "Trial 200 low on first approximation | Correlation: -0.194 | SGLX High Time: 1049 | ML High Time: 474\n",
      "  Photodiode aligned. Correlation: 0.982 | Shift: 1\n",
      "  Trial 200 | Epoch start 3365054.3440405447 | Epoch end 3377547.3440405447\n",
      "Trial 201 low on first approximation | Correlation: 0.079 | SGLX High Time: 447 | ML High Time: 593\n",
      "  Photodiode aligned. Correlation: 0.981 | Shift: 0\n",
      "  Trial 201 | Epoch start 3377547.3440405447 | Epoch end 3393643.3440405447\n",
      "Trial 202 low on first approximation | Correlation: -0.132 | SGLX High Time: 1017 | ML High Time: 539\n",
      "  Photodiode aligned. Correlation: 0.982 | Shift: 0\n",
      "  Trial 202 | Epoch start 3393643.3440405447 | Epoch end 3409290.3440405447\n",
      "Trial 203 low on first approximation | Correlation: 0.063 | SGLX High Time: 1416 | ML High Time: 472\n",
      "  Photodiode aligned. Correlation: 0.985 | Shift: 1\n",
      "  Trial 203 | Epoch start 3409291.3440405447 | Epoch end 3422050.3440405447\n",
      "Trial 204 low on first approximation | Correlation: -0.067 | SGLX High Time: 850 | ML High Time: 206\n",
      "  Photodiode aligned. Correlation: 0.98 | Shift: -1\n",
      "  Trial 204 | Epoch start 3422049.3440405447 | Epoch end 3435361.3440405447\n",
      "Trial 205 low on first approximation | Correlation: -0.073 | SGLX High Time: 115 | ML High Time: 21\n",
      "  Photodiode aligned. Correlation: 0.985 | Shift: 1\n",
      "  Trial 205 | Epoch start 3435362.3440405447 | Epoch end 3448890.3440405447\n",
      "Trial 206 low on first approximation | Correlation: -0.046 | SGLX High Time: 86 | ML High Time: 42\n",
      "  Photodiode aligned. Correlation: 0.981 | Shift: -1\n",
      "  Trial 206 | Epoch start 3448889.3440405447 | Epoch end 3464252.3440405447\n",
      "Trial 207 low on first approximation | Correlation: -0.041 | SGLX High Time: 285 | ML High Time: 154\n",
      "  Photodiode aligned. Correlation: 0.982 | Shift: 1\n",
      "  Trial 207 | Epoch start 3464253.3440405447 | Epoch end 3478665.3440405447\n",
      "Trial 208 low on first approximation | Correlation: -0.147 | SGLX High Time: 1079 | ML High Time: 374\n",
      "  Photodiode aligned. Correlation: 0.983 | Shift: -1\n",
      "  Trial 208 | Epoch start 3478664.3440405447 | Epoch end 3489672.3440405447\n",
      "Trial 209 low on first approximation | Correlation: -0.121 | SGLX High Time: 1755 | ML High Time: 539\n",
      "  Photodiode aligned. Correlation: 0.982 | Shift: 2\n",
      "  Trial 209 | Epoch start 3489674.3440405447 | Epoch end 3506321.3440405447\n",
      "Trial 210 low on first approximation | Correlation: 0.05 | SGLX High Time: 1081 | ML High Time: 429\n",
      "  Photodiode aligned. Correlation: 0.984 | Shift: 1\n",
      "  Trial 210 | Epoch start 3506322.3440405447 | Epoch end 3521919.3440405447\n",
      "Trial 211 | Correlation: 0.994 | SGLX High Time: 2278 | ML High Time: 137\n",
      "  Trial 211 | Epoch start 3521920.902969045 | Epoch end 3537515.902969045\n",
      "Trial 212 | Correlation: 0.992 | SGLX High Time: 2145 | ML High Time: 72\n",
      "  Trial 212 | Epoch start 3537515.928997369 | Epoch end 3548841.928997369\n",
      "Trial 213 low on first approximation | Correlation: -0.052 | SGLX High Time: 1011 | ML High Time: 223\n",
      "  Photodiode aligned. Correlation: 0.983 | Shift: -2\n",
      "  Trial 213 | Epoch start 3548839.928997369 | Epoch end 3563102.928997369\n",
      "Trial 214 | Correlation: 0.994 | SGLX High Time: 2419 | ML High Time: 205\n",
      "  Trial 214 | Epoch start 3563106.972110865 | Epoch end 3576516.972110865\n",
      "Trial 215 low on first approximation | Correlation: -0.017 | SGLX High Time: 978 | ML High Time: 138\n",
      "  Photodiode aligned. Correlation: 0.984 | Shift: -3\n",
      "  Trial 215 | Epoch start 3576513.972110865 | Epoch end 3627588.972110865\n",
      "Trial 216 low on first approximation | Correlation: 0.012 | SGLX High Time: 1383 | ML High Time: 180\n",
      "  Photodiode aligned. Correlation: 0.983 | Shift: 1\n",
      "  Trial 216 | Epoch start 3627589.972110865 | Epoch end 3683336.972110865\n",
      "Trial 217 low on first approximation | Correlation: -0.039 | SGLX High Time: 76 | ML High Time: 521\n",
      "  Photodiode aligned. Correlation: 0.986 | Shift: 1\n",
      "  Trial 217 | Epoch start 3683337.972110865 | Epoch end 3738915.972110865\n",
      "Trial 218 low on first approximation | Correlation: -0.035 | SGLX High Time: 714 | ML High Time: 91\n",
      "  Photodiode aligned. Correlation: 0.985 | Shift: 0\n",
      "  Trial 218 | Epoch start 3738915.972110865 | Epoch end 3787406.972110865\n",
      "Trial 219 low on first approximation | Correlation: -0.104 | SGLX High Time: 10 | ML High Time: 487\n",
      "  Photodiode aligned. Correlation: 0.982 | Shift: -1\n",
      "  Trial 219 | Epoch start 3787405.972110865 | Epoch end 3799164.972110865\n",
      "Trial 220 low on first approximation | Correlation: -0.066 | SGLX High Time: 1460 | ML High Time: 188\n",
      "  Photodiode aligned. Correlation: 0.98 | Shift: 1\n",
      "  Trial 220 | Epoch start 3799165.972110865 | Epoch end 3812159.972110865\n",
      "Trial 221 low on first approximation | Correlation: 0.012 | SGLX High Time: 447 | ML High Time: 788\n",
      "  Photodiode aligned. Correlation: 0.983 | Shift: 0\n",
      "  Trial 221 | Epoch start 3812159.972110865 | Epoch end 3828705.972110865\n",
      "Trial 222 low on first approximation | Correlation: -0.039 | SGLX High Time: 115 | ML High Time: 273\n",
      "  Photodiode aligned. Correlation: 0.983 | Shift: 0\n",
      "  Trial 222 | Epoch start 3828705.972110865 | Epoch end 3842818.972110865\n",
      "Trial 223 low on first approximation | Correlation: 0.021 | SGLX High Time: 111 | ML High Time: 155\n",
      "  Photodiode aligned. Correlation: 0.984 | Shift: 1\n",
      "  Trial 223 | Epoch start 3842819.972110865 | Epoch end 3857797.972110865\n",
      "Trial 224 low on first approximation | Correlation: -0.069 | SGLX High Time: 1013 | ML High Time: 506\n",
      "  Photodiode aligned. Correlation: 0.984 | Shift: 0\n",
      "  Trial 224 | Epoch start 3857797.972110865 | Epoch end 3870590.972110865\n",
      "Trial 225 low on first approximation | Correlation: -0.134 | SGLX High Time: 691 | ML High Time: 2\n",
      "  Photodiode aligned. Correlation: 0.982 | Shift: 0\n",
      "  Trial 225 | Epoch start 3870590.972110865 | Epoch end 3885186.972110865\n",
      "Trial 226 low on first approximation | Correlation: 0.069 | SGLX High Time: 15 | ML High Time: 372\n",
      "  Photodiode aligned. Correlation: 0.983 | Shift: 0\n",
      "  Trial 226 | Epoch start 3885186.972110865 | Epoch end 3902085.972110865\n",
      "Trial 227 | Correlation: 0.994 | SGLX High Time: 3122 | ML High Time: 558\n",
      "  Trial 227 | Epoch start 3902088.540835602 | Epoch end 3916965.540835602\n",
      "Trial 228 low on first approximation | Correlation: 0.106 | SGLX High Time: 1343 | ML High Time: 605\n",
      "  Photodiode aligned. Correlation: 0.982 | Shift: -2\n",
      "  Trial 228 | Epoch start 3916963.540835602 | Epoch end 3931709.540835602\n",
      "Trial 229 low on first approximation | Correlation: 0.262 | SGLX High Time: 847 | ML High Time: 207\n",
      "  Photodiode aligned. Correlation: 0.984 | Shift: 0\n",
      "  Trial 229 | Epoch start 3931709.540835602 | Epoch end 3943418.540835602\n",
      "Trial 230 low on first approximation | Correlation: 0.027 | SGLX High Time: 915 | ML High Time: 344\n",
      "  Photodiode aligned. Correlation: 0.983 | Shift: 1\n",
      "  Trial 230 | Epoch start 3943419.540835602 | Epoch end 3955280.540835602\n",
      "Trial 231 low on first approximation | Correlation: 0.037 | SGLX High Time: 1252 | ML High Time: 1655\n",
      "  Photodiode aligned. Correlation: 0.981 | Shift: -1\n",
      "  Trial 231 | Epoch start 3955279.540835602 | Epoch end 3968623.540835602\n",
      "Trial 232 low on first approximation | Correlation: -0.031 | SGLX High Time: 1215 | ML High Time: 937\n",
      "  Photodiode aligned. Correlation: 0.98 | Shift: 0\n",
      "  Trial 232 | Epoch start 3968623.540835602 | Epoch end 3981866.540835602\n",
      "Trial 233 low on first approximation | Correlation: -0.038 | SGLX High Time: 1120 | ML High Time: 55\n",
      "  Photodiode aligned. Correlation: 0.981 | Shift: 0\n",
      "  Trial 233 | Epoch start 3981866.540835602 | Epoch end 3997095.540835602\n",
      "Trial 234 low on first approximation | Correlation: 0.225 | SGLX High Time: 1795 | ML High Time: 322\n",
      "  Photodiode aligned. Correlation: 0.984 | Shift: 0\n",
      "  Trial 234 | Epoch start 3997095.540835602 | Epoch end 4014077.540835602\n",
      "Trial 235 low on first approximation | Correlation: 0.017 | SGLX High Time: 716 | ML High Time: 4\n",
      "  Photodiode aligned. Correlation: 0.986 | Shift: 1\n",
      "  Trial 235 | Epoch start 4014078.540835602 | Epoch end 4026922.540835602\n",
      "Trial 236 low on first approximation | Correlation: 0.165 | SGLX High Time: 683 | ML High Time: 55\n",
      "  Photodiode aligned. Correlation: 0.983 | Shift: 0\n",
      "  Trial 236 | Epoch start 4026922.540835602 | Epoch end 4043168.540835602\n",
      "Trial 237 | Correlation: 0.993 | SGLX High Time: 2149 | ML High Time: 71\n",
      "  Trial 237 | Epoch start 4043171.776474893 | Epoch end 4055247.776474893\n",
      "Trial 238 low on first approximation | Correlation: 0.163 | SGLX High Time: 12 | ML High Time: 31\n",
      "  Photodiode aligned. Correlation: 0.98 | Shift: -3\n",
      "  Trial 238 | Epoch start 4055244.776474893 | Epoch end 4073509.776474893\n",
      "Trial 239 low on first approximation | Correlation: 0.045 | SGLX High Time: 83 | ML High Time: 723\n",
      "  Photodiode aligned. Correlation: 0.98 | Shift: 0\n",
      "  Trial 239 | Epoch start 4073509.776474893 | Epoch end 4087438.776474893\n",
      "Trial 240 low on first approximation | Correlation: 0.038 | SGLX High Time: 1098 | ML High Time: 106\n",
      "  Photodiode aligned. Correlation: 0.983 | Shift: 0\n",
      "  Trial 240 | Epoch start 4087438.776474893 | Epoch end 4104369.776474893\n",
      "Trial 241 low on first approximation | Correlation: 0.365 | SGLX High Time: 1720 | ML High Time: 1\n",
      "  Photodiode aligned. Correlation: 0.986 | Shift: 2\n",
      "  Trial 241 | Epoch start 4104371.776474893 | Epoch end 4118464.776474893\n",
      "Trial 242 low on first approximation | Correlation: 0.302 | SGLX High Time: 1439 | ML High Time: 895\n",
      "  Photodiode aligned. Correlation: 0.981 | Shift: -1\n",
      "  Trial 242 | Epoch start 4118463.776474893 | Epoch end 4135545.776474893\n",
      "Trial 243 low on first approximation | Correlation: -0.064 | SGLX High Time: 12 | ML High Time: 305\n",
      "  Photodiode aligned. Correlation: 0.981 | Shift: 0\n",
      "  Trial 243 | Epoch start 4135545.776474893 | Epoch end 4147422.776474893\n",
      "Trial 244 | Correlation: 0.994 | SGLX High Time: 2581 | ML High Time: 287\n",
      "  Trial 244 | Epoch start 4147425.9515669066 | Epoch end 4162820.9515669066\n",
      "Trial 245 low on first approximation | Correlation: 0.145 | SGLX High Time: 284 | ML High Time: 98\n",
      "  Photodiode aligned. Correlation: 0.981 | Shift: -3\n",
      "  Trial 245 | Epoch start 4162817.9515669066 | Epoch end 4180197.9515669066\n",
      "Trial 246 low on first approximation | Correlation: -0.134 | SGLX High Time: 217 | ML High Time: 105\n",
      "  Photodiode aligned. Correlation: 0.983 | Shift: 1\n",
      "  Trial 246 | Epoch start 4180198.9515669066 | Epoch end 4195712.951566907\n",
      "Trial 247 low on first approximation | Correlation: -0.233 | SGLX High Time: 417 | ML High Time: 50\n",
      "  Photodiode aligned. Correlation: 0.985 | Shift: 0\n",
      "  Trial 247 | Epoch start 4195712.951566907 | Epoch end 4210840.951566907\n",
      "Trial 248 low on first approximation | Correlation: 0.101 | SGLX High Time: 50 | ML High Time: 109\n",
      "  Photodiode aligned. Correlation: 0.981 | Shift: 0\n",
      "  Trial 248 | Epoch start 4210840.951566907 | Epoch end 4221282.951566907\n",
      "Trial 249 | Correlation: 0.991 | SGLX High Time: 3349 | ML High Time: 672\n",
      "  Trial 249 | Epoch start 4221285.076000059 | Epoch end 4235598.076000059\n",
      "Trial 250 low on first approximation | Correlation: 0.143 | SGLX High Time: 684 | ML High Time: 88\n",
      "  Photodiode aligned. Correlation: 0.982 | Shift: -2\n",
      "  Trial 250 | Epoch start 4235596.076000059 | Epoch end 4253443.076000059\n",
      "Trial 251 low on first approximation | Correlation: 0.029 | SGLX High Time: 1871 | ML High Time: 906\n",
      "  Photodiode aligned. Correlation: 0.983 | Shift: 1\n",
      "  Trial 251 | Epoch start 4253444.076000059 | Epoch end 4265638.076000059\n",
      "Trial 252 low on first approximation | Correlation: -0.016 | SGLX High Time: 678 | ML High Time: 32\n",
      "  Photodiode aligned. Correlation: 0.983 | Shift: 0\n",
      "  Trial 252 | Epoch start 4265638.076000059 | Epoch end 4276930.076000059\n",
      "Trial 253 low on first approximation | Correlation: 0.049 | SGLX High Time: 1622 | ML High Time: 71\n",
      "  Photodiode aligned. Correlation: 0.984 | Shift: 0\n",
      "  Trial 253 | Epoch start 4276930.076000059 | Epoch end 4290290.076000059\n",
      "Trial 254 low on first approximation | Correlation: 0.075 | SGLX High Time: 20 | ML High Time: 39\n",
      "  Photodiode aligned. Correlation: 0.985 | Shift: 0\n",
      "  Trial 254 | Epoch start 4290290.076000059 | Epoch end 4300216.076000059\n",
      "Trial 255 low on first approximation | Correlation: 0.053 | SGLX High Time: 486 | ML High Time: 256\n",
      "  Photodiode aligned. Correlation: 0.983 | Shift: -1\n",
      "  Trial 255 | Epoch start 4300215.076000059 | Epoch end 4316979.076000059\n",
      "Trial 256 low on first approximation | Correlation: 0.045 | SGLX High Time: 1286 | ML High Time: 571\n",
      "  Photodiode aligned. Correlation: 0.981 | Shift: 1\n",
      "  Trial 256 | Epoch start 4316980.076000059 | Epoch end 4329307.076000059\n",
      "Trial 257 low on first approximation | Correlation: -0.059 | SGLX High Time: 379 | ML High Time: 458\n",
      "  Photodiode aligned. Correlation: 0.982 | Shift: 0\n",
      "  Trial 257 | Epoch start 4329307.076000059 | Epoch end 4343469.076000059\n",
      "Trial 258 low on first approximation | Correlation: -0.124 | SGLX High Time: 1112 | ML High Time: 1056\n",
      "  Photodiode aligned. Correlation: 0.981 | Shift: -1\n",
      "  Trial 258 | Epoch start 4343468.076000059 | Epoch end 4360414.076000059\n",
      "Trial 259 low on first approximation | Correlation: 0.012 | SGLX High Time: 850 | ML High Time: 989\n",
      "  Photodiode aligned. Correlation: 0.982 | Shift: 2\n",
      "  Trial 259 | Epoch start 4360416.076000059 | Epoch end 4411459.076000059\n",
      "Trial 260 low on first approximation | Correlation: 0.079 | SGLX High Time: 1814 | ML High Time: 171\n",
      "  Photodiode aligned. Correlation: 0.985 | Shift: 1\n",
      "  Trial 260 | Epoch start 4411460.076000059 | Epoch end 4438650.076000059\n",
      "Trial 261 low on first approximation | Correlation: -0.114 | SGLX High Time: 108 | ML High Time: 455\n",
      "  Photodiode aligned. Correlation: 0.981 | Shift: -1\n",
      "  Trial 261 | Epoch start 4438649.076000059 | Epoch end 4454927.076000059\n",
      "Trial 262 low on first approximation | Correlation: -0.022 | SGLX High Time: 22 | ML High Time: 662\n",
      "  Photodiode aligned. Correlation: 0.98 | Shift: 0\n",
      "  Trial 262 | Epoch start 4454927.076000059 | Epoch end 4473009.076000059\n",
      "Trial 263 low on first approximation | Correlation: -0.085 | SGLX High Time: 82 | ML High Time: 456\n",
      "  Photodiode aligned. Correlation: 0.985 | Shift: 1\n",
      "  Trial 263 | Epoch start 4473010.076000059 | Epoch end 4487939.076000059\n",
      "Trial 264 | Correlation: 0.994 | SGLX High Time: 2947 | ML High Time: 471\n",
      "  Trial 264 | Epoch start 4487941.522579388 | Epoch end 4501703.522579388\n",
      "Trial 265 low on first approximation | Correlation: -0.14 | SGLX High Time: 83 | ML High Time: 837\n",
      "  Photodiode aligned. Correlation: 0.984 | Shift: -2\n",
      "  Trial 265 | Epoch start 4501701.522579388 | Epoch end 4518280.522579388\n",
      "Trial 266 low on first approximation | Correlation: -0.122 | SGLX High Time: 148 | ML High Time: 139\n",
      "  Photodiode aligned. Correlation: 0.98 | Shift: -1\n",
      "  Trial 266 | Epoch start 4518279.522579388 | Epoch end 4531908.522579388\n",
      "Trial 267 low on first approximation | Correlation: -0.07 | SGLX High Time: 1320 | ML High Time: 588\n",
      "  Photodiode aligned. Correlation: 0.982 | Shift: 1\n",
      "  Trial 267 | Epoch start 4531909.522579388 | Epoch end 4549223.522579388\n",
      "Trial 268 low on first approximation | Correlation: 0.117 | SGLX High Time: 7 | ML High Time: 704\n",
      "  Photodiode aligned. Correlation: 0.98 | Shift: 0\n",
      "  Trial 268 | Epoch start 4549223.522579388 | Epoch end 4561632.522579388\n",
      "Trial 269 low on first approximation | Correlation: 0.061 | SGLX High Time: 98 | ML High Time: 264\n",
      "  Photodiode aligned. Correlation: 0.985 | Shift: 1\n",
      "  Trial 269 | Epoch start 4561633.522579388 | Epoch end 4578113.522579388\n",
      "Trial 270 low on first approximation | Correlation: 0.058 | SGLX High Time: 581 | ML High Time: 73\n",
      "  Photodiode aligned. Correlation: 0.984 | Shift: 0\n",
      "  Trial 270 | Epoch start 4578113.522579388 | Epoch end 4593777.522579388\n",
      "Trial 271 low on first approximation | Correlation: 0.139 | SGLX High Time: 46 | ML High Time: 554\n",
      "  Photodiode aligned. Correlation: 0.982 | Shift: 0\n",
      "  Trial 271 | Epoch start 4593777.522579388 | Epoch end 4609206.522579388\n",
      "Trial 272 low on first approximation | Correlation: 0.031 | SGLX High Time: 479 | ML High Time: 1189\n",
      "  Photodiode aligned. Correlation: 0.981 | Shift: 0\n",
      "  Trial 272 | Epoch start 4609206.522579388 | Epoch end 4624202.522579388\n",
      "Trial 273 low on first approximation | Correlation: -0.161 | SGLX High Time: 1014 | ML High Time: 196\n",
      "  Photodiode aligned. Correlation: 0.983 | Shift: 0\n",
      "  Trial 273 | Epoch start 4624202.522579388 | Epoch end 4636595.522579388\n",
      "Trial 274 low on first approximation | Correlation: -0.168 | SGLX High Time: 47 | ML High Time: 307\n",
      "  Photodiode aligned. Correlation: 0.982 | Shift: 0\n",
      "  Trial 274 | Epoch start 4636595.522579388 | Epoch end 4653459.522579388\n",
      "Trial 275 low on first approximation | Correlation: -0.02 | SGLX High Time: 14 | ML High Time: 138\n",
      "  Photodiode aligned. Correlation: 0.981 | Shift: 0\n",
      "  Trial 275 | Epoch start 4653459.522579388 | Epoch end 4668153.522579388\n",
      "Trial 276 low on first approximation | Correlation: -0.048 | SGLX High Time: 1317 | ML High Time: 335\n",
      "  Photodiode aligned. Correlation: 0.983 | Shift: 1\n",
      "  Trial 276 | Epoch start 4668154.522579388 | Epoch end 4686087.522579388\n",
      "Trial 277 low on first approximation | Correlation: 0.068 | SGLX High Time: 1079 | ML High Time: 590\n",
      "  Photodiode aligned. Correlation: 0.982 | Shift: -1\n",
      "  Trial 277 | Epoch start 4686086.522579388 | Epoch end 4702098.522579388\n",
      "Trial 278 low on first approximation | Correlation: -0.19 | SGLX High Time: 451 | ML High Time: 72\n",
      "  Photodiode aligned. Correlation: 0.983 | Shift: 1\n",
      "  Trial 278 | Epoch start 4702099.522579388 | Epoch end 4719363.522579388\n",
      "Trial 279 low on first approximation | Correlation: -0.076 | SGLX High Time: 488 | ML High Time: 308\n",
      "  Photodiode aligned. Correlation: 0.981 | Shift: 0\n",
      "  Trial 279 | Epoch start 4719363.522579388 | Epoch end 4738196.522579388\n",
      "Trial 280 low on first approximation | Correlation: -0.059 | SGLX High Time: 848 | ML High Time: 288\n",
      "  Photodiode aligned. Correlation: 0.98 | Shift: -1\n",
      "  Trial 280 | Epoch start 4738195.522579388 | Epoch end 4750739.522579388\n",
      "Trial 281 low on first approximation | Correlation: -0.053 | SGLX High Time: 319 | ML High Time: 204\n",
      "  Photodiode aligned. Correlation: 0.982 | Shift: 2\n",
      "  Trial 281 | Epoch start 4750741.522579388 | Epoch end 4801933.522579388\n",
      "Trial 282 low on first approximation | Correlation: -0.012 | SGLX High Time: 413 | ML High Time: 38\n",
      "  Photodiode aligned. Correlation: 0.982 | Shift: 1\n",
      "  Trial 282 | Epoch start 4801934.522579388 | Epoch end 4857665.522579388\n",
      "Trial 283 low on first approximation | Correlation: -0.057 | SGLX High Time: 242 | ML High Time: 70\n",
      "  Photodiode aligned. Correlation: 0.984 | Shift: 1\n",
      "  Trial 283 | Epoch start 4857666.522579388 | Epoch end 4913309.522579388\n",
      "Trial 284 low on first approximation | Correlation: -0.071 | SGLX High Time: 513 | ML High Time: 7\n",
      "  Photodiode aligned. Correlation: 0.985 | Shift: 1\n",
      "  Trial 284 | Epoch start 4913310.522579388 | Epoch end 4969039.522579388\n",
      "Trial 285 low on first approximation | Correlation: 0.023 | SGLX High Time: 479 | ML High Time: 305\n",
      "  Photodiode aligned. Correlation: 0.984 | Shift: 0\n",
      "  Trial 285 | Epoch start 4969039.522579388 | Epoch end 5024769.522579388\n"
     ]
    },
    {
     "data": {
      "image/png": "[encoded data removed]",
      "text/plain": [
       "<Figure size 1500x800 with 2 Axes>"
      ]
     },
     "metadata": {},
     "output_type": "display_data"
    },
    {
     "name": "stdout",
     "output_type": "stream",
     "text": [
      "  Done.\n",
      "Comparing ML and SpikeGLX photodiode signals...\n",
      "Number of frames in ML Cam TTL: 602941\n",
      "Number of frames in SpikeGLX Cam TTL: 603016\n",
      "  Done.\n",
      "Plotting ML and SpikeGLX photodiode signals...\n"
     ]
    },
    {
     "data": {
      "image/png": "[encoded data removed]",
      "text/plain": [
       "<Figure size 1500x300 with 1 Axes>"
      ]
     },
     "metadata": {},
     "output_type": "display_data"
    },
    {
     "name": "stdout",
     "output_type": "stream",
     "text": [
      "  Done.\n",
      "Plotting first trial...\n"
     ]
    },
    {
     "data": {
      "image/png": "[encoded data removed]",
      "text/plain": [
       "<Figure size 2000x800 with 3 Axes>"
      ]
     },
     "metadata": {},
     "output_type": "display_data"
    },
    {
     "name": "stdout",
     "output_type": "stream",
     "text": [
      "  Done.\n",
      "Saving spikeglx_obj...\n",
      "  Pickle file size: 408.994381 MB\n",
      "  Pickle file path: _data\\gandalf_231205\\spikeglx_obj_gandalf_231205.pkl\n",
      "Done. Saved spikeglx_obj.\n"
     ]
    }
   ],
   "source": [
    "from spike_glx.load_SGLX import load_sglx\n",
    "\n",
    "# Load the spikeglx object\n",
    "spikeglx_obj = load_sglx(session_obj.df, \n",
    "                         session_obj, \n",
    "                         file_container_obj, \n",
    "                         signal_dict, \n",
    "                         epochs)"
   ]
  },
  {
   "cell_type": "markdown",
   "metadata": {},
   "source": [
    "### ML-SpikeGLX Session Correlation\n",
    "To see just the correlation matrix for each trial in a session, run `plot_spikeglx_ml_corr` with the newly-generated `spikeglx_obj`."
   ]
  },
  {
   "cell_type": "code",
   "execution_count": 10,
   "metadata": {},
   "outputs": [
    {
     "data": {
      "image/png": "[encoded data removed]",
      "text/plain": [
       "<Figure size 1500x800 with 2 Axes>"
      ]
     },
     "metadata": {},
     "output_type": "display_data"
    }
   ],
   "source": [
    "from spike_glx.read_SGLX import plot_spikeglx_ml_corr\n",
    "plot_spikeglx_ml_corr(spikeglx_obj.ml_sglx_corr_matrix, 100)"
   ]
  },
  {
   "cell_type": "markdown",
   "metadata": {},
   "source": [
    "***\n",
    "## Process White Matter Videos\n",
    "\n",
    "After generating a `SpikeGLX` object, you can segment all the White Matter videos by trial."
   ]
  },
  {
   "cell_type": "code",
   "execution_count": 14,
   "metadata": {},
   "outputs": [
    {
     "name": "stdout",
     "output_type": "stream",
     "text": [
      "Video Parsing Complete.\n",
      "  Missing Videos: defaultdict(<class 'list'>, {'e3v831b': [74, 135, 214, 281], 'e3v8360': [74, 135, 214, 281], 'e3v83ad': [74, 135, 214, 281], 'e3v83d6': [74, 135, 214, 281]})\n"
     ]
    }
   ],
   "source": [
    "from video.wm_videos import parse_wm_videos\n",
    "\n",
    "if session_obj.monkey == 'gandalf':\n",
    "  epoch_start = 'start'\n",
    "  epoch_end = 'end'\n",
    "else:\n",
    "  epoch_start = 'Trace Start'\n",
    "  epoch_end = 'Outcome Start'\n",
    "\n",
    "kwargs = {'spikeglx_obj': spikeglx_obj,       # 'spikeglx_obj': spikeglx_obj\n",
    "          'session_obj': session_obj,         # 'session_obj': session_obj\n",
    "          'trial_start': 0,                   # 'trial_start': 0 \n",
    "          'trial_end': len(session_obj.df),   # 'trial_end': len(session_obj.df)\n",
    "          'epoch_start': epoch_start,         # 'epoch_start': 'start'\n",
    "          'epoch_end': epoch_end,             # 'epoch_end': 'end'   \n",
    "          'thread_flag': False}               # 'thread_flag': False\n",
    "\n",
    "parse_wm_videos(**kwargs)"
   ]
  },
  {
   "cell_type": "markdown",
   "metadata": {},
   "source": [
    "***\n",
    "## DeepLabCut"
   ]
  },
  {
   "cell_type": "code",
   "execution_count": 15,
   "metadata": {},
   "outputs": [
    {
     "name": "stdout",
     "output_type": "stream",
     "text": [
      "Loading DLC 2.3.7...\n"
     ]
    }
   ],
   "source": [
    "import deeplabcut\n",
    "\n",
    "camera_dict = {\n",
    "  'e3v8360':'face_1', \n",
    "  'e3v83d6':'face_2',\n",
    "  'e3v83ad':'body_1',\n",
    "  'e3v831b':'body_2'\n",
    "}"
   ]
  },
  {
   "cell_type": "code",
   "execution_count": 16,
   "metadata": {},
   "outputs": [
    {
     "name": "stdout",
     "output_type": "stream",
     "text": [
      "Checking for video files...\n",
      "  Video directory: c:\\Users\\rober\\Desktop\\Monkey-Emotions\\video\\gandalf_231205\n"
     ]
    },
    {
     "data": {
      "application/vnd.jupyter.widget-view+json": {
       "model_id": "69dab0262f03482f81c8ee57a613fb7d",
       "version_major": 2,
       "version_minor": 0
      },
      "text/plain": [
       "  0%|          | 0/1124 [00:00<?, ?it/s]"
      ]
     },
     "metadata": {},
     "output_type": "display_data"
    },
    {
     "name": "stdout",
     "output_type": "stream",
     "text": [
      "  Camera: e3v831b | Number of videos: 281\n",
      "  Camera: e3v8360 | Number of videos: 281\n",
      "  Camera: e3v83ad | Number of videos: 281\n",
      "  Camera: e3v83d6 | Number of videos: 281\n"
     ]
    }
   ],
   "source": [
    "from dlc_primate.dlc_utils import dlc_config, dlc_downsample\n",
    "video_dir = os.path.join(os.getcwd(), 'video', session_obj.monkey + '_' + session_obj.date)\n",
    "dlc_video_path_dict = dlc_config.get_trial_video_list(video_dir, camera_dict)\n",
    "# dlc_video_path_dict = spikeglx_obj.video_file_paths"
   ]
  },
  {
   "cell_type": "code",
   "execution_count": 17,
   "metadata": {},
   "outputs": [
    {
     "name": "stdout",
     "output_type": "stream",
     "text": [
      "Checking frame size...\n",
      "   Pixel width x height: 640x480\n",
      "No need to downsample videos\n",
      "Initializing Project...\n",
      "  Project name: body_2\n",
      "  Model: full_macaque\n",
      "  Initilization Videos: ['c:\\\\Users\\\\rober\\\\Desktop\\\\Monkey-Emotions\\\\video\\\\gandalf_231205\\\\gandalf_231205_0_e3v831b.mp4']\n",
      "Created \"231205_gandalf\\body_2-rh-2023-12-06\\videos\"\n",
      "Created \"231205_gandalf\\body_2-rh-2023-12-06\\labeled-data\"\n",
      "Created \"231205_gandalf\\body_2-rh-2023-12-06\\training-datasets\"\n",
      "Created \"231205_gandalf\\body_2-rh-2023-12-06\\dlc-models\"\n",
      "Copying the videos\n",
      "231205_gandalf\\body_2-rh-2023-12-06\\videos\\gandalf_231205_0_e3v831b.mp4\n",
      "Generated \"231205_gandalf\\body_2-rh-2023-12-06\\config.yaml\"\n",
      "\n",
      "A new project with name body_2-rh-2023-12-06 is created at 231205_gandalf and a configurable file (config.yaml) is stored there. Change the parameters in this file to adapt to your project's needs.\n",
      " Once you have changed the configuration file, use the function 'extract_frames' to select frames for labeling.\n",
      ". [OPTIONAL] Use the function 'add_new_videos' to add new videos to your project (at any stage).\n",
      "Downloading weights...\n",
      "Loading.... full_macaque\n"
     ]
    },
    {
     "data": {
      "application/vnd.jupyter.widget-view+json": {
       "model_id": "60d4f053014d49daa194dd721dc25c52",
       "version_major": 2,
       "version_minor": 0
      },
      "text/plain": [
       "DLC_macaque_full_resnet50.tar.gz:   0%|          | 0.00/182M [00:00<?, ?B/s]"
      ]
     },
     "metadata": {},
     "output_type": "display_data"
    },
    {
     "name": "stderr",
     "output_type": "stream",
     "text": [
      "c:\\Users\\rober\\anaconda3\\envs\\DEEPLABCUT\\lib\\site-packages\\huggingface_hub\\file_download.py:138: UserWarning: `huggingface_hub` cache-system uses symlinks by default to efficiently store duplicated files but your machine does not support them in C:\\Users\\rober\\Desktop\\Monkey-Emotions\\231205_gandalf\\body_2-rh-2023-12-06\\dlc-models\\iteration-0\\body_2Dec6-trainset95shuffle1\\train. Caching files will still work but in a degraded version that might require more space on your disk. This warning can be disabled by setting the `HF_HUB_DISABLE_SYMLINKS_WARNING` environment variable. For more details, see https://huggingface.co/docs/huggingface_hub/how-to-cache#limitations.\n",
      "To support symlinks on Windows, you either need to activate Developer Mode or to run Python as an administrator. In order to see activate developer mode, see this article: https://docs.microsoft.com/en-us/windows/apps/get-started/enable-your-device-for-development\n",
      "  warnings.warn(message)\n"
     ]
    },
    {
     "name": "stdout",
     "output_type": "stream",
     "text": [
      "231205_gandalf\\body_2-rh-2023-12-06\\dlc-models\\iteration-0\\body_2Dec6-trainset95shuffle1\\train\\pose_cfg.yaml\n",
      "Analyzing video...\n",
      "Using snapshot-1030000 for model 231205_gandalf\\body_2-rh-2023-12-06\\dlc-models\\iteration-0\\body_2Dec6-trainset95shuffle1\n"
     ]
    },
    {
     "name": "stderr",
     "output_type": "stream",
     "text": [
      "c:\\Users\\rober\\anaconda3\\envs\\DEEPLABCUT\\lib\\site-packages\\tensorflow\\python\\keras\\engine\\base_layer_v1.py:1694: UserWarning: `layer.apply` is deprecated and will be removed in a future version. Please use `layer.__call__` method instead.\n",
      "  warnings.warn('`layer.apply` is deprecated and '\n"
     ]
    },
    {
     "name": "stdout",
     "output_type": "stream",
     "text": [
      "Analyzing all the videos in the directory...\n",
      "Starting to analyze %  231205_gandalf\\body_2-rh-2023-12-06\\videos\\gandalf_231205_0_e3v831b.mp4\n",
      "Loading  231205_gandalf\\body_2-rh-2023-12-06\\videos\\gandalf_231205_0_e3v831b.mp4\n",
      "Duration of video [s]:  12.9 , recorded with  120.0 fps!\n",
      "Overall # of frames:  1548  found with (before cropping) frame dimensions:  640 480\n",
      "Starting to extract posture\n"
     ]
    },
    {
     "name": "stderr",
     "output_type": "stream",
     "text": [
      "100%|██████████| 1548/1548 [05:41<00:00,  4.54it/s]\n"
     ]
    },
    {
     "name": "stdout",
     "output_type": "stream",
     "text": [
      "Saving results in 231205_gandalf\\body_2-rh-2023-12-06\\videos...\n",
      "Saving csv poses!\n",
      "The videos are analyzed. Now your research can truly start! \n",
      " You can create labeled videos with 'create_labeled_video'\n",
      "If the tracking is not satisfactory for some videos, consider expanding the training set. You can use the function 'extract_outlier_frames' to extract a few representative outlier frames.\n",
      "Checking frame size...\n",
      "   Pixel width x height: 640x480\n",
      "No need to downsample videos\n",
      "Initializing Project...\n",
      "  Project name: face_1\n",
      "  Model: primate_face\n",
      "  Initilization Videos: ['c:\\\\Users\\\\rober\\\\Desktop\\\\Monkey-Emotions\\\\video\\\\gandalf_231205\\\\gandalf_231205_0_e3v8360.mp4']\n",
      "Created \"C:\\Users\\rober\\Desktop\\Monkey-Emotions\\231205_gandalf\\face_1-rh-2023-12-06\\videos\"\n",
      "Created \"C:\\Users\\rober\\Desktop\\Monkey-Emotions\\231205_gandalf\\face_1-rh-2023-12-06\\labeled-data\"\n",
      "Created \"C:\\Users\\rober\\Desktop\\Monkey-Emotions\\231205_gandalf\\face_1-rh-2023-12-06\\training-datasets\"\n",
      "Created \"C:\\Users\\rober\\Desktop\\Monkey-Emotions\\231205_gandalf\\face_1-rh-2023-12-06\\dlc-models\"\n",
      "Copying the videos\n",
      "C:\\Users\\rober\\Desktop\\Monkey-Emotions\\231205_gandalf\\face_1-rh-2023-12-06\\videos\\gandalf_231205_0_e3v8360.mp4\n",
      "Generated \"C:\\Users\\rober\\Desktop\\Monkey-Emotions\\231205_gandalf\\face_1-rh-2023-12-06\\config.yaml\"\n",
      "\n",
      "A new project with name face_1-rh-2023-12-06 is created at C:\\Users\\rober\\Desktop\\Monkey-Emotions\\231205_gandalf and a configurable file (config.yaml) is stored there. Change the parameters in this file to adapt to your project's needs.\n",
      " Once you have changed the configuration file, use the function 'extract_frames' to select frames for labeling.\n",
      ". [OPTIONAL] Use the function 'add_new_videos' to add new videos to your project (at any stage).\n",
      "Downloading weights...\n",
      "Loading.... primate_face\n"
     ]
    },
    {
     "data": {
      "application/vnd.jupyter.widget-view+json": {
       "model_id": "b003161b0f5a4011a488d836058ff43c",
       "version_major": 2,
       "version_minor": 0
      },
      "text/plain": [
       "(…)e_resnet_50_iteration-1_shuffle-1.tar.gz:   0%|          | 0.00/198M [00:00<?, ?B/s]"
      ]
     },
     "metadata": {},
     "output_type": "display_data"
    },
    {
     "name": "stderr",
     "output_type": "stream",
     "text": [
      "c:\\Users\\rober\\anaconda3\\envs\\DEEPLABCUT\\lib\\site-packages\\huggingface_hub\\file_download.py:138: UserWarning: `huggingface_hub` cache-system uses symlinks by default to efficiently store duplicated files but your machine does not support them in C:\\Users\\rober\\Desktop\\Monkey-Emotions\\231205_gandalf\\face_1-rh-2023-12-06\\dlc-models\\iteration-0\\face_1Dec6-trainset95shuffle1\\train. Caching files will still work but in a degraded version that might require more space on your disk. This warning can be disabled by setting the `HF_HUB_DISABLE_SYMLINKS_WARNING` environment variable. For more details, see https://huggingface.co/docs/huggingface_hub/how-to-cache#limitations.\n",
      "To support symlinks on Windows, you either need to activate Developer Mode or to run Python as an administrator. In order to see activate developer mode, see this article: https://docs.microsoft.com/en-us/windows/apps/get-started/enable-your-device-for-development\n",
      "  warnings.warn(message)\n"
     ]
    },
    {
     "name": "stdout",
     "output_type": "stream",
     "text": [
      "C:\\Users\\rober\\Desktop\\Monkey-Emotions\\231205_gandalf\\face_1-rh-2023-12-06\\dlc-models\\iteration-0\\face_1Dec6-trainset95shuffle1\\train\\pose_cfg.yaml\n",
      "Analyzing video...\n",
      "Using snapshot-1030000 for model C:\\Users\\rober\\Desktop\\Monkey-Emotions\\231205_gandalf\\face_1-rh-2023-12-06\\dlc-models\\iteration-0\\face_1Dec6-trainset95shuffle1\n"
     ]
    },
    {
     "name": "stderr",
     "output_type": "stream",
     "text": [
      "c:\\Users\\rober\\anaconda3\\envs\\DEEPLABCUT\\lib\\site-packages\\tensorflow\\python\\keras\\engine\\base_layer_v1.py:1694: UserWarning: `layer.apply` is deprecated and will be removed in a future version. Please use `layer.__call__` method instead.\n",
      "  warnings.warn('`layer.apply` is deprecated and '\n"
     ]
    },
    {
     "name": "stdout",
     "output_type": "stream",
     "text": [
      "Analyzing all the videos in the directory...\n",
      "Starting to analyze %  C:\\Users\\rober\\Desktop\\Monkey-Emotions\\231205_gandalf\\face_1-rh-2023-12-06\\videos\\gandalf_231205_0_e3v8360.mp4\n",
      "Loading  C:\\Users\\rober\\Desktop\\Monkey-Emotions\\231205_gandalf\\face_1-rh-2023-12-06\\videos\\gandalf_231205_0_e3v8360.mp4\n",
      "Duration of video [s]:  12.9 , recorded with  120.0 fps!\n",
      "Overall # of frames:  1548  found with (before cropping) frame dimensions:  640 480\n",
      "Starting to extract posture\n"
     ]
    },
    {
     "name": "stderr",
     "output_type": "stream",
     "text": [
      "100%|██████████| 1548/1548 [05:54<00:00,  4.37it/s]\n"
     ]
    },
    {
     "name": "stdout",
     "output_type": "stream",
     "text": [
      "Saving results in C:\\Users\\rober\\Desktop\\Monkey-Emotions\\231205_gandalf\\face_1-rh-2023-12-06\\videos...\n",
      "Saving csv poses!\n",
      "The videos are analyzed. Now your research can truly start! \n",
      " You can create labeled videos with 'create_labeled_video'\n",
      "If the tracking is not satisfactory for some videos, consider expanding the training set. You can use the function 'extract_outlier_frames' to extract a few representative outlier frames.\n",
      "  Editing config file.\n",
      "Checking frame size...\n",
      "   Pixel width x height: 640x480\n",
      "No need to downsample videos\n",
      "Initializing Project...\n",
      "  Project name: body_1\n",
      "  Model: full_macaque\n",
      "  Initilization Videos: ['c:\\\\Users\\\\rober\\\\Desktop\\\\Monkey-Emotions\\\\video\\\\gandalf_231205\\\\gandalf_231205_0_e3v83ad.mp4']\n",
      "Created \"C:\\Users\\rober\\Desktop\\Monkey-Emotions\\231205_gandalf\\body_1-rh-2023-12-06\\videos\"\n",
      "Created \"C:\\Users\\rober\\Desktop\\Monkey-Emotions\\231205_gandalf\\body_1-rh-2023-12-06\\labeled-data\"\n",
      "Created \"C:\\Users\\rober\\Desktop\\Monkey-Emotions\\231205_gandalf\\body_1-rh-2023-12-06\\training-datasets\"\n",
      "Created \"C:\\Users\\rober\\Desktop\\Monkey-Emotions\\231205_gandalf\\body_1-rh-2023-12-06\\dlc-models\"\n",
      "Copying the videos\n",
      "C:\\Users\\rober\\Desktop\\Monkey-Emotions\\231205_gandalf\\body_1-rh-2023-12-06\\videos\\gandalf_231205_0_e3v83ad.mp4\n",
      "Generated \"C:\\Users\\rober\\Desktop\\Monkey-Emotions\\231205_gandalf\\body_1-rh-2023-12-06\\config.yaml\"\n",
      "\n",
      "A new project with name body_1-rh-2023-12-06 is created at C:\\Users\\rober\\Desktop\\Monkey-Emotions\\231205_gandalf and a configurable file (config.yaml) is stored there. Change the parameters in this file to adapt to your project's needs.\n",
      " Once you have changed the configuration file, use the function 'extract_frames' to select frames for labeling.\n",
      ". [OPTIONAL] Use the function 'add_new_videos' to add new videos to your project (at any stage).\n",
      "Downloading weights...\n",
      "Loading.... full_macaque\n"
     ]
    },
    {
     "data": {
      "application/vnd.jupyter.widget-view+json": {
       "model_id": "bed3114e6d4e4c5d84cc872dc33d1a6b",
       "version_major": 2,
       "version_minor": 0
      },
      "text/plain": [
       "DLC_macaque_full_resnet50.tar.gz:   0%|          | 0.00/182M [00:00<?, ?B/s]"
      ]
     },
     "metadata": {},
     "output_type": "display_data"
    },
    {
     "name": "stderr",
     "output_type": "stream",
     "text": [
      "c:\\Users\\rober\\anaconda3\\envs\\DEEPLABCUT\\lib\\site-packages\\huggingface_hub\\file_download.py:138: UserWarning: `huggingface_hub` cache-system uses symlinks by default to efficiently store duplicated files but your machine does not support them in C:\\Users\\rober\\Desktop\\Monkey-Emotions\\231205_gandalf\\body_1-rh-2023-12-06\\dlc-models\\iteration-0\\body_1Dec6-trainset95shuffle1\\train. Caching files will still work but in a degraded version that might require more space on your disk. This warning can be disabled by setting the `HF_HUB_DISABLE_SYMLINKS_WARNING` environment variable. For more details, see https://huggingface.co/docs/huggingface_hub/how-to-cache#limitations.\n",
      "To support symlinks on Windows, you either need to activate Developer Mode or to run Python as an administrator. In order to see activate developer mode, see this article: https://docs.microsoft.com/en-us/windows/apps/get-started/enable-your-device-for-development\n",
      "  warnings.warn(message)\n"
     ]
    },
    {
     "name": "stdout",
     "output_type": "stream",
     "text": [
      "C:\\Users\\rober\\Desktop\\Monkey-Emotions\\231205_gandalf\\body_1-rh-2023-12-06\\dlc-models\\iteration-0\\body_1Dec6-trainset95shuffle1\\train\\pose_cfg.yaml\n",
      "Analyzing video...\n",
      "Using snapshot-1030000 for model C:\\Users\\rober\\Desktop\\Monkey-Emotions\\231205_gandalf\\body_1-rh-2023-12-06\\dlc-models\\iteration-0\\body_1Dec6-trainset95shuffle1\n"
     ]
    },
    {
     "name": "stderr",
     "output_type": "stream",
     "text": [
      "c:\\Users\\rober\\anaconda3\\envs\\DEEPLABCUT\\lib\\site-packages\\tensorflow\\python\\keras\\engine\\base_layer_v1.py:1694: UserWarning: `layer.apply` is deprecated and will be removed in a future version. Please use `layer.__call__` method instead.\n",
      "  warnings.warn('`layer.apply` is deprecated and '\n"
     ]
    },
    {
     "name": "stdout",
     "output_type": "stream",
     "text": [
      "Analyzing all the videos in the directory...\n",
      "Starting to analyze %  C:\\Users\\rober\\Desktop\\Monkey-Emotions\\231205_gandalf\\body_1-rh-2023-12-06\\videos\\gandalf_231205_0_e3v83ad.mp4\n",
      "Loading  C:\\Users\\rober\\Desktop\\Monkey-Emotions\\231205_gandalf\\body_1-rh-2023-12-06\\videos\\gandalf_231205_0_e3v83ad.mp4\n",
      "Duration of video [s]:  12.9 , recorded with  120.0 fps!\n",
      "Overall # of frames:  1548  found with (before cropping) frame dimensions:  640 480\n",
      "Starting to extract posture\n"
     ]
    },
    {
     "name": "stderr",
     "output_type": "stream",
     "text": [
      "100%|██████████| 1548/1548 [05:39<00:00,  4.55it/s]\n"
     ]
    },
    {
     "name": "stdout",
     "output_type": "stream",
     "text": [
      "Saving results in C:\\Users\\rober\\Desktop\\Monkey-Emotions\\231205_gandalf\\body_1-rh-2023-12-06\\videos...\n",
      "Saving csv poses!\n",
      "The videos are analyzed. Now your research can truly start! \n",
      " You can create labeled videos with 'create_labeled_video'\n",
      "If the tracking is not satisfactory for some videos, consider expanding the training set. You can use the function 'extract_outlier_frames' to extract a few representative outlier frames.\n",
      "Checking frame size...\n",
      "   Pixel width x height: 640x480\n",
      "No need to downsample videos\n",
      "Initializing Project...\n",
      "  Project name: face_2\n",
      "  Model: primate_face\n",
      "  Initilization Videos: ['c:\\\\Users\\\\rober\\\\Desktop\\\\Monkey-Emotions\\\\video\\\\gandalf_231205\\\\gandalf_231205_0_e3v83d6.mp4']\n",
      "Created \"C:\\Users\\rober\\Desktop\\Monkey-Emotions\\231205_gandalf\\face_2-rh-2023-12-06\\videos\"\n",
      "Created \"C:\\Users\\rober\\Desktop\\Monkey-Emotions\\231205_gandalf\\face_2-rh-2023-12-06\\labeled-data\"\n",
      "Created \"C:\\Users\\rober\\Desktop\\Monkey-Emotions\\231205_gandalf\\face_2-rh-2023-12-06\\training-datasets\"\n",
      "Created \"C:\\Users\\rober\\Desktop\\Monkey-Emotions\\231205_gandalf\\face_2-rh-2023-12-06\\dlc-models\"\n",
      "Copying the videos\n",
      "C:\\Users\\rober\\Desktop\\Monkey-Emotions\\231205_gandalf\\face_2-rh-2023-12-06\\videos\\gandalf_231205_0_e3v83d6.mp4\n",
      "Generated \"C:\\Users\\rober\\Desktop\\Monkey-Emotions\\231205_gandalf\\face_2-rh-2023-12-06\\config.yaml\"\n",
      "\n",
      "A new project with name face_2-rh-2023-12-06 is created at C:\\Users\\rober\\Desktop\\Monkey-Emotions\\231205_gandalf and a configurable file (config.yaml) is stored there. Change the parameters in this file to adapt to your project's needs.\n",
      " Once you have changed the configuration file, use the function 'extract_frames' to select frames for labeling.\n",
      ". [OPTIONAL] Use the function 'add_new_videos' to add new videos to your project (at any stage).\n",
      "Downloading weights...\n",
      "Loading.... primate_face\n"
     ]
    },
    {
     "data": {
      "application/vnd.jupyter.widget-view+json": {
       "model_id": "2065afb007ee446a8049a8d83cbc2d8e",
       "version_major": 2,
       "version_minor": 0
      },
      "text/plain": [
       "(…)e_resnet_50_iteration-1_shuffle-1.tar.gz:   0%|          | 0.00/198M [00:00<?, ?B/s]"
      ]
     },
     "metadata": {},
     "output_type": "display_data"
    },
    {
     "name": "stderr",
     "output_type": "stream",
     "text": [
      "c:\\Users\\rober\\anaconda3\\envs\\DEEPLABCUT\\lib\\site-packages\\huggingface_hub\\file_download.py:138: UserWarning: `huggingface_hub` cache-system uses symlinks by default to efficiently store duplicated files but your machine does not support them in C:\\Users\\rober\\Desktop\\Monkey-Emotions\\231205_gandalf\\face_2-rh-2023-12-06\\dlc-models\\iteration-0\\face_2Dec6-trainset95shuffle1\\train. Caching files will still work but in a degraded version that might require more space on your disk. This warning can be disabled by setting the `HF_HUB_DISABLE_SYMLINKS_WARNING` environment variable. For more details, see https://huggingface.co/docs/huggingface_hub/how-to-cache#limitations.\n",
      "To support symlinks on Windows, you either need to activate Developer Mode or to run Python as an administrator. In order to see activate developer mode, see this article: https://docs.microsoft.com/en-us/windows/apps/get-started/enable-your-device-for-development\n",
      "  warnings.warn(message)\n"
     ]
    },
    {
     "name": "stdout",
     "output_type": "stream",
     "text": [
      "C:\\Users\\rober\\Desktop\\Monkey-Emotions\\231205_gandalf\\face_2-rh-2023-12-06\\dlc-models\\iteration-0\\face_2Dec6-trainset95shuffle1\\train\\pose_cfg.yaml\n",
      "Analyzing video...\n",
      "Using snapshot-1030000 for model C:\\Users\\rober\\Desktop\\Monkey-Emotions\\231205_gandalf\\face_2-rh-2023-12-06\\dlc-models\\iteration-0\\face_2Dec6-trainset95shuffle1\n"
     ]
    },
    {
     "name": "stderr",
     "output_type": "stream",
     "text": [
      "c:\\Users\\rober\\anaconda3\\envs\\DEEPLABCUT\\lib\\site-packages\\tensorflow\\python\\keras\\engine\\base_layer_v1.py:1694: UserWarning: `layer.apply` is deprecated and will be removed in a future version. Please use `layer.__call__` method instead.\n",
      "  warnings.warn('`layer.apply` is deprecated and '\n"
     ]
    },
    {
     "name": "stdout",
     "output_type": "stream",
     "text": [
      "Analyzing all the videos in the directory...\n",
      "Starting to analyze %  C:\\Users\\rober\\Desktop\\Monkey-Emotions\\231205_gandalf\\face_2-rh-2023-12-06\\videos\\gandalf_231205_0_e3v83d6.mp4\n",
      "Loading  C:\\Users\\rober\\Desktop\\Monkey-Emotions\\231205_gandalf\\face_2-rh-2023-12-06\\videos\\gandalf_231205_0_e3v83d6.mp4\n",
      "Duration of video [s]:  12.9 , recorded with  120.0 fps!\n",
      "Overall # of frames:  1548  found with (before cropping) frame dimensions:  640 480\n",
      "Starting to extract posture\n"
     ]
    },
    {
     "name": "stderr",
     "output_type": "stream",
     "text": [
      "100%|██████████| 1548/1548 [06:01<00:00,  4.29it/s]\n"
     ]
    },
    {
     "name": "stdout",
     "output_type": "stream",
     "text": [
      "Saving results in C:\\Users\\rober\\Desktop\\Monkey-Emotions\\231205_gandalf\\face_2-rh-2023-12-06\\videos...\n",
      "Saving csv poses!\n",
      "The videos are analyzed. Now your research can truly start! \n",
      " You can create labeled videos with 'create_labeled_video'\n",
      "If the tracking is not satisfactory for some videos, consider expanding the training set. You can use the function 'extract_outlier_frames' to extract a few representative outlier frames.\n",
      "  Editing config file.\n"
     ]
    }
   ],
   "source": [
    "# Custom modules\n",
    "from dlc_primate.dlc_utils import dlc_config, dlc_downsample\n",
    "\n",
    "# Initialize Project\n",
    "config_path_dict, train_config_path_dict = \\\n",
    "  dlc_config.dlc_initialize_project(dlc_video_path_dict, session_obj, camera_dict)"
   ]
  },
  {
   "cell_type": "code",
   "execution_count": 18,
   "metadata": {},
   "outputs": [
    {
     "name": "stdout",
     "output_type": "stream",
     "text": [
      "Attempting to create a symbolic link of the video ...\n",
      "Video 231205_gandalf\\body_2-rh-2023-12-06\\videos\\gandalf_231205_0_e3v831b.mp4 already exists. Skipping...\n",
      "Symlink creation impossible (exFat architecture?): copying the video instead.\n",
      "c:\\Users\\rober\\Desktop\\Monkey-Emotions\\video\\gandalf_231205\\gandalf_231205_1_e3v831b.mp4 copied to 231205_gandalf\\body_2-rh-2023-12-06\\videos\\gandalf_231205_1_e3v831b.mp4\n",
      "Symlink creation impossible (exFat architecture?): copying the video instead.\n",
      "c:\\Users\\rober\\Desktop\\Monkey-Emotions\\video\\gandalf_231205\\gandalf_231205_2_e3v831b.mp4 copied to 231205_gandalf\\body_2-rh-2023-12-06\\videos\\gandalf_231205_2_e3v831b.mp4\n",
      "Symlink creation impossible (exFat architecture?): copying the video instead.\n",
      "c:\\Users\\rober\\Desktop\\Monkey-Emotions\\video\\gandalf_231205\\gandalf_231205_3_e3v831b.mp4 copied to 231205_gandalf\\body_2-rh-2023-12-06\\videos\\gandalf_231205_3_e3v831b.mp4\n",
      "Symlink creation impossible (exFat architecture?): copying the video instead.\n",
      "c:\\Users\\rober\\Desktop\\Monkey-Emotions\\video\\gandalf_231205\\gandalf_231205_4_e3v831b.mp4 copied to 231205_gandalf\\body_2-rh-2023-12-06\\videos\\gandalf_231205_4_e3v831b.mp4\n",
      "Symlink creation impossible (exFat architecture?): copying the video instead.\n",
      "c:\\Users\\rober\\Desktop\\Monkey-Emotions\\video\\gandalf_231205\\gandalf_231205_5_e3v831b.mp4 copied to 231205_gandalf\\body_2-rh-2023-12-06\\videos\\gandalf_231205_5_e3v831b.mp4\n",
      "Symlink creation impossible (exFat architecture?): copying the video instead.\n",
      "c:\\Users\\rober\\Desktop\\Monkey-Emotions\\video\\gandalf_231205\\gandalf_231205_6_e3v831b.mp4 copied to 231205_gandalf\\body_2-rh-2023-12-06\\videos\\gandalf_231205_6_e3v831b.mp4\n",
      "Symlink creation impossible (exFat architecture?): copying the video instead.\n",
      "c:\\Users\\rober\\Desktop\\Monkey-Emotions\\video\\gandalf_231205\\gandalf_231205_7_e3v831b.mp4 copied to 231205_gandalf\\body_2-rh-2023-12-06\\videos\\gandalf_231205_7_e3v831b.mp4\n",
      "Symlink creation impossible (exFat architecture?): copying the video instead.\n",
      "c:\\Users\\rober\\Desktop\\Monkey-Emotions\\video\\gandalf_231205\\gandalf_231205_8_e3v831b.mp4 copied to 231205_gandalf\\body_2-rh-2023-12-06\\videos\\gandalf_231205_8_e3v831b.mp4\n",
      "Symlink creation impossible (exFat architecture?): copying the video instead.\n",
      "c:\\Users\\rober\\Desktop\\Monkey-Emotions\\video\\gandalf_231205\\gandalf_231205_9_e3v831b.mp4 copied to 231205_gandalf\\body_2-rh-2023-12-06\\videos\\gandalf_231205_9_e3v831b.mp4\n",
      "Symlink creation impossible (exFat architecture?): copying the video instead.\n",
      "c:\\Users\\rober\\Desktop\\Monkey-Emotions\\video\\gandalf_231205\\gandalf_231205_10_e3v831b.mp4 copied to 231205_gandalf\\body_2-rh-2023-12-06\\videos\\gandalf_231205_10_e3v831b.mp4\n",
      "Symlink creation impossible (exFat architecture?): copying the video instead.\n",
      "c:\\Users\\rober\\Desktop\\Monkey-Emotions\\video\\gandalf_231205\\gandalf_231205_11_e3v831b.mp4 copied to 231205_gandalf\\body_2-rh-2023-12-06\\videos\\gandalf_231205_11_e3v831b.mp4\n",
      "Symlink creation impossible (exFat architecture?): copying the video instead.\n",
      "c:\\Users\\rober\\Desktop\\Monkey-Emotions\\video\\gandalf_231205\\gandalf_231205_12_e3v831b.mp4 copied to 231205_gandalf\\body_2-rh-2023-12-06\\videos\\gandalf_231205_12_e3v831b.mp4\n",
      "Symlink creation impossible (exFat architecture?): copying the video instead.\n",
      "c:\\Users\\rober\\Desktop\\Monkey-Emotions\\video\\gandalf_231205\\gandalf_231205_13_e3v831b.mp4 copied to 231205_gandalf\\body_2-rh-2023-12-06\\videos\\gandalf_231205_13_e3v831b.mp4\n",
      "Symlink creation impossible (exFat architecture?): copying the video instead.\n",
      "c:\\Users\\rober\\Desktop\\Monkey-Emotions\\video\\gandalf_231205\\gandalf_231205_14_e3v831b.mp4 copied to 231205_gandalf\\body_2-rh-2023-12-06\\videos\\gandalf_231205_14_e3v831b.mp4\n",
      "Symlink creation impossible (exFat architecture?): copying the video instead.\n",
      "c:\\Users\\rober\\Desktop\\Monkey-Emotions\\video\\gandalf_231205\\gandalf_231205_15_e3v831b.mp4 copied to 231205_gandalf\\body_2-rh-2023-12-06\\videos\\gandalf_231205_15_e3v831b.mp4\n",
      "Symlink creation impossible (exFat architecture?): copying the video instead.\n",
      "c:\\Users\\rober\\Desktop\\Monkey-Emotions\\video\\gandalf_231205\\gandalf_231205_16_e3v831b.mp4 copied to 231205_gandalf\\body_2-rh-2023-12-06\\videos\\gandalf_231205_16_e3v831b.mp4\n",
      "Symlink creation impossible (exFat architecture?): copying the video instead.\n",
      "c:\\Users\\rober\\Desktop\\Monkey-Emotions\\video\\gandalf_231205\\gandalf_231205_17_e3v831b.mp4 copied to 231205_gandalf\\body_2-rh-2023-12-06\\videos\\gandalf_231205_17_e3v831b.mp4\n",
      "Symlink creation impossible (exFat architecture?): copying the video instead.\n",
      "c:\\Users\\rober\\Desktop\\Monkey-Emotions\\video\\gandalf_231205\\gandalf_231205_18_e3v831b.mp4 copied to 231205_gandalf\\body_2-rh-2023-12-06\\videos\\gandalf_231205_18_e3v831b.mp4\n",
      "Symlink creation impossible (exFat architecture?): copying the video instead.\n",
      "c:\\Users\\rober\\Desktop\\Monkey-Emotions\\video\\gandalf_231205\\gandalf_231205_19_e3v831b.mp4 copied to 231205_gandalf\\body_2-rh-2023-12-06\\videos\\gandalf_231205_19_e3v831b.mp4\n",
      "Symlink creation impossible (exFat architecture?): copying the video instead.\n",
      "c:\\Users\\rober\\Desktop\\Monkey-Emotions\\video\\gandalf_231205\\gandalf_231205_20_e3v831b.mp4 copied to 231205_gandalf\\body_2-rh-2023-12-06\\videos\\gandalf_231205_20_e3v831b.mp4\n",
      "Symlink creation impossible (exFat architecture?): copying the video instead.\n",
      "c:\\Users\\rober\\Desktop\\Monkey-Emotions\\video\\gandalf_231205\\gandalf_231205_21_e3v831b.mp4 copied to 231205_gandalf\\body_2-rh-2023-12-06\\videos\\gandalf_231205_21_e3v831b.mp4\n",
      "Symlink creation impossible (exFat architecture?): copying the video instead.\n",
      "c:\\Users\\rober\\Desktop\\Monkey-Emotions\\video\\gandalf_231205\\gandalf_231205_22_e3v831b.mp4 copied to 231205_gandalf\\body_2-rh-2023-12-06\\videos\\gandalf_231205_22_e3v831b.mp4\n",
      "Symlink creation impossible (exFat architecture?): copying the video instead.\n",
      "c:\\Users\\rober\\Desktop\\Monkey-Emotions\\video\\gandalf_231205\\gandalf_231205_23_e3v831b.mp4 copied to 231205_gandalf\\body_2-rh-2023-12-06\\videos\\gandalf_231205_23_e3v831b.mp4\n",
      "Symlink creation impossible (exFat architecture?): copying the video instead.\n",
      "c:\\Users\\rober\\Desktop\\Monkey-Emotions\\video\\gandalf_231205\\gandalf_231205_24_e3v831b.mp4 copied to 231205_gandalf\\body_2-rh-2023-12-06\\videos\\gandalf_231205_24_e3v831b.mp4\n",
      "Symlink creation impossible (exFat architecture?): copying the video instead.\n",
      "c:\\Users\\rober\\Desktop\\Monkey-Emotions\\video\\gandalf_231205\\gandalf_231205_25_e3v831b.mp4 copied to 231205_gandalf\\body_2-rh-2023-12-06\\videos\\gandalf_231205_25_e3v831b.mp4\n",
      "Symlink creation impossible (exFat architecture?): copying the video instead.\n",
      "c:\\Users\\rober\\Desktop\\Monkey-Emotions\\video\\gandalf_231205\\gandalf_231205_26_e3v831b.mp4 copied to 231205_gandalf\\body_2-rh-2023-12-06\\videos\\gandalf_231205_26_e3v831b.mp4\n",
      "Symlink creation impossible (exFat architecture?): copying the video instead.\n",
      "c:\\Users\\rober\\Desktop\\Monkey-Emotions\\video\\gandalf_231205\\gandalf_231205_27_e3v831b.mp4 copied to 231205_gandalf\\body_2-rh-2023-12-06\\videos\\gandalf_231205_27_e3v831b.mp4\n",
      "Symlink creation impossible (exFat architecture?): copying the video instead.\n",
      "c:\\Users\\rober\\Desktop\\Monkey-Emotions\\video\\gandalf_231205\\gandalf_231205_28_e3v831b.mp4 copied to 231205_gandalf\\body_2-rh-2023-12-06\\videos\\gandalf_231205_28_e3v831b.mp4\n",
      "Symlink creation impossible (exFat architecture?): copying the video instead.\n",
      "c:\\Users\\rober\\Desktop\\Monkey-Emotions\\video\\gandalf_231205\\gandalf_231205_29_e3v831b.mp4 copied to 231205_gandalf\\body_2-rh-2023-12-06\\videos\\gandalf_231205_29_e3v831b.mp4\n",
      "Symlink creation impossible (exFat architecture?): copying the video instead.\n",
      "c:\\Users\\rober\\Desktop\\Monkey-Emotions\\video\\gandalf_231205\\gandalf_231205_30_e3v831b.mp4 copied to 231205_gandalf\\body_2-rh-2023-12-06\\videos\\gandalf_231205_30_e3v831b.mp4\n",
      "Symlink creation impossible (exFat architecture?): copying the video instead.\n",
      "c:\\Users\\rober\\Desktop\\Monkey-Emotions\\video\\gandalf_231205\\gandalf_231205_31_e3v831b.mp4 copied to 231205_gandalf\\body_2-rh-2023-12-06\\videos\\gandalf_231205_31_e3v831b.mp4\n",
      "Symlink creation impossible (exFat architecture?): copying the video instead.\n",
      "c:\\Users\\rober\\Desktop\\Monkey-Emotions\\video\\gandalf_231205\\gandalf_231205_32_e3v831b.mp4 copied to 231205_gandalf\\body_2-rh-2023-12-06\\videos\\gandalf_231205_32_e3v831b.mp4\n",
      "Symlink creation impossible (exFat architecture?): copying the video instead.\n",
      "c:\\Users\\rober\\Desktop\\Monkey-Emotions\\video\\gandalf_231205\\gandalf_231205_33_e3v831b.mp4 copied to 231205_gandalf\\body_2-rh-2023-12-06\\videos\\gandalf_231205_33_e3v831b.mp4\n",
      "Symlink creation impossible (exFat architecture?): copying the video instead.\n",
      "c:\\Users\\rober\\Desktop\\Monkey-Emotions\\video\\gandalf_231205\\gandalf_231205_34_e3v831b.mp4 copied to 231205_gandalf\\body_2-rh-2023-12-06\\videos\\gandalf_231205_34_e3v831b.mp4\n",
      "Symlink creation impossible (exFat architecture?): copying the video instead.\n",
      "c:\\Users\\rober\\Desktop\\Monkey-Emotions\\video\\gandalf_231205\\gandalf_231205_35_e3v831b.mp4 copied to 231205_gandalf\\body_2-rh-2023-12-06\\videos\\gandalf_231205_35_e3v831b.mp4\n",
      "Symlink creation impossible (exFat architecture?): copying the video instead.\n",
      "c:\\Users\\rober\\Desktop\\Monkey-Emotions\\video\\gandalf_231205\\gandalf_231205_36_e3v831b.mp4 copied to 231205_gandalf\\body_2-rh-2023-12-06\\videos\\gandalf_231205_36_e3v831b.mp4\n",
      "Symlink creation impossible (exFat architecture?): copying the video instead.\n",
      "c:\\Users\\rober\\Desktop\\Monkey-Emotions\\video\\gandalf_231205\\gandalf_231205_37_e3v831b.mp4 copied to 231205_gandalf\\body_2-rh-2023-12-06\\videos\\gandalf_231205_37_e3v831b.mp4\n",
      "Symlink creation impossible (exFat architecture?): copying the video instead.\n",
      "c:\\Users\\rober\\Desktop\\Monkey-Emotions\\video\\gandalf_231205\\gandalf_231205_38_e3v831b.mp4 copied to 231205_gandalf\\body_2-rh-2023-12-06\\videos\\gandalf_231205_38_e3v831b.mp4\n",
      "Symlink creation impossible (exFat architecture?): copying the video instead.\n",
      "c:\\Users\\rober\\Desktop\\Monkey-Emotions\\video\\gandalf_231205\\gandalf_231205_39_e3v831b.mp4 copied to 231205_gandalf\\body_2-rh-2023-12-06\\videos\\gandalf_231205_39_e3v831b.mp4\n",
      "Symlink creation impossible (exFat architecture?): copying the video instead.\n",
      "c:\\Users\\rober\\Desktop\\Monkey-Emotions\\video\\gandalf_231205\\gandalf_231205_40_e3v831b.mp4 copied to 231205_gandalf\\body_2-rh-2023-12-06\\videos\\gandalf_231205_40_e3v831b.mp4\n",
      "Symlink creation impossible (exFat architecture?): copying the video instead.\n",
      "c:\\Users\\rober\\Desktop\\Monkey-Emotions\\video\\gandalf_231205\\gandalf_231205_41_e3v831b.mp4 copied to 231205_gandalf\\body_2-rh-2023-12-06\\videos\\gandalf_231205_41_e3v831b.mp4\n",
      "Symlink creation impossible (exFat architecture?): copying the video instead.\n",
      "c:\\Users\\rober\\Desktop\\Monkey-Emotions\\video\\gandalf_231205\\gandalf_231205_42_e3v831b.mp4 copied to 231205_gandalf\\body_2-rh-2023-12-06\\videos\\gandalf_231205_42_e3v831b.mp4\n",
      "Symlink creation impossible (exFat architecture?): copying the video instead.\n",
      "c:\\Users\\rober\\Desktop\\Monkey-Emotions\\video\\gandalf_231205\\gandalf_231205_43_e3v831b.mp4 copied to 231205_gandalf\\body_2-rh-2023-12-06\\videos\\gandalf_231205_43_e3v831b.mp4\n",
      "Symlink creation impossible (exFat architecture?): copying the video instead.\n",
      "c:\\Users\\rober\\Desktop\\Monkey-Emotions\\video\\gandalf_231205\\gandalf_231205_44_e3v831b.mp4 copied to 231205_gandalf\\body_2-rh-2023-12-06\\videos\\gandalf_231205_44_e3v831b.mp4\n",
      "Symlink creation impossible (exFat architecture?): copying the video instead.\n",
      "c:\\Users\\rober\\Desktop\\Monkey-Emotions\\video\\gandalf_231205\\gandalf_231205_45_e3v831b.mp4 copied to 231205_gandalf\\body_2-rh-2023-12-06\\videos\\gandalf_231205_45_e3v831b.mp4\n",
      "Symlink creation impossible (exFat architecture?): copying the video instead.\n",
      "c:\\Users\\rober\\Desktop\\Monkey-Emotions\\video\\gandalf_231205\\gandalf_231205_46_e3v831b.mp4 copied to 231205_gandalf\\body_2-rh-2023-12-06\\videos\\gandalf_231205_46_e3v831b.mp4\n",
      "Symlink creation impossible (exFat architecture?): copying the video instead.\n",
      "c:\\Users\\rober\\Desktop\\Monkey-Emotions\\video\\gandalf_231205\\gandalf_231205_47_e3v831b.mp4 copied to 231205_gandalf\\body_2-rh-2023-12-06\\videos\\gandalf_231205_47_e3v831b.mp4\n",
      "Symlink creation impossible (exFat architecture?): copying the video instead.\n",
      "c:\\Users\\rober\\Desktop\\Monkey-Emotions\\video\\gandalf_231205\\gandalf_231205_48_e3v831b.mp4 copied to 231205_gandalf\\body_2-rh-2023-12-06\\videos\\gandalf_231205_48_e3v831b.mp4\n",
      "Symlink creation impossible (exFat architecture?): copying the video instead.\n",
      "c:\\Users\\rober\\Desktop\\Monkey-Emotions\\video\\gandalf_231205\\gandalf_231205_49_e3v831b.mp4 copied to 231205_gandalf\\body_2-rh-2023-12-06\\videos\\gandalf_231205_49_e3v831b.mp4\n",
      "Symlink creation impossible (exFat architecture?): copying the video instead.\n",
      "c:\\Users\\rober\\Desktop\\Monkey-Emotions\\video\\gandalf_231205\\gandalf_231205_50_e3v831b.mp4 copied to 231205_gandalf\\body_2-rh-2023-12-06\\videos\\gandalf_231205_50_e3v831b.mp4\n",
      "Symlink creation impossible (exFat architecture?): copying the video instead.\n",
      "c:\\Users\\rober\\Desktop\\Monkey-Emotions\\video\\gandalf_231205\\gandalf_231205_51_e3v831b.mp4 copied to 231205_gandalf\\body_2-rh-2023-12-06\\videos\\gandalf_231205_51_e3v831b.mp4\n",
      "Symlink creation impossible (exFat architecture?): copying the video instead.\n",
      "c:\\Users\\rober\\Desktop\\Monkey-Emotions\\video\\gandalf_231205\\gandalf_231205_52_e3v831b.mp4 copied to 231205_gandalf\\body_2-rh-2023-12-06\\videos\\gandalf_231205_52_e3v831b.mp4\n",
      "Symlink creation impossible (exFat architecture?): copying the video instead.\n",
      "c:\\Users\\rober\\Desktop\\Monkey-Emotions\\video\\gandalf_231205\\gandalf_231205_53_e3v831b.mp4 copied to 231205_gandalf\\body_2-rh-2023-12-06\\videos\\gandalf_231205_53_e3v831b.mp4\n",
      "Symlink creation impossible (exFat architecture?): copying the video instead.\n",
      "c:\\Users\\rober\\Desktop\\Monkey-Emotions\\video\\gandalf_231205\\gandalf_231205_54_e3v831b.mp4 copied to 231205_gandalf\\body_2-rh-2023-12-06\\videos\\gandalf_231205_54_e3v831b.mp4\n",
      "Symlink creation impossible (exFat architecture?): copying the video instead.\n",
      "c:\\Users\\rober\\Desktop\\Monkey-Emotions\\video\\gandalf_231205\\gandalf_231205_55_e3v831b.mp4 copied to 231205_gandalf\\body_2-rh-2023-12-06\\videos\\gandalf_231205_55_e3v831b.mp4\n",
      "Symlink creation impossible (exFat architecture?): copying the video instead.\n",
      "c:\\Users\\rober\\Desktop\\Monkey-Emotions\\video\\gandalf_231205\\gandalf_231205_56_e3v831b.mp4 copied to 231205_gandalf\\body_2-rh-2023-12-06\\videos\\gandalf_231205_56_e3v831b.mp4\n",
      "Symlink creation impossible (exFat architecture?): copying the video instead.\n",
      "c:\\Users\\rober\\Desktop\\Monkey-Emotions\\video\\gandalf_231205\\gandalf_231205_57_e3v831b.mp4 copied to 231205_gandalf\\body_2-rh-2023-12-06\\videos\\gandalf_231205_57_e3v831b.mp4\n",
      "Symlink creation impossible (exFat architecture?): copying the video instead.\n",
      "c:\\Users\\rober\\Desktop\\Monkey-Emotions\\video\\gandalf_231205\\gandalf_231205_58_e3v831b.mp4 copied to 231205_gandalf\\body_2-rh-2023-12-06\\videos\\gandalf_231205_58_e3v831b.mp4\n",
      "Symlink creation impossible (exFat architecture?): copying the video instead.\n",
      "c:\\Users\\rober\\Desktop\\Monkey-Emotions\\video\\gandalf_231205\\gandalf_231205_59_e3v831b.mp4 copied to 231205_gandalf\\body_2-rh-2023-12-06\\videos\\gandalf_231205_59_e3v831b.mp4\n",
      "Symlink creation impossible (exFat architecture?): copying the video instead.\n",
      "c:\\Users\\rober\\Desktop\\Monkey-Emotions\\video\\gandalf_231205\\gandalf_231205_60_e3v831b.mp4 copied to 231205_gandalf\\body_2-rh-2023-12-06\\videos\\gandalf_231205_60_e3v831b.mp4\n",
      "Symlink creation impossible (exFat architecture?): copying the video instead.\n",
      "c:\\Users\\rober\\Desktop\\Monkey-Emotions\\video\\gandalf_231205\\gandalf_231205_61_e3v831b.mp4 copied to 231205_gandalf\\body_2-rh-2023-12-06\\videos\\gandalf_231205_61_e3v831b.mp4\n",
      "Symlink creation impossible (exFat architecture?): copying the video instead.\n",
      "c:\\Users\\rober\\Desktop\\Monkey-Emotions\\video\\gandalf_231205\\gandalf_231205_62_e3v831b.mp4 copied to 231205_gandalf\\body_2-rh-2023-12-06\\videos\\gandalf_231205_62_e3v831b.mp4\n",
      "Symlink creation impossible (exFat architecture?): copying the video instead.\n",
      "c:\\Users\\rober\\Desktop\\Monkey-Emotions\\video\\gandalf_231205\\gandalf_231205_63_e3v831b.mp4 copied to 231205_gandalf\\body_2-rh-2023-12-06\\videos\\gandalf_231205_63_e3v831b.mp4\n",
      "Symlink creation impossible (exFat architecture?): copying the video instead.\n",
      "c:\\Users\\rober\\Desktop\\Monkey-Emotions\\video\\gandalf_231205\\gandalf_231205_64_e3v831b.mp4 copied to 231205_gandalf\\body_2-rh-2023-12-06\\videos\\gandalf_231205_64_e3v831b.mp4\n",
      "Symlink creation impossible (exFat architecture?): copying the video instead.\n",
      "c:\\Users\\rober\\Desktop\\Monkey-Emotions\\video\\gandalf_231205\\gandalf_231205_65_e3v831b.mp4 copied to 231205_gandalf\\body_2-rh-2023-12-06\\videos\\gandalf_231205_65_e3v831b.mp4\n",
      "Symlink creation impossible (exFat architecture?): copying the video instead.\n",
      "c:\\Users\\rober\\Desktop\\Monkey-Emotions\\video\\gandalf_231205\\gandalf_231205_66_e3v831b.mp4 copied to 231205_gandalf\\body_2-rh-2023-12-06\\videos\\gandalf_231205_66_e3v831b.mp4\n",
      "Symlink creation impossible (exFat architecture?): copying the video instead.\n",
      "c:\\Users\\rober\\Desktop\\Monkey-Emotions\\video\\gandalf_231205\\gandalf_231205_67_e3v831b.mp4 copied to 231205_gandalf\\body_2-rh-2023-12-06\\videos\\gandalf_231205_67_e3v831b.mp4\n",
      "Symlink creation impossible (exFat architecture?): copying the video instead.\n",
      "c:\\Users\\rober\\Desktop\\Monkey-Emotions\\video\\gandalf_231205\\gandalf_231205_68_e3v831b.mp4 copied to 231205_gandalf\\body_2-rh-2023-12-06\\videos\\gandalf_231205_68_e3v831b.mp4\n",
      "Symlink creation impossible (exFat architecture?): copying the video instead.\n",
      "c:\\Users\\rober\\Desktop\\Monkey-Emotions\\video\\gandalf_231205\\gandalf_231205_69_e3v831b.mp4 copied to 231205_gandalf\\body_2-rh-2023-12-06\\videos\\gandalf_231205_69_e3v831b.mp4\n",
      "Symlink creation impossible (exFat architecture?): copying the video instead.\n",
      "c:\\Users\\rober\\Desktop\\Monkey-Emotions\\video\\gandalf_231205\\gandalf_231205_70_e3v831b.mp4 copied to 231205_gandalf\\body_2-rh-2023-12-06\\videos\\gandalf_231205_70_e3v831b.mp4\n",
      "Symlink creation impossible (exFat architecture?): copying the video instead.\n",
      "c:\\Users\\rober\\Desktop\\Monkey-Emotions\\video\\gandalf_231205\\gandalf_231205_71_e3v831b.mp4 copied to 231205_gandalf\\body_2-rh-2023-12-06\\videos\\gandalf_231205_71_e3v831b.mp4\n",
      "Symlink creation impossible (exFat architecture?): copying the video instead.\n",
      "c:\\Users\\rober\\Desktop\\Monkey-Emotions\\video\\gandalf_231205\\gandalf_231205_72_e3v831b.mp4 copied to 231205_gandalf\\body_2-rh-2023-12-06\\videos\\gandalf_231205_72_e3v831b.mp4\n",
      "Symlink creation impossible (exFat architecture?): copying the video instead.\n",
      "c:\\Users\\rober\\Desktop\\Monkey-Emotions\\video\\gandalf_231205\\gandalf_231205_73_e3v831b.mp4 copied to 231205_gandalf\\body_2-rh-2023-12-06\\videos\\gandalf_231205_73_e3v831b.mp4\n",
      "Symlink creation impossible (exFat architecture?): copying the video instead.\n",
      "c:\\Users\\rober\\Desktop\\Monkey-Emotions\\video\\gandalf_231205\\gandalf_231205_75_e3v831b.mp4 copied to 231205_gandalf\\body_2-rh-2023-12-06\\videos\\gandalf_231205_75_e3v831b.mp4\n",
      "Symlink creation impossible (exFat architecture?): copying the video instead.\n",
      "c:\\Users\\rober\\Desktop\\Monkey-Emotions\\video\\gandalf_231205\\gandalf_231205_76_e3v831b.mp4 copied to 231205_gandalf\\body_2-rh-2023-12-06\\videos\\gandalf_231205_76_e3v831b.mp4\n",
      "Symlink creation impossible (exFat architecture?): copying the video instead.\n",
      "c:\\Users\\rober\\Desktop\\Monkey-Emotions\\video\\gandalf_231205\\gandalf_231205_77_e3v831b.mp4 copied to 231205_gandalf\\body_2-rh-2023-12-06\\videos\\gandalf_231205_77_e3v831b.mp4\n",
      "Symlink creation impossible (exFat architecture?): copying the video instead.\n",
      "c:\\Users\\rober\\Desktop\\Monkey-Emotions\\video\\gandalf_231205\\gandalf_231205_78_e3v831b.mp4 copied to 231205_gandalf\\body_2-rh-2023-12-06\\videos\\gandalf_231205_78_e3v831b.mp4\n",
      "Symlink creation impossible (exFat architecture?): copying the video instead.\n",
      "c:\\Users\\rober\\Desktop\\Monkey-Emotions\\video\\gandalf_231205\\gandalf_231205_79_e3v831b.mp4 copied to 231205_gandalf\\body_2-rh-2023-12-06\\videos\\gandalf_231205_79_e3v831b.mp4\n",
      "Symlink creation impossible (exFat architecture?): copying the video instead.\n",
      "c:\\Users\\rober\\Desktop\\Monkey-Emotions\\video\\gandalf_231205\\gandalf_231205_80_e3v831b.mp4 copied to 231205_gandalf\\body_2-rh-2023-12-06\\videos\\gandalf_231205_80_e3v831b.mp4\n",
      "Symlink creation impossible (exFat architecture?): copying the video instead.\n",
      "c:\\Users\\rober\\Desktop\\Monkey-Emotions\\video\\gandalf_231205\\gandalf_231205_81_e3v831b.mp4 copied to 231205_gandalf\\body_2-rh-2023-12-06\\videos\\gandalf_231205_81_e3v831b.mp4\n",
      "Symlink creation impossible (exFat architecture?): copying the video instead.\n",
      "c:\\Users\\rober\\Desktop\\Monkey-Emotions\\video\\gandalf_231205\\gandalf_231205_82_e3v831b.mp4 copied to 231205_gandalf\\body_2-rh-2023-12-06\\videos\\gandalf_231205_82_e3v831b.mp4\n",
      "Symlink creation impossible (exFat architecture?): copying the video instead.\n",
      "c:\\Users\\rober\\Desktop\\Monkey-Emotions\\video\\gandalf_231205\\gandalf_231205_83_e3v831b.mp4 copied to 231205_gandalf\\body_2-rh-2023-12-06\\videos\\gandalf_231205_83_e3v831b.mp4\n",
      "Symlink creation impossible (exFat architecture?): copying the video instead.\n",
      "c:\\Users\\rober\\Desktop\\Monkey-Emotions\\video\\gandalf_231205\\gandalf_231205_84_e3v831b.mp4 copied to 231205_gandalf\\body_2-rh-2023-12-06\\videos\\gandalf_231205_84_e3v831b.mp4\n",
      "Symlink creation impossible (exFat architecture?): copying the video instead.\n",
      "c:\\Users\\rober\\Desktop\\Monkey-Emotions\\video\\gandalf_231205\\gandalf_231205_85_e3v831b.mp4 copied to 231205_gandalf\\body_2-rh-2023-12-06\\videos\\gandalf_231205_85_e3v831b.mp4\n",
      "Symlink creation impossible (exFat architecture?): copying the video instead.\n",
      "c:\\Users\\rober\\Desktop\\Monkey-Emotions\\video\\gandalf_231205\\gandalf_231205_86_e3v831b.mp4 copied to 231205_gandalf\\body_2-rh-2023-12-06\\videos\\gandalf_231205_86_e3v831b.mp4\n",
      "Symlink creation impossible (exFat architecture?): copying the video instead.\n",
      "c:\\Users\\rober\\Desktop\\Monkey-Emotions\\video\\gandalf_231205\\gandalf_231205_87_e3v831b.mp4 copied to 231205_gandalf\\body_2-rh-2023-12-06\\videos\\gandalf_231205_87_e3v831b.mp4\n",
      "Symlink creation impossible (exFat architecture?): copying the video instead.\n",
      "c:\\Users\\rober\\Desktop\\Monkey-Emotions\\video\\gandalf_231205\\gandalf_231205_88_e3v831b.mp4 copied to 231205_gandalf\\body_2-rh-2023-12-06\\videos\\gandalf_231205_88_e3v831b.mp4\n",
      "Symlink creation impossible (exFat architecture?): copying the video instead.\n",
      "c:\\Users\\rober\\Desktop\\Monkey-Emotions\\video\\gandalf_231205\\gandalf_231205_89_e3v831b.mp4 copied to 231205_gandalf\\body_2-rh-2023-12-06\\videos\\gandalf_231205_89_e3v831b.mp4\n",
      "Symlink creation impossible (exFat architecture?): copying the video instead.\n",
      "c:\\Users\\rober\\Desktop\\Monkey-Emotions\\video\\gandalf_231205\\gandalf_231205_90_e3v831b.mp4 copied to 231205_gandalf\\body_2-rh-2023-12-06\\videos\\gandalf_231205_90_e3v831b.mp4\n",
      "Symlink creation impossible (exFat architecture?): copying the video instead.\n",
      "c:\\Users\\rober\\Desktop\\Monkey-Emotions\\video\\gandalf_231205\\gandalf_231205_91_e3v831b.mp4 copied to 231205_gandalf\\body_2-rh-2023-12-06\\videos\\gandalf_231205_91_e3v831b.mp4\n",
      "Symlink creation impossible (exFat architecture?): copying the video instead.\n",
      "c:\\Users\\rober\\Desktop\\Monkey-Emotions\\video\\gandalf_231205\\gandalf_231205_92_e3v831b.mp4 copied to 231205_gandalf\\body_2-rh-2023-12-06\\videos\\gandalf_231205_92_e3v831b.mp4\n",
      "Symlink creation impossible (exFat architecture?): copying the video instead.\n",
      "c:\\Users\\rober\\Desktop\\Monkey-Emotions\\video\\gandalf_231205\\gandalf_231205_93_e3v831b.mp4 copied to 231205_gandalf\\body_2-rh-2023-12-06\\videos\\gandalf_231205_93_e3v831b.mp4\n",
      "Symlink creation impossible (exFat architecture?): copying the video instead.\n",
      "c:\\Users\\rober\\Desktop\\Monkey-Emotions\\video\\gandalf_231205\\gandalf_231205_94_e3v831b.mp4 copied to 231205_gandalf\\body_2-rh-2023-12-06\\videos\\gandalf_231205_94_e3v831b.mp4\n",
      "Symlink creation impossible (exFat architecture?): copying the video instead.\n",
      "c:\\Users\\rober\\Desktop\\Monkey-Emotions\\video\\gandalf_231205\\gandalf_231205_95_e3v831b.mp4 copied to 231205_gandalf\\body_2-rh-2023-12-06\\videos\\gandalf_231205_95_e3v831b.mp4\n",
      "Symlink creation impossible (exFat architecture?): copying the video instead.\n",
      "c:\\Users\\rober\\Desktop\\Monkey-Emotions\\video\\gandalf_231205\\gandalf_231205_96_e3v831b.mp4 copied to 231205_gandalf\\body_2-rh-2023-12-06\\videos\\gandalf_231205_96_e3v831b.mp4\n",
      "Symlink creation impossible (exFat architecture?): copying the video instead.\n",
      "c:\\Users\\rober\\Desktop\\Monkey-Emotions\\video\\gandalf_231205\\gandalf_231205_97_e3v831b.mp4 copied to 231205_gandalf\\body_2-rh-2023-12-06\\videos\\gandalf_231205_97_e3v831b.mp4\n",
      "Symlink creation impossible (exFat architecture?): copying the video instead.\n",
      "c:\\Users\\rober\\Desktop\\Monkey-Emotions\\video\\gandalf_231205\\gandalf_231205_98_e3v831b.mp4 copied to 231205_gandalf\\body_2-rh-2023-12-06\\videos\\gandalf_231205_98_e3v831b.mp4\n",
      "Symlink creation impossible (exFat architecture?): copying the video instead.\n",
      "c:\\Users\\rober\\Desktop\\Monkey-Emotions\\video\\gandalf_231205\\gandalf_231205_99_e3v831b.mp4 copied to 231205_gandalf\\body_2-rh-2023-12-06\\videos\\gandalf_231205_99_e3v831b.mp4\n",
      "Symlink creation impossible (exFat architecture?): copying the video instead.\n",
      "c:\\Users\\rober\\Desktop\\Monkey-Emotions\\video\\gandalf_231205\\gandalf_231205_100_e3v831b.mp4 copied to 231205_gandalf\\body_2-rh-2023-12-06\\videos\\gandalf_231205_100_e3v831b.mp4\n",
      "Symlink creation impossible (exFat architecture?): copying the video instead.\n",
      "c:\\Users\\rober\\Desktop\\Monkey-Emotions\\video\\gandalf_231205\\gandalf_231205_101_e3v831b.mp4 copied to 231205_gandalf\\body_2-rh-2023-12-06\\videos\\gandalf_231205_101_e3v831b.mp4\n",
      "Symlink creation impossible (exFat architecture?): copying the video instead.\n",
      "c:\\Users\\rober\\Desktop\\Monkey-Emotions\\video\\gandalf_231205\\gandalf_231205_102_e3v831b.mp4 copied to 231205_gandalf\\body_2-rh-2023-12-06\\videos\\gandalf_231205_102_e3v831b.mp4\n",
      "Symlink creation impossible (exFat architecture?): copying the video instead.\n",
      "c:\\Users\\rober\\Desktop\\Monkey-Emotions\\video\\gandalf_231205\\gandalf_231205_103_e3v831b.mp4 copied to 231205_gandalf\\body_2-rh-2023-12-06\\videos\\gandalf_231205_103_e3v831b.mp4\n",
      "Symlink creation impossible (exFat architecture?): copying the video instead.\n",
      "c:\\Users\\rober\\Desktop\\Monkey-Emotions\\video\\gandalf_231205\\gandalf_231205_104_e3v831b.mp4 copied to 231205_gandalf\\body_2-rh-2023-12-06\\videos\\gandalf_231205_104_e3v831b.mp4\n",
      "Symlink creation impossible (exFat architecture?): copying the video instead.\n",
      "c:\\Users\\rober\\Desktop\\Monkey-Emotions\\video\\gandalf_231205\\gandalf_231205_105_e3v831b.mp4 copied to 231205_gandalf\\body_2-rh-2023-12-06\\videos\\gandalf_231205_105_e3v831b.mp4\n",
      "Symlink creation impossible (exFat architecture?): copying the video instead.\n",
      "c:\\Users\\rober\\Desktop\\Monkey-Emotions\\video\\gandalf_231205\\gandalf_231205_106_e3v831b.mp4 copied to 231205_gandalf\\body_2-rh-2023-12-06\\videos\\gandalf_231205_106_e3v831b.mp4\n",
      "Symlink creation impossible (exFat architecture?): copying the video instead.\n",
      "c:\\Users\\rober\\Desktop\\Monkey-Emotions\\video\\gandalf_231205\\gandalf_231205_107_e3v831b.mp4 copied to 231205_gandalf\\body_2-rh-2023-12-06\\videos\\gandalf_231205_107_e3v831b.mp4\n",
      "Symlink creation impossible (exFat architecture?): copying the video instead.\n",
      "c:\\Users\\rober\\Desktop\\Monkey-Emotions\\video\\gandalf_231205\\gandalf_231205_108_e3v831b.mp4 copied to 231205_gandalf\\body_2-rh-2023-12-06\\videos\\gandalf_231205_108_e3v831b.mp4\n",
      "Symlink creation impossible (exFat architecture?): copying the video instead.\n",
      "c:\\Users\\rober\\Desktop\\Monkey-Emotions\\video\\gandalf_231205\\gandalf_231205_109_e3v831b.mp4 copied to 231205_gandalf\\body_2-rh-2023-12-06\\videos\\gandalf_231205_109_e3v831b.mp4\n",
      "Symlink creation impossible (exFat architecture?): copying the video instead.\n",
      "c:\\Users\\rober\\Desktop\\Monkey-Emotions\\video\\gandalf_231205\\gandalf_231205_110_e3v831b.mp4 copied to 231205_gandalf\\body_2-rh-2023-12-06\\videos\\gandalf_231205_110_e3v831b.mp4\n",
      "Symlink creation impossible (exFat architecture?): copying the video instead.\n",
      "c:\\Users\\rober\\Desktop\\Monkey-Emotions\\video\\gandalf_231205\\gandalf_231205_111_e3v831b.mp4 copied to 231205_gandalf\\body_2-rh-2023-12-06\\videos\\gandalf_231205_111_e3v831b.mp4\n",
      "Symlink creation impossible (exFat architecture?): copying the video instead.\n",
      "c:\\Users\\rober\\Desktop\\Monkey-Emotions\\video\\gandalf_231205\\gandalf_231205_112_e3v831b.mp4 copied to 231205_gandalf\\body_2-rh-2023-12-06\\videos\\gandalf_231205_112_e3v831b.mp4\n",
      "Symlink creation impossible (exFat architecture?): copying the video instead.\n",
      "c:\\Users\\rober\\Desktop\\Monkey-Emotions\\video\\gandalf_231205\\gandalf_231205_113_e3v831b.mp4 copied to 231205_gandalf\\body_2-rh-2023-12-06\\videos\\gandalf_231205_113_e3v831b.mp4\n",
      "Symlink creation impossible (exFat architecture?): copying the video instead.\n",
      "c:\\Users\\rober\\Desktop\\Monkey-Emotions\\video\\gandalf_231205\\gandalf_231205_114_e3v831b.mp4 copied to 231205_gandalf\\body_2-rh-2023-12-06\\videos\\gandalf_231205_114_e3v831b.mp4\n",
      "Symlink creation impossible (exFat architecture?): copying the video instead.\n",
      "c:\\Users\\rober\\Desktop\\Monkey-Emotions\\video\\gandalf_231205\\gandalf_231205_115_e3v831b.mp4 copied to 231205_gandalf\\body_2-rh-2023-12-06\\videos\\gandalf_231205_115_e3v831b.mp4\n",
      "Symlink creation impossible (exFat architecture?): copying the video instead.\n",
      "c:\\Users\\rober\\Desktop\\Monkey-Emotions\\video\\gandalf_231205\\gandalf_231205_116_e3v831b.mp4 copied to 231205_gandalf\\body_2-rh-2023-12-06\\videos\\gandalf_231205_116_e3v831b.mp4\n",
      "Symlink creation impossible (exFat architecture?): copying the video instead.\n",
      "c:\\Users\\rober\\Desktop\\Monkey-Emotions\\video\\gandalf_231205\\gandalf_231205_117_e3v831b.mp4 copied to 231205_gandalf\\body_2-rh-2023-12-06\\videos\\gandalf_231205_117_e3v831b.mp4\n",
      "Symlink creation impossible (exFat architecture?): copying the video instead.\n",
      "c:\\Users\\rober\\Desktop\\Monkey-Emotions\\video\\gandalf_231205\\gandalf_231205_118_e3v831b.mp4 copied to 231205_gandalf\\body_2-rh-2023-12-06\\videos\\gandalf_231205_118_e3v831b.mp4\n",
      "Symlink creation impossible (exFat architecture?): copying the video instead.\n",
      "c:\\Users\\rober\\Desktop\\Monkey-Emotions\\video\\gandalf_231205\\gandalf_231205_119_e3v831b.mp4 copied to 231205_gandalf\\body_2-rh-2023-12-06\\videos\\gandalf_231205_119_e3v831b.mp4\n",
      "Symlink creation impossible (exFat architecture?): copying the video instead.\n",
      "c:\\Users\\rober\\Desktop\\Monkey-Emotions\\video\\gandalf_231205\\gandalf_231205_120_e3v831b.mp4 copied to 231205_gandalf\\body_2-rh-2023-12-06\\videos\\gandalf_231205_120_e3v831b.mp4\n",
      "Symlink creation impossible (exFat architecture?): copying the video instead.\n",
      "c:\\Users\\rober\\Desktop\\Monkey-Emotions\\video\\gandalf_231205\\gandalf_231205_121_e3v831b.mp4 copied to 231205_gandalf\\body_2-rh-2023-12-06\\videos\\gandalf_231205_121_e3v831b.mp4\n",
      "Symlink creation impossible (exFat architecture?): copying the video instead.\n",
      "c:\\Users\\rober\\Desktop\\Monkey-Emotions\\video\\gandalf_231205\\gandalf_231205_122_e3v831b.mp4 copied to 231205_gandalf\\body_2-rh-2023-12-06\\videos\\gandalf_231205_122_e3v831b.mp4\n",
      "Symlink creation impossible (exFat architecture?): copying the video instead.\n",
      "c:\\Users\\rober\\Desktop\\Monkey-Emotions\\video\\gandalf_231205\\gandalf_231205_123_e3v831b.mp4 copied to 231205_gandalf\\body_2-rh-2023-12-06\\videos\\gandalf_231205_123_e3v831b.mp4\n",
      "Symlink creation impossible (exFat architecture?): copying the video instead.\n",
      "c:\\Users\\rober\\Desktop\\Monkey-Emotions\\video\\gandalf_231205\\gandalf_231205_124_e3v831b.mp4 copied to 231205_gandalf\\body_2-rh-2023-12-06\\videos\\gandalf_231205_124_e3v831b.mp4\n",
      "Symlink creation impossible (exFat architecture?): copying the video instead.\n",
      "c:\\Users\\rober\\Desktop\\Monkey-Emotions\\video\\gandalf_231205\\gandalf_231205_125_e3v831b.mp4 copied to 231205_gandalf\\body_2-rh-2023-12-06\\videos\\gandalf_231205_125_e3v831b.mp4\n",
      "Symlink creation impossible (exFat architecture?): copying the video instead.\n",
      "c:\\Users\\rober\\Desktop\\Monkey-Emotions\\video\\gandalf_231205\\gandalf_231205_126_e3v831b.mp4 copied to 231205_gandalf\\body_2-rh-2023-12-06\\videos\\gandalf_231205_126_e3v831b.mp4\n",
      "Symlink creation impossible (exFat architecture?): copying the video instead.\n",
      "c:\\Users\\rober\\Desktop\\Monkey-Emotions\\video\\gandalf_231205\\gandalf_231205_127_e3v831b.mp4 copied to 231205_gandalf\\body_2-rh-2023-12-06\\videos\\gandalf_231205_127_e3v831b.mp4\n",
      "Symlink creation impossible (exFat architecture?): copying the video instead.\n",
      "c:\\Users\\rober\\Desktop\\Monkey-Emotions\\video\\gandalf_231205\\gandalf_231205_128_e3v831b.mp4 copied to 231205_gandalf\\body_2-rh-2023-12-06\\videos\\gandalf_231205_128_e3v831b.mp4\n",
      "Symlink creation impossible (exFat architecture?): copying the video instead.\n",
      "c:\\Users\\rober\\Desktop\\Monkey-Emotions\\video\\gandalf_231205\\gandalf_231205_129_e3v831b.mp4 copied to 231205_gandalf\\body_2-rh-2023-12-06\\videos\\gandalf_231205_129_e3v831b.mp4\n",
      "Symlink creation impossible (exFat architecture?): copying the video instead.\n",
      "c:\\Users\\rober\\Desktop\\Monkey-Emotions\\video\\gandalf_231205\\gandalf_231205_130_e3v831b.mp4 copied to 231205_gandalf\\body_2-rh-2023-12-06\\videos\\gandalf_231205_130_e3v831b.mp4\n",
      "Symlink creation impossible (exFat architecture?): copying the video instead.\n",
      "c:\\Users\\rober\\Desktop\\Monkey-Emotions\\video\\gandalf_231205\\gandalf_231205_131_e3v831b.mp4 copied to 231205_gandalf\\body_2-rh-2023-12-06\\videos\\gandalf_231205_131_e3v831b.mp4\n",
      "Symlink creation impossible (exFat architecture?): copying the video instead.\n",
      "c:\\Users\\rober\\Desktop\\Monkey-Emotions\\video\\gandalf_231205\\gandalf_231205_132_e3v831b.mp4 copied to 231205_gandalf\\body_2-rh-2023-12-06\\videos\\gandalf_231205_132_e3v831b.mp4\n",
      "Symlink creation impossible (exFat architecture?): copying the video instead.\n",
      "c:\\Users\\rober\\Desktop\\Monkey-Emotions\\video\\gandalf_231205\\gandalf_231205_133_e3v831b.mp4 copied to 231205_gandalf\\body_2-rh-2023-12-06\\videos\\gandalf_231205_133_e3v831b.mp4\n",
      "Symlink creation impossible (exFat architecture?): copying the video instead.\n",
      "c:\\Users\\rober\\Desktop\\Monkey-Emotions\\video\\gandalf_231205\\gandalf_231205_134_e3v831b.mp4 copied to 231205_gandalf\\body_2-rh-2023-12-06\\videos\\gandalf_231205_134_e3v831b.mp4\n",
      "Symlink creation impossible (exFat architecture?): copying the video instead.\n",
      "c:\\Users\\rober\\Desktop\\Monkey-Emotions\\video\\gandalf_231205\\gandalf_231205_136_e3v831b.mp4 copied to 231205_gandalf\\body_2-rh-2023-12-06\\videos\\gandalf_231205_136_e3v831b.mp4\n",
      "Symlink creation impossible (exFat architecture?): copying the video instead.\n",
      "c:\\Users\\rober\\Desktop\\Monkey-Emotions\\video\\gandalf_231205\\gandalf_231205_137_e3v831b.mp4 copied to 231205_gandalf\\body_2-rh-2023-12-06\\videos\\gandalf_231205_137_e3v831b.mp4\n",
      "Symlink creation impossible (exFat architecture?): copying the video instead.\n",
      "c:\\Users\\rober\\Desktop\\Monkey-Emotions\\video\\gandalf_231205\\gandalf_231205_138_e3v831b.mp4 copied to 231205_gandalf\\body_2-rh-2023-12-06\\videos\\gandalf_231205_138_e3v831b.mp4\n",
      "Symlink creation impossible (exFat architecture?): copying the video instead.\n",
      "c:\\Users\\rober\\Desktop\\Monkey-Emotions\\video\\gandalf_231205\\gandalf_231205_139_e3v831b.mp4 copied to 231205_gandalf\\body_2-rh-2023-12-06\\videos\\gandalf_231205_139_e3v831b.mp4\n",
      "Symlink creation impossible (exFat architecture?): copying the video instead.\n",
      "c:\\Users\\rober\\Desktop\\Monkey-Emotions\\video\\gandalf_231205\\gandalf_231205_140_e3v831b.mp4 copied to 231205_gandalf\\body_2-rh-2023-12-06\\videos\\gandalf_231205_140_e3v831b.mp4\n",
      "Symlink creation impossible (exFat architecture?): copying the video instead.\n",
      "c:\\Users\\rober\\Desktop\\Monkey-Emotions\\video\\gandalf_231205\\gandalf_231205_141_e3v831b.mp4 copied to 231205_gandalf\\body_2-rh-2023-12-06\\videos\\gandalf_231205_141_e3v831b.mp4\n",
      "Symlink creation impossible (exFat architecture?): copying the video instead.\n",
      "c:\\Users\\rober\\Desktop\\Monkey-Emotions\\video\\gandalf_231205\\gandalf_231205_142_e3v831b.mp4 copied to 231205_gandalf\\body_2-rh-2023-12-06\\videos\\gandalf_231205_142_e3v831b.mp4\n",
      "Symlink creation impossible (exFat architecture?): copying the video instead.\n",
      "c:\\Users\\rober\\Desktop\\Monkey-Emotions\\video\\gandalf_231205\\gandalf_231205_143_e3v831b.mp4 copied to 231205_gandalf\\body_2-rh-2023-12-06\\videos\\gandalf_231205_143_e3v831b.mp4\n",
      "Symlink creation impossible (exFat architecture?): copying the video instead.\n",
      "c:\\Users\\rober\\Desktop\\Monkey-Emotions\\video\\gandalf_231205\\gandalf_231205_144_e3v831b.mp4 copied to 231205_gandalf\\body_2-rh-2023-12-06\\videos\\gandalf_231205_144_e3v831b.mp4\n",
      "Symlink creation impossible (exFat architecture?): copying the video instead.\n",
      "c:\\Users\\rober\\Desktop\\Monkey-Emotions\\video\\gandalf_231205\\gandalf_231205_145_e3v831b.mp4 copied to 231205_gandalf\\body_2-rh-2023-12-06\\videos\\gandalf_231205_145_e3v831b.mp4\n",
      "Symlink creation impossible (exFat architecture?): copying the video instead.\n",
      "c:\\Users\\rober\\Desktop\\Monkey-Emotions\\video\\gandalf_231205\\gandalf_231205_146_e3v831b.mp4 copied to 231205_gandalf\\body_2-rh-2023-12-06\\videos\\gandalf_231205_146_e3v831b.mp4\n",
      "Symlink creation impossible (exFat architecture?): copying the video instead.\n",
      "c:\\Users\\rober\\Desktop\\Monkey-Emotions\\video\\gandalf_231205\\gandalf_231205_147_e3v831b.mp4 copied to 231205_gandalf\\body_2-rh-2023-12-06\\videos\\gandalf_231205_147_e3v831b.mp4\n",
      "Symlink creation impossible (exFat architecture?): copying the video instead.\n",
      "c:\\Users\\rober\\Desktop\\Monkey-Emotions\\video\\gandalf_231205\\gandalf_231205_148_e3v831b.mp4 copied to 231205_gandalf\\body_2-rh-2023-12-06\\videos\\gandalf_231205_148_e3v831b.mp4\n",
      "Symlink creation impossible (exFat architecture?): copying the video instead.\n",
      "c:\\Users\\rober\\Desktop\\Monkey-Emotions\\video\\gandalf_231205\\gandalf_231205_149_e3v831b.mp4 copied to 231205_gandalf\\body_2-rh-2023-12-06\\videos\\gandalf_231205_149_e3v831b.mp4\n",
      "Symlink creation impossible (exFat architecture?): copying the video instead.\n",
      "c:\\Users\\rober\\Desktop\\Monkey-Emotions\\video\\gandalf_231205\\gandalf_231205_150_e3v831b.mp4 copied to 231205_gandalf\\body_2-rh-2023-12-06\\videos\\gandalf_231205_150_e3v831b.mp4\n",
      "Symlink creation impossible (exFat architecture?): copying the video instead.\n",
      "c:\\Users\\rober\\Desktop\\Monkey-Emotions\\video\\gandalf_231205\\gandalf_231205_151_e3v831b.mp4 copied to 231205_gandalf\\body_2-rh-2023-12-06\\videos\\gandalf_231205_151_e3v831b.mp4\n",
      "Symlink creation impossible (exFat architecture?): copying the video instead.\n",
      "c:\\Users\\rober\\Desktop\\Monkey-Emotions\\video\\gandalf_231205\\gandalf_231205_152_e3v831b.mp4 copied to 231205_gandalf\\body_2-rh-2023-12-06\\videos\\gandalf_231205_152_e3v831b.mp4\n",
      "Symlink creation impossible (exFat architecture?): copying the video instead.\n",
      "c:\\Users\\rober\\Desktop\\Monkey-Emotions\\video\\gandalf_231205\\gandalf_231205_153_e3v831b.mp4 copied to 231205_gandalf\\body_2-rh-2023-12-06\\videos\\gandalf_231205_153_e3v831b.mp4\n",
      "Symlink creation impossible (exFat architecture?): copying the video instead.\n",
      "c:\\Users\\rober\\Desktop\\Monkey-Emotions\\video\\gandalf_231205\\gandalf_231205_154_e3v831b.mp4 copied to 231205_gandalf\\body_2-rh-2023-12-06\\videos\\gandalf_231205_154_e3v831b.mp4\n",
      "Symlink creation impossible (exFat architecture?): copying the video instead.\n",
      "c:\\Users\\rober\\Desktop\\Monkey-Emotions\\video\\gandalf_231205\\gandalf_231205_155_e3v831b.mp4 copied to 231205_gandalf\\body_2-rh-2023-12-06\\videos\\gandalf_231205_155_e3v831b.mp4\n",
      "Symlink creation impossible (exFat architecture?): copying the video instead.\n",
      "c:\\Users\\rober\\Desktop\\Monkey-Emotions\\video\\gandalf_231205\\gandalf_231205_156_e3v831b.mp4 copied to 231205_gandalf\\body_2-rh-2023-12-06\\videos\\gandalf_231205_156_e3v831b.mp4\n",
      "Symlink creation impossible (exFat architecture?): copying the video instead.\n",
      "c:\\Users\\rober\\Desktop\\Monkey-Emotions\\video\\gandalf_231205\\gandalf_231205_157_e3v831b.mp4 copied to 231205_gandalf\\body_2-rh-2023-12-06\\videos\\gandalf_231205_157_e3v831b.mp4\n",
      "Symlink creation impossible (exFat architecture?): copying the video instead.\n",
      "c:\\Users\\rober\\Desktop\\Monkey-Emotions\\video\\gandalf_231205\\gandalf_231205_158_e3v831b.mp4 copied to 231205_gandalf\\body_2-rh-2023-12-06\\videos\\gandalf_231205_158_e3v831b.mp4\n",
      "Symlink creation impossible (exFat architecture?): copying the video instead.\n",
      "c:\\Users\\rober\\Desktop\\Monkey-Emotions\\video\\gandalf_231205\\gandalf_231205_159_e3v831b.mp4 copied to 231205_gandalf\\body_2-rh-2023-12-06\\videos\\gandalf_231205_159_e3v831b.mp4\n",
      "Symlink creation impossible (exFat architecture?): copying the video instead.\n",
      "c:\\Users\\rober\\Desktop\\Monkey-Emotions\\video\\gandalf_231205\\gandalf_231205_160_e3v831b.mp4 copied to 231205_gandalf\\body_2-rh-2023-12-06\\videos\\gandalf_231205_160_e3v831b.mp4\n",
      "Symlink creation impossible (exFat architecture?): copying the video instead.\n",
      "c:\\Users\\rober\\Desktop\\Monkey-Emotions\\video\\gandalf_231205\\gandalf_231205_161_e3v831b.mp4 copied to 231205_gandalf\\body_2-rh-2023-12-06\\videos\\gandalf_231205_161_e3v831b.mp4\n",
      "Symlink creation impossible (exFat architecture?): copying the video instead.\n",
      "c:\\Users\\rober\\Desktop\\Monkey-Emotions\\video\\gandalf_231205\\gandalf_231205_162_e3v831b.mp4 copied to 231205_gandalf\\body_2-rh-2023-12-06\\videos\\gandalf_231205_162_e3v831b.mp4\n",
      "Symlink creation impossible (exFat architecture?): copying the video instead.\n",
      "c:\\Users\\rober\\Desktop\\Monkey-Emotions\\video\\gandalf_231205\\gandalf_231205_163_e3v831b.mp4 copied to 231205_gandalf\\body_2-rh-2023-12-06\\videos\\gandalf_231205_163_e3v831b.mp4\n",
      "Symlink creation impossible (exFat architecture?): copying the video instead.\n",
      "c:\\Users\\rober\\Desktop\\Monkey-Emotions\\video\\gandalf_231205\\gandalf_231205_164_e3v831b.mp4 copied to 231205_gandalf\\body_2-rh-2023-12-06\\videos\\gandalf_231205_164_e3v831b.mp4\n",
      "Symlink creation impossible (exFat architecture?): copying the video instead.\n",
      "c:\\Users\\rober\\Desktop\\Monkey-Emotions\\video\\gandalf_231205\\gandalf_231205_165_e3v831b.mp4 copied to 231205_gandalf\\body_2-rh-2023-12-06\\videos\\gandalf_231205_165_e3v831b.mp4\n",
      "Symlink creation impossible (exFat architecture?): copying the video instead.\n",
      "c:\\Users\\rober\\Desktop\\Monkey-Emotions\\video\\gandalf_231205\\gandalf_231205_166_e3v831b.mp4 copied to 231205_gandalf\\body_2-rh-2023-12-06\\videos\\gandalf_231205_166_e3v831b.mp4\n",
      "Symlink creation impossible (exFat architecture?): copying the video instead.\n",
      "c:\\Users\\rober\\Desktop\\Monkey-Emotions\\video\\gandalf_231205\\gandalf_231205_167_e3v831b.mp4 copied to 231205_gandalf\\body_2-rh-2023-12-06\\videos\\gandalf_231205_167_e3v831b.mp4\n",
      "Symlink creation impossible (exFat architecture?): copying the video instead.\n",
      "c:\\Users\\rober\\Desktop\\Monkey-Emotions\\video\\gandalf_231205\\gandalf_231205_168_e3v831b.mp4 copied to 231205_gandalf\\body_2-rh-2023-12-06\\videos\\gandalf_231205_168_e3v831b.mp4\n",
      "Symlink creation impossible (exFat architecture?): copying the video instead.\n",
      "c:\\Users\\rober\\Desktop\\Monkey-Emotions\\video\\gandalf_231205\\gandalf_231205_169_e3v831b.mp4 copied to 231205_gandalf\\body_2-rh-2023-12-06\\videos\\gandalf_231205_169_e3v831b.mp4\n",
      "Symlink creation impossible (exFat architecture?): copying the video instead.\n",
      "c:\\Users\\rober\\Desktop\\Monkey-Emotions\\video\\gandalf_231205\\gandalf_231205_170_e3v831b.mp4 copied to 231205_gandalf\\body_2-rh-2023-12-06\\videos\\gandalf_231205_170_e3v831b.mp4\n",
      "Symlink creation impossible (exFat architecture?): copying the video instead.\n",
      "c:\\Users\\rober\\Desktop\\Monkey-Emotions\\video\\gandalf_231205\\gandalf_231205_171_e3v831b.mp4 copied to 231205_gandalf\\body_2-rh-2023-12-06\\videos\\gandalf_231205_171_e3v831b.mp4\n",
      "Symlink creation impossible (exFat architecture?): copying the video instead.\n",
      "c:\\Users\\rober\\Desktop\\Monkey-Emotions\\video\\gandalf_231205\\gandalf_231205_172_e3v831b.mp4 copied to 231205_gandalf\\body_2-rh-2023-12-06\\videos\\gandalf_231205_172_e3v831b.mp4\n",
      "Symlink creation impossible (exFat architecture?): copying the video instead.\n",
      "c:\\Users\\rober\\Desktop\\Monkey-Emotions\\video\\gandalf_231205\\gandalf_231205_173_e3v831b.mp4 copied to 231205_gandalf\\body_2-rh-2023-12-06\\videos\\gandalf_231205_173_e3v831b.mp4\n",
      "Symlink creation impossible (exFat architecture?): copying the video instead.\n",
      "c:\\Users\\rober\\Desktop\\Monkey-Emotions\\video\\gandalf_231205\\gandalf_231205_174_e3v831b.mp4 copied to 231205_gandalf\\body_2-rh-2023-12-06\\videos\\gandalf_231205_174_e3v831b.mp4\n",
      "Symlink creation impossible (exFat architecture?): copying the video instead.\n",
      "c:\\Users\\rober\\Desktop\\Monkey-Emotions\\video\\gandalf_231205\\gandalf_231205_175_e3v831b.mp4 copied to 231205_gandalf\\body_2-rh-2023-12-06\\videos\\gandalf_231205_175_e3v831b.mp4\n",
      "Symlink creation impossible (exFat architecture?): copying the video instead.\n",
      "c:\\Users\\rober\\Desktop\\Monkey-Emotions\\video\\gandalf_231205\\gandalf_231205_176_e3v831b.mp4 copied to 231205_gandalf\\body_2-rh-2023-12-06\\videos\\gandalf_231205_176_e3v831b.mp4\n",
      "Symlink creation impossible (exFat architecture?): copying the video instead.\n",
      "c:\\Users\\rober\\Desktop\\Monkey-Emotions\\video\\gandalf_231205\\gandalf_231205_177_e3v831b.mp4 copied to 231205_gandalf\\body_2-rh-2023-12-06\\videos\\gandalf_231205_177_e3v831b.mp4\n",
      "Symlink creation impossible (exFat architecture?): copying the video instead.\n",
      "c:\\Users\\rober\\Desktop\\Monkey-Emotions\\video\\gandalf_231205\\gandalf_231205_178_e3v831b.mp4 copied to 231205_gandalf\\body_2-rh-2023-12-06\\videos\\gandalf_231205_178_e3v831b.mp4\n",
      "Symlink creation impossible (exFat architecture?): copying the video instead.\n",
      "c:\\Users\\rober\\Desktop\\Monkey-Emotions\\video\\gandalf_231205\\gandalf_231205_179_e3v831b.mp4 copied to 231205_gandalf\\body_2-rh-2023-12-06\\videos\\gandalf_231205_179_e3v831b.mp4\n",
      "Symlink creation impossible (exFat architecture?): copying the video instead.\n",
      "c:\\Users\\rober\\Desktop\\Monkey-Emotions\\video\\gandalf_231205\\gandalf_231205_180_e3v831b.mp4 copied to 231205_gandalf\\body_2-rh-2023-12-06\\videos\\gandalf_231205_180_e3v831b.mp4\n",
      "Symlink creation impossible (exFat architecture?): copying the video instead.\n",
      "c:\\Users\\rober\\Desktop\\Monkey-Emotions\\video\\gandalf_231205\\gandalf_231205_181_e3v831b.mp4 copied to 231205_gandalf\\body_2-rh-2023-12-06\\videos\\gandalf_231205_181_e3v831b.mp4\n",
      "Symlink creation impossible (exFat architecture?): copying the video instead.\n",
      "c:\\Users\\rober\\Desktop\\Monkey-Emotions\\video\\gandalf_231205\\gandalf_231205_182_e3v831b.mp4 copied to 231205_gandalf\\body_2-rh-2023-12-06\\videos\\gandalf_231205_182_e3v831b.mp4\n",
      "Symlink creation impossible (exFat architecture?): copying the video instead.\n",
      "c:\\Users\\rober\\Desktop\\Monkey-Emotions\\video\\gandalf_231205\\gandalf_231205_183_e3v831b.mp4 copied to 231205_gandalf\\body_2-rh-2023-12-06\\videos\\gandalf_231205_183_e3v831b.mp4\n",
      "Symlink creation impossible (exFat architecture?): copying the video instead.\n",
      "c:\\Users\\rober\\Desktop\\Monkey-Emotions\\video\\gandalf_231205\\gandalf_231205_184_e3v831b.mp4 copied to 231205_gandalf\\body_2-rh-2023-12-06\\videos\\gandalf_231205_184_e3v831b.mp4\n",
      "Symlink creation impossible (exFat architecture?): copying the video instead.\n",
      "c:\\Users\\rober\\Desktop\\Monkey-Emotions\\video\\gandalf_231205\\gandalf_231205_185_e3v831b.mp4 copied to 231205_gandalf\\body_2-rh-2023-12-06\\videos\\gandalf_231205_185_e3v831b.mp4\n",
      "Symlink creation impossible (exFat architecture?): copying the video instead.\n",
      "c:\\Users\\rober\\Desktop\\Monkey-Emotions\\video\\gandalf_231205\\gandalf_231205_186_e3v831b.mp4 copied to 231205_gandalf\\body_2-rh-2023-12-06\\videos\\gandalf_231205_186_e3v831b.mp4\n",
      "Symlink creation impossible (exFat architecture?): copying the video instead.\n",
      "c:\\Users\\rober\\Desktop\\Monkey-Emotions\\video\\gandalf_231205\\gandalf_231205_187_e3v831b.mp4 copied to 231205_gandalf\\body_2-rh-2023-12-06\\videos\\gandalf_231205_187_e3v831b.mp4\n",
      "Symlink creation impossible (exFat architecture?): copying the video instead.\n",
      "c:\\Users\\rober\\Desktop\\Monkey-Emotions\\video\\gandalf_231205\\gandalf_231205_188_e3v831b.mp4 copied to 231205_gandalf\\body_2-rh-2023-12-06\\videos\\gandalf_231205_188_e3v831b.mp4\n",
      "Symlink creation impossible (exFat architecture?): copying the video instead.\n",
      "c:\\Users\\rober\\Desktop\\Monkey-Emotions\\video\\gandalf_231205\\gandalf_231205_189_e3v831b.mp4 copied to 231205_gandalf\\body_2-rh-2023-12-06\\videos\\gandalf_231205_189_e3v831b.mp4\n",
      "Symlink creation impossible (exFat architecture?): copying the video instead.\n",
      "c:\\Users\\rober\\Desktop\\Monkey-Emotions\\video\\gandalf_231205\\gandalf_231205_190_e3v831b.mp4 copied to 231205_gandalf\\body_2-rh-2023-12-06\\videos\\gandalf_231205_190_e3v831b.mp4\n",
      "Symlink creation impossible (exFat architecture?): copying the video instead.\n",
      "c:\\Users\\rober\\Desktop\\Monkey-Emotions\\video\\gandalf_231205\\gandalf_231205_191_e3v831b.mp4 copied to 231205_gandalf\\body_2-rh-2023-12-06\\videos\\gandalf_231205_191_e3v831b.mp4\n",
      "Symlink creation impossible (exFat architecture?): copying the video instead.\n",
      "c:\\Users\\rober\\Desktop\\Monkey-Emotions\\video\\gandalf_231205\\gandalf_231205_192_e3v831b.mp4 copied to 231205_gandalf\\body_2-rh-2023-12-06\\videos\\gandalf_231205_192_e3v831b.mp4\n",
      "Symlink creation impossible (exFat architecture?): copying the video instead.\n",
      "c:\\Users\\rober\\Desktop\\Monkey-Emotions\\video\\gandalf_231205\\gandalf_231205_193_e3v831b.mp4 copied to 231205_gandalf\\body_2-rh-2023-12-06\\videos\\gandalf_231205_193_e3v831b.mp4\n",
      "Symlink creation impossible (exFat architecture?): copying the video instead.\n",
      "c:\\Users\\rober\\Desktop\\Monkey-Emotions\\video\\gandalf_231205\\gandalf_231205_194_e3v831b.mp4 copied to 231205_gandalf\\body_2-rh-2023-12-06\\videos\\gandalf_231205_194_e3v831b.mp4\n",
      "Symlink creation impossible (exFat architecture?): copying the video instead.\n",
      "c:\\Users\\rober\\Desktop\\Monkey-Emotions\\video\\gandalf_231205\\gandalf_231205_195_e3v831b.mp4 copied to 231205_gandalf\\body_2-rh-2023-12-06\\videos\\gandalf_231205_195_e3v831b.mp4\n",
      "Symlink creation impossible (exFat architecture?): copying the video instead.\n",
      "c:\\Users\\rober\\Desktop\\Monkey-Emotions\\video\\gandalf_231205\\gandalf_231205_196_e3v831b.mp4 copied to 231205_gandalf\\body_2-rh-2023-12-06\\videos\\gandalf_231205_196_e3v831b.mp4\n",
      "Symlink creation impossible (exFat architecture?): copying the video instead.\n",
      "c:\\Users\\rober\\Desktop\\Monkey-Emotions\\video\\gandalf_231205\\gandalf_231205_197_e3v831b.mp4 copied to 231205_gandalf\\body_2-rh-2023-12-06\\videos\\gandalf_231205_197_e3v831b.mp4\n",
      "Symlink creation impossible (exFat architecture?): copying the video instead.\n",
      "c:\\Users\\rober\\Desktop\\Monkey-Emotions\\video\\gandalf_231205\\gandalf_231205_198_e3v831b.mp4 copied to 231205_gandalf\\body_2-rh-2023-12-06\\videos\\gandalf_231205_198_e3v831b.mp4\n",
      "Symlink creation impossible (exFat architecture?): copying the video instead.\n",
      "c:\\Users\\rober\\Desktop\\Monkey-Emotions\\video\\gandalf_231205\\gandalf_231205_199_e3v831b.mp4 copied to 231205_gandalf\\body_2-rh-2023-12-06\\videos\\gandalf_231205_199_e3v831b.mp4\n",
      "Symlink creation impossible (exFat architecture?): copying the video instead.\n",
      "c:\\Users\\rober\\Desktop\\Monkey-Emotions\\video\\gandalf_231205\\gandalf_231205_200_e3v831b.mp4 copied to 231205_gandalf\\body_2-rh-2023-12-06\\videos\\gandalf_231205_200_e3v831b.mp4\n",
      "Symlink creation impossible (exFat architecture?): copying the video instead.\n",
      "c:\\Users\\rober\\Desktop\\Monkey-Emotions\\video\\gandalf_231205\\gandalf_231205_201_e3v831b.mp4 copied to 231205_gandalf\\body_2-rh-2023-12-06\\videos\\gandalf_231205_201_e3v831b.mp4\n",
      "Symlink creation impossible (exFat architecture?): copying the video instead.\n",
      "c:\\Users\\rober\\Desktop\\Monkey-Emotions\\video\\gandalf_231205\\gandalf_231205_202_e3v831b.mp4 copied to 231205_gandalf\\body_2-rh-2023-12-06\\videos\\gandalf_231205_202_e3v831b.mp4\n",
      "Symlink creation impossible (exFat architecture?): copying the video instead.\n",
      "c:\\Users\\rober\\Desktop\\Monkey-Emotions\\video\\gandalf_231205\\gandalf_231205_203_e3v831b.mp4 copied to 231205_gandalf\\body_2-rh-2023-12-06\\videos\\gandalf_231205_203_e3v831b.mp4\n",
      "Symlink creation impossible (exFat architecture?): copying the video instead.\n",
      "c:\\Users\\rober\\Desktop\\Monkey-Emotions\\video\\gandalf_231205\\gandalf_231205_204_e3v831b.mp4 copied to 231205_gandalf\\body_2-rh-2023-12-06\\videos\\gandalf_231205_204_e3v831b.mp4\n",
      "Symlink creation impossible (exFat architecture?): copying the video instead.\n",
      "c:\\Users\\rober\\Desktop\\Monkey-Emotions\\video\\gandalf_231205\\gandalf_231205_205_e3v831b.mp4 copied to 231205_gandalf\\body_2-rh-2023-12-06\\videos\\gandalf_231205_205_e3v831b.mp4\n",
      "Symlink creation impossible (exFat architecture?): copying the video instead.\n",
      "c:\\Users\\rober\\Desktop\\Monkey-Emotions\\video\\gandalf_231205\\gandalf_231205_206_e3v831b.mp4 copied to 231205_gandalf\\body_2-rh-2023-12-06\\videos\\gandalf_231205_206_e3v831b.mp4\n",
      "Symlink creation impossible (exFat architecture?): copying the video instead.\n",
      "c:\\Users\\rober\\Desktop\\Monkey-Emotions\\video\\gandalf_231205\\gandalf_231205_207_e3v831b.mp4 copied to 231205_gandalf\\body_2-rh-2023-12-06\\videos\\gandalf_231205_207_e3v831b.mp4\n",
      "Symlink creation impossible (exFat architecture?): copying the video instead.\n",
      "c:\\Users\\rober\\Desktop\\Monkey-Emotions\\video\\gandalf_231205\\gandalf_231205_208_e3v831b.mp4 copied to 231205_gandalf\\body_2-rh-2023-12-06\\videos\\gandalf_231205_208_e3v831b.mp4\n",
      "Symlink creation impossible (exFat architecture?): copying the video instead.\n",
      "c:\\Users\\rober\\Desktop\\Monkey-Emotions\\video\\gandalf_231205\\gandalf_231205_209_e3v831b.mp4 copied to 231205_gandalf\\body_2-rh-2023-12-06\\videos\\gandalf_231205_209_e3v831b.mp4\n",
      "Symlink creation impossible (exFat architecture?): copying the video instead.\n",
      "c:\\Users\\rober\\Desktop\\Monkey-Emotions\\video\\gandalf_231205\\gandalf_231205_210_e3v831b.mp4 copied to 231205_gandalf\\body_2-rh-2023-12-06\\videos\\gandalf_231205_210_e3v831b.mp4\n",
      "Symlink creation impossible (exFat architecture?): copying the video instead.\n",
      "c:\\Users\\rober\\Desktop\\Monkey-Emotions\\video\\gandalf_231205\\gandalf_231205_211_e3v831b.mp4 copied to 231205_gandalf\\body_2-rh-2023-12-06\\videos\\gandalf_231205_211_e3v831b.mp4\n",
      "Symlink creation impossible (exFat architecture?): copying the video instead.\n",
      "c:\\Users\\rober\\Desktop\\Monkey-Emotions\\video\\gandalf_231205\\gandalf_231205_212_e3v831b.mp4 copied to 231205_gandalf\\body_2-rh-2023-12-06\\videos\\gandalf_231205_212_e3v831b.mp4\n",
      "Symlink creation impossible (exFat architecture?): copying the video instead.\n",
      "c:\\Users\\rober\\Desktop\\Monkey-Emotions\\video\\gandalf_231205\\gandalf_231205_213_e3v831b.mp4 copied to 231205_gandalf\\body_2-rh-2023-12-06\\videos\\gandalf_231205_213_e3v831b.mp4\n",
      "Symlink creation impossible (exFat architecture?): copying the video instead.\n",
      "c:\\Users\\rober\\Desktop\\Monkey-Emotions\\video\\gandalf_231205\\gandalf_231205_215_e3v831b.mp4 copied to 231205_gandalf\\body_2-rh-2023-12-06\\videos\\gandalf_231205_215_e3v831b.mp4\n",
      "Symlink creation impossible (exFat architecture?): copying the video instead.\n",
      "c:\\Users\\rober\\Desktop\\Monkey-Emotions\\video\\gandalf_231205\\gandalf_231205_216_e3v831b.mp4 copied to 231205_gandalf\\body_2-rh-2023-12-06\\videos\\gandalf_231205_216_e3v831b.mp4\n",
      "Symlink creation impossible (exFat architecture?): copying the video instead.\n",
      "c:\\Users\\rober\\Desktop\\Monkey-Emotions\\video\\gandalf_231205\\gandalf_231205_217_e3v831b.mp4 copied to 231205_gandalf\\body_2-rh-2023-12-06\\videos\\gandalf_231205_217_e3v831b.mp4\n",
      "Symlink creation impossible (exFat architecture?): copying the video instead.\n",
      "c:\\Users\\rober\\Desktop\\Monkey-Emotions\\video\\gandalf_231205\\gandalf_231205_218_e3v831b.mp4 copied to 231205_gandalf\\body_2-rh-2023-12-06\\videos\\gandalf_231205_218_e3v831b.mp4\n",
      "Symlink creation impossible (exFat architecture?): copying the video instead.\n",
      "c:\\Users\\rober\\Desktop\\Monkey-Emotions\\video\\gandalf_231205\\gandalf_231205_219_e3v831b.mp4 copied to 231205_gandalf\\body_2-rh-2023-12-06\\videos\\gandalf_231205_219_e3v831b.mp4\n",
      "Symlink creation impossible (exFat architecture?): copying the video instead.\n",
      "c:\\Users\\rober\\Desktop\\Monkey-Emotions\\video\\gandalf_231205\\gandalf_231205_220_e3v831b.mp4 copied to 231205_gandalf\\body_2-rh-2023-12-06\\videos\\gandalf_231205_220_e3v831b.mp4\n",
      "Symlink creation impossible (exFat architecture?): copying the video instead.\n",
      "c:\\Users\\rober\\Desktop\\Monkey-Emotions\\video\\gandalf_231205\\gandalf_231205_221_e3v831b.mp4 copied to 231205_gandalf\\body_2-rh-2023-12-06\\videos\\gandalf_231205_221_e3v831b.mp4\n",
      "Symlink creation impossible (exFat architecture?): copying the video instead.\n",
      "c:\\Users\\rober\\Desktop\\Monkey-Emotions\\video\\gandalf_231205\\gandalf_231205_222_e3v831b.mp4 copied to 231205_gandalf\\body_2-rh-2023-12-06\\videos\\gandalf_231205_222_e3v831b.mp4\n",
      "Symlink creation impossible (exFat architecture?): copying the video instead.\n",
      "c:\\Users\\rober\\Desktop\\Monkey-Emotions\\video\\gandalf_231205\\gandalf_231205_223_e3v831b.mp4 copied to 231205_gandalf\\body_2-rh-2023-12-06\\videos\\gandalf_231205_223_e3v831b.mp4\n",
      "Symlink creation impossible (exFat architecture?): copying the video instead.\n",
      "c:\\Users\\rober\\Desktop\\Monkey-Emotions\\video\\gandalf_231205\\gandalf_231205_224_e3v831b.mp4 copied to 231205_gandalf\\body_2-rh-2023-12-06\\videos\\gandalf_231205_224_e3v831b.mp4\n",
      "Symlink creation impossible (exFat architecture?): copying the video instead.\n",
      "c:\\Users\\rober\\Desktop\\Monkey-Emotions\\video\\gandalf_231205\\gandalf_231205_225_e3v831b.mp4 copied to 231205_gandalf\\body_2-rh-2023-12-06\\videos\\gandalf_231205_225_e3v831b.mp4\n",
      "Symlink creation impossible (exFat architecture?): copying the video instead.\n",
      "c:\\Users\\rober\\Desktop\\Monkey-Emotions\\video\\gandalf_231205\\gandalf_231205_226_e3v831b.mp4 copied to 231205_gandalf\\body_2-rh-2023-12-06\\videos\\gandalf_231205_226_e3v831b.mp4\n",
      "Symlink creation impossible (exFat architecture?): copying the video instead.\n",
      "c:\\Users\\rober\\Desktop\\Monkey-Emotions\\video\\gandalf_231205\\gandalf_231205_227_e3v831b.mp4 copied to 231205_gandalf\\body_2-rh-2023-12-06\\videos\\gandalf_231205_227_e3v831b.mp4\n",
      "Symlink creation impossible (exFat architecture?): copying the video instead.\n",
      "c:\\Users\\rober\\Desktop\\Monkey-Emotions\\video\\gandalf_231205\\gandalf_231205_228_e3v831b.mp4 copied to 231205_gandalf\\body_2-rh-2023-12-06\\videos\\gandalf_231205_228_e3v831b.mp4\n",
      "Symlink creation impossible (exFat architecture?): copying the video instead.\n",
      "c:\\Users\\rober\\Desktop\\Monkey-Emotions\\video\\gandalf_231205\\gandalf_231205_229_e3v831b.mp4 copied to 231205_gandalf\\body_2-rh-2023-12-06\\videos\\gandalf_231205_229_e3v831b.mp4\n",
      "Symlink creation impossible (exFat architecture?): copying the video instead.\n",
      "c:\\Users\\rober\\Desktop\\Monkey-Emotions\\video\\gandalf_231205\\gandalf_231205_230_e3v831b.mp4 copied to 231205_gandalf\\body_2-rh-2023-12-06\\videos\\gandalf_231205_230_e3v831b.mp4\n",
      "Symlink creation impossible (exFat architecture?): copying the video instead.\n",
      "c:\\Users\\rober\\Desktop\\Monkey-Emotions\\video\\gandalf_231205\\gandalf_231205_231_e3v831b.mp4 copied to 231205_gandalf\\body_2-rh-2023-12-06\\videos\\gandalf_231205_231_e3v831b.mp4\n",
      "Symlink creation impossible (exFat architecture?): copying the video instead.\n",
      "c:\\Users\\rober\\Desktop\\Monkey-Emotions\\video\\gandalf_231205\\gandalf_231205_232_e3v831b.mp4 copied to 231205_gandalf\\body_2-rh-2023-12-06\\videos\\gandalf_231205_232_e3v831b.mp4\n",
      "Symlink creation impossible (exFat architecture?): copying the video instead.\n",
      "c:\\Users\\rober\\Desktop\\Monkey-Emotions\\video\\gandalf_231205\\gandalf_231205_233_e3v831b.mp4 copied to 231205_gandalf\\body_2-rh-2023-12-06\\videos\\gandalf_231205_233_e3v831b.mp4\n",
      "Symlink creation impossible (exFat architecture?): copying the video instead.\n",
      "c:\\Users\\rober\\Desktop\\Monkey-Emotions\\video\\gandalf_231205\\gandalf_231205_234_e3v831b.mp4 copied to 231205_gandalf\\body_2-rh-2023-12-06\\videos\\gandalf_231205_234_e3v831b.mp4\n",
      "Symlink creation impossible (exFat architecture?): copying the video instead.\n",
      "c:\\Users\\rober\\Desktop\\Monkey-Emotions\\video\\gandalf_231205\\gandalf_231205_235_e3v831b.mp4 copied to 231205_gandalf\\body_2-rh-2023-12-06\\videos\\gandalf_231205_235_e3v831b.mp4\n",
      "Symlink creation impossible (exFat architecture?): copying the video instead.\n",
      "c:\\Users\\rober\\Desktop\\Monkey-Emotions\\video\\gandalf_231205\\gandalf_231205_236_e3v831b.mp4 copied to 231205_gandalf\\body_2-rh-2023-12-06\\videos\\gandalf_231205_236_e3v831b.mp4\n",
      "Symlink creation impossible (exFat architecture?): copying the video instead.\n",
      "c:\\Users\\rober\\Desktop\\Monkey-Emotions\\video\\gandalf_231205\\gandalf_231205_237_e3v831b.mp4 copied to 231205_gandalf\\body_2-rh-2023-12-06\\videos\\gandalf_231205_237_e3v831b.mp4\n",
      "Symlink creation impossible (exFat architecture?): copying the video instead.\n",
      "c:\\Users\\rober\\Desktop\\Monkey-Emotions\\video\\gandalf_231205\\gandalf_231205_238_e3v831b.mp4 copied to 231205_gandalf\\body_2-rh-2023-12-06\\videos\\gandalf_231205_238_e3v831b.mp4\n",
      "Symlink creation impossible (exFat architecture?): copying the video instead.\n",
      "c:\\Users\\rober\\Desktop\\Monkey-Emotions\\video\\gandalf_231205\\gandalf_231205_239_e3v831b.mp4 copied to 231205_gandalf\\body_2-rh-2023-12-06\\videos\\gandalf_231205_239_e3v831b.mp4\n",
      "Symlink creation impossible (exFat architecture?): copying the video instead.\n",
      "c:\\Users\\rober\\Desktop\\Monkey-Emotions\\video\\gandalf_231205\\gandalf_231205_240_e3v831b.mp4 copied to 231205_gandalf\\body_2-rh-2023-12-06\\videos\\gandalf_231205_240_e3v831b.mp4\n",
      "Symlink creation impossible (exFat architecture?): copying the video instead.\n",
      "c:\\Users\\rober\\Desktop\\Monkey-Emotions\\video\\gandalf_231205\\gandalf_231205_241_e3v831b.mp4 copied to 231205_gandalf\\body_2-rh-2023-12-06\\videos\\gandalf_231205_241_e3v831b.mp4\n",
      "Symlink creation impossible (exFat architecture?): copying the video instead.\n",
      "c:\\Users\\rober\\Desktop\\Monkey-Emotions\\video\\gandalf_231205\\gandalf_231205_242_e3v831b.mp4 copied to 231205_gandalf\\body_2-rh-2023-12-06\\videos\\gandalf_231205_242_e3v831b.mp4\n",
      "Symlink creation impossible (exFat architecture?): copying the video instead.\n",
      "c:\\Users\\rober\\Desktop\\Monkey-Emotions\\video\\gandalf_231205\\gandalf_231205_243_e3v831b.mp4 copied to 231205_gandalf\\body_2-rh-2023-12-06\\videos\\gandalf_231205_243_e3v831b.mp4\n",
      "Symlink creation impossible (exFat architecture?): copying the video instead.\n",
      "c:\\Users\\rober\\Desktop\\Monkey-Emotions\\video\\gandalf_231205\\gandalf_231205_244_e3v831b.mp4 copied to 231205_gandalf\\body_2-rh-2023-12-06\\videos\\gandalf_231205_244_e3v831b.mp4\n",
      "Symlink creation impossible (exFat architecture?): copying the video instead.\n",
      "c:\\Users\\rober\\Desktop\\Monkey-Emotions\\video\\gandalf_231205\\gandalf_231205_245_e3v831b.mp4 copied to 231205_gandalf\\body_2-rh-2023-12-06\\videos\\gandalf_231205_245_e3v831b.mp4\n",
      "Symlink creation impossible (exFat architecture?): copying the video instead.\n",
      "c:\\Users\\rober\\Desktop\\Monkey-Emotions\\video\\gandalf_231205\\gandalf_231205_246_e3v831b.mp4 copied to 231205_gandalf\\body_2-rh-2023-12-06\\videos\\gandalf_231205_246_e3v831b.mp4\n",
      "Symlink creation impossible (exFat architecture?): copying the video instead.\n",
      "c:\\Users\\rober\\Desktop\\Monkey-Emotions\\video\\gandalf_231205\\gandalf_231205_247_e3v831b.mp4 copied to 231205_gandalf\\body_2-rh-2023-12-06\\videos\\gandalf_231205_247_e3v831b.mp4\n",
      "Symlink creation impossible (exFat architecture?): copying the video instead.\n",
      "c:\\Users\\rober\\Desktop\\Monkey-Emotions\\video\\gandalf_231205\\gandalf_231205_248_e3v831b.mp4 copied to 231205_gandalf\\body_2-rh-2023-12-06\\videos\\gandalf_231205_248_e3v831b.mp4\n",
      "Symlink creation impossible (exFat architecture?): copying the video instead.\n",
      "c:\\Users\\rober\\Desktop\\Monkey-Emotions\\video\\gandalf_231205\\gandalf_231205_249_e3v831b.mp4 copied to 231205_gandalf\\body_2-rh-2023-12-06\\videos\\gandalf_231205_249_e3v831b.mp4\n",
      "Symlink creation impossible (exFat architecture?): copying the video instead.\n",
      "c:\\Users\\rober\\Desktop\\Monkey-Emotions\\video\\gandalf_231205\\gandalf_231205_250_e3v831b.mp4 copied to 231205_gandalf\\body_2-rh-2023-12-06\\videos\\gandalf_231205_250_e3v831b.mp4\n",
      "Symlink creation impossible (exFat architecture?): copying the video instead.\n",
      "c:\\Users\\rober\\Desktop\\Monkey-Emotions\\video\\gandalf_231205\\gandalf_231205_251_e3v831b.mp4 copied to 231205_gandalf\\body_2-rh-2023-12-06\\videos\\gandalf_231205_251_e3v831b.mp4\n",
      "Symlink creation impossible (exFat architecture?): copying the video instead.\n",
      "c:\\Users\\rober\\Desktop\\Monkey-Emotions\\video\\gandalf_231205\\gandalf_231205_252_e3v831b.mp4 copied to 231205_gandalf\\body_2-rh-2023-12-06\\videos\\gandalf_231205_252_e3v831b.mp4\n",
      "Symlink creation impossible (exFat architecture?): copying the video instead.\n",
      "c:\\Users\\rober\\Desktop\\Monkey-Emotions\\video\\gandalf_231205\\gandalf_231205_253_e3v831b.mp4 copied to 231205_gandalf\\body_2-rh-2023-12-06\\videos\\gandalf_231205_253_e3v831b.mp4\n",
      "Symlink creation impossible (exFat architecture?): copying the video instead.\n",
      "c:\\Users\\rober\\Desktop\\Monkey-Emotions\\video\\gandalf_231205\\gandalf_231205_254_e3v831b.mp4 copied to 231205_gandalf\\body_2-rh-2023-12-06\\videos\\gandalf_231205_254_e3v831b.mp4\n",
      "Symlink creation impossible (exFat architecture?): copying the video instead.\n",
      "c:\\Users\\rober\\Desktop\\Monkey-Emotions\\video\\gandalf_231205\\gandalf_231205_255_e3v831b.mp4 copied to 231205_gandalf\\body_2-rh-2023-12-06\\videos\\gandalf_231205_255_e3v831b.mp4\n",
      "Symlink creation impossible (exFat architecture?): copying the video instead.\n",
      "c:\\Users\\rober\\Desktop\\Monkey-Emotions\\video\\gandalf_231205\\gandalf_231205_256_e3v831b.mp4 copied to 231205_gandalf\\body_2-rh-2023-12-06\\videos\\gandalf_231205_256_e3v831b.mp4\n",
      "Symlink creation impossible (exFat architecture?): copying the video instead.\n",
      "c:\\Users\\rober\\Desktop\\Monkey-Emotions\\video\\gandalf_231205\\gandalf_231205_257_e3v831b.mp4 copied to 231205_gandalf\\body_2-rh-2023-12-06\\videos\\gandalf_231205_257_e3v831b.mp4\n",
      "Symlink creation impossible (exFat architecture?): copying the video instead.\n",
      "c:\\Users\\rober\\Desktop\\Monkey-Emotions\\video\\gandalf_231205\\gandalf_231205_258_e3v831b.mp4 copied to 231205_gandalf\\body_2-rh-2023-12-06\\videos\\gandalf_231205_258_e3v831b.mp4\n",
      "Symlink creation impossible (exFat architecture?): copying the video instead.\n",
      "c:\\Users\\rober\\Desktop\\Monkey-Emotions\\video\\gandalf_231205\\gandalf_231205_259_e3v831b.mp4 copied to 231205_gandalf\\body_2-rh-2023-12-06\\videos\\gandalf_231205_259_e3v831b.mp4\n",
      "Symlink creation impossible (exFat architecture?): copying the video instead.\n",
      "c:\\Users\\rober\\Desktop\\Monkey-Emotions\\video\\gandalf_231205\\gandalf_231205_260_e3v831b.mp4 copied to 231205_gandalf\\body_2-rh-2023-12-06\\videos\\gandalf_231205_260_e3v831b.mp4\n",
      "Symlink creation impossible (exFat architecture?): copying the video instead.\n",
      "c:\\Users\\rober\\Desktop\\Monkey-Emotions\\video\\gandalf_231205\\gandalf_231205_261_e3v831b.mp4 copied to 231205_gandalf\\body_2-rh-2023-12-06\\videos\\gandalf_231205_261_e3v831b.mp4\n",
      "Symlink creation impossible (exFat architecture?): copying the video instead.\n",
      "c:\\Users\\rober\\Desktop\\Monkey-Emotions\\video\\gandalf_231205\\gandalf_231205_262_e3v831b.mp4 copied to 231205_gandalf\\body_2-rh-2023-12-06\\videos\\gandalf_231205_262_e3v831b.mp4\n",
      "Symlink creation impossible (exFat architecture?): copying the video instead.\n",
      "c:\\Users\\rober\\Desktop\\Monkey-Emotions\\video\\gandalf_231205\\gandalf_231205_263_e3v831b.mp4 copied to 231205_gandalf\\body_2-rh-2023-12-06\\videos\\gandalf_231205_263_e3v831b.mp4\n",
      "Symlink creation impossible (exFat architecture?): copying the video instead.\n",
      "c:\\Users\\rober\\Desktop\\Monkey-Emotions\\video\\gandalf_231205\\gandalf_231205_264_e3v831b.mp4 copied to 231205_gandalf\\body_2-rh-2023-12-06\\videos\\gandalf_231205_264_e3v831b.mp4\n",
      "Symlink creation impossible (exFat architecture?): copying the video instead.\n",
      "c:\\Users\\rober\\Desktop\\Monkey-Emotions\\video\\gandalf_231205\\gandalf_231205_265_e3v831b.mp4 copied to 231205_gandalf\\body_2-rh-2023-12-06\\videos\\gandalf_231205_265_e3v831b.mp4\n",
      "Symlink creation impossible (exFat architecture?): copying the video instead.\n",
      "c:\\Users\\rober\\Desktop\\Monkey-Emotions\\video\\gandalf_231205\\gandalf_231205_266_e3v831b.mp4 copied to 231205_gandalf\\body_2-rh-2023-12-06\\videos\\gandalf_231205_266_e3v831b.mp4\n",
      "Symlink creation impossible (exFat architecture?): copying the video instead.\n",
      "c:\\Users\\rober\\Desktop\\Monkey-Emotions\\video\\gandalf_231205\\gandalf_231205_267_e3v831b.mp4 copied to 231205_gandalf\\body_2-rh-2023-12-06\\videos\\gandalf_231205_267_e3v831b.mp4\n",
      "Symlink creation impossible (exFat architecture?): copying the video instead.\n",
      "c:\\Users\\rober\\Desktop\\Monkey-Emotions\\video\\gandalf_231205\\gandalf_231205_268_e3v831b.mp4 copied to 231205_gandalf\\body_2-rh-2023-12-06\\videos\\gandalf_231205_268_e3v831b.mp4\n",
      "Symlink creation impossible (exFat architecture?): copying the video instead.\n",
      "c:\\Users\\rober\\Desktop\\Monkey-Emotions\\video\\gandalf_231205\\gandalf_231205_269_e3v831b.mp4 copied to 231205_gandalf\\body_2-rh-2023-12-06\\videos\\gandalf_231205_269_e3v831b.mp4\n",
      "Symlink creation impossible (exFat architecture?): copying the video instead.\n",
      "c:\\Users\\rober\\Desktop\\Monkey-Emotions\\video\\gandalf_231205\\gandalf_231205_270_e3v831b.mp4 copied to 231205_gandalf\\body_2-rh-2023-12-06\\videos\\gandalf_231205_270_e3v831b.mp4\n",
      "Symlink creation impossible (exFat architecture?): copying the video instead.\n",
      "c:\\Users\\rober\\Desktop\\Monkey-Emotions\\video\\gandalf_231205\\gandalf_231205_271_e3v831b.mp4 copied to 231205_gandalf\\body_2-rh-2023-12-06\\videos\\gandalf_231205_271_e3v831b.mp4\n",
      "Symlink creation impossible (exFat architecture?): copying the video instead.\n",
      "c:\\Users\\rober\\Desktop\\Monkey-Emotions\\video\\gandalf_231205\\gandalf_231205_272_e3v831b.mp4 copied to 231205_gandalf\\body_2-rh-2023-12-06\\videos\\gandalf_231205_272_e3v831b.mp4\n",
      "Symlink creation impossible (exFat architecture?): copying the video instead.\n",
      "c:\\Users\\rober\\Desktop\\Monkey-Emotions\\video\\gandalf_231205\\gandalf_231205_273_e3v831b.mp4 copied to 231205_gandalf\\body_2-rh-2023-12-06\\videos\\gandalf_231205_273_e3v831b.mp4\n",
      "Symlink creation impossible (exFat architecture?): copying the video instead.\n",
      "c:\\Users\\rober\\Desktop\\Monkey-Emotions\\video\\gandalf_231205\\gandalf_231205_274_e3v831b.mp4 copied to 231205_gandalf\\body_2-rh-2023-12-06\\videos\\gandalf_231205_274_e3v831b.mp4\n",
      "Symlink creation impossible (exFat architecture?): copying the video instead.\n",
      "c:\\Users\\rober\\Desktop\\Monkey-Emotions\\video\\gandalf_231205\\gandalf_231205_275_e3v831b.mp4 copied to 231205_gandalf\\body_2-rh-2023-12-06\\videos\\gandalf_231205_275_e3v831b.mp4\n",
      "Symlink creation impossible (exFat architecture?): copying the video instead.\n",
      "c:\\Users\\rober\\Desktop\\Monkey-Emotions\\video\\gandalf_231205\\gandalf_231205_276_e3v831b.mp4 copied to 231205_gandalf\\body_2-rh-2023-12-06\\videos\\gandalf_231205_276_e3v831b.mp4\n",
      "Symlink creation impossible (exFat architecture?): copying the video instead.\n",
      "c:\\Users\\rober\\Desktop\\Monkey-Emotions\\video\\gandalf_231205\\gandalf_231205_277_e3v831b.mp4 copied to 231205_gandalf\\body_2-rh-2023-12-06\\videos\\gandalf_231205_277_e3v831b.mp4\n",
      "Symlink creation impossible (exFat architecture?): copying the video instead.\n",
      "c:\\Users\\rober\\Desktop\\Monkey-Emotions\\video\\gandalf_231205\\gandalf_231205_278_e3v831b.mp4 copied to 231205_gandalf\\body_2-rh-2023-12-06\\videos\\gandalf_231205_278_e3v831b.mp4\n",
      "Symlink creation impossible (exFat architecture?): copying the video instead.\n",
      "c:\\Users\\rober\\Desktop\\Monkey-Emotions\\video\\gandalf_231205\\gandalf_231205_279_e3v831b.mp4 copied to 231205_gandalf\\body_2-rh-2023-12-06\\videos\\gandalf_231205_279_e3v831b.mp4\n",
      "Symlink creation impossible (exFat architecture?): copying the video instead.\n",
      "c:\\Users\\rober\\Desktop\\Monkey-Emotions\\video\\gandalf_231205\\gandalf_231205_280_e3v831b.mp4 copied to 231205_gandalf\\body_2-rh-2023-12-06\\videos\\gandalf_231205_280_e3v831b.mp4\n",
      "Symlink creation impossible (exFat architecture?): copying the video instead.\n",
      "c:\\Users\\rober\\Desktop\\Monkey-Emotions\\video\\gandalf_231205\\gandalf_231205_282_e3v831b.mp4 copied to 231205_gandalf\\body_2-rh-2023-12-06\\videos\\gandalf_231205_282_e3v831b.mp4\n",
      "Symlink creation impossible (exFat architecture?): copying the video instead.\n",
      "c:\\Users\\rober\\Desktop\\Monkey-Emotions\\video\\gandalf_231205\\gandalf_231205_283_e3v831b.mp4 copied to 231205_gandalf\\body_2-rh-2023-12-06\\videos\\gandalf_231205_283_e3v831b.mp4\n",
      "Symlink creation impossible (exFat architecture?): copying the video instead.\n",
      "c:\\Users\\rober\\Desktop\\Monkey-Emotions\\video\\gandalf_231205\\gandalf_231205_284_e3v831b.mp4 copied to 231205_gandalf\\body_2-rh-2023-12-06\\videos\\gandalf_231205_284_e3v831b.mp4\n",
      "New videos were added to the project! Use the function 'extract_frames' to select frames for labeling.\n",
      "Using snapshot-1030000 for model 231205_gandalf\\body_2-rh-2023-12-06\\dlc-models\\iteration-0\\body_2Dec6-trainset95shuffle1\n"
     ]
    },
    {
     "name": "stderr",
     "output_type": "stream",
     "text": [
      "c:\\Users\\rober\\anaconda3\\envs\\DEEPLABCUT\\lib\\site-packages\\tensorflow\\python\\keras\\engine\\base_layer_v1.py:1694: UserWarning: `layer.apply` is deprecated and will be removed in a future version. Please use `layer.__call__` method instead.\n",
      "  warnings.warn('`layer.apply` is deprecated and '\n"
     ]
    },
    {
     "name": "stdout",
     "output_type": "stream",
     "text": [
      "Starting to analyze %  c:\\Users\\rober\\Desktop\\Monkey-Emotions\\video\\gandalf_231205\\gandalf_231205_0_e3v831b.mp4\n",
      "Loading  c:\\Users\\rober\\Desktop\\Monkey-Emotions\\video\\gandalf_231205\\gandalf_231205_0_e3v831b.mp4\n",
      "Duration of video [s]:  12.9 , recorded with  120.0 fps!\n",
      "Overall # of frames:  1548  found with (before cropping) frame dimensions:  640 480\n",
      "Starting to extract posture\n"
     ]
    },
    {
     "name": "stderr",
     "output_type": "stream",
     "text": [
      "100%|██████████| 1548/1548 [05:32<00:00,  4.65it/s]\n"
     ]
    },
    {
     "name": "stdout",
     "output_type": "stream",
     "text": [
      "Saving results in c:\\Users\\rober\\Desktop\\Monkey-Emotions\\video\\gandalf_231205...\n",
      "Saving csv poses!\n",
      "Starting to analyze %  c:\\Users\\rober\\Desktop\\Monkey-Emotions\\video\\gandalf_231205\\gandalf_231205_1_e3v831b.mp4\n",
      "Loading  c:\\Users\\rober\\Desktop\\Monkey-Emotions\\video\\gandalf_231205\\gandalf_231205_1_e3v831b.mp4\n",
      "Duration of video [s]:  17.58 , recorded with  120.0 fps!\n",
      "Overall # of frames:  2110  found with (before cropping) frame dimensions:  640 480\n",
      "Starting to extract posture\n"
     ]
    },
    {
     "name": "stderr",
     "output_type": "stream",
     "text": [
      "100%|██████████| 2110/2110 [07:31<00:00,  4.68it/s]\n"
     ]
    },
    {
     "name": "stdout",
     "output_type": "stream",
     "text": [
      "Saving results in c:\\Users\\rober\\Desktop\\Monkey-Emotions\\video\\gandalf_231205...\n",
      "Saving csv poses!\n",
      "Starting to analyze %  c:\\Users\\rober\\Desktop\\Monkey-Emotions\\video\\gandalf_231205\\gandalf_231205_2_e3v831b.mp4\n",
      "Loading  c:\\Users\\rober\\Desktop\\Monkey-Emotions\\video\\gandalf_231205\\gandalf_231205_2_e3v831b.mp4\n",
      "Duration of video [s]:  10.42 , recorded with  120.0 fps!\n",
      "Overall # of frames:  1250  found with (before cropping) frame dimensions:  640 480\n",
      "Starting to extract posture\n"
     ]
    },
    {
     "name": "stderr",
     "output_type": "stream",
     "text": [
      "100%|██████████| 1250/1250 [04:38<00:00,  4.49it/s]\n"
     ]
    },
    {
     "name": "stdout",
     "output_type": "stream",
     "text": [
      "Saving results in c:\\Users\\rober\\Desktop\\Monkey-Emotions\\video\\gandalf_231205...\n",
      "Saving csv poses!\n",
      "Starting to analyze %  c:\\Users\\rober\\Desktop\\Monkey-Emotions\\video\\gandalf_231205\\gandalf_231205_3_e3v831b.mp4\n",
      "Loading  c:\\Users\\rober\\Desktop\\Monkey-Emotions\\video\\gandalf_231205\\gandalf_231205_3_e3v831b.mp4\n",
      "Duration of video [s]:  14.14 , recorded with  120.0 fps!\n",
      "Overall # of frames:  1697  found with (before cropping) frame dimensions:  640 480\n",
      "Starting to extract posture\n"
     ]
    },
    {
     "name": "stderr",
     "output_type": "stream",
     "text": [
      "100%|██████████| 1697/1697 [06:16<00:00,  4.51it/s]\n"
     ]
    },
    {
     "name": "stdout",
     "output_type": "stream",
     "text": [
      "Saving results in c:\\Users\\rober\\Desktop\\Monkey-Emotions\\video\\gandalf_231205...\n",
      "Saving csv poses!\n",
      "Starting to analyze %  c:\\Users\\rober\\Desktop\\Monkey-Emotions\\video\\gandalf_231205\\gandalf_231205_4_e3v831b.mp4\n",
      "Loading  c:\\Users\\rober\\Desktop\\Monkey-Emotions\\video\\gandalf_231205\\gandalf_231205_4_e3v831b.mp4\n",
      "Duration of video [s]:  18.91 , recorded with  120.0 fps!\n",
      "Overall # of frames:  2269  found with (before cropping) frame dimensions:  640 480\n",
      "Starting to extract posture\n"
     ]
    },
    {
     "name": "stderr",
     "output_type": "stream",
     "text": [
      "100%|██████████| 2269/2269 [08:21<00:00,  4.52it/s]\n"
     ]
    },
    {
     "name": "stdout",
     "output_type": "stream",
     "text": [
      "Saving results in c:\\Users\\rober\\Desktop\\Monkey-Emotions\\video\\gandalf_231205...\n",
      "Saving csv poses!\n",
      "Starting to analyze %  c:\\Users\\rober\\Desktop\\Monkey-Emotions\\video\\gandalf_231205\\gandalf_231205_5_e3v831b.mp4\n",
      "Loading  c:\\Users\\rober\\Desktop\\Monkey-Emotions\\video\\gandalf_231205\\gandalf_231205_5_e3v831b.mp4\n",
      "Duration of video [s]:  14.57 , recorded with  120.0 fps!\n",
      "Overall # of frames:  1748  found with (before cropping) frame dimensions:  640 480\n",
      "Starting to extract posture\n"
     ]
    },
    {
     "name": "stderr",
     "output_type": "stream",
     "text": [
      "100%|██████████| 1748/1748 [06:15<00:00,  4.65it/s]\n"
     ]
    },
    {
     "name": "stdout",
     "output_type": "stream",
     "text": [
      "Saving results in c:\\Users\\rober\\Desktop\\Monkey-Emotions\\video\\gandalf_231205...\n",
      "Saving csv poses!\n",
      "Starting to analyze %  c:\\Users\\rober\\Desktop\\Monkey-Emotions\\video\\gandalf_231205\\gandalf_231205_6_e3v831b.mp4\n",
      "Loading  c:\\Users\\rober\\Desktop\\Monkey-Emotions\\video\\gandalf_231205\\gandalf_231205_6_e3v831b.mp4\n",
      "Duration of video [s]:  13.63 , recorded with  120.0 fps!\n",
      "Overall # of frames:  1636  found with (before cropping) frame dimensions:  640 480\n",
      "Starting to extract posture\n"
     ]
    },
    {
     "name": "stderr",
     "output_type": "stream",
     "text": [
      "100%|██████████| 1636/1636 [05:55<00:00,  4.60it/s]\n"
     ]
    },
    {
     "name": "stdout",
     "output_type": "stream",
     "text": [
      "Saving results in c:\\Users\\rober\\Desktop\\Monkey-Emotions\\video\\gandalf_231205...\n",
      "Saving csv poses!\n",
      "Starting to analyze %  c:\\Users\\rober\\Desktop\\Monkey-Emotions\\video\\gandalf_231205\\gandalf_231205_7_e3v831b.mp4\n",
      "Loading  c:\\Users\\rober\\Desktop\\Monkey-Emotions\\video\\gandalf_231205\\gandalf_231205_7_e3v831b.mp4\n",
      "Duration of video [s]:  14.64 , recorded with  120.0 fps!\n",
      "Overall # of frames:  1757  found with (before cropping) frame dimensions:  640 480\n",
      "Starting to extract posture\n"
     ]
    },
    {
     "name": "stderr",
     "output_type": "stream",
     "text": [
      "100%|██████████| 1757/1757 [06:27<00:00,  4.53it/s]\n"
     ]
    },
    {
     "name": "stdout",
     "output_type": "stream",
     "text": [
      "Saving results in c:\\Users\\rober\\Desktop\\Monkey-Emotions\\video\\gandalf_231205...\n",
      "Saving csv poses!\n",
      "Starting to analyze %  c:\\Users\\rober\\Desktop\\Monkey-Emotions\\video\\gandalf_231205\\gandalf_231205_8_e3v831b.mp4\n",
      "Loading  c:\\Users\\rober\\Desktop\\Monkey-Emotions\\video\\gandalf_231205\\gandalf_231205_8_e3v831b.mp4\n",
      "Duration of video [s]:  12.17 , recorded with  120.0 fps!\n",
      "Overall # of frames:  1460  found with (before cropping) frame dimensions:  640 480\n",
      "Starting to extract posture\n"
     ]
    },
    {
     "name": "stderr",
     "output_type": "stream",
     "text": [
      "100%|██████████| 1460/1460 [05:12<00:00,  4.68it/s]\n"
     ]
    },
    {
     "name": "stdout",
     "output_type": "stream",
     "text": [
      "Saving results in c:\\Users\\rober\\Desktop\\Monkey-Emotions\\video\\gandalf_231205...\n",
      "Saving csv poses!\n",
      "Starting to analyze %  c:\\Users\\rober\\Desktop\\Monkey-Emotions\\video\\gandalf_231205\\gandalf_231205_9_e3v831b.mp4\n",
      "Loading  c:\\Users\\rober\\Desktop\\Monkey-Emotions\\video\\gandalf_231205\\gandalf_231205_9_e3v831b.mp4\n",
      "Duration of video [s]:  14.92 , recorded with  120.0 fps!\n",
      "Overall # of frames:  1790  found with (before cropping) frame dimensions:  640 480\n",
      "Starting to extract posture\n"
     ]
    },
    {
     "name": "stderr",
     "output_type": "stream",
     "text": [
      "100%|██████████| 1790/1790 [06:33<00:00,  4.54it/s]\n"
     ]
    },
    {
     "name": "stdout",
     "output_type": "stream",
     "text": [
      "Saving results in c:\\Users\\rober\\Desktop\\Monkey-Emotions\\video\\gandalf_231205...\n",
      "Saving csv poses!\n",
      "Starting to analyze %  c:\\Users\\rober\\Desktop\\Monkey-Emotions\\video\\gandalf_231205\\gandalf_231205_10_e3v831b.mp4\n",
      "Loading  c:\\Users\\rober\\Desktop\\Monkey-Emotions\\video\\gandalf_231205\\gandalf_231205_10_e3v831b.mp4\n",
      "Duration of video [s]:  13.74 , recorded with  120.0 fps!\n",
      "Overall # of frames:  1649  found with (before cropping) frame dimensions:  640 480\n",
      "Starting to extract posture\n"
     ]
    },
    {
     "name": "stderr",
     "output_type": "stream",
     "text": [
      "100%|██████████| 1649/1649 [06:02<00:00,  4.55it/s]\n"
     ]
    },
    {
     "name": "stdout",
     "output_type": "stream",
     "text": [
      "Saving results in c:\\Users\\rober\\Desktop\\Monkey-Emotions\\video\\gandalf_231205...\n",
      "Saving csv poses!\n",
      "Starting to analyze %  c:\\Users\\rober\\Desktop\\Monkey-Emotions\\video\\gandalf_231205\\gandalf_231205_11_e3v831b.mp4\n",
      "Loading  c:\\Users\\rober\\Desktop\\Monkey-Emotions\\video\\gandalf_231205\\gandalf_231205_11_e3v831b.mp4\n",
      "Duration of video [s]:  13.25 , recorded with  120.0 fps!\n",
      "Overall # of frames:  1590  found with (before cropping) frame dimensions:  640 480\n",
      "Starting to extract posture\n"
     ]
    },
    {
     "name": "stderr",
     "output_type": "stream",
     "text": [
      "100%|██████████| 1590/1590 [05:48<00:00,  4.57it/s]\n"
     ]
    },
    {
     "name": "stdout",
     "output_type": "stream",
     "text": [
      "Saving results in c:\\Users\\rober\\Desktop\\Monkey-Emotions\\video\\gandalf_231205...\n",
      "Saving csv poses!\n",
      "Starting to analyze %  c:\\Users\\rober\\Desktop\\Monkey-Emotions\\video\\gandalf_231205\\gandalf_231205_12_e3v831b.mp4\n",
      "Loading  c:\\Users\\rober\\Desktop\\Monkey-Emotions\\video\\gandalf_231205\\gandalf_231205_12_e3v831b.mp4\n",
      "Duration of video [s]:  15.69 , recorded with  120.0 fps!\n",
      "Overall # of frames:  1883  found with (before cropping) frame dimensions:  640 480\n",
      "Starting to extract posture\n"
     ]
    },
    {
     "name": "stderr",
     "output_type": "stream",
     "text": [
      "100%|██████████| 1883/1883 [06:52<00:00,  4.56it/s]\n"
     ]
    },
    {
     "name": "stdout",
     "output_type": "stream",
     "text": [
      "Saving results in c:\\Users\\rober\\Desktop\\Monkey-Emotions\\video\\gandalf_231205...\n",
      "Saving csv poses!\n",
      "Starting to analyze %  c:\\Users\\rober\\Desktop\\Monkey-Emotions\\video\\gandalf_231205\\gandalf_231205_13_e3v831b.mp4\n",
      "Loading  c:\\Users\\rober\\Desktop\\Monkey-Emotions\\video\\gandalf_231205\\gandalf_231205_13_e3v831b.mp4\n",
      "Duration of video [s]:  10.85 , recorded with  120.0 fps!\n",
      "Overall # of frames:  1302  found with (before cropping) frame dimensions:  640 480\n",
      "Starting to extract posture\n"
     ]
    },
    {
     "name": "stderr",
     "output_type": "stream",
     "text": [
      "100%|██████████| 1302/1302 [04:43<00:00,  4.60it/s]\n"
     ]
    },
    {
     "name": "stdout",
     "output_type": "stream",
     "text": [
      "Saving results in c:\\Users\\rober\\Desktop\\Monkey-Emotions\\video\\gandalf_231205...\n",
      "Saving csv poses!\n",
      "Starting to analyze %  c:\\Users\\rober\\Desktop\\Monkey-Emotions\\video\\gandalf_231205\\gandalf_231205_14_e3v831b.mp4\n",
      "Loading  c:\\Users\\rober\\Desktop\\Monkey-Emotions\\video\\gandalf_231205\\gandalf_231205_14_e3v831b.mp4\n",
      "Duration of video [s]:  25.43 , recorded with  120.0 fps!\n",
      "Overall # of frames:  3051  found with (before cropping) frame dimensions:  640 480\n",
      "Starting to extract posture\n"
     ]
    },
    {
     "name": "stderr",
     "output_type": "stream",
     "text": [
      "100%|██████████| 3051/3051 [11:05<00:00,  4.59it/s]\n"
     ]
    },
    {
     "name": "stdout",
     "output_type": "stream",
     "text": [
      "Saving results in c:\\Users\\rober\\Desktop\\Monkey-Emotions\\video\\gandalf_231205...\n",
      "Saving csv poses!\n",
      "Starting to analyze %  c:\\Users\\rober\\Desktop\\Monkey-Emotions\\video\\gandalf_231205\\gandalf_231205_15_e3v831b.mp4\n",
      "Loading  c:\\Users\\rober\\Desktop\\Monkey-Emotions\\video\\gandalf_231205\\gandalf_231205_15_e3v831b.mp4\n",
      "Duration of video [s]:  16.51 , recorded with  120.0 fps!\n",
      "Overall # of frames:  1981  found with (before cropping) frame dimensions:  640 480\n",
      "Starting to extract posture\n"
     ]
    },
    {
     "name": "stderr",
     "output_type": "stream",
     "text": [
      "100%|██████████| 1981/1981 [07:06<00:00,  4.65it/s]\n"
     ]
    },
    {
     "name": "stdout",
     "output_type": "stream",
     "text": [
      "Saving results in c:\\Users\\rober\\Desktop\\Monkey-Emotions\\video\\gandalf_231205...\n",
      "Saving csv poses!\n",
      "Starting to analyze %  c:\\Users\\rober\\Desktop\\Monkey-Emotions\\video\\gandalf_231205\\gandalf_231205_16_e3v831b.mp4\n",
      "Loading  c:\\Users\\rober\\Desktop\\Monkey-Emotions\\video\\gandalf_231205\\gandalf_231205_16_e3v831b.mp4\n",
      "Duration of video [s]:  11.82 , recorded with  120.0 fps!\n",
      "Overall # of frames:  1418  found with (before cropping) frame dimensions:  640 480\n",
      "Starting to extract posture\n"
     ]
    },
    {
     "name": "stderr",
     "output_type": "stream",
     "text": [
      "100%|██████████| 1418/1418 [05:06<00:00,  4.63it/s]\n"
     ]
    },
    {
     "name": "stdout",
     "output_type": "stream",
     "text": [
      "Saving results in c:\\Users\\rober\\Desktop\\Monkey-Emotions\\video\\gandalf_231205...\n",
      "Saving csv poses!\n",
      "Starting to analyze %  c:\\Users\\rober\\Desktop\\Monkey-Emotions\\video\\gandalf_231205\\gandalf_231205_17_e3v831b.mp4\n",
      "Loading  c:\\Users\\rober\\Desktop\\Monkey-Emotions\\video\\gandalf_231205\\gandalf_231205_17_e3v831b.mp4\n",
      "Duration of video [s]:  15.74 , recorded with  120.0 fps!\n",
      "Overall # of frames:  1889  found with (before cropping) frame dimensions:  640 480\n",
      "Starting to extract posture\n"
     ]
    },
    {
     "name": "stderr",
     "output_type": "stream",
     "text": [
      "100%|██████████| 1889/1889 [06:45<00:00,  4.66it/s]\n"
     ]
    },
    {
     "name": "stdout",
     "output_type": "stream",
     "text": [
      "Saving results in c:\\Users\\rober\\Desktop\\Monkey-Emotions\\video\\gandalf_231205...\n",
      "Saving csv poses!\n",
      "Starting to analyze %  c:\\Users\\rober\\Desktop\\Monkey-Emotions\\video\\gandalf_231205\\gandalf_231205_18_e3v831b.mp4\n",
      "Loading  c:\\Users\\rober\\Desktop\\Monkey-Emotions\\video\\gandalf_231205\\gandalf_231205_18_e3v831b.mp4\n",
      "Duration of video [s]:  18.37 , recorded with  120.0 fps!\n",
      "Overall # of frames:  2204  found with (before cropping) frame dimensions:  640 480\n",
      "Starting to extract posture\n"
     ]
    },
    {
     "name": "stderr",
     "output_type": "stream",
     "text": [
      "100%|██████████| 2204/2204 [07:55<00:00,  4.63it/s]\n"
     ]
    },
    {
     "name": "stdout",
     "output_type": "stream",
     "text": [
      "Saving results in c:\\Users\\rober\\Desktop\\Monkey-Emotions\\video\\gandalf_231205...\n",
      "Saving csv poses!\n",
      "Starting to analyze %  c:\\Users\\rober\\Desktop\\Monkey-Emotions\\video\\gandalf_231205\\gandalf_231205_19_e3v831b.mp4\n",
      "Loading  c:\\Users\\rober\\Desktop\\Monkey-Emotions\\video\\gandalf_231205\\gandalf_231205_19_e3v831b.mp4\n",
      "Duration of video [s]:  15.28 , recorded with  120.0 fps!\n",
      "Overall # of frames:  1833  found with (before cropping) frame dimensions:  640 480\n",
      "Starting to extract posture\n"
     ]
    },
    {
     "name": "stderr",
     "output_type": "stream",
     "text": [
      "100%|██████████| 1833/1833 [06:35<00:00,  4.63it/s]\n"
     ]
    },
    {
     "name": "stdout",
     "output_type": "stream",
     "text": [
      "Saving results in c:\\Users\\rober\\Desktop\\Monkey-Emotions\\video\\gandalf_231205...\n",
      "Saving csv poses!\n",
      "Starting to analyze %  c:\\Users\\rober\\Desktop\\Monkey-Emotions\\video\\gandalf_231205\\gandalf_231205_20_e3v831b.mp4\n",
      "Loading  c:\\Users\\rober\\Desktop\\Monkey-Emotions\\video\\gandalf_231205\\gandalf_231205_20_e3v831b.mp4\n",
      "Duration of video [s]:  12.32 , recorded with  120.0 fps!\n",
      "Overall # of frames:  1478  found with (before cropping) frame dimensions:  640 480\n",
      "Starting to extract posture\n"
     ]
    },
    {
     "name": "stderr",
     "output_type": "stream",
     "text": [
      "100%|██████████| 1478/1478 [05:18<00:00,  4.64it/s]\n"
     ]
    },
    {
     "name": "stdout",
     "output_type": "stream",
     "text": [
      "Saving results in c:\\Users\\rober\\Desktop\\Monkey-Emotions\\video\\gandalf_231205...\n",
      "Saving csv poses!\n",
      "Starting to analyze %  c:\\Users\\rober\\Desktop\\Monkey-Emotions\\video\\gandalf_231205\\gandalf_231205_21_e3v831b.mp4\n",
      "Loading  c:\\Users\\rober\\Desktop\\Monkey-Emotions\\video\\gandalf_231205\\gandalf_231205_21_e3v831b.mp4\n",
      "Duration of video [s]:  15.44 , recorded with  120.0 fps!\n",
      "Overall # of frames:  1853  found with (before cropping) frame dimensions:  640 480\n",
      "Starting to extract posture\n"
     ]
    },
    {
     "name": "stderr",
     "output_type": "stream",
     "text": [
      "100%|██████████| 1853/1853 [06:08<00:00,  5.03it/s]\n"
     ]
    },
    {
     "name": "stdout",
     "output_type": "stream",
     "text": [
      "Saving results in c:\\Users\\rober\\Desktop\\Monkey-Emotions\\video\\gandalf_231205...\n",
      "Saving csv poses!\n",
      "Starting to analyze %  c:\\Users\\rober\\Desktop\\Monkey-Emotions\\video\\gandalf_231205\\gandalf_231205_22_e3v831b.mp4\n",
      "Loading  c:\\Users\\rober\\Desktop\\Monkey-Emotions\\video\\gandalf_231205\\gandalf_231205_22_e3v831b.mp4\n",
      "Duration of video [s]:  12.72 , recorded with  120.0 fps!\n",
      "Overall # of frames:  1526  found with (before cropping) frame dimensions:  640 480\n",
      "Starting to extract posture\n"
     ]
    },
    {
     "name": "stderr",
     "output_type": "stream",
     "text": [
      "100%|██████████| 1526/1526 [04:56<00:00,  5.15it/s]\n"
     ]
    },
    {
     "name": "stdout",
     "output_type": "stream",
     "text": [
      "Saving results in c:\\Users\\rober\\Desktop\\Monkey-Emotions\\video\\gandalf_231205...\n",
      "Saving csv poses!\n",
      "Starting to analyze %  c:\\Users\\rober\\Desktop\\Monkey-Emotions\\video\\gandalf_231205\\gandalf_231205_23_e3v831b.mp4\n",
      "Loading  c:\\Users\\rober\\Desktop\\Monkey-Emotions\\video\\gandalf_231205\\gandalf_231205_23_e3v831b.mp4\n",
      "Duration of video [s]:  17.68 , recorded with  120.0 fps!\n",
      "Overall # of frames:  2121  found with (before cropping) frame dimensions:  640 480\n",
      "Starting to extract posture\n"
     ]
    },
    {
     "name": "stderr",
     "output_type": "stream",
     "text": [
      "100%|██████████| 2121/2121 [06:54<00:00,  5.12it/s]\n"
     ]
    },
    {
     "name": "stdout",
     "output_type": "stream",
     "text": [
      "Saving results in c:\\Users\\rober\\Desktop\\Monkey-Emotions\\video\\gandalf_231205...\n",
      "Saving csv poses!\n",
      "Starting to analyze %  c:\\Users\\rober\\Desktop\\Monkey-Emotions\\video\\gandalf_231205\\gandalf_231205_24_e3v831b.mp4\n",
      "Loading  c:\\Users\\rober\\Desktop\\Monkey-Emotions\\video\\gandalf_231205\\gandalf_231205_24_e3v831b.mp4\n",
      "Duration of video [s]:  18.22 , recorded with  120.0 fps!\n",
      "Overall # of frames:  2186  found with (before cropping) frame dimensions:  640 480\n",
      "Starting to extract posture\n"
     ]
    },
    {
     "name": "stderr",
     "output_type": "stream",
     "text": [
      "100%|██████████| 2186/2186 [07:05<00:00,  5.14it/s]\n"
     ]
    },
    {
     "name": "stdout",
     "output_type": "stream",
     "text": [
      "Saving results in c:\\Users\\rober\\Desktop\\Monkey-Emotions\\video\\gandalf_231205...\n",
      "Saving csv poses!\n",
      "Starting to analyze %  c:\\Users\\rober\\Desktop\\Monkey-Emotions\\video\\gandalf_231205\\gandalf_231205_25_e3v831b.mp4\n",
      "Loading  c:\\Users\\rober\\Desktop\\Monkey-Emotions\\video\\gandalf_231205\\gandalf_231205_25_e3v831b.mp4\n",
      "Duration of video [s]:  13.04 , recorded with  120.0 fps!\n",
      "Overall # of frames:  1565  found with (before cropping) frame dimensions:  640 480\n",
      "Starting to extract posture\n"
     ]
    },
    {
     "name": "stderr",
     "output_type": "stream",
     "text": [
      "100%|██████████| 1565/1565 [05:06<00:00,  5.10it/s]\n"
     ]
    },
    {
     "name": "stdout",
     "output_type": "stream",
     "text": [
      "Saving results in c:\\Users\\rober\\Desktop\\Monkey-Emotions\\video\\gandalf_231205...\n",
      "Saving csv poses!\n",
      "Starting to analyze %  c:\\Users\\rober\\Desktop\\Monkey-Emotions\\video\\gandalf_231205\\gandalf_231205_26_e3v831b.mp4\n",
      "Loading  c:\\Users\\rober\\Desktop\\Monkey-Emotions\\video\\gandalf_231205\\gandalf_231205_26_e3v831b.mp4\n",
      "Duration of video [s]:  12.77 , recorded with  120.0 fps!\n",
      "Overall # of frames:  1532  found with (before cropping) frame dimensions:  640 480\n",
      "Starting to extract posture\n"
     ]
    },
    {
     "name": "stderr",
     "output_type": "stream",
     "text": [
      "100%|██████████| 1532/1532 [04:58<00:00,  5.13it/s]\n"
     ]
    },
    {
     "name": "stdout",
     "output_type": "stream",
     "text": [
      "Saving results in c:\\Users\\rober\\Desktop\\Monkey-Emotions\\video\\gandalf_231205...\n",
      "Saving csv poses!\n",
      "Starting to analyze %  c:\\Users\\rober\\Desktop\\Monkey-Emotions\\video\\gandalf_231205\\gandalf_231205_27_e3v831b.mp4\n",
      "Loading  c:\\Users\\rober\\Desktop\\Monkey-Emotions\\video\\gandalf_231205\\gandalf_231205_27_e3v831b.mp4\n",
      "Duration of video [s]:  15.04 , recorded with  120.0 fps!\n",
      "Overall # of frames:  1805  found with (before cropping) frame dimensions:  640 480\n",
      "Starting to extract posture\n"
     ]
    },
    {
     "name": "stderr",
     "output_type": "stream",
     "text": [
      "100%|██████████| 1805/1805 [05:51<00:00,  5.13it/s]\n"
     ]
    },
    {
     "name": "stdout",
     "output_type": "stream",
     "text": [
      "Saving results in c:\\Users\\rober\\Desktop\\Monkey-Emotions\\video\\gandalf_231205...\n",
      "Saving csv poses!\n",
      "Starting to analyze %  c:\\Users\\rober\\Desktop\\Monkey-Emotions\\video\\gandalf_231205\\gandalf_231205_28_e3v831b.mp4\n",
      "Loading  c:\\Users\\rober\\Desktop\\Monkey-Emotions\\video\\gandalf_231205\\gandalf_231205_28_e3v831b.mp4\n",
      "Duration of video [s]:  12.39 , recorded with  120.0 fps!\n",
      "Overall # of frames:  1487  found with (before cropping) frame dimensions:  640 480\n",
      "Starting to extract posture\n"
     ]
    },
    {
     "name": "stderr",
     "output_type": "stream",
     "text": [
      "100%|██████████| 1487/1487 [04:49<00:00,  5.14it/s]\n"
     ]
    },
    {
     "name": "stdout",
     "output_type": "stream",
     "text": [
      "Saving results in c:\\Users\\rober\\Desktop\\Monkey-Emotions\\video\\gandalf_231205...\n",
      "Saving csv poses!\n",
      "Starting to analyze %  c:\\Users\\rober\\Desktop\\Monkey-Emotions\\video\\gandalf_231205\\gandalf_231205_29_e3v831b.mp4\n",
      "Loading  c:\\Users\\rober\\Desktop\\Monkey-Emotions\\video\\gandalf_231205\\gandalf_231205_29_e3v831b.mp4\n",
      "Duration of video [s]:  13.38 , recorded with  120.0 fps!\n",
      "Overall # of frames:  1606  found with (before cropping) frame dimensions:  640 480\n",
      "Starting to extract posture\n"
     ]
    },
    {
     "name": "stderr",
     "output_type": "stream",
     "text": [
      "100%|██████████| 1606/1606 [05:13<00:00,  5.13it/s]\n"
     ]
    },
    {
     "name": "stdout",
     "output_type": "stream",
     "text": [
      "Saving results in c:\\Users\\rober\\Desktop\\Monkey-Emotions\\video\\gandalf_231205...\n",
      "Saving csv poses!\n",
      "Starting to analyze %  c:\\Users\\rober\\Desktop\\Monkey-Emotions\\video\\gandalf_231205\\gandalf_231205_30_e3v831b.mp4\n",
      "Loading  c:\\Users\\rober\\Desktop\\Monkey-Emotions\\video\\gandalf_231205\\gandalf_231205_30_e3v831b.mp4\n",
      "Duration of video [s]:  16.61 , recorded with  120.0 fps!\n",
      "Overall # of frames:  1993  found with (before cropping) frame dimensions:  640 480\n",
      "Starting to extract posture\n"
     ]
    },
    {
     "name": "stderr",
     "output_type": "stream",
     "text": [
      "100%|██████████| 1993/1993 [06:28<00:00,  5.12it/s]\n"
     ]
    },
    {
     "name": "stdout",
     "output_type": "stream",
     "text": [
      "Saving results in c:\\Users\\rober\\Desktop\\Monkey-Emotions\\video\\gandalf_231205...\n",
      "Saving csv poses!\n",
      "Starting to analyze %  c:\\Users\\rober\\Desktop\\Monkey-Emotions\\video\\gandalf_231205\\gandalf_231205_31_e3v831b.mp4\n",
      "Loading  c:\\Users\\rober\\Desktop\\Monkey-Emotions\\video\\gandalf_231205\\gandalf_231205_31_e3v831b.mp4\n",
      "Duration of video [s]:  16.1 , recorded with  120.0 fps!\n",
      "Overall # of frames:  1932  found with (before cropping) frame dimensions:  640 480\n",
      "Starting to extract posture\n"
     ]
    },
    {
     "name": "stderr",
     "output_type": "stream",
     "text": [
      "100%|██████████| 1932/1932 [06:16<00:00,  5.13it/s]\n"
     ]
    },
    {
     "name": "stdout",
     "output_type": "stream",
     "text": [
      "Saving results in c:\\Users\\rober\\Desktop\\Monkey-Emotions\\video\\gandalf_231205...\n",
      "Saving csv poses!\n",
      "Starting to analyze %  c:\\Users\\rober\\Desktop\\Monkey-Emotions\\video\\gandalf_231205\\gandalf_231205_32_e3v831b.mp4\n",
      "Loading  c:\\Users\\rober\\Desktop\\Monkey-Emotions\\video\\gandalf_231205\\gandalf_231205_32_e3v831b.mp4\n",
      "Duration of video [s]:  12.22 , recorded with  120.0 fps!\n",
      "Overall # of frames:  1467  found with (before cropping) frame dimensions:  640 480\n",
      "Starting to extract posture\n"
     ]
    },
    {
     "name": "stderr",
     "output_type": "stream",
     "text": [
      "100%|██████████| 1467/1467 [04:46<00:00,  5.13it/s]\n"
     ]
    },
    {
     "name": "stdout",
     "output_type": "stream",
     "text": [
      "Saving results in c:\\Users\\rober\\Desktop\\Monkey-Emotions\\video\\gandalf_231205...\n",
      "Saving csv poses!\n",
      "Starting to analyze %  c:\\Users\\rober\\Desktop\\Monkey-Emotions\\video\\gandalf_231205\\gandalf_231205_33_e3v831b.mp4\n",
      "Loading  c:\\Users\\rober\\Desktop\\Monkey-Emotions\\video\\gandalf_231205\\gandalf_231205_33_e3v831b.mp4\n",
      "Duration of video [s]:  14.82 , recorded with  120.0 fps!\n",
      "Overall # of frames:  1778  found with (before cropping) frame dimensions:  640 480\n",
      "Starting to extract posture\n"
     ]
    },
    {
     "name": "stderr",
     "output_type": "stream",
     "text": [
      "100%|██████████| 1778/1778 [05:46<00:00,  5.13it/s]\n"
     ]
    },
    {
     "name": "stdout",
     "output_type": "stream",
     "text": [
      "Saving results in c:\\Users\\rober\\Desktop\\Monkey-Emotions\\video\\gandalf_231205...\n",
      "Saving csv poses!\n",
      "Starting to analyze %  c:\\Users\\rober\\Desktop\\Monkey-Emotions\\video\\gandalf_231205\\gandalf_231205_34_e3v831b.mp4\n",
      "Loading  c:\\Users\\rober\\Desktop\\Monkey-Emotions\\video\\gandalf_231205\\gandalf_231205_34_e3v831b.mp4\n",
      "Duration of video [s]:  18.98 , recorded with  120.0 fps!\n",
      "Overall # of frames:  2277  found with (before cropping) frame dimensions:  640 480\n",
      "Starting to extract posture\n"
     ]
    },
    {
     "name": "stderr",
     "output_type": "stream",
     "text": [
      "100%|██████████| 2277/2277 [07:22<00:00,  5.14it/s]\n"
     ]
    },
    {
     "name": "stdout",
     "output_type": "stream",
     "text": [
      "Saving results in c:\\Users\\rober\\Desktop\\Monkey-Emotions\\video\\gandalf_231205...\n",
      "Saving csv poses!\n",
      "Starting to analyze %  c:\\Users\\rober\\Desktop\\Monkey-Emotions\\video\\gandalf_231205\\gandalf_231205_35_e3v831b.mp4\n",
      "Loading  c:\\Users\\rober\\Desktop\\Monkey-Emotions\\video\\gandalf_231205\\gandalf_231205_35_e3v831b.mp4\n",
      "Duration of video [s]:  10.13 , recorded with  120.0 fps!\n",
      "Overall # of frames:  1216  found with (before cropping) frame dimensions:  640 480\n",
      "Starting to extract posture\n"
     ]
    },
    {
     "name": "stderr",
     "output_type": "stream",
     "text": [
      "100%|██████████| 1216/1216 [03:58<00:00,  5.11it/s]\n"
     ]
    },
    {
     "name": "stdout",
     "output_type": "stream",
     "text": [
      "Saving results in c:\\Users\\rober\\Desktop\\Monkey-Emotions\\video\\gandalf_231205...\n",
      "Saving csv poses!\n",
      "Starting to analyze %  c:\\Users\\rober\\Desktop\\Monkey-Emotions\\video\\gandalf_231205\\gandalf_231205_36_e3v831b.mp4\n",
      "Loading  c:\\Users\\rober\\Desktop\\Monkey-Emotions\\video\\gandalf_231205\\gandalf_231205_36_e3v831b.mp4\n",
      "Duration of video [s]:  12.55 , recorded with  120.0 fps!\n",
      "Overall # of frames:  1506  found with (before cropping) frame dimensions:  640 480\n",
      "Starting to extract posture\n"
     ]
    },
    {
     "name": "stderr",
     "output_type": "stream",
     "text": [
      "100%|██████████| 1506/1506 [04:54<00:00,  5.11it/s]\n"
     ]
    },
    {
     "name": "stdout",
     "output_type": "stream",
     "text": [
      "Saving results in c:\\Users\\rober\\Desktop\\Monkey-Emotions\\video\\gandalf_231205...\n",
      "Saving csv poses!\n",
      "Starting to analyze %  c:\\Users\\rober\\Desktop\\Monkey-Emotions\\video\\gandalf_231205\\gandalf_231205_37_e3v831b.mp4\n",
      "Loading  c:\\Users\\rober\\Desktop\\Monkey-Emotions\\video\\gandalf_231205\\gandalf_231205_37_e3v831b.mp4\n",
      "Duration of video [s]:  17.94 , recorded with  120.0 fps!\n",
      "Overall # of frames:  2153  found with (before cropping) frame dimensions:  640 480\n",
      "Starting to extract posture\n"
     ]
    },
    {
     "name": "stderr",
     "output_type": "stream",
     "text": [
      "100%|██████████| 2153/2153 [07:01<00:00,  5.11it/s]\n"
     ]
    },
    {
     "name": "stdout",
     "output_type": "stream",
     "text": [
      "Saving results in c:\\Users\\rober\\Desktop\\Monkey-Emotions\\video\\gandalf_231205...\n",
      "Saving csv poses!\n",
      "Starting to analyze %  c:\\Users\\rober\\Desktop\\Monkey-Emotions\\video\\gandalf_231205\\gandalf_231205_38_e3v831b.mp4\n",
      "Loading  c:\\Users\\rober\\Desktop\\Monkey-Emotions\\video\\gandalf_231205\\gandalf_231205_38_e3v831b.mp4\n",
      "Duration of video [s]:  17.37 , recorded with  120.0 fps!\n",
      "Overall # of frames:  2084  found with (before cropping) frame dimensions:  640 480\n",
      "Starting to extract posture\n"
     ]
    },
    {
     "name": "stderr",
     "output_type": "stream",
     "text": [
      "100%|██████████| 2084/2084 [06:45<00:00,  5.14it/s]\n"
     ]
    },
    {
     "name": "stdout",
     "output_type": "stream",
     "text": [
      "Saving results in c:\\Users\\rober\\Desktop\\Monkey-Emotions\\video\\gandalf_231205...\n",
      "Saving csv poses!\n",
      "Starting to analyze %  c:\\Users\\rober\\Desktop\\Monkey-Emotions\\video\\gandalf_231205\\gandalf_231205_39_e3v831b.mp4\n",
      "Loading  c:\\Users\\rober\\Desktop\\Monkey-Emotions\\video\\gandalf_231205\\gandalf_231205_39_e3v831b.mp4\n",
      "Duration of video [s]:  14.71 , recorded with  120.0 fps!\n",
      "Overall # of frames:  1765  found with (before cropping) frame dimensions:  640 480\n",
      "Starting to extract posture\n"
     ]
    },
    {
     "name": "stderr",
     "output_type": "stream",
     "text": [
      "100%|██████████| 1765/1765 [05:44<00:00,  5.13it/s]\n"
     ]
    },
    {
     "name": "stdout",
     "output_type": "stream",
     "text": [
      "Saving results in c:\\Users\\rober\\Desktop\\Monkey-Emotions\\video\\gandalf_231205...\n",
      "Saving csv poses!\n",
      "Starting to analyze %  c:\\Users\\rober\\Desktop\\Monkey-Emotions\\video\\gandalf_231205\\gandalf_231205_40_e3v831b.mp4\n",
      "Loading  c:\\Users\\rober\\Desktop\\Monkey-Emotions\\video\\gandalf_231205\\gandalf_231205_40_e3v831b.mp4\n",
      "Duration of video [s]:  11.6 , recorded with  120.0 fps!\n",
      "Overall # of frames:  1392  found with (before cropping) frame dimensions:  640 480\n",
      "Starting to extract posture\n"
     ]
    },
    {
     "name": "stderr",
     "output_type": "stream",
     "text": [
      "100%|██████████| 1392/1392 [04:30<00:00,  5.14it/s]\n"
     ]
    },
    {
     "name": "stdout",
     "output_type": "stream",
     "text": [
      "Saving results in c:\\Users\\rober\\Desktop\\Monkey-Emotions\\video\\gandalf_231205...\n",
      "Saving csv poses!\n",
      "Starting to analyze %  c:\\Users\\rober\\Desktop\\Monkey-Emotions\\video\\gandalf_231205\\gandalf_231205_41_e3v831b.mp4\n",
      "Loading  c:\\Users\\rober\\Desktop\\Monkey-Emotions\\video\\gandalf_231205\\gandalf_231205_41_e3v831b.mp4\n",
      "Duration of video [s]:  45.07 , recorded with  120.0 fps!\n",
      "Overall # of frames:  5408  found with (before cropping) frame dimensions:  640 480\n",
      "Starting to extract posture\n"
     ]
    },
    {
     "name": "stderr",
     "output_type": "stream",
     "text": [
      "100%|██████████| 5408/5408 [17:32<00:00,  5.14it/s]\n"
     ]
    },
    {
     "name": "stdout",
     "output_type": "stream",
     "text": [
      "Saving results in c:\\Users\\rober\\Desktop\\Monkey-Emotions\\video\\gandalf_231205...\n",
      "Saving csv poses!\n",
      "Starting to analyze %  c:\\Users\\rober\\Desktop\\Monkey-Emotions\\video\\gandalf_231205\\gandalf_231205_42_e3v831b.mp4\n",
      "Loading  c:\\Users\\rober\\Desktop\\Monkey-Emotions\\video\\gandalf_231205\\gandalf_231205_42_e3v831b.mp4\n",
      "Duration of video [s]:  17.65 , recorded with  120.0 fps!\n",
      "Overall # of frames:  2118  found with (before cropping) frame dimensions:  640 480\n",
      "Starting to extract posture\n"
     ]
    },
    {
     "name": "stderr",
     "output_type": "stream",
     "text": [
      "100%|██████████| 2118/2118 [06:59<00:00,  5.05it/s]\n"
     ]
    },
    {
     "name": "stdout",
     "output_type": "stream",
     "text": [
      "Saving results in c:\\Users\\rober\\Desktop\\Monkey-Emotions\\video\\gandalf_231205...\n",
      "Saving csv poses!\n",
      "Starting to analyze %  c:\\Users\\rober\\Desktop\\Monkey-Emotions\\video\\gandalf_231205\\gandalf_231205_43_e3v831b.mp4\n",
      "Loading  c:\\Users\\rober\\Desktop\\Monkey-Emotions\\video\\gandalf_231205\\gandalf_231205_43_e3v831b.mp4\n",
      "Duration of video [s]:  15.41 , recorded with  120.0 fps!\n",
      "Overall # of frames:  1849  found with (before cropping) frame dimensions:  640 480\n",
      "Starting to extract posture\n"
     ]
    },
    {
     "name": "stderr",
     "output_type": "stream",
     "text": [
      "100%|██████████| 1849/1849 [06:01<00:00,  5.12it/s]\n"
     ]
    },
    {
     "name": "stdout",
     "output_type": "stream",
     "text": [
      "Saving results in c:\\Users\\rober\\Desktop\\Monkey-Emotions\\video\\gandalf_231205...\n",
      "Saving csv poses!\n",
      "Starting to analyze %  c:\\Users\\rober\\Desktop\\Monkey-Emotions\\video\\gandalf_231205\\gandalf_231205_44_e3v831b.mp4\n",
      "Loading  c:\\Users\\rober\\Desktop\\Monkey-Emotions\\video\\gandalf_231205\\gandalf_231205_44_e3v831b.mp4\n",
      "Duration of video [s]:  15.68 , recorded with  120.0 fps!\n",
      "Overall # of frames:  1882  found with (before cropping) frame dimensions:  640 480\n",
      "Starting to extract posture\n"
     ]
    },
    {
     "name": "stderr",
     "output_type": "stream",
     "text": [
      "100%|██████████| 1882/1882 [06:08<00:00,  5.10it/s]\n"
     ]
    },
    {
     "name": "stdout",
     "output_type": "stream",
     "text": [
      "Saving results in c:\\Users\\rober\\Desktop\\Monkey-Emotions\\video\\gandalf_231205...\n",
      "Saving csv poses!\n",
      "Starting to analyze %  c:\\Users\\rober\\Desktop\\Monkey-Emotions\\video\\gandalf_231205\\gandalf_231205_45_e3v831b.mp4\n",
      "Loading  c:\\Users\\rober\\Desktop\\Monkey-Emotions\\video\\gandalf_231205\\gandalf_231205_45_e3v831b.mp4\n",
      "Duration of video [s]:  17.57 , recorded with  120.0 fps!\n",
      "Overall # of frames:  2109  found with (before cropping) frame dimensions:  640 480\n",
      "Starting to extract posture\n"
     ]
    },
    {
     "name": "stderr",
     "output_type": "stream",
     "text": [
      "100%|██████████| 2109/2109 [06:46<00:00,  5.19it/s]\n"
     ]
    },
    {
     "name": "stdout",
     "output_type": "stream",
     "text": [
      "Saving results in c:\\Users\\rober\\Desktop\\Monkey-Emotions\\video\\gandalf_231205...\n",
      "Saving csv poses!\n",
      "Starting to analyze %  c:\\Users\\rober\\Desktop\\Monkey-Emotions\\video\\gandalf_231205\\gandalf_231205_46_e3v831b.mp4\n",
      "Loading  c:\\Users\\rober\\Desktop\\Monkey-Emotions\\video\\gandalf_231205\\gandalf_231205_46_e3v831b.mp4\n",
      "Duration of video [s]:  16.04 , recorded with  120.0 fps!\n",
      "Overall # of frames:  1925  found with (before cropping) frame dimensions:  640 480\n",
      "Starting to extract posture\n"
     ]
    },
    {
     "name": "stderr",
     "output_type": "stream",
     "text": [
      "100%|██████████| 1925/1925 [06:13<00:00,  5.16it/s]\n"
     ]
    },
    {
     "name": "stdout",
     "output_type": "stream",
     "text": [
      "Saving results in c:\\Users\\rober\\Desktop\\Monkey-Emotions\\video\\gandalf_231205...\n",
      "Saving csv poses!\n",
      "Starting to analyze %  c:\\Users\\rober\\Desktop\\Monkey-Emotions\\video\\gandalf_231205\\gandalf_231205_47_e3v831b.mp4\n",
      "Loading  c:\\Users\\rober\\Desktop\\Monkey-Emotions\\video\\gandalf_231205\\gandalf_231205_47_e3v831b.mp4\n",
      "Duration of video [s]:  16.45 , recorded with  120.0 fps!\n",
      "Overall # of frames:  1974  found with (before cropping) frame dimensions:  640 480\n",
      "Starting to extract posture\n"
     ]
    },
    {
     "name": "stderr",
     "output_type": "stream",
     "text": [
      "100%|██████████| 1974/1974 [06:23<00:00,  5.14it/s]\n"
     ]
    },
    {
     "name": "stdout",
     "output_type": "stream",
     "text": [
      "Saving results in c:\\Users\\rober\\Desktop\\Monkey-Emotions\\video\\gandalf_231205...\n",
      "Saving csv poses!\n",
      "Starting to analyze %  c:\\Users\\rober\\Desktop\\Monkey-Emotions\\video\\gandalf_231205\\gandalf_231205_48_e3v831b.mp4\n",
      "Loading  c:\\Users\\rober\\Desktop\\Monkey-Emotions\\video\\gandalf_231205\\gandalf_231205_48_e3v831b.mp4\n",
      "Duration of video [s]:  15.71 , recorded with  120.0 fps!\n",
      "Overall # of frames:  1885  found with (before cropping) frame dimensions:  640 480\n",
      "Starting to extract posture\n"
     ]
    },
    {
     "name": "stderr",
     "output_type": "stream",
     "text": [
      "100%|██████████| 1885/1885 [06:06<00:00,  5.14it/s]\n"
     ]
    },
    {
     "name": "stdout",
     "output_type": "stream",
     "text": [
      "Saving results in c:\\Users\\rober\\Desktop\\Monkey-Emotions\\video\\gandalf_231205...\n",
      "Saving csv poses!\n",
      "Starting to analyze %  c:\\Users\\rober\\Desktop\\Monkey-Emotions\\video\\gandalf_231205\\gandalf_231205_49_e3v831b.mp4\n",
      "Loading  c:\\Users\\rober\\Desktop\\Monkey-Emotions\\video\\gandalf_231205\\gandalf_231205_49_e3v831b.mp4\n",
      "Duration of video [s]:  15.36 , recorded with  120.0 fps!\n",
      "Overall # of frames:  1843  found with (before cropping) frame dimensions:  640 480\n",
      "Starting to extract posture\n"
     ]
    },
    {
     "name": "stderr",
     "output_type": "stream",
     "text": [
      "100%|██████████| 1843/1843 [05:58<00:00,  5.14it/s]\n"
     ]
    },
    {
     "name": "stdout",
     "output_type": "stream",
     "text": [
      "Saving results in c:\\Users\\rober\\Desktop\\Monkey-Emotions\\video\\gandalf_231205...\n",
      "Saving csv poses!\n",
      "Starting to analyze %  c:\\Users\\rober\\Desktop\\Monkey-Emotions\\video\\gandalf_231205\\gandalf_231205_50_e3v831b.mp4\n",
      "Loading  c:\\Users\\rober\\Desktop\\Monkey-Emotions\\video\\gandalf_231205\\gandalf_231205_50_e3v831b.mp4\n",
      "Duration of video [s]:  16.27 , recorded with  120.0 fps!\n",
      "Overall # of frames:  1953  found with (before cropping) frame dimensions:  640 480\n",
      "Starting to extract posture\n"
     ]
    },
    {
     "name": "stderr",
     "output_type": "stream",
     "text": [
      "100%|██████████| 1953/1953 [06:19<00:00,  5.14it/s]\n"
     ]
    },
    {
     "name": "stdout",
     "output_type": "stream",
     "text": [
      "Saving results in c:\\Users\\rober\\Desktop\\Monkey-Emotions\\video\\gandalf_231205...\n",
      "Saving csv poses!\n",
      "Starting to analyze %  c:\\Users\\rober\\Desktop\\Monkey-Emotions\\video\\gandalf_231205\\gandalf_231205_51_e3v831b.mp4\n",
      "Loading  c:\\Users\\rober\\Desktop\\Monkey-Emotions\\video\\gandalf_231205\\gandalf_231205_51_e3v831b.mp4\n",
      "Duration of video [s]:  14.18 , recorded with  120.0 fps!\n",
      "Overall # of frames:  1702  found with (before cropping) frame dimensions:  640 480\n",
      "Starting to extract posture\n"
     ]
    },
    {
     "name": "stderr",
     "output_type": "stream",
     "text": [
      "100%|██████████| 1702/1702 [05:30<00:00,  5.15it/s]\n"
     ]
    },
    {
     "name": "stdout",
     "output_type": "stream",
     "text": [
      "Saving results in c:\\Users\\rober\\Desktop\\Monkey-Emotions\\video\\gandalf_231205...\n",
      "Saving csv poses!\n",
      "Starting to analyze %  c:\\Users\\rober\\Desktop\\Monkey-Emotions\\video\\gandalf_231205\\gandalf_231205_52_e3v831b.mp4\n",
      "Loading  c:\\Users\\rober\\Desktop\\Monkey-Emotions\\video\\gandalf_231205\\gandalf_231205_52_e3v831b.mp4\n",
      "Duration of video [s]:  12.0 , recorded with  120.0 fps!\n",
      "Overall # of frames:  1440  found with (before cropping) frame dimensions:  640 480\n",
      "Starting to extract posture\n"
     ]
    },
    {
     "name": "stderr",
     "output_type": "stream",
     "text": [
      "100%|██████████| 1440/1440 [04:39<00:00,  5.15it/s]\n"
     ]
    },
    {
     "name": "stdout",
     "output_type": "stream",
     "text": [
      "Saving results in c:\\Users\\rober\\Desktop\\Monkey-Emotions\\video\\gandalf_231205...\n",
      "Saving csv poses!\n",
      "Starting to analyze %  c:\\Users\\rober\\Desktop\\Monkey-Emotions\\video\\gandalf_231205\\gandalf_231205_53_e3v831b.mp4\n",
      "Loading  c:\\Users\\rober\\Desktop\\Monkey-Emotions\\video\\gandalf_231205\\gandalf_231205_53_e3v831b.mp4\n",
      "Duration of video [s]:  15.91 , recorded with  120.0 fps!\n",
      "Overall # of frames:  1909  found with (before cropping) frame dimensions:  640 480\n",
      "Starting to extract posture\n"
     ]
    },
    {
     "name": "stderr",
     "output_type": "stream",
     "text": [
      "100%|██████████| 1909/1909 [06:10<00:00,  5.15it/s]\n"
     ]
    },
    {
     "name": "stdout",
     "output_type": "stream",
     "text": [
      "Saving results in c:\\Users\\rober\\Desktop\\Monkey-Emotions\\video\\gandalf_231205...\n",
      "Saving csv poses!\n",
      "Starting to analyze %  c:\\Users\\rober\\Desktop\\Monkey-Emotions\\video\\gandalf_231205\\gandalf_231205_54_e3v831b.mp4\n",
      "Loading  c:\\Users\\rober\\Desktop\\Monkey-Emotions\\video\\gandalf_231205\\gandalf_231205_54_e3v831b.mp4\n",
      "Duration of video [s]:  14.89 , recorded with  120.0 fps!\n",
      "Overall # of frames:  1787  found with (before cropping) frame dimensions:  640 480\n",
      "Starting to extract posture\n"
     ]
    },
    {
     "name": "stderr",
     "output_type": "stream",
     "text": [
      "100%|██████████| 1787/1787 [05:49<00:00,  5.12it/s]\n"
     ]
    },
    {
     "name": "stdout",
     "output_type": "stream",
     "text": [
      "Saving results in c:\\Users\\rober\\Desktop\\Monkey-Emotions\\video\\gandalf_231205...\n",
      "Saving csv poses!\n",
      "Starting to analyze %  c:\\Users\\rober\\Desktop\\Monkey-Emotions\\video\\gandalf_231205\\gandalf_231205_55_e3v831b.mp4\n",
      "Loading  c:\\Users\\rober\\Desktop\\Monkey-Emotions\\video\\gandalf_231205\\gandalf_231205_55_e3v831b.mp4\n",
      "Duration of video [s]:  10.08 , recorded with  120.0 fps!\n",
      "Overall # of frames:  1210  found with (before cropping) frame dimensions:  640 480\n",
      "Starting to extract posture\n"
     ]
    },
    {
     "name": "stderr",
     "output_type": "stream",
     "text": [
      "100%|██████████| 1210/1210 [03:55<00:00,  5.13it/s]\n"
     ]
    },
    {
     "name": "stdout",
     "output_type": "stream",
     "text": [
      "Saving results in c:\\Users\\rober\\Desktop\\Monkey-Emotions\\video\\gandalf_231205...\n",
      "Saving csv poses!\n",
      "Starting to analyze %  c:\\Users\\rober\\Desktop\\Monkey-Emotions\\video\\gandalf_231205\\gandalf_231205_56_e3v831b.mp4\n",
      "Loading  c:\\Users\\rober\\Desktop\\Monkey-Emotions\\video\\gandalf_231205\\gandalf_231205_56_e3v831b.mp4\n",
      "Duration of video [s]:  16.57 , recorded with  120.0 fps!\n",
      "Overall # of frames:  1988  found with (before cropping) frame dimensions:  640 480\n",
      "Starting to extract posture\n"
     ]
    },
    {
     "name": "stderr",
     "output_type": "stream",
     "text": [
      "100%|██████████| 1988/1988 [06:25<00:00,  5.16it/s]\n"
     ]
    },
    {
     "name": "stdout",
     "output_type": "stream",
     "text": [
      "Saving results in c:\\Users\\rober\\Desktop\\Monkey-Emotions\\video\\gandalf_231205...\n",
      "Saving csv poses!\n",
      "Starting to analyze %  c:\\Users\\rober\\Desktop\\Monkey-Emotions\\video\\gandalf_231205\\gandalf_231205_57_e3v831b.mp4\n",
      "Loading  c:\\Users\\rober\\Desktop\\Monkey-Emotions\\video\\gandalf_231205\\gandalf_231205_57_e3v831b.mp4\n",
      "Duration of video [s]:  16.41 , recorded with  120.0 fps!\n",
      "Overall # of frames:  1969  found with (before cropping) frame dimensions:  640 480\n",
      "Starting to extract posture\n"
     ]
    },
    {
     "name": "stderr",
     "output_type": "stream",
     "text": [
      "100%|██████████| 1969/1969 [06:22<00:00,  5.15it/s]\n"
     ]
    },
    {
     "name": "stdout",
     "output_type": "stream",
     "text": [
      "Saving results in c:\\Users\\rober\\Desktop\\Monkey-Emotions\\video\\gandalf_231205...\n",
      "Saving csv poses!\n",
      "Starting to analyze %  c:\\Users\\rober\\Desktop\\Monkey-Emotions\\video\\gandalf_231205\\gandalf_231205_58_e3v831b.mp4\n",
      "Loading  c:\\Users\\rober\\Desktop\\Monkey-Emotions\\video\\gandalf_231205\\gandalf_231205_58_e3v831b.mp4\n",
      "Duration of video [s]:  18.24 , recorded with  120.0 fps!\n",
      "Overall # of frames:  2189  found with (before cropping) frame dimensions:  640 480\n",
      "Starting to extract posture\n"
     ]
    },
    {
     "name": "stderr",
     "output_type": "stream",
     "text": [
      "100%|██████████| 2189/2189 [07:04<00:00,  5.16it/s]\n"
     ]
    },
    {
     "name": "stdout",
     "output_type": "stream",
     "text": [
      "Saving results in c:\\Users\\rober\\Desktop\\Monkey-Emotions\\video\\gandalf_231205...\n",
      "Saving csv poses!\n",
      "Starting to analyze %  c:\\Users\\rober\\Desktop\\Monkey-Emotions\\video\\gandalf_231205\\gandalf_231205_59_e3v831b.mp4\n",
      "Loading  c:\\Users\\rober\\Desktop\\Monkey-Emotions\\video\\gandalf_231205\\gandalf_231205_59_e3v831b.mp4\n",
      "Duration of video [s]:  10.48 , recorded with  120.0 fps!\n",
      "Overall # of frames:  1258  found with (before cropping) frame dimensions:  640 480\n",
      "Starting to extract posture\n"
     ]
    },
    {
     "name": "stderr",
     "output_type": "stream",
     "text": [
      "100%|██████████| 1258/1258 [04:04<00:00,  5.14it/s]\n"
     ]
    },
    {
     "name": "stdout",
     "output_type": "stream",
     "text": [
      "Saving results in c:\\Users\\rober\\Desktop\\Monkey-Emotions\\video\\gandalf_231205...\n",
      "Saving csv poses!\n",
      "Starting to analyze %  c:\\Users\\rober\\Desktop\\Monkey-Emotions\\video\\gandalf_231205\\gandalf_231205_60_e3v831b.mp4\n",
      "Loading  c:\\Users\\rober\\Desktop\\Monkey-Emotions\\video\\gandalf_231205\\gandalf_231205_60_e3v831b.mp4\n",
      "Duration of video [s]:  20.92 , recorded with  120.0 fps!\n",
      "Overall # of frames:  2510  found with (before cropping) frame dimensions:  640 480\n",
      "Starting to extract posture\n"
     ]
    },
    {
     "name": "stderr",
     "output_type": "stream",
     "text": [
      "100%|██████████| 2510/2510 [08:07<00:00,  5.15it/s]\n"
     ]
    },
    {
     "name": "stdout",
     "output_type": "stream",
     "text": [
      "Saving results in c:\\Users\\rober\\Desktop\\Monkey-Emotions\\video\\gandalf_231205...\n",
      "Saving csv poses!\n",
      "Starting to analyze %  c:\\Users\\rober\\Desktop\\Monkey-Emotions\\video\\gandalf_231205\\gandalf_231205_61_e3v831b.mp4\n",
      "Loading  c:\\Users\\rober\\Desktop\\Monkey-Emotions\\video\\gandalf_231205\\gandalf_231205_61_e3v831b.mp4\n",
      "Duration of video [s]:  14.88 , recorded with  120.0 fps!\n",
      "Overall # of frames:  1786  found with (before cropping) frame dimensions:  640 480\n",
      "Starting to extract posture\n"
     ]
    },
    {
     "name": "stderr",
     "output_type": "stream",
     "text": [
      "100%|██████████| 1786/1786 [05:47<00:00,  5.14it/s]\n"
     ]
    },
    {
     "name": "stdout",
     "output_type": "stream",
     "text": [
      "Saving results in c:\\Users\\rober\\Desktop\\Monkey-Emotions\\video\\gandalf_231205...\n",
      "Saving csv poses!\n",
      "Starting to analyze %  c:\\Users\\rober\\Desktop\\Monkey-Emotions\\video\\gandalf_231205\\gandalf_231205_62_e3v831b.mp4\n",
      "Loading  c:\\Users\\rober\\Desktop\\Monkey-Emotions\\video\\gandalf_231205\\gandalf_231205_62_e3v831b.mp4\n",
      "Duration of video [s]:  19.56 , recorded with  120.0 fps!\n",
      "Overall # of frames:  2347  found with (before cropping) frame dimensions:  640 480\n",
      "Starting to extract posture\n"
     ]
    },
    {
     "name": "stderr",
     "output_type": "stream",
     "text": [
      "100%|██████████| 2347/2347 [07:35<00:00,  5.16it/s]\n"
     ]
    },
    {
     "name": "stdout",
     "output_type": "stream",
     "text": [
      "Saving results in c:\\Users\\rober\\Desktop\\Monkey-Emotions\\video\\gandalf_231205...\n",
      "Saving csv poses!\n",
      "Starting to analyze %  c:\\Users\\rober\\Desktop\\Monkey-Emotions\\video\\gandalf_231205\\gandalf_231205_63_e3v831b.mp4\n",
      "Loading  c:\\Users\\rober\\Desktop\\Monkey-Emotions\\video\\gandalf_231205\\gandalf_231205_63_e3v831b.mp4\n",
      "Duration of video [s]:  14.64 , recorded with  120.0 fps!\n",
      "Overall # of frames:  1757  found with (before cropping) frame dimensions:  640 480\n",
      "Starting to extract posture\n"
     ]
    },
    {
     "name": "stderr",
     "output_type": "stream",
     "text": [
      "100%|██████████| 1757/1757 [05:41<00:00,  5.14it/s]\n"
     ]
    },
    {
     "name": "stdout",
     "output_type": "stream",
     "text": [
      "Saving results in c:\\Users\\rober\\Desktop\\Monkey-Emotions\\video\\gandalf_231205...\n",
      "Saving csv poses!\n",
      "Starting to analyze %  c:\\Users\\rober\\Desktop\\Monkey-Emotions\\video\\gandalf_231205\\gandalf_231205_64_e3v831b.mp4\n",
      "Loading  c:\\Users\\rober\\Desktop\\Monkey-Emotions\\video\\gandalf_231205\\gandalf_231205_64_e3v831b.mp4\n",
      "Duration of video [s]:  19.32 , recorded with  120.0 fps!\n",
      "Overall # of frames:  2318  found with (before cropping) frame dimensions:  640 480\n",
      "Starting to extract posture\n"
     ]
    },
    {
     "name": "stderr",
     "output_type": "stream",
     "text": [
      "100%|██████████| 2318/2318 [07:31<00:00,  5.13it/s]\n"
     ]
    },
    {
     "name": "stdout",
     "output_type": "stream",
     "text": [
      "Saving results in c:\\Users\\rober\\Desktop\\Monkey-Emotions\\video\\gandalf_231205...\n",
      "Saving csv poses!\n",
      "Starting to analyze %  c:\\Users\\rober\\Desktop\\Monkey-Emotions\\video\\gandalf_231205\\gandalf_231205_65_e3v831b.mp4\n",
      "Loading  c:\\Users\\rober\\Desktop\\Monkey-Emotions\\video\\gandalf_231205\\gandalf_231205_65_e3v831b.mp4\n",
      "Duration of video [s]:  17.73 , recorded with  120.0 fps!\n",
      "Overall # of frames:  2127  found with (before cropping) frame dimensions:  640 480\n",
      "Starting to extract posture\n"
     ]
    },
    {
     "name": "stderr",
     "output_type": "stream",
     "text": [
      "100%|██████████| 2127/2127 [06:52<00:00,  5.15it/s]\n"
     ]
    },
    {
     "name": "stdout",
     "output_type": "stream",
     "text": [
      "Saving results in c:\\Users\\rober\\Desktop\\Monkey-Emotions\\video\\gandalf_231205...\n",
      "Saving csv poses!\n",
      "Starting to analyze %  c:\\Users\\rober\\Desktop\\Monkey-Emotions\\video\\gandalf_231205\\gandalf_231205_66_e3v831b.mp4\n",
      "Loading  c:\\Users\\rober\\Desktop\\Monkey-Emotions\\video\\gandalf_231205\\gandalf_231205_66_e3v831b.mp4\n",
      "Duration of video [s]:  11.98 , recorded with  120.0 fps!\n",
      "Overall # of frames:  1438  found with (before cropping) frame dimensions:  640 480\n",
      "Starting to extract posture\n"
     ]
    },
    {
     "name": "stderr",
     "output_type": "stream",
     "text": [
      "100%|██████████| 1438/1438 [04:39<00:00,  5.15it/s]\n"
     ]
    },
    {
     "name": "stdout",
     "output_type": "stream",
     "text": [
      "Saving results in c:\\Users\\rober\\Desktop\\Monkey-Emotions\\video\\gandalf_231205...\n",
      "Saving csv poses!\n",
      "Starting to analyze %  c:\\Users\\rober\\Desktop\\Monkey-Emotions\\video\\gandalf_231205\\gandalf_231205_67_e3v831b.mp4\n",
      "Loading  c:\\Users\\rober\\Desktop\\Monkey-Emotions\\video\\gandalf_231205\\gandalf_231205_67_e3v831b.mp4\n",
      "Duration of video [s]:  16.17 , recorded with  120.0 fps!\n",
      "Overall # of frames:  1940  found with (before cropping) frame dimensions:  640 480\n",
      "Starting to extract posture\n"
     ]
    },
    {
     "name": "stderr",
     "output_type": "stream",
     "text": [
      "100%|██████████| 1940/1940 [06:16<00:00,  5.15it/s]\n"
     ]
    },
    {
     "name": "stdout",
     "output_type": "stream",
     "text": [
      "Saving results in c:\\Users\\rober\\Desktop\\Monkey-Emotions\\video\\gandalf_231205...\n",
      "Saving csv poses!\n",
      "Starting to analyze %  c:\\Users\\rober\\Desktop\\Monkey-Emotions\\video\\gandalf_231205\\gandalf_231205_68_e3v831b.mp4\n",
      "Loading  c:\\Users\\rober\\Desktop\\Monkey-Emotions\\video\\gandalf_231205\\gandalf_231205_68_e3v831b.mp4\n",
      "Duration of video [s]:  11.1 , recorded with  120.0 fps!\n",
      "Overall # of frames:  1332  found with (before cropping) frame dimensions:  640 480\n",
      "Starting to extract posture\n"
     ]
    },
    {
     "name": "stderr",
     "output_type": "stream",
     "text": [
      "100%|██████████| 1332/1332 [04:19<00:00,  5.13it/s]\n"
     ]
    },
    {
     "name": "stdout",
     "output_type": "stream",
     "text": [
      "Saving results in c:\\Users\\rober\\Desktop\\Monkey-Emotions\\video\\gandalf_231205...\n",
      "Saving csv poses!\n",
      "Starting to analyze %  c:\\Users\\rober\\Desktop\\Monkey-Emotions\\video\\gandalf_231205\\gandalf_231205_69_e3v831b.mp4\n",
      "Loading  c:\\Users\\rober\\Desktop\\Monkey-Emotions\\video\\gandalf_231205\\gandalf_231205_69_e3v831b.mp4\n",
      "Duration of video [s]:  16.93 , recorded with  120.0 fps!\n",
      "Overall # of frames:  2031  found with (before cropping) frame dimensions:  640 480\n",
      "Starting to extract posture\n"
     ]
    },
    {
     "name": "stderr",
     "output_type": "stream",
     "text": [
      "100%|██████████| 2031/2031 [06:34<00:00,  5.15it/s]\n"
     ]
    },
    {
     "name": "stdout",
     "output_type": "stream",
     "text": [
      "Saving results in c:\\Users\\rober\\Desktop\\Monkey-Emotions\\video\\gandalf_231205...\n",
      "Saving csv poses!\n",
      "Starting to analyze %  c:\\Users\\rober\\Desktop\\Monkey-Emotions\\video\\gandalf_231205\\gandalf_231205_70_e3v831b.mp4\n",
      "Loading  c:\\Users\\rober\\Desktop\\Monkey-Emotions\\video\\gandalf_231205\\gandalf_231205_70_e3v831b.mp4\n",
      "Duration of video [s]:  15.73 , recorded with  120.0 fps!\n",
      "Overall # of frames:  1888  found with (before cropping) frame dimensions:  640 480\n",
      "Starting to extract posture\n"
     ]
    },
    {
     "name": "stderr",
     "output_type": "stream",
     "text": [
      "100%|██████████| 1888/1888 [06:03<00:00,  5.20it/s]\n"
     ]
    },
    {
     "name": "stdout",
     "output_type": "stream",
     "text": [
      "Saving results in c:\\Users\\rober\\Desktop\\Monkey-Emotions\\video\\gandalf_231205...\n",
      "Saving csv poses!\n",
      "Starting to analyze %  c:\\Users\\rober\\Desktop\\Monkey-Emotions\\video\\gandalf_231205\\gandalf_231205_71_e3v831b.mp4\n",
      "Loading  c:\\Users\\rober\\Desktop\\Monkey-Emotions\\video\\gandalf_231205\\gandalf_231205_71_e3v831b.mp4\n",
      "Duration of video [s]:  51.2 , recorded with  120.0 fps!\n",
      "Overall # of frames:  6144  found with (before cropping) frame dimensions:  640 480\n",
      "Starting to extract posture\n"
     ]
    },
    {
     "name": "stderr",
     "output_type": "stream",
     "text": [
      "100%|██████████| 6144/6144 [20:00<00:00,  5.12it/s]\n"
     ]
    },
    {
     "name": "stdout",
     "output_type": "stream",
     "text": [
      "Saving results in c:\\Users\\rober\\Desktop\\Monkey-Emotions\\video\\gandalf_231205...\n",
      "Saving csv poses!\n",
      "Starting to analyze %  c:\\Users\\rober\\Desktop\\Monkey-Emotions\\video\\gandalf_231205\\gandalf_231205_72_e3v831b.mp4\n",
      "Loading  c:\\Users\\rober\\Desktop\\Monkey-Emotions\\video\\gandalf_231205\\gandalf_231205_72_e3v831b.mp4\n",
      "Duration of video [s]:  27.27 , recorded with  120.0 fps!\n",
      "Overall # of frames:  3272  found with (before cropping) frame dimensions:  640 480\n",
      "Starting to extract posture\n"
     ]
    },
    {
     "name": "stderr",
     "output_type": "stream",
     "text": [
      "100%|██████████| 3272/3272 [10:47<00:00,  5.05it/s]\n"
     ]
    },
    {
     "name": "stdout",
     "output_type": "stream",
     "text": [
      "Saving results in c:\\Users\\rober\\Desktop\\Monkey-Emotions\\video\\gandalf_231205...\n",
      "Saving csv poses!\n",
      "Starting to analyze %  c:\\Users\\rober\\Desktop\\Monkey-Emotions\\video\\gandalf_231205\\gandalf_231205_73_e3v831b.mp4\n",
      "Loading  c:\\Users\\rober\\Desktop\\Monkey-Emotions\\video\\gandalf_231205\\gandalf_231205_73_e3v831b.mp4\n",
      "Duration of video [s]:  14.55 , recorded with  120.0 fps!\n",
      "Overall # of frames:  1746  found with (before cropping) frame dimensions:  640 480\n",
      "Starting to extract posture\n"
     ]
    },
    {
     "name": "stderr",
     "output_type": "stream",
     "text": [
      "100%|██████████| 1746/1746 [05:39<00:00,  5.14it/s]\n"
     ]
    },
    {
     "name": "stdout",
     "output_type": "stream",
     "text": [
      "Saving results in c:\\Users\\rober\\Desktop\\Monkey-Emotions\\video\\gandalf_231205...\n",
      "Saving csv poses!\n",
      "Starting to analyze %  c:\\Users\\rober\\Desktop\\Monkey-Emotions\\video\\gandalf_231205\\gandalf_231205_75_e3v831b.mp4\n",
      "Loading  c:\\Users\\rober\\Desktop\\Monkey-Emotions\\video\\gandalf_231205\\gandalf_231205_75_e3v831b.mp4\n",
      "Duration of video [s]:  12.92 , recorded with  120.0 fps!\n",
      "Overall # of frames:  1550  found with (before cropping) frame dimensions:  640 480\n",
      "Starting to extract posture\n"
     ]
    },
    {
     "name": "stderr",
     "output_type": "stream",
     "text": [
      "100%|██████████| 1550/1550 [05:00<00:00,  5.16it/s]\n"
     ]
    },
    {
     "name": "stdout",
     "output_type": "stream",
     "text": [
      "Saving results in c:\\Users\\rober\\Desktop\\Monkey-Emotions\\video\\gandalf_231205...\n",
      "Saving csv poses!\n",
      "Starting to analyze %  c:\\Users\\rober\\Desktop\\Monkey-Emotions\\video\\gandalf_231205\\gandalf_231205_76_e3v831b.mp4\n",
      "Loading  c:\\Users\\rober\\Desktop\\Monkey-Emotions\\video\\gandalf_231205\\gandalf_231205_76_e3v831b.mp4\n",
      "Duration of video [s]:  16.71 , recorded with  120.0 fps!\n",
      "Overall # of frames:  2005  found with (before cropping) frame dimensions:  640 480\n",
      "Starting to extract posture\n"
     ]
    },
    {
     "name": "stderr",
     "output_type": "stream",
     "text": [
      "100%|██████████| 2005/2005 [06:29<00:00,  5.15it/s]\n"
     ]
    },
    {
     "name": "stdout",
     "output_type": "stream",
     "text": [
      "Saving results in c:\\Users\\rober\\Desktop\\Monkey-Emotions\\video\\gandalf_231205...\n",
      "Saving csv poses!\n",
      "Starting to analyze %  c:\\Users\\rober\\Desktop\\Monkey-Emotions\\video\\gandalf_231205\\gandalf_231205_77_e3v831b.mp4\n",
      "Loading  c:\\Users\\rober\\Desktop\\Monkey-Emotions\\video\\gandalf_231205\\gandalf_231205_77_e3v831b.mp4\n",
      "Duration of video [s]:  17.4 , recorded with  120.0 fps!\n",
      "Overall # of frames:  2088  found with (before cropping) frame dimensions:  640 480\n",
      "Starting to extract posture\n"
     ]
    },
    {
     "name": "stderr",
     "output_type": "stream",
     "text": [
      "100%|██████████| 2088/2088 [06:45<00:00,  5.16it/s]\n"
     ]
    },
    {
     "name": "stdout",
     "output_type": "stream",
     "text": [
      "Saving results in c:\\Users\\rober\\Desktop\\Monkey-Emotions\\video\\gandalf_231205...\n",
      "Saving csv poses!\n",
      "Starting to analyze %  c:\\Users\\rober\\Desktop\\Monkey-Emotions\\video\\gandalf_231205\\gandalf_231205_78_e3v831b.mp4\n",
      "Loading  c:\\Users\\rober\\Desktop\\Monkey-Emotions\\video\\gandalf_231205\\gandalf_231205_78_e3v831b.mp4\n",
      "Duration of video [s]:  18.62 , recorded with  120.0 fps!\n",
      "Overall # of frames:  2234  found with (before cropping) frame dimensions:  640 480\n",
      "Starting to extract posture\n"
     ]
    },
    {
     "name": "stderr",
     "output_type": "stream",
     "text": [
      "100%|██████████| 2234/2234 [07:15<00:00,  5.13it/s]\n"
     ]
    },
    {
     "name": "stdout",
     "output_type": "stream",
     "text": [
      "Saving results in c:\\Users\\rober\\Desktop\\Monkey-Emotions\\video\\gandalf_231205...\n",
      "Saving csv poses!\n",
      "Starting to analyze %  c:\\Users\\rober\\Desktop\\Monkey-Emotions\\video\\gandalf_231205\\gandalf_231205_79_e3v831b.mp4\n",
      "Loading  c:\\Users\\rober\\Desktop\\Monkey-Emotions\\video\\gandalf_231205\\gandalf_231205_79_e3v831b.mp4\n",
      "Duration of video [s]:  11.15 , recorded with  120.0 fps!\n",
      "Overall # of frames:  1338  found with (before cropping) frame dimensions:  640 480\n",
      "Starting to extract posture\n"
     ]
    },
    {
     "name": "stderr",
     "output_type": "stream",
     "text": [
      "100%|██████████| 1338/1338 [04:20<00:00,  5.13it/s]\n"
     ]
    },
    {
     "name": "stdout",
     "output_type": "stream",
     "text": [
      "Saving results in c:\\Users\\rober\\Desktop\\Monkey-Emotions\\video\\gandalf_231205...\n",
      "Saving csv poses!\n",
      "Starting to analyze %  c:\\Users\\rober\\Desktop\\Monkey-Emotions\\video\\gandalf_231205\\gandalf_231205_80_e3v831b.mp4\n",
      "Loading  c:\\Users\\rober\\Desktop\\Monkey-Emotions\\video\\gandalf_231205\\gandalf_231205_80_e3v831b.mp4\n",
      "Duration of video [s]:  9.47 , recorded with  120.0 fps!\n",
      "Overall # of frames:  1136  found with (before cropping) frame dimensions:  640 480\n",
      "Starting to extract posture\n"
     ]
    },
    {
     "name": "stderr",
     "output_type": "stream",
     "text": [
      "100%|██████████| 1136/1136 [03:41<00:00,  5.13it/s]\n"
     ]
    },
    {
     "name": "stdout",
     "output_type": "stream",
     "text": [
      "Saving results in c:\\Users\\rober\\Desktop\\Monkey-Emotions\\video\\gandalf_231205...\n",
      "Saving csv poses!\n",
      "Starting to analyze %  c:\\Users\\rober\\Desktop\\Monkey-Emotions\\video\\gandalf_231205\\gandalf_231205_81_e3v831b.mp4\n",
      "Loading  c:\\Users\\rober\\Desktop\\Monkey-Emotions\\video\\gandalf_231205\\gandalf_231205_81_e3v831b.mp4\n",
      "Duration of video [s]:  14.44 , recorded with  120.0 fps!\n",
      "Overall # of frames:  1733  found with (before cropping) frame dimensions:  640 480\n",
      "Starting to extract posture\n"
     ]
    },
    {
     "name": "stderr",
     "output_type": "stream",
     "text": [
      "100%|██████████| 1733/1733 [05:36<00:00,  5.14it/s]\n"
     ]
    },
    {
     "name": "stdout",
     "output_type": "stream",
     "text": [
      "Saving results in c:\\Users\\rober\\Desktop\\Monkey-Emotions\\video\\gandalf_231205...\n",
      "Saving csv poses!\n",
      "Starting to analyze %  c:\\Users\\rober\\Desktop\\Monkey-Emotions\\video\\gandalf_231205\\gandalf_231205_82_e3v831b.mp4\n",
      "Loading  c:\\Users\\rober\\Desktop\\Monkey-Emotions\\video\\gandalf_231205\\gandalf_231205_82_e3v831b.mp4\n",
      "Duration of video [s]:  15.78 , recorded with  120.0 fps!\n",
      "Overall # of frames:  1893  found with (before cropping) frame dimensions:  640 480\n",
      "Starting to extract posture\n"
     ]
    },
    {
     "name": "stderr",
     "output_type": "stream",
     "text": [
      "100%|██████████| 1893/1893 [06:10<00:00,  5.11it/s]\n"
     ]
    },
    {
     "name": "stdout",
     "output_type": "stream",
     "text": [
      "Saving results in c:\\Users\\rober\\Desktop\\Monkey-Emotions\\video\\gandalf_231205...\n",
      "Saving csv poses!\n",
      "Starting to analyze %  c:\\Users\\rober\\Desktop\\Monkey-Emotions\\video\\gandalf_231205\\gandalf_231205_83_e3v831b.mp4\n",
      "Loading  c:\\Users\\rober\\Desktop\\Monkey-Emotions\\video\\gandalf_231205\\gandalf_231205_83_e3v831b.mp4\n",
      "Duration of video [s]:  14.49 , recorded with  120.0 fps!\n",
      "Overall # of frames:  1739  found with (before cropping) frame dimensions:  640 480\n",
      "Starting to extract posture\n"
     ]
    },
    {
     "name": "stderr",
     "output_type": "stream",
     "text": [
      "100%|██████████| 1739/1739 [05:38<00:00,  5.13it/s]\n"
     ]
    },
    {
     "name": "stdout",
     "output_type": "stream",
     "text": [
      "Saving results in c:\\Users\\rober\\Desktop\\Monkey-Emotions\\video\\gandalf_231205...\n",
      "Saving csv poses!\n",
      "Starting to analyze %  c:\\Users\\rober\\Desktop\\Monkey-Emotions\\video\\gandalf_231205\\gandalf_231205_84_e3v831b.mp4\n",
      "Loading  c:\\Users\\rober\\Desktop\\Monkey-Emotions\\video\\gandalf_231205\\gandalf_231205_84_e3v831b.mp4\n",
      "Duration of video [s]:  15.07 , recorded with  120.0 fps!\n",
      "Overall # of frames:  1809  found with (before cropping) frame dimensions:  640 480\n",
      "Starting to extract posture\n"
     ]
    },
    {
     "name": "stderr",
     "output_type": "stream",
     "text": [
      "100%|██████████| 1809/1809 [05:53<00:00,  5.11it/s]\n"
     ]
    },
    {
     "name": "stdout",
     "output_type": "stream",
     "text": [
      "Saving results in c:\\Users\\rober\\Desktop\\Monkey-Emotions\\video\\gandalf_231205...\n",
      "Saving csv poses!\n",
      "Starting to analyze %  c:\\Users\\rober\\Desktop\\Monkey-Emotions\\video\\gandalf_231205\\gandalf_231205_85_e3v831b.mp4\n",
      "Loading  c:\\Users\\rober\\Desktop\\Monkey-Emotions\\video\\gandalf_231205\\gandalf_231205_85_e3v831b.mp4\n",
      "Duration of video [s]:  18.66 , recorded with  120.0 fps!\n",
      "Overall # of frames:  2239  found with (before cropping) frame dimensions:  640 480\n",
      "Starting to extract posture\n"
     ]
    },
    {
     "name": "stderr",
     "output_type": "stream",
     "text": [
      "100%|██████████| 2239/2239 [07:15<00:00,  5.15it/s]\n"
     ]
    },
    {
     "name": "stdout",
     "output_type": "stream",
     "text": [
      "Saving results in c:\\Users\\rober\\Desktop\\Monkey-Emotions\\video\\gandalf_231205...\n",
      "Saving csv poses!\n",
      "Starting to analyze %  c:\\Users\\rober\\Desktop\\Monkey-Emotions\\video\\gandalf_231205\\gandalf_231205_86_e3v831b.mp4\n",
      "Loading  c:\\Users\\rober\\Desktop\\Monkey-Emotions\\video\\gandalf_231205\\gandalf_231205_86_e3v831b.mp4\n",
      "Duration of video [s]:  14.91 , recorded with  120.0 fps!\n",
      "Overall # of frames:  1789  found with (before cropping) frame dimensions:  640 480\n",
      "Starting to extract posture\n"
     ]
    },
    {
     "name": "stderr",
     "output_type": "stream",
     "text": [
      "100%|██████████| 1789/1789 [05:47<00:00,  5.14it/s]\n"
     ]
    },
    {
     "name": "stdout",
     "output_type": "stream",
     "text": [
      "Saving results in c:\\Users\\rober\\Desktop\\Monkey-Emotions\\video\\gandalf_231205...\n",
      "Saving csv poses!\n",
      "Starting to analyze %  c:\\Users\\rober\\Desktop\\Monkey-Emotions\\video\\gandalf_231205\\gandalf_231205_87_e3v831b.mp4\n",
      "Loading  c:\\Users\\rober\\Desktop\\Monkey-Emotions\\video\\gandalf_231205\\gandalf_231205_87_e3v831b.mp4\n",
      "Duration of video [s]:  21.98 , recorded with  120.0 fps!\n",
      "Overall # of frames:  2637  found with (before cropping) frame dimensions:  640 480\n",
      "Starting to extract posture\n"
     ]
    },
    {
     "name": "stderr",
     "output_type": "stream",
     "text": [
      "100%|██████████| 2637/2637 [08:30<00:00,  5.17it/s]\n"
     ]
    },
    {
     "name": "stdout",
     "output_type": "stream",
     "text": [
      "Saving results in c:\\Users\\rober\\Desktop\\Monkey-Emotions\\video\\gandalf_231205...\n",
      "Saving csv poses!\n",
      "Starting to analyze %  c:\\Users\\rober\\Desktop\\Monkey-Emotions\\video\\gandalf_231205\\gandalf_231205_88_e3v831b.mp4\n",
      "Loading  c:\\Users\\rober\\Desktop\\Monkey-Emotions\\video\\gandalf_231205\\gandalf_231205_88_e3v831b.mp4\n",
      "Duration of video [s]:  14.98 , recorded with  120.0 fps!\n",
      "Overall # of frames:  1798  found with (before cropping) frame dimensions:  640 480\n",
      "Starting to extract posture\n"
     ]
    },
    {
     "name": "stderr",
     "output_type": "stream",
     "text": [
      "100%|██████████| 1798/1798 [05:48<00:00,  5.16it/s]\n"
     ]
    },
    {
     "name": "stdout",
     "output_type": "stream",
     "text": [
      "Saving results in c:\\Users\\rober\\Desktop\\Monkey-Emotions\\video\\gandalf_231205...\n",
      "Saving csv poses!\n",
      "Starting to analyze %  c:\\Users\\rober\\Desktop\\Monkey-Emotions\\video\\gandalf_231205\\gandalf_231205_89_e3v831b.mp4\n",
      "Loading  c:\\Users\\rober\\Desktop\\Monkey-Emotions\\video\\gandalf_231205\\gandalf_231205_89_e3v831b.mp4\n",
      "Duration of video [s]:  14.57 , recorded with  120.0 fps!\n",
      "Overall # of frames:  1748  found with (before cropping) frame dimensions:  640 480\n",
      "Starting to extract posture\n"
     ]
    },
    {
     "name": "stderr",
     "output_type": "stream",
     "text": [
      "100%|██████████| 1748/1748 [05:39<00:00,  5.15it/s]\n"
     ]
    },
    {
     "name": "stdout",
     "output_type": "stream",
     "text": [
      "Saving results in c:\\Users\\rober\\Desktop\\Monkey-Emotions\\video\\gandalf_231205...\n",
      "Saving csv poses!\n",
      "Starting to analyze %  c:\\Users\\rober\\Desktop\\Monkey-Emotions\\video\\gandalf_231205\\gandalf_231205_90_e3v831b.mp4\n",
      "Loading  c:\\Users\\rober\\Desktop\\Monkey-Emotions\\video\\gandalf_231205\\gandalf_231205_90_e3v831b.mp4\n",
      "Duration of video [s]:  11.75 , recorded with  120.0 fps!\n",
      "Overall # of frames:  1410  found with (before cropping) frame dimensions:  640 480\n",
      "Starting to extract posture\n"
     ]
    },
    {
     "name": "stderr",
     "output_type": "stream",
     "text": [
      "100%|██████████| 1410/1410 [04:34<00:00,  5.13it/s]\n"
     ]
    },
    {
     "name": "stdout",
     "output_type": "stream",
     "text": [
      "Saving results in c:\\Users\\rober\\Desktop\\Monkey-Emotions\\video\\gandalf_231205...\n",
      "Saving csv poses!\n",
      "Starting to analyze %  c:\\Users\\rober\\Desktop\\Monkey-Emotions\\video\\gandalf_231205\\gandalf_231205_91_e3v831b.mp4\n",
      "Loading  c:\\Users\\rober\\Desktop\\Monkey-Emotions\\video\\gandalf_231205\\gandalf_231205_91_e3v831b.mp4\n",
      "Duration of video [s]:  50.73 , recorded with  120.0 fps!\n",
      "Overall # of frames:  6088  found with (before cropping) frame dimensions:  640 480\n",
      "Starting to extract posture\n"
     ]
    },
    {
     "name": "stderr",
     "output_type": "stream",
     "text": [
      "100%|██████████| 6088/6088 [19:44<00:00,  5.14it/s]\n"
     ]
    },
    {
     "name": "stdout",
     "output_type": "stream",
     "text": [
      "Saving results in c:\\Users\\rober\\Desktop\\Monkey-Emotions\\video\\gandalf_231205...\n",
      "Saving csv poses!\n",
      "Starting to analyze %  c:\\Users\\rober\\Desktop\\Monkey-Emotions\\video\\gandalf_231205\\gandalf_231205_92_e3v831b.mp4\n",
      "Loading  c:\\Users\\rober\\Desktop\\Monkey-Emotions\\video\\gandalf_231205\\gandalf_231205_92_e3v831b.mp4\n",
      "Duration of video [s]:  46.36 , recorded with  120.0 fps!\n",
      "Overall # of frames:  5563  found with (before cropping) frame dimensions:  640 480\n",
      "Starting to extract posture\n"
     ]
    },
    {
     "name": "stderr",
     "output_type": "stream",
     "text": [
      "100%|██████████| 5563/5563 [17:58<00:00,  5.16it/s]\n"
     ]
    },
    {
     "name": "stdout",
     "output_type": "stream",
     "text": [
      "Saving results in c:\\Users\\rober\\Desktop\\Monkey-Emotions\\video\\gandalf_231205...\n",
      "Saving csv poses!\n",
      "Starting to analyze %  c:\\Users\\rober\\Desktop\\Monkey-Emotions\\video\\gandalf_231205\\gandalf_231205_93_e3v831b.mp4\n",
      "Loading  c:\\Users\\rober\\Desktop\\Monkey-Emotions\\video\\gandalf_231205\\gandalf_231205_93_e3v831b.mp4\n",
      "Duration of video [s]:  14.84 , recorded with  120.0 fps!\n",
      "Overall # of frames:  1781  found with (before cropping) frame dimensions:  640 480\n",
      "Starting to extract posture\n"
     ]
    },
    {
     "name": "stderr",
     "output_type": "stream",
     "text": [
      "100%|██████████| 1781/1781 [05:46<00:00,  5.14it/s]\n"
     ]
    },
    {
     "name": "stdout",
     "output_type": "stream",
     "text": [
      "Saving results in c:\\Users\\rober\\Desktop\\Monkey-Emotions\\video\\gandalf_231205...\n",
      "Saving csv poses!\n",
      "Starting to analyze %  c:\\Users\\rober\\Desktop\\Monkey-Emotions\\video\\gandalf_231205\\gandalf_231205_94_e3v831b.mp4\n",
      "Loading  c:\\Users\\rober\\Desktop\\Monkey-Emotions\\video\\gandalf_231205\\gandalf_231205_94_e3v831b.mp4\n",
      "Duration of video [s]:  13.83 , recorded with  120.0 fps!\n",
      "Overall # of frames:  1660  found with (before cropping) frame dimensions:  640 480\n",
      "Starting to extract posture\n"
     ]
    },
    {
     "name": "stderr",
     "output_type": "stream",
     "text": [
      "100%|██████████| 1660/1660 [05:23<00:00,  5.13it/s]\n"
     ]
    },
    {
     "name": "stdout",
     "output_type": "stream",
     "text": [
      "Saving results in c:\\Users\\rober\\Desktop\\Monkey-Emotions\\video\\gandalf_231205...\n",
      "Saving csv poses!\n",
      "Starting to analyze %  c:\\Users\\rober\\Desktop\\Monkey-Emotions\\video\\gandalf_231205\\gandalf_231205_95_e3v831b.mp4\n",
      "Loading  c:\\Users\\rober\\Desktop\\Monkey-Emotions\\video\\gandalf_231205\\gandalf_231205_95_e3v831b.mp4\n",
      "Duration of video [s]:  14.85 , recorded with  120.0 fps!\n",
      "Overall # of frames:  1782  found with (before cropping) frame dimensions:  640 480\n",
      "Starting to extract posture\n"
     ]
    },
    {
     "name": "stderr",
     "output_type": "stream",
     "text": [
      "100%|██████████| 1782/1782 [05:47<00:00,  5.13it/s]\n"
     ]
    },
    {
     "name": "stdout",
     "output_type": "stream",
     "text": [
      "Saving results in c:\\Users\\rober\\Desktop\\Monkey-Emotions\\video\\gandalf_231205...\n",
      "Saving csv poses!\n",
      "Starting to analyze %  c:\\Users\\rober\\Desktop\\Monkey-Emotions\\video\\gandalf_231205\\gandalf_231205_96_e3v831b.mp4\n",
      "Loading  c:\\Users\\rober\\Desktop\\Monkey-Emotions\\video\\gandalf_231205\\gandalf_231205_96_e3v831b.mp4\n",
      "Duration of video [s]:  15.21 , recorded with  120.0 fps!\n",
      "Overall # of frames:  1825  found with (before cropping) frame dimensions:  640 480\n",
      "Starting to extract posture\n"
     ]
    },
    {
     "name": "stderr",
     "output_type": "stream",
     "text": [
      "100%|██████████| 1825/1825 [05:56<00:00,  5.12it/s]\n"
     ]
    },
    {
     "name": "stdout",
     "output_type": "stream",
     "text": [
      "Saving results in c:\\Users\\rober\\Desktop\\Monkey-Emotions\\video\\gandalf_231205...\n",
      "Saving csv poses!\n",
      "Starting to analyze %  c:\\Users\\rober\\Desktop\\Monkey-Emotions\\video\\gandalf_231205\\gandalf_231205_97_e3v831b.mp4\n",
      "Loading  c:\\Users\\rober\\Desktop\\Monkey-Emotions\\video\\gandalf_231205\\gandalf_231205_97_e3v831b.mp4\n",
      "Duration of video [s]:  17.49 , recorded with  120.0 fps!\n",
      "Overall # of frames:  2099  found with (before cropping) frame dimensions:  640 480\n",
      "Starting to extract posture\n"
     ]
    },
    {
     "name": "stderr",
     "output_type": "stream",
     "text": [
      "100%|██████████| 2099/2099 [06:50<00:00,  5.11it/s]\n"
     ]
    },
    {
     "name": "stdout",
     "output_type": "stream",
     "text": [
      "Saving results in c:\\Users\\rober\\Desktop\\Monkey-Emotions\\video\\gandalf_231205...\n",
      "Saving csv poses!\n",
      "Starting to analyze %  c:\\Users\\rober\\Desktop\\Monkey-Emotions\\video\\gandalf_231205\\gandalf_231205_98_e3v831b.mp4\n",
      "Loading  c:\\Users\\rober\\Desktop\\Monkey-Emotions\\video\\gandalf_231205\\gandalf_231205_98_e3v831b.mp4\n",
      "Duration of video [s]:  15.53 , recorded with  120.0 fps!\n",
      "Overall # of frames:  1864  found with (before cropping) frame dimensions:  640 480\n",
      "Starting to extract posture\n"
     ]
    },
    {
     "name": "stderr",
     "output_type": "stream",
     "text": [
      "100%|██████████| 1864/1864 [06:02<00:00,  5.15it/s]\n"
     ]
    },
    {
     "name": "stdout",
     "output_type": "stream",
     "text": [
      "Saving results in c:\\Users\\rober\\Desktop\\Monkey-Emotions\\video\\gandalf_231205...\n",
      "Saving csv poses!\n",
      "Starting to analyze %  c:\\Users\\rober\\Desktop\\Monkey-Emotions\\video\\gandalf_231205\\gandalf_231205_99_e3v831b.mp4\n",
      "Loading  c:\\Users\\rober\\Desktop\\Monkey-Emotions\\video\\gandalf_231205\\gandalf_231205_99_e3v831b.mp4\n",
      "Duration of video [s]:  16.98 , recorded with  120.0 fps!\n",
      "Overall # of frames:  2037  found with (before cropping) frame dimensions:  640 480\n",
      "Starting to extract posture\n"
     ]
    },
    {
     "name": "stderr",
     "output_type": "stream",
     "text": [
      "100%|██████████| 2037/2037 [06:36<00:00,  5.14it/s]\n"
     ]
    },
    {
     "name": "stdout",
     "output_type": "stream",
     "text": [
      "Saving results in c:\\Users\\rober\\Desktop\\Monkey-Emotions\\video\\gandalf_231205...\n",
      "Saving csv poses!\n",
      "Starting to analyze %  c:\\Users\\rober\\Desktop\\Monkey-Emotions\\video\\gandalf_231205\\gandalf_231205_100_e3v831b.mp4\n",
      "Loading  c:\\Users\\rober\\Desktop\\Monkey-Emotions\\video\\gandalf_231205\\gandalf_231205_100_e3v831b.mp4\n",
      "Duration of video [s]:  10.97 , recorded with  120.0 fps!\n",
      "Overall # of frames:  1316  found with (before cropping) frame dimensions:  640 480\n",
      "Starting to extract posture\n"
     ]
    },
    {
     "name": "stderr",
     "output_type": "stream",
     "text": [
      "100%|██████████| 1316/1316 [04:17<00:00,  5.10it/s]\n"
     ]
    },
    {
     "name": "stdout",
     "output_type": "stream",
     "text": [
      "Saving results in c:\\Users\\rober\\Desktop\\Monkey-Emotions\\video\\gandalf_231205...\n",
      "Saving csv poses!\n",
      "Starting to analyze %  c:\\Users\\rober\\Desktop\\Monkey-Emotions\\video\\gandalf_231205\\gandalf_231205_101_e3v831b.mp4\n",
      "Loading  c:\\Users\\rober\\Desktop\\Monkey-Emotions\\video\\gandalf_231205\\gandalf_231205_101_e3v831b.mp4\n",
      "Duration of video [s]:  18.77 , recorded with  120.0 fps!\n",
      "Overall # of frames:  2253  found with (before cropping) frame dimensions:  640 480\n",
      "Starting to extract posture\n"
     ]
    },
    {
     "name": "stderr",
     "output_type": "stream",
     "text": [
      "100%|██████████| 2253/2253 [07:24<00:00,  5.06it/s]\n"
     ]
    },
    {
     "name": "stdout",
     "output_type": "stream",
     "text": [
      "Saving results in c:\\Users\\rober\\Desktop\\Monkey-Emotions\\video\\gandalf_231205...\n",
      "Saving csv poses!\n",
      "Starting to analyze %  c:\\Users\\rober\\Desktop\\Monkey-Emotions\\video\\gandalf_231205\\gandalf_231205_102_e3v831b.mp4\n",
      "Loading  c:\\Users\\rober\\Desktop\\Monkey-Emotions\\video\\gandalf_231205\\gandalf_231205_102_e3v831b.mp4\n",
      "Duration of video [s]:  13.08 , recorded with  120.0 fps!\n",
      "Overall # of frames:  1570  found with (before cropping) frame dimensions:  640 480\n",
      "Starting to extract posture\n"
     ]
    },
    {
     "name": "stderr",
     "output_type": "stream",
     "text": [
      "100%|██████████| 1570/1570 [05:06<00:00,  5.12it/s]\n"
     ]
    },
    {
     "name": "stdout",
     "output_type": "stream",
     "text": [
      "Saving results in c:\\Users\\rober\\Desktop\\Monkey-Emotions\\video\\gandalf_231205...\n",
      "Saving csv poses!\n",
      "Starting to analyze %  c:\\Users\\rober\\Desktop\\Monkey-Emotions\\video\\gandalf_231205\\gandalf_231205_103_e3v831b.mp4\n",
      "Loading  c:\\Users\\rober\\Desktop\\Monkey-Emotions\\video\\gandalf_231205\\gandalf_231205_103_e3v831b.mp4\n",
      "Duration of video [s]:  13.87 , recorded with  120.0 fps!\n",
      "Overall # of frames:  1664  found with (before cropping) frame dimensions:  640 480\n",
      "Starting to extract posture\n"
     ]
    },
    {
     "name": "stderr",
     "output_type": "stream",
     "text": [
      "100%|██████████| 1664/1664 [05:23<00:00,  5.14it/s]\n"
     ]
    },
    {
     "name": "stdout",
     "output_type": "stream",
     "text": [
      "Saving results in c:\\Users\\rober\\Desktop\\Monkey-Emotions\\video\\gandalf_231205...\n",
      "Saving csv poses!\n",
      "Starting to analyze %  c:\\Users\\rober\\Desktop\\Monkey-Emotions\\video\\gandalf_231205\\gandalf_231205_104_e3v831b.mp4\n",
      "Loading  c:\\Users\\rober\\Desktop\\Monkey-Emotions\\video\\gandalf_231205\\gandalf_231205_104_e3v831b.mp4\n",
      "Duration of video [s]:  16.52 , recorded with  120.0 fps!\n",
      "Overall # of frames:  1983  found with (before cropping) frame dimensions:  640 480\n",
      "Starting to extract posture\n"
     ]
    },
    {
     "name": "stderr",
     "output_type": "stream",
     "text": [
      "100%|██████████| 1983/1983 [06:26<00:00,  5.13it/s]\n"
     ]
    },
    {
     "name": "stdout",
     "output_type": "stream",
     "text": [
      "Saving results in c:\\Users\\rober\\Desktop\\Monkey-Emotions\\video\\gandalf_231205...\n",
      "Saving csv poses!\n",
      "Starting to analyze %  c:\\Users\\rober\\Desktop\\Monkey-Emotions\\video\\gandalf_231205\\gandalf_231205_105_e3v831b.mp4\n",
      "Loading  c:\\Users\\rober\\Desktop\\Monkey-Emotions\\video\\gandalf_231205\\gandalf_231205_105_e3v831b.mp4\n",
      "Duration of video [s]:  20.24 , recorded with  120.0 fps!\n",
      "Overall # of frames:  2429  found with (before cropping) frame dimensions:  640 480\n",
      "Starting to extract posture\n"
     ]
    },
    {
     "name": "stderr",
     "output_type": "stream",
     "text": [
      "100%|██████████| 2429/2429 [07:53<00:00,  5.12it/s]\n"
     ]
    },
    {
     "name": "stdout",
     "output_type": "stream",
     "text": [
      "Saving results in c:\\Users\\rober\\Desktop\\Monkey-Emotions\\video\\gandalf_231205...\n",
      "Saving csv poses!\n",
      "Starting to analyze %  c:\\Users\\rober\\Desktop\\Monkey-Emotions\\video\\gandalf_231205\\gandalf_231205_106_e3v831b.mp4\n",
      "Loading  c:\\Users\\rober\\Desktop\\Monkey-Emotions\\video\\gandalf_231205\\gandalf_231205_106_e3v831b.mp4\n",
      "Duration of video [s]:  17.76 , recorded with  120.0 fps!\n",
      "Overall # of frames:  2131  found with (before cropping) frame dimensions:  640 480\n",
      "Starting to extract posture\n"
     ]
    },
    {
     "name": "stderr",
     "output_type": "stream",
     "text": [
      "100%|██████████| 2131/2131 [06:55<00:00,  5.13it/s]\n"
     ]
    },
    {
     "name": "stdout",
     "output_type": "stream",
     "text": [
      "Saving results in c:\\Users\\rober\\Desktop\\Monkey-Emotions\\video\\gandalf_231205...\n",
      "Saving csv poses!\n",
      "Starting to analyze %  c:\\Users\\rober\\Desktop\\Monkey-Emotions\\video\\gandalf_231205\\gandalf_231205_107_e3v831b.mp4\n",
      "Loading  c:\\Users\\rober\\Desktop\\Monkey-Emotions\\video\\gandalf_231205\\gandalf_231205_107_e3v831b.mp4\n",
      "Duration of video [s]:  12.0 , recorded with  120.0 fps!\n",
      "Overall # of frames:  1440  found with (before cropping) frame dimensions:  640 480\n",
      "Starting to extract posture\n"
     ]
    },
    {
     "name": "stderr",
     "output_type": "stream",
     "text": [
      "100%|██████████| 1440/1440 [04:41<00:00,  5.11it/s]\n"
     ]
    },
    {
     "name": "stdout",
     "output_type": "stream",
     "text": [
      "Saving results in c:\\Users\\rober\\Desktop\\Monkey-Emotions\\video\\gandalf_231205...\n",
      "Saving csv poses!\n",
      "Starting to analyze %  c:\\Users\\rober\\Desktop\\Monkey-Emotions\\video\\gandalf_231205\\gandalf_231205_108_e3v831b.mp4\n",
      "Loading  c:\\Users\\rober\\Desktop\\Monkey-Emotions\\video\\gandalf_231205\\gandalf_231205_108_e3v831b.mp4\n",
      "Duration of video [s]:  16.04 , recorded with  120.0 fps!\n",
      "Overall # of frames:  1925  found with (before cropping) frame dimensions:  640 480\n",
      "Starting to extract posture\n"
     ]
    },
    {
     "name": "stderr",
     "output_type": "stream",
     "text": [
      "100%|██████████| 1925/1925 [06:15<00:00,  5.13it/s]\n"
     ]
    },
    {
     "name": "stdout",
     "output_type": "stream",
     "text": [
      "Saving results in c:\\Users\\rober\\Desktop\\Monkey-Emotions\\video\\gandalf_231205...\n",
      "Saving csv poses!\n",
      "Starting to analyze %  c:\\Users\\rober\\Desktop\\Monkey-Emotions\\video\\gandalf_231205\\gandalf_231205_109_e3v831b.mp4\n",
      "Loading  c:\\Users\\rober\\Desktop\\Monkey-Emotions\\video\\gandalf_231205\\gandalf_231205_109_e3v831b.mp4\n",
      "Duration of video [s]:  15.6 , recorded with  120.0 fps!\n",
      "Overall # of frames:  1872  found with (before cropping) frame dimensions:  640 480\n",
      "Starting to extract posture\n"
     ]
    },
    {
     "name": "stderr",
     "output_type": "stream",
     "text": [
      "100%|██████████| 1872/1872 [06:03<00:00,  5.15it/s]\n"
     ]
    },
    {
     "name": "stdout",
     "output_type": "stream",
     "text": [
      "Saving results in c:\\Users\\rober\\Desktop\\Monkey-Emotions\\video\\gandalf_231205...\n",
      "Saving csv poses!\n",
      "Starting to analyze %  c:\\Users\\rober\\Desktop\\Monkey-Emotions\\video\\gandalf_231205\\gandalf_231205_110_e3v831b.mp4\n",
      "Loading  c:\\Users\\rober\\Desktop\\Monkey-Emotions\\video\\gandalf_231205\\gandalf_231205_110_e3v831b.mp4\n",
      "Duration of video [s]:  21.24 , recorded with  120.0 fps!\n",
      "Overall # of frames:  2549  found with (before cropping) frame dimensions:  640 480\n",
      "Starting to extract posture\n"
     ]
    },
    {
     "name": "stderr",
     "output_type": "stream",
     "text": [
      "100%|██████████| 2549/2549 [08:17<00:00,  5.12it/s]\n"
     ]
    },
    {
     "name": "stdout",
     "output_type": "stream",
     "text": [
      "Saving results in c:\\Users\\rober\\Desktop\\Monkey-Emotions\\video\\gandalf_231205...\n",
      "Saving csv poses!\n",
      "Starting to analyze %  c:\\Users\\rober\\Desktop\\Monkey-Emotions\\video\\gandalf_231205\\gandalf_231205_111_e3v831b.mp4\n",
      "Loading  c:\\Users\\rober\\Desktop\\Monkey-Emotions\\video\\gandalf_231205\\gandalf_231205_111_e3v831b.mp4\n",
      "Duration of video [s]:  51.55 , recorded with  120.0 fps!\n",
      "Overall # of frames:  6186  found with (before cropping) frame dimensions:  640 480\n",
      "Starting to extract posture\n"
     ]
    },
    {
     "name": "stderr",
     "output_type": "stream",
     "text": [
      "100%|██████████| 6186/6186 [20:06<00:00,  5.13it/s]\n"
     ]
    },
    {
     "name": "stdout",
     "output_type": "stream",
     "text": [
      "Saving results in c:\\Users\\rober\\Desktop\\Monkey-Emotions\\video\\gandalf_231205...\n",
      "Saving csv poses!\n",
      "Starting to analyze %  c:\\Users\\rober\\Desktop\\Monkey-Emotions\\video\\gandalf_231205\\gandalf_231205_112_e3v831b.mp4\n",
      "Loading  c:\\Users\\rober\\Desktop\\Monkey-Emotions\\video\\gandalf_231205\\gandalf_231205_112_e3v831b.mp4\n",
      "Duration of video [s]:  18.05 , recorded with  120.0 fps!\n",
      "Overall # of frames:  2166  found with (before cropping) frame dimensions:  640 480\n",
      "Starting to extract posture\n"
     ]
    },
    {
     "name": "stderr",
     "output_type": "stream",
     "text": [
      "100%|██████████| 2166/2166 [07:02<00:00,  5.13it/s]\n"
     ]
    },
    {
     "name": "stdout",
     "output_type": "stream",
     "text": [
      "Saving results in c:\\Users\\rober\\Desktop\\Monkey-Emotions\\video\\gandalf_231205...\n",
      "Saving csv poses!\n",
      "Starting to analyze %  c:\\Users\\rober\\Desktop\\Monkey-Emotions\\video\\gandalf_231205\\gandalf_231205_113_e3v831b.mp4\n",
      "Loading  c:\\Users\\rober\\Desktop\\Monkey-Emotions\\video\\gandalf_231205\\gandalf_231205_113_e3v831b.mp4\n",
      "Duration of video [s]:  15.09 , recorded with  120.0 fps!\n",
      "Overall # of frames:  1811  found with (before cropping) frame dimensions:  640 480\n",
      "Starting to extract posture\n"
     ]
    },
    {
     "name": "stderr",
     "output_type": "stream",
     "text": [
      "100%|██████████| 1811/1811 [05:50<00:00,  5.16it/s]\n"
     ]
    },
    {
     "name": "stdout",
     "output_type": "stream",
     "text": [
      "Saving results in c:\\Users\\rober\\Desktop\\Monkey-Emotions\\video\\gandalf_231205...\n",
      "Saving csv poses!\n",
      "Starting to analyze %  c:\\Users\\rober\\Desktop\\Monkey-Emotions\\video\\gandalf_231205\\gandalf_231205_114_e3v831b.mp4\n",
      "Loading  c:\\Users\\rober\\Desktop\\Monkey-Emotions\\video\\gandalf_231205\\gandalf_231205_114_e3v831b.mp4\n",
      "Duration of video [s]:  51.2 , recorded with  120.0 fps!\n",
      "Overall # of frames:  6144  found with (before cropping) frame dimensions:  640 480\n",
      "Starting to extract posture\n"
     ]
    },
    {
     "name": "stderr",
     "output_type": "stream",
     "text": [
      " 88%|████████▊ | 5384/6144 [17:25<02:34,  4.91it/s]"
     ]
    }
   ],
   "source": [
    "# Run DLC\n",
    "dlc_config.dlc_run(config_path_dict, dlc_video_path_dict, \n",
    "                   start_video=0, end_video=None, videotype='mp4')"
   ]
  },
  {
   "cell_type": "markdown",
   "metadata": {},
   "source": [
    "***\n",
    "## Generate MonkeyLogic Behavior Trial Videos"
   ]
  },
  {
   "cell_type": "code",
   "execution_count": 56,
   "metadata": {},
   "outputs": [
    {
     "name": "stdout",
     "output_type": "stream",
     "text": [
      "Generating video for trial 1\n",
      "Generating frames for trial 1 from 0 to 12264\n"
     ]
    },
    {
     "data": {
      "application/vnd.jupyter.widget-view+json": {
       "model_id": "b197b46cdc284a5487713d2099d547a6",
       "version_major": 2,
       "version_minor": 0
      },
      "text/plain": [
       "Trial 1 frame:   0%|          | 0/12264 [00:00<?, ?it/s]"
      ]
     },
     "metadata": {},
     "output_type": "display_data"
    },
    {
     "name": "stdout",
     "output_type": "stream",
     "text": [
      "Deleting existing video: /Users/rahimhashim/Desktop/Monkey-Emotions/video/gandalf_231004/eye_0000.mp4\n",
      "Saving video to: /Users/rahimhashim/Desktop/Monkey-Emotions/video/gandalf_231004/eye_0000.mp4\n"
     ]
    },
    {
     "data": {
      "application/vnd.jupyter.widget-view+json": {
       "model_id": "1026cac629bf47bdbf18a4aa63052e8c",
       "version_major": 2,
       "version_minor": 0
      },
      "text/plain": [
       "Trial 0 eye:   0%|          | 0/12264 [00:00<?, ?it/s]"
      ]
     },
     "metadata": {},
     "output_type": "display_data"
    },
    {
     "name": "stdout",
     "output_type": "stream",
     "text": [
      "Deleting existing video: /Users/rahimhashim/Desktop/Monkey-Emotions/video/gandalf_231004/lick_0000.mp4\n",
      "Saving video to: /Users/rahimhashim/Desktop/Monkey-Emotions/video/gandalf_231004/lick_0000.mp4\n"
     ]
    },
    {
     "data": {
      "application/vnd.jupyter.widget-view+json": {
       "model_id": "f172ec46909c42e9af08331e42876687",
       "version_major": 2,
       "version_minor": 0
      },
      "text/plain": [
       "Trial 0 lick:   0%|          | 0/12264 [00:00<?, ?it/s]"
      ]
     },
     "metadata": {},
     "output_type": "display_data"
    },
    {
     "name": "stdout",
     "output_type": "stream",
     "text": [
      "Deleting image folder: /Users/rahimhashim/Desktop/Monkey-Emotions/video/gandalf_231004/trial_0\n"
     ]
    },
    {
     "ename": "TypeError",
     "evalue": "'recursive' is an invalid keyword argument for rmdir()",
     "output_type": "error",
     "traceback": [
      "\u001b[0;31m---------------------------------------------------------------------------\u001b[0m",
      "\u001b[0;31mTypeError\u001b[0m                                 Traceback (most recent call last)",
      "\u001b[1;32m/Users/rahimhashim/Desktop/Monkey-Emotions/data_preprocessing.ipynb Cell 21\u001b[0m line \u001b[0;36m3\n\u001b[1;32m      <a href='vscode-notebook-cell:/Users/rahimhashim/Desktop/Monkey-Emotions/data_preprocessing.ipynb#X25sZmlsZQ%3D%3D?line=0'>1</a>\u001b[0m \u001b[39mfrom\u001b[39;00m \u001b[39mvideo\u001b[39;00m\u001b[39m.\u001b[39;00m\u001b[39mml_videos\u001b[39;00m \u001b[39mimport\u001b[39;00m generate_ml_behavior_videos\n\u001b[1;32m      <a href='vscode-notebook-cell:/Users/rahimhashim/Desktop/Monkey-Emotions/data_preprocessing.ipynb#X25sZmlsZQ%3D%3D?line=1'>2</a>\u001b[0m trial_num_selected \u001b[39m=\u001b[39m \u001b[39m1\u001b[39m\n\u001b[0;32m----> <a href='vscode-notebook-cell:/Users/rahimhashim/Desktop/Monkey-Emotions/data_preprocessing.ipynb#X25sZmlsZQ%3D%3D?line=2'>3</a>\u001b[0m generate_ml_behavior_videos(session_obj\u001b[39m.\u001b[39;49mdf, session_obj, trial_num_selected, epoch_start, epoch_end)\n",
      "File \u001b[0;32m~/Desktop/Monkey-Emotions/video/ml_videos.py:95\u001b[0m, in \u001b[0;36mgenerate_ml_behavior_videos\u001b[0;34m(session_df, session_obj, trial_num, epoch_start, epoch_end)\u001b[0m\n\u001b[1;32m     93\u001b[0m \u001b[39m# delete image folder\u001b[39;00m\n\u001b[1;32m     94\u001b[0m \u001b[39mprint\u001b[39m(\u001b[39m'\u001b[39m\u001b[39mDeleting image folder: \u001b[39m\u001b[39m{}\u001b[39;00m\u001b[39m'\u001b[39m\u001b[39m.\u001b[39mformat(source_folder_path))\n\u001b[0;32m---> 95\u001b[0m os\u001b[39m.\u001b[39mrmdir(source_folder_path, recursive\u001b[39m=\u001b[39m\u001b[39mTrue\u001b[39;00m)\n",
      "\u001b[0;31mTypeError\u001b[0m: 'recursive' is an invalid keyword argument for rmdir()"
     ]
    }
   ],
   "source": [
    "from video.ml_videos import generate_ml_behavior_videos\n",
    "trial_num_selected = 1\n",
    "generate_ml_behavior_videos(session_obj.df, session_obj, trial_num_selected, epoch_start, epoch_end)"
   ]
  },
  {
   "cell_type": "code",
   "execution_count": null,
   "metadata": {},
   "outputs": [],
   "source": []
  }
 ],
 "metadata": {
  "kernelspec": {
   "display_name": "facial-recognition",
   "language": "python",
   "name": "python3"
  },
  "language_info": {
   "codemirror_mode": {
    "name": "ipython",
    "version": 3
   },
   "file_extension": ".py",
   "mimetype": "text/x-python",
   "name": "python",
   "nbconvert_exporter": "python",
   "pygments_lexer": "ipython3",
   "version": "3.9.18"
  },
  "orig_nbformat": 4
 },
 "nbformat": 4,
 "nbformat_minor": 2
}
