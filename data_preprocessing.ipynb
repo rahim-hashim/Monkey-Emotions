{
 "cells": [
  {
   "cell_type": "markdown",
   "metadata": {},
   "source": [
    "# Data Preprocessing\n",
    "#### Run this script to proprocess all the data that will be coming in from one, many, or all of the following sources:\n",
    "1. **MonkeyLogic:** (.bhv2 | .h5) behavior data *[500 or 1000Hz]*\n",
    "  > * Photodiode data\n",
    "  > * White Matter Camera Sync analog data (if applicable)\n",
    "  > * White Matter Camera Save analog data (if applicable)\n",
    "2. **SpikeGLX:** (.meta & .bin) duplicates of analog data *[20000-30000Hz]*\n",
    "  > * Photodiode data (split from ML)\n",
    "  > * White Matter Camera Sync analog data (if applicable)\n",
    "  > * White Matter Camera Save analog data (if applicable)\n",
    "3. **WhiteMatter:** (.mp4 | .avi) video files *[60-120 fps]*\n",
    "***"
   ]
  },
  {
   "cell_type": "markdown",
   "metadata": {},
   "source": [
    "## Find Files\n",
    "`FileContainer` will hold the relevant files listed above. <br>\n",
    "* Specify `ROOT_DIR` to set the directory when prompted to select the files.\n",
    "* `WARNING` printed if dates and monkeys not aligned across files"
   ]
  },
  {
   "cell_type": "code",
   "execution_count": 3,
   "metadata": {},
   "outputs": [
    {
     "name": "stdout",
     "output_type": "stream",
     "text": [
      "The autoreload extension is already loaded. To reload it, use:\n",
      "  %reload_ext autoreload\n",
      "Select .bhv2/.h5 behavior file (i.e. 230927_Aragorn_choice.h5)\n",
      "Behavior file selected: G:/.shortcut-targets-by-id/1weRx7ojG3amil91WgRMeTUVxse__Rsyt/rhAirpuff/231023/231023_Gandalf_UnityVR.h5\n",
      "  MonkeyLogic Date: 231023\n",
      "  MonkeyLogic Monkey: gandalf\n",
      "Select directory containing White Matter video files (i.e. 230927_Aragorn)\n",
      "Video files directory selected: G:/.shortcut-targets-by-id/1weRx7ojG3amil91WgRMeTUVxse__Rsyt/rhAirpuff/231023/231023_Gandalf\n",
      "  White Matter Video Date: 231023\n",
      "  White Matter Video Monkey: gandalf\n",
      "Select directory containing SpikeGLX files\n",
      "SpikeGLX files directory selected: G:/.shortcut-targets-by-id/1weRx7ojG3amil91WgRMeTUVxse__Rsyt/rhAirpuff/231023/gandalf_20231023_g0\n",
      "  SpikeGLX Date: 231023\n",
      "  SpikeGLX Monkey: gandalf\n",
      "\n"
     ]
    }
   ],
   "source": [
    "%load_ext autoreload\n",
    "%autoreload 2\n",
    "import re\n",
    "import os\n",
    "import sys\n",
    "import cv2\n",
    "import math\n",
    "import numpy as np\n",
    "import pandas as pd\n",
    "from PIL import Image\n",
    "from pathlib import Path\n",
    "from pprint import pprint\n",
    "from tqdm.auto import tqdm\n",
    "import matplotlib.pyplot as plt\n",
    "from collections import defaultdict\n",
    "# Custom classes\n",
    "from classes.FileContainer import FileContainer\n",
    "from classes.SpikeGLX import SpikeGLX\n",
    "# Custom functions\n",
    "from spike_glx import read_SGLX\n",
    "\n",
    "# pandas options\n",
    "pd.options.mode.chained_assignment = None  # default='warn'\n",
    "pd.set_option('display.max_columns', None)\n",
    "\n",
    "ROOT_DIR = '/Users/rahimhashim/My Drive/Columbia/Salzman/Monkey-Training/tasks'\n",
    "file_container_obj = FileContainer(ROOT_DIR)"
   ]
  },
  {
   "cell_type": "markdown",
   "metadata": {},
   "source": [
    "***\n",
    "## Convert MonkeyLogic File to Pandas\n",
    "In order to run the behavior files through the preprocessing pipeline, we'll need to convert the MonkeyLogic file (either `.bhv2` or `.h5`) into a Session object which contains the following relevant attributes:\n",
    "> * `session_obj.df`: pandas DataFrame with columns:\n",
    ">   * `'photodiode'`: photodiode signal\n",
    ">   * `'Gen2'`: WM sync signal\n",
    ">   * `'Gen3'`: WM save signal\n",
    "> * `'session_obj.video_path'`: directory of WM videos\n",
    "> * `session_obj.monkey`: monkey name\n",
    "> * `session_obj.date`: date of session (<YYMMDD>)"
   ]
  },
  {
   "cell_type": "code",
   "execution_count": 4,
   "metadata": {},
   "outputs": [
    {
     "name": "stdout",
     "output_type": "stream",
     "text": [
      "Parsing .h5 file...\n",
      "Total number of trials: 329\n",
      "Parsing session data...\n"
     ]
    },
    {
     "data": {
      "application/vnd.jupyter.widget-view+json": {
       "model_id": "03fef04844d746c985af97a75ec118ea",
       "version_major": 2,
       "version_minor": 0
      },
      "text/plain": [
       "  0%|          | 0/329 [00:00<?, ?it/s]"
      ]
     },
     "metadata": {},
     "output_type": "display_data"
    },
    {
     "name": "stdout",
     "output_type": "stream",
     "text": [
      "  Complete.\n",
      "    Correct trials: 216\n",
      "    Errored trials: 113\n",
      "    Session Length:  01:35:15\n",
      "Creating Session Objects...\n",
      "Lick threshold: 2.53 mV\n",
      "Adding additional fields to session_df DataFrame...\n",
      "   No reward magnitude column found, skipping valence assignment...\n",
      "   No fractal column found, skipping fractal count...\n",
      "   No blink window column found, skipping blink window...\n",
      "   No pupil column found, skipping pupil pre-CS...\n",
      "   No lick window column found, skipping lick window...\n",
      "   No blink window column found, skipping blink window...\n",
      "   No lick duration column found, skipping lick duration...\n",
      "   No blink duration column found, skipping blink duration...\n",
      "   No blink duration column found, skipping blink duration...\n",
      "   No eye distance column found, skipping eye distance...\n",
      "  ['cam_frames'] field added.\n",
      "  20 new fields added.\n",
      "   No behavioral analysis performed...\n"
     ]
    }
   ],
   "source": [
    "session_obj, error_dict, behavioral_code_dict = file_container_obj.ml_to_pd()"
   ]
  },
  {
   "cell_type": "code",
   "execution_count": 5,
   "metadata": {},
   "outputs": [
    {
     "name": "stdout",
     "output_type": "stream",
     "text": [
      "Adding additional fields to session_df DataFrame...\n",
      "   No reward magnitude column found, skipping valence assignment...\n",
      "   No fractal column found, skipping fractal count...\n",
      "   No blink window column found, skipping blink window...\n",
      "   No pupil column found, skipping pupil pre-CS...\n",
      "   No lick window column found, skipping lick window...\n",
      "   No blink window column found, skipping blink window...\n",
      "   No lick duration column found, skipping lick duration...\n",
      "   No blink duration column found, skipping blink duration...\n",
      "   No blink duration column found, skipping blink duration...\n",
      "   No eye distance column found, skipping eye distance...\n",
      "  ['cam_frames'] field added.\n",
      "  20 new fields added.\n",
      "   No behavioral analysis performed...\n"
     ]
    }
   ],
   "source": [
    "from config.add_fields import add_fields\n",
    "# save is lick\n",
    "# lick is photodiode\n",
    "# photodiode is save\n",
    "if session_obj.monkey == 'gandalf':\n",
    "  session_obj.df['cam_save_2'] = session_obj.df['cam_save'].copy()\n",
    "  session_obj.df['cam_sync_2'] = session_obj.df['cam_sync'].copy()\n",
    "  session_obj.df['cam_sync'] = session_obj.df['lick'].copy() # correct\n",
    "  session_obj.df['cam_save'] = session_obj.df['cam_sync_2'].copy()\n",
    "  session_obj.df['lick'] = session_obj.df['cam_save_2'].copy()\n",
    "  del session_obj.df['cam_sync_2']\n",
    "  del session_obj.df['cam_save_2']\n",
    "\n",
    "  session_obj.df, session_obj = \\\n",
    "  add_fields(session_obj.df, session_obj, behavioral_code_dict)"
   ]
  },
  {
   "cell_type": "code",
   "execution_count": 6,
   "metadata": {},
   "outputs": [
    {
     "data": {
      "text/html": [
       "<div>\n",
       "<style scoped>\n",
       "    .dataframe tbody tr th:only-of-type {\n",
       "        vertical-align: middle;\n",
       "    }\n",
       "\n",
       "    .dataframe tbody tr th {\n",
       "        vertical-align: top;\n",
       "    }\n",
       "\n",
       "    .dataframe thead th {\n",
       "        text-align: right;\n",
       "    }\n",
       "</style>\n",
       "<table border=\"1\" class=\"dataframe\">\n",
       "  <thead>\n",
       "    <tr style=\"text-align: right;\">\n",
       "      <th></th>\n",
       "      <th>date</th>\n",
       "      <th>session_num</th>\n",
       "      <th>subject</th>\n",
       "      <th>trial_num</th>\n",
       "      <th>block</th>\n",
       "      <th>condition</th>\n",
       "      <th>correct</th>\n",
       "      <th>error</th>\n",
       "      <th>error_type</th>\n",
       "      <th>behavioral_code_markers</th>\n",
       "      <th>behavioral_code_times</th>\n",
       "      <th>eye_x</th>\n",
       "      <th>eye_y</th>\n",
       "      <th>eye_pupil</th>\n",
       "      <th>lick</th>\n",
       "      <th>cam_sync</th>\n",
       "      <th>cam_save</th>\n",
       "      <th>photodiode</th>\n",
       "      <th>trial_start</th>\n",
       "      <th>trial_end</th>\n",
       "      <th>trial_datetime_start</th>\n",
       "      <th>trial_datetime_end</th>\n",
       "      <th>Start trial</th>\n",
       "      <th>Frame skipped</th>\n",
       "      <th>Manual reward</th>\n",
       "      <th>End trial</th>\n",
       "      <th>Start</th>\n",
       "      <th>Reward</th>\n",
       "      <th>lick_raster</th>\n",
       "      <th>DEM_raster</th>\n",
       "      <th>trial_bins</th>\n",
       "      <th>trial_in_block</th>\n",
       "      <th>cam_frames</th>\n",
       "    </tr>\n",
       "  </thead>\n",
       "  <tbody>\n",
       "    <tr>\n",
       "      <th>0</th>\n",
       "      <td>231023</td>\n",
       "      <td>0</td>\n",
       "      <td>gandalf</td>\n",
       "      <td>1</td>\n",
       "      <td>1</td>\n",
       "      <td>1</td>\n",
       "      <td>0</td>\n",
       "      <td>1</td>\n",
       "      <td>6</td>\n",
       "      <td>[9, 10, 18]</td>\n",
       "      <td>[2.702400030102581, 2778.226900030859, 9770.92...</td>\n",
       "      <td>[5.883731561457564, 5.88686447631961, 5.871871...</td>\n",
       "      <td>[0.9890250719814028, 1.0159748381095408, 0.995...</td>\n",
       "      <td>[8938.0, 8932.0, 8939.0, 8939.0, 8918.0, 8918....</td>\n",
       "      <td>[0.006910999223200209, 0.0072398264486985275, ...</td>\n",
       "      <td>[3.309981147165889, 3.322805431050596, 0.00526...</td>\n",
       "      <td>[0.000992109151831927, 0.01282988927112308, -0...</td>\n",
       "      <td>[1.0029284518098052, 1.0249598691046526, 1.023...</td>\n",
       "      <td>0.0000</td>\n",
       "      <td>9775.0000</td>\n",
       "      <td>2023-10-23 10:53:38.719</td>\n",
       "      <td>2023-10-23 10:53:48.494</td>\n",
       "      <td>2</td>\n",
       "      <td>&lt;NA&gt;</td>\n",
       "      <td>&lt;NA&gt;</td>\n",
       "      <td>9770</td>\n",
       "      <td>2778</td>\n",
       "      <td>&lt;NA&gt;</td>\n",
       "      <td>[0, 0, 0, 0, 0, 0, 0, 0, 0, 0, 0, 0, 0, 0, 0, ...</td>\n",
       "      <td>[0, 0, 0, 0, 0, 0, 0, 0, 0, 0, 0, 0, 0, 0, 0, ...</td>\n",
       "      <td>9773</td>\n",
       "      <td>0</td>\n",
       "      <td>[665, 673, 681, 690, 698, 706, 715, 723, 731, ...</td>\n",
       "    </tr>\n",
       "    <tr>\n",
       "      <th>1</th>\n",
       "      <td>231023</td>\n",
       "      <td>0</td>\n",
       "      <td>gandalf</td>\n",
       "      <td>2</td>\n",
       "      <td>1</td>\n",
       "      <td>1</td>\n",
       "      <td>1</td>\n",
       "      <td>0</td>\n",
       "      <td>0</td>\n",
       "      <td>[9, 10, 50, 18]</td>\n",
       "      <td>[250.4837000160478, 310.7704000431113, 12859.1...</td>\n",
       "      <td>[77.42892992291698, 77.42892992291698, 77.4289...</td>\n",
       "      <td>[93.16831251019393, 93.16831251019393, 93.1683...</td>\n",
       "      <td>[0.0, 0.0, 0.0, 0.0, 0.0, 0.0, 0.0, 0.0, 0.0, ...</td>\n",
       "      <td>[0.005266863094622737, 0.006910999223200209, 0...</td>\n",
       "      <td>[3.334643231809826, 3.3182018419314097, -0.003...</td>\n",
       "      <td>[3.309981147165889, 3.319517153104616, 3.32412...</td>\n",
       "      <td>[1.8845140705303702, 1.8861582066766285, 1.787...</td>\n",
       "      <td>9773.8415</td>\n",
       "      <td>23029.8415</td>\n",
       "      <td>2023-10-23 10:53:48.493</td>\n",
       "      <td>2023-10-23 10:54:01.749</td>\n",
       "      <td>250</td>\n",
       "      <td>&lt;NA&gt;</td>\n",
       "      <td>&lt;NA&gt;</td>\n",
       "      <td>13173</td>\n",
       "      <td>310</td>\n",
       "      <td>12859</td>\n",
       "      <td>[0, 0, 0, 0, 0, 0, 0, 0, 0, 0, 0, 0, 0, 0, 0, ...</td>\n",
       "      <td>[1, 1, 1, 1, 1, 1, 1, 1, 1, 1, 1, 1, 1, 1, 1, ...</td>\n",
       "      <td>13256</td>\n",
       "      <td>1</td>\n",
       "      <td>[6, 15, 23, 31, 40, 48, 56, 65, 73, 81, 90, 98...</td>\n",
       "    </tr>\n",
       "    <tr>\n",
       "      <th>2</th>\n",
       "      <td>231023</td>\n",
       "      <td>0</td>\n",
       "      <td>gandalf</td>\n",
       "      <td>3</td>\n",
       "      <td>1</td>\n",
       "      <td>1</td>\n",
       "      <td>0</td>\n",
       "      <td>1</td>\n",
       "      <td>6</td>\n",
       "      <td>[9, 10, 18]</td>\n",
       "      <td>[175.6924000219442, 231.77830001804978, 16280....</td>\n",
       "      <td>[1.7131865775061006, 1.6678821712640124, 1.667...</td>\n",
       "      <td>[-9.211074539236456, -9.246615232463677, -9.24...</td>\n",
       "      <td>[6347.0, 6354.0, 6354.0, 6361.0, 6361.0, 6357....</td>\n",
       "      <td>[5.00015899372057, 4.983388711362921, 4.997528...</td>\n",
       "      <td>[3.3234630866420156, 3.322147775459917, 3.3408...</td>\n",
       "      <td>[3.323134258846213, 3.339575648864042, 3.34911...</td>\n",
       "      <td>[0.617543059554322, 0.6076782454860171, 0.6024...</td>\n",
       "      <td>23029.8410</td>\n",
       "      <td>39392.8410</td>\n",
       "      <td>2023-10-23 10:54:01.749</td>\n",
       "      <td>2023-10-23 10:54:18.112</td>\n",
       "      <td>175</td>\n",
       "      <td>&lt;NA&gt;</td>\n",
       "      <td>&lt;NA&gt;</td>\n",
       "      <td>16280</td>\n",
       "      <td>231</td>\n",
       "      <td>&lt;NA&gt;</td>\n",
       "      <td>[1, 1, 1, 1, 1, 1, 1, 1, 1, 1, 1, 1, 1, 1, 1, ...</td>\n",
       "      <td>[0, 0, 0, 0, 0, 0, 0, 0, 0, 0, 0, 0, 0, 0, 0, ...</td>\n",
       "      <td>16363</td>\n",
       "      <td>2</td>\n",
       "      <td>[9, 17, 25, 34, 42, 50, 59, 67, 75, 84, 92, 10...</td>\n",
       "    </tr>\n",
       "    <tr>\n",
       "      <th>3</th>\n",
       "      <td>231023</td>\n",
       "      <td>0</td>\n",
       "      <td>gandalf</td>\n",
       "      <td>4</td>\n",
       "      <td>1</td>\n",
       "      <td>1</td>\n",
       "      <td>1</td>\n",
       "      <td>0</td>\n",
       "      <td>0</td>\n",
       "      <td>[9, 10, 50, 18]</td>\n",
       "      <td>[171.26039997674525, 231.6389000043273, 12779....</td>\n",
       "      <td>[0.9207086573275246, 0.9002815780365547, 0.900...</td>\n",
       "      <td>[-10.068718995668373, -10.05189467782281, -10....</td>\n",
       "      <td>[5848.0, 5852.0, 5852.0, 5855.0, 5855.0, 5848....</td>\n",
       "      <td>[4.998186019282985, 4.995226557647911, 4.99029...</td>\n",
       "      <td>[-0.0009808542105267382, 0.0003344546980039165...</td>\n",
       "      <td>[3.327409020206122, 3.331354953796979, 3.32181...</td>\n",
       "      <td>[1.019698635121316, 1.0992747993536012, 1.0443...</td>\n",
       "      <td>39392.4029</td>\n",
       "      <td>52569.4029</td>\n",
       "      <td>2023-10-23 10:54:18.112</td>\n",
       "      <td>2023-10-23 10:54:31.289</td>\n",
       "      <td>171</td>\n",
       "      <td>&lt;NA&gt;</td>\n",
       "      <td>&lt;NA&gt;</td>\n",
       "      <td>13095</td>\n",
       "      <td>231</td>\n",
       "      <td>12779</td>\n",
       "      <td>[1, 1, 1, 1, 1, 1, 1, 1, 1, 1, 1, 1, 1, 1, 1, ...</td>\n",
       "      <td>[1, 1, 1, 1, 1, 1, 1, 1, 1, 1, 1, 1, 1, 1, 1, ...</td>\n",
       "      <td>13176</td>\n",
       "      <td>3</td>\n",
       "      <td>[4, 12, 21, 29, 37, 46, 54, 62, 71, 79, 87, 96...</td>\n",
       "    </tr>\n",
       "    <tr>\n",
       "      <th>4</th>\n",
       "      <td>231023</td>\n",
       "      <td>0</td>\n",
       "      <td>gandalf</td>\n",
       "      <td>5</td>\n",
       "      <td>1</td>\n",
       "      <td>1</td>\n",
       "      <td>1</td>\n",
       "      <td>0</td>\n",
       "      <td>0</td>\n",
       "      <td>[9, 10, 50, 18]</td>\n",
       "      <td>[181.07360001886263, 248.98150004446507, 16116...</td>\n",
       "      <td>[5.306280850831098, 5.306280850831098, 5.28521...</td>\n",
       "      <td>[-8.36196339729698, -8.36196339729698, -8.3261...</td>\n",
       "      <td>[5888.0, 5888.0, 5883.0, 5883.0, 5888.0, 5888....</td>\n",
       "      <td>[4.992924754171629, 4.98503285665588, 4.992595...</td>\n",
       "      <td>[0.007897480899478157, 0.0006632819249543231, ...</td>\n",
       "      <td>[3.326093709015116, 3.3356297152173124, 3.3323...</td>\n",
       "      <td>[1.603037986741028, 1.6280288522250337, 1.5372...</td>\n",
       "      <td>52568.5376</td>\n",
       "      <td>69083.5376</td>\n",
       "      <td>2023-10-23 10:54:31.288</td>\n",
       "      <td>2023-10-23 10:54:47.803</td>\n",
       "      <td>181</td>\n",
       "      <td>&lt;NA&gt;</td>\n",
       "      <td>&lt;NA&gt;</td>\n",
       "      <td>16432</td>\n",
       "      <td>248</td>\n",
       "      <td>16116</td>\n",
       "      <td>[1, 1, 1, 1, 1, 1, 1, 1, 1, 1, 1, 1, 1, 1, 1, ...</td>\n",
       "      <td>[0, 0, 0, 0, 0, 0, 0, 0, 0, 0, 0, 0, 0, 0, 0, ...</td>\n",
       "      <td>16515</td>\n",
       "      <td>4</td>\n",
       "      <td>[2, 10, 19, 27, 35, 44, 52, 60, 69, 77, 85, 94...</td>\n",
       "    </tr>\n",
       "  </tbody>\n",
       "</table>\n",
       "</div>"
      ],
      "text/plain": [
       "     date  session_num  subject  trial_num  block  condition  correct  error  \\\n",
       "0  231023            0  gandalf          1      1          1        0      1   \n",
       "1  231023            0  gandalf          2      1          1        1      0   \n",
       "2  231023            0  gandalf          3      1          1        0      1   \n",
       "3  231023            0  gandalf          4      1          1        1      0   \n",
       "4  231023            0  gandalf          5      1          1        1      0   \n",
       "\n",
       "   error_type behavioral_code_markers  \\\n",
       "0           6             [9, 10, 18]   \n",
       "1           0         [9, 10, 50, 18]   \n",
       "2           6             [9, 10, 18]   \n",
       "3           0         [9, 10, 50, 18]   \n",
       "4           0         [9, 10, 50, 18]   \n",
       "\n",
       "                               behavioral_code_times  \\\n",
       "0  [2.702400030102581, 2778.226900030859, 9770.92...   \n",
       "1  [250.4837000160478, 310.7704000431113, 12859.1...   \n",
       "2  [175.6924000219442, 231.77830001804978, 16280....   \n",
       "3  [171.26039997674525, 231.6389000043273, 12779....   \n",
       "4  [181.07360001886263, 248.98150004446507, 16116...   \n",
       "\n",
       "                                               eye_x  \\\n",
       "0  [5.883731561457564, 5.88686447631961, 5.871871...   \n",
       "1  [77.42892992291698, 77.42892992291698, 77.4289...   \n",
       "2  [1.7131865775061006, 1.6678821712640124, 1.667...   \n",
       "3  [0.9207086573275246, 0.9002815780365547, 0.900...   \n",
       "4  [5.306280850831098, 5.306280850831098, 5.28521...   \n",
       "\n",
       "                                               eye_y  \\\n",
       "0  [0.9890250719814028, 1.0159748381095408, 0.995...   \n",
       "1  [93.16831251019393, 93.16831251019393, 93.1683...   \n",
       "2  [-9.211074539236456, -9.246615232463677, -9.24...   \n",
       "3  [-10.068718995668373, -10.05189467782281, -10....   \n",
       "4  [-8.36196339729698, -8.36196339729698, -8.3261...   \n",
       "\n",
       "                                           eye_pupil  \\\n",
       "0  [8938.0, 8932.0, 8939.0, 8939.0, 8918.0, 8918....   \n",
       "1  [0.0, 0.0, 0.0, 0.0, 0.0, 0.0, 0.0, 0.0, 0.0, ...   \n",
       "2  [6347.0, 6354.0, 6354.0, 6361.0, 6361.0, 6357....   \n",
       "3  [5848.0, 5852.0, 5852.0, 5855.0, 5855.0, 5848....   \n",
       "4  [5888.0, 5888.0, 5883.0, 5883.0, 5888.0, 5888....   \n",
       "\n",
       "                                                lick  \\\n",
       "0  [0.006910999223200209, 0.0072398264486985275, ...   \n",
       "1  [0.005266863094622737, 0.006910999223200209, 0...   \n",
       "2  [5.00015899372057, 4.983388711362921, 4.997528...   \n",
       "3  [4.998186019282985, 4.995226557647911, 4.99029...   \n",
       "4  [4.992924754171629, 4.98503285665588, 4.992595...   \n",
       "\n",
       "                                            cam_sync  \\\n",
       "0  [3.309981147165889, 3.322805431050596, 0.00526...   \n",
       "1  [3.334643231809826, 3.3182018419314097, -0.003...   \n",
       "2  [3.3234630866420156, 3.322147775459917, 3.3408...   \n",
       "3  [-0.0009808542105267382, 0.0003344546980039165...   \n",
       "4  [0.007897480899478157, 0.0006632819249543231, ...   \n",
       "\n",
       "                                            cam_save  \\\n",
       "0  [0.000992109151831927, 0.01282988927112308, -0...   \n",
       "1  [3.309981147165889, 3.319517153104616, 3.32412...   \n",
       "2  [3.323134258846213, 3.339575648864042, 3.34911...   \n",
       "3  [3.327409020206122, 3.331354953796979, 3.32181...   \n",
       "4  [3.326093709015116, 3.3356297152173124, 3.3323...   \n",
       "\n",
       "                                          photodiode  trial_start   trial_end  \\\n",
       "0  [1.0029284518098052, 1.0249598691046526, 1.023...       0.0000   9775.0000   \n",
       "1  [1.8845140705303702, 1.8861582066766285, 1.787...    9773.8415  23029.8415   \n",
       "2  [0.617543059554322, 0.6076782454860171, 0.6024...   23029.8410  39392.8410   \n",
       "3  [1.019698635121316, 1.0992747993536012, 1.0443...   39392.4029  52569.4029   \n",
       "4  [1.603037986741028, 1.6280288522250337, 1.5372...   52568.5376  69083.5376   \n",
       "\n",
       "     trial_datetime_start      trial_datetime_end  Start trial  Frame skipped  \\\n",
       "0 2023-10-23 10:53:38.719 2023-10-23 10:53:48.494            2           <NA>   \n",
       "1 2023-10-23 10:53:48.493 2023-10-23 10:54:01.749          250           <NA>   \n",
       "2 2023-10-23 10:54:01.749 2023-10-23 10:54:18.112          175           <NA>   \n",
       "3 2023-10-23 10:54:18.112 2023-10-23 10:54:31.289          171           <NA>   \n",
       "4 2023-10-23 10:54:31.288 2023-10-23 10:54:47.803          181           <NA>   \n",
       "\n",
       "   Manual reward  End trial  Start  Reward  \\\n",
       "0           <NA>       9770   2778    <NA>   \n",
       "1           <NA>      13173    310   12859   \n",
       "2           <NA>      16280    231    <NA>   \n",
       "3           <NA>      13095    231   12779   \n",
       "4           <NA>      16432    248   16116   \n",
       "\n",
       "                                         lick_raster  \\\n",
       "0  [0, 0, 0, 0, 0, 0, 0, 0, 0, 0, 0, 0, 0, 0, 0, ...   \n",
       "1  [0, 0, 0, 0, 0, 0, 0, 0, 0, 0, 0, 0, 0, 0, 0, ...   \n",
       "2  [1, 1, 1, 1, 1, 1, 1, 1, 1, 1, 1, 1, 1, 1, 1, ...   \n",
       "3  [1, 1, 1, 1, 1, 1, 1, 1, 1, 1, 1, 1, 1, 1, 1, ...   \n",
       "4  [1, 1, 1, 1, 1, 1, 1, 1, 1, 1, 1, 1, 1, 1, 1, ...   \n",
       "\n",
       "                                          DEM_raster  trial_bins  \\\n",
       "0  [0, 0, 0, 0, 0, 0, 0, 0, 0, 0, 0, 0, 0, 0, 0, ...        9773   \n",
       "1  [1, 1, 1, 1, 1, 1, 1, 1, 1, 1, 1, 1, 1, 1, 1, ...       13256   \n",
       "2  [0, 0, 0, 0, 0, 0, 0, 0, 0, 0, 0, 0, 0, 0, 0, ...       16363   \n",
       "3  [1, 1, 1, 1, 1, 1, 1, 1, 1, 1, 1, 1, 1, 1, 1, ...       13176   \n",
       "4  [0, 0, 0, 0, 0, 0, 0, 0, 0, 0, 0, 0, 0, 0, 0, ...       16515   \n",
       "\n",
       "   trial_in_block                                         cam_frames  \n",
       "0               0  [665, 673, 681, 690, 698, 706, 715, 723, 731, ...  \n",
       "1               1  [6, 15, 23, 31, 40, 48, 56, 65, 73, 81, 90, 98...  \n",
       "2               2  [9, 17, 25, 34, 42, 50, 59, 67, 75, 84, 92, 10...  \n",
       "3               3  [4, 12, 21, 29, 37, 46, 54, 62, 71, 79, 87, 96...  \n",
       "4               4  [2, 10, 19, 27, 35, 44, 52, 60, 69, 77, 85, 94...  "
      ]
     },
     "execution_count": 6,
     "metadata": {},
     "output_type": "execute_result"
    }
   ],
   "source": [
    "session_obj.df.head()"
   ]
  },
  {
   "cell_type": "code",
   "execution_count": 70,
   "metadata": {},
   "outputs": [
    {
     "name": "stdout",
     "output_type": "stream",
     "text": [
      "Saving .pickle files to: /Users/rahimhashim/Library/CloudStorage/GoogleDrive-rh2898@columbia.edu/.shortcut-targets-by-id/1weRx7ojG3amil91WgRMeTUVxse__Rsyt/rhAirpuff\n",
      "  Pickling 231004_gandalf_UnityVR_behave.pkl\n",
      "  Total time to pickle: 0.5141 sec\n"
     ]
    }
   ],
   "source": [
    "import pickle\n",
    "from config.h5_helper import pickler\n",
    "\n",
    "pickler(True, os.path.dirname(file_container_obj.ml_file_path), \n",
    "        session_obj.df, 'gandalf', 'UnityVR', error_dict, behavioral_code_dict)"
   ]
  },
  {
   "cell_type": "markdown",
   "metadata": {},
   "source": [
    "*** \n",
    "## Process SpikeGLX\n",
    "\n",
    "Assign `signal_dict` channels manually based on how you set up the PXI board. `epochs` are the MonkeyLogic eventcodes within `session_obj.df` distinguishing epochs in the task that you will reference later to break up videos based on."
   ]
  },
  {
   "cell_type": "code",
   "execution_count": 7,
   "metadata": {},
   "outputs": [
    {
     "name": "stdout",
     "output_type": "stream",
     "text": [
      "Epochs:\n",
      "  Start trial\n",
      "  End trial\n"
     ]
    }
   ],
   "source": [
    "# Manually assign the signal channel numbers\n",
    "# from how you set them up on the NI PXIe-6341 board\n",
    "signal_dict = {\n",
    "  0: 'cam_sync',\n",
    "  1: 'cam_save',\n",
    "  2: 'lick',\n",
    "  3: 'photodiode',\n",
    "  4: 'empty'\n",
    "}\n",
    "\n",
    "# Manually assign the time epochs you care about\n",
    "# which have to exist as rows in session_df\n",
    "if session_obj.monkey in ['aragorn', 'bear']:\n",
    "  epochs = ['Start Trial', 'Fixation On', 'CS On',\t\n",
    "          'Trace Start', 'Outcome Start', 'End Trial']\n",
    "else:\n",
    "  epochs = ['Start trial', 'End trial']\n",
    "print('Epochs:')\n",
    "# Print each epoch on its own line\n",
    "for epoch in epochs:\n",
    "  print(f'  {epoch}')"
   ]
  },
  {
   "cell_type": "markdown",
   "metadata": {},
   "source": [
    "Always view the data you are working with before doing any type of analysis. Calling `read_SGLX` prompts a file selection tool (choose the .bin file that **must have the .meta file in the same directory as is the default for SpikeGLX output**), and `plot_channels_raw` allows for visualization of a window specified by [tStart - tEnd] **seconds**. "
   ]
  },
  {
   "cell_type": "code",
   "execution_count": 13,
   "metadata": {},
   "outputs": [
    {
     "name": "stdout",
     "output_type": "stream",
     "text": [
      "Reading SGLX meta and bin files...\n",
      "Select binary file\n",
      "Bin File Path: /Users/rahimhashim/My Drive/Columbia/Salzman/Monkey-Training/tasks/UnityVR/231023/gandalf_20231023_g0/gandalf_20231023_g0_t0.nidq.bin\n",
      "File Name: C:/Users/Penfield/Desktop/Rob/SpikeGLX/gandalf_20231023_g0/gandalf_20231023_g0_t0.nidq.bin\n",
      "  Number of Channels: 5\n",
      "  File Created: 2023-10-23T10:53:29\n",
      "  File Length: 5734.6525\n",
      "nChan: 5, nFileSamp: 11469305\n",
      " Complete.\n",
      "Plotting channels...\n",
      "  SpikeGLX object missing attributes (meta, chan_dict, signal_dict)\n",
      "  Using input arguments instead.\n",
      "Sample Rate:  2000.0\n",
      " Channel [0]: cam_sync\n",
      "  Max Val: 3342.285\n",
      "  Min Val: -5.493\n",
      " Channel [1]: cam_save\n",
      "  Max Val: 3347.626\n",
      "  Min Val: -6.866\n",
      " Channel [2]: lick\n",
      "  Max Val: 4999.847\n",
      "  Min Val: -7.019\n",
      " Channel [3]: photodiode\n",
      "  Max Val: 2329.102\n",
      "  Min Val: 439.301\n",
      " Channel [4]: empty\n",
      "  Max Val: 0.0\n",
      "  Min Val: 0.0\n"
     ]
    },
    {
     "data": {
      "image/png": "[encoded data removed]",
      "text/plain": [
       "<Figure size 1000x200 with 1 Axes>"
      ]
     },
     "metadata": {},
     "output_type": "display_data"
    }
   ],
   "source": [
    "from spike_glx.read_SGLX import read_SGLX, plot_channels_raw\n",
    "\n",
    "print('Reading SGLX meta and bin files...')\n",
    "meta, chan_dict = read_SGLX()\n",
    "print(' Complete.')\n",
    "print('Plotting channels...')\n",
    "plot_channels_raw(None, meta, chan_dict, signal_dict, tStart=0, tEnd=20)"
   ]
  },
  {
   "cell_type": "code",
   "execution_count": 13,
   "metadata": {},
   "outputs": [
    {
     "data": {
      "image/png": "[encoded data removed]",
      "text/plain": [
       "<Figure size 1500x300 with 1 Axes>"
      ]
     },
     "metadata": {},
     "output_type": "display_data"
    }
   ],
   "source": [
    "from spike_glx.read_SGLX import plot_analog_ML\n",
    "# epochs = ['Start Trial', 'Fixation On', 'CS On',\t\n",
    "#           'Trace Start', 'Outcome Start', 'End Trial']\n",
    "plot_analog_ML(session_obj.df, epochs, trial_num=1)"
   ]
  },
  {
   "cell_type": "code",
   "execution_count": 8,
   "metadata": {},
   "outputs": [
    {
     "name": "stdout",
     "output_type": "stream",
     "text": [
      "Found pickled spikeglx_obj: c:\\Users\\rahim\\Desktop\\Monkey-Emotions\\_data\\gandalf_231023\\spikeglx_obj_gandalf_231023.pkl\n",
      "Updating spikeglx_obj paths...\n",
      "  Updated sglx_dir_path to: G:/.shortcut-targets-by-id/1weRx7ojG3amil91WgRMeTUVxse__Rsyt/rhAirpuff/231023\n",
      "  Deleted old video_file_paths\n",
      "  Deleted old video_info\n",
      "  Updating video_file_paths and video_info...\n",
      "Video Folders:\n",
      "['231023_Gandalf_105339', '231023_Gandalf_105556', '231023_Gandalf_112003']\n",
      "Number of cameras: 4\n",
      "  Camera: e3v831b | Number of videos: 5\n",
      "  Camera: e3v8360 | Number of videos: 5\n",
      "  Camera: e3v83ad | Number of videos: 5\n",
      "  Camera: e3v83d6 | Number of videos: 5\n",
      "Camera: e3v831b\n",
      "  Video: e3v831b-20231023T105338-111339.avi | Frames: 144123 | FPS: 120.0 | Length (minutes): 20.02  \n",
      "  Video: e3v831b-20231023T111339-113340.avi | Frames: 144124 | FPS: 120.0 | Length (minutes): 20.02  \n",
      "  Video: e3v831b-20231023T113340-115340.avi | Frames: 144004 | FPS: 120.0 | Length (minutes): 20.0   \n",
      "  Video: e3v831b-20231023T115340-121340.avi | Frames: 144004 | FPS: 120.0 | Length (minutes): 20.0   \n",
      "  Video: e3v831b-20231023T121340-122852.avi | Frames: 109444 | FPS: 120.0 | Length (minutes): 15.2   \n",
      "  Total Frames: 685699\n",
      "Camera: e3v8360\n",
      "  Video: e3v8360-20231023T105338-111339.avi | Frames: 144123 | FPS: 120.0 | Length (minutes): 20.02  \n",
      "  Video: e3v8360-20231023T111339-113339.avi | Frames: 144004 | FPS: 120.0 | Length (minutes): 20.0   \n",
      "  Video: e3v8360-20231023T113339-115340.avi | Frames: 144124 | FPS: 120.0 | Length (minutes): 20.02  \n",
      "  Video: e3v8360-20231023T115340-121340.avi | Frames: 144004 | FPS: 120.0 | Length (minutes): 20.0   \n",
      "  Video: e3v8360-20231023T121340-122852.avi | Frames: 109444 | FPS: 120.0 | Length (minutes): 15.2   \n",
      "  Total Frames: 685699\n",
      "Camera: e3v83ad\n",
      "  Video: e3v83ad-20231023T105338-111339.avi | Frames: 144123 | FPS: 120.0 | Length (minutes): 20.02  \n",
      "  Video: e3v83ad-20231023T111339-113339.avi | Frames: 144004 | FPS: 120.0 | Length (minutes): 20.0   \n",
      "  Video: e3v83ad-20231023T113339-115340.avi | Frames: 144124 | FPS: 120.0 | Length (minutes): 20.02  \n",
      "  Video: e3v83ad-20231023T115340-121340.avi | Frames: 144004 | FPS: 120.0 | Length (minutes): 20.0   \n",
      "  Video: e3v83ad-20231023T121340-122852.avi | Frames: 109444 | FPS: 120.0 | Length (minutes): 15.2   \n",
      "  Total Frames: 685699\n",
      "Camera: e3v83d6\n",
      "  Video: e3v83d6-20231023T105338-111339.avi | Frames: 144123 | FPS: 120.0 | Length (minutes): 20.02  \n",
      "  Video: e3v83d6-20231023T111339-113340.avi | Frames: 144123 | FPS: 120.0 | Length (minutes): 20.02  \n",
      "  Video: e3v83d6-20231023T113340-115340.avi | Frames: 144005 | FPS: 120.0 | Length (minutes): 20.0   \n",
      "  Video: e3v83d6-20231023T115340-121340.avi | Frames: 144004 | FPS: 120.0 | Length (minutes): 20.0   \n",
      "  Video: e3v83d6-20231023T121340-122852.avi | Frames: 109444 | FPS: 120.0 | Length (minutes): 15.2   \n",
      "  Total Frames: 685699\n"
     ]
    }
   ],
   "source": [
    "from spike_glx.load_SGLX import load_sglx\n",
    "\n",
    "# Load the spikeglx object\n",
    "spikeglx_obj = load_sglx(session_obj.df, \n",
    "                         session_obj, \n",
    "                         file_container_obj, \n",
    "                         signal_dict, \n",
    "                         epochs)"
   ]
  },
  {
   "cell_type": "markdown",
   "metadata": {},
   "source": [
    "### ML-SpikeGLX Session Correlation\n",
    "To see just the correlation matrix for each trial in a session, run `plot_spikeglx_ml_corr` with the newly-generated `spikeglx_obj`."
   ]
  },
  {
   "cell_type": "code",
   "execution_count": 9,
   "metadata": {},
   "outputs": [
    {
     "data": {
      "image/png": "[encoded data removed]",
      "text/plain": [
       "<Figure size 1500x800 with 2 Axes>"
      ]
     },
     "metadata": {},
     "output_type": "display_data"
    }
   ],
   "source": [
    "from spike_glx.read_SGLX import plot_spikeglx_ml_corr\n",
    "plot_spikeglx_ml_corr(spikeglx_obj.ml_sglx_corr_matrix, 100)"
   ]
  },
  {
   "cell_type": "markdown",
   "metadata": {},
   "source": [
    "***\n",
    "## Process White Matter Videos\n",
    "\n",
    "After generating a `SpikeGLX` object, you can segment all the White Matter videos by trial."
   ]
  },
  {
   "cell_type": "code",
   "execution_count": 24,
   "metadata": {},
   "outputs": [
    {
     "name": "stdout",
     "output_type": "stream",
     "text": [
      "Parsing Trials for Videos: 0 - 329\n",
      "  Epoch Start: start\n",
      "  Epoch End: end\n"
     ]
    },
    {
     "name": "stderr",
     "output_type": "stream",
     "text": [
      "Cam: e3v831b | Trial: 0 | Frames: 0-1093: 100%|██████████| 1093/1093 [00:13<00:00, 78.29it/s]\n",
      "Cam: e3v8360 | Trial: 0 | Frames: 0-1093: 100%|██████████| 1093/1093 [00:12<00:00, 85.36it/s]\n",
      "Cam: e3v83ad | Trial: 0 | Frames: 0-1093: 100%|██████████| 1093/1093 [00:13<00:00, 82.77it/s]\n",
      "Cam: e3v83d6 | Trial: 0 | Frames: 0-1093: 100%|██████████| 1093/1093 [00:13<00:00, 80.66it/s]\n",
      "Cam: e3v831b | Trial: 1 | Frames: 1093-2683: 100%|██████████| 1590/1590 [00:20<00:00, 79.21it/s]\n",
      "Cam: e3v8360 | Trial: 1 | Frames: 1093-2683: 100%|██████████| 1590/1590 [00:18<00:00, 84.39it/s]\n",
      "Cam: e3v83ad | Trial: 1 | Frames: 1093-2683: 100%|██████████| 1590/1590 [00:19<00:00, 81.74it/s]\n",
      "Cam: e3v83d6 | Trial: 1 | Frames: 1093-2683: 100%|██████████| 1590/1590 [00:18<00:00, 84.06it/s]\n",
      "Cam: e3v831b | Trial: 2 | Frames: 2684-4647: 100%|██████████| 1963/1963 [00:24<00:00, 80.59it/s]\n",
      "Cam: e3v8360 | Trial: 2 | Frames: 2684-4647: 100%|██████████| 1963/1963 [00:25<00:00, 76.35it/s]\n",
      "Cam: e3v83ad | Trial: 2 | Frames: 2684-4647: 100%|██████████| 1963/1963 [00:23<00:00, 82.31it/s]\n",
      "Cam: e3v83d6 | Trial: 2 | Frames: 2684-4647: 100%|██████████| 1963/1963 [00:22<00:00, 85.79it/s]\n",
      "Cam: e3v831b | Trial: 3 | Frames: 4648-6228: 100%|██████████| 1580/1580 [00:18<00:00, 84.48it/s]\n",
      "Cam: e3v8360 | Trial: 3 | Frames: 4648-6228: 100%|██████████| 1580/1580 [00:18<00:00, 86.07it/s]\n",
      "Cam: e3v83ad | Trial: 3 | Frames: 4648-6228: 100%|██████████| 1580/1580 [00:18<00:00, 85.06it/s]\n",
      "Cam: e3v83d6 | Trial: 3 | Frames: 4648-6228: 100%|██████████| 1580/1580 [00:18<00:00, 84.26it/s]\n",
      "Cam: e3v831b | Trial: 4 | Frames: 6229-8210: 100%|██████████| 1981/1981 [00:25<00:00, 77.28it/s]\n",
      "Cam: e3v8360 | Trial: 4 | Frames: 6229-8210: 100%|██████████| 1981/1981 [00:24<00:00, 81.64it/s]\n",
      "Cam: e3v83ad | Trial: 4 | Frames: 6229-8210: 100%|██████████| 1981/1981 [00:26<00:00, 75.58it/s]\n",
      "Cam: e3v83d6 | Trial: 4 | Frames: 6229-8210: 100%|██████████| 1981/1981 [00:23<00:00, 82.71it/s]\n",
      "Cam: e3v831b | Trial: 5 | Frames: 8211-9931: 100%|██████████| 1720/1720 [00:22<00:00, 76.89it/s]\n",
      "Cam: e3v8360 | Trial: 5 | Frames: 8211-9931: 100%|██████████| 1720/1720 [00:21<00:00, 80.00it/s]\n",
      "Cam: e3v83ad | Trial: 5 | Frames: 8211-9931: 100%|██████████| 1720/1720 [00:21<00:00, 79.75it/s]\n",
      "Cam: e3v83d6 | Trial: 5 | Frames: 8211-9931: 100%|██████████| 1720/1720 [00:21<00:00, 81.09it/s]\n",
      "Cam: e3v831b | Trial: 6 | Frames: 9932-11396: 100%|██████████| 1464/1464 [00:17<00:00, 84.00it/s]\n",
      "Cam: e3v8360 | Trial: 6 | Frames: 9932-11396: 100%|██████████| 1464/1464 [00:18<00:00, 79.38it/s]\n",
      "Cam: e3v83ad | Trial: 6 | Frames: 9932-11396: 100%|██████████| 1464/1464 [00:18<00:00, 77.59it/s]\n",
      "Cam: e3v83d6 | Trial: 6 | Frames: 9932-11396: 100%|██████████| 1464/1464 [00:18<00:00, 78.76it/s]\n",
      "Cam: e3v831b | Trial: 7 | Frames: 11397-13015: 100%|██████████| 1618/1618 [00:19<00:00, 82.84it/s]\n",
      "Cam: e3v8360 | Trial: 7 | Frames: 11397-13015: 100%|██████████| 1618/1618 [00:20<00:00, 79.28it/s]\n",
      "Cam: e3v83ad | Trial: 7 | Frames: 11397-13015: 100%|██████████| 1618/1618 [00:19<00:00, 83.70it/s]\n",
      "Cam: e3v83d6 | Trial: 7 | Frames: 11397-13015: 100%|██████████| 1618/1618 [00:19<00:00, 83.73it/s]\n",
      "Cam: e3v831b | Trial: 8 | Frames: 13016-14579: 100%|██████████| 1563/1563 [00:19<00:00, 81.43it/s]\n",
      "Cam: e3v8360 | Trial: 8 | Frames: 13016-14579: 100%|██████████| 1563/1563 [00:18<00:00, 82.75it/s]\n",
      "Cam: e3v83ad | Trial: 8 | Frames: 13016-14579: 100%|██████████| 1563/1563 [00:19<00:00, 78.38it/s]\n",
      "Cam: e3v83d6 | Trial: 8 | Frames: 13016-14579: 100%|██████████| 1563/1563 [00:18<00:00, 83.00it/s]\n",
      "Cam: e3v831b | Trial: 9 | Frames: 14580-16412: 100%|██████████| 1832/1832 [00:21<00:00, 84.85it/s]\n",
      "Cam: e3v8360 | Trial: 9 | Frames: 14580-16412: 100%|██████████| 1832/1832 [00:21<00:00, 85.90it/s]\n",
      "Cam: e3v83ad | Trial: 9 | Frames: 14580-16412: 100%|██████████| 1832/1832 [00:23<00:00, 76.85it/s]\n",
      "Cam: e3v83d6 | Trial: 9 | Frames: 14580-16412: 100%|██████████| 1832/1832 [00:21<00:00, 85.88it/s]\n",
      "Cam: e3v831b | Trial: 10 | Frames: 16413-18210: 100%|██████████| 1797/1797 [00:20<00:00, 85.87it/s]\n",
      "Cam: e3v8360 | Trial: 10 | Frames: 16413-18210: 100%|██████████| 1797/1797 [00:20<00:00, 86.47it/s]\n",
      "Cam: e3v83ad | Trial: 10 | Frames: 16413-18210: 100%|██████████| 1797/1797 [00:21<00:00, 85.41it/s]\n",
      "Cam: e3v83d6 | Trial: 10 | Frames: 16413-18210: 100%|██████████| 1797/1797 [00:20<00:00, 86.61it/s]\n",
      "Cam: e3v831b | Trial: 11 | Frames: 18211-19877: 100%|██████████| 1666/1666 [00:19<00:00, 83.67it/s]\n",
      "Cam: e3v8360 | Trial: 11 | Frames: 18211-19877: 100%|██████████| 1666/1666 [00:19<00:00, 85.33it/s]\n",
      "Cam: e3v83ad | Trial: 11 | Frames: 18211-19877: 100%|██████████| 1666/1666 [00:20<00:00, 81.70it/s]\n",
      "Cam: e3v83d6 | Trial: 11 | Frames: 18211-19877: 100%|██████████| 1666/1666 [00:19<00:00, 85.68it/s]\n",
      "Cam: e3v831b | Trial: 12 | Frames: 19878-21264: 100%|██████████| 1386/1386 [00:16<00:00, 84.15it/s]\n",
      "Cam: e3v8360 | Trial: 12 | Frames: 19878-21264: 100%|██████████| 1386/1386 [00:16<00:00, 86.44it/s]\n",
      "Cam: e3v83ad | Trial: 12 | Frames: 19878-21264: 100%|██████████| 1386/1386 [00:16<00:00, 85.23it/s]\n",
      "Cam: e3v83d6 | Trial: 12 | Frames: 19878-21264: 100%|██████████| 1386/1386 [00:16<00:00, 85.57it/s]\n",
      "Cam: e3v831b | Trial: 13 | Frames: 21265-23228: 100%|██████████| 1963/1963 [00:23<00:00, 84.09it/s]\n",
      "Cam: e3v8360 | Trial: 13 | Frames: 21265-23228: 100%|██████████| 1963/1963 [00:23<00:00, 84.40it/s]\n",
      "Cam: e3v83ad | Trial: 13 | Frames: 21265-23228: 100%|██████████| 1963/1963 [00:23<00:00, 84.31it/s]\n",
      "Cam: e3v83d6 | Trial: 13 | Frames: 21265-23228: 100%|██████████| 1963/1963 [00:22<00:00, 86.73it/s]\n",
      "Cam: e3v831b | Trial: 14 | Frames: 23229-25227: 100%|██████████| 1998/1998 [00:23<00:00, 85.02it/s]\n",
      "Cam: e3v8360 | Trial: 14 | Frames: 23229-25227: 100%|██████████| 1998/1998 [00:24<00:00, 82.65it/s]\n",
      "Cam: e3v83ad | Trial: 14 | Frames: 23229-25227: 100%|██████████| 1998/1998 [00:23<00:00, 83.68it/s]\n",
      "Cam: e3v83d6 | Trial: 14 | Frames: 23229-25227: 100%|██████████| 1998/1998 [00:23<00:00, 83.34it/s]\n",
      "Cam: e3v831b | Trial: 15 | Frames: 25229-28248: 100%|██████████| 3019/3019 [00:37<00:00, 80.97it/s]\n",
      "Cam: e3v8360 | Trial: 15 | Frames: 25229-28248: 100%|██████████| 3019/3019 [00:35<00:00, 85.48it/s]\n",
      "Cam: e3v83ad | Trial: 15 | Frames: 25229-28248: 100%|██████████| 3019/3019 [00:35<00:00, 84.09it/s]\n",
      "Cam: e3v83d6 | Trial: 15 | Frames: 25229-28248: 100%|██████████| 3019/3019 [00:35<00:00, 85.45it/s]\n",
      "Cam: e3v831b | Trial: 16 | Frames: 28249-30074: 100%|██████████| 1825/1825 [00:21<00:00, 84.12it/s]\n",
      "Cam: e3v8360 | Trial: 16 | Frames: 28249-30074: 100%|██████████| 1825/1825 [00:21<00:00, 86.33it/s]\n",
      "Cam: e3v83ad | Trial: 16 | Frames: 28249-30074: 100%|██████████| 1825/1825 [00:21<00:00, 82.98it/s]\n",
      "Cam: e3v83d6 | Trial: 16 | Frames: 28249-30074: 100%|██████████| 1825/1825 [00:21<00:00, 85.64it/s]\n",
      "Cam: e3v831b | Trial: 17 | Frames: 30074-31771: 100%|██████████| 1697/1697 [00:19<00:00, 85.15it/s]\n",
      "Cam: e3v8360 | Trial: 17 | Frames: 30074-31771: 100%|██████████| 1697/1697 [00:20<00:00, 81.81it/s]\n",
      "Cam: e3v83ad | Trial: 17 | Frames: 30074-31771: 100%|██████████| 1697/1697 [00:20<00:00, 83.69it/s]\n",
      "Cam: e3v83d6 | Trial: 17 | Frames: 30074-31771: 100%|██████████| 1697/1697 [00:20<00:00, 81.48it/s]\n",
      "Cam: e3v831b | Trial: 18 | Frames: 31772-33568: 100%|██████████| 1796/1796 [00:21<00:00, 82.43it/s]\n",
      "Cam: e3v8360 | Trial: 18 | Frames: 31772-33568: 100%|██████████| 1796/1796 [00:22<00:00, 81.49it/s]\n",
      "Cam: e3v83ad | Trial: 18 | Frames: 31772-33568: 100%|██████████| 1796/1796 [00:21<00:00, 82.01it/s]\n",
      "Cam: e3v83d6 | Trial: 18 | Frames: 31772-33568: 100%|██████████| 1796/1796 [00:21<00:00, 85.24it/s]\n",
      "Cam: e3v831b | Trial: 19 | Frames: 33569-34803: 100%|██████████| 1234/1234 [00:14<00:00, 82.94it/s]\n",
      "Cam: e3v8360 | Trial: 19 | Frames: 33569-34803: 100%|██████████| 1234/1234 [00:14<00:00, 84.57it/s]\n",
      "Cam: e3v83ad | Trial: 19 | Frames: 33569-34803: 100%|██████████| 1234/1234 [00:14<00:00, 82.49it/s]\n",
      "Cam: e3v83d6 | Trial: 19 | Frames: 33569-34803: 100%|██████████| 1234/1234 [00:14<00:00, 84.09it/s]\n",
      "Cam: e3v831b | Trial: 20 | Frames: 34804-36813: 100%|██████████| 2009/2009 [00:23<00:00, 83.85it/s]\n",
      "Cam: e3v8360 | Trial: 20 | Frames: 34804-36813: 100%|██████████| 2009/2009 [00:24<00:00, 81.92it/s]\n",
      "Cam: e3v83ad | Trial: 20 | Frames: 34804-36813: 100%|██████████| 2009/2009 [00:24<00:00, 82.70it/s]\n",
      "Cam: e3v83d6 | Trial: 20 | Frames: 34804-36813: 100%|██████████| 2009/2009 [00:24<00:00, 83.41it/s]\n",
      "Cam: e3v831b | Trial: 21 | Frames: 36814-38186: 100%|██████████| 1372/1372 [00:17<00:00, 80.08it/s]\n",
      "Cam: e3v8360 | Trial: 21 | Frames: 36814-38186: 100%|██████████| 1372/1372 [00:16<00:00, 85.07it/s]\n",
      "Cam: e3v83ad | Trial: 21 | Frames: 36814-38186: 100%|██████████| 1372/1372 [00:16<00:00, 82.66it/s]\n",
      "Cam: e3v83d6 | Trial: 21 | Frames: 36814-38186: 100%|██████████| 1372/1372 [00:16<00:00, 80.78it/s]\n",
      "Cam: e3v831b | Trial: 22 | Frames: 38187-39495: 100%|██████████| 1308/1308 [00:15<00:00, 83.95it/s]\n",
      "Cam: e3v8360 | Trial: 22 | Frames: 38187-39495: 100%|██████████| 1308/1308 [00:16<00:00, 79.97it/s]\n",
      "Cam: e3v83ad | Trial: 22 | Frames: 38187-39495: 100%|██████████| 1308/1308 [00:16<00:00, 80.58it/s]\n",
      "Cam: e3v83d6 | Trial: 22 | Frames: 38187-39495: 100%|██████████| 1308/1308 [00:15<00:00, 85.79it/s]\n",
      "Cam: e3v831b | Trial: 23 | Frames: 39496-41092: 100%|██████████| 1596/1596 [00:19<00:00, 83.82it/s]\n",
      "Cam: e3v8360 | Trial: 23 | Frames: 39496-41092: 100%|██████████| 1596/1596 [00:19<00:00, 80.20it/s]\n",
      "Cam: e3v83ad | Trial: 23 | Frames: 39496-41092: 100%|██████████| 1596/1596 [00:20<00:00, 76.57it/s]\n",
      "Cam: e3v83d6 | Trial: 23 | Frames: 39496-41092: 100%|██████████| 1596/1596 [00:20<00:00, 77.55it/s]\n",
      "Cam: e3v831b | Trial: 24 | Frames: 41093-42910: 100%|██████████| 1817/1817 [00:23<00:00, 77.61it/s]\n",
      "Cam: e3v8360 | Trial: 24 | Frames: 41093-42910: 100%|██████████| 1817/1817 [00:24<00:00, 74.28it/s]\n",
      "Cam: e3v83ad | Trial: 24 | Frames: 41093-42910: 100%|██████████| 1817/1817 [00:22<00:00, 82.32it/s]\n",
      "Cam: e3v83d6 | Trial: 24 | Frames: 41093-42910: 100%|██████████| 1817/1817 [00:22<00:00, 81.55it/s]\n",
      "Cam: e3v831b | Trial: 25 | Frames: 42911-44713: 100%|██████████| 1802/1802 [00:27<00:00, 65.09it/s]\n",
      "Cam: e3v8360 | Trial: 25 | Frames: 42911-44713: 100%|██████████| 1802/1802 [00:25<00:00, 71.34it/s]\n",
      "Cam: e3v83ad | Trial: 25 | Frames: 42911-44713: 100%|██████████| 1802/1802 [00:29<00:00, 62.13it/s]\n",
      "Cam: e3v83d6 | Trial: 25 | Frames: 42911-44713: 100%|██████████| 1802/1802 [00:23<00:00, 76.15it/s]\n",
      "Cam: e3v831b | Trial: 26 | Frames: 44714-46349: 100%|██████████| 1635/1635 [00:19<00:00, 83.77it/s]\n",
      "Cam: e3v8360 | Trial: 26 | Frames: 44714-46349: 100%|██████████| 1635/1635 [00:19<00:00, 82.47it/s]\n",
      "Cam: e3v83ad | Trial: 26 | Frames: 44714-46349: 100%|██████████| 1635/1635 [00:19<00:00, 84.40it/s]\n",
      "Cam: e3v83d6 | Trial: 26 | Frames: 44714-46349: 100%|██████████| 1635/1635 [00:18<00:00, 86.50it/s]\n",
      "Cam: e3v831b | Trial: 27 | Frames: 46350-48191: 100%|██████████| 1841/1841 [00:21<00:00, 85.34it/s]\n",
      "Cam: e3v8360 | Trial: 27 | Frames: 46350-48191: 100%|██████████| 1841/1841 [00:21<00:00, 86.74it/s]\n",
      "Cam: e3v83ad | Trial: 27 | Frames: 46350-48191: 100%|██████████| 1841/1841 [00:21<00:00, 84.41it/s]\n",
      "Cam: e3v83d6 | Trial: 27 | Frames: 46350-48191: 100%|██████████| 1841/1841 [00:21<00:00, 85.21it/s]\n",
      "Cam: e3v831b | Trial: 28 | Frames: 48191-50048: 100%|██████████| 1857/1857 [00:21<00:00, 86.10it/s]\n",
      "Cam: e3v8360 | Trial: 28 | Frames: 48191-50048: 100%|██████████| 1857/1857 [00:21<00:00, 86.69it/s]\n",
      "Cam: e3v83ad | Trial: 28 | Frames: 48191-50048: 100%|██████████| 1857/1857 [00:23<00:00, 79.37it/s]\n",
      "Cam: e3v83d6 | Trial: 28 | Frames: 48191-50048: 100%|██████████| 1857/1857 [00:21<00:00, 86.65it/s]\n",
      "Cam: e3v831b | Trial: 29 | Frames: 50049-51549: 100%|██████████| 1500/1500 [00:17<00:00, 85.42it/s]\n",
      "Cam: e3v8360 | Trial: 29 | Frames: 50049-51549: 100%|██████████| 1500/1500 [00:17<00:00, 83.38it/s]\n",
      "Cam: e3v83ad | Trial: 29 | Frames: 50049-51549: 100%|██████████| 1500/1500 [00:17<00:00, 84.52it/s]\n",
      "Cam: e3v83d6 | Trial: 29 | Frames: 50049-51549: 100%|██████████| 1500/1500 [00:17<00:00, 86.95it/s]\n",
      "Cam: e3v831b | Trial: 30 | Frames: 51550-53028: 100%|██████████| 1478/1478 [00:17<00:00, 83.57it/s]\n",
      "Cam: e3v8360 | Trial: 30 | Frames: 51550-53028: 100%|██████████| 1478/1478 [00:17<00:00, 86.71it/s]\n",
      "Cam: e3v83ad | Trial: 30 | Frames: 51550-53028: 100%|██████████| 1478/1478 [00:17<00:00, 85.40it/s]\n",
      "Cam: e3v83d6 | Trial: 30 | Frames: 51550-53028: 100%|██████████| 1478/1478 [00:17<00:00, 86.16it/s]\n",
      "Cam: e3v831b | Trial: 31 | Frames: 53029-54848: 100%|██████████| 1819/1819 [00:21<00:00, 85.88it/s]\n",
      "Cam: e3v8360 | Trial: 31 | Frames: 53029-54848: 100%|██████████| 1819/1819 [00:20<00:00, 87.01it/s]\n",
      "Cam: e3v83ad | Trial: 31 | Frames: 53029-54848: 100%|██████████| 1819/1819 [00:21<00:00, 84.36it/s]\n",
      "Cam: e3v83d6 | Trial: 31 | Frames: 53029-54848: 100%|██████████| 1819/1819 [00:20<00:00, 87.29it/s]\n",
      "Cam: e3v831b | Trial: 32 | Frames: 54849-56801: 100%|██████████| 1952/1952 [00:22<00:00, 86.06it/s]\n",
      "Cam: e3v8360 | Trial: 32 | Frames: 54849-56801: 100%|██████████| 1952/1952 [00:22<00:00, 86.37it/s]\n",
      "Cam: e3v83ad | Trial: 32 | Frames: 54849-56801: 100%|██████████| 1952/1952 [00:23<00:00, 84.68it/s]\n",
      "Cam: e3v83d6 | Trial: 32 | Frames: 54849-56801: 100%|██████████| 1952/1952 [00:22<00:00, 86.31it/s]\n",
      "Cam: e3v831b | Trial: 33 | Frames: 56802-58937: 100%|██████████| 2135/2135 [00:25<00:00, 85.36it/s]\n",
      "Cam: e3v8360 | Trial: 33 | Frames: 56802-58937: 100%|██████████| 2135/2135 [00:24<00:00, 86.88it/s]\n",
      "Cam: e3v83ad | Trial: 33 | Frames: 56802-58937: 100%|██████████| 2135/2135 [00:25<00:00, 82.29it/s]\n",
      "Cam: e3v83d6 | Trial: 33 | Frames: 56802-58937: 100%|██████████| 2135/2135 [00:25<00:00, 84.79it/s]\n",
      "Cam: e3v831b | Trial: 34 | Frames: 58938-60418: 100%|██████████| 1480/1480 [00:17<00:00, 85.98it/s]\n",
      "Cam: e3v8360 | Trial: 34 | Frames: 58938-60418: 100%|██████████| 1480/1480 [00:17<00:00, 86.96it/s]\n",
      "Cam: e3v83ad | Trial: 34 | Frames: 58938-60418: 100%|██████████| 1480/1480 [00:17<00:00, 84.98it/s]\n",
      "Cam: e3v83d6 | Trial: 34 | Frames: 58938-60418: 100%|██████████| 1480/1480 [00:17<00:00, 86.29it/s]\n",
      "Cam: e3v831b | Trial: 35 | Frames: 60419-62390: 100%|██████████| 1971/1971 [00:24<00:00, 79.97it/s]\n",
      "Cam: e3v8360 | Trial: 35 | Frames: 60419-62390: 100%|██████████| 1971/1971 [00:23<00:00, 84.47it/s]\n",
      "Cam: e3v83ad | Trial: 35 | Frames: 60419-62390: 100%|██████████| 1971/1971 [00:27<00:00, 72.42it/s]\n",
      "Cam: e3v83d6 | Trial: 35 | Frames: 60419-62390: 100%|██████████| 1971/1971 [00:37<00:00, 52.63it/s]\n",
      "Cam: e3v831b | Trial: 36 | Frames: 62391-64219: 100%|██████████| 1828/1828 [00:28<00:00, 63.06it/s]\n",
      "Cam: e3v8360 | Trial: 36 | Frames: 62391-64219: 100%|██████████| 1828/1828 [00:27<00:00, 66.75it/s]\n",
      "Cam: e3v83ad | Trial: 36 | Frames: 62391-64219: 100%|██████████| 1828/1828 [00:22<00:00, 81.30it/s]\n",
      "Cam: e3v83d6 | Trial: 36 | Frames: 62391-64219: 100%|██████████| 1828/1828 [00:24<00:00, 73.97it/s]\n",
      "Cam: e3v831b | Trial: 37 | Frames: 64220-66119: 100%|██████████| 1899/1899 [00:23<00:00, 80.71it/s]\n",
      "Cam: e3v8360 | Trial: 37 | Frames: 64220-66119: 100%|██████████| 1899/1899 [00:23<00:00, 80.73it/s]\n",
      "Cam: e3v83ad | Trial: 37 | Frames: 64220-66119: 100%|██████████| 1899/1899 [00:23<00:00, 79.45it/s]\n",
      "Cam: e3v83d6 | Trial: 37 | Frames: 64220-66119: 100%|██████████| 1899/1899 [00:22<00:00, 83.83it/s]\n",
      "Cam: e3v831b | Trial: 38 | Frames: 66120-67887: 100%|██████████| 1767/1767 [00:21<00:00, 83.14it/s]\n",
      "Cam: e3v8360 | Trial: 38 | Frames: 66120-67887: 100%|██████████| 1767/1767 [00:21<00:00, 81.73it/s]\n",
      "Cam: e3v83ad | Trial: 38 | Frames: 66120-67887: 100%|██████████| 1767/1767 [00:21<00:00, 83.20it/s]\n",
      "Cam: e3v83d6 | Trial: 38 | Frames: 66120-67887: 100%|██████████| 1767/1767 [00:23<00:00, 75.85it/s]\n",
      "Cam: e3v831b | Trial: 39 | Frames: 67887-69590: 100%|██████████| 1703/1703 [00:20<00:00, 81.89it/s]\n",
      "Cam: e3v8360 | Trial: 39 | Frames: 67887-69590: 100%|██████████| 1703/1703 [00:21<00:00, 78.33it/s]\n",
      "Cam: e3v83ad | Trial: 39 | Frames: 67887-69590: 100%|██████████| 1703/1703 [00:21<00:00, 80.24it/s]\n",
      "Cam: e3v83d6 | Trial: 39 | Frames: 67887-69590: 100%|██████████| 1703/1703 [00:20<00:00, 82.75it/s]\n",
      "Cam: e3v831b | Trial: 40 | Frames: 69591-71450: 100%|██████████| 1859/1859 [00:25<00:00, 74.18it/s]\n",
      "Cam: e3v8360 | Trial: 40 | Frames: 69591-71450: 100%|██████████| 1859/1859 [00:23<00:00, 79.09it/s]\n",
      "Cam: e3v83ad | Trial: 40 | Frames: 69591-71450: 100%|██████████| 1859/1859 [00:23<00:00, 80.50it/s]\n",
      "Cam: e3v83d6 | Trial: 40 | Frames: 69591-71450: 100%|██████████| 1859/1859 [00:21<00:00, 86.35it/s]\n",
      "Cam: e3v831b | Trial: 41 | Frames: 71450-73311: 100%|██████████| 1861/1861 [00:23<00:00, 79.25it/s]\n",
      "Cam: e3v8360 | Trial: 41 | Frames: 71450-73311: 100%|██████████| 1861/1861 [00:21<00:00, 85.28it/s]\n",
      "Cam: e3v83ad | Trial: 41 | Frames: 71450-73311: 100%|██████████| 1861/1861 [00:25<00:00, 73.52it/s]\n",
      "Cam: e3v83d6 | Trial: 41 | Frames: 71450-73311: 100%|██████████| 1861/1861 [00:22<00:00, 82.79it/s]\n",
      "Cam: e3v831b | Trial: 42 | Frames: 73312-74991: 100%|██████████| 1679/1679 [00:21<00:00, 76.45it/s]\n",
      "Cam: e3v8360 | Trial: 42 | Frames: 73312-74991: 100%|██████████| 1679/1679 [00:20<00:00, 82.38it/s]\n",
      "Cam: e3v83ad | Trial: 42 | Frames: 73312-74991: 100%|██████████| 1679/1679 [00:21<00:00, 76.76it/s]\n",
      "Cam: e3v83d6 | Trial: 42 | Frames: 73312-74991: 100%|██████████| 1679/1679 [00:20<00:00, 81.43it/s]\n",
      "Cam: e3v831b | Trial: 43 | Frames: 74991-76908: 100%|██████████| 1917/1917 [00:24<00:00, 77.19it/s]\n",
      "Cam: e3v8360 | Trial: 43 | Frames: 74991-76908: 100%|██████████| 1917/1917 [00:24<00:00, 79.79it/s]\n",
      "Cam: e3v83ad | Trial: 43 | Frames: 74991-76908: 100%|██████████| 1917/1917 [00:23<00:00, 82.96it/s]\n",
      "Cam: e3v83d6 | Trial: 43 | Frames: 74991-76908: 100%|██████████| 1917/1917 [00:24<00:00, 77.12it/s]\n",
      "Cam: e3v831b | Trial: 44 | Frames: 76909-78931: 100%|██████████| 2022/2022 [00:26<00:00, 76.30it/s]\n",
      "Cam: e3v8360 | Trial: 44 | Frames: 76909-78931: 100%|██████████| 2022/2022 [00:25<00:00, 79.31it/s]\n",
      "Cam: e3v83ad | Trial: 44 | Frames: 76909-78931: 100%|██████████| 2022/2022 [00:25<00:00, 77.98it/s]\n",
      "Cam: e3v83d6 | Trial: 44 | Frames: 76909-78931: 100%|██████████| 2022/2022 [00:26<00:00, 75.62it/s]\n",
      "Cam: e3v831b | Trial: 45 | Frames: 78932-80735: 100%|██████████| 1803/1803 [00:22<00:00, 81.20it/s]\n",
      "Cam: e3v8360 | Trial: 45 | Frames: 78932-80735: 100%|██████████| 1803/1803 [00:22<00:00, 79.81it/s]\n",
      "Cam: e3v83ad | Trial: 45 | Frames: 78932-80735: 100%|██████████| 1803/1803 [00:22<00:00, 79.99it/s]\n",
      "Cam: e3v83d6 | Trial: 45 | Frames: 78932-80735: 100%|██████████| 1803/1803 [00:22<00:00, 79.22it/s]\n",
      "Cam: e3v831b | Trial: 46 | Frames: 80736-82967: 100%|██████████| 2231/2231 [00:27<00:00, 82.36it/s]\n",
      "Cam: e3v8360 | Trial: 46 | Frames: 80736-82967: 100%|██████████| 2231/2231 [00:29<00:00, 74.76it/s]\n",
      "Cam: e3v83ad | Trial: 46 | Frames: 80736-82967: 100%|██████████| 2231/2231 [00:28<00:00, 78.95it/s]\n",
      "Cam: e3v83d6 | Trial: 46 | Frames: 80736-82967: 100%|██████████| 2231/2231 [00:27<00:00, 81.25it/s]\n",
      "Cam: e3v831b | Trial: 47 | Frames: 82968-84746: 100%|██████████| 1778/1778 [00:21<00:00, 81.59it/s]\n",
      "Cam: e3v8360 | Trial: 47 | Frames: 82968-84746: 100%|██████████| 1778/1778 [00:21<00:00, 84.56it/s]\n",
      "Cam: e3v83ad | Trial: 47 | Frames: 82968-84746: 100%|██████████| 1778/1778 [00:21<00:00, 84.17it/s]\n",
      "Cam: e3v83d6 | Trial: 47 | Frames: 82968-84746: 100%|██████████| 1778/1778 [00:21<00:00, 82.28it/s]\n",
      "Cam: e3v831b | Trial: 48 | Frames: 84747-85999: 100%|██████████| 1252/1252 [00:15<00:00, 80.15it/s]\n",
      "Cam: e3v8360 | Trial: 48 | Frames: 84747-85999: 100%|██████████| 1252/1252 [00:16<00:00, 73.96it/s]\n",
      "Cam: e3v83ad | Trial: 48 | Frames: 84747-85999: 100%|██████████| 1252/1252 [00:15<00:00, 81.33it/s]\n",
      "Cam: e3v83d6 | Trial: 48 | Frames: 84747-85999: 100%|██████████| 1252/1252 [00:16<00:00, 76.74it/s]\n",
      "Cam: e3v831b | Trial: 49 | Frames: 86000-87420: 100%|██████████| 1420/1420 [00:17<00:00, 82.85it/s]\n",
      "Cam: e3v8360 | Trial: 49 | Frames: 86000-87420: 100%|██████████| 1420/1420 [00:17<00:00, 82.85it/s]\n",
      "Cam: e3v83ad | Trial: 49 | Frames: 86000-87420: 100%|██████████| 1420/1420 [00:17<00:00, 79.13it/s]\n",
      "Cam: e3v83d6 | Trial: 49 | Frames: 86000-87420: 100%|██████████| 1420/1420 [00:16<00:00, 86.89it/s]\n",
      "Cam: e3v831b | Trial: 50 | Frames: 87421-89072: 100%|██████████| 1651/1651 [00:20<00:00, 82.32it/s]\n",
      "Cam: e3v8360 | Trial: 50 | Frames: 87421-89072: 100%|██████████| 1651/1651 [00:20<00:00, 82.47it/s]\n",
      "Cam: e3v83ad | Trial: 50 | Frames: 87421-89072: 100%|██████████| 1651/1651 [00:19<00:00, 83.68it/s]\n",
      "Cam: e3v83d6 | Trial: 50 | Frames: 87421-89072: 100%|██████████| 1651/1651 [00:19<00:00, 84.53it/s]\n",
      "Cam: e3v831b | Trial: 51 | Frames: 89073-91001: 100%|██████████| 1928/1928 [00:22<00:00, 84.53it/s]\n",
      "Cam: e3v8360 | Trial: 51 | Frames: 89073-91001: 100%|██████████| 1928/1928 [00:24<00:00, 78.37it/s]\n",
      "Cam: e3v83ad | Trial: 51 | Frames: 89073-91001: 100%|██████████| 1928/1928 [00:22<00:00, 84.05it/s]\n",
      "Cam: e3v83d6 | Trial: 51 | Frames: 89073-91001: 100%|██████████| 1928/1928 [00:23<00:00, 83.74it/s]\n",
      "Cam: e3v831b | Trial: 52 | Frames: 91002-92465: 100%|██████████| 1463/1463 [00:17<00:00, 85.01it/s]\n",
      "Cam: e3v8360 | Trial: 52 | Frames: 91002-92465: 100%|██████████| 1463/1463 [00:16<00:00, 87.64it/s]\n",
      "Cam: e3v83ad | Trial: 52 | Frames: 91002-92465: 100%|██████████| 1463/1463 [00:17<00:00, 84.37it/s]\n",
      "Cam: e3v83d6 | Trial: 52 | Frames: 91002-92465: 100%|██████████| 1463/1463 [00:16<00:00, 87.69it/s]\n",
      "Cam: e3v831b | Trial: 53 | Frames: 92465-94338: 100%|██████████| 1873/1873 [00:25<00:00, 74.02it/s]\n",
      "Cam: e3v8360 | Trial: 53 | Frames: 92465-94338: 100%|██████████| 1873/1873 [00:23<00:00, 81.17it/s]\n",
      "Cam: e3v83ad | Trial: 53 | Frames: 92465-94338: 100%|██████████| 1873/1873 [00:24<00:00, 77.83it/s]\n",
      "Cam: e3v83d6 | Trial: 53 | Frames: 92465-94338: 100%|██████████| 1873/1873 [00:23<00:00, 79.36it/s]\n",
      "Cam: e3v831b | Trial: 54 | Frames: 94339-95925: 100%|██████████| 1586/1586 [00:19<00:00, 79.48it/s]\n",
      "Cam: e3v8360 | Trial: 54 | Frames: 94339-95925: 100%|██████████| 1586/1586 [00:19<00:00, 81.58it/s]\n",
      "Cam: e3v83ad | Trial: 54 | Frames: 94339-95925: 100%|██████████| 1586/1586 [00:18<00:00, 85.04it/s]\n",
      "Cam: e3v83d6 | Trial: 54 | Frames: 94339-95925: 100%|██████████| 1586/1586 [00:18<00:00, 86.87it/s]\n",
      "Cam: e3v831b | Trial: 55 | Frames: 95926-97731: 100%|██████████| 1805/1805 [00:21<00:00, 83.93it/s]\n",
      "Cam: e3v8360 | Trial: 55 | Frames: 95926-97731: 100%|██████████| 1805/1805 [00:20<00:00, 86.28it/s]\n",
      "Cam: e3v83ad | Trial: 55 | Frames: 95926-97731: 100%|██████████| 1805/1805 [00:21<00:00, 83.87it/s]\n",
      "Cam: e3v83d6 | Trial: 55 | Frames: 95926-97731: 100%|██████████| 1805/1805 [00:22<00:00, 81.12it/s]\n",
      "Cam: e3v831b | Trial: 56 | Frames: 97732-99396: 100%|██████████| 1664/1664 [00:21<00:00, 78.77it/s]\n",
      "Cam: e3v8360 | Trial: 56 | Frames: 97732-99396: 100%|██████████| 1664/1664 [00:19<00:00, 85.55it/s]\n",
      "Cam: e3v83ad | Trial: 56 | Frames: 97732-99396: 100%|██████████| 1664/1664 [00:19<00:00, 84.08it/s]\n",
      "Cam: e3v83d6 | Trial: 56 | Frames: 97732-99396: 100%|██████████| 1664/1664 [00:21<00:00, 77.79it/s]\n",
      "Cam: e3v831b | Trial: 57 | Frames: 99397-101096: 100%|██████████| 1699/1699 [00:20<00:00, 81.75it/s]\n",
      "Cam: e3v8360 | Trial: 57 | Frames: 99397-101096: 100%|██████████| 1699/1699 [00:20<00:00, 82.72it/s]\n",
      "Cam: e3v83ad | Trial: 57 | Frames: 99397-101096: 100%|██████████| 1699/1699 [00:20<00:00, 81.04it/s]\n",
      "Cam: e3v83d6 | Trial: 57 | Frames: 99397-101096: 100%|██████████| 1699/1699 [00:20<00:00, 82.45it/s]\n",
      "Cam: e3v831b | Trial: 58 | Frames: 101097-102969: 100%|██████████| 1872/1872 [00:22<00:00, 82.09it/s]\n",
      "Cam: e3v8360 | Trial: 58 | Frames: 101097-102969: 100%|██████████| 1872/1872 [00:22<00:00, 81.84it/s]\n",
      "Cam: e3v83ad | Trial: 58 | Frames: 101097-102969: 100%|██████████| 1872/1872 [00:22<00:00, 81.51it/s]\n",
      "Cam: e3v83d6 | Trial: 58 | Frames: 101097-102969: 100%|██████████| 1872/1872 [00:22<00:00, 82.60it/s]\n",
      "Cam: e3v831b | Trial: 59 | Frames: 102970-104440: 100%|██████████| 1470/1470 [00:18<00:00, 80.51it/s]\n",
      "Cam: e3v8360 | Trial: 59 | Frames: 102970-104440: 100%|██████████| 1470/1470 [00:18<00:00, 78.52it/s]\n",
      "Cam: e3v83ad | Trial: 59 | Frames: 102970-104440: 100%|██████████| 1470/1470 [00:18<00:00, 80.20it/s]\n",
      "Cam: e3v83d6 | Trial: 59 | Frames: 102970-104440: 100%|██████████| 1470/1470 [00:17<00:00, 83.69it/s]\n",
      "Cam: e3v831b | Trial: 60 | Frames: 104441-106158: 100%|██████████| 1717/1717 [00:21<00:00, 80.58it/s]\n",
      "Cam: e3v8360 | Trial: 60 | Frames: 104441-106158: 100%|██████████| 1717/1717 [00:20<00:00, 83.18it/s]\n",
      "Cam: e3v83ad | Trial: 60 | Frames: 104441-106158: 100%|██████████| 1717/1717 [00:20<00:00, 82.25it/s]\n",
      "Cam: e3v83d6 | Trial: 60 | Frames: 104441-106158: 100%|██████████| 1717/1717 [00:20<00:00, 84.22it/s]\n",
      "Cam: e3v831b | Trial: 61 | Frames: 106159-107665: 100%|██████████| 1506/1506 [00:18<00:00, 82.91it/s]\n",
      "Cam: e3v8360 | Trial: 61 | Frames: 106159-107665: 100%|██████████| 1506/1506 [00:18<00:00, 81.89it/s]\n",
      "Cam: e3v83ad | Trial: 61 | Frames: 106159-107665: 100%|██████████| 1506/1506 [00:18<00:00, 79.71it/s]\n",
      "Cam: e3v83d6 | Trial: 61 | Frames: 106159-107665: 100%|██████████| 1506/1506 [00:18<00:00, 80.13it/s]\n",
      "Cam: e3v831b | Trial: 62 | Frames: 107666-109216: 100%|██████████| 1550/1550 [00:19<00:00, 80.45it/s]\n",
      "Cam: e3v8360 | Trial: 62 | Frames: 107666-109216: 100%|██████████| 1550/1550 [00:18<00:00, 81.67it/s]\n",
      "Cam: e3v83ad | Trial: 62 | Frames: 107666-109216: 100%|██████████| 1550/1550 [00:19<00:00, 78.32it/s]\n",
      "Cam: e3v83d6 | Trial: 62 | Frames: 107666-109216: 100%|██████████| 1550/1550 [00:18<00:00, 82.66it/s]\n",
      "Cam: e3v831b | Trial: 63 | Frames: 109217-110922: 100%|██████████| 1705/1705 [00:20<00:00, 81.67it/s]\n",
      "Cam: e3v8360 | Trial: 63 | Frames: 109217-110922: 100%|██████████| 1705/1705 [00:21<00:00, 80.63it/s]\n",
      "Cam: e3v83ad | Trial: 63 | Frames: 109217-110922: 100%|██████████| 1705/1705 [00:20<00:00, 83.45it/s]\n",
      "Cam: e3v83d6 | Trial: 63 | Frames: 109217-110922: 100%|██████████| 1705/1705 [00:20<00:00, 82.94it/s]\n",
      "Cam: e3v831b | Trial: 64 | Frames: 110923-112767: 100%|██████████| 1844/1844 [00:22<00:00, 81.11it/s]\n",
      "Cam: e3v8360 | Trial: 64 | Frames: 110923-112767: 100%|██████████| 1844/1844 [00:23<00:00, 78.53it/s]\n",
      "Cam: e3v83ad | Trial: 64 | Frames: 110923-112767: 100%|██████████| 1844/1844 [00:23<00:00, 77.78it/s]\n",
      "Cam: e3v83d6 | Trial: 64 | Frames: 110923-112767: 100%|██████████| 1844/1844 [00:22<00:00, 81.98it/s]\n",
      "Cam: e3v831b | Trial: 65 | Frames: 112768-114496: 100%|██████████| 1728/1728 [00:21<00:00, 81.14it/s]\n",
      "Cam: e3v8360 | Trial: 65 | Frames: 112768-114496: 100%|██████████| 1728/1728 [00:20<00:00, 82.93it/s]\n",
      "Cam: e3v83ad | Trial: 65 | Frames: 112768-114496: 100%|██████████| 1728/1728 [00:21<00:00, 81.93it/s]\n",
      "Cam: e3v83d6 | Trial: 65 | Frames: 112768-114496: 100%|██████████| 1728/1728 [00:21<00:00, 82.28it/s]\n",
      "Cam: e3v831b | Trial: 66 | Frames: 114497-116524: 100%|██████████| 2027/2027 [00:25<00:00, 79.80it/s]\n",
      "Cam: e3v8360 | Trial: 66 | Frames: 114497-116524: 100%|██████████| 2027/2027 [00:25<00:00, 80.69it/s]\n",
      "Cam: e3v83ad | Trial: 66 | Frames: 114497-116524: 100%|██████████| 2027/2027 [00:24<00:00, 81.28it/s]\n",
      "Cam: e3v83d6 | Trial: 66 | Frames: 114497-116524: 100%|██████████| 2027/2027 [00:24<00:00, 83.88it/s]\n",
      "Cam: e3v831b | Trial: 67 | Frames: 116525-120397: 100%|██████████| 3872/3872 [00:49<00:00, 78.20it/s]\n",
      "Cam: e3v8360 | Trial: 67 | Frames: 116525-120397: 100%|██████████| 3872/3872 [00:47<00:00, 81.60it/s]\n",
      "Cam: e3v83ad | Trial: 67 | Frames: 116525-120397: 100%|██████████| 3872/3872 [00:49<00:00, 78.83it/s]\n",
      "Cam: e3v83d6 | Trial: 67 | Frames: 116525-120397: 100%|██████████| 3872/3872 [00:50<00:00, 77.31it/s]\n",
      "Cam: e3v831b | Trial: 68 | Frames: 120398-122489: 100%|██████████| 2091/2091 [00:24<00:00, 85.15it/s]\n",
      "Cam: e3v8360 | Trial: 68 | Frames: 120398-122489: 100%|██████████| 2091/2091 [00:24<00:00, 86.81it/s]\n",
      "Cam: e3v83ad | Trial: 68 | Frames: 120398-122489: 100%|██████████| 2091/2091 [00:24<00:00, 85.04it/s]\n",
      "Cam: e3v83d6 | Trial: 68 | Frames: 120398-122489: 100%|██████████| 2091/2091 [00:24<00:00, 86.99it/s]\n",
      "Cam: e3v831b | Trial: 69 | Frames: 122490-123996: 100%|██████████| 1506/1506 [00:17<00:00, 85.76it/s]\n",
      "Cam: e3v8360 | Trial: 69 | Frames: 122490-123996: 100%|██████████| 1506/1506 [00:17<00:00, 86.62it/s]\n",
      "Cam: e3v83ad | Trial: 69 | Frames: 122490-123996: 100%|██████████| 1506/1506 [00:17<00:00, 86.09it/s]\n",
      "Cam: e3v83d6 | Trial: 69 | Frames: 122490-123996: 100%|██████████| 1506/1506 [00:17<00:00, 87.01it/s]\n",
      "Cam: e3v831b | Trial: 70 | Frames: 123997-125616: 100%|██████████| 1619/1619 [00:18<00:00, 86.15it/s]\n",
      "Cam: e3v8360 | Trial: 70 | Frames: 123997-125616: 100%|██████████| 1619/1619 [00:20<00:00, 80.73it/s]\n",
      "Cam: e3v83ad | Trial: 70 | Frames: 123997-125616: 100%|██████████| 1619/1619 [00:19<00:00, 85.08it/s]\n",
      "Cam: e3v83d6 | Trial: 70 | Frames: 123997-125616: 100%|██████████| 1619/1619 [00:18<00:00, 85.84it/s]\n",
      "Cam: e3v831b | Trial: 71 | Frames: 125617-127407: 100%|██████████| 1790/1790 [00:20<00:00, 85.57it/s]\n",
      "Cam: e3v8360 | Trial: 71 | Frames: 125617-127407: 100%|██████████| 1790/1790 [00:20<00:00, 86.63it/s]\n",
      "Cam: e3v83ad | Trial: 71 | Frames: 125617-127407: 100%|██████████| 1790/1790 [00:21<00:00, 85.02it/s]\n",
      "Cam: e3v83d6 | Trial: 71 | Frames: 125617-127407: 100%|██████████| 1790/1790 [00:20<00:00, 86.26it/s]\n",
      "Cam: e3v831b | Trial: 72 | Frames: 127408-129265: 100%|██████████| 1857/1857 [00:22<00:00, 82.72it/s]\n",
      "Cam: e3v8360 | Trial: 72 | Frames: 127408-129265: 100%|██████████| 1857/1857 [00:21<00:00, 85.99it/s]\n",
      "Cam: e3v83ad | Trial: 72 | Frames: 127408-129265: 100%|██████████| 1857/1857 [00:22<00:00, 82.25it/s]\n",
      "Cam: e3v83d6 | Trial: 72 | Frames: 127408-129265: 100%|██████████| 1857/1857 [00:21<00:00, 87.12it/s]\n",
      "Cam: e3v831b | Trial: 73 | Frames: 129266-130488: 100%|██████████| 1222/1222 [00:14<00:00, 86.16it/s]\n",
      "Cam: e3v8360 | Trial: 73 | Frames: 129266-130488: 100%|██████████| 1222/1222 [00:13<00:00, 87.41it/s]\n",
      "Cam: e3v83ad | Trial: 73 | Frames: 129266-130488: 100%|██████████| 1222/1222 [00:14<00:00, 85.68it/s]\n",
      "Cam: e3v83d6 | Trial: 73 | Frames: 129266-130488: 100%|██████████| 1222/1222 [00:13<00:00, 88.00it/s]\n",
      "Cam: e3v831b | Trial: 74 | Frames: 130489-131941: 100%|██████████| 1452/1452 [00:16<00:00, 86.57it/s]\n",
      "Cam: e3v8360 | Trial: 74 | Frames: 130489-131941: 100%|██████████| 1452/1452 [00:16<00:00, 86.33it/s]\n",
      "Cam: e3v83ad | Trial: 74 | Frames: 130489-131941: 100%|██████████| 1452/1452 [00:16<00:00, 85.54it/s]\n",
      "Cam: e3v83d6 | Trial: 74 | Frames: 130489-131941: 100%|██████████| 1452/1452 [00:17<00:00, 84.04it/s]\n",
      "Cam: e3v831b | Trial: 75 | Frames: 131942-133554: 100%|██████████| 1612/1612 [00:18<00:00, 85.99it/s]\n",
      "Cam: e3v8360 | Trial: 75 | Frames: 131942-133554: 100%|██████████| 1612/1612 [00:18<00:00, 85.82it/s]\n",
      "Cam: e3v83ad | Trial: 75 | Frames: 131942-133554: 100%|██████████| 1612/1612 [00:19<00:00, 84.54it/s]\n",
      "Cam: e3v83d6 | Trial: 75 | Frames: 131942-133554: 100%|██████████| 1612/1612 [00:18<00:00, 87.01it/s]\n",
      "Cam: e3v831b | Trial: 76 | Frames: 133555-135324: 100%|██████████| 1769/1769 [00:21<00:00, 83.51it/s]\n",
      "Cam: e3v8360 | Trial: 76 | Frames: 133555-135324: 100%|██████████| 1769/1769 [00:20<00:00, 86.64it/s]\n",
      "Cam: e3v83ad | Trial: 76 | Frames: 133555-135324: 100%|██████████| 1769/1769 [00:20<00:00, 85.61it/s]\n",
      "Cam: e3v83d6 | Trial: 76 | Frames: 133555-135324: 100%|██████████| 1769/1769 [00:20<00:00, 84.92it/s]\n",
      "Cam: e3v831b | Trial: 77 | Frames: 135325-137003: 100%|██████████| 1678/1678 [00:20<00:00, 83.81it/s]\n",
      "Cam: e3v8360 | Trial: 77 | Frames: 135325-137003: 100%|██████████| 1678/1678 [00:19<00:00, 85.01it/s]\n",
      "Cam: e3v83ad | Trial: 77 | Frames: 135325-137003: 100%|██████████| 1678/1678 [00:20<00:00, 83.75it/s]\n",
      "Cam: e3v83d6 | Trial: 77 | Frames: 135325-137003: 100%|██████████| 1678/1678 [00:19<00:00, 84.65it/s]\n",
      "Cam: e3v831b | Trial: 78 | Frames: 137004-138302: 100%|██████████| 1298/1298 [00:15<00:00, 85.92it/s]\n",
      "Cam: e3v8360 | Trial: 78 | Frames: 137004-138302: 100%|██████████| 1298/1298 [00:14<00:00, 87.04it/s]\n",
      "Cam: e3v83ad | Trial: 78 | Frames: 137004-138302: 100%|██████████| 1298/1298 [00:15<00:00, 84.48it/s]\n",
      "Cam: e3v83d6 | Trial: 78 | Frames: 137004-138302: 100%|██████████| 1298/1298 [00:14<00:00, 87.40it/s]\n",
      "Cam: e3v831b | Trial: 79 | Frames: 138303-139767: 100%|██████████| 1464/1464 [00:17<00:00, 83.95it/s]\n",
      "Cam: e3v8360 | Trial: 79 | Frames: 138303-139767: 100%|██████████| 1464/1464 [00:16<00:00, 87.06it/s]\n",
      "Cam: e3v83ad | Trial: 79 | Frames: 138303-139767: 100%|██████████| 1464/1464 [00:17<00:00, 85.92it/s]\n",
      "Cam: e3v83d6 | Trial: 79 | Frames: 138303-139767: 100%|██████████| 1464/1464 [00:16<00:00, 87.43it/s]\n",
      "Cam: e3v831b | Trial: 80 | Frames: 139768-141535: 100%|██████████| 1767/1767 [00:20<00:00, 86.25it/s]\n",
      "Cam: e3v8360 | Trial: 80 | Frames: 139768-141535: 100%|██████████| 1767/1767 [00:20<00:00, 87.11it/s]\n",
      "Cam: e3v83ad | Trial: 80 | Frames: 139768-141535: 100%|██████████| 1767/1767 [00:20<00:00, 84.98it/s]\n",
      "Cam: e3v83d6 | Trial: 80 | Frames: 139768-141535: 100%|██████████| 1767/1767 [00:20<00:00, 86.27it/s]\n",
      "Cam: e3v831b | Trial: 81 | Frames: 141536-143012: 100%|██████████| 1476/1476 [00:17<00:00, 85.78it/s]\n",
      "Cam: e3v8360 | Trial: 81 | Frames: 141536-143012: 100%|██████████| 1476/1476 [00:16<00:00, 86.86it/s]\n",
      "Cam: e3v83ad | Trial: 81 | Frames: 141536-143012: 100%|██████████| 1476/1476 [00:17<00:00, 84.47it/s]\n",
      "Cam: e3v83d6 | Trial: 81 | Frames: 141536-143012: 100%|██████████| 1476/1476 [00:16<00:00, 86.97it/s]\n"
     ]
    },
    {
     "name": "stdout",
     "output_type": "stream",
     "text": [
      "Video not found for trial 82 although frame epochs found\n",
      "  Cam: e3v831b\n",
      "  Frame Start: 143013\n",
      "  Frame End: 144347\n",
      "Video not found for trial 82 although frame epochs found\n",
      "  Cam: e3v8360\n",
      "  Frame Start: 143013\n",
      "  Frame End: 144347\n",
      "Video not found for trial 82 although frame epochs found\n",
      "  Cam: e3v83ad\n",
      "  Frame Start: 143013\n",
      "  Frame End: 144347\n",
      "Video not found for trial 82 although frame epochs found\n",
      "  Cam: e3v83d6\n",
      "  Frame Start: 143013\n",
      "  Frame End: 144347\n"
     ]
    },
    {
     "name": "stderr",
     "output_type": "stream",
     "text": [
      "Cam: e3v831b | Trial: 83 | Frames: 225-2110: 100%|██████████| 1885/1885 [00:21<00:00, 85.92it/s]\n",
      "Cam: e3v8360 | Trial: 83 | Frames: 225-2110: 100%|██████████| 1885/1885 [00:21<00:00, 86.65it/s]\n",
      "Cam: e3v83ad | Trial: 83 | Frames: 225-2110: 100%|██████████| 1885/1885 [00:21<00:00, 86.15it/s]\n",
      "Cam: e3v83d6 | Trial: 83 | Frames: 225-2110: 100%|██████████| 1885/1885 [00:21<00:00, 86.59it/s]\n",
      "Cam: e3v831b | Trial: 84 | Frames: 2111-3791: 100%|██████████| 1680/1680 [00:19<00:00, 86.17it/s]\n",
      "Cam: e3v8360 | Trial: 84 | Frames: 2111-3791: 100%|██████████| 1680/1680 [00:19<00:00, 87.51it/s]\n",
      "Cam: e3v83ad | Trial: 84 | Frames: 2111-3791: 100%|██████████| 1680/1680 [00:19<00:00, 85.25it/s]\n",
      "Cam: e3v83d6 | Trial: 84 | Frames: 2111-3791: 100%|██████████| 1680/1680 [00:19<00:00, 86.91it/s]\n",
      "Cam: e3v831b | Trial: 85 | Frames: 3792-5563: 100%|██████████| 1771/1771 [00:20<00:00, 86.08it/s]\n",
      "Cam: e3v8360 | Trial: 85 | Frames: 3792-5563: 100%|██████████| 1771/1771 [00:20<00:00, 85.57it/s]\n",
      "Cam: e3v83ad | Trial: 85 | Frames: 3792-5563: 100%|██████████| 1771/1771 [00:20<00:00, 84.90it/s]\n",
      "Cam: e3v83d6 | Trial: 85 | Frames: 3792-5563: 100%|██████████| 1771/1771 [00:20<00:00, 87.38it/s]\n",
      "Cam: e3v831b | Trial: 86 | Frames: 5563-7070: 100%|██████████| 1507/1507 [00:17<00:00, 85.43it/s]\n",
      "Cam: e3v8360 | Trial: 86 | Frames: 5563-7070: 100%|██████████| 1507/1507 [00:17<00:00, 84.27it/s]\n",
      "Cam: e3v83ad | Trial: 86 | Frames: 5563-7070: 100%|██████████| 1507/1507 [00:17<00:00, 85.62it/s]\n",
      "Cam: e3v83d6 | Trial: 86 | Frames: 5563-7070: 100%|██████████| 1507/1507 [00:17<00:00, 88.19it/s]\n",
      "Cam: e3v831b | Trial: 87 | Frames: 7071-8515: 100%|██████████| 1444/1444 [00:17<00:00, 82.82it/s]\n",
      "Cam: e3v8360 | Trial: 87 | Frames: 7071-8515: 100%|██████████| 1444/1444 [00:18<00:00, 78.67it/s]\n",
      "Cam: e3v83ad | Trial: 87 | Frames: 7071-8515: 100%|██████████| 1444/1444 [00:16<00:00, 85.94it/s]\n",
      "Cam: e3v83d6 | Trial: 87 | Frames: 7071-8515: 100%|██████████| 1444/1444 [00:16<00:00, 87.97it/s]\n",
      "Cam: e3v831b | Trial: 88 | Frames: 8516-10232: 100%|██████████| 1716/1716 [00:19<00:00, 85.97it/s]\n",
      "Cam: e3v8360 | Trial: 88 | Frames: 8516-10232: 100%|██████████| 1716/1716 [00:19<00:00, 87.67it/s]\n",
      "Cam: e3v83ad | Trial: 88 | Frames: 8516-10232: 100%|██████████| 1716/1716 [00:21<00:00, 80.11it/s]\n",
      "Cam: e3v83d6 | Trial: 88 | Frames: 8516-10232: 100%|██████████| 1716/1716 [00:19<00:00, 86.94it/s]\n",
      "Cam: e3v831b | Trial: 89 | Frames: 10234-12190: 100%|██████████| 1956/1956 [00:22<00:00, 85.52it/s]\n",
      "Cam: e3v8360 | Trial: 89 | Frames: 10234-12190: 100%|██████████| 1956/1956 [00:22<00:00, 86.11it/s]\n",
      "Cam: e3v83ad | Trial: 89 | Frames: 10234-12190: 100%|██████████| 1956/1956 [00:23<00:00, 84.65it/s]\n",
      "Cam: e3v83d6 | Trial: 89 | Frames: 10234-12190: 100%|██████████| 1956/1956 [00:22<00:00, 87.24it/s]\n",
      "Cam: e3v831b | Trial: 90 | Frames: 12191-14346: 100%|██████████| 2155/2155 [00:24<00:00, 86.67it/s]\n",
      "Cam: e3v8360 | Trial: 90 | Frames: 12191-14346: 100%|██████████| 2155/2155 [00:24<00:00, 87.68it/s]\n",
      "Cam: e3v83ad | Trial: 90 | Frames: 12191-14346: 100%|██████████| 2155/2155 [00:27<00:00, 78.03it/s]\n",
      "Cam: e3v83d6 | Trial: 90 | Frames: 12191-14346: 100%|██████████| 2155/2155 [00:24<00:00, 86.62it/s]\n",
      "Cam: e3v831b | Trial: 91 | Frames: 14347-15937: 100%|██████████| 1590/1590 [00:18<00:00, 85.66it/s]\n",
      "Cam: e3v8360 | Trial: 91 | Frames: 14347-15937: 100%|██████████| 1590/1590 [00:18<00:00, 87.44it/s]\n",
      "Cam: e3v83ad | Trial: 91 | Frames: 14347-15937: 100%|██████████| 1590/1590 [00:18<00:00, 86.16it/s]\n",
      "Cam: e3v83d6 | Trial: 91 | Frames: 14347-15937: 100%|██████████| 1590/1590 [00:18<00:00, 86.30it/s]\n",
      "Cam: e3v831b | Trial: 92 | Frames: 15938-17806: 100%|██████████| 1868/1868 [00:22<00:00, 84.13it/s]\n",
      "Cam: e3v8360 | Trial: 92 | Frames: 15938-17806: 100%|██████████| 1868/1868 [00:21<00:00, 87.35it/s]\n",
      "Cam: e3v83ad | Trial: 92 | Frames: 15938-17806: 100%|██████████| 1868/1868 [00:21<00:00, 85.71it/s]\n",
      "Cam: e3v83d6 | Trial: 92 | Frames: 15938-17806: 100%|██████████| 1868/1868 [00:21<00:00, 87.13it/s]\n",
      "Cam: e3v831b | Trial: 93 | Frames: 17808-19296: 100%|██████████| 1488/1488 [00:18<00:00, 78.88it/s]\n",
      "Cam: e3v8360 | Trial: 93 | Frames: 17808-19296: 100%|██████████| 1488/1488 [00:17<00:00, 85.87it/s]\n",
      "Cam: e3v83ad | Trial: 93 | Frames: 17808-19296: 100%|██████████| 1488/1488 [00:17<00:00, 85.43it/s]\n",
      "Cam: e3v83d6 | Trial: 93 | Frames: 17808-19296: 100%|██████████| 1488/1488 [00:17<00:00, 87.43it/s]\n",
      "Cam: e3v831b | Trial: 94 | Frames: 19297-21115: 100%|██████████| 1818/1818 [00:21<00:00, 84.65it/s]\n",
      "Cam: e3v8360 | Trial: 94 | Frames: 19297-21115: 100%|██████████| 1818/1818 [00:20<00:00, 87.66it/s]\n",
      "Cam: e3v83ad | Trial: 94 | Frames: 19297-21115: 100%|██████████| 1818/1818 [00:22<00:00, 82.29it/s]\n",
      "Cam: e3v83d6 | Trial: 94 | Frames: 19297-21115: 100%|██████████| 1818/1818 [00:22<00:00, 81.83it/s]\n",
      "Cam: e3v831b | Trial: 95 | Frames: 21116-22987: 100%|██████████| 1871/1871 [00:23<00:00, 80.64it/s]\n",
      "Cam: e3v8360 | Trial: 95 | Frames: 21116-22987: 100%|██████████| 1871/1871 [00:21<00:00, 86.40it/s]\n",
      "Cam: e3v83ad | Trial: 95 | Frames: 21116-22987: 100%|██████████| 1871/1871 [00:22<00:00, 81.75it/s]\n",
      "Cam: e3v83d6 | Trial: 95 | Frames: 21116-22987: 100%|██████████| 1871/1871 [00:21<00:00, 86.84it/s]\n",
      "Cam: e3v831b | Trial: 96 | Frames: 22988-24136: 100%|██████████| 1148/1148 [00:13<00:00, 86.63it/s]\n",
      "Cam: e3v8360 | Trial: 96 | Frames: 22988-24136: 100%|██████████| 1148/1148 [00:13<00:00, 87.85it/s]\n",
      "Cam: e3v83ad | Trial: 96 | Frames: 22988-24136: 100%|██████████| 1148/1148 [00:13<00:00, 85.58it/s]\n",
      "Cam: e3v83d6 | Trial: 96 | Frames: 22988-24136: 100%|██████████| 1148/1148 [00:13<00:00, 86.91it/s]\n",
      "Cam: e3v831b | Trial: 97 | Frames: 24137-25487: 100%|██████████| 1350/1350 [00:15<00:00, 84.58it/s]\n",
      "Cam: e3v8360 | Trial: 97 | Frames: 24137-25487: 100%|██████████| 1350/1350 [00:15<00:00, 87.47it/s]\n",
      "Cam: e3v83ad | Trial: 97 | Frames: 24137-25487: 100%|██████████| 1350/1350 [00:15<00:00, 85.85it/s]\n",
      "Cam: e3v83d6 | Trial: 97 | Frames: 24137-25487: 100%|██████████| 1350/1350 [00:15<00:00, 87.49it/s]\n",
      "Cam: e3v831b | Trial: 98 | Frames: 25488-27626: 100%|██████████| 2138/2138 [00:24<00:00, 86.13it/s]\n",
      "Cam: e3v8360 | Trial: 98 | Frames: 25488-27626: 100%|██████████| 2138/2138 [00:24<00:00, 87.39it/s]\n",
      "Cam: e3v83ad | Trial: 98 | Frames: 25488-27626: 100%|██████████| 2138/2138 [00:25<00:00, 84.81it/s]\n",
      "Cam: e3v83d6 | Trial: 98 | Frames: 25488-27626: 100%|██████████| 2138/2138 [00:24<00:00, 86.67it/s]\n",
      "Cam: e3v831b | Trial: 99 | Frames: 27628-29316: 100%|██████████| 1688/1688 [00:19<00:00, 87.17it/s]\n",
      "Cam: e3v8360 | Trial: 99 | Frames: 27628-29316: 100%|██████████| 1688/1688 [00:19<00:00, 85.19it/s]\n",
      "Cam: e3v83ad | Trial: 99 | Frames: 27628-29316: 100%|██████████| 1688/1688 [00:19<00:00, 87.93it/s]\n",
      "Cam: e3v83d6 | Trial: 99 | Frames: 27628-29316: 100%|██████████| 1688/1688 [00:19<00:00, 86.25it/s]\n",
      "Cam: e3v831b | Trial: 100 | Frames: 29317-31023: 100%|██████████| 1706/1706 [00:19<00:00, 87.29it/s]\n",
      "Cam: e3v8360 | Trial: 100 | Frames: 29317-31023: 100%|██████████| 1706/1706 [00:19<00:00, 88.05it/s]\n",
      "Cam: e3v83ad | Trial: 100 | Frames: 29317-31023: 100%|██████████| 1706/1706 [00:20<00:00, 85.14it/s]\n",
      "Cam: e3v83d6 | Trial: 100 | Frames: 29317-31023: 100%|██████████| 1706/1706 [00:19<00:00, 89.03it/s]\n",
      "Cam: e3v831b | Trial: 101 | Frames: 31024-32278: 100%|██████████| 1254/1254 [00:14<00:00, 87.56it/s]\n",
      "Cam: e3v8360 | Trial: 101 | Frames: 31024-32278: 100%|██████████| 1254/1254 [00:14<00:00, 88.84it/s]\n",
      "Cam: e3v83ad | Trial: 101 | Frames: 31024-32278: 100%|██████████| 1254/1254 [00:14<00:00, 86.57it/s]\n",
      "Cam: e3v83d6 | Trial: 101 | Frames: 31024-32278: 100%|██████████| 1254/1254 [00:14<00:00, 85.24it/s]\n",
      "Cam: e3v831b | Trial: 102 | Frames: 32280-33704: 100%|██████████| 1424/1424 [00:16<00:00, 86.98it/s]\n",
      "Cam: e3v8360 | Trial: 102 | Frames: 32280-33704: 100%|██████████| 1424/1424 [00:17<00:00, 81.97it/s]\n",
      "Cam: e3v83ad | Trial: 102 | Frames: 32280-33704: 100%|██████████| 1424/1424 [00:16<00:00, 86.29it/s]\n",
      "Cam: e3v83d6 | Trial: 102 | Frames: 32280-33704: 100%|██████████| 1424/1424 [00:16<00:00, 88.41it/s]\n",
      "Cam: e3v831b | Trial: 103 | Frames: 33705-35533: 100%|██████████| 1828/1828 [00:21<00:00, 86.89it/s]\n",
      "Cam: e3v8360 | Trial: 103 | Frames: 33705-35533: 100%|██████████| 1828/1828 [00:20<00:00, 89.05it/s]\n",
      "Cam: e3v83ad | Trial: 103 | Frames: 33705-35533: 100%|██████████| 1828/1828 [00:20<00:00, 87.93it/s]\n",
      "Cam: e3v83d6 | Trial: 103 | Frames: 33705-35533: 100%|██████████| 1828/1828 [00:20<00:00, 88.98it/s]\n",
      "Cam: e3v831b | Trial: 104 | Frames: 35534-37361: 100%|██████████| 1827/1827 [00:22<00:00, 82.89it/s]\n",
      "Cam: e3v8360 | Trial: 104 | Frames: 35534-37361: 100%|██████████| 1827/1827 [00:20<00:00, 87.55it/s]\n",
      "Cam: e3v83ad | Trial: 104 | Frames: 35534-37361: 100%|██████████| 1827/1827 [00:21<00:00, 86.50it/s]\n",
      "Cam: e3v83d6 | Trial: 104 | Frames: 35534-37361: 100%|██████████| 1827/1827 [00:20<00:00, 88.71it/s]\n",
      "Cam: e3v831b | Trial: 105 | Frames: 37361-39086: 100%|██████████| 1725/1725 [00:19<00:00, 86.64it/s]\n",
      "Cam: e3v8360 | Trial: 105 | Frames: 37361-39086: 100%|██████████| 1725/1725 [00:19<00:00, 87.13it/s]\n",
      "Cam: e3v83ad | Trial: 105 | Frames: 37361-39086: 100%|██████████| 1725/1725 [00:19<00:00, 86.88it/s]\n",
      "Cam: e3v83d6 | Trial: 105 | Frames: 37361-39086: 100%|██████████| 1725/1725 [00:19<00:00, 88.81it/s]\n",
      "Cam: e3v831b | Trial: 106 | Frames: 39087-40381: 100%|██████████| 1294/1294 [00:15<00:00, 84.74it/s]\n",
      "Cam: e3v8360 | Trial: 106 | Frames: 39087-40381: 100%|██████████| 1294/1294 [00:14<00:00, 89.19it/s]\n",
      "Cam: e3v83ad | Trial: 106 | Frames: 39087-40381: 100%|██████████| 1294/1294 [00:15<00:00, 83.70it/s]\n",
      "Cam: e3v83d6 | Trial: 106 | Frames: 39087-40381: 100%|██████████| 1294/1294 [00:14<00:00, 86.64it/s]\n",
      "Cam: e3v831b | Trial: 107 | Frames: 40382-42165: 100%|██████████| 1783/1783 [00:20<00:00, 87.93it/s]\n",
      "Cam: e3v8360 | Trial: 107 | Frames: 40382-42165: 100%|██████████| 1783/1783 [00:19<00:00, 89.26it/s]\n",
      "Cam: e3v83ad | Trial: 107 | Frames: 40382-42165: 100%|██████████| 1783/1783 [00:20<00:00, 87.50it/s]\n",
      "Cam: e3v83d6 | Trial: 107 | Frames: 40382-42165: 100%|██████████| 1783/1783 [00:20<00:00, 88.91it/s]\n",
      "Cam: e3v831b | Trial: 108 | Frames: 42165-43778: 100%|██████████| 1613/1613 [00:18<00:00, 85.13it/s]\n",
      "Cam: e3v8360 | Trial: 108 | Frames: 42165-43778: 100%|██████████| 1613/1613 [00:18<00:00, 85.83it/s]\n",
      "Cam: e3v83ad | Trial: 108 | Frames: 42165-43778: 100%|██████████| 1613/1613 [00:18<00:00, 86.98it/s]\n",
      "Cam: e3v83d6 | Trial: 108 | Frames: 42165-43778: 100%|██████████| 1613/1613 [00:18<00:00, 88.98it/s]\n",
      "Cam: e3v831b | Trial: 109 | Frames: 43779-45753: 100%|██████████| 1974/1974 [00:22<00:00, 87.16it/s]\n",
      "Cam: e3v8360 | Trial: 109 | Frames: 43779-45753: 100%|██████████| 1974/1974 [00:22<00:00, 88.37it/s]\n",
      "Cam: e3v83ad | Trial: 109 | Frames: 43779-45753: 100%|██████████| 1974/1974 [00:23<00:00, 85.16it/s]\n",
      "Cam: e3v83d6 | Trial: 109 | Frames: 43779-45753: 100%|██████████| 1974/1974 [00:24<00:00, 81.13it/s]\n",
      "Cam: e3v831b | Trial: 110 | Frames: 45754-47135: 100%|██████████| 1381/1381 [00:16<00:00, 85.73it/s]\n",
      "Cam: e3v8360 | Trial: 110 | Frames: 45754-47135: 100%|██████████| 1381/1381 [00:15<00:00, 88.68it/s]\n",
      "Cam: e3v83ad | Trial: 110 | Frames: 45754-47135: 100%|██████████| 1381/1381 [00:16<00:00, 85.76it/s]\n",
      "Cam: e3v83d6 | Trial: 110 | Frames: 45754-47135: 100%|██████████| 1381/1381 [00:15<00:00, 88.96it/s]\n",
      "Cam: e3v831b | Trial: 111 | Frames: 47136-48986: 100%|██████████| 1850/1850 [00:20<00:00, 88.17it/s]\n",
      "Cam: e3v8360 | Trial: 111 | Frames: 47136-48986: 100%|██████████| 1850/1850 [00:20<00:00, 88.86it/s]\n",
      "Cam: e3v83ad | Trial: 111 | Frames: 47136-48986: 100%|██████████| 1850/1850 [00:21<00:00, 85.76it/s]\n",
      "Cam: e3v83d6 | Trial: 111 | Frames: 47136-48986: 100%|██████████| 1850/1850 [00:20<00:00, 88.90it/s]\n",
      "Cam: e3v831b | Trial: 112 | Frames: 48988-50458: 100%|██████████| 1470/1470 [00:16<00:00, 88.30it/s]\n",
      "Cam: e3v8360 | Trial: 112 | Frames: 48988-50458: 100%|██████████| 1470/1470 [00:16<00:00, 89.96it/s]\n",
      "Cam: e3v83ad | Trial: 112 | Frames: 48988-50458: 100%|██████████| 1470/1470 [00:17<00:00, 83.70it/s]\n",
      "Cam: e3v83d6 | Trial: 112 | Frames: 48988-50458: 100%|██████████| 1470/1470 [00:16<00:00, 89.58it/s]\n",
      "Cam: e3v831b | Trial: 113 | Frames: 50458-51847: 100%|██████████| 1389/1389 [00:16<00:00, 84.66it/s]\n",
      "Cam: e3v8360 | Trial: 113 | Frames: 50458-51847: 100%|██████████| 1389/1389 [00:16<00:00, 85.86it/s]\n",
      "Cam: e3v83ad | Trial: 113 | Frames: 50458-51847: 100%|██████████| 1389/1389 [00:16<00:00, 84.77it/s]\n",
      "Cam: e3v83d6 | Trial: 113 | Frames: 50458-51847: 100%|██████████| 1389/1389 [00:15<00:00, 87.62it/s]\n",
      "Cam: e3v831b | Trial: 114 | Frames: 51847-53049: 100%|██████████| 1202/1202 [00:13<00:00, 86.52it/s]\n",
      "Cam: e3v8360 | Trial: 114 | Frames: 51847-53049: 100%|██████████| 1202/1202 [00:13<00:00, 88.58it/s]\n",
      "Cam: e3v83ad | Trial: 114 | Frames: 51847-53049: 100%|██████████| 1202/1202 [00:13<00:00, 87.35it/s]\n",
      "Cam: e3v83d6 | Trial: 114 | Frames: 51847-53049: 100%|██████████| 1202/1202 [00:13<00:00, 88.94it/s]\n",
      "Cam: e3v831b | Trial: 115 | Frames: 53051-54815: 100%|██████████| 1764/1764 [00:20<00:00, 86.42it/s]\n",
      "Cam: e3v8360 | Trial: 115 | Frames: 53051-54815: 100%|██████████| 1764/1764 [00:19<00:00, 88.28it/s]\n",
      "Cam: e3v83ad | Trial: 115 | Frames: 53051-54815: 100%|██████████| 1764/1764 [00:20<00:00, 86.90it/s]\n",
      "Cam: e3v83d6 | Trial: 115 | Frames: 53051-54815: 100%|██████████| 1764/1764 [00:20<00:00, 87.19it/s]\n",
      "Cam: e3v831b | Trial: 116 | Frames: 54816-56630: 100%|██████████| 1814/1814 [00:20<00:00, 87.54it/s]\n",
      "Cam: e3v8360 | Trial: 116 | Frames: 54816-56630: 100%|██████████| 1814/1814 [00:20<00:00, 88.12it/s]\n",
      "Cam: e3v83ad | Trial: 116 | Frames: 54816-56630: 100%|██████████| 1814/1814 [00:20<00:00, 86.74it/s]\n",
      "Cam: e3v83d6 | Trial: 116 | Frames: 54816-56630: 100%|██████████| 1814/1814 [00:20<00:00, 88.35it/s]\n",
      "Cam: e3v831b | Trial: 117 | Frames: 56631-58618: 100%|██████████| 1987/1987 [00:22<00:00, 87.66it/s]\n",
      "Cam: e3v8360 | Trial: 117 | Frames: 56631-58618: 100%|██████████| 1987/1987 [00:22<00:00, 87.63it/s]\n",
      "Cam: e3v83ad | Trial: 117 | Frames: 56631-58618: 100%|██████████| 1987/1987 [00:23<00:00, 85.94it/s]\n",
      "Cam: e3v83d6 | Trial: 117 | Frames: 56631-58618: 100%|██████████| 1987/1987 [00:22<00:00, 88.95it/s]\n",
      "Cam: e3v831b | Trial: 118 | Frames: 58619-60347: 100%|██████████| 1728/1728 [00:19<00:00, 87.63it/s]\n",
      "Cam: e3v8360 | Trial: 118 | Frames: 58619-60347: 100%|██████████| 1728/1728 [00:19<00:00, 89.11it/s]\n",
      "Cam: e3v83ad | Trial: 118 | Frames: 58619-60347: 100%|██████████| 1728/1728 [00:20<00:00, 86.40it/s]\n",
      "Cam: e3v83d6 | Trial: 118 | Frames: 58619-60347: 100%|██████████| 1728/1728 [00:19<00:00, 87.64it/s]\n",
      "Cam: e3v831b | Trial: 119 | Frames: 60348-61787: 100%|██████████| 1439/1439 [00:16<00:00, 86.82it/s]\n",
      "Cam: e3v8360 | Trial: 119 | Frames: 60348-61787: 100%|██████████| 1439/1439 [00:16<00:00, 89.11it/s]\n",
      "Cam: e3v83ad | Trial: 119 | Frames: 60348-61787: 100%|██████████| 1439/1439 [00:16<00:00, 85.10it/s]\n",
      "Cam: e3v83d6 | Trial: 119 | Frames: 60348-61787: 100%|██████████| 1439/1439 [00:16<00:00, 88.76it/s]\n",
      "Cam: e3v831b | Trial: 120 | Frames: 61788-63728: 100%|██████████| 1940/1940 [00:22<00:00, 86.67it/s]\n",
      "Cam: e3v8360 | Trial: 120 | Frames: 61788-63728: 100%|██████████| 1940/1940 [00:21<00:00, 88.60it/s]\n",
      "Cam: e3v83ad | Trial: 120 | Frames: 61788-63728: 100%|██████████| 1940/1940 [00:22<00:00, 86.86it/s]\n",
      "Cam: e3v83d6 | Trial: 120 | Frames: 61788-63728: 100%|██████████| 1940/1940 [00:21<00:00, 89.24it/s]\n",
      "Cam: e3v831b | Trial: 121 | Frames: 63729-65396: 100%|██████████| 1667/1667 [00:19<00:00, 87.18it/s]\n",
      "Cam: e3v8360 | Trial: 121 | Frames: 63729-65396: 100%|██████████| 1667/1667 [00:18<00:00, 88.36it/s]\n",
      "Cam: e3v83ad | Trial: 121 | Frames: 63729-65396: 100%|██████████| 1667/1667 [00:19<00:00, 86.67it/s]\n",
      "Cam: e3v83d6 | Trial: 121 | Frames: 63729-65396: 100%|██████████| 1667/1667 [00:18<00:00, 89.45it/s]\n",
      "Cam: e3v831b | Trial: 122 | Frames: 65397-66653: 100%|██████████| 1256/1256 [00:14<00:00, 85.91it/s]\n",
      "Cam: e3v8360 | Trial: 122 | Frames: 65397-66653: 100%|██████████| 1256/1256 [00:14<00:00, 87.46it/s]\n",
      "Cam: e3v83ad | Trial: 122 | Frames: 65397-66653: 100%|██████████| 1256/1256 [00:14<00:00, 83.90it/s]\n",
      "Cam: e3v83d6 | Trial: 122 | Frames: 65397-66653: 100%|██████████| 1256/1256 [00:14<00:00, 85.80it/s]\n",
      "Cam: e3v831b | Trial: 123 | Frames: 66653-68190: 100%|██████████| 1537/1537 [00:17<00:00, 85.63it/s]\n",
      "Cam: e3v8360 | Trial: 123 | Frames: 66653-68190: 100%|██████████| 1537/1537 [00:17<00:00, 88.79it/s]\n",
      "Cam: e3v83ad | Trial: 123 | Frames: 66653-68190: 100%|██████████| 1537/1537 [00:17<00:00, 85.69it/s]\n",
      "Cam: e3v83d6 | Trial: 123 | Frames: 66653-68190: 100%|██████████| 1537/1537 [00:17<00:00, 89.36it/s]\n",
      "Cam: e3v831b | Trial: 124 | Frames: 68191-69995: 100%|██████████| 1804/1804 [00:20<00:00, 87.74it/s]\n",
      "Cam: e3v8360 | Trial: 124 | Frames: 68191-69995: 100%|██████████| 1804/1804 [00:20<00:00, 88.63it/s]\n",
      "Cam: e3v83ad | Trial: 124 | Frames: 68191-69995: 100%|██████████| 1804/1804 [00:20<00:00, 86.60it/s]\n",
      "Cam: e3v83d6 | Trial: 124 | Frames: 68191-69995: 100%|██████████| 1804/1804 [00:20<00:00, 87.30it/s]\n",
      "Cam: e3v831b | Trial: 125 | Frames: 69996-71693: 100%|██████████| 1697/1697 [00:19<00:00, 86.08it/s]\n",
      "Cam: e3v8360 | Trial: 125 | Frames: 69996-71693: 100%|██████████| 1697/1697 [00:19<00:00, 86.88it/s]\n",
      "Cam: e3v83ad | Trial: 125 | Frames: 69996-71693: 100%|██████████| 1697/1697 [00:19<00:00, 86.51it/s]\n",
      "Cam: e3v83d6 | Trial: 125 | Frames: 69996-71693: 100%|██████████| 1697/1697 [00:19<00:00, 89.08it/s]\n",
      "Cam: e3v831b | Trial: 126 | Frames: 71694-73408: 100%|██████████| 1714/1714 [00:19<00:00, 87.64it/s]\n",
      "Cam: e3v8360 | Trial: 126 | Frames: 71694-73408: 100%|██████████| 1714/1714 [00:19<00:00, 88.57it/s]\n",
      "Cam: e3v83ad | Trial: 126 | Frames: 71694-73408: 100%|██████████| 1714/1714 [00:20<00:00, 84.98it/s]\n",
      "Cam: e3v83d6 | Trial: 126 | Frames: 71694-73408: 100%|██████████| 1714/1714 [00:19<00:00, 88.29it/s]\n",
      "Cam: e3v831b | Trial: 127 | Frames: 73409-74893: 100%|██████████| 1484/1484 [00:17<00:00, 87.09it/s]\n",
      "Cam: e3v8360 | Trial: 127 | Frames: 73409-74893: 100%|██████████| 1484/1484 [00:16<00:00, 89.02it/s]\n",
      "Cam: e3v83ad | Trial: 127 | Frames: 73409-74893: 100%|██████████| 1484/1484 [00:17<00:00, 87.20it/s]\n",
      "Cam: e3v83d6 | Trial: 127 | Frames: 73409-74893: 100%|██████████| 1484/1484 [00:16<00:00, 88.15it/s]\n",
      "Cam: e3v831b | Trial: 128 | Frames: 74894-76519: 100%|██████████| 1625/1625 [00:18<00:00, 86.99it/s]\n",
      "Cam: e3v8360 | Trial: 128 | Frames: 74894-76519: 100%|██████████| 1625/1625 [00:18<00:00, 87.92it/s]\n",
      "Cam: e3v83ad | Trial: 128 | Frames: 74894-76519: 100%|██████████| 1625/1625 [00:18<00:00, 86.21it/s]\n",
      "Cam: e3v83d6 | Trial: 128 | Frames: 74894-76519: 100%|██████████| 1625/1625 [00:18<00:00, 88.24it/s]\n",
      "Cam: e3v831b | Trial: 129 | Frames: 76520-77884: 100%|██████████| 1364/1364 [00:17<00:00, 79.50it/s]\n",
      "Cam: e3v8360 | Trial: 129 | Frames: 76520-77884: 100%|██████████| 1364/1364 [00:15<00:00, 88.56it/s]\n",
      "Cam: e3v83ad | Trial: 129 | Frames: 76520-77884: 100%|██████████| 1364/1364 [00:15<00:00, 87.16it/s]\n",
      "Cam: e3v83d6 | Trial: 129 | Frames: 76520-77884: 100%|██████████| 1364/1364 [00:15<00:00, 87.08it/s]\n",
      "Cam: e3v831b | Trial: 130 | Frames: 77885-79531: 100%|██████████| 1646/1646 [00:18<00:00, 86.70it/s]\n",
      "Cam: e3v8360 | Trial: 130 | Frames: 77885-79531: 100%|██████████| 1646/1646 [00:18<00:00, 88.36it/s]\n",
      "Cam: e3v83ad | Trial: 130 | Frames: 77885-79531: 100%|██████████| 1646/1646 [00:18<00:00, 86.65it/s]\n",
      "Cam: e3v83d6 | Trial: 130 | Frames: 77885-79531: 100%|██████████| 1646/1646 [00:18<00:00, 88.90it/s]\n",
      "Cam: e3v831b | Trial: 131 | Frames: 79532-81175: 100%|██████████| 1643/1643 [00:19<00:00, 85.47it/s]\n",
      "Cam: e3v8360 | Trial: 131 | Frames: 79532-81175: 100%|██████████| 1643/1643 [00:18<00:00, 88.69it/s]\n",
      "Cam: e3v83ad | Trial: 131 | Frames: 79532-81175: 100%|██████████| 1643/1643 [00:19<00:00, 83.60it/s]\n",
      "Cam: e3v83d6 | Trial: 131 | Frames: 79532-81175: 100%|██████████| 1643/1643 [00:19<00:00, 86.25it/s]\n",
      "Cam: e3v831b | Trial: 132 | Frames: 81176-82644: 100%|██████████| 1468/1468 [00:16<00:00, 87.38it/s]\n",
      "Cam: e3v8360 | Trial: 132 | Frames: 81176-82644: 100%|██████████| 1468/1468 [00:16<00:00, 87.02it/s]\n",
      "Cam: e3v83ad | Trial: 132 | Frames: 81176-82644: 100%|██████████| 1468/1468 [00:16<00:00, 87.07it/s]\n",
      "Cam: e3v83d6 | Trial: 132 | Frames: 81176-82644: 100%|██████████| 1468/1468 [00:16<00:00, 88.84it/s]\n",
      "Cam: e3v831b | Trial: 133 | Frames: 82645-84910: 100%|██████████| 2265/2265 [00:26<00:00, 86.20it/s]\n",
      "Cam: e3v8360 | Trial: 133 | Frames: 82645-84910: 100%|██████████| 2265/2265 [00:25<00:00, 88.46it/s]\n",
      "Cam: e3v83ad | Trial: 133 | Frames: 82645-84910: 100%|██████████| 2265/2265 [00:26<00:00, 86.41it/s]\n",
      "Cam: e3v83d6 | Trial: 133 | Frames: 82645-84910: 100%|██████████| 2265/2265 [00:25<00:00, 88.67it/s]\n",
      "Cam: e3v831b | Trial: 134 | Frames: 84911-86439: 100%|██████████| 1528/1528 [00:18<00:00, 84.29it/s]\n",
      "Cam: e3v8360 | Trial: 134 | Frames: 84911-86439: 100%|██████████| 1528/1528 [00:17<00:00, 87.80it/s]\n",
      "Cam: e3v83ad | Trial: 134 | Frames: 84911-86439: 100%|██████████| 1528/1528 [00:17<00:00, 87.27it/s]\n",
      "Cam: e3v83d6 | Trial: 134 | Frames: 84911-86439: 100%|██████████| 1528/1528 [00:17<00:00, 88.21it/s]\n",
      "Cam: e3v831b | Trial: 135 | Frames: 86440-88178: 100%|██████████| 1738/1738 [00:20<00:00, 84.10it/s]\n",
      "Cam: e3v8360 | Trial: 135 | Frames: 86440-88178: 100%|██████████| 1738/1738 [00:19<00:00, 87.28it/s]\n",
      "Cam: e3v83ad | Trial: 135 | Frames: 86440-88178: 100%|██████████| 1738/1738 [00:19<00:00, 86.93it/s]\n",
      "Cam: e3v83d6 | Trial: 135 | Frames: 86440-88178: 100%|██████████| 1738/1738 [00:21<00:00, 81.90it/s]\n",
      "Cam: e3v831b | Trial: 136 | Frames: 88179-90124: 100%|██████████| 1945/1945 [00:22<00:00, 87.34it/s]\n",
      "Cam: e3v8360 | Trial: 136 | Frames: 88179-90124: 100%|██████████| 1945/1945 [00:22<00:00, 85.58it/s]\n",
      "Cam: e3v83ad | Trial: 136 | Frames: 88179-90124: 100%|██████████| 1945/1945 [00:22<00:00, 86.65it/s]\n",
      "Cam: e3v83d6 | Trial: 136 | Frames: 88179-90124: 100%|██████████| 1945/1945 [00:22<00:00, 86.35it/s]\n",
      "Cam: e3v831b | Trial: 137 | Frames: 90125-92440: 100%|██████████| 2315/2315 [00:26<00:00, 87.46it/s]\n",
      "Cam: e3v8360 | Trial: 137 | Frames: 90125-92440: 100%|██████████| 2315/2315 [00:26<00:00, 86.93it/s]\n",
      "Cam: e3v83ad | Trial: 137 | Frames: 90125-92440: 100%|██████████| 2315/2315 [00:26<00:00, 86.80it/s]\n",
      "Cam: e3v83d6 | Trial: 137 | Frames: 90125-92440: 100%|██████████| 2315/2315 [00:26<00:00, 88.35it/s]\n",
      "Cam: e3v831b | Trial: 138 | Frames: 92441-94001: 100%|██████████| 1560/1560 [00:17<00:00, 88.06it/s]\n",
      "Cam: e3v8360 | Trial: 138 | Frames: 92441-94001: 100%|██████████| 1560/1560 [00:17<00:00, 89.43it/s]\n",
      "Cam: e3v83ad | Trial: 138 | Frames: 92441-94001: 100%|██████████| 1560/1560 [00:17<00:00, 87.49it/s]\n",
      "Cam: e3v83d6 | Trial: 138 | Frames: 92441-94001: 100%|██████████| 1560/1560 [00:17<00:00, 89.11it/s]\n",
      "Cam: e3v831b | Trial: 139 | Frames: 94002-95633: 100%|██████████| 1631/1631 [00:18<00:00, 87.80it/s]\n",
      "Cam: e3v8360 | Trial: 139 | Frames: 94002-95633: 100%|██████████| 1631/1631 [00:18<00:00, 88.56it/s]\n",
      "Cam: e3v83ad | Trial: 139 | Frames: 94002-95633: 100%|██████████| 1631/1631 [00:18<00:00, 86.66it/s]\n",
      "Cam: e3v83d6 | Trial: 139 | Frames: 94002-95633: 100%|██████████| 1631/1631 [00:19<00:00, 83.50it/s]\n",
      "Cam: e3v831b | Trial: 140 | Frames: 95633-97592: 100%|██████████| 1959/1959 [00:23<00:00, 83.33it/s]\n",
      "Cam: e3v8360 | Trial: 140 | Frames: 95633-97592: 100%|██████████| 1959/1959 [00:22<00:00, 87.10it/s]\n",
      "Cam: e3v83ad | Trial: 140 | Frames: 95633-97592: 100%|██████████| 1959/1959 [00:22<00:00, 85.24it/s]\n",
      "Cam: e3v83d6 | Trial: 140 | Frames: 95633-97592: 100%|██████████| 1959/1959 [00:22<00:00, 88.77it/s]\n",
      "Cam: e3v831b | Trial: 141 | Frames: 97593-98801: 100%|██████████| 1208/1208 [00:13<00:00, 87.56it/s]\n",
      "Cam: e3v8360 | Trial: 141 | Frames: 97593-98801: 100%|██████████| 1208/1208 [00:13<00:00, 88.34it/s]\n",
      "Cam: e3v83ad | Trial: 141 | Frames: 97593-98801: 100%|██████████| 1208/1208 [00:14<00:00, 84.83it/s]\n",
      "Cam: e3v83d6 | Trial: 141 | Frames: 97593-98801: 100%|██████████| 1208/1208 [00:13<00:00, 88.23it/s]\n",
      "Cam: e3v831b | Trial: 142 | Frames: 98802-100162: 100%|██████████| 1360/1360 [00:15<00:00, 87.57it/s]\n",
      "Cam: e3v8360 | Trial: 142 | Frames: 98802-100162: 100%|██████████| 1360/1360 [00:15<00:00, 88.52it/s]\n",
      "Cam: e3v83ad | Trial: 142 | Frames: 98802-100162: 100%|██████████| 1360/1360 [00:15<00:00, 87.30it/s]\n",
      "Cam: e3v83d6 | Trial: 142 | Frames: 98802-100162: 100%|██████████| 1360/1360 [00:15<00:00, 88.83it/s]\n",
      "Cam: e3v831b | Trial: 143 | Frames: 100163-101615: 100%|██████████| 1452/1452 [00:17<00:00, 84.54it/s]\n",
      "Cam: e3v8360 | Trial: 143 | Frames: 100163-101615: 100%|██████████| 1452/1452 [00:16<00:00, 88.53it/s]\n",
      "Cam: e3v83ad | Trial: 143 | Frames: 100163-101615: 100%|██████████| 1452/1452 [00:18<00:00, 78.85it/s]\n",
      "Cam: e3v83d6 | Trial: 143 | Frames: 100163-101615: 100%|██████████| 1452/1452 [00:32<00:00, 44.01it/s]\n",
      "Cam: e3v831b | Trial: 144 | Frames: 101616-103367: 100%|██████████| 1751/1751 [00:31<00:00, 55.45it/s]\n",
      "Cam: e3v8360 | Trial: 144 | Frames: 101616-103367: 100%|██████████| 1751/1751 [00:20<00:00, 86.07it/s]\n",
      "Cam: e3v83ad | Trial: 144 | Frames: 101616-103367: 100%|██████████| 1751/1751 [00:20<00:00, 84.94it/s]\n",
      "Cam: e3v83d6 | Trial: 144 | Frames: 101616-103367: 100%|██████████| 1751/1751 [00:20<00:00, 86.63it/s]\n",
      "Cam: e3v831b | Trial: 145 | Frames: 103368-105256: 100%|██████████| 1888/1888 [00:21<00:00, 85.89it/s]\n",
      "Cam: e3v8360 | Trial: 145 | Frames: 103368-105256: 100%|██████████| 1888/1888 [00:21<00:00, 87.10it/s]\n",
      "Cam: e3v83ad | Trial: 145 | Frames: 103368-105256: 100%|██████████| 1888/1888 [00:22<00:00, 85.49it/s]\n",
      "Cam: e3v83d6 | Trial: 145 | Frames: 103368-105256: 100%|██████████| 1888/1888 [00:21<00:00, 86.40it/s]\n",
      "Cam: e3v831b | Trial: 146 | Frames: 105257-107650: 100%|██████████| 2393/2393 [00:28<00:00, 84.73it/s]\n",
      "Cam: e3v8360 | Trial: 146 | Frames: 105257-107650: 100%|██████████| 2393/2393 [00:27<00:00, 86.70it/s]\n",
      "Cam: e3v83ad | Trial: 146 | Frames: 105257-107650: 100%|██████████| 2393/2393 [00:28<00:00, 85.42it/s]\n",
      "Cam: e3v83d6 | Trial: 146 | Frames: 105257-107650: 100%|██████████| 2393/2393 [00:28<00:00, 85.05it/s]\n",
      "Cam: e3v831b | Trial: 147 | Frames: 107651-109028: 100%|██████████| 1377/1377 [00:16<00:00, 84.23it/s]\n",
      "Cam: e3v8360 | Trial: 147 | Frames: 107651-109028: 100%|██████████| 1377/1377 [00:15<00:00, 87.23it/s]\n",
      "Cam: e3v83ad | Trial: 147 | Frames: 107651-109028: 100%|██████████| 1377/1377 [00:16<00:00, 84.80it/s]\n",
      "Cam: e3v83d6 | Trial: 147 | Frames: 107651-109028: 100%|██████████| 1377/1377 [00:15<00:00, 86.68it/s]\n",
      "Cam: e3v831b | Trial: 148 | Frames: 109029-111083: 100%|██████████| 2054/2054 [00:24<00:00, 84.91it/s]\n",
      "Cam: e3v8360 | Trial: 148 | Frames: 109029-111083: 100%|██████████| 2054/2054 [00:23<00:00, 86.63it/s]\n",
      "Cam: e3v83ad | Trial: 148 | Frames: 109029-111083: 100%|██████████| 2054/2054 [00:24<00:00, 83.35it/s]\n",
      "Cam: e3v83d6 | Trial: 148 | Frames: 109029-111083: 100%|██████████| 2054/2054 [00:24<00:00, 84.76it/s]\n",
      "Cam: e3v831b | Trial: 149 | Frames: 111084-113313: 100%|██████████| 2229/2229 [00:26<00:00, 84.20it/s]\n",
      "Cam: e3v8360 | Trial: 149 | Frames: 111084-113313: 100%|██████████| 2229/2229 [00:25<00:00, 86.93it/s]\n",
      "Cam: e3v83ad | Trial: 149 | Frames: 111084-113313: 100%|██████████| 2229/2229 [00:26<00:00, 84.72it/s]\n",
      "Cam: e3v83d6 | Trial: 149 | Frames: 111084-113313: 100%|██████████| 2229/2229 [00:26<00:00, 84.98it/s]\n",
      "Cam: e3v831b | Trial: 150 | Frames: 113314-114970: 100%|██████████| 1656/1656 [00:19<00:00, 85.33it/s]\n",
      "Cam: e3v8360 | Trial: 150 | Frames: 113314-114970: 100%|██████████| 1656/1656 [00:19<00:00, 84.66it/s]\n",
      "Cam: e3v83ad | Trial: 150 | Frames: 113314-114970: 100%|██████████| 1656/1656 [00:19<00:00, 84.64it/s]\n",
      "Cam: e3v83d6 | Trial: 150 | Frames: 113314-114970: 100%|██████████| 1656/1656 [00:19<00:00, 86.63it/s]\n",
      "Cam: e3v831b | Trial: 151 | Frames: 114971-116324: 100%|██████████| 1353/1353 [00:16<00:00, 84.17it/s]\n",
      "Cam: e3v8360 | Trial: 151 | Frames: 114971-116324: 100%|██████████| 1353/1353 [00:15<00:00, 85.60it/s]\n",
      "Cam: e3v83ad | Trial: 151 | Frames: 114971-116324: 100%|██████████| 1353/1353 [00:15<00:00, 85.88it/s]\n",
      "Cam: e3v83d6 | Trial: 151 | Frames: 114971-116324: 100%|██████████| 1353/1353 [00:15<00:00, 87.12it/s]\n",
      "Cam: e3v831b | Trial: 152 | Frames: 116324-117933: 100%|██████████| 1609/1609 [00:18<00:00, 85.74it/s]\n",
      "Cam: e3v8360 | Trial: 152 | Frames: 116324-117933: 100%|██████████| 1609/1609 [00:18<00:00, 84.82it/s]\n",
      "Cam: e3v83ad | Trial: 152 | Frames: 116324-117933: 100%|██████████| 1609/1609 [00:19<00:00, 84.19it/s]\n",
      "Cam: e3v83d6 | Trial: 152 | Frames: 116324-117933: 100%|██████████| 1609/1609 [00:18<00:00, 86.15it/s]\n",
      "Cam: e3v831b | Trial: 153 | Frames: 117934-119886: 100%|██████████| 1952/1952 [00:22<00:00, 85.33it/s]\n",
      "Cam: e3v8360 | Trial: 153 | Frames: 117934-119886: 100%|██████████| 1952/1952 [00:22<00:00, 86.05it/s]\n",
      "Cam: e3v83ad | Trial: 153 | Frames: 117934-119886: 100%|██████████| 1952/1952 [00:22<00:00, 84.98it/s]\n",
      "Cam: e3v83d6 | Trial: 153 | Frames: 117934-119886: 100%|██████████| 1952/1952 [00:22<00:00, 87.11it/s]\n",
      "Cam: e3v831b | Trial: 154 | Frames: 119887-121836: 100%|██████████| 1949/1949 [00:23<00:00, 84.73it/s]\n",
      "Cam: e3v8360 | Trial: 154 | Frames: 119887-121836: 100%|██████████| 1949/1949 [00:22<00:00, 85.46it/s]\n",
      "Cam: e3v83ad | Trial: 154 | Frames: 119887-121836: 100%|██████████| 1949/1949 [00:22<00:00, 84.89it/s]\n",
      "Cam: e3v83d6 | Trial: 154 | Frames: 119887-121836: 100%|██████████| 1949/1949 [00:22<00:00, 86.40it/s]\n",
      "Cam: e3v831b | Trial: 155 | Frames: 121837-123609: 100%|██████████| 1772/1772 [00:20<00:00, 84.51it/s]\n",
      "Cam: e3v8360 | Trial: 155 | Frames: 121837-123609: 100%|██████████| 1772/1772 [00:20<00:00, 86.27it/s]\n",
      "Cam: e3v83ad | Trial: 155 | Frames: 121837-123609: 100%|██████████| 1772/1772 [00:20<00:00, 84.51it/s]\n",
      "Cam: e3v83d6 | Trial: 155 | Frames: 121837-123609: 100%|██████████| 1772/1772 [00:20<00:00, 86.88it/s]\n",
      "Cam: e3v831b | Trial: 156 | Frames: 123610-125627: 100%|██████████| 2017/2017 [00:23<00:00, 84.81it/s]\n",
      "Cam: e3v8360 | Trial: 156 | Frames: 123610-125627: 100%|██████████| 2017/2017 [00:23<00:00, 86.09it/s]\n",
      "Cam: e3v83ad | Trial: 156 | Frames: 123610-125627: 100%|██████████| 2017/2017 [00:23<00:00, 85.39it/s]\n",
      "Cam: e3v83d6 | Trial: 156 | Frames: 123610-125627: 100%|██████████| 2017/2017 [00:23<00:00, 85.91it/s]\n",
      "Cam: e3v831b | Trial: 157 | Frames: 125628-127342: 100%|██████████| 1714/1714 [00:20<00:00, 82.48it/s]\n",
      "Cam: e3v8360 | Trial: 157 | Frames: 125628-127342: 100%|██████████| 1714/1714 [00:19<00:00, 85.94it/s]\n",
      "Cam: e3v83ad | Trial: 157 | Frames: 125628-127342: 100%|██████████| 1714/1714 [00:20<00:00, 84.62it/s]\n",
      "Cam: e3v83d6 | Trial: 157 | Frames: 125628-127342: 100%|██████████| 1714/1714 [00:19<00:00, 86.18it/s]\n",
      "Cam: e3v831b | Trial: 158 | Frames: 127343-128549: 100%|██████████| 1206/1206 [00:14<00:00, 85.81it/s]\n",
      "Cam: e3v8360 | Trial: 158 | Frames: 127343-128549: 100%|██████████| 1206/1206 [00:13<00:00, 86.85it/s]\n",
      "Cam: e3v83ad | Trial: 158 | Frames: 127343-128549: 100%|██████████| 1206/1206 [00:14<00:00, 83.32it/s]\n",
      "Cam: e3v83d6 | Trial: 158 | Frames: 127343-128549: 100%|██████████| 1206/1206 [00:14<00:00, 85.10it/s]\n",
      "Cam: e3v831b | Trial: 159 | Frames: 128550-130461: 100%|██████████| 1911/1911 [00:22<00:00, 85.12it/s]\n",
      "Cam: e3v8360 | Trial: 159 | Frames: 128550-130461: 100%|██████████| 1911/1911 [00:22<00:00, 84.00it/s]\n",
      "Cam: e3v83ad | Trial: 159 | Frames: 128550-130461: 100%|██████████| 1911/1911 [00:22<00:00, 85.14it/s]\n",
      "Cam: e3v83d6 | Trial: 159 | Frames: 128550-130461: 100%|██████████| 1911/1911 [00:22<00:00, 86.60it/s]\n",
      "Cam: e3v831b | Trial: 160 | Frames: 130462-132191: 100%|██████████| 1729/1729 [00:19<00:00, 87.70it/s]\n",
      "Cam: e3v8360 | Trial: 160 | Frames: 130462-132191: 100%|██████████| 1729/1729 [00:19<00:00, 88.01it/s]\n",
      "Cam: e3v83ad | Trial: 160 | Frames: 130462-132191: 100%|██████████| 1729/1729 [00:19<00:00, 86.50it/s]\n",
      "Cam: e3v83d6 | Trial: 160 | Frames: 130462-132191: 100%|██████████| 1729/1729 [00:19<00:00, 88.54it/s]\n",
      "Cam: e3v831b | Trial: 161 | Frames: 132191-133489: 100%|██████████| 1298/1298 [00:14<00:00, 87.66it/s]\n",
      "Cam: e3v8360 | Trial: 161 | Frames: 132191-133489: 100%|██████████| 1298/1298 [00:14<00:00, 89.00it/s]\n",
      "Cam: e3v83ad | Trial: 161 | Frames: 132191-133489: 100%|██████████| 1298/1298 [00:14<00:00, 86.89it/s]\n",
      "Cam: e3v83d6 | Trial: 161 | Frames: 132191-133489: 100%|██████████| 1298/1298 [00:15<00:00, 85.75it/s]\n",
      "Cam: e3v831b | Trial: 162 | Frames: 133490-135249: 100%|██████████| 1759/1759 [00:20<00:00, 86.68it/s]\n",
      "Cam: e3v8360 | Trial: 162 | Frames: 133490-135249: 100%|██████████| 1759/1759 [00:19<00:00, 88.69it/s]\n",
      "Cam: e3v83ad | Trial: 162 | Frames: 133490-135249: 100%|██████████| 1759/1759 [00:20<00:00, 86.26it/s]\n",
      "Cam: e3v83d6 | Trial: 162 | Frames: 133490-135249: 100%|██████████| 1759/1759 [00:20<00:00, 86.90it/s]\n",
      "Cam: e3v831b | Trial: 163 | Frames: 135250-137183: 100%|██████████| 1933/1933 [00:22<00:00, 86.73it/s]\n",
      "Cam: e3v8360 | Trial: 163 | Frames: 135250-137183: 100%|██████████| 1933/1933 [00:22<00:00, 85.31it/s]\n",
      "Cam: e3v83ad | Trial: 163 | Frames: 135250-137183: 100%|██████████| 1933/1933 [00:22<00:00, 86.53it/s]\n",
      "Cam: e3v83d6 | Trial: 163 | Frames: 135250-137183: 100%|██████████| 1933/1933 [00:21<00:00, 88.44it/s]\n",
      "Cam: e3v831b | Trial: 164 | Frames: 137183-138928: 100%|██████████| 1745/1745 [00:20<00:00, 86.90it/s]\n",
      "Cam: e3v8360 | Trial: 164 | Frames: 137183-138928: 100%|██████████| 1745/1745 [00:19<00:00, 88.34it/s]\n",
      "Cam: e3v83ad | Trial: 164 | Frames: 137183-138928: 100%|██████████| 1745/1745 [00:20<00:00, 86.71it/s]\n",
      "Cam: e3v83d6 | Trial: 164 | Frames: 137183-138928: 100%|██████████| 1745/1745 [00:20<00:00, 86.63it/s]\n",
      "Cam: e3v831b | Trial: 165 | Frames: 138929-140329: 100%|██████████| 1400/1400 [00:16<00:00, 87.09it/s]\n",
      "Cam: e3v8360 | Trial: 165 | Frames: 138929-140329: 100%|██████████| 1400/1400 [00:15<00:00, 88.36it/s]\n",
      "Cam: e3v83ad | Trial: 165 | Frames: 138929-140329: 100%|██████████| 1400/1400 [00:16<00:00, 86.86it/s]\n",
      "Cam: e3v83d6 | Trial: 165 | Frames: 138929-140329: 100%|██████████| 1400/1400 [00:15<00:00, 88.79it/s]\n",
      "Cam: e3v831b | Trial: 166 | Frames: 140331-142553: 100%|██████████| 2222/2222 [00:26<00:00, 85.44it/s]\n",
      "Cam: e3v8360 | Trial: 166 | Frames: 140331-142553: 100%|██████████| 2222/2222 [00:25<00:00, 87.56it/s]\n",
      "Cam: e3v83ad | Trial: 166 | Frames: 140331-142553: 100%|██████████| 2222/2222 [00:25<00:00, 86.25it/s]\n",
      "Cam: e3v83d6 | Trial: 166 | Frames: 140331-142553: 100%|██████████| 2222/2222 [00:25<00:00, 86.54it/s]\n"
     ]
    },
    {
     "name": "stdout",
     "output_type": "stream",
     "text": [
      "Video not found for trial 167 although frame epochs found\n",
      "  Cam: e3v831b\n",
      "  Frame Start: 286677\n",
      "  Frame End: 288449\n",
      "Video not found for trial 167 although frame epochs found\n",
      "  Cam: e3v8360\n",
      "  Frame Start: 286677\n",
      "  Frame End: 288449\n",
      "Video not found for trial 167 although frame epochs found\n",
      "  Cam: e3v83ad\n",
      "  Frame Start: 286677\n",
      "  Frame End: 288449\n",
      "Video not found for trial 167 although frame epochs found\n",
      "  Cam: e3v83d6\n",
      "  Frame Start: 286677\n",
      "  Frame End: 288449\n"
     ]
    },
    {
     "name": "stderr",
     "output_type": "stream",
     "text": [
      "Cam: e3v831b | Trial: 168 | Frames: 203-1790: 100%|██████████| 1587/1587 [00:17<00:00, 88.26it/s]\n",
      "Cam: e3v8360 | Trial: 168 | Frames: 323-1910: 100%|██████████| 1587/1587 [00:17<00:00, 88.95it/s]\n",
      "Cam: e3v83ad | Trial: 168 | Frames: 323-1910: 100%|██████████| 1587/1587 [00:18<00:00, 87.88it/s]\n",
      "Cam: e3v83d6 | Trial: 168 | Frames: 204-1791: 100%|██████████| 1587/1587 [00:17<00:00, 88.89it/s]\n",
      "Cam: e3v831b | Trial: 169 | Frames: 1791-3167: 100%|██████████| 1376/1376 [00:15<00:00, 87.18it/s]\n",
      "Cam: e3v8360 | Trial: 169 | Frames: 1911-3287: 100%|██████████| 1376/1376 [00:15<00:00, 89.51it/s]\n",
      "Cam: e3v83ad | Trial: 169 | Frames: 1911-3287: 100%|██████████| 1376/1376 [00:16<00:00, 85.63it/s]\n",
      "Cam: e3v83d6 | Trial: 169 | Frames: 1792-3168: 100%|██████████| 1376/1376 [00:15<00:00, 89.82it/s]\n",
      "Cam: e3v831b | Trial: 170 | Frames: 3168-4822: 100%|██████████| 1654/1654 [00:18<00:00, 87.67it/s]\n",
      "Cam: e3v8360 | Trial: 170 | Frames: 3288-4942: 100%|██████████| 1654/1654 [00:18<00:00, 87.82it/s]\n",
      "Cam: e3v83ad | Trial: 170 | Frames: 3288-4942: 100%|██████████| 1654/1654 [00:19<00:00, 84.23it/s]\n",
      "Cam: e3v83d6 | Trial: 170 | Frames: 3169-4823: 100%|██████████| 1654/1654 [00:18<00:00, 88.72it/s]\n",
      "Cam: e3v831b | Trial: 171 | Frames: 4823-6838: 100%|██████████| 2015/2015 [00:23<00:00, 86.65it/s]\n",
      "Cam: e3v8360 | Trial: 171 | Frames: 4943-6958: 100%|██████████| 2015/2015 [00:22<00:00, 88.92it/s]\n",
      "Cam: e3v83ad | Trial: 171 | Frames: 4943-6958: 100%|██████████| 2015/2015 [00:23<00:00, 86.08it/s]\n",
      "Cam: e3v83d6 | Trial: 171 | Frames: 4824-6839: 100%|██████████| 2015/2015 [00:23<00:00, 87.08it/s]\n",
      "Cam: e3v831b | Trial: 172 | Frames: 6839-8531: 100%|██████████| 1692/1692 [00:19<00:00, 88.09it/s]\n",
      "Cam: e3v8360 | Trial: 172 | Frames: 6959-8651: 100%|██████████| 1692/1692 [00:19<00:00, 88.78it/s]\n",
      "Cam: e3v83ad | Trial: 172 | Frames: 6959-8651: 100%|██████████| 1692/1692 [00:19<00:00, 87.13it/s]\n",
      "Cam: e3v83d6 | Trial: 172 | Frames: 6840-8532: 100%|██████████| 1692/1692 [00:18<00:00, 89.17it/s]\n",
      "Cam: e3v831b | Trial: 173 | Frames: 8532-10225: 100%|██████████| 1693/1693 [00:19<00:00, 88.18it/s]\n",
      "Cam: e3v8360 | Trial: 173 | Frames: 8652-10345: 100%|██████████| 1693/1693 [00:20<00:00, 84.55it/s]\n",
      "Cam: e3v83ad | Trial: 173 | Frames: 8652-10345: 100%|██████████| 1693/1693 [00:20<00:00, 84.30it/s]\n",
      "Cam: e3v83d6 | Trial: 173 | Frames: 8533-10226: 100%|██████████| 1693/1693 [00:19<00:00, 86.38it/s]\n",
      "Cam: e3v831b | Trial: 174 | Frames: 10226-11888: 100%|██████████| 1662/1662 [00:19<00:00, 85.91it/s]\n",
      "Cam: e3v8360 | Trial: 174 | Frames: 10346-12008: 100%|██████████| 1662/1662 [00:19<00:00, 85.98it/s]\n",
      "Cam: e3v83ad | Trial: 174 | Frames: 10346-12008: 100%|██████████| 1662/1662 [00:19<00:00, 85.53it/s]\n",
      "Cam: e3v83d6 | Trial: 174 | Frames: 10227-11889: 100%|██████████| 1662/1662 [00:19<00:00, 86.80it/s]\n",
      "Cam: e3v831b | Trial: 175 | Frames: 11889-13345: 100%|██████████| 1456/1456 [00:17<00:00, 85.55it/s]\n",
      "Cam: e3v8360 | Trial: 175 | Frames: 12009-13465: 100%|██████████| 1456/1456 [00:16<00:00, 87.45it/s]\n",
      "Cam: e3v83ad | Trial: 175 | Frames: 12009-13465: 100%|██████████| 1456/1456 [00:16<00:00, 85.65it/s]\n",
      "Cam: e3v83d6 | Trial: 175 | Frames: 11890-13346: 100%|██████████| 1456/1456 [00:16<00:00, 86.03it/s]\n",
      "Cam: e3v831b | Trial: 176 | Frames: 13346-14750: 100%|██████████| 1404/1404 [00:16<00:00, 83.19it/s]\n",
      "Cam: e3v8360 | Trial: 176 | Frames: 13466-14870: 100%|██████████| 1404/1404 [00:16<00:00, 85.30it/s]\n",
      "Cam: e3v83ad | Trial: 176 | Frames: 13466-14870: 100%|██████████| 1404/1404 [00:16<00:00, 84.33it/s]\n",
      "Cam: e3v83d6 | Trial: 176 | Frames: 13347-14751: 100%|██████████| 1404/1404 [00:16<00:00, 86.74it/s]\n",
      "Cam: e3v831b | Trial: 177 | Frames: 14751-16716: 100%|██████████| 1965/1965 [00:22<00:00, 85.55it/s]\n",
      "Cam: e3v8360 | Trial: 177 | Frames: 14871-16836: 100%|██████████| 1965/1965 [00:22<00:00, 86.67it/s]\n",
      "Cam: e3v83ad | Trial: 177 | Frames: 14871-16836: 100%|██████████| 1965/1965 [00:22<00:00, 85.46it/s]\n",
      "Cam: e3v83d6 | Trial: 177 | Frames: 14752-16717: 100%|██████████| 1965/1965 [00:22<00:00, 86.78it/s]\n",
      "Cam: e3v831b | Trial: 178 | Frames: 16717-18343: 100%|██████████| 1626/1626 [00:19<00:00, 85.49it/s]\n",
      "Cam: e3v8360 | Trial: 178 | Frames: 16837-18463: 100%|██████████| 1626/1626 [00:18<00:00, 87.19it/s]\n",
      "Cam: e3v83ad | Trial: 178 | Frames: 16837-18463: 100%|██████████| 1626/1626 [00:18<00:00, 86.10it/s]\n",
      "Cam: e3v83d6 | Trial: 178 | Frames: 16718-18344: 100%|██████████| 1626/1626 [00:18<00:00, 87.66it/s]\n",
      "Cam: e3v831b | Trial: 179 | Frames: 18344-20187: 100%|██████████| 1843/1843 [00:23<00:00, 77.68it/s]\n",
      "Cam: e3v8360 | Trial: 179 | Frames: 18464-20307: 100%|██████████| 1843/1843 [00:21<00:00, 86.71it/s]\n",
      "Cam: e3v83ad | Trial: 179 | Frames: 18464-20307: 100%|██████████| 1843/1843 [00:21<00:00, 85.74it/s]\n",
      "Cam: e3v83d6 | Trial: 179 | Frames: 18345-20188: 100%|██████████| 1843/1843 [00:21<00:00, 86.34it/s]\n",
      "Cam: e3v831b | Trial: 180 | Frames: 20188-21644: 100%|██████████| 1456/1456 [00:16<00:00, 85.91it/s]\n",
      "Cam: e3v8360 | Trial: 180 | Frames: 20308-21764: 100%|██████████| 1456/1456 [00:16<00:00, 86.81it/s]\n",
      "Cam: e3v83ad | Trial: 180 | Frames: 20308-21764: 100%|██████████| 1456/1456 [00:17<00:00, 85.27it/s]\n",
      "Cam: e3v83d6 | Trial: 180 | Frames: 20189-21645: 100%|██████████| 1456/1456 [00:16<00:00, 86.59it/s]\n",
      "Cam: e3v831b | Trial: 181 | Frames: 21645-23477: 100%|██████████| 1832/1832 [00:21<00:00, 84.56it/s]\n",
      "Cam: e3v8360 | Trial: 181 | Frames: 21765-23597: 100%|██████████| 1832/1832 [00:21<00:00, 86.90it/s]\n",
      "Cam: e3v83ad | Trial: 181 | Frames: 21765-23597: 100%|██████████| 1832/1832 [00:21<00:00, 85.28it/s]\n",
      "Cam: e3v83d6 | Trial: 181 | Frames: 21646-23478: 100%|██████████| 1832/1832 [00:21<00:00, 86.65it/s]\n",
      "Cam: e3v831b | Trial: 182 | Frames: 23479-25452: 100%|██████████| 1973/1973 [00:23<00:00, 85.70it/s]\n",
      "Cam: e3v8360 | Trial: 182 | Frames: 23599-25572: 100%|██████████| 1973/1973 [00:22<00:00, 86.52it/s]\n",
      "Cam: e3v83ad | Trial: 182 | Frames: 23599-25572: 100%|██████████| 1973/1973 [00:23<00:00, 85.22it/s]\n",
      "Cam: e3v83d6 | Trial: 182 | Frames: 23480-25453: 100%|██████████| 1973/1973 [00:22<00:00, 86.34it/s]\n",
      "Cam: e3v831b | Trial: 183 | Frames: 25452-26656: 100%|██████████| 1204/1204 [00:14<00:00, 84.27it/s]\n",
      "Cam: e3v8360 | Trial: 183 | Frames: 25572-26776: 100%|██████████| 1204/1204 [00:14<00:00, 85.64it/s]\n",
      "Cam: e3v83ad | Trial: 183 | Frames: 25572-26776: 100%|██████████| 1204/1204 [00:14<00:00, 83.14it/s]\n",
      "Cam: e3v83d6 | Trial: 183 | Frames: 25453-26657: 100%|██████████| 1204/1204 [00:13<00:00, 86.51it/s]\n",
      "Cam: e3v831b | Trial: 184 | Frames: 26657-28362: 100%|██████████| 1705/1705 [00:19<00:00, 85.80it/s]\n",
      "Cam: e3v8360 | Trial: 184 | Frames: 26777-28482: 100%|██████████| 1705/1705 [00:19<00:00, 86.97it/s]\n",
      "Cam: e3v83ad | Trial: 184 | Frames: 26777-28482: 100%|██████████| 1705/1705 [00:23<00:00, 72.21it/s]\n",
      "Cam: e3v83d6 | Trial: 184 | Frames: 26658-28363: 100%|██████████| 1705/1705 [00:19<00:00, 85.28it/s]\n",
      "Cam: e3v831b | Trial: 185 | Frames: 28362-29843: 100%|██████████| 1481/1481 [00:18<00:00, 82.15it/s]\n",
      "Cam: e3v8360 | Trial: 185 | Frames: 28482-29963: 100%|██████████| 1481/1481 [00:16<00:00, 87.50it/s]\n",
      "Cam: e3v83ad | Trial: 185 | Frames: 28482-29963: 100%|██████████| 1481/1481 [00:17<00:00, 85.90it/s]\n",
      "Cam: e3v83d6 | Trial: 185 | Frames: 28363-29844: 100%|██████████| 1481/1481 [00:16<00:00, 87.37it/s]\n",
      "Cam: e3v831b | Trial: 186 | Frames: 29844-31482: 100%|██████████| 1638/1638 [00:19<00:00, 86.15it/s]\n",
      "Cam: e3v8360 | Trial: 186 | Frames: 29964-31602: 100%|██████████| 1638/1638 [00:18<00:00, 87.54it/s]\n",
      "Cam: e3v83ad | Trial: 186 | Frames: 29964-31602: 100%|██████████| 1638/1638 [00:19<00:00, 85.84it/s]\n",
      "Cam: e3v83d6 | Trial: 186 | Frames: 29845-31483: 100%|██████████| 1638/1638 [00:18<00:00, 87.25it/s]\n",
      "Cam: e3v831b | Trial: 187 | Frames: 31483-33480: 100%|██████████| 1997/1997 [00:23<00:00, 84.82it/s]\n",
      "Cam: e3v8360 | Trial: 187 | Frames: 31603-33600: 100%|██████████| 1997/1997 [00:23<00:00, 84.34it/s]\n",
      "Cam: e3v83ad | Trial: 187 | Frames: 31603-33600: 100%|██████████| 1997/1997 [00:23<00:00, 85.13it/s]\n",
      "Cam: e3v83d6 | Trial: 187 | Frames: 31484-33481: 100%|██████████| 1997/1997 [00:23<00:00, 83.59it/s]\n",
      "Cam: e3v831b | Trial: 188 | Frames: 33481-34592: 100%|██████████| 1111/1111 [00:12<00:00, 86.47it/s]\n",
      "Cam: e3v8360 | Trial: 188 | Frames: 33601-34712: 100%|██████████| 1111/1111 [00:12<00:00, 86.49it/s]\n",
      "Cam: e3v83ad | Trial: 188 | Frames: 33601-34712: 100%|██████████| 1111/1111 [00:13<00:00, 82.58it/s]\n",
      "Cam: e3v83d6 | Trial: 188 | Frames: 33482-34593: 100%|██████████| 1111/1111 [00:13<00:00, 84.45it/s]\n",
      "Cam: e3v831b | Trial: 189 | Frames: 34593-36330: 100%|██████████| 1737/1737 [00:20<00:00, 85.33it/s]\n",
      "Cam: e3v8360 | Trial: 189 | Frames: 34713-36450: 100%|██████████| 1737/1737 [00:20<00:00, 85.78it/s]\n",
      "Cam: e3v83ad | Trial: 189 | Frames: 34713-36450: 100%|██████████| 1737/1737 [00:20<00:00, 85.44it/s]\n",
      "Cam: e3v83d6 | Trial: 189 | Frames: 34594-36331: 100%|██████████| 1737/1737 [00:20<00:00, 86.36it/s]\n",
      "Cam: e3v831b | Trial: 190 | Frames: 36331-38286: 100%|██████████| 1955/1955 [00:22<00:00, 85.33it/s]\n",
      "Cam: e3v8360 | Trial: 190 | Frames: 36451-38406: 100%|██████████| 1955/1955 [00:22<00:00, 86.62it/s]\n",
      "Cam: e3v83ad | Trial: 190 | Frames: 36451-38406: 100%|██████████| 1955/1955 [00:23<00:00, 84.87it/s]\n",
      "Cam: e3v83d6 | Trial: 190 | Frames: 36332-38287: 100%|██████████| 1955/1955 [00:22<00:00, 86.96it/s]\n",
      "Cam: e3v831b | Trial: 191 | Frames: 38287-39585: 100%|██████████| 1298/1298 [00:15<00:00, 84.88it/s]\n",
      "Cam: e3v8360 | Trial: 191 | Frames: 38407-39705: 100%|██████████| 1298/1298 [00:14<00:00, 86.66it/s]\n",
      "Cam: e3v83ad | Trial: 191 | Frames: 38407-39705: 100%|██████████| 1298/1298 [00:15<00:00, 85.34it/s]\n",
      "Cam: e3v83d6 | Trial: 191 | Frames: 38288-39586: 100%|██████████| 1298/1298 [00:15<00:00, 86.34it/s]\n",
      "Cam: e3v831b | Trial: 192 | Frames: 39586-40924: 100%|██████████| 1338/1338 [00:16<00:00, 83.32it/s]\n",
      "Cam: e3v8360 | Trial: 192 | Frames: 39706-41044: 100%|██████████| 1338/1338 [00:15<00:00, 87.03it/s]\n",
      "Cam: e3v83ad | Trial: 192 | Frames: 39706-41044: 100%|██████████| 1338/1338 [00:15<00:00, 85.79it/s]\n",
      "Cam: e3v83d6 | Trial: 192 | Frames: 39587-40925: 100%|██████████| 1338/1338 [00:15<00:00, 86.91it/s]\n",
      "Cam: e3v831b | Trial: 193 | Frames: 40925-43080: 100%|██████████| 2155/2155 [00:26<00:00, 81.59it/s]\n",
      "Cam: e3v8360 | Trial: 193 | Frames: 41045-43200: 100%|██████████| 2155/2155 [00:25<00:00, 84.60it/s]\n",
      "Cam: e3v83ad | Trial: 193 | Frames: 41045-43200: 100%|██████████| 2155/2155 [00:25<00:00, 84.94it/s]\n",
      "Cam: e3v83d6 | Trial: 193 | Frames: 40926-43081: 100%|██████████| 2155/2155 [00:24<00:00, 86.23it/s]\n",
      "Cam: e3v831b | Trial: 194 | Frames: 43080-44751: 100%|██████████| 1671/1671 [00:19<00:00, 85.27it/s]\n",
      "Cam: e3v8360 | Trial: 194 | Frames: 43200-44871: 100%|██████████| 1671/1671 [00:21<00:00, 77.17it/s]\n",
      "Cam: e3v83ad | Trial: 194 | Frames: 43200-44871: 100%|██████████| 1671/1671 [00:19<00:00, 83.78it/s]\n",
      "Cam: e3v83d6 | Trial: 194 | Frames: 43081-44752: 100%|██████████| 1671/1671 [00:19<00:00, 87.31it/s]\n",
      "Cam: e3v831b | Trial: 195 | Frames: 44752-46520: 100%|██████████| 1768/1768 [00:20<00:00, 85.39it/s]\n",
      "Cam: e3v8360 | Trial: 195 | Frames: 44872-46640: 100%|██████████| 1768/1768 [00:20<00:00, 84.89it/s]\n",
      "Cam: e3v83ad | Trial: 195 | Frames: 44872-46640: 100%|██████████| 1768/1768 [00:20<00:00, 85.60it/s]\n",
      "Cam: e3v83d6 | Trial: 195 | Frames: 44753-46521: 100%|██████████| 1768/1768 [00:20<00:00, 88.31it/s]\n",
      "Cam: e3v831b | Trial: 196 | Frames: 46521-47794: 100%|██████████| 1273/1273 [00:14<00:00, 87.55it/s]\n",
      "Cam: e3v8360 | Trial: 196 | Frames: 46641-47914: 100%|██████████| 1273/1273 [00:14<00:00, 86.84it/s]\n",
      "Cam: e3v83ad | Trial: 196 | Frames: 46641-47914: 100%|██████████| 1273/1273 [00:14<00:00, 87.75it/s]\n",
      "Cam: e3v83d6 | Trial: 196 | Frames: 46522-47795: 100%|██████████| 1273/1273 [00:14<00:00, 89.56it/s]\n",
      "Cam: e3v831b | Trial: 197 | Frames: 47795-49243: 100%|██████████| 1448/1448 [00:16<00:00, 87.73it/s]\n",
      "Cam: e3v8360 | Trial: 197 | Frames: 47915-49363: 100%|██████████| 1448/1448 [00:16<00:00, 88.31it/s]\n",
      "Cam: e3v83ad | Trial: 197 | Frames: 47915-49363: 100%|██████████| 1448/1448 [00:16<00:00, 87.29it/s]\n",
      "Cam: e3v83d6 | Trial: 197 | Frames: 47796-49244: 100%|██████████| 1448/1448 [00:16<00:00, 88.37it/s]\n",
      "Cam: e3v831b | Trial: 198 | Frames: 49244-51068: 100%|██████████| 1824/1824 [00:20<00:00, 87.60it/s]\n",
      "Cam: e3v8360 | Trial: 198 | Frames: 49364-51188: 100%|██████████| 1824/1824 [00:20<00:00, 87.93it/s]\n",
      "Cam: e3v83ad | Trial: 198 | Frames: 49364-51188: 100%|██████████| 1824/1824 [00:21<00:00, 85.84it/s]\n",
      "Cam: e3v83d6 | Trial: 198 | Frames: 49245-51069: 100%|██████████| 1824/1824 [00:20<00:00, 89.06it/s]\n",
      "Cam: e3v831b | Trial: 199 | Frames: 51069-52918: 100%|██████████| 1849/1849 [00:21<00:00, 87.34it/s]\n",
      "Cam: e3v8360 | Trial: 199 | Frames: 51189-53038: 100%|██████████| 1849/1849 [00:21<00:00, 86.28it/s]\n",
      "Cam: e3v83ad | Trial: 199 | Frames: 51189-53038: 100%|██████████| 1849/1849 [00:22<00:00, 83.65it/s]\n",
      "Cam: e3v83d6 | Trial: 199 | Frames: 51070-52919: 100%|██████████| 1849/1849 [00:21<00:00, 85.03it/s]\n",
      "Cam: e3v831b | Trial: 200 | Frames: 52919-54537: 100%|██████████| 1618/1618 [00:18<00:00, 87.75it/s]\n",
      "Cam: e3v8360 | Trial: 200 | Frames: 53039-54657: 100%|██████████| 1618/1618 [00:18<00:00, 87.09it/s]\n",
      "Cam: e3v83ad | Trial: 200 | Frames: 53039-54657: 100%|██████████| 1618/1618 [00:18<00:00, 86.27it/s]\n",
      "Cam: e3v83d6 | Trial: 200 | Frames: 52920-54538: 100%|██████████| 1618/1618 [00:18<00:00, 88.87it/s]\n",
      "Cam: e3v831b | Trial: 201 | Frames: 54538-55976: 100%|██████████| 1438/1438 [00:16<00:00, 87.72it/s]\n",
      "Cam: e3v8360 | Trial: 201 | Frames: 54658-56096: 100%|██████████| 1438/1438 [00:16<00:00, 87.52it/s]\n",
      "Cam: e3v83ad | Trial: 201 | Frames: 54658-56096: 100%|██████████| 1438/1438 [00:16<00:00, 85.90it/s]\n",
      "Cam: e3v83d6 | Trial: 201 | Frames: 54539-55977: 100%|██████████| 1438/1438 [00:16<00:00, 88.63it/s]\n",
      "Cam: e3v831b | Trial: 202 | Frames: 55977-57968: 100%|██████████| 1991/1991 [00:22<00:00, 86.78it/s]\n",
      "Cam: e3v8360 | Trial: 202 | Frames: 56097-58088: 100%|██████████| 1991/1991 [00:22<00:00, 88.02it/s]\n",
      "Cam: e3v83ad | Trial: 202 | Frames: 56097-58088: 100%|██████████| 1991/1991 [00:22<00:00, 87.68it/s]\n",
      "Cam: e3v83d6 | Trial: 202 | Frames: 55978-57969: 100%|██████████| 1991/1991 [00:22<00:00, 88.90it/s]\n",
      "Cam: e3v831b | Trial: 203 | Frames: 57969-59753: 100%|██████████| 1784/1784 [00:20<00:00, 86.35it/s]\n",
      "Cam: e3v8360 | Trial: 203 | Frames: 58089-59873: 100%|██████████| 1784/1784 [00:20<00:00, 85.75it/s]\n",
      "Cam: e3v83ad | Trial: 203 | Frames: 58089-59873: 100%|██████████| 1784/1784 [00:20<00:00, 85.63it/s]\n",
      "Cam: e3v83d6 | Trial: 203 | Frames: 57970-59754: 100%|██████████| 1784/1784 [00:20<00:00, 88.29it/s]\n",
      "Cam: e3v831b | Trial: 204 | Frames: 59755-61453: 100%|██████████| 1698/1698 [00:19<00:00, 87.88it/s]\n",
      "Cam: e3v8360 | Trial: 204 | Frames: 59875-61573: 100%|██████████| 1698/1698 [00:19<00:00, 88.28it/s]\n",
      "Cam: e3v83ad | Trial: 204 | Frames: 59875-61573: 100%|██████████| 1698/1698 [00:19<00:00, 86.89it/s]\n",
      "Cam: e3v83d6 | Trial: 204 | Frames: 59756-61454: 100%|██████████| 1698/1698 [00:18<00:00, 89.49it/s]\n",
      "Cam: e3v831b | Trial: 205 | Frames: 61454-63299: 100%|██████████| 1845/1845 [00:21<00:00, 87.64it/s]\n",
      "Cam: e3v8360 | Trial: 205 | Frames: 61574-63419: 100%|██████████| 1845/1845 [00:21<00:00, 85.10it/s]\n",
      "Cam: e3v83ad | Trial: 205 | Frames: 61574-63419: 100%|██████████| 1845/1845 [00:21<00:00, 87.25it/s]\n",
      "Cam: e3v83d6 | Trial: 205 | Frames: 61455-63300: 100%|██████████| 1845/1845 [00:20<00:00, 88.49it/s]\n",
      "Cam: e3v831b | Trial: 206 | Frames: 63300-64928: 100%|██████████| 1628/1628 [00:18<00:00, 88.13it/s]\n",
      "Cam: e3v8360 | Trial: 206 | Frames: 63420-65048: 100%|██████████| 1628/1628 [00:18<00:00, 89.38it/s]\n",
      "Cam: e3v83ad | Trial: 206 | Frames: 63420-65048: 100%|██████████| 1628/1628 [00:18<00:00, 86.84it/s]\n",
      "Cam: e3v83d6 | Trial: 206 | Frames: 63301-64929: 100%|██████████| 1628/1628 [00:18<00:00, 88.23it/s]\n",
      "Cam: e3v831b | Trial: 207 | Frames: 64928-66749: 100%|██████████| 1821/1821 [00:20<00:00, 86.78it/s]\n",
      "Cam: e3v8360 | Trial: 207 | Frames: 65048-66869: 100%|██████████| 1821/1821 [00:20<00:00, 88.18it/s]\n",
      "Cam: e3v83ad | Trial: 207 | Frames: 65048-66869: 100%|██████████| 1821/1821 [00:21<00:00, 86.53it/s]\n",
      "Cam: e3v83d6 | Trial: 207 | Frames: 64929-66750: 100%|██████████| 1821/1821 [00:20<00:00, 86.73it/s]\n",
      "Cam: e3v831b | Trial: 208 | Frames: 66750-68554: 100%|██████████| 1804/1804 [00:20<00:00, 87.49it/s]\n",
      "Cam: e3v8360 | Trial: 208 | Frames: 66870-68674: 100%|██████████| 1804/1804 [00:20<00:00, 88.63it/s]\n",
      "Cam: e3v83ad | Trial: 208 | Frames: 66870-68674: 100%|██████████| 1804/1804 [00:21<00:00, 84.54it/s]\n",
      "Cam: e3v83d6 | Trial: 208 | Frames: 66751-68555: 100%|██████████| 1804/1804 [00:20<00:00, 87.67it/s]\n",
      "Cam: e3v831b | Trial: 209 | Frames: 68555-70020: 100%|██████████| 1465/1465 [00:16<00:00, 87.54it/s]\n",
      "Cam: e3v8360 | Trial: 209 | Frames: 68675-70140: 100%|██████████| 1465/1465 [00:16<00:00, 88.52it/s]\n",
      "Cam: e3v83ad | Trial: 209 | Frames: 68675-70140: 100%|██████████| 1465/1465 [00:17<00:00, 85.82it/s]\n",
      "Cam: e3v83d6 | Trial: 209 | Frames: 68556-70021: 100%|██████████| 1465/1465 [00:16<00:00, 89.10it/s]\n",
      "Cam: e3v831b | Trial: 210 | Frames: 70021-71229: 100%|██████████| 1208/1208 [00:13<00:00, 87.21it/s]\n",
      "Cam: e3v8360 | Trial: 210 | Frames: 70141-71349: 100%|██████████| 1208/1208 [00:13<00:00, 89.06it/s]\n",
      "Cam: e3v83ad | Trial: 210 | Frames: 70141-71349: 100%|██████████| 1208/1208 [00:13<00:00, 87.68it/s]\n",
      "Cam: e3v83d6 | Trial: 210 | Frames: 70022-71230: 100%|██████████| 1208/1208 [00:13<00:00, 89.55it/s]\n",
      "Cam: e3v831b | Trial: 211 | Frames: 71230-72904: 100%|██████████| 1674/1674 [00:19<00:00, 87.65it/s]\n",
      "Cam: e3v8360 | Trial: 211 | Frames: 71350-73024: 100%|██████████| 1674/1674 [00:18<00:00, 88.36it/s]\n",
      "Cam: e3v83ad | Trial: 211 | Frames: 71350-73024: 100%|██████████| 1674/1674 [00:19<00:00, 84.99it/s]\n",
      "Cam: e3v83d6 | Trial: 211 | Frames: 71231-72905: 100%|██████████| 1674/1674 [00:18<00:00, 88.67it/s]\n",
      "Cam: e3v831b | Trial: 212 | Frames: 72905-74906: 100%|██████████| 2001/2001 [00:23<00:00, 85.63it/s]\n",
      "Cam: e3v8360 | Trial: 212 | Frames: 73025-75026: 100%|██████████| 2001/2001 [00:23<00:00, 85.99it/s]\n",
      "Cam: e3v83ad | Trial: 212 | Frames: 73025-75026: 100%|██████████| 2001/2001 [00:23<00:00, 86.57it/s]\n",
      "Cam: e3v83d6 | Trial: 212 | Frames: 72906-74907: 100%|██████████| 2001/2001 [00:22<00:00, 88.56it/s]\n",
      "Cam: e3v831b | Trial: 213 | Frames: 74906-76731: 100%|██████████| 1825/1825 [00:22<00:00, 82.03it/s]\n",
      "Cam: e3v8360 | Trial: 213 | Frames: 75026-76851: 100%|██████████| 1825/1825 [00:20<00:00, 88.19it/s]\n",
      "Cam: e3v83ad | Trial: 213 | Frames: 75026-76851: 100%|██████████| 1825/1825 [00:21<00:00, 84.66it/s]\n",
      "Cam: e3v83d6 | Trial: 213 | Frames: 74907-76732: 100%|██████████| 1825/1825 [00:20<00:00, 88.09it/s]\n",
      "Cam: e3v831b | Trial: 214 | Frames: 76732-78175: 100%|██████████| 1443/1443 [00:16<00:00, 87.35it/s]\n",
      "Cam: e3v8360 | Trial: 214 | Frames: 76852-78295: 100%|██████████| 1443/1443 [00:16<00:00, 86.00it/s]\n",
      "Cam: e3v83ad | Trial: 214 | Frames: 76852-78295: 100%|██████████| 1443/1443 [00:16<00:00, 87.86it/s]\n",
      "Cam: e3v83d6 | Trial: 214 | Frames: 76733-78176: 100%|██████████| 1443/1443 [00:16<00:00, 88.25it/s]\n",
      "Cam: e3v831b | Trial: 215 | Frames: 78175-80316: 100%|██████████| 2141/2141 [00:24<00:00, 85.80it/s]\n",
      "Cam: e3v8360 | Trial: 215 | Frames: 78295-80436: 100%|██████████| 2141/2141 [00:24<00:00, 88.93it/s]\n",
      "Cam: e3v83ad | Trial: 215 | Frames: 78295-80436: 100%|██████████| 2141/2141 [00:25<00:00, 82.86it/s]\n",
      "Cam: e3v83d6 | Trial: 215 | Frames: 78176-80317: 100%|██████████| 2141/2141 [00:24<00:00, 87.98it/s]\n",
      "Cam: e3v831b | Trial: 216 | Frames: 80317-81895: 100%|██████████| 1578/1578 [00:18<00:00, 85.26it/s]\n",
      "Cam: e3v8360 | Trial: 216 | Frames: 80437-82015: 100%|██████████| 1578/1578 [00:18<00:00, 87.24it/s]\n",
      "Cam: e3v83ad | Trial: 216 | Frames: 80437-82015: 100%|██████████| 1578/1578 [00:18<00:00, 87.37it/s]\n",
      "Cam: e3v83d6 | Trial: 216 | Frames: 80318-81896: 100%|██████████| 1578/1578 [00:18<00:00, 86.77it/s]\n",
      "Cam: e3v831b | Trial: 217 | Frames: 81897-83273: 100%|██████████| 1376/1376 [00:15<00:00, 87.18it/s]\n",
      "Cam: e3v8360 | Trial: 217 | Frames: 82017-83393: 100%|██████████| 1376/1376 [00:15<00:00, 88.51it/s]\n",
      "Cam: e3v83ad | Trial: 217 | Frames: 82017-83393: 100%|██████████| 1376/1376 [00:15<00:00, 86.42it/s]\n",
      "Cam: e3v83d6 | Trial: 217 | Frames: 81898-83274: 100%|██████████| 1376/1376 [00:15<00:00, 88.48it/s]\n",
      "Cam: e3v831b | Trial: 218 | Frames: 83274-85255: 100%|██████████| 1981/1981 [00:23<00:00, 84.68it/s]\n",
      "Cam: e3v8360 | Trial: 218 | Frames: 83394-85375: 100%|██████████| 1981/1981 [00:22<00:00, 88.84it/s]\n",
      "Cam: e3v83ad | Trial: 218 | Frames: 83394-85375: 100%|██████████| 1981/1981 [00:22<00:00, 86.65it/s]\n",
      "Cam: e3v83d6 | Trial: 218 | Frames: 83275-85256: 100%|██████████| 1981/1981 [00:22<00:00, 88.45it/s]\n",
      "Cam: e3v831b | Trial: 219 | Frames: 85256-87006: 100%|██████████| 1750/1750 [00:20<00:00, 87.04it/s]\n",
      "Cam: e3v8360 | Trial: 219 | Frames: 85376-87126: 100%|██████████| 1750/1750 [00:19<00:00, 88.09it/s]\n",
      "Cam: e3v83ad | Trial: 219 | Frames: 85376-87126: 100%|██████████| 1750/1750 [00:20<00:00, 87.40it/s]\n",
      "Cam: e3v83d6 | Trial: 219 | Frames: 85257-87007: 100%|██████████| 1750/1750 [00:19<00:00, 88.25it/s]\n",
      "Cam: e3v831b | Trial: 220 | Frames: 87007-88116: 100%|██████████| 1109/1109 [00:12<00:00, 87.86it/s]\n",
      "Cam: e3v8360 | Trial: 220 | Frames: 87127-88236: 100%|██████████| 1109/1109 [00:12<00:00, 88.74it/s]\n",
      "Cam: e3v83ad | Trial: 220 | Frames: 87127-88236: 100%|██████████| 1109/1109 [00:12<00:00, 86.36it/s]\n",
      "Cam: e3v83d6 | Trial: 220 | Frames: 87008-88117: 100%|██████████| 1109/1109 [00:12<00:00, 87.63it/s]\n",
      "Cam: e3v831b | Trial: 221 | Frames: 88118-89834: 100%|██████████| 1716/1716 [00:20<00:00, 85.02it/s]\n",
      "Cam: e3v8360 | Trial: 221 | Frames: 88238-89954: 100%|██████████| 1716/1716 [00:19<00:00, 85.89it/s]\n",
      "Cam: e3v83ad | Trial: 221 | Frames: 88238-89954: 100%|██████████| 1716/1716 [00:20<00:00, 84.72it/s]\n",
      "Cam: e3v83d6 | Trial: 221 | Frames: 88119-89835: 100%|██████████| 1716/1716 [00:19<00:00, 88.84it/s]\n",
      "Cam: e3v831b | Trial: 222 | Frames: 89835-91561: 100%|██████████| 1726/1726 [00:19<00:00, 87.27it/s]\n",
      "Cam: e3v8360 | Trial: 222 | Frames: 89955-91681: 100%|██████████| 1726/1726 [00:19<00:00, 88.65it/s]\n",
      "Cam: e3v83ad | Trial: 222 | Frames: 89955-91681: 100%|██████████| 1726/1726 [00:20<00:00, 84.86it/s]\n",
      "Cam: e3v83d6 | Trial: 222 | Frames: 89836-91562: 100%|██████████| 1726/1726 [00:19<00:00, 88.56it/s]\n",
      "Cam: e3v831b | Trial: 223 | Frames: 91562-93835: 100%|██████████| 2273/2273 [00:26<00:00, 86.81it/s]\n",
      "Cam: e3v8360 | Trial: 223 | Frames: 91682-93955: 100%|██████████| 2273/2273 [00:27<00:00, 82.57it/s]\n",
      "Cam: e3v83ad | Trial: 223 | Frames: 91682-93955: 100%|██████████| 2273/2273 [00:26<00:00, 86.82it/s]\n",
      "Cam: e3v83d6 | Trial: 223 | Frames: 91563-93836: 100%|██████████| 2273/2273 [00:25<00:00, 87.52it/s]\n",
      "Cam: e3v831b | Trial: 224 | Frames: 93836-95394: 100%|██████████| 1558/1558 [00:17<00:00, 87.68it/s]\n",
      "Cam: e3v8360 | Trial: 224 | Frames: 93956-95514: 100%|██████████| 1558/1558 [00:17<00:00, 88.15it/s]\n",
      "Cam: e3v83ad | Trial: 224 | Frames: 93956-95514: 100%|██████████| 1558/1558 [00:18<00:00, 84.85it/s]\n",
      "Cam: e3v83d6 | Trial: 224 | Frames: 93837-95395: 100%|██████████| 1558/1558 [00:17<00:00, 87.94it/s]\n",
      "Cam: e3v831b | Trial: 225 | Frames: 95395-96832: 100%|██████████| 1437/1437 [00:16<00:00, 87.20it/s]\n",
      "Cam: e3v8360 | Trial: 225 | Frames: 95515-96952: 100%|██████████| 1437/1437 [00:16<00:00, 86.48it/s]\n",
      "Cam: e3v83ad | Trial: 225 | Frames: 95515-96952: 100%|██████████| 1437/1437 [00:21<00:00, 67.38it/s]\n",
      "Cam: e3v83d6 | Trial: 225 | Frames: 95396-96833: 100%|██████████| 1437/1437 [00:17<00:00, 83.78it/s]\n",
      "Cam: e3v831b | Trial: 226 | Frames: 96833-98011: 100%|██████████| 1178/1178 [00:13<00:00, 87.36it/s]\n",
      "Cam: e3v8360 | Trial: 226 | Frames: 96953-98131: 100%|██████████| 1178/1178 [00:13<00:00, 88.68it/s]\n",
      "Cam: e3v83ad | Trial: 226 | Frames: 96953-98131: 100%|██████████| 1178/1178 [00:13<00:00, 86.38it/s]\n",
      "Cam: e3v83d6 | Trial: 226 | Frames: 96834-98012: 100%|██████████| 1178/1178 [00:13<00:00, 88.41it/s]\n",
      "Cam: e3v831b | Trial: 227 | Frames: 98012-99686: 100%|██████████| 1674/1674 [00:19<00:00, 86.51it/s]\n",
      "Cam: e3v8360 | Trial: 227 | Frames: 98132-99806: 100%|██████████| 1674/1674 [00:18<00:00, 88.64it/s]\n",
      "Cam: e3v83ad | Trial: 227 | Frames: 98132-99806: 100%|██████████| 1674/1674 [00:19<00:00, 86.89it/s]\n",
      "Cam: e3v83d6 | Trial: 227 | Frames: 98013-99687: 100%|██████████| 1674/1674 [00:20<00:00, 82.00it/s]\n",
      "Cam: e3v831b | Trial: 228 | Frames: 99687-101550: 100%|██████████| 1863/1863 [00:24<00:00, 77.49it/s]\n",
      "Cam: e3v8360 | Trial: 228 | Frames: 99807-101670: 100%|██████████| 1863/1863 [00:21<00:00, 85.67it/s]\n",
      "Cam: e3v83ad | Trial: 228 | Frames: 99807-101670: 100%|██████████| 1863/1863 [00:21<00:00, 87.95it/s]\n",
      "Cam: e3v83d6 | Trial: 228 | Frames: 99688-101551: 100%|██████████| 1863/1863 [00:20<00:00, 90.01it/s]\n",
      "Cam: e3v831b | Trial: 229 | Frames: 101551-102957: 100%|██████████| 1406/1406 [00:15<00:00, 88.71it/s]\n",
      "Cam: e3v8360 | Trial: 229 | Frames: 101671-103077: 100%|██████████| 1406/1406 [00:15<00:00, 88.80it/s]\n",
      "Cam: e3v83ad | Trial: 229 | Frames: 101671-103077: 100%|██████████| 1406/1406 [00:16<00:00, 85.88it/s]\n",
      "Cam: e3v83d6 | Trial: 229 | Frames: 101552-102958: 100%|██████████| 1406/1406 [00:16<00:00, 86.43it/s]\n",
      "Cam: e3v831b | Trial: 230 | Frames: 102958-104836: 100%|██████████| 1878/1878 [00:22<00:00, 85.24it/s]\n",
      "Cam: e3v8360 | Trial: 230 | Frames: 103078-104956: 100%|██████████| 1878/1878 [00:21<00:00, 85.45it/s]\n",
      "Cam: e3v83ad | Trial: 230 | Frames: 103078-104956: 100%|██████████| 1878/1878 [00:22<00:00, 84.77it/s]\n",
      "Cam: e3v83d6 | Trial: 230 | Frames: 102959-104837: 100%|██████████| 1878/1878 [00:21<00:00, 85.82it/s]\n",
      "Cam: e3v831b | Trial: 231 | Frames: 104837-106576: 100%|██████████| 1739/1739 [00:20<00:00, 86.19it/s]\n",
      "Cam: e3v8360 | Trial: 231 | Frames: 104957-106696: 100%|██████████| 1739/1739 [00:19<00:00, 87.40it/s]\n",
      "Cam: e3v83ad | Trial: 231 | Frames: 104957-106696: 100%|██████████| 1739/1739 [00:20<00:00, 85.58it/s]\n",
      "Cam: e3v83d6 | Trial: 231 | Frames: 104838-106577: 100%|██████████| 1739/1739 [00:20<00:00, 84.49it/s]\n",
      "Cam: e3v831b | Trial: 232 | Frames: 106577-108401: 100%|██████████| 1824/1824 [00:21<00:00, 85.67it/s]\n",
      "Cam: e3v8360 | Trial: 232 | Frames: 106697-108521: 100%|██████████| 1824/1824 [00:20<00:00, 87.41it/s]\n",
      "Cam: e3v83ad | Trial: 232 | Frames: 106697-108521: 100%|██████████| 1824/1824 [00:21<00:00, 85.19it/s]\n",
      "Cam: e3v83d6 | Trial: 232 | Frames: 106578-108402: 100%|██████████| 1824/1824 [00:21<00:00, 85.73it/s]\n",
      "Cam: e3v831b | Trial: 233 | Frames: 108402-110185: 100%|██████████| 1783/1783 [00:20<00:00, 87.31it/s]\n",
      "Cam: e3v8360 | Trial: 233 | Frames: 108522-110305: 100%|██████████| 1783/1783 [00:20<00:00, 88.21it/s]\n",
      "Cam: e3v83ad | Trial: 233 | Frames: 108522-110305: 100%|██████████| 1783/1783 [00:20<00:00, 87.19it/s]\n",
      "Cam: e3v83d6 | Trial: 233 | Frames: 108403-110186: 100%|██████████| 1783/1783 [00:20<00:00, 87.01it/s]\n",
      "Cam: e3v831b | Trial: 234 | Frames: 110186-111492: 100%|██████████| 1306/1306 [00:15<00:00, 85.98it/s]\n",
      "Cam: e3v8360 | Trial: 234 | Frames: 110306-111612: 100%|██████████| 1306/1306 [00:14<00:00, 88.88it/s]\n",
      "Cam: e3v83ad | Trial: 234 | Frames: 110306-111612: 100%|██████████| 1306/1306 [00:15<00:00, 86.73it/s]\n",
      "Cam: e3v83d6 | Trial: 234 | Frames: 110187-111493: 100%|██████████| 1306/1306 [00:15<00:00, 84.76it/s]\n",
      "Cam: e3v831b | Trial: 235 | Frames: 111493-113081: 100%|██████████| 1588/1588 [00:18<00:00, 87.05it/s]\n",
      "Cam: e3v8360 | Trial: 235 | Frames: 111613-113201: 100%|██████████| 1588/1588 [00:18<00:00, 85.40it/s]\n",
      "Cam: e3v83ad | Trial: 235 | Frames: 111613-113201: 100%|██████████| 1588/1588 [00:18<00:00, 86.94it/s]\n",
      "Cam: e3v83d6 | Trial: 235 | Frames: 111494-113082: 100%|██████████| 1588/1588 [00:18<00:00, 85.75it/s]\n",
      "Cam: e3v831b | Trial: 236 | Frames: 113082-114878: 100%|██████████| 1796/1796 [00:20<00:00, 87.21it/s]\n",
      "Cam: e3v8360 | Trial: 236 | Frames: 113202-114998: 100%|██████████| 1796/1796 [00:20<00:00, 88.18it/s]\n",
      "Cam: e3v83ad | Trial: 236 | Frames: 113202-114998: 100%|██████████| 1796/1796 [00:20<00:00, 87.02it/s]\n",
      "Cam: e3v83d6 | Trial: 236 | Frames: 113083-114879: 100%|██████████| 1796/1796 [00:20<00:00, 88.96it/s]\n",
      "Cam: e3v831b | Trial: 237 | Frames: 114879-116348: 100%|██████████| 1469/1469 [00:16<00:00, 87.00it/s]\n",
      "Cam: e3v8360 | Trial: 237 | Frames: 114999-116468: 100%|██████████| 1469/1469 [00:16<00:00, 87.95it/s]\n",
      "Cam: e3v83ad | Trial: 237 | Frames: 114999-116468: 100%|██████████| 1469/1469 [00:16<00:00, 86.93it/s]\n",
      "Cam: e3v83d6 | Trial: 237 | Frames: 114880-116349: 100%|██████████| 1469/1469 [00:16<00:00, 88.59it/s]\n",
      "Cam: e3v831b | Trial: 238 | Frames: 116349-117819: 100%|██████████| 1470/1470 [00:16<00:00, 87.70it/s]\n",
      "Cam: e3v8360 | Trial: 238 | Frames: 116469-117939: 100%|██████████| 1470/1470 [00:17<00:00, 85.89it/s]\n",
      "Cam: e3v83ad | Trial: 238 | Frames: 116469-117939: 100%|██████████| 1470/1470 [00:16<00:00, 87.11it/s]\n",
      "Cam: e3v83d6 | Trial: 238 | Frames: 116350-117820: 100%|██████████| 1470/1470 [00:16<00:00, 88.16it/s]\n",
      "Cam: e3v831b | Trial: 239 | Frames: 117820-119224: 100%|██████████| 1404/1404 [00:17<00:00, 81.85it/s]\n",
      "Cam: e3v8360 | Trial: 239 | Frames: 117940-119344: 100%|██████████| 1404/1404 [00:16<00:00, 86.10it/s]\n",
      "Cam: e3v83ad | Trial: 239 | Frames: 117940-119344: 100%|██████████| 1404/1404 [00:16<00:00, 84.50it/s]\n",
      "Cam: e3v83d6 | Trial: 239 | Frames: 117821-119225: 100%|██████████| 1404/1404 [00:15<00:00, 88.45it/s]\n",
      "Cam: e3v831b | Trial: 240 | Frames: 119225-121028: 100%|██████████| 1803/1803 [00:20<00:00, 86.63it/s]\n",
      "Cam: e3v8360 | Trial: 240 | Frames: 119345-121148: 100%|██████████| 1803/1803 [00:20<00:00, 88.38it/s]\n",
      "Cam: e3v83ad | Trial: 240 | Frames: 119345-121148: 100%|██████████| 1803/1803 [00:20<00:00, 86.72it/s]\n",
      "Cam: e3v83d6 | Trial: 240 | Frames: 119226-121029: 100%|██████████| 1803/1803 [00:20<00:00, 88.67it/s]\n",
      "Cam: e3v831b | Trial: 241 | Frames: 121028-122969: 100%|██████████| 1941/1941 [00:22<00:00, 87.52it/s]\n",
      "Cam: e3v8360 | Trial: 241 | Frames: 121148-123089: 100%|██████████| 1941/1941 [00:22<00:00, 84.67it/s]\n",
      "Cam: e3v83ad | Trial: 241 | Frames: 121148-123089: 100%|██████████| 1941/1941 [00:22<00:00, 85.10it/s]\n",
      "Cam: e3v83d6 | Trial: 241 | Frames: 121029-122970: 100%|██████████| 1941/1941 [00:21<00:00, 88.51it/s]\n",
      "Cam: e3v831b | Trial: 242 | Frames: 122970-125033: 100%|██████████| 2063/2063 [00:23<00:00, 87.22it/s]\n",
      "Cam: e3v8360 | Trial: 242 | Frames: 123090-125153: 100%|██████████| 2063/2063 [00:23<00:00, 88.23it/s]\n",
      "Cam: e3v83ad | Trial: 242 | Frames: 123090-125153: 100%|██████████| 2063/2063 [00:23<00:00, 86.16it/s]\n",
      "Cam: e3v83d6 | Trial: 242 | Frames: 122971-125034: 100%|██████████| 2063/2063 [00:23<00:00, 88.27it/s]\n",
      "Cam: e3v831b | Trial: 243 | Frames: 125034-126472: 100%|██████████| 1438/1438 [00:16<00:00, 86.93it/s]\n",
      "Cam: e3v8360 | Trial: 243 | Frames: 125154-126592: 100%|██████████| 1438/1438 [00:16<00:00, 88.24it/s]\n",
      "Cam: e3v83ad | Trial: 243 | Frames: 125154-126592: 100%|██████████| 1438/1438 [00:16<00:00, 86.56it/s]\n",
      "Cam: e3v83d6 | Trial: 243 | Frames: 125035-126473: 100%|██████████| 1438/1438 [00:16<00:00, 88.49it/s]\n",
      "Cam: e3v831b | Trial: 244 | Frames: 126473-128217: 100%|██████████| 1744/1744 [00:20<00:00, 86.58it/s]\n",
      "Cam: e3v8360 | Trial: 244 | Frames: 126593-128337: 100%|██████████| 1744/1744 [00:19<00:00, 88.12it/s]\n",
      "Cam: e3v83ad | Trial: 244 | Frames: 126593-128337: 100%|██████████| 1744/1744 [00:20<00:00, 86.53it/s]\n",
      "Cam: e3v83d6 | Trial: 244 | Frames: 126474-128218: 100%|██████████| 1744/1744 [00:19<00:00, 88.13it/s]\n",
      "Cam: e3v831b | Trial: 245 | Frames: 128218-130021: 100%|██████████| 1803/1803 [00:20<00:00, 87.44it/s]\n",
      "Cam: e3v8360 | Trial: 245 | Frames: 128338-130141: 100%|██████████| 1803/1803 [00:20<00:00, 87.91it/s]\n",
      "Cam: e3v83ad | Trial: 245 | Frames: 128338-130141: 100%|██████████| 1803/1803 [00:21<00:00, 84.86it/s]\n",
      "Cam: e3v83d6 | Trial: 245 | Frames: 128219-130022: 100%|██████████| 1803/1803 [00:20<00:00, 87.05it/s]\n",
      "Cam: e3v831b | Trial: 246 | Frames: 130022-131232: 100%|██████████| 1210/1210 [00:13<00:00, 87.43it/s]\n",
      "Cam: e3v8360 | Trial: 246 | Frames: 130142-131352: 100%|██████████| 1210/1210 [00:13<00:00, 88.13it/s]\n",
      "Cam: e3v83ad | Trial: 246 | Frames: 130142-131352: 100%|██████████| 1210/1210 [00:13<00:00, 86.78it/s]\n",
      "Cam: e3v83d6 | Trial: 246 | Frames: 130023-131233: 100%|██████████| 1210/1210 [00:13<00:00, 87.05it/s]\n",
      "Cam: e3v831b | Trial: 247 | Frames: 131233-132761: 100%|██████████| 1528/1528 [00:17<00:00, 85.86it/s]\n",
      "Cam: e3v8360 | Trial: 247 | Frames: 131353-132881: 100%|██████████| 1528/1528 [00:17<00:00, 88.21it/s]\n",
      "Cam: e3v83ad | Trial: 247 | Frames: 131353-132881: 100%|██████████| 1528/1528 [00:17<00:00, 86.79it/s]\n",
      "Cam: e3v83d6 | Trial: 247 | Frames: 131234-132762: 100%|██████████| 1528/1528 [00:17<00:00, 86.99it/s]\n",
      "Cam: e3v831b | Trial: 248 | Frames: 132762-134701: 100%|██████████| 1939/1939 [00:23<00:00, 81.80it/s]\n",
      "Cam: e3v8360 | Trial: 248 | Frames: 132882-134821: 100%|██████████| 1939/1939 [00:22<00:00, 85.66it/s]\n",
      "Cam: e3v83ad | Trial: 248 | Frames: 132882-134821: 100%|██████████| 1939/1939 [00:23<00:00, 83.95it/s]\n",
      "Cam: e3v83d6 | Trial: 248 | Frames: 132763-134702: 100%|██████████| 1939/1939 [00:22<00:00, 87.34it/s]\n",
      "Cam: e3v831b | Trial: 249 | Frames: 134702-136524: 100%|██████████| 1822/1822 [00:21<00:00, 85.87it/s]\n",
      "Cam: e3v8360 | Trial: 249 | Frames: 134822-136644: 100%|██████████| 1822/1822 [00:20<00:00, 88.52it/s]\n",
      "Cam: e3v83ad | Trial: 249 | Frames: 134822-136644: 100%|██████████| 1822/1822 [00:20<00:00, 86.99it/s]\n",
      "Cam: e3v83d6 | Trial: 249 | Frames: 134703-136525: 100%|██████████| 1822/1822 [00:21<00:00, 86.11it/s]\n",
      "Cam: e3v831b | Trial: 250 | Frames: 136525-138232: 100%|██████████| 1707/1707 [00:20<00:00, 84.99it/s]\n",
      "Cam: e3v8360 | Trial: 250 | Frames: 136645-138352: 100%|██████████| 1707/1707 [00:20<00:00, 85.35it/s]\n",
      "Cam: e3v83ad | Trial: 250 | Frames: 136645-138352: 100%|██████████| 1707/1707 [00:19<00:00, 86.45it/s]\n",
      "Cam: e3v83d6 | Trial: 250 | Frames: 136526-138233: 100%|██████████| 1707/1707 [00:19<00:00, 89.08it/s]\n",
      "Cam: e3v831b | Trial: 251 | Frames: 138233-139607: 100%|██████████| 1374/1374 [00:15<00:00, 86.86it/s]\n",
      "Cam: e3v8360 | Trial: 251 | Frames: 138353-139727: 100%|██████████| 1374/1374 [00:15<00:00, 88.34it/s]\n",
      "Cam: e3v83ad | Trial: 251 | Frames: 138353-139727: 100%|██████████| 1374/1374 [00:15<00:00, 86.63it/s]\n",
      "Cam: e3v83d6 | Trial: 251 | Frames: 138234-139608: 100%|██████████| 1374/1374 [00:15<00:00, 87.82it/s]\n",
      "Cam: e3v831b | Trial: 252 | Frames: 139608-141024: 100%|██████████| 1416/1416 [00:16<00:00, 87.77it/s]\n",
      "Cam: e3v8360 | Trial: 252 | Frames: 139728-141144: 100%|██████████| 1416/1416 [00:16<00:00, 86.64it/s]\n",
      "Cam: e3v83ad | Trial: 252 | Frames: 139728-141144: 100%|██████████| 1416/1416 [00:16<00:00, 84.61it/s]\n",
      "Cam: e3v83d6 | Trial: 252 | Frames: 139609-141025: 100%|██████████| 1416/1416 [00:15<00:00, 89.03it/s]\n",
      "Cam: e3v831b | Trial: 253 | Frames: 141025-143136: 100%|██████████| 2111/2111 [00:24<00:00, 86.35it/s]\n",
      "Cam: e3v8360 | Trial: 253 | Frames: 141145-143256: 100%|██████████| 2111/2111 [00:24<00:00, 85.21it/s]\n",
      "Cam: e3v83ad | Trial: 253 | Frames: 141145-143256: 100%|██████████| 2111/2111 [00:24<00:00, 86.61it/s]\n",
      "Cam: e3v83d6 | Trial: 253 | Frames: 141026-143137: 100%|██████████| 2111/2111 [00:23<00:00, 88.47it/s]\n"
     ]
    },
    {
     "name": "stdout",
     "output_type": "stream",
     "text": [
      "Video not found for trial 254 although frame epochs found\n",
      "  Cam: e3v831b\n",
      "  Frame Start: 431384\n",
      "  Frame End: 432986\n",
      "Video not found for trial 254 although frame epochs found\n",
      "  Cam: e3v8360\n",
      "  Frame Start: 431384\n",
      "  Frame End: 432986\n",
      "Video not found for trial 254 although frame epochs found\n",
      "  Cam: e3v83ad\n",
      "  Frame Start: 431384\n",
      "  Frame End: 432986\n",
      "Video not found for trial 254 although frame epochs found\n",
      "  Cam: e3v83d6\n",
      "  Frame Start: 431384\n",
      "  Frame End: 432986\n"
     ]
    },
    {
     "name": "stderr",
     "output_type": "stream",
     "text": [
      "Cam: e3v831b | Trial: 255 | Frames: 736-2160: 100%|██████████| 1424/1424 [00:16<00:00, 86.12it/s]\n",
      "Cam: e3v8360 | Trial: 255 | Frames: 736-2160: 100%|██████████| 1424/1424 [00:15<00:00, 89.14it/s]\n",
      "Cam: e3v83ad | Trial: 255 | Frames: 736-2160: 100%|██████████| 1424/1424 [00:16<00:00, 86.32it/s]\n",
      "Cam: e3v83d6 | Trial: 255 | Frames: 736-2160: 100%|██████████| 1424/1424 [00:16<00:00, 88.84it/s]\n",
      "Cam: e3v831b | Trial: 256 | Frames: 2161-3968: 100%|██████████| 1807/1807 [00:20<00:00, 86.27it/s]\n",
      "Cam: e3v8360 | Trial: 256 | Frames: 2161-3968: 100%|██████████| 1807/1807 [00:20<00:00, 88.22it/s]\n",
      "Cam: e3v83ad | Trial: 256 | Frames: 2161-3968: 100%|██████████| 1807/1807 [00:20<00:00, 87.41it/s]\n",
      "Cam: e3v83d6 | Trial: 256 | Frames: 2161-3968: 100%|██████████| 1807/1807 [00:20<00:00, 88.09it/s]\n",
      "Cam: e3v831b | Trial: 257 | Frames: 3969-6029: 100%|██████████| 2060/2060 [00:23<00:00, 86.43it/s]\n",
      "Cam: e3v8360 | Trial: 257 | Frames: 3969-6029: 100%|██████████| 2060/2060 [00:23<00:00, 88.33it/s]\n",
      "Cam: e3v83ad | Trial: 257 | Frames: 3969-6029: 100%|██████████| 2060/2060 [00:23<00:00, 86.11it/s]\n",
      "Cam: e3v83d6 | Trial: 257 | Frames: 3969-6029: 100%|██████████| 2060/2060 [00:23<00:00, 86.71it/s]\n",
      "Cam: e3v831b | Trial: 258 | Frames: 6030-7741: 100%|██████████| 1711/1711 [00:19<00:00, 87.56it/s]\n",
      "Cam: e3v8360 | Trial: 258 | Frames: 6030-7741: 100%|██████████| 1711/1711 [00:19<00:00, 88.57it/s]\n",
      "Cam: e3v83ad | Trial: 258 | Frames: 6030-7741: 100%|██████████| 1711/1711 [00:19<00:00, 85.87it/s]\n",
      "Cam: e3v83d6 | Trial: 258 | Frames: 6030-7741: 100%|██████████| 1711/1711 [00:20<00:00, 85.52it/s]\n",
      "Cam: e3v831b | Trial: 259 | Frames: 7742-8964: 100%|██████████| 1222/1222 [00:13<00:00, 87.44it/s]\n",
      "Cam: e3v8360 | Trial: 259 | Frames: 7742-8964: 100%|██████████| 1222/1222 [00:14<00:00, 86.99it/s]\n",
      "Cam: e3v83ad | Trial: 259 | Frames: 7742-8964: 100%|██████████| 1222/1222 [00:14<00:00, 86.82it/s]\n",
      "Cam: e3v83d6 | Trial: 259 | Frames: 7742-8964: 100%|██████████| 1222/1222 [00:13<00:00, 89.43it/s]\n",
      "Cam: e3v831b | Trial: 260 | Frames: 8965-10511: 100%|██████████| 1546/1546 [00:17<00:00, 87.32it/s]\n",
      "Cam: e3v8360 | Trial: 260 | Frames: 8965-10511: 100%|██████████| 1546/1546 [00:17<00:00, 88.37it/s]\n",
      "Cam: e3v83ad | Trial: 260 | Frames: 8965-10511: 100%|██████████| 1546/1546 [00:17<00:00, 85.92it/s]\n",
      "Cam: e3v83d6 | Trial: 260 | Frames: 8965-10511: 100%|██████████| 1546/1546 [00:17<00:00, 89.32it/s]\n",
      "Cam: e3v831b | Trial: 261 | Frames: 10512-12373: 100%|██████████| 1861/1861 [00:21<00:00, 86.97it/s]\n",
      "Cam: e3v8360 | Trial: 261 | Frames: 10512-12373: 100%|██████████| 1861/1861 [00:20<00:00, 88.89it/s]\n",
      "Cam: e3v83ad | Trial: 261 | Frames: 10512-12373: 100%|██████████| 1861/1861 [00:21<00:00, 87.05it/s]\n",
      "Cam: e3v83d6 | Trial: 261 | Frames: 10512-12373: 100%|██████████| 1861/1861 [00:20<00:00, 88.67it/s]\n",
      "Cam: e3v831b | Trial: 262 | Frames: 12374-14390: 100%|██████████| 2016/2016 [00:22<00:00, 87.74it/s]\n",
      "Cam: e3v8360 | Trial: 262 | Frames: 12374-14390: 100%|██████████| 2016/2016 [00:22<00:00, 88.65it/s]\n",
      "Cam: e3v83ad | Trial: 262 | Frames: 12374-14390: 100%|██████████| 2016/2016 [00:23<00:00, 85.49it/s]\n",
      "Cam: e3v83d6 | Trial: 262 | Frames: 12374-14390: 100%|██████████| 2016/2016 [00:22<00:00, 88.54it/s]\n",
      "Cam: e3v831b | Trial: 263 | Frames: 14391-16091: 100%|██████████| 1700/1700 [00:19<00:00, 87.66it/s]\n",
      "Cam: e3v8360 | Trial: 263 | Frames: 14391-16091: 100%|██████████| 1700/1700 [00:19<00:00, 86.57it/s]\n",
      "Cam: e3v83ad | Trial: 263 | Frames: 14391-16091: 100%|██████████| 1700/1700 [00:19<00:00, 85.75it/s]\n",
      "Cam: e3v83d6 | Trial: 263 | Frames: 14391-16091: 100%|██████████| 1700/1700 [00:18<00:00, 89.49it/s]\n",
      "Cam: e3v831b | Trial: 264 | Frames: 16093-18223: 100%|██████████| 2130/2130 [00:24<00:00, 87.03it/s]\n",
      "Cam: e3v8360 | Trial: 264 | Frames: 16093-18223: 100%|██████████| 2130/2130 [00:24<00:00, 87.29it/s]\n",
      "Cam: e3v83ad | Trial: 264 | Frames: 16093-18223: 100%|██████████| 2130/2130 [00:25<00:00, 84.74it/s]\n",
      "Cam: e3v83d6 | Trial: 264 | Frames: 16093-18223: 100%|██████████| 2130/2130 [00:24<00:00, 86.86it/s]\n",
      "Cam: e3v831b | Trial: 265 | Frames: 18224-20093: 100%|██████████| 1869/1869 [00:21<00:00, 87.73it/s]\n",
      "Cam: e3v8360 | Trial: 265 | Frames: 18224-20093: 100%|██████████| 1869/1869 [00:21<00:00, 88.45it/s]\n",
      "Cam: e3v83ad | Trial: 265 | Frames: 18224-20093: 100%|██████████| 1869/1869 [00:21<00:00, 86.34it/s]\n",
      "Cam: e3v83d6 | Trial: 265 | Frames: 18224-20093: 100%|██████████| 1869/1869 [00:21<00:00, 87.81it/s]\n",
      "Cam: e3v831b | Trial: 266 | Frames: 20094-21912: 100%|██████████| 1818/1818 [00:21<00:00, 85.52it/s]\n",
      "Cam: e3v8360 | Trial: 266 | Frames: 20094-21912: 100%|██████████| 1818/1818 [00:20<00:00, 87.57it/s]\n",
      "Cam: e3v83ad | Trial: 266 | Frames: 20094-21912: 100%|██████████| 1818/1818 [00:20<00:00, 86.81it/s]\n",
      "Cam: e3v83d6 | Trial: 266 | Frames: 20094-21912: 100%|██████████| 1818/1818 [00:20<00:00, 89.21it/s]\n",
      "Cam: e3v831b | Trial: 267 | Frames: 21913-23940: 100%|██████████| 2027/2027 [00:23<00:00, 86.74it/s]\n",
      "Cam: e3v8360 | Trial: 267 | Frames: 21913-23940: 100%|██████████| 2027/2027 [00:25<00:00, 80.37it/s]\n",
      "Cam: e3v83ad | Trial: 267 | Frames: 21913-23940: 100%|██████████| 2027/2027 [00:24<00:00, 84.24it/s]\n",
      "Cam: e3v83d6 | Trial: 267 | Frames: 21913-23940: 100%|██████████| 2027/2027 [00:24<00:00, 82.16it/s]\n",
      "Cam: e3v831b | Trial: 268 | Frames: 23941-25521: 100%|██████████| 1580/1580 [00:18<00:00, 87.66it/s]\n",
      "Cam: e3v8360 | Trial: 268 | Frames: 23941-25521: 100%|██████████| 1580/1580 [00:17<00:00, 88.70it/s]\n",
      "Cam: e3v83ad | Trial: 268 | Frames: 23941-25521: 100%|██████████| 1580/1580 [00:18<00:00, 85.36it/s]\n",
      "Cam: e3v83d6 | Trial: 268 | Frames: 23941-25521: 100%|██████████| 1580/1580 [00:18<00:00, 86.08it/s]\n",
      "Cam: e3v831b | Trial: 269 | Frames: 25522-26990: 100%|██████████| 1468/1468 [00:17<00:00, 86.03it/s]\n",
      "Cam: e3v8360 | Trial: 269 | Frames: 25522-26990: 100%|██████████| 1468/1468 [00:17<00:00, 85.77it/s]\n",
      "Cam: e3v83ad | Trial: 269 | Frames: 25522-26990: 100%|██████████| 1468/1468 [00:17<00:00, 86.10it/s]\n",
      "Cam: e3v83d6 | Trial: 269 | Frames: 25522-26990: 100%|██████████| 1468/1468 [00:16<00:00, 88.18it/s]\n",
      "Cam: e3v831b | Trial: 270 | Frames: 26991-28838: 100%|██████████| 1847/1847 [00:21<00:00, 87.04it/s]\n",
      "Cam: e3v8360 | Trial: 270 | Frames: 26991-28838: 100%|██████████| 1847/1847 [00:21<00:00, 86.62it/s]\n",
      "Cam: e3v83ad | Trial: 270 | Frames: 26991-28838: 100%|██████████| 1847/1847 [00:21<00:00, 86.45it/s]\n",
      "Cam: e3v83d6 | Trial: 270 | Frames: 26991-28838: 100%|██████████| 1847/1847 [00:20<00:00, 88.86it/s]\n",
      "Cam: e3v831b | Trial: 271 | Frames: 28839-30411: 100%|██████████| 1572/1572 [00:17<00:00, 87.66it/s]\n",
      "Cam: e3v8360 | Trial: 271 | Frames: 28839-30411: 100%|██████████| 1572/1572 [00:17<00:00, 88.60it/s]\n",
      "Cam: e3v83ad | Trial: 271 | Frames: 28839-30411: 100%|██████████| 1572/1572 [00:18<00:00, 84.28it/s]\n",
      "Cam: e3v83d6 | Trial: 271 | Frames: 28839-30411: 100%|██████████| 1572/1572 [00:18<00:00, 87.28it/s]\n",
      "Cam: e3v831b | Trial: 272 | Frames: 30412-31909: 100%|██████████| 1497/1497 [00:17<00:00, 87.07it/s]\n",
      "Cam: e3v8360 | Trial: 272 | Frames: 30412-31909: 100%|██████████| 1497/1497 [00:16<00:00, 88.34it/s]\n",
      "Cam: e3v83ad | Trial: 272 | Frames: 30412-31909: 100%|██████████| 1497/1497 [00:17<00:00, 84.18it/s]\n",
      "Cam: e3v83d6 | Trial: 272 | Frames: 30412-31909: 100%|██████████| 1497/1497 [00:16<00:00, 89.59it/s]\n",
      "Cam: e3v831b | Trial: 273 | Frames: 31910-33574: 100%|██████████| 1664/1664 [00:19<00:00, 87.08it/s]\n",
      "Cam: e3v8360 | Trial: 273 | Frames: 31910-33574: 100%|██████████| 1664/1664 [00:19<00:00, 87.46it/s]\n",
      "Cam: e3v83ad | Trial: 273 | Frames: 31910-33574: 100%|██████████| 1664/1664 [00:19<00:00, 86.39it/s]\n",
      "Cam: e3v83d6 | Trial: 273 | Frames: 31910-33574: 100%|██████████| 1664/1664 [00:18<00:00, 88.08it/s]\n",
      "Cam: e3v831b | Trial: 274 | Frames: 33575-34765: 100%|██████████| 1190/1190 [00:13<00:00, 87.58it/s]\n",
      "Cam: e3v8360 | Trial: 274 | Frames: 33575-34765: 100%|██████████| 1190/1190 [00:13<00:00, 88.10it/s]\n",
      "Cam: e3v83ad | Trial: 274 | Frames: 33575-34765: 100%|██████████| 1190/1190 [00:13<00:00, 87.15it/s]\n",
      "Cam: e3v83d6 | Trial: 274 | Frames: 33575-34765: 100%|██████████| 1190/1190 [00:13<00:00, 89.51it/s]\n",
      "Cam: e3v831b | Trial: 275 | Frames: 34766-36666: 100%|██████████| 1900/1900 [00:22<00:00, 85.34it/s]\n",
      "Cam: e3v8360 | Trial: 275 | Frames: 34766-36666: 100%|██████████| 1900/1900 [00:22<00:00, 85.95it/s]\n",
      "Cam: e3v83ad | Trial: 275 | Frames: 34766-36666: 100%|██████████| 1900/1900 [00:21<00:00, 86.61it/s]\n",
      "Cam: e3v83d6 | Trial: 275 | Frames: 34766-36666: 100%|██████████| 1900/1900 [00:21<00:00, 88.74it/s]\n",
      "Cam: e3v831b | Trial: 276 | Frames: 36667-38456: 100%|██████████| 1789/1789 [00:21<00:00, 84.89it/s]\n",
      "Cam: e3v8360 | Trial: 276 | Frames: 36667-38456: 100%|██████████| 1789/1789 [00:20<00:00, 87.51it/s]\n",
      "Cam: e3v83ad | Trial: 276 | Frames: 36667-38456: 100%|██████████| 1789/1789 [00:20<00:00, 86.69it/s]\n",
      "Cam: e3v83d6 | Trial: 276 | Frames: 36667-38456: 100%|██████████| 1789/1789 [00:20<00:00, 87.11it/s]\n",
      "Cam: e3v831b | Trial: 277 | Frames: 38457-39781: 100%|██████████| 1324/1324 [00:15<00:00, 87.08it/s]\n",
      "Cam: e3v8360 | Trial: 277 | Frames: 38457-39781: 100%|██████████| 1324/1324 [00:14<00:00, 88.37it/s]\n",
      "Cam: e3v83ad | Trial: 277 | Frames: 38457-39781: 100%|██████████| 1324/1324 [00:15<00:00, 86.17it/s]\n",
      "Cam: e3v83d6 | Trial: 277 | Frames: 38457-39781: 100%|██████████| 1324/1324 [00:14<00:00, 88.54it/s]\n",
      "Cam: e3v831b | Trial: 278 | Frames: 39782-41318: 100%|██████████| 1536/1536 [00:17<00:00, 87.93it/s]\n",
      "Cam: e3v8360 | Trial: 278 | Frames: 39782-41318: 100%|██████████| 1536/1536 [00:17<00:00, 86.64it/s]\n",
      "Cam: e3v83ad | Trial: 278 | Frames: 39782-41318: 100%|██████████| 1536/1536 [00:17<00:00, 87.09it/s]\n",
      "Cam: e3v83d6 | Trial: 278 | Frames: 39782-41318: 100%|██████████| 1536/1536 [00:17<00:00, 88.64it/s]\n",
      "Cam: e3v831b | Trial: 279 | Frames: 41319-43326: 100%|██████████| 2007/2007 [00:23<00:00, 86.56it/s]\n",
      "Cam: e3v8360 | Trial: 279 | Frames: 41319-43326: 100%|██████████| 2007/2007 [00:22<00:00, 87.30it/s]\n",
      "Cam: e3v83ad | Trial: 279 | Frames: 41319-43326: 100%|██████████| 2007/2007 [00:23<00:00, 85.50it/s]\n",
      "Cam: e3v83d6 | Trial: 279 | Frames: 41319-43326: 100%|██████████| 2007/2007 [00:22<00:00, 88.20it/s]\n",
      "Cam: e3v831b | Trial: 280 | Frames: 43327-44541: 100%|██████████| 1214/1214 [00:14<00:00, 82.68it/s]\n",
      "Cam: e3v8360 | Trial: 280 | Frames: 43327-44541: 100%|██████████| 1214/1214 [00:14<00:00, 84.76it/s]\n",
      "Cam: e3v83ad | Trial: 280 | Frames: 43327-44541: 100%|██████████| 1214/1214 [00:13<00:00, 86.77it/s]\n",
      "Cam: e3v83d6 | Trial: 280 | Frames: 43327-44541: 100%|██████████| 1214/1214 [00:13<00:00, 88.81it/s]\n",
      "Cam: e3v831b | Trial: 281 | Frames: 44542-45848: 100%|██████████| 1306/1306 [00:14<00:00, 87.08it/s]\n",
      "Cam: e3v8360 | Trial: 281 | Frames: 44542-45848: 100%|██████████| 1306/1306 [00:14<00:00, 88.73it/s]\n",
      "Cam: e3v83ad | Trial: 281 | Frames: 44542-45848: 100%|██████████| 1306/1306 [00:15<00:00, 84.48it/s]\n",
      "Cam: e3v83d6 | Trial: 281 | Frames: 44542-45848: 100%|██████████| 1306/1306 [00:15<00:00, 86.02it/s]\n",
      "Cam: e3v831b | Trial: 282 | Frames: 45849-47368: 100%|██████████| 1519/1519 [00:17<00:00, 86.79it/s]\n",
      "Cam: e3v8360 | Trial: 282 | Frames: 45849-47368: 100%|██████████| 1519/1519 [00:17<00:00, 85.40it/s]\n",
      "Cam: e3v83ad | Trial: 282 | Frames: 45849-47368: 100%|██████████| 1519/1519 [00:17<00:00, 85.22it/s]\n",
      "Cam: e3v83d6 | Trial: 282 | Frames: 45849-47368: 100%|██████████| 1519/1519 [00:17<00:00, 89.31it/s]\n",
      "Cam: e3v831b | Trial: 283 | Frames: 47368-49433: 100%|██████████| 2065/2065 [00:24<00:00, 84.73it/s]\n",
      "Cam: e3v8360 | Trial: 283 | Frames: 47368-49433: 100%|██████████| 2065/2065 [00:24<00:00, 85.15it/s]\n",
      "Cam: e3v83ad | Trial: 283 | Frames: 47368-49433: 100%|██████████| 2065/2065 [00:23<00:00, 86.95it/s]\n",
      "Cam: e3v83d6 | Trial: 283 | Frames: 47368-49433: 100%|██████████| 2065/2065 [00:24<00:00, 85.17it/s]\n",
      "Cam: e3v831b | Trial: 284 | Frames: 49434-51332: 100%|██████████| 1898/1898 [00:22<00:00, 85.82it/s]\n",
      "Cam: e3v8360 | Trial: 284 | Frames: 49434-51332: 100%|██████████| 1898/1898 [00:21<00:00, 86.65it/s]\n",
      "Cam: e3v83ad | Trial: 284 | Frames: 49434-51332: 100%|██████████| 1898/1898 [00:22<00:00, 86.24it/s]\n",
      "Cam: e3v83d6 | Trial: 284 | Frames: 49434-51332: 100%|██████████| 1898/1898 [00:21<00:00, 88.30it/s]\n",
      "Cam: e3v831b | Trial: 285 | Frames: 51333-52980: 100%|██████████| 1647/1647 [00:18<00:00, 86.97it/s]\n",
      "Cam: e3v8360 | Trial: 285 | Frames: 51333-52980: 100%|██████████| 1647/1647 [00:18<00:00, 87.97it/s]\n",
      "Cam: e3v83ad | Trial: 285 | Frames: 51333-52980: 100%|██████████| 1647/1647 [00:19<00:00, 86.64it/s]\n",
      "Cam: e3v83d6 | Trial: 285 | Frames: 51333-52980: 100%|██████████| 1647/1647 [00:19<00:00, 85.40it/s]\n",
      "Cam: e3v831b | Trial: 286 | Frames: 52981-54917: 100%|██████████| 1936/1936 [00:22<00:00, 86.68it/s]\n",
      "Cam: e3v8360 | Trial: 286 | Frames: 52981-54917: 100%|██████████| 1936/1936 [00:22<00:00, 86.17it/s]\n",
      "Cam: e3v83ad | Trial: 286 | Frames: 52981-54917: 100%|██████████| 1936/1936 [00:22<00:00, 86.75it/s]\n",
      "Cam: e3v83d6 | Trial: 286 | Frames: 52981-54917: 100%|██████████| 1936/1936 [00:21<00:00, 88.13it/s]\n",
      "Cam: e3v831b | Trial: 287 | Frames: 54918-56747: 100%|██████████| 1829/1829 [00:21<00:00, 84.42it/s]\n",
      "Cam: e3v8360 | Trial: 287 | Frames: 54918-56747: 100%|██████████| 1829/1829 [00:20<00:00, 87.72it/s]\n",
      "Cam: e3v83ad | Trial: 287 | Frames: 54918-56747: 100%|██████████| 1829/1829 [00:20<00:00, 87.25it/s]\n",
      "Cam: e3v83d6 | Trial: 287 | Frames: 54918-56747: 100%|██████████| 1829/1829 [00:20<00:00, 88.37it/s]\n",
      "Cam: e3v831b | Trial: 288 | Frames: 56748-58764: 100%|██████████| 2016/2016 [00:23<00:00, 87.13it/s]\n",
      "Cam: e3v8360 | Trial: 288 | Frames: 56748-58764: 100%|██████████| 2016/2016 [00:28<00:00, 70.77it/s]\n",
      "Cam: e3v83ad | Trial: 288 | Frames: 56748-58764: 100%|██████████| 2016/2016 [00:23<00:00, 86.32it/s]\n",
      "Cam: e3v83d6 | Trial: 288 | Frames: 56748-58764: 100%|██████████| 2016/2016 [00:23<00:00, 86.52it/s]\n",
      "Cam: e3v831b | Trial: 289 | Frames: 58765-60256: 100%|██████████| 1491/1491 [00:17<00:00, 87.04it/s]\n",
      "Cam: e3v8360 | Trial: 289 | Frames: 58765-60256: 100%|██████████| 1491/1491 [00:16<00:00, 88.35it/s]\n",
      "Cam: e3v83ad | Trial: 289 | Frames: 58765-60256: 100%|██████████| 1491/1491 [00:17<00:00, 86.60it/s]\n",
      "Cam: e3v83d6 | Trial: 289 | Frames: 58765-60256: 100%|██████████| 1491/1491 [00:16<00:00, 88.42it/s]\n",
      "Cam: e3v831b | Trial: 290 | Frames: 60257-61957: 100%|██████████| 1700/1700 [00:19<00:00, 86.66it/s]\n",
      "Cam: e3v8360 | Trial: 290 | Frames: 60257-61957: 100%|██████████| 1700/1700 [00:19<00:00, 88.03it/s]\n",
      "Cam: e3v83ad | Trial: 290 | Frames: 60257-61957: 100%|██████████| 1700/1700 [00:19<00:00, 86.69it/s]\n",
      "Cam: e3v83d6 | Trial: 290 | Frames: 60257-61957: 100%|██████████| 1700/1700 [00:19<00:00, 85.77it/s]\n",
      "Cam: e3v831b | Trial: 291 | Frames: 61958-63460: 100%|██████████| 1502/1502 [00:17<00:00, 86.79it/s]\n",
      "Cam: e3v8360 | Trial: 291 | Frames: 61958-63460: 100%|██████████| 1502/1502 [00:16<00:00, 88.45it/s]\n",
      "Cam: e3v83ad | Trial: 291 | Frames: 61958-63460: 100%|██████████| 1502/1502 [00:17<00:00, 86.05it/s]\n",
      "Cam: e3v83d6 | Trial: 291 | Frames: 61958-63460: 100%|██████████| 1502/1502 [00:17<00:00, 88.14it/s]\n",
      "Cam: e3v831b | Trial: 292 | Frames: 63461-66375: 100%|██████████| 2914/2914 [00:33<00:00, 86.44it/s]\n",
      "Cam: e3v8360 | Trial: 292 | Frames: 63461-66375: 100%|██████████| 2914/2914 [00:34<00:00, 84.20it/s]\n",
      "Cam: e3v83ad | Trial: 292 | Frames: 63461-66375: 100%|██████████| 2914/2914 [00:34<00:00, 85.42it/s]\n",
      "Cam: e3v83d6 | Trial: 292 | Frames: 63461-66375: 100%|██████████| 2914/2914 [00:32<00:00, 88.31it/s]\n",
      "Cam: e3v831b | Trial: 293 | Frames: 66376-67778: 100%|██████████| 1402/1402 [00:16<00:00, 82.57it/s]\n",
      "Cam: e3v8360 | Trial: 293 | Frames: 66376-67778: 100%|██████████| 1402/1402 [00:16<00:00, 85.99it/s]\n",
      "Cam: e3v83ad | Trial: 293 | Frames: 66376-67778: 100%|██████████| 1402/1402 [00:16<00:00, 86.38it/s]\n",
      "Cam: e3v83d6 | Trial: 293 | Frames: 66376-67778: 100%|██████████| 1402/1402 [00:15<00:00, 87.94it/s]\n",
      "Cam: e3v831b | Trial: 294 | Frames: 67779-69297: 100%|██████████| 1518/1518 [00:17<00:00, 85.21it/s]\n",
      "Cam: e3v8360 | Trial: 294 | Frames: 67779-69297: 100%|██████████| 1518/1518 [00:17<00:00, 87.96it/s]\n",
      "Cam: e3v83ad | Trial: 294 | Frames: 67779-69297: 100%|██████████| 1518/1518 [00:17<00:00, 86.17it/s]\n",
      "Cam: e3v83d6 | Trial: 294 | Frames: 67779-69297: 100%|██████████| 1518/1518 [00:16<00:00, 89.94it/s]\n",
      "Cam: e3v831b | Trial: 295 | Frames: 69298-71465: 100%|██████████| 2167/2167 [00:24<00:00, 86.86it/s]\n",
      "Cam: e3v8360 | Trial: 295 | Frames: 69298-71465: 100%|██████████| 2167/2167 [00:25<00:00, 85.83it/s]\n",
      "Cam: e3v83ad | Trial: 295 | Frames: 69298-71465: 100%|██████████| 2167/2167 [00:25<00:00, 86.32it/s]\n",
      "Cam: e3v83d6 | Trial: 295 | Frames: 69298-71465: 100%|██████████| 2167/2167 [00:24<00:00, 88.35it/s]\n",
      "Cam: e3v831b | Trial: 296 | Frames: 71466-73209: 100%|██████████| 1743/1743 [00:20<00:00, 85.72it/s]\n",
      "Cam: e3v8360 | Trial: 296 | Frames: 71466-73209: 100%|██████████| 1743/1743 [00:20<00:00, 86.99it/s]\n",
      "Cam: e3v83ad | Trial: 296 | Frames: 71466-73209: 100%|██████████| 1743/1743 [00:20<00:00, 86.24it/s]\n",
      "Cam: e3v83d6 | Trial: 296 | Frames: 71466-73209: 100%|██████████| 1743/1743 [00:19<00:00, 89.46it/s]\n",
      "Cam: e3v831b | Trial: 297 | Frames: 73210-79360: 100%|██████████| 6150/6150 [01:12<00:00, 85.32it/s]\n",
      "Cam: e3v8360 | Trial: 297 | Frames: 73210-79360: 100%|██████████| 6150/6150 [01:10<00:00, 87.83it/s]\n",
      "Cam: e3v83ad | Trial: 297 | Frames: 73210-79360: 100%|██████████| 6150/6150 [01:11<00:00, 85.60it/s]\n",
      "Cam: e3v83d6 | Trial: 297 | Frames: 73210-79360: 100%|██████████| 6150/6150 [01:11<00:00, 85.47it/s]\n",
      "Cam: e3v831b | Trial: 298 | Frames: 79360-86035: 100%|██████████| 6675/6675 [01:18<00:00, 85.01it/s]\n",
      "Cam: e3v8360 | Trial: 298 | Frames: 79360-86035: 100%|██████████| 6675/6675 [01:15<00:00, 87.92it/s]\n",
      "Cam: e3v83ad | Trial: 298 | Frames: 79360-86035: 100%|██████████| 6675/6675 [01:17<00:00, 86.65it/s]\n",
      "Cam: e3v83d6 | Trial: 298 | Frames: 79360-86035: 100%|██████████| 6675/6675 [01:18<00:00, 84.61it/s]\n",
      "Cam: e3v831b | Trial: 299 | Frames: 86036-92715: 100%|██████████| 6679/6679 [01:17<00:00, 85.95it/s]\n",
      "Cam: e3v8360 | Trial: 299 | Frames: 86036-92715: 100%|██████████| 6679/6679 [01:15<00:00, 87.96it/s]\n",
      "Cam: e3v83ad | Trial: 299 | Frames: 86036-92715: 100%|██████████| 6679/6679 [01:17<00:00, 85.70it/s]\n",
      "Cam: e3v83d6 | Trial: 299 | Frames: 86036-92715: 100%|██████████| 6679/6679 [01:18<00:00, 84.74it/s]\n",
      "Cam: e3v831b | Trial: 300 | Frames: 92716-94672: 100%|██████████| 1956/1956 [00:22<00:00, 86.45it/s]\n",
      "Cam: e3v8360 | Trial: 300 | Frames: 92716-94672: 100%|██████████| 1956/1956 [00:22<00:00, 88.58it/s]\n",
      "Cam: e3v83ad | Trial: 300 | Frames: 92716-94672: 100%|██████████| 1956/1956 [00:22<00:00, 88.69it/s]\n",
      "Cam: e3v83d6 | Trial: 300 | Frames: 92716-94672: 100%|██████████| 1956/1956 [00:22<00:00, 85.62it/s]\n",
      "Cam: e3v831b | Trial: 301 | Frames: 94673-96201: 100%|██████████| 1528/1528 [00:18<00:00, 84.87it/s]\n",
      "Cam: e3v8360 | Trial: 301 | Frames: 94673-96201: 100%|██████████| 1528/1528 [00:17<00:00, 88.49it/s]\n",
      "Cam: e3v83ad | Trial: 301 | Frames: 94673-96201: 100%|██████████| 1528/1528 [00:16<00:00, 91.45it/s]\n",
      "Cam: e3v83d6 | Trial: 301 | Frames: 94673-96201: 100%|██████████| 1528/1528 [00:17<00:00, 89.08it/s]\n",
      "Cam: e3v831b | Trial: 302 | Frames: 96203-97795: 100%|██████████| 1592/1592 [00:18<00:00, 87.30it/s]\n",
      "Cam: e3v8360 | Trial: 302 | Frames: 96203-97795: 100%|██████████| 1592/1592 [00:18<00:00, 85.51it/s]\n",
      "Cam: e3v83ad | Trial: 302 | Frames: 96203-97795: 100%|██████████| 1592/1592 [00:17<00:00, 92.50it/s]\n",
      "Cam: e3v83d6 | Trial: 302 | Frames: 96203-97795: 100%|██████████| 1592/1592 [00:18<00:00, 87.57it/s]\n",
      "Cam: e3v831b | Trial: 303 | Frames: 97796-99768: 100%|██████████| 1972/1972 [00:24<00:00, 79.96it/s]\n",
      "Cam: e3v8360 | Trial: 303 | Frames: 97796-99768: 100%|██████████| 1972/1972 [00:22<00:00, 88.41it/s]\n",
      "Cam: e3v83ad | Trial: 303 | Frames: 97796-99768: 100%|██████████| 1972/1972 [00:21<00:00, 90.35it/s]\n",
      "Cam: e3v83d6 | Trial: 303 | Frames: 97796-99768: 100%|██████████| 1972/1972 [00:22<00:00, 89.25it/s]\n",
      "Cam: e3v831b | Trial: 304 | Frames: 99769-105797: 100%|██████████| 6028/6028 [01:10<00:00, 85.42it/s]\n",
      "Cam: e3v8360 | Trial: 304 | Frames: 99769-105797: 100%|██████████| 6028/6028 [01:08<00:00, 87.74it/s]\n",
      "Cam: e3v83ad | Trial: 304 | Frames: 99769-105797: 100%|██████████| 6028/6028 [01:11<00:00, 84.88it/s]\n",
      "Cam: e3v83d6 | Trial: 304 | Frames: 99769-105797: 100%|██████████| 6028/6028 [01:09<00:00, 87.25it/s]\n",
      "Cam: e3v831b | Trial: 305 | Frames: 105799-112465: 100%|██████████| 6666/6666 [01:21<00:00, 82.24it/s]\n",
      "Cam: e3v8360 | Trial: 305 | Frames: 105799-112465: 100%|██████████| 6666/6666 [01:16<00:00, 87.43it/s]\n",
      "Cam: e3v83ad | Trial: 305 | Frames: 105799-112465: 100%|██████████| 6666/6666 [01:17<00:00, 86.56it/s]\n",
      "Cam: e3v83d6 | Trial: 305 | Frames: 105799-112465: 100%|██████████| 6666/6666 [01:16<00:00, 87.12it/s]\n",
      "Cam: e3v831b | Trial: 306 | Frames: 112466-114595: 100%|██████████| 2129/2129 [00:24<00:00, 85.19it/s]\n",
      "Cam: e3v8360 | Trial: 306 | Frames: 112466-114595: 100%|██████████| 2129/2129 [00:24<00:00, 88.60it/s]\n",
      "Cam: e3v83ad | Trial: 306 | Frames: 112466-114595: 100%|██████████| 2129/2129 [00:23<00:00, 89.85it/s]\n",
      "Cam: e3v83d6 | Trial: 306 | Frames: 112466-114595: 100%|██████████| 2129/2129 [00:24<00:00, 88.41it/s]\n",
      "Cam: e3v831b | Trial: 307 | Frames: 114595-115833: 100%|██████████| 1238/1238 [00:14<00:00, 86.43it/s]\n",
      "Cam: e3v8360 | Trial: 307 | Frames: 114595-115833: 100%|██████████| 1238/1238 [00:14<00:00, 87.66it/s]\n",
      "Cam: e3v83ad | Trial: 307 | Frames: 114595-115833: 100%|██████████| 1238/1238 [00:13<00:00, 88.57it/s]\n",
      "Cam: e3v83d6 | Trial: 307 | Frames: 114595-115833: 100%|██████████| 1238/1238 [00:14<00:00, 86.97it/s]\n",
      "Cam: e3v831b | Trial: 308 | Frames: 115834-117633: 100%|██████████| 1799/1799 [00:20<00:00, 86.73it/s]\n",
      "Cam: e3v8360 | Trial: 308 | Frames: 115834-117633: 100%|██████████| 1799/1799 [00:21<00:00, 85.48it/s]\n",
      "Cam: e3v83ad | Trial: 308 | Frames: 115834-117633: 100%|██████████| 1799/1799 [00:20<00:00, 89.26it/s]\n",
      "Cam: e3v83d6 | Trial: 308 | Frames: 115834-117633: 100%|██████████| 1799/1799 [00:20<00:00, 88.65it/s]\n",
      "Cam: e3v831b | Trial: 309 | Frames: 117634-118918: 100%|██████████| 1284/1284 [00:15<00:00, 81.47it/s]\n",
      "Cam: e3v8360 | Trial: 309 | Frames: 117634-118918: 100%|██████████| 1284/1284 [00:15<00:00, 84.09it/s]\n",
      "Cam: e3v83ad | Trial: 309 | Frames: 117634-118918: 100%|██████████| 1284/1284 [00:14<00:00, 88.07it/s]\n",
      "Cam: e3v83d6 | Trial: 309 | Frames: 117634-118918: 100%|██████████| 1284/1284 [00:15<00:00, 85.21it/s]\n",
      "Cam: e3v831b | Trial: 310 | Frames: 118919-125053: 100%|██████████| 6134/6134 [01:14<00:00, 82.26it/s]\n",
      "Cam: e3v8360 | Trial: 310 | Frames: 118919-125053: 100%|██████████| 6134/6134 [01:09<00:00, 88.05it/s]\n",
      "Cam: e3v83ad | Trial: 310 | Frames: 118919-125053: 100%|██████████| 6134/6134 [01:12<00:00, 85.00it/s]\n",
      "Cam: e3v83d6 | Trial: 310 | Frames: 118919-125053: 100%|██████████| 6134/6134 [01:14<00:00, 82.03it/s]\n",
      "Cam: e3v831b | Trial: 311 | Frames: 125054-132950: 100%|██████████| 7896/7896 [01:34<00:00, 83.34it/s]\n",
      "Cam: e3v8360 | Trial: 311 | Frames: 125054-132950: 100%|██████████| 7896/7896 [01:29<00:00, 87.78it/s]\n",
      "Cam: e3v83ad | Trial: 311 | Frames: 125054-132950: 100%|██████████| 7896/7896 [01:39<00:00, 79.52it/s]\n",
      "Cam: e3v83d6 | Trial: 311 | Frames: 125054-132950: 100%|██████████| 7896/7896 [01:30<00:00, 87.40it/s]\n",
      "Cam: e3v831b | Trial: 312 | Frames: 132951-134905: 100%|██████████| 1954/1954 [00:24<00:00, 81.22it/s]\n",
      "Cam: e3v8360 | Trial: 312 | Frames: 132951-134905: 100%|██████████| 1954/1954 [00:24<00:00, 79.26it/s]\n",
      "Cam: e3v83ad | Trial: 312 | Frames: 132951-134905: 100%|██████████| 1954/1954 [00:23<00:00, 82.64it/s]\n",
      "Cam: e3v83d6 | Trial: 312 | Frames: 132951-134905: 100%|██████████| 1954/1954 [00:24<00:00, 80.31it/s]\n",
      "Cam: e3v831b | Trial: 313 | Frames: 134906-140924: 100%|██████████| 6018/6018 [01:14<00:00, 81.11it/s]\n",
      "Cam: e3v8360 | Trial: 313 | Frames: 134906-140924: 100%|██████████| 6018/6018 [01:08<00:00, 87.42it/s]\n",
      "Cam: e3v83ad | Trial: 313 | Frames: 134906-140924: 100%|██████████| 6018/6018 [01:08<00:00, 87.24it/s]\n",
      "Cam: e3v83d6 | Trial: 313 | Frames: 134906-140924: 100%|██████████| 6018/6018 [01:08<00:00, 87.73it/s]\n"
     ]
    },
    {
     "name": "stdout",
     "output_type": "stream",
     "text": [
      "Video not found for trial 314 although frame epochs found\n",
      "  Cam: e3v831b\n",
      "  Frame Start: 573176\n",
      "  Frame End: 583103\n",
      "Video not found for trial 314 although frame epochs found\n",
      "  Cam: e3v8360\n",
      "  Frame Start: 573176\n",
      "  Frame End: 583103\n",
      "Video not found for trial 314 although frame epochs found\n",
      "  Cam: e3v83ad\n",
      "  Frame Start: 573176\n",
      "  Frame End: 583103\n",
      "Video not found for trial 314 although frame epochs found\n",
      "  Cam: e3v83d6\n",
      "  Frame Start: 573176\n",
      "  Frame End: 583103\n"
     ]
    },
    {
     "name": "stderr",
     "output_type": "stream",
     "text": [
      "Cam: e3v831b | Trial: 315 | Frames: 6850-13532: 100%|██████████| 6682/6682 [01:18<00:00, 85.65it/s]\n",
      "Cam: e3v8360 | Trial: 315 | Frames: 6850-13532: 100%|██████████| 6682/6682 [01:16<00:00, 86.88it/s]\n",
      "Cam: e3v83ad | Trial: 315 | Frames: 6850-13532: 100%|██████████| 6682/6682 [01:13<00:00, 90.59it/s]\n",
      "Cam: e3v83d6 | Trial: 315 | Frames: 6850-13532: 100%|██████████| 6682/6682 [01:15<00:00, 88.53it/s]\n",
      "Cam: e3v831b | Trial: 316 | Frames: 13533-21438: 100%|██████████| 7905/7905 [01:31<00:00, 86.73it/s]\n",
      "Cam: e3v8360 | Trial: 316 | Frames: 13533-21438: 100%|██████████| 7905/7905 [01:29<00:00, 88.44it/s]\n",
      "Cam: e3v83ad | Trial: 316 | Frames: 13533-21438: 100%|██████████| 7905/7905 [01:27<00:00, 89.91it/s]\n",
      "Cam: e3v83d6 | Trial: 316 | Frames: 13533-21438: 100%|██████████| 7905/7905 [01:29<00:00, 88.37it/s]\n",
      "Cam: e3v831b | Trial: 317 | Frames: 21439-31813: 100%|██████████| 10374/10374 [01:59<00:00, 86.78it/s]\n",
      "Cam: e3v8360 | Trial: 317 | Frames: 21439-31813: 100%|██████████| 10374/10374 [01:58<00:00, 87.67it/s]\n",
      "Cam: e3v83ad | Trial: 317 | Frames: 21439-31813: 100%|██████████| 10374/10374 [01:57<00:00, 88.51it/s]\n",
      "Cam: e3v83d6 | Trial: 317 | Frames: 21439-31813: 100%|██████████| 10374/10374 [01:57<00:00, 88.05it/s]\n",
      "Cam: e3v831b | Trial: 318 | Frames: 31814-43698: 100%|██████████| 11884/11884 [02:17<00:00, 86.66it/s]\n",
      "Cam: e3v8360 | Trial: 318 | Frames: 31814-43698: 100%|██████████| 11884/11884 [02:14<00:00, 88.60it/s]\n",
      "Cam: e3v83ad | Trial: 318 | Frames: 31814-43698: 100%|██████████| 11884/11884 [02:22<00:00, 83.36it/s]\n",
      "Cam: e3v83d6 | Trial: 318 | Frames: 31814-43698: 100%|██████████| 11884/11884 [02:14<00:00, 88.65it/s]\n",
      "Cam: e3v831b | Trial: 319 | Frames: 43699-50996: 100%|██████████| 7297/7297 [01:24<00:00, 86.30it/s]\n",
      "Cam: e3v8360 | Trial: 319 | Frames: 43699-50996: 100%|██████████| 7297/7297 [01:23<00:00, 87.65it/s]\n",
      "Cam: e3v83ad | Trial: 319 | Frames: 43699-50996: 100%|██████████| 7297/7297 [01:22<00:00, 88.84it/s]\n",
      "Cam: e3v83d6 | Trial: 319 | Frames: 43699-50996: 100%|██████████| 7297/7297 [01:27<00:00, 83.81it/s]\n",
      "Cam: e3v831b | Trial: 320 | Frames: 50998-57686: 100%|██████████| 6688/6688 [01:17<00:00, 86.13it/s]\n",
      "Cam: e3v8360 | Trial: 320 | Frames: 50998-57686: 100%|██████████| 6688/6688 [01:15<00:00, 88.10it/s]\n",
      "Cam: e3v83ad | Trial: 320 | Frames: 50998-57686: 100%|██████████| 6688/6688 [01:15<00:00, 88.77it/s]\n",
      "Cam: e3v83d6 | Trial: 320 | Frames: 50998-57686: 100%|██████████| 6688/6688 [01:17<00:00, 86.82it/s]\n",
      "Cam: e3v831b | Trial: 321 | Frames: 57687-64371: 100%|██████████| 6684/6684 [01:19<00:00, 84.43it/s]\n",
      "Cam: e3v8360 | Trial: 321 | Frames: 57687-64371: 100%|██████████| 6684/6684 [01:16<00:00, 87.36it/s]\n",
      "Cam: e3v83ad | Trial: 321 | Frames: 57687-64371: 100%|██████████| 6684/6684 [01:15<00:00, 88.15it/s]\n",
      "Cam: e3v83d6 | Trial: 321 | Frames: 57687-64371: 100%|██████████| 6684/6684 [01:16<00:00, 87.57it/s]\n",
      "Cam: e3v831b | Trial: 322 | Frames: 64373-71035: 100%|██████████| 6662/6662 [01:20<00:00, 82.47it/s]\n",
      "Cam: e3v8360 | Trial: 322 | Frames: 64373-71035: 100%|██████████| 6662/6662 [01:17<00:00, 85.90it/s]\n",
      "Cam: e3v83ad | Trial: 322 | Frames: 64373-71035: 100%|██████████| 6662/6662 [01:13<00:00, 90.39it/s]\n",
      "Cam: e3v83d6 | Trial: 322 | Frames: 64373-71035: 100%|██████████| 6662/6662 [01:14<00:00, 88.90it/s]\n",
      "Cam: e3v831b | Trial: 323 | Frames: 71036-77698: 100%|██████████| 6662/6662 [01:16<00:00, 86.75it/s]\n",
      "Cam: e3v8360 | Trial: 323 | Frames: 71036-77698: 100%|██████████| 6662/6662 [01:20<00:00, 82.99it/s]\n",
      "Cam: e3v83ad | Trial: 323 | Frames: 71036-77698: 100%|██████████| 6662/6662 [01:13<00:00, 90.47it/s]\n",
      "Cam: e3v83d6 | Trial: 323 | Frames: 71036-77698: 100%|██████████| 6662/6662 [01:14<00:00, 88.86it/s]\n",
      "Cam: e3v831b | Trial: 324 | Frames: 77699-84374: 100%|██████████| 6675/6675 [01:21<00:00, 82.39it/s]\n",
      "Cam: e3v8360 | Trial: 324 | Frames: 77699-84374: 100%|██████████| 6675/6675 [01:14<00:00, 89.91it/s]\n",
      "Cam: e3v83ad | Trial: 324 | Frames: 77699-84374: 100%|██████████| 6675/6675 [01:19<00:00, 84.09it/s]\n",
      "Cam: e3v83d6 | Trial: 324 | Frames: 77699-84374: 100%|██████████| 6675/6675 [01:27<00:00, 76.67it/s]\n",
      "Cam: e3v831b | Trial: 325 | Frames: 84375-91069: 100%|██████████| 6694/6694 [01:23<00:00, 79.96it/s]\n",
      "Cam: e3v8360 | Trial: 325 | Frames: 84375-91069: 100%|██████████| 6694/6694 [01:19<00:00, 83.95it/s]\n",
      "Cam: e3v83ad | Trial: 325 | Frames: 84375-91069: 100%|██████████| 6694/6694 [01:19<00:00, 83.76it/s]\n",
      "Cam: e3v83d6 | Trial: 325 | Frames: 84375-91069: 100%|██████████| 6694/6694 [01:21<00:00, 82.19it/s]\n",
      "Cam: e3v831b | Trial: 326 | Frames: 91070-97753: 100%|██████████| 6683/6683 [01:20<00:00, 83.09it/s]\n",
      "Cam: e3v8360 | Trial: 326 | Frames: 91070-97753: 100%|██████████| 6683/6683 [01:19<00:00, 83.60it/s]\n",
      "Cam: e3v83ad | Trial: 326 | Frames: 91070-97753: 100%|██████████| 6683/6683 [01:24<00:00, 78.75it/s]\n",
      "Cam: e3v83d6 | Trial: 326 | Frames: 91070-97753: 100%|██████████| 6683/6683 [01:16<00:00, 87.68it/s]\n",
      "Cam: e3v831b | Trial: 327 | Frames: 97754-104422: 100%|██████████| 6668/6668 [01:18<00:00, 84.60it/s]\n",
      "Cam: e3v8360 | Trial: 327 | Frames: 97754-104422: 100%|██████████| 6668/6668 [01:21<00:00, 81.48it/s]\n",
      "Cam: e3v83ad | Trial: 327 | Frames: 97754-104422: 100%|██████████| 6668/6668 [01:15<00:00, 87.82it/s]\n",
      "Cam: e3v83d6 | Trial: 327 | Frames: 97754-104422: 100%|██████████| 6668/6668 [01:15<00:00, 88.37it/s]\n",
      "Cam: e3v831b | Trial: 328 | Frames: 104424-109437: 100%|██████████| 5013/5013 [01:06<00:00, 74.94it/s]\n",
      "Cam: e3v8360 | Trial: 328 | Frames: 104424-109437: 100%|██████████| 5013/5013 [01:06<00:00, 75.74it/s]\n",
      "Cam: e3v83ad | Trial: 328 | Frames: 104424-109437: 100%|██████████| 5013/5013 [01:08<00:00, 73.45it/s]\n",
      "Cam: e3v83d6 | Trial: 328 | Frames: 104424-109437: 100%|██████████| 5013/5013 [01:02<00:00, 80.78it/s]\n"
     ]
    },
    {
     "name": "stdout",
     "output_type": "stream",
     "text": [
      "Video Parsing Complete.\n",
      "  Missing Videos: defaultdict(<class 'list'>, {'e3v831b': [82, 167, 254, 314], 'e3v8360': [82, 167, 254, 314], 'e3v83ad': [82, 167, 254, 314], 'e3v83d6': [82, 167, 254, 314]})\n"
     ]
    }
   ],
   "source": [
    "from video.wm_videos import parse_wm_videos\n",
    "\n",
    "if session_obj.monkey == 'gandalf':\n",
    "  epoch_start = 'start'\n",
    "  epoch_end = 'end'\n",
    "else:\n",
    "  epoch_start = 'Trace Start'\n",
    "  epoch_end = 'Outcome Start'\n",
    "\n",
    "kwargs = {'spikeglx_obj': spikeglx_obj,       # 'spikeglx_obj': spikeglx_obj\n",
    "          'session_obj': session_obj,         # 'session_obj': session_obj\n",
    "          'trial_start': 0,                   # 'trial_start': 0 \n",
    "          'trial_end': len(session_obj.df),   # 'trial_end': len(session_obj.df)\n",
    "          'epoch_start': epoch_start,         # 'epoch_start': 'start'\n",
    "          'epoch_end': epoch_end,             # 'epoch_end': 'end'   \n",
    "          'thread_flag': False}               # 'thread_flag': False\n",
    "\n",
    "parse_wm_videos(**kwargs)"
   ]
  },
  {
   "cell_type": "markdown",
   "metadata": {},
   "source": [
    "***\n",
    "## Generate MonkeyLogic Behavior Trial Videos"
   ]
  },
  {
   "cell_type": "code",
   "execution_count": 56,
   "metadata": {},
   "outputs": [
    {
     "name": "stdout",
     "output_type": "stream",
     "text": [
      "Generating video for trial 1\n",
      "Generating frames for trial 1 from 0 to 12264\n"
     ]
    },
    {
     "data": {
      "application/vnd.jupyter.widget-view+json": {
       "model_id": "b197b46cdc284a5487713d2099d547a6",
       "version_major": 2,
       "version_minor": 0
      },
      "text/plain": [
       "Trial 1 frame:   0%|          | 0/12264 [00:00<?, ?it/s]"
      ]
     },
     "metadata": {},
     "output_type": "display_data"
    },
    {
     "name": "stdout",
     "output_type": "stream",
     "text": [
      "Deleting existing video: /Users/rahimhashim/Desktop/Monkey-Emotions/video/gandalf_231004/eye_0000.mp4\n",
      "Saving video to: /Users/rahimhashim/Desktop/Monkey-Emotions/video/gandalf_231004/eye_0000.mp4\n"
     ]
    },
    {
     "data": {
      "application/vnd.jupyter.widget-view+json": {
       "model_id": "1026cac629bf47bdbf18a4aa63052e8c",
       "version_major": 2,
       "version_minor": 0
      },
      "text/plain": [
       "Trial 0 eye:   0%|          | 0/12264 [00:00<?, ?it/s]"
      ]
     },
     "metadata": {},
     "output_type": "display_data"
    },
    {
     "name": "stdout",
     "output_type": "stream",
     "text": [
      "Deleting existing video: /Users/rahimhashim/Desktop/Monkey-Emotions/video/gandalf_231004/lick_0000.mp4\n",
      "Saving video to: /Users/rahimhashim/Desktop/Monkey-Emotions/video/gandalf_231004/lick_0000.mp4\n"
     ]
    },
    {
     "data": {
      "application/vnd.jupyter.widget-view+json": {
       "model_id": "f172ec46909c42e9af08331e42876687",
       "version_major": 2,
       "version_minor": 0
      },
      "text/plain": [
       "Trial 0 lick:   0%|          | 0/12264 [00:00<?, ?it/s]"
      ]
     },
     "metadata": {},
     "output_type": "display_data"
    },
    {
     "name": "stdout",
     "output_type": "stream",
     "text": [
      "Deleting image folder: /Users/rahimhashim/Desktop/Monkey-Emotions/video/gandalf_231004/trial_0\n"
     ]
    },
    {
     "ename": "TypeError",
     "evalue": "'recursive' is an invalid keyword argument for rmdir()",
     "output_type": "error",
     "traceback": [
      "\u001b[0;31m---------------------------------------------------------------------------\u001b[0m",
      "\u001b[0;31mTypeError\u001b[0m                                 Traceback (most recent call last)",
      "\u001b[1;32m/Users/rahimhashim/Desktop/Monkey-Emotions/data_preprocessing.ipynb Cell 21\u001b[0m line \u001b[0;36m3\n\u001b[1;32m      <a href='vscode-notebook-cell:/Users/rahimhashim/Desktop/Monkey-Emotions/data_preprocessing.ipynb#X25sZmlsZQ%3D%3D?line=0'>1</a>\u001b[0m \u001b[39mfrom\u001b[39;00m \u001b[39mvideo\u001b[39;00m\u001b[39m.\u001b[39;00m\u001b[39mml_videos\u001b[39;00m \u001b[39mimport\u001b[39;00m generate_ml_behavior_videos\n\u001b[1;32m      <a href='vscode-notebook-cell:/Users/rahimhashim/Desktop/Monkey-Emotions/data_preprocessing.ipynb#X25sZmlsZQ%3D%3D?line=1'>2</a>\u001b[0m trial_num_selected \u001b[39m=\u001b[39m \u001b[39m1\u001b[39m\n\u001b[0;32m----> <a href='vscode-notebook-cell:/Users/rahimhashim/Desktop/Monkey-Emotions/data_preprocessing.ipynb#X25sZmlsZQ%3D%3D?line=2'>3</a>\u001b[0m generate_ml_behavior_videos(session_obj\u001b[39m.\u001b[39;49mdf, session_obj, trial_num_selected, epoch_start, epoch_end)\n",
      "File \u001b[0;32m~/Desktop/Monkey-Emotions/video/ml_videos.py:95\u001b[0m, in \u001b[0;36mgenerate_ml_behavior_videos\u001b[0;34m(session_df, session_obj, trial_num, epoch_start, epoch_end)\u001b[0m\n\u001b[1;32m     93\u001b[0m \u001b[39m# delete image folder\u001b[39;00m\n\u001b[1;32m     94\u001b[0m \u001b[39mprint\u001b[39m(\u001b[39m'\u001b[39m\u001b[39mDeleting image folder: \u001b[39m\u001b[39m{}\u001b[39;00m\u001b[39m'\u001b[39m\u001b[39m.\u001b[39mformat(source_folder_path))\n\u001b[0;32m---> 95\u001b[0m os\u001b[39m.\u001b[39mrmdir(source_folder_path, recursive\u001b[39m=\u001b[39m\u001b[39mTrue\u001b[39;00m)\n",
      "\u001b[0;31mTypeError\u001b[0m: 'recursive' is an invalid keyword argument for rmdir()"
     ]
    }
   ],
   "source": [
    "from video.ml_videos import generate_ml_behavior_videos\n",
    "trial_num_selected = 1\n",
    "generate_ml_behavior_videos(session_obj.df, session_obj, trial_num_selected, epoch_start, epoch_end)"
   ]
  },
  {
   "cell_type": "code",
   "execution_count": 27,
   "metadata": {},
   "outputs": [
    {
     "name": "stdout",
     "output_type": "stream",
     "text": [
      "Collecting package metadata (current_repodata.json): ...working... done\n",
      "Solving environment: ...working... failed with initial frozen solve. Retrying with flexible solve.\n",
      "Collecting package metadata (repodata.json): ...working... done\n",
      "Solving environment: ...working... failed with initial frozen solve. Retrying with flexible solve.\n"
     ]
    },
    {
     "name": "stderr",
     "output_type": "stream",
     "text": [
      "\n",
      "PackagesNotFoundError: The following packages are not available from current channels:\n",
      "\n",
      "  - deeplabcut\n",
      "\n",
      "Current channels:\n",
      "\n",
      "  - https://repo.anaconda.com/pkgs/main/win-64\n",
      "  - https://repo.anaconda.com/pkgs/main/noarch\n",
      "  - https://repo.anaconda.com/pkgs/r/win-64\n",
      "  - https://repo.anaconda.com/pkgs/r/noarch\n",
      "  - https://repo.anaconda.com/pkgs/msys2/win-64\n",
      "  - https://repo.anaconda.com/pkgs/msys2/noarch\n",
      "\n",
      "To search for alternate channels that may provide the conda package you're\n",
      "looking for, navigate to\n",
      "\n",
      "    https://anaconda.org\n",
      "\n",
      "and use the search bar at the top of the page.\n",
      "\n",
      "\n"
     ]
    }
   ],
   "source": [
    "!conda install deeplabcut[tf,modelzoo]"
   ]
  },
  {
   "cell_type": "markdown",
   "metadata": {},
   "source": [
    "***\n",
    "## DeepLabCut"
   ]
  },
  {
   "cell_type": "code",
   "execution_count": 10,
   "metadata": {},
   "outputs": [
    {
     "name": "stdout",
     "output_type": "stream",
     "text": [
      "Loading DLC 2.3.7...\n"
     ]
    }
   ],
   "source": [
    "import deeplabcut\n",
    "\n",
    "camera_dict = {\n",
    "  'e3v8360':'face_1', \n",
    "  'e3v83d6':'face_2',\n",
    "  'e3v83ad':'body_1',\n",
    "  'e3v831b':'body_2'\n",
    "}"
   ]
  },
  {
   "cell_type": "code",
   "execution_count": 11,
   "metadata": {},
   "outputs": [
    {
     "name": "stdout",
     "output_type": "stream",
     "text": [
      "Checking for video files...\n",
      "  Video directory: c:\\Users\\rahim\\Desktop\\Monkey-Emotions\\video\\gandalf_231023\n"
     ]
    },
    {
     "data": {
      "application/vnd.jupyter.widget-view+json": {
       "model_id": "e0c6e14d41aa455ca95af9a9db8d7bc7",
       "version_major": 2,
       "version_minor": 0
      },
      "text/plain": [
       "  0%|          | 0/1300 [00:00<?, ?it/s]"
      ]
     },
     "metadata": {},
     "output_type": "display_data"
    },
    {
     "name": "stdout",
     "output_type": "stream",
     "text": [
      "  Camera: e3v831b | Number of videos: 325\n",
      "  Camera: e3v8360 | Number of videos: 325\n",
      "  Camera: e3v83ad | Number of videos: 325\n",
      "  Camera: e3v83d6 | Number of videos: 325\n"
     ]
    }
   ],
   "source": [
    "from dlc_primate.dlc_utils import dlc_config, dlc_downsample\n",
    "video_dir = os.path.join(os.getcwd(), 'video', session_obj.monkey + '_' + session_obj.date)\n",
    "dlc_video_path_dict = dlc_config.get_trial_video_list(video_dir, camera_dict)\n",
    "# dlc_video_path_dict = spikeglx_obj.video_file_paths"
   ]
  },
  {
   "cell_type": "code",
   "execution_count": 23,
   "metadata": {},
   "outputs": [
    {
     "name": "stdout",
     "output_type": "stream",
     "text": [
      "Checking frame size...\n",
      "   Pixel width x height: 640x480\n",
      "No need to downsample videos\n",
      "Initializing Project...\n",
      "  Project name: b2\n",
      "  Model: full_macaque\n",
      "  Initilization Videos: ['c:\\\\Users\\\\rahim\\\\Desktop\\\\Monkey-Emotions\\\\video\\\\gandalf_231023\\\\gandalf_231023_0_e3v831b.mp4']\n",
      "Created \"C:\\Users\\rahim\\Desktop\\Monkey-Emotions\\b2-rh-2023-11-06\\videos\"\n",
      "Created \"C:\\Users\\rahim\\Desktop\\Monkey-Emotions\\b2-rh-2023-11-06\\labeled-data\"\n",
      "Created \"C:\\Users\\rahim\\Desktop\\Monkey-Emotions\\b2-rh-2023-11-06\\training-datasets\"\n",
      "Created \"C:\\Users\\rahim\\Desktop\\Monkey-Emotions\\b2-rh-2023-11-06\\dlc-models\"\n",
      "Copying the videos\n",
      "C:\\Users\\rahim\\Desktop\\Monkey-Emotions\\b2-rh-2023-11-06\\videos\\gandalf_231023_0_e3v831b.mp4\n",
      "Generated \"C:\\Users\\rahim\\Desktop\\Monkey-Emotions\\b2-rh-2023-11-06\\config.yaml\"\n",
      "\n",
      "A new project with name b2-rh-2023-11-06 is created at C:\\Users\\rahim\\Desktop\\Monkey-Emotions and a configurable file (config.yaml) is stored there. Change the parameters in this file to adapt to your project's needs.\n",
      " Once you have changed the configuration file, use the function 'extract_frames' to select frames for labeling.\n",
      ". [OPTIONAL] Use the function 'add_new_videos' to add new videos to your project (at any stage).\n",
      "Downloading weights...\n",
      "Loading.... full_macaque\n"
     ]
    },
    {
     "data": {
      "application/vnd.jupyter.widget-view+json": {
       "model_id": "61a20be9c59342c7a45852e5d7f6b308",
       "version_major": 2,
       "version_minor": 0
      },
      "text/plain": [
       "DLC_macaque_full_resnet50.tar.gz:   0%|          | 0.00/182M [00:00<?, ?B/s]"
      ]
     },
     "metadata": {},
     "output_type": "display_data"
    },
    {
     "name": "stdout",
     "output_type": "stream",
     "text": [
      "C:\\Users\\rahim\\Desktop\\Monkey-Emotions\\b2-rh-2023-11-06\\dlc-models\\iteration-0\\b2Nov6-trainset95shuffle1\\train\\pose_cfg.yaml\n",
      "Analyzing video...\n",
      "Using snapshot-1030000 for model C:\\Users\\rahim\\Desktop\\Monkey-Emotions\\b2-rh-2023-11-06\\dlc-models\\iteration-0\\b2Nov6-trainset95shuffle1\n"
     ]
    },
    {
     "name": "stderr",
     "output_type": "stream",
     "text": [
      "c:\\Users\\rahim\\anaconda3\\envs\\DEEPLABCUT_PC\\lib\\site-packages\\tensorflow\\python\\keras\\engine\\base_layer_v1.py:1694: UserWarning: `layer.apply` is deprecated and will be removed in a future version. Please use `layer.__call__` method instead.\n",
      "  warnings.warn('`layer.apply` is deprecated and '\n"
     ]
    },
    {
     "name": "stdout",
     "output_type": "stream",
     "text": [
      "Analyzing all the videos in the directory...\n",
      "Starting to analyze %  C:\\Users\\rahim\\Desktop\\Monkey-Emotions\\b2-rh-2023-11-06\\videos\\gandalf_231023_0_e3v831b.mp4\n",
      "Loading  C:\\Users\\rahim\\Desktop\\Monkey-Emotions\\b2-rh-2023-11-06\\videos\\gandalf_231023_0_e3v831b.mp4\n",
      "Duration of video [s]:  9.11 , recorded with  120.0 fps!\n",
      "Overall # of frames:  1093  found with (before cropping) frame dimensions:  640 480\n",
      "Starting to extract posture\n"
     ]
    },
    {
     "name": "stderr",
     "output_type": "stream",
     "text": [
      "100%|██████████| 1093/1093 [04:24<00:00,  4.13it/s]\n"
     ]
    },
    {
     "name": "stdout",
     "output_type": "stream",
     "text": [
      "Saving results in C:\\Users\\rahim\\Desktop\\Monkey-Emotions\\b2-rh-2023-11-06\\videos...\n",
      "Saving csv poses!\n",
      "The videos are analyzed. Now your research can truly start! \n",
      " You can create labeled videos with 'create_labeled_video'\n",
      "If the tracking is not satisfactory for some videos, consider expanding the training set. You can use the function 'extract_outlier_frames' to extract a few representative outlier frames.\n",
      "Checking frame size...\n",
      "   Pixel width x height: 640x480\n",
      "No need to downsample videos\n",
      "Initializing Project...\n",
      "  Project name: f1\n",
      "  Model: primate_face\n",
      "  Initilization Videos: ['c:\\\\Users\\\\rahim\\\\Desktop\\\\Monkey-Emotions\\\\video\\\\gandalf_231023\\\\gandalf_231023_0_e3v8360.mp4']\n",
      "Created \"C:\\Users\\rahim\\Desktop\\Monkey-Emotions\\f1-rh-2023-11-06\\videos\"\n",
      "Created \"C:\\Users\\rahim\\Desktop\\Monkey-Emotions\\f1-rh-2023-11-06\\labeled-data\"\n",
      "Created \"C:\\Users\\rahim\\Desktop\\Monkey-Emotions\\f1-rh-2023-11-06\\training-datasets\"\n",
      "Created \"C:\\Users\\rahim\\Desktop\\Monkey-Emotions\\f1-rh-2023-11-06\\dlc-models\"\n",
      "Copying the videos\n",
      "C:\\Users\\rahim\\Desktop\\Monkey-Emotions\\f1-rh-2023-11-06\\videos\\gandalf_231023_0_e3v8360.mp4\n",
      "Generated \"C:\\Users\\rahim\\Desktop\\Monkey-Emotions\\f1-rh-2023-11-06\\config.yaml\"\n",
      "\n",
      "A new project with name f1-rh-2023-11-06 is created at C:\\Users\\rahim\\Desktop\\Monkey-Emotions and a configurable file (config.yaml) is stored there. Change the parameters in this file to adapt to your project's needs.\n",
      " Once you have changed the configuration file, use the function 'extract_frames' to select frames for labeling.\n",
      ". [OPTIONAL] Use the function 'add_new_videos' to add new videos to your project (at any stage).\n",
      "Downloading weights...\n",
      "Loading.... primate_face\n"
     ]
    },
    {
     "data": {
      "application/vnd.jupyter.widget-view+json": {
       "model_id": "02b91b8bf2a8487788c0597276941bab",
       "version_major": 2,
       "version_minor": 0
      },
      "text/plain": [
       "(…)e_resnet_50_iteration-1_shuffle-1.tar.gz:   0%|          | 0.00/198M [00:00<?, ?B/s]"
      ]
     },
     "metadata": {},
     "output_type": "display_data"
    },
    {
     "ename": "FileNotFoundError",
     "evalue": "[Errno 2] No such file or directory: 'C:\\\\Users\\\\rahim\\\\Desktop\\\\Monkey-Emotions\\\\f1-rh-2023-11-06\\\\dlc-models\\\\iteration-0\\\\f1Nov6-trainset95shuffle1\\\\train\\\\models--mwmathis--DeepLabCutModelZoo-primate_face\\\\snapshots\\\\df7e8f6ad38899489758e5a890b58905cfb4d893\\\\DLC_primate_face_resnet_50_iteration-1_shuffle-1.tar.gz'",
     "output_type": "error",
     "traceback": [
      "\u001b[1;31m---------------------------------------------------------------------------\u001b[0m",
      "\u001b[1;31mFileNotFoundError\u001b[0m                         Traceback (most recent call last)",
      "File \u001b[1;32mc:\\Users\\rahim\\anaconda3\\envs\\DEEPLABCUT_PC\\lib\\shutil.py:825\u001b[0m, in \u001b[0;36mmove\u001b[1;34m(src, dst, copy_function)\u001b[0m\n\u001b[0;32m    824\u001b[0m \u001b[39mtry\u001b[39;00m:\n\u001b[1;32m--> 825\u001b[0m     os\u001b[39m.\u001b[39;49mrename(src, real_dst)\n\u001b[0;32m    826\u001b[0m \u001b[39mexcept\u001b[39;00m \u001b[39mOSError\u001b[39;00m:\n",
      "\u001b[1;31mFileNotFoundError\u001b[0m: [WinError 3] The system cannot find the path specified: 'C:\\\\Users\\\\rahim\\\\Desktop\\\\Monkey-Emotions\\\\f1-rh-2023-11-06\\\\dlc-models\\\\iteration-0\\\\f1Nov6-trainset95shuffle1\\\\train\\\\models--mwmathis--DeepLabCutModelZoo-primate_face\\\\blobs\\\\90c4a48102cf67e73b021b287916f7ae02498f7462ba5a52093317c70f26f7f5' -> 'C:\\\\Users\\\\rahim\\\\Desktop\\\\Monkey-Emotions\\\\f1-rh-2023-11-06\\\\dlc-models\\\\iteration-0\\\\f1Nov6-trainset95shuffle1\\\\train\\\\models--mwmathis--DeepLabCutModelZoo-primate_face\\\\snapshots\\\\df7e8f6ad38899489758e5a890b58905cfb4d893\\\\DLC_primate_face_resnet_50_iteration-1_shuffle-1.tar.gz'",
      "\nDuring handling of the above exception, another exception occurred:\n",
      "\u001b[1;31mFileNotFoundError\u001b[0m                         Traceback (most recent call last)",
      "\u001b[1;32mc:\\Users\\rahim\\Desktop\\Monkey-Emotions\\data_preprocessing.ipynb Cell 25\u001b[0m line \u001b[0;36m6\n\u001b[0;32m      <a href='vscode-notebook-cell:/c%3A/Users/rahim/Desktop/Monkey-Emotions/data_preprocessing.ipynb#X33sZmlsZQ%3D%3D?line=1'>2</a>\u001b[0m \u001b[39mfrom\u001b[39;00m \u001b[39mdlc_primate\u001b[39;00m\u001b[39m.\u001b[39;00m\u001b[39mdlc_utils\u001b[39;00m \u001b[39mimport\u001b[39;00m dlc_config, dlc_downsample\n\u001b[0;32m      <a href='vscode-notebook-cell:/c%3A/Users/rahim/Desktop/Monkey-Emotions/data_preprocessing.ipynb#X33sZmlsZQ%3D%3D?line=3'>4</a>\u001b[0m \u001b[39m# Initialize Project\u001b[39;00m\n\u001b[0;32m      <a href='vscode-notebook-cell:/c%3A/Users/rahim/Desktop/Monkey-Emotions/data_preprocessing.ipynb#X33sZmlsZQ%3D%3D?line=4'>5</a>\u001b[0m config_path_dict, train_config_path_dict \u001b[39m=\u001b[39m \\\n\u001b[1;32m----> <a href='vscode-notebook-cell:/c%3A/Users/rahim/Desktop/Monkey-Emotions/data_preprocessing.ipynb#X33sZmlsZQ%3D%3D?line=5'>6</a>\u001b[0m   dlc_config\u001b[39m.\u001b[39;49mdlc_initialize_project(dlc_video_path_dict, session_obj, camera_dict)\n",
      "File \u001b[1;32mc:\\Users\\rahim\\Desktop\\Monkey-Emotions\\dlc_primate\\dlc_utils\\dlc_config.py:135\u001b[0m, in \u001b[0;36mdlc_initialize_project\u001b[1;34m(dlc_video_path_dict, session_obj, camera_dict)\u001b[0m\n\u001b[0;32m    133\u001b[0m \u001b[39mprint\u001b[39m(\u001b[39mf\u001b[39m\u001b[39m'\u001b[39m\u001b[39m  Model: \u001b[39m\u001b[39m{\u001b[39;00mmodel2use\u001b[39m}\u001b[39;00m\u001b[39m'\u001b[39m)\n\u001b[0;32m    134\u001b[0m \u001b[39mprint\u001b[39m(\u001b[39mf\u001b[39m\u001b[39m'\u001b[39m\u001b[39m  Initilization Videos: \u001b[39m\u001b[39m{\u001b[39;00mvideo_path_list[\u001b[39m0\u001b[39m:\u001b[39m1\u001b[39m]\u001b[39m}\u001b[39;00m\u001b[39m'\u001b[39m)\n\u001b[1;32m--> 135\u001b[0m config_path, train_config_path \u001b[39m=\u001b[39m deeplabcut\u001b[39m.\u001b[39;49mcreate_pretrained_project(\n\u001b[0;32m    136\u001b[0m \t\tproject_name,\n\u001b[0;32m    137\u001b[0m \t\tyour_name,\n\u001b[0;32m    138\u001b[0m \t\tvideo_path_list[\u001b[39m0\u001b[39;49m:\u001b[39m1\u001b[39;49m],\n\u001b[0;32m    139\u001b[0m \t\tvideotype\u001b[39m=\u001b[39;49mvideotype,\n\u001b[0;32m    140\u001b[0m \t\tmodel\u001b[39m=\u001b[39;49mmodel2use,\n\u001b[0;32m    141\u001b[0m \t\tanalyzevideo\u001b[39m=\u001b[39;49m\u001b[39mTrue\u001b[39;49;00m,\n\u001b[0;32m    142\u001b[0m \t\t\u001b[39m# filtered=False,\t\t\t\t\t# causes error in plot_trajectories if True\u001b[39;49;00m\n\u001b[0;32m    143\u001b[0m \t\tcreatelabeledvideo\u001b[39m=\u001b[39;49m\u001b[39mFalse\u001b[39;49;00m, \u001b[39m# causes error in plot_trajectories if True\u001b[39;49;00m\n\u001b[0;32m    144\u001b[0m \t\tcopy_videos\u001b[39m=\u001b[39;49m\u001b[39mTrue\u001b[39;49;00m,\n\u001b[0;32m    145\u001b[0m )\n\u001b[0;32m    146\u001b[0m config_path_dict[key] \u001b[39m=\u001b[39m config_path\n\u001b[0;32m    147\u001b[0m train_config_path_dict[key] \u001b[39m=\u001b[39m train_config_path\n",
      "File \u001b[1;32mc:\\Users\\rahim\\anaconda3\\envs\\DEEPLABCUT_PC\\lib\\site-packages\\deeplabcut\\create_project\\modelzoo.py:261\u001b[0m, in \u001b[0;36mcreate_pretrained_project\u001b[1;34m(project, experimenter, videos, model, working_directory, copy_videos, videotype, analyzevideo, filtered, createlabeledvideo, trainFraction)\u001b[0m\n\u001b[0;32m    259\u001b[0m \u001b[39m# Download the weights and put then in appropriate directory\u001b[39;00m\n\u001b[0;32m    260\u001b[0m \u001b[39mprint\u001b[39m(\u001b[39m\"\u001b[39m\u001b[39mDownloading weights...\u001b[39m\u001b[39m\"\u001b[39m)\n\u001b[1;32m--> 261\u001b[0m download_huggingface_model(model, train_dir)\n\u001b[0;32m    263\u001b[0m pose_cfg \u001b[39m=\u001b[39m deeplabcut\u001b[39m.\u001b[39mauxiliaryfunctions\u001b[39m.\u001b[39mread_plainconfig(path_train_config)\n\u001b[0;32m    264\u001b[0m pose_cfg[\u001b[39m\"\u001b[39m\u001b[39mdataset_type\u001b[39m\u001b[39m\"\u001b[39m] \u001b[39m=\u001b[39m \u001b[39m\"\u001b[39m\u001b[39mimgaug\u001b[39m\u001b[39m\"\u001b[39m\n",
      "File \u001b[1;32mc:\\Users\\rahim\\anaconda3\\envs\\DEEPLABCUT_PC\\lib\\site-packages\\dlclibrary\\dlcmodelzoo\\modelzoo_download.py:76\u001b[0m, in \u001b[0;36mdownload_huggingface_model\u001b[1;34m(modelname, target_dir, remove_hf_folder)\u001b[0m\n\u001b[0;32m     73\u001b[0m url \u001b[39m=\u001b[39m neturls[modelname]\u001b[39m.\u001b[39msplit(\u001b[39m\"\u001b[39m\u001b[39m/\u001b[39m\u001b[39m\"\u001b[39m)\n\u001b[0;32m     74\u001b[0m repo_id, targzfn \u001b[39m=\u001b[39m url[\u001b[39m0\u001b[39m] \u001b[39m+\u001b[39m \u001b[39m\"\u001b[39m\u001b[39m/\u001b[39m\u001b[39m\"\u001b[39m \u001b[39m+\u001b[39m url[\u001b[39m1\u001b[39m], \u001b[39mstr\u001b[39m(url[\u001b[39m-\u001b[39m\u001b[39m1\u001b[39m])\n\u001b[1;32m---> 76\u001b[0m hf_hub_download(repo_id, targzfn, cache_dir\u001b[39m=\u001b[39;49m\u001b[39mstr\u001b[39;49m(target_dir))\n\u001b[0;32m     78\u001b[0m \u001b[39m# Create a new subfolder as indicated below, unzipping from there and deleting this folder\u001b[39;00m\n\u001b[0;32m     79\u001b[0m hf_folder \u001b[39m=\u001b[39m \u001b[39mf\u001b[39m\u001b[39m\"\u001b[39m\u001b[39mmodels--\u001b[39m\u001b[39m{\u001b[39;00murl[\u001b[39m0\u001b[39m]\u001b[39m}\u001b[39;00m\u001b[39m--\u001b[39m\u001b[39m{\u001b[39;00murl[\u001b[39m1\u001b[39m]\u001b[39m}\u001b[39;00m\u001b[39m\"\u001b[39m\n",
      "File \u001b[1;32mc:\\Users\\rahim\\anaconda3\\envs\\DEEPLABCUT_PC\\lib\\site-packages\\huggingface_hub\\utils\\_validators.py:118\u001b[0m, in \u001b[0;36mvalidate_hf_hub_args.<locals>._inner_fn\u001b[1;34m(*args, **kwargs)\u001b[0m\n\u001b[0;32m    115\u001b[0m \u001b[39mif\u001b[39;00m check_use_auth_token:\n\u001b[0;32m    116\u001b[0m     kwargs \u001b[39m=\u001b[39m smoothly_deprecate_use_auth_token(fn_name\u001b[39m=\u001b[39mfn\u001b[39m.\u001b[39m\u001b[39m__name__\u001b[39m, has_token\u001b[39m=\u001b[39mhas_token, kwargs\u001b[39m=\u001b[39mkwargs)\n\u001b[1;32m--> 118\u001b[0m \u001b[39mreturn\u001b[39;00m fn(\u001b[39m*\u001b[39margs, \u001b[39m*\u001b[39m\u001b[39m*\u001b[39mkwargs)\n",
      "File \u001b[1;32mc:\\Users\\rahim\\anaconda3\\envs\\DEEPLABCUT_PC\\lib\\site-packages\\huggingface_hub\\file_download.py:1457\u001b[0m, in \u001b[0;36mhf_hub_download\u001b[1;34m(repo_id, filename, subfolder, repo_type, revision, endpoint, library_name, library_version, cache_dir, local_dir, local_dir_use_symlinks, user_agent, force_download, force_filename, proxies, etag_timeout, resume_download, token, local_files_only, legacy_cache_layout)\u001b[0m\n\u001b[0;32m   1455\u001b[0m     logger\u001b[39m.\u001b[39mdebug(\u001b[39mf\u001b[39m\u001b[39m\"\u001b[39m\u001b[39mStoring \u001b[39m\u001b[39m{\u001b[39;00murl\u001b[39m}\u001b[39;00m\u001b[39m in cache at \u001b[39m\u001b[39m{\u001b[39;00mblob_path\u001b[39m}\u001b[39;00m\u001b[39m\"\u001b[39m)\n\u001b[0;32m   1456\u001b[0m     _chmod_and_replace(temp_file\u001b[39m.\u001b[39mname, blob_path)\n\u001b[1;32m-> 1457\u001b[0m     _create_symlink(blob_path, pointer_path, new_blob\u001b[39m=\u001b[39;49m\u001b[39mTrue\u001b[39;49;00m)\n\u001b[0;32m   1458\u001b[0m \u001b[39melse\u001b[39;00m:\n\u001b[0;32m   1459\u001b[0m     local_dir_filepath \u001b[39m=\u001b[39m os\u001b[39m.\u001b[39mpath\u001b[39m.\u001b[39mjoin(local_dir, relative_filename)\n",
      "File \u001b[1;32mc:\\Users\\rahim\\anaconda3\\envs\\DEEPLABCUT_PC\\lib\\site-packages\\huggingface_hub\\file_download.py:932\u001b[0m, in \u001b[0;36m_create_symlink\u001b[1;34m(src, dst, new_blob)\u001b[0m\n\u001b[0;32m    930\u001b[0m \u001b[39melif\u001b[39;00m new_blob:\n\u001b[0;32m    931\u001b[0m     logger\u001b[39m.\u001b[39minfo(\u001b[39mf\u001b[39m\u001b[39m\"\u001b[39m\u001b[39mSymlink not supported. Moving file from \u001b[39m\u001b[39m{\u001b[39;00mabs_src\u001b[39m}\u001b[39;00m\u001b[39m to \u001b[39m\u001b[39m{\u001b[39;00mabs_dst\u001b[39m}\u001b[39;00m\u001b[39m\"\u001b[39m)\n\u001b[1;32m--> 932\u001b[0m     shutil\u001b[39m.\u001b[39;49mmove(src, dst)\n\u001b[0;32m    933\u001b[0m \u001b[39melse\u001b[39;00m:\n\u001b[0;32m    934\u001b[0m     logger\u001b[39m.\u001b[39minfo(\u001b[39mf\u001b[39m\u001b[39m\"\u001b[39m\u001b[39mSymlink not supported. Copying file from \u001b[39m\u001b[39m{\u001b[39;00mabs_src\u001b[39m}\u001b[39;00m\u001b[39m to \u001b[39m\u001b[39m{\u001b[39;00mabs_dst\u001b[39m}\u001b[39;00m\u001b[39m\"\u001b[39m)\n",
      "File \u001b[1;32mc:\\Users\\rahim\\anaconda3\\envs\\DEEPLABCUT_PC\\lib\\shutil.py:845\u001b[0m, in \u001b[0;36mmove\u001b[1;34m(src, dst, copy_function)\u001b[0m\n\u001b[0;32m    843\u001b[0m         rmtree(src)\n\u001b[0;32m    844\u001b[0m     \u001b[39melse\u001b[39;00m:\n\u001b[1;32m--> 845\u001b[0m         copy_function(src, real_dst)\n\u001b[0;32m    846\u001b[0m         os\u001b[39m.\u001b[39munlink(src)\n\u001b[0;32m    847\u001b[0m \u001b[39mreturn\u001b[39;00m real_dst\n",
      "File \u001b[1;32mc:\\Users\\rahim\\anaconda3\\envs\\DEEPLABCUT_PC\\lib\\shutil.py:444\u001b[0m, in \u001b[0;36mcopy2\u001b[1;34m(src, dst, follow_symlinks)\u001b[0m\n\u001b[0;32m    442\u001b[0m \u001b[39mif\u001b[39;00m os\u001b[39m.\u001b[39mpath\u001b[39m.\u001b[39misdir(dst):\n\u001b[0;32m    443\u001b[0m     dst \u001b[39m=\u001b[39m os\u001b[39m.\u001b[39mpath\u001b[39m.\u001b[39mjoin(dst, os\u001b[39m.\u001b[39mpath\u001b[39m.\u001b[39mbasename(src))\n\u001b[1;32m--> 444\u001b[0m copyfile(src, dst, follow_symlinks\u001b[39m=\u001b[39;49mfollow_symlinks)\n\u001b[0;32m    445\u001b[0m copystat(src, dst, follow_symlinks\u001b[39m=\u001b[39mfollow_symlinks)\n\u001b[0;32m    446\u001b[0m \u001b[39mreturn\u001b[39;00m dst\n",
      "File \u001b[1;32mc:\\Users\\rahim\\anaconda3\\envs\\DEEPLABCUT_PC\\lib\\shutil.py:266\u001b[0m, in \u001b[0;36mcopyfile\u001b[1;34m(src, dst, follow_symlinks)\u001b[0m\n\u001b[0;32m    264\u001b[0m \u001b[39mwith\u001b[39;00m \u001b[39mopen\u001b[39m(src, \u001b[39m'\u001b[39m\u001b[39mrb\u001b[39m\u001b[39m'\u001b[39m) \u001b[39mas\u001b[39;00m fsrc:\n\u001b[0;32m    265\u001b[0m     \u001b[39mtry\u001b[39;00m:\n\u001b[1;32m--> 266\u001b[0m         \u001b[39mwith\u001b[39;00m \u001b[39mopen\u001b[39;49m(dst, \u001b[39m'\u001b[39;49m\u001b[39mwb\u001b[39;49m\u001b[39m'\u001b[39;49m) \u001b[39mas\u001b[39;00m fdst:\n\u001b[0;32m    267\u001b[0m             \u001b[39m# macOS\u001b[39;00m\n\u001b[0;32m    268\u001b[0m             \u001b[39mif\u001b[39;00m _HAS_FCOPYFILE:\n\u001b[0;32m    269\u001b[0m                 \u001b[39mtry\u001b[39;00m:\n",
      "\u001b[1;31mFileNotFoundError\u001b[0m: [Errno 2] No such file or directory: 'C:\\\\Users\\\\rahim\\\\Desktop\\\\Monkey-Emotions\\\\f1-rh-2023-11-06\\\\dlc-models\\\\iteration-0\\\\f1Nov6-trainset95shuffle1\\\\train\\\\models--mwmathis--DeepLabCutModelZoo-primate_face\\\\snapshots\\\\df7e8f6ad38899489758e5a890b58905cfb4d893\\\\DLC_primate_face_resnet_50_iteration-1_shuffle-1.tar.gz'"
     ]
    }
   ],
   "source": [
    "# Custom modules\n",
    "from dlc_primate.dlc_utils import dlc_config, dlc_downsample\n",
    "\n",
    "# Initialize Project\n",
    "config_path_dict, train_config_path_dict = \\\n",
    "  dlc_config.dlc_initialize_project(dlc_video_path_dict, session_obj, camera_dict)"
   ]
  },
  {
   "cell_type": "code",
   "execution_count": 18,
   "metadata": {},
   "outputs": [
    {
     "name": "stdout",
     "output_type": "stream",
     "text": [
      "Attempting to create a symbolic link of the video ...\n",
      "Created the symlink of /Users/rahimhashim/Desktop/Monkey-Emotions/video/gandalf_231023/gandalf_231023_0_e3v83d6.mp4 to /Users/rahimhashim/Desktop/Monkey-Emotions/231023_gandalf_face_2-rahim-2023-10-26/videos/gandalf_231023_0_e3v83d6.mp4\n",
      "Created the symlink of /Users/rahimhashim/Desktop/Monkey-Emotions/video/gandalf_231023/gandalf_231023_1_e3v83d6.mp4 to /Users/rahimhashim/Desktop/Monkey-Emotions/231023_gandalf_face_2-rahim-2023-10-26/videos/gandalf_231023_1_e3v83d6.mp4\n",
      "Created the symlink of /Users/rahimhashim/Desktop/Monkey-Emotions/video/gandalf_231023/gandalf_231023_2_e3v83d6.mp4 to /Users/rahimhashim/Desktop/Monkey-Emotions/231023_gandalf_face_2-rahim-2023-10-26/videos/gandalf_231023_2_e3v83d6.mp4\n",
      "Created the symlink of /Users/rahimhashim/Desktop/Monkey-Emotions/video/gandalf_231023/gandalf_231023_3_e3v83d6.mp4 to /Users/rahimhashim/Desktop/Monkey-Emotions/231023_gandalf_face_2-rahim-2023-10-26/videos/gandalf_231023_3_e3v83d6.mp4\n",
      "Created the symlink of /Users/rahimhashim/Desktop/Monkey-Emotions/video/gandalf_231023/gandalf_231023_4_e3v83d6.mp4 to /Users/rahimhashim/Desktop/Monkey-Emotions/231023_gandalf_face_2-rahim-2023-10-26/videos/gandalf_231023_4_e3v83d6.mp4\n",
      "Created the symlink of /Users/rahimhashim/Desktop/Monkey-Emotions/video/gandalf_231023/gandalf_231023_5_e3v83d6.mp4 to /Users/rahimhashim/Desktop/Monkey-Emotions/231023_gandalf_face_2-rahim-2023-10-26/videos/gandalf_231023_5_e3v83d6.mp4\n",
      "Created the symlink of /Users/rahimhashim/Desktop/Monkey-Emotions/video/gandalf_231023/gandalf_231023_6_e3v83d6.mp4 to /Users/rahimhashim/Desktop/Monkey-Emotions/231023_gandalf_face_2-rahim-2023-10-26/videos/gandalf_231023_6_e3v83d6.mp4\n",
      "Created the symlink of /Users/rahimhashim/Desktop/Monkey-Emotions/video/gandalf_231023/gandalf_231023_7_e3v83d6.mp4 to /Users/rahimhashim/Desktop/Monkey-Emotions/231023_gandalf_face_2-rahim-2023-10-26/videos/gandalf_231023_7_e3v83d6.mp4\n",
      "Created the symlink of /Users/rahimhashim/Desktop/Monkey-Emotions/video/gandalf_231023/gandalf_231023_8_e3v83d6.mp4 to /Users/rahimhashim/Desktop/Monkey-Emotions/231023_gandalf_face_2-rahim-2023-10-26/videos/gandalf_231023_8_e3v83d6.mp4\n",
      "Created the symlink of /Users/rahimhashim/Desktop/Monkey-Emotions/video/gandalf_231023/gandalf_231023_9_e3v83d6.mp4 to /Users/rahimhashim/Desktop/Monkey-Emotions/231023_gandalf_face_2-rahim-2023-10-26/videos/gandalf_231023_9_e3v83d6.mp4\n",
      "Created the symlink of /Users/rahimhashim/Desktop/Monkey-Emotions/video/gandalf_231023/gandalf_231023_10_e3v83d6.mp4 to /Users/rahimhashim/Desktop/Monkey-Emotions/231023_gandalf_face_2-rahim-2023-10-26/videos/gandalf_231023_10_e3v83d6.mp4\n",
      "Created the symlink of /Users/rahimhashim/Desktop/Monkey-Emotions/video/gandalf_231023/gandalf_231023_11_e3v83d6.mp4 to /Users/rahimhashim/Desktop/Monkey-Emotions/231023_gandalf_face_2-rahim-2023-10-26/videos/gandalf_231023_11_e3v83d6.mp4\n",
      "Created the symlink of /Users/rahimhashim/Desktop/Monkey-Emotions/video/gandalf_231023/gandalf_231023_12_e3v83d6.mp4 to /Users/rahimhashim/Desktop/Monkey-Emotions/231023_gandalf_face_2-rahim-2023-10-26/videos/gandalf_231023_12_e3v83d6.mp4\n",
      "Created the symlink of /Users/rahimhashim/Desktop/Monkey-Emotions/video/gandalf_231023/gandalf_231023_13_e3v83d6.mp4 to /Users/rahimhashim/Desktop/Monkey-Emotions/231023_gandalf_face_2-rahim-2023-10-26/videos/gandalf_231023_13_e3v83d6.mp4\n",
      "Created the symlink of /Users/rahimhashim/Desktop/Monkey-Emotions/video/gandalf_231023/gandalf_231023_14_e3v83d6.mp4 to /Users/rahimhashim/Desktop/Monkey-Emotions/231023_gandalf_face_2-rahim-2023-10-26/videos/gandalf_231023_14_e3v83d6.mp4\n",
      "Created the symlink of /Users/rahimhashim/Desktop/Monkey-Emotions/video/gandalf_231023/gandalf_231023_15_e3v83d6.mp4 to /Users/rahimhashim/Desktop/Monkey-Emotions/231023_gandalf_face_2-rahim-2023-10-26/videos/gandalf_231023_15_e3v83d6.mp4\n",
      "Created the symlink of /Users/rahimhashim/Desktop/Monkey-Emotions/video/gandalf_231023/gandalf_231023_16_e3v83d6.mp4 to /Users/rahimhashim/Desktop/Monkey-Emotions/231023_gandalf_face_2-rahim-2023-10-26/videos/gandalf_231023_16_e3v83d6.mp4\n",
      "Created the symlink of /Users/rahimhashim/Desktop/Monkey-Emotions/video/gandalf_231023/gandalf_231023_17_e3v83d6.mp4 to /Users/rahimhashim/Desktop/Monkey-Emotions/231023_gandalf_face_2-rahim-2023-10-26/videos/gandalf_231023_17_e3v83d6.mp4\n",
      "Created the symlink of /Users/rahimhashim/Desktop/Monkey-Emotions/video/gandalf_231023/gandalf_231023_18_e3v83d6.mp4 to /Users/rahimhashim/Desktop/Monkey-Emotions/231023_gandalf_face_2-rahim-2023-10-26/videos/gandalf_231023_18_e3v83d6.mp4\n",
      "Created the symlink of /Users/rahimhashim/Desktop/Monkey-Emotions/video/gandalf_231023/gandalf_231023_19_e3v83d6.mp4 to /Users/rahimhashim/Desktop/Monkey-Emotions/231023_gandalf_face_2-rahim-2023-10-26/videos/gandalf_231023_19_e3v83d6.mp4\n",
      "Created the symlink of /Users/rahimhashim/Desktop/Monkey-Emotions/video/gandalf_231023/gandalf_231023_20_e3v83d6.mp4 to /Users/rahimhashim/Desktop/Monkey-Emotions/231023_gandalf_face_2-rahim-2023-10-26/videos/gandalf_231023_20_e3v83d6.mp4\n",
      "Created the symlink of /Users/rahimhashim/Desktop/Monkey-Emotions/video/gandalf_231023/gandalf_231023_21_e3v83d6.mp4 to /Users/rahimhashim/Desktop/Monkey-Emotions/231023_gandalf_face_2-rahim-2023-10-26/videos/gandalf_231023_21_e3v83d6.mp4\n",
      "Created the symlink of /Users/rahimhashim/Desktop/Monkey-Emotions/video/gandalf_231023/gandalf_231023_22_e3v83d6.mp4 to /Users/rahimhashim/Desktop/Monkey-Emotions/231023_gandalf_face_2-rahim-2023-10-26/videos/gandalf_231023_22_e3v83d6.mp4\n",
      "Created the symlink of /Users/rahimhashim/Desktop/Monkey-Emotions/video/gandalf_231023/gandalf_231023_23_e3v83d6.mp4 to /Users/rahimhashim/Desktop/Monkey-Emotions/231023_gandalf_face_2-rahim-2023-10-26/videos/gandalf_231023_23_e3v83d6.mp4\n",
      "Created the symlink of /Users/rahimhashim/Desktop/Monkey-Emotions/video/gandalf_231023/gandalf_231023_24_e3v83d6.mp4 to /Users/rahimhashim/Desktop/Monkey-Emotions/231023_gandalf_face_2-rahim-2023-10-26/videos/gandalf_231023_24_e3v83d6.mp4\n",
      "Created the symlink of /Users/rahimhashim/Desktop/Monkey-Emotions/video/gandalf_231023/gandalf_231023_25_e3v83d6.mp4 to /Users/rahimhashim/Desktop/Monkey-Emotions/231023_gandalf_face_2-rahim-2023-10-26/videos/gandalf_231023_25_e3v83d6.mp4\n",
      "Created the symlink of /Users/rahimhashim/Desktop/Monkey-Emotions/video/gandalf_231023/gandalf_231023_26_e3v83d6.mp4 to /Users/rahimhashim/Desktop/Monkey-Emotions/231023_gandalf_face_2-rahim-2023-10-26/videos/gandalf_231023_26_e3v83d6.mp4\n",
      "Created the symlink of /Users/rahimhashim/Desktop/Monkey-Emotions/video/gandalf_231023/gandalf_231023_27_e3v83d6.mp4 to /Users/rahimhashim/Desktop/Monkey-Emotions/231023_gandalf_face_2-rahim-2023-10-26/videos/gandalf_231023_27_e3v83d6.mp4\n",
      "Created the symlink of /Users/rahimhashim/Desktop/Monkey-Emotions/video/gandalf_231023/gandalf_231023_28_e3v83d6.mp4 to /Users/rahimhashim/Desktop/Monkey-Emotions/231023_gandalf_face_2-rahim-2023-10-26/videos/gandalf_231023_28_e3v83d6.mp4\n",
      "Created the symlink of /Users/rahimhashim/Desktop/Monkey-Emotions/video/gandalf_231023/gandalf_231023_29_e3v83d6.mp4 to /Users/rahimhashim/Desktop/Monkey-Emotions/231023_gandalf_face_2-rahim-2023-10-26/videos/gandalf_231023_29_e3v83d6.mp4\n",
      "Created the symlink of /Users/rahimhashim/Desktop/Monkey-Emotions/video/gandalf_231023/gandalf_231023_30_e3v83d6.mp4 to /Users/rahimhashim/Desktop/Monkey-Emotions/231023_gandalf_face_2-rahim-2023-10-26/videos/gandalf_231023_30_e3v83d6.mp4\n",
      "Created the symlink of /Users/rahimhashim/Desktop/Monkey-Emotions/video/gandalf_231023/gandalf_231023_31_e3v83d6.mp4 to /Users/rahimhashim/Desktop/Monkey-Emotions/231023_gandalf_face_2-rahim-2023-10-26/videos/gandalf_231023_31_e3v83d6.mp4\n",
      "Created the symlink of /Users/rahimhashim/Desktop/Monkey-Emotions/video/gandalf_231023/gandalf_231023_32_e3v83d6.mp4 to /Users/rahimhashim/Desktop/Monkey-Emotions/231023_gandalf_face_2-rahim-2023-10-26/videos/gandalf_231023_32_e3v83d6.mp4\n",
      "Created the symlink of /Users/rahimhashim/Desktop/Monkey-Emotions/video/gandalf_231023/gandalf_231023_33_e3v83d6.mp4 to /Users/rahimhashim/Desktop/Monkey-Emotions/231023_gandalf_face_2-rahim-2023-10-26/videos/gandalf_231023_33_e3v83d6.mp4\n",
      "Created the symlink of /Users/rahimhashim/Desktop/Monkey-Emotions/video/gandalf_231023/gandalf_231023_34_e3v83d6.mp4 to /Users/rahimhashim/Desktop/Monkey-Emotions/231023_gandalf_face_2-rahim-2023-10-26/videos/gandalf_231023_34_e3v83d6.mp4\n",
      "Created the symlink of /Users/rahimhashim/Desktop/Monkey-Emotions/video/gandalf_231023/gandalf_231023_35_e3v83d6.mp4 to /Users/rahimhashim/Desktop/Monkey-Emotions/231023_gandalf_face_2-rahim-2023-10-26/videos/gandalf_231023_35_e3v83d6.mp4\n",
      "Created the symlink of /Users/rahimhashim/Desktop/Monkey-Emotions/video/gandalf_231023/gandalf_231023_36_e3v83d6.mp4 to /Users/rahimhashim/Desktop/Monkey-Emotions/231023_gandalf_face_2-rahim-2023-10-26/videos/gandalf_231023_36_e3v83d6.mp4\n",
      "Created the symlink of /Users/rahimhashim/Desktop/Monkey-Emotions/video/gandalf_231023/gandalf_231023_37_e3v83d6.mp4 to /Users/rahimhashim/Desktop/Monkey-Emotions/231023_gandalf_face_2-rahim-2023-10-26/videos/gandalf_231023_37_e3v83d6.mp4\n",
      "Created the symlink of /Users/rahimhashim/Desktop/Monkey-Emotions/video/gandalf_231023/gandalf_231023_38_e3v83d6.mp4 to /Users/rahimhashim/Desktop/Monkey-Emotions/231023_gandalf_face_2-rahim-2023-10-26/videos/gandalf_231023_38_e3v83d6.mp4\n",
      "Created the symlink of /Users/rahimhashim/Desktop/Monkey-Emotions/video/gandalf_231023/gandalf_231023_39_e3v83d6.mp4 to /Users/rahimhashim/Desktop/Monkey-Emotions/231023_gandalf_face_2-rahim-2023-10-26/videos/gandalf_231023_39_e3v83d6.mp4\n",
      "Created the symlink of /Users/rahimhashim/Desktop/Monkey-Emotions/video/gandalf_231023/gandalf_231023_40_e3v83d6.mp4 to /Users/rahimhashim/Desktop/Monkey-Emotions/231023_gandalf_face_2-rahim-2023-10-26/videos/gandalf_231023_40_e3v83d6.mp4\n",
      "Created the symlink of /Users/rahimhashim/Desktop/Monkey-Emotions/video/gandalf_231023/gandalf_231023_41_e3v83d6.mp4 to /Users/rahimhashim/Desktop/Monkey-Emotions/231023_gandalf_face_2-rahim-2023-10-26/videos/gandalf_231023_41_e3v83d6.mp4\n",
      "Created the symlink of /Users/rahimhashim/Desktop/Monkey-Emotions/video/gandalf_231023/gandalf_231023_42_e3v83d6.mp4 to /Users/rahimhashim/Desktop/Monkey-Emotions/231023_gandalf_face_2-rahim-2023-10-26/videos/gandalf_231023_42_e3v83d6.mp4\n",
      "Created the symlink of /Users/rahimhashim/Desktop/Monkey-Emotions/video/gandalf_231023/gandalf_231023_43_e3v83d6.mp4 to /Users/rahimhashim/Desktop/Monkey-Emotions/231023_gandalf_face_2-rahim-2023-10-26/videos/gandalf_231023_43_e3v83d6.mp4\n",
      "Created the symlink of /Users/rahimhashim/Desktop/Monkey-Emotions/video/gandalf_231023/gandalf_231023_44_e3v83d6.mp4 to /Users/rahimhashim/Desktop/Monkey-Emotions/231023_gandalf_face_2-rahim-2023-10-26/videos/gandalf_231023_44_e3v83d6.mp4\n",
      "Created the symlink of /Users/rahimhashim/Desktop/Monkey-Emotions/video/gandalf_231023/gandalf_231023_45_e3v83d6.mp4 to /Users/rahimhashim/Desktop/Monkey-Emotions/231023_gandalf_face_2-rahim-2023-10-26/videos/gandalf_231023_45_e3v83d6.mp4\n",
      "Created the symlink of /Users/rahimhashim/Desktop/Monkey-Emotions/video/gandalf_231023/gandalf_231023_46_e3v83d6.mp4 to /Users/rahimhashim/Desktop/Monkey-Emotions/231023_gandalf_face_2-rahim-2023-10-26/videos/gandalf_231023_46_e3v83d6.mp4\n",
      "Created the symlink of /Users/rahimhashim/Desktop/Monkey-Emotions/video/gandalf_231023/gandalf_231023_47_e3v83d6.mp4 to /Users/rahimhashim/Desktop/Monkey-Emotions/231023_gandalf_face_2-rahim-2023-10-26/videos/gandalf_231023_47_e3v83d6.mp4\n",
      "Created the symlink of /Users/rahimhashim/Desktop/Monkey-Emotions/video/gandalf_231023/gandalf_231023_48_e3v83d6.mp4 to /Users/rahimhashim/Desktop/Monkey-Emotions/231023_gandalf_face_2-rahim-2023-10-26/videos/gandalf_231023_48_e3v83d6.mp4\n",
      "Created the symlink of /Users/rahimhashim/Desktop/Monkey-Emotions/video/gandalf_231023/gandalf_231023_49_e3v83d6.mp4 to /Users/rahimhashim/Desktop/Monkey-Emotions/231023_gandalf_face_2-rahim-2023-10-26/videos/gandalf_231023_49_e3v83d6.mp4\n",
      "Created the symlink of /Users/rahimhashim/Desktop/Monkey-Emotions/video/gandalf_231023/gandalf_231023_50_e3v83d6.mp4 to /Users/rahimhashim/Desktop/Monkey-Emotions/231023_gandalf_face_2-rahim-2023-10-26/videos/gandalf_231023_50_e3v83d6.mp4\n",
      "Created the symlink of /Users/rahimhashim/Desktop/Monkey-Emotions/video/gandalf_231023/gandalf_231023_51_e3v83d6.mp4 to /Users/rahimhashim/Desktop/Monkey-Emotions/231023_gandalf_face_2-rahim-2023-10-26/videos/gandalf_231023_51_e3v83d6.mp4\n",
      "Created the symlink of /Users/rahimhashim/Desktop/Monkey-Emotions/video/gandalf_231023/gandalf_231023_52_e3v83d6.mp4 to /Users/rahimhashim/Desktop/Monkey-Emotions/231023_gandalf_face_2-rahim-2023-10-26/videos/gandalf_231023_52_e3v83d6.mp4\n",
      "Created the symlink of /Users/rahimhashim/Desktop/Monkey-Emotions/video/gandalf_231023/gandalf_231023_53_e3v83d6.mp4 to /Users/rahimhashim/Desktop/Monkey-Emotions/231023_gandalf_face_2-rahim-2023-10-26/videos/gandalf_231023_53_e3v83d6.mp4\n",
      "Created the symlink of /Users/rahimhashim/Desktop/Monkey-Emotions/video/gandalf_231023/gandalf_231023_54_e3v83d6.mp4 to /Users/rahimhashim/Desktop/Monkey-Emotions/231023_gandalf_face_2-rahim-2023-10-26/videos/gandalf_231023_54_e3v83d6.mp4\n",
      "Created the symlink of /Users/rahimhashim/Desktop/Monkey-Emotions/video/gandalf_231023/gandalf_231023_55_e3v83d6.mp4 to /Users/rahimhashim/Desktop/Monkey-Emotions/231023_gandalf_face_2-rahim-2023-10-26/videos/gandalf_231023_55_e3v83d6.mp4\n",
      "Created the symlink of /Users/rahimhashim/Desktop/Monkey-Emotions/video/gandalf_231023/gandalf_231023_56_e3v83d6.mp4 to /Users/rahimhashim/Desktop/Monkey-Emotions/231023_gandalf_face_2-rahim-2023-10-26/videos/gandalf_231023_56_e3v83d6.mp4\n",
      "Created the symlink of /Users/rahimhashim/Desktop/Monkey-Emotions/video/gandalf_231023/gandalf_231023_57_e3v83d6.mp4 to /Users/rahimhashim/Desktop/Monkey-Emotions/231023_gandalf_face_2-rahim-2023-10-26/videos/gandalf_231023_57_e3v83d6.mp4\n",
      "Created the symlink of /Users/rahimhashim/Desktop/Monkey-Emotions/video/gandalf_231023/gandalf_231023_58_e3v83d6.mp4 to /Users/rahimhashim/Desktop/Monkey-Emotions/231023_gandalf_face_2-rahim-2023-10-26/videos/gandalf_231023_58_e3v83d6.mp4\n",
      "Created the symlink of /Users/rahimhashim/Desktop/Monkey-Emotions/video/gandalf_231023/gandalf_231023_59_e3v83d6.mp4 to /Users/rahimhashim/Desktop/Monkey-Emotions/231023_gandalf_face_2-rahim-2023-10-26/videos/gandalf_231023_59_e3v83d6.mp4\n",
      "Created the symlink of /Users/rahimhashim/Desktop/Monkey-Emotions/video/gandalf_231023/gandalf_231023_60_e3v83d6.mp4 to /Users/rahimhashim/Desktop/Monkey-Emotions/231023_gandalf_face_2-rahim-2023-10-26/videos/gandalf_231023_60_e3v83d6.mp4\n",
      "Created the symlink of /Users/rahimhashim/Desktop/Monkey-Emotions/video/gandalf_231023/gandalf_231023_61_e3v83d6.mp4 to /Users/rahimhashim/Desktop/Monkey-Emotions/231023_gandalf_face_2-rahim-2023-10-26/videos/gandalf_231023_61_e3v83d6.mp4\n",
      "Created the symlink of /Users/rahimhashim/Desktop/Monkey-Emotions/video/gandalf_231023/gandalf_231023_62_e3v83d6.mp4 to /Users/rahimhashim/Desktop/Monkey-Emotions/231023_gandalf_face_2-rahim-2023-10-26/videos/gandalf_231023_62_e3v83d6.mp4\n",
      "Created the symlink of /Users/rahimhashim/Desktop/Monkey-Emotions/video/gandalf_231023/gandalf_231023_63_e3v83d6.mp4 to /Users/rahimhashim/Desktop/Monkey-Emotions/231023_gandalf_face_2-rahim-2023-10-26/videos/gandalf_231023_63_e3v83d6.mp4\n",
      "Created the symlink of /Users/rahimhashim/Desktop/Monkey-Emotions/video/gandalf_231023/gandalf_231023_64_e3v83d6.mp4 to /Users/rahimhashim/Desktop/Monkey-Emotions/231023_gandalf_face_2-rahim-2023-10-26/videos/gandalf_231023_64_e3v83d6.mp4\n",
      "Created the symlink of /Users/rahimhashim/Desktop/Monkey-Emotions/video/gandalf_231023/gandalf_231023_65_e3v83d6.mp4 to /Users/rahimhashim/Desktop/Monkey-Emotions/231023_gandalf_face_2-rahim-2023-10-26/videos/gandalf_231023_65_e3v83d6.mp4\n",
      "Created the symlink of /Users/rahimhashim/Desktop/Monkey-Emotions/video/gandalf_231023/gandalf_231023_66_e3v83d6.mp4 to /Users/rahimhashim/Desktop/Monkey-Emotions/231023_gandalf_face_2-rahim-2023-10-26/videos/gandalf_231023_66_e3v83d6.mp4\n",
      "Created the symlink of /Users/rahimhashim/Desktop/Monkey-Emotions/video/gandalf_231023/gandalf_231023_67_e3v83d6.mp4 to /Users/rahimhashim/Desktop/Monkey-Emotions/231023_gandalf_face_2-rahim-2023-10-26/videos/gandalf_231023_67_e3v83d6.mp4\n",
      "Created the symlink of /Users/rahimhashim/Desktop/Monkey-Emotions/video/gandalf_231023/gandalf_231023_68_e3v83d6.mp4 to /Users/rahimhashim/Desktop/Monkey-Emotions/231023_gandalf_face_2-rahim-2023-10-26/videos/gandalf_231023_68_e3v83d6.mp4\n",
      "Created the symlink of /Users/rahimhashim/Desktop/Monkey-Emotions/video/gandalf_231023/gandalf_231023_69_e3v83d6.mp4 to /Users/rahimhashim/Desktop/Monkey-Emotions/231023_gandalf_face_2-rahim-2023-10-26/videos/gandalf_231023_69_e3v83d6.mp4\n",
      "Created the symlink of /Users/rahimhashim/Desktop/Monkey-Emotions/video/gandalf_231023/gandalf_231023_70_e3v83d6.mp4 to /Users/rahimhashim/Desktop/Monkey-Emotions/231023_gandalf_face_2-rahim-2023-10-26/videos/gandalf_231023_70_e3v83d6.mp4\n",
      "Created the symlink of /Users/rahimhashim/Desktop/Monkey-Emotions/video/gandalf_231023/gandalf_231023_71_e3v83d6.mp4 to /Users/rahimhashim/Desktop/Monkey-Emotions/231023_gandalf_face_2-rahim-2023-10-26/videos/gandalf_231023_71_e3v83d6.mp4\n",
      "Created the symlink of /Users/rahimhashim/Desktop/Monkey-Emotions/video/gandalf_231023/gandalf_231023_72_e3v83d6.mp4 to /Users/rahimhashim/Desktop/Monkey-Emotions/231023_gandalf_face_2-rahim-2023-10-26/videos/gandalf_231023_72_e3v83d6.mp4\n",
      "Created the symlink of /Users/rahimhashim/Desktop/Monkey-Emotions/video/gandalf_231023/gandalf_231023_73_e3v83d6.mp4 to /Users/rahimhashim/Desktop/Monkey-Emotions/231023_gandalf_face_2-rahim-2023-10-26/videos/gandalf_231023_73_e3v83d6.mp4\n",
      "Created the symlink of /Users/rahimhashim/Desktop/Monkey-Emotions/video/gandalf_231023/gandalf_231023_74_e3v83d6.mp4 to /Users/rahimhashim/Desktop/Monkey-Emotions/231023_gandalf_face_2-rahim-2023-10-26/videos/gandalf_231023_74_e3v83d6.mp4\n",
      "Created the symlink of /Users/rahimhashim/Desktop/Monkey-Emotions/video/gandalf_231023/gandalf_231023_75_e3v83d6.mp4 to /Users/rahimhashim/Desktop/Monkey-Emotions/231023_gandalf_face_2-rahim-2023-10-26/videos/gandalf_231023_75_e3v83d6.mp4\n",
      "Created the symlink of /Users/rahimhashim/Desktop/Monkey-Emotions/video/gandalf_231023/gandalf_231023_76_e3v83d6.mp4 to /Users/rahimhashim/Desktop/Monkey-Emotions/231023_gandalf_face_2-rahim-2023-10-26/videos/gandalf_231023_76_e3v83d6.mp4\n",
      "Created the symlink of /Users/rahimhashim/Desktop/Monkey-Emotions/video/gandalf_231023/gandalf_231023_77_e3v83d6.mp4 to /Users/rahimhashim/Desktop/Monkey-Emotions/231023_gandalf_face_2-rahim-2023-10-26/videos/gandalf_231023_77_e3v83d6.mp4\n",
      "Created the symlink of /Users/rahimhashim/Desktop/Monkey-Emotions/video/gandalf_231023/gandalf_231023_78_e3v83d6.mp4 to /Users/rahimhashim/Desktop/Monkey-Emotions/231023_gandalf_face_2-rahim-2023-10-26/videos/gandalf_231023_78_e3v83d6.mp4\n",
      "Created the symlink of /Users/rahimhashim/Desktop/Monkey-Emotions/video/gandalf_231023/gandalf_231023_79_e3v83d6.mp4 to /Users/rahimhashim/Desktop/Monkey-Emotions/231023_gandalf_face_2-rahim-2023-10-26/videos/gandalf_231023_79_e3v83d6.mp4\n",
      "Created the symlink of /Users/rahimhashim/Desktop/Monkey-Emotions/video/gandalf_231023/gandalf_231023_80_e3v83d6.mp4 to /Users/rahimhashim/Desktop/Monkey-Emotions/231023_gandalf_face_2-rahim-2023-10-26/videos/gandalf_231023_80_e3v83d6.mp4\n",
      "Created the symlink of /Users/rahimhashim/Desktop/Monkey-Emotions/video/gandalf_231023/gandalf_231023_81_e3v83d6.mp4 to /Users/rahimhashim/Desktop/Monkey-Emotions/231023_gandalf_face_2-rahim-2023-10-26/videos/gandalf_231023_81_e3v83d6.mp4\n",
      "Created the symlink of /Users/rahimhashim/Desktop/Monkey-Emotions/video/gandalf_231023/gandalf_231023_83_e3v83d6.mp4 to /Users/rahimhashim/Desktop/Monkey-Emotions/231023_gandalf_face_2-rahim-2023-10-26/videos/gandalf_231023_83_e3v83d6.mp4\n",
      "Created the symlink of /Users/rahimhashim/Desktop/Monkey-Emotions/video/gandalf_231023/gandalf_231023_84_e3v83d6.mp4 to /Users/rahimhashim/Desktop/Monkey-Emotions/231023_gandalf_face_2-rahim-2023-10-26/videos/gandalf_231023_84_e3v83d6.mp4\n",
      "Created the symlink of /Users/rahimhashim/Desktop/Monkey-Emotions/video/gandalf_231023/gandalf_231023_85_e3v83d6.mp4 to /Users/rahimhashim/Desktop/Monkey-Emotions/231023_gandalf_face_2-rahim-2023-10-26/videos/gandalf_231023_85_e3v83d6.mp4\n",
      "Created the symlink of /Users/rahimhashim/Desktop/Monkey-Emotions/video/gandalf_231023/gandalf_231023_86_e3v83d6.mp4 to /Users/rahimhashim/Desktop/Monkey-Emotions/231023_gandalf_face_2-rahim-2023-10-26/videos/gandalf_231023_86_e3v83d6.mp4\n",
      "Created the symlink of /Users/rahimhashim/Desktop/Monkey-Emotions/video/gandalf_231023/gandalf_231023_87_e3v83d6.mp4 to /Users/rahimhashim/Desktop/Monkey-Emotions/231023_gandalf_face_2-rahim-2023-10-26/videos/gandalf_231023_87_e3v83d6.mp4\n",
      "Created the symlink of /Users/rahimhashim/Desktop/Monkey-Emotions/video/gandalf_231023/gandalf_231023_88_e3v83d6.mp4 to /Users/rahimhashim/Desktop/Monkey-Emotions/231023_gandalf_face_2-rahim-2023-10-26/videos/gandalf_231023_88_e3v83d6.mp4\n",
      "Created the symlink of /Users/rahimhashim/Desktop/Monkey-Emotions/video/gandalf_231023/gandalf_231023_89_e3v83d6.mp4 to /Users/rahimhashim/Desktop/Monkey-Emotions/231023_gandalf_face_2-rahim-2023-10-26/videos/gandalf_231023_89_e3v83d6.mp4\n",
      "Created the symlink of /Users/rahimhashim/Desktop/Monkey-Emotions/video/gandalf_231023/gandalf_231023_90_e3v83d6.mp4 to /Users/rahimhashim/Desktop/Monkey-Emotions/231023_gandalf_face_2-rahim-2023-10-26/videos/gandalf_231023_90_e3v83d6.mp4\n",
      "Created the symlink of /Users/rahimhashim/Desktop/Monkey-Emotions/video/gandalf_231023/gandalf_231023_91_e3v83d6.mp4 to /Users/rahimhashim/Desktop/Monkey-Emotions/231023_gandalf_face_2-rahim-2023-10-26/videos/gandalf_231023_91_e3v83d6.mp4\n",
      "Created the symlink of /Users/rahimhashim/Desktop/Monkey-Emotions/video/gandalf_231023/gandalf_231023_92_e3v83d6.mp4 to /Users/rahimhashim/Desktop/Monkey-Emotions/231023_gandalf_face_2-rahim-2023-10-26/videos/gandalf_231023_92_e3v83d6.mp4\n",
      "Created the symlink of /Users/rahimhashim/Desktop/Monkey-Emotions/video/gandalf_231023/gandalf_231023_93_e3v83d6.mp4 to /Users/rahimhashim/Desktop/Monkey-Emotions/231023_gandalf_face_2-rahim-2023-10-26/videos/gandalf_231023_93_e3v83d6.mp4\n",
      "Created the symlink of /Users/rahimhashim/Desktop/Monkey-Emotions/video/gandalf_231023/gandalf_231023_94_e3v83d6.mp4 to /Users/rahimhashim/Desktop/Monkey-Emotions/231023_gandalf_face_2-rahim-2023-10-26/videos/gandalf_231023_94_e3v83d6.mp4\n",
      "Created the symlink of /Users/rahimhashim/Desktop/Monkey-Emotions/video/gandalf_231023/gandalf_231023_95_e3v83d6.mp4 to /Users/rahimhashim/Desktop/Monkey-Emotions/231023_gandalf_face_2-rahim-2023-10-26/videos/gandalf_231023_95_e3v83d6.mp4\n",
      "Created the symlink of /Users/rahimhashim/Desktop/Monkey-Emotions/video/gandalf_231023/gandalf_231023_96_e3v83d6.mp4 to /Users/rahimhashim/Desktop/Monkey-Emotions/231023_gandalf_face_2-rahim-2023-10-26/videos/gandalf_231023_96_e3v83d6.mp4\n",
      "Created the symlink of /Users/rahimhashim/Desktop/Monkey-Emotions/video/gandalf_231023/gandalf_231023_97_e3v83d6.mp4 to /Users/rahimhashim/Desktop/Monkey-Emotions/231023_gandalf_face_2-rahim-2023-10-26/videos/gandalf_231023_97_e3v83d6.mp4\n",
      "Created the symlink of /Users/rahimhashim/Desktop/Monkey-Emotions/video/gandalf_231023/gandalf_231023_98_e3v83d6.mp4 to /Users/rahimhashim/Desktop/Monkey-Emotions/231023_gandalf_face_2-rahim-2023-10-26/videos/gandalf_231023_98_e3v83d6.mp4\n",
      "Created the symlink of /Users/rahimhashim/Desktop/Monkey-Emotions/video/gandalf_231023/gandalf_231023_99_e3v83d6.mp4 to /Users/rahimhashim/Desktop/Monkey-Emotions/231023_gandalf_face_2-rahim-2023-10-26/videos/gandalf_231023_99_e3v83d6.mp4\n",
      "Created the symlink of /Users/rahimhashim/Desktop/Monkey-Emotions/video/gandalf_231023/gandalf_231023_100_e3v83d6.mp4 to /Users/rahimhashim/Desktop/Monkey-Emotions/231023_gandalf_face_2-rahim-2023-10-26/videos/gandalf_231023_100_e3v83d6.mp4\n",
      "Created the symlink of /Users/rahimhashim/Desktop/Monkey-Emotions/video/gandalf_231023/gandalf_231023_101_e3v83d6.mp4 to /Users/rahimhashim/Desktop/Monkey-Emotions/231023_gandalf_face_2-rahim-2023-10-26/videos/gandalf_231023_101_e3v83d6.mp4\n",
      "Created the symlink of /Users/rahimhashim/Desktop/Monkey-Emotions/video/gandalf_231023/gandalf_231023_102_e3v83d6.mp4 to /Users/rahimhashim/Desktop/Monkey-Emotions/231023_gandalf_face_2-rahim-2023-10-26/videos/gandalf_231023_102_e3v83d6.mp4\n",
      "Created the symlink of /Users/rahimhashim/Desktop/Monkey-Emotions/video/gandalf_231023/gandalf_231023_103_e3v83d6.mp4 to /Users/rahimhashim/Desktop/Monkey-Emotions/231023_gandalf_face_2-rahim-2023-10-26/videos/gandalf_231023_103_e3v83d6.mp4\n",
      "Created the symlink of /Users/rahimhashim/Desktop/Monkey-Emotions/video/gandalf_231023/gandalf_231023_104_e3v83d6.mp4 to /Users/rahimhashim/Desktop/Monkey-Emotions/231023_gandalf_face_2-rahim-2023-10-26/videos/gandalf_231023_104_e3v83d6.mp4\n",
      "Created the symlink of /Users/rahimhashim/Desktop/Monkey-Emotions/video/gandalf_231023/gandalf_231023_105_e3v83d6.mp4 to /Users/rahimhashim/Desktop/Monkey-Emotions/231023_gandalf_face_2-rahim-2023-10-26/videos/gandalf_231023_105_e3v83d6.mp4\n",
      "Created the symlink of /Users/rahimhashim/Desktop/Monkey-Emotions/video/gandalf_231023/gandalf_231023_106_e3v83d6.mp4 to /Users/rahimhashim/Desktop/Monkey-Emotions/231023_gandalf_face_2-rahim-2023-10-26/videos/gandalf_231023_106_e3v83d6.mp4\n",
      "Created the symlink of /Users/rahimhashim/Desktop/Monkey-Emotions/video/gandalf_231023/gandalf_231023_107_e3v83d6.mp4 to /Users/rahimhashim/Desktop/Monkey-Emotions/231023_gandalf_face_2-rahim-2023-10-26/videos/gandalf_231023_107_e3v83d6.mp4\n",
      "Created the symlink of /Users/rahimhashim/Desktop/Monkey-Emotions/video/gandalf_231023/gandalf_231023_108_e3v83d6.mp4 to /Users/rahimhashim/Desktop/Monkey-Emotions/231023_gandalf_face_2-rahim-2023-10-26/videos/gandalf_231023_108_e3v83d6.mp4\n",
      "Created the symlink of /Users/rahimhashim/Desktop/Monkey-Emotions/video/gandalf_231023/gandalf_231023_109_e3v83d6.mp4 to /Users/rahimhashim/Desktop/Monkey-Emotions/231023_gandalf_face_2-rahim-2023-10-26/videos/gandalf_231023_109_e3v83d6.mp4\n",
      "Created the symlink of /Users/rahimhashim/Desktop/Monkey-Emotions/video/gandalf_231023/gandalf_231023_110_e3v83d6.mp4 to /Users/rahimhashim/Desktop/Monkey-Emotions/231023_gandalf_face_2-rahim-2023-10-26/videos/gandalf_231023_110_e3v83d6.mp4\n",
      "Created the symlink of /Users/rahimhashim/Desktop/Monkey-Emotions/video/gandalf_231023/gandalf_231023_111_e3v83d6.mp4 to /Users/rahimhashim/Desktop/Monkey-Emotions/231023_gandalf_face_2-rahim-2023-10-26/videos/gandalf_231023_111_e3v83d6.mp4\n",
      "Created the symlink of /Users/rahimhashim/Desktop/Monkey-Emotions/video/gandalf_231023/gandalf_231023_112_e3v83d6.mp4 to /Users/rahimhashim/Desktop/Monkey-Emotions/231023_gandalf_face_2-rahim-2023-10-26/videos/gandalf_231023_112_e3v83d6.mp4\n",
      "Created the symlink of /Users/rahimhashim/Desktop/Monkey-Emotions/video/gandalf_231023/gandalf_231023_113_e3v83d6.mp4 to /Users/rahimhashim/Desktop/Monkey-Emotions/231023_gandalf_face_2-rahim-2023-10-26/videos/gandalf_231023_113_e3v83d6.mp4\n",
      "Created the symlink of /Users/rahimhashim/Desktop/Monkey-Emotions/video/gandalf_231023/gandalf_231023_114_e3v83d6.mp4 to /Users/rahimhashim/Desktop/Monkey-Emotions/231023_gandalf_face_2-rahim-2023-10-26/videos/gandalf_231023_114_e3v83d6.mp4\n",
      "Created the symlink of /Users/rahimhashim/Desktop/Monkey-Emotions/video/gandalf_231023/gandalf_231023_115_e3v83d6.mp4 to /Users/rahimhashim/Desktop/Monkey-Emotions/231023_gandalf_face_2-rahim-2023-10-26/videos/gandalf_231023_115_e3v83d6.mp4\n",
      "Created the symlink of /Users/rahimhashim/Desktop/Monkey-Emotions/video/gandalf_231023/gandalf_231023_116_e3v83d6.mp4 to /Users/rahimhashim/Desktop/Monkey-Emotions/231023_gandalf_face_2-rahim-2023-10-26/videos/gandalf_231023_116_e3v83d6.mp4\n",
      "Created the symlink of /Users/rahimhashim/Desktop/Monkey-Emotions/video/gandalf_231023/gandalf_231023_117_e3v83d6.mp4 to /Users/rahimhashim/Desktop/Monkey-Emotions/231023_gandalf_face_2-rahim-2023-10-26/videos/gandalf_231023_117_e3v83d6.mp4\n",
      "Created the symlink of /Users/rahimhashim/Desktop/Monkey-Emotions/video/gandalf_231023/gandalf_231023_118_e3v83d6.mp4 to /Users/rahimhashim/Desktop/Monkey-Emotions/231023_gandalf_face_2-rahim-2023-10-26/videos/gandalf_231023_118_e3v83d6.mp4\n",
      "Created the symlink of /Users/rahimhashim/Desktop/Monkey-Emotions/video/gandalf_231023/gandalf_231023_119_e3v83d6.mp4 to /Users/rahimhashim/Desktop/Monkey-Emotions/231023_gandalf_face_2-rahim-2023-10-26/videos/gandalf_231023_119_e3v83d6.mp4\n",
      "Created the symlink of /Users/rahimhashim/Desktop/Monkey-Emotions/video/gandalf_231023/gandalf_231023_120_e3v83d6.mp4 to /Users/rahimhashim/Desktop/Monkey-Emotions/231023_gandalf_face_2-rahim-2023-10-26/videos/gandalf_231023_120_e3v83d6.mp4\n",
      "Created the symlink of /Users/rahimhashim/Desktop/Monkey-Emotions/video/gandalf_231023/gandalf_231023_121_e3v83d6.mp4 to /Users/rahimhashim/Desktop/Monkey-Emotions/231023_gandalf_face_2-rahim-2023-10-26/videos/gandalf_231023_121_e3v83d6.mp4\n",
      "Created the symlink of /Users/rahimhashim/Desktop/Monkey-Emotions/video/gandalf_231023/gandalf_231023_122_e3v83d6.mp4 to /Users/rahimhashim/Desktop/Monkey-Emotions/231023_gandalf_face_2-rahim-2023-10-26/videos/gandalf_231023_122_e3v83d6.mp4\n",
      "Created the symlink of /Users/rahimhashim/Desktop/Monkey-Emotions/video/gandalf_231023/gandalf_231023_123_e3v83d6.mp4 to /Users/rahimhashim/Desktop/Monkey-Emotions/231023_gandalf_face_2-rahim-2023-10-26/videos/gandalf_231023_123_e3v83d6.mp4\n",
      "Created the symlink of /Users/rahimhashim/Desktop/Monkey-Emotions/video/gandalf_231023/gandalf_231023_124_e3v83d6.mp4 to /Users/rahimhashim/Desktop/Monkey-Emotions/231023_gandalf_face_2-rahim-2023-10-26/videos/gandalf_231023_124_e3v83d6.mp4\n",
      "Created the symlink of /Users/rahimhashim/Desktop/Monkey-Emotions/video/gandalf_231023/gandalf_231023_125_e3v83d6.mp4 to /Users/rahimhashim/Desktop/Monkey-Emotions/231023_gandalf_face_2-rahim-2023-10-26/videos/gandalf_231023_125_e3v83d6.mp4\n",
      "Created the symlink of /Users/rahimhashim/Desktop/Monkey-Emotions/video/gandalf_231023/gandalf_231023_126_e3v83d6.mp4 to /Users/rahimhashim/Desktop/Monkey-Emotions/231023_gandalf_face_2-rahim-2023-10-26/videos/gandalf_231023_126_e3v83d6.mp4\n",
      "Created the symlink of /Users/rahimhashim/Desktop/Monkey-Emotions/video/gandalf_231023/gandalf_231023_127_e3v83d6.mp4 to /Users/rahimhashim/Desktop/Monkey-Emotions/231023_gandalf_face_2-rahim-2023-10-26/videos/gandalf_231023_127_e3v83d6.mp4\n",
      "Created the symlink of /Users/rahimhashim/Desktop/Monkey-Emotions/video/gandalf_231023/gandalf_231023_128_e3v83d6.mp4 to /Users/rahimhashim/Desktop/Monkey-Emotions/231023_gandalf_face_2-rahim-2023-10-26/videos/gandalf_231023_128_e3v83d6.mp4\n",
      "Created the symlink of /Users/rahimhashim/Desktop/Monkey-Emotions/video/gandalf_231023/gandalf_231023_129_e3v83d6.mp4 to /Users/rahimhashim/Desktop/Monkey-Emotions/231023_gandalf_face_2-rahim-2023-10-26/videos/gandalf_231023_129_e3v83d6.mp4\n",
      "Created the symlink of /Users/rahimhashim/Desktop/Monkey-Emotions/video/gandalf_231023/gandalf_231023_130_e3v83d6.mp4 to /Users/rahimhashim/Desktop/Monkey-Emotions/231023_gandalf_face_2-rahim-2023-10-26/videos/gandalf_231023_130_e3v83d6.mp4\n",
      "Created the symlink of /Users/rahimhashim/Desktop/Monkey-Emotions/video/gandalf_231023/gandalf_231023_131_e3v83d6.mp4 to /Users/rahimhashim/Desktop/Monkey-Emotions/231023_gandalf_face_2-rahim-2023-10-26/videos/gandalf_231023_131_e3v83d6.mp4\n",
      "Created the symlink of /Users/rahimhashim/Desktop/Monkey-Emotions/video/gandalf_231023/gandalf_231023_132_e3v83d6.mp4 to /Users/rahimhashim/Desktop/Monkey-Emotions/231023_gandalf_face_2-rahim-2023-10-26/videos/gandalf_231023_132_e3v83d6.mp4\n",
      "Created the symlink of /Users/rahimhashim/Desktop/Monkey-Emotions/video/gandalf_231023/gandalf_231023_133_e3v83d6.mp4 to /Users/rahimhashim/Desktop/Monkey-Emotions/231023_gandalf_face_2-rahim-2023-10-26/videos/gandalf_231023_133_e3v83d6.mp4\n",
      "Created the symlink of /Users/rahimhashim/Desktop/Monkey-Emotions/video/gandalf_231023/gandalf_231023_134_e3v83d6.mp4 to /Users/rahimhashim/Desktop/Monkey-Emotions/231023_gandalf_face_2-rahim-2023-10-26/videos/gandalf_231023_134_e3v83d6.mp4\n",
      "Created the symlink of /Users/rahimhashim/Desktop/Monkey-Emotions/video/gandalf_231023/gandalf_231023_135_e3v83d6.mp4 to /Users/rahimhashim/Desktop/Monkey-Emotions/231023_gandalf_face_2-rahim-2023-10-26/videos/gandalf_231023_135_e3v83d6.mp4\n",
      "Created the symlink of /Users/rahimhashim/Desktop/Monkey-Emotions/video/gandalf_231023/gandalf_231023_136_e3v83d6.mp4 to /Users/rahimhashim/Desktop/Monkey-Emotions/231023_gandalf_face_2-rahim-2023-10-26/videos/gandalf_231023_136_e3v83d6.mp4\n",
      "Created the symlink of /Users/rahimhashim/Desktop/Monkey-Emotions/video/gandalf_231023/gandalf_231023_137_e3v83d6.mp4 to /Users/rahimhashim/Desktop/Monkey-Emotions/231023_gandalf_face_2-rahim-2023-10-26/videos/gandalf_231023_137_e3v83d6.mp4\n",
      "Created the symlink of /Users/rahimhashim/Desktop/Monkey-Emotions/video/gandalf_231023/gandalf_231023_138_e3v83d6.mp4 to /Users/rahimhashim/Desktop/Monkey-Emotions/231023_gandalf_face_2-rahim-2023-10-26/videos/gandalf_231023_138_e3v83d6.mp4\n",
      "Created the symlink of /Users/rahimhashim/Desktop/Monkey-Emotions/video/gandalf_231023/gandalf_231023_139_e3v83d6.mp4 to /Users/rahimhashim/Desktop/Monkey-Emotions/231023_gandalf_face_2-rahim-2023-10-26/videos/gandalf_231023_139_e3v83d6.mp4\n",
      "Created the symlink of /Users/rahimhashim/Desktop/Monkey-Emotions/video/gandalf_231023/gandalf_231023_140_e3v83d6.mp4 to /Users/rahimhashim/Desktop/Monkey-Emotions/231023_gandalf_face_2-rahim-2023-10-26/videos/gandalf_231023_140_e3v83d6.mp4\n",
      "Created the symlink of /Users/rahimhashim/Desktop/Monkey-Emotions/video/gandalf_231023/gandalf_231023_141_e3v83d6.mp4 to /Users/rahimhashim/Desktop/Monkey-Emotions/231023_gandalf_face_2-rahim-2023-10-26/videos/gandalf_231023_141_e3v83d6.mp4\n",
      "Created the symlink of /Users/rahimhashim/Desktop/Monkey-Emotions/video/gandalf_231023/gandalf_231023_142_e3v83d6.mp4 to /Users/rahimhashim/Desktop/Monkey-Emotions/231023_gandalf_face_2-rahim-2023-10-26/videos/gandalf_231023_142_e3v83d6.mp4\n",
      "Created the symlink of /Users/rahimhashim/Desktop/Monkey-Emotions/video/gandalf_231023/gandalf_231023_143_e3v83d6.mp4 to /Users/rahimhashim/Desktop/Monkey-Emotions/231023_gandalf_face_2-rahim-2023-10-26/videos/gandalf_231023_143_e3v83d6.mp4\n",
      "Created the symlink of /Users/rahimhashim/Desktop/Monkey-Emotions/video/gandalf_231023/gandalf_231023_144_e3v83d6.mp4 to /Users/rahimhashim/Desktop/Monkey-Emotions/231023_gandalf_face_2-rahim-2023-10-26/videos/gandalf_231023_144_e3v83d6.mp4\n",
      "Created the symlink of /Users/rahimhashim/Desktop/Monkey-Emotions/video/gandalf_231023/gandalf_231023_145_e3v83d6.mp4 to /Users/rahimhashim/Desktop/Monkey-Emotions/231023_gandalf_face_2-rahim-2023-10-26/videos/gandalf_231023_145_e3v83d6.mp4\n",
      "Created the symlink of /Users/rahimhashim/Desktop/Monkey-Emotions/video/gandalf_231023/gandalf_231023_146_e3v83d6.mp4 to /Users/rahimhashim/Desktop/Monkey-Emotions/231023_gandalf_face_2-rahim-2023-10-26/videos/gandalf_231023_146_e3v83d6.mp4\n",
      "Created the symlink of /Users/rahimhashim/Desktop/Monkey-Emotions/video/gandalf_231023/gandalf_231023_147_e3v83d6.mp4 to /Users/rahimhashim/Desktop/Monkey-Emotions/231023_gandalf_face_2-rahim-2023-10-26/videos/gandalf_231023_147_e3v83d6.mp4\n",
      "Created the symlink of /Users/rahimhashim/Desktop/Monkey-Emotions/video/gandalf_231023/gandalf_231023_148_e3v83d6.mp4 to /Users/rahimhashim/Desktop/Monkey-Emotions/231023_gandalf_face_2-rahim-2023-10-26/videos/gandalf_231023_148_e3v83d6.mp4\n",
      "Created the symlink of /Users/rahimhashim/Desktop/Monkey-Emotions/video/gandalf_231023/gandalf_231023_149_e3v83d6.mp4 to /Users/rahimhashim/Desktop/Monkey-Emotions/231023_gandalf_face_2-rahim-2023-10-26/videos/gandalf_231023_149_e3v83d6.mp4\n",
      "Created the symlink of /Users/rahimhashim/Desktop/Monkey-Emotions/video/gandalf_231023/gandalf_231023_150_e3v83d6.mp4 to /Users/rahimhashim/Desktop/Monkey-Emotions/231023_gandalf_face_2-rahim-2023-10-26/videos/gandalf_231023_150_e3v83d6.mp4\n",
      "Created the symlink of /Users/rahimhashim/Desktop/Monkey-Emotions/video/gandalf_231023/gandalf_231023_151_e3v83d6.mp4 to /Users/rahimhashim/Desktop/Monkey-Emotions/231023_gandalf_face_2-rahim-2023-10-26/videos/gandalf_231023_151_e3v83d6.mp4\n",
      "Created the symlink of /Users/rahimhashim/Desktop/Monkey-Emotions/video/gandalf_231023/gandalf_231023_152_e3v83d6.mp4 to /Users/rahimhashim/Desktop/Monkey-Emotions/231023_gandalf_face_2-rahim-2023-10-26/videos/gandalf_231023_152_e3v83d6.mp4\n",
      "Created the symlink of /Users/rahimhashim/Desktop/Monkey-Emotions/video/gandalf_231023/gandalf_231023_153_e3v83d6.mp4 to /Users/rahimhashim/Desktop/Monkey-Emotions/231023_gandalf_face_2-rahim-2023-10-26/videos/gandalf_231023_153_e3v83d6.mp4\n",
      "Created the symlink of /Users/rahimhashim/Desktop/Monkey-Emotions/video/gandalf_231023/gandalf_231023_154_e3v83d6.mp4 to /Users/rahimhashim/Desktop/Monkey-Emotions/231023_gandalf_face_2-rahim-2023-10-26/videos/gandalf_231023_154_e3v83d6.mp4\n",
      "Created the symlink of /Users/rahimhashim/Desktop/Monkey-Emotions/video/gandalf_231023/gandalf_231023_155_e3v83d6.mp4 to /Users/rahimhashim/Desktop/Monkey-Emotions/231023_gandalf_face_2-rahim-2023-10-26/videos/gandalf_231023_155_e3v83d6.mp4\n",
      "Created the symlink of /Users/rahimhashim/Desktop/Monkey-Emotions/video/gandalf_231023/gandalf_231023_156_e3v83d6.mp4 to /Users/rahimhashim/Desktop/Monkey-Emotions/231023_gandalf_face_2-rahim-2023-10-26/videos/gandalf_231023_156_e3v83d6.mp4\n",
      "Created the symlink of /Users/rahimhashim/Desktop/Monkey-Emotions/video/gandalf_231023/gandalf_231023_157_e3v83d6.mp4 to /Users/rahimhashim/Desktop/Monkey-Emotions/231023_gandalf_face_2-rahim-2023-10-26/videos/gandalf_231023_157_e3v83d6.mp4\n",
      "Created the symlink of /Users/rahimhashim/Desktop/Monkey-Emotions/video/gandalf_231023/gandalf_231023_158_e3v83d6.mp4 to /Users/rahimhashim/Desktop/Monkey-Emotions/231023_gandalf_face_2-rahim-2023-10-26/videos/gandalf_231023_158_e3v83d6.mp4\n",
      "Created the symlink of /Users/rahimhashim/Desktop/Monkey-Emotions/video/gandalf_231023/gandalf_231023_159_e3v83d6.mp4 to /Users/rahimhashim/Desktop/Monkey-Emotions/231023_gandalf_face_2-rahim-2023-10-26/videos/gandalf_231023_159_e3v83d6.mp4\n",
      "Created the symlink of /Users/rahimhashim/Desktop/Monkey-Emotions/video/gandalf_231023/gandalf_231023_160_e3v83d6.mp4 to /Users/rahimhashim/Desktop/Monkey-Emotions/231023_gandalf_face_2-rahim-2023-10-26/videos/gandalf_231023_160_e3v83d6.mp4\n",
      "Created the symlink of /Users/rahimhashim/Desktop/Monkey-Emotions/video/gandalf_231023/gandalf_231023_161_e3v83d6.mp4 to /Users/rahimhashim/Desktop/Monkey-Emotions/231023_gandalf_face_2-rahim-2023-10-26/videos/gandalf_231023_161_e3v83d6.mp4\n",
      "Created the symlink of /Users/rahimhashim/Desktop/Monkey-Emotions/video/gandalf_231023/gandalf_231023_162_e3v83d6.mp4 to /Users/rahimhashim/Desktop/Monkey-Emotions/231023_gandalf_face_2-rahim-2023-10-26/videos/gandalf_231023_162_e3v83d6.mp4\n",
      "Created the symlink of /Users/rahimhashim/Desktop/Monkey-Emotions/video/gandalf_231023/gandalf_231023_163_e3v83d6.mp4 to /Users/rahimhashim/Desktop/Monkey-Emotions/231023_gandalf_face_2-rahim-2023-10-26/videos/gandalf_231023_163_e3v83d6.mp4\n",
      "Created the symlink of /Users/rahimhashim/Desktop/Monkey-Emotions/video/gandalf_231023/gandalf_231023_164_e3v83d6.mp4 to /Users/rahimhashim/Desktop/Monkey-Emotions/231023_gandalf_face_2-rahim-2023-10-26/videos/gandalf_231023_164_e3v83d6.mp4\n",
      "Created the symlink of /Users/rahimhashim/Desktop/Monkey-Emotions/video/gandalf_231023/gandalf_231023_165_e3v83d6.mp4 to /Users/rahimhashim/Desktop/Monkey-Emotions/231023_gandalf_face_2-rahim-2023-10-26/videos/gandalf_231023_165_e3v83d6.mp4\n",
      "Created the symlink of /Users/rahimhashim/Desktop/Monkey-Emotions/video/gandalf_231023/gandalf_231023_166_e3v83d6.mp4 to /Users/rahimhashim/Desktop/Monkey-Emotions/231023_gandalf_face_2-rahim-2023-10-26/videos/gandalf_231023_166_e3v83d6.mp4\n",
      "Created the symlink of /Users/rahimhashim/Desktop/Monkey-Emotions/video/gandalf_231023/gandalf_231023_168_e3v83d6.mp4 to /Users/rahimhashim/Desktop/Monkey-Emotions/231023_gandalf_face_2-rahim-2023-10-26/videos/gandalf_231023_168_e3v83d6.mp4\n",
      "Created the symlink of /Users/rahimhashim/Desktop/Monkey-Emotions/video/gandalf_231023/gandalf_231023_169_e3v83d6.mp4 to /Users/rahimhashim/Desktop/Monkey-Emotions/231023_gandalf_face_2-rahim-2023-10-26/videos/gandalf_231023_169_e3v83d6.mp4\n",
      "Created the symlink of /Users/rahimhashim/Desktop/Monkey-Emotions/video/gandalf_231023/gandalf_231023_170_e3v83d6.mp4 to /Users/rahimhashim/Desktop/Monkey-Emotions/231023_gandalf_face_2-rahim-2023-10-26/videos/gandalf_231023_170_e3v83d6.mp4\n",
      "Created the symlink of /Users/rahimhashim/Desktop/Monkey-Emotions/video/gandalf_231023/gandalf_231023_171_e3v83d6.mp4 to /Users/rahimhashim/Desktop/Monkey-Emotions/231023_gandalf_face_2-rahim-2023-10-26/videos/gandalf_231023_171_e3v83d6.mp4\n",
      "Created the symlink of /Users/rahimhashim/Desktop/Monkey-Emotions/video/gandalf_231023/gandalf_231023_172_e3v83d6.mp4 to /Users/rahimhashim/Desktop/Monkey-Emotions/231023_gandalf_face_2-rahim-2023-10-26/videos/gandalf_231023_172_e3v83d6.mp4\n",
      "Created the symlink of /Users/rahimhashim/Desktop/Monkey-Emotions/video/gandalf_231023/gandalf_231023_173_e3v83d6.mp4 to /Users/rahimhashim/Desktop/Monkey-Emotions/231023_gandalf_face_2-rahim-2023-10-26/videos/gandalf_231023_173_e3v83d6.mp4\n",
      "Created the symlink of /Users/rahimhashim/Desktop/Monkey-Emotions/video/gandalf_231023/gandalf_231023_174_e3v83d6.mp4 to /Users/rahimhashim/Desktop/Monkey-Emotions/231023_gandalf_face_2-rahim-2023-10-26/videos/gandalf_231023_174_e3v83d6.mp4\n",
      "Created the symlink of /Users/rahimhashim/Desktop/Monkey-Emotions/video/gandalf_231023/gandalf_231023_175_e3v83d6.mp4 to /Users/rahimhashim/Desktop/Monkey-Emotions/231023_gandalf_face_2-rahim-2023-10-26/videos/gandalf_231023_175_e3v83d6.mp4\n",
      "Created the symlink of /Users/rahimhashim/Desktop/Monkey-Emotions/video/gandalf_231023/gandalf_231023_176_e3v83d6.mp4 to /Users/rahimhashim/Desktop/Monkey-Emotions/231023_gandalf_face_2-rahim-2023-10-26/videos/gandalf_231023_176_e3v83d6.mp4\n",
      "Created the symlink of /Users/rahimhashim/Desktop/Monkey-Emotions/video/gandalf_231023/gandalf_231023_177_e3v83d6.mp4 to /Users/rahimhashim/Desktop/Monkey-Emotions/231023_gandalf_face_2-rahim-2023-10-26/videos/gandalf_231023_177_e3v83d6.mp4\n",
      "Created the symlink of /Users/rahimhashim/Desktop/Monkey-Emotions/video/gandalf_231023/gandalf_231023_178_e3v83d6.mp4 to /Users/rahimhashim/Desktop/Monkey-Emotions/231023_gandalf_face_2-rahim-2023-10-26/videos/gandalf_231023_178_e3v83d6.mp4\n",
      "Created the symlink of /Users/rahimhashim/Desktop/Monkey-Emotions/video/gandalf_231023/gandalf_231023_179_e3v83d6.mp4 to /Users/rahimhashim/Desktop/Monkey-Emotions/231023_gandalf_face_2-rahim-2023-10-26/videos/gandalf_231023_179_e3v83d6.mp4\n",
      "Created the symlink of /Users/rahimhashim/Desktop/Monkey-Emotions/video/gandalf_231023/gandalf_231023_180_e3v83d6.mp4 to /Users/rahimhashim/Desktop/Monkey-Emotions/231023_gandalf_face_2-rahim-2023-10-26/videos/gandalf_231023_180_e3v83d6.mp4\n",
      "Created the symlink of /Users/rahimhashim/Desktop/Monkey-Emotions/video/gandalf_231023/gandalf_231023_181_e3v83d6.mp4 to /Users/rahimhashim/Desktop/Monkey-Emotions/231023_gandalf_face_2-rahim-2023-10-26/videos/gandalf_231023_181_e3v83d6.mp4\n",
      "Created the symlink of /Users/rahimhashim/Desktop/Monkey-Emotions/video/gandalf_231023/gandalf_231023_182_e3v83d6.mp4 to /Users/rahimhashim/Desktop/Monkey-Emotions/231023_gandalf_face_2-rahim-2023-10-26/videos/gandalf_231023_182_e3v83d6.mp4\n",
      "Created the symlink of /Users/rahimhashim/Desktop/Monkey-Emotions/video/gandalf_231023/gandalf_231023_183_e3v83d6.mp4 to /Users/rahimhashim/Desktop/Monkey-Emotions/231023_gandalf_face_2-rahim-2023-10-26/videos/gandalf_231023_183_e3v83d6.mp4\n",
      "Created the symlink of /Users/rahimhashim/Desktop/Monkey-Emotions/video/gandalf_231023/gandalf_231023_184_e3v83d6.mp4 to /Users/rahimhashim/Desktop/Monkey-Emotions/231023_gandalf_face_2-rahim-2023-10-26/videos/gandalf_231023_184_e3v83d6.mp4\n",
      "Created the symlink of /Users/rahimhashim/Desktop/Monkey-Emotions/video/gandalf_231023/gandalf_231023_185_e3v83d6.mp4 to /Users/rahimhashim/Desktop/Monkey-Emotions/231023_gandalf_face_2-rahim-2023-10-26/videos/gandalf_231023_185_e3v83d6.mp4\n",
      "Created the symlink of /Users/rahimhashim/Desktop/Monkey-Emotions/video/gandalf_231023/gandalf_231023_186_e3v83d6.mp4 to /Users/rahimhashim/Desktop/Monkey-Emotions/231023_gandalf_face_2-rahim-2023-10-26/videos/gandalf_231023_186_e3v83d6.mp4\n",
      "Created the symlink of /Users/rahimhashim/Desktop/Monkey-Emotions/video/gandalf_231023/gandalf_231023_187_e3v83d6.mp4 to /Users/rahimhashim/Desktop/Monkey-Emotions/231023_gandalf_face_2-rahim-2023-10-26/videos/gandalf_231023_187_e3v83d6.mp4\n",
      "Created the symlink of /Users/rahimhashim/Desktop/Monkey-Emotions/video/gandalf_231023/gandalf_231023_188_e3v83d6.mp4 to /Users/rahimhashim/Desktop/Monkey-Emotions/231023_gandalf_face_2-rahim-2023-10-26/videos/gandalf_231023_188_e3v83d6.mp4\n",
      "Created the symlink of /Users/rahimhashim/Desktop/Monkey-Emotions/video/gandalf_231023/gandalf_231023_189_e3v83d6.mp4 to /Users/rahimhashim/Desktop/Monkey-Emotions/231023_gandalf_face_2-rahim-2023-10-26/videos/gandalf_231023_189_e3v83d6.mp4\n",
      "Created the symlink of /Users/rahimhashim/Desktop/Monkey-Emotions/video/gandalf_231023/gandalf_231023_190_e3v83d6.mp4 to /Users/rahimhashim/Desktop/Monkey-Emotions/231023_gandalf_face_2-rahim-2023-10-26/videos/gandalf_231023_190_e3v83d6.mp4\n",
      "Created the symlink of /Users/rahimhashim/Desktop/Monkey-Emotions/video/gandalf_231023/gandalf_231023_191_e3v83d6.mp4 to /Users/rahimhashim/Desktop/Monkey-Emotions/231023_gandalf_face_2-rahim-2023-10-26/videos/gandalf_231023_191_e3v83d6.mp4\n",
      "Created the symlink of /Users/rahimhashim/Desktop/Monkey-Emotions/video/gandalf_231023/gandalf_231023_192_e3v83d6.mp4 to /Users/rahimhashim/Desktop/Monkey-Emotions/231023_gandalf_face_2-rahim-2023-10-26/videos/gandalf_231023_192_e3v83d6.mp4\n",
      "Created the symlink of /Users/rahimhashim/Desktop/Monkey-Emotions/video/gandalf_231023/gandalf_231023_193_e3v83d6.mp4 to /Users/rahimhashim/Desktop/Monkey-Emotions/231023_gandalf_face_2-rahim-2023-10-26/videos/gandalf_231023_193_e3v83d6.mp4\n",
      "Created the symlink of /Users/rahimhashim/Desktop/Monkey-Emotions/video/gandalf_231023/gandalf_231023_194_e3v83d6.mp4 to /Users/rahimhashim/Desktop/Monkey-Emotions/231023_gandalf_face_2-rahim-2023-10-26/videos/gandalf_231023_194_e3v83d6.mp4\n",
      "Created the symlink of /Users/rahimhashim/Desktop/Monkey-Emotions/video/gandalf_231023/gandalf_231023_195_e3v83d6.mp4 to /Users/rahimhashim/Desktop/Monkey-Emotions/231023_gandalf_face_2-rahim-2023-10-26/videos/gandalf_231023_195_e3v83d6.mp4\n",
      "Created the symlink of /Users/rahimhashim/Desktop/Monkey-Emotions/video/gandalf_231023/gandalf_231023_196_e3v83d6.mp4 to /Users/rahimhashim/Desktop/Monkey-Emotions/231023_gandalf_face_2-rahim-2023-10-26/videos/gandalf_231023_196_e3v83d6.mp4\n",
      "Created the symlink of /Users/rahimhashim/Desktop/Monkey-Emotions/video/gandalf_231023/gandalf_231023_197_e3v83d6.mp4 to /Users/rahimhashim/Desktop/Monkey-Emotions/231023_gandalf_face_2-rahim-2023-10-26/videos/gandalf_231023_197_e3v83d6.mp4\n",
      "Created the symlink of /Users/rahimhashim/Desktop/Monkey-Emotions/video/gandalf_231023/gandalf_231023_198_e3v83d6.mp4 to /Users/rahimhashim/Desktop/Monkey-Emotions/231023_gandalf_face_2-rahim-2023-10-26/videos/gandalf_231023_198_e3v83d6.mp4\n",
      "Created the symlink of /Users/rahimhashim/Desktop/Monkey-Emotions/video/gandalf_231023/gandalf_231023_199_e3v83d6.mp4 to /Users/rahimhashim/Desktop/Monkey-Emotions/231023_gandalf_face_2-rahim-2023-10-26/videos/gandalf_231023_199_e3v83d6.mp4\n",
      "Created the symlink of /Users/rahimhashim/Desktop/Monkey-Emotions/video/gandalf_231023/gandalf_231023_200_e3v83d6.mp4 to /Users/rahimhashim/Desktop/Monkey-Emotions/231023_gandalf_face_2-rahim-2023-10-26/videos/gandalf_231023_200_e3v83d6.mp4\n",
      "Created the symlink of /Users/rahimhashim/Desktop/Monkey-Emotions/video/gandalf_231023/gandalf_231023_201_e3v83d6.mp4 to /Users/rahimhashim/Desktop/Monkey-Emotions/231023_gandalf_face_2-rahim-2023-10-26/videos/gandalf_231023_201_e3v83d6.mp4\n",
      "Created the symlink of /Users/rahimhashim/Desktop/Monkey-Emotions/video/gandalf_231023/gandalf_231023_202_e3v83d6.mp4 to /Users/rahimhashim/Desktop/Monkey-Emotions/231023_gandalf_face_2-rahim-2023-10-26/videos/gandalf_231023_202_e3v83d6.mp4\n",
      "Created the symlink of /Users/rahimhashim/Desktop/Monkey-Emotions/video/gandalf_231023/gandalf_231023_203_e3v83d6.mp4 to /Users/rahimhashim/Desktop/Monkey-Emotions/231023_gandalf_face_2-rahim-2023-10-26/videos/gandalf_231023_203_e3v83d6.mp4\n",
      "Created the symlink of /Users/rahimhashim/Desktop/Monkey-Emotions/video/gandalf_231023/gandalf_231023_204_e3v83d6.mp4 to /Users/rahimhashim/Desktop/Monkey-Emotions/231023_gandalf_face_2-rahim-2023-10-26/videos/gandalf_231023_204_e3v83d6.mp4\n",
      "Created the symlink of /Users/rahimhashim/Desktop/Monkey-Emotions/video/gandalf_231023/gandalf_231023_205_e3v83d6.mp4 to /Users/rahimhashim/Desktop/Monkey-Emotions/231023_gandalf_face_2-rahim-2023-10-26/videos/gandalf_231023_205_e3v83d6.mp4\n",
      "Created the symlink of /Users/rahimhashim/Desktop/Monkey-Emotions/video/gandalf_231023/gandalf_231023_206_e3v83d6.mp4 to /Users/rahimhashim/Desktop/Monkey-Emotions/231023_gandalf_face_2-rahim-2023-10-26/videos/gandalf_231023_206_e3v83d6.mp4\n",
      "Created the symlink of /Users/rahimhashim/Desktop/Monkey-Emotions/video/gandalf_231023/gandalf_231023_207_e3v83d6.mp4 to /Users/rahimhashim/Desktop/Monkey-Emotions/231023_gandalf_face_2-rahim-2023-10-26/videos/gandalf_231023_207_e3v83d6.mp4\n",
      "Created the symlink of /Users/rahimhashim/Desktop/Monkey-Emotions/video/gandalf_231023/gandalf_231023_208_e3v83d6.mp4 to /Users/rahimhashim/Desktop/Monkey-Emotions/231023_gandalf_face_2-rahim-2023-10-26/videos/gandalf_231023_208_e3v83d6.mp4\n",
      "Created the symlink of /Users/rahimhashim/Desktop/Monkey-Emotions/video/gandalf_231023/gandalf_231023_209_e3v83d6.mp4 to /Users/rahimhashim/Desktop/Monkey-Emotions/231023_gandalf_face_2-rahim-2023-10-26/videos/gandalf_231023_209_e3v83d6.mp4\n",
      "Created the symlink of /Users/rahimhashim/Desktop/Monkey-Emotions/video/gandalf_231023/gandalf_231023_210_e3v83d6.mp4 to /Users/rahimhashim/Desktop/Monkey-Emotions/231023_gandalf_face_2-rahim-2023-10-26/videos/gandalf_231023_210_e3v83d6.mp4\n",
      "Created the symlink of /Users/rahimhashim/Desktop/Monkey-Emotions/video/gandalf_231023/gandalf_231023_211_e3v83d6.mp4 to /Users/rahimhashim/Desktop/Monkey-Emotions/231023_gandalf_face_2-rahim-2023-10-26/videos/gandalf_231023_211_e3v83d6.mp4\n",
      "Created the symlink of /Users/rahimhashim/Desktop/Monkey-Emotions/video/gandalf_231023/gandalf_231023_212_e3v83d6.mp4 to /Users/rahimhashim/Desktop/Monkey-Emotions/231023_gandalf_face_2-rahim-2023-10-26/videos/gandalf_231023_212_e3v83d6.mp4\n",
      "Created the symlink of /Users/rahimhashim/Desktop/Monkey-Emotions/video/gandalf_231023/gandalf_231023_213_e3v83d6.mp4 to /Users/rahimhashim/Desktop/Monkey-Emotions/231023_gandalf_face_2-rahim-2023-10-26/videos/gandalf_231023_213_e3v83d6.mp4\n",
      "Created the symlink of /Users/rahimhashim/Desktop/Monkey-Emotions/video/gandalf_231023/gandalf_231023_214_e3v83d6.mp4 to /Users/rahimhashim/Desktop/Monkey-Emotions/231023_gandalf_face_2-rahim-2023-10-26/videos/gandalf_231023_214_e3v83d6.mp4\n",
      "Created the symlink of /Users/rahimhashim/Desktop/Monkey-Emotions/video/gandalf_231023/gandalf_231023_215_e3v83d6.mp4 to /Users/rahimhashim/Desktop/Monkey-Emotions/231023_gandalf_face_2-rahim-2023-10-26/videos/gandalf_231023_215_e3v83d6.mp4\n",
      "Created the symlink of /Users/rahimhashim/Desktop/Monkey-Emotions/video/gandalf_231023/gandalf_231023_216_e3v83d6.mp4 to /Users/rahimhashim/Desktop/Monkey-Emotions/231023_gandalf_face_2-rahim-2023-10-26/videos/gandalf_231023_216_e3v83d6.mp4\n",
      "Created the symlink of /Users/rahimhashim/Desktop/Monkey-Emotions/video/gandalf_231023/gandalf_231023_217_e3v83d6.mp4 to /Users/rahimhashim/Desktop/Monkey-Emotions/231023_gandalf_face_2-rahim-2023-10-26/videos/gandalf_231023_217_e3v83d6.mp4\n",
      "Created the symlink of /Users/rahimhashim/Desktop/Monkey-Emotions/video/gandalf_231023/gandalf_231023_218_e3v83d6.mp4 to /Users/rahimhashim/Desktop/Monkey-Emotions/231023_gandalf_face_2-rahim-2023-10-26/videos/gandalf_231023_218_e3v83d6.mp4\n",
      "Created the symlink of /Users/rahimhashim/Desktop/Monkey-Emotions/video/gandalf_231023/gandalf_231023_219_e3v83d6.mp4 to /Users/rahimhashim/Desktop/Monkey-Emotions/231023_gandalf_face_2-rahim-2023-10-26/videos/gandalf_231023_219_e3v83d6.mp4\n",
      "Created the symlink of /Users/rahimhashim/Desktop/Monkey-Emotions/video/gandalf_231023/gandalf_231023_220_e3v83d6.mp4 to /Users/rahimhashim/Desktop/Monkey-Emotions/231023_gandalf_face_2-rahim-2023-10-26/videos/gandalf_231023_220_e3v83d6.mp4\n",
      "Created the symlink of /Users/rahimhashim/Desktop/Monkey-Emotions/video/gandalf_231023/gandalf_231023_221_e3v83d6.mp4 to /Users/rahimhashim/Desktop/Monkey-Emotions/231023_gandalf_face_2-rahim-2023-10-26/videos/gandalf_231023_221_e3v83d6.mp4\n",
      "Created the symlink of /Users/rahimhashim/Desktop/Monkey-Emotions/video/gandalf_231023/gandalf_231023_222_e3v83d6.mp4 to /Users/rahimhashim/Desktop/Monkey-Emotions/231023_gandalf_face_2-rahim-2023-10-26/videos/gandalf_231023_222_e3v83d6.mp4\n",
      "Created the symlink of /Users/rahimhashim/Desktop/Monkey-Emotions/video/gandalf_231023/gandalf_231023_223_e3v83d6.mp4 to /Users/rahimhashim/Desktop/Monkey-Emotions/231023_gandalf_face_2-rahim-2023-10-26/videos/gandalf_231023_223_e3v83d6.mp4\n",
      "Created the symlink of /Users/rahimhashim/Desktop/Monkey-Emotions/video/gandalf_231023/gandalf_231023_224_e3v83d6.mp4 to /Users/rahimhashim/Desktop/Monkey-Emotions/231023_gandalf_face_2-rahim-2023-10-26/videos/gandalf_231023_224_e3v83d6.mp4\n",
      "Created the symlink of /Users/rahimhashim/Desktop/Monkey-Emotions/video/gandalf_231023/gandalf_231023_225_e3v83d6.mp4 to /Users/rahimhashim/Desktop/Monkey-Emotions/231023_gandalf_face_2-rahim-2023-10-26/videos/gandalf_231023_225_e3v83d6.mp4\n",
      "Created the symlink of /Users/rahimhashim/Desktop/Monkey-Emotions/video/gandalf_231023/gandalf_231023_226_e3v83d6.mp4 to /Users/rahimhashim/Desktop/Monkey-Emotions/231023_gandalf_face_2-rahim-2023-10-26/videos/gandalf_231023_226_e3v83d6.mp4\n",
      "Created the symlink of /Users/rahimhashim/Desktop/Monkey-Emotions/video/gandalf_231023/gandalf_231023_227_e3v83d6.mp4 to /Users/rahimhashim/Desktop/Monkey-Emotions/231023_gandalf_face_2-rahim-2023-10-26/videos/gandalf_231023_227_e3v83d6.mp4\n",
      "Created the symlink of /Users/rahimhashim/Desktop/Monkey-Emotions/video/gandalf_231023/gandalf_231023_228_e3v83d6.mp4 to /Users/rahimhashim/Desktop/Monkey-Emotions/231023_gandalf_face_2-rahim-2023-10-26/videos/gandalf_231023_228_e3v83d6.mp4\n",
      "Created the symlink of /Users/rahimhashim/Desktop/Monkey-Emotions/video/gandalf_231023/gandalf_231023_229_e3v83d6.mp4 to /Users/rahimhashim/Desktop/Monkey-Emotions/231023_gandalf_face_2-rahim-2023-10-26/videos/gandalf_231023_229_e3v83d6.mp4\n",
      "Created the symlink of /Users/rahimhashim/Desktop/Monkey-Emotions/video/gandalf_231023/gandalf_231023_230_e3v83d6.mp4 to /Users/rahimhashim/Desktop/Monkey-Emotions/231023_gandalf_face_2-rahim-2023-10-26/videos/gandalf_231023_230_e3v83d6.mp4\n",
      "Created the symlink of /Users/rahimhashim/Desktop/Monkey-Emotions/video/gandalf_231023/gandalf_231023_231_e3v83d6.mp4 to /Users/rahimhashim/Desktop/Monkey-Emotions/231023_gandalf_face_2-rahim-2023-10-26/videos/gandalf_231023_231_e3v83d6.mp4\n",
      "Created the symlink of /Users/rahimhashim/Desktop/Monkey-Emotions/video/gandalf_231023/gandalf_231023_232_e3v83d6.mp4 to /Users/rahimhashim/Desktop/Monkey-Emotions/231023_gandalf_face_2-rahim-2023-10-26/videos/gandalf_231023_232_e3v83d6.mp4\n",
      "Created the symlink of /Users/rahimhashim/Desktop/Monkey-Emotions/video/gandalf_231023/gandalf_231023_233_e3v83d6.mp4 to /Users/rahimhashim/Desktop/Monkey-Emotions/231023_gandalf_face_2-rahim-2023-10-26/videos/gandalf_231023_233_e3v83d6.mp4\n",
      "Created the symlink of /Users/rahimhashim/Desktop/Monkey-Emotions/video/gandalf_231023/gandalf_231023_234_e3v83d6.mp4 to /Users/rahimhashim/Desktop/Monkey-Emotions/231023_gandalf_face_2-rahim-2023-10-26/videos/gandalf_231023_234_e3v83d6.mp4\n",
      "Created the symlink of /Users/rahimhashim/Desktop/Monkey-Emotions/video/gandalf_231023/gandalf_231023_235_e3v83d6.mp4 to /Users/rahimhashim/Desktop/Monkey-Emotions/231023_gandalf_face_2-rahim-2023-10-26/videos/gandalf_231023_235_e3v83d6.mp4\n",
      "Created the symlink of /Users/rahimhashim/Desktop/Monkey-Emotions/video/gandalf_231023/gandalf_231023_236_e3v83d6.mp4 to /Users/rahimhashim/Desktop/Monkey-Emotions/231023_gandalf_face_2-rahim-2023-10-26/videos/gandalf_231023_236_e3v83d6.mp4\n",
      "Created the symlink of /Users/rahimhashim/Desktop/Monkey-Emotions/video/gandalf_231023/gandalf_231023_237_e3v83d6.mp4 to /Users/rahimhashim/Desktop/Monkey-Emotions/231023_gandalf_face_2-rahim-2023-10-26/videos/gandalf_231023_237_e3v83d6.mp4\n",
      "Created the symlink of /Users/rahimhashim/Desktop/Monkey-Emotions/video/gandalf_231023/gandalf_231023_238_e3v83d6.mp4 to /Users/rahimhashim/Desktop/Monkey-Emotions/231023_gandalf_face_2-rahim-2023-10-26/videos/gandalf_231023_238_e3v83d6.mp4\n",
      "Created the symlink of /Users/rahimhashim/Desktop/Monkey-Emotions/video/gandalf_231023/gandalf_231023_239_e3v83d6.mp4 to /Users/rahimhashim/Desktop/Monkey-Emotions/231023_gandalf_face_2-rahim-2023-10-26/videos/gandalf_231023_239_e3v83d6.mp4\n",
      "Created the symlink of /Users/rahimhashim/Desktop/Monkey-Emotions/video/gandalf_231023/gandalf_231023_240_e3v83d6.mp4 to /Users/rahimhashim/Desktop/Monkey-Emotions/231023_gandalf_face_2-rahim-2023-10-26/videos/gandalf_231023_240_e3v83d6.mp4\n",
      "Created the symlink of /Users/rahimhashim/Desktop/Monkey-Emotions/video/gandalf_231023/gandalf_231023_241_e3v83d6.mp4 to /Users/rahimhashim/Desktop/Monkey-Emotions/231023_gandalf_face_2-rahim-2023-10-26/videos/gandalf_231023_241_e3v83d6.mp4\n",
      "Created the symlink of /Users/rahimhashim/Desktop/Monkey-Emotions/video/gandalf_231023/gandalf_231023_242_e3v83d6.mp4 to /Users/rahimhashim/Desktop/Monkey-Emotions/231023_gandalf_face_2-rahim-2023-10-26/videos/gandalf_231023_242_e3v83d6.mp4\n",
      "Created the symlink of /Users/rahimhashim/Desktop/Monkey-Emotions/video/gandalf_231023/gandalf_231023_243_e3v83d6.mp4 to /Users/rahimhashim/Desktop/Monkey-Emotions/231023_gandalf_face_2-rahim-2023-10-26/videos/gandalf_231023_243_e3v83d6.mp4\n",
      "Created the symlink of /Users/rahimhashim/Desktop/Monkey-Emotions/video/gandalf_231023/gandalf_231023_244_e3v83d6.mp4 to /Users/rahimhashim/Desktop/Monkey-Emotions/231023_gandalf_face_2-rahim-2023-10-26/videos/gandalf_231023_244_e3v83d6.mp4\n",
      "Created the symlink of /Users/rahimhashim/Desktop/Monkey-Emotions/video/gandalf_231023/gandalf_231023_245_e3v83d6.mp4 to /Users/rahimhashim/Desktop/Monkey-Emotions/231023_gandalf_face_2-rahim-2023-10-26/videos/gandalf_231023_245_e3v83d6.mp4\n",
      "Created the symlink of /Users/rahimhashim/Desktop/Monkey-Emotions/video/gandalf_231023/gandalf_231023_246_e3v83d6.mp4 to /Users/rahimhashim/Desktop/Monkey-Emotions/231023_gandalf_face_2-rahim-2023-10-26/videos/gandalf_231023_246_e3v83d6.mp4\n",
      "Created the symlink of /Users/rahimhashim/Desktop/Monkey-Emotions/video/gandalf_231023/gandalf_231023_247_e3v83d6.mp4 to /Users/rahimhashim/Desktop/Monkey-Emotions/231023_gandalf_face_2-rahim-2023-10-26/videos/gandalf_231023_247_e3v83d6.mp4\n",
      "Created the symlink of /Users/rahimhashim/Desktop/Monkey-Emotions/video/gandalf_231023/gandalf_231023_248_e3v83d6.mp4 to /Users/rahimhashim/Desktop/Monkey-Emotions/231023_gandalf_face_2-rahim-2023-10-26/videos/gandalf_231023_248_e3v83d6.mp4\n",
      "Created the symlink of /Users/rahimhashim/Desktop/Monkey-Emotions/video/gandalf_231023/gandalf_231023_249_e3v83d6.mp4 to /Users/rahimhashim/Desktop/Monkey-Emotions/231023_gandalf_face_2-rahim-2023-10-26/videos/gandalf_231023_249_e3v83d6.mp4\n",
      "Created the symlink of /Users/rahimhashim/Desktop/Monkey-Emotions/video/gandalf_231023/gandalf_231023_250_e3v83d6.mp4 to /Users/rahimhashim/Desktop/Monkey-Emotions/231023_gandalf_face_2-rahim-2023-10-26/videos/gandalf_231023_250_e3v83d6.mp4\n",
      "Created the symlink of /Users/rahimhashim/Desktop/Monkey-Emotions/video/gandalf_231023/gandalf_231023_251_e3v83d6.mp4 to /Users/rahimhashim/Desktop/Monkey-Emotions/231023_gandalf_face_2-rahim-2023-10-26/videos/gandalf_231023_251_e3v83d6.mp4\n",
      "Created the symlink of /Users/rahimhashim/Desktop/Monkey-Emotions/video/gandalf_231023/gandalf_231023_252_e3v83d6.mp4 to /Users/rahimhashim/Desktop/Monkey-Emotions/231023_gandalf_face_2-rahim-2023-10-26/videos/gandalf_231023_252_e3v83d6.mp4\n",
      "Created the symlink of /Users/rahimhashim/Desktop/Monkey-Emotions/video/gandalf_231023/gandalf_231023_253_e3v83d6.mp4 to /Users/rahimhashim/Desktop/Monkey-Emotions/231023_gandalf_face_2-rahim-2023-10-26/videos/gandalf_231023_253_e3v83d6.mp4\n",
      "Created the symlink of /Users/rahimhashim/Desktop/Monkey-Emotions/video/gandalf_231023/gandalf_231023_255_e3v83d6.mp4 to /Users/rahimhashim/Desktop/Monkey-Emotions/231023_gandalf_face_2-rahim-2023-10-26/videos/gandalf_231023_255_e3v83d6.mp4\n",
      "Created the symlink of /Users/rahimhashim/Desktop/Monkey-Emotions/video/gandalf_231023/gandalf_231023_256_e3v83d6.mp4 to /Users/rahimhashim/Desktop/Monkey-Emotions/231023_gandalf_face_2-rahim-2023-10-26/videos/gandalf_231023_256_e3v83d6.mp4\n",
      "Created the symlink of /Users/rahimhashim/Desktop/Monkey-Emotions/video/gandalf_231023/gandalf_231023_257_e3v83d6.mp4 to /Users/rahimhashim/Desktop/Monkey-Emotions/231023_gandalf_face_2-rahim-2023-10-26/videos/gandalf_231023_257_e3v83d6.mp4\n",
      "Created the symlink of /Users/rahimhashim/Desktop/Monkey-Emotions/video/gandalf_231023/gandalf_231023_258_e3v83d6.mp4 to /Users/rahimhashim/Desktop/Monkey-Emotions/231023_gandalf_face_2-rahim-2023-10-26/videos/gandalf_231023_258_e3v83d6.mp4\n",
      "Created the symlink of /Users/rahimhashim/Desktop/Monkey-Emotions/video/gandalf_231023/gandalf_231023_259_e3v83d6.mp4 to /Users/rahimhashim/Desktop/Monkey-Emotions/231023_gandalf_face_2-rahim-2023-10-26/videos/gandalf_231023_259_e3v83d6.mp4\n",
      "Video /Users/rahimhashim/Desktop/Monkey-Emotions/231023_gandalf_face_2-rahim-2023-10-26/videos/gandalf_231023_260_e3v83d6.mp4 already exists. Skipping...\n",
      "Created the symlink of /Users/rahimhashim/Desktop/Monkey-Emotions/video/gandalf_231023/gandalf_231023_261_e3v83d6.mp4 to /Users/rahimhashim/Desktop/Monkey-Emotions/231023_gandalf_face_2-rahim-2023-10-26/videos/gandalf_231023_261_e3v83d6.mp4\n",
      "Created the symlink of /Users/rahimhashim/Desktop/Monkey-Emotions/video/gandalf_231023/gandalf_231023_262_e3v83d6.mp4 to /Users/rahimhashim/Desktop/Monkey-Emotions/231023_gandalf_face_2-rahim-2023-10-26/videos/gandalf_231023_262_e3v83d6.mp4\n",
      "Created the symlink of /Users/rahimhashim/Desktop/Monkey-Emotions/video/gandalf_231023/gandalf_231023_263_e3v83d6.mp4 to /Users/rahimhashim/Desktop/Monkey-Emotions/231023_gandalf_face_2-rahim-2023-10-26/videos/gandalf_231023_263_e3v83d6.mp4\n",
      "Created the symlink of /Users/rahimhashim/Desktop/Monkey-Emotions/video/gandalf_231023/gandalf_231023_264_e3v83d6.mp4 to /Users/rahimhashim/Desktop/Monkey-Emotions/231023_gandalf_face_2-rahim-2023-10-26/videos/gandalf_231023_264_e3v83d6.mp4\n",
      "Created the symlink of /Users/rahimhashim/Desktop/Monkey-Emotions/video/gandalf_231023/gandalf_231023_265_e3v83d6.mp4 to /Users/rahimhashim/Desktop/Monkey-Emotions/231023_gandalf_face_2-rahim-2023-10-26/videos/gandalf_231023_265_e3v83d6.mp4\n",
      "Created the symlink of /Users/rahimhashim/Desktop/Monkey-Emotions/video/gandalf_231023/gandalf_231023_266_e3v83d6.mp4 to /Users/rahimhashim/Desktop/Monkey-Emotions/231023_gandalf_face_2-rahim-2023-10-26/videos/gandalf_231023_266_e3v83d6.mp4\n",
      "Created the symlink of /Users/rahimhashim/Desktop/Monkey-Emotions/video/gandalf_231023/gandalf_231023_267_e3v83d6.mp4 to /Users/rahimhashim/Desktop/Monkey-Emotions/231023_gandalf_face_2-rahim-2023-10-26/videos/gandalf_231023_267_e3v83d6.mp4\n",
      "Created the symlink of /Users/rahimhashim/Desktop/Monkey-Emotions/video/gandalf_231023/gandalf_231023_268_e3v83d6.mp4 to /Users/rahimhashim/Desktop/Monkey-Emotions/231023_gandalf_face_2-rahim-2023-10-26/videos/gandalf_231023_268_e3v83d6.mp4\n",
      "Created the symlink of /Users/rahimhashim/Desktop/Monkey-Emotions/video/gandalf_231023/gandalf_231023_269_e3v83d6.mp4 to /Users/rahimhashim/Desktop/Monkey-Emotions/231023_gandalf_face_2-rahim-2023-10-26/videos/gandalf_231023_269_e3v83d6.mp4\n",
      "Created the symlink of /Users/rahimhashim/Desktop/Monkey-Emotions/video/gandalf_231023/gandalf_231023_270_e3v83d6.mp4 to /Users/rahimhashim/Desktop/Monkey-Emotions/231023_gandalf_face_2-rahim-2023-10-26/videos/gandalf_231023_270_e3v83d6.mp4\n",
      "Created the symlink of /Users/rahimhashim/Desktop/Monkey-Emotions/video/gandalf_231023/gandalf_231023_271_e3v83d6.mp4 to /Users/rahimhashim/Desktop/Monkey-Emotions/231023_gandalf_face_2-rahim-2023-10-26/videos/gandalf_231023_271_e3v83d6.mp4\n",
      "Created the symlink of /Users/rahimhashim/Desktop/Monkey-Emotions/video/gandalf_231023/gandalf_231023_272_e3v83d6.mp4 to /Users/rahimhashim/Desktop/Monkey-Emotions/231023_gandalf_face_2-rahim-2023-10-26/videos/gandalf_231023_272_e3v83d6.mp4\n",
      "Created the symlink of /Users/rahimhashim/Desktop/Monkey-Emotions/video/gandalf_231023/gandalf_231023_273_e3v83d6.mp4 to /Users/rahimhashim/Desktop/Monkey-Emotions/231023_gandalf_face_2-rahim-2023-10-26/videos/gandalf_231023_273_e3v83d6.mp4\n",
      "Created the symlink of /Users/rahimhashim/Desktop/Monkey-Emotions/video/gandalf_231023/gandalf_231023_274_e3v83d6.mp4 to /Users/rahimhashim/Desktop/Monkey-Emotions/231023_gandalf_face_2-rahim-2023-10-26/videos/gandalf_231023_274_e3v83d6.mp4\n",
      "Created the symlink of /Users/rahimhashim/Desktop/Monkey-Emotions/video/gandalf_231023/gandalf_231023_275_e3v83d6.mp4 to /Users/rahimhashim/Desktop/Monkey-Emotions/231023_gandalf_face_2-rahim-2023-10-26/videos/gandalf_231023_275_e3v83d6.mp4\n",
      "Created the symlink of /Users/rahimhashim/Desktop/Monkey-Emotions/video/gandalf_231023/gandalf_231023_276_e3v83d6.mp4 to /Users/rahimhashim/Desktop/Monkey-Emotions/231023_gandalf_face_2-rahim-2023-10-26/videos/gandalf_231023_276_e3v83d6.mp4\n",
      "Created the symlink of /Users/rahimhashim/Desktop/Monkey-Emotions/video/gandalf_231023/gandalf_231023_277_e3v83d6.mp4 to /Users/rahimhashim/Desktop/Monkey-Emotions/231023_gandalf_face_2-rahim-2023-10-26/videos/gandalf_231023_277_e3v83d6.mp4\n",
      "Created the symlink of /Users/rahimhashim/Desktop/Monkey-Emotions/video/gandalf_231023/gandalf_231023_278_e3v83d6.mp4 to /Users/rahimhashim/Desktop/Monkey-Emotions/231023_gandalf_face_2-rahim-2023-10-26/videos/gandalf_231023_278_e3v83d6.mp4\n",
      "Created the symlink of /Users/rahimhashim/Desktop/Monkey-Emotions/video/gandalf_231023/gandalf_231023_279_e3v83d6.mp4 to /Users/rahimhashim/Desktop/Monkey-Emotions/231023_gandalf_face_2-rahim-2023-10-26/videos/gandalf_231023_279_e3v83d6.mp4\n",
      "Created the symlink of /Users/rahimhashim/Desktop/Monkey-Emotions/video/gandalf_231023/gandalf_231023_280_e3v83d6.mp4 to /Users/rahimhashim/Desktop/Monkey-Emotions/231023_gandalf_face_2-rahim-2023-10-26/videos/gandalf_231023_280_e3v83d6.mp4\n",
      "Created the symlink of /Users/rahimhashim/Desktop/Monkey-Emotions/video/gandalf_231023/gandalf_231023_281_e3v83d6.mp4 to /Users/rahimhashim/Desktop/Monkey-Emotions/231023_gandalf_face_2-rahim-2023-10-26/videos/gandalf_231023_281_e3v83d6.mp4\n",
      "Created the symlink of /Users/rahimhashim/Desktop/Monkey-Emotions/video/gandalf_231023/gandalf_231023_282_e3v83d6.mp4 to /Users/rahimhashim/Desktop/Monkey-Emotions/231023_gandalf_face_2-rahim-2023-10-26/videos/gandalf_231023_282_e3v83d6.mp4\n",
      "Created the symlink of /Users/rahimhashim/Desktop/Monkey-Emotions/video/gandalf_231023/gandalf_231023_283_e3v83d6.mp4 to /Users/rahimhashim/Desktop/Monkey-Emotions/231023_gandalf_face_2-rahim-2023-10-26/videos/gandalf_231023_283_e3v83d6.mp4\n",
      "Created the symlink of /Users/rahimhashim/Desktop/Monkey-Emotions/video/gandalf_231023/gandalf_231023_284_e3v83d6.mp4 to /Users/rahimhashim/Desktop/Monkey-Emotions/231023_gandalf_face_2-rahim-2023-10-26/videos/gandalf_231023_284_e3v83d6.mp4\n",
      "Created the symlink of /Users/rahimhashim/Desktop/Monkey-Emotions/video/gandalf_231023/gandalf_231023_285_e3v83d6.mp4 to /Users/rahimhashim/Desktop/Monkey-Emotions/231023_gandalf_face_2-rahim-2023-10-26/videos/gandalf_231023_285_e3v83d6.mp4\n",
      "Created the symlink of /Users/rahimhashim/Desktop/Monkey-Emotions/video/gandalf_231023/gandalf_231023_286_e3v83d6.mp4 to /Users/rahimhashim/Desktop/Monkey-Emotions/231023_gandalf_face_2-rahim-2023-10-26/videos/gandalf_231023_286_e3v83d6.mp4\n",
      "Created the symlink of /Users/rahimhashim/Desktop/Monkey-Emotions/video/gandalf_231023/gandalf_231023_287_e3v83d6.mp4 to /Users/rahimhashim/Desktop/Monkey-Emotions/231023_gandalf_face_2-rahim-2023-10-26/videos/gandalf_231023_287_e3v83d6.mp4\n",
      "Created the symlink of /Users/rahimhashim/Desktop/Monkey-Emotions/video/gandalf_231023/gandalf_231023_288_e3v83d6.mp4 to /Users/rahimhashim/Desktop/Monkey-Emotions/231023_gandalf_face_2-rahim-2023-10-26/videos/gandalf_231023_288_e3v83d6.mp4\n",
      "Created the symlink of /Users/rahimhashim/Desktop/Monkey-Emotions/video/gandalf_231023/gandalf_231023_289_e3v83d6.mp4 to /Users/rahimhashim/Desktop/Monkey-Emotions/231023_gandalf_face_2-rahim-2023-10-26/videos/gandalf_231023_289_e3v83d6.mp4\n",
      "Created the symlink of /Users/rahimhashim/Desktop/Monkey-Emotions/video/gandalf_231023/gandalf_231023_290_e3v83d6.mp4 to /Users/rahimhashim/Desktop/Monkey-Emotions/231023_gandalf_face_2-rahim-2023-10-26/videos/gandalf_231023_290_e3v83d6.mp4\n",
      "Created the symlink of /Users/rahimhashim/Desktop/Monkey-Emotions/video/gandalf_231023/gandalf_231023_291_e3v83d6.mp4 to /Users/rahimhashim/Desktop/Monkey-Emotions/231023_gandalf_face_2-rahim-2023-10-26/videos/gandalf_231023_291_e3v83d6.mp4\n",
      "Created the symlink of /Users/rahimhashim/Desktop/Monkey-Emotions/video/gandalf_231023/gandalf_231023_292_e3v83d6.mp4 to /Users/rahimhashim/Desktop/Monkey-Emotions/231023_gandalf_face_2-rahim-2023-10-26/videos/gandalf_231023_292_e3v83d6.mp4\n",
      "Created the symlink of /Users/rahimhashim/Desktop/Monkey-Emotions/video/gandalf_231023/gandalf_231023_293_e3v83d6.mp4 to /Users/rahimhashim/Desktop/Monkey-Emotions/231023_gandalf_face_2-rahim-2023-10-26/videos/gandalf_231023_293_e3v83d6.mp4\n",
      "Created the symlink of /Users/rahimhashim/Desktop/Monkey-Emotions/video/gandalf_231023/gandalf_231023_294_e3v83d6.mp4 to /Users/rahimhashim/Desktop/Monkey-Emotions/231023_gandalf_face_2-rahim-2023-10-26/videos/gandalf_231023_294_e3v83d6.mp4\n",
      "Created the symlink of /Users/rahimhashim/Desktop/Monkey-Emotions/video/gandalf_231023/gandalf_231023_295_e3v83d6.mp4 to /Users/rahimhashim/Desktop/Monkey-Emotions/231023_gandalf_face_2-rahim-2023-10-26/videos/gandalf_231023_295_e3v83d6.mp4\n",
      "Created the symlink of /Users/rahimhashim/Desktop/Monkey-Emotions/video/gandalf_231023/gandalf_231023_296_e3v83d6.mp4 to /Users/rahimhashim/Desktop/Monkey-Emotions/231023_gandalf_face_2-rahim-2023-10-26/videos/gandalf_231023_296_e3v83d6.mp4\n",
      "Created the symlink of /Users/rahimhashim/Desktop/Monkey-Emotions/video/gandalf_231023/gandalf_231023_297_e3v83d6.mp4 to /Users/rahimhashim/Desktop/Monkey-Emotions/231023_gandalf_face_2-rahim-2023-10-26/videos/gandalf_231023_297_e3v83d6.mp4\n",
      "Created the symlink of /Users/rahimhashim/Desktop/Monkey-Emotions/video/gandalf_231023/gandalf_231023_298_e3v83d6.mp4 to /Users/rahimhashim/Desktop/Monkey-Emotions/231023_gandalf_face_2-rahim-2023-10-26/videos/gandalf_231023_298_e3v83d6.mp4\n",
      "Created the symlink of /Users/rahimhashim/Desktop/Monkey-Emotions/video/gandalf_231023/gandalf_231023_299_e3v83d6.mp4 to /Users/rahimhashim/Desktop/Monkey-Emotions/231023_gandalf_face_2-rahim-2023-10-26/videos/gandalf_231023_299_e3v83d6.mp4\n",
      "Created the symlink of /Users/rahimhashim/Desktop/Monkey-Emotions/video/gandalf_231023/gandalf_231023_300_e3v83d6.mp4 to /Users/rahimhashim/Desktop/Monkey-Emotions/231023_gandalf_face_2-rahim-2023-10-26/videos/gandalf_231023_300_e3v83d6.mp4\n",
      "Created the symlink of /Users/rahimhashim/Desktop/Monkey-Emotions/video/gandalf_231023/gandalf_231023_301_e3v83d6.mp4 to /Users/rahimhashim/Desktop/Monkey-Emotions/231023_gandalf_face_2-rahim-2023-10-26/videos/gandalf_231023_301_e3v83d6.mp4\n",
      "Created the symlink of /Users/rahimhashim/Desktop/Monkey-Emotions/video/gandalf_231023/gandalf_231023_302_e3v83d6.mp4 to /Users/rahimhashim/Desktop/Monkey-Emotions/231023_gandalf_face_2-rahim-2023-10-26/videos/gandalf_231023_302_e3v83d6.mp4\n",
      "Created the symlink of /Users/rahimhashim/Desktop/Monkey-Emotions/video/gandalf_231023/gandalf_231023_303_e3v83d6.mp4 to /Users/rahimhashim/Desktop/Monkey-Emotions/231023_gandalf_face_2-rahim-2023-10-26/videos/gandalf_231023_303_e3v83d6.mp4\n",
      "Created the symlink of /Users/rahimhashim/Desktop/Monkey-Emotions/video/gandalf_231023/gandalf_231023_304_e3v83d6.mp4 to /Users/rahimhashim/Desktop/Monkey-Emotions/231023_gandalf_face_2-rahim-2023-10-26/videos/gandalf_231023_304_e3v83d6.mp4\n",
      "Created the symlink of /Users/rahimhashim/Desktop/Monkey-Emotions/video/gandalf_231023/gandalf_231023_305_e3v83d6.mp4 to /Users/rahimhashim/Desktop/Monkey-Emotions/231023_gandalf_face_2-rahim-2023-10-26/videos/gandalf_231023_305_e3v83d6.mp4\n",
      "Created the symlink of /Users/rahimhashim/Desktop/Monkey-Emotions/video/gandalf_231023/gandalf_231023_306_e3v83d6.mp4 to /Users/rahimhashim/Desktop/Monkey-Emotions/231023_gandalf_face_2-rahim-2023-10-26/videos/gandalf_231023_306_e3v83d6.mp4\n",
      "Created the symlink of /Users/rahimhashim/Desktop/Monkey-Emotions/video/gandalf_231023/gandalf_231023_307_e3v83d6.mp4 to /Users/rahimhashim/Desktop/Monkey-Emotions/231023_gandalf_face_2-rahim-2023-10-26/videos/gandalf_231023_307_e3v83d6.mp4\n",
      "Created the symlink of /Users/rahimhashim/Desktop/Monkey-Emotions/video/gandalf_231023/gandalf_231023_308_e3v83d6.mp4 to /Users/rahimhashim/Desktop/Monkey-Emotions/231023_gandalf_face_2-rahim-2023-10-26/videos/gandalf_231023_308_e3v83d6.mp4\n",
      "Created the symlink of /Users/rahimhashim/Desktop/Monkey-Emotions/video/gandalf_231023/gandalf_231023_309_e3v83d6.mp4 to /Users/rahimhashim/Desktop/Monkey-Emotions/231023_gandalf_face_2-rahim-2023-10-26/videos/gandalf_231023_309_e3v83d6.mp4\n",
      "Created the symlink of /Users/rahimhashim/Desktop/Monkey-Emotions/video/gandalf_231023/gandalf_231023_310_e3v83d6.mp4 to /Users/rahimhashim/Desktop/Monkey-Emotions/231023_gandalf_face_2-rahim-2023-10-26/videos/gandalf_231023_310_e3v83d6.mp4\n",
      "Created the symlink of /Users/rahimhashim/Desktop/Monkey-Emotions/video/gandalf_231023/gandalf_231023_311_e3v83d6.mp4 to /Users/rahimhashim/Desktop/Monkey-Emotions/231023_gandalf_face_2-rahim-2023-10-26/videos/gandalf_231023_311_e3v83d6.mp4\n",
      "Created the symlink of /Users/rahimhashim/Desktop/Monkey-Emotions/video/gandalf_231023/gandalf_231023_312_e3v83d6.mp4 to /Users/rahimhashim/Desktop/Monkey-Emotions/231023_gandalf_face_2-rahim-2023-10-26/videos/gandalf_231023_312_e3v83d6.mp4\n",
      "Created the symlink of /Users/rahimhashim/Desktop/Monkey-Emotions/video/gandalf_231023/gandalf_231023_313_e3v83d6.mp4 to /Users/rahimhashim/Desktop/Monkey-Emotions/231023_gandalf_face_2-rahim-2023-10-26/videos/gandalf_231023_313_e3v83d6.mp4\n",
      "Created the symlink of /Users/rahimhashim/Desktop/Monkey-Emotions/video/gandalf_231023/gandalf_231023_315_e3v83d6.mp4 to /Users/rahimhashim/Desktop/Monkey-Emotions/231023_gandalf_face_2-rahim-2023-10-26/videos/gandalf_231023_315_e3v83d6.mp4\n",
      "Created the symlink of /Users/rahimhashim/Desktop/Monkey-Emotions/video/gandalf_231023/gandalf_231023_316_e3v83d6.mp4 to /Users/rahimhashim/Desktop/Monkey-Emotions/231023_gandalf_face_2-rahim-2023-10-26/videos/gandalf_231023_316_e3v83d6.mp4\n",
      "Created the symlink of /Users/rahimhashim/Desktop/Monkey-Emotions/video/gandalf_231023/gandalf_231023_317_e3v83d6.mp4 to /Users/rahimhashim/Desktop/Monkey-Emotions/231023_gandalf_face_2-rahim-2023-10-26/videos/gandalf_231023_317_e3v83d6.mp4\n",
      "Created the symlink of /Users/rahimhashim/Desktop/Monkey-Emotions/video/gandalf_231023/gandalf_231023_318_e3v83d6.mp4 to /Users/rahimhashim/Desktop/Monkey-Emotions/231023_gandalf_face_2-rahim-2023-10-26/videos/gandalf_231023_318_e3v83d6.mp4\n",
      "Created the symlink of /Users/rahimhashim/Desktop/Monkey-Emotions/video/gandalf_231023/gandalf_231023_319_e3v83d6.mp4 to /Users/rahimhashim/Desktop/Monkey-Emotions/231023_gandalf_face_2-rahim-2023-10-26/videos/gandalf_231023_319_e3v83d6.mp4\n",
      "Created the symlink of /Users/rahimhashim/Desktop/Monkey-Emotions/video/gandalf_231023/gandalf_231023_320_e3v83d6.mp4 to /Users/rahimhashim/Desktop/Monkey-Emotions/231023_gandalf_face_2-rahim-2023-10-26/videos/gandalf_231023_320_e3v83d6.mp4\n",
      "Created the symlink of /Users/rahimhashim/Desktop/Monkey-Emotions/video/gandalf_231023/gandalf_231023_321_e3v83d6.mp4 to /Users/rahimhashim/Desktop/Monkey-Emotions/231023_gandalf_face_2-rahim-2023-10-26/videos/gandalf_231023_321_e3v83d6.mp4\n",
      "Created the symlink of /Users/rahimhashim/Desktop/Monkey-Emotions/video/gandalf_231023/gandalf_231023_322_e3v83d6.mp4 to /Users/rahimhashim/Desktop/Monkey-Emotions/231023_gandalf_face_2-rahim-2023-10-26/videos/gandalf_231023_322_e3v83d6.mp4\n",
      "Created the symlink of /Users/rahimhashim/Desktop/Monkey-Emotions/video/gandalf_231023/gandalf_231023_323_e3v83d6.mp4 to /Users/rahimhashim/Desktop/Monkey-Emotions/231023_gandalf_face_2-rahim-2023-10-26/videos/gandalf_231023_323_e3v83d6.mp4\n",
      "Created the symlink of /Users/rahimhashim/Desktop/Monkey-Emotions/video/gandalf_231023/gandalf_231023_324_e3v83d6.mp4 to /Users/rahimhashim/Desktop/Monkey-Emotions/231023_gandalf_face_2-rahim-2023-10-26/videos/gandalf_231023_324_e3v83d6.mp4\n",
      "Created the symlink of /Users/rahimhashim/Desktop/Monkey-Emotions/video/gandalf_231023/gandalf_231023_325_e3v83d6.mp4 to /Users/rahimhashim/Desktop/Monkey-Emotions/231023_gandalf_face_2-rahim-2023-10-26/videos/gandalf_231023_325_e3v83d6.mp4\n",
      "Created the symlink of /Users/rahimhashim/Desktop/Monkey-Emotions/video/gandalf_231023/gandalf_231023_326_e3v83d6.mp4 to /Users/rahimhashim/Desktop/Monkey-Emotions/231023_gandalf_face_2-rahim-2023-10-26/videos/gandalf_231023_326_e3v83d6.mp4\n",
      "Created the symlink of /Users/rahimhashim/Desktop/Monkey-Emotions/video/gandalf_231023/gandalf_231023_327_e3v83d6.mp4 to /Users/rahimhashim/Desktop/Monkey-Emotions/231023_gandalf_face_2-rahim-2023-10-26/videos/gandalf_231023_327_e3v83d6.mp4\n",
      "Created the symlink of /Users/rahimhashim/Desktop/Monkey-Emotions/video/gandalf_231023/gandalf_231023_328_e3v83d6.mp4 to /Users/rahimhashim/Desktop/Monkey-Emotions/231023_gandalf_face_2-rahim-2023-10-26/videos/gandalf_231023_328_e3v83d6.mp4\n",
      "New videos were added to the project! Use the function 'extract_frames' to select frames for labeling.\n",
      "Using snapshot-1030000 for model /Users/rahimhashim/Desktop/Monkey-Emotions/231023_gandalf_face_2-rahim-2023-10-26/dlc-models/iteration-0/231023_gandalf_face_2Oct26-trainset95shuffle1\n"
     ]
    },
    {
     "name": "stderr",
     "output_type": "stream",
     "text": [
      "/Users/rahimhashim/miniconda3/envs/DEEPLABCUT_M1/lib/python3.9/site-packages/tensorflow/python/keras/engine/base_layer_v1.py:1694: UserWarning: `layer.apply` is deprecated and will be removed in a future version. Please use `layer.__call__` method instead.\n",
      "  warnings.warn('`layer.apply` is deprecated and '\n"
     ]
    },
    {
     "name": "stdout",
     "output_type": "stream",
     "text": [
      "Starting to analyze %  /Users/rahimhashim/Desktop/Monkey-Emotions/video/gandalf_231023/gandalf_231023_0_e3v83d6.mp4\n",
      "Loading  /Users/rahimhashim/Desktop/Monkey-Emotions/video/gandalf_231023/gandalf_231023_0_e3v83d6.mp4\n",
      "Duration of video [s]:  9.11 , recorded with  120.0 fps!\n",
      "Overall # of frames:  1093  found with (before cropping) frame dimensions:  640 480\n",
      "Starting to extract posture\n"
     ]
    },
    {
     "name": "stderr",
     "output_type": "stream",
     "text": [
      "100%|██████████| 1093/1093 [01:09<00:00, 15.67it/s]\n"
     ]
    },
    {
     "name": "stdout",
     "output_type": "stream",
     "text": [
      "Saving results in /Users/rahimhashim/Desktop/Monkey-Emotions/video/gandalf_231023...\n",
      "Saving csv poses!\n",
      "Starting to analyze %  /Users/rahimhashim/Desktop/Monkey-Emotions/video/gandalf_231023/gandalf_231023_1_e3v83d6.mp4\n",
      "Loading  /Users/rahimhashim/Desktop/Monkey-Emotions/video/gandalf_231023/gandalf_231023_1_e3v83d6.mp4\n",
      "Duration of video [s]:  13.24 , recorded with  120.0 fps!\n",
      "Overall # of frames:  1589  found with (before cropping) frame dimensions:  640 480\n",
      "Starting to extract posture\n"
     ]
    },
    {
     "name": "stderr",
     "output_type": "stream",
     "text": [
      "100%|██████████| 1589/1589 [01:32<00:00, 17.12it/s]\n"
     ]
    },
    {
     "name": "stdout",
     "output_type": "stream",
     "text": [
      "Saving results in /Users/rahimhashim/Desktop/Monkey-Emotions/video/gandalf_231023...\n",
      "Saving csv poses!\n",
      "Starting to analyze %  /Users/rahimhashim/Desktop/Monkey-Emotions/video/gandalf_231023/gandalf_231023_2_e3v83d6.mp4\n",
      "Loading  /Users/rahimhashim/Desktop/Monkey-Emotions/video/gandalf_231023/gandalf_231023_2_e3v83d6.mp4\n",
      "Duration of video [s]:  16.36 , recorded with  120.0 fps!\n",
      "Overall # of frames:  1963  found with (before cropping) frame dimensions:  640 480\n",
      "Starting to extract posture\n"
     ]
    },
    {
     "name": "stderr",
     "output_type": "stream",
     "text": [
      "100%|██████████| 1963/1963 [01:53<00:00, 17.30it/s]\n"
     ]
    },
    {
     "name": "stdout",
     "output_type": "stream",
     "text": [
      "Saving results in /Users/rahimhashim/Desktop/Monkey-Emotions/video/gandalf_231023...\n",
      "Saving csv poses!\n",
      "Starting to analyze %  /Users/rahimhashim/Desktop/Monkey-Emotions/video/gandalf_231023/gandalf_231023_3_e3v83d6.mp4\n",
      "Loading  /Users/rahimhashim/Desktop/Monkey-Emotions/video/gandalf_231023/gandalf_231023_3_e3v83d6.mp4\n",
      "Duration of video [s]:  13.17 , recorded with  120.0 fps!\n",
      "Overall # of frames:  1580  found with (before cropping) frame dimensions:  640 480\n",
      "Starting to extract posture\n"
     ]
    },
    {
     "name": "stderr",
     "output_type": "stream",
     "text": [
      "100%|██████████| 1580/1580 [01:31<00:00, 17.18it/s]\n"
     ]
    },
    {
     "name": "stdout",
     "output_type": "stream",
     "text": [
      "Saving results in /Users/rahimhashim/Desktop/Monkey-Emotions/video/gandalf_231023...\n",
      "Saving csv poses!\n",
      "Starting to analyze %  /Users/rahimhashim/Desktop/Monkey-Emotions/video/gandalf_231023/gandalf_231023_4_e3v83d6.mp4\n",
      "Loading  /Users/rahimhashim/Desktop/Monkey-Emotions/video/gandalf_231023/gandalf_231023_4_e3v83d6.mp4\n",
      "Duration of video [s]:  16.51 , recorded with  120.0 fps!\n",
      "Overall # of frames:  1981  found with (before cropping) frame dimensions:  640 480\n",
      "Starting to extract posture\n"
     ]
    },
    {
     "name": "stderr",
     "output_type": "stream",
     "text": [
      "100%|██████████| 1981/1981 [01:55<00:00, 17.20it/s]\n"
     ]
    },
    {
     "name": "stdout",
     "output_type": "stream",
     "text": [
      "Saving results in /Users/rahimhashim/Desktop/Monkey-Emotions/video/gandalf_231023...\n",
      "Saving csv poses!\n",
      "Starting to analyze %  /Users/rahimhashim/Desktop/Monkey-Emotions/video/gandalf_231023/gandalf_231023_5_e3v83d6.mp4\n",
      "Loading  /Users/rahimhashim/Desktop/Monkey-Emotions/video/gandalf_231023/gandalf_231023_5_e3v83d6.mp4\n",
      "Duration of video [s]:  14.33 , recorded with  120.0 fps!\n",
      "Overall # of frames:  1720  found with (before cropping) frame dimensions:  640 480\n",
      "Starting to extract posture\n"
     ]
    },
    {
     "name": "stderr",
     "output_type": "stream",
     "text": [
      "100%|██████████| 1720/1720 [01:36<00:00, 17.84it/s]\n"
     ]
    },
    {
     "name": "stdout",
     "output_type": "stream",
     "text": [
      "Saving results in /Users/rahimhashim/Desktop/Monkey-Emotions/video/gandalf_231023...\n",
      "Saving csv poses!\n",
      "Starting to analyze %  /Users/rahimhashim/Desktop/Monkey-Emotions/video/gandalf_231023/gandalf_231023_6_e3v83d6.mp4\n",
      "Loading  /Users/rahimhashim/Desktop/Monkey-Emotions/video/gandalf_231023/gandalf_231023_6_e3v83d6.mp4\n",
      "Duration of video [s]:  12.2 , recorded with  120.0 fps!\n",
      "Overall # of frames:  1464  found with (before cropping) frame dimensions:  640 480\n",
      "Starting to extract posture\n"
     ]
    },
    {
     "name": "stderr",
     "output_type": "stream",
     "text": [
      "100%|██████████| 1464/1464 [01:23<00:00, 17.55it/s]\n"
     ]
    },
    {
     "name": "stdout",
     "output_type": "stream",
     "text": [
      "Saving results in /Users/rahimhashim/Desktop/Monkey-Emotions/video/gandalf_231023...\n",
      "Saving csv poses!\n",
      "Starting to analyze %  /Users/rahimhashim/Desktop/Monkey-Emotions/video/gandalf_231023/gandalf_231023_7_e3v83d6.mp4\n",
      "Loading  /Users/rahimhashim/Desktop/Monkey-Emotions/video/gandalf_231023/gandalf_231023_7_e3v83d6.mp4\n",
      "Duration of video [s]:  13.48 , recorded with  120.0 fps!\n",
      "Overall # of frames:  1618  found with (before cropping) frame dimensions:  640 480\n",
      "Starting to extract posture\n"
     ]
    },
    {
     "name": "stderr",
     "output_type": "stream",
     "text": [
      "100%|██████████| 1618/1618 [01:33<00:00, 17.29it/s]\n"
     ]
    },
    {
     "name": "stdout",
     "output_type": "stream",
     "text": [
      "Saving results in /Users/rahimhashim/Desktop/Monkey-Emotions/video/gandalf_231023...\n",
      "Saving csv poses!\n",
      "Starting to analyze %  /Users/rahimhashim/Desktop/Monkey-Emotions/video/gandalf_231023/gandalf_231023_8_e3v83d6.mp4\n",
      "Loading  /Users/rahimhashim/Desktop/Monkey-Emotions/video/gandalf_231023/gandalf_231023_8_e3v83d6.mp4\n",
      "Duration of video [s]:  13.02 , recorded with  120.0 fps!\n",
      "Overall # of frames:  1562  found with (before cropping) frame dimensions:  640 480\n",
      "Starting to extract posture\n"
     ]
    },
    {
     "name": "stderr",
     "output_type": "stream",
     "text": [
      "100%|██████████| 1562/1562 [01:31<00:00, 17.00it/s]\n"
     ]
    },
    {
     "name": "stdout",
     "output_type": "stream",
     "text": [
      "Saving results in /Users/rahimhashim/Desktop/Monkey-Emotions/video/gandalf_231023...\n",
      "Saving csv poses!\n",
      "Starting to analyze %  /Users/rahimhashim/Desktop/Monkey-Emotions/video/gandalf_231023/gandalf_231023_9_e3v83d6.mp4\n",
      "Loading  /Users/rahimhashim/Desktop/Monkey-Emotions/video/gandalf_231023/gandalf_231023_9_e3v83d6.mp4\n",
      "Duration of video [s]:  15.27 , recorded with  120.0 fps!\n",
      "Overall # of frames:  1832  found with (before cropping) frame dimensions:  640 480\n",
      "Starting to extract posture\n"
     ]
    },
    {
     "name": "stderr",
     "output_type": "stream",
     "text": [
      "100%|██████████| 1832/1832 [01:46<00:00, 17.18it/s]\n"
     ]
    },
    {
     "name": "stdout",
     "output_type": "stream",
     "text": [
      "Saving results in /Users/rahimhashim/Desktop/Monkey-Emotions/video/gandalf_231023...\n",
      "Saving csv poses!\n",
      "Starting to analyze %  /Users/rahimhashim/Desktop/Monkey-Emotions/video/gandalf_231023/gandalf_231023_10_e3v83d6.mp4\n",
      "Loading  /Users/rahimhashim/Desktop/Monkey-Emotions/video/gandalf_231023/gandalf_231023_10_e3v83d6.mp4\n",
      "Duration of video [s]:  14.97 , recorded with  120.0 fps!\n",
      "Overall # of frames:  1796  found with (before cropping) frame dimensions:  640 480\n",
      "Starting to extract posture\n"
     ]
    },
    {
     "name": "stderr",
     "output_type": "stream",
     "text": [
      "100%|██████████| 1796/1796 [01:44<00:00, 17.18it/s]\n"
     ]
    },
    {
     "name": "stdout",
     "output_type": "stream",
     "text": [
      "Saving results in /Users/rahimhashim/Desktop/Monkey-Emotions/video/gandalf_231023...\n",
      "Saving csv poses!\n",
      "Starting to analyze %  /Users/rahimhashim/Desktop/Monkey-Emotions/video/gandalf_231023/gandalf_231023_11_e3v83d6.mp4\n",
      "Loading  /Users/rahimhashim/Desktop/Monkey-Emotions/video/gandalf_231023/gandalf_231023_11_e3v83d6.mp4\n",
      "Duration of video [s]:  13.88 , recorded with  120.0 fps!\n",
      "Overall # of frames:  1666  found with (before cropping) frame dimensions:  640 480\n",
      "Starting to extract posture\n"
     ]
    },
    {
     "name": "stderr",
     "output_type": "stream",
     "text": [
      "100%|██████████| 1666/1666 [01:38<00:00, 16.90it/s]\n"
     ]
    },
    {
     "name": "stdout",
     "output_type": "stream",
     "text": [
      "Saving results in /Users/rahimhashim/Desktop/Monkey-Emotions/video/gandalf_231023...\n",
      "Saving csv poses!\n",
      "Starting to analyze %  /Users/rahimhashim/Desktop/Monkey-Emotions/video/gandalf_231023/gandalf_231023_12_e3v83d6.mp4\n",
      "Loading  /Users/rahimhashim/Desktop/Monkey-Emotions/video/gandalf_231023/gandalf_231023_12_e3v83d6.mp4\n",
      "Duration of video [s]:  11.56 , recorded with  120.0 fps!\n",
      "Overall # of frames:  1387  found with (before cropping) frame dimensions:  640 480\n",
      "Starting to extract posture\n"
     ]
    },
    {
     "name": "stderr",
     "output_type": "stream",
     "text": [
      "100%|██████████| 1387/1387 [01:31<00:00, 15.08it/s]\n"
     ]
    },
    {
     "name": "stdout",
     "output_type": "stream",
     "text": [
      "Saving results in /Users/rahimhashim/Desktop/Monkey-Emotions/video/gandalf_231023...\n",
      "Saving csv poses!\n",
      "Starting to analyze %  /Users/rahimhashim/Desktop/Monkey-Emotions/video/gandalf_231023/gandalf_231023_13_e3v83d6.mp4\n",
      "Loading  /Users/rahimhashim/Desktop/Monkey-Emotions/video/gandalf_231023/gandalf_231023_13_e3v83d6.mp4\n",
      "Duration of video [s]:  16.36 , recorded with  120.0 fps!\n",
      "Overall # of frames:  1963  found with (before cropping) frame dimensions:  640 480\n",
      "Starting to extract posture\n"
     ]
    },
    {
     "name": "stderr",
     "output_type": "stream",
     "text": [
      "100%|██████████| 1963/1963 [01:53<00:00, 17.27it/s]\n"
     ]
    },
    {
     "name": "stdout",
     "output_type": "stream",
     "text": [
      "Saving results in /Users/rahimhashim/Desktop/Monkey-Emotions/video/gandalf_231023...\n",
      "Saving csv poses!\n",
      "Starting to analyze %  /Users/rahimhashim/Desktop/Monkey-Emotions/video/gandalf_231023/gandalf_231023_14_e3v83d6.mp4\n",
      "Loading  /Users/rahimhashim/Desktop/Monkey-Emotions/video/gandalf_231023/gandalf_231023_14_e3v83d6.mp4\n",
      "Duration of video [s]:  16.66 , recorded with  120.0 fps!\n",
      "Overall # of frames:  1999  found with (before cropping) frame dimensions:  640 480\n",
      "Starting to extract posture\n"
     ]
    },
    {
     "name": "stderr",
     "output_type": "stream",
     "text": [
      "100%|██████████| 1999/1999 [01:56<00:00, 17.21it/s]\n"
     ]
    },
    {
     "name": "stdout",
     "output_type": "stream",
     "text": [
      "Saving results in /Users/rahimhashim/Desktop/Monkey-Emotions/video/gandalf_231023...\n",
      "Saving csv poses!\n",
      "Starting to analyze %  /Users/rahimhashim/Desktop/Monkey-Emotions/video/gandalf_231023/gandalf_231023_15_e3v83d6.mp4\n",
      "Loading  /Users/rahimhashim/Desktop/Monkey-Emotions/video/gandalf_231023/gandalf_231023_15_e3v83d6.mp4\n",
      "Duration of video [s]:  25.16 , recorded with  120.0 fps!\n",
      "Overall # of frames:  3019  found with (before cropping) frame dimensions:  640 480\n",
      "Starting to extract posture\n"
     ]
    },
    {
     "name": "stderr",
     "output_type": "stream",
     "text": [
      "100%|██████████| 3019/3019 [02:50<00:00, 17.68it/s]\n"
     ]
    },
    {
     "name": "stdout",
     "output_type": "stream",
     "text": [
      "Saving results in /Users/rahimhashim/Desktop/Monkey-Emotions/video/gandalf_231023...\n",
      "Saving csv poses!\n",
      "Starting to analyze %  /Users/rahimhashim/Desktop/Monkey-Emotions/video/gandalf_231023/gandalf_231023_16_e3v83d6.mp4\n",
      "Loading  /Users/rahimhashim/Desktop/Monkey-Emotions/video/gandalf_231023/gandalf_231023_16_e3v83d6.mp4\n",
      "Duration of video [s]:  15.21 , recorded with  120.0 fps!\n",
      "Overall # of frames:  1825  found with (before cropping) frame dimensions:  640 480\n",
      "Starting to extract posture\n"
     ]
    },
    {
     "name": "stderr",
     "output_type": "stream",
     "text": [
      "100%|██████████| 1825/1825 [01:45<00:00, 17.23it/s]\n"
     ]
    },
    {
     "name": "stdout",
     "output_type": "stream",
     "text": [
      "Saving results in /Users/rahimhashim/Desktop/Monkey-Emotions/video/gandalf_231023...\n",
      "Saving csv poses!\n",
      "Starting to analyze %  /Users/rahimhashim/Desktop/Monkey-Emotions/video/gandalf_231023/gandalf_231023_17_e3v83d6.mp4\n",
      "Loading  /Users/rahimhashim/Desktop/Monkey-Emotions/video/gandalf_231023/gandalf_231023_17_e3v83d6.mp4\n",
      "Duration of video [s]:  14.13 , recorded with  120.0 fps!\n",
      "Overall # of frames:  1696  found with (before cropping) frame dimensions:  640 480\n",
      "Starting to extract posture\n"
     ]
    },
    {
     "name": "stderr",
     "output_type": "stream",
     "text": [
      "100%|██████████| 1696/1696 [01:37<00:00, 17.32it/s]\n"
     ]
    },
    {
     "name": "stdout",
     "output_type": "stream",
     "text": [
      "Saving results in /Users/rahimhashim/Desktop/Monkey-Emotions/video/gandalf_231023...\n",
      "Saving csv poses!\n",
      "Starting to analyze %  /Users/rahimhashim/Desktop/Monkey-Emotions/video/gandalf_231023/gandalf_231023_18_e3v83d6.mp4\n",
      "Loading  /Users/rahimhashim/Desktop/Monkey-Emotions/video/gandalf_231023/gandalf_231023_18_e3v83d6.mp4\n",
      "Duration of video [s]:  14.97 , recorded with  120.0 fps!\n",
      "Overall # of frames:  1796  found with (before cropping) frame dimensions:  640 480\n",
      "Starting to extract posture\n"
     ]
    },
    {
     "name": "stderr",
     "output_type": "stream",
     "text": [
      "100%|██████████| 1796/1796 [01:44<00:00, 17.21it/s]\n"
     ]
    },
    {
     "name": "stdout",
     "output_type": "stream",
     "text": [
      "Saving results in /Users/rahimhashim/Desktop/Monkey-Emotions/video/gandalf_231023...\n",
      "Saving csv poses!\n",
      "Starting to analyze %  /Users/rahimhashim/Desktop/Monkey-Emotions/video/gandalf_231023/gandalf_231023_19_e3v83d6.mp4\n",
      "Loading  /Users/rahimhashim/Desktop/Monkey-Emotions/video/gandalf_231023/gandalf_231023_19_e3v83d6.mp4\n",
      "Duration of video [s]:  10.28 , recorded with  120.0 fps!\n",
      "Overall # of frames:  1234  found with (before cropping) frame dimensions:  640 480\n",
      "Starting to extract posture\n"
     ]
    },
    {
     "name": "stderr",
     "output_type": "stream",
     "text": [
      "100%|██████████| 1234/1234 [01:17<00:00, 15.96it/s]\n"
     ]
    },
    {
     "name": "stdout",
     "output_type": "stream",
     "text": [
      "Saving results in /Users/rahimhashim/Desktop/Monkey-Emotions/video/gandalf_231023...\n",
      "Saving csv poses!\n",
      "Starting to analyze %  /Users/rahimhashim/Desktop/Monkey-Emotions/video/gandalf_231023/gandalf_231023_20_e3v83d6.mp4\n",
      "Loading  /Users/rahimhashim/Desktop/Monkey-Emotions/video/gandalf_231023/gandalf_231023_20_e3v83d6.mp4\n",
      "Duration of video [s]:  16.74 , recorded with  120.0 fps!\n",
      "Overall # of frames:  2009  found with (before cropping) frame dimensions:  640 480\n",
      "Starting to extract posture\n"
     ]
    },
    {
     "name": "stderr",
     "output_type": "stream",
     "text": [
      "100%|██████████| 2009/2009 [01:58<00:00, 16.95it/s]\n"
     ]
    },
    {
     "name": "stdout",
     "output_type": "stream",
     "text": [
      "Saving results in /Users/rahimhashim/Desktop/Monkey-Emotions/video/gandalf_231023...\n",
      "Saving csv poses!\n",
      "Starting to analyze %  /Users/rahimhashim/Desktop/Monkey-Emotions/video/gandalf_231023/gandalf_231023_21_e3v83d6.mp4\n",
      "Loading  /Users/rahimhashim/Desktop/Monkey-Emotions/video/gandalf_231023/gandalf_231023_21_e3v83d6.mp4\n",
      "Duration of video [s]:  11.43 , recorded with  120.0 fps!\n",
      "Overall # of frames:  1372  found with (before cropping) frame dimensions:  640 480\n",
      "Starting to extract posture\n"
     ]
    },
    {
     "name": "stderr",
     "output_type": "stream",
     "text": [
      "100%|██████████| 1372/1372 [01:24<00:00, 16.19it/s]\n"
     ]
    },
    {
     "name": "stdout",
     "output_type": "stream",
     "text": [
      "Saving results in /Users/rahimhashim/Desktop/Monkey-Emotions/video/gandalf_231023...\n",
      "Saving csv poses!\n",
      "Starting to analyze %  /Users/rahimhashim/Desktop/Monkey-Emotions/video/gandalf_231023/gandalf_231023_22_e3v83d6.mp4\n",
      "Loading  /Users/rahimhashim/Desktop/Monkey-Emotions/video/gandalf_231023/gandalf_231023_22_e3v83d6.mp4\n",
      "Duration of video [s]:  10.9 , recorded with  120.0 fps!\n",
      "Overall # of frames:  1308  found with (before cropping) frame dimensions:  640 480\n",
      "Starting to extract posture\n"
     ]
    },
    {
     "name": "stderr",
     "output_type": "stream",
     "text": [
      "100%|██████████| 1308/1308 [01:24<00:00, 15.46it/s]\n"
     ]
    },
    {
     "name": "stdout",
     "output_type": "stream",
     "text": [
      "Saving results in /Users/rahimhashim/Desktop/Monkey-Emotions/video/gandalf_231023...\n",
      "Saving csv poses!\n",
      "Starting to analyze %  /Users/rahimhashim/Desktop/Monkey-Emotions/video/gandalf_231023/gandalf_231023_23_e3v83d6.mp4\n",
      "Loading  /Users/rahimhashim/Desktop/Monkey-Emotions/video/gandalf_231023/gandalf_231023_23_e3v83d6.mp4\n",
      "Duration of video [s]:  13.3 , recorded with  120.0 fps!\n",
      "Overall # of frames:  1596  found with (before cropping) frame dimensions:  640 480\n",
      "Starting to extract posture\n"
     ]
    },
    {
     "name": "stderr",
     "output_type": "stream",
     "text": [
      "100%|██████████| 1596/1596 [01:39<00:00, 16.03it/s]\n"
     ]
    },
    {
     "name": "stdout",
     "output_type": "stream",
     "text": [
      "Saving results in /Users/rahimhashim/Desktop/Monkey-Emotions/video/gandalf_231023...\n",
      "Saving csv poses!\n",
      "Starting to analyze %  /Users/rahimhashim/Desktop/Monkey-Emotions/video/gandalf_231023/gandalf_231023_24_e3v83d6.mp4\n",
      "Loading  /Users/rahimhashim/Desktop/Monkey-Emotions/video/gandalf_231023/gandalf_231023_24_e3v83d6.mp4\n",
      "Duration of video [s]:  15.14 , recorded with  120.0 fps!\n",
      "Overall # of frames:  1817  found with (before cropping) frame dimensions:  640 480\n",
      "Starting to extract posture\n"
     ]
    },
    {
     "name": "stderr",
     "output_type": "stream",
     "text": [
      "100%|██████████| 1817/1817 [01:50<00:00, 16.43it/s]\n"
     ]
    },
    {
     "name": "stdout",
     "output_type": "stream",
     "text": [
      "Saving results in /Users/rahimhashim/Desktop/Monkey-Emotions/video/gandalf_231023...\n",
      "Saving csv poses!\n",
      "Starting to analyze %  /Users/rahimhashim/Desktop/Monkey-Emotions/video/gandalf_231023/gandalf_231023_25_e3v83d6.mp4\n",
      "Loading  /Users/rahimhashim/Desktop/Monkey-Emotions/video/gandalf_231023/gandalf_231023_25_e3v83d6.mp4\n",
      "Duration of video [s]:  15.03 , recorded with  120.0 fps!\n",
      "Overall # of frames:  1803  found with (before cropping) frame dimensions:  640 480\n",
      "Starting to extract posture\n"
     ]
    },
    {
     "name": "stderr",
     "output_type": "stream",
     "text": [
      "100%|██████████| 1803/1803 [01:47<00:00, 16.75it/s]\n"
     ]
    },
    {
     "name": "stdout",
     "output_type": "stream",
     "text": [
      "Saving results in /Users/rahimhashim/Desktop/Monkey-Emotions/video/gandalf_231023...\n",
      "Saving csv poses!\n",
      "Starting to analyze %  /Users/rahimhashim/Desktop/Monkey-Emotions/video/gandalf_231023/gandalf_231023_26_e3v83d6.mp4\n",
      "Loading  /Users/rahimhashim/Desktop/Monkey-Emotions/video/gandalf_231023/gandalf_231023_26_e3v83d6.mp4\n",
      "Duration of video [s]:  13.62 , recorded with  120.0 fps!\n",
      "Overall # of frames:  1635  found with (before cropping) frame dimensions:  640 480\n",
      "Starting to extract posture\n"
     ]
    },
    {
     "name": "stderr",
     "output_type": "stream",
     "text": [
      "100%|██████████| 1635/1635 [01:41<00:00, 16.04it/s]\n"
     ]
    },
    {
     "name": "stdout",
     "output_type": "stream",
     "text": [
      "Saving results in /Users/rahimhashim/Desktop/Monkey-Emotions/video/gandalf_231023...\n",
      "Saving csv poses!\n",
      "Starting to analyze %  /Users/rahimhashim/Desktop/Monkey-Emotions/video/gandalf_231023/gandalf_231023_27_e3v83d6.mp4\n",
      "Loading  /Users/rahimhashim/Desktop/Monkey-Emotions/video/gandalf_231023/gandalf_231023_27_e3v83d6.mp4\n",
      "Duration of video [s]:  15.34 , recorded with  120.0 fps!\n",
      "Overall # of frames:  1841  found with (before cropping) frame dimensions:  640 480\n",
      "Starting to extract posture\n"
     ]
    },
    {
     "name": "stderr",
     "output_type": "stream",
     "text": [
      "100%|██████████| 1841/1841 [01:49<00:00, 16.75it/s]\n"
     ]
    },
    {
     "name": "stdout",
     "output_type": "stream",
     "text": [
      "Saving results in /Users/rahimhashim/Desktop/Monkey-Emotions/video/gandalf_231023...\n",
      "Saving csv poses!\n",
      "Starting to analyze %  /Users/rahimhashim/Desktop/Monkey-Emotions/video/gandalf_231023/gandalf_231023_28_e3v83d6.mp4\n",
      "Loading  /Users/rahimhashim/Desktop/Monkey-Emotions/video/gandalf_231023/gandalf_231023_28_e3v83d6.mp4\n",
      "Duration of video [s]:  15.47 , recorded with  120.0 fps!\n",
      "Overall # of frames:  1856  found with (before cropping) frame dimensions:  640 480\n",
      "Starting to extract posture\n"
     ]
    },
    {
     "name": "stderr",
     "output_type": "stream",
     "text": [
      "100%|██████████| 1856/1856 [01:50<00:00, 16.85it/s]\n"
     ]
    },
    {
     "name": "stdout",
     "output_type": "stream",
     "text": [
      "Saving results in /Users/rahimhashim/Desktop/Monkey-Emotions/video/gandalf_231023...\n",
      "Saving csv poses!\n",
      "Starting to analyze %  /Users/rahimhashim/Desktop/Monkey-Emotions/video/gandalf_231023/gandalf_231023_29_e3v83d6.mp4\n",
      "Loading  /Users/rahimhashim/Desktop/Monkey-Emotions/video/gandalf_231023/gandalf_231023_29_e3v83d6.mp4\n",
      "Duration of video [s]:  12.5 , recorded with  120.0 fps!\n",
      "Overall # of frames:  1500  found with (before cropping) frame dimensions:  640 480\n",
      "Starting to extract posture\n"
     ]
    },
    {
     "name": "stderr",
     "output_type": "stream",
     "text": [
      "100%|██████████| 1500/1500 [01:32<00:00, 16.22it/s]\n"
     ]
    },
    {
     "name": "stdout",
     "output_type": "stream",
     "text": [
      "Saving results in /Users/rahimhashim/Desktop/Monkey-Emotions/video/gandalf_231023...\n",
      "Saving csv poses!\n",
      "Starting to analyze %  /Users/rahimhashim/Desktop/Monkey-Emotions/video/gandalf_231023/gandalf_231023_30_e3v83d6.mp4\n",
      "Loading  /Users/rahimhashim/Desktop/Monkey-Emotions/video/gandalf_231023/gandalf_231023_30_e3v83d6.mp4\n",
      "Duration of video [s]:  12.32 , recorded with  120.0 fps!\n",
      "Overall # of frames:  1478  found with (before cropping) frame dimensions:  640 480\n",
      "Starting to extract posture\n"
     ]
    },
    {
     "name": "stderr",
     "output_type": "stream",
     "text": [
      "100%|██████████| 1478/1478 [01:28<00:00, 16.66it/s]\n"
     ]
    },
    {
     "name": "stdout",
     "output_type": "stream",
     "text": [
      "Saving results in /Users/rahimhashim/Desktop/Monkey-Emotions/video/gandalf_231023...\n",
      "Saving csv poses!\n",
      "Starting to analyze %  /Users/rahimhashim/Desktop/Monkey-Emotions/video/gandalf_231023/gandalf_231023_31_e3v83d6.mp4\n",
      "Loading  /Users/rahimhashim/Desktop/Monkey-Emotions/video/gandalf_231023/gandalf_231023_31_e3v83d6.mp4\n",
      "Duration of video [s]:  15.16 , recorded with  120.0 fps!\n",
      "Overall # of frames:  1819  found with (before cropping) frame dimensions:  640 480\n",
      "Starting to extract posture\n"
     ]
    },
    {
     "name": "stderr",
     "output_type": "stream",
     "text": [
      "100%|██████████| 1819/1819 [01:46<00:00, 17.04it/s]\n"
     ]
    },
    {
     "name": "stdout",
     "output_type": "stream",
     "text": [
      "Saving results in /Users/rahimhashim/Desktop/Monkey-Emotions/video/gandalf_231023...\n",
      "Saving csv poses!\n",
      "Starting to analyze %  /Users/rahimhashim/Desktop/Monkey-Emotions/video/gandalf_231023/gandalf_231023_32_e3v83d6.mp4\n",
      "Loading  /Users/rahimhashim/Desktop/Monkey-Emotions/video/gandalf_231023/gandalf_231023_32_e3v83d6.mp4\n",
      "Duration of video [s]:  16.27 , recorded with  120.0 fps!\n",
      "Overall # of frames:  1952  found with (before cropping) frame dimensions:  640 480\n",
      "Starting to extract posture\n"
     ]
    },
    {
     "name": "stderr",
     "output_type": "stream",
     "text": [
      "100%|██████████| 1952/1952 [01:56<00:00, 16.73it/s]\n"
     ]
    },
    {
     "name": "stdout",
     "output_type": "stream",
     "text": [
      "Saving results in /Users/rahimhashim/Desktop/Monkey-Emotions/video/gandalf_231023...\n",
      "Saving csv poses!\n",
      "Starting to analyze %  /Users/rahimhashim/Desktop/Monkey-Emotions/video/gandalf_231023/gandalf_231023_33_e3v83d6.mp4\n",
      "Loading  /Users/rahimhashim/Desktop/Monkey-Emotions/video/gandalf_231023/gandalf_231023_33_e3v83d6.mp4\n",
      "Duration of video [s]:  17.79 , recorded with  120.0 fps!\n",
      "Overall # of frames:  2135  found with (before cropping) frame dimensions:  640 480\n",
      "Starting to extract posture\n"
     ]
    },
    {
     "name": "stderr",
     "output_type": "stream",
     "text": [
      "100%|██████████| 2135/2135 [02:03<00:00, 17.30it/s]\n"
     ]
    },
    {
     "name": "stdout",
     "output_type": "stream",
     "text": [
      "Saving results in /Users/rahimhashim/Desktop/Monkey-Emotions/video/gandalf_231023...\n",
      "Saving csv poses!\n",
      "Starting to analyze %  /Users/rahimhashim/Desktop/Monkey-Emotions/video/gandalf_231023/gandalf_231023_34_e3v83d6.mp4\n",
      "Loading  /Users/rahimhashim/Desktop/Monkey-Emotions/video/gandalf_231023/gandalf_231023_34_e3v83d6.mp4\n",
      "Duration of video [s]:  12.34 , recorded with  120.0 fps!\n",
      "Overall # of frames:  1481  found with (before cropping) frame dimensions:  640 480\n",
      "Starting to extract posture\n"
     ]
    },
    {
     "name": "stderr",
     "output_type": "stream",
     "text": [
      "100%|██████████| 1481/1481 [01:30<00:00, 16.43it/s]\n"
     ]
    },
    {
     "name": "stdout",
     "output_type": "stream",
     "text": [
      "Saving results in /Users/rahimhashim/Desktop/Monkey-Emotions/video/gandalf_231023...\n",
      "Saving csv poses!\n",
      "Starting to analyze %  /Users/rahimhashim/Desktop/Monkey-Emotions/video/gandalf_231023/gandalf_231023_35_e3v83d6.mp4\n",
      "Loading  /Users/rahimhashim/Desktop/Monkey-Emotions/video/gandalf_231023/gandalf_231023_35_e3v83d6.mp4\n",
      "Duration of video [s]:  16.42 , recorded with  120.0 fps!\n",
      "Overall # of frames:  1970  found with (before cropping) frame dimensions:  640 480\n",
      "Starting to extract posture\n"
     ]
    },
    {
     "name": "stderr",
     "output_type": "stream",
     "text": [
      "100%|██████████| 1970/1970 [03:30<00:00,  9.37it/s]\n"
     ]
    },
    {
     "name": "stdout",
     "output_type": "stream",
     "text": [
      "Saving results in /Users/rahimhashim/Desktop/Monkey-Emotions/video/gandalf_231023...\n",
      "Saving csv poses!\n",
      "Starting to analyze %  /Users/rahimhashim/Desktop/Monkey-Emotions/video/gandalf_231023/gandalf_231023_36_e3v83d6.mp4\n",
      "Loading  /Users/rahimhashim/Desktop/Monkey-Emotions/video/gandalf_231023/gandalf_231023_36_e3v83d6.mp4\n",
      "Duration of video [s]:  15.23 , recorded with  120.0 fps!\n",
      "Overall # of frames:  1828  found with (before cropping) frame dimensions:  640 480\n",
      "Starting to extract posture\n"
     ]
    },
    {
     "name": "stderr",
     "output_type": "stream",
     "text": [
      "100%|██████████| 1828/1828 [01:54<00:00, 15.98it/s]\n"
     ]
    },
    {
     "name": "stdout",
     "output_type": "stream",
     "text": [
      "Saving results in /Users/rahimhashim/Desktop/Monkey-Emotions/video/gandalf_231023...\n",
      "Saving csv poses!\n",
      "Starting to analyze %  /Users/rahimhashim/Desktop/Monkey-Emotions/video/gandalf_231023/gandalf_231023_37_e3v83d6.mp4\n",
      "Loading  /Users/rahimhashim/Desktop/Monkey-Emotions/video/gandalf_231023/gandalf_231023_37_e3v83d6.mp4\n",
      "Duration of video [s]:  15.82 , recorded with  120.0 fps!\n",
      "Overall # of frames:  1898  found with (before cropping) frame dimensions:  640 480\n",
      "Starting to extract posture\n"
     ]
    },
    {
     "name": "stderr",
     "output_type": "stream",
     "text": [
      "100%|██████████| 1898/1898 [01:55<00:00, 16.48it/s]\n"
     ]
    },
    {
     "name": "stdout",
     "output_type": "stream",
     "text": [
      "Saving results in /Users/rahimhashim/Desktop/Monkey-Emotions/video/gandalf_231023...\n",
      "Saving csv poses!\n",
      "Starting to analyze %  /Users/rahimhashim/Desktop/Monkey-Emotions/video/gandalf_231023/gandalf_231023_38_e3v83d6.mp4\n",
      "Loading  /Users/rahimhashim/Desktop/Monkey-Emotions/video/gandalf_231023/gandalf_231023_38_e3v83d6.mp4\n",
      "Duration of video [s]:  14.72 , recorded with  120.0 fps!\n",
      "Overall # of frames:  1767  found with (before cropping) frame dimensions:  640 480\n",
      "Starting to extract posture\n"
     ]
    },
    {
     "name": "stderr",
     "output_type": "stream",
     "text": [
      "100%|██████████| 1767/1767 [01:46<00:00, 16.58it/s]\n"
     ]
    },
    {
     "name": "stdout",
     "output_type": "stream",
     "text": [
      "Saving results in /Users/rahimhashim/Desktop/Monkey-Emotions/video/gandalf_231023...\n",
      "Saving csv poses!\n",
      "Starting to analyze %  /Users/rahimhashim/Desktop/Monkey-Emotions/video/gandalf_231023/gandalf_231023_39_e3v83d6.mp4\n",
      "Loading  /Users/rahimhashim/Desktop/Monkey-Emotions/video/gandalf_231023/gandalf_231023_39_e3v83d6.mp4\n",
      "Duration of video [s]:  14.19 , recorded with  120.0 fps!\n",
      "Overall # of frames:  1703  found with (before cropping) frame dimensions:  640 480\n",
      "Starting to extract posture\n"
     ]
    },
    {
     "name": "stderr",
     "output_type": "stream",
     "text": [
      "100%|██████████| 1703/1703 [01:42<00:00, 16.60it/s]\n"
     ]
    },
    {
     "name": "stdout",
     "output_type": "stream",
     "text": [
      "Saving results in /Users/rahimhashim/Desktop/Monkey-Emotions/video/gandalf_231023...\n",
      "Saving csv poses!\n",
      "Starting to analyze %  /Users/rahimhashim/Desktop/Monkey-Emotions/video/gandalf_231023/gandalf_231023_40_e3v83d6.mp4\n",
      "Loading  /Users/rahimhashim/Desktop/Monkey-Emotions/video/gandalf_231023/gandalf_231023_40_e3v83d6.mp4\n",
      "Duration of video [s]:  15.49 , recorded with  120.0 fps!\n",
      "Overall # of frames:  1859  found with (before cropping) frame dimensions:  640 480\n",
      "Starting to extract posture\n"
     ]
    },
    {
     "name": "stderr",
     "output_type": "stream",
     "text": [
      "100%|██████████| 1859/1859 [01:53<00:00, 16.44it/s]\n"
     ]
    },
    {
     "name": "stdout",
     "output_type": "stream",
     "text": [
      "Saving results in /Users/rahimhashim/Desktop/Monkey-Emotions/video/gandalf_231023...\n",
      "Saving csv poses!\n",
      "Starting to analyze %  /Users/rahimhashim/Desktop/Monkey-Emotions/video/gandalf_231023/gandalf_231023_41_e3v83d6.mp4\n",
      "Loading  /Users/rahimhashim/Desktop/Monkey-Emotions/video/gandalf_231023/gandalf_231023_41_e3v83d6.mp4\n",
      "Duration of video [s]:  15.51 , recorded with  120.0 fps!\n",
      "Overall # of frames:  1861  found with (before cropping) frame dimensions:  640 480\n",
      "Starting to extract posture\n"
     ]
    },
    {
     "name": "stderr",
     "output_type": "stream",
     "text": [
      "100%|██████████| 1861/1861 [01:54<00:00, 16.24it/s]\n"
     ]
    },
    {
     "name": "stdout",
     "output_type": "stream",
     "text": [
      "Saving results in /Users/rahimhashim/Desktop/Monkey-Emotions/video/gandalf_231023...\n",
      "Saving csv poses!\n",
      "Starting to analyze %  /Users/rahimhashim/Desktop/Monkey-Emotions/video/gandalf_231023/gandalf_231023_42_e3v83d6.mp4\n",
      "Loading  /Users/rahimhashim/Desktop/Monkey-Emotions/video/gandalf_231023/gandalf_231023_42_e3v83d6.mp4\n",
      "Duration of video [s]:  13.99 , recorded with  120.0 fps!\n",
      "Overall # of frames:  1679  found with (before cropping) frame dimensions:  640 480\n",
      "Starting to extract posture\n"
     ]
    },
    {
     "name": "stderr",
     "output_type": "stream",
     "text": [
      "100%|██████████| 1679/1679 [01:48<00:00, 15.49it/s]\n"
     ]
    },
    {
     "name": "stdout",
     "output_type": "stream",
     "text": [
      "Saving results in /Users/rahimhashim/Desktop/Monkey-Emotions/video/gandalf_231023...\n",
      "Saving csv poses!\n",
      "Starting to analyze %  /Users/rahimhashim/Desktop/Monkey-Emotions/video/gandalf_231023/gandalf_231023_43_e3v83d6.mp4\n",
      "Loading  /Users/rahimhashim/Desktop/Monkey-Emotions/video/gandalf_231023/gandalf_231023_43_e3v83d6.mp4\n",
      "Duration of video [s]:  15.97 , recorded with  120.0 fps!\n",
      "Overall # of frames:  1917  found with (before cropping) frame dimensions:  640 480\n",
      "Starting to extract posture\n"
     ]
    },
    {
     "name": "stderr",
     "output_type": "stream",
     "text": [
      "100%|██████████| 1917/1917 [02:01<00:00, 15.79it/s]\n"
     ]
    },
    {
     "name": "stdout",
     "output_type": "stream",
     "text": [
      "Saving results in /Users/rahimhashim/Desktop/Monkey-Emotions/video/gandalf_231023...\n",
      "Saving csv poses!\n",
      "Starting to analyze %  /Users/rahimhashim/Desktop/Monkey-Emotions/video/gandalf_231023/gandalf_231023_44_e3v83d6.mp4\n",
      "Loading  /Users/rahimhashim/Desktop/Monkey-Emotions/video/gandalf_231023/gandalf_231023_44_e3v83d6.mp4\n",
      "Duration of video [s]:  16.86 , recorded with  120.0 fps!\n",
      "Overall # of frames:  2023  found with (before cropping) frame dimensions:  640 480\n",
      "Starting to extract posture\n"
     ]
    },
    {
     "name": "stderr",
     "output_type": "stream",
     "text": [
      "100%|██████████| 2023/2023 [01:59<00:00, 16.98it/s]\n"
     ]
    },
    {
     "name": "stdout",
     "output_type": "stream",
     "text": [
      "Saving results in /Users/rahimhashim/Desktop/Monkey-Emotions/video/gandalf_231023...\n",
      "Saving csv poses!\n",
      "Starting to analyze %  /Users/rahimhashim/Desktop/Monkey-Emotions/video/gandalf_231023/gandalf_231023_45_e3v83d6.mp4\n",
      "Loading  /Users/rahimhashim/Desktop/Monkey-Emotions/video/gandalf_231023/gandalf_231023_45_e3v83d6.mp4\n",
      "Duration of video [s]:  15.03 , recorded with  120.0 fps!\n",
      "Overall # of frames:  1803  found with (before cropping) frame dimensions:  640 480\n",
      "Starting to extract posture\n"
     ]
    },
    {
     "name": "stderr",
     "output_type": "stream",
     "text": [
      "100%|██████████| 1803/1803 [01:50<00:00, 16.26it/s]\n"
     ]
    },
    {
     "name": "stdout",
     "output_type": "stream",
     "text": [
      "Saving results in /Users/rahimhashim/Desktop/Monkey-Emotions/video/gandalf_231023...\n",
      "Saving csv poses!\n",
      "Starting to analyze %  /Users/rahimhashim/Desktop/Monkey-Emotions/video/gandalf_231023/gandalf_231023_46_e3v83d6.mp4\n",
      "Loading  /Users/rahimhashim/Desktop/Monkey-Emotions/video/gandalf_231023/gandalf_231023_46_e3v83d6.mp4\n",
      "Duration of video [s]:  18.59 , recorded with  120.0 fps!\n",
      "Overall # of frames:  2231  found with (before cropping) frame dimensions:  640 480\n",
      "Starting to extract posture\n"
     ]
    },
    {
     "name": "stderr",
     "output_type": "stream",
     "text": [
      "100%|██████████| 2231/2231 [02:15<00:00, 16.41it/s]\n"
     ]
    },
    {
     "name": "stdout",
     "output_type": "stream",
     "text": [
      "Saving results in /Users/rahimhashim/Desktop/Monkey-Emotions/video/gandalf_231023...\n",
      "Saving csv poses!\n",
      "Starting to analyze %  /Users/rahimhashim/Desktop/Monkey-Emotions/video/gandalf_231023/gandalf_231023_47_e3v83d6.mp4\n",
      "Loading  /Users/rahimhashim/Desktop/Monkey-Emotions/video/gandalf_231023/gandalf_231023_47_e3v83d6.mp4\n",
      "Duration of video [s]:  14.82 , recorded with  120.0 fps!\n",
      "Overall # of frames:  1779  found with (before cropping) frame dimensions:  640 480\n",
      "Starting to extract posture\n"
     ]
    },
    {
     "name": "stderr",
     "output_type": "stream",
     "text": [
      "100%|██████████| 1779/1779 [01:52<00:00, 15.86it/s]\n"
     ]
    },
    {
     "name": "stdout",
     "output_type": "stream",
     "text": [
      "Saving results in /Users/rahimhashim/Desktop/Monkey-Emotions/video/gandalf_231023...\n",
      "Saving csv poses!\n",
      "Starting to analyze %  /Users/rahimhashim/Desktop/Monkey-Emotions/video/gandalf_231023/gandalf_231023_48_e3v83d6.mp4\n",
      "Loading  /Users/rahimhashim/Desktop/Monkey-Emotions/video/gandalf_231023/gandalf_231023_48_e3v83d6.mp4\n",
      "Duration of video [s]:  10.43 , recorded with  120.0 fps!\n",
      "Overall # of frames:  1252  found with (before cropping) frame dimensions:  640 480\n",
      "Starting to extract posture\n"
     ]
    },
    {
     "name": "stderr",
     "output_type": "stream",
     "text": [
      "100%|██████████| 1252/1252 [01:24<00:00, 14.79it/s]\n"
     ]
    },
    {
     "name": "stdout",
     "output_type": "stream",
     "text": [
      "Saving results in /Users/rahimhashim/Desktop/Monkey-Emotions/video/gandalf_231023...\n",
      "Saving csv poses!\n",
      "Starting to analyze %  /Users/rahimhashim/Desktop/Monkey-Emotions/video/gandalf_231023/gandalf_231023_49_e3v83d6.mp4\n",
      "Loading  /Users/rahimhashim/Desktop/Monkey-Emotions/video/gandalf_231023/gandalf_231023_49_e3v83d6.mp4\n",
      "Duration of video [s]:  11.84 , recorded with  120.0 fps!\n",
      "Overall # of frames:  1421  found with (before cropping) frame dimensions:  640 480\n",
      "Starting to extract posture\n"
     ]
    },
    {
     "name": "stderr",
     "output_type": "stream",
     "text": [
      "100%|██████████| 1421/1421 [01:35<00:00, 14.91it/s]\n"
     ]
    },
    {
     "name": "stdout",
     "output_type": "stream",
     "text": [
      "Saving results in /Users/rahimhashim/Desktop/Monkey-Emotions/video/gandalf_231023...\n",
      "Saving csv poses!\n",
      "Starting to analyze %  /Users/rahimhashim/Desktop/Monkey-Emotions/video/gandalf_231023/gandalf_231023_50_e3v83d6.mp4\n",
      "Loading  /Users/rahimhashim/Desktop/Monkey-Emotions/video/gandalf_231023/gandalf_231023_50_e3v83d6.mp4\n",
      "Duration of video [s]:  13.75 , recorded with  120.0 fps!\n",
      "Overall # of frames:  1650  found with (before cropping) frame dimensions:  640 480\n",
      "Starting to extract posture\n"
     ]
    },
    {
     "name": "stderr",
     "output_type": "stream",
     "text": [
      "100%|██████████| 1650/1650 [01:48<00:00, 15.21it/s]\n"
     ]
    },
    {
     "name": "stdout",
     "output_type": "stream",
     "text": [
      "Saving results in /Users/rahimhashim/Desktop/Monkey-Emotions/video/gandalf_231023...\n",
      "Saving csv poses!\n",
      "Starting to analyze %  /Users/rahimhashim/Desktop/Monkey-Emotions/video/gandalf_231023/gandalf_231023_51_e3v83d6.mp4\n",
      "Loading  /Users/rahimhashim/Desktop/Monkey-Emotions/video/gandalf_231023/gandalf_231023_51_e3v83d6.mp4\n",
      "Duration of video [s]:  16.07 , recorded with  120.0 fps!\n",
      "Overall # of frames:  1929  found with (before cropping) frame dimensions:  640 480\n",
      "Starting to extract posture\n"
     ]
    },
    {
     "name": "stderr",
     "output_type": "stream",
     "text": [
      "100%|██████████| 1929/1929 [01:57<00:00, 16.39it/s]\n"
     ]
    },
    {
     "name": "stdout",
     "output_type": "stream",
     "text": [
      "Saving results in /Users/rahimhashim/Desktop/Monkey-Emotions/video/gandalf_231023...\n",
      "Saving csv poses!\n",
      "Starting to analyze %  /Users/rahimhashim/Desktop/Monkey-Emotions/video/gandalf_231023/gandalf_231023_52_e3v83d6.mp4\n",
      "Loading  /Users/rahimhashim/Desktop/Monkey-Emotions/video/gandalf_231023/gandalf_231023_52_e3v83d6.mp4\n",
      "Duration of video [s]:  12.18 , recorded with  120.0 fps!\n",
      "Overall # of frames:  1462  found with (before cropping) frame dimensions:  640 480\n",
      "Starting to extract posture\n"
     ]
    },
    {
     "name": "stderr",
     "output_type": "stream",
     "text": [
      "100%|██████████| 1462/1462 [01:36<00:00, 15.21it/s]\n"
     ]
    },
    {
     "name": "stdout",
     "output_type": "stream",
     "text": [
      "Saving results in /Users/rahimhashim/Desktop/Monkey-Emotions/video/gandalf_231023...\n",
      "Saving csv poses!\n",
      "Starting to analyze %  /Users/rahimhashim/Desktop/Monkey-Emotions/video/gandalf_231023/gandalf_231023_53_e3v83d6.mp4\n",
      "Loading  /Users/rahimhashim/Desktop/Monkey-Emotions/video/gandalf_231023/gandalf_231023_53_e3v83d6.mp4\n",
      "Duration of video [s]:  15.61 , recorded with  120.0 fps!\n",
      "Overall # of frames:  1873  found with (before cropping) frame dimensions:  640 480\n",
      "Starting to extract posture\n"
     ]
    },
    {
     "name": "stderr",
     "output_type": "stream",
     "text": [
      "100%|██████████| 1873/1873 [01:57<00:00, 15.96it/s]\n"
     ]
    },
    {
     "name": "stdout",
     "output_type": "stream",
     "text": [
      "Saving results in /Users/rahimhashim/Desktop/Monkey-Emotions/video/gandalf_231023...\n",
      "Saving csv poses!\n",
      "Starting to analyze %  /Users/rahimhashim/Desktop/Monkey-Emotions/video/gandalf_231023/gandalf_231023_54_e3v83d6.mp4\n",
      "Loading  /Users/rahimhashim/Desktop/Monkey-Emotions/video/gandalf_231023/gandalf_231023_54_e3v83d6.mp4\n",
      "Duration of video [s]:  13.22 , recorded with  120.0 fps!\n",
      "Overall # of frames:  1586  found with (before cropping) frame dimensions:  640 480\n",
      "Starting to extract posture\n"
     ]
    },
    {
     "name": "stderr",
     "output_type": "stream",
     "text": [
      "100%|██████████| 1586/1586 [01:45<00:00, 15.10it/s]\n"
     ]
    },
    {
     "name": "stdout",
     "output_type": "stream",
     "text": [
      "Saving results in /Users/rahimhashim/Desktop/Monkey-Emotions/video/gandalf_231023...\n",
      "Saving csv poses!\n",
      "Starting to analyze %  /Users/rahimhashim/Desktop/Monkey-Emotions/video/gandalf_231023/gandalf_231023_55_e3v83d6.mp4\n",
      "Loading  /Users/rahimhashim/Desktop/Monkey-Emotions/video/gandalf_231023/gandalf_231023_55_e3v83d6.mp4\n",
      "Duration of video [s]:  15.03 , recorded with  120.0 fps!\n",
      "Overall # of frames:  1804  found with (before cropping) frame dimensions:  640 480\n",
      "Starting to extract posture\n"
     ]
    },
    {
     "name": "stderr",
     "output_type": "stream",
     "text": [
      "100%|██████████| 1804/1804 [01:53<00:00, 15.86it/s]\n"
     ]
    },
    {
     "name": "stdout",
     "output_type": "stream",
     "text": [
      "Saving results in /Users/rahimhashim/Desktop/Monkey-Emotions/video/gandalf_231023...\n",
      "Saving csv poses!\n",
      "Starting to analyze %  /Users/rahimhashim/Desktop/Monkey-Emotions/video/gandalf_231023/gandalf_231023_56_e3v83d6.mp4\n",
      "Loading  /Users/rahimhashim/Desktop/Monkey-Emotions/video/gandalf_231023/gandalf_231023_56_e3v83d6.mp4\n",
      "Duration of video [s]:  13.88 , recorded with  120.0 fps!\n",
      "Overall # of frames:  1665  found with (before cropping) frame dimensions:  640 480\n",
      "Starting to extract posture\n"
     ]
    },
    {
     "name": "stderr",
     "output_type": "stream",
     "text": [
      "100%|██████████| 1665/1665 [01:51<00:00, 14.98it/s]\n"
     ]
    },
    {
     "name": "stdout",
     "output_type": "stream",
     "text": [
      "Saving results in /Users/rahimhashim/Desktop/Monkey-Emotions/video/gandalf_231023...\n",
      "Saving csv poses!\n",
      "Starting to analyze %  /Users/rahimhashim/Desktop/Monkey-Emotions/video/gandalf_231023/gandalf_231023_57_e3v83d6.mp4\n",
      "Loading  /Users/rahimhashim/Desktop/Monkey-Emotions/video/gandalf_231023/gandalf_231023_57_e3v83d6.mp4\n",
      "Duration of video [s]:  14.16 , recorded with  120.0 fps!\n",
      "Overall # of frames:  1699  found with (before cropping) frame dimensions:  640 480\n",
      "Starting to extract posture\n"
     ]
    },
    {
     "name": "stderr",
     "output_type": "stream",
     "text": [
      "100%|██████████| 1699/1699 [01:50<00:00, 15.32it/s]\n"
     ]
    },
    {
     "name": "stdout",
     "output_type": "stream",
     "text": [
      "Saving results in /Users/rahimhashim/Desktop/Monkey-Emotions/video/gandalf_231023...\n",
      "Saving csv poses!\n",
      "Starting to analyze %  /Users/rahimhashim/Desktop/Monkey-Emotions/video/gandalf_231023/gandalf_231023_58_e3v83d6.mp4\n",
      "Loading  /Users/rahimhashim/Desktop/Monkey-Emotions/video/gandalf_231023/gandalf_231023_58_e3v83d6.mp4\n",
      "Duration of video [s]:  15.61 , recorded with  120.0 fps!\n",
      "Overall # of frames:  1873  found with (before cropping) frame dimensions:  640 480\n",
      "Starting to extract posture\n"
     ]
    },
    {
     "name": "stderr",
     "output_type": "stream",
     "text": [
      "100%|██████████| 1873/1873 [01:57<00:00, 15.88it/s]\n"
     ]
    },
    {
     "name": "stdout",
     "output_type": "stream",
     "text": [
      "Saving results in /Users/rahimhashim/Desktop/Monkey-Emotions/video/gandalf_231023...\n",
      "Saving csv poses!\n",
      "Starting to analyze %  /Users/rahimhashim/Desktop/Monkey-Emotions/video/gandalf_231023/gandalf_231023_59_e3v83d6.mp4\n",
      "Loading  /Users/rahimhashim/Desktop/Monkey-Emotions/video/gandalf_231023/gandalf_231023_59_e3v83d6.mp4\n",
      "Duration of video [s]:  12.25 , recorded with  120.0 fps!\n",
      "Overall # of frames:  1470  found with (before cropping) frame dimensions:  640 480\n",
      "Starting to extract posture\n"
     ]
    },
    {
     "name": "stderr",
     "output_type": "stream",
     "text": [
      "100%|██████████| 1470/1470 [01:35<00:00, 15.46it/s]\n"
     ]
    },
    {
     "name": "stdout",
     "output_type": "stream",
     "text": [
      "Saving results in /Users/rahimhashim/Desktop/Monkey-Emotions/video/gandalf_231023...\n",
      "Saving csv poses!\n",
      "Starting to analyze %  /Users/rahimhashim/Desktop/Monkey-Emotions/video/gandalf_231023/gandalf_231023_60_e3v83d6.mp4\n",
      "Loading  /Users/rahimhashim/Desktop/Monkey-Emotions/video/gandalf_231023/gandalf_231023_60_e3v83d6.mp4\n",
      "Duration of video [s]:  14.3 , recorded with  120.0 fps!\n",
      "Overall # of frames:  1716  found with (before cropping) frame dimensions:  640 480\n",
      "Starting to extract posture\n"
     ]
    },
    {
     "name": "stderr",
     "output_type": "stream",
     "text": [
      "100%|██████████| 1716/1716 [01:48<00:00, 15.81it/s]\n"
     ]
    },
    {
     "name": "stdout",
     "output_type": "stream",
     "text": [
      "Saving results in /Users/rahimhashim/Desktop/Monkey-Emotions/video/gandalf_231023...\n",
      "Saving csv poses!\n",
      "Starting to analyze %  /Users/rahimhashim/Desktop/Monkey-Emotions/video/gandalf_231023/gandalf_231023_61_e3v83d6.mp4\n",
      "Loading  /Users/rahimhashim/Desktop/Monkey-Emotions/video/gandalf_231023/gandalf_231023_61_e3v83d6.mp4\n",
      "Duration of video [s]:  12.55 , recorded with  120.0 fps!\n",
      "Overall # of frames:  1506  found with (before cropping) frame dimensions:  640 480\n",
      "Starting to extract posture\n"
     ]
    },
    {
     "name": "stderr",
     "output_type": "stream",
     "text": [
      "100%|██████████| 1506/1506 [01:37<00:00, 15.45it/s]\n"
     ]
    },
    {
     "name": "stdout",
     "output_type": "stream",
     "text": [
      "Saving results in /Users/rahimhashim/Desktop/Monkey-Emotions/video/gandalf_231023...\n",
      "Saving csv poses!\n",
      "Starting to analyze %  /Users/rahimhashim/Desktop/Monkey-Emotions/video/gandalf_231023/gandalf_231023_62_e3v83d6.mp4\n",
      "Loading  /Users/rahimhashim/Desktop/Monkey-Emotions/video/gandalf_231023/gandalf_231023_62_e3v83d6.mp4\n",
      "Duration of video [s]:  12.92 , recorded with  120.0 fps!\n",
      "Overall # of frames:  1550  found with (before cropping) frame dimensions:  640 480\n",
      "Starting to extract posture\n"
     ]
    },
    {
     "name": "stderr",
     "output_type": "stream",
     "text": [
      "100%|██████████| 1550/1550 [01:36<00:00, 16.14it/s]\n"
     ]
    },
    {
     "name": "stdout",
     "output_type": "stream",
     "text": [
      "Saving results in /Users/rahimhashim/Desktop/Monkey-Emotions/video/gandalf_231023...\n",
      "Saving csv poses!\n",
      "Starting to analyze %  /Users/rahimhashim/Desktop/Monkey-Emotions/video/gandalf_231023/gandalf_231023_63_e3v83d6.mp4\n",
      "Loading  /Users/rahimhashim/Desktop/Monkey-Emotions/video/gandalf_231023/gandalf_231023_63_e3v83d6.mp4\n",
      "Duration of video [s]:  14.2 , recorded with  120.0 fps!\n",
      "Overall # of frames:  1704  found with (before cropping) frame dimensions:  640 480\n",
      "Starting to extract posture\n"
     ]
    },
    {
     "name": "stderr",
     "output_type": "stream",
     "text": [
      "100%|██████████| 1704/1704 [01:46<00:00, 15.93it/s]\n"
     ]
    },
    {
     "name": "stdout",
     "output_type": "stream",
     "text": [
      "Saving results in /Users/rahimhashim/Desktop/Monkey-Emotions/video/gandalf_231023...\n",
      "Saving csv poses!\n",
      "Starting to analyze %  /Users/rahimhashim/Desktop/Monkey-Emotions/video/gandalf_231023/gandalf_231023_64_e3v83d6.mp4\n",
      "Loading  /Users/rahimhashim/Desktop/Monkey-Emotions/video/gandalf_231023/gandalf_231023_64_e3v83d6.mp4\n",
      "Duration of video [s]:  15.37 , recorded with  120.0 fps!\n",
      "Overall # of frames:  1844  found with (before cropping) frame dimensions:  640 480\n",
      "Starting to extract posture\n"
     ]
    },
    {
     "name": "stderr",
     "output_type": "stream",
     "text": [
      "100%|██████████| 1844/1844 [01:58<00:00, 15.55it/s]\n"
     ]
    },
    {
     "name": "stdout",
     "output_type": "stream",
     "text": [
      "Saving results in /Users/rahimhashim/Desktop/Monkey-Emotions/video/gandalf_231023...\n",
      "Saving csv poses!\n",
      "Starting to analyze %  /Users/rahimhashim/Desktop/Monkey-Emotions/video/gandalf_231023/gandalf_231023_65_e3v83d6.mp4\n",
      "Loading  /Users/rahimhashim/Desktop/Monkey-Emotions/video/gandalf_231023/gandalf_231023_65_e3v83d6.mp4\n",
      "Duration of video [s]:  14.4 , recorded with  120.0 fps!\n",
      "Overall # of frames:  1728  found with (before cropping) frame dimensions:  640 480\n",
      "Starting to extract posture\n"
     ]
    },
    {
     "name": "stderr",
     "output_type": "stream",
     "text": [
      "100%|██████████| 1728/1728 [01:48<00:00, 15.92it/s]\n"
     ]
    },
    {
     "name": "stdout",
     "output_type": "stream",
     "text": [
      "Saving results in /Users/rahimhashim/Desktop/Monkey-Emotions/video/gandalf_231023...\n",
      "Saving csv poses!\n",
      "Starting to analyze %  /Users/rahimhashim/Desktop/Monkey-Emotions/video/gandalf_231023/gandalf_231023_66_e3v83d6.mp4\n",
      "Loading  /Users/rahimhashim/Desktop/Monkey-Emotions/video/gandalf_231023/gandalf_231023_66_e3v83d6.mp4\n",
      "Duration of video [s]:  16.88 , recorded with  120.0 fps!\n",
      "Overall # of frames:  2026  found with (before cropping) frame dimensions:  640 480\n",
      "Starting to extract posture\n"
     ]
    },
    {
     "name": "stderr",
     "output_type": "stream",
     "text": [
      "100%|██████████| 2026/2026 [02:06<00:00, 15.99it/s]\n"
     ]
    },
    {
     "name": "stdout",
     "output_type": "stream",
     "text": [
      "Saving results in /Users/rahimhashim/Desktop/Monkey-Emotions/video/gandalf_231023...\n",
      "Saving csv poses!\n",
      "Starting to analyze %  /Users/rahimhashim/Desktop/Monkey-Emotions/video/gandalf_231023/gandalf_231023_67_e3v83d6.mp4\n",
      "Loading  /Users/rahimhashim/Desktop/Monkey-Emotions/video/gandalf_231023/gandalf_231023_67_e3v83d6.mp4\n",
      "Duration of video [s]:  32.27 , recorded with  120.0 fps!\n",
      "Overall # of frames:  3872  found with (before cropping) frame dimensions:  640 480\n",
      "Starting to extract posture\n"
     ]
    },
    {
     "name": "stderr",
     "output_type": "stream",
     "text": [
      "100%|██████████| 3872/3872 [03:41<00:00, 17.49it/s]\n"
     ]
    },
    {
     "name": "stdout",
     "output_type": "stream",
     "text": [
      "Saving results in /Users/rahimhashim/Desktop/Monkey-Emotions/video/gandalf_231023...\n",
      "Saving csv poses!\n",
      "Starting to analyze %  /Users/rahimhashim/Desktop/Monkey-Emotions/video/gandalf_231023/gandalf_231023_68_e3v83d6.mp4\n",
      "Loading  /Users/rahimhashim/Desktop/Monkey-Emotions/video/gandalf_231023/gandalf_231023_68_e3v83d6.mp4\n",
      "Duration of video [s]:  17.43 , recorded with  120.0 fps!\n",
      "Overall # of frames:  2091  found with (before cropping) frame dimensions:  640 480\n",
      "Starting to extract posture\n"
     ]
    },
    {
     "name": "stderr",
     "output_type": "stream",
     "text": [
      "100%|██████████| 2091/2091 [02:05<00:00, 16.70it/s]\n"
     ]
    },
    {
     "name": "stdout",
     "output_type": "stream",
     "text": [
      "Saving results in /Users/rahimhashim/Desktop/Monkey-Emotions/video/gandalf_231023...\n",
      "Saving csv poses!\n",
      "Starting to analyze %  /Users/rahimhashim/Desktop/Monkey-Emotions/video/gandalf_231023/gandalf_231023_69_e3v83d6.mp4\n",
      "Loading  /Users/rahimhashim/Desktop/Monkey-Emotions/video/gandalf_231023/gandalf_231023_69_e3v83d6.mp4\n",
      "Duration of video [s]:  12.55 , recorded with  120.0 fps!\n",
      "Overall # of frames:  1506  found with (before cropping) frame dimensions:  640 480\n",
      "Starting to extract posture\n"
     ]
    },
    {
     "name": "stderr",
     "output_type": "stream",
     "text": [
      "100%|██████████| 1506/1506 [01:34<00:00, 15.99it/s]\n"
     ]
    },
    {
     "name": "stdout",
     "output_type": "stream",
     "text": [
      "Saving results in /Users/rahimhashim/Desktop/Monkey-Emotions/video/gandalf_231023...\n",
      "Saving csv poses!\n",
      "Starting to analyze %  /Users/rahimhashim/Desktop/Monkey-Emotions/video/gandalf_231023/gandalf_231023_70_e3v83d6.mp4\n",
      "Loading  /Users/rahimhashim/Desktop/Monkey-Emotions/video/gandalf_231023/gandalf_231023_70_e3v83d6.mp4\n",
      "Duration of video [s]:  13.48 , recorded with  120.0 fps!\n",
      "Overall # of frames:  1618  found with (before cropping) frame dimensions:  640 480\n",
      "Starting to extract posture\n"
     ]
    },
    {
     "name": "stderr",
     "output_type": "stream",
     "text": [
      "100%|██████████| 1618/1618 [01:40<00:00, 16.10it/s]\n"
     ]
    },
    {
     "name": "stdout",
     "output_type": "stream",
     "text": [
      "Saving results in /Users/rahimhashim/Desktop/Monkey-Emotions/video/gandalf_231023...\n",
      "Saving csv poses!\n",
      "Starting to analyze %  /Users/rahimhashim/Desktop/Monkey-Emotions/video/gandalf_231023/gandalf_231023_71_e3v83d6.mp4\n",
      "Loading  /Users/rahimhashim/Desktop/Monkey-Emotions/video/gandalf_231023/gandalf_231023_71_e3v83d6.mp4\n",
      "Duration of video [s]:  14.93 , recorded with  120.0 fps!\n",
      "Overall # of frames:  1791  found with (before cropping) frame dimensions:  640 480\n",
      "Starting to extract posture\n"
     ]
    },
    {
     "name": "stderr",
     "output_type": "stream",
     "text": [
      "100%|██████████| 1791/1791 [06:48<00:00,  4.39it/s] \n"
     ]
    },
    {
     "name": "stdout",
     "output_type": "stream",
     "text": [
      "Saving results in /Users/rahimhashim/Desktop/Monkey-Emotions/video/gandalf_231023...\n",
      "Saving csv poses!\n",
      "Starting to analyze %  /Users/rahimhashim/Desktop/Monkey-Emotions/video/gandalf_231023/gandalf_231023_72_e3v83d6.mp4\n",
      "Loading  /Users/rahimhashim/Desktop/Monkey-Emotions/video/gandalf_231023/gandalf_231023_72_e3v83d6.mp4\n",
      "Duration of video [s]:  15.47 , recorded with  120.0 fps!\n",
      "Overall # of frames:  1857  found with (before cropping) frame dimensions:  640 480\n",
      "Starting to extract posture\n"
     ]
    },
    {
     "name": "stderr",
     "output_type": "stream",
     "text": [
      "100%|██████████| 1857/1857 [03:43<00:00,  8.31it/s]\n"
     ]
    },
    {
     "name": "stdout",
     "output_type": "stream",
     "text": [
      "Saving results in /Users/rahimhashim/Desktop/Monkey-Emotions/video/gandalf_231023...\n",
      "Saving csv poses!\n",
      "Starting to analyze %  /Users/rahimhashim/Desktop/Monkey-Emotions/video/gandalf_231023/gandalf_231023_73_e3v83d6.mp4\n",
      "Loading  /Users/rahimhashim/Desktop/Monkey-Emotions/video/gandalf_231023/gandalf_231023_73_e3v83d6.mp4\n",
      "Duration of video [s]:  10.18 , recorded with  120.0 fps!\n",
      "Overall # of frames:  1222  found with (before cropping) frame dimensions:  640 480\n",
      "Starting to extract posture\n"
     ]
    },
    {
     "name": "stderr",
     "output_type": "stream",
     "text": [
      "100%|██████████| 1222/1222 [02:27<00:00,  8.26it/s]\n"
     ]
    },
    {
     "name": "stdout",
     "output_type": "stream",
     "text": [
      "Saving results in /Users/rahimhashim/Desktop/Monkey-Emotions/video/gandalf_231023...\n",
      "Saving csv poses!\n",
      "Starting to analyze %  /Users/rahimhashim/Desktop/Monkey-Emotions/video/gandalf_231023/gandalf_231023_74_e3v83d6.mp4\n",
      "Loading  /Users/rahimhashim/Desktop/Monkey-Emotions/video/gandalf_231023/gandalf_231023_74_e3v83d6.mp4\n",
      "Duration of video [s]:  12.1 , recorded with  120.0 fps!\n",
      "Overall # of frames:  1452  found with (before cropping) frame dimensions:  640 480\n",
      "Starting to extract posture\n"
     ]
    },
    {
     "name": "stderr",
     "output_type": "stream",
     "text": [
      "100%|██████████| 1452/1452 [01:47<00:00, 13.55it/s]\n"
     ]
    },
    {
     "name": "stdout",
     "output_type": "stream",
     "text": [
      "Saving results in /Users/rahimhashim/Desktop/Monkey-Emotions/video/gandalf_231023...\n",
      "Saving csv poses!\n",
      "Starting to analyze %  /Users/rahimhashim/Desktop/Monkey-Emotions/video/gandalf_231023/gandalf_231023_75_e3v83d6.mp4\n",
      "Loading  /Users/rahimhashim/Desktop/Monkey-Emotions/video/gandalf_231023/gandalf_231023_75_e3v83d6.mp4\n",
      "Duration of video [s]:  13.44 , recorded with  120.0 fps!\n",
      "Overall # of frames:  1613  found with (before cropping) frame dimensions:  640 480\n",
      "Starting to extract posture\n"
     ]
    },
    {
     "name": "stderr",
     "output_type": "stream",
     "text": [
      "100%|██████████| 1613/1613 [01:47<00:00, 15.06it/s]\n"
     ]
    },
    {
     "name": "stdout",
     "output_type": "stream",
     "text": [
      "Saving results in /Users/rahimhashim/Desktop/Monkey-Emotions/video/gandalf_231023...\n",
      "Saving csv poses!\n",
      "Starting to analyze %  /Users/rahimhashim/Desktop/Monkey-Emotions/video/gandalf_231023/gandalf_231023_76_e3v83d6.mp4\n",
      "Loading  /Users/rahimhashim/Desktop/Monkey-Emotions/video/gandalf_231023/gandalf_231023_76_e3v83d6.mp4\n",
      "Duration of video [s]:  14.74 , recorded with  120.0 fps!\n",
      "Overall # of frames:  1769  found with (before cropping) frame dimensions:  640 480\n",
      "Starting to extract posture\n"
     ]
    },
    {
     "name": "stderr",
     "output_type": "stream",
     "text": [
      "100%|██████████| 1769/1769 [01:56<00:00, 15.15it/s]\n"
     ]
    },
    {
     "name": "stdout",
     "output_type": "stream",
     "text": [
      "Saving results in /Users/rahimhashim/Desktop/Monkey-Emotions/video/gandalf_231023...\n",
      "Saving csv poses!\n",
      "Starting to analyze %  /Users/rahimhashim/Desktop/Monkey-Emotions/video/gandalf_231023/gandalf_231023_77_e3v83d6.mp4\n",
      "Loading  /Users/rahimhashim/Desktop/Monkey-Emotions/video/gandalf_231023/gandalf_231023_77_e3v83d6.mp4\n",
      "Duration of video [s]:  13.99 , recorded with  120.0 fps!\n",
      "Overall # of frames:  1679  found with (before cropping) frame dimensions:  640 480\n",
      "Starting to extract posture\n"
     ]
    },
    {
     "name": "stderr",
     "output_type": "stream",
     "text": [
      "100%|██████████| 1679/1679 [01:48<00:00, 15.43it/s]\n"
     ]
    },
    {
     "name": "stdout",
     "output_type": "stream",
     "text": [
      "Saving results in /Users/rahimhashim/Desktop/Monkey-Emotions/video/gandalf_231023...\n",
      "Saving csv poses!\n",
      "Starting to analyze %  /Users/rahimhashim/Desktop/Monkey-Emotions/video/gandalf_231023/gandalf_231023_78_e3v83d6.mp4\n",
      "Loading  /Users/rahimhashim/Desktop/Monkey-Emotions/video/gandalf_231023/gandalf_231023_78_e3v83d6.mp4\n",
      "Duration of video [s]:  10.82 , recorded with  120.0 fps!\n",
      "Overall # of frames:  1298  found with (before cropping) frame dimensions:  640 480\n",
      "Starting to extract posture\n"
     ]
    },
    {
     "name": "stderr",
     "output_type": "stream",
     "text": [
      "100%|██████████| 1298/1298 [01:31<00:00, 14.25it/s]\n"
     ]
    },
    {
     "name": "stdout",
     "output_type": "stream",
     "text": [
      "Saving results in /Users/rahimhashim/Desktop/Monkey-Emotions/video/gandalf_231023...\n",
      "Saving csv poses!\n",
      "Starting to analyze %  /Users/rahimhashim/Desktop/Monkey-Emotions/video/gandalf_231023/gandalf_231023_79_e3v83d6.mp4\n",
      "Loading  /Users/rahimhashim/Desktop/Monkey-Emotions/video/gandalf_231023/gandalf_231023_79_e3v83d6.mp4\n",
      "Duration of video [s]:  12.21 , recorded with  120.0 fps!\n",
      "Overall # of frames:  1465  found with (before cropping) frame dimensions:  640 480\n",
      "Starting to extract posture\n"
     ]
    },
    {
     "name": "stderr",
     "output_type": "stream",
     "text": [
      "100%|██████████| 1465/1465 [01:40<00:00, 14.59it/s]\n"
     ]
    },
    {
     "name": "stdout",
     "output_type": "stream",
     "text": [
      "Saving results in /Users/rahimhashim/Desktop/Monkey-Emotions/video/gandalf_231023...\n",
      "Saving csv poses!\n",
      "Starting to analyze %  /Users/rahimhashim/Desktop/Monkey-Emotions/video/gandalf_231023/gandalf_231023_80_e3v83d6.mp4\n",
      "Loading  /Users/rahimhashim/Desktop/Monkey-Emotions/video/gandalf_231023/gandalf_231023_80_e3v83d6.mp4\n",
      "Duration of video [s]:  14.72 , recorded with  120.0 fps!\n",
      "Overall # of frames:  1766  found with (before cropping) frame dimensions:  640 480\n",
      "Starting to extract posture\n"
     ]
    },
    {
     "name": "stderr",
     "output_type": "stream",
     "text": [
      "100%|██████████| 1766/1766 [01:57<00:00, 15.04it/s]\n"
     ]
    },
    {
     "name": "stdout",
     "output_type": "stream",
     "text": [
      "Saving results in /Users/rahimhashim/Desktop/Monkey-Emotions/video/gandalf_231023...\n",
      "Saving csv poses!\n",
      "Starting to analyze %  /Users/rahimhashim/Desktop/Monkey-Emotions/video/gandalf_231023/gandalf_231023_81_e3v83d6.mp4\n",
      "Loading  /Users/rahimhashim/Desktop/Monkey-Emotions/video/gandalf_231023/gandalf_231023_81_e3v83d6.mp4\n",
      "Duration of video [s]:  12.31 , recorded with  120.0 fps!\n",
      "Overall # of frames:  1477  found with (before cropping) frame dimensions:  640 480\n",
      "Starting to extract posture\n"
     ]
    },
    {
     "name": "stderr",
     "output_type": "stream",
     "text": [
      "100%|██████████| 1477/1477 [01:40<00:00, 14.64it/s]\n"
     ]
    },
    {
     "name": "stdout",
     "output_type": "stream",
     "text": [
      "Saving results in /Users/rahimhashim/Desktop/Monkey-Emotions/video/gandalf_231023...\n",
      "Saving csv poses!\n",
      "Starting to analyze %  /Users/rahimhashim/Desktop/Monkey-Emotions/video/gandalf_231023/gandalf_231023_83_e3v83d6.mp4\n",
      "Loading  /Users/rahimhashim/Desktop/Monkey-Emotions/video/gandalf_231023/gandalf_231023_83_e3v83d6.mp4\n",
      "Duration of video [s]:  15.7 , recorded with  120.0 fps!\n",
      "Overall # of frames:  1884  found with (before cropping) frame dimensions:  640 480\n",
      "Starting to extract posture\n"
     ]
    },
    {
     "name": "stderr",
     "output_type": "stream",
     "text": [
      "100%|██████████| 1884/1884 [02:02<00:00, 15.33it/s]\n"
     ]
    },
    {
     "name": "stdout",
     "output_type": "stream",
     "text": [
      "Saving results in /Users/rahimhashim/Desktop/Monkey-Emotions/video/gandalf_231023...\n",
      "Saving csv poses!\n",
      "Starting to analyze %  /Users/rahimhashim/Desktop/Monkey-Emotions/video/gandalf_231023/gandalf_231023_84_e3v83d6.mp4\n",
      "Loading  /Users/rahimhashim/Desktop/Monkey-Emotions/video/gandalf_231023/gandalf_231023_84_e3v83d6.mp4\n",
      "Duration of video [s]:  14.0 , recorded with  120.0 fps!\n",
      "Overall # of frames:  1680  found with (before cropping) frame dimensions:  640 480\n",
      "Starting to extract posture\n"
     ]
    },
    {
     "name": "stderr",
     "output_type": "stream",
     "text": [
      "100%|██████████| 1680/1680 [01:51<00:00, 15.09it/s]\n"
     ]
    },
    {
     "name": "stdout",
     "output_type": "stream",
     "text": [
      "Saving results in /Users/rahimhashim/Desktop/Monkey-Emotions/video/gandalf_231023...\n",
      "Saving csv poses!\n",
      "Starting to analyze %  /Users/rahimhashim/Desktop/Monkey-Emotions/video/gandalf_231023/gandalf_231023_85_e3v83d6.mp4\n",
      "Loading  /Users/rahimhashim/Desktop/Monkey-Emotions/video/gandalf_231023/gandalf_231023_85_e3v83d6.mp4\n",
      "Duration of video [s]:  14.76 , recorded with  120.0 fps!\n",
      "Overall # of frames:  1771  found with (before cropping) frame dimensions:  640 480\n",
      "Starting to extract posture\n"
     ]
    },
    {
     "name": "stderr",
     "output_type": "stream",
     "text": [
      "100%|██████████| 1771/1771 [01:56<00:00, 15.26it/s]\n"
     ]
    },
    {
     "name": "stdout",
     "output_type": "stream",
     "text": [
      "Saving results in /Users/rahimhashim/Desktop/Monkey-Emotions/video/gandalf_231023...\n",
      "Saving csv poses!\n",
      "Starting to analyze %  /Users/rahimhashim/Desktop/Monkey-Emotions/video/gandalf_231023/gandalf_231023_86_e3v83d6.mp4\n",
      "Loading  /Users/rahimhashim/Desktop/Monkey-Emotions/video/gandalf_231023/gandalf_231023_86_e3v83d6.mp4\n",
      "Duration of video [s]:  12.56 , recorded with  120.0 fps!\n",
      "Overall # of frames:  1507  found with (before cropping) frame dimensions:  640 480\n",
      "Starting to extract posture\n"
     ]
    },
    {
     "name": "stderr",
     "output_type": "stream",
     "text": [
      "100%|██████████| 1507/1507 [01:45<00:00, 14.23it/s]\n"
     ]
    },
    {
     "name": "stdout",
     "output_type": "stream",
     "text": [
      "Saving results in /Users/rahimhashim/Desktop/Monkey-Emotions/video/gandalf_231023...\n",
      "Saving csv poses!\n",
      "Starting to analyze %  /Users/rahimhashim/Desktop/Monkey-Emotions/video/gandalf_231023/gandalf_231023_87_e3v83d6.mp4\n",
      "Loading  /Users/rahimhashim/Desktop/Monkey-Emotions/video/gandalf_231023/gandalf_231023_87_e3v83d6.mp4\n",
      "Duration of video [s]:  12.03 , recorded with  120.0 fps!\n",
      "Overall # of frames:  1444  found with (before cropping) frame dimensions:  640 480\n",
      "Starting to extract posture\n"
     ]
    },
    {
     "name": "stderr",
     "output_type": "stream",
     "text": [
      "100%|██████████| 1444/1444 [01:43<00:00, 13.96it/s]\n"
     ]
    },
    {
     "name": "stdout",
     "output_type": "stream",
     "text": [
      "Saving results in /Users/rahimhashim/Desktop/Monkey-Emotions/video/gandalf_231023...\n",
      "Saving csv poses!\n",
      "Starting to analyze %  /Users/rahimhashim/Desktop/Monkey-Emotions/video/gandalf_231023/gandalf_231023_88_e3v83d6.mp4\n",
      "Loading  /Users/rahimhashim/Desktop/Monkey-Emotions/video/gandalf_231023/gandalf_231023_88_e3v83d6.mp4\n",
      "Duration of video [s]:  14.31 , recorded with  120.0 fps!\n",
      "Overall # of frames:  1717  found with (before cropping) frame dimensions:  640 480\n",
      "Starting to extract posture\n"
     ]
    },
    {
     "name": "stderr",
     "output_type": "stream",
     "text": [
      "100%|██████████| 1717/1717 [01:59<00:00, 14.35it/s]\n"
     ]
    },
    {
     "name": "stdout",
     "output_type": "stream",
     "text": [
      "Saving results in /Users/rahimhashim/Desktop/Monkey-Emotions/video/gandalf_231023...\n",
      "Saving csv poses!\n",
      "Starting to analyze %  /Users/rahimhashim/Desktop/Monkey-Emotions/video/gandalf_231023/gandalf_231023_89_e3v83d6.mp4\n",
      "Loading  /Users/rahimhashim/Desktop/Monkey-Emotions/video/gandalf_231023/gandalf_231023_89_e3v83d6.mp4\n",
      "Duration of video [s]:  16.3 , recorded with  120.0 fps!\n",
      "Overall # of frames:  1956  found with (before cropping) frame dimensions:  640 480\n",
      "Starting to extract posture\n"
     ]
    },
    {
     "name": "stderr",
     "output_type": "stream",
     "text": [
      "100%|██████████| 1956/1956 [02:07<00:00, 15.30it/s]\n"
     ]
    },
    {
     "name": "stdout",
     "output_type": "stream",
     "text": [
      "Saving results in /Users/rahimhashim/Desktop/Monkey-Emotions/video/gandalf_231023...\n",
      "Saving csv poses!\n",
      "Starting to analyze %  /Users/rahimhashim/Desktop/Monkey-Emotions/video/gandalf_231023/gandalf_231023_90_e3v83d6.mp4\n",
      "Loading  /Users/rahimhashim/Desktop/Monkey-Emotions/video/gandalf_231023/gandalf_231023_90_e3v83d6.mp4\n",
      "Duration of video [s]:  17.96 , recorded with  120.0 fps!\n",
      "Overall # of frames:  2155  found with (before cropping) frame dimensions:  640 480\n",
      "Starting to extract posture\n"
     ]
    },
    {
     "name": "stderr",
     "output_type": "stream",
     "text": [
      "100%|██████████| 2155/2155 [02:17<00:00, 15.68it/s]\n"
     ]
    },
    {
     "name": "stdout",
     "output_type": "stream",
     "text": [
      "Saving results in /Users/rahimhashim/Desktop/Monkey-Emotions/video/gandalf_231023...\n",
      "Saving csv poses!\n",
      "Starting to analyze %  /Users/rahimhashim/Desktop/Monkey-Emotions/video/gandalf_231023/gandalf_231023_91_e3v83d6.mp4\n",
      "Loading  /Users/rahimhashim/Desktop/Monkey-Emotions/video/gandalf_231023/gandalf_231023_91_e3v83d6.mp4\n",
      "Duration of video [s]:  13.26 , recorded with  120.0 fps!\n",
      "Overall # of frames:  1591  found with (before cropping) frame dimensions:  640 480\n",
      "Starting to extract posture\n"
     ]
    },
    {
     "name": "stderr",
     "output_type": "stream",
     "text": [
      "100%|██████████| 1591/1591 [01:55<00:00, 13.82it/s]\n"
     ]
    },
    {
     "name": "stdout",
     "output_type": "stream",
     "text": [
      "Saving results in /Users/rahimhashim/Desktop/Monkey-Emotions/video/gandalf_231023...\n",
      "Saving csv poses!\n",
      "Starting to analyze %  /Users/rahimhashim/Desktop/Monkey-Emotions/video/gandalf_231023/gandalf_231023_92_e3v83d6.mp4\n",
      "Loading  /Users/rahimhashim/Desktop/Monkey-Emotions/video/gandalf_231023/gandalf_231023_92_e3v83d6.mp4\n",
      "Duration of video [s]:  15.57 , recorded with  120.0 fps!\n",
      "Overall # of frames:  1868  found with (before cropping) frame dimensions:  640 480\n",
      "Starting to extract posture\n"
     ]
    },
    {
     "name": "stderr",
     "output_type": "stream",
     "text": [
      "100%|██████████| 1868/1868 [02:10<00:00, 14.31it/s]\n"
     ]
    },
    {
     "name": "stdout",
     "output_type": "stream",
     "text": [
      "Saving results in /Users/rahimhashim/Desktop/Monkey-Emotions/video/gandalf_231023...\n",
      "Saving csv poses!\n",
      "Starting to analyze %  /Users/rahimhashim/Desktop/Monkey-Emotions/video/gandalf_231023/gandalf_231023_93_e3v83d6.mp4\n",
      "Loading  /Users/rahimhashim/Desktop/Monkey-Emotions/video/gandalf_231023/gandalf_231023_93_e3v83d6.mp4\n",
      "Duration of video [s]:  12.4 , recorded with  120.0 fps!\n",
      "Overall # of frames:  1488  found with (before cropping) frame dimensions:  640 480\n",
      "Starting to extract posture\n"
     ]
    },
    {
     "name": "stderr",
     "output_type": "stream",
     "text": [
      "100%|██████████| 1488/1488 [01:49<00:00, 13.54it/s]\n"
     ]
    },
    {
     "name": "stdout",
     "output_type": "stream",
     "text": [
      "Saving results in /Users/rahimhashim/Desktop/Monkey-Emotions/video/gandalf_231023...\n",
      "Saving csv poses!\n",
      "Starting to analyze %  /Users/rahimhashim/Desktop/Monkey-Emotions/video/gandalf_231023/gandalf_231023_94_e3v83d6.mp4\n",
      "Loading  /Users/rahimhashim/Desktop/Monkey-Emotions/video/gandalf_231023/gandalf_231023_94_e3v83d6.mp4\n",
      "Duration of video [s]:  15.16 , recorded with  120.0 fps!\n",
      "Overall # of frames:  1819  found with (before cropping) frame dimensions:  640 480\n",
      "Starting to extract posture\n"
     ]
    },
    {
     "name": "stderr",
     "output_type": "stream",
     "text": [
      "100%|██████████| 1819/1819 [02:07<00:00, 14.25it/s]\n"
     ]
    },
    {
     "name": "stdout",
     "output_type": "stream",
     "text": [
      "Saving results in /Users/rahimhashim/Desktop/Monkey-Emotions/video/gandalf_231023...\n",
      "Saving csv poses!\n",
      "Starting to analyze %  /Users/rahimhashim/Desktop/Monkey-Emotions/video/gandalf_231023/gandalf_231023_95_e3v83d6.mp4\n",
      "Loading  /Users/rahimhashim/Desktop/Monkey-Emotions/video/gandalf_231023/gandalf_231023_95_e3v83d6.mp4\n",
      "Duration of video [s]:  15.59 , recorded with  120.0 fps!\n",
      "Overall # of frames:  1871  found with (before cropping) frame dimensions:  640 480\n",
      "Starting to extract posture\n"
     ]
    },
    {
     "name": "stderr",
     "output_type": "stream",
     "text": [
      "100%|██████████| 1871/1871 [02:10<00:00, 14.33it/s]\n"
     ]
    },
    {
     "name": "stdout",
     "output_type": "stream",
     "text": [
      "Saving results in /Users/rahimhashim/Desktop/Monkey-Emotions/video/gandalf_231023...\n",
      "Saving csv poses!\n",
      "Starting to analyze %  /Users/rahimhashim/Desktop/Monkey-Emotions/video/gandalf_231023/gandalf_231023_96_e3v83d6.mp4\n",
      "Loading  /Users/rahimhashim/Desktop/Monkey-Emotions/video/gandalf_231023/gandalf_231023_96_e3v83d6.mp4\n",
      "Duration of video [s]:  9.57 , recorded with  120.0 fps!\n",
      "Overall # of frames:  1148  found with (before cropping) frame dimensions:  640 480\n",
      "Starting to extract posture\n"
     ]
    },
    {
     "name": "stderr",
     "output_type": "stream",
     "text": [
      "100%|██████████| 1148/1148 [01:32<00:00, 12.34it/s]\n"
     ]
    },
    {
     "name": "stdout",
     "output_type": "stream",
     "text": [
      "Saving results in /Users/rahimhashim/Desktop/Monkey-Emotions/video/gandalf_231023...\n",
      "Saving csv poses!\n",
      "Starting to analyze %  /Users/rahimhashim/Desktop/Monkey-Emotions/video/gandalf_231023/gandalf_231023_97_e3v83d6.mp4\n",
      "Loading  /Users/rahimhashim/Desktop/Monkey-Emotions/video/gandalf_231023/gandalf_231023_97_e3v83d6.mp4\n",
      "Duration of video [s]:  11.25 , recorded with  120.0 fps!\n",
      "Overall # of frames:  1350  found with (before cropping) frame dimensions:  640 480\n",
      "Starting to extract posture\n"
     ]
    },
    {
     "name": "stderr",
     "output_type": "stream",
     "text": [
      "100%|██████████| 1350/1350 [01:49<00:00, 12.31it/s]\n"
     ]
    },
    {
     "name": "stdout",
     "output_type": "stream",
     "text": [
      "Saving results in /Users/rahimhashim/Desktop/Monkey-Emotions/video/gandalf_231023...\n",
      "Saving csv poses!\n",
      "Starting to analyze %  /Users/rahimhashim/Desktop/Monkey-Emotions/video/gandalf_231023/gandalf_231023_98_e3v83d6.mp4\n",
      "Loading  /Users/rahimhashim/Desktop/Monkey-Emotions/video/gandalf_231023/gandalf_231023_98_e3v83d6.mp4\n",
      "Duration of video [s]:  17.82 , recorded with  120.0 fps!\n",
      "Overall # of frames:  2139  found with (before cropping) frame dimensions:  640 480\n",
      "Starting to extract posture\n"
     ]
    },
    {
     "name": "stderr",
     "output_type": "stream",
     "text": [
      "100%|██████████| 2139/2139 [02:23<00:00, 14.89it/s]\n"
     ]
    },
    {
     "name": "stdout",
     "output_type": "stream",
     "text": [
      "Saving results in /Users/rahimhashim/Desktop/Monkey-Emotions/video/gandalf_231023...\n",
      "Saving csv poses!\n",
      "Starting to analyze %  /Users/rahimhashim/Desktop/Monkey-Emotions/video/gandalf_231023/gandalf_231023_99_e3v83d6.mp4\n",
      "Loading  /Users/rahimhashim/Desktop/Monkey-Emotions/video/gandalf_231023/gandalf_231023_99_e3v83d6.mp4\n",
      "Duration of video [s]:  14.07 , recorded with  120.0 fps!\n",
      "Overall # of frames:  1688  found with (before cropping) frame dimensions:  640 480\n",
      "Starting to extract posture\n"
     ]
    },
    {
     "name": "stderr",
     "output_type": "stream",
     "text": [
      "100%|██████████| 1688/1688 [02:01<00:00, 13.93it/s]\n"
     ]
    },
    {
     "name": "stdout",
     "output_type": "stream",
     "text": [
      "Saving results in /Users/rahimhashim/Desktop/Monkey-Emotions/video/gandalf_231023...\n",
      "Saving csv poses!\n",
      "Starting to analyze %  /Users/rahimhashim/Desktop/Monkey-Emotions/video/gandalf_231023/gandalf_231023_100_e3v83d6.mp4\n",
      "Loading  /Users/rahimhashim/Desktop/Monkey-Emotions/video/gandalf_231023/gandalf_231023_100_e3v83d6.mp4\n",
      "Duration of video [s]:  14.22 , recorded with  120.0 fps!\n",
      "Overall # of frames:  1707  found with (before cropping) frame dimensions:  640 480\n",
      "Starting to extract posture\n"
     ]
    },
    {
     "name": "stderr",
     "output_type": "stream",
     "text": [
      "100%|██████████| 1707/1707 [02:04<00:00, 13.74it/s]\n"
     ]
    },
    {
     "name": "stdout",
     "output_type": "stream",
     "text": [
      "Saving results in /Users/rahimhashim/Desktop/Monkey-Emotions/video/gandalf_231023...\n",
      "Saving csv poses!\n",
      "Starting to analyze %  /Users/rahimhashim/Desktop/Monkey-Emotions/video/gandalf_231023/gandalf_231023_101_e3v83d6.mp4\n",
      "Loading  /Users/rahimhashim/Desktop/Monkey-Emotions/video/gandalf_231023/gandalf_231023_101_e3v83d6.mp4\n",
      "Duration of video [s]:  10.45 , recorded with  120.0 fps!\n",
      "Overall # of frames:  1254  found with (before cropping) frame dimensions:  640 480\n",
      "Starting to extract posture\n"
     ]
    },
    {
     "name": "stderr",
     "output_type": "stream",
     "text": [
      "100%|██████████| 1254/1254 [01:38<00:00, 12.77it/s]\n"
     ]
    },
    {
     "name": "stdout",
     "output_type": "stream",
     "text": [
      "Saving results in /Users/rahimhashim/Desktop/Monkey-Emotions/video/gandalf_231023...\n",
      "Saving csv poses!\n",
      "Starting to analyze %  /Users/rahimhashim/Desktop/Monkey-Emotions/video/gandalf_231023/gandalf_231023_102_e3v83d6.mp4\n",
      "Loading  /Users/rahimhashim/Desktop/Monkey-Emotions/video/gandalf_231023/gandalf_231023_102_e3v83d6.mp4\n",
      "Duration of video [s]:  11.87 , recorded with  120.0 fps!\n",
      "Overall # of frames:  1424  found with (before cropping) frame dimensions:  640 480\n",
      "Starting to extract posture\n"
     ]
    },
    {
     "name": "stderr",
     "output_type": "stream",
     "text": [
      "100%|██████████| 1424/1424 [01:50<00:00, 12.94it/s]\n"
     ]
    },
    {
     "name": "stdout",
     "output_type": "stream",
     "text": [
      "Saving results in /Users/rahimhashim/Desktop/Monkey-Emotions/video/gandalf_231023...\n",
      "Saving csv poses!\n",
      "Starting to analyze %  /Users/rahimhashim/Desktop/Monkey-Emotions/video/gandalf_231023/gandalf_231023_103_e3v83d6.mp4\n",
      "Loading  /Users/rahimhashim/Desktop/Monkey-Emotions/video/gandalf_231023/gandalf_231023_103_e3v83d6.mp4\n",
      "Duration of video [s]:  15.23 , recorded with  120.0 fps!\n",
      "Overall # of frames:  1828  found with (before cropping) frame dimensions:  640 480\n",
      "Starting to extract posture\n"
     ]
    },
    {
     "name": "stderr",
     "output_type": "stream",
     "text": [
      "100%|██████████| 1828/1828 [02:15<00:00, 13.47it/s]\n"
     ]
    },
    {
     "name": "stdout",
     "output_type": "stream",
     "text": [
      "Saving results in /Users/rahimhashim/Desktop/Monkey-Emotions/video/gandalf_231023...\n",
      "Saving csv poses!\n",
      "Starting to analyze %  /Users/rahimhashim/Desktop/Monkey-Emotions/video/gandalf_231023/gandalf_231023_104_e3v83d6.mp4\n",
      "Loading  /Users/rahimhashim/Desktop/Monkey-Emotions/video/gandalf_231023/gandalf_231023_104_e3v83d6.mp4\n",
      "Duration of video [s]:  15.22 , recorded with  120.0 fps!\n",
      "Overall # of frames:  1827  found with (before cropping) frame dimensions:  640 480\n",
      "Starting to extract posture\n"
     ]
    },
    {
     "name": "stderr",
     "output_type": "stream",
     "text": [
      "100%|██████████| 1827/1827 [02:11<00:00, 13.91it/s]\n"
     ]
    },
    {
     "name": "stdout",
     "output_type": "stream",
     "text": [
      "Saving results in /Users/rahimhashim/Desktop/Monkey-Emotions/video/gandalf_231023...\n",
      "Saving csv poses!\n",
      "Starting to analyze %  /Users/rahimhashim/Desktop/Monkey-Emotions/video/gandalf_231023/gandalf_231023_105_e3v83d6.mp4\n",
      "Loading  /Users/rahimhashim/Desktop/Monkey-Emotions/video/gandalf_231023/gandalf_231023_105_e3v83d6.mp4\n",
      "Duration of video [s]:  14.38 , recorded with  120.0 fps!\n",
      "Overall # of frames:  1725  found with (before cropping) frame dimensions:  640 480\n",
      "Starting to extract posture\n"
     ]
    },
    {
     "name": "stderr",
     "output_type": "stream",
     "text": [
      "100%|██████████| 1725/1725 [02:09<00:00, 13.34it/s]\n"
     ]
    },
    {
     "name": "stdout",
     "output_type": "stream",
     "text": [
      "Saving results in /Users/rahimhashim/Desktop/Monkey-Emotions/video/gandalf_231023...\n",
      "Saving csv poses!\n",
      "Starting to analyze %  /Users/rahimhashim/Desktop/Monkey-Emotions/video/gandalf_231023/gandalf_231023_106_e3v83d6.mp4\n",
      "Loading  /Users/rahimhashim/Desktop/Monkey-Emotions/video/gandalf_231023/gandalf_231023_106_e3v83d6.mp4\n",
      "Duration of video [s]:  10.78 , recorded with  120.0 fps!\n",
      "Overall # of frames:  1294  found with (before cropping) frame dimensions:  640 480\n",
      "Starting to extract posture\n"
     ]
    },
    {
     "name": "stderr",
     "output_type": "stream",
     "text": [
      "100%|██████████| 1294/1294 [01:46<00:00, 12.18it/s]\n"
     ]
    },
    {
     "name": "stdout",
     "output_type": "stream",
     "text": [
      "Saving results in /Users/rahimhashim/Desktop/Monkey-Emotions/video/gandalf_231023...\n",
      "Saving csv poses!\n",
      "Starting to analyze %  /Users/rahimhashim/Desktop/Monkey-Emotions/video/gandalf_231023/gandalf_231023_107_e3v83d6.mp4\n",
      "Loading  /Users/rahimhashim/Desktop/Monkey-Emotions/video/gandalf_231023/gandalf_231023_107_e3v83d6.mp4\n",
      "Duration of video [s]:  14.85 , recorded with  120.0 fps!\n",
      "Overall # of frames:  1782  found with (before cropping) frame dimensions:  640 480\n",
      "Starting to extract posture\n"
     ]
    },
    {
     "name": "stderr",
     "output_type": "stream",
     "text": [
      "100%|██████████| 1782/1782 [02:11<00:00, 13.52it/s]\n"
     ]
    },
    {
     "name": "stdout",
     "output_type": "stream",
     "text": [
      "Saving results in /Users/rahimhashim/Desktop/Monkey-Emotions/video/gandalf_231023...\n",
      "Saving csv poses!\n",
      "Starting to analyze %  /Users/rahimhashim/Desktop/Monkey-Emotions/video/gandalf_231023/gandalf_231023_108_e3v83d6.mp4\n",
      "Loading  /Users/rahimhashim/Desktop/Monkey-Emotions/video/gandalf_231023/gandalf_231023_108_e3v83d6.mp4\n",
      "Duration of video [s]:  13.43 , recorded with  120.0 fps!\n",
      "Overall # of frames:  1612  found with (before cropping) frame dimensions:  640 480\n",
      "Starting to extract posture\n"
     ]
    },
    {
     "name": "stderr",
     "output_type": "stream",
     "text": [
      "100%|██████████| 1612/1612 [01:56<00:00, 13.87it/s]\n"
     ]
    },
    {
     "name": "stdout",
     "output_type": "stream",
     "text": [
      "Saving results in /Users/rahimhashim/Desktop/Monkey-Emotions/video/gandalf_231023...\n",
      "Saving csv poses!\n",
      "Starting to analyze %  /Users/rahimhashim/Desktop/Monkey-Emotions/video/gandalf_231023/gandalf_231023_109_e3v83d6.mp4\n",
      "Loading  /Users/rahimhashim/Desktop/Monkey-Emotions/video/gandalf_231023/gandalf_231023_109_e3v83d6.mp4\n",
      "Duration of video [s]:  16.45 , recorded with  120.0 fps!\n",
      "Overall # of frames:  1974  found with (before cropping) frame dimensions:  640 480\n",
      "Starting to extract posture\n"
     ]
    },
    {
     "name": "stderr",
     "output_type": "stream",
     "text": [
      "100%|██████████| 1974/1974 [02:18<00:00, 14.24it/s]\n"
     ]
    },
    {
     "name": "stdout",
     "output_type": "stream",
     "text": [
      "Saving results in /Users/rahimhashim/Desktop/Monkey-Emotions/video/gandalf_231023...\n",
      "Saving csv poses!\n",
      "Starting to analyze %  /Users/rahimhashim/Desktop/Monkey-Emotions/video/gandalf_231023/gandalf_231023_110_e3v83d6.mp4\n",
      "Loading  /Users/rahimhashim/Desktop/Monkey-Emotions/video/gandalf_231023/gandalf_231023_110_e3v83d6.mp4\n",
      "Duration of video [s]:  11.51 , recorded with  120.0 fps!\n",
      "Overall # of frames:  1381  found with (before cropping) frame dimensions:  640 480\n",
      "Starting to extract posture\n"
     ]
    },
    {
     "name": "stderr",
     "output_type": "stream",
     "text": [
      "100%|██████████| 1381/1381 [01:52<00:00, 12.31it/s]\n"
     ]
    },
    {
     "name": "stdout",
     "output_type": "stream",
     "text": [
      "Saving results in /Users/rahimhashim/Desktop/Monkey-Emotions/video/gandalf_231023...\n",
      "Saving csv poses!\n",
      "Starting to analyze %  /Users/rahimhashim/Desktop/Monkey-Emotions/video/gandalf_231023/gandalf_231023_111_e3v83d6.mp4\n",
      "Loading  /Users/rahimhashim/Desktop/Monkey-Emotions/video/gandalf_231023/gandalf_231023_111_e3v83d6.mp4\n",
      "Duration of video [s]:  15.42 , recorded with  120.0 fps!\n",
      "Overall # of frames:  1850  found with (before cropping) frame dimensions:  640 480\n",
      "Starting to extract posture\n"
     ]
    },
    {
     "name": "stderr",
     "output_type": "stream",
     "text": [
      "100%|██████████| 1850/1850 [02:16<00:00, 13.56it/s]\n"
     ]
    },
    {
     "name": "stdout",
     "output_type": "stream",
     "text": [
      "Saving results in /Users/rahimhashim/Desktop/Monkey-Emotions/video/gandalf_231023...\n",
      "Saving csv poses!\n",
      "Starting to analyze %  /Users/rahimhashim/Desktop/Monkey-Emotions/video/gandalf_231023/gandalf_231023_112_e3v83d6.mp4\n",
      "Loading  /Users/rahimhashim/Desktop/Monkey-Emotions/video/gandalf_231023/gandalf_231023_112_e3v83d6.mp4\n",
      "Duration of video [s]:  12.25 , recorded with  120.0 fps!\n",
      "Overall # of frames:  1470  found with (before cropping) frame dimensions:  640 480\n",
      "Starting to extract posture\n"
     ]
    },
    {
     "name": "stderr",
     "output_type": "stream",
     "text": [
      "100%|██████████| 1470/1470 [01:57<00:00, 12.46it/s]\n"
     ]
    },
    {
     "name": "stdout",
     "output_type": "stream",
     "text": [
      "Saving results in /Users/rahimhashim/Desktop/Monkey-Emotions/video/gandalf_231023...\n",
      "Saving csv poses!\n",
      "Starting to analyze %  /Users/rahimhashim/Desktop/Monkey-Emotions/video/gandalf_231023/gandalf_231023_113_e3v83d6.mp4\n",
      "Loading  /Users/rahimhashim/Desktop/Monkey-Emotions/video/gandalf_231023/gandalf_231023_113_e3v83d6.mp4\n",
      "Duration of video [s]:  11.57 , recorded with  120.0 fps!\n",
      "Overall # of frames:  1388  found with (before cropping) frame dimensions:  640 480\n",
      "Starting to extract posture\n"
     ]
    },
    {
     "name": "stderr",
     "output_type": "stream",
     "text": [
      "100%|██████████| 1388/1388 [01:49<00:00, 12.67it/s]\n"
     ]
    },
    {
     "name": "stdout",
     "output_type": "stream",
     "text": [
      "Saving results in /Users/rahimhashim/Desktop/Monkey-Emotions/video/gandalf_231023...\n",
      "Saving csv poses!\n",
      "Starting to analyze %  /Users/rahimhashim/Desktop/Monkey-Emotions/video/gandalf_231023/gandalf_231023_114_e3v83d6.mp4\n",
      "Loading  /Users/rahimhashim/Desktop/Monkey-Emotions/video/gandalf_231023/gandalf_231023_114_e3v83d6.mp4\n",
      "Duration of video [s]:  10.02 , recorded with  120.0 fps!\n",
      "Overall # of frames:  1202  found with (before cropping) frame dimensions:  640 480\n",
      "Starting to extract posture\n"
     ]
    },
    {
     "name": "stderr",
     "output_type": "stream",
     "text": [
      "100%|██████████| 1202/1202 [01:39<00:00, 12.06it/s]\n"
     ]
    },
    {
     "name": "stdout",
     "output_type": "stream",
     "text": [
      "Saving results in /Users/rahimhashim/Desktop/Monkey-Emotions/video/gandalf_231023...\n",
      "Saving csv poses!\n",
      "Starting to analyze %  /Users/rahimhashim/Desktop/Monkey-Emotions/video/gandalf_231023/gandalf_231023_115_e3v83d6.mp4\n",
      "Loading  /Users/rahimhashim/Desktop/Monkey-Emotions/video/gandalf_231023/gandalf_231023_115_e3v83d6.mp4\n",
      "Duration of video [s]:  14.7 , recorded with  120.0 fps!\n",
      "Overall # of frames:  1764  found with (before cropping) frame dimensions:  640 480\n",
      "Starting to extract posture\n"
     ]
    },
    {
     "name": "stderr",
     "output_type": "stream",
     "text": [
      "100%|██████████| 1764/1764 [02:11<00:00, 13.41it/s]\n"
     ]
    },
    {
     "name": "stdout",
     "output_type": "stream",
     "text": [
      "Saving results in /Users/rahimhashim/Desktop/Monkey-Emotions/video/gandalf_231023...\n",
      "Saving csv poses!\n",
      "Starting to analyze %  /Users/rahimhashim/Desktop/Monkey-Emotions/video/gandalf_231023/gandalf_231023_116_e3v83d6.mp4\n",
      "Loading  /Users/rahimhashim/Desktop/Monkey-Emotions/video/gandalf_231023/gandalf_231023_116_e3v83d6.mp4\n",
      "Duration of video [s]:  15.12 , recorded with  120.0 fps!\n",
      "Overall # of frames:  1815  found with (before cropping) frame dimensions:  640 480\n",
      "Starting to extract posture\n"
     ]
    },
    {
     "name": "stderr",
     "output_type": "stream",
     "text": [
      "100%|██████████| 1815/1815 [02:13<00:00, 13.63it/s]\n"
     ]
    },
    {
     "name": "stdout",
     "output_type": "stream",
     "text": [
      "Saving results in /Users/rahimhashim/Desktop/Monkey-Emotions/video/gandalf_231023...\n",
      "Saving csv poses!\n",
      "Starting to analyze %  /Users/rahimhashim/Desktop/Monkey-Emotions/video/gandalf_231023/gandalf_231023_117_e3v83d6.mp4\n",
      "Loading  /Users/rahimhashim/Desktop/Monkey-Emotions/video/gandalf_231023/gandalf_231023_117_e3v83d6.mp4\n",
      "Duration of video [s]:  16.56 , recorded with  120.0 fps!\n",
      "Overall # of frames:  1987  found with (before cropping) frame dimensions:  640 480\n",
      "Starting to extract posture\n"
     ]
    },
    {
     "name": "stderr",
     "output_type": "stream",
     "text": [
      "100%|██████████| 1987/1987 [02:23<00:00, 13.84it/s]\n"
     ]
    },
    {
     "name": "stdout",
     "output_type": "stream",
     "text": [
      "Saving results in /Users/rahimhashim/Desktop/Monkey-Emotions/video/gandalf_231023...\n",
      "Saving csv poses!\n",
      "Starting to analyze %  /Users/rahimhashim/Desktop/Monkey-Emotions/video/gandalf_231023/gandalf_231023_118_e3v83d6.mp4\n",
      "Loading  /Users/rahimhashim/Desktop/Monkey-Emotions/video/gandalf_231023/gandalf_231023_118_e3v83d6.mp4\n",
      "Duration of video [s]:  14.41 , recorded with  120.0 fps!\n",
      "Overall # of frames:  1729  found with (before cropping) frame dimensions:  640 480\n",
      "Starting to extract posture\n"
     ]
    },
    {
     "name": "stderr",
     "output_type": "stream",
     "text": [
      "100%|██████████| 1729/1729 [02:08<00:00, 13.45it/s]\n"
     ]
    },
    {
     "name": "stdout",
     "output_type": "stream",
     "text": [
      "Saving results in /Users/rahimhashim/Desktop/Monkey-Emotions/video/gandalf_231023...\n",
      "Saving csv poses!\n",
      "Starting to analyze %  /Users/rahimhashim/Desktop/Monkey-Emotions/video/gandalf_231023/gandalf_231023_119_e3v83d6.mp4\n",
      "Loading  /Users/rahimhashim/Desktop/Monkey-Emotions/video/gandalf_231023/gandalf_231023_119_e3v83d6.mp4\n",
      "Duration of video [s]:  11.98 , recorded with  120.0 fps!\n",
      "Overall # of frames:  1438  found with (before cropping) frame dimensions:  640 480\n",
      "Starting to extract posture\n"
     ]
    },
    {
     "name": "stderr",
     "output_type": "stream",
     "text": [
      "100%|██████████| 1438/1438 [01:55<00:00, 12.41it/s]\n"
     ]
    },
    {
     "name": "stdout",
     "output_type": "stream",
     "text": [
      "Saving results in /Users/rahimhashim/Desktop/Monkey-Emotions/video/gandalf_231023...\n",
      "Saving csv poses!\n",
      "Starting to analyze %  /Users/rahimhashim/Desktop/Monkey-Emotions/video/gandalf_231023/gandalf_231023_120_e3v83d6.mp4\n",
      "Loading  /Users/rahimhashim/Desktop/Monkey-Emotions/video/gandalf_231023/gandalf_231023_120_e3v83d6.mp4\n",
      "Duration of video [s]:  16.18 , recorded with  120.0 fps!\n",
      "Overall # of frames:  1941  found with (before cropping) frame dimensions:  640 480\n",
      "Starting to extract posture\n"
     ]
    },
    {
     "name": "stderr",
     "output_type": "stream",
     "text": [
      "100%|██████████| 1941/1941 [02:20<00:00, 13.80it/s]\n"
     ]
    },
    {
     "name": "stdout",
     "output_type": "stream",
     "text": [
      "Saving results in /Users/rahimhashim/Desktop/Monkey-Emotions/video/gandalf_231023...\n",
      "Saving csv poses!\n",
      "Starting to analyze %  /Users/rahimhashim/Desktop/Monkey-Emotions/video/gandalf_231023/gandalf_231023_121_e3v83d6.mp4\n",
      "Loading  /Users/rahimhashim/Desktop/Monkey-Emotions/video/gandalf_231023/gandalf_231023_121_e3v83d6.mp4\n",
      "Duration of video [s]:  13.89 , recorded with  120.0 fps!\n",
      "Overall # of frames:  1667  found with (before cropping) frame dimensions:  640 480\n",
      "Starting to extract posture\n"
     ]
    },
    {
     "name": "stderr",
     "output_type": "stream",
     "text": [
      "100%|██████████| 1667/1667 [02:05<00:00, 13.24it/s]\n"
     ]
    },
    {
     "name": "stdout",
     "output_type": "stream",
     "text": [
      "Saving results in /Users/rahimhashim/Desktop/Monkey-Emotions/video/gandalf_231023...\n",
      "Saving csv poses!\n",
      "Starting to analyze %  /Users/rahimhashim/Desktop/Monkey-Emotions/video/gandalf_231023/gandalf_231023_122_e3v83d6.mp4\n",
      "Loading  /Users/rahimhashim/Desktop/Monkey-Emotions/video/gandalf_231023/gandalf_231023_122_e3v83d6.mp4\n",
      "Duration of video [s]:  10.47 , recorded with  120.0 fps!\n",
      "Overall # of frames:  1256  found with (before cropping) frame dimensions:  640 480\n",
      "Starting to extract posture\n"
     ]
    },
    {
     "name": "stderr",
     "output_type": "stream",
     "text": [
      "100%|██████████| 1256/1256 [01:43<00:00, 12.18it/s]\n"
     ]
    },
    {
     "name": "stdout",
     "output_type": "stream",
     "text": [
      "Saving results in /Users/rahimhashim/Desktop/Monkey-Emotions/video/gandalf_231023...\n",
      "Saving csv poses!\n",
      "Starting to analyze %  /Users/rahimhashim/Desktop/Monkey-Emotions/video/gandalf_231023/gandalf_231023_123_e3v83d6.mp4\n",
      "Loading  /Users/rahimhashim/Desktop/Monkey-Emotions/video/gandalf_231023/gandalf_231023_123_e3v83d6.mp4\n",
      "Duration of video [s]:  12.8 , recorded with  120.0 fps!\n",
      "Overall # of frames:  1536  found with (before cropping) frame dimensions:  640 480\n",
      "Starting to extract posture\n"
     ]
    },
    {
     "name": "stderr",
     "output_type": "stream",
     "text": [
      "100%|██████████| 1536/1536 [02:03<00:00, 12.42it/s]\n"
     ]
    },
    {
     "name": "stdout",
     "output_type": "stream",
     "text": [
      "Saving results in /Users/rahimhashim/Desktop/Monkey-Emotions/video/gandalf_231023...\n",
      "Saving csv poses!\n",
      "Starting to analyze %  /Users/rahimhashim/Desktop/Monkey-Emotions/video/gandalf_231023/gandalf_231023_124_e3v83d6.mp4\n",
      "Loading  /Users/rahimhashim/Desktop/Monkey-Emotions/video/gandalf_231023/gandalf_231023_124_e3v83d6.mp4\n",
      "Duration of video [s]:  15.04 , recorded with  120.0 fps!\n",
      "Overall # of frames:  1805  found with (before cropping) frame dimensions:  640 480\n",
      "Starting to extract posture\n"
     ]
    },
    {
     "name": "stderr",
     "output_type": "stream",
     "text": [
      "100%|██████████| 1805/1805 [02:13<00:00, 13.51it/s]\n"
     ]
    },
    {
     "name": "stdout",
     "output_type": "stream",
     "text": [
      "Saving results in /Users/rahimhashim/Desktop/Monkey-Emotions/video/gandalf_231023...\n",
      "Saving csv poses!\n",
      "Starting to analyze %  /Users/rahimhashim/Desktop/Monkey-Emotions/video/gandalf_231023/gandalf_231023_125_e3v83d6.mp4\n",
      "Loading  /Users/rahimhashim/Desktop/Monkey-Emotions/video/gandalf_231023/gandalf_231023_125_e3v83d6.mp4\n",
      "Duration of video [s]:  14.13 , recorded with  120.0 fps!\n",
      "Overall # of frames:  1696  found with (before cropping) frame dimensions:  640 480\n",
      "Starting to extract posture\n"
     ]
    },
    {
     "name": "stderr",
     "output_type": "stream",
     "text": [
      "100%|██████████| 1696/1696 [02:09<00:00, 13.08it/s]\n"
     ]
    },
    {
     "name": "stdout",
     "output_type": "stream",
     "text": [
      "Saving results in /Users/rahimhashim/Desktop/Monkey-Emotions/video/gandalf_231023...\n",
      "Saving csv poses!\n",
      "Starting to analyze %  /Users/rahimhashim/Desktop/Monkey-Emotions/video/gandalf_231023/gandalf_231023_126_e3v83d6.mp4\n",
      "Loading  /Users/rahimhashim/Desktop/Monkey-Emotions/video/gandalf_231023/gandalf_231023_126_e3v83d6.mp4\n",
      "Duration of video [s]:  14.29 , recorded with  120.0 fps!\n",
      "Overall # of frames:  1715  found with (before cropping) frame dimensions:  640 480\n",
      "Starting to extract posture\n"
     ]
    },
    {
     "name": "stderr",
     "output_type": "stream",
     "text": [
      "100%|██████████| 1715/1715 [02:05<00:00, 13.71it/s]\n"
     ]
    },
    {
     "name": "stdout",
     "output_type": "stream",
     "text": [
      "Saving results in /Users/rahimhashim/Desktop/Monkey-Emotions/video/gandalf_231023...\n",
      "Saving csv poses!\n",
      "Starting to analyze %  /Users/rahimhashim/Desktop/Monkey-Emotions/video/gandalf_231023/gandalf_231023_127_e3v83d6.mp4\n",
      "Loading  /Users/rahimhashim/Desktop/Monkey-Emotions/video/gandalf_231023/gandalf_231023_127_e3v83d6.mp4\n",
      "Duration of video [s]:  12.38 , recorded with  120.0 fps!\n",
      "Overall # of frames:  1485  found with (before cropping) frame dimensions:  640 480\n",
      "Starting to extract posture\n"
     ]
    },
    {
     "name": "stderr",
     "output_type": "stream",
     "text": [
      "100%|██████████| 1485/1485 [01:52<00:00, 13.19it/s]\n"
     ]
    },
    {
     "name": "stdout",
     "output_type": "stream",
     "text": [
      "Saving results in /Users/rahimhashim/Desktop/Monkey-Emotions/video/gandalf_231023...\n",
      "Saving csv poses!\n",
      "Starting to analyze %  /Users/rahimhashim/Desktop/Monkey-Emotions/video/gandalf_231023/gandalf_231023_128_e3v83d6.mp4\n",
      "Loading  /Users/rahimhashim/Desktop/Monkey-Emotions/video/gandalf_231023/gandalf_231023_128_e3v83d6.mp4\n",
      "Duration of video [s]:  13.53 , recorded with  120.0 fps!\n",
      "Overall # of frames:  1624  found with (before cropping) frame dimensions:  640 480\n",
      "Starting to extract posture\n"
     ]
    },
    {
     "name": "stderr",
     "output_type": "stream",
     "text": [
      "100%|██████████| 1624/1624 [02:00<00:00, 13.49it/s]\n"
     ]
    },
    {
     "name": "stdout",
     "output_type": "stream",
     "text": [
      "Saving results in /Users/rahimhashim/Desktop/Monkey-Emotions/video/gandalf_231023...\n",
      "Saving csv poses!\n",
      "Starting to analyze %  /Users/rahimhashim/Desktop/Monkey-Emotions/video/gandalf_231023/gandalf_231023_129_e3v83d6.mp4\n",
      "Loading  /Users/rahimhashim/Desktop/Monkey-Emotions/video/gandalf_231023/gandalf_231023_129_e3v83d6.mp4\n",
      "Duration of video [s]:  11.37 , recorded with  120.0 fps!\n",
      "Overall # of frames:  1364  found with (before cropping) frame dimensions:  640 480\n",
      "Starting to extract posture\n"
     ]
    },
    {
     "name": "stderr",
     "output_type": "stream",
     "text": [
      "100%|██████████| 1364/1364 [01:47<00:00, 12.72it/s]\n"
     ]
    },
    {
     "name": "stdout",
     "output_type": "stream",
     "text": [
      "Saving results in /Users/rahimhashim/Desktop/Monkey-Emotions/video/gandalf_231023...\n",
      "Saving csv poses!\n",
      "Starting to analyze %  /Users/rahimhashim/Desktop/Monkey-Emotions/video/gandalf_231023/gandalf_231023_130_e3v83d6.mp4\n",
      "Loading  /Users/rahimhashim/Desktop/Monkey-Emotions/video/gandalf_231023/gandalf_231023_130_e3v83d6.mp4\n",
      "Duration of video [s]:  13.72 , recorded with  120.0 fps!\n",
      "Overall # of frames:  1646  found with (before cropping) frame dimensions:  640 480\n",
      "Starting to extract posture\n"
     ]
    },
    {
     "name": "stderr",
     "output_type": "stream",
     "text": [
      "100%|██████████| 1646/1646 [02:05<00:00, 13.07it/s]\n"
     ]
    },
    {
     "name": "stdout",
     "output_type": "stream",
     "text": [
      "Saving results in /Users/rahimhashim/Desktop/Monkey-Emotions/video/gandalf_231023...\n",
      "Saving csv poses!\n",
      "Starting to analyze %  /Users/rahimhashim/Desktop/Monkey-Emotions/video/gandalf_231023/gandalf_231023_131_e3v83d6.mp4\n",
      "Loading  /Users/rahimhashim/Desktop/Monkey-Emotions/video/gandalf_231023/gandalf_231023_131_e3v83d6.mp4\n",
      "Duration of video [s]:  13.68 , recorded with  120.0 fps!\n",
      "Overall # of frames:  1642  found with (before cropping) frame dimensions:  640 480\n",
      "Starting to extract posture\n"
     ]
    },
    {
     "name": "stderr",
     "output_type": "stream",
     "text": [
      "100%|██████████| 1642/1642 [02:08<00:00, 12.73it/s]\n"
     ]
    },
    {
     "name": "stdout",
     "output_type": "stream",
     "text": [
      "Saving results in /Users/rahimhashim/Desktop/Monkey-Emotions/video/gandalf_231023...\n",
      "Saving csv poses!\n",
      "Starting to analyze %  /Users/rahimhashim/Desktop/Monkey-Emotions/video/gandalf_231023/gandalf_231023_132_e3v83d6.mp4\n",
      "Loading  /Users/rahimhashim/Desktop/Monkey-Emotions/video/gandalf_231023/gandalf_231023_132_e3v83d6.mp4\n",
      "Duration of video [s]:  12.23 , recorded with  120.0 fps!\n",
      "Overall # of frames:  1468  found with (before cropping) frame dimensions:  640 480\n",
      "Starting to extract posture\n"
     ]
    },
    {
     "name": "stderr",
     "output_type": "stream",
     "text": [
      "100%|██████████| 1468/1468 [02:06<00:00, 11.61it/s]\n"
     ]
    },
    {
     "name": "stdout",
     "output_type": "stream",
     "text": [
      "Saving results in /Users/rahimhashim/Desktop/Monkey-Emotions/video/gandalf_231023...\n",
      "Saving csv poses!\n",
      "Starting to analyze %  /Users/rahimhashim/Desktop/Monkey-Emotions/video/gandalf_231023/gandalf_231023_133_e3v83d6.mp4\n",
      "Loading  /Users/rahimhashim/Desktop/Monkey-Emotions/video/gandalf_231023/gandalf_231023_133_e3v83d6.mp4\n",
      "Duration of video [s]:  18.88 , recorded with  120.0 fps!\n",
      "Overall # of frames:  2265  found with (before cropping) frame dimensions:  640 480\n",
      "Starting to extract posture\n"
     ]
    },
    {
     "name": "stderr",
     "output_type": "stream",
     "text": [
      "100%|██████████| 2265/2265 [02:46<00:00, 13.61it/s]\n"
     ]
    },
    {
     "name": "stdout",
     "output_type": "stream",
     "text": [
      "Saving results in /Users/rahimhashim/Desktop/Monkey-Emotions/video/gandalf_231023...\n",
      "Saving csv poses!\n",
      "Starting to analyze %  /Users/rahimhashim/Desktop/Monkey-Emotions/video/gandalf_231023/gandalf_231023_134_e3v83d6.mp4\n",
      "Loading  /Users/rahimhashim/Desktop/Monkey-Emotions/video/gandalf_231023/gandalf_231023_134_e3v83d6.mp4\n",
      "Duration of video [s]:  12.73 , recorded with  120.0 fps!\n",
      "Overall # of frames:  1528  found with (before cropping) frame dimensions:  640 480\n",
      "Starting to extract posture\n"
     ]
    },
    {
     "name": "stderr",
     "output_type": "stream",
     "text": [
      "100%|██████████| 1528/1528 [02:12<00:00, 11.55it/s]\n"
     ]
    },
    {
     "name": "stdout",
     "output_type": "stream",
     "text": [
      "Saving results in /Users/rahimhashim/Desktop/Monkey-Emotions/video/gandalf_231023...\n",
      "Saving csv poses!\n",
      "Starting to analyze %  /Users/rahimhashim/Desktop/Monkey-Emotions/video/gandalf_231023/gandalf_231023_135_e3v83d6.mp4\n",
      "Loading  /Users/rahimhashim/Desktop/Monkey-Emotions/video/gandalf_231023/gandalf_231023_135_e3v83d6.mp4\n",
      "Duration of video [s]:  14.49 , recorded with  120.0 fps!\n",
      "Overall # of frames:  1739  found with (before cropping) frame dimensions:  640 480\n",
      "Starting to extract posture\n"
     ]
    },
    {
     "name": "stderr",
     "output_type": "stream",
     "text": [
      "100%|██████████| 1739/1739 [02:18<00:00, 12.52it/s]\n"
     ]
    },
    {
     "name": "stdout",
     "output_type": "stream",
     "text": [
      "Saving results in /Users/rahimhashim/Desktop/Monkey-Emotions/video/gandalf_231023...\n",
      "Saving csv poses!\n",
      "Starting to analyze %  /Users/rahimhashim/Desktop/Monkey-Emotions/video/gandalf_231023/gandalf_231023_136_e3v83d6.mp4\n",
      "Loading  /Users/rahimhashim/Desktop/Monkey-Emotions/video/gandalf_231023/gandalf_231023_136_e3v83d6.mp4\n",
      "Duration of video [s]:  16.2 , recorded with  120.0 fps!\n",
      "Overall # of frames:  1944  found with (before cropping) frame dimensions:  640 480\n",
      "Starting to extract posture\n"
     ]
    },
    {
     "name": "stderr",
     "output_type": "stream",
     "text": [
      "100%|██████████| 1944/1944 [02:26<00:00, 13.26it/s]\n"
     ]
    },
    {
     "name": "stdout",
     "output_type": "stream",
     "text": [
      "Saving results in /Users/rahimhashim/Desktop/Monkey-Emotions/video/gandalf_231023...\n",
      "Saving csv poses!\n",
      "Starting to analyze %  /Users/rahimhashim/Desktop/Monkey-Emotions/video/gandalf_231023/gandalf_231023_137_e3v83d6.mp4\n",
      "Loading  /Users/rahimhashim/Desktop/Monkey-Emotions/video/gandalf_231023/gandalf_231023_137_e3v83d6.mp4\n",
      "Duration of video [s]:  19.29 , recorded with  120.0 fps!\n",
      "Overall # of frames:  2315  found with (before cropping) frame dimensions:  640 480\n",
      "Starting to extract posture\n"
     ]
    },
    {
     "name": "stderr",
     "output_type": "stream",
     "text": [
      "100%|██████████| 2315/2315 [02:43<00:00, 14.13it/s]\n"
     ]
    },
    {
     "name": "stdout",
     "output_type": "stream",
     "text": [
      "Saving results in /Users/rahimhashim/Desktop/Monkey-Emotions/video/gandalf_231023...\n",
      "Saving csv poses!\n",
      "Starting to analyze %  /Users/rahimhashim/Desktop/Monkey-Emotions/video/gandalf_231023/gandalf_231023_138_e3v83d6.mp4\n",
      "Loading  /Users/rahimhashim/Desktop/Monkey-Emotions/video/gandalf_231023/gandalf_231023_138_e3v83d6.mp4\n",
      "Duration of video [s]:  13.0 , recorded with  120.0 fps!\n",
      "Overall # of frames:  1560  found with (before cropping) frame dimensions:  640 480\n",
      "Starting to extract posture\n"
     ]
    },
    {
     "name": "stderr",
     "output_type": "stream",
     "text": [
      "100%|██████████| 1560/1560 [02:07<00:00, 12.26it/s]\n"
     ]
    },
    {
     "name": "stdout",
     "output_type": "stream",
     "text": [
      "Saving results in /Users/rahimhashim/Desktop/Monkey-Emotions/video/gandalf_231023...\n",
      "Saving csv poses!\n",
      "Starting to analyze %  /Users/rahimhashim/Desktop/Monkey-Emotions/video/gandalf_231023/gandalf_231023_139_e3v83d6.mp4\n",
      "Loading  /Users/rahimhashim/Desktop/Monkey-Emotions/video/gandalf_231023/gandalf_231023_139_e3v83d6.mp4\n",
      "Duration of video [s]:  13.59 , recorded with  120.0 fps!\n",
      "Overall # of frames:  1631  found with (before cropping) frame dimensions:  640 480\n",
      "Starting to extract posture\n"
     ]
    },
    {
     "name": "stderr",
     "output_type": "stream",
     "text": [
      "100%|██████████| 1631/1631 [01:59<00:00, 13.68it/s]\n"
     ]
    },
    {
     "name": "stdout",
     "output_type": "stream",
     "text": [
      "Saving results in /Users/rahimhashim/Desktop/Monkey-Emotions/video/gandalf_231023...\n",
      "Saving csv poses!\n",
      "Starting to analyze %  /Users/rahimhashim/Desktop/Monkey-Emotions/video/gandalf_231023/gandalf_231023_140_e3v83d6.mp4\n",
      "Loading  /Users/rahimhashim/Desktop/Monkey-Emotions/video/gandalf_231023/gandalf_231023_140_e3v83d6.mp4\n",
      "Duration of video [s]:  16.32 , recorded with  120.0 fps!\n",
      "Overall # of frames:  1959  found with (before cropping) frame dimensions:  640 480\n",
      "Starting to extract posture\n"
     ]
    },
    {
     "name": "stderr",
     "output_type": "stream",
     "text": [
      "100%|██████████| 1959/1959 [02:19<00:00, 14.03it/s]\n"
     ]
    },
    {
     "name": "stdout",
     "output_type": "stream",
     "text": [
      "Saving results in /Users/rahimhashim/Desktop/Monkey-Emotions/video/gandalf_231023...\n",
      "Saving csv poses!\n",
      "Starting to analyze %  /Users/rahimhashim/Desktop/Monkey-Emotions/video/gandalf_231023/gandalf_231023_141_e3v83d6.mp4\n",
      "Loading  /Users/rahimhashim/Desktop/Monkey-Emotions/video/gandalf_231023/gandalf_231023_141_e3v83d6.mp4\n",
      "Duration of video [s]:  10.07 , recorded with  120.0 fps!\n",
      "Overall # of frames:  1209  found with (before cropping) frame dimensions:  640 480\n",
      "Starting to extract posture\n"
     ]
    },
    {
     "name": "stderr",
     "output_type": "stream",
     "text": [
      "100%|██████████| 1209/1209 [01:48<00:00, 11.15it/s]\n"
     ]
    },
    {
     "name": "stdout",
     "output_type": "stream",
     "text": [
      "Saving results in /Users/rahimhashim/Desktop/Monkey-Emotions/video/gandalf_231023...\n",
      "Saving csv poses!\n",
      "Starting to analyze %  /Users/rahimhashim/Desktop/Monkey-Emotions/video/gandalf_231023/gandalf_231023_142_e3v83d6.mp4\n",
      "Loading  /Users/rahimhashim/Desktop/Monkey-Emotions/video/gandalf_231023/gandalf_231023_142_e3v83d6.mp4\n",
      "Duration of video [s]:  11.33 , recorded with  120.0 fps!\n",
      "Overall # of frames:  1360  found with (before cropping) frame dimensions:  640 480\n",
      "Starting to extract posture\n"
     ]
    },
    {
     "name": "stderr",
     "output_type": "stream",
     "text": [
      "100%|██████████| 1360/1360 [01:55<00:00, 11.77it/s]\n"
     ]
    },
    {
     "name": "stdout",
     "output_type": "stream",
     "text": [
      "Saving results in /Users/rahimhashim/Desktop/Monkey-Emotions/video/gandalf_231023...\n",
      "Saving csv poses!\n",
      "Starting to analyze %  /Users/rahimhashim/Desktop/Monkey-Emotions/video/gandalf_231023/gandalf_231023_143_e3v83d6.mp4\n",
      "Loading  /Users/rahimhashim/Desktop/Monkey-Emotions/video/gandalf_231023/gandalf_231023_143_e3v83d6.mp4\n",
      "Duration of video [s]:  12.1 , recorded with  120.0 fps!\n",
      "Overall # of frames:  1452  found with (before cropping) frame dimensions:  640 480\n",
      "Starting to extract posture\n"
     ]
    },
    {
     "name": "stderr",
     "output_type": "stream",
     "text": [
      "100%|██████████| 1452/1452 [01:55<00:00, 12.56it/s]\n"
     ]
    },
    {
     "name": "stdout",
     "output_type": "stream",
     "text": [
      "Saving results in /Users/rahimhashim/Desktop/Monkey-Emotions/video/gandalf_231023...\n",
      "Saving csv poses!\n",
      "Starting to analyze %  /Users/rahimhashim/Desktop/Monkey-Emotions/video/gandalf_231023/gandalf_231023_144_e3v83d6.mp4\n",
      "Loading  /Users/rahimhashim/Desktop/Monkey-Emotions/video/gandalf_231023/gandalf_231023_144_e3v83d6.mp4\n",
      "Duration of video [s]:  14.59 , recorded with  120.0 fps!\n",
      "Overall # of frames:  1751  found with (before cropping) frame dimensions:  640 480\n",
      "Starting to extract posture\n"
     ]
    },
    {
     "name": "stderr",
     "output_type": "stream",
     "text": [
      "100%|██████████| 1751/1751 [02:08<00:00, 13.65it/s]\n"
     ]
    },
    {
     "name": "stdout",
     "output_type": "stream",
     "text": [
      "Saving results in /Users/rahimhashim/Desktop/Monkey-Emotions/video/gandalf_231023...\n",
      "Saving csv poses!\n",
      "Starting to analyze %  /Users/rahimhashim/Desktop/Monkey-Emotions/video/gandalf_231023/gandalf_231023_145_e3v83d6.mp4\n",
      "Loading  /Users/rahimhashim/Desktop/Monkey-Emotions/video/gandalf_231023/gandalf_231023_145_e3v83d6.mp4\n",
      "Duration of video [s]:  15.74 , recorded with  120.0 fps!\n",
      "Overall # of frames:  1889  found with (before cropping) frame dimensions:  640 480\n",
      "Starting to extract posture\n"
     ]
    },
    {
     "name": "stderr",
     "output_type": "stream",
     "text": [
      "100%|██████████| 1889/1889 [02:13<00:00, 14.12it/s]\n"
     ]
    },
    {
     "name": "stdout",
     "output_type": "stream",
     "text": [
      "Saving results in /Users/rahimhashim/Desktop/Monkey-Emotions/video/gandalf_231023...\n",
      "Saving csv poses!\n",
      "Starting to analyze %  /Users/rahimhashim/Desktop/Monkey-Emotions/video/gandalf_231023/gandalf_231023_146_e3v83d6.mp4\n",
      "Loading  /Users/rahimhashim/Desktop/Monkey-Emotions/video/gandalf_231023/gandalf_231023_146_e3v83d6.mp4\n",
      "Duration of video [s]:  19.94 , recorded with  120.0 fps!\n",
      "Overall # of frames:  2393  found with (before cropping) frame dimensions:  640 480\n",
      "Starting to extract posture\n"
     ]
    },
    {
     "name": "stderr",
     "output_type": "stream",
     "text": [
      "100%|██████████| 2393/2393 [06:12<00:00,  6.42it/s]  \n"
     ]
    },
    {
     "name": "stdout",
     "output_type": "stream",
     "text": [
      "Saving results in /Users/rahimhashim/Desktop/Monkey-Emotions/video/gandalf_231023...\n",
      "Saving csv poses!\n",
      "Starting to analyze %  /Users/rahimhashim/Desktop/Monkey-Emotions/video/gandalf_231023/gandalf_231023_147_e3v83d6.mp4\n",
      "Loading  /Users/rahimhashim/Desktop/Monkey-Emotions/video/gandalf_231023/gandalf_231023_147_e3v83d6.mp4\n",
      "Duration of video [s]:  11.47 , recorded with  120.0 fps!\n",
      "Overall # of frames:  1376  found with (before cropping) frame dimensions:  640 480\n",
      "Starting to extract posture\n"
     ]
    },
    {
     "name": "stderr",
     "output_type": "stream",
     "text": [
      "100%|██████████| 1376/1376 [03:00<00:00,  7.63it/s]\n"
     ]
    },
    {
     "name": "stdout",
     "output_type": "stream",
     "text": [
      "Saving results in /Users/rahimhashim/Desktop/Monkey-Emotions/video/gandalf_231023...\n",
      "Saving csv poses!\n",
      "Starting to analyze %  /Users/rahimhashim/Desktop/Monkey-Emotions/video/gandalf_231023/gandalf_231023_148_e3v83d6.mp4\n",
      "Loading  /Users/rahimhashim/Desktop/Monkey-Emotions/video/gandalf_231023/gandalf_231023_148_e3v83d6.mp4\n",
      "Duration of video [s]:  17.12 , recorded with  120.0 fps!\n",
      "Overall # of frames:  2054  found with (before cropping) frame dimensions:  640 480\n",
      "Starting to extract posture\n"
     ]
    },
    {
     "name": "stderr",
     "output_type": "stream",
     "text": [
      "100%|██████████| 2054/2054 [02:22<00:00, 14.38it/s]\n"
     ]
    },
    {
     "name": "stdout",
     "output_type": "stream",
     "text": [
      "Saving results in /Users/rahimhashim/Desktop/Monkey-Emotions/video/gandalf_231023...\n",
      "Saving csv poses!\n",
      "Starting to analyze %  /Users/rahimhashim/Desktop/Monkey-Emotions/video/gandalf_231023/gandalf_231023_149_e3v83d6.mp4\n",
      "Loading  /Users/rahimhashim/Desktop/Monkey-Emotions/video/gandalf_231023/gandalf_231023_149_e3v83d6.mp4\n",
      "Duration of video [s]:  18.57 , recorded with  120.0 fps!\n",
      "Overall # of frames:  2229  found with (before cropping) frame dimensions:  640 480\n",
      "Starting to extract posture\n"
     ]
    },
    {
     "name": "stderr",
     "output_type": "stream",
     "text": [
      "100%|██████████| 2229/2229 [02:34<00:00, 14.46it/s]\n"
     ]
    },
    {
     "name": "stdout",
     "output_type": "stream",
     "text": [
      "Saving results in /Users/rahimhashim/Desktop/Monkey-Emotions/video/gandalf_231023...\n",
      "Saving csv poses!\n",
      "Starting to analyze %  /Users/rahimhashim/Desktop/Monkey-Emotions/video/gandalf_231023/gandalf_231023_150_e3v83d6.mp4\n",
      "Loading  /Users/rahimhashim/Desktop/Monkey-Emotions/video/gandalf_231023/gandalf_231023_150_e3v83d6.mp4\n",
      "Duration of video [s]:  13.8 , recorded with  120.0 fps!\n",
      "Overall # of frames:  1656  found with (before cropping) frame dimensions:  640 480\n",
      "Starting to extract posture\n"
     ]
    },
    {
     "name": "stderr",
     "output_type": "stream",
     "text": [
      "100%|██████████| 1656/1656 [02:09<00:00, 12.81it/s]\n"
     ]
    },
    {
     "name": "stdout",
     "output_type": "stream",
     "text": [
      "Saving results in /Users/rahimhashim/Desktop/Monkey-Emotions/video/gandalf_231023...\n",
      "Saving csv poses!\n",
      "Starting to analyze %  /Users/rahimhashim/Desktop/Monkey-Emotions/video/gandalf_231023/gandalf_231023_151_e3v83d6.mp4\n",
      "Loading  /Users/rahimhashim/Desktop/Monkey-Emotions/video/gandalf_231023/gandalf_231023_151_e3v83d6.mp4\n",
      "Duration of video [s]:  11.27 , recorded with  120.0 fps!\n",
      "Overall # of frames:  1352  found with (before cropping) frame dimensions:  640 480\n",
      "Starting to extract posture\n"
     ]
    },
    {
     "name": "stderr",
     "output_type": "stream",
     "text": [
      "100%|██████████| 1352/1352 [01:56<00:00, 11.65it/s]\n"
     ]
    },
    {
     "name": "stdout",
     "output_type": "stream",
     "text": [
      "Saving results in /Users/rahimhashim/Desktop/Monkey-Emotions/video/gandalf_231023...\n",
      "Saving csv poses!\n",
      "Starting to analyze %  /Users/rahimhashim/Desktop/Monkey-Emotions/video/gandalf_231023/gandalf_231023_152_e3v83d6.mp4\n",
      "Loading  /Users/rahimhashim/Desktop/Monkey-Emotions/video/gandalf_231023/gandalf_231023_152_e3v83d6.mp4\n",
      "Duration of video [s]:  13.4 , recorded with  120.0 fps!\n",
      "Overall # of frames:  1608  found with (before cropping) frame dimensions:  640 480\n",
      "Starting to extract posture\n"
     ]
    },
    {
     "name": "stderr",
     "output_type": "stream",
     "text": [
      "100%|██████████| 1608/1608 [02:06<00:00, 12.68it/s]\n"
     ]
    },
    {
     "name": "stdout",
     "output_type": "stream",
     "text": [
      "Saving results in /Users/rahimhashim/Desktop/Monkey-Emotions/video/gandalf_231023...\n",
      "Saving csv poses!\n",
      "Starting to analyze %  /Users/rahimhashim/Desktop/Monkey-Emotions/video/gandalf_231023/gandalf_231023_153_e3v83d6.mp4\n",
      "Loading  /Users/rahimhashim/Desktop/Monkey-Emotions/video/gandalf_231023/gandalf_231023_153_e3v83d6.mp4\n",
      "Duration of video [s]:  16.27 , recorded with  120.0 fps!\n",
      "Overall # of frames:  1953  found with (before cropping) frame dimensions:  640 480\n",
      "Starting to extract posture\n"
     ]
    },
    {
     "name": "stderr",
     "output_type": "stream",
     "text": [
      "100%|██████████| 1953/1953 [02:27<00:00, 13.21it/s]\n"
     ]
    },
    {
     "name": "stdout",
     "output_type": "stream",
     "text": [
      "Saving results in /Users/rahimhashim/Desktop/Monkey-Emotions/video/gandalf_231023...\n",
      "Saving csv poses!\n",
      "Starting to analyze %  /Users/rahimhashim/Desktop/Monkey-Emotions/video/gandalf_231023/gandalf_231023_154_e3v83d6.mp4\n",
      "Loading  /Users/rahimhashim/Desktop/Monkey-Emotions/video/gandalf_231023/gandalf_231023_154_e3v83d6.mp4\n",
      "Duration of video [s]:  16.24 , recorded with  120.0 fps!\n",
      "Overall # of frames:  1949  found with (before cropping) frame dimensions:  640 480\n",
      "Starting to extract posture\n"
     ]
    },
    {
     "name": "stderr",
     "output_type": "stream",
     "text": [
      "100%|██████████| 1949/1949 [02:30<00:00, 12.94it/s]\n"
     ]
    },
    {
     "name": "stdout",
     "output_type": "stream",
     "text": [
      "Saving results in /Users/rahimhashim/Desktop/Monkey-Emotions/video/gandalf_231023...\n",
      "Saving csv poses!\n",
      "Starting to analyze %  /Users/rahimhashim/Desktop/Monkey-Emotions/video/gandalf_231023/gandalf_231023_155_e3v83d6.mp4\n",
      "Loading  /Users/rahimhashim/Desktop/Monkey-Emotions/video/gandalf_231023/gandalf_231023_155_e3v83d6.mp4\n",
      "Duration of video [s]:  14.78 , recorded with  120.0 fps!\n",
      "Overall # of frames:  1773  found with (before cropping) frame dimensions:  640 480\n",
      "Starting to extract posture\n"
     ]
    },
    {
     "name": "stderr",
     "output_type": "stream",
     "text": [
      "100%|██████████| 1773/1773 [02:22<00:00, 12.47it/s]\n"
     ]
    },
    {
     "name": "stdout",
     "output_type": "stream",
     "text": [
      "Saving results in /Users/rahimhashim/Desktop/Monkey-Emotions/video/gandalf_231023...\n",
      "Saving csv poses!\n",
      "Starting to analyze %  /Users/rahimhashim/Desktop/Monkey-Emotions/video/gandalf_231023/gandalf_231023_156_e3v83d6.mp4\n",
      "Loading  /Users/rahimhashim/Desktop/Monkey-Emotions/video/gandalf_231023/gandalf_231023_156_e3v83d6.mp4\n",
      "Duration of video [s]:  16.81 , recorded with  120.0 fps!\n",
      "Overall # of frames:  2017  found with (before cropping) frame dimensions:  640 480\n",
      "Starting to extract posture\n"
     ]
    },
    {
     "name": "stderr",
     "output_type": "stream",
     "text": [
      "100%|██████████| 2017/2017 [02:36<00:00, 12.88it/s]\n"
     ]
    },
    {
     "name": "stdout",
     "output_type": "stream",
     "text": [
      "Saving results in /Users/rahimhashim/Desktop/Monkey-Emotions/video/gandalf_231023...\n",
      "Saving csv poses!\n",
      "Starting to analyze %  /Users/rahimhashim/Desktop/Monkey-Emotions/video/gandalf_231023/gandalf_231023_157_e3v83d6.mp4\n",
      "Loading  /Users/rahimhashim/Desktop/Monkey-Emotions/video/gandalf_231023/gandalf_231023_157_e3v83d6.mp4\n",
      "Duration of video [s]:  14.29 , recorded with  120.0 fps!\n",
      "Overall # of frames:  1715  found with (before cropping) frame dimensions:  640 480\n",
      "Starting to extract posture\n"
     ]
    },
    {
     "name": "stderr",
     "output_type": "stream",
     "text": [
      "100%|██████████| 1715/1715 [02:18<00:00, 12.41it/s]\n"
     ]
    },
    {
     "name": "stdout",
     "output_type": "stream",
     "text": [
      "Saving results in /Users/rahimhashim/Desktop/Monkey-Emotions/video/gandalf_231023...\n",
      "Saving csv poses!\n",
      "Starting to analyze %  /Users/rahimhashim/Desktop/Monkey-Emotions/video/gandalf_231023/gandalf_231023_158_e3v83d6.mp4\n",
      "Loading  /Users/rahimhashim/Desktop/Monkey-Emotions/video/gandalf_231023/gandalf_231023_158_e3v83d6.mp4\n",
      "Duration of video [s]:  10.05 , recorded with  120.0 fps!\n",
      "Overall # of frames:  1206  found with (before cropping) frame dimensions:  640 480\n",
      "Starting to extract posture\n"
     ]
    },
    {
     "name": "stderr",
     "output_type": "stream",
     "text": [
      "100%|██████████| 1206/1206 [01:53<00:00, 10.63it/s]\n"
     ]
    },
    {
     "name": "stdout",
     "output_type": "stream",
     "text": [
      "Saving results in /Users/rahimhashim/Desktop/Monkey-Emotions/video/gandalf_231023...\n",
      "Saving csv poses!\n",
      "Starting to analyze %  /Users/rahimhashim/Desktop/Monkey-Emotions/video/gandalf_231023/gandalf_231023_159_e3v83d6.mp4\n",
      "Loading  /Users/rahimhashim/Desktop/Monkey-Emotions/video/gandalf_231023/gandalf_231023_159_e3v83d6.mp4\n",
      "Duration of video [s]:  15.92 , recorded with  120.0 fps!\n",
      "Overall # of frames:  1910  found with (before cropping) frame dimensions:  640 480\n",
      "Starting to extract posture\n"
     ]
    },
    {
     "name": "stderr",
     "output_type": "stream",
     "text": [
      "100%|██████████| 1910/1910 [02:27<00:00, 12.91it/s]\n"
     ]
    },
    {
     "name": "stdout",
     "output_type": "stream",
     "text": [
      "Saving results in /Users/rahimhashim/Desktop/Monkey-Emotions/video/gandalf_231023...\n",
      "Saving csv poses!\n",
      "Starting to analyze %  /Users/rahimhashim/Desktop/Monkey-Emotions/video/gandalf_231023/gandalf_231023_160_e3v83d6.mp4\n",
      "Loading  /Users/rahimhashim/Desktop/Monkey-Emotions/video/gandalf_231023/gandalf_231023_160_e3v83d6.mp4\n",
      "Duration of video [s]:  14.41 , recorded with  120.0 fps!\n",
      "Overall # of frames:  1729  found with (before cropping) frame dimensions:  640 480\n",
      "Starting to extract posture\n"
     ]
    },
    {
     "name": "stderr",
     "output_type": "stream",
     "text": [
      "100%|██████████| 1729/1729 [02:18<00:00, 12.52it/s]\n"
     ]
    },
    {
     "name": "stdout",
     "output_type": "stream",
     "text": [
      "Saving results in /Users/rahimhashim/Desktop/Monkey-Emotions/video/gandalf_231023...\n",
      "Saving csv poses!\n",
      "Starting to analyze %  /Users/rahimhashim/Desktop/Monkey-Emotions/video/gandalf_231023/gandalf_231023_161_e3v83d6.mp4\n",
      "Loading  /Users/rahimhashim/Desktop/Monkey-Emotions/video/gandalf_231023/gandalf_231023_161_e3v83d6.mp4\n",
      "Duration of video [s]:  10.82 , recorded with  120.0 fps!\n",
      "Overall # of frames:  1298  found with (before cropping) frame dimensions:  640 480\n",
      "Starting to extract posture\n"
     ]
    },
    {
     "name": "stderr",
     "output_type": "stream",
     "text": [
      "100%|██████████| 1298/1298 [01:54<00:00, 11.31it/s]\n"
     ]
    },
    {
     "name": "stdout",
     "output_type": "stream",
     "text": [
      "Saving results in /Users/rahimhashim/Desktop/Monkey-Emotions/video/gandalf_231023...\n",
      "Saving csv poses!\n",
      "Starting to analyze %  /Users/rahimhashim/Desktop/Monkey-Emotions/video/gandalf_231023/gandalf_231023_162_e3v83d6.mp4\n",
      "Loading  /Users/rahimhashim/Desktop/Monkey-Emotions/video/gandalf_231023/gandalf_231023_162_e3v83d6.mp4\n",
      "Duration of video [s]:  14.65 , recorded with  120.0 fps!\n",
      "Overall # of frames:  1758  found with (before cropping) frame dimensions:  640 480\n",
      "Starting to extract posture\n"
     ]
    },
    {
     "name": "stderr",
     "output_type": "stream",
     "text": [
      "100%|██████████| 1758/1758 [02:32<00:00, 11.55it/s]\n"
     ]
    },
    {
     "name": "stdout",
     "output_type": "stream",
     "text": [
      "Saving results in /Users/rahimhashim/Desktop/Monkey-Emotions/video/gandalf_231023...\n",
      "Saving csv poses!\n",
      "Starting to analyze %  /Users/rahimhashim/Desktop/Monkey-Emotions/video/gandalf_231023/gandalf_231023_163_e3v83d6.mp4\n",
      "Loading  /Users/rahimhashim/Desktop/Monkey-Emotions/video/gandalf_231023/gandalf_231023_163_e3v83d6.mp4\n",
      "Duration of video [s]:  16.11 , recorded with  120.0 fps!\n",
      "Overall # of frames:  1933  found with (before cropping) frame dimensions:  640 480\n",
      "Starting to extract posture\n"
     ]
    },
    {
     "name": "stderr",
     "output_type": "stream",
     "text": [
      "100%|██████████| 1933/1933 [02:35<00:00, 12.45it/s]\n"
     ]
    },
    {
     "name": "stdout",
     "output_type": "stream",
     "text": [
      "Saving results in /Users/rahimhashim/Desktop/Monkey-Emotions/video/gandalf_231023...\n",
      "Saving csv poses!\n",
      "Starting to analyze %  /Users/rahimhashim/Desktop/Monkey-Emotions/video/gandalf_231023/gandalf_231023_164_e3v83d6.mp4\n",
      "Loading  /Users/rahimhashim/Desktop/Monkey-Emotions/video/gandalf_231023/gandalf_231023_164_e3v83d6.mp4\n",
      "Duration of video [s]:  14.54 , recorded with  120.0 fps!\n",
      "Overall # of frames:  1745  found with (before cropping) frame dimensions:  640 480\n",
      "Starting to extract posture\n"
     ]
    },
    {
     "name": "stderr",
     "output_type": "stream",
     "text": [
      "100%|██████████| 1745/1745 [02:28<00:00, 11.77it/s]\n"
     ]
    },
    {
     "name": "stdout",
     "output_type": "stream",
     "text": [
      "Saving results in /Users/rahimhashim/Desktop/Monkey-Emotions/video/gandalf_231023...\n",
      "Saving csv poses!\n",
      "Starting to analyze %  /Users/rahimhashim/Desktop/Monkey-Emotions/video/gandalf_231023/gandalf_231023_165_e3v83d6.mp4\n",
      "Loading  /Users/rahimhashim/Desktop/Monkey-Emotions/video/gandalf_231023/gandalf_231023_165_e3v83d6.mp4\n",
      "Duration of video [s]:  11.68 , recorded with  120.0 fps!\n",
      "Overall # of frames:  1401  found with (before cropping) frame dimensions:  640 480\n",
      "Starting to extract posture\n"
     ]
    },
    {
     "name": "stderr",
     "output_type": "stream",
     "text": [
      "100%|██████████| 1401/1401 [02:01<00:00, 11.53it/s]\n"
     ]
    },
    {
     "name": "stdout",
     "output_type": "stream",
     "text": [
      "Saving results in /Users/rahimhashim/Desktop/Monkey-Emotions/video/gandalf_231023...\n",
      "Saving csv poses!\n",
      "Starting to analyze %  /Users/rahimhashim/Desktop/Monkey-Emotions/video/gandalf_231023/gandalf_231023_166_e3v83d6.mp4\n",
      "Loading  /Users/rahimhashim/Desktop/Monkey-Emotions/video/gandalf_231023/gandalf_231023_166_e3v83d6.mp4\n",
      "Duration of video [s]:  18.52 , recorded with  120.0 fps!\n",
      "Overall # of frames:  2222  found with (before cropping) frame dimensions:  640 480\n",
      "Starting to extract posture\n"
     ]
    },
    {
     "name": "stderr",
     "output_type": "stream",
     "text": [
      "100%|██████████| 2222/2222 [02:47<00:00, 13.29it/s]\n"
     ]
    },
    {
     "name": "stdout",
     "output_type": "stream",
     "text": [
      "Saving results in /Users/rahimhashim/Desktop/Monkey-Emotions/video/gandalf_231023...\n",
      "Saving csv poses!\n",
      "Starting to analyze %  /Users/rahimhashim/Desktop/Monkey-Emotions/video/gandalf_231023/gandalf_231023_168_e3v83d6.mp4\n",
      "Loading  /Users/rahimhashim/Desktop/Monkey-Emotions/video/gandalf_231023/gandalf_231023_168_e3v83d6.mp4\n",
      "Duration of video [s]:  13.22 , recorded with  120.0 fps!\n",
      "Overall # of frames:  1586  found with (before cropping) frame dimensions:  640 480\n",
      "Starting to extract posture\n"
     ]
    },
    {
     "name": "stderr",
     "output_type": "stream",
     "text": [
      "100%|██████████| 1586/1586 [02:14<00:00, 11.79it/s]\n"
     ]
    },
    {
     "name": "stdout",
     "output_type": "stream",
     "text": [
      "Saving results in /Users/rahimhashim/Desktop/Monkey-Emotions/video/gandalf_231023...\n",
      "Saving csv poses!\n",
      "Starting to analyze %  /Users/rahimhashim/Desktop/Monkey-Emotions/video/gandalf_231023/gandalf_231023_169_e3v83d6.mp4\n",
      "Loading  /Users/rahimhashim/Desktop/Monkey-Emotions/video/gandalf_231023/gandalf_231023_169_e3v83d6.mp4\n",
      "Duration of video [s]:  11.47 , recorded with  120.0 fps!\n",
      "Overall # of frames:  1376  found with (before cropping) frame dimensions:  640 480\n",
      "Starting to extract posture\n"
     ]
    },
    {
     "name": "stderr",
     "output_type": "stream",
     "text": [
      "100%|██████████| 1376/1376 [02:07<00:00, 10.79it/s]\n"
     ]
    },
    {
     "name": "stdout",
     "output_type": "stream",
     "text": [
      "Saving results in /Users/rahimhashim/Desktop/Monkey-Emotions/video/gandalf_231023...\n",
      "Saving csv poses!\n",
      "Starting to analyze %  /Users/rahimhashim/Desktop/Monkey-Emotions/video/gandalf_231023/gandalf_231023_170_e3v83d6.mp4\n",
      "Loading  /Users/rahimhashim/Desktop/Monkey-Emotions/video/gandalf_231023/gandalf_231023_170_e3v83d6.mp4\n",
      "Duration of video [s]:  13.79 , recorded with  120.0 fps!\n",
      "Overall # of frames:  1655  found with (before cropping) frame dimensions:  640 480\n",
      "Starting to extract posture\n"
     ]
    },
    {
     "name": "stderr",
     "output_type": "stream",
     "text": [
      "100%|██████████| 1655/1655 [02:16<00:00, 12.13it/s]\n"
     ]
    },
    {
     "name": "stdout",
     "output_type": "stream",
     "text": [
      "Saving results in /Users/rahimhashim/Desktop/Monkey-Emotions/video/gandalf_231023...\n",
      "Saving csv poses!\n",
      "Starting to analyze %  /Users/rahimhashim/Desktop/Monkey-Emotions/video/gandalf_231023/gandalf_231023_171_e3v83d6.mp4\n",
      "Loading  /Users/rahimhashim/Desktop/Monkey-Emotions/video/gandalf_231023/gandalf_231023_171_e3v83d6.mp4\n",
      "Duration of video [s]:  16.79 , recorded with  120.0 fps!\n",
      "Overall # of frames:  2015  found with (before cropping) frame dimensions:  640 480\n",
      "Starting to extract posture\n"
     ]
    },
    {
     "name": "stderr",
     "output_type": "stream",
     "text": [
      "100%|██████████| 2015/2015 [02:40<00:00, 12.53it/s]\n"
     ]
    },
    {
     "name": "stdout",
     "output_type": "stream",
     "text": [
      "Saving results in /Users/rahimhashim/Desktop/Monkey-Emotions/video/gandalf_231023...\n",
      "Saving csv poses!\n",
      "Starting to analyze %  /Users/rahimhashim/Desktop/Monkey-Emotions/video/gandalf_231023/gandalf_231023_172_e3v83d6.mp4\n",
      "Loading  /Users/rahimhashim/Desktop/Monkey-Emotions/video/gandalf_231023/gandalf_231023_172_e3v83d6.mp4\n",
      "Duration of video [s]:  14.11 , recorded with  120.0 fps!\n",
      "Overall # of frames:  1693  found with (before cropping) frame dimensions:  640 480\n",
      "Starting to extract posture\n"
     ]
    },
    {
     "name": "stderr",
     "output_type": "stream",
     "text": [
      "100%|██████████| 1693/1693 [02:14<00:00, 12.63it/s]\n"
     ]
    },
    {
     "name": "stdout",
     "output_type": "stream",
     "text": [
      "Saving results in /Users/rahimhashim/Desktop/Monkey-Emotions/video/gandalf_231023...\n",
      "Saving csv poses!\n",
      "Starting to analyze %  /Users/rahimhashim/Desktop/Monkey-Emotions/video/gandalf_231023/gandalf_231023_173_e3v83d6.mp4\n",
      "Loading  /Users/rahimhashim/Desktop/Monkey-Emotions/video/gandalf_231023/gandalf_231023_173_e3v83d6.mp4\n",
      "Duration of video [s]:  14.11 , recorded with  120.0 fps!\n",
      "Overall # of frames:  1693  found with (before cropping) frame dimensions:  640 480\n",
      "Starting to extract posture\n"
     ]
    },
    {
     "name": "stderr",
     "output_type": "stream",
     "text": [
      "100%|██████████| 1693/1693 [02:32<00:00, 11.08it/s]\n"
     ]
    },
    {
     "name": "stdout",
     "output_type": "stream",
     "text": [
      "Saving results in /Users/rahimhashim/Desktop/Monkey-Emotions/video/gandalf_231023...\n",
      "Saving csv poses!\n",
      "Starting to analyze %  /Users/rahimhashim/Desktop/Monkey-Emotions/video/gandalf_231023/gandalf_231023_174_e3v83d6.mp4\n",
      "Loading  /Users/rahimhashim/Desktop/Monkey-Emotions/video/gandalf_231023/gandalf_231023_174_e3v83d6.mp4\n",
      "Duration of video [s]:  13.85 , recorded with  120.0 fps!\n",
      "Overall # of frames:  1662  found with (before cropping) frame dimensions:  640 480\n",
      "Starting to extract posture\n"
     ]
    },
    {
     "name": "stderr",
     "output_type": "stream",
     "text": [
      "100%|██████████| 1662/1662 [02:16<00:00, 12.21it/s]\n"
     ]
    },
    {
     "name": "stdout",
     "output_type": "stream",
     "text": [
      "Saving results in /Users/rahimhashim/Desktop/Monkey-Emotions/video/gandalf_231023...\n",
      "Saving csv poses!\n",
      "Starting to analyze %  /Users/rahimhashim/Desktop/Monkey-Emotions/video/gandalf_231023/gandalf_231023_175_e3v83d6.mp4\n",
      "Loading  /Users/rahimhashim/Desktop/Monkey-Emotions/video/gandalf_231023/gandalf_231023_175_e3v83d6.mp4\n",
      "Duration of video [s]:  12.13 , recorded with  120.0 fps!\n",
      "Overall # of frames:  1456  found with (before cropping) frame dimensions:  640 480\n",
      "Starting to extract posture\n"
     ]
    },
    {
     "name": "stderr",
     "output_type": "stream",
     "text": [
      "100%|██████████| 1456/1456 [02:04<00:00, 11.68it/s]\n"
     ]
    },
    {
     "name": "stdout",
     "output_type": "stream",
     "text": [
      "Saving results in /Users/rahimhashim/Desktop/Monkey-Emotions/video/gandalf_231023...\n",
      "Saving csv poses!\n",
      "Starting to analyze %  /Users/rahimhashim/Desktop/Monkey-Emotions/video/gandalf_231023/gandalf_231023_176_e3v83d6.mp4\n",
      "Loading  /Users/rahimhashim/Desktop/Monkey-Emotions/video/gandalf_231023/gandalf_231023_176_e3v83d6.mp4\n",
      "Duration of video [s]:  11.71 , recorded with  120.0 fps!\n",
      "Overall # of frames:  1405  found with (before cropping) frame dimensions:  640 480\n",
      "Starting to extract posture\n"
     ]
    },
    {
     "name": "stderr",
     "output_type": "stream",
     "text": [
      "100%|██████████| 1405/1405 [02:17<00:00, 10.22it/s]\n"
     ]
    },
    {
     "name": "stdout",
     "output_type": "stream",
     "text": [
      "Saving results in /Users/rahimhashim/Desktop/Monkey-Emotions/video/gandalf_231023...\n",
      "Saving csv poses!\n",
      "Starting to analyze %  /Users/rahimhashim/Desktop/Monkey-Emotions/video/gandalf_231023/gandalf_231023_177_e3v83d6.mp4\n",
      "Loading  /Users/rahimhashim/Desktop/Monkey-Emotions/video/gandalf_231023/gandalf_231023_177_e3v83d6.mp4\n",
      "Duration of video [s]:  16.38 , recorded with  120.0 fps!\n",
      "Overall # of frames:  1965  found with (before cropping) frame dimensions:  640 480\n",
      "Starting to extract posture\n"
     ]
    },
    {
     "name": "stderr",
     "output_type": "stream",
     "text": [
      "100%|██████████| 1965/1965 [02:22<00:00, 13.84it/s]\n"
     ]
    },
    {
     "name": "stdout",
     "output_type": "stream",
     "text": [
      "Saving results in /Users/rahimhashim/Desktop/Monkey-Emotions/video/gandalf_231023...\n",
      "Saving csv poses!\n",
      "Starting to analyze %  /Users/rahimhashim/Desktop/Monkey-Emotions/video/gandalf_231023/gandalf_231023_178_e3v83d6.mp4\n",
      "Loading  /Users/rahimhashim/Desktop/Monkey-Emotions/video/gandalf_231023/gandalf_231023_178_e3v83d6.mp4\n",
      "Duration of video [s]:  13.56 , recorded with  120.0 fps!\n",
      "Overall # of frames:  1627  found with (before cropping) frame dimensions:  640 480\n",
      "Starting to extract posture\n"
     ]
    },
    {
     "name": "stderr",
     "output_type": "stream",
     "text": [
      "100%|██████████| 1627/1627 [03:56<00:00,  6.88it/s]\n"
     ]
    },
    {
     "name": "stdout",
     "output_type": "stream",
     "text": [
      "Saving results in /Users/rahimhashim/Desktop/Monkey-Emotions/video/gandalf_231023...\n",
      "Saving csv poses!\n",
      "Starting to analyze %  /Users/rahimhashim/Desktop/Monkey-Emotions/video/gandalf_231023/gandalf_231023_179_e3v83d6.mp4\n",
      "Loading  /Users/rahimhashim/Desktop/Monkey-Emotions/video/gandalf_231023/gandalf_231023_179_e3v83d6.mp4\n",
      "Duration of video [s]:  15.36 , recorded with  120.0 fps!\n",
      "Overall # of frames:  1843  found with (before cropping) frame dimensions:  640 480\n",
      "Starting to extract posture\n"
     ]
    },
    {
     "name": "stderr",
     "output_type": "stream",
     "text": [
      "100%|██████████| 1843/1843 [02:39<00:00, 11.58it/s]\n"
     ]
    },
    {
     "name": "stdout",
     "output_type": "stream",
     "text": [
      "Saving results in /Users/rahimhashim/Desktop/Monkey-Emotions/video/gandalf_231023...\n",
      "Saving csv poses!\n",
      "Starting to analyze %  /Users/rahimhashim/Desktop/Monkey-Emotions/video/gandalf_231023/gandalf_231023_180_e3v83d6.mp4\n",
      "Loading  /Users/rahimhashim/Desktop/Monkey-Emotions/video/gandalf_231023/gandalf_231023_180_e3v83d6.mp4\n",
      "Duration of video [s]:  12.14 , recorded with  120.0 fps!\n",
      "Overall # of frames:  1457  found with (before cropping) frame dimensions:  640 480\n",
      "Starting to extract posture\n"
     ]
    },
    {
     "name": "stderr",
     "output_type": "stream",
     "text": [
      " 80%|███████▉  | 1160/1457 [01:50<00:28, 10.46it/s]\n"
     ]
    },
    {
     "name": "stdout",
     "output_type": "stream",
     "text": [
      "Starting to analyze %  /Users/rahimhashim/Desktop/Monkey-Emotions/video/gandalf_231023/gandalf_231023_181_e3v83d6.mp4\n",
      "Loading  /Users/rahimhashim/Desktop/Monkey-Emotions/video/gandalf_231023/gandalf_231023_181_e3v83d6.mp4\n",
      "Duration of video [s]:  15.28 , recorded with  120.0 fps!\n",
      "Overall # of frames:  1833  found with (before cropping) frame dimensions:  640 480\n",
      "Starting to extract posture\n"
     ]
    },
    {
     "name": "stderr",
     "output_type": "stream",
     "text": [
      "  0%|          | 0/1833 [00:00<?, ?it/s]"
     ]
    }
   ],
   "source": [
    "# Run DLC\n",
    "dlc_config.dlc_run(config_path_dict, dlc_video_path_dict, \n",
    "                   start_video=0, end_video=None, videotype='mp4')"
   ]
  },
  {
   "cell_type": "code",
   "execution_count": null,
   "metadata": {},
   "outputs": [],
   "source": []
  }
 ],
 "metadata": {
  "kernelspec": {
   "display_name": "facial-recognition",
   "language": "python",
   "name": "python3"
  },
  "language_info": {
   "codemirror_mode": {
    "name": "ipython",
    "version": 3
   },
   "file_extension": ".py",
   "mimetype": "text/x-python",
   "name": "python",
   "nbconvert_exporter": "python",
   "pygments_lexer": "ipython3",
   "version": "3.9.18"
  },
  "orig_nbformat": 4
 },
 "nbformat": 4,
 "nbformat_minor": 2
}
