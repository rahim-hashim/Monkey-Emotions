{
 "cells": [
  {
   "cell_type": "markdown",
   "metadata": {},
   "source": [
    "# DeepLabCut ModelZoo\n",
    "\n",
    "## Local Implementation of DLC Using Pretrained [ModelZoo](http://www.mackenziemathislab.org/dlc-modelzoo) SuperAnimals for Zero-Shot Labeling \n",
    "\n",
    "**Notebook Owner:** [insert name] <br>\n",
    "**Date:** [insert date]\n",
    "\n",
    "***\n",
    "\n",
    "### Installation\n",
    "Make sure you follow https://deeplabcut.github.io/DeepLabCut/docs/installation.html to install latest version of deeplabcut: \n",
    "> `git clone https://github.com/DeepLabCut/DeepLabCut.git`\n",
    "\n",
    "Make sure the version you download includes a package with modelzoo. Additionally, note which GPU you will be running on when you create the conda environment, as the packages will break if you aren't certain: \n",
    "> **Intel Chip:** `conda env create -f DEEPLABCUT.yaml` <br>\n",
    "> **Apple M1/M2:** `conda env create -f DEEPLABCUT_M1.yaml`"
   ]
  },
  {
   "cell_type": "code",
   "execution_count": 11,
   "metadata": {},
   "outputs": [
    {
     "name": "stdout",
     "output_type": "stream",
     "text": [
      "The autoreload extension is already loaded. To reload it, use:\n",
      "  %reload_ext autoreload\n",
      "Selecting session: 230717_Aragorn\n",
      "Checking for video files...\n",
      "  Video directory: /Users/rahimhashim/Google Drive/My Drive/Columbia/Salzman/Monkey-Training/tasks/rhAirpuff/8. Probabilistic_Reward_Airpuff_Choice/videos/230717_Aragorn\n"
     ]
    },
    {
     "name": "stderr",
     "output_type": "stream",
     "text": [
      "100%|██████████| 420/420 [00:00<00:00, 22568.80it/s]"
     ]
    },
    {
     "name": "stdout",
     "output_type": "stream",
     "text": [
      "Number of video files: 420\n"
     ]
    },
    {
     "name": "stderr",
     "output_type": "stream",
     "text": [
      "\n"
     ]
    },
    {
     "data": {
      "text/html": [
       "<div>\n",
       "<style scoped>\n",
       "    .dataframe tbody tr th:only-of-type {\n",
       "        vertical-align: middle;\n",
       "    }\n",
       "\n",
       "    .dataframe tbody tr th {\n",
       "        vertical-align: top;\n",
       "    }\n",
       "\n",
       "    .dataframe thead th {\n",
       "        text-align: right;\n",
       "    }\n",
       "</style>\n",
       "<table border=\"1\" class=\"dataframe\">\n",
       "  <thead>\n",
       "    <tr style=\"text-align: right;\">\n",
       "      <th></th>\n",
       "      <th>date</th>\n",
       "      <th>session_num</th>\n",
       "      <th>subject</th>\n",
       "      <th>trial_num</th>\n",
       "      <th>block</th>\n",
       "      <th>condition</th>\n",
       "      <th>correct</th>\n",
       "      <th>error</th>\n",
       "      <th>error_type</th>\n",
       "      <th>behavioral_code_markers</th>\n",
       "      <th>...</th>\n",
       "      <th>blink_raster</th>\n",
       "      <th>blink_raster_window</th>\n",
       "      <th>blink_duration_window</th>\n",
       "      <th>pupil_pre_CS</th>\n",
       "      <th>lick_in_window</th>\n",
       "      <th>blink_in_window</th>\n",
       "      <th>lick_duration</th>\n",
       "      <th>blink_duration_sig</th>\n",
       "      <th>blink_duration_offscreen</th>\n",
       "      <th>eye_distance</th>\n",
       "    </tr>\n",
       "  </thead>\n",
       "  <tbody>\n",
       "    <tr>\n",
       "      <th>0</th>\n",
       "      <td>230717</td>\n",
       "      <td>0</td>\n",
       "      <td>Aragorn</td>\n",
       "      <td>1</td>\n",
       "      <td>1</td>\n",
       "      <td>1</td>\n",
       "      <td>1</td>\n",
       "      <td>0</td>\n",
       "      <td>0</td>\n",
       "      <td>[9, 100, 101, 102, 103, 104, 105, 106, 107, 10...</td>\n",
       "      <td>...</td>\n",
       "      <td>[0.0, 0.0, 0.0, 0.0, 0.0, 0.0, 0.0, 0.0, 0.0, ...</td>\n",
       "      <td>[0.0, 0.0, 0.0, 0.0, 0.0, 0.0, 0.0, 0.0, 0.0, ...</td>\n",
       "      <td>0.420667</td>\n",
       "      <td>[7517.0, 7517.0, 7516.0, 7516.0, 7515.0, 7515....</td>\n",
       "      <td>1.0</td>\n",
       "      <td>1.0</td>\n",
       "      <td>0.709333</td>\n",
       "      <td>0.408000</td>\n",
       "      <td>0.816000</td>\n",
       "      <td>104.702938</td>\n",
       "    </tr>\n",
       "    <tr>\n",
       "      <th>2</th>\n",
       "      <td>230717</td>\n",
       "      <td>0</td>\n",
       "      <td>Aragorn</td>\n",
       "      <td>3</td>\n",
       "      <td>1</td>\n",
       "      <td>1</td>\n",
       "      <td>1</td>\n",
       "      <td>0</td>\n",
       "      <td>0</td>\n",
       "      <td>[9, 100, 101, 102, 103, 104, 105, 106, 107, 10...</td>\n",
       "      <td>...</td>\n",
       "      <td>[0.0, 1.0, 1.0, 1.0, 1.0, 1.0, 1.0, 1.0, 1.0, ...</td>\n",
       "      <td>[0.0, 0.0, 0.0, 0.0, 0.0, 0.0, 0.0, 0.0, 0.0, ...</td>\n",
       "      <td>0.398000</td>\n",
       "      <td>[7360.0, 7360.0, 7360.0, 7362.0, 7362.0, 7362....</td>\n",
       "      <td>1.0</td>\n",
       "      <td>1.0</td>\n",
       "      <td>0.900000</td>\n",
       "      <td>0.374667</td>\n",
       "      <td>0.630667</td>\n",
       "      <td>79.473832</td>\n",
       "    </tr>\n",
       "    <tr>\n",
       "      <th>3</th>\n",
       "      <td>230717</td>\n",
       "      <td>0</td>\n",
       "      <td>Aragorn</td>\n",
       "      <td>4</td>\n",
       "      <td>1</td>\n",
       "      <td>1</td>\n",
       "      <td>1</td>\n",
       "      <td>0</td>\n",
       "      <td>0</td>\n",
       "      <td>[9, 100, 101, 102, 103, 104, 105, 106, 107, 10...</td>\n",
       "      <td>...</td>\n",
       "      <td>[0.0, 0.0, 0.0, 0.0, 0.0, 0.0, 0.0, 0.0, 0.0, ...</td>\n",
       "      <td>[0.0, 0.0, 0.0, 0.0, 0.0, 0.0, 0.0, 0.0, 0.0, ...</td>\n",
       "      <td>0.005333</td>\n",
       "      <td>[7268.0, 7268.0, 7268.0, 7268.0, 7268.0, 7268....</td>\n",
       "      <td>1.0</td>\n",
       "      <td>1.0</td>\n",
       "      <td>0.961333</td>\n",
       "      <td>0.001333</td>\n",
       "      <td>0.337333</td>\n",
       "      <td>76.115814</td>\n",
       "    </tr>\n",
       "    <tr>\n",
       "      <th>4</th>\n",
       "      <td>230717</td>\n",
       "      <td>0</td>\n",
       "      <td>Aragorn</td>\n",
       "      <td>5</td>\n",
       "      <td>1</td>\n",
       "      <td>1</td>\n",
       "      <td>1</td>\n",
       "      <td>0</td>\n",
       "      <td>0</td>\n",
       "      <td>[9, 100, 101, 102, 103, 104, 105, 106, 107, 10...</td>\n",
       "      <td>...</td>\n",
       "      <td>[0.0, 0.0, 0.0, 0.0, 0.0, 0.0, 0.0, 0.0, 0.0, ...</td>\n",
       "      <td>[0.0, 0.0, 0.0, 0.0, 0.0, 0.0, 0.0, 0.0, 0.0, ...</td>\n",
       "      <td>0.000000</td>\n",
       "      <td>[6841.0, 6841.0, 6842.0, 6842.0, 6842.0, 6842....</td>\n",
       "      <td>1.0</td>\n",
       "      <td>1.0</td>\n",
       "      <td>1.000000</td>\n",
       "      <td>0.000000</td>\n",
       "      <td>0.234000</td>\n",
       "      <td>61.408204</td>\n",
       "    </tr>\n",
       "    <tr>\n",
       "      <th>5</th>\n",
       "      <td>230717</td>\n",
       "      <td>0</td>\n",
       "      <td>Aragorn</td>\n",
       "      <td>6</td>\n",
       "      <td>1</td>\n",
       "      <td>1</td>\n",
       "      <td>1</td>\n",
       "      <td>0</td>\n",
       "      <td>0</td>\n",
       "      <td>[9, 100, 101, 102, 103, 104, 105, 106, 107, 10...</td>\n",
       "      <td>...</td>\n",
       "      <td>[0.0, 0.0, 0.0, 0.0, 0.0, 0.0, 0.0, 0.0, 0.0, ...</td>\n",
       "      <td>[0.0, 0.0, 0.0, 0.0, 0.0, 0.0, 0.0, 0.0, 0.0, ...</td>\n",
       "      <td>0.035333</td>\n",
       "      <td>[6938.0, 6938.0, 6936.0, 6936.0, 6934.0, 6934....</td>\n",
       "      <td>1.0</td>\n",
       "      <td>1.0</td>\n",
       "      <td>0.784000</td>\n",
       "      <td>0.026000</td>\n",
       "      <td>0.711333</td>\n",
       "      <td>72.015905</td>\n",
       "    </tr>\n",
       "  </tbody>\n",
       "</table>\n",
       "<p>5 rows × 95 columns</p>\n",
       "</div>"
      ],
      "text/plain": [
       "     date  session_num  subject  trial_num  block  condition  correct  error  \\\n",
       "0  230717            0  Aragorn          1      1          1        1      0   \n",
       "2  230717            0  Aragorn          3      1          1        1      0   \n",
       "3  230717            0  Aragorn          4      1          1        1      0   \n",
       "4  230717            0  Aragorn          5      1          1        1      0   \n",
       "5  230717            0  Aragorn          6      1          1        1      0   \n",
       "\n",
       "   error_type                            behavioral_code_markers  ...  \\\n",
       "0           0  [9, 100, 101, 102, 103, 104, 105, 106, 107, 10...  ...   \n",
       "2           0  [9, 100, 101, 102, 103, 104, 105, 106, 107, 10...  ...   \n",
       "3           0  [9, 100, 101, 102, 103, 104, 105, 106, 107, 10...  ...   \n",
       "4           0  [9, 100, 101, 102, 103, 104, 105, 106, 107, 10...  ...   \n",
       "5           0  [9, 100, 101, 102, 103, 104, 105, 106, 107, 10...  ...   \n",
       "\n",
       "                                        blink_raster  \\\n",
       "0  [0.0, 0.0, 0.0, 0.0, 0.0, 0.0, 0.0, 0.0, 0.0, ...   \n",
       "2  [0.0, 1.0, 1.0, 1.0, 1.0, 1.0, 1.0, 1.0, 1.0, ...   \n",
       "3  [0.0, 0.0, 0.0, 0.0, 0.0, 0.0, 0.0, 0.0, 0.0, ...   \n",
       "4  [0.0, 0.0, 0.0, 0.0, 0.0, 0.0, 0.0, 0.0, 0.0, ...   \n",
       "5  [0.0, 0.0, 0.0, 0.0, 0.0, 0.0, 0.0, 0.0, 0.0, ...   \n",
       "\n",
       "                                 blink_raster_window blink_duration_window  \\\n",
       "0  [0.0, 0.0, 0.0, 0.0, 0.0, 0.0, 0.0, 0.0, 0.0, ...              0.420667   \n",
       "2  [0.0, 0.0, 0.0, 0.0, 0.0, 0.0, 0.0, 0.0, 0.0, ...              0.398000   \n",
       "3  [0.0, 0.0, 0.0, 0.0, 0.0, 0.0, 0.0, 0.0, 0.0, ...              0.005333   \n",
       "4  [0.0, 0.0, 0.0, 0.0, 0.0, 0.0, 0.0, 0.0, 0.0, ...              0.000000   \n",
       "5  [0.0, 0.0, 0.0, 0.0, 0.0, 0.0, 0.0, 0.0, 0.0, ...              0.035333   \n",
       "\n",
       "                                        pupil_pre_CS lick_in_window  \\\n",
       "0  [7517.0, 7517.0, 7516.0, 7516.0, 7515.0, 7515....            1.0   \n",
       "2  [7360.0, 7360.0, 7360.0, 7362.0, 7362.0, 7362....            1.0   \n",
       "3  [7268.0, 7268.0, 7268.0, 7268.0, 7268.0, 7268....            1.0   \n",
       "4  [6841.0, 6841.0, 6842.0, 6842.0, 6842.0, 6842....            1.0   \n",
       "5  [6938.0, 6938.0, 6936.0, 6936.0, 6934.0, 6934....            1.0   \n",
       "\n",
       "  blink_in_window lick_duration  blink_duration_sig  blink_duration_offscreen  \\\n",
       "0             1.0      0.709333            0.408000                  0.816000   \n",
       "2             1.0      0.900000            0.374667                  0.630667   \n",
       "3             1.0      0.961333            0.001333                  0.337333   \n",
       "4             1.0      1.000000            0.000000                  0.234000   \n",
       "5             1.0      0.784000            0.026000                  0.711333   \n",
       "\n",
       "   eye_distance  \n",
       "0    104.702938  \n",
       "2     79.473832  \n",
       "3     76.115814  \n",
       "4     61.408204  \n",
       "5     72.015905  \n",
       "\n",
       "[5 rows x 95 columns]"
      ]
     },
     "execution_count": 11,
     "metadata": {},
     "output_type": "execute_result"
    }
   ],
   "source": [
    "%load_ext autoreload\n",
    "%autoreload 2\n",
    "import os\n",
    "import pickle\n",
    "import pandas as pd\n",
    "import numpy as np\n",
    "from tqdm import tqdm\n",
    "import warnings\n",
    "warnings.filterwarnings(\"ignore\", category=DeprecationWarning) \n",
    "warnings.filterwarnings(\"ignore\", category=UserWarning) \n",
    "warnings.filterwarnings(\"ignore\", category=Warning)\n",
    "\n",
    "from dlc_utils.dlc_config import select_session, get_trial_video_list, clean_pretrained_project\n",
    "from dlc_utils.dlc_downsample import check_for_downsample, downsample_videos\n",
    "\n",
    "import deeplabcut\n"
   ]
  },
  {
   "cell_type": "markdown",
   "metadata": {},
   "source": [
    "***\n",
    "### Set Video Path\n",
    "`get_trial_video_list` captures all the videos from the specified video directory path. Set your `VIDEO_TYPE` to the appropriate video extension (i.e. .mp4, .mov)."
   ]
  },
  {
   "cell_type": "code",
   "execution_count": null,
   "metadata": {},
   "outputs": [],
   "source": [
    "ROOT = '/Users/rahimhashim/Google Drive/My Drive/Columbia/Salzman/Monkey-Training/'\n",
    "VIDEO_ROOT = os.path.join(ROOT, 'tasks', 'rhAirpuff', '8. Probabilistic_Reward_Airpuff_Choice', 'videos')\n",
    "SESSION_ROOT = os.path.join(ROOT, 'data', 'processed', 'processed_Probabilistic_Reward_Airpuff_Choice')\n",
    "\n",
    "# Select session\n",
    "DATE = '230717'\n",
    "MONKEY = 'Aragorn'\n",
    "\n",
    "session_df, video_path = select_session(SESSION_ROOT, VIDEO_ROOT, DATE, MONKEY, correct_only=True)\n",
    "video_path_list = get_trial_video_list(session_df, video_path)\n",
    "session_df.head(5)"
   ]
  },
  {
   "cell_type": "markdown",
   "metadata": {},
   "source": [
    "***\n",
    "### Select SuperAnimal\n",
    "\n",
    "Select the SuperAnimal model you'd like to fit your videos to. \n",
    "Options listed below:\n",
    "> * full_human <br>\n",
    "> * full_cat <br>\n",
    "> * full_dog <br>\n",
    "> * primate_face <br>\n",
    "> * mouse_pupil_vclose <br>\n",
    "> * horse_sideview <br>\n",
    "> * full_macaque <br>\n",
    "> * superanimal_topviewmouse <br>\n",
    "> * superanimal_quadruped <br>"
   ]
  },
  {
   "cell_type": "code",
   "execution_count": 2,
   "metadata": {},
   "outputs": [
    {
     "name": "stdout",
     "output_type": "stream",
     "text": [
      "Model selected: primate_face\n"
     ]
    }
   ],
   "source": [
    "import ipywidgets as widgets\n",
    "from IPython.display import display\n",
    "\n",
    "model_options = deeplabcut.create_project.modelzoo.Modeloptions\n",
    "model_selection = widgets.Dropdown(\n",
    "  options=model_options,\n",
    "\tvalue=model_options[3],\n",
    "\tdescription=\"Choose a DLC ModelZoo model!\",\n",
    "\tdisabled=True\n",
    ")\n",
    "print(f'Model selected: {model_selection.value}')"
   ]
  },
  {
   "cell_type": "markdown",
   "metadata": {},
   "source": [
    "***\n",
    "### Create Project\n",
    "Initialize your project by setting the <DATE> and <ANIMAL(S)> to title your project. `check_for_downsample` will see how large the video files are, and if necessary (i.e. larger than 640x640), downsamples to a size that makes this implementation reasonable (within 30 min for ~500 videos) on a local computer.\n",
    "\n",
    "If you don't want to resave all your video files to the new project folder, set the `copy_videos` parameter within `deeplabcut.create_pretrained_project` to be `False`."
   ]
  },
  {
   "cell_type": "code",
   "execution_count": 3,
   "metadata": {},
   "outputs": [
    {
     "name": "stdout",
     "output_type": "stream",
     "text": [
      "Checking frame size...\n",
      "   Pixel width x height: 320x240\n",
      "No need to downsample videos\n",
      "Created \"/Users/rahimhashim/Desktop/Monkey-Behavior/dlc_primate/230717_Aragorn-rahim-2023-07-17/videos\"\n",
      "Created \"/Users/rahimhashim/Desktop/Monkey-Behavior/dlc_primate/230717_Aragorn-rahim-2023-07-17/labeled-data\"\n",
      "Created \"/Users/rahimhashim/Desktop/Monkey-Behavior/dlc_primate/230717_Aragorn-rahim-2023-07-17/training-datasets\"\n",
      "Created \"/Users/rahimhashim/Desktop/Monkey-Behavior/dlc_primate/230717_Aragorn-rahim-2023-07-17/dlc-models\"\n",
      "Attempting to create a symbolic link of the video ...\n",
      "Created the symlink of /Users/rahimhashim/Google Drive/My Drive/Columbia/Salzman/Monkey-Training/tasks/rhAirpuff/8. Probabilistic_Reward_Airpuff_Choice/videos/230717_Aragorn/230717_Aragorn_choice_Cam1_1.mp4 to /Users/rahimhashim/Desktop/Monkey-Behavior/dlc_primate/230717_Aragorn-rahim-2023-07-17/videos/230717_Aragorn_choice_Cam1_1.mp4\n",
      "/Users/rahimhashim/Desktop/Monkey-Behavior/dlc_primate/230717_Aragorn-rahim-2023-07-17/videos/230717_Aragorn_choice_Cam1_1.mp4\n",
      "Generated \"/Users/rahimhashim/Desktop/Monkey-Behavior/dlc_primate/230717_Aragorn-rahim-2023-07-17/config.yaml\"\n",
      "\n",
      "A new project with name 230717_Aragorn-rahim-2023-07-17 is created at /Users/rahimhashim/Desktop/Monkey-Behavior/dlc_primate and a configurable file (config.yaml) is stored there. Change the parameters in this file to adapt to your project's needs.\n",
      " Once you have changed the configuration file, use the function 'extract_frames' to select frames for labeling.\n",
      ". [OPTIONAL] Use the function 'add_new_videos' to add new videos to your project (at any stage).\n",
      "Downloading weights...\n",
      "Loading.... primate_face\n"
     ]
    },
    {
     "data": {
      "application/vnd.jupyter.widget-view+json": {
       "model_id": "af9bda370d224d8280ac1635d9deadd0",
       "version_major": 2,
       "version_minor": 0
      },
      "text/plain": [
       "Downloading (…)n-1_shuffle-1.tar.gz:   0%|          | 0.00/198M [00:00<?, ?B/s]"
      ]
     },
     "metadata": {},
     "output_type": "display_data"
    },
    {
     "name": "stdout",
     "output_type": "stream",
     "text": [
      "/Users/rahimhashim/Desktop/Monkey-Behavior/dlc_primate/230717_Aragorn-rahim-2023-07-17/dlc-models/iteration-0/230717_AragornJul17-trainset95shuffle1/train/pose_cfg.yaml\n",
      "Analyzing video...\n",
      "Using snapshot-1030000 for model /Users/rahimhashim/Desktop/Monkey-Behavior/dlc_primate/230717_Aragorn-rahim-2023-07-17/dlc-models/iteration-0/230717_AragornJul17-trainset95shuffle1\n"
     ]
    },
    {
     "name": "stderr",
     "output_type": "stream",
     "text": [
      "2023-07-17 17:53:22.517996: W tensorflow/tsl/platform/profile_utils/cpu_utils.cc:128] Failed to get CPU frequency: 0 Hz\n"
     ]
    },
    {
     "name": "stdout",
     "output_type": "stream",
     "text": [
      "Analyzing all the videos in the directory...\n",
      "Starting to analyze %  /Users/rahimhashim/Desktop/Monkey-Behavior/dlc_primate/230717_Aragorn-rahim-2023-07-17/videos/230717_Aragorn_choice_Cam1_1.mp4\n",
      "Loading  /Users/rahimhashim/Desktop/Monkey-Behavior/dlc_primate/230717_Aragorn-rahim-2023-07-17/videos/230717_Aragorn_choice_Cam1_1.mp4\n",
      "Duration of video [s]:  5.83 , recorded with  30.0 fps!\n",
      "Overall # of frames:  175  found with (before cropping) frame dimensions:  320 240\n",
      "Starting to extract posture\n"
     ]
    },
    {
     "name": "stderr",
     "output_type": "stream",
     "text": [
      "100%|██████████| 175/175 [00:03<00:00, 53.34it/s]\n"
     ]
    },
    {
     "name": "stdout",
     "output_type": "stream",
     "text": [
      "Saving results in /Users/rahimhashim/Desktop/Monkey-Behavior/dlc_primate/230717_Aragorn-rahim-2023-07-17/videos...\n",
      "Saving csv poses!\n",
      "The videos are analyzed. Now your research can truly start! \n",
      " You can create labeled videos with 'create_labeled_video'\n",
      "If the tracking is not satisfactory for some videos, consider expanding the training set. You can use the function 'extract_outlier_frames' to extract a few representative outlier frames.\n",
      "Analyzing all the videos in the directory...\n",
      "Filtering with median model /Users/rahimhashim/Desktop/Monkey-Behavior/dlc_primate/230717_Aragorn-rahim-2023-07-17/videos/230717_Aragorn_choice_Cam1_1.mp4\n",
      "Saving filtered csv poses!\n",
      "Plotting results...\n",
      "Analyzing all the videos in the directory...\n",
      "Starting to process video: /Users/rahimhashim/Desktop/Monkey-Behavior/dlc_primate/230717_Aragorn-rahim-2023-07-17/videos/230717_Aragorn_choice_Cam1_1.mp4\n",
      "Loading /Users/rahimhashim/Desktop/Monkey-Behavior/dlc_primate/230717_Aragorn-rahim-2023-07-17/videos/230717_Aragorn_choice_Cam1_1.mp4 and data.\n",
      "Duration of video [s]: 5.83, recorded with 30.0 fps!\n",
      "Overall # of frames: 175 with cropped frame dimensions: 320 240\n",
      "Generating frames and creating video.\n"
     ]
    },
    {
     "name": "stderr",
     "output_type": "stream",
     "text": [
      "100%|██████████| 175/175 [00:00<00:00, 634.33it/s]\n"
     ]
    },
    {
     "name": "stdout",
     "output_type": "stream",
     "text": [
      "Analyzing all the videos in the directory...\n",
      "Loading  /Users/rahimhashim/Desktop/Monkey-Behavior/dlc_primate/230717_Aragorn-rahim-2023-07-17/videos/230717_Aragorn_choice_Cam1_1.mp4 and data.\n",
      "Plots created! Please check the directory \"plot-poses\" within the video directory\n"
     ]
    }
   ],
   "source": [
    "from PIL import Image\n",
    "import cv2\n",
    "\n",
    "project_name = f'{DATE}_{MONKEY}'\n",
    "your_name = 'rahim'\n",
    "model2use = model_selection.value\n",
    "# .mp4 or .avi etc.\n",
    "videotype = os.path.splitext(video_path_list[0])[-1].lstrip('.')\n",
    "\n",
    "# Check if videos need to be downsampled\n",
    "downsample_flag = check_for_downsample(video_path_list)\n",
    "\n",
    "if downsample_flag:\n",
    "\tvideo_path_list = downsample_videos(video_path_list)\n",
    "\n",
    "# Create ModelZoo project\n",
    "config_path, train_config_path = deeplabcut.create_pretrained_project(\n",
    "    project_name,\n",
    "    your_name,\n",
    "    video_path_list[0:1],\n",
    "    videotype=videotype,\n",
    "    model=model2use,\n",
    "    analyzevideo=True,\n",
    "    createlabeledvideo=True,\n",
    "    copy_videos=False, # must leave copy_videos=True\n",
    ")"
   ]
  },
  {
   "cell_type": "code",
   "execution_count": 4,
   "metadata": {},
   "outputs": [
    {
     "name": "stdout",
     "output_type": "stream",
     "text": [
      "Deleting files for rerun...\n",
      "  Deleted: 230717_Aragorn_choice_Cam1_1DLC_resnet50_230717_AragornJul17shuffle1_1030000_meta.pickle\n",
      "  Deleted: 230717_Aragorn_choice_Cam1_1DLC_resnet50_230717_AragornJul17shuffle1_1030000_filtered.h5\n",
      "  Deleted: 230717_Aragorn_choice_Cam1_1DLC_resnet50_230717_AragornJul17shuffle1_1030000.csv\n",
      "  Deleted: 230717_Aragorn_choice_Cam1_1DLC_resnet50_230717_AragornJul17shuffle1_1030000.h5\n",
      "  Deleted: 230717_Aragorn_choice_Cam1_1DLC_resnet50_230717_AragornJul17shuffle1_1030000_filtered_labeled.mp4\n",
      "  Deleted: 230717_Aragorn_choice_Cam1_1DLC_resnet50_230717_AragornJul17shuffle1_1030000_filtered.csv\n",
      "Done deleting file.\n"
     ]
    }
   ],
   "source": [
    "# Delete the first video in the config file to rerun with new config\n",
    "clean_pretrained_project(config_path)"
   ]
  },
  {
   "cell_type": "markdown",
   "metadata": {},
   "source": [
    "***\n",
    "### Update Config Parameters\n",
    "Not a necessary step, but helpful to personalize your videos/analyses to your needs!\n",
    "\n",
    "> * **dotsize:** size of dots for labeled videos <br>\n",
    "> * **pcutoff:** threshold for accepting a landmark <br>\n",
    "> * **skeleton:** depending on the model you are using, you can create a skeleton that connects landmark points together. Below is specific to primate face, but take a look through the config.yaml file generated in your project folder"
   ]
  },
  {
   "cell_type": "code",
   "execution_count": 5,
   "metadata": {},
   "outputs": [
    {
     "data": {
      "text/plain": [
       "{'Task': '230717_Aragorn', 'scorer': 'rahim', 'date': 'Jul17', 'multianimalproject': False, 'identity': None, 'project_path': '/Users/rahimhashim/Desktop/Monkey-Behavior/dlc_primate/230717_Aragorn-rahim-2023-07-17', 'video_sets': {'/Users/rahimhashim/Library/CloudStorage/GoogleDrive-rh2898@columbia.edu/.shortcut-targets-by-id/1weRx7ojG3amil91WgRMeTUVxse__Rsyt/rhAirpuff/8. Probabilistic_Reward_Airpuff_Choice/videos/230717_Aragorn/230717_Aragorn_choice_Cam1_1.mp4': {'crop': '0, 320, 0, 240'}}, 'bodyparts': ['HeadTop_Mid', 'RightEarTop_Join', 'RightEarTop_High', 'RightEar_Outer', 'RightEarBottom_Low', 'RightEarBottom_Join', 'RightEar_Tragus', 'OutlineTop_Mid', 'OutlineTop_Right', 'OutlineRight_Brow', 'OutlineRight_Indent', 'OutlineRight_Cheek', 'OutlineRight_Mouth', 'OutlineChin_Mid', 'OutlineLeft_Mouth', 'OutlineLeft_Cheek', 'OutlineLeft_Indent', 'OutlineLeft_Brow', 'OutlineTop_Left', 'LeftEarTop_Join', 'LeftEarTop_High', 'LeftEar_Outer', 'LeftEarBottom_Low', 'LeftEarBottom_Join', 'LeftEar_Tragus', 'Eyes_MidPoint', 'RightEye_Inner', 'RightEye_Top', 'RightEye_Outer', 'RightEye_Bottom', 'RightEye_Pupil', 'RightEye_Highlight', 'LeftEye_Inner', 'LeftEye_Top', 'LeftEye_Outer', 'LeftEye_Bottom', 'LeftEye_Pupil', 'LeftEye_Highlight', 'RightBrow_Outer', 'RightBrow_Top', 'RightBrow_Inner', 'Brow_MidPoint', 'LeftBrow_Inner', 'LeftBrow_Top', 'LeftBrow_Outer', 'RightNostrils_Top', 'RightNostrils_Bottom', 'LeftNostrils_Bottom', 'LeftNostrils_Top', 'NostrilsTop_Centre', 'UpperLip_Centre', 'LipsMeet_Centre', 'LowerLip_Centre', 'MidPoint_Nostrils_Mouth', 'Neck_Nape'], 'start': 0, 'stop': 1, 'numframes2pick': 20, 'skeleton': [['RightEye_Top', 'RightEye_Inner'], ['RightEye_Inner', 'RightEye_Bottom'], ['RightEye_Outer', 'RightEye_Bottom'], ['RightEye_Top', 'RightEye_Outer'], ['LeftEye_Top', 'LeftEye_Inner'], ['LeftEye_Inner', 'LeftEye_Bottom'], ['LeftEye_Outer', 'LeftEye_Bottom'], ['LeftEye_Top', 'LeftEye_Outer']], 'skeleton_color': 'white', 'pcutoff': 0.5, 'dotsize': 3, 'alphavalue': 0.2, 'colormap': 'rainbow', 'TrainingFraction': [0.95], 'iteration': 0, 'default_net_type': 'resnet_50', 'default_augmenter': 'imgaug', 'snapshotindex': -1, 'batch_size': 8, 'cropping': False, 'x1': 0, 'x2': 640, 'y1': 277, 'y2': 624, 'corner2move2': [50, 50], 'move2corner': True}"
      ]
     },
     "execution_count": 5,
     "metadata": {},
     "output_type": "execute_result"
    }
   ],
   "source": [
    "# Updating the configs within the config.yaml file\n",
    "edits = {\n",
    "    'dotsize': 3,  # size of the dots!\n",
    "    'colormap': 'rainbow',  # any matplotlib colormap\n",
    "    'alphavalue': 0.2, # transparency of labels\n",
    "    'pcutoff': 0.5,  # the higher the more conservative the plotting!\n",
    "    'skeleton': \n",
    "         # Right Eye\n",
    "        [['RightEye_Top', 'RightEye_Inner'], \n",
    "         ['RightEye_Inner', 'RightEye_Bottom'],\n",
    "         ['RightEye_Outer', 'RightEye_Bottom'],\n",
    "         ['RightEye_Top', 'RightEye_Outer'], \n",
    "         # Left Eye\n",
    "         ['LeftEye_Top', 'LeftEye_Inner'],\n",
    "         ['LeftEye_Inner', 'LeftEye_Bottom'],\n",
    "         ['LeftEye_Outer', 'LeftEye_Bottom'],\n",
    "         ['LeftEye_Top', 'LeftEye_Outer'],\n",
    "        #  # Top of Head Counter-Clockwise to Lip\n",
    "        #  ['HeadTop_Mid', 'OutlineRight_Mouth'],\n",
    "        #  ['OutlineRight_Mouth', 'RightNostrils_Bottom'],\n",
    "        #  ['RightNostrils_Bottom', 'UpperLip_Centre'],\n",
    "        #  # Lip Counter-Clockwise to Top of Head\n",
    "        #  ['UpperLip_Centre', 'OutlineLeft_Mouth'],\n",
    "        #  ['OutlineLeft_Mouth', 'LeftNostrils_Bottom'],\n",
    "        #  ['LeftNostrils_Bottom', 'HeadTop_Mid'],\n",
    "        ],\n",
    "    'skeleton_color': 'white'\n",
    "}\n",
    "deeplabcut.auxiliaryfunctions.edit_config(config_path, edits)"
   ]
  },
  {
   "cell_type": "markdown",
   "metadata": {},
   "source": [
    "***\n",
    "### Run Analyses\n",
    "\n",
    "The key part of the pipeline, where `deeplabcut.analyze_videos` identifies the landmarks for each frame in the included videos. This will take **~30 minutes for ~500 videos** on a Mac M1, so if you want to specify a subset of videos just to make sure it works, set `START_VIDEO` and `END_VIDEO` values. If not, `video_list_subset` can be set to the directory's entire video list `video_path_list[:]`"
   ]
  },
  {
   "cell_type": "code",
   "execution_count": 7,
   "metadata": {},
   "outputs": [
    {
     "name": "stdout",
     "output_type": "stream",
     "text": [
      "Attempting to create a symbolic link of the video ...\n",
      "New videos were added to the project! Use the function 'extract_frames' to select frames for labeling.\n",
      "Using snapshot-1030000 for model /Users/rahimhashim/Desktop/Monkey-Behavior/dlc_primate/230717_Aragorn-rahim-2023-07-17/dlc-models/iteration-0/230717_AragornJul17-trainset95shuffle1\n",
      "No video(s) were found. Please check your paths and/or 'video_type'.\n",
      "No video(s) were found. Please check your paths and/or 'videotype'.\n",
      "No videos found. Make sure you passed a list of videos and that *videotype* is right.\n"
     ]
    }
   ],
   "source": [
    "video_list_subset = video_path_list[:]\n",
    "# Adding new videos to the config.yaml file\n",
    "deeplabcut.add_new_videos(config_path, video_list_subset, copy_videos=False, \n",
    "            coords=None, extract_frames=False\n",
    ")\n",
    "\n",
    "# Analyze specified videos\n",
    "deeplabcut.analyze_videos(config_path, video_list_subset, \n",
    "            videotype, save_as_csv=True\n",
    ")\n",
    "\n",
    "# Filter predictions\n",
    "deeplabcut.filterpredictions(config_path, video_list_subset, videotype=videotype)\n",
    "\n",
    "# Create labeled videos\n",
    "deeplabcut.create_labeled_video(\n",
    "   config_path, video_list_subset, \n",
    "   videotype, \n",
    "   draw_skeleton=True, \n",
    "   filtered=True,\n",
    "   trailpoints=5,\n",
    ")\n",
    "\n",
    "# Plot trajectories\n",
    "deeplabcut.plot_trajectories(config_path, video_list_subset, videotype, filtered=True)"
   ]
  },
  {
   "cell_type": "markdown",
   "metadata": {},
   "source": [
    "***\n",
    "### Generate Labeled Videos and Summary Plots\n",
    "If you'd like to see the labeled videos, run `deeplabcut.create_labeled_video` and it will create labeled videos. Running `deeplabcut.plot_trajectories` creates plots that summarize the distribution of movement for your landmarks."
   ]
  },
  {
   "cell_type": "code",
   "execution_count": 17,
   "metadata": {},
   "outputs": [
    {
     "name": "stdout",
     "output_type": "stream",
     "text": [
      "Loading  /Users/rahimhashim/Google Drive/My Drive/Columbia/Salzman/Monkey-Training/tasks/rhAirpuff/8. Probabilistic_Reward_Airpuff_Choice/videos/230627_Bear/230627_Bear_choice_Cam1_1.mp4 and data.\n",
      "Loading  /Users/rahimhashim/Google Drive/My Drive/Columbia/Salzman/Monkey-Training/tasks/rhAirpuff/8. Probabilistic_Reward_Airpuff_Choice/videos/230627_Bear/230627_Bear_choice_Cam1_4.mp4 and data.\n",
      "Loading  /Users/rahimhashim/Google Drive/My Drive/Columbia/Salzman/Monkey-Training/tasks/rhAirpuff/8. Probabilistic_Reward_Airpuff_Choice/videos/230627_Bear/230627_Bear_choice_Cam1_5.mp4 and data.\n",
      "Loading  /Users/rahimhashim/Google Drive/My Drive/Columbia/Salzman/Monkey-Training/tasks/rhAirpuff/8. Probabilistic_Reward_Airpuff_Choice/videos/230627_Bear/230627_Bear_choice_Cam1_8.mp4 and data.\n",
      "Loading  /Users/rahimhashim/Google Drive/My Drive/Columbia/Salzman/Monkey-Training/tasks/rhAirpuff/8. Probabilistic_Reward_Airpuff_Choice/videos/230627_Bear/230627_Bear_choice_Cam1_10.mp4 and data.\n",
      "Plots created! Please check the directory \"plot-poses\" within the video directory\n"
     ]
    }
   ],
   "source": [
    "deeplabcut.plot_trajectories(config_path, video_list_subset, videotype, filtered=True)"
   ]
  }
 ],
 "metadata": {
  "kernelspec": {
   "display_name": "Python 3",
   "language": "python",
   "name": "python3"
  },
  "language_info": {
   "codemirror_mode": {
    "name": "ipython",
    "version": 3
   },
   "file_extension": ".py",
   "mimetype": "text/x-python",
   "name": "python",
   "nbconvert_exporter": "python",
   "pygments_lexer": "ipython3",
   "version": "3.9.16"
  },
  "orig_nbformat": 4
 },
 "nbformat": 4,
 "nbformat_minor": 2
}
